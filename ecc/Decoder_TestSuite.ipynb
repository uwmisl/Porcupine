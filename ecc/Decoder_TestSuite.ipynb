{
 "cells": [
  {
   "cell_type": "markdown",
   "metadata": {},
   "source": [
    "# Decoder Test Suite\n",
    "This Python 3 Jupyter notebook will test the accuracy and speed of the decoder. The decoder itself is written in C and must be compiled into and executable named `decoder`. These tests will automatically compile the program."
   ]
  },
  {
   "cell_type": "markdown",
   "metadata": {},
   "source": [
    "## Parameters\n",
    "Used for all tests. Random seeds are chose here explicitly so that tests are reproducible."
   ]
  },
  {
   "cell_type": "code",
   "execution_count": 14,
   "metadata": {},
   "outputs": [],
   "source": [
    "import numpy as np\n",
    "from subprocess import check_output, call\n",
    "import os\n",
    "import uuid\n",
    "import json\n",
    "import sys\n",
    "import tempfile\n",
    "import time\n",
    "from importlib import reload\n",
    "import encoder\n",
    "encoder = reload(encoder)\n",
    "\n",
    "k = 32 # Length of the message\n",
    "n = 96 # Length of the codeword\n",
    "seed = 5\n",
    "\n",
    "def test_setup():\n",
    "    # Set up a matrix and test messages\n",
    "    np.random.seed(seed)\n",
    "    matrix = np.concatenate(\n",
    "        (np.identity(k, dtype=int), np.random.randint(2, size=(k, n-k))), axis=1)\n",
    "    messages_to_test = [\n",
    "        np.insert(np.zeros(k-1, dtype=int), 0, 1),\n",
    "        np.append(np.zeros(k-1, dtype=int), 1),\n",
    "        np.ones(k, dtype=int),\n",
    "        np.array([0,1]*(int(k/2)) + [0]*(k%2)),\n",
    "        np.array([1,0]*(int(k/2)) + [1]*(k%2)),\n",
    "        np.array([0,1,1]*(int(k/3)) + [0]*(k%3)),\n",
    "        np.array([1,1,0]*(int(k/3)) + [0]*(k%3))\n",
    "    ]\n",
    "    \n",
    "    if(call([\"make\", \"clean\"]) != 0):\n",
    "        print(\"Couldn't make clean: Cannot run tests.\", file=sys.stderr)\n",
    "    if(call([\"make\", \"THREAD_POW=6\"]) != 0):\n",
    "        print(\"Couldn't make: cannot run tests\", file=sys.stderr)\n",
    "    return matrix, messages_to_test"
   ]
  },
  {
   "cell_type": "markdown",
   "metadata": {},
   "source": [
    "## Correctness Test 1\n",
    "This test checks to make sure that the decoder will correctly decode some actual codewords. It would take too long to run through all codewords, so instead we test the all-zeroes codeword plus a small collection of others."
   ]
  },
  {
   "cell_type": "code",
   "execution_count": 15,
   "metadata": {},
   "outputs": [
    {
     "name": "stdout",
     "output_type": "stream",
     "text": [
      "Testing message: 10000000000000000000000000000000\n",
      "Which corresponds to codeword: 100000000000000000000000000000001011000100101000101111010111100010011011010100100000011110001110\n",
      "Successfully decoded\n",
      "\n",
      "Testing message: 00000000000000000000000000000001\n",
      "Which corresponds to codeword: 000000000000000000000000000000011010000110100110100111000000111101000101111101011001000110001111\n",
      "Successfully decoded\n",
      "\n",
      "Testing message: 11111111111111111111111111111111\n",
      "Which corresponds to codeword: 111111111111111111111111111111110111101111000110011001100000100001000101111101000100000111010001\n",
      "Successfully decoded\n",
      "\n",
      "Testing message: 01010101010101010101010101010101\n",
      "Which corresponds to codeword: 010101010101010101010101010101010000010110100100010010000000100111000111011001100011110111010110\n",
      "Successfully decoded\n",
      "\n",
      "Testing message: 10101010101010101010101010101010\n",
      "Which corresponds to codeword: 101010101010101010101010101010100111111001100010001011100000000110000010100100100111110000000111\n",
      "Successfully decoded\n",
      "\n",
      "Testing message: 01101101101101101101101101101100\n",
      "Which corresponds to codeword: 011011011011011011011011011011000010100011111111101110110100101100100100011110001100110011110011\n",
      "Successfully decoded\n",
      "\n",
      "Testing message: 11011011011011011011011011011000\n",
      "Which corresponds to codeword: 110110110110110110110110110110001000111100011111111010000011001000111100000100101110111000101110\n",
      "Successfully decoded\n",
      "\n"
     ]
    }
   ],
   "source": [
    "matrix, messages_to_test = test_setup()\n",
    "filename = str(uuid.uuid4()) + \".temp\"\n",
    "np.savetxt(filename, matrix, fmt=\"%d\", delimiter=\"\")\n",
    "try:\n",
    "    # And then test to make sure that the test messages can be correctly encoded and then decoded\n",
    "    for message in messages_to_test:\n",
    "        print(\"Testing message: \" + \"\".join(map(str, message)))\n",
    "        codeword = encoder.encode(message, matrix)\n",
    "        codeword = \"\".join(map(str, codeword))\n",
    "        print(\"Which corresponds to codeword: \" + codeword)\n",
    "        result = check_output([\"./decoder\", codeword, filename])\n",
    "        result = json.loads(result.decode('utf-8'))\n",
    "        if (result[\"message\"] == \"\".join(map(str, message)) and result[\"distance\"] == 0):\n",
    "            print(\"Successfully decoded\\n\")\n",
    "        else:\n",
    "            print(\"Was not able to successfully decode. Received:\", file=sys.stderr)\n",
    "            print(result, file=sys.stderr)\n",
    "finally:\n",
    "    os.remove(filename)"
   ]
  },
  {
   "cell_type": "markdown",
   "metadata": {},
   "source": [
    "## Correctness Test 2\n",
    "This test checks to make sure that the decoder will correctly decode some codewords *with accumulated errors*. Since it would take too long to run through all codewords and all errors, we test a small subset of codewords with varying levels of error corruption."
   ]
  },
  {
   "cell_type": "code",
   "execution_count": 16,
   "metadata": {},
   "outputs": [
    {
     "name": "stdout",
     "output_type": "stream",
     "text": [
      "Testing 1 error(s)\n",
      "Testing message: 10000000000000000000000000000000\n",
      "Which corresponds to codeword: 100000000000000000000000001000001011000100101000101111010111100010011011010100100000011110001110\n",
      "Successfully decoded\n",
      "\n",
      "Testing message: 00000000000000000000000000000001\n",
      "Which corresponds to codeword: 000000100000000000000000000000011010000110100110100111000000111101000101111101011001000110001111\n",
      "Successfully decoded\n",
      "\n",
      "Testing message: 11111111111111111111111111111111\n",
      "Which corresponds to codeword: 111111111111111111111111111111110111101111000110011001100000100001000101111101000100000111000001\n",
      "Successfully decoded\n",
      "\n",
      "Testing message: 01010101010101010101010101010101\n",
      "Which corresponds to codeword: 010101010101010101010101010101010000010010100100010010000000100111000111011001100011110111010110\n",
      "Successfully decoded\n",
      "\n",
      "Testing message: 10101010101010101010101010101010\n",
      "Which corresponds to codeword: 101010101010101010101010101010100111111001100000001011100000000110000010100100100111110000000111\n",
      "Successfully decoded\n",
      "\n",
      "Testing message: 01101101101101101101101101101100\n",
      "Which corresponds to codeword: 011001011011011011011011011011000010100011111111101110110100101100100100011110001100110011110011\n",
      "Successfully decoded\n",
      "\n",
      "Testing message: 11011011011011011011011011011000\n",
      "Which corresponds to codeword: 110110110110110110110110110110001000111100011111111010000011001000110100000100101110111000101110\n",
      "Successfully decoded\n",
      "\n",
      "Testing 5 error(s)\n",
      "Testing message: 10000000000000000000000000000000\n",
      "Which corresponds to codeword: 000000000000010000000001000000001011000100101000101111010111100011111011010100100000011110001110\n",
      "Successfully decoded\n",
      "\n",
      "Testing message: 00000000000000000000000000000001\n",
      "Which corresponds to codeword: 001000000000010000000000000000011010000110100110100111000000111101000101111001011000000110001101\n",
      "Successfully decoded\n",
      "\n",
      "Testing message: 11111111111111111111111111111111\n",
      "Which corresponds to codeword: 111111111111111111111111111111111111001111000110011001000000100001010101111101000100000111000001\n",
      "Successfully decoded\n",
      "\n",
      "Testing message: 01010101010101010101010101010101\n",
      "Which corresponds to codeword: 010101010111010101010101110101010000010110100100000110010000100111000111011001100011110111010110\n",
      "Successfully decoded\n",
      "\n",
      "Testing message: 10101010101010101010101010101010\n",
      "Which corresponds to codeword: 101010101000101010101010101010100111111001100000001011100000000110000010100101100111110011000111\n",
      "Successfully decoded\n",
      "\n",
      "Testing message: 01101101101101101101101101101100\n",
      "Which corresponds to codeword: 011011011010011001011011011010000010100011111111101110110100111100100100011110001101110011110011\n",
      "Successfully decoded\n",
      "\n",
      "Testing message: 11011011011011011011011011011000\n",
      "Which corresponds to codeword: 110110110110110110110110110110001010111100111111111011100011001000101100000100101110111000101110\n",
      "Successfully decoded\n",
      "\n",
      "Testing 15 error(s)\n",
      "Testing message: 10000000000000000000000000000000\n",
      "Which corresponds to codeword: 100000000001000000100101010000101011100100100000101111000111100000001011010100101001011010011110\n",
      "Successfully decoded\n",
      "\n",
      "Testing message: 00000000000000000000000000000001\n",
      "Which corresponds to codeword: 000000010010100000000000000000011011010100100010101111000000011101001101011101010001000001001111\n",
      "Successfully decoded\n",
      "\n",
      "Testing message: 11111111111111111111111111111111\n",
      "Which corresponds to codeword: 110111111110111011110100111111110111111111100110011011110000100001010101111111010100001111000001\n",
      "Successfully decoded\n",
      "\n",
      "Testing message: 01010101010101010101010101010101\n",
      "Which corresponds to codeword: 010101011111000101110100010101000010010010100101010010100000100111000111011101100010100110000110\n",
      "Successfully decoded\n",
      "\n",
      "Testing message: 10101010101010101010101010101010\n",
      "Which corresponds to codeword: 101010101010100000100010001000001111110001100000101011000000001010000010100100101111110010000111\n",
      "Successfully decoded\n",
      "\n",
      "Testing message: 01101101101101101101101101101100\n",
      "Which corresponds to codeword: 011111011001011011011011010011000011100001101110101110111000011100100000010110001000110011111011\n",
      "Successfully decoded\n",
      "\n",
      "Testing message: 11011011011011011011011011011000\n",
      "Which corresponds to codeword: 110110010110110110110110100110001010110001001111111110000001001000101000000100101110110010000110\n",
      "Successfully decoded\n",
      "\n"
     ]
    }
   ],
   "source": [
    "# Compile the program\n",
    "matrix, messages_to_test = test_setup()\n",
    "# And then test the messages\n",
    "def flip_bit(codeword, index):\n",
    "    codeword[int(index)] = (codeword[int(index)]+1) % 2\n",
    "filename = str(uuid.uuid4()) + \".temp\"\n",
    "np.savetxt(filename, matrix, fmt=\"%d\", delimiter=\"\")\n",
    "try:\n",
    "    for number_of_errors in [1, 5, 15]:\n",
    "        print(\"Testing \" + str(number_of_errors) + \" error(s)\")\n",
    "        for message in messages_to_test:\n",
    "            print(\"Testing message: \" + \"\".join(map(str, message)))\n",
    "            codeword = encoder.encode(message, matrix)\n",
    "            for index in np.random.choice(range(96), size=number_of_errors, replace=False):\n",
    "                flip_bit(codeword, index)\n",
    "            codeword = ''.join(map(str, codeword))\n",
    "            print(\"Which corresponds to codeword: \" + codeword)                     \n",
    "            result = check_output([\"./decoder\", codeword, filename])\n",
    "            result = json.loads(result.decode('utf-8'))\n",
    "            if (result[\"message\"] == \"\".join(map(str, message)) and result[\"distance\"] == number_of_errors):\n",
    "                print(\"Successfully decoded\\n\")\n",
    "            else:\n",
    "                print(\"Was not able to successfully decode. Received:\", file=sys.stderr)\n",
    "                print(result, file=sys.stderr)\n",
    "finally:\n",
    "    os.remove(filename)"
   ]
  },
  {
   "cell_type": "markdown",
   "metadata": {},
   "source": [
    "## Scaling Test\n",
    "Does not check for correctness"
   ]
  },
  {
   "cell_type": "code",
   "execution_count": 17,
   "metadata": {},
   "outputs": [
    {
     "name": "stdout",
     "output_type": "stream",
     "text": [
      "Assessing runtime of 1 threads.\n",
      "[48.40681457519531, 58.13098692893982, 51.066739320755005, 50.619974851608276, 56.078533411026, 55.51945924758911, 49.997387170791626]\n",
      "Assessing runtime of 2 threads.\n",
      "[28.220173835754395, 24.80878257751465, 33.90969491004944, 33.27335500717163, 34.61646294593811, 34.273234844207764, 31.107428312301636]\n",
      "Assessing runtime of 4 threads.\n",
      "[17.96920609474182, 16.925572156906128, 18.11678385734558, 15.073358535766602, 17.937121152877808, 16.89934754371643, 15.375156164169312]\n",
      "Assessing runtime of 8 threads.\n",
      "[8.84936237335205, 8.961734771728516, 8.954890727996826, 8.941975831985474, 8.845058917999268, 8.62219524383545, 6.805028915405273]\n",
      "Assessing runtime of 16 threads.\n",
      "[4.604867696762085, 4.870846509933472, 4.793355226516724, 4.823501825332642, 4.730733156204224, 5.25372314453125, 4.9469311237335205]\n",
      "Assessing runtime of 32 threads.\n",
      "[3.8170573711395264, 3.8281307220458984, 3.885195732116699, 3.9683752059936523, 3.8877854347229004, 3.999527931213379, 3.574411392211914]\n",
      "Assessing runtime of 64 threads.\n",
      "[3.7341771125793457, 3.965980291366577, 3.6114349365234375, 3.6512176990509033, 3.606348752975464, 3.6840548515319824, 3.5315158367156982]\n",
      "Assessing runtime of 128 threads.\n",
      "[3.7319536209106445, 3.7879343032836914, 3.849691390991211, 3.715768337249756, 3.976579427719116, 3.588221311569214, 3.6314005851745605]\n",
      "Assessing runtime of 256 threads.\n",
      "[3.2341222763061523, 3.702638864517212, 3.9916326999664307, 3.6989645957946777, 4.008052349090576, 3.9112253189086914, 4.144629716873169]\n",
      "Assessing runtime of 512 threads.\n",
      "[3.984846353530884, 4.301976919174194, 3.2959396839141846, 4.023979425430298, 3.97727632522583, 4.111652851104736, 3.3718879222869873]\n"
     ]
    }
   ],
   "source": [
    "matrix, messages_to_test = test_setup()\n",
    "filename = str(uuid.uuid4()) + \".temp\"\n",
    "np.savetxt(filename, matrix, fmt=\"%d\", delimiter=\"\")\n",
    "try:\n",
    "    for scale in range(10):\n",
    "        print(\"Assessing runtime of \" + str(2**scale) + \" threads.\")\n",
    "        if(call([\"make\", \"clean\"]) != 0):\n",
    "            print(\"Couldn't make clean. Cannot run test.\", file=sys.stderr)\n",
    "        if(call([\"make\", \"THREAD_POW=\"+str(scale)]) != 0):\n",
    "            print(\"Couldn't make. Cannot run test.\", file=sys.stderr)\n",
    "        elapsed_times = []\n",
    "        for message in messages_to_test:\n",
    "            codeword = np.matmul(np.transpose(message), matrix, dtype=int) % 2\n",
    "            start_time = time.time()\n",
    "            result = check_output([\"./decoder\", \"\".join(map(str, codeword)), filename])\n",
    "            elapsed_times.append(time.time() - start_time)\n",
    "        print(elapsed_times)\n",
    "finally:\n",
    "    os.remove(filename)"
   ]
  },
  {
   "cell_type": "markdown",
   "metadata": {},
   "source": [
    "## How much faster is decoding if we don't read the matrix from file?"
   ]
  },
  {
   "cell_type": "code",
   "execution_count": 18,
   "metadata": {},
   "outputs": [
    {
     "name": "stdout",
     "output_type": "stream",
     "text": [
      "Testing with reading the file\n",
      "[3.7301881313323975, 3.6336567401885986, 3.974323272705078, 3.607142686843872, 3.6695311069488525, 3.606846809387207, 3.8046422004699707]\n",
      "Testing without a file read\n",
      "[3.7851614952087402, 3.7518699169158936, 3.7483956813812256, 3.7737162113189697, 3.751332998275757, 3.4750683307647705, 3.249776840209961]\n"
     ]
    }
   ],
   "source": [
    "matrix, messages_to_test = test_setup()\n",
    "print(\"Testing with reading the file\")\n",
    "filename = str(uuid.uuid4()) + \".temp\"\n",
    "np.savetxt(filename, matrix, fmt=\"%d\", delimiter=\"\")\n",
    "try:\n",
    "    elapsed_times = []\n",
    "    for message in messages_to_test:\n",
    "        codeword = np.matmul(np.transpose(message), matrix, dtype=int) % 2\n",
    "        start_time = time.time()\n",
    "        result = check_output([\"./decoder\", \"\".join(map(str, codeword)), filename])\n",
    "        elapsed_times.append(time.time() - start_time)\n",
    "    print(elapsed_times)\n",
    "finally:\n",
    "    os.remove(filename)\n",
    "print(\"Testing without a file read\")\n",
    "elapsed_times = []\n",
    "for message in messages_to_test:\n",
    "    codeword = np.matmul(np.transpose(message), matrix, dtype=int) % 2\n",
    "    start_time = time.time()\n",
    "    result = check_output([\"./decoder\", \"\".join(map(str, codeword))])\n",
    "    elapsed_times.append(time.time() - start_time)\n",
    "print(elapsed_times)"
   ]
  }
 ],
 "metadata": {
  "kernelspec": {
   "display_name": "Python 3",
   "language": "python",
   "name": "python3"
  },
  "language_info": {
   "codemirror_mode": {
    "name": "ipython",
    "version": 3
   },
   "file_extension": ".py",
   "mimetype": "text/x-python",
   "name": "python",
   "nbconvert_exporter": "python",
   "pygments_lexer": "ipython3",
   "version": "3.6.8"
  }
 },
 "nbformat": 4,
 "nbformat_minor": 2
}
