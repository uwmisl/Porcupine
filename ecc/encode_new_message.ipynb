{
 "cells": [
  {
   "cell_type": "code",
   "execution_count": 1,
   "metadata": {
    "ExecuteTime": {
     "end_time": "2019-10-09T19:02:38.984004Z",
     "start_time": "2019-10-09T19:02:38.922203Z"
    }
   },
   "outputs": [],
   "source": [
    "import binascii\n",
    "import numpy as np"
   ]
  },
  {
   "cell_type": "code",
   "execution_count": 2,
   "metadata": {
    "ExecuteTime": {
     "end_time": "2019-10-09T19:02:38.992792Z",
     "start_time": "2019-10-09T19:02:38.986000Z"
    }
   },
   "outputs": [],
   "source": [
    "generator_matrix_file = \"generator_matrices/generator_matrix_20190924.txt\"\n",
    "matrix = np.loadtxt(generator_matrix_file, dtype=str)\n",
    "rows = []\n",
    "for row in matrix:\n",
    "    row_bits = []\n",
    "    for bit in row:\n",
    "        row_bits.append(float(bit))\n",
    "    rows.append(row_bits)\n",
    "matrix = np.array(rows)"
   ]
  },
  {
   "cell_type": "code",
   "execution_count": 3,
   "metadata": {
    "ExecuteTime": {
     "end_time": "2019-10-09T19:02:38.997914Z",
     "start_time": "2019-10-09T19:02:38.994663Z"
    }
   },
   "outputs": [],
   "source": [
    "ascii_message = \"MISL\"\n",
    "message = [float(x) for x in str(bin(int.from_bytes('MISL'.encode(), 'big'))) if x != \"b\"]"
   ]
  },
  {
   "cell_type": "code",
   "execution_count": 4,
   "metadata": {
    "ExecuteTime": {
     "end_time": "2019-10-09T19:02:39.036420Z",
     "start_time": "2019-10-09T19:02:39.033071Z"
    }
   },
   "outputs": [],
   "source": [
    "codeword = np.matmul(np.transpose(message), matrix) % 2"
   ]
  },
  {
   "cell_type": "code",
   "execution_count": 5,
   "metadata": {
    "ExecuteTime": {
     "end_time": "2019-10-09T19:02:39.175659Z",
     "start_time": "2019-10-09T19:02:39.172935Z"
    }
   },
   "outputs": [],
   "source": [
    "molbits_to_include = np.where(codeword == 1)[0]"
   ]
  },
  {
   "cell_type": "code",
   "execution_count": 6,
   "metadata": {
    "ExecuteTime": {
     "end_time": "2019-10-09T19:02:39.340259Z",
     "start_time": "2019-10-09T19:02:39.327059Z"
    }
   },
   "outputs": [
    {
     "data": {
      "text/plain": [
       "array([ 1,  4,  5,  7,  9, 12, 15, 17, 19, 22, 23, 25, 28, 29, 32, 35, 37,\n",
       "       38, 39, 40, 43, 45, 46, 50, 51, 52, 54, 57, 62, 63, 65, 66, 67, 68,\n",
       "       69, 70, 73, 75, 76, 78, 79, 80, 81, 83, 85, 86, 87, 88, 89, 90, 92,\n",
       "       93])"
      ]
     },
     "execution_count": 6,
     "metadata": {},
     "output_type": "execute_result"
    }
   ],
   "source": [
    "molbits_to_include"
   ]
  },
  {
   "cell_type": "code",
   "execution_count": 7,
   "metadata": {
    "ExecuteTime": {
     "end_time": "2019-10-09T19:02:39.494213Z",
     "start_time": "2019-10-09T19:02:39.489854Z"
    }
   },
   "outputs": [
    {
     "name": "stdout",
     "output_type": "stream",
     "text": [
      "01001101010010010101001101001100\n",
      "010011010100100101010011010011001001011110010110001110100100001101111110010110111101011111101100\n"
     ]
    }
   ],
   "source": [
    "print(\"\".join([str(int(x)) for x in message]))\n",
    "print(\"\".join([str(int(x)) for x in codeword]))"
   ]
  },
  {
   "cell_type": "code",
   "execution_count": null,
   "metadata": {},
   "outputs": [],
   "source": []
  }
 ],
 "metadata": {
  "kernelspec": {
   "display_name": "Python 3.6",
   "language": "python",
   "name": "python3"
  },
  "language_info": {
   "codemirror_mode": {
    "name": "ipython",
    "version": 3
   },
   "file_extension": ".py",
   "mimetype": "text/x-python",
   "name": "python",
   "nbconvert_exporter": "python",
   "pygments_lexer": "ipython3",
   "version": "3.6.8"
  },
  "toc": {
   "base_numbering": 1,
   "nav_menu": {},
   "number_sections": true,
   "sideBar": true,
   "skip_h1_title": false,
   "title_cell": "Table of Contents",
   "title_sidebar": "Contents",
   "toc_cell": false,
   "toc_position": {},
   "toc_section_display": true,
   "toc_window_display": false
  }
 },
 "nbformat": 4,
 "nbformat_minor": 2
}
