{
 "cells": [
  {
   "cell_type": "code",
   "execution_count": 1,
   "metadata": {
    "ExecuteTime": {
     "end_time": "2020-01-07T20:22:32.026225Z",
     "start_time": "2020-01-07T20:22:31.192853Z"
    }
   },
   "outputs": [],
   "source": [
    "%load_ext autoreload\n",
    "%autoreload 2\n",
    "%matplotlib inline\n",
    "import os\n",
    "import h5py\n",
    "import numpy as np\n",
    "import pandas as pd\n",
    "import logging\n",
    "import re\n",
    "\n",
    "from matplotlib import pyplot as plt\n",
    "import seaborn as sns\n",
    "sns.set(font_scale=1.8, style=\"whitegrid\")"
   ]
  },
  {
   "cell_type": "code",
   "execution_count": 2,
   "metadata": {
    "ExecuteTime": {
     "end_time": "2020-01-07T20:22:32.039667Z",
     "start_time": "2020-01-07T20:22:32.028016Z"
    }
   },
   "outputs": [],
   "source": [
    "logger = logging.getLogger(__name__)\n",
    "logging.basicConfig(format='[%(asctime)s - %(name)s] %(message)s',\n",
    "                        datefmt='%H:%M:%S',\n",
    "                        level=logging.DEBUG,\n",
    "                        handlers=[logging.StreamHandler()])"
   ]
  },
  {
   "cell_type": "markdown",
   "metadata": {},
   "source": [
    "# Import run settings"
   ]
  },
  {
   "cell_type": "code",
   "execution_count": 3,
   "metadata": {
    "ExecuteTime": {
     "end_time": "2020-01-07T20:22:32.740996Z",
     "start_time": "2020-01-07T20:22:32.041498Z"
    }
   },
   "outputs": [],
   "source": [
    "def import_gdrive_sheet(gdrive_key, sheet_id):\n",
    "    run_spreadsheet = pd.read_csv(\"https://docs.google.com/spreadsheet/ccc?key=\" + \\\n",
    "                                  gdrive_key + \"&output=csv&gid=\" + sheet_id)\n",
    "    if \"date\" in run_spreadsheet.columns:\n",
    "        run_spreadsheet[\"date\"] = run_spreadsheet[\"date\"].astype(str)\n",
    "    return run_spreadsheet\n",
    "\n",
    "gdrive_key = \"gsheet_id_here\"\n",
    "sheet_id = \"0\"\n",
    "set_sheet_id = \"512509543\"\n",
    "\n",
    "run_spreadsheet = import_gdrive_sheet(gdrive_key, sheet_id)\n",
    "set_spreadsheet = import_gdrive_sheet(gdrive_key, set_sheet_id)"
   ]
  },
  {
   "cell_type": "code",
   "execution_count": 4,
   "metadata": {
    "ExecuteTime": {
     "end_time": "2020-01-07T20:22:32.760737Z",
     "start_time": "2020-01-07T20:22:32.743077Z"
    }
   },
   "outputs": [],
   "source": [
    "run_name = \"12_16_19_run_01\"\n",
    "molbit_file = \"../porcupine_sequences.fa\"\n",
    "run_data = dict(run_spreadsheet[run_spreadsheet[\"run_name\"] == run_name].iloc[0, :])"
   ]
  },
  {
   "cell_type": "code",
   "execution_count": 5,
   "metadata": {
    "ExecuteTime": {
     "end_time": "2020-01-07T20:22:32.775050Z",
     "start_time": "2020-01-07T20:22:32.762576Z"
    }
   },
   "outputs": [],
   "source": [
    "fastq_dir = os.path.join(run_data[\"basecall_dir\"], \"pass\")"
   ]
  },
  {
   "cell_type": "markdown",
   "metadata": {},
   "source": [
    "# Run sequence alignment"
   ]
  },
  {
   "cell_type": "code",
   "execution_count": 6,
   "metadata": {
    "ExecuteTime": {
     "end_time": "2020-01-07T20:22:36.159160Z",
     "start_time": "2020-01-07T20:22:36.138549Z"
    }
   },
   "outputs": [],
   "source": [
    "def read_fasta(fasta_fname):\n",
    "    '''Assumes 1 line per sequence.'''\n",
    "    seqs = []\n",
    "    names = []\n",
    "    with open(fasta_fname) as fa:\n",
    "        for line in fa:\n",
    "            line = line.strip()\n",
    "            if line.startswith(\">\"):\n",
    "                names.append(line.replace(\">\", \"\").split()[0])\n",
    "            else:\n",
    "                seqs.append(line)\n",
    "    return seqs, names"
   ]
  },
  {
   "cell_type": "code",
   "execution_count": 7,
   "metadata": {
    "ExecuteTime": {
     "end_time": "2020-01-07T20:22:36.515185Z",
     "start_time": "2020-01-07T20:22:36.496374Z"
    }
   },
   "outputs": [],
   "source": [
    "def read_fastq(fastq_fname):\n",
    "    seqs = []\n",
    "    with open(fastq_fname) as fq:\n",
    "        fq = fq.readlines()\n",
    "        for line_i in range(0, len(fq), 4):\n",
    "            line = fq[line_i].strip().split(\" \")\n",
    "            read_id = str(line[0])[1:]\n",
    "            seq = fq[line_i + 1].strip()\n",
    "            seqs.append((read_id, seq))\n",
    "    return seqs"
   ]
  },
  {
   "cell_type": "code",
   "execution_count": 8,
   "metadata": {
    "ExecuteTime": {
     "end_time": "2020-01-07T20:22:36.977026Z",
     "start_time": "2020-01-07T20:22:36.910334Z"
    }
   },
   "outputs": [],
   "source": [
    "from pore_utils import raw_signal_utils\n",
    "from pore_utils import smith_waterman as s_w"
   ]
  },
  {
   "cell_type": "code",
   "execution_count": 9,
   "metadata": {
    "ExecuteTime": {
     "end_time": "2020-01-07T20:22:37.841117Z",
     "start_time": "2020-01-07T20:22:37.813191Z"
    }
   },
   "outputs": [],
   "source": [
    "def helper_run_sw(read, molbit_seqs=None, search_len=100,\n",
    "                  cost_fn={\"match\": 2, \"mismatch\": -2, \"gap\": -1}):\n",
    "    read_id, seq = read\n",
    "\n",
    "    sw_search_end = min(len(seq), search_len)\n",
    "    search_seq = seq[:sw_search_end]\n",
    "\n",
    "    results = [read_id]\n",
    "    for header_i, header_seq in enumerate(molbit_seqs):\n",
    "        _, sw_score, _, sw_loc, _ = s_w.s_w(search_seq, header_seq,\n",
    "                                        cost_fn=cost_fn)\n",
    "        results.append(sw_score)\n",
    "    return results\n",
    "\n",
    "\n",
    "def run_sw(fastq_dir, out_dir, search_len=80, molbit_fa=None, n_workers=20,\n",
    "           cost_fn={\"match\": 2, \"mismatch\": -2, \"gap\": -1}):\n",
    "    os.makedirs(out_dir)\n",
    "    import dask.bag as db\n",
    "    from dask.diagnostics import ProgressBar\n",
    "    ProgressBar().register()\n",
    "    \n",
    "    logger.info(\"Getting molbit sequences.\")\n",
    "    assert molbit_fa is not None\n",
    "    assert os.path.exists(molbit_fa)\n",
    "    molbit_seqs, molbit_names = read_fasta(molbit_fa)\n",
    "    \n",
    "    logger.info(\"Locating fastq files.\")\n",
    "    fastq_files = []\n",
    "    for fname in os.listdir(fastq_dir):\n",
    "        if fname.endswith(\".fastq\"):\n",
    "            fastq_files.append(os.path.join(fastq_dir, fname))\n",
    "    assert len(fastq_files) > 0\n",
    "    \n",
    "    logger.info(\"Running SW, one fastq at a time.\")\n",
    "    for fq_i, fq_fname in enumerate(fastq_files):\n",
    "        logger.info(f\"Starting fastq ({fq_i} of {len(fastq_files)})\\n\\t{fq_fname}\")\n",
    "        fq_seqs = read_fastq(fq_fname)\n",
    "        \n",
    "        bag = db.from_sequence(fq_seqs)\n",
    "        dask_map = bag.map(helper_run_sw, molbit_seqs=molbit_seqs,\n",
    "                           search_len=search_len, cost_fn=cost_fn)\n",
    "        sw_scores = dask_map.compute(num_workers=n_workers)\n",
    "        \n",
    "        cols = [\"read_id\"] + [f\"sw_score_molbit_{molbit}\" for molbit in molbit_names]\n",
    "        sw_df = pd.DataFrame(sw_scores, columns=cols)\n",
    "        sw_df.index = sw_df[\"read_id\"]\n",
    "        del sw_df[\"read_id\"]\n",
    "        out_fname = fq_fname.split(\"/\")[-1].replace(\".fastq\", \"\") + \".tsv\"\n",
    "        out_fname = os.path.join(out_dir, out_fname)\n",
    "        logger.info(f\"Saving to file: {out_fname}\")\n",
    "        sw_df.to_csv(out_fname, sep=\"\\t\", index=True)"
   ]
  },
  {
   "cell_type": "code",
   "execution_count": 10,
   "metadata": {
    "ExecuteTime": {
     "end_time": "2020-01-07T20:22:38.341300Z",
     "start_time": "2020-01-07T20:22:38.323986Z"
    }
   },
   "outputs": [],
   "source": [
    "sw_dir = os.path.join(run_data[\"basecall_dir\"], \"sw\")\n",
    "cost_fn = {\"match\": 1, \"mismatch\": -1, \"gap\": -8}"
   ]
  },
  {
   "cell_type": "raw",
   "metadata": {
    "ExecuteTime": {
     "end_time": "2019-08-11T02:58:25.962380Z",
     "start_time": "2019-08-11T02:58:25.723668Z"
    }
   },
   "source": [
    "! rm -rf /path/to/data/MinION_sequencing_data_20190809/guppy_3.2.2_exec_20190809/sw"
   ]
  },
  {
   "cell_type": "code",
   "execution_count": 11,
   "metadata": {
    "ExecuteTime": {
     "end_time": "2020-01-08T00:26:57.366815Z",
     "start_time": "2020-01-07T20:22:38.769882Z"
    }
   },
   "outputs": [
    {
     "name": "stderr",
     "output_type": "stream",
     "text": [
      "[12:22:38 - __main__] Getting molbit sequences.\n",
      "[12:22:38 - __main__] Locating fastq files.\n",
      "[12:22:38 - __main__] Running SW, one fastq at a time.\n",
      "[12:22:38 - __main__] Starting fastq (0 of 405)\n",
      "\t/path/to/data/MinION_sequencing_data_20191216/guppy_3.2.2_12_16_19_run_01_exec_20200107/pass/fastq_runid_897cd225d1c3eef2d8da014b83aad9fb76f55a5f_0_0.fastq\n"
     ]
    },
    {
     "name": "stdout",
     "output_type": "stream",
     "text": [
      "[########################################] | 100% Completed | 26.7s\n"
     ]
    },
    {
     "name": "stderr",
     "output_type": "stream",
     "text": [
      "[12:23:05 - __main__] Saving to file: /path/to/data/MinION_sequencing_data_20191216/guppy_3.2.2_12_16_19_run_01_exec_20200107/sw/fastq_runid_897cd225d1c3eef2d8da014b83aad9fb76f55a5f_0_0.tsv\n",
      "[12:23:05 - __main__] Starting fastq (1 of 405)\n",
      "\t/path/to/data/MinION_sequencing_data_20191216/guppy_3.2.2_12_16_19_run_01_exec_20200107/pass/fastq_runid_897cd225d1c3eef2d8da014b83aad9fb76f55a5f_0_1.fastq\n"
     ]
    },
    {
     "name": "stdout",
     "output_type": "stream",
     "text": [
      "[########################################] | 100% Completed | 42.9s\n"
     ]
    },
    {
     "name": "stderr",
     "output_type": "stream",
     "text": [
      "[12:23:49 - __main__] Saving to file: /path/to/data/MinION_sequencing_data_20191216/guppy_3.2.2_12_16_19_run_01_exec_20200107/sw/fastq_runid_897cd225d1c3eef2d8da014b83aad9fb76f55a5f_0_1.tsv\n",
      "[12:23:49 - __main__] Starting fastq (2 of 405)\n",
      "\t/path/to/data/MinION_sequencing_data_20191216/guppy_3.2.2_12_16_19_run_01_exec_20200107/pass/fastq_runid_897cd225d1c3eef2d8da014b83aad9fb76f55a5f_0_2.fastq\n"
     ]
    },
    {
     "name": "stdout",
     "output_type": "stream",
     "text": [
      "[########################################] | 100% Completed | 44.7s\n"
     ]
    },
    {
     "name": "stderr",
     "output_type": "stream",
     "text": [
      "[12:24:34 - __main__] Saving to file: /path/to/data/MinION_sequencing_data_20191216/guppy_3.2.2_12_16_19_run_01_exec_20200107/sw/fastq_runid_897cd225d1c3eef2d8da014b83aad9fb76f55a5f_0_2.tsv\n",
      "[12:24:34 - __main__] Starting fastq (3 of 405)\n",
      "\t/path/to/data/MinION_sequencing_data_20191216/guppy_3.2.2_12_16_19_run_01_exec_20200107/pass/fastq_runid_897cd225d1c3eef2d8da014b83aad9fb76f55a5f_0_3.fastq\n"
     ]
    },
    {
     "name": "stdout",
     "output_type": "stream",
     "text": [
      "[########################################] | 100% Completed | 28.7s\n"
     ]
    },
    {
     "name": "stderr",
     "output_type": "stream",
     "text": [
      "[12:25:03 - __main__] Saving to file: /path/to/data/MinION_sequencing_data_20191216/guppy_3.2.2_12_16_19_run_01_exec_20200107/sw/fastq_runid_897cd225d1c3eef2d8da014b83aad9fb76f55a5f_0_3.tsv\n",
      "[12:25:03 - __main__] Starting fastq (4 of 405)\n",
      "\t/path/to/data/MinION_sequencing_data_20191216/guppy_3.2.2_12_16_19_run_01_exec_20200107/pass/fastq_runid_897cd225d1c3eef2d8da014b83aad9fb76f55a5f_1_0.fastq\n"
     ]
    },
    {
     "name": "stdout",
     "output_type": "stream",
     "text": [
      "[########################################] | 100% Completed | 43.2s\n"
     ]
    },
    {
     "name": "stderr",
     "output_type": "stream",
     "text": [
      "[12:25:46 - __main__] Saving to file: /path/to/data/MinION_sequencing_data_20191216/guppy_3.2.2_12_16_19_run_01_exec_20200107/sw/fastq_runid_897cd225d1c3eef2d8da014b83aad9fb76f55a5f_1_0.tsv\n",
      "[12:25:47 - __main__] Starting fastq (5 of 405)\n",
      "\t/path/to/data/MinION_sequencing_data_20191216/guppy_3.2.2_12_16_19_run_01_exec_20200107/pass/fastq_runid_897cd225d1c3eef2d8da014b83aad9fb76f55a5f_1_1.fastq\n"
     ]
    },
    {
     "name": "stdout",
     "output_type": "stream",
     "text": [
      "[########################################] | 100% Completed | 37.7s\n"
     ]
    },
    {
     "name": "stderr",
     "output_type": "stream",
     "text": [
      "[12:26:25 - __main__] Saving to file: /path/to/data/MinION_sequencing_data_20191216/guppy_3.2.2_12_16_19_run_01_exec_20200107/sw/fastq_runid_897cd225d1c3eef2d8da014b83aad9fb76f55a5f_1_1.tsv\n",
      "[12:26:25 - __main__] Starting fastq (6 of 405)\n",
      "\t/path/to/data/MinION_sequencing_data_20191216/guppy_3.2.2_12_16_19_run_01_exec_20200107/pass/fastq_runid_897cd225d1c3eef2d8da014b83aad9fb76f55a5f_1_2.fastq\n"
     ]
    },
    {
     "name": "stdout",
     "output_type": "stream",
     "text": [
      "[########################################] | 100% Completed | 43.9s\n"
     ]
    },
    {
     "name": "stderr",
     "output_type": "stream",
     "text": [
      "[12:27:09 - __main__] Saving to file: /path/to/data/MinION_sequencing_data_20191216/guppy_3.2.2_12_16_19_run_01_exec_20200107/sw/fastq_runid_897cd225d1c3eef2d8da014b83aad9fb76f55a5f_1_2.tsv\n",
      "[12:27:09 - __main__] Starting fastq (7 of 405)\n",
      "\t/path/to/data/MinION_sequencing_data_20191216/guppy_3.2.2_12_16_19_run_01_exec_20200107/pass/fastq_runid_897cd225d1c3eef2d8da014b83aad9fb76f55a5f_1_3.fastq\n"
     ]
    },
    {
     "name": "stdout",
     "output_type": "stream",
     "text": [
      "[########################################] | 100% Completed | 21.8s\n"
     ]
    },
    {
     "name": "stderr",
     "output_type": "stream",
     "text": [
      "[12:27:31 - __main__] Saving to file: /path/to/data/MinION_sequencing_data_20191216/guppy_3.2.2_12_16_19_run_01_exec_20200107/sw/fastq_runid_897cd225d1c3eef2d8da014b83aad9fb76f55a5f_1_3.tsv\n",
      "[12:27:31 - __main__] Starting fastq (8 of 405)\n",
      "\t/path/to/data/MinION_sequencing_data_20191216/guppy_3.2.2_12_16_19_run_01_exec_20200107/pass/fastq_runid_897cd225d1c3eef2d8da014b83aad9fb76f55a5f_2_0.fastq\n"
     ]
    },
    {
     "name": "stdout",
     "output_type": "stream",
     "text": [
      "[########################################] | 100% Completed | 54.5s\n"
     ]
    },
    {
     "name": "stderr",
     "output_type": "stream",
     "text": [
      "[12:28:26 - __main__] Saving to file: /path/to/data/MinION_sequencing_data_20191216/guppy_3.2.2_12_16_19_run_01_exec_20200107/sw/fastq_runid_897cd225d1c3eef2d8da014b83aad9fb76f55a5f_2_0.tsv\n",
      "[12:28:26 - __main__] Starting fastq (9 of 405)\n",
      "\t/path/to/data/MinION_sequencing_data_20191216/guppy_3.2.2_12_16_19_run_01_exec_20200107/pass/fastq_runid_897cd225d1c3eef2d8da014b83aad9fb76f55a5f_2_1.fastq\n"
     ]
    },
    {
     "name": "stdout",
     "output_type": "stream",
     "text": [
      "[########################################] | 100% Completed |  1min 16.7s\n"
     ]
    },
    {
     "name": "stderr",
     "output_type": "stream",
     "text": [
      "[12:29:43 - __main__] Saving to file: /path/to/data/MinION_sequencing_data_20191216/guppy_3.2.2_12_16_19_run_01_exec_20200107/sw/fastq_runid_897cd225d1c3eef2d8da014b83aad9fb76f55a5f_2_1.tsv\n",
      "[12:29:43 - __main__] Starting fastq (10 of 405)\n",
      "\t/path/to/data/MinION_sequencing_data_20191216/guppy_3.2.2_12_16_19_run_01_exec_20200107/pass/fastq_runid_897cd225d1c3eef2d8da014b83aad9fb76f55a5f_2_2.fastq\n"
     ]
    },
    {
     "name": "stdout",
     "output_type": "stream",
     "text": [
      "[########################################] | 100% Completed |  7.8s\n"
     ]
    },
    {
     "name": "stderr",
     "output_type": "stream",
     "text": [
      "[12:29:51 - __main__] Saving to file: /path/to/data/MinION_sequencing_data_20191216/guppy_3.2.2_12_16_19_run_01_exec_20200107/sw/fastq_runid_897cd225d1c3eef2d8da014b83aad9fb76f55a5f_2_2.tsv\n",
      "[12:29:51 - __main__] Starting fastq (11 of 405)\n",
      "\t/path/to/data/MinION_sequencing_data_20191216/guppy_3.2.2_12_16_19_run_01_exec_20200107/pass/fastq_runid_897cd225d1c3eef2d8da014b83aad9fb76f55a5f_2_3.fastq\n"
     ]
    },
    {
     "name": "stdout",
     "output_type": "stream",
     "text": [
      "[########################################] | 100% Completed |  2.9s\n"
     ]
    },
    {
     "name": "stderr",
     "output_type": "stream",
     "text": [
      "[12:29:54 - __main__] Saving to file: /path/to/data/MinION_sequencing_data_20191216/guppy_3.2.2_12_16_19_run_01_exec_20200107/sw/fastq_runid_897cd225d1c3eef2d8da014b83aad9fb76f55a5f_2_3.tsv\n",
      "[12:29:54 - __main__] Starting fastq (12 of 405)\n",
      "\t/path/to/data/MinION_sequencing_data_20191216/guppy_3.2.2_12_16_19_run_01_exec_20200107/pass/fastq_runid_897cd225d1c3eef2d8da014b83aad9fb76f55a5f_3_0.fastq\n"
     ]
    },
    {
     "name": "stdout",
     "output_type": "stream",
     "text": [
      "[########################################] | 100% Completed | 36.6s\n"
     ]
    },
    {
     "name": "stderr",
     "output_type": "stream",
     "text": [
      "[12:30:31 - __main__] Saving to file: /path/to/data/MinION_sequencing_data_20191216/guppy_3.2.2_12_16_19_run_01_exec_20200107/sw/fastq_runid_897cd225d1c3eef2d8da014b83aad9fb76f55a5f_3_0.tsv\n",
      "[12:30:31 - __main__] Starting fastq (13 of 405)\n",
      "\t/path/to/data/MinION_sequencing_data_20191216/guppy_3.2.2_12_16_19_run_01_exec_20200107/pass/fastq_runid_897cd225d1c3eef2d8da014b83aad9fb76f55a5f_3_1.fastq\n"
     ]
    },
    {
     "name": "stdout",
     "output_type": "stream",
     "text": [
      "[########################################] | 100% Completed |  3.9s\n"
     ]
    },
    {
     "name": "stderr",
     "output_type": "stream",
     "text": [
      "[12:30:35 - __main__] Saving to file: /path/to/data/MinION_sequencing_data_20191216/guppy_3.2.2_12_16_19_run_01_exec_20200107/sw/fastq_runid_897cd225d1c3eef2d8da014b83aad9fb76f55a5f_3_1.tsv\n",
      "[12:30:35 - __main__] Starting fastq (14 of 405)\n",
      "\t/path/to/data/MinION_sequencing_data_20191216/guppy_3.2.2_12_16_19_run_01_exec_20200107/pass/fastq_runid_897cd225d1c3eef2d8da014b83aad9fb76f55a5f_3_2.fastq\n"
     ]
    },
    {
     "name": "stdout",
     "output_type": "stream",
     "text": [
      "[########################################] | 100% Completed |  1min 41.5s\n"
     ]
    },
    {
     "name": "stderr",
     "output_type": "stream",
     "text": [
      "[12:32:17 - __main__] Saving to file: /path/to/data/MinION_sequencing_data_20191216/guppy_3.2.2_12_16_19_run_01_exec_20200107/sw/fastq_runid_897cd225d1c3eef2d8da014b83aad9fb76f55a5f_3_2.tsv\n",
      "[12:32:17 - __main__] Starting fastq (15 of 405)\n",
      "\t/path/to/data/MinION_sequencing_data_20191216/guppy_3.2.2_12_16_19_run_01_exec_20200107/pass/fastq_runid_897cd225d1c3eef2d8da014b83aad9fb76f55a5f_4_0.fastq\n"
     ]
    },
    {
     "name": "stdout",
     "output_type": "stream",
     "text": [
      "[########################################] | 100% Completed | 13.0s\n"
     ]
    },
    {
     "name": "stderr",
     "output_type": "stream",
     "text": [
      "[12:32:31 - __main__] Saving to file: /path/to/data/MinION_sequencing_data_20191216/guppy_3.2.2_12_16_19_run_01_exec_20200107/sw/fastq_runid_897cd225d1c3eef2d8da014b83aad9fb76f55a5f_4_0.tsv\n",
      "[12:32:31 - __main__] Starting fastq (16 of 405)\n",
      "\t/path/to/data/MinION_sequencing_data_20191216/guppy_3.2.2_12_16_19_run_01_exec_20200107/pass/fastq_runid_897cd225d1c3eef2d8da014b83aad9fb76f55a5f_5_0.fastq\n"
     ]
    },
    {
     "name": "stdout",
     "output_type": "stream",
     "text": [
      "[########################################] | 100% Completed |  1min  2.8s\n"
     ]
    },
    {
     "name": "stderr",
     "output_type": "stream",
     "text": [
      "[12:33:34 - __main__] Saving to file: /path/to/data/MinION_sequencing_data_20191216/guppy_3.2.2_12_16_19_run_01_exec_20200107/sw/fastq_runid_897cd225d1c3eef2d8da014b83aad9fb76f55a5f_5_0.tsv\n",
      "[12:33:34 - __main__] Starting fastq (17 of 405)\n",
      "\t/path/to/data/MinION_sequencing_data_20191216/guppy_3.2.2_12_16_19_run_01_exec_20200107/pass/fastq_runid_897cd225d1c3eef2d8da014b83aad9fb76f55a5f_3_3.fastq\n"
     ]
    },
    {
     "name": "stdout",
     "output_type": "stream",
     "text": [
      "[########################################] | 100% Completed |  0.8s\n"
     ]
    },
    {
     "name": "stderr",
     "output_type": "stream",
     "text": [
      "[12:33:35 - __main__] Saving to file: /path/to/data/MinION_sequencing_data_20191216/guppy_3.2.2_12_16_19_run_01_exec_20200107/sw/fastq_runid_897cd225d1c3eef2d8da014b83aad9fb76f55a5f_3_3.tsv\n",
      "[12:33:35 - __main__] Starting fastq (18 of 405)\n",
      "\t/path/to/data/MinION_sequencing_data_20191216/guppy_3.2.2_12_16_19_run_01_exec_20200107/pass/fastq_runid_897cd225d1c3eef2d8da014b83aad9fb76f55a5f_5_1.fastq\n"
     ]
    },
    {
     "name": "stdout",
     "output_type": "stream",
     "text": [
      "[########################################] | 100% Completed | 50.1s\n"
     ]
    },
    {
     "name": "stderr",
     "output_type": "stream",
     "text": [
      "[12:34:25 - __main__] Saving to file: /path/to/data/MinION_sequencing_data_20191216/guppy_3.2.2_12_16_19_run_01_exec_20200107/sw/fastq_runid_897cd225d1c3eef2d8da014b83aad9fb76f55a5f_5_1.tsv\n",
      "[12:34:25 - __main__] Starting fastq (19 of 405)\n",
      "\t/path/to/data/MinION_sequencing_data_20191216/guppy_3.2.2_12_16_19_run_01_exec_20200107/pass/fastq_runid_897cd225d1c3eef2d8da014b83aad9fb76f55a5f_4_1.fastq\n"
     ]
    },
    {
     "name": "stdout",
     "output_type": "stream",
     "text": [
      "[########################################] | 100% Completed | 11.7s\n"
     ]
    },
    {
     "name": "stderr",
     "output_type": "stream",
     "text": [
      "[12:34:37 - __main__] Saving to file: /path/to/data/MinION_sequencing_data_20191216/guppy_3.2.2_12_16_19_run_01_exec_20200107/sw/fastq_runid_897cd225d1c3eef2d8da014b83aad9fb76f55a5f_4_1.tsv\n",
      "[12:34:37 - __main__] Starting fastq (20 of 405)\n",
      "\t/path/to/data/MinION_sequencing_data_20191216/guppy_3.2.2_12_16_19_run_01_exec_20200107/pass/fastq_runid_897cd225d1c3eef2d8da014b83aad9fb76f55a5f_5_2.fastq\n"
     ]
    },
    {
     "name": "stdout",
     "output_type": "stream",
     "text": [
      "[########################################] | 100% Completed | 32.1s\n"
     ]
    },
    {
     "name": "stderr",
     "output_type": "stream",
     "text": [
      "[12:35:10 - __main__] Saving to file: /path/to/data/MinION_sequencing_data_20191216/guppy_3.2.2_12_16_19_run_01_exec_20200107/sw/fastq_runid_897cd225d1c3eef2d8da014b83aad9fb76f55a5f_5_2.tsv\n",
      "[12:35:10 - __main__] Starting fastq (21 of 405)\n",
      "\t/path/to/data/MinION_sequencing_data_20191216/guppy_3.2.2_12_16_19_run_01_exec_20200107/pass/fastq_runid_897cd225d1c3eef2d8da014b83aad9fb76f55a5f_6_0.fastq\n"
     ]
    },
    {
     "name": "stdout",
     "output_type": "stream",
     "text": [
      "[########################################] | 100% Completed | 55.5s\n"
     ]
    },
    {
     "name": "stderr",
     "output_type": "stream",
     "text": [
      "[12:36:06 - __main__] Saving to file: /path/to/data/MinION_sequencing_data_20191216/guppy_3.2.2_12_16_19_run_01_exec_20200107/sw/fastq_runid_897cd225d1c3eef2d8da014b83aad9fb76f55a5f_6_0.tsv\n",
      "[12:36:06 - __main__] Starting fastq (22 of 405)\n",
      "\t/path/to/data/MinION_sequencing_data_20191216/guppy_3.2.2_12_16_19_run_01_exec_20200107/pass/fastq_runid_897cd225d1c3eef2d8da014b83aad9fb76f55a5f_5_3.fastq\n"
     ]
    },
    {
     "name": "stdout",
     "output_type": "stream",
     "text": [
      "[########################################] | 100% Completed |  0.9s\n"
     ]
    },
    {
     "name": "stderr",
     "output_type": "stream",
     "text": [
      "[12:36:07 - __main__] Saving to file: /path/to/data/MinION_sequencing_data_20191216/guppy_3.2.2_12_16_19_run_01_exec_20200107/sw/fastq_runid_897cd225d1c3eef2d8da014b83aad9fb76f55a5f_5_3.tsv\n",
      "[12:36:07 - __main__] Starting fastq (23 of 405)\n",
      "\t/path/to/data/MinION_sequencing_data_20191216/guppy_3.2.2_12_16_19_run_01_exec_20200107/pass/fastq_runid_897cd225d1c3eef2d8da014b83aad9fb76f55a5f_6_1.fastq\n"
     ]
    },
    {
     "name": "stdout",
     "output_type": "stream",
     "text": [
      "[########################################] | 100% Completed | 19.0s\n"
     ]
    },
    {
     "name": "stderr",
     "output_type": "stream",
     "text": [
      "[12:36:26 - __main__] Saving to file: /path/to/data/MinION_sequencing_data_20191216/guppy_3.2.2_12_16_19_run_01_exec_20200107/sw/fastq_runid_897cd225d1c3eef2d8da014b83aad9fb76f55a5f_6_1.tsv\n",
      "[12:36:26 - __main__] Starting fastq (24 of 405)\n",
      "\t/path/to/data/MinION_sequencing_data_20191216/guppy_3.2.2_12_16_19_run_01_exec_20200107/pass/fastq_runid_897cd225d1c3eef2d8da014b83aad9fb76f55a5f_6_2.fastq\n"
     ]
    },
    {
     "name": "stdout",
     "output_type": "stream",
     "text": [
      "[########################################] | 100% Completed |  1min  9.0s\n"
     ]
    },
    {
     "name": "stderr",
     "output_type": "stream",
     "text": [
      "[12:37:36 - __main__] Saving to file: /path/to/data/MinION_sequencing_data_20191216/guppy_3.2.2_12_16_19_run_01_exec_20200107/sw/fastq_runid_897cd225d1c3eef2d8da014b83aad9fb76f55a5f_6_2.tsv\n",
      "[12:37:36 - __main__] Starting fastq (25 of 405)\n",
      "\t/path/to/data/MinION_sequencing_data_20191216/guppy_3.2.2_12_16_19_run_01_exec_20200107/pass/fastq_runid_897cd225d1c3eef2d8da014b83aad9fb76f55a5f_6_3.fastq\n"
     ]
    },
    {
     "name": "stdout",
     "output_type": "stream",
     "text": [
      "[########################################] | 100% Completed |  0.9s\n"
     ]
    },
    {
     "name": "stderr",
     "output_type": "stream",
     "text": [
      "[12:37:37 - __main__] Saving to file: /path/to/data/MinION_sequencing_data_20191216/guppy_3.2.2_12_16_19_run_01_exec_20200107/sw/fastq_runid_897cd225d1c3eef2d8da014b83aad9fb76f55a5f_6_3.tsv\n",
      "[12:37:37 - __main__] Starting fastq (26 of 405)\n",
      "\t/path/to/data/MinION_sequencing_data_20191216/guppy_3.2.2_12_16_19_run_01_exec_20200107/pass/fastq_runid_897cd225d1c3eef2d8da014b83aad9fb76f55a5f_7_0.fastq\n"
     ]
    },
    {
     "name": "stdout",
     "output_type": "stream",
     "text": [
      "[########################################] | 100% Completed |  1min 19.7s\n"
     ]
    },
    {
     "name": "stderr",
     "output_type": "stream",
     "text": [
      "[12:38:57 - __main__] Saving to file: /path/to/data/MinION_sequencing_data_20191216/guppy_3.2.2_12_16_19_run_01_exec_20200107/sw/fastq_runid_897cd225d1c3eef2d8da014b83aad9fb76f55a5f_7_0.tsv\n",
      "[12:38:57 - __main__] Starting fastq (27 of 405)\n",
      "\t/path/to/data/MinION_sequencing_data_20191216/guppy_3.2.2_12_16_19_run_01_exec_20200107/pass/fastq_runid_897cd225d1c3eef2d8da014b83aad9fb76f55a5f_7_1.fastq\n"
     ]
    },
    {
     "name": "stdout",
     "output_type": "stream",
     "text": [
      "[########################################] | 100% Completed | 24.2s\n"
     ]
    },
    {
     "name": "stderr",
     "output_type": "stream",
     "text": [
      "[12:39:22 - __main__] Saving to file: /path/to/data/MinION_sequencing_data_20191216/guppy_3.2.2_12_16_19_run_01_exec_20200107/sw/fastq_runid_897cd225d1c3eef2d8da014b83aad9fb76f55a5f_7_1.tsv\n",
      "[12:39:22 - __main__] Starting fastq (28 of 405)\n",
      "\t/path/to/data/MinION_sequencing_data_20191216/guppy_3.2.2_12_16_19_run_01_exec_20200107/pass/fastq_runid_897cd225d1c3eef2d8da014b83aad9fb76f55a5f_7_2.fastq\n"
     ]
    },
    {
     "name": "stdout",
     "output_type": "stream",
     "text": [
      "[########################################] | 100% Completed | 32.4s\n"
     ]
    },
    {
     "name": "stderr",
     "output_type": "stream",
     "text": [
      "[12:39:54 - __main__] Saving to file: /path/to/data/MinION_sequencing_data_20191216/guppy_3.2.2_12_16_19_run_01_exec_20200107/sw/fastq_runid_897cd225d1c3eef2d8da014b83aad9fb76f55a5f_7_2.tsv\n",
      "[12:39:54 - __main__] Starting fastq (29 of 405)\n",
      "\t/path/to/data/MinION_sequencing_data_20191216/guppy_3.2.2_12_16_19_run_01_exec_20200107/pass/fastq_runid_897cd225d1c3eef2d8da014b83aad9fb76f55a5f_8_0.fastq\n"
     ]
    },
    {
     "name": "stdout",
     "output_type": "stream",
     "text": [
      "[########################################] | 100% Completed |  1min 44.1s\n"
     ]
    },
    {
     "name": "stderr",
     "output_type": "stream",
     "text": [
      "[12:41:39 - __main__] Saving to file: /path/to/data/MinION_sequencing_data_20191216/guppy_3.2.2_12_16_19_run_01_exec_20200107/sw/fastq_runid_897cd225d1c3eef2d8da014b83aad9fb76f55a5f_8_0.tsv\n",
      "[12:41:39 - __main__] Starting fastq (30 of 405)\n",
      "\t/path/to/data/MinION_sequencing_data_20191216/guppy_3.2.2_12_16_19_run_01_exec_20200107/pass/fastq_runid_897cd225d1c3eef2d8da014b83aad9fb76f55a5f_8_1.fastq\n"
     ]
    },
    {
     "name": "stdout",
     "output_type": "stream",
     "text": [
      "[########################################] | 100% Completed | 14.2s\n"
     ]
    },
    {
     "name": "stderr",
     "output_type": "stream",
     "text": [
      "[12:41:53 - __main__] Saving to file: /path/to/data/MinION_sequencing_data_20191216/guppy_3.2.2_12_16_19_run_01_exec_20200107/sw/fastq_runid_897cd225d1c3eef2d8da014b83aad9fb76f55a5f_8_1.tsv\n",
      "[12:41:53 - __main__] Starting fastq (31 of 405)\n",
      "\t/path/to/data/MinION_sequencing_data_20191216/guppy_3.2.2_12_16_19_run_01_exec_20200107/pass/fastq_runid_897cd225d1c3eef2d8da014b83aad9fb76f55a5f_7_3.fastq\n"
     ]
    },
    {
     "name": "stdout",
     "output_type": "stream",
     "text": [
      "[########################################] | 100% Completed |  7.3s\n"
     ]
    },
    {
     "name": "stderr",
     "output_type": "stream",
     "text": [
      "[12:42:01 - __main__] Saving to file: /path/to/data/MinION_sequencing_data_20191216/guppy_3.2.2_12_16_19_run_01_exec_20200107/sw/fastq_runid_897cd225d1c3eef2d8da014b83aad9fb76f55a5f_7_3.tsv\n",
      "[12:42:01 - __main__] Starting fastq (32 of 405)\n",
      "\t/path/to/data/MinION_sequencing_data_20191216/guppy_3.2.2_12_16_19_run_01_exec_20200107/pass/fastq_runid_897cd225d1c3eef2d8da014b83aad9fb76f55a5f_9_0.fastq\n"
     ]
    },
    {
     "name": "stdout",
     "output_type": "stream",
     "text": [
      "[########################################] | 100% Completed |  1min 51.4s\n"
     ]
    },
    {
     "name": "stderr",
     "output_type": "stream",
     "text": [
      "[12:43:53 - __main__] Saving to file: /path/to/data/MinION_sequencing_data_20191216/guppy_3.2.2_12_16_19_run_01_exec_20200107/sw/fastq_runid_897cd225d1c3eef2d8da014b83aad9fb76f55a5f_9_0.tsv\n",
      "[12:43:53 - __main__] Starting fastq (33 of 405)\n",
      "\t/path/to/data/MinION_sequencing_data_20191216/guppy_3.2.2_12_16_19_run_01_exec_20200107/pass/fastq_runid_897cd225d1c3eef2d8da014b83aad9fb76f55a5f_8_2.fastq\n"
     ]
    },
    {
     "name": "stdout",
     "output_type": "stream",
     "text": [
      "[########################################] | 100% Completed |  2.6s\n"
     ]
    },
    {
     "name": "stderr",
     "output_type": "stream",
     "text": [
      "[12:43:56 - __main__] Saving to file: /path/to/data/MinION_sequencing_data_20191216/guppy_3.2.2_12_16_19_run_01_exec_20200107/sw/fastq_runid_897cd225d1c3eef2d8da014b83aad9fb76f55a5f_8_2.tsv\n",
      "[12:43:56 - __main__] Starting fastq (34 of 405)\n",
      "\t/path/to/data/MinION_sequencing_data_20191216/guppy_3.2.2_12_16_19_run_01_exec_20200107/pass/fastq_runid_897cd225d1c3eef2d8da014b83aad9fb76f55a5f_9_1.fastq\n"
     ]
    },
    {
     "name": "stdout",
     "output_type": "stream",
     "text": [
      "[########################################] | 100% Completed | 26.5s\n"
     ]
    },
    {
     "name": "stderr",
     "output_type": "stream",
     "text": [
      "[12:44:23 - __main__] Saving to file: /path/to/data/MinION_sequencing_data_20191216/guppy_3.2.2_12_16_19_run_01_exec_20200107/sw/fastq_runid_897cd225d1c3eef2d8da014b83aad9fb76f55a5f_9_1.tsv\n",
      "[12:44:23 - __main__] Starting fastq (35 of 405)\n",
      "\t/path/to/data/MinION_sequencing_data_20191216/guppy_3.2.2_12_16_19_run_01_exec_20200107/pass/fastq_runid_897cd225d1c3eef2d8da014b83aad9fb76f55a5f_9_2.fastq\n"
     ]
    },
    {
     "name": "stdout",
     "output_type": "stream",
     "text": [
      "[########################################] | 100% Completed |  3.6s\n"
     ]
    },
    {
     "name": "stderr",
     "output_type": "stream",
     "text": [
      "[12:44:27 - __main__] Saving to file: /path/to/data/MinION_sequencing_data_20191216/guppy_3.2.2_12_16_19_run_01_exec_20200107/sw/fastq_runid_897cd225d1c3eef2d8da014b83aad9fb76f55a5f_9_2.tsv\n",
      "[12:44:27 - __main__] Starting fastq (36 of 405)\n",
      "\t/path/to/data/MinION_sequencing_data_20191216/guppy_3.2.2_12_16_19_run_01_exec_20200107/pass/fastq_runid_897cd225d1c3eef2d8da014b83aad9fb76f55a5f_10_0.fastq\n"
     ]
    },
    {
     "name": "stdout",
     "output_type": "stream",
     "text": [
      "[########################################] | 100% Completed | 42.9s\n"
     ]
    },
    {
     "name": "stderr",
     "output_type": "stream",
     "text": [
      "[12:45:10 - __main__] Saving to file: /path/to/data/MinION_sequencing_data_20191216/guppy_3.2.2_12_16_19_run_01_exec_20200107/sw/fastq_runid_897cd225d1c3eef2d8da014b83aad9fb76f55a5f_10_0.tsv\n",
      "[12:45:10 - __main__] Starting fastq (37 of 405)\n",
      "\t/path/to/data/MinION_sequencing_data_20191216/guppy_3.2.2_12_16_19_run_01_exec_20200107/pass/fastq_runid_897cd225d1c3eef2d8da014b83aad9fb76f55a5f_10_1.fastq\n"
     ]
    },
    {
     "name": "stdout",
     "output_type": "stream",
     "text": [
      "[########################################] | 100% Completed |  1min 19.7s\n"
     ]
    },
    {
     "name": "stderr",
     "output_type": "stream",
     "text": [
      "[12:46:30 - __main__] Saving to file: /path/to/data/MinION_sequencing_data_20191216/guppy_3.2.2_12_16_19_run_01_exec_20200107/sw/fastq_runid_897cd225d1c3eef2d8da014b83aad9fb76f55a5f_10_1.tsv\n",
      "[12:46:30 - __main__] Starting fastq (38 of 405)\n",
      "\t/path/to/data/MinION_sequencing_data_20191216/guppy_3.2.2_12_16_19_run_01_exec_20200107/pass/fastq_runid_897cd225d1c3eef2d8da014b83aad9fb76f55a5f_8_3.fastq\n"
     ]
    },
    {
     "name": "stdout",
     "output_type": "stream",
     "text": [
      "[########################################] | 100% Completed | 21.3s\n"
     ]
    },
    {
     "name": "stderr",
     "output_type": "stream",
     "text": [
      "[12:46:52 - __main__] Saving to file: /path/to/data/MinION_sequencing_data_20191216/guppy_3.2.2_12_16_19_run_01_exec_20200107/sw/fastq_runid_897cd225d1c3eef2d8da014b83aad9fb76f55a5f_8_3.tsv\n",
      "[12:46:52 - __main__] Starting fastq (39 of 405)\n",
      "\t/path/to/data/MinION_sequencing_data_20191216/guppy_3.2.2_12_16_19_run_01_exec_20200107/pass/fastq_runid_897cd225d1c3eef2d8da014b83aad9fb76f55a5f_9_3.fastq\n"
     ]
    },
    {
     "name": "stdout",
     "output_type": "stream",
     "text": [
      "[########################################] | 100% Completed |  0.9s\n"
     ]
    },
    {
     "name": "stderr",
     "output_type": "stream",
     "text": [
      "[12:46:53 - __main__] Saving to file: /path/to/data/MinION_sequencing_data_20191216/guppy_3.2.2_12_16_19_run_01_exec_20200107/sw/fastq_runid_897cd225d1c3eef2d8da014b83aad9fb76f55a5f_9_3.tsv\n",
      "[12:46:53 - __main__] Starting fastq (40 of 405)\n",
      "\t/path/to/data/MinION_sequencing_data_20191216/guppy_3.2.2_12_16_19_run_01_exec_20200107/pass/fastq_runid_897cd225d1c3eef2d8da014b83aad9fb76f55a5f_10_2.fastq\n"
     ]
    },
    {
     "name": "stdout",
     "output_type": "stream",
     "text": [
      "[########################################] | 100% Completed | 17.2s\n"
     ]
    },
    {
     "name": "stderr",
     "output_type": "stream",
     "text": [
      "[12:47:10 - __main__] Saving to file: /path/to/data/MinION_sequencing_data_20191216/guppy_3.2.2_12_16_19_run_01_exec_20200107/sw/fastq_runid_897cd225d1c3eef2d8da014b83aad9fb76f55a5f_10_2.tsv\n",
      "[12:47:10 - __main__] Starting fastq (41 of 405)\n",
      "\t/path/to/data/MinION_sequencing_data_20191216/guppy_3.2.2_12_16_19_run_01_exec_20200107/pass/fastq_runid_897cd225d1c3eef2d8da014b83aad9fb76f55a5f_11_0.fastq\n"
     ]
    },
    {
     "name": "stdout",
     "output_type": "stream",
     "text": [
      "[########################################] | 100% Completed |  1min  0.9s\n"
     ]
    },
    {
     "name": "stderr",
     "output_type": "stream",
     "text": [
      "[12:48:11 - __main__] Saving to file: /path/to/data/MinION_sequencing_data_20191216/guppy_3.2.2_12_16_19_run_01_exec_20200107/sw/fastq_runid_897cd225d1c3eef2d8da014b83aad9fb76f55a5f_11_0.tsv\n",
      "[12:48:12 - __main__] Starting fastq (42 of 405)\n",
      "\t/path/to/data/MinION_sequencing_data_20191216/guppy_3.2.2_12_16_19_run_01_exec_20200107/pass/fastq_runid_897cd225d1c3eef2d8da014b83aad9fb76f55a5f_11_1.fastq\n"
     ]
    },
    {
     "name": "stdout",
     "output_type": "stream",
     "text": [
      "[########################################] | 100% Completed |  1min  7.1s\n"
     ]
    },
    {
     "name": "stderr",
     "output_type": "stream",
     "text": [
      "[12:49:19 - __main__] Saving to file: /path/to/data/MinION_sequencing_data_20191216/guppy_3.2.2_12_16_19_run_01_exec_20200107/sw/fastq_runid_897cd225d1c3eef2d8da014b83aad9fb76f55a5f_11_1.tsv\n",
      "[12:49:19 - __main__] Starting fastq (43 of 405)\n",
      "\t/path/to/data/MinION_sequencing_data_20191216/guppy_3.2.2_12_16_19_run_01_exec_20200107/pass/fastq_runid_897cd225d1c3eef2d8da014b83aad9fb76f55a5f_12_0.fastq\n"
     ]
    },
    {
     "name": "stdout",
     "output_type": "stream",
     "text": [
      "[########################################] | 100% Completed | 18.9s\n"
     ]
    },
    {
     "name": "stderr",
     "output_type": "stream",
     "text": [
      "[12:49:38 - __main__] Saving to file: /path/to/data/MinION_sequencing_data_20191216/guppy_3.2.2_12_16_19_run_01_exec_20200107/sw/fastq_runid_897cd225d1c3eef2d8da014b83aad9fb76f55a5f_12_0.tsv\n",
      "[12:49:38 - __main__] Starting fastq (44 of 405)\n",
      "\t/path/to/data/MinION_sequencing_data_20191216/guppy_3.2.2_12_16_19_run_01_exec_20200107/pass/fastq_runid_897cd225d1c3eef2d8da014b83aad9fb76f55a5f_11_2.fastq\n"
     ]
    },
    {
     "name": "stdout",
     "output_type": "stream",
     "text": [
      "[########################################] | 100% Completed |  8.1s\n"
     ]
    },
    {
     "name": "stderr",
     "output_type": "stream",
     "text": [
      "[12:49:47 - __main__] Saving to file: /path/to/data/MinION_sequencing_data_20191216/guppy_3.2.2_12_16_19_run_01_exec_20200107/sw/fastq_runid_897cd225d1c3eef2d8da014b83aad9fb76f55a5f_11_2.tsv\n",
      "[12:49:47 - __main__] Starting fastq (45 of 405)\n",
      "\t/path/to/data/MinION_sequencing_data_20191216/guppy_3.2.2_12_16_19_run_01_exec_20200107/pass/fastq_runid_897cd225d1c3eef2d8da014b83aad9fb76f55a5f_12_1.fastq\n"
     ]
    },
    {
     "name": "stdout",
     "output_type": "stream",
     "text": [
      "[########################################] | 100% Completed | 41.0s\n"
     ]
    },
    {
     "name": "stderr",
     "output_type": "stream",
     "text": [
      "[12:50:28 - __main__] Saving to file: /path/to/data/MinION_sequencing_data_20191216/guppy_3.2.2_12_16_19_run_01_exec_20200107/sw/fastq_runid_897cd225d1c3eef2d8da014b83aad9fb76f55a5f_12_1.tsv\n",
      "[12:50:28 - __main__] Starting fastq (46 of 405)\n",
      "\t/path/to/data/MinION_sequencing_data_20191216/guppy_3.2.2_12_16_19_run_01_exec_20200107/pass/fastq_runid_897cd225d1c3eef2d8da014b83aad9fb76f55a5f_10_3.fastq\n"
     ]
    },
    {
     "name": "stdout",
     "output_type": "stream",
     "text": [
      "[########################################] | 100% Completed |  0.9s\n"
     ]
    },
    {
     "name": "stderr",
     "output_type": "stream",
     "text": [
      "[12:50:29 - __main__] Saving to file: /path/to/data/MinION_sequencing_data_20191216/guppy_3.2.2_12_16_19_run_01_exec_20200107/sw/fastq_runid_897cd225d1c3eef2d8da014b83aad9fb76f55a5f_10_3.tsv\n",
      "[12:50:29 - __main__] Starting fastq (47 of 405)\n",
      "\t/path/to/data/MinION_sequencing_data_20191216/guppy_3.2.2_12_16_19_run_01_exec_20200107/pass/fastq_runid_897cd225d1c3eef2d8da014b83aad9fb76f55a5f_11_3.fastq\n"
     ]
    },
    {
     "name": "stdout",
     "output_type": "stream",
     "text": [
      "[########################################] | 100% Completed |  7.8s\n"
     ]
    },
    {
     "name": "stderr",
     "output_type": "stream",
     "text": [
      "[12:50:37 - __main__] Saving to file: /path/to/data/MinION_sequencing_data_20191216/guppy_3.2.2_12_16_19_run_01_exec_20200107/sw/fastq_runid_897cd225d1c3eef2d8da014b83aad9fb76f55a5f_11_3.tsv\n",
      "[12:50:37 - __main__] Starting fastq (48 of 405)\n",
      "\t/path/to/data/MinION_sequencing_data_20191216/guppy_3.2.2_12_16_19_run_01_exec_20200107/pass/fastq_runid_897cd225d1c3eef2d8da014b83aad9fb76f55a5f_12_2.fastq\n"
     ]
    },
    {
     "name": "stdout",
     "output_type": "stream",
     "text": [
      "[########################################] | 100% Completed |  5.8s\n"
     ]
    },
    {
     "name": "stderr",
     "output_type": "stream",
     "text": [
      "[12:50:44 - __main__] Saving to file: /path/to/data/MinION_sequencing_data_20191216/guppy_3.2.2_12_16_19_run_01_exec_20200107/sw/fastq_runid_897cd225d1c3eef2d8da014b83aad9fb76f55a5f_12_2.tsv\n",
      "[12:50:44 - __main__] Starting fastq (49 of 405)\n",
      "\t/path/to/data/MinION_sequencing_data_20191216/guppy_3.2.2_12_16_19_run_01_exec_20200107/pass/fastq_runid_897cd225d1c3eef2d8da014b83aad9fb76f55a5f_13_0.fastq\n"
     ]
    },
    {
     "name": "stdout",
     "output_type": "stream",
     "text": [
      "[########################################] | 100% Completed | 12.6s\n"
     ]
    },
    {
     "name": "stderr",
     "output_type": "stream",
     "text": [
      "[12:50:56 - __main__] Saving to file: /path/to/data/MinION_sequencing_data_20191216/guppy_3.2.2_12_16_19_run_01_exec_20200107/sw/fastq_runid_897cd225d1c3eef2d8da014b83aad9fb76f55a5f_13_0.tsv\n",
      "[12:50:56 - __main__] Starting fastq (50 of 405)\n",
      "\t/path/to/data/MinION_sequencing_data_20191216/guppy_3.2.2_12_16_19_run_01_exec_20200107/pass/fastq_runid_897cd225d1c3eef2d8da014b83aad9fb76f55a5f_12_3.fastq\n"
     ]
    },
    {
     "name": "stdout",
     "output_type": "stream",
     "text": [
      "[########################################] | 100% Completed |  1min 17.7s\n"
     ]
    },
    {
     "name": "stderr",
     "output_type": "stream",
     "text": [
      "[12:52:14 - __main__] Saving to file: /path/to/data/MinION_sequencing_data_20191216/guppy_3.2.2_12_16_19_run_01_exec_20200107/sw/fastq_runid_897cd225d1c3eef2d8da014b83aad9fb76f55a5f_12_3.tsv\n",
      "[12:52:15 - __main__] Starting fastq (51 of 405)\n",
      "\t/path/to/data/MinION_sequencing_data_20191216/guppy_3.2.2_12_16_19_run_01_exec_20200107/pass/fastq_runid_897cd225d1c3eef2d8da014b83aad9fb76f55a5f_13_1.fastq\n"
     ]
    },
    {
     "name": "stdout",
     "output_type": "stream",
     "text": [
      "[########################################] | 100% Completed |  1min 27.3s\n"
     ]
    },
    {
     "name": "stderr",
     "output_type": "stream",
     "text": [
      "[12:53:42 - __main__] Saving to file: /path/to/data/MinION_sequencing_data_20191216/guppy_3.2.2_12_16_19_run_01_exec_20200107/sw/fastq_runid_897cd225d1c3eef2d8da014b83aad9fb76f55a5f_13_1.tsv\n",
      "[12:53:42 - __main__] Starting fastq (52 of 405)\n",
      "\t/path/to/data/MinION_sequencing_data_20191216/guppy_3.2.2_12_16_19_run_01_exec_20200107/pass/fastq_runid_897cd225d1c3eef2d8da014b83aad9fb76f55a5f_13_2.fastq\n"
     ]
    },
    {
     "name": "stdout",
     "output_type": "stream",
     "text": [
      "[########################################] | 100% Completed | 39.5s\n"
     ]
    },
    {
     "name": "stderr",
     "output_type": "stream",
     "text": [
      "[12:54:22 - __main__] Saving to file: /path/to/data/MinION_sequencing_data_20191216/guppy_3.2.2_12_16_19_run_01_exec_20200107/sw/fastq_runid_897cd225d1c3eef2d8da014b83aad9fb76f55a5f_13_2.tsv\n",
      "[12:54:22 - __main__] Starting fastq (53 of 405)\n",
      "\t/path/to/data/MinION_sequencing_data_20191216/guppy_3.2.2_12_16_19_run_01_exec_20200107/pass/fastq_runid_897cd225d1c3eef2d8da014b83aad9fb76f55a5f_14_0.fastq\n"
     ]
    },
    {
     "name": "stdout",
     "output_type": "stream",
     "text": [
      "[########################################] | 100% Completed |  1min  7.7s\n"
     ]
    },
    {
     "name": "stderr",
     "output_type": "stream",
     "text": [
      "[12:55:30 - __main__] Saving to file: /path/to/data/MinION_sequencing_data_20191216/guppy_3.2.2_12_16_19_run_01_exec_20200107/sw/fastq_runid_897cd225d1c3eef2d8da014b83aad9fb76f55a5f_14_0.tsv\n",
      "[12:55:30 - __main__] Starting fastq (54 of 405)\n",
      "\t/path/to/data/MinION_sequencing_data_20191216/guppy_3.2.2_12_16_19_run_01_exec_20200107/pass/fastq_runid_897cd225d1c3eef2d8da014b83aad9fb76f55a5f_14_1.fastq\n"
     ]
    },
    {
     "name": "stdout",
     "output_type": "stream",
     "text": [
      "[########################################] | 100% Completed | 26.2s\n"
     ]
    },
    {
     "name": "stderr",
     "output_type": "stream",
     "text": [
      "[12:55:57 - __main__] Saving to file: /path/to/data/MinION_sequencing_data_20191216/guppy_3.2.2_12_16_19_run_01_exec_20200107/sw/fastq_runid_897cd225d1c3eef2d8da014b83aad9fb76f55a5f_14_1.tsv\n",
      "[12:55:57 - __main__] Starting fastq (55 of 405)\n",
      "\t/path/to/data/MinION_sequencing_data_20191216/guppy_3.2.2_12_16_19_run_01_exec_20200107/pass/fastq_runid_897cd225d1c3eef2d8da014b83aad9fb76f55a5f_13_3.fastq\n"
     ]
    },
    {
     "name": "stdout",
     "output_type": "stream",
     "text": [
      "[########################################] | 100% Completed |  3.4s\n"
     ]
    },
    {
     "name": "stderr",
     "output_type": "stream",
     "text": [
      "[12:56:01 - __main__] Saving to file: /path/to/data/MinION_sequencing_data_20191216/guppy_3.2.2_12_16_19_run_01_exec_20200107/sw/fastq_runid_897cd225d1c3eef2d8da014b83aad9fb76f55a5f_13_3.tsv\n",
      "[12:56:01 - __main__] Starting fastq (56 of 405)\n",
      "\t/path/to/data/MinION_sequencing_data_20191216/guppy_3.2.2_12_16_19_run_01_exec_20200107/pass/fastq_runid_897cd225d1c3eef2d8da014b83aad9fb76f55a5f_14_2.fastq\n"
     ]
    },
    {
     "name": "stdout",
     "output_type": "stream",
     "text": [
      "[########################################] | 100% Completed | 26.3s\n"
     ]
    },
    {
     "name": "stderr",
     "output_type": "stream",
     "text": [
      "[12:56:27 - __main__] Saving to file: /path/to/data/MinION_sequencing_data_20191216/guppy_3.2.2_12_16_19_run_01_exec_20200107/sw/fastq_runid_897cd225d1c3eef2d8da014b83aad9fb76f55a5f_14_2.tsv\n",
      "[12:56:27 - __main__] Starting fastq (57 of 405)\n",
      "\t/path/to/data/MinION_sequencing_data_20191216/guppy_3.2.2_12_16_19_run_01_exec_20200107/pass/fastq_runid_897cd225d1c3eef2d8da014b83aad9fb76f55a5f_14_3.fastq\n"
     ]
    },
    {
     "name": "stdout",
     "output_type": "stream",
     "text": [
      "[########################################] | 100% Completed | 26.2s\n"
     ]
    },
    {
     "name": "stderr",
     "output_type": "stream",
     "text": [
      "[12:56:54 - __main__] Saving to file: /path/to/data/MinION_sequencing_data_20191216/guppy_3.2.2_12_16_19_run_01_exec_20200107/sw/fastq_runid_897cd225d1c3eef2d8da014b83aad9fb76f55a5f_14_3.tsv\n",
      "[12:56:54 - __main__] Starting fastq (58 of 405)\n",
      "\t/path/to/data/MinION_sequencing_data_20191216/guppy_3.2.2_12_16_19_run_01_exec_20200107/pass/fastq_runid_897cd225d1c3eef2d8da014b83aad9fb76f55a5f_15_0.fastq\n"
     ]
    },
    {
     "name": "stdout",
     "output_type": "stream",
     "text": [
      "[########################################] | 100% Completed |  4.6s\n"
     ]
    },
    {
     "name": "stderr",
     "output_type": "stream",
     "text": [
      "[12:56:59 - __main__] Saving to file: /path/to/data/MinION_sequencing_data_20191216/guppy_3.2.2_12_16_19_run_01_exec_20200107/sw/fastq_runid_897cd225d1c3eef2d8da014b83aad9fb76f55a5f_15_0.tsv\n",
      "[12:56:59 - __main__] Starting fastq (59 of 405)\n",
      "\t/path/to/data/MinION_sequencing_data_20191216/guppy_3.2.2_12_16_19_run_01_exec_20200107/pass/fastq_runid_897cd225d1c3eef2d8da014b83aad9fb76f55a5f_15_1.fastq\n"
     ]
    },
    {
     "name": "stdout",
     "output_type": "stream",
     "text": [
      "[########################################] | 100% Completed |  1min 49.1s\n"
     ]
    },
    {
     "name": "stderr",
     "output_type": "stream",
     "text": [
      "[12:58:48 - __main__] Saving to file: /path/to/data/MinION_sequencing_data_20191216/guppy_3.2.2_12_16_19_run_01_exec_20200107/sw/fastq_runid_897cd225d1c3eef2d8da014b83aad9fb76f55a5f_15_1.tsv\n",
      "[12:58:48 - __main__] Starting fastq (60 of 405)\n",
      "\t/path/to/data/MinION_sequencing_data_20191216/guppy_3.2.2_12_16_19_run_01_exec_20200107/pass/fastq_runid_897cd225d1c3eef2d8da014b83aad9fb76f55a5f_16_0.fastq\n"
     ]
    },
    {
     "name": "stdout",
     "output_type": "stream",
     "text": [
      "[########################################] | 100% Completed | 53.2s\n"
     ]
    },
    {
     "name": "stderr",
     "output_type": "stream",
     "text": [
      "[12:59:42 - __main__] Saving to file: /path/to/data/MinION_sequencing_data_20191216/guppy_3.2.2_12_16_19_run_01_exec_20200107/sw/fastq_runid_897cd225d1c3eef2d8da014b83aad9fb76f55a5f_16_0.tsv\n",
      "[12:59:42 - __main__] Starting fastq (61 of 405)\n",
      "\t/path/to/data/MinION_sequencing_data_20191216/guppy_3.2.2_12_16_19_run_01_exec_20200107/pass/fastq_runid_897cd225d1c3eef2d8da014b83aad9fb76f55a5f_15_2.fastq\n"
     ]
    },
    {
     "name": "stdout",
     "output_type": "stream",
     "text": [
      "[########################################] | 100% Completed | 28.3s\n"
     ]
    },
    {
     "name": "stderr",
     "output_type": "stream",
     "text": [
      "[13:00:10 - __main__] Saving to file: /path/to/data/MinION_sequencing_data_20191216/guppy_3.2.2_12_16_19_run_01_exec_20200107/sw/fastq_runid_897cd225d1c3eef2d8da014b83aad9fb76f55a5f_15_2.tsv\n",
      "[13:00:11 - __main__] Starting fastq (62 of 405)\n",
      "\t/path/to/data/MinION_sequencing_data_20191216/guppy_3.2.2_12_16_19_run_01_exec_20200107/pass/fastq_runid_897cd225d1c3eef2d8da014b83aad9fb76f55a5f_15_3.fastq\n"
     ]
    },
    {
     "name": "stdout",
     "output_type": "stream",
     "text": [
      "[########################################] | 100% Completed |  0.8s\n"
     ]
    },
    {
     "name": "stderr",
     "output_type": "stream",
     "text": [
      "[13:00:12 - __main__] Saving to file: /path/to/data/MinION_sequencing_data_20191216/guppy_3.2.2_12_16_19_run_01_exec_20200107/sw/fastq_runid_897cd225d1c3eef2d8da014b83aad9fb76f55a5f_15_3.tsv\n",
      "[13:00:12 - __main__] Starting fastq (63 of 405)\n",
      "\t/path/to/data/MinION_sequencing_data_20191216/guppy_3.2.2_12_16_19_run_01_exec_20200107/pass/fastq_runid_897cd225d1c3eef2d8da014b83aad9fb76f55a5f_16_1.fastq\n"
     ]
    },
    {
     "name": "stdout",
     "output_type": "stream",
     "text": [
      "[########################################] | 100% Completed |  1min  9.0s\n"
     ]
    },
    {
     "name": "stderr",
     "output_type": "stream",
     "text": [
      "[13:01:21 - __main__] Saving to file: /path/to/data/MinION_sequencing_data_20191216/guppy_3.2.2_12_16_19_run_01_exec_20200107/sw/fastq_runid_897cd225d1c3eef2d8da014b83aad9fb76f55a5f_16_1.tsv\n",
      "[13:01:21 - __main__] Starting fastq (64 of 405)\n",
      "\t/path/to/data/MinION_sequencing_data_20191216/guppy_3.2.2_12_16_19_run_01_exec_20200107/pass/fastq_runid_897cd225d1c3eef2d8da014b83aad9fb76f55a5f_16_2.fastq\n"
     ]
    },
    {
     "name": "stdout",
     "output_type": "stream",
     "text": [
      "[########################################] | 100% Completed | 19.5s\n"
     ]
    },
    {
     "name": "stderr",
     "output_type": "stream",
     "text": [
      "[13:01:41 - __main__] Saving to file: /path/to/data/MinION_sequencing_data_20191216/guppy_3.2.2_12_16_19_run_01_exec_20200107/sw/fastq_runid_897cd225d1c3eef2d8da014b83aad9fb76f55a5f_16_2.tsv\n",
      "[13:01:41 - __main__] Starting fastq (65 of 405)\n",
      "\t/path/to/data/MinION_sequencing_data_20191216/guppy_3.2.2_12_16_19_run_01_exec_20200107/pass/fastq_runid_897cd225d1c3eef2d8da014b83aad9fb76f55a5f_17_0.fastq\n"
     ]
    },
    {
     "name": "stdout",
     "output_type": "stream",
     "text": [
      "[########################################] | 100% Completed | 47.1s\n"
     ]
    },
    {
     "name": "stderr",
     "output_type": "stream",
     "text": [
      "[13:02:28 - __main__] Saving to file: /path/to/data/MinION_sequencing_data_20191216/guppy_3.2.2_12_16_19_run_01_exec_20200107/sw/fastq_runid_897cd225d1c3eef2d8da014b83aad9fb76f55a5f_17_0.tsv\n",
      "[13:02:28 - __main__] Starting fastq (66 of 405)\n",
      "\t/path/to/data/MinION_sequencing_data_20191216/guppy_3.2.2_12_16_19_run_01_exec_20200107/pass/fastq_runid_897cd225d1c3eef2d8da014b83aad9fb76f55a5f_17_1.fastq\n"
     ]
    },
    {
     "name": "stdout",
     "output_type": "stream",
     "text": [
      "[########################################] | 100% Completed | 41.7s\n"
     ]
    },
    {
     "name": "stderr",
     "output_type": "stream",
     "text": [
      "[13:03:10 - __main__] Saving to file: /path/to/data/MinION_sequencing_data_20191216/guppy_3.2.2_12_16_19_run_01_exec_20200107/sw/fastq_runid_897cd225d1c3eef2d8da014b83aad9fb76f55a5f_17_1.tsv\n",
      "[13:03:10 - __main__] Starting fastq (67 of 405)\n",
      "\t/path/to/data/MinION_sequencing_data_20191216/guppy_3.2.2_12_16_19_run_01_exec_20200107/pass/fastq_runid_897cd225d1c3eef2d8da014b83aad9fb76f55a5f_16_3.fastq\n"
     ]
    },
    {
     "name": "stdout",
     "output_type": "stream",
     "text": [
      "[########################################] | 100% Completed |  0.9s\n"
     ]
    },
    {
     "name": "stderr",
     "output_type": "stream",
     "text": [
      "[13:03:12 - __main__] Saving to file: /path/to/data/MinION_sequencing_data_20191216/guppy_3.2.2_12_16_19_run_01_exec_20200107/sw/fastq_runid_897cd225d1c3eef2d8da014b83aad9fb76f55a5f_16_3.tsv\n",
      "[13:03:12 - __main__] Starting fastq (68 of 405)\n",
      "\t/path/to/data/MinION_sequencing_data_20191216/guppy_3.2.2_12_16_19_run_01_exec_20200107/pass/fastq_runid_897cd225d1c3eef2d8da014b83aad9fb76f55a5f_17_2.fastq\n"
     ]
    },
    {
     "name": "stdout",
     "output_type": "stream",
     "text": [
      "[########################################] | 100% Completed | 11.8s\n"
     ]
    },
    {
     "name": "stderr",
     "output_type": "stream",
     "text": [
      "[13:03:24 - __main__] Saving to file: /path/to/data/MinION_sequencing_data_20191216/guppy_3.2.2_12_16_19_run_01_exec_20200107/sw/fastq_runid_897cd225d1c3eef2d8da014b83aad9fb76f55a5f_17_2.tsv\n",
      "[13:03:24 - __main__] Starting fastq (69 of 405)\n",
      "\t/path/to/data/MinION_sequencing_data_20191216/guppy_3.2.2_12_16_19_run_01_exec_20200107/pass/fastq_runid_897cd225d1c3eef2d8da014b83aad9fb76f55a5f_18_0.fastq\n"
     ]
    },
    {
     "name": "stdout",
     "output_type": "stream",
     "text": [
      "[########################################] | 100% Completed |  1min 10.6s\n"
     ]
    },
    {
     "name": "stderr",
     "output_type": "stream",
     "text": [
      "[13:04:35 - __main__] Saving to file: /path/to/data/MinION_sequencing_data_20191216/guppy_3.2.2_12_16_19_run_01_exec_20200107/sw/fastq_runid_897cd225d1c3eef2d8da014b83aad9fb76f55a5f_18_0.tsv\n",
      "[13:04:35 - __main__] Starting fastq (70 of 405)\n",
      "\t/path/to/data/MinION_sequencing_data_20191216/guppy_3.2.2_12_16_19_run_01_exec_20200107/pass/fastq_runid_897cd225d1c3eef2d8da014b83aad9fb76f55a5f_18_1.fastq\n"
     ]
    },
    {
     "name": "stdout",
     "output_type": "stream",
     "text": [
      "[########################################] | 100% Completed | 35.3s\n"
     ]
    },
    {
     "name": "stderr",
     "output_type": "stream",
     "text": [
      "[13:05:10 - __main__] Saving to file: /path/to/data/MinION_sequencing_data_20191216/guppy_3.2.2_12_16_19_run_01_exec_20200107/sw/fastq_runid_897cd225d1c3eef2d8da014b83aad9fb76f55a5f_18_1.tsv\n",
      "[13:05:10 - __main__] Starting fastq (71 of 405)\n",
      "\t/path/to/data/MinION_sequencing_data_20191216/guppy_3.2.2_12_16_19_run_01_exec_20200107/pass/fastq_runid_897cd225d1c3eef2d8da014b83aad9fb76f55a5f_18_2.fastq\n"
     ]
    },
    {
     "name": "stdout",
     "output_type": "stream",
     "text": [
      "[########################################] | 100% Completed | 26.5s\n"
     ]
    },
    {
     "name": "stderr",
     "output_type": "stream",
     "text": [
      "[13:05:37 - __main__] Saving to file: /path/to/data/MinION_sequencing_data_20191216/guppy_3.2.2_12_16_19_run_01_exec_20200107/sw/fastq_runid_897cd225d1c3eef2d8da014b83aad9fb76f55a5f_18_2.tsv\n",
      "[13:05:37 - __main__] Starting fastq (72 of 405)\n",
      "\t/path/to/data/MinION_sequencing_data_20191216/guppy_3.2.2_12_16_19_run_01_exec_20200107/pass/fastq_runid_897cd225d1c3eef2d8da014b83aad9fb76f55a5f_17_3.fastq\n"
     ]
    },
    {
     "name": "stdout",
     "output_type": "stream",
     "text": [
      "[########################################] | 100% Completed | 41.9s\n"
     ]
    },
    {
     "name": "stderr",
     "output_type": "stream",
     "text": [
      "[13:06:19 - __main__] Saving to file: /path/to/data/MinION_sequencing_data_20191216/guppy_3.2.2_12_16_19_run_01_exec_20200107/sw/fastq_runid_897cd225d1c3eef2d8da014b83aad9fb76f55a5f_17_3.tsv\n",
      "[13:06:19 - __main__] Starting fastq (73 of 405)\n",
      "\t/path/to/data/MinION_sequencing_data_20191216/guppy_3.2.2_12_16_19_run_01_exec_20200107/pass/fastq_runid_897cd225d1c3eef2d8da014b83aad9fb76f55a5f_19_0.fastq\n"
     ]
    },
    {
     "name": "stdout",
     "output_type": "stream",
     "text": [
      "[########################################] | 100% Completed | 30.3s\n"
     ]
    },
    {
     "name": "stderr",
     "output_type": "stream",
     "text": [
      "[13:06:50 - __main__] Saving to file: /path/to/data/MinION_sequencing_data_20191216/guppy_3.2.2_12_16_19_run_01_exec_20200107/sw/fastq_runid_897cd225d1c3eef2d8da014b83aad9fb76f55a5f_19_0.tsv\n",
      "[13:06:50 - __main__] Starting fastq (74 of 405)\n",
      "\t/path/to/data/MinION_sequencing_data_20191216/guppy_3.2.2_12_16_19_run_01_exec_20200107/pass/fastq_runid_897cd225d1c3eef2d8da014b83aad9fb76f55a5f_18_3.fastq\n"
     ]
    },
    {
     "name": "stdout",
     "output_type": "stream",
     "text": [
      "[########################################] | 100% Completed |  8.1s\n"
     ]
    },
    {
     "name": "stderr",
     "output_type": "stream",
     "text": [
      "[13:06:59 - __main__] Saving to file: /path/to/data/MinION_sequencing_data_20191216/guppy_3.2.2_12_16_19_run_01_exec_20200107/sw/fastq_runid_897cd225d1c3eef2d8da014b83aad9fb76f55a5f_18_3.tsv\n",
      "[13:06:59 - __main__] Starting fastq (75 of 405)\n",
      "\t/path/to/data/MinION_sequencing_data_20191216/guppy_3.2.2_12_16_19_run_01_exec_20200107/pass/fastq_runid_897cd225d1c3eef2d8da014b83aad9fb76f55a5f_19_1.fastq\n"
     ]
    },
    {
     "name": "stdout",
     "output_type": "stream",
     "text": [
      "[########################################] | 100% Completed | 26.4s\n"
     ]
    },
    {
     "name": "stderr",
     "output_type": "stream",
     "text": [
      "[13:07:25 - __main__] Saving to file: /path/to/data/MinION_sequencing_data_20191216/guppy_3.2.2_12_16_19_run_01_exec_20200107/sw/fastq_runid_897cd225d1c3eef2d8da014b83aad9fb76f55a5f_19_1.tsv\n",
      "[13:07:25 - __main__] Starting fastq (76 of 405)\n",
      "\t/path/to/data/MinION_sequencing_data_20191216/guppy_3.2.2_12_16_19_run_01_exec_20200107/pass/fastq_runid_897cd225d1c3eef2d8da014b83aad9fb76f55a5f_19_2.fastq\n"
     ]
    },
    {
     "name": "stdout",
     "output_type": "stream",
     "text": [
      "[########################################] | 100% Completed |  1min  3.7s\n"
     ]
    },
    {
     "name": "stderr",
     "output_type": "stream",
     "text": [
      "[13:08:29 - __main__] Saving to file: /path/to/data/MinION_sequencing_data_20191216/guppy_3.2.2_12_16_19_run_01_exec_20200107/sw/fastq_runid_897cd225d1c3eef2d8da014b83aad9fb76f55a5f_19_2.tsv\n",
      "[13:08:29 - __main__] Starting fastq (77 of 405)\n",
      "\t/path/to/data/MinION_sequencing_data_20191216/guppy_3.2.2_12_16_19_run_01_exec_20200107/pass/fastq_runid_897cd225d1c3eef2d8da014b83aad9fb76f55a5f_19_3.fastq\n"
     ]
    },
    {
     "name": "stdout",
     "output_type": "stream",
     "text": [
      "[########################################] | 100% Completed | 23.7s\n"
     ]
    },
    {
     "name": "stderr",
     "output_type": "stream",
     "text": [
      "[13:08:53 - __main__] Saving to file: /path/to/data/MinION_sequencing_data_20191216/guppy_3.2.2_12_16_19_run_01_exec_20200107/sw/fastq_runid_897cd225d1c3eef2d8da014b83aad9fb76f55a5f_19_3.tsv\n",
      "[13:08:53 - __main__] Starting fastq (78 of 405)\n",
      "\t/path/to/data/MinION_sequencing_data_20191216/guppy_3.2.2_12_16_19_run_01_exec_20200107/pass/fastq_runid_897cd225d1c3eef2d8da014b83aad9fb76f55a5f_20_0.fastq\n"
     ]
    },
    {
     "name": "stdout",
     "output_type": "stream",
     "text": [
      "[########################################] | 100% Completed | 41.1s\n"
     ]
    },
    {
     "name": "stderr",
     "output_type": "stream",
     "text": [
      "[13:09:35 - __main__] Saving to file: /path/to/data/MinION_sequencing_data_20191216/guppy_3.2.2_12_16_19_run_01_exec_20200107/sw/fastq_runid_897cd225d1c3eef2d8da014b83aad9fb76f55a5f_20_0.tsv\n",
      "[13:09:35 - __main__] Starting fastq (79 of 405)\n",
      "\t/path/to/data/MinION_sequencing_data_20191216/guppy_3.2.2_12_16_19_run_01_exec_20200107/pass/fastq_runid_897cd225d1c3eef2d8da014b83aad9fb76f55a5f_20_1.fastq\n"
     ]
    },
    {
     "name": "stdout",
     "output_type": "stream",
     "text": [
      "[########################################] | 100% Completed |  1min  1.7s\n"
     ]
    },
    {
     "name": "stderr",
     "output_type": "stream",
     "text": [
      "[13:10:37 - __main__] Saving to file: /path/to/data/MinION_sequencing_data_20191216/guppy_3.2.2_12_16_19_run_01_exec_20200107/sw/fastq_runid_897cd225d1c3eef2d8da014b83aad9fb76f55a5f_20_1.tsv\n",
      "[13:10:37 - __main__] Starting fastq (80 of 405)\n",
      "\t/path/to/data/MinION_sequencing_data_20191216/guppy_3.2.2_12_16_19_run_01_exec_20200107/pass/fastq_runid_897cd225d1c3eef2d8da014b83aad9fb76f55a5f_20_2.fastq\n"
     ]
    },
    {
     "name": "stdout",
     "output_type": "stream",
     "text": [
      "[########################################] | 100% Completed | 33.5s\n"
     ]
    },
    {
     "name": "stderr",
     "output_type": "stream",
     "text": [
      "[13:11:11 - __main__] Saving to file: /path/to/data/MinION_sequencing_data_20191216/guppy_3.2.2_12_16_19_run_01_exec_20200107/sw/fastq_runid_897cd225d1c3eef2d8da014b83aad9fb76f55a5f_20_2.tsv\n",
      "[13:11:11 - __main__] Starting fastq (81 of 405)\n",
      "\t/path/to/data/MinION_sequencing_data_20191216/guppy_3.2.2_12_16_19_run_01_exec_20200107/pass/fastq_runid_897cd225d1c3eef2d8da014b83aad9fb76f55a5f_20_3.fastq\n"
     ]
    },
    {
     "name": "stdout",
     "output_type": "stream",
     "text": [
      "[########################################] | 100% Completed |  8.8s\n"
     ]
    },
    {
     "name": "stderr",
     "output_type": "stream",
     "text": [
      "[13:11:20 - __main__] Saving to file: /path/to/data/MinION_sequencing_data_20191216/guppy_3.2.2_12_16_19_run_01_exec_20200107/sw/fastq_runid_897cd225d1c3eef2d8da014b83aad9fb76f55a5f_20_3.tsv\n",
      "[13:11:20 - __main__] Starting fastq (82 of 405)\n",
      "\t/path/to/data/MinION_sequencing_data_20191216/guppy_3.2.2_12_16_19_run_01_exec_20200107/pass/fastq_runid_897cd225d1c3eef2d8da014b83aad9fb76f55a5f_21_0.fastq\n"
     ]
    },
    {
     "name": "stdout",
     "output_type": "stream",
     "text": [
      "[########################################] | 100% Completed | 23.0s\n"
     ]
    },
    {
     "name": "stderr",
     "output_type": "stream",
     "text": [
      "[13:11:43 - __main__] Saving to file: /path/to/data/MinION_sequencing_data_20191216/guppy_3.2.2_12_16_19_run_01_exec_20200107/sw/fastq_runid_897cd225d1c3eef2d8da014b83aad9fb76f55a5f_21_0.tsv\n",
      "[13:11:43 - __main__] Starting fastq (83 of 405)\n",
      "\t/path/to/data/MinION_sequencing_data_20191216/guppy_3.2.2_12_16_19_run_01_exec_20200107/pass/fastq_runid_897cd225d1c3eef2d8da014b83aad9fb76f55a5f_21_1.fastq\n"
     ]
    },
    {
     "name": "stdout",
     "output_type": "stream",
     "text": [
      "[########################################] | 100% Completed | 44.8s\n"
     ]
    },
    {
     "name": "stderr",
     "output_type": "stream",
     "text": [
      "[13:12:28 - __main__] Saving to file: /path/to/data/MinION_sequencing_data_20191216/guppy_3.2.2_12_16_19_run_01_exec_20200107/sw/fastq_runid_897cd225d1c3eef2d8da014b83aad9fb76f55a5f_21_1.tsv\n",
      "[13:12:28 - __main__] Starting fastq (84 of 405)\n",
      "\t/path/to/data/MinION_sequencing_data_20191216/guppy_3.2.2_12_16_19_run_01_exec_20200107/pass/fastq_runid_897cd225d1c3eef2d8da014b83aad9fb76f55a5f_21_2.fastq\n"
     ]
    },
    {
     "name": "stdout",
     "output_type": "stream",
     "text": [
      "[########################################] | 100% Completed | 41.3s\n"
     ]
    },
    {
     "name": "stderr",
     "output_type": "stream",
     "text": [
      "[13:13:10 - __main__] Saving to file: /path/to/data/MinION_sequencing_data_20191216/guppy_3.2.2_12_16_19_run_01_exec_20200107/sw/fastq_runid_897cd225d1c3eef2d8da014b83aad9fb76f55a5f_21_2.tsv\n",
      "[13:13:10 - __main__] Starting fastq (85 of 405)\n",
      "\t/path/to/data/MinION_sequencing_data_20191216/guppy_3.2.2_12_16_19_run_01_exec_20200107/pass/fastq_runid_897cd225d1c3eef2d8da014b83aad9fb76f55a5f_21_3.fastq\n"
     ]
    },
    {
     "name": "stdout",
     "output_type": "stream",
     "text": [
      "[########################################] | 100% Completed | 37.4s\n"
     ]
    },
    {
     "name": "stderr",
     "output_type": "stream",
     "text": [
      "[13:13:48 - __main__] Saving to file: /path/to/data/MinION_sequencing_data_20191216/guppy_3.2.2_12_16_19_run_01_exec_20200107/sw/fastq_runid_897cd225d1c3eef2d8da014b83aad9fb76f55a5f_21_3.tsv\n",
      "[13:13:48 - __main__] Starting fastq (86 of 405)\n",
      "\t/path/to/data/MinION_sequencing_data_20191216/guppy_3.2.2_12_16_19_run_01_exec_20200107/pass/fastq_runid_897cd225d1c3eef2d8da014b83aad9fb76f55a5f_22_0.fastq\n"
     ]
    },
    {
     "name": "stdout",
     "output_type": "stream",
     "text": [
      "[########################################] | 100% Completed |  1min 19.6s\n"
     ]
    },
    {
     "name": "stderr",
     "output_type": "stream",
     "text": [
      "[13:15:08 - __main__] Saving to file: /path/to/data/MinION_sequencing_data_20191216/guppy_3.2.2_12_16_19_run_01_exec_20200107/sw/fastq_runid_897cd225d1c3eef2d8da014b83aad9fb76f55a5f_22_0.tsv\n",
      "[13:15:08 - __main__] Starting fastq (87 of 405)\n",
      "\t/path/to/data/MinION_sequencing_data_20191216/guppy_3.2.2_12_16_19_run_01_exec_20200107/pass/fastq_runid_897cd225d1c3eef2d8da014b83aad9fb76f55a5f_22_1.fastq\n"
     ]
    },
    {
     "name": "stdout",
     "output_type": "stream",
     "text": [
      "[########################################] | 100% Completed | 42.5s\n"
     ]
    },
    {
     "name": "stderr",
     "output_type": "stream",
     "text": [
      "[13:15:51 - __main__] Saving to file: /path/to/data/MinION_sequencing_data_20191216/guppy_3.2.2_12_16_19_run_01_exec_20200107/sw/fastq_runid_897cd225d1c3eef2d8da014b83aad9fb76f55a5f_22_1.tsv\n",
      "[13:15:51 - __main__] Starting fastq (88 of 405)\n",
      "\t/path/to/data/MinION_sequencing_data_20191216/guppy_3.2.2_12_16_19_run_01_exec_20200107/pass/fastq_runid_897cd225d1c3eef2d8da014b83aad9fb76f55a5f_22_2.fastq\n"
     ]
    },
    {
     "name": "stdout",
     "output_type": "stream",
     "text": [
      "[########################################] | 100% Completed |  1.0s\n"
     ]
    },
    {
     "name": "stderr",
     "output_type": "stream",
     "text": [
      "[13:15:52 - __main__] Saving to file: /path/to/data/MinION_sequencing_data_20191216/guppy_3.2.2_12_16_19_run_01_exec_20200107/sw/fastq_runid_897cd225d1c3eef2d8da014b83aad9fb76f55a5f_22_2.tsv\n",
      "[13:15:52 - __main__] Starting fastq (89 of 405)\n",
      "\t/path/to/data/MinION_sequencing_data_20191216/guppy_3.2.2_12_16_19_run_01_exec_20200107/pass/fastq_runid_897cd225d1c3eef2d8da014b83aad9fb76f55a5f_23_0.fastq\n"
     ]
    },
    {
     "name": "stdout",
     "output_type": "stream",
     "text": [
      "[########################################] | 100% Completed |  1min 28.1s\n"
     ]
    },
    {
     "name": "stderr",
     "output_type": "stream",
     "text": [
      "[13:17:21 - __main__] Saving to file: /path/to/data/MinION_sequencing_data_20191216/guppy_3.2.2_12_16_19_run_01_exec_20200107/sw/fastq_runid_897cd225d1c3eef2d8da014b83aad9fb76f55a5f_23_0.tsv\n",
      "[13:17:21 - __main__] Starting fastq (90 of 405)\n",
      "\t/path/to/data/MinION_sequencing_data_20191216/guppy_3.2.2_12_16_19_run_01_exec_20200107/pass/fastq_runid_897cd225d1c3eef2d8da014b83aad9fb76f55a5f_22_3.fastq\n"
     ]
    },
    {
     "name": "stdout",
     "output_type": "stream",
     "text": [
      "[########################################] | 100% Completed | 22.4s\n"
     ]
    },
    {
     "name": "stderr",
     "output_type": "stream",
     "text": [
      "[13:17:43 - __main__] Saving to file: /path/to/data/MinION_sequencing_data_20191216/guppy_3.2.2_12_16_19_run_01_exec_20200107/sw/fastq_runid_897cd225d1c3eef2d8da014b83aad9fb76f55a5f_22_3.tsv\n",
      "[13:17:43 - __main__] Starting fastq (91 of 405)\n",
      "\t/path/to/data/MinION_sequencing_data_20191216/guppy_3.2.2_12_16_19_run_01_exec_20200107/pass/fastq_runid_897cd225d1c3eef2d8da014b83aad9fb76f55a5f_23_1.fastq\n"
     ]
    },
    {
     "name": "stdout",
     "output_type": "stream",
     "text": [
      "[########################################] | 100% Completed |  2.3s\n"
     ]
    },
    {
     "name": "stderr",
     "output_type": "stream",
     "text": [
      "[13:17:46 - __main__] Saving to file: /path/to/data/MinION_sequencing_data_20191216/guppy_3.2.2_12_16_19_run_01_exec_20200107/sw/fastq_runid_897cd225d1c3eef2d8da014b83aad9fb76f55a5f_23_1.tsv\n",
      "[13:17:46 - __main__] Starting fastq (92 of 405)\n",
      "\t/path/to/data/MinION_sequencing_data_20191216/guppy_3.2.2_12_16_19_run_01_exec_20200107/pass/fastq_runid_897cd225d1c3eef2d8da014b83aad9fb76f55a5f_24_0.fastq\n"
     ]
    },
    {
     "name": "stdout",
     "output_type": "stream",
     "text": [
      "[########################################] | 100% Completed |  2min  5.9s\n"
     ]
    },
    {
     "name": "stderr",
     "output_type": "stream",
     "text": [
      "[13:19:52 - __main__] Saving to file: /path/to/data/MinION_sequencing_data_20191216/guppy_3.2.2_12_16_19_run_01_exec_20200107/sw/fastq_runid_897cd225d1c3eef2d8da014b83aad9fb76f55a5f_24_0.tsv\n",
      "[13:19:53 - __main__] Starting fastq (93 of 405)\n",
      "\t/path/to/data/MinION_sequencing_data_20191216/guppy_3.2.2_12_16_19_run_01_exec_20200107/pass/fastq_runid_897cd225d1c3eef2d8da014b83aad9fb76f55a5f_23_2.fastq\n"
     ]
    },
    {
     "name": "stdout",
     "output_type": "stream",
     "text": [
      "[########################################] | 100% Completed | 33.2s\n"
     ]
    },
    {
     "name": "stderr",
     "output_type": "stream",
     "text": [
      "[13:20:26 - __main__] Saving to file: /path/to/data/MinION_sequencing_data_20191216/guppy_3.2.2_12_16_19_run_01_exec_20200107/sw/fastq_runid_897cd225d1c3eef2d8da014b83aad9fb76f55a5f_23_2.tsv\n",
      "[13:20:26 - __main__] Starting fastq (94 of 405)\n",
      "\t/path/to/data/MinION_sequencing_data_20191216/guppy_3.2.2_12_16_19_run_01_exec_20200107/pass/fastq_runid_897cd225d1c3eef2d8da014b83aad9fb76f55a5f_23_3.fastq\n"
     ]
    },
    {
     "name": "stdout",
     "output_type": "stream",
     "text": [
      "[########################################] | 100% Completed | 16.1s\n"
     ]
    },
    {
     "name": "stderr",
     "output_type": "stream",
     "text": [
      "[13:20:42 - __main__] Saving to file: /path/to/data/MinION_sequencing_data_20191216/guppy_3.2.2_12_16_19_run_01_exec_20200107/sw/fastq_runid_897cd225d1c3eef2d8da014b83aad9fb76f55a5f_23_3.tsv\n",
      "[13:20:42 - __main__] Starting fastq (95 of 405)\n",
      "\t/path/to/data/MinION_sequencing_data_20191216/guppy_3.2.2_12_16_19_run_01_exec_20200107/pass/fastq_runid_897cd225d1c3eef2d8da014b83aad9fb76f55a5f_24_1.fastq\n"
     ]
    },
    {
     "name": "stdout",
     "output_type": "stream",
     "text": [
      "[########################################] | 100% Completed |  2.6s\n"
     ]
    },
    {
     "name": "stderr",
     "output_type": "stream",
     "text": [
      "[13:20:45 - __main__] Saving to file: /path/to/data/MinION_sequencing_data_20191216/guppy_3.2.2_12_16_19_run_01_exec_20200107/sw/fastq_runid_897cd225d1c3eef2d8da014b83aad9fb76f55a5f_24_1.tsv\n",
      "[13:20:45 - __main__] Starting fastq (96 of 405)\n",
      "\t/path/to/data/MinION_sequencing_data_20191216/guppy_3.2.2_12_16_19_run_01_exec_20200107/pass/fastq_runid_897cd225d1c3eef2d8da014b83aad9fb76f55a5f_25_0.fastq\n"
     ]
    },
    {
     "name": "stdout",
     "output_type": "stream",
     "text": [
      "[########################################] | 100% Completed | 47.6s\n"
     ]
    },
    {
     "name": "stderr",
     "output_type": "stream",
     "text": [
      "[13:21:33 - __main__] Saving to file: /path/to/data/MinION_sequencing_data_20191216/guppy_3.2.2_12_16_19_run_01_exec_20200107/sw/fastq_runid_897cd225d1c3eef2d8da014b83aad9fb76f55a5f_25_0.tsv\n",
      "[13:21:33 - __main__] Starting fastq (97 of 405)\n",
      "\t/path/to/data/MinION_sequencing_data_20191216/guppy_3.2.2_12_16_19_run_01_exec_20200107/pass/fastq_runid_897cd225d1c3eef2d8da014b83aad9fb76f55a5f_24_2.fastq\n"
     ]
    },
    {
     "name": "stdout",
     "output_type": "stream",
     "text": [
      "[########################################] | 100% Completed |  1.0s\n"
     ]
    },
    {
     "name": "stderr",
     "output_type": "stream",
     "text": [
      "[13:21:34 - __main__] Saving to file: /path/to/data/MinION_sequencing_data_20191216/guppy_3.2.2_12_16_19_run_01_exec_20200107/sw/fastq_runid_897cd225d1c3eef2d8da014b83aad9fb76f55a5f_24_2.tsv\n",
      "[13:21:34 - __main__] Starting fastq (98 of 405)\n",
      "\t/path/to/data/MinION_sequencing_data_20191216/guppy_3.2.2_12_16_19_run_01_exec_20200107/pass/fastq_runid_897cd225d1c3eef2d8da014b83aad9fb76f55a5f_25_1.fastq\n"
     ]
    },
    {
     "name": "stdout",
     "output_type": "stream",
     "text": [
      "[########################################] | 100% Completed |  1min 13.8s\n"
     ]
    },
    {
     "name": "stderr",
     "output_type": "stream",
     "text": [
      "[13:22:49 - __main__] Saving to file: /path/to/data/MinION_sequencing_data_20191216/guppy_3.2.2_12_16_19_run_01_exec_20200107/sw/fastq_runid_897cd225d1c3eef2d8da014b83aad9fb76f55a5f_25_1.tsv\n",
      "[13:22:49 - __main__] Starting fastq (99 of 405)\n",
      "\t/path/to/data/MinION_sequencing_data_20191216/guppy_3.2.2_12_16_19_run_01_exec_20200107/pass/fastq_runid_897cd225d1c3eef2d8da014b83aad9fb76f55a5f_26_0.fastq\n"
     ]
    },
    {
     "name": "stdout",
     "output_type": "stream",
     "text": [
      "[########################################] | 100% Completed |  1min 43.5s\n"
     ]
    },
    {
     "name": "stderr",
     "output_type": "stream",
     "text": [
      "[13:24:33 - __main__] Saving to file: /path/to/data/MinION_sequencing_data_20191216/guppy_3.2.2_12_16_19_run_01_exec_20200107/sw/fastq_runid_897cd225d1c3eef2d8da014b83aad9fb76f55a5f_26_0.tsv\n",
      "[13:24:33 - __main__] Starting fastq (100 of 405)\n",
      "\t/path/to/data/MinION_sequencing_data_20191216/guppy_3.2.2_12_16_19_run_01_exec_20200107/pass/fastq_runid_897cd225d1c3eef2d8da014b83aad9fb76f55a5f_24_3.fastq\n"
     ]
    },
    {
     "name": "stdout",
     "output_type": "stream",
     "text": [
      "[########################################] | 100% Completed | 14.8s\n"
     ]
    },
    {
     "name": "stderr",
     "output_type": "stream",
     "text": [
      "[13:24:48 - __main__] Saving to file: /path/to/data/MinION_sequencing_data_20191216/guppy_3.2.2_12_16_19_run_01_exec_20200107/sw/fastq_runid_897cd225d1c3eef2d8da014b83aad9fb76f55a5f_24_3.tsv\n",
      "[13:24:48 - __main__] Starting fastq (101 of 405)\n",
      "\t/path/to/data/MinION_sequencing_data_20191216/guppy_3.2.2_12_16_19_run_01_exec_20200107/pass/fastq_runid_897cd225d1c3eef2d8da014b83aad9fb76f55a5f_25_2.fastq\n"
     ]
    },
    {
     "name": "stdout",
     "output_type": "stream",
     "text": [
      "[########################################] | 100% Completed |  1.0s\n"
     ]
    },
    {
     "name": "stderr",
     "output_type": "stream",
     "text": [
      "[13:24:49 - __main__] Saving to file: /path/to/data/MinION_sequencing_data_20191216/guppy_3.2.2_12_16_19_run_01_exec_20200107/sw/fastq_runid_897cd225d1c3eef2d8da014b83aad9fb76f55a5f_25_2.tsv\n",
      "[13:24:49 - __main__] Starting fastq (102 of 405)\n",
      "\t/path/to/data/MinION_sequencing_data_20191216/guppy_3.2.2_12_16_19_run_01_exec_20200107/pass/fastq_runid_897cd225d1c3eef2d8da014b83aad9fb76f55a5f_26_1.fastq\n"
     ]
    },
    {
     "name": "stdout",
     "output_type": "stream",
     "text": [
      "[########################################] | 100% Completed | 29.9s\n"
     ]
    },
    {
     "name": "stderr",
     "output_type": "stream",
     "text": [
      "[13:25:20 - __main__] Saving to file: /path/to/data/MinION_sequencing_data_20191216/guppy_3.2.2_12_16_19_run_01_exec_20200107/sw/fastq_runid_897cd225d1c3eef2d8da014b83aad9fb76f55a5f_26_1.tsv\n",
      "[13:25:20 - __main__] Starting fastq (103 of 405)\n",
      "\t/path/to/data/MinION_sequencing_data_20191216/guppy_3.2.2_12_16_19_run_01_exec_20200107/pass/fastq_runid_897cd225d1c3eef2d8da014b83aad9fb76f55a5f_25_3.fastq\n"
     ]
    },
    {
     "name": "stdout",
     "output_type": "stream",
     "text": [
      "[########################################] | 100% Completed | 19.9s\n"
     ]
    },
    {
     "name": "stderr",
     "output_type": "stream",
     "text": [
      "[13:25:40 - __main__] Saving to file: /path/to/data/MinION_sequencing_data_20191216/guppy_3.2.2_12_16_19_run_01_exec_20200107/sw/fastq_runid_897cd225d1c3eef2d8da014b83aad9fb76f55a5f_25_3.tsv\n",
      "[13:25:40 - __main__] Starting fastq (104 of 405)\n",
      "\t/path/to/data/MinION_sequencing_data_20191216/guppy_3.2.2_12_16_19_run_01_exec_20200107/pass/fastq_runid_897cd225d1c3eef2d8da014b83aad9fb76f55a5f_26_2.fastq\n"
     ]
    },
    {
     "name": "stdout",
     "output_type": "stream",
     "text": [
      "[########################################] | 100% Completed |  2.7s\n"
     ]
    },
    {
     "name": "stderr",
     "output_type": "stream",
     "text": [
      "[13:25:43 - __main__] Saving to file: /path/to/data/MinION_sequencing_data_20191216/guppy_3.2.2_12_16_19_run_01_exec_20200107/sw/fastq_runid_897cd225d1c3eef2d8da014b83aad9fb76f55a5f_26_2.tsv\n",
      "[13:25:43 - __main__] Starting fastq (105 of 405)\n",
      "\t/path/to/data/MinION_sequencing_data_20191216/guppy_3.2.2_12_16_19_run_01_exec_20200107/pass/fastq_runid_897cd225d1c3eef2d8da014b83aad9fb76f55a5f_27_0.fastq\n"
     ]
    },
    {
     "name": "stdout",
     "output_type": "stream",
     "text": [
      "[########################################] | 100% Completed |  1min  0.6s\n"
     ]
    },
    {
     "name": "stderr",
     "output_type": "stream",
     "text": [
      "[13:26:44 - __main__] Saving to file: /path/to/data/MinION_sequencing_data_20191216/guppy_3.2.2_12_16_19_run_01_exec_20200107/sw/fastq_runid_897cd225d1c3eef2d8da014b83aad9fb76f55a5f_27_0.tsv\n",
      "[13:26:44 - __main__] Starting fastq (106 of 405)\n",
      "\t/path/to/data/MinION_sequencing_data_20191216/guppy_3.2.2_12_16_19_run_01_exec_20200107/pass/fastq_runid_897cd225d1c3eef2d8da014b83aad9fb76f55a5f_27_1.fastq\n"
     ]
    },
    {
     "name": "stdout",
     "output_type": "stream",
     "text": [
      "[########################################] | 100% Completed | 45.3s\n"
     ]
    },
    {
     "name": "stderr",
     "output_type": "stream",
     "text": [
      "[13:27:29 - __main__] Saving to file: /path/to/data/MinION_sequencing_data_20191216/guppy_3.2.2_12_16_19_run_01_exec_20200107/sw/fastq_runid_897cd225d1c3eef2d8da014b83aad9fb76f55a5f_27_1.tsv\n",
      "[13:27:29 - __main__] Starting fastq (107 of 405)\n",
      "\t/path/to/data/MinION_sequencing_data_20191216/guppy_3.2.2_12_16_19_run_01_exec_20200107/pass/fastq_runid_897cd225d1c3eef2d8da014b83aad9fb76f55a5f_26_3.fastq\n"
     ]
    },
    {
     "name": "stdout",
     "output_type": "stream",
     "text": [
      "[########################################] | 100% Completed |  6.2s\n"
     ]
    },
    {
     "name": "stderr",
     "output_type": "stream",
     "text": [
      "[13:27:36 - __main__] Saving to file: /path/to/data/MinION_sequencing_data_20191216/guppy_3.2.2_12_16_19_run_01_exec_20200107/sw/fastq_runid_897cd225d1c3eef2d8da014b83aad9fb76f55a5f_26_3.tsv\n",
      "[13:27:36 - __main__] Starting fastq (108 of 405)\n",
      "\t/path/to/data/MinION_sequencing_data_20191216/guppy_3.2.2_12_16_19_run_01_exec_20200107/pass/fastq_runid_897cd225d1c3eef2d8da014b83aad9fb76f55a5f_27_2.fastq\n"
     ]
    },
    {
     "name": "stdout",
     "output_type": "stream",
     "text": [
      "[########################################] | 100% Completed | 34.7s\n"
     ]
    },
    {
     "name": "stderr",
     "output_type": "stream",
     "text": [
      "[13:28:11 - __main__] Saving to file: /path/to/data/MinION_sequencing_data_20191216/guppy_3.2.2_12_16_19_run_01_exec_20200107/sw/fastq_runid_897cd225d1c3eef2d8da014b83aad9fb76f55a5f_27_2.tsv\n",
      "[13:28:11 - __main__] Starting fastq (109 of 405)\n",
      "\t/path/to/data/MinION_sequencing_data_20191216/guppy_3.2.2_12_16_19_run_01_exec_20200107/pass/fastq_runid_897cd225d1c3eef2d8da014b83aad9fb76f55a5f_28_0.fastq\n"
     ]
    },
    {
     "name": "stdout",
     "output_type": "stream",
     "text": [
      "[########################################] | 100% Completed | 42.5s\n"
     ]
    },
    {
     "name": "stderr",
     "output_type": "stream",
     "text": [
      "[13:28:54 - __main__] Saving to file: /path/to/data/MinION_sequencing_data_20191216/guppy_3.2.2_12_16_19_run_01_exec_20200107/sw/fastq_runid_897cd225d1c3eef2d8da014b83aad9fb76f55a5f_28_0.tsv\n",
      "[13:28:54 - __main__] Starting fastq (110 of 405)\n",
      "\t/path/to/data/MinION_sequencing_data_20191216/guppy_3.2.2_12_16_19_run_01_exec_20200107/pass/fastq_runid_897cd225d1c3eef2d8da014b83aad9fb76f55a5f_28_1.fastq\n"
     ]
    },
    {
     "name": "stdout",
     "output_type": "stream",
     "text": [
      "[########################################] | 100% Completed |  1min 14.7s\n"
     ]
    },
    {
     "name": "stderr",
     "output_type": "stream",
     "text": [
      "[13:30:09 - __main__] Saving to file: /path/to/data/MinION_sequencing_data_20191216/guppy_3.2.2_12_16_19_run_01_exec_20200107/sw/fastq_runid_897cd225d1c3eef2d8da014b83aad9fb76f55a5f_28_1.tsv\n",
      "[13:30:09 - __main__] Starting fastq (111 of 405)\n",
      "\t/path/to/data/MinION_sequencing_data_20191216/guppy_3.2.2_12_16_19_run_01_exec_20200107/pass/fastq_runid_897cd225d1c3eef2d8da014b83aad9fb76f55a5f_28_2.fastq\n"
     ]
    },
    {
     "name": "stdout",
     "output_type": "stream",
     "text": [
      "[########################################] | 100% Completed | 21.4s\n"
     ]
    },
    {
     "name": "stderr",
     "output_type": "stream",
     "text": [
      "[13:30:31 - __main__] Saving to file: /path/to/data/MinION_sequencing_data_20191216/guppy_3.2.2_12_16_19_run_01_exec_20200107/sw/fastq_runid_897cd225d1c3eef2d8da014b83aad9fb76f55a5f_28_2.tsv\n",
      "[13:30:31 - __main__] Starting fastq (112 of 405)\n",
      "\t/path/to/data/MinION_sequencing_data_20191216/guppy_3.2.2_12_16_19_run_01_exec_20200107/pass/fastq_runid_897cd225d1c3eef2d8da014b83aad9fb76f55a5f_29_0.fastq\n"
     ]
    },
    {
     "name": "stdout",
     "output_type": "stream",
     "text": [
      "[########################################] | 100% Completed |  1min  0.3s\n"
     ]
    },
    {
     "name": "stderr",
     "output_type": "stream",
     "text": [
      "[13:31:31 - __main__] Saving to file: /path/to/data/MinION_sequencing_data_20191216/guppy_3.2.2_12_16_19_run_01_exec_20200107/sw/fastq_runid_897cd225d1c3eef2d8da014b83aad9fb76f55a5f_29_0.tsv\n",
      "[13:31:31 - __main__] Starting fastq (113 of 405)\n",
      "\t/path/to/data/MinION_sequencing_data_20191216/guppy_3.2.2_12_16_19_run_01_exec_20200107/pass/fastq_runid_897cd225d1c3eef2d8da014b83aad9fb76f55a5f_27_3.fastq\n"
     ]
    },
    {
     "name": "stdout",
     "output_type": "stream",
     "text": [
      "[########################################] | 100% Completed |  1.0s\n"
     ]
    },
    {
     "name": "stderr",
     "output_type": "stream",
     "text": [
      "[13:31:33 - __main__] Saving to file: /path/to/data/MinION_sequencing_data_20191216/guppy_3.2.2_12_16_19_run_01_exec_20200107/sw/fastq_runid_897cd225d1c3eef2d8da014b83aad9fb76f55a5f_27_3.tsv\n",
      "[13:31:33 - __main__] Starting fastq (114 of 405)\n",
      "\t/path/to/data/MinION_sequencing_data_20191216/guppy_3.2.2_12_16_19_run_01_exec_20200107/pass/fastq_runid_897cd225d1c3eef2d8da014b83aad9fb76f55a5f_28_3.fastq\n"
     ]
    },
    {
     "name": "stdout",
     "output_type": "stream",
     "text": [
      "[########################################] | 100% Completed |  6.0s\n"
     ]
    },
    {
     "name": "stderr",
     "output_type": "stream",
     "text": [
      "[13:31:39 - __main__] Saving to file: /path/to/data/MinION_sequencing_data_20191216/guppy_3.2.2_12_16_19_run_01_exec_20200107/sw/fastq_runid_897cd225d1c3eef2d8da014b83aad9fb76f55a5f_28_3.tsv\n",
      "[13:31:39 - __main__] Starting fastq (115 of 405)\n",
      "\t/path/to/data/MinION_sequencing_data_20191216/guppy_3.2.2_12_16_19_run_01_exec_20200107/pass/fastq_runid_897cd225d1c3eef2d8da014b83aad9fb76f55a5f_29_1.fastq\n"
     ]
    },
    {
     "name": "stdout",
     "output_type": "stream",
     "text": [
      "[########################################] | 100% Completed | 41.7s\n"
     ]
    },
    {
     "name": "stderr",
     "output_type": "stream",
     "text": [
      "[13:32:21 - __main__] Saving to file: /path/to/data/MinION_sequencing_data_20191216/guppy_3.2.2_12_16_19_run_01_exec_20200107/sw/fastq_runid_897cd225d1c3eef2d8da014b83aad9fb76f55a5f_29_1.tsv\n",
      "[13:32:21 - __main__] Starting fastq (116 of 405)\n",
      "\t/path/to/data/MinION_sequencing_data_20191216/guppy_3.2.2_12_16_19_run_01_exec_20200107/pass/fastq_runid_897cd225d1c3eef2d8da014b83aad9fb76f55a5f_29_2.fastq\n"
     ]
    },
    {
     "name": "stdout",
     "output_type": "stream",
     "text": [
      "[########################################] | 100% Completed | 39.7s\n"
     ]
    },
    {
     "name": "stderr",
     "output_type": "stream",
     "text": [
      "[13:33:01 - __main__] Saving to file: /path/to/data/MinION_sequencing_data_20191216/guppy_3.2.2_12_16_19_run_01_exec_20200107/sw/fastq_runid_897cd225d1c3eef2d8da014b83aad9fb76f55a5f_29_2.tsv\n",
      "[13:33:01 - __main__] Starting fastq (117 of 405)\n",
      "\t/path/to/data/MinION_sequencing_data_20191216/guppy_3.2.2_12_16_19_run_01_exec_20200107/pass/fastq_runid_897cd225d1c3eef2d8da014b83aad9fb76f55a5f_30_0.fastq\n"
     ]
    },
    {
     "name": "stdout",
     "output_type": "stream",
     "text": [
      "[########################################] | 100% Completed | 42.9s\n"
     ]
    },
    {
     "name": "stderr",
     "output_type": "stream",
     "text": [
      "[13:33:44 - __main__] Saving to file: /path/to/data/MinION_sequencing_data_20191216/guppy_3.2.2_12_16_19_run_01_exec_20200107/sw/fastq_runid_897cd225d1c3eef2d8da014b83aad9fb76f55a5f_30_0.tsv\n",
      "[13:33:44 - __main__] Starting fastq (118 of 405)\n",
      "\t/path/to/data/MinION_sequencing_data_20191216/guppy_3.2.2_12_16_19_run_01_exec_20200107/pass/fastq_runid_897cd225d1c3eef2d8da014b83aad9fb76f55a5f_30_1.fastq\n"
     ]
    },
    {
     "name": "stdout",
     "output_type": "stream",
     "text": [
      "[########################################] | 100% Completed |  1min 26.2s\n"
     ]
    },
    {
     "name": "stderr",
     "output_type": "stream",
     "text": [
      "[13:35:11 - __main__] Saving to file: /path/to/data/MinION_sequencing_data_20191216/guppy_3.2.2_12_16_19_run_01_exec_20200107/sw/fastq_runid_897cd225d1c3eef2d8da014b83aad9fb76f55a5f_30_1.tsv\n",
      "[13:35:11 - __main__] Starting fastq (119 of 405)\n",
      "\t/path/to/data/MinION_sequencing_data_20191216/guppy_3.2.2_12_16_19_run_01_exec_20200107/pass/fastq_runid_897cd225d1c3eef2d8da014b83aad9fb76f55a5f_30_2.fastq\n"
     ]
    },
    {
     "name": "stdout",
     "output_type": "stream",
     "text": [
      "[########################################] | 100% Completed |  7.9s\n"
     ]
    },
    {
     "name": "stderr",
     "output_type": "stream",
     "text": [
      "[13:35:19 - __main__] Saving to file: /path/to/data/MinION_sequencing_data_20191216/guppy_3.2.2_12_16_19_run_01_exec_20200107/sw/fastq_runid_897cd225d1c3eef2d8da014b83aad9fb76f55a5f_30_2.tsv\n",
      "[13:35:19 - __main__] Starting fastq (120 of 405)\n",
      "\t/path/to/data/MinION_sequencing_data_20191216/guppy_3.2.2_12_16_19_run_01_exec_20200107/pass/fastq_runid_897cd225d1c3eef2d8da014b83aad9fb76f55a5f_30_3.fastq\n"
     ]
    },
    {
     "name": "stdout",
     "output_type": "stream",
     "text": [
      "[########################################] | 100% Completed |  1.8s\n"
     ]
    },
    {
     "name": "stderr",
     "output_type": "stream",
     "text": [
      "[13:35:21 - __main__] Saving to file: /path/to/data/MinION_sequencing_data_20191216/guppy_3.2.2_12_16_19_run_01_exec_20200107/sw/fastq_runid_897cd225d1c3eef2d8da014b83aad9fb76f55a5f_30_3.tsv\n",
      "[13:35:21 - __main__] Starting fastq (121 of 405)\n",
      "\t/path/to/data/MinION_sequencing_data_20191216/guppy_3.2.2_12_16_19_run_01_exec_20200107/pass/fastq_runid_897cd225d1c3eef2d8da014b83aad9fb76f55a5f_31_0.fastq\n"
     ]
    },
    {
     "name": "stdout",
     "output_type": "stream",
     "text": [
      "[########################################] | 100% Completed | 41.5s\n"
     ]
    },
    {
     "name": "stderr",
     "output_type": "stream",
     "text": [
      "[13:36:03 - __main__] Saving to file: /path/to/data/MinION_sequencing_data_20191216/guppy_3.2.2_12_16_19_run_01_exec_20200107/sw/fastq_runid_897cd225d1c3eef2d8da014b83aad9fb76f55a5f_31_0.tsv\n",
      "[13:36:03 - __main__] Starting fastq (122 of 405)\n",
      "\t/path/to/data/MinION_sequencing_data_20191216/guppy_3.2.2_12_16_19_run_01_exec_20200107/pass/fastq_runid_897cd225d1c3eef2d8da014b83aad9fb76f55a5f_31_1.fastq\n"
     ]
    },
    {
     "name": "stdout",
     "output_type": "stream",
     "text": [
      "[########################################] | 100% Completed |  1min 15.7s\n"
     ]
    },
    {
     "name": "stderr",
     "output_type": "stream",
     "text": [
      "[13:37:19 - __main__] Saving to file: /path/to/data/MinION_sequencing_data_20191216/guppy_3.2.2_12_16_19_run_01_exec_20200107/sw/fastq_runid_897cd225d1c3eef2d8da014b83aad9fb76f55a5f_31_1.tsv\n",
      "[13:37:19 - __main__] Starting fastq (123 of 405)\n",
      "\t/path/to/data/MinION_sequencing_data_20191216/guppy_3.2.2_12_16_19_run_01_exec_20200107/pass/fastq_runid_897cd225d1c3eef2d8da014b83aad9fb76f55a5f_29_3.fastq\n"
     ]
    },
    {
     "name": "stdout",
     "output_type": "stream",
     "text": [
      "[########################################] | 100% Completed |  1.0s\n"
     ]
    },
    {
     "name": "stderr",
     "output_type": "stream",
     "text": [
      "[13:37:21 - __main__] Saving to file: /path/to/data/MinION_sequencing_data_20191216/guppy_3.2.2_12_16_19_run_01_exec_20200107/sw/fastq_runid_897cd225d1c3eef2d8da014b83aad9fb76f55a5f_29_3.tsv\n",
      "[13:37:21 - __main__] Starting fastq (124 of 405)\n",
      "\t/path/to/data/MinION_sequencing_data_20191216/guppy_3.2.2_12_16_19_run_01_exec_20200107/pass/fastq_runid_897cd225d1c3eef2d8da014b83aad9fb76f55a5f_31_2.fastq\n"
     ]
    },
    {
     "name": "stdout",
     "output_type": "stream",
     "text": [
      "[########################################] | 100% Completed | 19.3s\n"
     ]
    },
    {
     "name": "stderr",
     "output_type": "stream",
     "text": [
      "[13:37:40 - __main__] Saving to file: /path/to/data/MinION_sequencing_data_20191216/guppy_3.2.2_12_16_19_run_01_exec_20200107/sw/fastq_runid_897cd225d1c3eef2d8da014b83aad9fb76f55a5f_31_2.tsv\n",
      "[13:37:40 - __main__] Starting fastq (125 of 405)\n",
      "\t/path/to/data/MinION_sequencing_data_20191216/guppy_3.2.2_12_16_19_run_01_exec_20200107/pass/fastq_runid_897cd225d1c3eef2d8da014b83aad9fb76f55a5f_32_0.fastq\n"
     ]
    },
    {
     "name": "stdout",
     "output_type": "stream",
     "text": [
      "[########################################] | 100% Completed |  1min  4.5s\n"
     ]
    },
    {
     "name": "stderr",
     "output_type": "stream",
     "text": [
      "[13:38:45 - __main__] Saving to file: /path/to/data/MinION_sequencing_data_20191216/guppy_3.2.2_12_16_19_run_01_exec_20200107/sw/fastq_runid_897cd225d1c3eef2d8da014b83aad9fb76f55a5f_32_0.tsv\n",
      "[13:38:45 - __main__] Starting fastq (126 of 405)\n",
      "\t/path/to/data/MinION_sequencing_data_20191216/guppy_3.2.2_12_16_19_run_01_exec_20200107/pass/fastq_runid_897cd225d1c3eef2d8da014b83aad9fb76f55a5f_32_1.fastq\n"
     ]
    },
    {
     "name": "stdout",
     "output_type": "stream",
     "text": [
      "[########################################] | 100% Completed | 22.1s\n"
     ]
    },
    {
     "name": "stderr",
     "output_type": "stream",
     "text": [
      "[13:39:08 - __main__] Saving to file: /path/to/data/MinION_sequencing_data_20191216/guppy_3.2.2_12_16_19_run_01_exec_20200107/sw/fastq_runid_897cd225d1c3eef2d8da014b83aad9fb76f55a5f_32_1.tsv\n",
      "[13:39:08 - __main__] Starting fastq (127 of 405)\n",
      "\t/path/to/data/MinION_sequencing_data_20191216/guppy_3.2.2_12_16_19_run_01_exec_20200107/pass/fastq_runid_897cd225d1c3eef2d8da014b83aad9fb76f55a5f_32_2.fastq\n"
     ]
    },
    {
     "name": "stdout",
     "output_type": "stream",
     "text": [
      "[########################################] | 100% Completed | 57.5s\n"
     ]
    },
    {
     "name": "stderr",
     "output_type": "stream",
     "text": [
      "[13:40:05 - __main__] Saving to file: /path/to/data/MinION_sequencing_data_20191216/guppy_3.2.2_12_16_19_run_01_exec_20200107/sw/fastq_runid_897cd225d1c3eef2d8da014b83aad9fb76f55a5f_32_2.tsv\n",
      "[13:40:06 - __main__] Starting fastq (128 of 405)\n",
      "\t/path/to/data/MinION_sequencing_data_20191216/guppy_3.2.2_12_16_19_run_01_exec_20200107/pass/fastq_runid_897cd225d1c3eef2d8da014b83aad9fb76f55a5f_31_3.fastq\n"
     ]
    },
    {
     "name": "stdout",
     "output_type": "stream",
     "text": [
      "[########################################] | 100% Completed |  5.0s\n"
     ]
    },
    {
     "name": "stderr",
     "output_type": "stream",
     "text": [
      "[13:40:11 - __main__] Saving to file: /path/to/data/MinION_sequencing_data_20191216/guppy_3.2.2_12_16_19_run_01_exec_20200107/sw/fastq_runid_897cd225d1c3eef2d8da014b83aad9fb76f55a5f_31_3.tsv\n",
      "[13:40:11 - __main__] Starting fastq (129 of 405)\n",
      "\t/path/to/data/MinION_sequencing_data_20191216/guppy_3.2.2_12_16_19_run_01_exec_20200107/pass/fastq_runid_897cd225d1c3eef2d8da014b83aad9fb76f55a5f_33_0.fastq\n"
     ]
    },
    {
     "name": "stdout",
     "output_type": "stream",
     "text": [
      "[########################################] | 100% Completed |  1min 19.5s\n"
     ]
    },
    {
     "name": "stderr",
     "output_type": "stream",
     "text": [
      "[13:41:31 - __main__] Saving to file: /path/to/data/MinION_sequencing_data_20191216/guppy_3.2.2_12_16_19_run_01_exec_20200107/sw/fastq_runid_897cd225d1c3eef2d8da014b83aad9fb76f55a5f_33_0.tsv\n",
      "[13:41:31 - __main__] Starting fastq (130 of 405)\n",
      "\t/path/to/data/MinION_sequencing_data_20191216/guppy_3.2.2_12_16_19_run_01_exec_20200107/pass/fastq_runid_897cd225d1c3eef2d8da014b83aad9fb76f55a5f_33_1.fastq\n"
     ]
    },
    {
     "name": "stdout",
     "output_type": "stream",
     "text": [
      "[########################################] | 100% Completed | 18.5s\n"
     ]
    },
    {
     "name": "stderr",
     "output_type": "stream",
     "text": [
      "[13:41:50 - __main__] Saving to file: /path/to/data/MinION_sequencing_data_20191216/guppy_3.2.2_12_16_19_run_01_exec_20200107/sw/fastq_runid_897cd225d1c3eef2d8da014b83aad9fb76f55a5f_33_1.tsv\n",
      "[13:41:50 - __main__] Starting fastq (131 of 405)\n",
      "\t/path/to/data/MinION_sequencing_data_20191216/guppy_3.2.2_12_16_19_run_01_exec_20200107/pass/fastq_runid_897cd225d1c3eef2d8da014b83aad9fb76f55a5f_33_2.fastq\n"
     ]
    },
    {
     "name": "stdout",
     "output_type": "stream",
     "text": [
      "[########################################] | 100% Completed | 26.8s\n"
     ]
    },
    {
     "name": "stderr",
     "output_type": "stream",
     "text": [
      "[13:42:17 - __main__] Saving to file: /path/to/data/MinION_sequencing_data_20191216/guppy_3.2.2_12_16_19_run_01_exec_20200107/sw/fastq_runid_897cd225d1c3eef2d8da014b83aad9fb76f55a5f_33_2.tsv\n",
      "[13:42:17 - __main__] Starting fastq (132 of 405)\n",
      "\t/path/to/data/MinION_sequencing_data_20191216/guppy_3.2.2_12_16_19_run_01_exec_20200107/pass/fastq_runid_897cd225d1c3eef2d8da014b83aad9fb76f55a5f_33_3.fastq\n"
     ]
    },
    {
     "name": "stdout",
     "output_type": "stream",
     "text": [
      "[########################################] | 100% Completed | 22.6s\n"
     ]
    },
    {
     "name": "stderr",
     "output_type": "stream",
     "text": [
      "[13:42:40 - __main__] Saving to file: /path/to/data/MinION_sequencing_data_20191216/guppy_3.2.2_12_16_19_run_01_exec_20200107/sw/fastq_runid_897cd225d1c3eef2d8da014b83aad9fb76f55a5f_33_3.tsv\n",
      "[13:42:40 - __main__] Starting fastq (133 of 405)\n",
      "\t/path/to/data/MinION_sequencing_data_20191216/guppy_3.2.2_12_16_19_run_01_exec_20200107/pass/fastq_runid_897cd225d1c3eef2d8da014b83aad9fb76f55a5f_34_0.fastq\n"
     ]
    },
    {
     "name": "stdout",
     "output_type": "stream",
     "text": [
      "[########################################] | 100% Completed | 57.4s\n"
     ]
    },
    {
     "name": "stderr",
     "output_type": "stream",
     "text": [
      "[13:43:37 - __main__] Saving to file: /path/to/data/MinION_sequencing_data_20191216/guppy_3.2.2_12_16_19_run_01_exec_20200107/sw/fastq_runid_897cd225d1c3eef2d8da014b83aad9fb76f55a5f_34_0.tsv\n",
      "[13:43:38 - __main__] Starting fastq (134 of 405)\n",
      "\t/path/to/data/MinION_sequencing_data_20191216/guppy_3.2.2_12_16_19_run_01_exec_20200107/pass/fastq_runid_897cd225d1c3eef2d8da014b83aad9fb76f55a5f_34_1.fastq\n"
     ]
    },
    {
     "name": "stdout",
     "output_type": "stream",
     "text": [
      "[########################################] | 100% Completed |  1min  0.3s\n"
     ]
    },
    {
     "name": "stderr",
     "output_type": "stream",
     "text": [
      "[13:44:38 - __main__] Saving to file: /path/to/data/MinION_sequencing_data_20191216/guppy_3.2.2_12_16_19_run_01_exec_20200107/sw/fastq_runid_897cd225d1c3eef2d8da014b83aad9fb76f55a5f_34_1.tsv\n",
      "[13:44:38 - __main__] Starting fastq (135 of 405)\n",
      "\t/path/to/data/MinION_sequencing_data_20191216/guppy_3.2.2_12_16_19_run_01_exec_20200107/pass/fastq_runid_897cd225d1c3eef2d8da014b83aad9fb76f55a5f_34_2.fastq\n"
     ]
    },
    {
     "name": "stdout",
     "output_type": "stream",
     "text": [
      "[########################################] | 100% Completed |  3.4s\n"
     ]
    },
    {
     "name": "stderr",
     "output_type": "stream",
     "text": [
      "[13:44:42 - __main__] Saving to file: /path/to/data/MinION_sequencing_data_20191216/guppy_3.2.2_12_16_19_run_01_exec_20200107/sw/fastq_runid_897cd225d1c3eef2d8da014b83aad9fb76f55a5f_34_2.tsv\n",
      "[13:44:42 - __main__] Starting fastq (136 of 405)\n",
      "\t/path/to/data/MinION_sequencing_data_20191216/guppy_3.2.2_12_16_19_run_01_exec_20200107/pass/fastq_runid_897cd225d1c3eef2d8da014b83aad9fb76f55a5f_35_0.fastq\n"
     ]
    },
    {
     "name": "stdout",
     "output_type": "stream",
     "text": [
      "[########################################] | 100% Completed |  1min  5.4s\n"
     ]
    },
    {
     "name": "stderr",
     "output_type": "stream",
     "text": [
      "[13:45:48 - __main__] Saving to file: /path/to/data/MinION_sequencing_data_20191216/guppy_3.2.2_12_16_19_run_01_exec_20200107/sw/fastq_runid_897cd225d1c3eef2d8da014b83aad9fb76f55a5f_35_0.tsv\n",
      "[13:45:48 - __main__] Starting fastq (137 of 405)\n",
      "\t/path/to/data/MinION_sequencing_data_20191216/guppy_3.2.2_12_16_19_run_01_exec_20200107/pass/fastq_runid_897cd225d1c3eef2d8da014b83aad9fb76f55a5f_34_3.fastq\n"
     ]
    },
    {
     "name": "stdout",
     "output_type": "stream",
     "text": [
      "[########################################] | 100% Completed | 28.2s\n"
     ]
    },
    {
     "name": "stderr",
     "output_type": "stream",
     "text": [
      "[13:46:16 - __main__] Saving to file: /path/to/data/MinION_sequencing_data_20191216/guppy_3.2.2_12_16_19_run_01_exec_20200107/sw/fastq_runid_897cd225d1c3eef2d8da014b83aad9fb76f55a5f_34_3.tsv\n",
      "[13:46:16 - __main__] Starting fastq (138 of 405)\n",
      "\t/path/to/data/MinION_sequencing_data_20191216/guppy_3.2.2_12_16_19_run_01_exec_20200107/pass/fastq_runid_897cd225d1c3eef2d8da014b83aad9fb76f55a5f_35_1.fastq\n"
     ]
    },
    {
     "name": "stdout",
     "output_type": "stream",
     "text": [
      "[########################################] | 100% Completed | 44.4s\n"
     ]
    },
    {
     "name": "stderr",
     "output_type": "stream",
     "text": [
      "[13:47:01 - __main__] Saving to file: /path/to/data/MinION_sequencing_data_20191216/guppy_3.2.2_12_16_19_run_01_exec_20200107/sw/fastq_runid_897cd225d1c3eef2d8da014b83aad9fb76f55a5f_35_1.tsv\n",
      "[13:47:01 - __main__] Starting fastq (139 of 405)\n",
      "\t/path/to/data/MinION_sequencing_data_20191216/guppy_3.2.2_12_16_19_run_01_exec_20200107/pass/fastq_runid_897cd225d1c3eef2d8da014b83aad9fb76f55a5f_35_2.fastq\n"
     ]
    },
    {
     "name": "stdout",
     "output_type": "stream",
     "text": [
      "[########################################] | 100% Completed | 26.0s\n"
     ]
    },
    {
     "name": "stderr",
     "output_type": "stream",
     "text": [
      "[13:47:27 - __main__] Saving to file: /path/to/data/MinION_sequencing_data_20191216/guppy_3.2.2_12_16_19_run_01_exec_20200107/sw/fastq_runid_897cd225d1c3eef2d8da014b83aad9fb76f55a5f_35_2.tsv\n",
      "[13:47:27 - __main__] Starting fastq (140 of 405)\n",
      "\t/path/to/data/MinION_sequencing_data_20191216/guppy_3.2.2_12_16_19_run_01_exec_20200107/pass/fastq_runid_897cd225d1c3eef2d8da014b83aad9fb76f55a5f_36_0.fastq\n"
     ]
    },
    {
     "name": "stdout",
     "output_type": "stream",
     "text": [
      "[########################################] | 100% Completed | 47.6s\n"
     ]
    },
    {
     "name": "stderr",
     "output_type": "stream",
     "text": [
      "[13:48:15 - __main__] Saving to file: /path/to/data/MinION_sequencing_data_20191216/guppy_3.2.2_12_16_19_run_01_exec_20200107/sw/fastq_runid_897cd225d1c3eef2d8da014b83aad9fb76f55a5f_36_0.tsv\n",
      "[13:48:15 - __main__] Starting fastq (141 of 405)\n",
      "\t/path/to/data/MinION_sequencing_data_20191216/guppy_3.2.2_12_16_19_run_01_exec_20200107/pass/fastq_runid_897cd225d1c3eef2d8da014b83aad9fb76f55a5f_36_1.fastq\n"
     ]
    },
    {
     "name": "stdout",
     "output_type": "stream",
     "text": [
      "[########################################] | 100% Completed | 31.6s\n"
     ]
    },
    {
     "name": "stderr",
     "output_type": "stream",
     "text": [
      "[13:48:47 - __main__] Saving to file: /path/to/data/MinION_sequencing_data_20191216/guppy_3.2.2_12_16_19_run_01_exec_20200107/sw/fastq_runid_897cd225d1c3eef2d8da014b83aad9fb76f55a5f_36_1.tsv\n",
      "[13:48:47 - __main__] Starting fastq (142 of 405)\n",
      "\t/path/to/data/MinION_sequencing_data_20191216/guppy_3.2.2_12_16_19_run_01_exec_20200107/pass/fastq_runid_897cd225d1c3eef2d8da014b83aad9fb76f55a5f_35_3.fastq\n"
     ]
    },
    {
     "name": "stdout",
     "output_type": "stream",
     "text": [
      "[########################################] | 100% Completed |  8.8s\n"
     ]
    },
    {
     "name": "stderr",
     "output_type": "stream",
     "text": [
      "[13:48:56 - __main__] Saving to file: /path/to/data/MinION_sequencing_data_20191216/guppy_3.2.2_12_16_19_run_01_exec_20200107/sw/fastq_runid_897cd225d1c3eef2d8da014b83aad9fb76f55a5f_35_3.tsv\n",
      "[13:48:56 - __main__] Starting fastq (143 of 405)\n",
      "\t/path/to/data/MinION_sequencing_data_20191216/guppy_3.2.2_12_16_19_run_01_exec_20200107/pass/fastq_runid_897cd225d1c3eef2d8da014b83aad9fb76f55a5f_36_2.fastq\n"
     ]
    },
    {
     "name": "stdout",
     "output_type": "stream",
     "text": [
      "[########################################] | 100% Completed | 38.6s\n"
     ]
    },
    {
     "name": "stderr",
     "output_type": "stream",
     "text": [
      "[13:49:35 - __main__] Saving to file: /path/to/data/MinION_sequencing_data_20191216/guppy_3.2.2_12_16_19_run_01_exec_20200107/sw/fastq_runid_897cd225d1c3eef2d8da014b83aad9fb76f55a5f_36_2.tsv\n",
      "[13:49:35 - __main__] Starting fastq (144 of 405)\n",
      "\t/path/to/data/MinION_sequencing_data_20191216/guppy_3.2.2_12_16_19_run_01_exec_20200107/pass/fastq_runid_897cd225d1c3eef2d8da014b83aad9fb76f55a5f_36_3.fastq\n"
     ]
    },
    {
     "name": "stdout",
     "output_type": "stream",
     "text": [
      "[########################################] | 100% Completed | 26.5s\n"
     ]
    },
    {
     "name": "stderr",
     "output_type": "stream",
     "text": [
      "[13:50:02 - __main__] Saving to file: /path/to/data/MinION_sequencing_data_20191216/guppy_3.2.2_12_16_19_run_01_exec_20200107/sw/fastq_runid_897cd225d1c3eef2d8da014b83aad9fb76f55a5f_36_3.tsv\n",
      "[13:50:02 - __main__] Starting fastq (145 of 405)\n",
      "\t/path/to/data/MinION_sequencing_data_20191216/guppy_3.2.2_12_16_19_run_01_exec_20200107/pass/fastq_runid_897cd225d1c3eef2d8da014b83aad9fb76f55a5f_37_0.fastq\n"
     ]
    },
    {
     "name": "stdout",
     "output_type": "stream",
     "text": [
      "[########################################] | 100% Completed | 41.7s\n"
     ]
    },
    {
     "name": "stderr",
     "output_type": "stream",
     "text": [
      "[13:50:44 - __main__] Saving to file: /path/to/data/MinION_sequencing_data_20191216/guppy_3.2.2_12_16_19_run_01_exec_20200107/sw/fastq_runid_897cd225d1c3eef2d8da014b83aad9fb76f55a5f_37_0.tsv\n",
      "[13:50:44 - __main__] Starting fastq (146 of 405)\n",
      "\t/path/to/data/MinION_sequencing_data_20191216/guppy_3.2.2_12_16_19_run_01_exec_20200107/pass/fastq_runid_897cd225d1c3eef2d8da014b83aad9fb76f55a5f_37_1.fastq\n"
     ]
    },
    {
     "name": "stdout",
     "output_type": "stream",
     "text": [
      "[########################################] | 100% Completed | 55.7s\n"
     ]
    },
    {
     "name": "stderr",
     "output_type": "stream",
     "text": [
      "[13:51:40 - __main__] Saving to file: /path/to/data/MinION_sequencing_data_20191216/guppy_3.2.2_12_16_19_run_01_exec_20200107/sw/fastq_runid_897cd225d1c3eef2d8da014b83aad9fb76f55a5f_37_1.tsv\n",
      "[13:51:40 - __main__] Starting fastq (147 of 405)\n",
      "\t/path/to/data/MinION_sequencing_data_20191216/guppy_3.2.2_12_16_19_run_01_exec_20200107/pass/fastq_runid_897cd225d1c3eef2d8da014b83aad9fb76f55a5f_37_2.fastq\n"
     ]
    },
    {
     "name": "stdout",
     "output_type": "stream",
     "text": [
      "[########################################] | 100% Completed | 33.6s\n"
     ]
    },
    {
     "name": "stderr",
     "output_type": "stream",
     "text": [
      "[13:52:14 - __main__] Saving to file: /path/to/data/MinION_sequencing_data_20191216/guppy_3.2.2_12_16_19_run_01_exec_20200107/sw/fastq_runid_897cd225d1c3eef2d8da014b83aad9fb76f55a5f_37_2.tsv\n",
      "[13:52:14 - __main__] Starting fastq (148 of 405)\n",
      "\t/path/to/data/MinION_sequencing_data_20191216/guppy_3.2.2_12_16_19_run_01_exec_20200107/pass/fastq_runid_897cd225d1c3eef2d8da014b83aad9fb76f55a5f_37_3.fastq\n"
     ]
    },
    {
     "name": "stdout",
     "output_type": "stream",
     "text": [
      "[########################################] | 100% Completed | 14.5s\n"
     ]
    },
    {
     "name": "stderr",
     "output_type": "stream",
     "text": [
      "[13:52:29 - __main__] Saving to file: /path/to/data/MinION_sequencing_data_20191216/guppy_3.2.2_12_16_19_run_01_exec_20200107/sw/fastq_runid_897cd225d1c3eef2d8da014b83aad9fb76f55a5f_37_3.tsv\n",
      "[13:52:29 - __main__] Starting fastq (149 of 405)\n",
      "\t/path/to/data/MinION_sequencing_data_20191216/guppy_3.2.2_12_16_19_run_01_exec_20200107/pass/fastq_runid_897cd225d1c3eef2d8da014b83aad9fb76f55a5f_38_0.fastq\n"
     ]
    },
    {
     "name": "stdout",
     "output_type": "stream",
     "text": [
      "[########################################] | 100% Completed | 14.0s\n"
     ]
    },
    {
     "name": "stderr",
     "output_type": "stream",
     "text": [
      "[13:52:44 - __main__] Saving to file: /path/to/data/MinION_sequencing_data_20191216/guppy_3.2.2_12_16_19_run_01_exec_20200107/sw/fastq_runid_897cd225d1c3eef2d8da014b83aad9fb76f55a5f_38_0.tsv\n",
      "[13:52:44 - __main__] Starting fastq (150 of 405)\n",
      "\t/path/to/data/MinION_sequencing_data_20191216/guppy_3.2.2_12_16_19_run_01_exec_20200107/pass/fastq_runid_897cd225d1c3eef2d8da014b83aad9fb76f55a5f_38_1.fastq\n"
     ]
    },
    {
     "name": "stdout",
     "output_type": "stream",
     "text": [
      "[########################################] | 100% Completed | 34.6s\n"
     ]
    },
    {
     "name": "stderr",
     "output_type": "stream",
     "text": [
      "[13:53:18 - __main__] Saving to file: /path/to/data/MinION_sequencing_data_20191216/guppy_3.2.2_12_16_19_run_01_exec_20200107/sw/fastq_runid_897cd225d1c3eef2d8da014b83aad9fb76f55a5f_38_1.tsv\n",
      "[13:53:19 - __main__] Starting fastq (151 of 405)\n",
      "\t/path/to/data/MinION_sequencing_data_20191216/guppy_3.2.2_12_16_19_run_01_exec_20200107/pass/fastq_runid_897cd225d1c3eef2d8da014b83aad9fb76f55a5f_38_2.fastq\n"
     ]
    },
    {
     "name": "stdout",
     "output_type": "stream",
     "text": [
      "[########################################] | 100% Completed | 41.0s\n"
     ]
    },
    {
     "name": "stderr",
     "output_type": "stream",
     "text": [
      "[13:54:00 - __main__] Saving to file: /path/to/data/MinION_sequencing_data_20191216/guppy_3.2.2_12_16_19_run_01_exec_20200107/sw/fastq_runid_897cd225d1c3eef2d8da014b83aad9fb76f55a5f_38_2.tsv\n",
      "[13:54:00 - __main__] Starting fastq (152 of 405)\n",
      "\t/path/to/data/MinION_sequencing_data_20191216/guppy_3.2.2_12_16_19_run_01_exec_20200107/pass/fastq_runid_897cd225d1c3eef2d8da014b83aad9fb76f55a5f_39_0.fastq\n"
     ]
    },
    {
     "name": "stdout",
     "output_type": "stream",
     "text": [
      "[########################################] | 100% Completed |  1min 23.0s\n"
     ]
    },
    {
     "name": "stderr",
     "output_type": "stream",
     "text": [
      "[13:55:23 - __main__] Saving to file: /path/to/data/MinION_sequencing_data_20191216/guppy_3.2.2_12_16_19_run_01_exec_20200107/sw/fastq_runid_897cd225d1c3eef2d8da014b83aad9fb76f55a5f_39_0.tsv\n",
      "[13:55:24 - __main__] Starting fastq (153 of 405)\n",
      "\t/path/to/data/MinION_sequencing_data_20191216/guppy_3.2.2_12_16_19_run_01_exec_20200107/pass/fastq_runid_897cd225d1c3eef2d8da014b83aad9fb76f55a5f_38_3.fastq\n"
     ]
    },
    {
     "name": "stdout",
     "output_type": "stream",
     "text": [
      "[########################################] | 100% Completed | 56.2s\n"
     ]
    },
    {
     "name": "stderr",
     "output_type": "stream",
     "text": [
      "[13:56:20 - __main__] Saving to file: /path/to/data/MinION_sequencing_data_20191216/guppy_3.2.2_12_16_19_run_01_exec_20200107/sw/fastq_runid_897cd225d1c3eef2d8da014b83aad9fb76f55a5f_38_3.tsv\n",
      "[13:56:20 - __main__] Starting fastq (154 of 405)\n",
      "\t/path/to/data/MinION_sequencing_data_20191216/guppy_3.2.2_12_16_19_run_01_exec_20200107/pass/fastq_runid_897cd225d1c3eef2d8da014b83aad9fb76f55a5f_39_1.fastq\n"
     ]
    },
    {
     "name": "stdout",
     "output_type": "stream",
     "text": [
      "[########################################] | 100% Completed | 17.2s\n"
     ]
    },
    {
     "name": "stderr",
     "output_type": "stream",
     "text": [
      "[13:56:38 - __main__] Saving to file: /path/to/data/MinION_sequencing_data_20191216/guppy_3.2.2_12_16_19_run_01_exec_20200107/sw/fastq_runid_897cd225d1c3eef2d8da014b83aad9fb76f55a5f_39_1.tsv\n",
      "[13:56:38 - __main__] Starting fastq (155 of 405)\n",
      "\t/path/to/data/MinION_sequencing_data_20191216/guppy_3.2.2_12_16_19_run_01_exec_20200107/pass/fastq_runid_897cd225d1c3eef2d8da014b83aad9fb76f55a5f_39_2.fastq\n"
     ]
    },
    {
     "name": "stdout",
     "output_type": "stream",
     "text": [
      "[########################################] | 100% Completed | 24.2s\n"
     ]
    },
    {
     "name": "stderr",
     "output_type": "stream",
     "text": [
      "[13:57:02 - __main__] Saving to file: /path/to/data/MinION_sequencing_data_20191216/guppy_3.2.2_12_16_19_run_01_exec_20200107/sw/fastq_runid_897cd225d1c3eef2d8da014b83aad9fb76f55a5f_39_2.tsv\n",
      "[13:57:02 - __main__] Starting fastq (156 of 405)\n",
      "\t/path/to/data/MinION_sequencing_data_20191216/guppy_3.2.2_12_16_19_run_01_exec_20200107/pass/fastq_runid_897cd225d1c3eef2d8da014b83aad9fb76f55a5f_40_0.fastq\n"
     ]
    },
    {
     "name": "stdout",
     "output_type": "stream",
     "text": [
      "[########################################] | 100% Completed |  1min  8.9s\n"
     ]
    },
    {
     "name": "stderr",
     "output_type": "stream",
     "text": [
      "[13:58:11 - __main__] Saving to file: /path/to/data/MinION_sequencing_data_20191216/guppy_3.2.2_12_16_19_run_01_exec_20200107/sw/fastq_runid_897cd225d1c3eef2d8da014b83aad9fb76f55a5f_40_0.tsv\n",
      "[13:58:12 - __main__] Starting fastq (157 of 405)\n",
      "\t/path/to/data/MinION_sequencing_data_20191216/guppy_3.2.2_12_16_19_run_01_exec_20200107/pass/fastq_runid_897cd225d1c3eef2d8da014b83aad9fb76f55a5f_40_1.fastq\n"
     ]
    },
    {
     "name": "stdout",
     "output_type": "stream",
     "text": [
      "[########################################] | 100% Completed | 56.3s\n"
     ]
    },
    {
     "name": "stderr",
     "output_type": "stream",
     "text": [
      "[13:59:08 - __main__] Saving to file: /path/to/data/MinION_sequencing_data_20191216/guppy_3.2.2_12_16_19_run_01_exec_20200107/sw/fastq_runid_897cd225d1c3eef2d8da014b83aad9fb76f55a5f_40_1.tsv\n",
      "[13:59:08 - __main__] Starting fastq (158 of 405)\n",
      "\t/path/to/data/MinION_sequencing_data_20191216/guppy_3.2.2_12_16_19_run_01_exec_20200107/pass/fastq_runid_897cd225d1c3eef2d8da014b83aad9fb76f55a5f_39_3.fastq\n"
     ]
    },
    {
     "name": "stdout",
     "output_type": "stream",
     "text": [
      "[########################################] | 100% Completed | 17.7s\n"
     ]
    },
    {
     "name": "stderr",
     "output_type": "stream",
     "text": [
      "[13:59:26 - __main__] Saving to file: /path/to/data/MinION_sequencing_data_20191216/guppy_3.2.2_12_16_19_run_01_exec_20200107/sw/fastq_runid_897cd225d1c3eef2d8da014b83aad9fb76f55a5f_39_3.tsv\n",
      "[13:59:26 - __main__] Starting fastq (159 of 405)\n",
      "\t/path/to/data/MinION_sequencing_data_20191216/guppy_3.2.2_12_16_19_run_01_exec_20200107/pass/fastq_runid_897cd225d1c3eef2d8da014b83aad9fb76f55a5f_40_2.fastq\n"
     ]
    },
    {
     "name": "stdout",
     "output_type": "stream",
     "text": [
      "[########################################] | 100% Completed | 16.8s\n"
     ]
    },
    {
     "name": "stderr",
     "output_type": "stream",
     "text": [
      "[13:59:44 - __main__] Saving to file: /path/to/data/MinION_sequencing_data_20191216/guppy_3.2.2_12_16_19_run_01_exec_20200107/sw/fastq_runid_897cd225d1c3eef2d8da014b83aad9fb76f55a5f_40_2.tsv\n",
      "[13:59:44 - __main__] Starting fastq (160 of 405)\n",
      "\t/path/to/data/MinION_sequencing_data_20191216/guppy_3.2.2_12_16_19_run_01_exec_20200107/pass/fastq_runid_897cd225d1c3eef2d8da014b83aad9fb76f55a5f_40_3.fastq\n"
     ]
    },
    {
     "name": "stdout",
     "output_type": "stream",
     "text": [
      "[########################################] | 100% Completed |  4.5s\n"
     ]
    },
    {
     "name": "stderr",
     "output_type": "stream",
     "text": [
      "[13:59:48 - __main__] Saving to file: /path/to/data/MinION_sequencing_data_20191216/guppy_3.2.2_12_16_19_run_01_exec_20200107/sw/fastq_runid_897cd225d1c3eef2d8da014b83aad9fb76f55a5f_40_3.tsv\n",
      "[13:59:48 - __main__] Starting fastq (161 of 405)\n",
      "\t/path/to/data/MinION_sequencing_data_20191216/guppy_3.2.2_12_16_19_run_01_exec_20200107/pass/fastq_runid_897cd225d1c3eef2d8da014b83aad9fb76f55a5f_41_0.fastq\n"
     ]
    },
    {
     "name": "stdout",
     "output_type": "stream",
     "text": [
      "[########################################] | 100% Completed | 56.0s\n"
     ]
    },
    {
     "name": "stderr",
     "output_type": "stream",
     "text": [
      "[14:00:45 - __main__] Saving to file: /path/to/data/MinION_sequencing_data_20191216/guppy_3.2.2_12_16_19_run_01_exec_20200107/sw/fastq_runid_897cd225d1c3eef2d8da014b83aad9fb76f55a5f_41_0.tsv\n",
      "[14:00:45 - __main__] Starting fastq (162 of 405)\n",
      "\t/path/to/data/MinION_sequencing_data_20191216/guppy_3.2.2_12_16_19_run_01_exec_20200107/pass/fastq_runid_897cd225d1c3eef2d8da014b83aad9fb76f55a5f_41_1.fastq\n"
     ]
    },
    {
     "name": "stdout",
     "output_type": "stream",
     "text": [
      "[########################################] | 100% Completed | 55.3s\n"
     ]
    },
    {
     "name": "stderr",
     "output_type": "stream",
     "text": [
      "[14:01:41 - __main__] Saving to file: /path/to/data/MinION_sequencing_data_20191216/guppy_3.2.2_12_16_19_run_01_exec_20200107/sw/fastq_runid_897cd225d1c3eef2d8da014b83aad9fb76f55a5f_41_1.tsv\n",
      "[14:01:41 - __main__] Starting fastq (163 of 405)\n",
      "\t/path/to/data/MinION_sequencing_data_20191216/guppy_3.2.2_12_16_19_run_01_exec_20200107/pass/fastq_runid_897cd225d1c3eef2d8da014b83aad9fb76f55a5f_41_2.fastq\n"
     ]
    },
    {
     "name": "stdout",
     "output_type": "stream",
     "text": [
      "[########################################] | 100% Completed | 34.6s\n"
     ]
    },
    {
     "name": "stderr",
     "output_type": "stream",
     "text": [
      "[14:02:16 - __main__] Saving to file: /path/to/data/MinION_sequencing_data_20191216/guppy_3.2.2_12_16_19_run_01_exec_20200107/sw/fastq_runid_897cd225d1c3eef2d8da014b83aad9fb76f55a5f_41_2.tsv\n",
      "[14:02:16 - __main__] Starting fastq (164 of 405)\n",
      "\t/path/to/data/MinION_sequencing_data_20191216/guppy_3.2.2_12_16_19_run_01_exec_20200107/pass/fastq_runid_897cd225d1c3eef2d8da014b83aad9fb76f55a5f_42_0.fastq\n"
     ]
    },
    {
     "name": "stdout",
     "output_type": "stream",
     "text": [
      "[########################################] | 100% Completed | 50.3s\n"
     ]
    },
    {
     "name": "stderr",
     "output_type": "stream",
     "text": [
      "[14:03:06 - __main__] Saving to file: /path/to/data/MinION_sequencing_data_20191216/guppy_3.2.2_12_16_19_run_01_exec_20200107/sw/fastq_runid_897cd225d1c3eef2d8da014b83aad9fb76f55a5f_42_0.tsv\n",
      "[14:03:07 - __main__] Starting fastq (165 of 405)\n",
      "\t/path/to/data/MinION_sequencing_data_20191216/guppy_3.2.2_12_16_19_run_01_exec_20200107/pass/fastq_runid_897cd225d1c3eef2d8da014b83aad9fb76f55a5f_41_3.fastq\n"
     ]
    },
    {
     "name": "stdout",
     "output_type": "stream",
     "text": [
      "[########################################] | 100% Completed |  1.0s\n"
     ]
    },
    {
     "name": "stderr",
     "output_type": "stream",
     "text": [
      "[14:03:08 - __main__] Saving to file: /path/to/data/MinION_sequencing_data_20191216/guppy_3.2.2_12_16_19_run_01_exec_20200107/sw/fastq_runid_897cd225d1c3eef2d8da014b83aad9fb76f55a5f_41_3.tsv\n",
      "[14:03:08 - __main__] Starting fastq (166 of 405)\n",
      "\t/path/to/data/MinION_sequencing_data_20191216/guppy_3.2.2_12_16_19_run_01_exec_20200107/pass/fastq_runid_897cd225d1c3eef2d8da014b83aad9fb76f55a5f_42_1.fastq\n"
     ]
    },
    {
     "name": "stdout",
     "output_type": "stream",
     "text": [
      "[########################################] | 100% Completed |  1min  5.1s\n"
     ]
    },
    {
     "name": "stderr",
     "output_type": "stream",
     "text": [
      "[14:04:13 - __main__] Saving to file: /path/to/data/MinION_sequencing_data_20191216/guppy_3.2.2_12_16_19_run_01_exec_20200107/sw/fastq_runid_897cd225d1c3eef2d8da014b83aad9fb76f55a5f_42_1.tsv\n",
      "[14:04:13 - __main__] Starting fastq (167 of 405)\n",
      "\t/path/to/data/MinION_sequencing_data_20191216/guppy_3.2.2_12_16_19_run_01_exec_20200107/pass/fastq_runid_897cd225d1c3eef2d8da014b83aad9fb76f55a5f_42_2.fastq\n"
     ]
    },
    {
     "name": "stdout",
     "output_type": "stream",
     "text": [
      "[########################################] | 100% Completed | 10.4s\n"
     ]
    },
    {
     "name": "stderr",
     "output_type": "stream",
     "text": [
      "[14:04:24 - __main__] Saving to file: /path/to/data/MinION_sequencing_data_20191216/guppy_3.2.2_12_16_19_run_01_exec_20200107/sw/fastq_runid_897cd225d1c3eef2d8da014b83aad9fb76f55a5f_42_2.tsv\n",
      "[14:04:24 - __main__] Starting fastq (168 of 405)\n",
      "\t/path/to/data/MinION_sequencing_data_20191216/guppy_3.2.2_12_16_19_run_01_exec_20200107/pass/fastq_runid_897cd225d1c3eef2d8da014b83aad9fb76f55a5f_43_0.fastq\n"
     ]
    },
    {
     "name": "stdout",
     "output_type": "stream",
     "text": [
      "[########################################] | 100% Completed | 23.9s\n"
     ]
    },
    {
     "name": "stderr",
     "output_type": "stream",
     "text": [
      "[14:04:48 - __main__] Saving to file: /path/to/data/MinION_sequencing_data_20191216/guppy_3.2.2_12_16_19_run_01_exec_20200107/sw/fastq_runid_897cd225d1c3eef2d8da014b83aad9fb76f55a5f_43_0.tsv\n",
      "[14:04:48 - __main__] Starting fastq (169 of 405)\n",
      "\t/path/to/data/MinION_sequencing_data_20191216/guppy_3.2.2_12_16_19_run_01_exec_20200107/pass/fastq_runid_897cd225d1c3eef2d8da014b83aad9fb76f55a5f_43_1.fastq\n"
     ]
    },
    {
     "name": "stdout",
     "output_type": "stream",
     "text": [
      "[########################################] | 100% Completed | 52.2s\n"
     ]
    },
    {
     "name": "stderr",
     "output_type": "stream",
     "text": [
      "[14:05:41 - __main__] Saving to file: /path/to/data/MinION_sequencing_data_20191216/guppy_3.2.2_12_16_19_run_01_exec_20200107/sw/fastq_runid_897cd225d1c3eef2d8da014b83aad9fb76f55a5f_43_1.tsv\n",
      "[14:05:41 - __main__] Starting fastq (170 of 405)\n",
      "\t/path/to/data/MinION_sequencing_data_20191216/guppy_3.2.2_12_16_19_run_01_exec_20200107/pass/fastq_runid_897cd225d1c3eef2d8da014b83aad9fb76f55a5f_44_0.fastq\n"
     ]
    },
    {
     "name": "stdout",
     "output_type": "stream",
     "text": [
      "[########################################] | 100% Completed |  1min 50.4s\n"
     ]
    },
    {
     "name": "stderr",
     "output_type": "stream",
     "text": [
      "[14:07:32 - __main__] Saving to file: /path/to/data/MinION_sequencing_data_20191216/guppy_3.2.2_12_16_19_run_01_exec_20200107/sw/fastq_runid_897cd225d1c3eef2d8da014b83aad9fb76f55a5f_44_0.tsv\n",
      "[14:07:32 - __main__] Starting fastq (171 of 405)\n",
      "\t/path/to/data/MinION_sequencing_data_20191216/guppy_3.2.2_12_16_19_run_01_exec_20200107/pass/fastq_runid_897cd225d1c3eef2d8da014b83aad9fb76f55a5f_42_3.fastq\n"
     ]
    },
    {
     "name": "stdout",
     "output_type": "stream",
     "text": [
      "[########################################] | 100% Completed | 20.5s\n"
     ]
    },
    {
     "name": "stderr",
     "output_type": "stream",
     "text": [
      "[14:07:53 - __main__] Saving to file: /path/to/data/MinION_sequencing_data_20191216/guppy_3.2.2_12_16_19_run_01_exec_20200107/sw/fastq_runid_897cd225d1c3eef2d8da014b83aad9fb76f55a5f_42_3.tsv\n",
      "[14:07:53 - __main__] Starting fastq (172 of 405)\n",
      "\t/path/to/data/MinION_sequencing_data_20191216/guppy_3.2.2_12_16_19_run_01_exec_20200107/pass/fastq_runid_897cd225d1c3eef2d8da014b83aad9fb76f55a5f_43_2.fastq\n"
     ]
    },
    {
     "name": "stdout",
     "output_type": "stream",
     "text": [
      "[########################################] | 100% Completed |  7.7s\n"
     ]
    },
    {
     "name": "stderr",
     "output_type": "stream",
     "text": [
      "[14:08:01 - __main__] Saving to file: /path/to/data/MinION_sequencing_data_20191216/guppy_3.2.2_12_16_19_run_01_exec_20200107/sw/fastq_runid_897cd225d1c3eef2d8da014b83aad9fb76f55a5f_43_2.tsv\n",
      "[14:08:01 - __main__] Starting fastq (173 of 405)\n",
      "\t/path/to/data/MinION_sequencing_data_20191216/guppy_3.2.2_12_16_19_run_01_exec_20200107/pass/fastq_runid_897cd225d1c3eef2d8da014b83aad9fb76f55a5f_44_1.fastq\n"
     ]
    },
    {
     "name": "stdout",
     "output_type": "stream",
     "text": [
      "[########################################] | 100% Completed |  8.0s\n"
     ]
    },
    {
     "name": "stderr",
     "output_type": "stream",
     "text": [
      "[14:08:09 - __main__] Saving to file: /path/to/data/MinION_sequencing_data_20191216/guppy_3.2.2_12_16_19_run_01_exec_20200107/sw/fastq_runid_897cd225d1c3eef2d8da014b83aad9fb76f55a5f_44_1.tsv\n",
      "[14:08:09 - __main__] Starting fastq (174 of 405)\n",
      "\t/path/to/data/MinION_sequencing_data_20191216/guppy_3.2.2_12_16_19_run_01_exec_20200107/pass/fastq_runid_897cd225d1c3eef2d8da014b83aad9fb76f55a5f_45_0.fastq\n"
     ]
    },
    {
     "name": "stdout",
     "output_type": "stream",
     "text": [
      "[########################################] | 100% Completed |  1min  4.7s\n"
     ]
    },
    {
     "name": "stderr",
     "output_type": "stream",
     "text": [
      "[14:09:14 - __main__] Saving to file: /path/to/data/MinION_sequencing_data_20191216/guppy_3.2.2_12_16_19_run_01_exec_20200107/sw/fastq_runid_897cd225d1c3eef2d8da014b83aad9fb76f55a5f_45_0.tsv\n",
      "[14:09:14 - __main__] Starting fastq (175 of 405)\n",
      "\t/path/to/data/MinION_sequencing_data_20191216/guppy_3.2.2_12_16_19_run_01_exec_20200107/pass/fastq_runid_897cd225d1c3eef2d8da014b83aad9fb76f55a5f_44_2.fastq\n"
     ]
    },
    {
     "name": "stdout",
     "output_type": "stream",
     "text": [
      "[########################################] | 100% Completed | 30.6s\n"
     ]
    },
    {
     "name": "stderr",
     "output_type": "stream",
     "text": [
      "[14:09:45 - __main__] Saving to file: /path/to/data/MinION_sequencing_data_20191216/guppy_3.2.2_12_16_19_run_01_exec_20200107/sw/fastq_runid_897cd225d1c3eef2d8da014b83aad9fb76f55a5f_44_2.tsv\n",
      "[14:09:45 - __main__] Starting fastq (176 of 405)\n",
      "\t/path/to/data/MinION_sequencing_data_20191216/guppy_3.2.2_12_16_19_run_01_exec_20200107/pass/fastq_runid_897cd225d1c3eef2d8da014b83aad9fb76f55a5f_43_3.fastq\n"
     ]
    },
    {
     "name": "stdout",
     "output_type": "stream",
     "text": [
      "[########################################] | 100% Completed | 58.0s\n"
     ]
    },
    {
     "name": "stderr",
     "output_type": "stream",
     "text": [
      "[14:10:44 - __main__] Saving to file: /path/to/data/MinION_sequencing_data_20191216/guppy_3.2.2_12_16_19_run_01_exec_20200107/sw/fastq_runid_897cd225d1c3eef2d8da014b83aad9fb76f55a5f_43_3.tsv\n",
      "[14:10:44 - __main__] Starting fastq (177 of 405)\n",
      "\t/path/to/data/MinION_sequencing_data_20191216/guppy_3.2.2_12_16_19_run_01_exec_20200107/pass/fastq_runid_897cd225d1c3eef2d8da014b83aad9fb76f55a5f_45_1.fastq\n"
     ]
    },
    {
     "name": "stdout",
     "output_type": "stream",
     "text": [
      "[########################################] | 100% Completed | 59.5s\n"
     ]
    },
    {
     "name": "stderr",
     "output_type": "stream",
     "text": [
      "[14:11:43 - __main__] Saving to file: /path/to/data/MinION_sequencing_data_20191216/guppy_3.2.2_12_16_19_run_01_exec_20200107/sw/fastq_runid_897cd225d1c3eef2d8da014b83aad9fb76f55a5f_45_1.tsv\n",
      "[14:11:44 - __main__] Starting fastq (178 of 405)\n",
      "\t/path/to/data/MinION_sequencing_data_20191216/guppy_3.2.2_12_16_19_run_01_exec_20200107/pass/fastq_runid_897cd225d1c3eef2d8da014b83aad9fb76f55a5f_45_2.fastq\n"
     ]
    },
    {
     "name": "stdout",
     "output_type": "stream",
     "text": [
      "[########################################] | 100% Completed | 19.1s\n"
     ]
    },
    {
     "name": "stderr",
     "output_type": "stream",
     "text": [
      "[14:12:03 - __main__] Saving to file: /path/to/data/MinION_sequencing_data_20191216/guppy_3.2.2_12_16_19_run_01_exec_20200107/sw/fastq_runid_897cd225d1c3eef2d8da014b83aad9fb76f55a5f_45_2.tsv\n",
      "[14:12:03 - __main__] Starting fastq (179 of 405)\n",
      "\t/path/to/data/MinION_sequencing_data_20191216/guppy_3.2.2_12_16_19_run_01_exec_20200107/pass/fastq_runid_897cd225d1c3eef2d8da014b83aad9fb76f55a5f_45_3.fastq\n"
     ]
    },
    {
     "name": "stdout",
     "output_type": "stream",
     "text": [
      "[########################################] | 100% Completed |  2.7s\n"
     ]
    },
    {
     "name": "stderr",
     "output_type": "stream",
     "text": [
      "[14:12:06 - __main__] Saving to file: /path/to/data/MinION_sequencing_data_20191216/guppy_3.2.2_12_16_19_run_01_exec_20200107/sw/fastq_runid_897cd225d1c3eef2d8da014b83aad9fb76f55a5f_45_3.tsv\n",
      "[14:12:06 - __main__] Starting fastq (180 of 405)\n",
      "\t/path/to/data/MinION_sequencing_data_20191216/guppy_3.2.2_12_16_19_run_01_exec_20200107/pass/fastq_runid_897cd225d1c3eef2d8da014b83aad9fb76f55a5f_46_0.fastq\n"
     ]
    },
    {
     "name": "stdout",
     "output_type": "stream",
     "text": [
      "[########################################] | 100% Completed |  1min  7.2s\n"
     ]
    },
    {
     "name": "stderr",
     "output_type": "stream",
     "text": [
      "[14:13:14 - __main__] Saving to file: /path/to/data/MinION_sequencing_data_20191216/guppy_3.2.2_12_16_19_run_01_exec_20200107/sw/fastq_runid_897cd225d1c3eef2d8da014b83aad9fb76f55a5f_46_0.tsv\n",
      "[14:13:14 - __main__] Starting fastq (181 of 405)\n",
      "\t/path/to/data/MinION_sequencing_data_20191216/guppy_3.2.2_12_16_19_run_01_exec_20200107/pass/fastq_runid_897cd225d1c3eef2d8da014b83aad9fb76f55a5f_46_1.fastq\n"
     ]
    },
    {
     "name": "stdout",
     "output_type": "stream",
     "text": [
      "[########################################] | 100% Completed | 25.2s\n"
     ]
    },
    {
     "name": "stderr",
     "output_type": "stream",
     "text": [
      "[14:13:39 - __main__] Saving to file: /path/to/data/MinION_sequencing_data_20191216/guppy_3.2.2_12_16_19_run_01_exec_20200107/sw/fastq_runid_897cd225d1c3eef2d8da014b83aad9fb76f55a5f_46_1.tsv\n",
      "[14:13:39 - __main__] Starting fastq (182 of 405)\n",
      "\t/path/to/data/MinION_sequencing_data_20191216/guppy_3.2.2_12_16_19_run_01_exec_20200107/pass/fastq_runid_897cd225d1c3eef2d8da014b83aad9fb76f55a5f_46_2.fastq\n"
     ]
    },
    {
     "name": "stdout",
     "output_type": "stream",
     "text": [
      "[########################################] | 100% Completed | 32.1s\n"
     ]
    },
    {
     "name": "stderr",
     "output_type": "stream",
     "text": [
      "[14:14:12 - __main__] Saving to file: /path/to/data/MinION_sequencing_data_20191216/guppy_3.2.2_12_16_19_run_01_exec_20200107/sw/fastq_runid_897cd225d1c3eef2d8da014b83aad9fb76f55a5f_46_2.tsv\n",
      "[14:14:12 - __main__] Starting fastq (183 of 405)\n",
      "\t/path/to/data/MinION_sequencing_data_20191216/guppy_3.2.2_12_16_19_run_01_exec_20200107/pass/fastq_runid_897cd225d1c3eef2d8da014b83aad9fb76f55a5f_44_3.fastq\n"
     ]
    },
    {
     "name": "stdout",
     "output_type": "stream",
     "text": [
      "[########################################] | 100% Completed |  1.0s\n"
     ]
    },
    {
     "name": "stderr",
     "output_type": "stream",
     "text": [
      "[14:14:13 - __main__] Saving to file: /path/to/data/MinION_sequencing_data_20191216/guppy_3.2.2_12_16_19_run_01_exec_20200107/sw/fastq_runid_897cd225d1c3eef2d8da014b83aad9fb76f55a5f_44_3.tsv\n",
      "[14:14:13 - __main__] Starting fastq (184 of 405)\n",
      "\t/path/to/data/MinION_sequencing_data_20191216/guppy_3.2.2_12_16_19_run_01_exec_20200107/pass/fastq_runid_897cd225d1c3eef2d8da014b83aad9fb76f55a5f_46_3.fastq\n"
     ]
    },
    {
     "name": "stdout",
     "output_type": "stream",
     "text": [
      "[########################################] | 100% Completed | 19.7s\n"
     ]
    },
    {
     "name": "stderr",
     "output_type": "stream",
     "text": [
      "[14:14:33 - __main__] Saving to file: /path/to/data/MinION_sequencing_data_20191216/guppy_3.2.2_12_16_19_run_01_exec_20200107/sw/fastq_runid_897cd225d1c3eef2d8da014b83aad9fb76f55a5f_46_3.tsv\n",
      "[14:14:33 - __main__] Starting fastq (185 of 405)\n",
      "\t/path/to/data/MinION_sequencing_data_20191216/guppy_3.2.2_12_16_19_run_01_exec_20200107/pass/fastq_runid_897cd225d1c3eef2d8da014b83aad9fb76f55a5f_47_0.fastq\n"
     ]
    },
    {
     "name": "stdout",
     "output_type": "stream",
     "text": [
      "[########################################] | 100% Completed | 55.5s\n"
     ]
    },
    {
     "name": "stderr",
     "output_type": "stream",
     "text": [
      "[14:15:29 - __main__] Saving to file: /path/to/data/MinION_sequencing_data_20191216/guppy_3.2.2_12_16_19_run_01_exec_20200107/sw/fastq_runid_897cd225d1c3eef2d8da014b83aad9fb76f55a5f_47_0.tsv\n",
      "[14:15:29 - __main__] Starting fastq (186 of 405)\n",
      "\t/path/to/data/MinION_sequencing_data_20191216/guppy_3.2.2_12_16_19_run_01_exec_20200107/pass/fastq_runid_897cd225d1c3eef2d8da014b83aad9fb76f55a5f_47_1.fastq\n"
     ]
    },
    {
     "name": "stdout",
     "output_type": "stream",
     "text": [
      "[########################################] | 100% Completed |  1min  3.5s\n"
     ]
    },
    {
     "name": "stderr",
     "output_type": "stream",
     "text": [
      "[14:16:33 - __main__] Saving to file: /path/to/data/MinION_sequencing_data_20191216/guppy_3.2.2_12_16_19_run_01_exec_20200107/sw/fastq_runid_897cd225d1c3eef2d8da014b83aad9fb76f55a5f_47_1.tsv\n",
      "[14:16:33 - __main__] Starting fastq (187 of 405)\n",
      "\t/path/to/data/MinION_sequencing_data_20191216/guppy_3.2.2_12_16_19_run_01_exec_20200107/pass/fastq_runid_897cd225d1c3eef2d8da014b83aad9fb76f55a5f_47_2.fastq\n"
     ]
    },
    {
     "name": "stdout",
     "output_type": "stream",
     "text": [
      "[########################################] | 100% Completed | 23.8s\n"
     ]
    },
    {
     "name": "stderr",
     "output_type": "stream",
     "text": [
      "[14:16:57 - __main__] Saving to file: /path/to/data/MinION_sequencing_data_20191216/guppy_3.2.2_12_16_19_run_01_exec_20200107/sw/fastq_runid_897cd225d1c3eef2d8da014b83aad9fb76f55a5f_47_2.tsv\n",
      "[14:16:57 - __main__] Starting fastq (188 of 405)\n",
      "\t/path/to/data/MinION_sequencing_data_20191216/guppy_3.2.2_12_16_19_run_01_exec_20200107/pass/fastq_runid_897cd225d1c3eef2d8da014b83aad9fb76f55a5f_48_0.fastq\n"
     ]
    },
    {
     "name": "stdout",
     "output_type": "stream",
     "text": [
      "[########################################] | 100% Completed | 22.0s\n"
     ]
    },
    {
     "name": "stderr",
     "output_type": "stream",
     "text": [
      "[14:17:19 - __main__] Saving to file: /path/to/data/MinION_sequencing_data_20191216/guppy_3.2.2_12_16_19_run_01_exec_20200107/sw/fastq_runid_897cd225d1c3eef2d8da014b83aad9fb76f55a5f_48_0.tsv\n",
      "[14:17:19 - __main__] Starting fastq (189 of 405)\n",
      "\t/path/to/data/MinION_sequencing_data_20191216/guppy_3.2.2_12_16_19_run_01_exec_20200107/pass/fastq_runid_897cd225d1c3eef2d8da014b83aad9fb76f55a5f_48_1.fastq\n"
     ]
    },
    {
     "name": "stdout",
     "output_type": "stream",
     "text": [
      "[########################################] | 100% Completed | 13.3s\n"
     ]
    },
    {
     "name": "stderr",
     "output_type": "stream",
     "text": [
      "[14:17:33 - __main__] Saving to file: /path/to/data/MinION_sequencing_data_20191216/guppy_3.2.2_12_16_19_run_01_exec_20200107/sw/fastq_runid_897cd225d1c3eef2d8da014b83aad9fb76f55a5f_48_1.tsv\n",
      "[14:17:33 - __main__] Starting fastq (190 of 405)\n",
      "\t/path/to/data/MinION_sequencing_data_20191216/guppy_3.2.2_12_16_19_run_01_exec_20200107/pass/fastq_runid_897cd225d1c3eef2d8da014b83aad9fb76f55a5f_47_3.fastq\n"
     ]
    },
    {
     "name": "stdout",
     "output_type": "stream",
     "text": [
      "[########################################] | 100% Completed |  0.9s\n"
     ]
    },
    {
     "name": "stderr",
     "output_type": "stream",
     "text": [
      "[14:17:34 - __main__] Saving to file: /path/to/data/MinION_sequencing_data_20191216/guppy_3.2.2_12_16_19_run_01_exec_20200107/sw/fastq_runid_897cd225d1c3eef2d8da014b83aad9fb76f55a5f_47_3.tsv\n",
      "[14:17:34 - __main__] Starting fastq (191 of 405)\n",
      "\t/path/to/data/MinION_sequencing_data_20191216/guppy_3.2.2_12_16_19_run_01_exec_20200107/pass/fastq_runid_897cd225d1c3eef2d8da014b83aad9fb76f55a5f_48_2.fastq\n"
     ]
    },
    {
     "name": "stdout",
     "output_type": "stream",
     "text": [
      "[########################################] | 100% Completed | 33.5s\n"
     ]
    },
    {
     "name": "stderr",
     "output_type": "stream",
     "text": [
      "[14:18:08 - __main__] Saving to file: /path/to/data/MinION_sequencing_data_20191216/guppy_3.2.2_12_16_19_run_01_exec_20200107/sw/fastq_runid_897cd225d1c3eef2d8da014b83aad9fb76f55a5f_48_2.tsv\n",
      "[14:18:08 - __main__] Starting fastq (192 of 405)\n",
      "\t/path/to/data/MinION_sequencing_data_20191216/guppy_3.2.2_12_16_19_run_01_exec_20200107/pass/fastq_runid_897cd225d1c3eef2d8da014b83aad9fb76f55a5f_49_0.fastq\n"
     ]
    },
    {
     "name": "stdout",
     "output_type": "stream",
     "text": [
      "[########################################] | 100% Completed |  1min 48.1s\n"
     ]
    },
    {
     "name": "stderr",
     "output_type": "stream",
     "text": [
      "[14:19:56 - __main__] Saving to file: /path/to/data/MinION_sequencing_data_20191216/guppy_3.2.2_12_16_19_run_01_exec_20200107/sw/fastq_runid_897cd225d1c3eef2d8da014b83aad9fb76f55a5f_49_0.tsv\n",
      "[14:19:57 - __main__] Starting fastq (193 of 405)\n",
      "\t/path/to/data/MinION_sequencing_data_20191216/guppy_3.2.2_12_16_19_run_01_exec_20200107/pass/fastq_runid_897cd225d1c3eef2d8da014b83aad9fb76f55a5f_49_1.fastq\n"
     ]
    },
    {
     "name": "stdout",
     "output_type": "stream",
     "text": [
      "[########################################] | 100% Completed | 30.4s\n"
     ]
    },
    {
     "name": "stderr",
     "output_type": "stream",
     "text": [
      "[14:20:27 - __main__] Saving to file: /path/to/data/MinION_sequencing_data_20191216/guppy_3.2.2_12_16_19_run_01_exec_20200107/sw/fastq_runid_897cd225d1c3eef2d8da014b83aad9fb76f55a5f_49_1.tsv\n",
      "[14:20:28 - __main__] Starting fastq (194 of 405)\n",
      "\t/path/to/data/MinION_sequencing_data_20191216/guppy_3.2.2_12_16_19_run_01_exec_20200107/pass/fastq_runid_897cd225d1c3eef2d8da014b83aad9fb76f55a5f_48_3.fastq\n"
     ]
    },
    {
     "name": "stdout",
     "output_type": "stream",
     "text": [
      "[########################################] | 100% Completed |  1min 11.9s\n"
     ]
    },
    {
     "name": "stderr",
     "output_type": "stream",
     "text": [
      "[14:21:40 - __main__] Saving to file: /path/to/data/MinION_sequencing_data_20191216/guppy_3.2.2_12_16_19_run_01_exec_20200107/sw/fastq_runid_897cd225d1c3eef2d8da014b83aad9fb76f55a5f_48_3.tsv\n",
      "[14:21:40 - __main__] Starting fastq (195 of 405)\n",
      "\t/path/to/data/MinION_sequencing_data_20191216/guppy_3.2.2_12_16_19_run_01_exec_20200107/pass/fastq_runid_897cd225d1c3eef2d8da014b83aad9fb76f55a5f_49_2.fastq\n"
     ]
    },
    {
     "name": "stdout",
     "output_type": "stream",
     "text": [
      "[########################################] | 100% Completed |  2.4s\n"
     ]
    },
    {
     "name": "stderr",
     "output_type": "stream",
     "text": [
      "[14:21:43 - __main__] Saving to file: /path/to/data/MinION_sequencing_data_20191216/guppy_3.2.2_12_16_19_run_01_exec_20200107/sw/fastq_runid_897cd225d1c3eef2d8da014b83aad9fb76f55a5f_49_2.tsv\n",
      "[14:21:43 - __main__] Starting fastq (196 of 405)\n",
      "\t/path/to/data/MinION_sequencing_data_20191216/guppy_3.2.2_12_16_19_run_01_exec_20200107/pass/fastq_runid_897cd225d1c3eef2d8da014b83aad9fb76f55a5f_50_0.fastq\n"
     ]
    },
    {
     "name": "stdout",
     "output_type": "stream",
     "text": [
      "[########################################] | 100% Completed |  1min 12.7s\n"
     ]
    },
    {
     "name": "stderr",
     "output_type": "stream",
     "text": [
      "[14:22:56 - __main__] Saving to file: /path/to/data/MinION_sequencing_data_20191216/guppy_3.2.2_12_16_19_run_01_exec_20200107/sw/fastq_runid_897cd225d1c3eef2d8da014b83aad9fb76f55a5f_50_0.tsv\n",
      "[14:22:56 - __main__] Starting fastq (197 of 405)\n",
      "\t/path/to/data/MinION_sequencing_data_20191216/guppy_3.2.2_12_16_19_run_01_exec_20200107/pass/fastq_runid_897cd225d1c3eef2d8da014b83aad9fb76f55a5f_50_1.fastq\n"
     ]
    },
    {
     "name": "stdout",
     "output_type": "stream",
     "text": [
      "[########################################] | 100% Completed | 39.1s\n"
     ]
    },
    {
     "name": "stderr",
     "output_type": "stream",
     "text": [
      "[14:23:35 - __main__] Saving to file: /path/to/data/MinION_sequencing_data_20191216/guppy_3.2.2_12_16_19_run_01_exec_20200107/sw/fastq_runid_897cd225d1c3eef2d8da014b83aad9fb76f55a5f_50_1.tsv\n",
      "[14:23:35 - __main__] Starting fastq (198 of 405)\n",
      "\t/path/to/data/MinION_sequencing_data_20191216/guppy_3.2.2_12_16_19_run_01_exec_20200107/pass/fastq_runid_897cd225d1c3eef2d8da014b83aad9fb76f55a5f_51_0.fastq\n"
     ]
    },
    {
     "name": "stdout",
     "output_type": "stream",
     "text": [
      "[########################################] | 100% Completed |  1min 44.7s\n"
     ]
    },
    {
     "name": "stderr",
     "output_type": "stream",
     "text": [
      "[14:25:20 - __main__] Saving to file: /path/to/data/MinION_sequencing_data_20191216/guppy_3.2.2_12_16_19_run_01_exec_20200107/sw/fastq_runid_897cd225d1c3eef2d8da014b83aad9fb76f55a5f_51_0.tsv\n",
      "[14:25:21 - __main__] Starting fastq (199 of 405)\n",
      "\t/path/to/data/MinION_sequencing_data_20191216/guppy_3.2.2_12_16_19_run_01_exec_20200107/pass/fastq_runid_897cd225d1c3eef2d8da014b83aad9fb76f55a5f_49_3.fastq\n"
     ]
    },
    {
     "name": "stdout",
     "output_type": "stream",
     "text": [
      "[########################################] | 100% Completed |  1.0s\n"
     ]
    },
    {
     "name": "stderr",
     "output_type": "stream",
     "text": [
      "[14:25:22 - __main__] Saving to file: /path/to/data/MinION_sequencing_data_20191216/guppy_3.2.2_12_16_19_run_01_exec_20200107/sw/fastq_runid_897cd225d1c3eef2d8da014b83aad9fb76f55a5f_49_3.tsv\n",
      "[14:25:22 - __main__] Starting fastq (200 of 405)\n",
      "\t/path/to/data/MinION_sequencing_data_20191216/guppy_3.2.2_12_16_19_run_01_exec_20200107/pass/fastq_runid_897cd225d1c3eef2d8da014b83aad9fb76f55a5f_50_2.fastq\n"
     ]
    },
    {
     "name": "stdout",
     "output_type": "stream",
     "text": [
      "[########################################] | 100% Completed |  1.9s\n"
     ]
    },
    {
     "name": "stderr",
     "output_type": "stream",
     "text": [
      "[14:25:24 - __main__] Saving to file: /path/to/data/MinION_sequencing_data_20191216/guppy_3.2.2_12_16_19_run_01_exec_20200107/sw/fastq_runid_897cd225d1c3eef2d8da014b83aad9fb76f55a5f_50_2.tsv\n",
      "[14:25:24 - __main__] Starting fastq (201 of 405)\n",
      "\t/path/to/data/MinION_sequencing_data_20191216/guppy_3.2.2_12_16_19_run_01_exec_20200107/pass/fastq_runid_897cd225d1c3eef2d8da014b83aad9fb76f55a5f_51_1.fastq\n"
     ]
    },
    {
     "name": "stdout",
     "output_type": "stream",
     "text": [
      "[########################################] | 100% Completed | 26.8s\n"
     ]
    },
    {
     "name": "stderr",
     "output_type": "stream",
     "text": [
      "[14:25:51 - __main__] Saving to file: /path/to/data/MinION_sequencing_data_20191216/guppy_3.2.2_12_16_19_run_01_exec_20200107/sw/fastq_runid_897cd225d1c3eef2d8da014b83aad9fb76f55a5f_51_1.tsv\n",
      "[14:25:51 - __main__] Starting fastq (202 of 405)\n",
      "\t/path/to/data/MinION_sequencing_data_20191216/guppy_3.2.2_12_16_19_run_01_exec_20200107/pass/fastq_runid_897cd225d1c3eef2d8da014b83aad9fb76f55a5f_52_0.fastq\n"
     ]
    },
    {
     "name": "stdout",
     "output_type": "stream",
     "text": [
      "[########################################] | 100% Completed | 33.7s\n"
     ]
    },
    {
     "name": "stderr",
     "output_type": "stream",
     "text": [
      "[14:26:25 - __main__] Saving to file: /path/to/data/MinION_sequencing_data_20191216/guppy_3.2.2_12_16_19_run_01_exec_20200107/sw/fastq_runid_897cd225d1c3eef2d8da014b83aad9fb76f55a5f_52_0.tsv\n",
      "[14:26:25 - __main__] Starting fastq (203 of 405)\n",
      "\t/path/to/data/MinION_sequencing_data_20191216/guppy_3.2.2_12_16_19_run_01_exec_20200107/pass/fastq_runid_897cd225d1c3eef2d8da014b83aad9fb76f55a5f_50_3.fastq\n"
     ]
    },
    {
     "name": "stdout",
     "output_type": "stream",
     "text": [
      "[########################################] | 100% Completed | 29.6s\n"
     ]
    },
    {
     "name": "stderr",
     "output_type": "stream",
     "text": [
      "[14:26:55 - __main__] Saving to file: /path/to/data/MinION_sequencing_data_20191216/guppy_3.2.2_12_16_19_run_01_exec_20200107/sw/fastq_runid_897cd225d1c3eef2d8da014b83aad9fb76f55a5f_50_3.tsv\n",
      "[14:26:55 - __main__] Starting fastq (204 of 405)\n",
      "\t/path/to/data/MinION_sequencing_data_20191216/guppy_3.2.2_12_16_19_run_01_exec_20200107/pass/fastq_runid_897cd225d1c3eef2d8da014b83aad9fb76f55a5f_52_1.fastq\n"
     ]
    },
    {
     "name": "stdout",
     "output_type": "stream",
     "text": [
      "[########################################] | 100% Completed | 46.6s\n"
     ]
    },
    {
     "name": "stderr",
     "output_type": "stream",
     "text": [
      "[14:27:42 - __main__] Saving to file: /path/to/data/MinION_sequencing_data_20191216/guppy_3.2.2_12_16_19_run_01_exec_20200107/sw/fastq_runid_897cd225d1c3eef2d8da014b83aad9fb76f55a5f_52_1.tsv\n",
      "[14:27:42 - __main__] Starting fastq (205 of 405)\n",
      "\t/path/to/data/MinION_sequencing_data_20191216/guppy_3.2.2_12_16_19_run_01_exec_20200107/pass/fastq_runid_897cd225d1c3eef2d8da014b83aad9fb76f55a5f_51_2.fastq\n"
     ]
    },
    {
     "name": "stdout",
     "output_type": "stream",
     "text": [
      "[########################################] | 100% Completed | 11.0s\n"
     ]
    },
    {
     "name": "stderr",
     "output_type": "stream",
     "text": [
      "[14:27:53 - __main__] Saving to file: /path/to/data/MinION_sequencing_data_20191216/guppy_3.2.2_12_16_19_run_01_exec_20200107/sw/fastq_runid_897cd225d1c3eef2d8da014b83aad9fb76f55a5f_51_2.tsv\n",
      "[14:27:53 - __main__] Starting fastq (206 of 405)\n",
      "\t/path/to/data/MinION_sequencing_data_20191216/guppy_3.2.2_12_16_19_run_01_exec_20200107/pass/fastq_runid_897cd225d1c3eef2d8da014b83aad9fb76f55a5f_51_3.fastq\n"
     ]
    },
    {
     "name": "stdout",
     "output_type": "stream",
     "text": [
      "[########################################] | 100% Completed |  0.9s\n"
     ]
    },
    {
     "name": "stderr",
     "output_type": "stream",
     "text": [
      "[14:27:55 - __main__] Saving to file: /path/to/data/MinION_sequencing_data_20191216/guppy_3.2.2_12_16_19_run_01_exec_20200107/sw/fastq_runid_897cd225d1c3eef2d8da014b83aad9fb76f55a5f_51_3.tsv\n",
      "[14:27:55 - __main__] Starting fastq (207 of 405)\n",
      "\t/path/to/data/MinION_sequencing_data_20191216/guppy_3.2.2_12_16_19_run_01_exec_20200107/pass/fastq_runid_897cd225d1c3eef2d8da014b83aad9fb76f55a5f_52_2.fastq\n"
     ]
    },
    {
     "name": "stdout",
     "output_type": "stream",
     "text": [
      "[########################################] | 100% Completed |  1min  3.5s\n"
     ]
    },
    {
     "name": "stderr",
     "output_type": "stream",
     "text": [
      "[14:28:58 - __main__] Saving to file: /path/to/data/MinION_sequencing_data_20191216/guppy_3.2.2_12_16_19_run_01_exec_20200107/sw/fastq_runid_897cd225d1c3eef2d8da014b83aad9fb76f55a5f_52_2.tsv\n",
      "[14:28:58 - __main__] Starting fastq (208 of 405)\n",
      "\t/path/to/data/MinION_sequencing_data_20191216/guppy_3.2.2_12_16_19_run_01_exec_20200107/pass/fastq_runid_897cd225d1c3eef2d8da014b83aad9fb76f55a5f_52_3.fastq\n"
     ]
    },
    {
     "name": "stdout",
     "output_type": "stream",
     "text": [
      "[########################################] | 100% Completed |  0.8s\n"
     ]
    },
    {
     "name": "stderr",
     "output_type": "stream",
     "text": [
      "[14:29:00 - __main__] Saving to file: /path/to/data/MinION_sequencing_data_20191216/guppy_3.2.2_12_16_19_run_01_exec_20200107/sw/fastq_runid_897cd225d1c3eef2d8da014b83aad9fb76f55a5f_52_3.tsv\n",
      "[14:29:00 - __main__] Starting fastq (209 of 405)\n",
      "\t/path/to/data/MinION_sequencing_data_20191216/guppy_3.2.2_12_16_19_run_01_exec_20200107/pass/fastq_runid_897cd225d1c3eef2d8da014b83aad9fb76f55a5f_53_0.fastq\n"
     ]
    },
    {
     "name": "stdout",
     "output_type": "stream",
     "text": [
      "[########################################] | 100% Completed | 55.7s\n"
     ]
    },
    {
     "name": "stderr",
     "output_type": "stream",
     "text": [
      "[14:29:56 - __main__] Saving to file: /path/to/data/MinION_sequencing_data_20191216/guppy_3.2.2_12_16_19_run_01_exec_20200107/sw/fastq_runid_897cd225d1c3eef2d8da014b83aad9fb76f55a5f_53_0.tsv\n",
      "[14:29:56 - __main__] Starting fastq (210 of 405)\n",
      "\t/path/to/data/MinION_sequencing_data_20191216/guppy_3.2.2_12_16_19_run_01_exec_20200107/pass/fastq_runid_897cd225d1c3eef2d8da014b83aad9fb76f55a5f_53_1.fastq\n"
     ]
    },
    {
     "name": "stdout",
     "output_type": "stream",
     "text": [
      "[########################################] | 100% Completed | 11.9s\n"
     ]
    },
    {
     "name": "stderr",
     "output_type": "stream",
     "text": [
      "[14:30:08 - __main__] Saving to file: /path/to/data/MinION_sequencing_data_20191216/guppy_3.2.2_12_16_19_run_01_exec_20200107/sw/fastq_runid_897cd225d1c3eef2d8da014b83aad9fb76f55a5f_53_1.tsv\n",
      "[14:30:08 - __main__] Starting fastq (211 of 405)\n",
      "\t/path/to/data/MinION_sequencing_data_20191216/guppy_3.2.2_12_16_19_run_01_exec_20200107/pass/fastq_runid_897cd225d1c3eef2d8da014b83aad9fb76f55a5f_53_2.fastq\n"
     ]
    },
    {
     "name": "stdout",
     "output_type": "stream",
     "text": [
      "[########################################] | 100% Completed |  1min 13.7s\n"
     ]
    },
    {
     "name": "stderr",
     "output_type": "stream",
     "text": [
      "[14:31:22 - __main__] Saving to file: /path/to/data/MinION_sequencing_data_20191216/guppy_3.2.2_12_16_19_run_01_exec_20200107/sw/fastq_runid_897cd225d1c3eef2d8da014b83aad9fb76f55a5f_53_2.tsv\n",
      "[14:31:22 - __main__] Starting fastq (212 of 405)\n",
      "\t/path/to/data/MinION_sequencing_data_20191216/guppy_3.2.2_12_16_19_run_01_exec_20200107/pass/fastq_runid_897cd225d1c3eef2d8da014b83aad9fb76f55a5f_54_0.fastq\n"
     ]
    },
    {
     "name": "stdout",
     "output_type": "stream",
     "text": [
      "[########################################] | 100% Completed |  1min 20.4s\n"
     ]
    },
    {
     "name": "stderr",
     "output_type": "stream",
     "text": [
      "[14:32:43 - __main__] Saving to file: /path/to/data/MinION_sequencing_data_20191216/guppy_3.2.2_12_16_19_run_01_exec_20200107/sw/fastq_runid_897cd225d1c3eef2d8da014b83aad9fb76f55a5f_54_0.tsv\n",
      "[14:32:43 - __main__] Starting fastq (213 of 405)\n",
      "\t/path/to/data/MinION_sequencing_data_20191216/guppy_3.2.2_12_16_19_run_01_exec_20200107/pass/fastq_runid_897cd225d1c3eef2d8da014b83aad9fb76f55a5f_54_1.fastq\n"
     ]
    },
    {
     "name": "stdout",
     "output_type": "stream",
     "text": [
      "[########################################] | 100% Completed |  1min  3.5s\n"
     ]
    },
    {
     "name": "stderr",
     "output_type": "stream",
     "text": [
      "[14:33:47 - __main__] Saving to file: /path/to/data/MinION_sequencing_data_20191216/guppy_3.2.2_12_16_19_run_01_exec_20200107/sw/fastq_runid_897cd225d1c3eef2d8da014b83aad9fb76f55a5f_54_1.tsv\n",
      "[14:33:47 - __main__] Starting fastq (214 of 405)\n",
      "\t/path/to/data/MinION_sequencing_data_20191216/guppy_3.2.2_12_16_19_run_01_exec_20200107/pass/fastq_runid_897cd225d1c3eef2d8da014b83aad9fb76f55a5f_53_3.fastq\n"
     ]
    },
    {
     "name": "stdout",
     "output_type": "stream",
     "text": [
      "[########################################] | 100% Completed |  0.9s\n"
     ]
    },
    {
     "name": "stderr",
     "output_type": "stream",
     "text": [
      "[14:33:48 - __main__] Saving to file: /path/to/data/MinION_sequencing_data_20191216/guppy_3.2.2_12_16_19_run_01_exec_20200107/sw/fastq_runid_897cd225d1c3eef2d8da014b83aad9fb76f55a5f_53_3.tsv\n",
      "[14:33:48 - __main__] Starting fastq (215 of 405)\n",
      "\t/path/to/data/MinION_sequencing_data_20191216/guppy_3.2.2_12_16_19_run_01_exec_20200107/pass/fastq_runid_897cd225d1c3eef2d8da014b83aad9fb76f55a5f_54_2.fastq\n"
     ]
    },
    {
     "name": "stdout",
     "output_type": "stream",
     "text": [
      "[########################################] | 100% Completed |  1.0s\n"
     ]
    },
    {
     "name": "stderr",
     "output_type": "stream",
     "text": [
      "[14:33:49 - __main__] Saving to file: /path/to/data/MinION_sequencing_data_20191216/guppy_3.2.2_12_16_19_run_01_exec_20200107/sw/fastq_runid_897cd225d1c3eef2d8da014b83aad9fb76f55a5f_54_2.tsv\n",
      "[14:33:49 - __main__] Starting fastq (216 of 405)\n",
      "\t/path/to/data/MinION_sequencing_data_20191216/guppy_3.2.2_12_16_19_run_01_exec_20200107/pass/fastq_runid_897cd225d1c3eef2d8da014b83aad9fb76f55a5f_55_0.fastq\n"
     ]
    },
    {
     "name": "stdout",
     "output_type": "stream",
     "text": [
      "[########################################] | 100% Completed | 57.1s\n"
     ]
    },
    {
     "name": "stderr",
     "output_type": "stream",
     "text": [
      "[14:34:47 - __main__] Saving to file: /path/to/data/MinION_sequencing_data_20191216/guppy_3.2.2_12_16_19_run_01_exec_20200107/sw/fastq_runid_897cd225d1c3eef2d8da014b83aad9fb76f55a5f_55_0.tsv\n",
      "[14:34:47 - __main__] Starting fastq (217 of 405)\n",
      "\t/path/to/data/MinION_sequencing_data_20191216/guppy_3.2.2_12_16_19_run_01_exec_20200107/pass/fastq_runid_897cd225d1c3eef2d8da014b83aad9fb76f55a5f_55_1.fastq\n"
     ]
    },
    {
     "name": "stdout",
     "output_type": "stream",
     "text": [
      "[########################################] | 100% Completed | 24.4s\n"
     ]
    },
    {
     "name": "stderr",
     "output_type": "stream",
     "text": [
      "[14:35:12 - __main__] Saving to file: /path/to/data/MinION_sequencing_data_20191216/guppy_3.2.2_12_16_19_run_01_exec_20200107/sw/fastq_runid_897cd225d1c3eef2d8da014b83aad9fb76f55a5f_55_1.tsv\n",
      "[14:35:12 - __main__] Starting fastq (218 of 405)\n",
      "\t/path/to/data/MinION_sequencing_data_20191216/guppy_3.2.2_12_16_19_run_01_exec_20200107/pass/fastq_runid_897cd225d1c3eef2d8da014b83aad9fb76f55a5f_56_0.fastq\n"
     ]
    },
    {
     "name": "stdout",
     "output_type": "stream",
     "text": [
      "[########################################] | 100% Completed | 45.4s\n"
     ]
    },
    {
     "name": "stderr",
     "output_type": "stream",
     "text": [
      "[14:35:57 - __main__] Saving to file: /path/to/data/MinION_sequencing_data_20191216/guppy_3.2.2_12_16_19_run_01_exec_20200107/sw/fastq_runid_897cd225d1c3eef2d8da014b83aad9fb76f55a5f_56_0.tsv\n",
      "[14:35:57 - __main__] Starting fastq (219 of 405)\n",
      "\t/path/to/data/MinION_sequencing_data_20191216/guppy_3.2.2_12_16_19_run_01_exec_20200107/pass/fastq_runid_897cd225d1c3eef2d8da014b83aad9fb76f55a5f_54_3.fastq\n"
     ]
    },
    {
     "name": "stdout",
     "output_type": "stream",
     "text": [
      "[########################################] | 100% Completed |  0.9s\n"
     ]
    },
    {
     "name": "stderr",
     "output_type": "stream",
     "text": [
      "[14:35:59 - __main__] Saving to file: /path/to/data/MinION_sequencing_data_20191216/guppy_3.2.2_12_16_19_run_01_exec_20200107/sw/fastq_runid_897cd225d1c3eef2d8da014b83aad9fb76f55a5f_54_3.tsv\n",
      "[14:35:59 - __main__] Starting fastq (220 of 405)\n",
      "\t/path/to/data/MinION_sequencing_data_20191216/guppy_3.2.2_12_16_19_run_01_exec_20200107/pass/fastq_runid_897cd225d1c3eef2d8da014b83aad9fb76f55a5f_55_2.fastq\n"
     ]
    },
    {
     "name": "stdout",
     "output_type": "stream",
     "text": [
      "[########################################] | 100% Completed | 28.5s\n"
     ]
    },
    {
     "name": "stderr",
     "output_type": "stream",
     "text": [
      "[14:36:27 - __main__] Saving to file: /path/to/data/MinION_sequencing_data_20191216/guppy_3.2.2_12_16_19_run_01_exec_20200107/sw/fastq_runid_897cd225d1c3eef2d8da014b83aad9fb76f55a5f_55_2.tsv\n",
      "[14:36:27 - __main__] Starting fastq (221 of 405)\n",
      "\t/path/to/data/MinION_sequencing_data_20191216/guppy_3.2.2_12_16_19_run_01_exec_20200107/pass/fastq_runid_897cd225d1c3eef2d8da014b83aad9fb76f55a5f_56_1.fastq\n"
     ]
    },
    {
     "name": "stdout",
     "output_type": "stream",
     "text": [
      "[########################################] | 100% Completed | 46.4s\n"
     ]
    },
    {
     "name": "stderr",
     "output_type": "stream",
     "text": [
      "[14:37:14 - __main__] Saving to file: /path/to/data/MinION_sequencing_data_20191216/guppy_3.2.2_12_16_19_run_01_exec_20200107/sw/fastq_runid_897cd225d1c3eef2d8da014b83aad9fb76f55a5f_56_1.tsv\n",
      "[14:37:14 - __main__] Starting fastq (222 of 405)\n",
      "\t/path/to/data/MinION_sequencing_data_20191216/guppy_3.2.2_12_16_19_run_01_exec_20200107/pass/fastq_runid_897cd225d1c3eef2d8da014b83aad9fb76f55a5f_56_2.fastq\n"
     ]
    },
    {
     "name": "stdout",
     "output_type": "stream",
     "text": [
      "[########################################] | 100% Completed | 53.1s\n"
     ]
    },
    {
     "name": "stderr",
     "output_type": "stream",
     "text": [
      "[14:38:08 - __main__] Saving to file: /path/to/data/MinION_sequencing_data_20191216/guppy_3.2.2_12_16_19_run_01_exec_20200107/sw/fastq_runid_897cd225d1c3eef2d8da014b83aad9fb76f55a5f_56_2.tsv\n",
      "[14:38:08 - __main__] Starting fastq (223 of 405)\n",
      "\t/path/to/data/MinION_sequencing_data_20191216/guppy_3.2.2_12_16_19_run_01_exec_20200107/pass/fastq_runid_897cd225d1c3eef2d8da014b83aad9fb76f55a5f_57_0.fastq\n"
     ]
    },
    {
     "name": "stdout",
     "output_type": "stream",
     "text": [
      "[########################################] | 100% Completed |  1min  7.5s\n"
     ]
    },
    {
     "name": "stderr",
     "output_type": "stream",
     "text": [
      "[14:39:16 - __main__] Saving to file: /path/to/data/MinION_sequencing_data_20191216/guppy_3.2.2_12_16_19_run_01_exec_20200107/sw/fastq_runid_897cd225d1c3eef2d8da014b83aad9fb76f55a5f_57_0.tsv\n",
      "[14:39:16 - __main__] Starting fastq (224 of 405)\n",
      "\t/path/to/data/MinION_sequencing_data_20191216/guppy_3.2.2_12_16_19_run_01_exec_20200107/pass/fastq_runid_897cd225d1c3eef2d8da014b83aad9fb76f55a5f_57_1.fastq\n"
     ]
    },
    {
     "name": "stdout",
     "output_type": "stream",
     "text": [
      "[########################################] | 100% Completed |  1min  4.7s\n"
     ]
    },
    {
     "name": "stderr",
     "output_type": "stream",
     "text": [
      "[14:40:21 - __main__] Saving to file: /path/to/data/MinION_sequencing_data_20191216/guppy_3.2.2_12_16_19_run_01_exec_20200107/sw/fastq_runid_897cd225d1c3eef2d8da014b83aad9fb76f55a5f_57_1.tsv\n",
      "[14:40:21 - __main__] Starting fastq (225 of 405)\n",
      "\t/path/to/data/MinION_sequencing_data_20191216/guppy_3.2.2_12_16_19_run_01_exec_20200107/pass/fastq_runid_897cd225d1c3eef2d8da014b83aad9fb76f55a5f_57_2.fastq\n"
     ]
    },
    {
     "name": "stdout",
     "output_type": "stream",
     "text": [
      "[########################################] | 100% Completed |  9.9s\n"
     ]
    },
    {
     "name": "stderr",
     "output_type": "stream",
     "text": [
      "[14:40:31 - __main__] Saving to file: /path/to/data/MinION_sequencing_data_20191216/guppy_3.2.2_12_16_19_run_01_exec_20200107/sw/fastq_runid_897cd225d1c3eef2d8da014b83aad9fb76f55a5f_57_2.tsv\n",
      "[14:40:31 - __main__] Starting fastq (226 of 405)\n",
      "\t/path/to/data/MinION_sequencing_data_20191216/guppy_3.2.2_12_16_19_run_01_exec_20200107/pass/fastq_runid_897cd225d1c3eef2d8da014b83aad9fb76f55a5f_58_0.fastq\n"
     ]
    },
    {
     "name": "stdout",
     "output_type": "stream",
     "text": [
      "[########################################] | 100% Completed | 36.9s\n"
     ]
    },
    {
     "name": "stderr",
     "output_type": "stream",
     "text": [
      "[14:41:08 - __main__] Saving to file: /path/to/data/MinION_sequencing_data_20191216/guppy_3.2.2_12_16_19_run_01_exec_20200107/sw/fastq_runid_897cd225d1c3eef2d8da014b83aad9fb76f55a5f_58_0.tsv\n",
      "[14:41:08 - __main__] Starting fastq (227 of 405)\n",
      "\t/path/to/data/MinION_sequencing_data_20191216/guppy_3.2.2_12_16_19_run_01_exec_20200107/pass/fastq_runid_897cd225d1c3eef2d8da014b83aad9fb76f55a5f_55_3.fastq\n"
     ]
    },
    {
     "name": "stdout",
     "output_type": "stream",
     "text": [
      "[########################################] | 100% Completed | 35.0s\n"
     ]
    },
    {
     "name": "stderr",
     "output_type": "stream",
     "text": [
      "[14:41:44 - __main__] Saving to file: /path/to/data/MinION_sequencing_data_20191216/guppy_3.2.2_12_16_19_run_01_exec_20200107/sw/fastq_runid_897cd225d1c3eef2d8da014b83aad9fb76f55a5f_55_3.tsv\n",
      "[14:41:44 - __main__] Starting fastq (228 of 405)\n",
      "\t/path/to/data/MinION_sequencing_data_20191216/guppy_3.2.2_12_16_19_run_01_exec_20200107/pass/fastq_runid_897cd225d1c3eef2d8da014b83aad9fb76f55a5f_58_1.fastq\n"
     ]
    },
    {
     "name": "stdout",
     "output_type": "stream",
     "text": [
      "[########################################] | 100% Completed | 56.4s\n"
     ]
    },
    {
     "name": "stderr",
     "output_type": "stream",
     "text": [
      "[14:42:40 - __main__] Saving to file: /path/to/data/MinION_sequencing_data_20191216/guppy_3.2.2_12_16_19_run_01_exec_20200107/sw/fastq_runid_897cd225d1c3eef2d8da014b83aad9fb76f55a5f_58_1.tsv\n",
      "[14:42:41 - __main__] Starting fastq (229 of 405)\n",
      "\t/path/to/data/MinION_sequencing_data_20191216/guppy_3.2.2_12_16_19_run_01_exec_20200107/pass/fastq_runid_897cd225d1c3eef2d8da014b83aad9fb76f55a5f_58_2.fastq\n"
     ]
    },
    {
     "name": "stdout",
     "output_type": "stream",
     "text": [
      "[########################################] | 100% Completed | 47.7s\n"
     ]
    },
    {
     "name": "stderr",
     "output_type": "stream",
     "text": [
      "[14:43:29 - __main__] Saving to file: /path/to/data/MinION_sequencing_data_20191216/guppy_3.2.2_12_16_19_run_01_exec_20200107/sw/fastq_runid_897cd225d1c3eef2d8da014b83aad9fb76f55a5f_58_2.tsv\n",
      "[14:43:29 - __main__] Starting fastq (230 of 405)\n",
      "\t/path/to/data/MinION_sequencing_data_20191216/guppy_3.2.2_12_16_19_run_01_exec_20200107/pass/fastq_runid_897cd225d1c3eef2d8da014b83aad9fb76f55a5f_56_3.fastq\n"
     ]
    },
    {
     "name": "stdout",
     "output_type": "stream",
     "text": [
      "[########################################] | 100% Completed |  0.9s\n"
     ]
    },
    {
     "name": "stderr",
     "output_type": "stream",
     "text": [
      "[14:43:30 - __main__] Saving to file: /path/to/data/MinION_sequencing_data_20191216/guppy_3.2.2_12_16_19_run_01_exec_20200107/sw/fastq_runid_897cd225d1c3eef2d8da014b83aad9fb76f55a5f_56_3.tsv\n",
      "[14:43:30 - __main__] Starting fastq (231 of 405)\n",
      "\t/path/to/data/MinION_sequencing_data_20191216/guppy_3.2.2_12_16_19_run_01_exec_20200107/pass/fastq_runid_897cd225d1c3eef2d8da014b83aad9fb76f55a5f_57_3.fastq\n"
     ]
    },
    {
     "name": "stdout",
     "output_type": "stream",
     "text": [
      "[########################################] | 100% Completed |  0.9s\n"
     ]
    },
    {
     "name": "stderr",
     "output_type": "stream",
     "text": [
      "[14:43:31 - __main__] Saving to file: /path/to/data/MinION_sequencing_data_20191216/guppy_3.2.2_12_16_19_run_01_exec_20200107/sw/fastq_runid_897cd225d1c3eef2d8da014b83aad9fb76f55a5f_57_3.tsv\n",
      "[14:43:31 - __main__] Starting fastq (232 of 405)\n",
      "\t/path/to/data/MinION_sequencing_data_20191216/guppy_3.2.2_12_16_19_run_01_exec_20200107/pass/fastq_runid_897cd225d1c3eef2d8da014b83aad9fb76f55a5f_58_3.fastq\n"
     ]
    },
    {
     "name": "stdout",
     "output_type": "stream",
     "text": [
      "[########################################] | 100% Completed |  3.0s\n"
     ]
    },
    {
     "name": "stderr",
     "output_type": "stream",
     "text": [
      "[14:43:34 - __main__] Saving to file: /path/to/data/MinION_sequencing_data_20191216/guppy_3.2.2_12_16_19_run_01_exec_20200107/sw/fastq_runid_897cd225d1c3eef2d8da014b83aad9fb76f55a5f_58_3.tsv\n",
      "[14:43:34 - __main__] Starting fastq (233 of 405)\n",
      "\t/path/to/data/MinION_sequencing_data_20191216/guppy_3.2.2_12_16_19_run_01_exec_20200107/pass/fastq_runid_897cd225d1c3eef2d8da014b83aad9fb76f55a5f_59_0.fastq\n"
     ]
    },
    {
     "name": "stdout",
     "output_type": "stream",
     "text": [
      "[########################################] | 100% Completed | 31.9s\n"
     ]
    },
    {
     "name": "stderr",
     "output_type": "stream",
     "text": [
      "[14:44:06 - __main__] Saving to file: /path/to/data/MinION_sequencing_data_20191216/guppy_3.2.2_12_16_19_run_01_exec_20200107/sw/fastq_runid_897cd225d1c3eef2d8da014b83aad9fb76f55a5f_59_0.tsv\n",
      "[14:44:07 - __main__] Starting fastq (234 of 405)\n",
      "\t/path/to/data/MinION_sequencing_data_20191216/guppy_3.2.2_12_16_19_run_01_exec_20200107/pass/fastq_runid_897cd225d1c3eef2d8da014b83aad9fb76f55a5f_59_1.fastq\n"
     ]
    },
    {
     "name": "stdout",
     "output_type": "stream",
     "text": [
      "[########################################] | 100% Completed |  1min 22.6s\n"
     ]
    },
    {
     "name": "stderr",
     "output_type": "stream",
     "text": [
      "[14:45:29 - __main__] Saving to file: /path/to/data/MinION_sequencing_data_20191216/guppy_3.2.2_12_16_19_run_01_exec_20200107/sw/fastq_runid_897cd225d1c3eef2d8da014b83aad9fb76f55a5f_59_1.tsv\n",
      "[14:45:30 - __main__] Starting fastq (235 of 405)\n",
      "\t/path/to/data/MinION_sequencing_data_20191216/guppy_3.2.2_12_16_19_run_01_exec_20200107/pass/fastq_runid_897cd225d1c3eef2d8da014b83aad9fb76f55a5f_59_2.fastq\n"
     ]
    },
    {
     "name": "stdout",
     "output_type": "stream",
     "text": [
      "[########################################] | 100% Completed | 28.9s\n"
     ]
    },
    {
     "name": "stderr",
     "output_type": "stream",
     "text": [
      "[14:45:59 - __main__] Saving to file: /path/to/data/MinION_sequencing_data_20191216/guppy_3.2.2_12_16_19_run_01_exec_20200107/sw/fastq_runid_897cd225d1c3eef2d8da014b83aad9fb76f55a5f_59_2.tsv\n",
      "[14:45:59 - __main__] Starting fastq (236 of 405)\n",
      "\t/path/to/data/MinION_sequencing_data_20191216/guppy_3.2.2_12_16_19_run_01_exec_20200107/pass/fastq_runid_897cd225d1c3eef2d8da014b83aad9fb76f55a5f_60_0.fastq\n"
     ]
    },
    {
     "name": "stdout",
     "output_type": "stream",
     "text": [
      "[########################################] | 100% Completed | 51.7s\n"
     ]
    },
    {
     "name": "stderr",
     "output_type": "stream",
     "text": [
      "[14:46:51 - __main__] Saving to file: /path/to/data/MinION_sequencing_data_20191216/guppy_3.2.2_12_16_19_run_01_exec_20200107/sw/fastq_runid_897cd225d1c3eef2d8da014b83aad9fb76f55a5f_60_0.tsv\n",
      "[14:46:51 - __main__] Starting fastq (237 of 405)\n",
      "\t/path/to/data/MinION_sequencing_data_20191216/guppy_3.2.2_12_16_19_run_01_exec_20200107/pass/fastq_runid_897cd225d1c3eef2d8da014b83aad9fb76f55a5f_60_1.fastq\n"
     ]
    },
    {
     "name": "stdout",
     "output_type": "stream",
     "text": [
      "[########################################] | 100% Completed |  1min 21.0s\n"
     ]
    },
    {
     "name": "stderr",
     "output_type": "stream",
     "text": [
      "[14:48:12 - __main__] Saving to file: /path/to/data/MinION_sequencing_data_20191216/guppy_3.2.2_12_16_19_run_01_exec_20200107/sw/fastq_runid_897cd225d1c3eef2d8da014b83aad9fb76f55a5f_60_1.tsv\n",
      "[14:48:13 - __main__] Starting fastq (238 of 405)\n",
      "\t/path/to/data/MinION_sequencing_data_20191216/guppy_3.2.2_12_16_19_run_01_exec_20200107/pass/fastq_runid_897cd225d1c3eef2d8da014b83aad9fb76f55a5f_59_3.fastq\n"
     ]
    },
    {
     "name": "stdout",
     "output_type": "stream",
     "text": [
      "[########################################] | 100% Completed |  1.0s\n"
     ]
    },
    {
     "name": "stderr",
     "output_type": "stream",
     "text": [
      "[14:48:14 - __main__] Saving to file: /path/to/data/MinION_sequencing_data_20191216/guppy_3.2.2_12_16_19_run_01_exec_20200107/sw/fastq_runid_897cd225d1c3eef2d8da014b83aad9fb76f55a5f_59_3.tsv\n",
      "[14:48:14 - __main__] Starting fastq (239 of 405)\n",
      "\t/path/to/data/MinION_sequencing_data_20191216/guppy_3.2.2_12_16_19_run_01_exec_20200107/pass/fastq_runid_897cd225d1c3eef2d8da014b83aad9fb76f55a5f_60_2.fastq\n"
     ]
    },
    {
     "name": "stdout",
     "output_type": "stream",
     "text": [
      "[########################################] | 100% Completed |  2.9s\n"
     ]
    },
    {
     "name": "stderr",
     "output_type": "stream",
     "text": [
      "[14:48:17 - __main__] Saving to file: /path/to/data/MinION_sequencing_data_20191216/guppy_3.2.2_12_16_19_run_01_exec_20200107/sw/fastq_runid_897cd225d1c3eef2d8da014b83aad9fb76f55a5f_60_2.tsv\n",
      "[14:48:17 - __main__] Starting fastq (240 of 405)\n",
      "\t/path/to/data/MinION_sequencing_data_20191216/guppy_3.2.2_12_16_19_run_01_exec_20200107/pass/fastq_runid_897cd225d1c3eef2d8da014b83aad9fb76f55a5f_61_0.fastq\n"
     ]
    },
    {
     "name": "stdout",
     "output_type": "stream",
     "text": [
      "[########################################] | 100% Completed |  1min 28.3s\n"
     ]
    },
    {
     "name": "stderr",
     "output_type": "stream",
     "text": [
      "[14:49:45 - __main__] Saving to file: /path/to/data/MinION_sequencing_data_20191216/guppy_3.2.2_12_16_19_run_01_exec_20200107/sw/fastq_runid_897cd225d1c3eef2d8da014b83aad9fb76f55a5f_61_0.tsv\n",
      "[14:49:46 - __main__] Starting fastq (241 of 405)\n",
      "\t/path/to/data/MinION_sequencing_data_20191216/guppy_3.2.2_12_16_19_run_01_exec_20200107/pass/fastq_runid_897cd225d1c3eef2d8da014b83aad9fb76f55a5f_60_3.fastq\n"
     ]
    },
    {
     "name": "stdout",
     "output_type": "stream",
     "text": [
      "[########################################] | 100% Completed | 10.6s\n"
     ]
    },
    {
     "name": "stderr",
     "output_type": "stream",
     "text": [
      "[14:49:56 - __main__] Saving to file: /path/to/data/MinION_sequencing_data_20191216/guppy_3.2.2_12_16_19_run_01_exec_20200107/sw/fastq_runid_897cd225d1c3eef2d8da014b83aad9fb76f55a5f_60_3.tsv\n",
      "[14:49:56 - __main__] Starting fastq (242 of 405)\n",
      "\t/path/to/data/MinION_sequencing_data_20191216/guppy_3.2.2_12_16_19_run_01_exec_20200107/pass/fastq_runid_897cd225d1c3eef2d8da014b83aad9fb76f55a5f_61_1.fastq\n"
     ]
    },
    {
     "name": "stdout",
     "output_type": "stream",
     "text": [
      "[########################################] | 100% Completed | 22.1s\n"
     ]
    },
    {
     "name": "stderr",
     "output_type": "stream",
     "text": [
      "[14:50:19 - __main__] Saving to file: /path/to/data/MinION_sequencing_data_20191216/guppy_3.2.2_12_16_19_run_01_exec_20200107/sw/fastq_runid_897cd225d1c3eef2d8da014b83aad9fb76f55a5f_61_1.tsv\n",
      "[14:50:19 - __main__] Starting fastq (243 of 405)\n",
      "\t/path/to/data/MinION_sequencing_data_20191216/guppy_3.2.2_12_16_19_run_01_exec_20200107/pass/fastq_runid_897cd225d1c3eef2d8da014b83aad9fb76f55a5f_61_2.fastq\n"
     ]
    },
    {
     "name": "stdout",
     "output_type": "stream",
     "text": [
      "[########################################] | 100% Completed | 29.3s\n"
     ]
    },
    {
     "name": "stderr",
     "output_type": "stream",
     "text": [
      "[14:50:49 - __main__] Saving to file: /path/to/data/MinION_sequencing_data_20191216/guppy_3.2.2_12_16_19_run_01_exec_20200107/sw/fastq_runid_897cd225d1c3eef2d8da014b83aad9fb76f55a5f_61_2.tsv\n",
      "[14:50:49 - __main__] Starting fastq (244 of 405)\n",
      "\t/path/to/data/MinION_sequencing_data_20191216/guppy_3.2.2_12_16_19_run_01_exec_20200107/pass/fastq_runid_897cd225d1c3eef2d8da014b83aad9fb76f55a5f_61_3.fastq\n"
     ]
    },
    {
     "name": "stdout",
     "output_type": "stream",
     "text": [
      "[########################################] | 100% Completed |  3.9s\n"
     ]
    },
    {
     "name": "stderr",
     "output_type": "stream",
     "text": [
      "[14:50:53 - __main__] Saving to file: /path/to/data/MinION_sequencing_data_20191216/guppy_3.2.2_12_16_19_run_01_exec_20200107/sw/fastq_runid_897cd225d1c3eef2d8da014b83aad9fb76f55a5f_61_3.tsv\n",
      "[14:50:53 - __main__] Starting fastq (245 of 405)\n",
      "\t/path/to/data/MinION_sequencing_data_20191216/guppy_3.2.2_12_16_19_run_01_exec_20200107/pass/fastq_runid_897cd225d1c3eef2d8da014b83aad9fb76f55a5f_62_0.fastq\n"
     ]
    },
    {
     "name": "stdout",
     "output_type": "stream",
     "text": [
      "[########################################] | 100% Completed | 23.5s\n"
     ]
    },
    {
     "name": "stderr",
     "output_type": "stream",
     "text": [
      "[14:51:17 - __main__] Saving to file: /path/to/data/MinION_sequencing_data_20191216/guppy_3.2.2_12_16_19_run_01_exec_20200107/sw/fastq_runid_897cd225d1c3eef2d8da014b83aad9fb76f55a5f_62_0.tsv\n",
      "[14:51:17 - __main__] Starting fastq (246 of 405)\n",
      "\t/path/to/data/MinION_sequencing_data_20191216/guppy_3.2.2_12_16_19_run_01_exec_20200107/pass/fastq_runid_897cd225d1c3eef2d8da014b83aad9fb76f55a5f_62_1.fastq\n"
     ]
    },
    {
     "name": "stdout",
     "output_type": "stream",
     "text": [
      "[########################################] | 100% Completed |  1min  8.7s\n"
     ]
    },
    {
     "name": "stderr",
     "output_type": "stream",
     "text": [
      "[14:52:26 - __main__] Saving to file: /path/to/data/MinION_sequencing_data_20191216/guppy_3.2.2_12_16_19_run_01_exec_20200107/sw/fastq_runid_897cd225d1c3eef2d8da014b83aad9fb76f55a5f_62_1.tsv\n",
      "[14:52:26 - __main__] Starting fastq (247 of 405)\n",
      "\t/path/to/data/MinION_sequencing_data_20191216/guppy_3.2.2_12_16_19_run_01_exec_20200107/pass/fastq_runid_897cd225d1c3eef2d8da014b83aad9fb76f55a5f_63_0.fastq\n"
     ]
    },
    {
     "name": "stdout",
     "output_type": "stream",
     "text": [
      "[########################################] | 100% Completed |  1min 30.0s\n"
     ]
    },
    {
     "name": "stderr",
     "output_type": "stream",
     "text": [
      "[14:53:56 - __main__] Saving to file: /path/to/data/MinION_sequencing_data_20191216/guppy_3.2.2_12_16_19_run_01_exec_20200107/sw/fastq_runid_897cd225d1c3eef2d8da014b83aad9fb76f55a5f_63_0.tsv\n",
      "[14:53:56 - __main__] Starting fastq (248 of 405)\n",
      "\t/path/to/data/MinION_sequencing_data_20191216/guppy_3.2.2_12_16_19_run_01_exec_20200107/pass/fastq_runid_897cd225d1c3eef2d8da014b83aad9fb76f55a5f_62_2.fastq\n"
     ]
    },
    {
     "name": "stdout",
     "output_type": "stream",
     "text": [
      "[########################################] | 100% Completed | 22.4s\n"
     ]
    },
    {
     "name": "stderr",
     "output_type": "stream",
     "text": [
      "[14:54:19 - __main__] Saving to file: /path/to/data/MinION_sequencing_data_20191216/guppy_3.2.2_12_16_19_run_01_exec_20200107/sw/fastq_runid_897cd225d1c3eef2d8da014b83aad9fb76f55a5f_62_2.tsv\n",
      "[14:54:19 - __main__] Starting fastq (249 of 405)\n",
      "\t/path/to/data/MinION_sequencing_data_20191216/guppy_3.2.2_12_16_19_run_01_exec_20200107/pass/fastq_runid_897cd225d1c3eef2d8da014b83aad9fb76f55a5f_62_3.fastq\n"
     ]
    },
    {
     "name": "stdout",
     "output_type": "stream",
     "text": [
      "[########################################] | 100% Completed | 30.2s\n"
     ]
    },
    {
     "name": "stderr",
     "output_type": "stream",
     "text": [
      "[14:54:50 - __main__] Saving to file: /path/to/data/MinION_sequencing_data_20191216/guppy_3.2.2_12_16_19_run_01_exec_20200107/sw/fastq_runid_897cd225d1c3eef2d8da014b83aad9fb76f55a5f_62_3.tsv\n",
      "[14:54:50 - __main__] Starting fastq (250 of 405)\n",
      "\t/path/to/data/MinION_sequencing_data_20191216/guppy_3.2.2_12_16_19_run_01_exec_20200107/pass/fastq_runid_897cd225d1c3eef2d8da014b83aad9fb76f55a5f_63_1.fastq\n"
     ]
    },
    {
     "name": "stdout",
     "output_type": "stream",
     "text": [
      "[########################################] | 100% Completed |  1.0s\n"
     ]
    },
    {
     "name": "stderr",
     "output_type": "stream",
     "text": [
      "[14:54:51 - __main__] Saving to file: /path/to/data/MinION_sequencing_data_20191216/guppy_3.2.2_12_16_19_run_01_exec_20200107/sw/fastq_runid_897cd225d1c3eef2d8da014b83aad9fb76f55a5f_63_1.tsv\n",
      "[14:54:51 - __main__] Starting fastq (251 of 405)\n",
      "\t/path/to/data/MinION_sequencing_data_20191216/guppy_3.2.2_12_16_19_run_01_exec_20200107/pass/fastq_runid_897cd225d1c3eef2d8da014b83aad9fb76f55a5f_64_0.fastq\n"
     ]
    },
    {
     "name": "stdout",
     "output_type": "stream",
     "text": [
      "[########################################] | 100% Completed | 45.3s\n"
     ]
    },
    {
     "name": "stderr",
     "output_type": "stream",
     "text": [
      "[14:55:36 - __main__] Saving to file: /path/to/data/MinION_sequencing_data_20191216/guppy_3.2.2_12_16_19_run_01_exec_20200107/sw/fastq_runid_897cd225d1c3eef2d8da014b83aad9fb76f55a5f_64_0.tsv\n",
      "[14:55:37 - __main__] Starting fastq (252 of 405)\n",
      "\t/path/to/data/MinION_sequencing_data_20191216/guppy_3.2.2_12_16_19_run_01_exec_20200107/pass/fastq_runid_897cd225d1c3eef2d8da014b83aad9fb76f55a5f_63_2.fastq\n"
     ]
    },
    {
     "name": "stdout",
     "output_type": "stream",
     "text": [
      "[########################################] | 100% Completed | 50.5s\n"
     ]
    },
    {
     "name": "stderr",
     "output_type": "stream",
     "text": [
      "[14:56:27 - __main__] Saving to file: /path/to/data/MinION_sequencing_data_20191216/guppy_3.2.2_12_16_19_run_01_exec_20200107/sw/fastq_runid_897cd225d1c3eef2d8da014b83aad9fb76f55a5f_63_2.tsv\n",
      "[14:56:27 - __main__] Starting fastq (253 of 405)\n",
      "\t/path/to/data/MinION_sequencing_data_20191216/guppy_3.2.2_12_16_19_run_01_exec_20200107/pass/fastq_runid_897cd225d1c3eef2d8da014b83aad9fb76f55a5f_63_3.fastq\n"
     ]
    },
    {
     "name": "stdout",
     "output_type": "stream",
     "text": [
      "[########################################] | 100% Completed |  4.2s\n"
     ]
    },
    {
     "name": "stderr",
     "output_type": "stream",
     "text": [
      "[14:56:32 - __main__] Saving to file: /path/to/data/MinION_sequencing_data_20191216/guppy_3.2.2_12_16_19_run_01_exec_20200107/sw/fastq_runid_897cd225d1c3eef2d8da014b83aad9fb76f55a5f_63_3.tsv\n",
      "[14:56:32 - __main__] Starting fastq (254 of 405)\n",
      "\t/path/to/data/MinION_sequencing_data_20191216/guppy_3.2.2_12_16_19_run_01_exec_20200107/pass/fastq_runid_897cd225d1c3eef2d8da014b83aad9fb76f55a5f_64_1.fastq\n"
     ]
    },
    {
     "name": "stdout",
     "output_type": "stream",
     "text": [
      "[########################################] | 100% Completed | 50.1s\n"
     ]
    },
    {
     "name": "stderr",
     "output_type": "stream",
     "text": [
      "[14:57:22 - __main__] Saving to file: /path/to/data/MinION_sequencing_data_20191216/guppy_3.2.2_12_16_19_run_01_exec_20200107/sw/fastq_runid_897cd225d1c3eef2d8da014b83aad9fb76f55a5f_64_1.tsv\n",
      "[14:57:22 - __main__] Starting fastq (255 of 405)\n",
      "\t/path/to/data/MinION_sequencing_data_20191216/guppy_3.2.2_12_16_19_run_01_exec_20200107/pass/fastq_runid_897cd225d1c3eef2d8da014b83aad9fb76f55a5f_64_2.fastq\n"
     ]
    },
    {
     "name": "stdout",
     "output_type": "stream",
     "text": [
      "[########################################] | 100% Completed |  5.2s\n"
     ]
    },
    {
     "name": "stderr",
     "output_type": "stream",
     "text": [
      "[14:57:28 - __main__] Saving to file: /path/to/data/MinION_sequencing_data_20191216/guppy_3.2.2_12_16_19_run_01_exec_20200107/sw/fastq_runid_897cd225d1c3eef2d8da014b83aad9fb76f55a5f_64_2.tsv\n",
      "[14:57:28 - __main__] Starting fastq (256 of 405)\n",
      "\t/path/to/data/MinION_sequencing_data_20191216/guppy_3.2.2_12_16_19_run_01_exec_20200107/pass/fastq_runid_897cd225d1c3eef2d8da014b83aad9fb76f55a5f_65_0.fastq\n"
     ]
    },
    {
     "name": "stdout",
     "output_type": "stream",
     "text": [
      "[########################################] | 100% Completed |  1min 20.3s\n"
     ]
    },
    {
     "name": "stderr",
     "output_type": "stream",
     "text": [
      "[14:58:48 - __main__] Saving to file: /path/to/data/MinION_sequencing_data_20191216/guppy_3.2.2_12_16_19_run_01_exec_20200107/sw/fastq_runid_897cd225d1c3eef2d8da014b83aad9fb76f55a5f_65_0.tsv\n",
      "[14:58:49 - __main__] Starting fastq (257 of 405)\n",
      "\t/path/to/data/MinION_sequencing_data_20191216/guppy_3.2.2_12_16_19_run_01_exec_20200107/pass/fastq_runid_897cd225d1c3eef2d8da014b83aad9fb76f55a5f_64_3.fastq\n"
     ]
    },
    {
     "name": "stdout",
     "output_type": "stream",
     "text": [
      "[########################################] | 100% Completed | 44.3s\n"
     ]
    },
    {
     "name": "stderr",
     "output_type": "stream",
     "text": [
      "[14:59:33 - __main__] Saving to file: /path/to/data/MinION_sequencing_data_20191216/guppy_3.2.2_12_16_19_run_01_exec_20200107/sw/fastq_runid_897cd225d1c3eef2d8da014b83aad9fb76f55a5f_64_3.tsv\n",
      "[14:59:33 - __main__] Starting fastq (258 of 405)\n",
      "\t/path/to/data/MinION_sequencing_data_20191216/guppy_3.2.2_12_16_19_run_01_exec_20200107/pass/fastq_runid_897cd225d1c3eef2d8da014b83aad9fb76f55a5f_65_1.fastq\n"
     ]
    },
    {
     "name": "stdout",
     "output_type": "stream",
     "text": [
      "[########################################] | 100% Completed |  0.9s\n"
     ]
    },
    {
     "name": "stderr",
     "output_type": "stream",
     "text": [
      "[14:59:34 - __main__] Saving to file: /path/to/data/MinION_sequencing_data_20191216/guppy_3.2.2_12_16_19_run_01_exec_20200107/sw/fastq_runid_897cd225d1c3eef2d8da014b83aad9fb76f55a5f_65_1.tsv\n",
      "[14:59:35 - __main__] Starting fastq (259 of 405)\n",
      "\t/path/to/data/MinION_sequencing_data_20191216/guppy_3.2.2_12_16_19_run_01_exec_20200107/pass/fastq_runid_897cd225d1c3eef2d8da014b83aad9fb76f55a5f_66_0.fastq\n"
     ]
    },
    {
     "name": "stdout",
     "output_type": "stream",
     "text": [
      "[########################################] | 100% Completed |  1min 15.8s\n"
     ]
    },
    {
     "name": "stderr",
     "output_type": "stream",
     "text": [
      "[15:00:51 - __main__] Saving to file: /path/to/data/MinION_sequencing_data_20191216/guppy_3.2.2_12_16_19_run_01_exec_20200107/sw/fastq_runid_897cd225d1c3eef2d8da014b83aad9fb76f55a5f_66_0.tsv\n",
      "[15:00:51 - __main__] Starting fastq (260 of 405)\n",
      "\t/path/to/data/MinION_sequencing_data_20191216/guppy_3.2.2_12_16_19_run_01_exec_20200107/pass/fastq_runid_897cd225d1c3eef2d8da014b83aad9fb76f55a5f_65_2.fastq\n"
     ]
    },
    {
     "name": "stdout",
     "output_type": "stream",
     "text": [
      "[########################################] | 100% Completed | 53.7s\n"
     ]
    },
    {
     "name": "stderr",
     "output_type": "stream",
     "text": [
      "[15:01:45 - __main__] Saving to file: /path/to/data/MinION_sequencing_data_20191216/guppy_3.2.2_12_16_19_run_01_exec_20200107/sw/fastq_runid_897cd225d1c3eef2d8da014b83aad9fb76f55a5f_65_2.tsv\n",
      "[15:01:45 - __main__] Starting fastq (261 of 405)\n",
      "\t/path/to/data/MinION_sequencing_data_20191216/guppy_3.2.2_12_16_19_run_01_exec_20200107/pass/fastq_runid_897cd225d1c3eef2d8da014b83aad9fb76f55a5f_65_3.fastq\n"
     ]
    },
    {
     "name": "stdout",
     "output_type": "stream",
     "text": [
      "[########################################] | 100% Completed |  5.7s\n"
     ]
    },
    {
     "name": "stderr",
     "output_type": "stream",
     "text": [
      "[15:01:51 - __main__] Saving to file: /path/to/data/MinION_sequencing_data_20191216/guppy_3.2.2_12_16_19_run_01_exec_20200107/sw/fastq_runid_897cd225d1c3eef2d8da014b83aad9fb76f55a5f_65_3.tsv\n",
      "[15:01:51 - __main__] Starting fastq (262 of 405)\n",
      "\t/path/to/data/MinION_sequencing_data_20191216/guppy_3.2.2_12_16_19_run_01_exec_20200107/pass/fastq_runid_897cd225d1c3eef2d8da014b83aad9fb76f55a5f_66_1.fastq\n"
     ]
    },
    {
     "name": "stdout",
     "output_type": "stream",
     "text": [
      "[########################################] | 100% Completed | 37.6s\n"
     ]
    },
    {
     "name": "stderr",
     "output_type": "stream",
     "text": [
      "[15:02:29 - __main__] Saving to file: /path/to/data/MinION_sequencing_data_20191216/guppy_3.2.2_12_16_19_run_01_exec_20200107/sw/fastq_runid_897cd225d1c3eef2d8da014b83aad9fb76f55a5f_66_1.tsv\n",
      "[15:02:29 - __main__] Starting fastq (263 of 405)\n",
      "\t/path/to/data/MinION_sequencing_data_20191216/guppy_3.2.2_12_16_19_run_01_exec_20200107/pass/fastq_runid_897cd225d1c3eef2d8da014b83aad9fb76f55a5f_66_2.fastq\n"
     ]
    },
    {
     "name": "stdout",
     "output_type": "stream",
     "text": [
      "[########################################] | 100% Completed | 27.1s\n"
     ]
    },
    {
     "name": "stderr",
     "output_type": "stream",
     "text": [
      "[15:02:56 - __main__] Saving to file: /path/to/data/MinION_sequencing_data_20191216/guppy_3.2.2_12_16_19_run_01_exec_20200107/sw/fastq_runid_897cd225d1c3eef2d8da014b83aad9fb76f55a5f_66_2.tsv\n",
      "[15:02:56 - __main__] Starting fastq (264 of 405)\n",
      "\t/path/to/data/MinION_sequencing_data_20191216/guppy_3.2.2_12_16_19_run_01_exec_20200107/pass/fastq_runid_897cd225d1c3eef2d8da014b83aad9fb76f55a5f_67_0.fastq\n"
     ]
    },
    {
     "name": "stdout",
     "output_type": "stream",
     "text": [
      "[########################################] | 100% Completed | 33.6s\n"
     ]
    },
    {
     "name": "stderr",
     "output_type": "stream",
     "text": [
      "[15:03:30 - __main__] Saving to file: /path/to/data/MinION_sequencing_data_20191216/guppy_3.2.2_12_16_19_run_01_exec_20200107/sw/fastq_runid_897cd225d1c3eef2d8da014b83aad9fb76f55a5f_67_0.tsv\n",
      "[15:03:30 - __main__] Starting fastq (265 of 405)\n",
      "\t/path/to/data/MinION_sequencing_data_20191216/guppy_3.2.2_12_16_19_run_01_exec_20200107/pass/fastq_runid_897cd225d1c3eef2d8da014b83aad9fb76f55a5f_66_3.fastq\n"
     ]
    },
    {
     "name": "stdout",
     "output_type": "stream",
     "text": [
      "[########################################] | 100% Completed |  1.8s\n"
     ]
    },
    {
     "name": "stderr",
     "output_type": "stream",
     "text": [
      "[15:03:32 - __main__] Saving to file: /path/to/data/MinION_sequencing_data_20191216/guppy_3.2.2_12_16_19_run_01_exec_20200107/sw/fastq_runid_897cd225d1c3eef2d8da014b83aad9fb76f55a5f_66_3.tsv\n",
      "[15:03:32 - __main__] Starting fastq (266 of 405)\n",
      "\t/path/to/data/MinION_sequencing_data_20191216/guppy_3.2.2_12_16_19_run_01_exec_20200107/pass/fastq_runid_897cd225d1c3eef2d8da014b83aad9fb76f55a5f_67_1.fastq\n"
     ]
    },
    {
     "name": "stdout",
     "output_type": "stream",
     "text": [
      "[########################################] | 100% Completed | 19.0s\n"
     ]
    },
    {
     "name": "stderr",
     "output_type": "stream",
     "text": [
      "[15:03:51 - __main__] Saving to file: /path/to/data/MinION_sequencing_data_20191216/guppy_3.2.2_12_16_19_run_01_exec_20200107/sw/fastq_runid_897cd225d1c3eef2d8da014b83aad9fb76f55a5f_67_1.tsv\n",
      "[15:03:52 - __main__] Starting fastq (267 of 405)\n",
      "\t/path/to/data/MinION_sequencing_data_20191216/guppy_3.2.2_12_16_19_run_01_exec_20200107/pass/fastq_runid_897cd225d1c3eef2d8da014b83aad9fb76f55a5f_68_0.fastq\n"
     ]
    },
    {
     "name": "stdout",
     "output_type": "stream",
     "text": [
      "[########################################] | 100% Completed | 35.1s\n"
     ]
    },
    {
     "name": "stderr",
     "output_type": "stream",
     "text": [
      "[15:04:27 - __main__] Saving to file: /path/to/data/MinION_sequencing_data_20191216/guppy_3.2.2_12_16_19_run_01_exec_20200107/sw/fastq_runid_897cd225d1c3eef2d8da014b83aad9fb76f55a5f_68_0.tsv\n",
      "[15:04:27 - __main__] Starting fastq (268 of 405)\n",
      "\t/path/to/data/MinION_sequencing_data_20191216/guppy_3.2.2_12_16_19_run_01_exec_20200107/pass/fastq_runid_897cd225d1c3eef2d8da014b83aad9fb76f55a5f_67_2.fastq\n"
     ]
    },
    {
     "name": "stdout",
     "output_type": "stream",
     "text": [
      "[########################################] | 100% Completed |  6.3s\n"
     ]
    },
    {
     "name": "stderr",
     "output_type": "stream",
     "text": [
      "[15:04:34 - __main__] Saving to file: /path/to/data/MinION_sequencing_data_20191216/guppy_3.2.2_12_16_19_run_01_exec_20200107/sw/fastq_runid_897cd225d1c3eef2d8da014b83aad9fb76f55a5f_67_2.tsv\n",
      "[15:04:34 - __main__] Starting fastq (269 of 405)\n",
      "\t/path/to/data/MinION_sequencing_data_20191216/guppy_3.2.2_12_16_19_run_01_exec_20200107/pass/fastq_runid_897cd225d1c3eef2d8da014b83aad9fb76f55a5f_68_1.fastq\n"
     ]
    },
    {
     "name": "stdout",
     "output_type": "stream",
     "text": [
      "[########################################] | 100% Completed |  1min  8.2s\n"
     ]
    },
    {
     "name": "stderr",
     "output_type": "stream",
     "text": [
      "[15:05:42 - __main__] Saving to file: /path/to/data/MinION_sequencing_data_20191216/guppy_3.2.2_12_16_19_run_01_exec_20200107/sw/fastq_runid_897cd225d1c3eef2d8da014b83aad9fb76f55a5f_68_1.tsv\n",
      "[15:05:42 - __main__] Starting fastq (270 of 405)\n",
      "\t/path/to/data/MinION_sequencing_data_20191216/guppy_3.2.2_12_16_19_run_01_exec_20200107/pass/fastq_runid_897cd225d1c3eef2d8da014b83aad9fb76f55a5f_67_3.fastq\n"
     ]
    },
    {
     "name": "stdout",
     "output_type": "stream",
     "text": [
      "[########################################] | 100% Completed |  1min 23.3s\n"
     ]
    },
    {
     "name": "stderr",
     "output_type": "stream",
     "text": [
      "[15:07:06 - __main__] Saving to file: /path/to/data/MinION_sequencing_data_20191216/guppy_3.2.2_12_16_19_run_01_exec_20200107/sw/fastq_runid_897cd225d1c3eef2d8da014b83aad9fb76f55a5f_67_3.tsv\n",
      "[15:07:06 - __main__] Starting fastq (271 of 405)\n",
      "\t/path/to/data/MinION_sequencing_data_20191216/guppy_3.2.2_12_16_19_run_01_exec_20200107/pass/fastq_runid_897cd225d1c3eef2d8da014b83aad9fb76f55a5f_69_0.fastq\n"
     ]
    },
    {
     "name": "stdout",
     "output_type": "stream",
     "text": [
      "[########################################] | 100% Completed |  1min 10.4s\n"
     ]
    },
    {
     "name": "stderr",
     "output_type": "stream",
     "text": [
      "[15:08:17 - __main__] Saving to file: /path/to/data/MinION_sequencing_data_20191216/guppy_3.2.2_12_16_19_run_01_exec_20200107/sw/fastq_runid_897cd225d1c3eef2d8da014b83aad9fb76f55a5f_69_0.tsv\n",
      "[15:08:17 - __main__] Starting fastq (272 of 405)\n",
      "\t/path/to/data/MinION_sequencing_data_20191216/guppy_3.2.2_12_16_19_run_01_exec_20200107/pass/fastq_runid_897cd225d1c3eef2d8da014b83aad9fb76f55a5f_68_2.fastq\n"
     ]
    },
    {
     "name": "stdout",
     "output_type": "stream",
     "text": [
      "[########################################] | 100% Completed | 38.9s\n"
     ]
    },
    {
     "name": "stderr",
     "output_type": "stream",
     "text": [
      "[15:08:56 - __main__] Saving to file: /path/to/data/MinION_sequencing_data_20191216/guppy_3.2.2_12_16_19_run_01_exec_20200107/sw/fastq_runid_897cd225d1c3eef2d8da014b83aad9fb76f55a5f_68_2.tsv\n",
      "[15:08:56 - __main__] Starting fastq (273 of 405)\n",
      "\t/path/to/data/MinION_sequencing_data_20191216/guppy_3.2.2_12_16_19_run_01_exec_20200107/pass/fastq_runid_897cd225d1c3eef2d8da014b83aad9fb76f55a5f_69_1.fastq\n"
     ]
    },
    {
     "name": "stdout",
     "output_type": "stream",
     "text": [
      "[########################################] | 100% Completed | 30.1s\n"
     ]
    },
    {
     "name": "stderr",
     "output_type": "stream",
     "text": [
      "[15:09:27 - __main__] Saving to file: /path/to/data/MinION_sequencing_data_20191216/guppy_3.2.2_12_16_19_run_01_exec_20200107/sw/fastq_runid_897cd225d1c3eef2d8da014b83aad9fb76f55a5f_69_1.tsv\n",
      "[15:09:27 - __main__] Starting fastq (274 of 405)\n",
      "\t/path/to/data/MinION_sequencing_data_20191216/guppy_3.2.2_12_16_19_run_01_exec_20200107/pass/fastq_runid_897cd225d1c3eef2d8da014b83aad9fb76f55a5f_69_2.fastq\n"
     ]
    },
    {
     "name": "stdout",
     "output_type": "stream",
     "text": [
      "[########################################] | 100% Completed | 42.6s\n"
     ]
    },
    {
     "name": "stderr",
     "output_type": "stream",
     "text": [
      "[15:10:10 - __main__] Saving to file: /path/to/data/MinION_sequencing_data_20191216/guppy_3.2.2_12_16_19_run_01_exec_20200107/sw/fastq_runid_897cd225d1c3eef2d8da014b83aad9fb76f55a5f_69_2.tsv\n",
      "[15:10:10 - __main__] Starting fastq (275 of 405)\n",
      "\t/path/to/data/MinION_sequencing_data_20191216/guppy_3.2.2_12_16_19_run_01_exec_20200107/pass/fastq_runid_897cd225d1c3eef2d8da014b83aad9fb76f55a5f_70_0.fastq\n"
     ]
    },
    {
     "name": "stdout",
     "output_type": "stream",
     "text": [
      "[########################################] | 100% Completed |  1min  1.1s\n"
     ]
    },
    {
     "name": "stderr",
     "output_type": "stream",
     "text": [
      "[15:11:11 - __main__] Saving to file: /path/to/data/MinION_sequencing_data_20191216/guppy_3.2.2_12_16_19_run_01_exec_20200107/sw/fastq_runid_897cd225d1c3eef2d8da014b83aad9fb76f55a5f_70_0.tsv\n",
      "[15:11:12 - __main__] Starting fastq (276 of 405)\n",
      "\t/path/to/data/MinION_sequencing_data_20191216/guppy_3.2.2_12_16_19_run_01_exec_20200107/pass/fastq_runid_897cd225d1c3eef2d8da014b83aad9fb76f55a5f_69_3.fastq\n"
     ]
    },
    {
     "name": "stdout",
     "output_type": "stream",
     "text": [
      "[########################################] | 100% Completed |  1.8s\n"
     ]
    },
    {
     "name": "stderr",
     "output_type": "stream",
     "text": [
      "[15:11:14 - __main__] Saving to file: /path/to/data/MinION_sequencing_data_20191216/guppy_3.2.2_12_16_19_run_01_exec_20200107/sw/fastq_runid_897cd225d1c3eef2d8da014b83aad9fb76f55a5f_69_3.tsv\n",
      "[15:11:14 - __main__] Starting fastq (277 of 405)\n",
      "\t/path/to/data/MinION_sequencing_data_20191216/guppy_3.2.2_12_16_19_run_01_exec_20200107/pass/fastq_runid_897cd225d1c3eef2d8da014b83aad9fb76f55a5f_70_1.fastq\n"
     ]
    },
    {
     "name": "stdout",
     "output_type": "stream",
     "text": [
      "[########################################] | 100% Completed | 49.7s\n"
     ]
    },
    {
     "name": "stderr",
     "output_type": "stream",
     "text": [
      "[15:12:04 - __main__] Saving to file: /path/to/data/MinION_sequencing_data_20191216/guppy_3.2.2_12_16_19_run_01_exec_20200107/sw/fastq_runid_897cd225d1c3eef2d8da014b83aad9fb76f55a5f_70_1.tsv\n",
      "[15:12:04 - __main__] Starting fastq (278 of 405)\n",
      "\t/path/to/data/MinION_sequencing_data_20191216/guppy_3.2.2_12_16_19_run_01_exec_20200107/pass/fastq_runid_897cd225d1c3eef2d8da014b83aad9fb76f55a5f_70_2.fastq\n"
     ]
    },
    {
     "name": "stdout",
     "output_type": "stream",
     "text": [
      "[########################################] | 100% Completed | 23.4s\n"
     ]
    },
    {
     "name": "stderr",
     "output_type": "stream",
     "text": [
      "[15:12:27 - __main__] Saving to file: /path/to/data/MinION_sequencing_data_20191216/guppy_3.2.2_12_16_19_run_01_exec_20200107/sw/fastq_runid_897cd225d1c3eef2d8da014b83aad9fb76f55a5f_70_2.tsv\n",
      "[15:12:27 - __main__] Starting fastq (279 of 405)\n",
      "\t/path/to/data/MinION_sequencing_data_20191216/guppy_3.2.2_12_16_19_run_01_exec_20200107/pass/fastq_runid_897cd225d1c3eef2d8da014b83aad9fb76f55a5f_70_3.fastq\n"
     ]
    },
    {
     "name": "stdout",
     "output_type": "stream",
     "text": [
      "[########################################] | 100% Completed |  9.8s\n"
     ]
    },
    {
     "name": "stderr",
     "output_type": "stream",
     "text": [
      "[15:12:37 - __main__] Saving to file: /path/to/data/MinION_sequencing_data_20191216/guppy_3.2.2_12_16_19_run_01_exec_20200107/sw/fastq_runid_897cd225d1c3eef2d8da014b83aad9fb76f55a5f_70_3.tsv\n",
      "[15:12:37 - __main__] Starting fastq (280 of 405)\n",
      "\t/path/to/data/MinION_sequencing_data_20191216/guppy_3.2.2_12_16_19_run_01_exec_20200107/pass/fastq_runid_897cd225d1c3eef2d8da014b83aad9fb76f55a5f_68_3.fastq\n"
     ]
    },
    {
     "name": "stdout",
     "output_type": "stream",
     "text": [
      "[########################################] | 100% Completed |  0.8s\n"
     ]
    },
    {
     "name": "stderr",
     "output_type": "stream",
     "text": [
      "[15:12:39 - __main__] Saving to file: /path/to/data/MinION_sequencing_data_20191216/guppy_3.2.2_12_16_19_run_01_exec_20200107/sw/fastq_runid_897cd225d1c3eef2d8da014b83aad9fb76f55a5f_68_3.tsv\n",
      "[15:12:39 - __main__] Starting fastq (281 of 405)\n",
      "\t/path/to/data/MinION_sequencing_data_20191216/guppy_3.2.2_12_16_19_run_01_exec_20200107/pass/fastq_runid_897cd225d1c3eef2d8da014b83aad9fb76f55a5f_71_0.fastq\n"
     ]
    },
    {
     "name": "stdout",
     "output_type": "stream",
     "text": [
      "[########################################] | 100% Completed | 56.5s\n"
     ]
    },
    {
     "name": "stderr",
     "output_type": "stream",
     "text": [
      "[15:13:35 - __main__] Saving to file: /path/to/data/MinION_sequencing_data_20191216/guppy_3.2.2_12_16_19_run_01_exec_20200107/sw/fastq_runid_897cd225d1c3eef2d8da014b83aad9fb76f55a5f_71_0.tsv\n",
      "[15:13:35 - __main__] Starting fastq (282 of 405)\n",
      "\t/path/to/data/MinION_sequencing_data_20191216/guppy_3.2.2_12_16_19_run_01_exec_20200107/pass/fastq_runid_897cd225d1c3eef2d8da014b83aad9fb76f55a5f_71_1.fastq\n"
     ]
    },
    {
     "name": "stdout",
     "output_type": "stream",
     "text": [
      "[########################################] | 100% Completed | 59.3s\n"
     ]
    },
    {
     "name": "stderr",
     "output_type": "stream",
     "text": [
      "[15:14:35 - __main__] Saving to file: /path/to/data/MinION_sequencing_data_20191216/guppy_3.2.2_12_16_19_run_01_exec_20200107/sw/fastq_runid_897cd225d1c3eef2d8da014b83aad9fb76f55a5f_71_1.tsv\n",
      "[15:14:35 - __main__] Starting fastq (283 of 405)\n",
      "\t/path/to/data/MinION_sequencing_data_20191216/guppy_3.2.2_12_16_19_run_01_exec_20200107/pass/fastq_runid_897cd225d1c3eef2d8da014b83aad9fb76f55a5f_71_2.fastq\n"
     ]
    },
    {
     "name": "stdout",
     "output_type": "stream",
     "text": [
      "[########################################] | 100% Completed |  8.7s\n"
     ]
    },
    {
     "name": "stderr",
     "output_type": "stream",
     "text": [
      "[15:14:44 - __main__] Saving to file: /path/to/data/MinION_sequencing_data_20191216/guppy_3.2.2_12_16_19_run_01_exec_20200107/sw/fastq_runid_897cd225d1c3eef2d8da014b83aad9fb76f55a5f_71_2.tsv\n",
      "[15:14:44 - __main__] Starting fastq (284 of 405)\n",
      "\t/path/to/data/MinION_sequencing_data_20191216/guppy_3.2.2_12_16_19_run_01_exec_20200107/pass/fastq_runid_897cd225d1c3eef2d8da014b83aad9fb76f55a5f_71_3.fastq\n"
     ]
    },
    {
     "name": "stdout",
     "output_type": "stream",
     "text": [
      "[########################################] | 100% Completed | 19.8s\n"
     ]
    },
    {
     "name": "stderr",
     "output_type": "stream",
     "text": [
      "[15:15:04 - __main__] Saving to file: /path/to/data/MinION_sequencing_data_20191216/guppy_3.2.2_12_16_19_run_01_exec_20200107/sw/fastq_runid_897cd225d1c3eef2d8da014b83aad9fb76f55a5f_71_3.tsv\n",
      "[15:15:04 - __main__] Starting fastq (285 of 405)\n",
      "\t/path/to/data/MinION_sequencing_data_20191216/guppy_3.2.2_12_16_19_run_01_exec_20200107/pass/fastq_runid_897cd225d1c3eef2d8da014b83aad9fb76f55a5f_72_0.fastq\n"
     ]
    },
    {
     "name": "stdout",
     "output_type": "stream",
     "text": [
      "[########################################] | 100% Completed | 34.5s\n"
     ]
    },
    {
     "name": "stderr",
     "output_type": "stream",
     "text": [
      "[15:15:39 - __main__] Saving to file: /path/to/data/MinION_sequencing_data_20191216/guppy_3.2.2_12_16_19_run_01_exec_20200107/sw/fastq_runid_897cd225d1c3eef2d8da014b83aad9fb76f55a5f_72_0.tsv\n",
      "[15:15:39 - __main__] Starting fastq (286 of 405)\n",
      "\t/path/to/data/MinION_sequencing_data_20191216/guppy_3.2.2_12_16_19_run_01_exec_20200107/pass/fastq_runid_897cd225d1c3eef2d8da014b83aad9fb76f55a5f_72_1.fastq\n"
     ]
    },
    {
     "name": "stdout",
     "output_type": "stream",
     "text": [
      "[########################################] | 100% Completed | 36.4s\n"
     ]
    },
    {
     "name": "stderr",
     "output_type": "stream",
     "text": [
      "[15:16:16 - __main__] Saving to file: /path/to/data/MinION_sequencing_data_20191216/guppy_3.2.2_12_16_19_run_01_exec_20200107/sw/fastq_runid_897cd225d1c3eef2d8da014b83aad9fb76f55a5f_72_1.tsv\n",
      "[15:16:16 - __main__] Starting fastq (287 of 405)\n",
      "\t/path/to/data/MinION_sequencing_data_20191216/guppy_3.2.2_12_16_19_run_01_exec_20200107/pass/fastq_runid_897cd225d1c3eef2d8da014b83aad9fb76f55a5f_72_2.fastq\n"
     ]
    },
    {
     "name": "stdout",
     "output_type": "stream",
     "text": [
      "[########################################] | 100% Completed | 50.5s\n"
     ]
    },
    {
     "name": "stderr",
     "output_type": "stream",
     "text": [
      "[15:17:07 - __main__] Saving to file: /path/to/data/MinION_sequencing_data_20191216/guppy_3.2.2_12_16_19_run_01_exec_20200107/sw/fastq_runid_897cd225d1c3eef2d8da014b83aad9fb76f55a5f_72_2.tsv\n",
      "[15:17:07 - __main__] Starting fastq (288 of 405)\n",
      "\t/path/to/data/MinION_sequencing_data_20191216/guppy_3.2.2_12_16_19_run_01_exec_20200107/pass/fastq_runid_897cd225d1c3eef2d8da014b83aad9fb76f55a5f_72_3.fastq\n"
     ]
    },
    {
     "name": "stdout",
     "output_type": "stream",
     "text": [
      "[########################################] | 100% Completed | 17.4s\n"
     ]
    },
    {
     "name": "stderr",
     "output_type": "stream",
     "text": [
      "[15:17:24 - __main__] Saving to file: /path/to/data/MinION_sequencing_data_20191216/guppy_3.2.2_12_16_19_run_01_exec_20200107/sw/fastq_runid_897cd225d1c3eef2d8da014b83aad9fb76f55a5f_72_3.tsv\n",
      "[15:17:24 - __main__] Starting fastq (289 of 405)\n",
      "\t/path/to/data/MinION_sequencing_data_20191216/guppy_3.2.2_12_16_19_run_01_exec_20200107/pass/fastq_runid_897cd225d1c3eef2d8da014b83aad9fb76f55a5f_73_0.fastq\n"
     ]
    },
    {
     "name": "stdout",
     "output_type": "stream",
     "text": [
      "[########################################] | 100% Completed |  1min 15.4s\n"
     ]
    },
    {
     "name": "stderr",
     "output_type": "stream",
     "text": [
      "[15:18:40 - __main__] Saving to file: /path/to/data/MinION_sequencing_data_20191216/guppy_3.2.2_12_16_19_run_01_exec_20200107/sw/fastq_runid_897cd225d1c3eef2d8da014b83aad9fb76f55a5f_73_0.tsv\n",
      "[15:18:40 - __main__] Starting fastq (290 of 405)\n",
      "\t/path/to/data/MinION_sequencing_data_20191216/guppy_3.2.2_12_16_19_run_01_exec_20200107/pass/fastq_runid_897cd225d1c3eef2d8da014b83aad9fb76f55a5f_73_1.fastq\n"
     ]
    },
    {
     "name": "stdout",
     "output_type": "stream",
     "text": [
      "[########################################] | 100% Completed | 37.6s\n"
     ]
    },
    {
     "name": "stderr",
     "output_type": "stream",
     "text": [
      "[15:19:18 - __main__] Saving to file: /path/to/data/MinION_sequencing_data_20191216/guppy_3.2.2_12_16_19_run_01_exec_20200107/sw/fastq_runid_897cd225d1c3eef2d8da014b83aad9fb76f55a5f_73_1.tsv\n",
      "[15:19:18 - __main__] Starting fastq (291 of 405)\n",
      "\t/path/to/data/MinION_sequencing_data_20191216/guppy_3.2.2_12_16_19_run_01_exec_20200107/pass/fastq_runid_897cd225d1c3eef2d8da014b83aad9fb76f55a5f_73_2.fastq\n"
     ]
    },
    {
     "name": "stdout",
     "output_type": "stream",
     "text": [
      "[########################################] | 100% Completed | 26.2s\n"
     ]
    },
    {
     "name": "stderr",
     "output_type": "stream",
     "text": [
      "[15:19:45 - __main__] Saving to file: /path/to/data/MinION_sequencing_data_20191216/guppy_3.2.2_12_16_19_run_01_exec_20200107/sw/fastq_runid_897cd225d1c3eef2d8da014b83aad9fb76f55a5f_73_2.tsv\n",
      "[15:19:45 - __main__] Starting fastq (292 of 405)\n",
      "\t/path/to/data/MinION_sequencing_data_20191216/guppy_3.2.2_12_16_19_run_01_exec_20200107/pass/fastq_runid_897cd225d1c3eef2d8da014b83aad9fb76f55a5f_73_3.fastq\n"
     ]
    },
    {
     "name": "stdout",
     "output_type": "stream",
     "text": [
      "[########################################] | 100% Completed |  3.2s\n"
     ]
    },
    {
     "name": "stderr",
     "output_type": "stream",
     "text": [
      "[15:19:48 - __main__] Saving to file: /path/to/data/MinION_sequencing_data_20191216/guppy_3.2.2_12_16_19_run_01_exec_20200107/sw/fastq_runid_897cd225d1c3eef2d8da014b83aad9fb76f55a5f_73_3.tsv\n",
      "[15:19:48 - __main__] Starting fastq (293 of 405)\n",
      "\t/path/to/data/MinION_sequencing_data_20191216/guppy_3.2.2_12_16_19_run_01_exec_20200107/pass/fastq_runid_897cd225d1c3eef2d8da014b83aad9fb76f55a5f_74_0.fastq\n"
     ]
    },
    {
     "name": "stdout",
     "output_type": "stream",
     "text": [
      "[########################################] | 100% Completed |  1min  7.1s\n"
     ]
    },
    {
     "name": "stderr",
     "output_type": "stream",
     "text": [
      "[15:20:56 - __main__] Saving to file: /path/to/data/MinION_sequencing_data_20191216/guppy_3.2.2_12_16_19_run_01_exec_20200107/sw/fastq_runid_897cd225d1c3eef2d8da014b83aad9fb76f55a5f_74_0.tsv\n",
      "[15:20:56 - __main__] Starting fastq (294 of 405)\n",
      "\t/path/to/data/MinION_sequencing_data_20191216/guppy_3.2.2_12_16_19_run_01_exec_20200107/pass/fastq_runid_897cd225d1c3eef2d8da014b83aad9fb76f55a5f_74_1.fastq\n"
     ]
    },
    {
     "name": "stdout",
     "output_type": "stream",
     "text": [
      "[########################################] | 100% Completed | 45.2s\n"
     ]
    },
    {
     "name": "stderr",
     "output_type": "stream",
     "text": [
      "[15:21:41 - __main__] Saving to file: /path/to/data/MinION_sequencing_data_20191216/guppy_3.2.2_12_16_19_run_01_exec_20200107/sw/fastq_runid_897cd225d1c3eef2d8da014b83aad9fb76f55a5f_74_1.tsv\n",
      "[15:21:41 - __main__] Starting fastq (295 of 405)\n",
      "\t/path/to/data/MinION_sequencing_data_20191216/guppy_3.2.2_12_16_19_run_01_exec_20200107/pass/fastq_runid_897cd225d1c3eef2d8da014b83aad9fb76f55a5f_74_2.fastq\n"
     ]
    },
    {
     "name": "stdout",
     "output_type": "stream",
     "text": [
      "[########################################] | 100% Completed | 11.6s\n"
     ]
    },
    {
     "name": "stderr",
     "output_type": "stream",
     "text": [
      "[15:21:53 - __main__] Saving to file: /path/to/data/MinION_sequencing_data_20191216/guppy_3.2.2_12_16_19_run_01_exec_20200107/sw/fastq_runid_897cd225d1c3eef2d8da014b83aad9fb76f55a5f_74_2.tsv\n",
      "[15:21:53 - __main__] Starting fastq (296 of 405)\n",
      "\t/path/to/data/MinION_sequencing_data_20191216/guppy_3.2.2_12_16_19_run_01_exec_20200107/pass/fastq_runid_897cd225d1c3eef2d8da014b83aad9fb76f55a5f_75_0.fastq\n"
     ]
    },
    {
     "name": "stdout",
     "output_type": "stream",
     "text": [
      "[########################################] | 100% Completed | 41.1s\n"
     ]
    },
    {
     "name": "stderr",
     "output_type": "stream",
     "text": [
      "[15:22:35 - __main__] Saving to file: /path/to/data/MinION_sequencing_data_20191216/guppy_3.2.2_12_16_19_run_01_exec_20200107/sw/fastq_runid_897cd225d1c3eef2d8da014b83aad9fb76f55a5f_75_0.tsv\n",
      "[15:22:35 - __main__] Starting fastq (297 of 405)\n",
      "\t/path/to/data/MinION_sequencing_data_20191216/guppy_3.2.2_12_16_19_run_01_exec_20200107/pass/fastq_runid_897cd225d1c3eef2d8da014b83aad9fb76f55a5f_75_1.fastq\n"
     ]
    },
    {
     "name": "stdout",
     "output_type": "stream",
     "text": [
      "[########################################] | 100% Completed |  1min  8.2s\n"
     ]
    },
    {
     "name": "stderr",
     "output_type": "stream",
     "text": [
      "[15:23:43 - __main__] Saving to file: /path/to/data/MinION_sequencing_data_20191216/guppy_3.2.2_12_16_19_run_01_exec_20200107/sw/fastq_runid_897cd225d1c3eef2d8da014b83aad9fb76f55a5f_75_1.tsv\n",
      "[15:23:43 - __main__] Starting fastq (298 of 405)\n",
      "\t/path/to/data/MinION_sequencing_data_20191216/guppy_3.2.2_12_16_19_run_01_exec_20200107/pass/fastq_runid_897cd225d1c3eef2d8da014b83aad9fb76f55a5f_76_0.fastq\n"
     ]
    },
    {
     "name": "stdout",
     "output_type": "stream",
     "text": [
      "[########################################] | 100% Completed | 43.4s\n"
     ]
    },
    {
     "name": "stderr",
     "output_type": "stream",
     "text": [
      "[15:24:27 - __main__] Saving to file: /path/to/data/MinION_sequencing_data_20191216/guppy_3.2.2_12_16_19_run_01_exec_20200107/sw/fastq_runid_897cd225d1c3eef2d8da014b83aad9fb76f55a5f_76_0.tsv\n",
      "[15:24:27 - __main__] Starting fastq (299 of 405)\n",
      "\t/path/to/data/MinION_sequencing_data_20191216/guppy_3.2.2_12_16_19_run_01_exec_20200107/pass/fastq_runid_897cd225d1c3eef2d8da014b83aad9fb76f55a5f_74_3.fastq\n"
     ]
    },
    {
     "name": "stdout",
     "output_type": "stream",
     "text": [
      "[########################################] | 100% Completed | 17.8s\n"
     ]
    },
    {
     "name": "stderr",
     "output_type": "stream",
     "text": [
      "[15:24:45 - __main__] Saving to file: /path/to/data/MinION_sequencing_data_20191216/guppy_3.2.2_12_16_19_run_01_exec_20200107/sw/fastq_runid_897cd225d1c3eef2d8da014b83aad9fb76f55a5f_74_3.tsv\n",
      "[15:24:45 - __main__] Starting fastq (300 of 405)\n",
      "\t/path/to/data/MinION_sequencing_data_20191216/guppy_3.2.2_12_16_19_run_01_exec_20200107/pass/fastq_runid_897cd225d1c3eef2d8da014b83aad9fb76f55a5f_75_2.fastq\n"
     ]
    },
    {
     "name": "stdout",
     "output_type": "stream",
     "text": [
      "[########################################] | 100% Completed |  6.6s\n"
     ]
    },
    {
     "name": "stderr",
     "output_type": "stream",
     "text": [
      "[15:24:52 - __main__] Saving to file: /path/to/data/MinION_sequencing_data_20191216/guppy_3.2.2_12_16_19_run_01_exec_20200107/sw/fastq_runid_897cd225d1c3eef2d8da014b83aad9fb76f55a5f_75_2.tsv\n",
      "[15:24:52 - __main__] Starting fastq (301 of 405)\n",
      "\t/path/to/data/MinION_sequencing_data_20191216/guppy_3.2.2_12_16_19_run_01_exec_20200107/pass/fastq_runid_897cd225d1c3eef2d8da014b83aad9fb76f55a5f_76_1.fastq\n"
     ]
    },
    {
     "name": "stdout",
     "output_type": "stream",
     "text": [
      "[########################################] | 100% Completed | 39.4s\n"
     ]
    },
    {
     "name": "stderr",
     "output_type": "stream",
     "text": [
      "[15:25:32 - __main__] Saving to file: /path/to/data/MinION_sequencing_data_20191216/guppy_3.2.2_12_16_19_run_01_exec_20200107/sw/fastq_runid_897cd225d1c3eef2d8da014b83aad9fb76f55a5f_76_1.tsv\n",
      "[15:25:32 - __main__] Starting fastq (302 of 405)\n",
      "\t/path/to/data/MinION_sequencing_data_20191216/guppy_3.2.2_12_16_19_run_01_exec_20200107/pass/fastq_runid_897cd225d1c3eef2d8da014b83aad9fb76f55a5f_75_3.fastq\n"
     ]
    },
    {
     "name": "stdout",
     "output_type": "stream",
     "text": [
      "[########################################] | 100% Completed | 25.9s\n"
     ]
    },
    {
     "name": "stderr",
     "output_type": "stream",
     "text": [
      "[15:25:58 - __main__] Saving to file: /path/to/data/MinION_sequencing_data_20191216/guppy_3.2.2_12_16_19_run_01_exec_20200107/sw/fastq_runid_897cd225d1c3eef2d8da014b83aad9fb76f55a5f_75_3.tsv\n",
      "[15:25:58 - __main__] Starting fastq (303 of 405)\n",
      "\t/path/to/data/MinION_sequencing_data_20191216/guppy_3.2.2_12_16_19_run_01_exec_20200107/pass/fastq_runid_897cd225d1c3eef2d8da014b83aad9fb76f55a5f_76_2.fastq\n"
     ]
    },
    {
     "name": "stdout",
     "output_type": "stream",
     "text": [
      "[########################################] | 100% Completed | 51.6s\n"
     ]
    },
    {
     "name": "stderr",
     "output_type": "stream",
     "text": [
      "[15:26:50 - __main__] Saving to file: /path/to/data/MinION_sequencing_data_20191216/guppy_3.2.2_12_16_19_run_01_exec_20200107/sw/fastq_runid_897cd225d1c3eef2d8da014b83aad9fb76f55a5f_76_2.tsv\n",
      "[15:26:50 - __main__] Starting fastq (304 of 405)\n",
      "\t/path/to/data/MinION_sequencing_data_20191216/guppy_3.2.2_12_16_19_run_01_exec_20200107/pass/fastq_runid_897cd225d1c3eef2d8da014b83aad9fb76f55a5f_76_3.fastq\n"
     ]
    },
    {
     "name": "stdout",
     "output_type": "stream",
     "text": [
      "[########################################] | 100% Completed |  8.8s\n"
     ]
    },
    {
     "name": "stderr",
     "output_type": "stream",
     "text": [
      "[15:26:59 - __main__] Saving to file: /path/to/data/MinION_sequencing_data_20191216/guppy_3.2.2_12_16_19_run_01_exec_20200107/sw/fastq_runid_897cd225d1c3eef2d8da014b83aad9fb76f55a5f_76_3.tsv\n",
      "[15:26:59 - __main__] Starting fastq (305 of 405)\n",
      "\t/path/to/data/MinION_sequencing_data_20191216/guppy_3.2.2_12_16_19_run_01_exec_20200107/pass/fastq_runid_897cd225d1c3eef2d8da014b83aad9fb76f55a5f_77_0.fastq\n"
     ]
    },
    {
     "name": "stdout",
     "output_type": "stream",
     "text": [
      "[########################################] | 100% Completed |  1min 22.1s\n"
     ]
    },
    {
     "name": "stderr",
     "output_type": "stream",
     "text": [
      "[15:28:22 - __main__] Saving to file: /path/to/data/MinION_sequencing_data_20191216/guppy_3.2.2_12_16_19_run_01_exec_20200107/sw/fastq_runid_897cd225d1c3eef2d8da014b83aad9fb76f55a5f_77_0.tsv\n",
      "[15:28:22 - __main__] Starting fastq (306 of 405)\n",
      "\t/path/to/data/MinION_sequencing_data_20191216/guppy_3.2.2_12_16_19_run_01_exec_20200107/pass/fastq_runid_897cd225d1c3eef2d8da014b83aad9fb76f55a5f_77_1.fastq\n"
     ]
    },
    {
     "name": "stdout",
     "output_type": "stream",
     "text": [
      "[########################################] | 100% Completed | 23.6s\n"
     ]
    },
    {
     "name": "stderr",
     "output_type": "stream",
     "text": [
      "[15:28:46 - __main__] Saving to file: /path/to/data/MinION_sequencing_data_20191216/guppy_3.2.2_12_16_19_run_01_exec_20200107/sw/fastq_runid_897cd225d1c3eef2d8da014b83aad9fb76f55a5f_77_1.tsv\n",
      "[15:28:46 - __main__] Starting fastq (307 of 405)\n",
      "\t/path/to/data/MinION_sequencing_data_20191216/guppy_3.2.2_12_16_19_run_01_exec_20200107/pass/fastq_runid_897cd225d1c3eef2d8da014b83aad9fb76f55a5f_77_2.fastq\n"
     ]
    },
    {
     "name": "stdout",
     "output_type": "stream",
     "text": [
      "[########################################] | 100% Completed | 23.8s\n"
     ]
    },
    {
     "name": "stderr",
     "output_type": "stream",
     "text": [
      "[15:29:10 - __main__] Saving to file: /path/to/data/MinION_sequencing_data_20191216/guppy_3.2.2_12_16_19_run_01_exec_20200107/sw/fastq_runid_897cd225d1c3eef2d8da014b83aad9fb76f55a5f_77_2.tsv\n",
      "[15:29:10 - __main__] Starting fastq (308 of 405)\n",
      "\t/path/to/data/MinION_sequencing_data_20191216/guppy_3.2.2_12_16_19_run_01_exec_20200107/pass/fastq_runid_897cd225d1c3eef2d8da014b83aad9fb76f55a5f_78_0.fastq\n"
     ]
    },
    {
     "name": "stdout",
     "output_type": "stream",
     "text": [
      "[########################################] | 100% Completed | 32.9s\n"
     ]
    },
    {
     "name": "stderr",
     "output_type": "stream",
     "text": [
      "[15:29:43 - __main__] Saving to file: /path/to/data/MinION_sequencing_data_20191216/guppy_3.2.2_12_16_19_run_01_exec_20200107/sw/fastq_runid_897cd225d1c3eef2d8da014b83aad9fb76f55a5f_78_0.tsv\n",
      "[15:29:43 - __main__] Starting fastq (309 of 405)\n",
      "\t/path/to/data/MinION_sequencing_data_20191216/guppy_3.2.2_12_16_19_run_01_exec_20200107/pass/fastq_runid_897cd225d1c3eef2d8da014b83aad9fb76f55a5f_77_3.fastq\n"
     ]
    },
    {
     "name": "stdout",
     "output_type": "stream",
     "text": [
      "[########################################] | 100% Completed | 11.6s\n"
     ]
    },
    {
     "name": "stderr",
     "output_type": "stream",
     "text": [
      "[15:29:55 - __main__] Saving to file: /path/to/data/MinION_sequencing_data_20191216/guppy_3.2.2_12_16_19_run_01_exec_20200107/sw/fastq_runid_897cd225d1c3eef2d8da014b83aad9fb76f55a5f_77_3.tsv\n",
      "[15:29:55 - __main__] Starting fastq (310 of 405)\n",
      "\t/path/to/data/MinION_sequencing_data_20191216/guppy_3.2.2_12_16_19_run_01_exec_20200107/pass/fastq_runid_897cd225d1c3eef2d8da014b83aad9fb76f55a5f_78_1.fastq\n"
     ]
    },
    {
     "name": "stdout",
     "output_type": "stream",
     "text": [
      "[########################################] | 100% Completed | 57.5s\n"
     ]
    },
    {
     "name": "stderr",
     "output_type": "stream",
     "text": [
      "[15:30:53 - __main__] Saving to file: /path/to/data/MinION_sequencing_data_20191216/guppy_3.2.2_12_16_19_run_01_exec_20200107/sw/fastq_runid_897cd225d1c3eef2d8da014b83aad9fb76f55a5f_78_1.tsv\n",
      "[15:30:53 - __main__] Starting fastq (311 of 405)\n",
      "\t/path/to/data/MinION_sequencing_data_20191216/guppy_3.2.2_12_16_19_run_01_exec_20200107/pass/fastq_runid_897cd225d1c3eef2d8da014b83aad9fb76f55a5f_78_2.fastq\n"
     ]
    },
    {
     "name": "stdout",
     "output_type": "stream",
     "text": [
      "[########################################] | 100% Completed | 51.2s\n"
     ]
    },
    {
     "name": "stderr",
     "output_type": "stream",
     "text": [
      "[15:31:45 - __main__] Saving to file: /path/to/data/MinION_sequencing_data_20191216/guppy_3.2.2_12_16_19_run_01_exec_20200107/sw/fastq_runid_897cd225d1c3eef2d8da014b83aad9fb76f55a5f_78_2.tsv\n",
      "[15:31:45 - __main__] Starting fastq (312 of 405)\n",
      "\t/path/to/data/MinION_sequencing_data_20191216/guppy_3.2.2_12_16_19_run_01_exec_20200107/pass/fastq_runid_897cd225d1c3eef2d8da014b83aad9fb76f55a5f_79_0.fastq\n"
     ]
    },
    {
     "name": "stdout",
     "output_type": "stream",
     "text": [
      "[########################################] | 100% Completed |  1min 49.1s\n"
     ]
    },
    {
     "name": "stderr",
     "output_type": "stream",
     "text": [
      "[15:33:34 - __main__] Saving to file: /path/to/data/MinION_sequencing_data_20191216/guppy_3.2.2_12_16_19_run_01_exec_20200107/sw/fastq_runid_897cd225d1c3eef2d8da014b83aad9fb76f55a5f_79_0.tsv\n",
      "[15:33:34 - __main__] Starting fastq (313 of 405)\n",
      "\t/path/to/data/MinION_sequencing_data_20191216/guppy_3.2.2_12_16_19_run_01_exec_20200107/pass/fastq_runid_897cd225d1c3eef2d8da014b83aad9fb76f55a5f_78_3.fastq\n"
     ]
    },
    {
     "name": "stdout",
     "output_type": "stream",
     "text": [
      "[########################################] | 100% Completed |  4.6s\n"
     ]
    },
    {
     "name": "stderr",
     "output_type": "stream",
     "text": [
      "[15:33:39 - __main__] Saving to file: /path/to/data/MinION_sequencing_data_20191216/guppy_3.2.2_12_16_19_run_01_exec_20200107/sw/fastq_runid_897cd225d1c3eef2d8da014b83aad9fb76f55a5f_78_3.tsv\n",
      "[15:33:39 - __main__] Starting fastq (314 of 405)\n",
      "\t/path/to/data/MinION_sequencing_data_20191216/guppy_3.2.2_12_16_19_run_01_exec_20200107/pass/fastq_runid_897cd225d1c3eef2d8da014b83aad9fb76f55a5f_79_1.fastq\n"
     ]
    },
    {
     "name": "stdout",
     "output_type": "stream",
     "text": [
      "[########################################] | 100% Completed | 13.0s\n"
     ]
    },
    {
     "name": "stderr",
     "output_type": "stream",
     "text": [
      "[15:33:52 - __main__] Saving to file: /path/to/data/MinION_sequencing_data_20191216/guppy_3.2.2_12_16_19_run_01_exec_20200107/sw/fastq_runid_897cd225d1c3eef2d8da014b83aad9fb76f55a5f_79_1.tsv\n",
      "[15:33:53 - __main__] Starting fastq (315 of 405)\n",
      "\t/path/to/data/MinION_sequencing_data_20191216/guppy_3.2.2_12_16_19_run_01_exec_20200107/pass/fastq_runid_897cd225d1c3eef2d8da014b83aad9fb76f55a5f_79_2.fastq\n"
     ]
    },
    {
     "name": "stdout",
     "output_type": "stream",
     "text": [
      "[########################################] | 100% Completed |  2.9s\n"
     ]
    },
    {
     "name": "stderr",
     "output_type": "stream",
     "text": [
      "[15:33:56 - __main__] Saving to file: /path/to/data/MinION_sequencing_data_20191216/guppy_3.2.2_12_16_19_run_01_exec_20200107/sw/fastq_runid_897cd225d1c3eef2d8da014b83aad9fb76f55a5f_79_2.tsv\n",
      "[15:33:56 - __main__] Starting fastq (316 of 405)\n",
      "\t/path/to/data/MinION_sequencing_data_20191216/guppy_3.2.2_12_16_19_run_01_exec_20200107/pass/fastq_runid_897cd225d1c3eef2d8da014b83aad9fb76f55a5f_80_0.fastq\n"
     ]
    },
    {
     "name": "stdout",
     "output_type": "stream",
     "text": [
      "[########################################] | 100% Completed |  1min 41.3s\n"
     ]
    },
    {
     "name": "stderr",
     "output_type": "stream",
     "text": [
      "[15:35:37 - __main__] Saving to file: /path/to/data/MinION_sequencing_data_20191216/guppy_3.2.2_12_16_19_run_01_exec_20200107/sw/fastq_runid_897cd225d1c3eef2d8da014b83aad9fb76f55a5f_80_0.tsv\n",
      "[15:35:38 - __main__] Starting fastq (317 of 405)\n",
      "\t/path/to/data/MinION_sequencing_data_20191216/guppy_3.2.2_12_16_19_run_01_exec_20200107/pass/fastq_runid_897cd225d1c3eef2d8da014b83aad9fb76f55a5f_80_1.fastq\n"
     ]
    },
    {
     "name": "stdout",
     "output_type": "stream",
     "text": [
      "[########################################] | 100% Completed | 37.9s\n"
     ]
    },
    {
     "name": "stderr",
     "output_type": "stream",
     "text": [
      "[15:36:16 - __main__] Saving to file: /path/to/data/MinION_sequencing_data_20191216/guppy_3.2.2_12_16_19_run_01_exec_20200107/sw/fastq_runid_897cd225d1c3eef2d8da014b83aad9fb76f55a5f_80_1.tsv\n",
      "[15:36:16 - __main__] Starting fastq (318 of 405)\n",
      "\t/path/to/data/MinION_sequencing_data_20191216/guppy_3.2.2_12_16_19_run_01_exec_20200107/pass/fastq_runid_897cd225d1c3eef2d8da014b83aad9fb76f55a5f_79_3.fastq\n"
     ]
    },
    {
     "name": "stdout",
     "output_type": "stream",
     "text": [
      "[########################################] | 100% Completed | 14.5s\n"
     ]
    },
    {
     "name": "stderr",
     "output_type": "stream",
     "text": [
      "[15:36:31 - __main__] Saving to file: /path/to/data/MinION_sequencing_data_20191216/guppy_3.2.2_12_16_19_run_01_exec_20200107/sw/fastq_runid_897cd225d1c3eef2d8da014b83aad9fb76f55a5f_79_3.tsv\n",
      "[15:36:31 - __main__] Starting fastq (319 of 405)\n",
      "\t/path/to/data/MinION_sequencing_data_20191216/guppy_3.2.2_12_16_19_run_01_exec_20200107/pass/fastq_runid_897cd225d1c3eef2d8da014b83aad9fb76f55a5f_80_2.fastq\n"
     ]
    },
    {
     "name": "stdout",
     "output_type": "stream",
     "text": [
      "[########################################] | 100% Completed |  0.9s\n"
     ]
    },
    {
     "name": "stderr",
     "output_type": "stream",
     "text": [
      "[15:36:32 - __main__] Saving to file: /path/to/data/MinION_sequencing_data_20191216/guppy_3.2.2_12_16_19_run_01_exec_20200107/sw/fastq_runid_897cd225d1c3eef2d8da014b83aad9fb76f55a5f_80_2.tsv\n",
      "[15:36:32 - __main__] Starting fastq (320 of 405)\n",
      "\t/path/to/data/MinION_sequencing_data_20191216/guppy_3.2.2_12_16_19_run_01_exec_20200107/pass/fastq_runid_897cd225d1c3eef2d8da014b83aad9fb76f55a5f_81_0.fastq\n"
     ]
    },
    {
     "name": "stdout",
     "output_type": "stream",
     "text": [
      "[########################################] | 100% Completed |  1min  1.5s\n"
     ]
    },
    {
     "name": "stderr",
     "output_type": "stream",
     "text": [
      "[15:37:34 - __main__] Saving to file: /path/to/data/MinION_sequencing_data_20191216/guppy_3.2.2_12_16_19_run_01_exec_20200107/sw/fastq_runid_897cd225d1c3eef2d8da014b83aad9fb76f55a5f_81_0.tsv\n",
      "[15:37:34 - __main__] Starting fastq (321 of 405)\n",
      "\t/path/to/data/MinION_sequencing_data_20191216/guppy_3.2.2_12_16_19_run_01_exec_20200107/pass/fastq_runid_897cd225d1c3eef2d8da014b83aad9fb76f55a5f_80_3.fastq\n"
     ]
    },
    {
     "name": "stdout",
     "output_type": "stream",
     "text": [
      "[########################################] | 100% Completed |  0.9s\n"
     ]
    },
    {
     "name": "stderr",
     "output_type": "stream",
     "text": [
      "[15:37:35 - __main__] Saving to file: /path/to/data/MinION_sequencing_data_20191216/guppy_3.2.2_12_16_19_run_01_exec_20200107/sw/fastq_runid_897cd225d1c3eef2d8da014b83aad9fb76f55a5f_80_3.tsv\n",
      "[15:37:35 - __main__] Starting fastq (322 of 405)\n",
      "\t/path/to/data/MinION_sequencing_data_20191216/guppy_3.2.2_12_16_19_run_01_exec_20200107/pass/fastq_runid_897cd225d1c3eef2d8da014b83aad9fb76f55a5f_81_1.fastq\n"
     ]
    },
    {
     "name": "stdout",
     "output_type": "stream",
     "text": [
      "[########################################] | 100% Completed | 40.1s\n"
     ]
    },
    {
     "name": "stderr",
     "output_type": "stream",
     "text": [
      "[15:38:15 - __main__] Saving to file: /path/to/data/MinION_sequencing_data_20191216/guppy_3.2.2_12_16_19_run_01_exec_20200107/sw/fastq_runid_897cd225d1c3eef2d8da014b83aad9fb76f55a5f_81_1.tsv\n",
      "[15:38:15 - __main__] Starting fastq (323 of 405)\n",
      "\t/path/to/data/MinION_sequencing_data_20191216/guppy_3.2.2_12_16_19_run_01_exec_20200107/pass/fastq_runid_897cd225d1c3eef2d8da014b83aad9fb76f55a5f_81_2.fastq\n"
     ]
    },
    {
     "name": "stdout",
     "output_type": "stream",
     "text": [
      "[########################################] | 100% Completed | 25.6s\n"
     ]
    },
    {
     "name": "stderr",
     "output_type": "stream",
     "text": [
      "[15:38:41 - __main__] Saving to file: /path/to/data/MinION_sequencing_data_20191216/guppy_3.2.2_12_16_19_run_01_exec_20200107/sw/fastq_runid_897cd225d1c3eef2d8da014b83aad9fb76f55a5f_81_2.tsv\n",
      "[15:38:41 - __main__] Starting fastq (324 of 405)\n",
      "\t/path/to/data/MinION_sequencing_data_20191216/guppy_3.2.2_12_16_19_run_01_exec_20200107/pass/fastq_runid_897cd225d1c3eef2d8da014b83aad9fb76f55a5f_81_3.fastq\n"
     ]
    },
    {
     "name": "stdout",
     "output_type": "stream",
     "text": [
      "[########################################] | 100% Completed | 13.1s\n"
     ]
    },
    {
     "name": "stderr",
     "output_type": "stream",
     "text": [
      "[15:38:55 - __main__] Saving to file: /path/to/data/MinION_sequencing_data_20191216/guppy_3.2.2_12_16_19_run_01_exec_20200107/sw/fastq_runid_897cd225d1c3eef2d8da014b83aad9fb76f55a5f_81_3.tsv\n",
      "[15:38:55 - __main__] Starting fastq (325 of 405)\n",
      "\t/path/to/data/MinION_sequencing_data_20191216/guppy_3.2.2_12_16_19_run_01_exec_20200107/pass/fastq_runid_897cd225d1c3eef2d8da014b83aad9fb76f55a5f_82_0.fastq\n"
     ]
    },
    {
     "name": "stdout",
     "output_type": "stream",
     "text": [
      "[########################################] | 100% Completed | 29.8s\n"
     ]
    },
    {
     "name": "stderr",
     "output_type": "stream",
     "text": [
      "[15:39:25 - __main__] Saving to file: /path/to/data/MinION_sequencing_data_20191216/guppy_3.2.2_12_16_19_run_01_exec_20200107/sw/fastq_runid_897cd225d1c3eef2d8da014b83aad9fb76f55a5f_82_0.tsv\n",
      "[15:39:25 - __main__] Starting fastq (326 of 405)\n",
      "\t/path/to/data/MinION_sequencing_data_20191216/guppy_3.2.2_12_16_19_run_01_exec_20200107/pass/fastq_runid_897cd225d1c3eef2d8da014b83aad9fb76f55a5f_82_1.fastq\n"
     ]
    },
    {
     "name": "stdout",
     "output_type": "stream",
     "text": [
      "[########################################] | 100% Completed | 42.8s\n"
     ]
    },
    {
     "name": "stderr",
     "output_type": "stream",
     "text": [
      "[15:40:08 - __main__] Saving to file: /path/to/data/MinION_sequencing_data_20191216/guppy_3.2.2_12_16_19_run_01_exec_20200107/sw/fastq_runid_897cd225d1c3eef2d8da014b83aad9fb76f55a5f_82_1.tsv\n",
      "[15:40:08 - __main__] Starting fastq (327 of 405)\n",
      "\t/path/to/data/MinION_sequencing_data_20191216/guppy_3.2.2_12_16_19_run_01_exec_20200107/pass/fastq_runid_897cd225d1c3eef2d8da014b83aad9fb76f55a5f_82_2.fastq\n"
     ]
    },
    {
     "name": "stdout",
     "output_type": "stream",
     "text": [
      "[########################################] | 100% Completed | 46.2s\n"
     ]
    },
    {
     "name": "stderr",
     "output_type": "stream",
     "text": [
      "[15:40:54 - __main__] Saving to file: /path/to/data/MinION_sequencing_data_20191216/guppy_3.2.2_12_16_19_run_01_exec_20200107/sw/fastq_runid_897cd225d1c3eef2d8da014b83aad9fb76f55a5f_82_2.tsv\n",
      "[15:40:55 - __main__] Starting fastq (328 of 405)\n",
      "\t/path/to/data/MinION_sequencing_data_20191216/guppy_3.2.2_12_16_19_run_01_exec_20200107/pass/fastq_runid_897cd225d1c3eef2d8da014b83aad9fb76f55a5f_83_0.fastq\n"
     ]
    },
    {
     "name": "stdout",
     "output_type": "stream",
     "text": [
      "[########################################] | 100% Completed | 50.2s\n"
     ]
    },
    {
     "name": "stderr",
     "output_type": "stream",
     "text": [
      "[15:41:45 - __main__] Saving to file: /path/to/data/MinION_sequencing_data_20191216/guppy_3.2.2_12_16_19_run_01_exec_20200107/sw/fastq_runid_897cd225d1c3eef2d8da014b83aad9fb76f55a5f_83_0.tsv\n",
      "[15:41:45 - __main__] Starting fastq (329 of 405)\n",
      "\t/path/to/data/MinION_sequencing_data_20191216/guppy_3.2.2_12_16_19_run_01_exec_20200107/pass/fastq_runid_897cd225d1c3eef2d8da014b83aad9fb76f55a5f_82_3.fastq\n"
     ]
    },
    {
     "name": "stdout",
     "output_type": "stream",
     "text": [
      "[########################################] | 100% Completed | 22.3s\n"
     ]
    },
    {
     "name": "stderr",
     "output_type": "stream",
     "text": [
      "[15:42:08 - __main__] Saving to file: /path/to/data/MinION_sequencing_data_20191216/guppy_3.2.2_12_16_19_run_01_exec_20200107/sw/fastq_runid_897cd225d1c3eef2d8da014b83aad9fb76f55a5f_82_3.tsv\n",
      "[15:42:08 - __main__] Starting fastq (330 of 405)\n",
      "\t/path/to/data/MinION_sequencing_data_20191216/guppy_3.2.2_12_16_19_run_01_exec_20200107/pass/fastq_runid_897cd225d1c3eef2d8da014b83aad9fb76f55a5f_83_1.fastq\n"
     ]
    },
    {
     "name": "stdout",
     "output_type": "stream",
     "text": [
      "[########################################] | 100% Completed |  6.8s\n"
     ]
    },
    {
     "name": "stderr",
     "output_type": "stream",
     "text": [
      "[15:42:15 - __main__] Saving to file: /path/to/data/MinION_sequencing_data_20191216/guppy_3.2.2_12_16_19_run_01_exec_20200107/sw/fastq_runid_897cd225d1c3eef2d8da014b83aad9fb76f55a5f_83_1.tsv\n",
      "[15:42:15 - __main__] Starting fastq (331 of 405)\n",
      "\t/path/to/data/MinION_sequencing_data_20191216/guppy_3.2.2_12_16_19_run_01_exec_20200107/pass/fastq_runid_897cd225d1c3eef2d8da014b83aad9fb76f55a5f_84_0.fastq\n"
     ]
    },
    {
     "name": "stdout",
     "output_type": "stream",
     "text": [
      "[########################################] | 100% Completed |  1min  9.6s\n"
     ]
    },
    {
     "name": "stderr",
     "output_type": "stream",
     "text": [
      "[15:43:25 - __main__] Saving to file: /path/to/data/MinION_sequencing_data_20191216/guppy_3.2.2_12_16_19_run_01_exec_20200107/sw/fastq_runid_897cd225d1c3eef2d8da014b83aad9fb76f55a5f_84_0.tsv\n",
      "[15:43:25 - __main__] Starting fastq (332 of 405)\n",
      "\t/path/to/data/MinION_sequencing_data_20191216/guppy_3.2.2_12_16_19_run_01_exec_20200107/pass/fastq_runid_897cd225d1c3eef2d8da014b83aad9fb76f55a5f_83_2.fastq\n"
     ]
    },
    {
     "name": "stdout",
     "output_type": "stream",
     "text": [
      "[########################################] | 100% Completed |  2.3s\n"
     ]
    },
    {
     "name": "stderr",
     "output_type": "stream",
     "text": [
      "[15:43:28 - __main__] Saving to file: /path/to/data/MinION_sequencing_data_20191216/guppy_3.2.2_12_16_19_run_01_exec_20200107/sw/fastq_runid_897cd225d1c3eef2d8da014b83aad9fb76f55a5f_83_2.tsv\n",
      "[15:43:28 - __main__] Starting fastq (333 of 405)\n",
      "\t/path/to/data/MinION_sequencing_data_20191216/guppy_3.2.2_12_16_19_run_01_exec_20200107/pass/fastq_runid_897cd225d1c3eef2d8da014b83aad9fb76f55a5f_84_1.fastq\n"
     ]
    },
    {
     "name": "stdout",
     "output_type": "stream",
     "text": [
      "[########################################] | 100% Completed | 25.0s\n"
     ]
    },
    {
     "name": "stderr",
     "output_type": "stream",
     "text": [
      "[15:43:53 - __main__] Saving to file: /path/to/data/MinION_sequencing_data_20191216/guppy_3.2.2_12_16_19_run_01_exec_20200107/sw/fastq_runid_897cd225d1c3eef2d8da014b83aad9fb76f55a5f_84_1.tsv\n",
      "[15:43:53 - __main__] Starting fastq (334 of 405)\n",
      "\t/path/to/data/MinION_sequencing_data_20191216/guppy_3.2.2_12_16_19_run_01_exec_20200107/pass/fastq_runid_897cd225d1c3eef2d8da014b83aad9fb76f55a5f_83_3.fastq\n"
     ]
    },
    {
     "name": "stdout",
     "output_type": "stream",
     "text": [
      "[########################################] | 100% Completed |  1min 25.2s\n"
     ]
    },
    {
     "name": "stderr",
     "output_type": "stream",
     "text": [
      "[15:45:18 - __main__] Saving to file: /path/to/data/MinION_sequencing_data_20191216/guppy_3.2.2_12_16_19_run_01_exec_20200107/sw/fastq_runid_897cd225d1c3eef2d8da014b83aad9fb76f55a5f_83_3.tsv\n",
      "[15:45:19 - __main__] Starting fastq (335 of 405)\n",
      "\t/path/to/data/MinION_sequencing_data_20191216/guppy_3.2.2_12_16_19_run_01_exec_20200107/pass/fastq_runid_897cd225d1c3eef2d8da014b83aad9fb76f55a5f_85_0.fastq\n"
     ]
    },
    {
     "name": "stdout",
     "output_type": "stream",
     "text": [
      "[########################################] | 100% Completed |  1min 12.1s\n"
     ]
    },
    {
     "name": "stderr",
     "output_type": "stream",
     "text": [
      "[15:46:31 - __main__] Saving to file: /path/to/data/MinION_sequencing_data_20191216/guppy_3.2.2_12_16_19_run_01_exec_20200107/sw/fastq_runid_897cd225d1c3eef2d8da014b83aad9fb76f55a5f_85_0.tsv\n",
      "[15:46:31 - __main__] Starting fastq (336 of 405)\n",
      "\t/path/to/data/MinION_sequencing_data_20191216/guppy_3.2.2_12_16_19_run_01_exec_20200107/pass/fastq_runid_897cd225d1c3eef2d8da014b83aad9fb76f55a5f_84_2.fastq\n"
     ]
    },
    {
     "name": "stdout",
     "output_type": "stream",
     "text": [
      "[########################################] | 100% Completed | 47.7s\n"
     ]
    },
    {
     "name": "stderr",
     "output_type": "stream",
     "text": [
      "[15:47:19 - __main__] Saving to file: /path/to/data/MinION_sequencing_data_20191216/guppy_3.2.2_12_16_19_run_01_exec_20200107/sw/fastq_runid_897cd225d1c3eef2d8da014b83aad9fb76f55a5f_84_2.tsv\n",
      "[15:47:19 - __main__] Starting fastq (337 of 405)\n",
      "\t/path/to/data/MinION_sequencing_data_20191216/guppy_3.2.2_12_16_19_run_01_exec_20200107/pass/fastq_runid_897cd225d1c3eef2d8da014b83aad9fb76f55a5f_85_1.fastq\n"
     ]
    },
    {
     "name": "stdout",
     "output_type": "stream",
     "text": [
      "[########################################] | 100% Completed | 44.0s\n"
     ]
    },
    {
     "name": "stderr",
     "output_type": "stream",
     "text": [
      "[15:48:04 - __main__] Saving to file: /path/to/data/MinION_sequencing_data_20191216/guppy_3.2.2_12_16_19_run_01_exec_20200107/sw/fastq_runid_897cd225d1c3eef2d8da014b83aad9fb76f55a5f_85_1.tsv\n",
      "[15:48:04 - __main__] Starting fastq (338 of 405)\n",
      "\t/path/to/data/MinION_sequencing_data_20191216/guppy_3.2.2_12_16_19_run_01_exec_20200107/pass/fastq_runid_897cd225d1c3eef2d8da014b83aad9fb76f55a5f_84_3.fastq\n"
     ]
    },
    {
     "name": "stdout",
     "output_type": "stream",
     "text": [
      "[########################################] | 100% Completed |  0.9s\n"
     ]
    },
    {
     "name": "stderr",
     "output_type": "stream",
     "text": [
      "[15:48:05 - __main__] Saving to file: /path/to/data/MinION_sequencing_data_20191216/guppy_3.2.2_12_16_19_run_01_exec_20200107/sw/fastq_runid_897cd225d1c3eef2d8da014b83aad9fb76f55a5f_84_3.tsv\n",
      "[15:48:05 - __main__] Starting fastq (339 of 405)\n",
      "\t/path/to/data/MinION_sequencing_data_20191216/guppy_3.2.2_12_16_19_run_01_exec_20200107/pass/fastq_runid_897cd225d1c3eef2d8da014b83aad9fb76f55a5f_85_2.fastq\n"
     ]
    },
    {
     "name": "stdout",
     "output_type": "stream",
     "text": [
      "[########################################] | 100% Completed |  0.9s\n"
     ]
    },
    {
     "name": "stderr",
     "output_type": "stream",
     "text": [
      "[15:48:06 - __main__] Saving to file: /path/to/data/MinION_sequencing_data_20191216/guppy_3.2.2_12_16_19_run_01_exec_20200107/sw/fastq_runid_897cd225d1c3eef2d8da014b83aad9fb76f55a5f_85_2.tsv\n",
      "[15:48:06 - __main__] Starting fastq (340 of 405)\n",
      "\t/path/to/data/MinION_sequencing_data_20191216/guppy_3.2.2_12_16_19_run_01_exec_20200107/pass/fastq_runid_897cd225d1c3eef2d8da014b83aad9fb76f55a5f_86_0.fastq\n"
     ]
    },
    {
     "name": "stdout",
     "output_type": "stream",
     "text": [
      "[########################################] | 100% Completed | 44.5s\n"
     ]
    },
    {
     "name": "stderr",
     "output_type": "stream",
     "text": [
      "[15:48:51 - __main__] Saving to file: /path/to/data/MinION_sequencing_data_20191216/guppy_3.2.2_12_16_19_run_01_exec_20200107/sw/fastq_runid_897cd225d1c3eef2d8da014b83aad9fb76f55a5f_86_0.tsv\n",
      "[15:48:51 - __main__] Starting fastq (341 of 405)\n",
      "\t/path/to/data/MinION_sequencing_data_20191216/guppy_3.2.2_12_16_19_run_01_exec_20200107/pass/fastq_runid_897cd225d1c3eef2d8da014b83aad9fb76f55a5f_86_1.fastq\n"
     ]
    },
    {
     "name": "stdout",
     "output_type": "stream",
     "text": [
      "[########################################] | 100% Completed | 21.9s\n"
     ]
    },
    {
     "name": "stderr",
     "output_type": "stream",
     "text": [
      "[15:49:13 - __main__] Saving to file: /path/to/data/MinION_sequencing_data_20191216/guppy_3.2.2_12_16_19_run_01_exec_20200107/sw/fastq_runid_897cd225d1c3eef2d8da014b83aad9fb76f55a5f_86_1.tsv\n",
      "[15:49:13 - __main__] Starting fastq (342 of 405)\n",
      "\t/path/to/data/MinION_sequencing_data_20191216/guppy_3.2.2_12_16_19_run_01_exec_20200107/pass/fastq_runid_897cd225d1c3eef2d8da014b83aad9fb76f55a5f_86_2.fastq\n"
     ]
    },
    {
     "name": "stdout",
     "output_type": "stream",
     "text": [
      "[########################################] | 100% Completed | 42.8s\n"
     ]
    },
    {
     "name": "stderr",
     "output_type": "stream",
     "text": [
      "[15:49:56 - __main__] Saving to file: /path/to/data/MinION_sequencing_data_20191216/guppy_3.2.2_12_16_19_run_01_exec_20200107/sw/fastq_runid_897cd225d1c3eef2d8da014b83aad9fb76f55a5f_86_2.tsv\n",
      "[15:49:56 - __main__] Starting fastq (343 of 405)\n",
      "\t/path/to/data/MinION_sequencing_data_20191216/guppy_3.2.2_12_16_19_run_01_exec_20200107/pass/fastq_runid_897cd225d1c3eef2d8da014b83aad9fb76f55a5f_87_0.fastq\n"
     ]
    },
    {
     "name": "stdout",
     "output_type": "stream",
     "text": [
      "[########################################] | 100% Completed | 43.8s\n"
     ]
    },
    {
     "name": "stderr",
     "output_type": "stream",
     "text": [
      "[15:50:40 - __main__] Saving to file: /path/to/data/MinION_sequencing_data_20191216/guppy_3.2.2_12_16_19_run_01_exec_20200107/sw/fastq_runid_897cd225d1c3eef2d8da014b83aad9fb76f55a5f_87_0.tsv\n",
      "[15:50:40 - __main__] Starting fastq (344 of 405)\n",
      "\t/path/to/data/MinION_sequencing_data_20191216/guppy_3.2.2_12_16_19_run_01_exec_20200107/pass/fastq_runid_897cd225d1c3eef2d8da014b83aad9fb76f55a5f_87_1.fastq\n"
     ]
    },
    {
     "name": "stdout",
     "output_type": "stream",
     "text": [
      "[########################################] | 100% Completed | 45.6s\n"
     ]
    },
    {
     "name": "stderr",
     "output_type": "stream",
     "text": [
      "[15:51:26 - __main__] Saving to file: /path/to/data/MinION_sequencing_data_20191216/guppy_3.2.2_12_16_19_run_01_exec_20200107/sw/fastq_runid_897cd225d1c3eef2d8da014b83aad9fb76f55a5f_87_1.tsv\n",
      "[15:51:26 - __main__] Starting fastq (345 of 405)\n",
      "\t/path/to/data/MinION_sequencing_data_20191216/guppy_3.2.2_12_16_19_run_01_exec_20200107/pass/fastq_runid_897cd225d1c3eef2d8da014b83aad9fb76f55a5f_87_2.fastq\n"
     ]
    },
    {
     "name": "stdout",
     "output_type": "stream",
     "text": [
      "[########################################] | 100% Completed | 50.8s\n"
     ]
    },
    {
     "name": "stderr",
     "output_type": "stream",
     "text": [
      "[15:52:17 - __main__] Saving to file: /path/to/data/MinION_sequencing_data_20191216/guppy_3.2.2_12_16_19_run_01_exec_20200107/sw/fastq_runid_897cd225d1c3eef2d8da014b83aad9fb76f55a5f_87_2.tsv\n",
      "[15:52:18 - __main__] Starting fastq (346 of 405)\n",
      "\t/path/to/data/MinION_sequencing_data_20191216/guppy_3.2.2_12_16_19_run_01_exec_20200107/pass/fastq_runid_897cd225d1c3eef2d8da014b83aad9fb76f55a5f_85_3.fastq\n"
     ]
    },
    {
     "name": "stdout",
     "output_type": "stream",
     "text": [
      "[########################################] | 100% Completed | 22.7s\n"
     ]
    },
    {
     "name": "stderr",
     "output_type": "stream",
     "text": [
      "[15:52:40 - __main__] Saving to file: /path/to/data/MinION_sequencing_data_20191216/guppy_3.2.2_12_16_19_run_01_exec_20200107/sw/fastq_runid_897cd225d1c3eef2d8da014b83aad9fb76f55a5f_85_3.tsv\n",
      "[15:52:41 - __main__] Starting fastq (347 of 405)\n",
      "\t/path/to/data/MinION_sequencing_data_20191216/guppy_3.2.2_12_16_19_run_01_exec_20200107/pass/fastq_runid_897cd225d1c3eef2d8da014b83aad9fb76f55a5f_86_3.fastq\n"
     ]
    },
    {
     "name": "stdout",
     "output_type": "stream",
     "text": [
      "[########################################] | 100% Completed | 33.3s\n"
     ]
    },
    {
     "name": "stderr",
     "output_type": "stream",
     "text": [
      "[15:53:14 - __main__] Saving to file: /path/to/data/MinION_sequencing_data_20191216/guppy_3.2.2_12_16_19_run_01_exec_20200107/sw/fastq_runid_897cd225d1c3eef2d8da014b83aad9fb76f55a5f_86_3.tsv\n",
      "[15:53:14 - __main__] Starting fastq (348 of 405)\n",
      "\t/path/to/data/MinION_sequencing_data_20191216/guppy_3.2.2_12_16_19_run_01_exec_20200107/pass/fastq_runid_897cd225d1c3eef2d8da014b83aad9fb76f55a5f_88_0.fastq\n"
     ]
    },
    {
     "name": "stdout",
     "output_type": "stream",
     "text": [
      "[########################################] | 100% Completed |  1min  2.1s\n"
     ]
    },
    {
     "name": "stderr",
     "output_type": "stream",
     "text": [
      "[15:54:17 - __main__] Saving to file: /path/to/data/MinION_sequencing_data_20191216/guppy_3.2.2_12_16_19_run_01_exec_20200107/sw/fastq_runid_897cd225d1c3eef2d8da014b83aad9fb76f55a5f_88_0.tsv\n",
      "[15:54:17 - __main__] Starting fastq (349 of 405)\n",
      "\t/path/to/data/MinION_sequencing_data_20191216/guppy_3.2.2_12_16_19_run_01_exec_20200107/pass/fastq_runid_897cd225d1c3eef2d8da014b83aad9fb76f55a5f_87_3.fastq\n"
     ]
    },
    {
     "name": "stdout",
     "output_type": "stream",
     "text": [
      "[########################################] | 100% Completed |  1.7s\n"
     ]
    },
    {
     "name": "stderr",
     "output_type": "stream",
     "text": [
      "[15:54:19 - __main__] Saving to file: /path/to/data/MinION_sequencing_data_20191216/guppy_3.2.2_12_16_19_run_01_exec_20200107/sw/fastq_runid_897cd225d1c3eef2d8da014b83aad9fb76f55a5f_87_3.tsv\n",
      "[15:54:19 - __main__] Starting fastq (350 of 405)\n",
      "\t/path/to/data/MinION_sequencing_data_20191216/guppy_3.2.2_12_16_19_run_01_exec_20200107/pass/fastq_runid_897cd225d1c3eef2d8da014b83aad9fb76f55a5f_88_1.fastq\n"
     ]
    },
    {
     "name": "stdout",
     "output_type": "stream",
     "text": [
      "[########################################] | 100% Completed | 34.5s\n"
     ]
    },
    {
     "name": "stderr",
     "output_type": "stream",
     "text": [
      "[15:54:54 - __main__] Saving to file: /path/to/data/MinION_sequencing_data_20191216/guppy_3.2.2_12_16_19_run_01_exec_20200107/sw/fastq_runid_897cd225d1c3eef2d8da014b83aad9fb76f55a5f_88_1.tsv\n",
      "[15:54:54 - __main__] Starting fastq (351 of 405)\n",
      "\t/path/to/data/MinION_sequencing_data_20191216/guppy_3.2.2_12_16_19_run_01_exec_20200107/pass/fastq_runid_897cd225d1c3eef2d8da014b83aad9fb76f55a5f_88_2.fastq\n"
     ]
    },
    {
     "name": "stdout",
     "output_type": "stream",
     "text": [
      "[########################################] | 100% Completed | 17.0s\n"
     ]
    },
    {
     "name": "stderr",
     "output_type": "stream",
     "text": [
      "[15:55:11 - __main__] Saving to file: /path/to/data/MinION_sequencing_data_20191216/guppy_3.2.2_12_16_19_run_01_exec_20200107/sw/fastq_runid_897cd225d1c3eef2d8da014b83aad9fb76f55a5f_88_2.tsv\n",
      "[15:55:11 - __main__] Starting fastq (352 of 405)\n",
      "\t/path/to/data/MinION_sequencing_data_20191216/guppy_3.2.2_12_16_19_run_01_exec_20200107/pass/fastq_runid_897cd225d1c3eef2d8da014b83aad9fb76f55a5f_88_3.fastq\n"
     ]
    },
    {
     "name": "stdout",
     "output_type": "stream",
     "text": [
      "[########################################] | 100% Completed | 30.2s\n"
     ]
    },
    {
     "name": "stderr",
     "output_type": "stream",
     "text": [
      "[15:55:41 - __main__] Saving to file: /path/to/data/MinION_sequencing_data_20191216/guppy_3.2.2_12_16_19_run_01_exec_20200107/sw/fastq_runid_897cd225d1c3eef2d8da014b83aad9fb76f55a5f_88_3.tsv\n",
      "[15:55:41 - __main__] Starting fastq (353 of 405)\n",
      "\t/path/to/data/MinION_sequencing_data_20191216/guppy_3.2.2_12_16_19_run_01_exec_20200107/pass/fastq_runid_897cd225d1c3eef2d8da014b83aad9fb76f55a5f_89_0.fastq\n"
     ]
    },
    {
     "name": "stdout",
     "output_type": "stream",
     "text": [
      "[########################################] | 100% Completed |  3.1s\n"
     ]
    },
    {
     "name": "stderr",
     "output_type": "stream",
     "text": [
      "[15:55:45 - __main__] Saving to file: /path/to/data/MinION_sequencing_data_20191216/guppy_3.2.2_12_16_19_run_01_exec_20200107/sw/fastq_runid_897cd225d1c3eef2d8da014b83aad9fb76f55a5f_89_0.tsv\n",
      "[15:55:45 - __main__] Starting fastq (354 of 405)\n",
      "\t/path/to/data/MinION_sequencing_data_20191216/guppy_3.2.2_12_16_19_run_01_exec_20200107/pass/fastq_runid_897cd225d1c3eef2d8da014b83aad9fb76f55a5f_89_1.fastq\n"
     ]
    },
    {
     "name": "stdout",
     "output_type": "stream",
     "text": [
      "[########################################] | 100% Completed | 56.1s\n"
     ]
    },
    {
     "name": "stderr",
     "output_type": "stream",
     "text": [
      "[15:56:41 - __main__] Saving to file: /path/to/data/MinION_sequencing_data_20191216/guppy_3.2.2_12_16_19_run_01_exec_20200107/sw/fastq_runid_897cd225d1c3eef2d8da014b83aad9fb76f55a5f_89_1.tsv\n",
      "[15:56:41 - __main__] Starting fastq (355 of 405)\n",
      "\t/path/to/data/MinION_sequencing_data_20191216/guppy_3.2.2_12_16_19_run_01_exec_20200107/pass/fastq_runid_897cd225d1c3eef2d8da014b83aad9fb76f55a5f_90_0.fastq\n"
     ]
    },
    {
     "name": "stdout",
     "output_type": "stream",
     "text": [
      "[########################################] | 100% Completed |  1min 25.8s\n"
     ]
    },
    {
     "name": "stderr",
     "output_type": "stream",
     "text": [
      "[15:58:07 - __main__] Saving to file: /path/to/data/MinION_sequencing_data_20191216/guppy_3.2.2_12_16_19_run_01_exec_20200107/sw/fastq_runid_897cd225d1c3eef2d8da014b83aad9fb76f55a5f_90_0.tsv\n",
      "[15:58:08 - __main__] Starting fastq (356 of 405)\n",
      "\t/path/to/data/MinION_sequencing_data_20191216/guppy_3.2.2_12_16_19_run_01_exec_20200107/pass/fastq_runid_897cd225d1c3eef2d8da014b83aad9fb76f55a5f_89_2.fastq\n"
     ]
    },
    {
     "name": "stdout",
     "output_type": "stream",
     "text": [
      "[########################################] | 100% Completed |  0.9s\n"
     ]
    },
    {
     "name": "stderr",
     "output_type": "stream",
     "text": [
      "[15:58:09 - __main__] Saving to file: /path/to/data/MinION_sequencing_data_20191216/guppy_3.2.2_12_16_19_run_01_exec_20200107/sw/fastq_runid_897cd225d1c3eef2d8da014b83aad9fb76f55a5f_89_2.tsv\n",
      "[15:58:09 - __main__] Starting fastq (357 of 405)\n",
      "\t/path/to/data/MinION_sequencing_data_20191216/guppy_3.2.2_12_16_19_run_01_exec_20200107/pass/fastq_runid_897cd225d1c3eef2d8da014b83aad9fb76f55a5f_90_1.fastq\n"
     ]
    },
    {
     "name": "stdout",
     "output_type": "stream",
     "text": [
      "[########################################] | 100% Completed | 44.3s\n"
     ]
    },
    {
     "name": "stderr",
     "output_type": "stream",
     "text": [
      "[15:58:53 - __main__] Saving to file: /path/to/data/MinION_sequencing_data_20191216/guppy_3.2.2_12_16_19_run_01_exec_20200107/sw/fastq_runid_897cd225d1c3eef2d8da014b83aad9fb76f55a5f_90_1.tsv\n",
      "[15:58:53 - __main__] Starting fastq (358 of 405)\n",
      "\t/path/to/data/MinION_sequencing_data_20191216/guppy_3.2.2_12_16_19_run_01_exec_20200107/pass/fastq_runid_897cd225d1c3eef2d8da014b83aad9fb76f55a5f_89_3.fastq\n"
     ]
    },
    {
     "name": "stdout",
     "output_type": "stream",
     "text": [
      "[########################################] | 100% Completed |  1min 20.8s\n"
     ]
    },
    {
     "name": "stderr",
     "output_type": "stream",
     "text": [
      "[16:00:15 - __main__] Saving to file: /path/to/data/MinION_sequencing_data_20191216/guppy_3.2.2_12_16_19_run_01_exec_20200107/sw/fastq_runid_897cd225d1c3eef2d8da014b83aad9fb76f55a5f_89_3.tsv\n",
      "[16:00:15 - __main__] Starting fastq (359 of 405)\n",
      "\t/path/to/data/MinION_sequencing_data_20191216/guppy_3.2.2_12_16_19_run_01_exec_20200107/pass/fastq_runid_897cd225d1c3eef2d8da014b83aad9fb76f55a5f_90_2.fastq\n"
     ]
    },
    {
     "name": "stdout",
     "output_type": "stream",
     "text": [
      "[########################################] | 100% Completed | 11.6s\n"
     ]
    },
    {
     "name": "stderr",
     "output_type": "stream",
     "text": [
      "[16:00:27 - __main__] Saving to file: /path/to/data/MinION_sequencing_data_20191216/guppy_3.2.2_12_16_19_run_01_exec_20200107/sw/fastq_runid_897cd225d1c3eef2d8da014b83aad9fb76f55a5f_90_2.tsv\n",
      "[16:00:27 - __main__] Starting fastq (360 of 405)\n",
      "\t/path/to/data/MinION_sequencing_data_20191216/guppy_3.2.2_12_16_19_run_01_exec_20200107/pass/fastq_runid_897cd225d1c3eef2d8da014b83aad9fb76f55a5f_91_0.fastq\n"
     ]
    },
    {
     "name": "stdout",
     "output_type": "stream",
     "text": [
      "[########################################] | 100% Completed |  1min  6.8s\n"
     ]
    },
    {
     "name": "stderr",
     "output_type": "stream",
     "text": [
      "[16:01:34 - __main__] Saving to file: /path/to/data/MinION_sequencing_data_20191216/guppy_3.2.2_12_16_19_run_01_exec_20200107/sw/fastq_runid_897cd225d1c3eef2d8da014b83aad9fb76f55a5f_91_0.tsv\n",
      "[16:01:34 - __main__] Starting fastq (361 of 405)\n",
      "\t/path/to/data/MinION_sequencing_data_20191216/guppy_3.2.2_12_16_19_run_01_exec_20200107/pass/fastq_runid_897cd225d1c3eef2d8da014b83aad9fb76f55a5f_91_1.fastq\n"
     ]
    },
    {
     "name": "stdout",
     "output_type": "stream",
     "text": [
      "[########################################] | 100% Completed | 27.4s\n"
     ]
    },
    {
     "name": "stderr",
     "output_type": "stream",
     "text": [
      "[16:02:01 - __main__] Saving to file: /path/to/data/MinION_sequencing_data_20191216/guppy_3.2.2_12_16_19_run_01_exec_20200107/sw/fastq_runid_897cd225d1c3eef2d8da014b83aad9fb76f55a5f_91_1.tsv\n",
      "[16:02:02 - __main__] Starting fastq (362 of 405)\n",
      "\t/path/to/data/MinION_sequencing_data_20191216/guppy_3.2.2_12_16_19_run_01_exec_20200107/pass/fastq_runid_897cd225d1c3eef2d8da014b83aad9fb76f55a5f_90_3.fastq\n"
     ]
    },
    {
     "name": "stdout",
     "output_type": "stream",
     "text": [
      "[########################################] | 100% Completed |  1.4s\n"
     ]
    },
    {
     "name": "stderr",
     "output_type": "stream",
     "text": [
      "[16:02:03 - __main__] Saving to file: /path/to/data/MinION_sequencing_data_20191216/guppy_3.2.2_12_16_19_run_01_exec_20200107/sw/fastq_runid_897cd225d1c3eef2d8da014b83aad9fb76f55a5f_90_3.tsv\n",
      "[16:02:03 - __main__] Starting fastq (363 of 405)\n",
      "\t/path/to/data/MinION_sequencing_data_20191216/guppy_3.2.2_12_16_19_run_01_exec_20200107/pass/fastq_runid_897cd225d1c3eef2d8da014b83aad9fb76f55a5f_91_2.fastq\n"
     ]
    },
    {
     "name": "stdout",
     "output_type": "stream",
     "text": [
      "[########################################] | 100% Completed | 47.3s\n"
     ]
    },
    {
     "name": "stderr",
     "output_type": "stream",
     "text": [
      "[16:02:51 - __main__] Saving to file: /path/to/data/MinION_sequencing_data_20191216/guppy_3.2.2_12_16_19_run_01_exec_20200107/sw/fastq_runid_897cd225d1c3eef2d8da014b83aad9fb76f55a5f_91_2.tsv\n",
      "[16:02:51 - __main__] Starting fastq (364 of 405)\n",
      "\t/path/to/data/MinION_sequencing_data_20191216/guppy_3.2.2_12_16_19_run_01_exec_20200107/pass/fastq_runid_897cd225d1c3eef2d8da014b83aad9fb76f55a5f_91_3.fastq\n"
     ]
    },
    {
     "name": "stdout",
     "output_type": "stream",
     "text": [
      "[########################################] | 100% Completed |  3.5s\n"
     ]
    },
    {
     "name": "stderr",
     "output_type": "stream",
     "text": [
      "[16:02:55 - __main__] Saving to file: /path/to/data/MinION_sequencing_data_20191216/guppy_3.2.2_12_16_19_run_01_exec_20200107/sw/fastq_runid_897cd225d1c3eef2d8da014b83aad9fb76f55a5f_91_3.tsv\n",
      "[16:02:55 - __main__] Starting fastq (365 of 405)\n",
      "\t/path/to/data/MinION_sequencing_data_20191216/guppy_3.2.2_12_16_19_run_01_exec_20200107/pass/fastq_runid_897cd225d1c3eef2d8da014b83aad9fb76f55a5f_92_0.fastq\n"
     ]
    },
    {
     "name": "stdout",
     "output_type": "stream",
     "text": [
      "[########################################] | 100% Completed | 33.6s\n"
     ]
    },
    {
     "name": "stderr",
     "output_type": "stream",
     "text": [
      "[16:03:29 - __main__] Saving to file: /path/to/data/MinION_sequencing_data_20191216/guppy_3.2.2_12_16_19_run_01_exec_20200107/sw/fastq_runid_897cd225d1c3eef2d8da014b83aad9fb76f55a5f_92_0.tsv\n",
      "[16:03:29 - __main__] Starting fastq (366 of 405)\n",
      "\t/path/to/data/MinION_sequencing_data_20191216/guppy_3.2.2_12_16_19_run_01_exec_20200107/pass/fastq_runid_897cd225d1c3eef2d8da014b83aad9fb76f55a5f_92_1.fastq\n"
     ]
    },
    {
     "name": "stdout",
     "output_type": "stream",
     "text": [
      "[########################################] | 100% Completed | 28.5s\n"
     ]
    },
    {
     "name": "stderr",
     "output_type": "stream",
     "text": [
      "[16:03:57 - __main__] Saving to file: /path/to/data/MinION_sequencing_data_20191216/guppy_3.2.2_12_16_19_run_01_exec_20200107/sw/fastq_runid_897cd225d1c3eef2d8da014b83aad9fb76f55a5f_92_1.tsv\n",
      "[16:03:58 - __main__] Starting fastq (367 of 405)\n",
      "\t/path/to/data/MinION_sequencing_data_20191216/guppy_3.2.2_12_16_19_run_01_exec_20200107/pass/fastq_runid_897cd225d1c3eef2d8da014b83aad9fb76f55a5f_92_2.fastq\n"
     ]
    },
    {
     "name": "stdout",
     "output_type": "stream",
     "text": [
      "[########################################] | 100% Completed | 45.0s\n"
     ]
    },
    {
     "name": "stderr",
     "output_type": "stream",
     "text": [
      "[16:04:43 - __main__] Saving to file: /path/to/data/MinION_sequencing_data_20191216/guppy_3.2.2_12_16_19_run_01_exec_20200107/sw/fastq_runid_897cd225d1c3eef2d8da014b83aad9fb76f55a5f_92_2.tsv\n",
      "[16:04:43 - __main__] Starting fastq (368 of 405)\n",
      "\t/path/to/data/MinION_sequencing_data_20191216/guppy_3.2.2_12_16_19_run_01_exec_20200107/pass/fastq_runid_897cd225d1c3eef2d8da014b83aad9fb76f55a5f_92_3.fastq\n"
     ]
    },
    {
     "name": "stdout",
     "output_type": "stream",
     "text": [
      "[########################################] | 100% Completed | 34.0s\n"
     ]
    },
    {
     "name": "stderr",
     "output_type": "stream",
     "text": [
      "[16:05:17 - __main__] Saving to file: /path/to/data/MinION_sequencing_data_20191216/guppy_3.2.2_12_16_19_run_01_exec_20200107/sw/fastq_runid_897cd225d1c3eef2d8da014b83aad9fb76f55a5f_92_3.tsv\n",
      "[16:05:17 - __main__] Starting fastq (369 of 405)\n",
      "\t/path/to/data/MinION_sequencing_data_20191216/guppy_3.2.2_12_16_19_run_01_exec_20200107/pass/fastq_runid_897cd225d1c3eef2d8da014b83aad9fb76f55a5f_93_0.fastq\n"
     ]
    },
    {
     "name": "stdout",
     "output_type": "stream",
     "text": [
      "[########################################] | 100% Completed | 56.2s\n"
     ]
    },
    {
     "name": "stderr",
     "output_type": "stream",
     "text": [
      "[16:06:14 - __main__] Saving to file: /path/to/data/MinION_sequencing_data_20191216/guppy_3.2.2_12_16_19_run_01_exec_20200107/sw/fastq_runid_897cd225d1c3eef2d8da014b83aad9fb76f55a5f_93_0.tsv\n",
      "[16:06:14 - __main__] Starting fastq (370 of 405)\n",
      "\t/path/to/data/MinION_sequencing_data_20191216/guppy_3.2.2_12_16_19_run_01_exec_20200107/pass/fastq_runid_897cd225d1c3eef2d8da014b83aad9fb76f55a5f_93_1.fastq\n"
     ]
    },
    {
     "name": "stdout",
     "output_type": "stream",
     "text": [
      "[########################################] | 100% Completed | 36.4s\n"
     ]
    },
    {
     "name": "stderr",
     "output_type": "stream",
     "text": [
      "[16:06:51 - __main__] Saving to file: /path/to/data/MinION_sequencing_data_20191216/guppy_3.2.2_12_16_19_run_01_exec_20200107/sw/fastq_runid_897cd225d1c3eef2d8da014b83aad9fb76f55a5f_93_1.tsv\n",
      "[16:06:51 - __main__] Starting fastq (371 of 405)\n",
      "\t/path/to/data/MinION_sequencing_data_20191216/guppy_3.2.2_12_16_19_run_01_exec_20200107/pass/fastq_runid_897cd225d1c3eef2d8da014b83aad9fb76f55a5f_93_2.fastq\n"
     ]
    },
    {
     "name": "stdout",
     "output_type": "stream",
     "text": [
      "[########################################] | 100% Completed | 17.0s\n"
     ]
    },
    {
     "name": "stderr",
     "output_type": "stream",
     "text": [
      "[16:07:08 - __main__] Saving to file: /path/to/data/MinION_sequencing_data_20191216/guppy_3.2.2_12_16_19_run_01_exec_20200107/sw/fastq_runid_897cd225d1c3eef2d8da014b83aad9fb76f55a5f_93_2.tsv\n",
      "[16:07:08 - __main__] Starting fastq (372 of 405)\n",
      "\t/path/to/data/MinION_sequencing_data_20191216/guppy_3.2.2_12_16_19_run_01_exec_20200107/pass/fastq_runid_897cd225d1c3eef2d8da014b83aad9fb76f55a5f_93_3.fastq\n"
     ]
    },
    {
     "name": "stdout",
     "output_type": "stream",
     "text": [
      "[########################################] | 100% Completed | 30.8s\n"
     ]
    },
    {
     "name": "stderr",
     "output_type": "stream",
     "text": [
      "[16:07:39 - __main__] Saving to file: /path/to/data/MinION_sequencing_data_20191216/guppy_3.2.2_12_16_19_run_01_exec_20200107/sw/fastq_runid_897cd225d1c3eef2d8da014b83aad9fb76f55a5f_93_3.tsv\n",
      "[16:07:39 - __main__] Starting fastq (373 of 405)\n",
      "\t/path/to/data/MinION_sequencing_data_20191216/guppy_3.2.2_12_16_19_run_01_exec_20200107/pass/fastq_runid_897cd225d1c3eef2d8da014b83aad9fb76f55a5f_94_0.fastq\n"
     ]
    },
    {
     "name": "stdout",
     "output_type": "stream",
     "text": [
      "[########################################] | 100% Completed |  1min  1.6s\n"
     ]
    },
    {
     "name": "stderr",
     "output_type": "stream",
     "text": [
      "[16:08:41 - __main__] Saving to file: /path/to/data/MinION_sequencing_data_20191216/guppy_3.2.2_12_16_19_run_01_exec_20200107/sw/fastq_runid_897cd225d1c3eef2d8da014b83aad9fb76f55a5f_94_0.tsv\n",
      "[16:08:41 - __main__] Starting fastq (374 of 405)\n",
      "\t/path/to/data/MinION_sequencing_data_20191216/guppy_3.2.2_12_16_19_run_01_exec_20200107/pass/fastq_runid_897cd225d1c3eef2d8da014b83aad9fb76f55a5f_94_1.fastq\n"
     ]
    },
    {
     "name": "stdout",
     "output_type": "stream",
     "text": [
      "[########################################] | 100% Completed | 32.6s\n"
     ]
    },
    {
     "name": "stderr",
     "output_type": "stream",
     "text": [
      "[16:09:14 - __main__] Saving to file: /path/to/data/MinION_sequencing_data_20191216/guppy_3.2.2_12_16_19_run_01_exec_20200107/sw/fastq_runid_897cd225d1c3eef2d8da014b83aad9fb76f55a5f_94_1.tsv\n",
      "[16:09:14 - __main__] Starting fastq (375 of 405)\n",
      "\t/path/to/data/MinION_sequencing_data_20191216/guppy_3.2.2_12_16_19_run_01_exec_20200107/pass/fastq_runid_897cd225d1c3eef2d8da014b83aad9fb76f55a5f_94_2.fastq\n"
     ]
    },
    {
     "name": "stdout",
     "output_type": "stream",
     "text": [
      "[########################################] | 100% Completed | 25.6s\n"
     ]
    },
    {
     "name": "stderr",
     "output_type": "stream",
     "text": [
      "[16:09:40 - __main__] Saving to file: /path/to/data/MinION_sequencing_data_20191216/guppy_3.2.2_12_16_19_run_01_exec_20200107/sw/fastq_runid_897cd225d1c3eef2d8da014b83aad9fb76f55a5f_94_2.tsv\n",
      "[16:09:40 - __main__] Starting fastq (376 of 405)\n",
      "\t/path/to/data/MinION_sequencing_data_20191216/guppy_3.2.2_12_16_19_run_01_exec_20200107/pass/fastq_runid_897cd225d1c3eef2d8da014b83aad9fb76f55a5f_94_3.fastq\n"
     ]
    },
    {
     "name": "stdout",
     "output_type": "stream",
     "text": [
      "[########################################] | 100% Completed | 24.3s\n"
     ]
    },
    {
     "name": "stderr",
     "output_type": "stream",
     "text": [
      "[16:10:05 - __main__] Saving to file: /path/to/data/MinION_sequencing_data_20191216/guppy_3.2.2_12_16_19_run_01_exec_20200107/sw/fastq_runid_897cd225d1c3eef2d8da014b83aad9fb76f55a5f_94_3.tsv\n",
      "[16:10:05 - __main__] Starting fastq (377 of 405)\n",
      "\t/path/to/data/MinION_sequencing_data_20191216/guppy_3.2.2_12_16_19_run_01_exec_20200107/pass/fastq_runid_897cd225d1c3eef2d8da014b83aad9fb76f55a5f_95_0.fastq\n"
     ]
    },
    {
     "name": "stdout",
     "output_type": "stream",
     "text": [
      "[########################################] | 100% Completed |  1min  8.5s\n"
     ]
    },
    {
     "name": "stderr",
     "output_type": "stream",
     "text": [
      "[16:11:14 - __main__] Saving to file: /path/to/data/MinION_sequencing_data_20191216/guppy_3.2.2_12_16_19_run_01_exec_20200107/sw/fastq_runid_897cd225d1c3eef2d8da014b83aad9fb76f55a5f_95_0.tsv\n",
      "[16:11:14 - __main__] Starting fastq (378 of 405)\n",
      "\t/path/to/data/MinION_sequencing_data_20191216/guppy_3.2.2_12_16_19_run_01_exec_20200107/pass/fastq_runid_897cd225d1c3eef2d8da014b83aad9fb76f55a5f_95_1.fastq\n"
     ]
    },
    {
     "name": "stdout",
     "output_type": "stream",
     "text": [
      "[########################################] | 100% Completed | 31.2s\n"
     ]
    },
    {
     "name": "stderr",
     "output_type": "stream",
     "text": [
      "[16:11:45 - __main__] Saving to file: /path/to/data/MinION_sequencing_data_20191216/guppy_3.2.2_12_16_19_run_01_exec_20200107/sw/fastq_runid_897cd225d1c3eef2d8da014b83aad9fb76f55a5f_95_1.tsv\n",
      "[16:11:45 - __main__] Starting fastq (379 of 405)\n",
      "\t/path/to/data/MinION_sequencing_data_20191216/guppy_3.2.2_12_16_19_run_01_exec_20200107/pass/fastq_runid_897cd225d1c3eef2d8da014b83aad9fb76f55a5f_95_2.fastq\n"
     ]
    },
    {
     "name": "stdout",
     "output_type": "stream",
     "text": [
      "[########################################] | 100% Completed | 32.2s\n"
     ]
    },
    {
     "name": "stderr",
     "output_type": "stream",
     "text": [
      "[16:12:18 - __main__] Saving to file: /path/to/data/MinION_sequencing_data_20191216/guppy_3.2.2_12_16_19_run_01_exec_20200107/sw/fastq_runid_897cd225d1c3eef2d8da014b83aad9fb76f55a5f_95_2.tsv\n",
      "[16:12:18 - __main__] Starting fastq (380 of 405)\n",
      "\t/path/to/data/MinION_sequencing_data_20191216/guppy_3.2.2_12_16_19_run_01_exec_20200107/pass/fastq_runid_897cd225d1c3eef2d8da014b83aad9fb76f55a5f_95_3.fastq\n"
     ]
    },
    {
     "name": "stdout",
     "output_type": "stream",
     "text": [
      "[########################################] | 100% Completed | 11.0s\n"
     ]
    },
    {
     "name": "stderr",
     "output_type": "stream",
     "text": [
      "[16:12:29 - __main__] Saving to file: /path/to/data/MinION_sequencing_data_20191216/guppy_3.2.2_12_16_19_run_01_exec_20200107/sw/fastq_runid_897cd225d1c3eef2d8da014b83aad9fb76f55a5f_95_3.tsv\n",
      "[16:12:29 - __main__] Starting fastq (381 of 405)\n",
      "\t/path/to/data/MinION_sequencing_data_20191216/guppy_3.2.2_12_16_19_run_01_exec_20200107/pass/fastq_runid_897cd225d1c3eef2d8da014b83aad9fb76f55a5f_96_0.fastq\n"
     ]
    },
    {
     "name": "stdout",
     "output_type": "stream",
     "text": [
      "[########################################] | 100% Completed | 29.5s\n"
     ]
    },
    {
     "name": "stderr",
     "output_type": "stream",
     "text": [
      "[16:12:59 - __main__] Saving to file: /path/to/data/MinION_sequencing_data_20191216/guppy_3.2.2_12_16_19_run_01_exec_20200107/sw/fastq_runid_897cd225d1c3eef2d8da014b83aad9fb76f55a5f_96_0.tsv\n",
      "[16:12:59 - __main__] Starting fastq (382 of 405)\n",
      "\t/path/to/data/MinION_sequencing_data_20191216/guppy_3.2.2_12_16_19_run_01_exec_20200107/pass/fastq_runid_897cd225d1c3eef2d8da014b83aad9fb76f55a5f_96_1.fastq\n"
     ]
    },
    {
     "name": "stdout",
     "output_type": "stream",
     "text": [
      "[########################################] | 100% Completed |  1min 41.1s\n"
     ]
    },
    {
     "name": "stderr",
     "output_type": "stream",
     "text": [
      "[16:14:40 - __main__] Saving to file: /path/to/data/MinION_sequencing_data_20191216/guppy_3.2.2_12_16_19_run_01_exec_20200107/sw/fastq_runid_897cd225d1c3eef2d8da014b83aad9fb76f55a5f_96_1.tsv\n",
      "[16:14:41 - __main__] Starting fastq (383 of 405)\n",
      "\t/path/to/data/MinION_sequencing_data_20191216/guppy_3.2.2_12_16_19_run_01_exec_20200107/pass/fastq_runid_897cd225d1c3eef2d8da014b83aad9fb76f55a5f_96_2.fastq\n"
     ]
    },
    {
     "name": "stdout",
     "output_type": "stream",
     "text": [
      "[########################################] | 100% Completed | 11.9s\n"
     ]
    },
    {
     "name": "stderr",
     "output_type": "stream",
     "text": [
      "[16:14:53 - __main__] Saving to file: /path/to/data/MinION_sequencing_data_20191216/guppy_3.2.2_12_16_19_run_01_exec_20200107/sw/fastq_runid_897cd225d1c3eef2d8da014b83aad9fb76f55a5f_96_2.tsv\n",
      "[16:14:53 - __main__] Starting fastq (384 of 405)\n",
      "\t/path/to/data/MinION_sequencing_data_20191216/guppy_3.2.2_12_16_19_run_01_exec_20200107/pass/fastq_runid_897cd225d1c3eef2d8da014b83aad9fb76f55a5f_97_0.fastq\n"
     ]
    },
    {
     "name": "stdout",
     "output_type": "stream",
     "text": [
      "[########################################] | 100% Completed | 39.3s\n"
     ]
    },
    {
     "name": "stderr",
     "output_type": "stream",
     "text": [
      "[16:15:32 - __main__] Saving to file: /path/to/data/MinION_sequencing_data_20191216/guppy_3.2.2_12_16_19_run_01_exec_20200107/sw/fastq_runid_897cd225d1c3eef2d8da014b83aad9fb76f55a5f_97_0.tsv\n",
      "[16:15:33 - __main__] Starting fastq (385 of 405)\n",
      "\t/path/to/data/MinION_sequencing_data_20191216/guppy_3.2.2_12_16_19_run_01_exec_20200107/pass/fastq_runid_897cd225d1c3eef2d8da014b83aad9fb76f55a5f_96_3.fastq\n"
     ]
    },
    {
     "name": "stdout",
     "output_type": "stream",
     "text": [
      "[########################################] | 100% Completed |  1.0s\n"
     ]
    },
    {
     "name": "stderr",
     "output_type": "stream",
     "text": [
      "[16:15:34 - __main__] Saving to file: /path/to/data/MinION_sequencing_data_20191216/guppy_3.2.2_12_16_19_run_01_exec_20200107/sw/fastq_runid_897cd225d1c3eef2d8da014b83aad9fb76f55a5f_96_3.tsv\n",
      "[16:15:34 - __main__] Starting fastq (386 of 405)\n",
      "\t/path/to/data/MinION_sequencing_data_20191216/guppy_3.2.2_12_16_19_run_01_exec_20200107/pass/fastq_runid_897cd225d1c3eef2d8da014b83aad9fb76f55a5f_97_1.fastq\n"
     ]
    },
    {
     "name": "stdout",
     "output_type": "stream",
     "text": [
      "[########################################] | 100% Completed |  1min  0.4s\n"
     ]
    },
    {
     "name": "stderr",
     "output_type": "stream",
     "text": [
      "[16:16:35 - __main__] Saving to file: /path/to/data/MinION_sequencing_data_20191216/guppy_3.2.2_12_16_19_run_01_exec_20200107/sw/fastq_runid_897cd225d1c3eef2d8da014b83aad9fb76f55a5f_97_1.tsv\n",
      "[16:16:35 - __main__] Starting fastq (387 of 405)\n",
      "\t/path/to/data/MinION_sequencing_data_20191216/guppy_3.2.2_12_16_19_run_01_exec_20200107/pass/fastq_runid_897cd225d1c3eef2d8da014b83aad9fb76f55a5f_97_2.fastq\n"
     ]
    },
    {
     "name": "stdout",
     "output_type": "stream",
     "text": [
      "[########################################] | 100% Completed | 42.3s\n"
     ]
    },
    {
     "name": "stderr",
     "output_type": "stream",
     "text": [
      "[16:17:17 - __main__] Saving to file: /path/to/data/MinION_sequencing_data_20191216/guppy_3.2.2_12_16_19_run_01_exec_20200107/sw/fastq_runid_897cd225d1c3eef2d8da014b83aad9fb76f55a5f_97_2.tsv\n",
      "[16:17:17 - __main__] Starting fastq (388 of 405)\n",
      "\t/path/to/data/MinION_sequencing_data_20191216/guppy_3.2.2_12_16_19_run_01_exec_20200107/pass/fastq_runid_897cd225d1c3eef2d8da014b83aad9fb76f55a5f_98_0.fastq\n"
     ]
    },
    {
     "name": "stdout",
     "output_type": "stream",
     "text": [
      "[########################################] | 100% Completed |  1min 28.9s\n"
     ]
    },
    {
     "name": "stderr",
     "output_type": "stream",
     "text": [
      "[16:18:47 - __main__] Saving to file: /path/to/data/MinION_sequencing_data_20191216/guppy_3.2.2_12_16_19_run_01_exec_20200107/sw/fastq_runid_897cd225d1c3eef2d8da014b83aad9fb76f55a5f_98_0.tsv\n",
      "[16:18:47 - __main__] Starting fastq (389 of 405)\n",
      "\t/path/to/data/MinION_sequencing_data_20191216/guppy_3.2.2_12_16_19_run_01_exec_20200107/pass/fastq_runid_897cd225d1c3eef2d8da014b83aad9fb76f55a5f_98_1.fastq\n"
     ]
    },
    {
     "name": "stdout",
     "output_type": "stream",
     "text": [
      "[########################################] | 100% Completed | 46.2s\n"
     ]
    },
    {
     "name": "stderr",
     "output_type": "stream",
     "text": [
      "[16:19:33 - __main__] Saving to file: /path/to/data/MinION_sequencing_data_20191216/guppy_3.2.2_12_16_19_run_01_exec_20200107/sw/fastq_runid_897cd225d1c3eef2d8da014b83aad9fb76f55a5f_98_1.tsv\n",
      "[16:19:33 - __main__] Starting fastq (390 of 405)\n",
      "\t/path/to/data/MinION_sequencing_data_20191216/guppy_3.2.2_12_16_19_run_01_exec_20200107/pass/fastq_runid_897cd225d1c3eef2d8da014b83aad9fb76f55a5f_98_2.fastq\n"
     ]
    },
    {
     "name": "stdout",
     "output_type": "stream",
     "text": [
      "[########################################] | 100% Completed |  5.4s\n"
     ]
    },
    {
     "name": "stderr",
     "output_type": "stream",
     "text": [
      "[16:19:39 - __main__] Saving to file: /path/to/data/MinION_sequencing_data_20191216/guppy_3.2.2_12_16_19_run_01_exec_20200107/sw/fastq_runid_897cd225d1c3eef2d8da014b83aad9fb76f55a5f_98_2.tsv\n",
      "[16:19:39 - __main__] Starting fastq (391 of 405)\n",
      "\t/path/to/data/MinION_sequencing_data_20191216/guppy_3.2.2_12_16_19_run_01_exec_20200107/pass/fastq_runid_897cd225d1c3eef2d8da014b83aad9fb76f55a5f_99_0.fastq\n"
     ]
    },
    {
     "name": "stdout",
     "output_type": "stream",
     "text": [
      "[########################################] | 100% Completed |  1min 34.3s\n"
     ]
    },
    {
     "name": "stderr",
     "output_type": "stream",
     "text": [
      "[16:21:14 - __main__] Saving to file: /path/to/data/MinION_sequencing_data_20191216/guppy_3.2.2_12_16_19_run_01_exec_20200107/sw/fastq_runid_897cd225d1c3eef2d8da014b83aad9fb76f55a5f_99_0.tsv\n",
      "[16:21:14 - __main__] Starting fastq (392 of 405)\n",
      "\t/path/to/data/MinION_sequencing_data_20191216/guppy_3.2.2_12_16_19_run_01_exec_20200107/pass/fastq_runid_897cd225d1c3eef2d8da014b83aad9fb76f55a5f_99_1.fastq\n"
     ]
    },
    {
     "name": "stdout",
     "output_type": "stream",
     "text": [
      "[########################################] | 100% Completed | 47.7s\n"
     ]
    },
    {
     "name": "stderr",
     "output_type": "stream",
     "text": [
      "[16:22:02 - __main__] Saving to file: /path/to/data/MinION_sequencing_data_20191216/guppy_3.2.2_12_16_19_run_01_exec_20200107/sw/fastq_runid_897cd225d1c3eef2d8da014b83aad9fb76f55a5f_99_1.tsv\n",
      "[16:22:02 - __main__] Starting fastq (393 of 405)\n",
      "\t/path/to/data/MinION_sequencing_data_20191216/guppy_3.2.2_12_16_19_run_01_exec_20200107/pass/fastq_runid_897cd225d1c3eef2d8da014b83aad9fb76f55a5f_97_3.fastq\n"
     ]
    },
    {
     "name": "stdout",
     "output_type": "stream",
     "text": [
      "[########################################] | 100% Completed |  0.9s\n"
     ]
    },
    {
     "name": "stderr",
     "output_type": "stream",
     "text": [
      "[16:22:03 - __main__] Saving to file: /path/to/data/MinION_sequencing_data_20191216/guppy_3.2.2_12_16_19_run_01_exec_20200107/sw/fastq_runid_897cd225d1c3eef2d8da014b83aad9fb76f55a5f_97_3.tsv\n",
      "[16:22:03 - __main__] Starting fastq (394 of 405)\n",
      "\t/path/to/data/MinION_sequencing_data_20191216/guppy_3.2.2_12_16_19_run_01_exec_20200107/pass/fastq_runid_897cd225d1c3eef2d8da014b83aad9fb76f55a5f_98_3.fastq\n"
     ]
    },
    {
     "name": "stdout",
     "output_type": "stream",
     "text": [
      "[########################################] | 100% Completed |  1.0s\n"
     ]
    },
    {
     "name": "stderr",
     "output_type": "stream",
     "text": [
      "[16:22:04 - __main__] Saving to file: /path/to/data/MinION_sequencing_data_20191216/guppy_3.2.2_12_16_19_run_01_exec_20200107/sw/fastq_runid_897cd225d1c3eef2d8da014b83aad9fb76f55a5f_98_3.tsv\n",
      "[16:22:04 - __main__] Starting fastq (395 of 405)\n",
      "\t/path/to/data/MinION_sequencing_data_20191216/guppy_3.2.2_12_16_19_run_01_exec_20200107/pass/fastq_runid_897cd225d1c3eef2d8da014b83aad9fb76f55a5f_99_2.fastq\n"
     ]
    },
    {
     "name": "stdout",
     "output_type": "stream",
     "text": [
      "[########################################] | 100% Completed |  0.9s\n"
     ]
    },
    {
     "name": "stderr",
     "output_type": "stream",
     "text": [
      "[16:22:06 - __main__] Saving to file: /path/to/data/MinION_sequencing_data_20191216/guppy_3.2.2_12_16_19_run_01_exec_20200107/sw/fastq_runid_897cd225d1c3eef2d8da014b83aad9fb76f55a5f_99_2.tsv\n",
      "[16:22:06 - __main__] Starting fastq (396 of 405)\n",
      "\t/path/to/data/MinION_sequencing_data_20191216/guppy_3.2.2_12_16_19_run_01_exec_20200107/pass/fastq_runid_897cd225d1c3eef2d8da014b83aad9fb76f55a5f_100_0.fastq\n"
     ]
    },
    {
     "name": "stdout",
     "output_type": "stream",
     "text": [
      "[########################################] | 100% Completed | 43.9s\n"
     ]
    },
    {
     "name": "stderr",
     "output_type": "stream",
     "text": [
      "[16:22:50 - __main__] Saving to file: /path/to/data/MinION_sequencing_data_20191216/guppy_3.2.2_12_16_19_run_01_exec_20200107/sw/fastq_runid_897cd225d1c3eef2d8da014b83aad9fb76f55a5f_100_0.tsv\n",
      "[16:22:50 - __main__] Starting fastq (397 of 405)\n",
      "\t/path/to/data/MinION_sequencing_data_20191216/guppy_3.2.2_12_16_19_run_01_exec_20200107/pass/fastq_runid_897cd225d1c3eef2d8da014b83aad9fb76f55a5f_100_1.fastq\n"
     ]
    },
    {
     "name": "stdout",
     "output_type": "stream",
     "text": [
      "[########################################] | 100% Completed | 28.6s\n"
     ]
    },
    {
     "name": "stderr",
     "output_type": "stream",
     "text": [
      "[16:23:19 - __main__] Saving to file: /path/to/data/MinION_sequencing_data_20191216/guppy_3.2.2_12_16_19_run_01_exec_20200107/sw/fastq_runid_897cd225d1c3eef2d8da014b83aad9fb76f55a5f_100_1.tsv\n",
      "[16:23:19 - __main__] Starting fastq (398 of 405)\n",
      "\t/path/to/data/MinION_sequencing_data_20191216/guppy_3.2.2_12_16_19_run_01_exec_20200107/pass/fastq_runid_897cd225d1c3eef2d8da014b83aad9fb76f55a5f_100_2.fastq\n"
     ]
    },
    {
     "name": "stdout",
     "output_type": "stream",
     "text": [
      "[########################################] | 100% Completed | 58.7s\n"
     ]
    },
    {
     "name": "stderr",
     "output_type": "stream",
     "text": [
      "[16:24:18 - __main__] Saving to file: /path/to/data/MinION_sequencing_data_20191216/guppy_3.2.2_12_16_19_run_01_exec_20200107/sw/fastq_runid_897cd225d1c3eef2d8da014b83aad9fb76f55a5f_100_2.tsv\n",
      "[16:24:18 - __main__] Starting fastq (399 of 405)\n",
      "\t/path/to/data/MinION_sequencing_data_20191216/guppy_3.2.2_12_16_19_run_01_exec_20200107/pass/fastq_runid_897cd225d1c3eef2d8da014b83aad9fb76f55a5f_99_3.fastq\n"
     ]
    },
    {
     "name": "stdout",
     "output_type": "stream",
     "text": [
      "[########################################] | 100% Completed |  0.9s\n"
     ]
    },
    {
     "name": "stderr",
     "output_type": "stream",
     "text": [
      "[16:24:19 - __main__] Saving to file: /path/to/data/MinION_sequencing_data_20191216/guppy_3.2.2_12_16_19_run_01_exec_20200107/sw/fastq_runid_897cd225d1c3eef2d8da014b83aad9fb76f55a5f_99_3.tsv\n",
      "[16:24:19 - __main__] Starting fastq (400 of 405)\n",
      "\t/path/to/data/MinION_sequencing_data_20191216/guppy_3.2.2_12_16_19_run_01_exec_20200107/pass/fastq_runid_897cd225d1c3eef2d8da014b83aad9fb76f55a5f_101_0.fastq\n"
     ]
    },
    {
     "name": "stdout",
     "output_type": "stream",
     "text": [
      "[########################################] | 100% Completed | 50.3s\n"
     ]
    },
    {
     "name": "stderr",
     "output_type": "stream",
     "text": [
      "[16:25:10 - __main__] Saving to file: /path/to/data/MinION_sequencing_data_20191216/guppy_3.2.2_12_16_19_run_01_exec_20200107/sw/fastq_runid_897cd225d1c3eef2d8da014b83aad9fb76f55a5f_101_0.tsv\n",
      "[16:25:10 - __main__] Starting fastq (401 of 405)\n",
      "\t/path/to/data/MinION_sequencing_data_20191216/guppy_3.2.2_12_16_19_run_01_exec_20200107/pass/fastq_runid_897cd225d1c3eef2d8da014b83aad9fb76f55a5f_101_1.fastq\n"
     ]
    },
    {
     "name": "stdout",
     "output_type": "stream",
     "text": [
      "[########################################] | 100% Completed | 54.1s\n"
     ]
    },
    {
     "name": "stderr",
     "output_type": "stream",
     "text": [
      "[16:26:04 - __main__] Saving to file: /path/to/data/MinION_sequencing_data_20191216/guppy_3.2.2_12_16_19_run_01_exec_20200107/sw/fastq_runid_897cd225d1c3eef2d8da014b83aad9fb76f55a5f_101_1.tsv\n",
      "[16:26:04 - __main__] Starting fastq (402 of 405)\n",
      "\t/path/to/data/MinION_sequencing_data_20191216/guppy_3.2.2_12_16_19_run_01_exec_20200107/pass/fastq_runid_897cd225d1c3eef2d8da014b83aad9fb76f55a5f_101_2.fastq\n"
     ]
    },
    {
     "name": "stdout",
     "output_type": "stream",
     "text": [
      "[########################################] | 100% Completed | 30.1s\n"
     ]
    },
    {
     "name": "stderr",
     "output_type": "stream",
     "text": [
      "[16:26:35 - __main__] Saving to file: /path/to/data/MinION_sequencing_data_20191216/guppy_3.2.2_12_16_19_run_01_exec_20200107/sw/fastq_runid_897cd225d1c3eef2d8da014b83aad9fb76f55a5f_101_2.tsv\n",
      "[16:26:35 - __main__] Starting fastq (403 of 405)\n",
      "\t/path/to/data/MinION_sequencing_data_20191216/guppy_3.2.2_12_16_19_run_01_exec_20200107/pass/fastq_runid_897cd225d1c3eef2d8da014b83aad9fb76f55a5f_100_3.fastq\n"
     ]
    },
    {
     "name": "stdout",
     "output_type": "stream",
     "text": [
      "[########################################] | 100% Completed | 14.1s\n"
     ]
    },
    {
     "name": "stderr",
     "output_type": "stream",
     "text": [
      "[16:26:49 - __main__] Saving to file: /path/to/data/MinION_sequencing_data_20191216/guppy_3.2.2_12_16_19_run_01_exec_20200107/sw/fastq_runid_897cd225d1c3eef2d8da014b83aad9fb76f55a5f_100_3.tsv\n",
      "[16:26:49 - __main__] Starting fastq (404 of 405)\n",
      "\t/path/to/data/MinION_sequencing_data_20191216/guppy_3.2.2_12_16_19_run_01_exec_20200107/pass/fastq_runid_897cd225d1c3eef2d8da014b83aad9fb76f55a5f_101_3.fastq\n"
     ]
    },
    {
     "name": "stdout",
     "output_type": "stream",
     "text": [
      "[########################################] | 100% Completed |  7.6s\n"
     ]
    },
    {
     "name": "stderr",
     "output_type": "stream",
     "text": [
      "[16:26:57 - __main__] Saving to file: /path/to/data/MinION_sequencing_data_20191216/guppy_3.2.2_12_16_19_run_01_exec_20200107/sw/fastq_runid_897cd225d1c3eef2d8da014b83aad9fb76f55a5f_101_3.tsv\n"
     ]
    }
   ],
   "source": [
    "run_sw(fastq_dir, sw_dir, search_len=80, cost_fn=cost_fn, molbit_fa=molbit_file, n_workers=40)"
   ]
  },
  {
   "cell_type": "code",
   "execution_count": 12,
   "metadata": {
    "ExecuteTime": {
     "end_time": "2020-01-08T00:26:57.402293Z",
     "start_time": "2020-01-08T00:26:57.377959Z"
    }
   },
   "outputs": [
    {
     "data": {
      "text/plain": [
       "'/path/to/data/MinION_sequencing_data_20191216/guppy_3.2.2_12_16_19_run_01_exec_20200107/sw'"
      ]
     },
     "execution_count": 12,
     "metadata": {},
     "output_type": "execute_result"
    }
   ],
   "source": [
    "sw_dir"
   ]
  },
  {
   "cell_type": "code",
   "execution_count": 13,
   "metadata": {
    "ExecuteTime": {
     "end_time": "2020-01-08T00:27:02.041298Z",
     "start_time": "2020-01-08T00:26:57.404154Z"
    }
   },
   "outputs": [],
   "source": [
    "sw_list = []\n",
    "for fname in os.listdir(sw_dir):\n",
    "    if len(re.findall(r\"fastq_runid_.*_[\\d]+_[\\d]+.tsv\", fname)) == 0:\n",
    "        continue\n",
    "    sw_tsv = os.path.join(sw_dir, fname)\n",
    "    sw = pd.read_csv(sw_tsv, sep=\"\\t\", index_col=0)\n",
    "    sw_list.append(sw)\n",
    "sw = pd.concat(sw_list)\n",
    "del sw_list"
   ]
  },
  {
   "cell_type": "code",
   "execution_count": 14,
   "metadata": {
    "ExecuteTime": {
     "end_time": "2020-01-08T00:27:02.263963Z",
     "start_time": "2020-01-08T00:27:02.043652Z"
    }
   },
   "outputs": [],
   "source": [
    "sw_arr = np.array(sw)"
   ]
  },
  {
   "cell_type": "code",
   "execution_count": 15,
   "metadata": {
    "ExecuteTime": {
     "end_time": "2020-01-08T00:27:03.051293Z",
     "start_time": "2020-01-08T00:27:02.265853Z"
    }
   },
   "outputs": [],
   "source": [
    "max_sw = np.max(sw_arr, axis=1)\n",
    "sw_arr[range(len(sw_arr)), np.argmax(sw_arr, axis=1)] = 0\n",
    "second_best_sw = np.max(sw_arr, axis=1)\n",
    "sw_arr = np.array(sw)"
   ]
  },
  {
   "cell_type": "code",
   "execution_count": 16,
   "metadata": {
    "ExecuteTime": {
     "end_time": "2020-01-08T00:27:03.069122Z",
     "start_time": "2020-01-08T00:27:03.053231Z"
    }
   },
   "outputs": [
    {
     "data": {
      "text/plain": [
       "'/path/to/data/MinION_sequencing_data_20191216/guppy_3.2.2_12_16_19_run_01_exec_20200107/sw/fastq_runid_897cd225d1c3eef2d8da014b83aad9fb76f55a5f_101_3.tsv'"
      ]
     },
     "execution_count": 16,
     "metadata": {},
     "output_type": "execute_result"
    }
   ],
   "source": [
    "sw_tsv"
   ]
  },
  {
   "cell_type": "markdown",
   "metadata": {},
   "source": [
    "## Plot alignment scores for basic overview of performance"
   ]
  },
  {
   "cell_type": "code",
   "execution_count": 17,
   "metadata": {
    "ExecuteTime": {
     "end_time": "2020-01-08T00:27:08.200107Z",
     "start_time": "2020-01-08T00:27:03.071058Z"
    },
    "scrolled": true
   },
   "outputs": [
    {
     "data": {
      "text/plain": [
       "<matplotlib.lines.Line2D at 0x7fd8e0b5c7b8>"
      ]
     },
     "execution_count": 17,
     "metadata": {},
     "output_type": "execute_result"
    },
    {
     "name": "stderr",
     "output_type": "stream",
     "text": [
      "[16:27:03 - matplotlib.font_manager] findfont: Matching :family=sans-serif:style=normal:variant=normal:weight=normal:stretch=normal:size=19.8.\n",
      "[16:27:03 - matplotlib.font_manager] findfont: score(<Font 'STIXSizeThreeSym' (STIXSizThreeSymBol.ttf) normal normal bold normal>) = 10.335\n",
      "[16:27:03 - matplotlib.font_manager] findfont: score(<Font 'STIXSizeFourSym' (STIXSizFourSymBol.ttf) normal normal bold normal>) = 10.335\n",
      "[16:27:03 - matplotlib.font_manager] findfont: score(<Font 'DejaVu Sans Mono' (DejaVuSansMono-Oblique.ttf) oblique normal 400 normal>) = 11.05\n",
      "[16:27:03 - matplotlib.font_manager] findfont: score(<Font 'DejaVu Sans' (DejaVuSans-BoldOblique.ttf) oblique normal bold normal>) = 3.335\n",
      "[16:27:03 - matplotlib.font_manager] findfont: score(<Font 'STIXNonUnicode' (STIXNonUni.ttf) normal normal regular normal>) = 10.05\n",
      "[16:27:03 - matplotlib.font_manager] findfont: score(<Font 'STIXSizeFourSym' (STIXSizFourSymReg.ttf) normal normal regular normal>) = 10.05\n",
      "[16:27:03 - matplotlib.font_manager] findfont: score(<Font 'STIXGeneral' (STIXGeneral.ttf) normal normal regular normal>) = 10.05\n",
      "[16:27:03 - matplotlib.font_manager] findfont: score(<Font 'STIXSizeFiveSym' (STIXSizFiveSymReg.ttf) normal normal regular normal>) = 10.05\n",
      "[16:27:03 - matplotlib.font_manager] findfont: score(<Font 'DejaVu Serif' (DejaVuSerif-BoldItalic.ttf) italic normal bold normal>) = 11.335\n",
      "[16:27:03 - matplotlib.font_manager] findfont: score(<Font 'STIXNonUnicode' (STIXNonUniBol.ttf) normal normal bold normal>) = 10.335\n",
      "[16:27:03 - matplotlib.font_manager] findfont: score(<Font 'DejaVu Serif' (DejaVuSerif-Italic.ttf) italic normal 400 normal>) = 11.05\n",
      "[16:27:03 - matplotlib.font_manager] findfont: score(<Font 'cmss10' (cmss10.ttf) normal normal 400 normal>) = 10.05\n",
      "[16:27:03 - matplotlib.font_manager] findfont: score(<Font 'STIXSizeThreeSym' (STIXSizThreeSymReg.ttf) normal normal regular normal>) = 10.05\n",
      "[16:27:03 - matplotlib.font_manager] findfont: score(<Font 'STIXSizeOneSym' (STIXSizOneSymBol.ttf) normal normal bold normal>) = 10.335\n",
      "[16:27:03 - matplotlib.font_manager] findfont: score(<Font 'cmr10' (cmr10.ttf) normal normal 400 normal>) = 10.05\n",
      "[16:27:03 - matplotlib.font_manager] findfont: score(<Font 'STIXGeneral' (STIXGeneralBol.ttf) normal normal bold normal>) = 10.335\n",
      "[16:27:03 - matplotlib.font_manager] findfont: score(<Font 'cmb10' (cmb10.ttf) normal normal 400 normal>) = 10.05\n",
      "[16:27:03 - matplotlib.font_manager] findfont: score(<Font 'STIXGeneral' (STIXGeneralBolIta.ttf) italic normal bold normal>) = 11.335\n",
      "[16:27:03 - matplotlib.font_manager] findfont: score(<Font 'STIXGeneral' (STIXGeneralItalic.ttf) italic normal 400 normal>) = 11.05\n",
      "[16:27:03 - matplotlib.font_manager] findfont: score(<Font 'cmsy10' (cmsy10.ttf) normal normal 400 normal>) = 10.05\n",
      "[16:27:03 - matplotlib.font_manager] findfont: score(<Font 'STIXNonUnicode' (STIXNonUniBolIta.ttf) italic normal bold normal>) = 11.335\n",
      "[16:27:03 - matplotlib.font_manager] findfont: score(<Font 'DejaVu Sans' (DejaVuSans-Bold.ttf) normal normal bold normal>) = 2.335\n",
      "[16:27:03 - matplotlib.font_manager] findfont: score(<Font 'cmex10' (cmex10.ttf) normal normal 400 normal>) = 10.05\n",
      "[16:27:03 - matplotlib.font_manager] findfont: score(<Font 'DejaVu Sans' (DejaVuSans-Oblique.ttf) oblique normal 400 normal>) = 3.05\n",
      "[16:27:03 - matplotlib.font_manager] findfont: score(<Font 'DejaVu Sans' (DejaVuSans.ttf) normal normal 400 normal>) = 2.05\n",
      "[16:27:03 - matplotlib.font_manager] findfont: score(<Font 'DejaVu Serif' (DejaVuSerif-Bold.ttf) normal normal bold normal>) = 10.335\n",
      "[16:27:03 - matplotlib.font_manager] findfont: score(<Font 'STIXSizeTwoSym' (STIXSizTwoSymBol.ttf) normal normal bold normal>) = 10.335\n",
      "[16:27:03 - matplotlib.font_manager] findfont: score(<Font 'DejaVu Sans Mono' (DejaVuSansMono-BoldOblique.ttf) oblique normal bold normal>) = 11.335\n",
      "[16:27:03 - matplotlib.font_manager] findfont: score(<Font 'cmtt10' (cmtt10.ttf) normal normal 400 normal>) = 10.05\n",
      "[16:27:03 - matplotlib.font_manager] findfont: score(<Font 'DejaVu Serif' (DejaVuSerif.ttf) normal normal 400 normal>) = 10.05\n",
      "[16:27:03 - matplotlib.font_manager] findfont: score(<Font 'cmmi10' (cmmi10.ttf) normal normal 400 normal>) = 10.05\n",
      "[16:27:03 - matplotlib.font_manager] findfont: score(<Font 'DejaVu Sans Display' (DejaVuSansDisplay.ttf) normal normal 400 normal>) = 10.05\n",
      "[16:27:03 - matplotlib.font_manager] findfont: score(<Font 'STIXSizeTwoSym' (STIXSizTwoSymReg.ttf) normal normal regular normal>) = 10.05\n",
      "[16:27:03 - matplotlib.font_manager] findfont: score(<Font 'STIXNonUnicode' (STIXNonUniIta.ttf) italic normal 400 normal>) = 11.05\n",
      "[16:27:03 - matplotlib.font_manager] findfont: score(<Font 'DejaVu Sans Mono' (DejaVuSansMono.ttf) normal normal 400 normal>) = 10.05\n",
      "[16:27:03 - matplotlib.font_manager] findfont: score(<Font 'DejaVu Serif Display' (DejaVuSerifDisplay.ttf) normal normal 400 normal>) = 10.05\n",
      "[16:27:03 - matplotlib.font_manager] findfont: score(<Font 'DejaVu Sans Mono' (DejaVuSansMono-Bold.ttf) normal normal bold normal>) = 10.335\n",
      "[16:27:03 - matplotlib.font_manager] findfont: score(<Font 'STIXSizeOneSym' (STIXSizOneSymReg.ttf) normal normal regular normal>) = 10.05\n",
      "[16:27:03 - matplotlib.font_manager] findfont: score(<Font 'FreeSerif' (FreeSerif.ttf) normal normal 400 normal>) = 10.05\n",
      "[16:27:03 - matplotlib.font_manager] findfont: score(<Font 'PT Sans Narrow' (PTN57F.ttf) normal normal 400 condensed>) = 10.25\n",
      "[16:27:03 - matplotlib.font_manager] findfont: score(<Font 'Source Han Sans CN' (SourceHanSansCN-Light.otf) normal normal light normal>) = 10.24\n",
      "[16:27:03 - matplotlib.font_manager] findfont: score(<Font 'Khmer OS Content' (KhmerOS_content.ttf) normal normal 400 normal>) = 10.05\n",
      "[16:27:03 - matplotlib.font_manager] findfont: score(<Font 'PT Sans' (PTS76F.ttf) italic normal bold normal>) = 11.335\n",
      "[16:27:03 - matplotlib.font_manager] findfont: score(<Font 'PT Sans' (PTS56F.ttf) italic normal 400 normal>) = 11.05\n",
      "[16:27:03 - matplotlib.font_manager] findfont: score(<Font 'Caladea' (Caladea-Italic.ttf) italic normal 400 normal>) = 11.05\n",
      "[16:27:03 - matplotlib.font_manager] findfont: score(<Font 'Cantarell' (Cantarell-BoldOblique.otf) oblique normal bold normal>) = 11.335\n",
      "[16:27:03 - matplotlib.font_manager] findfont: score(<Font 'Source Han Sans TWHK' (SourceHanSansTWHK-Heavy.otf) normal normal bold normal>) = 10.335\n",
      "[16:27:03 - matplotlib.font_manager] findfont: score(<Font 'DejaVu Sans' (DejaVuSansCondensed.ttf) normal normal 400 condensed>) = 2.25\n",
      "[16:27:03 - matplotlib.font_manager] findfont: score(<Font 'Carlito' (Carlito-Bold.ttf) normal normal bold normal>) = 10.335\n",
      "[16:27:03 - matplotlib.font_manager] findfont: score(<Font 'Liberation Sans' (LiberationSans-Italic.ttf) italic normal 400 normal>) = 5.05\n",
      "[16:27:03 - matplotlib.font_manager] findfont: score(<Font 'Source Han Sans CN' (SourceHanSansCN-Regular.otf) normal normal regular normal>) = 10.05\n",
      "[16:27:03 - matplotlib.font_manager] findfont: score(<Font 'DejaVu Sans' (DejaVuSansCondensed-Oblique.ttf) oblique normal 400 condensed>) = 3.25\n",
      "[16:27:03 - matplotlib.font_manager] findfont: score(<Font 'Source Han Sans TWHK' (SourceHanSansTWHK-Normal.otf) normal normal normal normal>) = 10.0\n",
      "[16:27:03 - matplotlib.font_manager] findfont: score(<Font 'Liberation Mono' (LiberationMono-Regular.ttf) normal normal 400 normal>) = 10.05\n",
      "[16:27:03 - matplotlib.font_manager] findfont: score(<Font 'Cantarell' (Cantarell-Regular.otf) normal normal regular normal>) = 10.05\n",
      "[16:27:03 - matplotlib.font_manager] findfont: score(<Font 'NanumGothic' (NanumGothicBold.ttf) normal normal bold normal>) = 10.335\n",
      "[16:27:03 - matplotlib.font_manager] findfont: score(<Font 'Cantarell' (Cantarell-Oblique.otf) oblique normal 400 normal>) = 11.05\n",
      "[16:27:03 - matplotlib.font_manager] findfont: score(<Font 'Nuosu SIL' (NuosuSIL.ttf) normal normal 400 normal>) = 10.05\n",
      "[16:27:03 - matplotlib.font_manager] findfont: score(<Font 'Source Han Sans TWHK' (SourceHanSansTWHK-Medium.otf) normal normal medium normal>) = 10.145\n",
      "[16:27:03 - matplotlib.font_manager] findfont: score(<Font 'Carlito' (Carlito-Italic.ttf) italic normal 400 normal>) = 11.05\n",
      "[16:27:03 - matplotlib.font_manager] findfont: score(<Font 'FreeSerif' (FreeSerifBoldItalic.ttf) italic normal bold normal>) = 11.335\n"
     ]
    },
    {
     "name": "stderr",
     "output_type": "stream",
     "text": [
      "[16:27:03 - matplotlib.font_manager] findfont: score(<Font 'Source Han Sans CN' (SourceHanSansCN-ExtraLight.otf) normal normal light normal>) = 10.24\n",
      "[16:27:03 - matplotlib.font_manager] findfont: score(<Font 'Meera' (Meera.ttf) normal normal 400 normal>) = 10.05\n",
      "[16:27:03 - matplotlib.font_manager] findfont: score(<Font 'Lohit Gujarati' (Lohit-Gujarati.ttf) normal normal 400 normal>) = 10.05\n",
      "[16:27:03 - matplotlib.font_manager] findfont: score(<Font 'PT Sans' (PTS75F.ttf) normal normal bold normal>) = 10.335\n",
      "[16:27:03 - matplotlib.font_manager] findfont: score(<Font 'PakType Naqsh' (PakType_Naqsh.ttf) normal normal 400 normal>) = 10.05\n",
      "[16:27:03 - matplotlib.font_manager] findfont: score(<Font 'FreeMono' (FreeMonoBold.ttf) normal normal bold normal>) = 10.335\n",
      "[16:27:03 - matplotlib.font_manager] findfont: score(<Font 'Source Han Sans CN' (SourceHanSansCN-Medium.otf) normal normal medium normal>) = 10.145\n",
      "[16:27:03 - matplotlib.font_manager] findfont: score(<Font 'Carlito' (Carlito-BoldItalic.ttf) italic normal bold normal>) = 11.335\n",
      "[16:27:03 - matplotlib.font_manager] findfont: score(<Font 'Caladea' (Caladea-Regular.ttf) normal normal 400 normal>) = 10.05\n",
      "[16:27:03 - matplotlib.font_manager] findfont: score(<Font 'DejaVu Serif' (DejaVuSerifCondensed.ttf) normal normal 400 condensed>) = 10.25\n",
      "[16:27:03 - matplotlib.font_manager] findfont: score(<Font 'STIX' (STIX-Bold.otf) normal normal bold normal>) = 10.335\n",
      "[16:27:03 - matplotlib.font_manager] findfont: score(<Font 'AR PL UMing CN' (uming.ttc) normal normal 400 normal>) = 10.05\n",
      "[16:27:03 - matplotlib.font_manager] findfont: score(<Font 'STIX' (STIX-BoldItalic.otf) italic normal bold normal>) = 11.335\n",
      "[16:27:03 - matplotlib.font_manager] findfont: score(<Font 'DejaVu Serif' (DejaVuSerifCondensed-Bold.ttf) normal normal bold condensed>) = 10.535\n",
      "[16:27:03 - matplotlib.font_manager] findfont: score(<Font 'Liberation Serif' (LiberationSerif-BoldItalic.ttf) italic normal bold normal>) = 11.335\n",
      "[16:27:03 - matplotlib.font_manager] findfont: score(<Font 'FreeSans' (FreeSans.ttf) normal normal 400 normal>) = 10.05\n",
      "[16:27:03 - matplotlib.font_manager] findfont: score(<Font 'Waree' (Waree.ttf) normal normal 400 normal>) = 10.05\n",
      "[16:27:03 - matplotlib.font_manager] findfont: score(<Font 'Waree' (Waree-Bold.ttf) normal normal bold normal>) = 10.335\n",
      "[16:27:03 - matplotlib.font_manager] findfont: score(<Font 'FreeSans' (FreeSansBoldOblique.ttf) oblique normal bold normal>) = 11.335\n",
      "[16:27:03 - matplotlib.font_manager] findfont: score(<Font 'FreeMono' (FreeMono.ttf) normal normal 400 normal>) = 10.05\n",
      "[16:27:03 - matplotlib.font_manager] findfont: score(<Font 'Noto Sans Tagalog' (NotoSansTagalog-Regular.ttf) normal normal 400 normal>) = 10.05\n",
      "[16:27:03 - matplotlib.font_manager] findfont: score(<Font 'Lohit Tamil' (Lohit-Tamil.ttf) normal normal 400 normal>) = 10.05\n",
      "[16:27:03 - matplotlib.font_manager] findfont: score(<Font 'DejaVu Serif' (DejaVuSerifCondensed-Italic.ttf) italic normal 400 condensed>) = 11.25\n",
      "[16:27:03 - matplotlib.font_manager] findfont: score(<Font 'Caladea' (Caladea-BoldItalic.ttf) italic normal bold normal>) = 11.335\n",
      "[16:27:03 - matplotlib.font_manager] findfont: score(<Font 'Source Han Sans CN' (SourceHanSansCN-Normal.otf) normal normal normal normal>) = 10.0\n",
      "[16:27:03 - matplotlib.font_manager] findfont: score(<Font 'FreeMono' (FreeMonoBoldOblique.ttf) oblique normal bold normal>) = 11.335\n",
      "[16:27:03 - matplotlib.font_manager] findfont: score(<Font 'DejaVu Serif' (DejaVuSerifCondensed-BoldItalic.ttf) italic normal bold condensed>) = 11.535\n",
      "[16:27:03 - matplotlib.font_manager] findfont: score(<Font 'Source Han Sans TWHK' (SourceHanSansTWHK-ExtraLight.otf) normal normal light normal>) = 10.24\n",
      "[16:27:03 - matplotlib.font_manager] findfont: score(<Font 'Khmer OS' (KhmerOS.ttf) normal normal 400 normal>) = 10.05\n",
      "[16:27:03 - matplotlib.font_manager] findfont: score(<Font 'Liberation Sans' (LiberationSans-BoldItalic.ttf) italic normal bold normal>) = 5.335\n",
      "[16:27:03 - matplotlib.font_manager] findfont: score(<Font 'Liberation Serif' (LiberationSerif-Italic.ttf) italic normal 400 normal>) = 11.05\n",
      "[16:27:03 - matplotlib.font_manager] findfont: score(<Font 'Padauk' (Padauk.ttf) normal normal 400 normal>) = 10.05\n",
      "[16:27:03 - matplotlib.font_manager] findfont: score(<Font 'DejaVu Sans' (DejaVuSansCondensed-BoldOblique.ttf) oblique normal bold condensed>) = 3.535\n",
      "[16:27:03 - matplotlib.font_manager] findfont: score(<Font 'Noto Sans Mandaic' (NotoSansMandaic-Regular.ttf) normal normal 400 normal>) = 10.05\n",
      "[16:27:03 - matplotlib.font_manager] findfont: score(<Font 'FreeSans' (FreeSansBold.ttf) normal normal bold normal>) = 10.335\n",
      "[16:27:03 - matplotlib.font_manager] findfont: score(<Font 'STIX' (STIX-Italic.otf) italic normal 400 normal>) = 11.05\n",
      "[16:27:03 - matplotlib.font_manager] findfont: score(<Font 'Noto Sans Tai Viet' (NotoSansTaiViet-Regular.ttf) normal normal 400 normal>) = 10.05\n",
      "[16:27:03 - matplotlib.font_manager] findfont: score(<Font 'Source Han Sans TWHK' (SourceHanSansTWHK-Bold.otf) normal normal bold normal>) = 10.335\n",
      "[16:27:03 - matplotlib.font_manager] findfont: score(<Font 'NanumGothic' (NanumGothic.ttf) normal normal 400 normal>) = 10.05\n",
      "[16:27:03 - matplotlib.font_manager] findfont: score(<Font 'Waree' (Waree-Oblique.ttf) oblique normal 400 normal>) = 11.05\n",
      "[16:27:03 - matplotlib.font_manager] findfont: score(<Font 'Liberation Sans' (LiberationSans-Bold.ttf) normal normal bold normal>) = 4.335\n",
      "[16:27:03 - matplotlib.font_manager] findfont: score(<Font 'Source Han Sans TWHK' (SourceHanSansTWHK-Light.otf) normal normal light normal>) = 10.24\n",
      "[16:27:03 - matplotlib.font_manager] findfont: score(<Font 'Liberation Mono' (LiberationMono-BoldItalic.ttf) italic normal bold normal>) = 11.335\n",
      "[16:27:03 - matplotlib.font_manager] findfont: score(<Font 'Cantarell' (Cantarell-Bold.otf) normal normal bold normal>) = 10.335\n",
      "[16:27:03 - matplotlib.font_manager] findfont: score(<Font 'Liberation Sans' (LiberationSans-Regular.ttf) normal normal 400 normal>) = 4.05\n",
      "[16:27:03 - matplotlib.font_manager] findfont: score(<Font 'NanumGothic' (NanumGothicExtraBold.ttf) normal normal bold normal>) = 10.335\n",
      "[16:27:03 - matplotlib.font_manager] findfont: score(<Font 'Source Han Sans TWHK' (SourceHanSansTWHK-Regular.otf) normal normal regular normal>) = 10.05\n",
      "[16:27:03 - matplotlib.font_manager] findfont: score(<Font 'FreeSans' (FreeSansOblique.ttf) oblique normal 400 normal>) = 11.05\n",
      "[16:27:03 - matplotlib.font_manager] findfont: score(<Font 'Lohit Bengali' (Lohit-Bengali.ttf) normal normal 400 normal>) = 10.05\n",
      "[16:27:03 - matplotlib.font_manager] findfont: score(<Font 'Lohit Punjabi' (Lohit-Punjabi.ttf) normal normal 400 normal>) = 10.05\n",
      "[16:27:03 - matplotlib.font_manager] findfont: score(<Font 'FreeMono' (FreeMonoOblique.ttf) oblique normal 400 normal>) = 11.05\n",
      "[16:27:03 - matplotlib.font_manager] findfont: score(<Font 'Caladea' (Caladea-Bold.ttf) normal normal bold normal>) = 10.335\n",
      "[16:27:03 - matplotlib.font_manager] findfont: score(<Font 'Source Han Sans CN' (SourceHanSansCN-Bold.otf) normal normal bold normal>) = 10.335\n",
      "[16:27:03 - matplotlib.font_manager] findfont: score(<Font 'FreeSerif' (FreeSerifItalic.ttf) italic normal 400 normal>) = 11.05\n",
      "[16:27:03 - matplotlib.font_manager] findfont: score(<Font 'Source Han Sans CN' (SourceHanSansCN-Heavy.otf) normal normal bold normal>) = 10.335\n",
      "[16:27:03 - matplotlib.font_manager] findfont: score(<Font 'Liberation Serif' (LiberationSerif-Regular.ttf) normal normal 400 normal>) = 10.05\n",
      "[16:27:03 - matplotlib.font_manager] findfont: score(<Font 'Jomolhari' (Jomolhari-alpha3c-0605331.ttf) normal normal 400 normal>) = 10.05\n",
      "[16:27:03 - matplotlib.font_manager] findfont: score(<Font 'Liberation Mono' (LiberationMono-Italic.ttf) italic normal 400 normal>) = 11.05\n",
      "[16:27:03 - matplotlib.font_manager] findfont: score(<Font 'DejaVu Sans' (DejaVuSansCondensed-Bold.ttf) normal normal bold condensed>) = 2.535\n",
      "[16:27:03 - matplotlib.font_manager] findfont: score(<Font 'Khmer OS System' (KhmerOS_sys.ttf) normal normal 400 normal>) = 10.05\n",
      "[16:27:03 - matplotlib.font_manager] findfont: score(<Font 'Noto Sans Tai Tham' (NotoSansTaiTham-Regular.ttf) normal normal 400 normal>) = 10.05\n"
     ]
    },
    {
     "name": "stderr",
     "output_type": "stream",
     "text": [
      "[16:27:03 - matplotlib.font_manager] findfont: score(<Font 'Lohit Assamese' (Lohit-Assamese.ttf) normal normal 400 normal>) = 10.05\n",
      "[16:27:03 - matplotlib.font_manager] findfont: score(<Font 'VL Gothic' (VL-Gothic-Regular.ttf) normal normal regular normal>) = 10.05\n",
      "[16:27:03 - matplotlib.font_manager] findfont: score(<Font 'Noto Sans Lisu' (NotoSansLisu-Regular.ttf) normal normal 400 normal>) = 10.05\n",
      "[16:27:03 - matplotlib.font_manager] findfont: score(<Font 'Carlito' (Carlito-Regular.ttf) normal normal 400 normal>) = 10.05\n",
      "[16:27:03 - matplotlib.font_manager] findfont: score(<Font 'DejaVu Sans' (DejaVuSans-ExtraLight.ttf) normal normal light normal>) = 2.24\n",
      "[16:27:03 - matplotlib.font_manager] findfont: score(<Font 'Waree' (Waree-BoldOblique.ttf) oblique normal bold normal>) = 11.335\n",
      "[16:27:03 - matplotlib.font_manager] findfont: score(<Font 'STIX' (STIX-Regular.otf) normal normal regular normal>) = 10.05\n",
      "[16:27:03 - matplotlib.font_manager] findfont: score(<Font 'Lohit Oriya' (Lohit-Oriya.ttf) normal normal 400 normal>) = 10.05\n",
      "[16:27:03 - matplotlib.font_manager] findfont: score(<Font 'OpenSymbol' (opens___.ttf) normal normal 400 normal>) = 10.05\n",
      "[16:27:03 - matplotlib.font_manager] findfont: score(<Font 'Liberation Serif' (LiberationSerif-Bold.ttf) normal normal bold normal>) = 10.335\n",
      "[16:27:03 - matplotlib.font_manager] findfont: score(<Font 'WenQuanYi Zen Hei' (wqy-zenhei.ttc) normal normal 400 normal>) = 10.05\n",
      "[16:27:03 - matplotlib.font_manager] findfont: score(<Font 'Lohit Devanagari' (Lohit-Devanagari.ttf) normal normal 400 normal>) = 10.05\n",
      "[16:27:03 - matplotlib.font_manager] findfont: score(<Font 'Lohit Telugu' (Lohit-Telugu.ttf) normal normal 400 normal>) = 10.05\n",
      "[16:27:03 - matplotlib.font_manager] findfont: score(<Font 'Abyssinica SIL' (AbyssinicaSIL-R.ttf) normal normal 400 normal>) = 10.05\n",
      "[16:27:03 - matplotlib.font_manager] findfont: score(<Font 'LKLUG' (lklug.ttf) normal normal 400 normal>) = 10.05\n",
      "[16:27:03 - matplotlib.font_manager] findfont: score(<Font 'Liberation Mono' (LiberationMono-Bold.ttf) normal normal bold normal>) = 10.335\n",
      "[16:27:03 - matplotlib.font_manager] findfont: score(<Font 'FreeSerif' (FreeSerifBold.ttf) normal normal bold normal>) = 10.335\n",
      "[16:27:03 - matplotlib.font_manager] findfont: score(<Font 'PT Sans Narrow' (PTN77F.ttf) normal normal bold condensed>) = 10.535\n",
      "[16:27:03 - matplotlib.font_manager] findfont: score(<Font 'PT Sans' (PTS55F.ttf) normal normal 400 normal>) = 10.05\n",
      "[16:27:03 - matplotlib.font_manager] findfont: score(<Font 'Padauk' (Padauk-bold.ttf) normal normal bold normal>) = 10.335\n",
      "[16:27:03 - matplotlib.font_manager] findfont: score(<Font 'Lohit Kannada' (Lohit-Kannada.ttf) normal normal 400 normal>) = 10.05\n",
      "[16:27:03 - matplotlib.font_manager] findfont: Matching :family=sans-serif:style=normal:variant=normal:weight=normal:stretch=normal:size=19.8 to DejaVu Sans ('/ssd1/home/kdorosch/software/anaconda3/envs/py36/lib/python3.6/site-packages/matplotlib/mpl-data/fonts/ttf/DejaVuSans.ttf') with score of 2.050000.\n",
      "[16:27:03 - matplotlib.font_manager] findfont: Matching :family=sans-serif:style=normal:variant=normal:weight=normal:stretch=normal:size=21.6.\n",
      "[16:27:03 - matplotlib.font_manager] findfont: score(<Font 'STIXSizeThreeSym' (STIXSizThreeSymBol.ttf) normal normal bold normal>) = 10.335\n",
      "[16:27:03 - matplotlib.font_manager] findfont: score(<Font 'STIXSizeFourSym' (STIXSizFourSymBol.ttf) normal normal bold normal>) = 10.335\n",
      "[16:27:03 - matplotlib.font_manager] findfont: score(<Font 'DejaVu Sans Mono' (DejaVuSansMono-Oblique.ttf) oblique normal 400 normal>) = 11.05\n",
      "[16:27:03 - matplotlib.font_manager] findfont: score(<Font 'DejaVu Sans' (DejaVuSans-BoldOblique.ttf) oblique normal bold normal>) = 3.335\n",
      "[16:27:03 - matplotlib.font_manager] findfont: score(<Font 'STIXNonUnicode' (STIXNonUni.ttf) normal normal regular normal>) = 10.05\n",
      "[16:27:03 - matplotlib.font_manager] findfont: score(<Font 'STIXSizeFourSym' (STIXSizFourSymReg.ttf) normal normal regular normal>) = 10.05\n",
      "[16:27:03 - matplotlib.font_manager] findfont: score(<Font 'STIXGeneral' (STIXGeneral.ttf) normal normal regular normal>) = 10.05\n",
      "[16:27:03 - matplotlib.font_manager] findfont: score(<Font 'STIXSizeFiveSym' (STIXSizFiveSymReg.ttf) normal normal regular normal>) = 10.05\n",
      "[16:27:03 - matplotlib.font_manager] findfont: score(<Font 'DejaVu Serif' (DejaVuSerif-BoldItalic.ttf) italic normal bold normal>) = 11.335\n",
      "[16:27:03 - matplotlib.font_manager] findfont: score(<Font 'STIXNonUnicode' (STIXNonUniBol.ttf) normal normal bold normal>) = 10.335\n",
      "[16:27:03 - matplotlib.font_manager] findfont: score(<Font 'DejaVu Serif' (DejaVuSerif-Italic.ttf) italic normal 400 normal>) = 11.05\n",
      "[16:27:03 - matplotlib.font_manager] findfont: score(<Font 'cmss10' (cmss10.ttf) normal normal 400 normal>) = 10.05\n",
      "[16:27:03 - matplotlib.font_manager] findfont: score(<Font 'STIXSizeThreeSym' (STIXSizThreeSymReg.ttf) normal normal regular normal>) = 10.05\n",
      "[16:27:03 - matplotlib.font_manager] findfont: score(<Font 'STIXSizeOneSym' (STIXSizOneSymBol.ttf) normal normal bold normal>) = 10.335\n",
      "[16:27:03 - matplotlib.font_manager] findfont: score(<Font 'cmr10' (cmr10.ttf) normal normal 400 normal>) = 10.05\n",
      "[16:27:03 - matplotlib.font_manager] findfont: score(<Font 'STIXGeneral' (STIXGeneralBol.ttf) normal normal bold normal>) = 10.335\n",
      "[16:27:03 - matplotlib.font_manager] findfont: score(<Font 'cmb10' (cmb10.ttf) normal normal 400 normal>) = 10.05\n",
      "[16:27:03 - matplotlib.font_manager] findfont: score(<Font 'STIXGeneral' (STIXGeneralBolIta.ttf) italic normal bold normal>) = 11.335\n",
      "[16:27:03 - matplotlib.font_manager] findfont: score(<Font 'STIXGeneral' (STIXGeneralItalic.ttf) italic normal 400 normal>) = 11.05\n",
      "[16:27:03 - matplotlib.font_manager] findfont: score(<Font 'cmsy10' (cmsy10.ttf) normal normal 400 normal>) = 10.05\n",
      "[16:27:03 - matplotlib.font_manager] findfont: score(<Font 'STIXNonUnicode' (STIXNonUniBolIta.ttf) italic normal bold normal>) = 11.335\n",
      "[16:27:03 - matplotlib.font_manager] findfont: score(<Font 'DejaVu Sans' (DejaVuSans-Bold.ttf) normal normal bold normal>) = 2.335\n",
      "[16:27:03 - matplotlib.font_manager] findfont: score(<Font 'cmex10' (cmex10.ttf) normal normal 400 normal>) = 10.05\n",
      "[16:27:03 - matplotlib.font_manager] findfont: score(<Font 'DejaVu Sans' (DejaVuSans-Oblique.ttf) oblique normal 400 normal>) = 3.05\n",
      "[16:27:03 - matplotlib.font_manager] findfont: score(<Font 'DejaVu Sans' (DejaVuSans.ttf) normal normal 400 normal>) = 2.05\n",
      "[16:27:03 - matplotlib.font_manager] findfont: score(<Font 'DejaVu Serif' (DejaVuSerif-Bold.ttf) normal normal bold normal>) = 10.335\n",
      "[16:27:03 - matplotlib.font_manager] findfont: score(<Font 'STIXSizeTwoSym' (STIXSizTwoSymBol.ttf) normal normal bold normal>) = 10.335\n",
      "[16:27:03 - matplotlib.font_manager] findfont: score(<Font 'DejaVu Sans Mono' (DejaVuSansMono-BoldOblique.ttf) oblique normal bold normal>) = 11.335\n",
      "[16:27:03 - matplotlib.font_manager] findfont: score(<Font 'cmtt10' (cmtt10.ttf) normal normal 400 normal>) = 10.05\n",
      "[16:27:03 - matplotlib.font_manager] findfont: score(<Font 'DejaVu Serif' (DejaVuSerif.ttf) normal normal 400 normal>) = 10.05\n",
      "[16:27:03 - matplotlib.font_manager] findfont: score(<Font 'cmmi10' (cmmi10.ttf) normal normal 400 normal>) = 10.05\n",
      "[16:27:03 - matplotlib.font_manager] findfont: score(<Font 'DejaVu Sans Display' (DejaVuSansDisplay.ttf) normal normal 400 normal>) = 10.05\n",
      "[16:27:03 - matplotlib.font_manager] findfont: score(<Font 'STIXSizeTwoSym' (STIXSizTwoSymReg.ttf) normal normal regular normal>) = 10.05\n",
      "[16:27:03 - matplotlib.font_manager] findfont: score(<Font 'STIXNonUnicode' (STIXNonUniIta.ttf) italic normal 400 normal>) = 11.05\n",
      "[16:27:03 - matplotlib.font_manager] findfont: score(<Font 'DejaVu Sans Mono' (DejaVuSansMono.ttf) normal normal 400 normal>) = 10.05\n",
      "[16:27:03 - matplotlib.font_manager] findfont: score(<Font 'DejaVu Serif Display' (DejaVuSerifDisplay.ttf) normal normal 400 normal>) = 10.05\n",
      "[16:27:03 - matplotlib.font_manager] findfont: score(<Font 'DejaVu Sans Mono' (DejaVuSansMono-Bold.ttf) normal normal bold normal>) = 10.335\n",
      "[16:27:04 - matplotlib.font_manager] findfont: score(<Font 'STIXSizeOneSym' (STIXSizOneSymReg.ttf) normal normal regular normal>) = 10.05\n"
     ]
    },
    {
     "name": "stderr",
     "output_type": "stream",
     "text": [
      "[16:27:04 - matplotlib.font_manager] findfont: score(<Font 'FreeSerif' (FreeSerif.ttf) normal normal 400 normal>) = 10.05\n",
      "[16:27:04 - matplotlib.font_manager] findfont: score(<Font 'PT Sans Narrow' (PTN57F.ttf) normal normal 400 condensed>) = 10.25\n",
      "[16:27:04 - matplotlib.font_manager] findfont: score(<Font 'Source Han Sans CN' (SourceHanSansCN-Light.otf) normal normal light normal>) = 10.24\n",
      "[16:27:04 - matplotlib.font_manager] findfont: score(<Font 'Khmer OS Content' (KhmerOS_content.ttf) normal normal 400 normal>) = 10.05\n",
      "[16:27:04 - matplotlib.font_manager] findfont: score(<Font 'PT Sans' (PTS76F.ttf) italic normal bold normal>) = 11.335\n",
      "[16:27:04 - matplotlib.font_manager] findfont: score(<Font 'PT Sans' (PTS56F.ttf) italic normal 400 normal>) = 11.05\n",
      "[16:27:04 - matplotlib.font_manager] findfont: score(<Font 'Caladea' (Caladea-Italic.ttf) italic normal 400 normal>) = 11.05\n",
      "[16:27:04 - matplotlib.font_manager] findfont: score(<Font 'Cantarell' (Cantarell-BoldOblique.otf) oblique normal bold normal>) = 11.335\n",
      "[16:27:04 - matplotlib.font_manager] findfont: score(<Font 'Source Han Sans TWHK' (SourceHanSansTWHK-Heavy.otf) normal normal bold normal>) = 10.335\n",
      "[16:27:04 - matplotlib.font_manager] findfont: score(<Font 'DejaVu Sans' (DejaVuSansCondensed.ttf) normal normal 400 condensed>) = 2.25\n",
      "[16:27:04 - matplotlib.font_manager] findfont: score(<Font 'Carlito' (Carlito-Bold.ttf) normal normal bold normal>) = 10.335\n",
      "[16:27:04 - matplotlib.font_manager] findfont: score(<Font 'Liberation Sans' (LiberationSans-Italic.ttf) italic normal 400 normal>) = 5.05\n",
      "[16:27:04 - matplotlib.font_manager] findfont: score(<Font 'Source Han Sans CN' (SourceHanSansCN-Regular.otf) normal normal regular normal>) = 10.05\n",
      "[16:27:04 - matplotlib.font_manager] findfont: score(<Font 'DejaVu Sans' (DejaVuSansCondensed-Oblique.ttf) oblique normal 400 condensed>) = 3.25\n",
      "[16:27:04 - matplotlib.font_manager] findfont: score(<Font 'Source Han Sans TWHK' (SourceHanSansTWHK-Normal.otf) normal normal normal normal>) = 10.0\n",
      "[16:27:04 - matplotlib.font_manager] findfont: score(<Font 'Liberation Mono' (LiberationMono-Regular.ttf) normal normal 400 normal>) = 10.05\n",
      "[16:27:04 - matplotlib.font_manager] findfont: score(<Font 'Cantarell' (Cantarell-Regular.otf) normal normal regular normal>) = 10.05\n",
      "[16:27:04 - matplotlib.font_manager] findfont: score(<Font 'NanumGothic' (NanumGothicBold.ttf) normal normal bold normal>) = 10.335\n",
      "[16:27:04 - matplotlib.font_manager] findfont: score(<Font 'Cantarell' (Cantarell-Oblique.otf) oblique normal 400 normal>) = 11.05\n",
      "[16:27:04 - matplotlib.font_manager] findfont: score(<Font 'Nuosu SIL' (NuosuSIL.ttf) normal normal 400 normal>) = 10.05\n",
      "[16:27:04 - matplotlib.font_manager] findfont: score(<Font 'Source Han Sans TWHK' (SourceHanSansTWHK-Medium.otf) normal normal medium normal>) = 10.145\n",
      "[16:27:04 - matplotlib.font_manager] findfont: score(<Font 'Carlito' (Carlito-Italic.ttf) italic normal 400 normal>) = 11.05\n",
      "[16:27:04 - matplotlib.font_manager] findfont: score(<Font 'FreeSerif' (FreeSerifBoldItalic.ttf) italic normal bold normal>) = 11.335\n",
      "[16:27:04 - matplotlib.font_manager] findfont: score(<Font 'Source Han Sans CN' (SourceHanSansCN-ExtraLight.otf) normal normal light normal>) = 10.24\n",
      "[16:27:04 - matplotlib.font_manager] findfont: score(<Font 'Meera' (Meera.ttf) normal normal 400 normal>) = 10.05\n",
      "[16:27:04 - matplotlib.font_manager] findfont: score(<Font 'Lohit Gujarati' (Lohit-Gujarati.ttf) normal normal 400 normal>) = 10.05\n",
      "[16:27:04 - matplotlib.font_manager] findfont: score(<Font 'PT Sans' (PTS75F.ttf) normal normal bold normal>) = 10.335\n",
      "[16:27:04 - matplotlib.font_manager] findfont: score(<Font 'PakType Naqsh' (PakType_Naqsh.ttf) normal normal 400 normal>) = 10.05\n",
      "[16:27:04 - matplotlib.font_manager] findfont: score(<Font 'FreeMono' (FreeMonoBold.ttf) normal normal bold normal>) = 10.335\n",
      "[16:27:04 - matplotlib.font_manager] findfont: score(<Font 'Source Han Sans CN' (SourceHanSansCN-Medium.otf) normal normal medium normal>) = 10.145\n",
      "[16:27:04 - matplotlib.font_manager] findfont: score(<Font 'Carlito' (Carlito-BoldItalic.ttf) italic normal bold normal>) = 11.335\n",
      "[16:27:04 - matplotlib.font_manager] findfont: score(<Font 'Caladea' (Caladea-Regular.ttf) normal normal 400 normal>) = 10.05\n",
      "[16:27:04 - matplotlib.font_manager] findfont: score(<Font 'DejaVu Serif' (DejaVuSerifCondensed.ttf) normal normal 400 condensed>) = 10.25\n",
      "[16:27:04 - matplotlib.font_manager] findfont: score(<Font 'STIX' (STIX-Bold.otf) normal normal bold normal>) = 10.335\n",
      "[16:27:04 - matplotlib.font_manager] findfont: score(<Font 'AR PL UMing CN' (uming.ttc) normal normal 400 normal>) = 10.05\n",
      "[16:27:04 - matplotlib.font_manager] findfont: score(<Font 'STIX' (STIX-BoldItalic.otf) italic normal bold normal>) = 11.335\n",
      "[16:27:04 - matplotlib.font_manager] findfont: score(<Font 'DejaVu Serif' (DejaVuSerifCondensed-Bold.ttf) normal normal bold condensed>) = 10.535\n",
      "[16:27:04 - matplotlib.font_manager] findfont: score(<Font 'Liberation Serif' (LiberationSerif-BoldItalic.ttf) italic normal bold normal>) = 11.335\n",
      "[16:27:04 - matplotlib.font_manager] findfont: score(<Font 'FreeSans' (FreeSans.ttf) normal normal 400 normal>) = 10.05\n",
      "[16:27:04 - matplotlib.font_manager] findfont: score(<Font 'Waree' (Waree.ttf) normal normal 400 normal>) = 10.05\n",
      "[16:27:04 - matplotlib.font_manager] findfont: score(<Font 'Waree' (Waree-Bold.ttf) normal normal bold normal>) = 10.335\n",
      "[16:27:04 - matplotlib.font_manager] findfont: score(<Font 'FreeSans' (FreeSansBoldOblique.ttf) oblique normal bold normal>) = 11.335\n",
      "[16:27:04 - matplotlib.font_manager] findfont: score(<Font 'FreeMono' (FreeMono.ttf) normal normal 400 normal>) = 10.05\n",
      "[16:27:04 - matplotlib.font_manager] findfont: score(<Font 'Noto Sans Tagalog' (NotoSansTagalog-Regular.ttf) normal normal 400 normal>) = 10.05\n",
      "[16:27:04 - matplotlib.font_manager] findfont: score(<Font 'Lohit Tamil' (Lohit-Tamil.ttf) normal normal 400 normal>) = 10.05\n",
      "[16:27:04 - matplotlib.font_manager] findfont: score(<Font 'DejaVu Serif' (DejaVuSerifCondensed-Italic.ttf) italic normal 400 condensed>) = 11.25\n",
      "[16:27:04 - matplotlib.font_manager] findfont: score(<Font 'Caladea' (Caladea-BoldItalic.ttf) italic normal bold normal>) = 11.335\n",
      "[16:27:04 - matplotlib.font_manager] findfont: score(<Font 'Source Han Sans CN' (SourceHanSansCN-Normal.otf) normal normal normal normal>) = 10.0\n",
      "[16:27:04 - matplotlib.font_manager] findfont: score(<Font 'FreeMono' (FreeMonoBoldOblique.ttf) oblique normal bold normal>) = 11.335\n",
      "[16:27:04 - matplotlib.font_manager] findfont: score(<Font 'DejaVu Serif' (DejaVuSerifCondensed-BoldItalic.ttf) italic normal bold condensed>) = 11.535\n",
      "[16:27:04 - matplotlib.font_manager] findfont: score(<Font 'Source Han Sans TWHK' (SourceHanSansTWHK-ExtraLight.otf) normal normal light normal>) = 10.24\n",
      "[16:27:04 - matplotlib.font_manager] findfont: score(<Font 'Khmer OS' (KhmerOS.ttf) normal normal 400 normal>) = 10.05\n",
      "[16:27:04 - matplotlib.font_manager] findfont: score(<Font 'Liberation Sans' (LiberationSans-BoldItalic.ttf) italic normal bold normal>) = 5.335\n",
      "[16:27:04 - matplotlib.font_manager] findfont: score(<Font 'Liberation Serif' (LiberationSerif-Italic.ttf) italic normal 400 normal>) = 11.05\n",
      "[16:27:04 - matplotlib.font_manager] findfont: score(<Font 'Padauk' (Padauk.ttf) normal normal 400 normal>) = 10.05\n",
      "[16:27:04 - matplotlib.font_manager] findfont: score(<Font 'DejaVu Sans' (DejaVuSansCondensed-BoldOblique.ttf) oblique normal bold condensed>) = 3.535\n",
      "[16:27:04 - matplotlib.font_manager] findfont: score(<Font 'Noto Sans Mandaic' (NotoSansMandaic-Regular.ttf) normal normal 400 normal>) = 10.05\n",
      "[16:27:04 - matplotlib.font_manager] findfont: score(<Font 'FreeSans' (FreeSansBold.ttf) normal normal bold normal>) = 10.335\n",
      "[16:27:04 - matplotlib.font_manager] findfont: score(<Font 'STIX' (STIX-Italic.otf) italic normal 400 normal>) = 11.05\n",
      "[16:27:04 - matplotlib.font_manager] findfont: score(<Font 'Noto Sans Tai Viet' (NotoSansTaiViet-Regular.ttf) normal normal 400 normal>) = 10.05\n",
      "[16:27:04 - matplotlib.font_manager] findfont: score(<Font 'Source Han Sans TWHK' (SourceHanSansTWHK-Bold.otf) normal normal bold normal>) = 10.335\n",
      "[16:27:04 - matplotlib.font_manager] findfont: score(<Font 'NanumGothic' (NanumGothic.ttf) normal normal 400 normal>) = 10.05\n"
     ]
    },
    {
     "name": "stderr",
     "output_type": "stream",
     "text": [
      "[16:27:04 - matplotlib.font_manager] findfont: score(<Font 'Waree' (Waree-Oblique.ttf) oblique normal 400 normal>) = 11.05\n",
      "[16:27:04 - matplotlib.font_manager] findfont: score(<Font 'Liberation Sans' (LiberationSans-Bold.ttf) normal normal bold normal>) = 4.335\n",
      "[16:27:04 - matplotlib.font_manager] findfont: score(<Font 'Source Han Sans TWHK' (SourceHanSansTWHK-Light.otf) normal normal light normal>) = 10.24\n",
      "[16:27:04 - matplotlib.font_manager] findfont: score(<Font 'Liberation Mono' (LiberationMono-BoldItalic.ttf) italic normal bold normal>) = 11.335\n",
      "[16:27:04 - matplotlib.font_manager] findfont: score(<Font 'Cantarell' (Cantarell-Bold.otf) normal normal bold normal>) = 10.335\n",
      "[16:27:04 - matplotlib.font_manager] findfont: score(<Font 'Liberation Sans' (LiberationSans-Regular.ttf) normal normal 400 normal>) = 4.05\n",
      "[16:27:04 - matplotlib.font_manager] findfont: score(<Font 'NanumGothic' (NanumGothicExtraBold.ttf) normal normal bold normal>) = 10.335\n",
      "[16:27:04 - matplotlib.font_manager] findfont: score(<Font 'Source Han Sans TWHK' (SourceHanSansTWHK-Regular.otf) normal normal regular normal>) = 10.05\n",
      "[16:27:04 - matplotlib.font_manager] findfont: score(<Font 'FreeSans' (FreeSansOblique.ttf) oblique normal 400 normal>) = 11.05\n",
      "[16:27:04 - matplotlib.font_manager] findfont: score(<Font 'Lohit Bengali' (Lohit-Bengali.ttf) normal normal 400 normal>) = 10.05\n",
      "[16:27:04 - matplotlib.font_manager] findfont: score(<Font 'Lohit Punjabi' (Lohit-Punjabi.ttf) normal normal 400 normal>) = 10.05\n",
      "[16:27:04 - matplotlib.font_manager] findfont: score(<Font 'FreeMono' (FreeMonoOblique.ttf) oblique normal 400 normal>) = 11.05\n",
      "[16:27:04 - matplotlib.font_manager] findfont: score(<Font 'Caladea' (Caladea-Bold.ttf) normal normal bold normal>) = 10.335\n",
      "[16:27:04 - matplotlib.font_manager] findfont: score(<Font 'Source Han Sans CN' (SourceHanSansCN-Bold.otf) normal normal bold normal>) = 10.335\n",
      "[16:27:04 - matplotlib.font_manager] findfont: score(<Font 'FreeSerif' (FreeSerifItalic.ttf) italic normal 400 normal>) = 11.05\n",
      "[16:27:04 - matplotlib.font_manager] findfont: score(<Font 'Source Han Sans CN' (SourceHanSansCN-Heavy.otf) normal normal bold normal>) = 10.335\n",
      "[16:27:04 - matplotlib.font_manager] findfont: score(<Font 'Liberation Serif' (LiberationSerif-Regular.ttf) normal normal 400 normal>) = 10.05\n",
      "[16:27:04 - matplotlib.font_manager] findfont: score(<Font 'Jomolhari' (Jomolhari-alpha3c-0605331.ttf) normal normal 400 normal>) = 10.05\n",
      "[16:27:04 - matplotlib.font_manager] findfont: score(<Font 'Liberation Mono' (LiberationMono-Italic.ttf) italic normal 400 normal>) = 11.05\n",
      "[16:27:04 - matplotlib.font_manager] findfont: score(<Font 'DejaVu Sans' (DejaVuSansCondensed-Bold.ttf) normal normal bold condensed>) = 2.535\n",
      "[16:27:04 - matplotlib.font_manager] findfont: score(<Font 'Khmer OS System' (KhmerOS_sys.ttf) normal normal 400 normal>) = 10.05\n",
      "[16:27:04 - matplotlib.font_manager] findfont: score(<Font 'Noto Sans Tai Tham' (NotoSansTaiTham-Regular.ttf) normal normal 400 normal>) = 10.05\n",
      "[16:27:04 - matplotlib.font_manager] findfont: score(<Font 'Lohit Assamese' (Lohit-Assamese.ttf) normal normal 400 normal>) = 10.05\n",
      "[16:27:04 - matplotlib.font_manager] findfont: score(<Font 'VL Gothic' (VL-Gothic-Regular.ttf) normal normal regular normal>) = 10.05\n",
      "[16:27:04 - matplotlib.font_manager] findfont: score(<Font 'Noto Sans Lisu' (NotoSansLisu-Regular.ttf) normal normal 400 normal>) = 10.05\n",
      "[16:27:04 - matplotlib.font_manager] findfont: score(<Font 'Carlito' (Carlito-Regular.ttf) normal normal 400 normal>) = 10.05\n",
      "[16:27:04 - matplotlib.font_manager] findfont: score(<Font 'DejaVu Sans' (DejaVuSans-ExtraLight.ttf) normal normal light normal>) = 2.24\n",
      "[16:27:04 - matplotlib.font_manager] findfont: score(<Font 'Waree' (Waree-BoldOblique.ttf) oblique normal bold normal>) = 11.335\n",
      "[16:27:04 - matplotlib.font_manager] findfont: score(<Font 'STIX' (STIX-Regular.otf) normal normal regular normal>) = 10.05\n",
      "[16:27:04 - matplotlib.font_manager] findfont: score(<Font 'Lohit Oriya' (Lohit-Oriya.ttf) normal normal 400 normal>) = 10.05\n",
      "[16:27:04 - matplotlib.font_manager] findfont: score(<Font 'OpenSymbol' (opens___.ttf) normal normal 400 normal>) = 10.05\n",
      "[16:27:04 - matplotlib.font_manager] findfont: score(<Font 'Liberation Serif' (LiberationSerif-Bold.ttf) normal normal bold normal>) = 10.335\n",
      "[16:27:04 - matplotlib.font_manager] findfont: score(<Font 'WenQuanYi Zen Hei' (wqy-zenhei.ttc) normal normal 400 normal>) = 10.05\n",
      "[16:27:04 - matplotlib.font_manager] findfont: score(<Font 'Lohit Devanagari' (Lohit-Devanagari.ttf) normal normal 400 normal>) = 10.05\n",
      "[16:27:04 - matplotlib.font_manager] findfont: score(<Font 'Lohit Telugu' (Lohit-Telugu.ttf) normal normal 400 normal>) = 10.05\n",
      "[16:27:04 - matplotlib.font_manager] findfont: score(<Font 'Abyssinica SIL' (AbyssinicaSIL-R.ttf) normal normal 400 normal>) = 10.05\n",
      "[16:27:04 - matplotlib.font_manager] findfont: score(<Font 'LKLUG' (lklug.ttf) normal normal 400 normal>) = 10.05\n",
      "[16:27:04 - matplotlib.font_manager] findfont: score(<Font 'Liberation Mono' (LiberationMono-Bold.ttf) normal normal bold normal>) = 10.335\n",
      "[16:27:04 - matplotlib.font_manager] findfont: score(<Font 'FreeSerif' (FreeSerifBold.ttf) normal normal bold normal>) = 10.335\n",
      "[16:27:04 - matplotlib.font_manager] findfont: score(<Font 'PT Sans Narrow' (PTN77F.ttf) normal normal bold condensed>) = 10.535\n",
      "[16:27:04 - matplotlib.font_manager] findfont: score(<Font 'PT Sans' (PTS55F.ttf) normal normal 400 normal>) = 10.05\n",
      "[16:27:04 - matplotlib.font_manager] findfont: score(<Font 'Padauk' (Padauk-bold.ttf) normal normal bold normal>) = 10.335\n",
      "[16:27:04 - matplotlib.font_manager] findfont: score(<Font 'Lohit Kannada' (Lohit-Kannada.ttf) normal normal 400 normal>) = 10.05\n",
      "[16:27:04 - matplotlib.font_manager] findfont: Matching :family=sans-serif:style=normal:variant=normal:weight=normal:stretch=normal:size=21.6 to DejaVu Sans ('/ssd1/home/kdorosch/software/anaconda3/envs/py36/lib/python3.6/site-packages/matplotlib/mpl-data/fonts/ttf/DejaVuSans.ttf') with score of 2.050000.\n"
     ]
    },
    {
     "data": {
      "image/png": "[encoded data removed]",
      "text/plain": [
       "<Figure size 432x432 with 1 Axes>"
      ]
     },
     "metadata": {},
     "output_type": "display_data"
    }
   ],
   "source": [
    "fig, ax = plt.subplots(figsize=(6, 6))\n",
    "ax.scatter(max_sw, second_best_sw, alpha=0.01, c=\"k\")\n",
    "ax.set_title(\"\")\n",
    "ax.set_xlabel(\"1st best SW score\")\n",
    "ax.set_ylabel(\"2nd best SW score\")\n",
    "ax.plot([0, 40], [0, 40])\n",
    "ax.axhline(15)\n",
    "ax.axvline(15)"
   ]
  },
  {
   "cell_type": "code",
   "execution_count": 18,
   "metadata": {
    "ExecuteTime": {
     "end_time": "2020-01-08T00:27:09.709715Z",
     "start_time": "2020-01-08T00:27:08.201794Z"
    }
   },
   "outputs": [
    {
     "data": {
      "text/plain": [
       "<matplotlib.axes._subplots.AxesSubplot at 0x7fd8de0529b0>"
      ]
     },
     "execution_count": 18,
     "metadata": {},
     "output_type": "execute_result"
    },
    {
     "data": {
      "image/png": "[encoded data removed]",
      "text/plain": [
       "<Figure size 432x288 with 1 Axes>"
      ]
     },
     "metadata": {},
     "output_type": "display_data"
    }
   ],
   "source": [
    "sns.distplot(max_sw)"
   ]
  },
  {
   "cell_type": "markdown",
   "metadata": {
    "ExecuteTime": {
     "end_time": "2019-08-11T00:31:43.917710Z",
     "start_time": "2019-08-11T00:31:43.897293Z"
    }
   },
   "source": [
    "### Merge & save alignment scores for all fq files"
   ]
  },
  {
   "cell_type": "code",
   "execution_count": 19,
   "metadata": {
    "ExecuteTime": {
     "end_time": "2020-01-08T00:27:09.726858Z",
     "start_time": "2020-01-08T00:27:09.711768Z"
    }
   },
   "outputs": [],
   "source": [
    "run_id = re.findall(r\"runid_(.*)_[\\d]+_[\\d]+.tsv\", sw_tsv)[0]"
   ]
  },
  {
   "cell_type": "code",
   "execution_count": 20,
   "metadata": {
    "ExecuteTime": {
     "end_time": "2020-01-08T00:27:09.750136Z",
     "start_time": "2020-01-08T00:27:09.729084Z"
    }
   },
   "outputs": [],
   "source": [
    "merged_sw_file = os.path.join(sw_dir, f\"all_{run_id}.tsv\")"
   ]
  },
  {
   "cell_type": "code",
   "execution_count": 21,
   "metadata": {
    "ExecuteTime": {
     "end_time": "2020-01-08T00:27:33.180698Z",
     "start_time": "2020-01-08T00:27:09.752615Z"
    }
   },
   "outputs": [],
   "source": [
    "sw.to_csv(merged_sw_file, sep=\"\\t\", index=True)"
   ]
  },
  {
   "cell_type": "code",
   "execution_count": 22,
   "metadata": {
    "ExecuteTime": {
     "end_time": "2020-01-08T00:27:33.205063Z",
     "start_time": "2020-01-08T00:27:33.183680Z"
    }
   },
   "outputs": [
    {
     "data": {
      "text/plain": [
       "'/path/to/data/MinION_sequencing_data_20191216/guppy_3.2.2_12_16_19_run_01_exec_20200107/sw/all_897cd225d1c3eef2d8da014b83aad9fb76f55a5f.tsv'"
      ]
     },
     "execution_count": 22,
     "metadata": {},
     "output_type": "execute_result"
    }
   ],
   "source": [
    "merged_sw_file"
   ]
  },
  {
   "cell_type": "markdown",
   "metadata": {},
   "source": [
    "# Evaluate extant molbits vs rest"
   ]
  },
  {
   "cell_type": "markdown",
   "metadata": {},
   "source": [
    "## Specify which molbits were actually present"
   ]
  },
  {
   "cell_type": "code",
   "execution_count": 23,
   "metadata": {
    "ExecuteTime": {
     "end_time": "2020-01-08T00:27:33.226779Z",
     "start_time": "2020-01-08T00:27:33.207625Z"
    }
   },
   "outputs": [],
   "source": [
    "# Create set_N variables based on spreadsheet\n",
    "molbit_sets = {}\n",
    "for ix, row in set_spreadsheet.iterrows():\n",
    "    set_no = re.findall(r\"set ([\\d]+)\", row[\"set\"])[0]\n",
    "    molbits = row[\"molbits_in_set\"]\n",
    "    molbit_sets[set_no] = molbits.replace(\" \", \"\").split(\",\")"
   ]
  },
  {
   "cell_type": "code",
   "execution_count": 25,
   "metadata": {
    "ExecuteTime": {
     "end_time": "2020-01-08T00:58:47.451353Z",
     "start_time": "2020-01-08T00:58:47.428540Z"
    }
   },
   "outputs": [],
   "source": [
    "molbit_set_in_run = str(int(run_data.get(\"molbit_set\")))\n",
    "molbit_sets_on_flowcell = run_data.get(\"prev_on_flowcell\")\n",
    "\n",
    "molbits_in_run = molbit_sets[molbit_set_in_run]\n",
    "molbits_on_flowcell = molbits_in_run[:]\n",
    "if molbit_sets_on_flowcell != \"none\":\n",
    "    molbit_sets_on_flowcell = molbit_sets_on_flowcell.split(\", \")\n",
    "    for m in molbit_sets_on_flowcell:\n",
    "        print(m)\n",
    "        print(molbit_sets[m])\n",
    "        molbits_on_flowcell.extend(molbit_sets[m])\n",
    "    print(molbits_on_flowcell)\n",
    "molbits_on_flowcell = list(np.unique(molbits_on_flowcell))"
   ]
  },
  {
   "cell_type": "markdown",
   "metadata": {},
   "source": [
    "## Extract the best-aligned molbit, across all 96 molbits"
   ]
  },
  {
   "cell_type": "markdown",
   "metadata": {},
   "source": [
    "This cell replaces \"make_sw_call\" in the past. No more \"-1\"s. Just filter by accept_molbit."
   ]
  },
  {
   "cell_type": "code",
   "execution_count": 26,
   "metadata": {
    "ExecuteTime": {
     "end_time": "2020-01-08T00:59:17.337334Z",
     "start_time": "2020-01-08T00:58:49.046777Z"
    }
   },
   "outputs": [
    {
     "name": "stderr",
     "output_type": "stream",
     "text": [
      "/ssd1/home/kdorosch/software/anaconda3/envs/py36/lib/python3.6/site-packages/numpy/core/fromnumeric.py:51: FutureWarning: 'argmax' is deprecated. Use 'idxmax' instead. The behavior of 'argmax' will be corrected to return the positional maximum in the future. Use 'series.values.argmax' to get the position of the maximum now.\n",
      "  return getattr(obj, method)(*args, **kwds)\n",
      "/ssd1/home/kdorosch/.local/lib/python3.6/site-packages/ipykernel_launcher.py:4: FutureWarning: currently extract(expand=None) means expand=False (return Index/Series/DataFrame) but in a future version of pandas this will be changed to expand=True (return DataFrame)\n",
      "  after removing the cwd from sys.path.\n"
     ]
    }
   ],
   "source": [
    "sw_scores = sw.filter(regex=\"score_molbit_.*\")\n",
    "best_molbits = sw_scores.apply(np.argmax, axis=1)\n",
    "accept_molbit = sw.lookup(sw.index, best_molbits) >= 15\n",
    "sw[\"best_molbit\"] = best_molbits.str.extract(r\"score_molbit_([\\d]+)\")\n",
    "sw[\"accept_molbit\"] = accept_molbit"
   ]
  },
  {
   "cell_type": "code",
   "execution_count": 27,
   "metadata": {
    "ExecuteTime": {
     "end_time": "2020-01-08T00:59:17.359504Z",
     "start_time": "2020-01-08T00:59:17.339693Z"
    },
    "scrolled": true
   },
   "outputs": [
    {
     "data": {
      "text/plain": [
       "352341"
      ]
     },
     "execution_count": 27,
     "metadata": {},
     "output_type": "execute_result"
    }
   ],
   "source": [
    "len(accept_molbit)"
   ]
  },
  {
   "cell_type": "code",
   "execution_count": 28,
   "metadata": {
    "ExecuteTime": {
     "end_time": "2020-01-08T00:59:18.164353Z",
     "start_time": "2020-01-08T00:59:17.360975Z"
    }
   },
   "outputs": [
    {
     "data": {
      "text/plain": [
       "248266"
      ]
     },
     "execution_count": 28,
     "metadata": {},
     "output_type": "execute_result"
    }
   ],
   "source": [
    "sum(accept_molbit)"
   ]
  },
  {
   "cell_type": "code",
   "execution_count": 29,
   "metadata": {
    "ExecuteTime": {
     "end_time": "2020-01-08T00:59:18.988814Z",
     "start_time": "2020-01-08T00:59:18.166350Z"
    }
   },
   "outputs": [
    {
     "data": {
      "text/plain": [
       "0.7046185371557667"
      ]
     },
     "execution_count": 29,
     "metadata": {},
     "output_type": "execute_result"
    }
   ],
   "source": [
    "sum(accept_molbit) / len(accept_molbit)\n"
   ]
  },
  {
   "cell_type": "markdown",
   "metadata": {},
   "source": [
    "## Extract the best-aligned molbit, across ONLY the extant molbits"
   ]
  },
  {
   "cell_type": "code",
   "execution_count": 30,
   "metadata": {
    "ExecuteTime": {
     "end_time": "2020-01-08T00:59:19.005973Z",
     "start_time": "2020-01-08T00:59:18.990661Z"
    }
   },
   "outputs": [],
   "source": [
    "extant_sw_cols = [f\"sw_score_molbit_{molbit}\" for molbit in molbits_on_flowcell]"
   ]
  },
  {
   "cell_type": "code",
   "execution_count": 31,
   "metadata": {
    "ExecuteTime": {
     "end_time": "2020-01-08T00:59:19.129205Z",
     "start_time": "2020-01-08T00:59:19.007815Z"
    }
   },
   "outputs": [],
   "source": [
    "extant_sw = sw.loc[:, extant_sw_cols]"
   ]
  },
  {
   "cell_type": "code",
   "execution_count": 32,
   "metadata": {
    "ExecuteTime": {
     "end_time": "2020-01-08T00:59:47.157033Z",
     "start_time": "2020-01-08T00:59:19.132245Z"
    }
   },
   "outputs": [
    {
     "name": "stderr",
     "output_type": "stream",
     "text": [
      "/ssd1/home/kdorosch/.local/lib/python3.6/site-packages/ipykernel_launcher.py:4: FutureWarning: currently extract(expand=None) means expand=False (return Index/Series/DataFrame) but in a future version of pandas this will be changed to expand=True (return DataFrame)\n",
      "  after removing the cwd from sys.path.\n"
     ]
    }
   ],
   "source": [
    "extant_sw_scores = extant_sw.filter(regex=\"score_molbit_.*\")\n",
    "best_molbits = extant_sw_scores.apply(np.argmax, axis=1)\n",
    "accept_molbit = extant_sw.lookup(extant_sw.index, best_molbits) >= 15\n",
    "extant_sw[\"best_molbit\"] = best_molbits.str.extract(r\"score_molbit_([\\d]+)\")\n",
    "extant_sw[\"accept_molbit\"] = accept_molbit"
   ]
  },
  {
   "cell_type": "markdown",
   "metadata": {},
   "source": [
    "## Compare "
   ]
  },
  {
   "cell_type": "code",
   "execution_count": 33,
   "metadata": {
    "ExecuteTime": {
     "end_time": "2020-01-08T00:59:47.398187Z",
     "start_time": "2020-01-08T00:59:47.159423Z"
    }
   },
   "outputs": [],
   "source": [
    "# Only retrieve high-scoring alignments\n",
    "sw_accepted = sw[sw[\"accept_molbit\"]]\n",
    "extant_sw_acc = extant_sw[sw[\"accept_molbit\"]]"
   ]
  },
  {
   "cell_type": "code",
   "execution_count": 34,
   "metadata": {
    "ExecuteTime": {
     "end_time": "2020-01-08T00:59:47.452260Z",
     "start_time": "2020-01-08T00:59:47.400236Z"
    }
   },
   "outputs": [],
   "source": [
    "n_extant_is_best = sum(extant_sw_acc[\"best_molbit\"] == sw_accepted[\"best_molbit\"])"
   ]
  },
  {
   "cell_type": "code",
   "execution_count": 35,
   "metadata": {
    "ExecuteTime": {
     "end_time": "2020-01-08T00:59:47.470783Z",
     "start_time": "2020-01-08T00:59:47.454649Z"
    }
   },
   "outputs": [
    {
     "data": {
      "text/plain": [
       "247703"
      ]
     },
     "execution_count": 35,
     "metadata": {},
     "output_type": "execute_result"
    }
   ],
   "source": [
    "n_extant_is_best"
   ]
  },
  {
   "cell_type": "markdown",
   "metadata": {},
   "source": [
    "Percentage of well-aligned reads that belong to the true set"
   ]
  },
  {
   "cell_type": "code",
   "execution_count": 36,
   "metadata": {
    "ExecuteTime": {
     "end_time": "2020-01-08T00:59:47.489120Z",
     "start_time": "2020-01-08T00:59:47.472594Z"
    }
   },
   "outputs": [
    {
     "data": {
      "text/plain": [
       "0.9977322710318771"
      ]
     },
     "execution_count": 36,
     "metadata": {},
     "output_type": "execute_result"
    }
   ],
   "source": [
    "n_extant_is_best/len(sw_accepted)"
   ]
  },
  {
   "cell_type": "markdown",
   "metadata": {},
   "source": [
    "Read counts for each molbit"
   ]
  },
  {
   "cell_type": "code",
   "execution_count": 37,
   "metadata": {
    "ExecuteTime": {
     "end_time": "2020-01-08T00:59:47.719711Z",
     "start_time": "2020-01-08T00:59:47.490713Z"
    }
   },
   "outputs": [
    {
     "data": {
      "text/plain": [
       "[('1', 2626),\n",
       " ('12', 7431),\n",
       " ('15', 7455),\n",
       " ('17', 2921),\n",
       " ('19', 9646),\n",
       " ('22', 2036),\n",
       " ('23', 823),\n",
       " ('25', 3087),\n",
       " ('28', 1161),\n",
       " ('29', 3868),\n",
       " ('32', 5275),\n",
       " ('35', 1943),\n",
       " ('37', 4468),\n",
       " ('38', 657),\n",
       " ('39', 3614),\n",
       " ('4', 909),\n",
       " ('40', 6304),\n",
       " ('43', 13173),\n",
       " ('45', 3320),\n",
       " ('46', 1279),\n",
       " ('5', 10990),\n",
       " ('50', 7168),\n",
       " ('51', 5925),\n",
       " ('52', 1330),\n",
       " ('54', 6308),\n",
       " ('57', 2711),\n",
       " ('62', 5816),\n",
       " ('63', 5265),\n",
       " ('65', 3532),\n",
       " ('66', 5019),\n",
       " ('67', 2559),\n",
       " ('68', 7318),\n",
       " ('69', 2750),\n",
       " ('7', 2891),\n",
       " ('70', 1578),\n",
       " ('73', 3517),\n",
       " ('75', 4893),\n",
       " ('76', 285),\n",
       " ('78', 714),\n",
       " ('79', 1097),\n",
       " ('80', 3781),\n",
       " ('81', 8236),\n",
       " ('83', 2106),\n",
       " ('85', 8916),\n",
       " ('86', 6782),\n",
       " ('87', 4064),\n",
       " ('88', 5896),\n",
       " ('89', 7922),\n",
       " ('9', 22422),\n",
       " ('90', 5572),\n",
       " ('92', 4942),\n",
       " ('93', 3965)]"
      ]
     },
     "execution_count": 37,
     "metadata": {},
     "output_type": "execute_result"
    }
   ],
   "source": [
    "m, c = np.unique(extant_sw_acc[\"best_molbit\"], return_counts=True)\n",
    "list(zip(m, c))"
   ]
  },
  {
   "cell_type": "code",
   "execution_count": 38,
   "metadata": {
    "ExecuteTime": {
     "end_time": "2020-01-08T00:59:47.736206Z",
     "start_time": "2020-01-08T00:59:47.721478Z"
    }
   },
   "outputs": [
    {
     "name": "stdout",
     "output_type": "stream",
     "text": [
      "2626\n",
      "7431\n",
      "7455\n",
      "2921\n",
      "9646\n",
      "2036\n",
      "823\n",
      "3087\n",
      "1161\n",
      "3868\n",
      "5275\n",
      "1943\n",
      "4468\n",
      "657\n",
      "3614\n",
      "909\n",
      "6304\n",
      "13173\n",
      "3320\n",
      "1279\n",
      "10990\n",
      "7168\n",
      "5925\n",
      "1330\n",
      "6308\n",
      "2711\n",
      "5816\n",
      "5265\n",
      "3532\n",
      "5019\n",
      "2559\n",
      "7318\n",
      "2750\n",
      "2891\n",
      "1578\n",
      "3517\n",
      "4893\n",
      "285\n",
      "714\n",
      "1097\n",
      "3781\n",
      "8236\n",
      "2106\n",
      "8916\n",
      "6782\n",
      "4064\n",
      "5896\n",
      "7922\n",
      "22422\n",
      "5572\n",
      "4942\n",
      "3965\n"
     ]
    }
   ],
   "source": [
    "print(\"\\n\".join([str(x) for x in c]))"
   ]
  },
  {
   "cell_type": "markdown",
   "metadata": {},
   "source": [
    "## Extract the best-aligned molbit, across ONLY the current run's molbits"
   ]
  },
  {
   "cell_type": "code",
   "execution_count": 39,
   "metadata": {
    "ExecuteTime": {
     "end_time": "2020-01-08T00:59:47.753225Z",
     "start_time": "2020-01-08T00:59:47.738068Z"
    }
   },
   "outputs": [],
   "source": [
    "extant_sw_cols = [f\"sw_score_molbit_{molbit}\" for molbit in molbits_in_run]"
   ]
  },
  {
   "cell_type": "code",
   "execution_count": 40,
   "metadata": {
    "ExecuteTime": {
     "end_time": "2020-01-08T00:59:47.876031Z",
     "start_time": "2020-01-08T00:59:47.754962Z"
    }
   },
   "outputs": [],
   "source": [
    "extant_sw = sw.loc[:, extant_sw_cols]"
   ]
  },
  {
   "cell_type": "code",
   "execution_count": 41,
   "metadata": {
    "ExecuteTime": {
     "end_time": "2020-01-08T01:00:15.372597Z",
     "start_time": "2020-01-08T00:59:47.878048Z"
    }
   },
   "outputs": [
    {
     "name": "stderr",
     "output_type": "stream",
     "text": [
      "/ssd1/home/kdorosch/.local/lib/python3.6/site-packages/ipykernel_launcher.py:4: FutureWarning: currently extract(expand=None) means expand=False (return Index/Series/DataFrame) but in a future version of pandas this will be changed to expand=True (return DataFrame)\n",
      "  after removing the cwd from sys.path.\n"
     ]
    }
   ],
   "source": [
    "extant_sw_scores = extant_sw.filter(regex=\"score_molbit_.*\")\n",
    "best_molbits = extant_sw_scores.apply(np.argmax, axis=1)\n",
    "accept_molbit = extant_sw.lookup(extant_sw.index, best_molbits) >= 15\n",
    "extant_sw[\"best_molbit\"] = best_molbits.str.extract(r\"score_molbit_([\\d]+)\")\n",
    "extant_sw[\"accept_molbit\"] = accept_molbit"
   ]
  },
  {
   "cell_type": "markdown",
   "metadata": {},
   "source": [
    "## Compare "
   ]
  },
  {
   "cell_type": "code",
   "execution_count": 42,
   "metadata": {
    "ExecuteTime": {
     "end_time": "2020-01-08T01:00:15.710212Z",
     "start_time": "2020-01-08T01:00:15.375024Z"
    }
   },
   "outputs": [],
   "source": [
    "# Only retrieve high-scoring alignments\n",
    "sw_accepted = sw[sw[\"accept_molbit\"]]\n",
    "extant_sw_acc = extant_sw[sw[\"accept_molbit\"]]"
   ]
  },
  {
   "cell_type": "code",
   "execution_count": 43,
   "metadata": {
    "ExecuteTime": {
     "end_time": "2020-01-08T01:00:15.764609Z",
     "start_time": "2020-01-08T01:00:15.712206Z"
    }
   },
   "outputs": [],
   "source": [
    "n_extant_is_best = sum(extant_sw_acc[\"best_molbit\"] == sw_accepted[\"best_molbit\"])"
   ]
  },
  {
   "cell_type": "code",
   "execution_count": 44,
   "metadata": {
    "ExecuteTime": {
     "end_time": "2020-01-08T01:00:15.782795Z",
     "start_time": "2020-01-08T01:00:15.767028Z"
    }
   },
   "outputs": [
    {
     "data": {
      "text/plain": [
       "247749"
      ]
     },
     "execution_count": 44,
     "metadata": {},
     "output_type": "execute_result"
    }
   ],
   "source": [
    "n_extant_is_best"
   ]
  },
  {
   "cell_type": "markdown",
   "metadata": {},
   "source": [
    "Percentage of well-aligned reads that belong to the true set"
   ]
  },
  {
   "cell_type": "code",
   "execution_count": 45,
   "metadata": {
    "ExecuteTime": {
     "end_time": "2020-01-08T01:00:15.800354Z",
     "start_time": "2020-01-08T01:00:15.784607Z"
    }
   },
   "outputs": [
    {
     "data": {
      "text/plain": [
       "0.9979175561695923"
      ]
     },
     "execution_count": 45,
     "metadata": {},
     "output_type": "execute_result"
    }
   ],
   "source": [
    "n_extant_is_best/len(sw_accepted)"
   ]
  },
  {
   "cell_type": "markdown",
   "metadata": {},
   "source": [
    "Read counts for each molbit"
   ]
  },
  {
   "cell_type": "code",
   "execution_count": 46,
   "metadata": {
    "ExecuteTime": {
     "end_time": "2020-01-08T01:00:16.024155Z",
     "start_time": "2020-01-08T01:00:15.802078Z"
    }
   },
   "outputs": [
    {
     "data": {
      "text/plain": [
       "[('1', 2626),\n",
       " ('12', 7429),\n",
       " ('15', 7451),\n",
       " ('17', 2921),\n",
       " ('19', 9641),\n",
       " ('22', 2035),\n",
       " ('23', 822),\n",
       " ('25', 3087),\n",
       " ('28', 1161),\n",
       " ('29', 3866),\n",
       " ('32', 5274),\n",
       " ('35', 1942),\n",
       " ('37', 4467),\n",
       " ('38', 657),\n",
       " ('39', 3613),\n",
       " ('4', 911),\n",
       " ('40', 6303),\n",
       " ('43', 13170),\n",
       " ('45', 3320),\n",
       " ('46', 1278),\n",
       " ('5', 10992),\n",
       " ('50', 7167),\n",
       " ('51', 5922),\n",
       " ('52', 1330),\n",
       " ('54', 6305),\n",
       " ('57', 2710),\n",
       " ('62', 5815),\n",
       " ('63', 5263),\n",
       " ('65', 3529),\n",
       " ('66', 5019),\n",
       " ('67', 2558),\n",
       " ('68', 7317),\n",
       " ('69', 2750),\n",
       " ('7', 2896),\n",
       " ('70', 1578),\n",
       " ('73', 3517),\n",
       " ('75', 4892),\n",
       " ('76', 284),\n",
       " ('78', 713),\n",
       " ('79', 1097),\n",
       " ('80', 3778),\n",
       " ('81', 8236),\n",
       " ('83', 2105),\n",
       " ('85', 8915),\n",
       " ('86', 6782),\n",
       " ('87', 4063),\n",
       " ('88', 5895),\n",
       " ('89', 7920),\n",
       " ('9', 22465),\n",
       " ('90', 5572),\n",
       " ('92', 4942),\n",
       " ('93', 3965)]"
      ]
     },
     "execution_count": 46,
     "metadata": {},
     "output_type": "execute_result"
    }
   ],
   "source": [
    "m, c = np.unique(extant_sw_acc[\"best_molbit\"], return_counts=True)\n",
    "list(zip(m, c))"
   ]
  },
  {
   "cell_type": "code",
   "execution_count": 47,
   "metadata": {
    "ExecuteTime": {
     "end_time": "2020-01-08T01:00:16.039843Z",
     "start_time": "2020-01-08T01:00:16.025818Z"
    }
   },
   "outputs": [],
   "source": [
    "l = []\n",
    "for i in range(0, 96, 16):\n",
    "    l.extend(range(i, i+8))"
   ]
  },
  {
   "cell_type": "code",
   "execution_count": 48,
   "metadata": {
    "ExecuteTime": {
     "end_time": "2020-01-08T01:00:16.056208Z",
     "start_time": "2020-01-08T01:00:16.041511Z"
    }
   },
   "outputs": [
    {
     "data": {
      "text/plain": [
       "'0, 1, 2, 3, 4, 5, 6, 7, 16, 17, 18, 19, 20, 21, 22, 23, 32, 33, 34, 35, 36, 37, 38, 39, 48, 49, 50, 51, 52, 53, 54, 55, 64, 65, 66, 67, 68, 69, 70, 71, 80, 81, 82, 83, 84, 85, 86, 87'"
      ]
     },
     "execution_count": 48,
     "metadata": {},
     "output_type": "execute_result"
    }
   ],
   "source": [
    "\", \".join([str(x) for x in l])"
   ]
  },
  {
   "cell_type": "markdown",
   "metadata": {},
   "source": [
    "## Get counts for all molbits"
   ]
  },
  {
   "cell_type": "code",
   "execution_count": 49,
   "metadata": {
    "ExecuteTime": {
     "end_time": "2020-01-08T01:00:16.443641Z",
     "start_time": "2020-01-08T01:00:16.057897Z"
    },
    "scrolled": true
   },
   "outputs": [
    {
     "name": "stdout",
     "output_type": "stream",
     "text": [
      "0\n",
      "2625\n",
      "3\n",
      "0\n",
      "911\n",
      "10988\n",
      "0\n",
      "2893\n",
      "9\n",
      "22411\n",
      "0\n",
      "2\n",
      "7428\n",
      "32\n",
      "2\n",
      "7444\n",
      "2\n",
      "2889\n",
      "0\n",
      "9641\n",
      "1\n",
      "0\n",
      "2032\n",
      "820\n",
      "2\n",
      "3084\n",
      "2\n",
      "1\n",
      "1160\n",
      "3866\n",
      "1\n",
      "0\n",
      "5273\n",
      "2\n",
      "1\n",
      "1940\n",
      "47\n",
      "4425\n",
      "657\n",
      "3613\n",
      "6303\n",
      "2\n",
      "4\n",
      "13165\n",
      "0\n",
      "3319\n",
      "1256\n",
      "11\n",
      "0\n",
      "152\n",
      "7167\n",
      "5921\n",
      "1323\n",
      "54\n",
      "6302\n",
      "22\n",
      "1\n",
      "2710\n",
      "70\n",
      "1\n",
      "0\n",
      "14\n",
      "5785\n",
      "5261\n",
      "3\n",
      "3528\n",
      "5017\n",
      "2552\n",
      "7307\n",
      "2739\n",
      "1578\n",
      "0\n",
      "2\n",
      "3514\n",
      "5\n",
      "4775\n",
      "268\n",
      "0\n",
      "712\n",
      "1066\n",
      "3777\n",
      "8236\n",
      "43\n",
      "2105\n",
      "1\n",
      "8908\n",
      "6782\n",
      "4030\n",
      "5895\n",
      "7919\n",
      "5569\n",
      "20\n",
      "4896\n",
      "3964\n",
      "4\n",
      "1\n"
     ]
    }
   ],
   "source": [
    "m, c = np.unique(sw[sw[\"accept_molbit\"]][\"best_molbit\"], return_counts=True)\n",
    "molbit_counts = dict(zip(m, c))\n",
    "for i in range(96):\n",
    "    i = str(i)\n",
    "    if i in molbit_counts:\n",
    "        print(f\"{molbit_counts[i]}\")\n",
    "    else:\n",
    "        print(f\"0\")"
   ]
  },
  {
   "cell_type": "markdown",
   "metadata": {},
   "source": [
    "# Plot read counts"
   ]
  },
  {
   "cell_type": "code",
   "execution_count": 50,
   "metadata": {
    "ExecuteTime": {
     "end_time": "2020-01-08T01:00:16.486821Z",
     "start_time": "2020-01-08T01:00:16.445840Z"
    },
    "code_folding": []
   },
   "outputs": [],
   "source": [
    "def plot_read_counts(labels, counts, labels_on_flowcell, labels_in_run,\n",
    "                     possible_labels=None, ax=None, vmax=None, title_note=None):\n",
    "    from matplotlib.patches import Patch\n",
    "    if vmax is None:\n",
    "        vmax = max(counts) + max(counts)\n",
    "    if ax == None:\n",
    "        fig, ax = plt.subplots(figsize=(10, 8))\n",
    "    if possible_labels is None:\n",
    "        possible_labels = labels[:]\n",
    "    g = sns.barplot(x=labels, y=counts, order=possible_labels, ax=ax)\n",
    "    title = \"#/reads identified per molbit\"\n",
    "    if title_note is not None:\n",
    "        title += \"\\n(%s)\" % title_note\n",
    "    ax.set_title(title)\n",
    "    ax.set_xlabel(\"Molbit ID\")\n",
    "    ax.set_ylabel(\"Read counts\")\n",
    "    ax.set_ylim([0, vmax])\n",
    "    \n",
    "    prev_text_height = 0\n",
    "    for j, label in enumerate(possible_labels):\n",
    "        if label in labels:\n",
    "            count = counts[labels.index(label)]\n",
    "        else:\n",
    "            count = 0\n",
    "        if label == \"-1\":\n",
    "            continue\n",
    "\n",
    "#         try:\n",
    "#             label = int(label)\n",
    "#         except:\n",
    "#             pass\n",
    "        \n",
    "        if label in labels_in_run:\n",
    "            g.containers[0].get_children()[j].set_facecolor(\"tab:red\")\n",
    "            font_kwargs = {\"color\": \"tab:red\", \"weight\": \"bold\"} \n",
    "        elif label in labels_on_flowcell:\n",
    "            g.containers[0].get_children()[j].set_facecolor(\"tab:blue\")\n",
    "            font_kwargs = {\"color\": \"k\", \"weight\": \"bold\"}\n",
    "        else:\n",
    "            g.containers[0].get_children()[j].set_facecolor(\"k\")\n",
    "            font_kwargs = {\"color\": \"k\", \"weight\": \"normal\"}\n",
    "            \n",
    "        diff = prev_text_height - (count + 0.01 * vmax)\n",
    "        if count < 100:\n",
    "            text_height = count + .01 * vmax\n",
    "            ax.text(j, text_height, count, ha=\"center\", **font_kwargs)\n",
    "        elif diff < 0 and np.abs(diff) < vmax * .06:\n",
    "            text_height = np.max([prev_text_height + .035 * vmax, count + .01 * vmax])\n",
    "            ax.text(j, text_height, count, ha=\"center\", **font_kwargs)\n",
    "        elif np.abs(diff) < vmax * .05:\n",
    "            text_height = np.min([prev_text_height - .01 * vmax, count + .01 * vmax])\n",
    "            ax.text(j, text_height, count, ha=\"center\", **font_kwargs)\n",
    "        else:\n",
    "            text_height = count + .01 * vmax\n",
    "            ax.text(j, text_height, count, ha=\"center\", **font_kwargs)\n",
    "        prev_text_height = text_height\n",
    "        \n",
    "    legend_elements = [Patch(facecolor='tab:blue', edgecolor='tab:blue',\n",
    "                         label='median/typical molbits'),\n",
    "                       Patch(facecolor='tab:red', edgecolor='tab:red',\n",
    "                         label='highest/lowest molbits')]\n",
    "    leg = ax.legend(handles=legend_elements)\n",
    "    t1, t2 = leg.get_texts()\n",
    "    t2._fontproperties = t1._fontproperties.copy()\n",
    "#     t3._fontproperties = t1._fontproperties.copy()\n",
    "    t1.set_weight('bold')\n",
    "    t2.set_weight('bold')\n",
    "    t2.set_color(\"tab:red\")\n",
    "    return ax"
   ]
  },
  {
   "cell_type": "markdown",
   "metadata": {},
   "source": [
    "# Save labels"
   ]
  },
  {
   "cell_type": "code",
   "execution_count": 51,
   "metadata": {
    "ExecuteTime": {
     "end_time": "2020-01-08T01:00:16.502004Z",
     "start_time": "2020-01-08T01:00:16.488590Z"
    }
   },
   "outputs": [
    {
     "data": {
      "text/plain": [
       "'/path/to/data/MinION_sequencing_data_20191216/guppy_3.2.2_12_16_19_run_01_exec_20200107/sw/all_897cd225d1c3eef2d8da014b83aad9fb76f55a5f.tsv'"
      ]
     },
     "execution_count": 51,
     "metadata": {},
     "output_type": "execute_result"
    }
   ],
   "source": [
    "merged_sw_file\n"
   ]
  },
  {
   "cell_type": "code",
   "execution_count": 52,
   "metadata": {
    "ExecuteTime": {
     "end_time": "2020-01-08T01:00:48.327562Z",
     "start_time": "2020-01-08T01:00:16.503735Z"
    }
   },
   "outputs": [
    {
     "name": "stderr",
     "output_type": "stream",
     "text": [
      "/ssd1/home/kdorosch/.local/lib/python3.6/site-packages/ipykernel_launcher.py:5: FutureWarning: currently extract(expand=None) means expand=False (return Index/Series/DataFrame) but in a future version of pandas this will be changed to expand=True (return DataFrame)\n",
      "  \"\"\"\n"
     ]
    }
   ],
   "source": [
    "sw = pd.read_csv(merged_sw_file, sep=\"\\t\", index_col=0)\n",
    "sw_scores = sw.filter(regex=\"score_molbit_.*\")\n",
    "best_molbits = sw_scores.apply(np.argmax, axis=1)\n",
    "accept_molbit = sw.lookup(sw.index, best_molbits) >= 15\n",
    "sw[\"best_molbit\"] = best_molbits.str.extract(r\"score_molbit_([\\d]+)\")\n",
    "sw[\"accept_molbit\"] = accept_molbit\n",
    "sw[\"best_molbit_is_in_run\"] = sw[\"best_molbit\"].apply(lambda x: x in molbits_in_run)\n",
    "\n",
    "labels_in_set = sw[np.logical_and(sw[\"accept_molbit\"], sw[\"best_molbit_is_in_run\"])]"
   ]
  },
  {
   "cell_type": "code",
   "execution_count": 53,
   "metadata": {
    "ExecuteTime": {
     "end_time": "2020-01-08T01:00:48.347181Z",
     "start_time": "2020-01-08T01:00:48.329860Z"
    }
   },
   "outputs": [
    {
     "name": "stdout",
     "output_type": "stream",
     "text": [
      "/path/to/data/MinION_sequencing_data_20191216/guppy_3.2.2_12_16_19_run_01_exec_20200107/sw/labels_for_molbits_in_set_897cd225d1c3eef2d8da014b83aad9fb76f55a5f.tsv\n"
     ]
    }
   ],
   "source": [
    "sw_label_file = merged_sw_file.replace(\"all\", \"labels_for_molbits_in_set\")\n",
    "print(sw_label_file)"
   ]
  },
  {
   "cell_type": "code",
   "execution_count": 54,
   "metadata": {
    "ExecuteTime": {
     "end_time": "2020-01-08T01:00:49.487326Z",
     "start_time": "2020-01-08T01:00:48.350554Z"
    }
   },
   "outputs": [
    {
     "name": "stderr",
     "output_type": "stream",
     "text": [
      "/ssd1/home/kdorosch/.local/lib/python3.6/site-packages/ipykernel_launcher.py:2: SettingWithCopyWarning: \n",
      "A value is trying to be set on a copy of a slice from a DataFrame.\n",
      "Try using .loc[row_indexer,col_indexer] = value instead\n",
      "\n",
      "See the caveats in the documentation: http://pandas.pydata.org/pandas-docs/stable/indexing.html#indexing-view-versus-copy\n",
      "  \n"
     ]
    }
   ],
   "source": [
    "best_score = np.max(labels_in_set[[f\"sw_score_molbit_{molbit}\" for molbit in molbits_in_run]], axis=1)\n",
    "labels_in_set[\"best_score\"] = best_score\n",
    "labels_in_set = labels_in_set.loc[:, [\"best_molbit\", \"best_score\"]]\n",
    "labels_in_set.columns = [\"molbit\", \"sw_score\"]\n",
    "\n",
    "labels_in_set.to_csv(sw_label_file, sep=\"\\t\", index=True)"
   ]
  },
  {
   "cell_type": "markdown",
   "metadata": {},
   "source": [
    "# Attempt to scale the counts"
   ]
  },
  {
   "cell_type": "code",
   "execution_count": 55,
   "metadata": {
    "ExecuteTime": {
     "end_time": "2020-01-08T01:00:49.507383Z",
     "start_time": "2020-01-08T01:00:49.489392Z"
    }
   },
   "outputs": [],
   "source": [
    "scaling_factor = [ 117.44079692,  296.08219178,   79.3902663 ,   63.8680128 ,\n",
    "        301.24041812,  106.23305345,   50.35782934,   94.36710933,\n",
    "        261.39458779,   23.42805573,  236.19903327,  215.71332122,\n",
    "         72.68457433, 1674.82258065,  359.61558442,   92.43485034,\n",
    "         55.15762106,  147.49710313,  161.68942521,   41.8235584 ,\n",
    "         72.38555587,  124.39775226,  207.99019608,  599.71731449,\n",
    "        410.15625   ,  146.23955432,   81.21546961,  151.60891089,\n",
    "        265.91895803,   93.01442673,   59.58171206,   41.92334018,\n",
    "         75.73638033,  100.18461538,  178.88385542,  176.9227836 ,\n",
    "         35.15      ,   99.06164932,  435.15123095,  124.01737387,\n",
    "        100.70515917,  113.01108647,  127.24327323,   34.53376496,\n",
    "        113.68327138,   86.11075652,  317.00898411,  239.53629243,\n",
    "         83.78780013,  276.0384821 ,   89.75808133,   32.18069662,\n",
    "        250.71262136,  310.93798916,   76.84392204,  187.19391084,\n",
    "        211.31315136,  165.0372093 ,   71.34651475,  403.21590909,\n",
    "         35.59571978,  201.41721854,  126.01242971,   66.43719769,\n",
    "       1425.49333333,  102.0477251 ,   39.45092251,   84.89571202,\n",
    "         68.85702018,  148.00922935,  204.68155712,  104.81568627,\n",
    "         66.45394046,  150.09968354,   32.68883529,   74.21318208,\n",
    "        797.16806723,   93.0257416 ,  348.76102941,  372.37684004,\n",
    "         95.12844828,   56.96902426,  143.82404692,  231.58237146,\n",
    "        171.5491644 ,   65.69370442,   68.64634526,  119.36073553,\n",
    "        128.91764706,   32.27093687,  114.79353994,  433.62242374,\n",
    "         92.13242249,  293.19063545,  129.10751105,   86.49629995]"
   ]
  },
  {
   "cell_type": "code",
   "execution_count": null,
   "metadata": {},
   "outputs": [],
   "source": []
  },
  {
   "cell_type": "code",
   "execution_count": null,
   "metadata": {},
   "outputs": [],
   "source": []
  }
 ],
 "metadata": {
  "kernelspec": {
   "display_name": "Python 3.6",
   "language": "python",
   "name": "py36"
  },
  "language_info": {
   "codemirror_mode": {
    "name": "ipython",
    "version": 3
   },
   "file_extension": ".py",
   "mimetype": "text/x-python",
   "name": "python",
   "nbconvert_exporter": "python",
   "pygments_lexer": "ipython3",
   "version": "3.6.8"
  },
  "notify_time": "30",
  "toc": {
   "base_numbering": 1,
   "nav_menu": {},
   "number_sections": true,
   "sideBar": true,
   "skip_h1_title": false,
   "title_cell": "Table of Contents",
   "title_sidebar": "Contents",
   "toc_cell": false,
   "toc_position": {},
   "toc_section_display": true,
   "toc_window_display": false
  }
 },
 "nbformat": 4,
 "nbformat_minor": 2
}
