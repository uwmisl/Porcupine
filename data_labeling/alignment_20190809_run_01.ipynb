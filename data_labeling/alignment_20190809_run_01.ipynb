{
 "cells": [
  {
   "cell_type": "code",
   "execution_count": 90,
   "metadata": {
    "ExecuteTime": {
     "end_time": "2019-08-10T22:51:15.764966Z",
     "start_time": "2019-08-10T22:51:15.731733Z"
    }
   },
   "outputs": [
    {
     "name": "stderr",
     "output_type": "stream",
     "text": [
      "[15:51:15 - matplotlib.pyplot] Loaded backend module://ipykernel.pylab.backend_inline version unknown.\n"
     ]
    },
    {
     "name": "stdout",
     "output_type": "stream",
     "text": [
      "The autoreload extension is already loaded. To reload it, use:\n",
      "  %reload_ext autoreload\n"
     ]
    }
   ],
   "source": [
    "%load_ext autoreload\n",
    "%autoreload 2\n",
    "%matplotlib inline\n",
    "import os\n",
    "import h5py\n",
    "import numpy as np\n",
    "import pandas as pd\n",
    "import logging\n",
    "import re\n",
    "\n",
    "from matplotlib import pyplot as plt\n",
    "import seaborn as sns\n",
    "sns.set(font_scale=1.8, style=\"whitegrid\")"
   ]
  },
  {
   "cell_type": "code",
   "execution_count": 65,
   "metadata": {
    "ExecuteTime": {
     "end_time": "2019-08-10T20:45:53.826134Z",
     "start_time": "2019-08-10T20:45:53.805186Z"
    }
   },
   "outputs": [],
   "source": [
    "logger = logging.getLogger(__name__)\n",
    "logging.basicConfig(format='[%(asctime)s - %(name)s] %(message)s',\n",
    "                        datefmt='%H:%M:%S',\n",
    "                        level=logging.DEBUG,\n",
    "                        handlers=[logging.StreamHandler()])"
   ]
  },
  {
   "cell_type": "markdown",
   "metadata": {},
   "source": [
    "# Import run settings"
   ]
  },
  {
   "cell_type": "code",
   "execution_count": 213,
   "metadata": {
    "ExecuteTime": {
     "end_time": "2019-08-20T20:04:19.773189Z",
     "start_time": "2019-08-20T20:04:18.284217Z"
    }
   },
   "outputs": [],
   "source": [
    "def import_gdrive_sheet(gdrive_key, sheet_id):\n",
    "    run_spreadsheet = pd.read_csv(\"https://docs.google.com/spreadsheet/ccc?key=\" + \\\n",
    "                                  gdrive_key + \"&output=csv&gid=\" + sheet_id)\n",
    "    if \"date\" in run_spreadsheet.columns:\n",
    "        run_spreadsheet[\"date\"] = run_spreadsheet[\"date\"].astype(str)\n",
    "    return run_spreadsheet\n",
    "\n",
    "gdrive_key = \"gsheet_id_here\"\n",
    "sheet_id = \"0\"\n",
    "set_sheet_id = \"512509543\"\n",
    "\n",
    "run_spreadsheet = import_gdrive_sheet(gdrive_key, sheet_id)\n",
    "set_spreadsheet = import_gdrive_sheet(gdrive_key, set_sheet_id)"
   ]
  },
  {
   "cell_type": "code",
   "execution_count": 214,
   "metadata": {
    "ExecuteTime": {
     "end_time": "2019-08-20T20:04:19.819823Z",
     "start_time": "2019-08-20T20:04:19.798351Z"
    }
   },
   "outputs": [],
   "source": [
    "date = \"20190809\"\n",
    "molbit_file = \"../porcupine_sequences.fa\"\n",
    "run_data = dict(run_spreadsheet[run_spreadsheet[\"date\"] == date].iloc[0, :])"
   ]
  },
  {
   "cell_type": "code",
   "execution_count": 215,
   "metadata": {
    "ExecuteTime": {
     "end_time": "2019-08-20T20:04:19.840153Z",
     "start_time": "2019-08-20T20:04:19.822346Z"
    }
   },
   "outputs": [],
   "source": [
    "fastq_dir = os.path.join(run_data[\"basecall_dir\"], \"pass\")"
   ]
  },
  {
   "cell_type": "markdown",
   "metadata": {},
   "source": [
    "# Run sequence alignment"
   ]
  },
  {
   "cell_type": "code",
   "execution_count": 39,
   "metadata": {
    "ExecuteTime": {
     "end_time": "2019-08-10T20:40:22.140301Z",
     "start_time": "2019-08-10T20:40:22.122293Z"
    }
   },
   "outputs": [],
   "source": [
    "def read_fasta(fasta_fname):\n",
    "    '''Assumes 1 line per sequence.'''\n",
    "    seqs = []\n",
    "    names = []\n",
    "    with open(fasta_fname) as fa:\n",
    "        for line in fa:\n",
    "            line = line.strip()\n",
    "            if line.startswith(\">\"):\n",
    "                names.append(line.replace(\">\", \"\").split()[0])\n",
    "            else:\n",
    "                seqs.append(line)\n",
    "    return seqs, names"
   ]
  },
  {
   "cell_type": "code",
   "execution_count": 77,
   "metadata": {
    "ExecuteTime": {
     "end_time": "2019-08-10T20:48:00.691075Z",
     "start_time": "2019-08-10T20:48:00.676035Z"
    }
   },
   "outputs": [],
   "source": [
    "def read_fastq(fastq_fname):\n",
    "    seqs = []\n",
    "    with open(fastq_fname) as fq:\n",
    "        fq = fq.readlines()\n",
    "        for line_i in range(0, len(fq), 4):\n",
    "            line = fq[line_i].strip().split(\" \")\n",
    "            read_id = str(line[0])[1:]\n",
    "            seq = fq[line_i + 1].strip()\n",
    "            seqs.append((read_id, seq))\n",
    "    return seqs"
   ]
  },
  {
   "cell_type": "code",
   "execution_count": 58,
   "metadata": {
    "ExecuteTime": {
     "end_time": "2019-08-10T20:43:42.526113Z",
     "start_time": "2019-08-10T20:43:42.501784Z"
    }
   },
   "outputs": [],
   "source": [
    "from pore_utils import raw_signal_utils\n",
    "from pore_utils import smith_waterman as s_w"
   ]
  },
  {
   "cell_type": "code",
   "execution_count": 78,
   "metadata": {
    "ExecuteTime": {
     "end_time": "2019-08-10T20:48:01.962231Z",
     "start_time": "2019-08-10T20:48:01.936445Z"
    }
   },
   "outputs": [],
   "source": [
    "def helper_run_sw(read, molbit_seqs=None, search_len=100,\n",
    "                  cost_fn={\"match\": 2, \"mismatch\": -2, \"gap\": -1}):\n",
    "    read_id, seq = read\n",
    "\n",
    "    sw_search_end = min(len(seq), search_len)\n",
    "    search_seq = seq[:sw_search_end]\n",
    "\n",
    "    results = [read_id]\n",
    "    for header_i, header_seq in enumerate(molbit_seqs):\n",
    "        _, sw_score, _, sw_loc, _ = s_w.s_w(search_seq, header_seq,\n",
    "                                        cost_fn=cost_fn)\n",
    "        results.append(sw_score)\n",
    "    return results\n",
    "\n",
    "\n",
    "def run_sw(fastq_dir, out_dir, search_len=80, molbit_fa=None, n_workers=20,\n",
    "           cost_fn={\"match\": 2, \"mismatch\": -2, \"gap\": -1}):\n",
    "    os.makedirs(out_dir)\n",
    "    import dask.bag as db\n",
    "    from dask.diagnostics import ProgressBar\n",
    "    ProgressBar().register()\n",
    "    \n",
    "    logger.info(\"Getting molbit sequences.\")\n",
    "    assert molbit_fa is not None\n",
    "    assert os.path.exists(molbit_fa)\n",
    "    molbit_seqs, molbit_names = read_fasta(molbit_fa)\n",
    "    \n",
    "    logger.info(\"Locating fastq files.\")\n",
    "    fastq_files = []\n",
    "    for fname in os.listdir(fastq_dir):\n",
    "        if fname.endswith(\".fastq\"):\n",
    "            fastq_files.append(os.path.join(fastq_dir, fname))\n",
    "    assert len(fastq_files) > 0\n",
    "    \n",
    "    logger.info(\"Running SW, one fastq at a time.\")\n",
    "    for fq_i, fq_fname in enumerate(fastq_files):\n",
    "        logger.info(f\"Starting fastq ({fq_i} of {len(fastq_files)})\\n\\t{fq_fname}\")\n",
    "        fq_seqs = read_fastq(fq_fname)\n",
    "        \n",
    "        bag = db.from_sequence(fq_seqs)\n",
    "        dask_map = bag.map(helper_run_sw, molbit_seqs=molbit_seqs,\n",
    "                           search_len=search_len, cost_fn=cost_fn)\n",
    "        sw_scores = dask_map.compute(num_workers=n_workers)\n",
    "        \n",
    "        cols = [\"read_id\"] + [f\"sw_score_molbit_{molbit}\" for molbit in molbit_names]\n",
    "        sw_df = pd.DataFrame(sw_scores, columns=cols)\n",
    "        sw_df.index = sw_df[\"read_id\"]\n",
    "        del sw_df[\"read_id\"]\n",
    "        out_fname = fq_fname.split(\"/\")[-1].replace(\".fastq\", \"\") + \".tsv\"\n",
    "        out_fname = os.path.join(out_dir, out_fname)\n",
    "        logger.info(f\"Saving to file: {out_fname}\")\n",
    "        sw_df.to_csv(out_fname, sep=\"\\t\", index=True)"
   ]
  },
  {
   "cell_type": "code",
   "execution_count": 216,
   "metadata": {
    "ExecuteTime": {
     "end_time": "2019-08-20T20:04:23.717903Z",
     "start_time": "2019-08-20T20:04:23.670913Z"
    }
   },
   "outputs": [],
   "source": [
    "sw_dir = os.path.join(run_data[\"basecall_dir\"], \"sw\")\n",
    "cost_fn = {\"match\": 1, \"mismatch\": -1, \"gap\": -8}"
   ]
  },
  {
   "cell_type": "raw",
   "metadata": {
    "ExecuteTime": {
     "end_time": "2019-08-11T02:58:25.962380Z",
     "start_time": "2019-08-11T02:58:25.723668Z"
    }
   },
   "source": [
    "! rm -rf /path/to/data/MinION_sequencing_data_20190809/guppy_3.2.2_exec_20190809/sw"
   ]
  },
  {
   "cell_type": "code",
   "execution_count": 200,
   "metadata": {
    "ExecuteTime": {
     "end_time": "2019-08-11T05:04:21.173750Z",
     "start_time": "2019-08-11T02:58:39.155426Z"
    },
    "scrolled": true
   },
   "outputs": [
    {
     "name": "stderr",
     "output_type": "stream",
     "text": [
      "[19:58:39 - __main__] Getting molbit sequences.\n",
      "[19:58:39 - __main__] Locating fastq files.\n",
      "[19:58:39 - __main__] Running SW, one fastq at a time.\n",
      "[19:58:39 - __main__] Starting fastq (0 of 211)\n",
      "\t/path/to/data/MinION_sequencing_data_20190809/guppy_3.2.2_exec_20190809/pass/fastq_runid_536cafc874cb995b6c8b47a5baabb9598eaded02_0_0.fastq\n"
     ]
    },
    {
     "name": "stdout",
     "output_type": "stream",
     "text": [
      "[########################################] | 100% Completed | 38.2s\n",
      "[########################################] | 100% Completed | 38.2s\n",
      "[########################################] | 100% Completed | 38.2s\n",
      "[########################################] | 100% Completed | 38.3s\n",
      "[########################################] | 100% Completed | 38.4s\n",
      "[########################################] | 100% Completed | 38.5s\n",
      "[########################################] | 100% Completed | 38.5s\n",
      "[########################################] | 100% Completed | 38.5s\n",
      "[########################################] | 100% Completed | 38.6s\n",
      "[########################################] | 100% Completed | 38.6s\n",
      "[########################################] | 100% Completed | 38.6s\n",
      "[########################################] | 100% Completed | 38.7s\n",
      "[########################################] | 100% Completed | 38.8s\n",
      "[########################################] | 100% Completed | 38.9s\n"
     ]
    },
    {
     "name": "stderr",
     "output_type": "stream",
     "text": [
      "[19:59:19 - __main__] Saving to file: /path/to/data/MinION_sequencing_data_20190809/guppy_3.2.2_exec_20190809/sw/fastq_runid_536cafc874cb995b6c8b47a5baabb9598eaded02_0_0.tsv\n",
      "[19:59:19 - __main__] Starting fastq (1 of 211)\n",
      "\t/path/to/data/MinION_sequencing_data_20190809/guppy_3.2.2_exec_20190809/pass/fastq_runid_536cafc874cb995b6c8b47a5baabb9598eaded02_0_1.fastq\n"
     ]
    },
    {
     "name": "stdout",
     "output_type": "stream",
     "text": [
      "[########################################] | 100% Completed | 24.3s\n",
      "[########################################] | 100% Completed | 24.3s\n",
      "[########################################] | 100% Completed | 24.4s\n",
      "[########################################] | 100% Completed | 24.5s\n",
      "[########################################] | 100% Completed | 24.5s\n",
      "[########################################] | 100% Completed | 24.6s\n",
      "[########################################] | 100% Completed | 24.7s\n",
      "[########################################] | 100% Completed | 24.8s\n",
      "[########################################] | 100% Completed | 24.8s\n",
      "[########################################] | 100% Completed | 24.9s\n",
      "[########################################] | 100% Completed | 25.0s\n",
      "[########################################] | 100% Completed | 25.0s\n",
      "[########################################] | 100% Completed | 25.1s\n",
      "[########################################] | 100% Completed | 25.2s\n"
     ]
    },
    {
     "name": "stderr",
     "output_type": "stream",
     "text": [
      "[19:59:45 - __main__] Saving to file: /path/to/data/MinION_sequencing_data_20190809/guppy_3.2.2_exec_20190809/sw/fastq_runid_536cafc874cb995b6c8b47a5baabb9598eaded02_0_1.tsv\n",
      "[19:59:45 - __main__] Starting fastq (2 of 211)\n",
      "\t/path/to/data/MinION_sequencing_data_20190809/guppy_3.2.2_exec_20190809/pass/fastq_runid_536cafc874cb995b6c8b47a5baabb9598eaded02_0_2.fastq\n"
     ]
    },
    {
     "name": "stdout",
     "output_type": "stream",
     "text": [
      "[########################################] | 100% Completed | 49.0s\n",
      "[########################################] | 100% Completed | 49.0s\n",
      "[########################################] | 100% Completed | 49.1s\n",
      "[########################################] | 100% Completed | 49.2s\n",
      "[########################################] | 100% Completed | 49.3s\n",
      "[########################################] | 100% Completed | 49.3s\n",
      "[########################################] | 100% Completed | 49.4s\n",
      "[########################################] | 100% Completed | 49.4s\n",
      "[########################################] | 100% Completed | 49.5s\n",
      "[########################################] | 100% Completed | 49.6s\n",
      "[########################################] | 100% Completed | 49.6s\n",
      "[########################################] | 100% Completed | 49.7s\n",
      "[########################################] | 100% Completed | 49.7s\n",
      "[########################################] | 100% Completed | 49.8s\n"
     ]
    },
    {
     "name": "stderr",
     "output_type": "stream",
     "text": [
      "[20:00:36 - __main__] Saving to file: /path/to/data/MinION_sequencing_data_20190809/guppy_3.2.2_exec_20190809/sw/fastq_runid_536cafc874cb995b6c8b47a5baabb9598eaded02_0_2.tsv\n",
      "[20:00:36 - __main__] Starting fastq (3 of 211)\n",
      "\t/path/to/data/MinION_sequencing_data_20190809/guppy_3.2.2_exec_20190809/pass/fastq_runid_536cafc874cb995b6c8b47a5baabb9598eaded02_0_3.fastq\n"
     ]
    },
    {
     "name": "stdout",
     "output_type": "stream",
     "text": [
      "[########################################] | 100% Completed | 25.9s\n",
      "[########################################] | 100% Completed | 25.9s\n",
      "[########################################] | 100% Completed | 25.9s\n",
      "[########################################] | 100% Completed | 26.0s\n",
      "[########################################] | 100% Completed | 26.1s\n",
      "[########################################] | 100% Completed | 26.1s\n",
      "[########################################] | 100% Completed | 26.1s\n",
      "[########################################] | 100% Completed | 26.2s\n",
      "[########################################] | 100% Completed | 26.3s\n",
      "[########################################] | 100% Completed | 26.3s\n",
      "[########################################] | 100% Completed | 26.4s\n",
      "[########################################] | 100% Completed | 26.4s\n",
      "[########################################] | 100% Completed | 26.4s\n",
      "[########################################] | 100% Completed | 26.5s\n"
     ]
    },
    {
     "name": "stderr",
     "output_type": "stream",
     "text": [
      "[20:01:04 - __main__] Saving to file: /path/to/data/MinION_sequencing_data_20190809/guppy_3.2.2_exec_20190809/sw/fastq_runid_536cafc874cb995b6c8b47a5baabb9598eaded02_0_3.tsv\n",
      "[20:01:04 - __main__] Starting fastq (4 of 211)\n",
      "\t/path/to/data/MinION_sequencing_data_20190809/guppy_3.2.2_exec_20190809/pass/fastq_runid_536cafc874cb995b6c8b47a5baabb9598eaded02_1_0.fastq\n"
     ]
    },
    {
     "name": "stdout",
     "output_type": "stream",
     "text": [
      "[########################################] | 100% Completed | 56.8s\n",
      "[########################################] | 100% Completed | 56.9s\n",
      "[########################################] | 100% Completed | 57.0s\n",
      "[########################################] | 100% Completed | 57.0s\n",
      "[########################################] | 100% Completed | 57.1s\n",
      "[########################################] | 100% Completed | 57.2s\n",
      "[########################################] | 100% Completed | 57.3s\n",
      "[########################################] | 100% Completed | 57.4s\n",
      "[########################################] | 100% Completed | 57.5s\n",
      "[########################################] | 100% Completed | 57.5s\n",
      "[########################################] | 100% Completed | 57.6s\n",
      "[########################################] | 100% Completed | 57.6s\n",
      "[########################################] | 100% Completed | 57.7s\n",
      "[########################################] | 100% Completed | 57.7s\n"
     ]
    },
    {
     "name": "stderr",
     "output_type": "stream",
     "text": [
      "[20:02:02 - __main__] Saving to file: /path/to/data/MinION_sequencing_data_20190809/guppy_3.2.2_exec_20190809/sw/fastq_runid_536cafc874cb995b6c8b47a5baabb9598eaded02_1_0.tsv\n",
      "[20:02:02 - __main__] Starting fastq (5 of 211)\n",
      "\t/path/to/data/MinION_sequencing_data_20190809/guppy_3.2.2_exec_20190809/pass/fastq_runid_536cafc874cb995b6c8b47a5baabb9598eaded02_1_1.fastq\n"
     ]
    },
    {
     "name": "stdout",
     "output_type": "stream",
     "text": [
      "[########################################] | 100% Completed | 44.9s\n",
      "[########################################] | 100% Completed | 45.0s\n",
      "[########################################] | 100% Completed | 45.0s\n",
      "[########################################] | 100% Completed | 45.1s\n",
      "[########################################] | 100% Completed | 45.1s\n",
      "[########################################] | 100% Completed | 45.2s\n",
      "[########################################] | 100% Completed | 45.3s\n",
      "[########################################] | 100% Completed | 45.3s\n",
      "[########################################] | 100% Completed | 45.4s\n",
      "[########################################] | 100% Completed | 45.5s\n",
      "[########################################] | 100% Completed | 45.5s\n",
      "[########################################] | 100% Completed | 45.6s\n",
      "[########################################] | 100% Completed | 45.6s\n",
      "[########################################] | 100% Completed | 45.7s\n"
     ]
    },
    {
     "name": "stderr",
     "output_type": "stream",
     "text": [
      "[20:02:49 - __main__] Saving to file: /path/to/data/MinION_sequencing_data_20190809/guppy_3.2.2_exec_20190809/sw/fastq_runid_536cafc874cb995b6c8b47a5baabb9598eaded02_1_1.tsv\n",
      "[20:02:49 - __main__] Starting fastq (6 of 211)\n",
      "\t/path/to/data/MinION_sequencing_data_20190809/guppy_3.2.2_exec_20190809/pass/fastq_runid_536cafc874cb995b6c8b47a5baabb9598eaded02_1_2.fastq\n"
     ]
    },
    {
     "name": "stdout",
     "output_type": "stream",
     "text": [
      "[########################################] | 100% Completed | 27.1s\n",
      "[########################################] | 100% Completed | 27.2s\n",
      "[########################################] | 100% Completed | 27.2s\n",
      "[########################################] | 100% Completed | 27.3s\n",
      "[########################################] | 100% Completed | 27.3s\n",
      "[########################################] | 100% Completed | 27.3s\n",
      "[########################################] | 100% Completed | 27.4s\n",
      "[########################################] | 100% Completed | 27.5s\n",
      "[########################################] | 100% Completed | 27.6s\n",
      "[########################################] | 100% Completed | 27.6s\n",
      "[########################################] | 100% Completed | 27.7s\n",
      "[########################################] | 100% Completed | 27.7s\n",
      "[########################################] | 100% Completed | 27.8s\n",
      "[########################################] | 100% Completed | 27.9s\n"
     ]
    },
    {
     "name": "stderr",
     "output_type": "stream",
     "text": [
      "[20:03:18 - __main__] Saving to file: /path/to/data/MinION_sequencing_data_20190809/guppy_3.2.2_exec_20190809/sw/fastq_runid_536cafc874cb995b6c8b47a5baabb9598eaded02_1_2.tsv\n",
      "[20:03:18 - __main__] Starting fastq (7 of 211)\n",
      "\t/path/to/data/MinION_sequencing_data_20190809/guppy_3.2.2_exec_20190809/pass/fastq_runid_536cafc874cb995b6c8b47a5baabb9598eaded02_1_3.fastq\n"
     ]
    },
    {
     "name": "stdout",
     "output_type": "stream",
     "text": [
      "[########################################] | 100% Completed |  7.3s\n",
      "[########################################] | 100% Completed |  7.4s\n",
      "[########################################] | 100% Completed |  7.4s\n",
      "[########################################] | 100% Completed |  7.5s\n",
      "[########################################] | 100% Completed |  7.5s\n",
      "[########################################] | 100% Completed |  7.6s\n",
      "[########################################] | 100% Completed |  7.6s\n",
      "[########################################] | 100% Completed |  7.6s\n",
      "[########################################] | 100% Completed |  7.6s\n",
      "[########################################] | 100% Completed |  7.7s\n",
      "[########################################] | 100% Completed |  7.7s\n",
      "[########################################] | 100% Completed |  7.8s\n",
      "[########################################] | 100% Completed |  7.9s\n",
      "[########################################] | 100% Completed |  7.9s\n"
     ]
    },
    {
     "name": "stderr",
     "output_type": "stream",
     "text": [
      "[20:03:27 - __main__] Saving to file: /path/to/data/MinION_sequencing_data_20190809/guppy_3.2.2_exec_20190809/sw/fastq_runid_536cafc874cb995b6c8b47a5baabb9598eaded02_1_3.tsv\n",
      "[20:03:27 - __main__] Starting fastq (8 of 211)\n",
      "\t/path/to/data/MinION_sequencing_data_20190809/guppy_3.2.2_exec_20190809/pass/fastq_runid_536cafc874cb995b6c8b47a5baabb9598eaded02_2_0.fastq\n"
     ]
    },
    {
     "name": "stdout",
     "output_type": "stream",
     "text": [
      "[########################################] | 100% Completed | 50.4s\n",
      "[########################################] | 100% Completed | 50.5s\n",
      "[########################################] | 100% Completed | 50.6s\n",
      "[########################################] | 100% Completed | 50.6s\n",
      "[########################################] | 100% Completed | 50.7s\n",
      "[########################################] | 100% Completed | 50.7s\n",
      "[########################################] | 100% Completed | 50.8s\n",
      "[########################################] | 100% Completed | 50.9s\n",
      "[########################################] | 100% Completed | 51.0s\n",
      "[########################################] | 100% Completed | 51.1s\n",
      "[########################################] | 100% Completed | 51.1s\n",
      "[########################################] | 100% Completed | 51.1s\n",
      "[########################################] | 100% Completed | 51.1s\n",
      "[########################################] | 100% Completed | 51.2s\n"
     ]
    },
    {
     "name": "stderr",
     "output_type": "stream",
     "text": [
      "[20:04:19 - __main__] Saving to file: /path/to/data/MinION_sequencing_data_20190809/guppy_3.2.2_exec_20190809/sw/fastq_runid_536cafc874cb995b6c8b47a5baabb9598eaded02_2_0.tsv\n",
      "[20:04:19 - __main__] Starting fastq (9 of 211)\n",
      "\t/path/to/data/MinION_sequencing_data_20190809/guppy_3.2.2_exec_20190809/pass/fastq_runid_536cafc874cb995b6c8b47a5baabb9598eaded02_2_1.fastq\n"
     ]
    },
    {
     "name": "stdout",
     "output_type": "stream",
     "text": [
      "[########################################] | 100% Completed | 26.5s\n",
      "[########################################] | 100% Completed | 26.6s\n",
      "[########################################] | 100% Completed | 26.7s\n",
      "[########################################] | 100% Completed | 26.7s\n",
      "[########################################] | 100% Completed | 26.8s\n",
      "[########################################] | 100% Completed | 26.8s\n",
      "[########################################] | 100% Completed | 26.9s\n",
      "[########################################] | 100% Completed | 27.0s\n",
      "[########################################] | 100% Completed | 27.0s\n",
      "[########################################] | 100% Completed | 27.0s\n",
      "[########################################] | 100% Completed | 27.1s\n",
      "[########################################] | 100% Completed | 27.1s\n",
      "[########################################] | 100% Completed | 27.2s\n",
      "[########################################] | 100% Completed | 27.2s\n"
     ]
    },
    {
     "name": "stderr",
     "output_type": "stream",
     "text": [
      "[20:04:47 - __main__] Saving to file: /path/to/data/MinION_sequencing_data_20190809/guppy_3.2.2_exec_20190809/sw/fastq_runid_536cafc874cb995b6c8b47a5baabb9598eaded02_2_1.tsv\n",
      "[20:04:47 - __main__] Starting fastq (10 of 211)\n",
      "\t/path/to/data/MinION_sequencing_data_20190809/guppy_3.2.2_exec_20190809/pass/fastq_runid_536cafc874cb995b6c8b47a5baabb9598eaded02_2_2.fastq\n"
     ]
    },
    {
     "name": "stdout",
     "output_type": "stream",
     "text": [
      "[########################################] | 100% Completed | 49.5s\n",
      "[########################################] | 100% Completed | 49.6s\n",
      "[########################################] | 100% Completed | 49.7s\n",
      "[########################################] | 100% Completed | 49.7s\n",
      "[########################################] | 100% Completed | 49.8s\n",
      "[########################################] | 100% Completed | 49.9s\n",
      "[########################################] | 100% Completed | 50.0s\n",
      "[########################################] | 100% Completed | 50.0s\n",
      "[########################################] | 100% Completed | 50.1s\n",
      "[########################################] | 100% Completed | 50.2s\n",
      "[########################################] | 100% Completed | 50.2s\n",
      "[########################################] | 100% Completed | 50.3s\n",
      "[########################################] | 100% Completed | 50.3s\n",
      "[########################################] | 100% Completed | 50.4s\n"
     ]
    },
    {
     "name": "stderr",
     "output_type": "stream",
     "text": [
      "[20:05:39 - __main__] Saving to file: /path/to/data/MinION_sequencing_data_20190809/guppy_3.2.2_exec_20190809/sw/fastq_runid_536cafc874cb995b6c8b47a5baabb9598eaded02_2_2.tsv\n",
      "[20:05:39 - __main__] Starting fastq (11 of 211)\n",
      "\t/path/to/data/MinION_sequencing_data_20190809/guppy_3.2.2_exec_20190809/pass/fastq_runid_536cafc874cb995b6c8b47a5baabb9598eaded02_2_3.fastq\n"
     ]
    },
    {
     "name": "stdout",
     "output_type": "stream",
     "text": [
      "[########################################] | 100% Completed | 12.7s\n",
      "[########################################] | 100% Completed | 12.7s\n",
      "[########################################] | 100% Completed | 12.7s\n",
      "[########################################] | 100% Completed | 12.7s\n",
      "[########################################] | 100% Completed | 12.8s\n",
      "[########################################] | 100% Completed | 12.9s\n",
      "[########################################] | 100% Completed | 12.9s\n",
      "[########################################] | 100% Completed | 13.0s\n",
      "[########################################] | 100% Completed | 13.1s\n",
      "[########################################] | 100% Completed | 13.2s\n",
      "[########################################] | 100% Completed | 13.3s\n",
      "[########################################] | 100% Completed | 13.4s\n",
      "[########################################] | 100% Completed | 13.4s\n",
      "[########################################] | 100% Completed | 13.5s\n"
     ]
    },
    {
     "name": "stderr",
     "output_type": "stream",
     "text": [
      "[20:05:53 - __main__] Saving to file: /path/to/data/MinION_sequencing_data_20190809/guppy_3.2.2_exec_20190809/sw/fastq_runid_536cafc874cb995b6c8b47a5baabb9598eaded02_2_3.tsv\n",
      "[20:05:53 - __main__] Starting fastq (12 of 211)\n",
      "\t/path/to/data/MinION_sequencing_data_20190809/guppy_3.2.2_exec_20190809/pass/fastq_runid_536cafc874cb995b6c8b47a5baabb9598eaded02_3_0.fastq\n"
     ]
    },
    {
     "name": "stdout",
     "output_type": "stream",
     "text": [
      "[########################################] | 100% Completed | 44.2s\n",
      "[########################################] | 100% Completed | 44.3s\n",
      "[########################################] | 100% Completed | 44.3s\n",
      "[########################################] | 100% Completed | 44.4s\n",
      "[########################################] | 100% Completed | 44.4s\n",
      "[########################################] | 100% Completed | 44.5s\n",
      "[########################################] | 100% Completed | 44.5s\n",
      "[########################################] | 100% Completed | 44.6s\n",
      "[########################################] | 100% Completed | 44.7s\n",
      "[########################################] | 100% Completed | 44.7s\n",
      "[########################################] | 100% Completed | 44.7s\n",
      "[########################################] | 100% Completed | 44.8s\n",
      "[########################################] | 100% Completed | 44.9s\n",
      "[########################################] | 100% Completed | 44.9s\n"
     ]
    },
    {
     "name": "stderr",
     "output_type": "stream",
     "text": [
      "[20:06:39 - __main__] Saving to file: /path/to/data/MinION_sequencing_data_20190809/guppy_3.2.2_exec_20190809/sw/fastq_runid_536cafc874cb995b6c8b47a5baabb9598eaded02_3_0.tsv\n",
      "[20:06:39 - __main__] Starting fastq (13 of 211)\n",
      "\t/path/to/data/MinION_sequencing_data_20190809/guppy_3.2.2_exec_20190809/pass/fastq_runid_536cafc874cb995b6c8b47a5baabb9598eaded02_3_1.fastq\n"
     ]
    },
    {
     "name": "stdout",
     "output_type": "stream",
     "text": [
      "[########################################] | 100% Completed | 38.2s\n",
      "[########################################] | 100% Completed | 38.2s\n",
      "[########################################] | 100% Completed | 38.3s\n",
      "[########################################] | 100% Completed | 38.3s\n",
      "[########################################] | 100% Completed | 38.4s\n",
      "[########################################] | 100% Completed | 38.4s\n",
      "[########################################] | 100% Completed | 38.5s\n",
      "[########################################] | 100% Completed | 38.5s\n",
      "[########################################] | 100% Completed | 38.6s\n",
      "[########################################] | 100% Completed | 38.6s\n",
      "[########################################] | 100% Completed | 38.7s\n",
      "[########################################] | 100% Completed | 38.8s\n",
      "[########################################] | 100% Completed | 38.9s\n",
      "[########################################] | 100% Completed | 39.0s\n"
     ]
    },
    {
     "name": "stderr",
     "output_type": "stream",
     "text": [
      "[20:07:19 - __main__] Saving to file: /path/to/data/MinION_sequencing_data_20190809/guppy_3.2.2_exec_20190809/sw/fastq_runid_536cafc874cb995b6c8b47a5baabb9598eaded02_3_1.tsv\n",
      "[20:07:19 - __main__] Starting fastq (14 of 211)\n",
      "\t/path/to/data/MinION_sequencing_data_20190809/guppy_3.2.2_exec_20190809/pass/fastq_runid_536cafc874cb995b6c8b47a5baabb9598eaded02_3_2.fastq\n"
     ]
    },
    {
     "name": "stdout",
     "output_type": "stream",
     "text": [
      "[########################################] | 100% Completed | 57.0s\n",
      "[########################################] | 100% Completed | 57.1s\n",
      "[########################################] | 100% Completed | 57.2s\n",
      "[########################################] | 100% Completed | 57.3s\n",
      "[########################################] | 100% Completed | 57.3s\n",
      "[########################################] | 100% Completed | 57.4s\n",
      "[########################################] | 100% Completed | 57.4s\n",
      "[########################################] | 100% Completed | 57.5s\n",
      "[########################################] | 100% Completed | 57.6s\n",
      "[########################################] | 100% Completed | 57.6s\n",
      "[########################################] | 100% Completed | 57.7s\n",
      "[########################################] | 100% Completed | 57.8s\n",
      "[########################################] | 100% Completed | 57.8s\n",
      "[########################################] | 100% Completed | 57.9s\n"
     ]
    },
    {
     "name": "stderr",
     "output_type": "stream",
     "text": [
      "[20:08:18 - __main__] Saving to file: /path/to/data/MinION_sequencing_data_20190809/guppy_3.2.2_exec_20190809/sw/fastq_runid_536cafc874cb995b6c8b47a5baabb9598eaded02_3_2.tsv\n",
      "[20:08:18 - __main__] Starting fastq (15 of 211)\n",
      "\t/path/to/data/MinION_sequencing_data_20190809/guppy_3.2.2_exec_20190809/pass/fastq_runid_536cafc874cb995b6c8b47a5baabb9598eaded02_4_0.fastq\n"
     ]
    },
    {
     "name": "stdout",
     "output_type": "stream",
     "text": [
      "[########################################] | 100% Completed | 18.6s\n",
      "[########################################] | 100% Completed | 18.7s\n",
      "[########################################] | 100% Completed | 18.8s\n",
      "[########################################] | 100% Completed | 18.9s\n",
      "[########################################] | 100% Completed | 19.0s\n",
      "[########################################] | 100% Completed | 19.1s\n",
      "[########################################] | 100% Completed | 19.1s\n",
      "[########################################] | 100% Completed | 19.2s\n",
      "[########################################] | 100% Completed | 19.2s\n",
      "[########################################] | 100% Completed | 19.3s\n",
      "[########################################] | 100% Completed | 19.3s\n",
      "[########################################] | 100% Completed | 19.4s\n",
      "[########################################] | 100% Completed | 19.5s\n",
      "[########################################] | 100% Completed | 19.5s\n"
     ]
    },
    {
     "name": "stderr",
     "output_type": "stream",
     "text": [
      "[20:08:39 - __main__] Saving to file: /path/to/data/MinION_sequencing_data_20190809/guppy_3.2.2_exec_20190809/sw/fastq_runid_536cafc874cb995b6c8b47a5baabb9598eaded02_4_0.tsv\n",
      "[20:08:39 - __main__] Starting fastq (16 of 211)\n",
      "\t/path/to/data/MinION_sequencing_data_20190809/guppy_3.2.2_exec_20190809/pass/fastq_runid_536cafc874cb995b6c8b47a5baabb9598eaded02_3_3.fastq\n"
     ]
    },
    {
     "name": "stdout",
     "output_type": "stream",
     "text": [
      "[########################################] | 100% Completed |  1.0s\n",
      "[########################################] | 100% Completed |  1.0s\n",
      "[########################################] | 100% Completed |  1.0s\n",
      "[########################################] | 100% Completed |  1.1s\n",
      "[########################################] | 100% Completed |  1.2s\n",
      "[########################################] | 100% Completed |  1.2s\n",
      "[########################################] | 100% Completed |  1.3s\n",
      "[########################################] | 100% Completed |  1.3s\n",
      "[########################################] | 100% Completed |  1.3s\n",
      "[########################################] | 100% Completed |  1.4s\n",
      "[########################################] | 100% Completed |  1.5s\n",
      "[########################################] | 100% Completed |  1.5s\n",
      "[########################################] | 100% Completed |  1.6s\n",
      "[########################################] | 100% Completed |  1.7s\n"
     ]
    },
    {
     "name": "stderr",
     "output_type": "stream",
     "text": [
      "[20:08:41 - __main__] Saving to file: /path/to/data/MinION_sequencing_data_20190809/guppy_3.2.2_exec_20190809/sw/fastq_runid_536cafc874cb995b6c8b47a5baabb9598eaded02_3_3.tsv\n",
      "[20:08:41 - __main__] Starting fastq (17 of 211)\n",
      "\t/path/to/data/MinION_sequencing_data_20190809/guppy_3.2.2_exec_20190809/pass/fastq_runid_536cafc874cb995b6c8b47a5baabb9598eaded02_4_1.fastq\n"
     ]
    },
    {
     "name": "stdout",
     "output_type": "stream",
     "text": [
      "[########################################] | 100% Completed |  5.2s\n",
      "[########################################] | 100% Completed |  5.3s\n",
      "[########################################] | 100% Completed |  5.3s\n",
      "[########################################] | 100% Completed |  5.3s\n",
      "[########################################] | 100% Completed |  5.3s\n",
      "[########################################] | 100% Completed |  5.4s\n",
      "[########################################] | 100% Completed |  5.5s\n",
      "[########################################] | 100% Completed |  5.5s\n",
      "[########################################] | 100% Completed |  5.6s\n",
      "[########################################] | 100% Completed |  5.6s\n",
      "[########################################] | 100% Completed |  5.7s\n",
      "[########################################] | 100% Completed |  5.7s\n",
      "[########################################] | 100% Completed |  5.8s\n",
      "[########################################] | 100% Completed |  5.8s\n"
     ]
    },
    {
     "name": "stderr",
     "output_type": "stream",
     "text": [
      "[20:08:48 - __main__] Saving to file: /path/to/data/MinION_sequencing_data_20190809/guppy_3.2.2_exec_20190809/sw/fastq_runid_536cafc874cb995b6c8b47a5baabb9598eaded02_4_1.tsv\n",
      "[20:08:48 - __main__] Starting fastq (18 of 211)\n",
      "\t/path/to/data/MinION_sequencing_data_20190809/guppy_3.2.2_exec_20190809/pass/fastq_runid_536cafc874cb995b6c8b47a5baabb9598eaded02_4_2.fastq\n"
     ]
    },
    {
     "name": "stdout",
     "output_type": "stream",
     "text": [
      "[########################################] | 100% Completed | 35.5s\n",
      "[########################################] | 100% Completed | 35.5s\n",
      "[########################################] | 100% Completed | 35.6s\n",
      "[########################################] | 100% Completed | 35.6s\n",
      "[########################################] | 100% Completed | 35.6s\n",
      "[########################################] | 100% Completed | 35.7s\n",
      "[########################################] | 100% Completed | 35.7s\n",
      "[########################################] | 100% Completed | 35.8s\n",
      "[########################################] | 100% Completed | 35.9s\n",
      "[########################################] | 100% Completed | 35.9s\n",
      "[########################################] | 100% Completed | 36.0s\n",
      "[########################################] | 100% Completed | 36.1s\n",
      "[########################################] | 100% Completed | 36.1s\n",
      "[########################################] | 100% Completed | 36.2s\n"
     ]
    },
    {
     "name": "stderr",
     "output_type": "stream",
     "text": [
      "[20:09:25 - __main__] Saving to file: /path/to/data/MinION_sequencing_data_20190809/guppy_3.2.2_exec_20190809/sw/fastq_runid_536cafc874cb995b6c8b47a5baabb9598eaded02_4_2.tsv\n",
      "[20:09:25 - __main__] Starting fastq (19 of 211)\n",
      "\t/path/to/data/MinION_sequencing_data_20190809/guppy_3.2.2_exec_20190809/pass/fastq_runid_536cafc874cb995b6c8b47a5baabb9598eaded02_5_0.fastq\n"
     ]
    },
    {
     "name": "stdout",
     "output_type": "stream",
     "text": [
      "[########################################] | 100% Completed | 48.9s\n",
      "[########################################] | 100% Completed | 49.0s\n",
      "[########################################] | 100% Completed | 49.0s\n",
      "[########################################] | 100% Completed | 49.1s\n",
      "[########################################] | 100% Completed | 49.2s\n",
      "[########################################] | 100% Completed | 49.3s\n",
      "[########################################] | 100% Completed | 49.3s\n",
      "[########################################] | 100% Completed | 49.4s\n",
      "[########################################] | 100% Completed | 49.5s\n",
      "[########################################] | 100% Completed | 49.5s\n",
      "[########################################] | 100% Completed | 49.5s\n",
      "[########################################] | 100% Completed | 49.6s\n",
      "[########################################] | 100% Completed | 49.6s\n",
      "[########################################] | 100% Completed | 49.6s\n"
     ]
    },
    {
     "name": "stderr",
     "output_type": "stream",
     "text": [
      "[20:10:16 - __main__] Saving to file: /path/to/data/MinION_sequencing_data_20190809/guppy_3.2.2_exec_20190809/sw/fastq_runid_536cafc874cb995b6c8b47a5baabb9598eaded02_5_0.tsv\n",
      "[20:10:16 - __main__] Starting fastq (20 of 211)\n",
      "\t/path/to/data/MinION_sequencing_data_20190809/guppy_3.2.2_exec_20190809/pass/fastq_runid_536cafc874cb995b6c8b47a5baabb9598eaded02_4_3.fastq\n"
     ]
    },
    {
     "name": "stdout",
     "output_type": "stream",
     "text": [
      "[########################################] | 100% Completed |  1min 17.5s\n",
      "[########################################] | 100% Completed |  1min 17.6s\n",
      "[########################################] | 100% Completed |  1min 17.7s\n",
      "[########################################] | 100% Completed |  1min 17.8s\n",
      "[########################################] | 100% Completed |  1min 17.9s\n",
      "[########################################] | 100% Completed |  1min 17.9s\n",
      "[########################################] | 100% Completed |  1min 18.0s\n",
      "[########################################] | 100% Completed |  1min 18.0s\n",
      "[########################################] | 100% Completed |  1min 18.1s\n",
      "[########################################] | 100% Completed |  1min 18.2s\n",
      "[########################################] | 100% Completed |  1min 18.3s\n",
      "[########################################] | 100% Completed |  1min 18.3s\n",
      "[########################################] | 100% Completed |  1min 18.3s\n",
      "[########################################] | 100% Completed |  1min 18.3s\n"
     ]
    },
    {
     "name": "stderr",
     "output_type": "stream",
     "text": [
      "[20:11:35 - __main__] Saving to file: /path/to/data/MinION_sequencing_data_20190809/guppy_3.2.2_exec_20190809/sw/fastq_runid_536cafc874cb995b6c8b47a5baabb9598eaded02_4_3.tsv\n",
      "[20:11:35 - __main__] Starting fastq (21 of 211)\n",
      "\t/path/to/data/MinION_sequencing_data_20190809/guppy_3.2.2_exec_20190809/pass/fastq_runid_536cafc874cb995b6c8b47a5baabb9598eaded02_5_1.fastq\n"
     ]
    },
    {
     "name": "stdout",
     "output_type": "stream",
     "text": [
      "[########################################] | 100% Completed | 48.7s\n",
      "[########################################] | 100% Completed | 48.8s\n",
      "[########################################] | 100% Completed | 48.9s\n",
      "[########################################] | 100% Completed | 48.9s\n",
      "[########################################] | 100% Completed | 49.0s\n",
      "[########################################] | 100% Completed | 49.1s\n",
      "[########################################] | 100% Completed | 49.1s\n",
      "[########################################] | 100% Completed | 49.1s\n",
      "[########################################] | 100% Completed | 49.2s\n",
      "[########################################] | 100% Completed | 49.3s\n",
      "[########################################] | 100% Completed | 49.3s\n",
      "[########################################] | 100% Completed | 49.4s\n",
      "[########################################] | 100% Completed | 49.4s\n",
      "[########################################] | 100% Completed | 49.5s\n"
     ]
    },
    {
     "name": "stderr",
     "output_type": "stream",
     "text": [
      "[20:12:26 - __main__] Saving to file: /path/to/data/MinION_sequencing_data_20190809/guppy_3.2.2_exec_20190809/sw/fastq_runid_536cafc874cb995b6c8b47a5baabb9598eaded02_5_1.tsv\n",
      "[20:12:26 - __main__] Starting fastq (22 of 211)\n",
      "\t/path/to/data/MinION_sequencing_data_20190809/guppy_3.2.2_exec_20190809/pass/fastq_runid_536cafc874cb995b6c8b47a5baabb9598eaded02_5_2.fastq\n"
     ]
    },
    {
     "name": "stdout",
     "output_type": "stream",
     "text": [
      "[########################################] | 100% Completed | 30.0s\n",
      "[########################################] | 100% Completed | 30.1s\n",
      "[########################################] | 100% Completed | 30.1s\n",
      "[########################################] | 100% Completed | 30.2s\n",
      "[########################################] | 100% Completed | 30.2s\n",
      "[########################################] | 100% Completed | 30.3s\n",
      "[########################################] | 100% Completed | 30.4s\n",
      "[########################################] | 100% Completed | 30.5s\n",
      "[########################################] | 100% Completed | 30.6s\n",
      "[########################################] | 100% Completed | 30.7s\n",
      "[########################################] | 100% Completed | 30.8s\n",
      "[########################################] | 100% Completed | 30.8s\n",
      "[########################################] | 100% Completed | 30.9s\n",
      "[########################################] | 100% Completed | 31.0s\n"
     ]
    },
    {
     "name": "stderr",
     "output_type": "stream",
     "text": [
      "[20:12:58 - __main__] Saving to file: /path/to/data/MinION_sequencing_data_20190809/guppy_3.2.2_exec_20190809/sw/fastq_runid_536cafc874cb995b6c8b47a5baabb9598eaded02_5_2.tsv\n",
      "[20:12:58 - __main__] Starting fastq (23 of 211)\n",
      "\t/path/to/data/MinION_sequencing_data_20190809/guppy_3.2.2_exec_20190809/pass/fastq_runid_536cafc874cb995b6c8b47a5baabb9598eaded02_6_0.fastq\n"
     ]
    },
    {
     "name": "stdout",
     "output_type": "stream",
     "text": [
      "[########################################] | 100% Completed |  1min 21.5s\n",
      "[########################################] | 100% Completed |  1min 21.6s\n",
      "[########################################] | 100% Completed |  1min 21.7s\n",
      "[########################################] | 100% Completed |  1min 21.8s\n",
      "[########################################] | 100% Completed |  1min 21.8s\n",
      "[########################################] | 100% Completed |  1min 21.9s\n",
      "[########################################] | 100% Completed |  1min 22.0s\n",
      "[########################################] | 100% Completed |  1min 22.0s\n",
      "[########################################] | 100% Completed |  1min 22.1s\n",
      "[########################################] | 100% Completed |  1min 22.2s\n",
      "[########################################] | 100% Completed |  1min 22.2s\n",
      "[########################################] | 100% Completed |  1min 22.3s\n",
      "[########################################] | 100% Completed |  1min 22.3s\n",
      "[########################################] | 100% Completed |  1min 22.4s\n"
     ]
    },
    {
     "name": "stderr",
     "output_type": "stream",
     "text": [
      "[20:14:21 - __main__] Saving to file: /path/to/data/MinION_sequencing_data_20190809/guppy_3.2.2_exec_20190809/sw/fastq_runid_536cafc874cb995b6c8b47a5baabb9598eaded02_6_0.tsv\n",
      "[20:14:21 - __main__] Starting fastq (24 of 211)\n",
      "\t/path/to/data/MinION_sequencing_data_20190809/guppy_3.2.2_exec_20190809/pass/fastq_runid_536cafc874cb995b6c8b47a5baabb9598eaded02_6_1.fastq\n"
     ]
    },
    {
     "name": "stdout",
     "output_type": "stream",
     "text": [
      "[########################################] | 100% Completed | 13.8s\n",
      "[########################################] | 100% Completed | 13.9s\n",
      "[########################################] | 100% Completed | 13.9s\n",
      "[########################################] | 100% Completed | 14.0s\n",
      "[########################################] | 100% Completed | 14.0s\n",
      "[########################################] | 100% Completed | 14.1s\n",
      "[########################################] | 100% Completed | 14.2s\n",
      "[########################################] | 100% Completed | 14.2s\n",
      "[########################################] | 100% Completed | 14.2s\n",
      "[########################################] | 100% Completed | 14.3s\n",
      "[########################################] | 100% Completed | 14.3s\n",
      "[########################################] | 100% Completed | 14.4s\n",
      "[########################################] | 100% Completed | 14.4s\n",
      "[########################################] | 100% Completed | 14.5s\n"
     ]
    },
    {
     "name": "stderr",
     "output_type": "stream",
     "text": [
      "[20:14:37 - __main__] Saving to file: /path/to/data/MinION_sequencing_data_20190809/guppy_3.2.2_exec_20190809/sw/fastq_runid_536cafc874cb995b6c8b47a5baabb9598eaded02_6_1.tsv\n",
      "[20:14:37 - __main__] Starting fastq (25 of 211)\n",
      "\t/path/to/data/MinION_sequencing_data_20190809/guppy_3.2.2_exec_20190809/pass/fastq_runid_536cafc874cb995b6c8b47a5baabb9598eaded02_6_2.fastq\n"
     ]
    },
    {
     "name": "stdout",
     "output_type": "stream",
     "text": [
      "[########################################] | 100% Completed |  4.5s\n",
      "[########################################] | 100% Completed |  4.6s\n",
      "[########################################] | 100% Completed |  4.7s\n",
      "[########################################] | 100% Completed |  4.7s\n",
      "[########################################] | 100% Completed |  4.7s\n",
      "[########################################] | 100% Completed |  4.8s\n",
      "[########################################] | 100% Completed |  4.9s\n",
      "[########################################] | 100% Completed |  5.0s\n",
      "[########################################] | 100% Completed |  5.0s\n",
      "[########################################] | 100% Completed |  5.1s\n",
      "[########################################] | 100% Completed |  5.1s\n",
      "[########################################] | 100% Completed |  5.2s\n",
      "[########################################] | 100% Completed |  5.3s\n",
      "[########################################] | 100% Completed |  5.3s\n"
     ]
    },
    {
     "name": "stderr",
     "output_type": "stream",
     "text": [
      "[20:14:43 - __main__] Saving to file: /path/to/data/MinION_sequencing_data_20190809/guppy_3.2.2_exec_20190809/sw/fastq_runid_536cafc874cb995b6c8b47a5baabb9598eaded02_6_2.tsv\n",
      "[20:14:43 - __main__] Starting fastq (26 of 211)\n",
      "\t/path/to/data/MinION_sequencing_data_20190809/guppy_3.2.2_exec_20190809/pass/fastq_runid_536cafc874cb995b6c8b47a5baabb9598eaded02_5_3.fastq\n"
     ]
    },
    {
     "name": "stdout",
     "output_type": "stream",
     "text": [
      "[########################################] | 100% Completed |  7.5s\n",
      "[########################################] | 100% Completed |  7.5s\n",
      "[########################################] | 100% Completed |  7.6s\n",
      "[########################################] | 100% Completed |  7.6s\n",
      "[########################################] | 100% Completed |  7.7s\n",
      "[########################################] | 100% Completed |  7.7s\n",
      "[########################################] | 100% Completed |  7.8s\n",
      "[########################################] | 100% Completed |  7.8s\n",
      "[########################################] | 100% Completed |  7.9s\n",
      "[########################################] | 100% Completed |  8.0s\n",
      "[########################################] | 100% Completed |  8.1s\n",
      "[########################################] | 100% Completed |  8.1s\n",
      "[########################################] | 100% Completed |  8.1s\n",
      "[########################################] | 100% Completed |  8.2s\n"
     ]
    },
    {
     "name": "stderr",
     "output_type": "stream",
     "text": [
      "[20:14:52 - __main__] Saving to file: /path/to/data/MinION_sequencing_data_20190809/guppy_3.2.2_exec_20190809/sw/fastq_runid_536cafc874cb995b6c8b47a5baabb9598eaded02_5_3.tsv\n",
      "[20:14:52 - __main__] Starting fastq (27 of 211)\n",
      "\t/path/to/data/MinION_sequencing_data_20190809/guppy_3.2.2_exec_20190809/pass/fastq_runid_536cafc874cb995b6c8b47a5baabb9598eaded02_7_0.fastq\n"
     ]
    },
    {
     "name": "stdout",
     "output_type": "stream",
     "text": [
      "[########################################] | 100% Completed | 50.0s\n",
      "[########################################] | 100% Completed | 50.1s\n",
      "[########################################] | 100% Completed | 50.2s\n",
      "[########################################] | 100% Completed | 50.2s\n",
      "[########################################] | 100% Completed | 50.3s\n",
      "[########################################] | 100% Completed | 50.3s\n",
      "[########################################] | 100% Completed | 50.4s\n",
      "[########################################] | 100% Completed | 50.4s\n",
      "[########################################] | 100% Completed | 50.5s\n",
      "[########################################] | 100% Completed | 50.5s\n",
      "[########################################] | 100% Completed | 50.6s\n",
      "[########################################] | 100% Completed | 50.7s\n",
      "[########################################] | 100% Completed | 50.7s\n",
      "[########################################] | 100% Completed | 50.7s\n"
     ]
    },
    {
     "name": "stderr",
     "output_type": "stream",
     "text": [
      "[20:15:44 - __main__] Saving to file: /path/to/data/MinION_sequencing_data_20190809/guppy_3.2.2_exec_20190809/sw/fastq_runid_536cafc874cb995b6c8b47a5baabb9598eaded02_7_0.tsv\n",
      "[20:15:44 - __main__] Starting fastq (28 of 211)\n",
      "\t/path/to/data/MinION_sequencing_data_20190809/guppy_3.2.2_exec_20190809/pass/fastq_runid_536cafc874cb995b6c8b47a5baabb9598eaded02_6_3.fastq\n"
     ]
    },
    {
     "name": "stdout",
     "output_type": "stream",
     "text": [
      "[########################################] | 100% Completed | 34.7s\n",
      "[########################################] | 100% Completed | 34.8s\n",
      "[########################################] | 100% Completed | 34.9s\n",
      "[########################################] | 100% Completed | 34.9s\n",
      "[########################################] | 100% Completed | 34.9s\n",
      "[########################################] | 100% Completed | 35.0s\n",
      "[########################################] | 100% Completed | 35.0s\n",
      "[########################################] | 100% Completed | 35.1s\n",
      "[########################################] | 100% Completed | 35.2s\n",
      "[########################################] | 100% Completed | 35.2s\n",
      "[########################################] | 100% Completed | 35.2s\n",
      "[########################################] | 100% Completed | 35.3s\n",
      "[########################################] | 100% Completed | 35.4s\n",
      "[########################################] | 100% Completed | 35.4s\n"
     ]
    },
    {
     "name": "stderr",
     "output_type": "stream",
     "text": [
      "[20:16:20 - __main__] Saving to file: /path/to/data/MinION_sequencing_data_20190809/guppy_3.2.2_exec_20190809/sw/fastq_runid_536cafc874cb995b6c8b47a5baabb9598eaded02_6_3.tsv\n",
      "[20:16:21 - __main__] Starting fastq (29 of 211)\n",
      "\t/path/to/data/MinION_sequencing_data_20190809/guppy_3.2.2_exec_20190809/pass/fastq_runid_536cafc874cb995b6c8b47a5baabb9598eaded02_7_1.fastq\n"
     ]
    },
    {
     "name": "stdout",
     "output_type": "stream",
     "text": [
      "[########################################] | 100% Completed |  2.6s\n",
      "[########################################] | 100% Completed |  2.6s\n",
      "[########################################] | 100% Completed |  2.7s\n",
      "[########################################] | 100% Completed |  2.8s\n",
      "[########################################] | 100% Completed |  2.9s\n",
      "[########################################] | 100% Completed |  3.0s\n",
      "[########################################] | 100% Completed |  3.1s\n",
      "[########################################] | 100% Completed |  3.1s\n",
      "[########################################] | 100% Completed |  3.3s\n",
      "[########################################] | 100% Completed |  3.3s\n",
      "[########################################] | 100% Completed |  3.3s\n",
      "[########################################] | 100% Completed |  3.4s\n",
      "[########################################] | 100% Completed |  3.4s\n",
      "[########################################] | 100% Completed |  3.5s\n"
     ]
    },
    {
     "name": "stderr",
     "output_type": "stream",
     "text": [
      "[20:16:25 - __main__] Saving to file: /path/to/data/MinION_sequencing_data_20190809/guppy_3.2.2_exec_20190809/sw/fastq_runid_536cafc874cb995b6c8b47a5baabb9598eaded02_7_1.tsv\n",
      "[20:16:25 - __main__] Starting fastq (30 of 211)\n",
      "\t/path/to/data/MinION_sequencing_data_20190809/guppy_3.2.2_exec_20190809/pass/fastq_runid_536cafc874cb995b6c8b47a5baabb9598eaded02_7_2.fastq\n"
     ]
    },
    {
     "name": "stdout",
     "output_type": "stream",
     "text": [
      "[########################################] | 100% Completed | 16.4s\n",
      "[########################################] | 100% Completed | 16.4s\n",
      "[########################################] | 100% Completed | 16.5s\n",
      "[########################################] | 100% Completed | 16.6s\n",
      "[########################################] | 100% Completed | 16.7s\n",
      "[########################################] | 100% Completed | 16.8s\n",
      "[########################################] | 100% Completed | 16.9s\n",
      "[########################################] | 100% Completed | 16.9s\n",
      "[########################################] | 100% Completed | 16.9s\n",
      "[########################################] | 100% Completed | 17.0s\n",
      "[########################################] | 100% Completed | 17.0s\n",
      "[########################################] | 100% Completed | 17.1s\n",
      "[########################################] | 100% Completed | 17.1s\n",
      "[########################################] | 100% Completed | 17.2s\n"
     ]
    },
    {
     "name": "stderr",
     "output_type": "stream",
     "text": [
      "[20:16:43 - __main__] Saving to file: /path/to/data/MinION_sequencing_data_20190809/guppy_3.2.2_exec_20190809/sw/fastq_runid_536cafc874cb995b6c8b47a5baabb9598eaded02_7_2.tsv\n",
      "[20:16:43 - __main__] Starting fastq (31 of 211)\n",
      "\t/path/to/data/MinION_sequencing_data_20190809/guppy_3.2.2_exec_20190809/pass/fastq_runid_536cafc874cb995b6c8b47a5baabb9598eaded02_7_3.fastq\n"
     ]
    },
    {
     "name": "stdout",
     "output_type": "stream",
     "text": [
      "[########################################] | 100% Completed |  1min  6.5s\n",
      "[########################################] | 100% Completed |  1min  6.6s\n",
      "[########################################] | 100% Completed |  1min  6.7s\n",
      "[########################################] | 100% Completed |  1min  6.8s\n",
      "[########################################] | 100% Completed |  1min  6.8s\n",
      "[########################################] | 100% Completed |  1min  6.9s\n",
      "[########################################] | 100% Completed |  1min  7.0s\n",
      "[########################################] | 100% Completed |  1min  7.0s\n",
      "[########################################] | 100% Completed |  1min  7.1s\n",
      "[########################################] | 100% Completed |  1min  7.2s\n",
      "[########################################] | 100% Completed |  1min  7.3s\n",
      "[########################################] | 100% Completed |  1min  7.3s\n",
      "[########################################] | 100% Completed |  1min  7.4s\n",
      "[########################################] | 100% Completed |  1min  7.4s\n"
     ]
    },
    {
     "name": "stderr",
     "output_type": "stream",
     "text": [
      "[20:17:52 - __main__] Saving to file: /path/to/data/MinION_sequencing_data_20190809/guppy_3.2.2_exec_20190809/sw/fastq_runid_536cafc874cb995b6c8b47a5baabb9598eaded02_7_3.tsv\n",
      "[20:17:52 - __main__] Starting fastq (32 of 211)\n",
      "\t/path/to/data/MinION_sequencing_data_20190809/guppy_3.2.2_exec_20190809/pass/fastq_runid_536cafc874cb995b6c8b47a5baabb9598eaded02_8_0.fastq\n"
     ]
    },
    {
     "name": "stdout",
     "output_type": "stream",
     "text": [
      "[########################################] | 100% Completed |  1min  5.1s\n",
      "[########################################] | 100% Completed |  1min  5.2s\n",
      "[########################################] | 100% Completed |  1min  5.3s\n",
      "[########################################] | 100% Completed |  1min  5.3s\n",
      "[########################################] | 100% Completed |  1min  5.4s\n",
      "[########################################] | 100% Completed |  1min  5.5s\n",
      "[########################################] | 100% Completed |  1min  5.6s\n",
      "[########################################] | 100% Completed |  1min  5.6s\n",
      "[########################################] | 100% Completed |  1min  5.6s\n",
      "[########################################] | 100% Completed |  1min  5.7s\n",
      "[########################################] | 100% Completed |  1min  5.8s\n",
      "[########################################] | 100% Completed |  1min  5.8s\n",
      "[########################################] | 100% Completed |  1min  5.8s\n",
      "[########################################] | 100% Completed |  1min  5.9s\n"
     ]
    },
    {
     "name": "stderr",
     "output_type": "stream",
     "text": [
      "[20:18:59 - __main__] Saving to file: /path/to/data/MinION_sequencing_data_20190809/guppy_3.2.2_exec_20190809/sw/fastq_runid_536cafc874cb995b6c8b47a5baabb9598eaded02_8_0.tsv\n",
      "[20:18:59 - __main__] Starting fastq (33 of 211)\n",
      "\t/path/to/data/MinION_sequencing_data_20190809/guppy_3.2.2_exec_20190809/pass/fastq_runid_536cafc874cb995b6c8b47a5baabb9598eaded02_8_1.fastq\n"
     ]
    },
    {
     "name": "stdout",
     "output_type": "stream",
     "text": [
      "[########################################] | 100% Completed | 40.0s\n",
      "[########################################] | 100% Completed | 40.0s\n",
      "[########################################] | 100% Completed | 40.0s\n",
      "[########################################] | 100% Completed | 40.1s\n",
      "[########################################] | 100% Completed | 40.2s\n",
      "[########################################] | 100% Completed | 40.3s\n",
      "[########################################] | 100% Completed | 40.3s\n",
      "[########################################] | 100% Completed | 40.4s\n",
      "[########################################] | 100% Completed | 40.4s\n",
      "[########################################] | 100% Completed | 40.5s\n",
      "[########################################] | 100% Completed | 40.5s\n",
      "[########################################] | 100% Completed | 40.6s\n",
      "[########################################] | 100% Completed | 40.6s\n",
      "[########################################] | 100% Completed | 40.7s\n"
     ]
    },
    {
     "name": "stderr",
     "output_type": "stream",
     "text": [
      "[20:19:41 - __main__] Saving to file: /path/to/data/MinION_sequencing_data_20190809/guppy_3.2.2_exec_20190809/sw/fastq_runid_536cafc874cb995b6c8b47a5baabb9598eaded02_8_1.tsv\n",
      "[20:19:41 - __main__] Starting fastq (34 of 211)\n",
      "\t/path/to/data/MinION_sequencing_data_20190809/guppy_3.2.2_exec_20190809/pass/fastq_runid_536cafc874cb995b6c8b47a5baabb9598eaded02_9_0.fastq\n"
     ]
    },
    {
     "name": "stdout",
     "output_type": "stream",
     "text": [
      "[########################################] | 100% Completed |  1min  5.5s\n",
      "[########################################] | 100% Completed |  1min  5.5s\n",
      "[########################################] | 100% Completed |  1min  5.6s\n",
      "[########################################] | 100% Completed |  1min  5.7s\n",
      "[########################################] | 100% Completed |  1min  5.7s\n",
      "[########################################] | 100% Completed |  1min  5.8s\n",
      "[########################################] | 100% Completed |  1min  5.9s\n",
      "[########################################] | 100% Completed |  1min  6.0s\n",
      "[########################################] | 100% Completed |  1min  6.0s\n",
      "[########################################] | 100% Completed |  1min  6.1s\n",
      "[########################################] | 100% Completed |  1min  6.1s\n",
      "[########################################] | 100% Completed |  1min  6.2s\n",
      "[########################################] | 100% Completed |  1min  6.3s\n",
      "[########################################] | 100% Completed |  1min  6.3s\n"
     ]
    },
    {
     "name": "stderr",
     "output_type": "stream",
     "text": [
      "[20:20:48 - __main__] Saving to file: /path/to/data/MinION_sequencing_data_20190809/guppy_3.2.2_exec_20190809/sw/fastq_runid_536cafc874cb995b6c8b47a5baabb9598eaded02_9_0.tsv\n",
      "[20:20:48 - __main__] Starting fastq (35 of 211)\n",
      "\t/path/to/data/MinION_sequencing_data_20190809/guppy_3.2.2_exec_20190809/pass/fastq_runid_536cafc874cb995b6c8b47a5baabb9598eaded02_8_2.fastq\n"
     ]
    },
    {
     "name": "stdout",
     "output_type": "stream",
     "text": [
      "[########################################] | 100% Completed | 30.4s\n",
      "[########################################] | 100% Completed | 30.4s\n",
      "[########################################] | 100% Completed | 30.5s\n",
      "[########################################] | 100% Completed | 30.5s\n",
      "[########################################] | 100% Completed | 30.5s\n",
      "[########################################] | 100% Completed | 30.6s\n",
      "[########################################] | 100% Completed | 30.6s\n",
      "[########################################] | 100% Completed | 30.7s\n",
      "[########################################] | 100% Completed | 30.7s\n",
      "[########################################] | 100% Completed | 30.8s\n",
      "[########################################] | 100% Completed | 30.9s\n",
      "[########################################] | 100% Completed | 30.9s\n",
      "[########################################] | 100% Completed | 30.9s\n",
      "[########################################] | 100% Completed | 31.0s\n"
     ]
    },
    {
     "name": "stderr",
     "output_type": "stream",
     "text": [
      "[20:21:20 - __main__] Saving to file: /path/to/data/MinION_sequencing_data_20190809/guppy_3.2.2_exec_20190809/sw/fastq_runid_536cafc874cb995b6c8b47a5baabb9598eaded02_8_2.tsv\n",
      "[20:21:20 - __main__] Starting fastq (36 of 211)\n",
      "\t/path/to/data/MinION_sequencing_data_20190809/guppy_3.2.2_exec_20190809/pass/fastq_runid_536cafc874cb995b6c8b47a5baabb9598eaded02_9_1.fastq\n"
     ]
    },
    {
     "name": "stdout",
     "output_type": "stream",
     "text": [
      "[########################################] | 100% Completed | 40.6s\n",
      "[########################################] | 100% Completed | 40.7s\n",
      "[########################################] | 100% Completed | 40.8s\n",
      "[########################################] | 100% Completed | 40.8s\n",
      "[########################################] | 100% Completed | 40.9s\n",
      "[########################################] | 100% Completed | 41.0s\n",
      "[########################################] | 100% Completed | 41.0s\n",
      "[########################################] | 100% Completed | 41.1s\n",
      "[########################################] | 100% Completed | 41.2s\n",
      "[########################################] | 100% Completed | 41.3s\n",
      "[########################################] | 100% Completed | 41.3s\n",
      "[########################################] | 100% Completed | 41.3s\n",
      "[########################################] | 100% Completed | 41.4s\n",
      "[########################################] | 100% Completed | 41.5s\n"
     ]
    },
    {
     "name": "stderr",
     "output_type": "stream",
     "text": [
      "[20:22:02 - __main__] Saving to file: /path/to/data/MinION_sequencing_data_20190809/guppy_3.2.2_exec_20190809/sw/fastq_runid_536cafc874cb995b6c8b47a5baabb9598eaded02_9_1.tsv\n",
      "[20:22:03 - __main__] Starting fastq (37 of 211)\n",
      "\t/path/to/data/MinION_sequencing_data_20190809/guppy_3.2.2_exec_20190809/pass/fastq_runid_536cafc874cb995b6c8b47a5baabb9598eaded02_8_3.fastq\n"
     ]
    },
    {
     "name": "stdout",
     "output_type": "stream",
     "text": [
      "[########################################] | 100% Completed |  1.5s\n",
      "[########################################] | 100% Completed |  1.6s\n",
      "[########################################] | 100% Completed |  1.6s\n",
      "[########################################] | 100% Completed |  1.6s\n",
      "[########################################] | 100% Completed |  1.7s\n",
      "[########################################] | 100% Completed |  1.8s\n",
      "[########################################] | 100% Completed |  1.8s\n",
      "[########################################] | 100% Completed |  1.9s\n",
      "[########################################] | 100% Completed |  2.0s\n",
      "[########################################] | 100% Completed |  2.0s\n",
      "[########################################] | 100% Completed |  2.0s\n",
      "[########################################] | 100% Completed |  2.1s\n",
      "[########################################] | 100% Completed |  2.1s\n",
      "[########################################] | 100% Completed |  2.2s\n"
     ]
    },
    {
     "name": "stderr",
     "output_type": "stream",
     "text": [
      "[20:22:06 - __main__] Saving to file: /path/to/data/MinION_sequencing_data_20190809/guppy_3.2.2_exec_20190809/sw/fastq_runid_536cafc874cb995b6c8b47a5baabb9598eaded02_8_3.tsv\n",
      "[20:22:06 - __main__] Starting fastq (38 of 211)\n",
      "\t/path/to/data/MinION_sequencing_data_20190809/guppy_3.2.2_exec_20190809/pass/fastq_runid_536cafc874cb995b6c8b47a5baabb9598eaded02_9_2.fastq\n"
     ]
    },
    {
     "name": "stdout",
     "output_type": "stream",
     "text": [
      "[########################################] | 100% Completed | 14.2s\n",
      "[########################################] | 100% Completed | 14.2s\n",
      "[########################################] | 100% Completed | 14.3s\n",
      "[########################################] | 100% Completed | 14.3s\n",
      "[########################################] | 100% Completed | 14.4s\n",
      "[########################################] | 100% Completed | 14.4s\n",
      "[########################################] | 100% Completed | 14.5s\n",
      "[########################################] | 100% Completed | 14.6s\n",
      "[########################################] | 100% Completed | 14.6s\n",
      "[########################################] | 100% Completed | 14.7s\n",
      "[########################################] | 100% Completed | 14.8s\n",
      "[########################################] | 100% Completed | 14.9s\n",
      "[########################################] | 100% Completed | 14.9s\n",
      "[########################################] | 100% Completed | 14.9s\n"
     ]
    },
    {
     "name": "stderr",
     "output_type": "stream",
     "text": [
      "[20:22:21 - __main__] Saving to file: /path/to/data/MinION_sequencing_data_20190809/guppy_3.2.2_exec_20190809/sw/fastq_runid_536cafc874cb995b6c8b47a5baabb9598eaded02_9_2.tsv\n",
      "[20:22:21 - __main__] Starting fastq (39 of 211)\n",
      "\t/path/to/data/MinION_sequencing_data_20190809/guppy_3.2.2_exec_20190809/pass/fastq_runid_536cafc874cb995b6c8b47a5baabb9598eaded02_10_0.fastq\n"
     ]
    },
    {
     "name": "stdout",
     "output_type": "stream",
     "text": [
      "[########################################] | 100% Completed | 40.0s\n",
      "[########################################] | 100% Completed | 40.1s\n",
      "[########################################] | 100% Completed | 40.2s\n",
      "[########################################] | 100% Completed | 40.2s\n",
      "[########################################] | 100% Completed | 40.3s\n",
      "[########################################] | 100% Completed | 40.3s\n",
      "[########################################] | 100% Completed | 40.4s\n",
      "[########################################] | 100% Completed | 40.4s\n",
      "[########################################] | 100% Completed | 40.5s\n",
      "[########################################] | 100% Completed | 40.6s\n",
      "[########################################] | 100% Completed | 40.6s\n",
      "[########################################] | 100% Completed | 40.7s\n",
      "[########################################] | 100% Completed | 40.7s\n",
      "[########################################] | 100% Completed | 40.8s\n"
     ]
    },
    {
     "name": "stderr",
     "output_type": "stream",
     "text": [
      "[20:23:03 - __main__] Saving to file: /path/to/data/MinION_sequencing_data_20190809/guppy_3.2.2_exec_20190809/sw/fastq_runid_536cafc874cb995b6c8b47a5baabb9598eaded02_10_0.tsv\n",
      "[20:23:03 - __main__] Starting fastq (40 of 211)\n",
      "\t/path/to/data/MinION_sequencing_data_20190809/guppy_3.2.2_exec_20190809/pass/fastq_runid_536cafc874cb995b6c8b47a5baabb9598eaded02_10_1.fastq\n"
     ]
    },
    {
     "name": "stdout",
     "output_type": "stream",
     "text": [
      "[########################################] | 100% Completed | 17.3s\n",
      "[########################################] | 100% Completed | 17.4s\n",
      "[########################################] | 100% Completed | 17.5s\n",
      "[########################################] | 100% Completed | 17.5s\n",
      "[########################################] | 100% Completed | 17.5s\n",
      "[########################################] | 100% Completed | 17.6s\n",
      "[########################################] | 100% Completed | 17.7s\n",
      "[########################################] | 100% Completed | 17.7s\n",
      "[########################################] | 100% Completed | 17.8s\n",
      "[########################################] | 100% Completed | 17.9s\n",
      "[########################################] | 100% Completed | 17.9s\n",
      "[########################################] | 100% Completed | 18.0s\n",
      "[########################################] | 100% Completed | 18.0s\n",
      "[########################################] | 100% Completed | 18.1s\n"
     ]
    },
    {
     "name": "stderr",
     "output_type": "stream",
     "text": [
      "[20:23:22 - __main__] Saving to file: /path/to/data/MinION_sequencing_data_20190809/guppy_3.2.2_exec_20190809/sw/fastq_runid_536cafc874cb995b6c8b47a5baabb9598eaded02_10_1.tsv\n",
      "[20:23:22 - __main__] Starting fastq (41 of 211)\n",
      "\t/path/to/data/MinION_sequencing_data_20190809/guppy_3.2.2_exec_20190809/pass/fastq_runid_536cafc874cb995b6c8b47a5baabb9598eaded02_9_3.fastq\n"
     ]
    },
    {
     "name": "stdout",
     "output_type": "stream",
     "text": [
      "[########################################] | 100% Completed | 18.4s\n",
      "[########################################] | 100% Completed | 18.4s\n",
      "[########################################] | 100% Completed | 18.4s\n",
      "[########################################] | 100% Completed | 18.5s\n",
      "[########################################] | 100% Completed | 18.5s\n",
      "[########################################] | 100% Completed | 18.6s\n",
      "[########################################] | 100% Completed | 18.6s\n",
      "[########################################] | 100% Completed | 18.7s\n",
      "[########################################] | 100% Completed | 18.8s\n",
      "[########################################] | 100% Completed | 18.8s\n",
      "[########################################] | 100% Completed | 18.8s\n",
      "[########################################] | 100% Completed | 18.9s\n",
      "[########################################] | 100% Completed | 19.0s\n",
      "[########################################] | 100% Completed | 19.1s\n"
     ]
    },
    {
     "name": "stderr",
     "output_type": "stream",
     "text": [
      "[20:23:42 - __main__] Saving to file: /path/to/data/MinION_sequencing_data_20190809/guppy_3.2.2_exec_20190809/sw/fastq_runid_536cafc874cb995b6c8b47a5baabb9598eaded02_9_3.tsv\n",
      "[20:23:42 - __main__] Starting fastq (42 of 211)\n",
      "\t/path/to/data/MinION_sequencing_data_20190809/guppy_3.2.2_exec_20190809/pass/fastq_runid_536cafc874cb995b6c8b47a5baabb9598eaded02_10_2.fastq\n"
     ]
    },
    {
     "name": "stdout",
     "output_type": "stream",
     "text": [
      "[########################################] | 100% Completed | 31.2s\n",
      "[########################################] | 100% Completed | 31.3s\n",
      "[########################################] | 100% Completed | 31.4s\n",
      "[########################################] | 100% Completed | 31.5s\n",
      "[########################################] | 100% Completed | 31.5s\n",
      "[########################################] | 100% Completed | 31.5s\n",
      "[########################################] | 100% Completed | 31.5s\n",
      "[########################################] | 100% Completed | 31.6s\n",
      "[########################################] | 100% Completed | 31.7s\n",
      "[########################################] | 100% Completed | 31.7s\n",
      "[########################################] | 100% Completed | 31.8s\n",
      "[########################################] | 100% Completed | 31.8s\n",
      "[########################################] | 100% Completed | 31.9s\n",
      "[########################################] | 100% Completed | 31.9s\n"
     ]
    },
    {
     "name": "stderr",
     "output_type": "stream",
     "text": [
      "[20:24:15 - __main__] Saving to file: /path/to/data/MinION_sequencing_data_20190809/guppy_3.2.2_exec_20190809/sw/fastq_runid_536cafc874cb995b6c8b47a5baabb9598eaded02_10_2.tsv\n",
      "[20:24:15 - __main__] Starting fastq (43 of 211)\n",
      "\t/path/to/data/MinION_sequencing_data_20190809/guppy_3.2.2_exec_20190809/pass/fastq_runid_536cafc874cb995b6c8b47a5baabb9598eaded02_11_0.fastq\n"
     ]
    },
    {
     "name": "stdout",
     "output_type": "stream",
     "text": [
      "[########################################] | 100% Completed | 39.3s\n",
      "[########################################] | 100% Completed | 39.4s\n",
      "[########################################] | 100% Completed | 39.5s\n",
      "[########################################] | 100% Completed | 39.5s\n",
      "[########################################] | 100% Completed | 39.5s\n",
      "[########################################] | 100% Completed | 39.5s\n",
      "[########################################] | 100% Completed | 39.6s\n",
      "[########################################] | 100% Completed | 39.6s\n",
      "[########################################] | 100% Completed | 39.7s\n",
      "[########################################] | 100% Completed | 39.7s\n",
      "[########################################] | 100% Completed | 39.8s\n",
      "[########################################] | 100% Completed | 39.9s\n",
      "[########################################] | 100% Completed | 39.9s\n",
      "[########################################] | 100% Completed | 40.0s\n"
     ]
    },
    {
     "name": "stderr",
     "output_type": "stream",
     "text": [
      "[20:24:56 - __main__] Saving to file: /path/to/data/MinION_sequencing_data_20190809/guppy_3.2.2_exec_20190809/sw/fastq_runid_536cafc874cb995b6c8b47a5baabb9598eaded02_11_0.tsv\n",
      "[20:24:56 - __main__] Starting fastq (44 of 211)\n",
      "\t/path/to/data/MinION_sequencing_data_20190809/guppy_3.2.2_exec_20190809/pass/fastq_runid_536cafc874cb995b6c8b47a5baabb9598eaded02_11_1.fastq\n"
     ]
    },
    {
     "name": "stdout",
     "output_type": "stream",
     "text": [
      "[########################################] | 100% Completed | 30.2s\n",
      "[########################################] | 100% Completed | 30.3s\n",
      "[########################################] | 100% Completed | 30.3s\n",
      "[########################################] | 100% Completed | 30.4s\n",
      "[########################################] | 100% Completed | 30.5s\n",
      "[########################################] | 100% Completed | 30.6s\n",
      "[########################################] | 100% Completed | 30.6s\n",
      "[########################################] | 100% Completed | 30.6s\n",
      "[########################################] | 100% Completed | 30.7s\n",
      "[########################################] | 100% Completed | 30.7s\n",
      "[########################################] | 100% Completed | 30.7s\n",
      "[########################################] | 100% Completed | 30.8s\n",
      "[########################################] | 100% Completed | 30.8s\n",
      "[########################################] | 100% Completed | 30.8s\n"
     ]
    },
    {
     "name": "stderr",
     "output_type": "stream",
     "text": [
      "[20:25:28 - __main__] Saving to file: /path/to/data/MinION_sequencing_data_20190809/guppy_3.2.2_exec_20190809/sw/fastq_runid_536cafc874cb995b6c8b47a5baabb9598eaded02_11_1.tsv\n",
      "[20:25:28 - __main__] Starting fastq (45 of 211)\n",
      "\t/path/to/data/MinION_sequencing_data_20190809/guppy_3.2.2_exec_20190809/pass/fastq_runid_536cafc874cb995b6c8b47a5baabb9598eaded02_10_3.fastq\n"
     ]
    },
    {
     "name": "stdout",
     "output_type": "stream",
     "text": [
      "[########################################] | 100% Completed | 49.2s\n",
      "[########################################] | 100% Completed | 49.2s\n",
      "[########################################] | 100% Completed | 49.3s\n",
      "[########################################] | 100% Completed | 49.4s\n",
      "[########################################] | 100% Completed | 49.4s\n",
      "[########################################] | 100% Completed | 49.5s\n",
      "[########################################] | 100% Completed | 49.6s\n",
      "[########################################] | 100% Completed | 49.6s\n",
      "[########################################] | 100% Completed | 49.7s\n",
      "[########################################] | 100% Completed | 49.8s\n",
      "[########################################] | 100% Completed | 49.8s\n",
      "[########################################] | 100% Completed | 49.9s\n",
      "[########################################] | 100% Completed | 50.0s\n",
      "[########################################] | 100% Completed | 50.1s\n"
     ]
    },
    {
     "name": "stderr",
     "output_type": "stream",
     "text": [
      "[20:26:19 - __main__] Saving to file: /path/to/data/MinION_sequencing_data_20190809/guppy_3.2.2_exec_20190809/sw/fastq_runid_536cafc874cb995b6c8b47a5baabb9598eaded02_10_3.tsv\n",
      "[20:26:19 - __main__] Starting fastq (46 of 211)\n",
      "\t/path/to/data/MinION_sequencing_data_20190809/guppy_3.2.2_exec_20190809/pass/fastq_runid_536cafc874cb995b6c8b47a5baabb9598eaded02_11_2.fastq\n"
     ]
    },
    {
     "name": "stdout",
     "output_type": "stream",
     "text": [
      "[########################################] | 100% Completed |  1min  5.7s\n",
      "[########################################] | 100% Completed |  1min  5.7s\n",
      "[########################################] | 100% Completed |  1min  5.7s\n",
      "[########################################] | 100% Completed |  1min  5.8s\n",
      "[########################################] | 100% Completed |  1min  5.9s\n",
      "[########################################] | 100% Completed |  1min  6.0s\n",
      "[########################################] | 100% Completed |  1min  6.1s\n",
      "[########################################] | 100% Completed |  1min  6.2s\n",
      "[########################################] | 100% Completed |  1min  6.2s\n",
      "[########################################] | 100% Completed |  1min  6.2s\n",
      "[########################################] | 100% Completed |  1min  6.3s\n",
      "[########################################] | 100% Completed |  1min  6.3s\n",
      "[########################################] | 100% Completed |  1min  6.4s\n",
      "[########################################] | 100% Completed |  1min  6.5s\n"
     ]
    },
    {
     "name": "stderr",
     "output_type": "stream",
     "text": [
      "[20:27:27 - __main__] Saving to file: /path/to/data/MinION_sequencing_data_20190809/guppy_3.2.2_exec_20190809/sw/fastq_runid_536cafc874cb995b6c8b47a5baabb9598eaded02_11_2.tsv\n",
      "[20:27:27 - __main__] Starting fastq (47 of 211)\n",
      "\t/path/to/data/MinION_sequencing_data_20190809/guppy_3.2.2_exec_20190809/pass/fastq_runid_536cafc874cb995b6c8b47a5baabb9598eaded02_12_0.fastq\n"
     ]
    },
    {
     "name": "stdout",
     "output_type": "stream",
     "text": [
      "[########################################] | 100% Completed |  1min 13.2s\n",
      "[########################################] | 100% Completed |  1min 13.3s\n",
      "[########################################] | 100% Completed |  1min 13.3s\n",
      "[########################################] | 100% Completed |  1min 13.4s\n",
      "[########################################] | 100% Completed |  1min 13.4s\n",
      "[########################################] | 100% Completed |  1min 13.5s\n",
      "[########################################] | 100% Completed |  1min 13.5s\n",
      "[########################################] | 100% Completed |  1min 13.6s\n",
      "[########################################] | 100% Completed |  1min 13.7s\n",
      "[########################################] | 100% Completed |  1min 13.8s\n",
      "[########################################] | 100% Completed |  1min 13.8s\n",
      "[########################################] | 100% Completed |  1min 13.9s\n",
      "[########################################] | 100% Completed |  1min 13.9s\n",
      "[########################################] | 100% Completed |  1min 14.0s\n"
     ]
    },
    {
     "name": "stderr",
     "output_type": "stream",
     "text": [
      "[20:28:42 - __main__] Saving to file: /path/to/data/MinION_sequencing_data_20190809/guppy_3.2.2_exec_20190809/sw/fastq_runid_536cafc874cb995b6c8b47a5baabb9598eaded02_12_0.tsv\n",
      "[20:28:42 - __main__] Starting fastq (48 of 211)\n",
      "\t/path/to/data/MinION_sequencing_data_20190809/guppy_3.2.2_exec_20190809/pass/fastq_runid_536cafc874cb995b6c8b47a5baabb9598eaded02_11_3.fastq\n"
     ]
    },
    {
     "name": "stdout",
     "output_type": "stream",
     "text": [
      "[########################################] | 100% Completed |  1.0s\n",
      "[########################################] | 100% Completed |  1.0s\n",
      "[########################################] | 100% Completed |  1.1s\n",
      "[########################################] | 100% Completed |  1.1s\n",
      "[########################################] | 100% Completed |  1.1s\n",
      "[########################################] | 100% Completed |  1.1s\n",
      "[########################################] | 100% Completed |  1.2s\n",
      "[########################################] | 100% Completed |  1.2s\n",
      "[########################################] | 100% Completed |  1.3s\n",
      "[########################################] | 100% Completed |  1.3s\n",
      "[########################################] | 100% Completed |  1.3s\n",
      "[########################################] | 100% Completed |  1.4s\n",
      "[########################################] | 100% Completed |  1.5s\n",
      "[########################################] | 100% Completed |  1.6s\n"
     ]
    },
    {
     "name": "stderr",
     "output_type": "stream",
     "text": [
      "[20:28:45 - __main__] Saving to file: /path/to/data/MinION_sequencing_data_20190809/guppy_3.2.2_exec_20190809/sw/fastq_runid_536cafc874cb995b6c8b47a5baabb9598eaded02_11_3.tsv\n",
      "[20:28:45 - __main__] Starting fastq (49 of 211)\n",
      "\t/path/to/data/MinION_sequencing_data_20190809/guppy_3.2.2_exec_20190809/pass/fastq_runid_536cafc874cb995b6c8b47a5baabb9598eaded02_12_1.fastq\n"
     ]
    },
    {
     "name": "stdout",
     "output_type": "stream",
     "text": [
      "[########################################] | 100% Completed |  0.9s\n",
      "[########################################] | 100% Completed |  0.9s\n",
      "[########################################] | 100% Completed |  0.9s\n",
      "[########################################] | 100% Completed |  0.9s\n",
      "[########################################] | 100% Completed |  1.0s\n",
      "[########################################] | 100% Completed |  1.1s\n",
      "[########################################] | 100% Completed |  1.1s\n",
      "[########################################] | 100% Completed |  1.2s\n",
      "[########################################] | 100% Completed |  1.3s\n",
      "[########################################] | 100% Completed |  1.3s\n",
      "[########################################] | 100% Completed |  1.3s\n",
      "[########################################] | 100% Completed |  1.4s\n",
      "[########################################] | 100% Completed |  1.5s\n",
      "[########################################] | 100% Completed |  1.5s\n"
     ]
    },
    {
     "name": "stderr",
     "output_type": "stream",
     "text": [
      "[20:28:47 - __main__] Saving to file: /path/to/data/MinION_sequencing_data_20190809/guppy_3.2.2_exec_20190809/sw/fastq_runid_536cafc874cb995b6c8b47a5baabb9598eaded02_12_1.tsv\n",
      "[20:28:47 - __main__] Starting fastq (50 of 211)\n",
      "\t/path/to/data/MinION_sequencing_data_20190809/guppy_3.2.2_exec_20190809/pass/fastq_runid_536cafc874cb995b6c8b47a5baabb9598eaded02_12_2.fastq\n"
     ]
    },
    {
     "name": "stdout",
     "output_type": "stream",
     "text": [
      "[########################################] | 100% Completed | 59.3s\n",
      "[########################################] | 100% Completed | 59.3s\n",
      "[########################################] | 100% Completed | 59.4s\n",
      "[########################################] | 100% Completed | 59.4s\n",
      "[########################################] | 100% Completed | 59.5s\n",
      "[########################################] | 100% Completed | 59.5s\n",
      "[########################################] | 100% Completed | 59.6s\n",
      "[########################################] | 100% Completed | 59.6s\n",
      "[########################################] | 100% Completed | 59.7s\n",
      "[########################################] | 100% Completed | 59.7s\n",
      "[########################################] | 100% Completed | 59.8s\n",
      "[########################################] | 100% Completed | 59.9s\n",
      "[########################################] | 100% Completed | 59.9s\n",
      "[########################################] | 100% Completed | 59.9s\n"
     ]
    },
    {
     "name": "stderr",
     "output_type": "stream",
     "text": [
      "[20:29:48 - __main__] Saving to file: /path/to/data/MinION_sequencing_data_20190809/guppy_3.2.2_exec_20190809/sw/fastq_runid_536cafc874cb995b6c8b47a5baabb9598eaded02_12_2.tsv\n",
      "[20:29:48 - __main__] Starting fastq (51 of 211)\n",
      "\t/path/to/data/MinION_sequencing_data_20190809/guppy_3.2.2_exec_20190809/pass/fastq_runid_536cafc874cb995b6c8b47a5baabb9598eaded02_12_3.fastq\n"
     ]
    },
    {
     "name": "stdout",
     "output_type": "stream",
     "text": [
      "[########################################] | 100% Completed |  4.1s\n",
      "[########################################] | 100% Completed |  4.1s\n",
      "[########################################] | 100% Completed |  4.1s\n",
      "[########################################] | 100% Completed |  4.2s\n",
      "[########################################] | 100% Completed |  4.3s\n",
      "[########################################] | 100% Completed |  4.3s\n",
      "[########################################] | 100% Completed |  4.4s\n",
      "[########################################] | 100% Completed |  4.4s\n",
      "[########################################] | 100% Completed |  4.4s\n",
      "[########################################] | 100% Completed |  4.5s\n",
      "[########################################] | 100% Completed |  4.6s\n",
      "[########################################] | 100% Completed |  4.7s\n",
      "[########################################] | 100% Completed |  4.8s\n",
      "[########################################] | 100% Completed |  4.8s\n"
     ]
    },
    {
     "name": "stderr",
     "output_type": "stream",
     "text": [
      "[20:29:54 - __main__] Saving to file: /path/to/data/MinION_sequencing_data_20190809/guppy_3.2.2_exec_20190809/sw/fastq_runid_536cafc874cb995b6c8b47a5baabb9598eaded02_12_3.tsv\n",
      "[20:29:54 - __main__] Starting fastq (52 of 211)\n",
      "\t/path/to/data/MinION_sequencing_data_20190809/guppy_3.2.2_exec_20190809/pass/fastq_runid_536cafc874cb995b6c8b47a5baabb9598eaded02_13_0.fastq\n"
     ]
    },
    {
     "name": "stdout",
     "output_type": "stream",
     "text": [
      "[########################################] | 100% Completed |  1min 17.3s\n",
      "[########################################] | 100% Completed |  1min 17.3s\n",
      "[########################################] | 100% Completed |  1min 17.4s\n",
      "[########################################] | 100% Completed |  1min 17.5s\n",
      "[########################################] | 100% Completed |  1min 17.5s\n",
      "[########################################] | 100% Completed |  1min 17.6s\n",
      "[########################################] | 100% Completed |  1min 17.6s\n",
      "[########################################] | 100% Completed |  1min 17.7s\n",
      "[########################################] | 100% Completed |  1min 17.7s\n",
      "[########################################] | 100% Completed |  1min 17.7s\n",
      "[########################################] | 100% Completed |  1min 17.8s\n",
      "[########################################] | 100% Completed |  1min 17.9s\n",
      "[########################################] | 100% Completed |  1min 17.9s\n",
      "[########################################] | 100% Completed |  1min 18.0s\n"
     ]
    },
    {
     "name": "stderr",
     "output_type": "stream",
     "text": [
      "[20:31:13 - __main__] Saving to file: /path/to/data/MinION_sequencing_data_20190809/guppy_3.2.2_exec_20190809/sw/fastq_runid_536cafc874cb995b6c8b47a5baabb9598eaded02_13_0.tsv\n",
      "[20:31:13 - __main__] Starting fastq (53 of 211)\n",
      "\t/path/to/data/MinION_sequencing_data_20190809/guppy_3.2.2_exec_20190809/pass/fastq_runid_536cafc874cb995b6c8b47a5baabb9598eaded02_13_1.fastq\n"
     ]
    },
    {
     "name": "stdout",
     "output_type": "stream",
     "text": [
      "[########################################] | 100% Completed | 50.3s\n",
      "[########################################] | 100% Completed | 50.4s\n",
      "[########################################] | 100% Completed | 50.4s\n",
      "[########################################] | 100% Completed | 50.4s\n",
      "[########################################] | 100% Completed | 50.5s\n",
      "[########################################] | 100% Completed | 50.6s\n",
      "[########################################] | 100% Completed | 50.6s\n",
      "[########################################] | 100% Completed | 50.7s\n",
      "[########################################] | 100% Completed | 50.7s\n",
      "[########################################] | 100% Completed | 50.8s\n",
      "[########################################] | 100% Completed | 50.9s\n",
      "[########################################] | 100% Completed | 50.9s\n",
      "[########################################] | 100% Completed | 51.0s\n",
      "[########################################] | 100% Completed | 51.0s\n"
     ]
    },
    {
     "name": "stderr",
     "output_type": "stream",
     "text": [
      "[20:32:05 - __main__] Saving to file: /path/to/data/MinION_sequencing_data_20190809/guppy_3.2.2_exec_20190809/sw/fastq_runid_536cafc874cb995b6c8b47a5baabb9598eaded02_13_1.tsv\n",
      "[20:32:05 - __main__] Starting fastq (54 of 211)\n",
      "\t/path/to/data/MinION_sequencing_data_20190809/guppy_3.2.2_exec_20190809/pass/fastq_runid_536cafc874cb995b6c8b47a5baabb9598eaded02_14_0.fastq\n"
     ]
    },
    {
     "name": "stdout",
     "output_type": "stream",
     "text": [
      "[########################################] | 100% Completed |  1min  7.7s\n",
      "[########################################] | 100% Completed |  1min  7.8s\n",
      "[########################################] | 100% Completed |  1min  7.8s\n",
      "[########################################] | 100% Completed |  1min  7.9s\n",
      "[########################################] | 100% Completed |  1min  8.0s\n",
      "[########################################] | 100% Completed |  1min  8.0s\n",
      "[########################################] | 100% Completed |  1min  8.1s\n",
      "[########################################] | 100% Completed |  1min  8.2s\n",
      "[########################################] | 100% Completed |  1min  8.2s\n",
      "[########################################] | 100% Completed |  1min  8.3s\n",
      "[########################################] | 100% Completed |  1min  8.4s\n",
      "[########################################] | 100% Completed |  1min  8.4s\n",
      "[########################################] | 100% Completed |  1min  8.4s\n",
      "[########################################] | 100% Completed |  1min  8.4s\n"
     ]
    },
    {
     "name": "stderr",
     "output_type": "stream",
     "text": [
      "[20:33:14 - __main__] Saving to file: /path/to/data/MinION_sequencing_data_20190809/guppy_3.2.2_exec_20190809/sw/fastq_runid_536cafc874cb995b6c8b47a5baabb9598eaded02_14_0.tsv\n",
      "[20:33:14 - __main__] Starting fastq (55 of 211)\n",
      "\t/path/to/data/MinION_sequencing_data_20190809/guppy_3.2.2_exec_20190809/pass/fastq_runid_536cafc874cb995b6c8b47a5baabb9598eaded02_13_2.fastq\n"
     ]
    },
    {
     "name": "stdout",
     "output_type": "stream",
     "text": [
      "[########################################] | 100% Completed |  9.4s\n",
      "[########################################] | 100% Completed |  9.5s\n",
      "[########################################] | 100% Completed |  9.6s\n",
      "[########################################] | 100% Completed |  9.7s\n",
      "[########################################] | 100% Completed |  9.8s\n",
      "[########################################] | 100% Completed |  9.8s\n",
      "[########################################] | 100% Completed |  9.8s\n",
      "[########################################] | 100% Completed |  9.9s\n",
      "[########################################] | 100% Completed | 10.0s\n",
      "[########################################] | 100% Completed | 10.0s\n",
      "[########################################] | 100% Completed | 10.1s\n",
      "[########################################] | 100% Completed | 10.2s\n",
      "[########################################] | 100% Completed | 10.2s\n",
      "[########################################] | 100% Completed | 10.3s\n"
     ]
    },
    {
     "name": "stderr",
     "output_type": "stream",
     "text": [
      "[20:33:26 - __main__] Saving to file: /path/to/data/MinION_sequencing_data_20190809/guppy_3.2.2_exec_20190809/sw/fastq_runid_536cafc874cb995b6c8b47a5baabb9598eaded02_13_2.tsv\n",
      "[20:33:26 - __main__] Starting fastq (56 of 211)\n",
      "\t/path/to/data/MinION_sequencing_data_20190809/guppy_3.2.2_exec_20190809/pass/fastq_runid_536cafc874cb995b6c8b47a5baabb9598eaded02_14_1.fastq\n"
     ]
    },
    {
     "name": "stdout",
     "output_type": "stream",
     "text": [
      "[########################################] | 100% Completed | 33.0s\n",
      "[########################################] | 100% Completed | 33.0s\n",
      "[########################################] | 100% Completed | 33.0s\n",
      "[########################################] | 100% Completed | 33.1s\n",
      "[########################################] | 100% Completed | 33.1s\n",
      "[########################################] | 100% Completed | 33.2s\n",
      "[########################################] | 100% Completed | 33.2s\n",
      "[########################################] | 100% Completed | 33.2s\n",
      "[########################################] | 100% Completed | 33.2s\n",
      "[########################################] | 100% Completed | 33.3s\n",
      "[########################################] | 100% Completed | 33.4s\n",
      "[########################################] | 100% Completed | 33.4s\n",
      "[########################################] | 100% Completed | 33.5s\n",
      "[########################################] | 100% Completed | 33.5s\n"
     ]
    },
    {
     "name": "stderr",
     "output_type": "stream",
     "text": [
      "[20:34:00 - __main__] Saving to file: /path/to/data/MinION_sequencing_data_20190809/guppy_3.2.2_exec_20190809/sw/fastq_runid_536cafc874cb995b6c8b47a5baabb9598eaded02_14_1.tsv\n",
      "[20:34:00 - __main__] Starting fastq (57 of 211)\n",
      "\t/path/to/data/MinION_sequencing_data_20190809/guppy_3.2.2_exec_20190809/pass/fastq_runid_536cafc874cb995b6c8b47a5baabb9598eaded02_13_3.fastq\n"
     ]
    },
    {
     "name": "stdout",
     "output_type": "stream",
     "text": [
      "[########################################] | 100% Completed |  1.0s\n",
      "[########################################] | 100% Completed |  1.1s\n",
      "[########################################] | 100% Completed |  1.2s\n",
      "[########################################] | 100% Completed |  1.2s\n",
      "[########################################] | 100% Completed |  1.3s\n",
      "[########################################] | 100% Completed |  1.4s\n",
      "[########################################] | 100% Completed |  1.4s\n",
      "[########################################] | 100% Completed |  1.5s\n",
      "[########################################] | 100% Completed |  1.6s\n",
      "[########################################] | 100% Completed |  1.6s\n",
      "[########################################] | 100% Completed |  1.7s\n",
      "[########################################] | 100% Completed |  1.7s\n",
      "[########################################] | 100% Completed |  1.8s\n",
      "[########################################] | 100% Completed |  1.9s\n"
     ]
    },
    {
     "name": "stderr",
     "output_type": "stream",
     "text": [
      "[20:34:03 - __main__] Saving to file: /path/to/data/MinION_sequencing_data_20190809/guppy_3.2.2_exec_20190809/sw/fastq_runid_536cafc874cb995b6c8b47a5baabb9598eaded02_13_3.tsv\n",
      "[20:34:03 - __main__] Starting fastq (58 of 211)\n",
      "\t/path/to/data/MinION_sequencing_data_20190809/guppy_3.2.2_exec_20190809/pass/fastq_runid_536cafc874cb995b6c8b47a5baabb9598eaded02_14_2.fastq\n"
     ]
    },
    {
     "name": "stdout",
     "output_type": "stream",
     "text": [
      "[########################################] | 100% Completed | 23.8s\n",
      "[########################################] | 100% Completed | 23.9s\n",
      "[########################################] | 100% Completed | 23.9s\n",
      "[########################################] | 100% Completed | 24.0s\n",
      "[########################################] | 100% Completed | 24.0s\n",
      "[########################################] | 100% Completed | 24.1s\n",
      "[########################################] | 100% Completed | 24.1s\n",
      "[########################################] | 100% Completed | 24.2s\n",
      "[########################################] | 100% Completed | 24.2s\n",
      "[########################################] | 100% Completed | 24.3s\n",
      "[########################################] | 100% Completed | 24.4s\n",
      "[########################################] | 100% Completed | 24.5s\n",
      "[########################################] | 100% Completed | 24.5s\n",
      "[########################################] | 100% Completed | 24.6s\n"
     ]
    },
    {
     "name": "stderr",
     "output_type": "stream",
     "text": [
      "[20:34:28 - __main__] Saving to file: /path/to/data/MinION_sequencing_data_20190809/guppy_3.2.2_exec_20190809/sw/fastq_runid_536cafc874cb995b6c8b47a5baabb9598eaded02_14_2.tsv\n",
      "[20:34:29 - __main__] Starting fastq (59 of 211)\n",
      "\t/path/to/data/MinION_sequencing_data_20190809/guppy_3.2.2_exec_20190809/pass/fastq_runid_536cafc874cb995b6c8b47a5baabb9598eaded02_15_0.fastq\n"
     ]
    },
    {
     "name": "stdout",
     "output_type": "stream",
     "text": [
      "[########################################] | 100% Completed | 45.4s\n",
      "[########################################] | 100% Completed | 45.5s\n",
      "[########################################] | 100% Completed | 45.6s\n",
      "[########################################] | 100% Completed | 45.6s\n",
      "[########################################] | 100% Completed | 45.7s\n",
      "[########################################] | 100% Completed | 45.7s\n",
      "[########################################] | 100% Completed | 45.8s\n",
      "[########################################] | 100% Completed | 45.8s\n",
      "[########################################] | 100% Completed | 45.8s\n",
      "[########################################] | 100% Completed | 45.9s\n",
      "[########################################] | 100% Completed | 46.0s\n",
      "[########################################] | 100% Completed | 46.0s\n",
      "[########################################] | 100% Completed | 46.1s\n",
      "[########################################] | 100% Completed | 46.2s\n"
     ]
    },
    {
     "name": "stderr",
     "output_type": "stream",
     "text": [
      "[20:35:16 - __main__] Saving to file: /path/to/data/MinION_sequencing_data_20190809/guppy_3.2.2_exec_20190809/sw/fastq_runid_536cafc874cb995b6c8b47a5baabb9598eaded02_15_0.tsv\n",
      "[20:35:16 - __main__] Starting fastq (60 of 211)\n",
      "\t/path/to/data/MinION_sequencing_data_20190809/guppy_3.2.2_exec_20190809/pass/fastq_runid_536cafc874cb995b6c8b47a5baabb9598eaded02_14_3.fastq\n"
     ]
    },
    {
     "name": "stdout",
     "output_type": "stream",
     "text": [
      "[########################################] | 100% Completed | 11.9s\n",
      "[########################################] | 100% Completed | 11.9s\n",
      "[########################################] | 100% Completed | 12.0s\n",
      "[########################################] | 100% Completed | 12.0s\n",
      "[########################################] | 100% Completed | 12.1s\n",
      "[########################################] | 100% Completed | 12.1s\n",
      "[########################################] | 100% Completed | 12.2s\n",
      "[########################################] | 100% Completed | 12.3s\n",
      "[########################################] | 100% Completed | 12.4s\n",
      "[########################################] | 100% Completed | 12.4s\n",
      "[########################################] | 100% Completed | 12.5s\n",
      "[########################################] | 100% Completed | 12.6s\n",
      "[########################################] | 100% Completed | 12.6s\n",
      "[########################################] | 100% Completed | 12.7s\n"
     ]
    },
    {
     "name": "stderr",
     "output_type": "stream",
     "text": [
      "[20:35:29 - __main__] Saving to file: /path/to/data/MinION_sequencing_data_20190809/guppy_3.2.2_exec_20190809/sw/fastq_runid_536cafc874cb995b6c8b47a5baabb9598eaded02_14_3.tsv\n",
      "[20:35:29 - __main__] Starting fastq (61 of 211)\n",
      "\t/path/to/data/MinION_sequencing_data_20190809/guppy_3.2.2_exec_20190809/pass/fastq_runid_536cafc874cb995b6c8b47a5baabb9598eaded02_15_1.fastq\n"
     ]
    },
    {
     "name": "stdout",
     "output_type": "stream",
     "text": [
      "[########################################] | 100% Completed | 48.6s\n",
      "[########################################] | 100% Completed | 48.6s\n",
      "[########################################] | 100% Completed | 48.7s\n",
      "[########################################] | 100% Completed | 48.7s\n",
      "[########################################] | 100% Completed | 48.8s\n",
      "[########################################] | 100% Completed | 48.8s\n",
      "[########################################] | 100% Completed | 48.9s\n",
      "[########################################] | 100% Completed | 49.0s\n",
      "[########################################] | 100% Completed | 49.1s\n",
      "[########################################] | 100% Completed | 49.2s\n",
      "[########################################] | 100% Completed | 49.2s\n",
      "[########################################] | 100% Completed | 49.2s\n",
      "[########################################] | 100% Completed | 49.3s\n",
      "[########################################] | 100% Completed | 49.4s\n"
     ]
    },
    {
     "name": "stderr",
     "output_type": "stream",
     "text": [
      "[20:36:20 - __main__] Saving to file: /path/to/data/MinION_sequencing_data_20190809/guppy_3.2.2_exec_20190809/sw/fastq_runid_536cafc874cb995b6c8b47a5baabb9598eaded02_15_1.tsv\n",
      "[20:36:20 - __main__] Starting fastq (62 of 211)\n",
      "\t/path/to/data/MinION_sequencing_data_20190809/guppy_3.2.2_exec_20190809/pass/fastq_runid_536cafc874cb995b6c8b47a5baabb9598eaded02_15_2.fastq\n"
     ]
    },
    {
     "name": "stdout",
     "output_type": "stream",
     "text": [
      "[########################################] | 100% Completed |  8.9s\n",
      "[########################################] | 100% Completed |  9.0s\n",
      "[########################################] | 100% Completed |  9.0s\n",
      "[########################################] | 100% Completed |  9.1s\n",
      "[########################################] | 100% Completed |  9.2s\n",
      "[########################################] | 100% Completed |  9.2s\n",
      "[########################################] | 100% Completed |  9.3s\n",
      "[########################################] | 100% Completed |  9.4s\n",
      "[########################################] | 100% Completed |  9.5s\n",
      "[########################################] | 100% Completed |  9.6s\n",
      "[########################################] | 100% Completed |  9.7s\n",
      "[########################################] | 100% Completed |  9.7s\n",
      "[########################################] | 100% Completed |  9.8s\n",
      "[########################################] | 100% Completed |  9.8s\n"
     ]
    },
    {
     "name": "stderr",
     "output_type": "stream",
     "text": [
      "[20:36:31 - __main__] Saving to file: /path/to/data/MinION_sequencing_data_20190809/guppy_3.2.2_exec_20190809/sw/fastq_runid_536cafc874cb995b6c8b47a5baabb9598eaded02_15_2.tsv\n",
      "[20:36:31 - __main__] Starting fastq (63 of 211)\n",
      "\t/path/to/data/MinION_sequencing_data_20190809/guppy_3.2.2_exec_20190809/pass/fastq_runid_536cafc874cb995b6c8b47a5baabb9598eaded02_15_3.fastq\n"
     ]
    },
    {
     "name": "stdout",
     "output_type": "stream",
     "text": [
      "[########################################] | 100% Completed | 34.4s\n",
      "[########################################] | 100% Completed | 34.5s\n",
      "[########################################] | 100% Completed | 34.6s\n",
      "[########################################] | 100% Completed | 34.6s\n",
      "[########################################] | 100% Completed | 34.8s\n",
      "[########################################] | 100% Completed | 34.8s\n",
      "[########################################] | 100% Completed | 34.9s\n",
      "[########################################] | 100% Completed | 35.0s\n",
      "[########################################] | 100% Completed | 35.1s\n",
      "[########################################] | 100% Completed | 35.1s\n",
      "[########################################] | 100% Completed | 35.1s\n",
      "[########################################] | 100% Completed | 35.2s\n",
      "[########################################] | 100% Completed | 35.2s\n",
      "[########################################] | 100% Completed | 35.3s\n"
     ]
    },
    {
     "name": "stderr",
     "output_type": "stream",
     "text": [
      "[20:37:07 - __main__] Saving to file: /path/to/data/MinION_sequencing_data_20190809/guppy_3.2.2_exec_20190809/sw/fastq_runid_536cafc874cb995b6c8b47a5baabb9598eaded02_15_3.tsv\n",
      "[20:37:07 - __main__] Starting fastq (64 of 211)\n",
      "\t/path/to/data/MinION_sequencing_data_20190809/guppy_3.2.2_exec_20190809/pass/fastq_runid_536cafc874cb995b6c8b47a5baabb9598eaded02_16_0.fastq\n"
     ]
    },
    {
     "name": "stdout",
     "output_type": "stream",
     "text": [
      "[########################################] | 100% Completed |  1min 12.9s\n",
      "[########################################] | 100% Completed |  1min 13.0s\n",
      "[########################################] | 100% Completed |  1min 13.1s\n",
      "[########################################] | 100% Completed |  1min 13.1s\n",
      "[########################################] | 100% Completed |  1min 13.1s\n",
      "[########################################] | 100% Completed |  1min 13.1s\n",
      "[########################################] | 100% Completed |  1min 13.1s\n",
      "[########################################] | 100% Completed |  1min 13.2s\n",
      "[########################################] | 100% Completed |  1min 13.2s\n",
      "[########################################] | 100% Completed |  1min 13.2s\n",
      "[########################################] | 100% Completed |  1min 13.2s\n",
      "[########################################] | 100% Completed |  1min 13.3s\n",
      "[########################################] | 100% Completed |  1min 13.3s\n",
      "[########################################] | 100% Completed |  1min 13.4s\n"
     ]
    },
    {
     "name": "stderr",
     "output_type": "stream",
     "text": [
      "[20:38:21 - __main__] Saving to file: /path/to/data/MinION_sequencing_data_20190809/guppy_3.2.2_exec_20190809/sw/fastq_runid_536cafc874cb995b6c8b47a5baabb9598eaded02_16_0.tsv\n",
      "[20:38:22 - __main__] Starting fastq (65 of 211)\n",
      "\t/path/to/data/MinION_sequencing_data_20190809/guppy_3.2.2_exec_20190809/pass/fastq_runid_536cafc874cb995b6c8b47a5baabb9598eaded02_16_1.fastq\n"
     ]
    },
    {
     "name": "stdout",
     "output_type": "stream",
     "text": [
      "[########################################] | 100% Completed | 35.6s\n",
      "[########################################] | 100% Completed | 35.6s\n",
      "[########################################] | 100% Completed | 35.7s\n",
      "[########################################] | 100% Completed | 35.7s\n",
      "[########################################] | 100% Completed | 35.8s\n",
      "[########################################] | 100% Completed | 35.8s\n",
      "[########################################] | 100% Completed | 35.9s\n",
      "[########################################] | 100% Completed | 36.0s\n",
      "[########################################] | 100% Completed | 36.0s\n",
      "[########################################] | 100% Completed | 36.1s\n",
      "[########################################] | 100% Completed | 36.1s\n",
      "[########################################] | 100% Completed | 36.2s\n",
      "[########################################] | 100% Completed | 36.2s\n",
      "[########################################] | 100% Completed | 36.2s\n"
     ]
    },
    {
     "name": "stderr",
     "output_type": "stream",
     "text": [
      "[20:38:59 - __main__] Saving to file: /path/to/data/MinION_sequencing_data_20190809/guppy_3.2.2_exec_20190809/sw/fastq_runid_536cafc874cb995b6c8b47a5baabb9598eaded02_16_1.tsv\n",
      "[20:38:59 - __main__] Starting fastq (66 of 211)\n",
      "\t/path/to/data/MinION_sequencing_data_20190809/guppy_3.2.2_exec_20190809/pass/fastq_runid_536cafc874cb995b6c8b47a5baabb9598eaded02_16_2.fastq\n"
     ]
    },
    {
     "name": "stdout",
     "output_type": "stream",
     "text": [
      "[########################################] | 100% Completed | 27.7s\n",
      "[########################################] | 100% Completed | 27.7s\n",
      "[########################################] | 100% Completed | 27.8s\n",
      "[########################################] | 100% Completed | 27.9s\n",
      "[########################################] | 100% Completed | 27.9s\n",
      "[########################################] | 100% Completed | 28.0s\n",
      "[########################################] | 100% Completed | 28.1s\n",
      "[########################################] | 100% Completed | 28.2s\n",
      "[########################################] | 100% Completed | 28.3s\n",
      "[########################################] | 100% Completed | 28.3s\n",
      "[########################################] | 100% Completed | 28.3s\n",
      "[########################################] | 100% Completed | 28.4s\n",
      "[########################################] | 100% Completed | 28.4s\n",
      "[########################################] | 100% Completed | 28.4s\n"
     ]
    },
    {
     "name": "stderr",
     "output_type": "stream",
     "text": [
      "[20:39:28 - __main__] Saving to file: /path/to/data/MinION_sequencing_data_20190809/guppy_3.2.2_exec_20190809/sw/fastq_runid_536cafc874cb995b6c8b47a5baabb9598eaded02_16_2.tsv\n",
      "[20:39:28 - __main__] Starting fastq (67 of 211)\n",
      "\t/path/to/data/MinION_sequencing_data_20190809/guppy_3.2.2_exec_20190809/pass/fastq_runid_536cafc874cb995b6c8b47a5baabb9598eaded02_17_0.fastq\n"
     ]
    },
    {
     "name": "stdout",
     "output_type": "stream",
     "text": [
      "[########################################] | 100% Completed | 27.7s\n",
      "[########################################] | 100% Completed | 27.8s\n",
      "[########################################] | 100% Completed | 27.9s\n",
      "[########################################] | 100% Completed | 28.0s\n",
      "[########################################] | 100% Completed | 28.1s\n",
      "[########################################] | 100% Completed | 28.2s\n",
      "[########################################] | 100% Completed | 28.3s\n",
      "[########################################] | 100% Completed | 28.4s\n",
      "[########################################] | 100% Completed | 28.4s\n",
      "[########################################] | 100% Completed | 28.5s\n",
      "[########################################] | 100% Completed | 28.5s\n",
      "[########################################] | 100% Completed | 28.6s\n",
      "[########################################] | 100% Completed | 28.6s\n",
      "[########################################] | 100% Completed | 28.7s\n"
     ]
    },
    {
     "name": "stderr",
     "output_type": "stream",
     "text": [
      "[20:39:58 - __main__] Saving to file: /path/to/data/MinION_sequencing_data_20190809/guppy_3.2.2_exec_20190809/sw/fastq_runid_536cafc874cb995b6c8b47a5baabb9598eaded02_17_0.tsv\n",
      "[20:39:58 - __main__] Starting fastq (68 of 211)\n",
      "\t/path/to/data/MinION_sequencing_data_20190809/guppy_3.2.2_exec_20190809/pass/fastq_runid_536cafc874cb995b6c8b47a5baabb9598eaded02_16_3.fastq\n"
     ]
    },
    {
     "name": "stdout",
     "output_type": "stream",
     "text": [
      "[########################################] | 100% Completed |  1.0s\n",
      "[########################################] | 100% Completed |  1.1s\n",
      "[########################################] | 100% Completed |  1.1s\n",
      "[########################################] | 100% Completed |  1.2s\n",
      "[########################################] | 100% Completed |  1.2s\n",
      "[########################################] | 100% Completed |  1.3s\n",
      "[########################################] | 100% Completed |  1.4s\n",
      "[########################################] | 100% Completed |  1.5s\n",
      "[########################################] | 100% Completed |  1.6s\n",
      "[########################################] | 100% Completed |  1.6s\n",
      "[########################################] | 100% Completed |  1.7s\n",
      "[########################################] | 100% Completed |  1.8s\n",
      "[########################################] | 100% Completed |  1.8s\n",
      "[########################################] | 100% Completed |  1.9s\n"
     ]
    },
    {
     "name": "stderr",
     "output_type": "stream",
     "text": [
      "[20:40:01 - __main__] Saving to file: /path/to/data/MinION_sequencing_data_20190809/guppy_3.2.2_exec_20190809/sw/fastq_runid_536cafc874cb995b6c8b47a5baabb9598eaded02_16_3.tsv\n",
      "[20:40:01 - __main__] Starting fastq (69 of 211)\n",
      "\t/path/to/data/MinION_sequencing_data_20190809/guppy_3.2.2_exec_20190809/pass/fastq_runid_536cafc874cb995b6c8b47a5baabb9598eaded02_17_1.fastq\n"
     ]
    },
    {
     "name": "stdout",
     "output_type": "stream",
     "text": [
      "[########################################] | 100% Completed | 14.9s\n",
      "[########################################] | 100% Completed | 15.0s\n",
      "[########################################] | 100% Completed | 15.0s\n",
      "[########################################] | 100% Completed | 15.0s\n",
      "[########################################] | 100% Completed | 15.1s\n",
      "[########################################] | 100% Completed | 15.2s\n",
      "[########################################] | 100% Completed | 15.2s\n",
      "[########################################] | 100% Completed | 15.2s\n",
      "[########################################] | 100% Completed | 15.3s\n",
      "[########################################] | 100% Completed | 15.4s\n",
      "[########################################] | 100% Completed | 15.4s\n",
      "[########################################] | 100% Completed | 15.5s\n",
      "[########################################] | 100% Completed | 15.5s\n",
      "[########################################] | 100% Completed | 15.6s\n"
     ]
    },
    {
     "name": "stderr",
     "output_type": "stream",
     "text": [
      "[20:40:17 - __main__] Saving to file: /path/to/data/MinION_sequencing_data_20190809/guppy_3.2.2_exec_20190809/sw/fastq_runid_536cafc874cb995b6c8b47a5baabb9598eaded02_17_1.tsv\n",
      "[20:40:17 - __main__] Starting fastq (70 of 211)\n",
      "\t/path/to/data/MinION_sequencing_data_20190809/guppy_3.2.2_exec_20190809/pass/fastq_runid_536cafc874cb995b6c8b47a5baabb9598eaded02_17_2.fastq\n"
     ]
    },
    {
     "name": "stdout",
     "output_type": "stream",
     "text": [
      "[########################################] | 100% Completed | 23.2s\n",
      "[########################################] | 100% Completed | 23.3s\n",
      "[########################################] | 100% Completed | 23.4s\n",
      "[########################################] | 100% Completed | 23.5s\n",
      "[########################################] | 100% Completed | 23.5s\n",
      "[########################################] | 100% Completed | 23.6s\n",
      "[########################################] | 100% Completed | 23.6s\n",
      "[########################################] | 100% Completed | 23.6s\n",
      "[########################################] | 100% Completed | 23.7s\n",
      "[########################################] | 100% Completed | 23.8s\n",
      "[########################################] | 100% Completed | 23.9s\n",
      "[########################################] | 100% Completed | 23.9s\n",
      "[########################################] | 100% Completed | 24.0s\n",
      "[########################################] | 100% Completed | 24.1s\n"
     ]
    },
    {
     "name": "stderr",
     "output_type": "stream",
     "text": [
      "[20:40:42 - __main__] Saving to file: /path/to/data/MinION_sequencing_data_20190809/guppy_3.2.2_exec_20190809/sw/fastq_runid_536cafc874cb995b6c8b47a5baabb9598eaded02_17_2.tsv\n",
      "[20:40:43 - __main__] Starting fastq (71 of 211)\n",
      "\t/path/to/data/MinION_sequencing_data_20190809/guppy_3.2.2_exec_20190809/pass/fastq_runid_536cafc874cb995b6c8b47a5baabb9598eaded02_18_0.fastq\n"
     ]
    },
    {
     "name": "stdout",
     "output_type": "stream",
     "text": [
      "[########################################] | 100% Completed | 37.4s\n",
      "[########################################] | 100% Completed | 37.4s\n",
      "[########################################] | 100% Completed | 37.5s\n",
      "[########################################] | 100% Completed | 37.6s\n",
      "[########################################] | 100% Completed | 37.6s\n",
      "[########################################] | 100% Completed | 37.7s\n",
      "[########################################] | 100% Completed | 37.7s\n",
      "[########################################] | 100% Completed | 37.7s\n",
      "[########################################] | 100% Completed | 37.8s\n",
      "[########################################] | 100% Completed | 37.9s\n",
      "[########################################] | 100% Completed | 38.0s\n",
      "[########################################] | 100% Completed | 38.1s\n",
      "[########################################] | 100% Completed | 38.1s\n",
      "[########################################] | 100% Completed | 38.2s\n"
     ]
    },
    {
     "name": "stderr",
     "output_type": "stream",
     "text": [
      "[20:41:22 - __main__] Saving to file: /path/to/data/MinION_sequencing_data_20190809/guppy_3.2.2_exec_20190809/sw/fastq_runid_536cafc874cb995b6c8b47a5baabb9598eaded02_18_0.tsv\n",
      "[20:41:22 - __main__] Starting fastq (72 of 211)\n",
      "\t/path/to/data/MinION_sequencing_data_20190809/guppy_3.2.2_exec_20190809/pass/fastq_runid_536cafc874cb995b6c8b47a5baabb9598eaded02_18_1.fastq\n"
     ]
    },
    {
     "name": "stdout",
     "output_type": "stream",
     "text": [
      "[########################################] | 100% Completed |  1min 26.4s\n",
      "[########################################] | 100% Completed |  1min 26.4s\n",
      "[########################################] | 100% Completed |  1min 26.5s\n",
      "[########################################] | 100% Completed |  1min 26.5s\n",
      "[########################################] | 100% Completed |  1min 26.6s\n",
      "[########################################] | 100% Completed |  1min 26.6s\n",
      "[########################################] | 100% Completed |  1min 26.7s\n",
      "[########################################] | 100% Completed |  1min 26.7s\n",
      "[########################################] | 100% Completed |  1min 26.8s\n",
      "[########################################] | 100% Completed |  1min 26.8s\n",
      "[########################################] | 100% Completed |  1min 26.9s\n",
      "[########################################] | 100% Completed |  1min 27.0s\n",
      "[########################################] | 100% Completed |  1min 27.0s\n",
      "[########################################] | 100% Completed |  1min 27.0s\n"
     ]
    },
    {
     "name": "stderr",
     "output_type": "stream",
     "text": [
      "[20:42:50 - __main__] Saving to file: /path/to/data/MinION_sequencing_data_20190809/guppy_3.2.2_exec_20190809/sw/fastq_runid_536cafc874cb995b6c8b47a5baabb9598eaded02_18_1.tsv\n",
      "[20:42:50 - __main__] Starting fastq (73 of 211)\n",
      "\t/path/to/data/MinION_sequencing_data_20190809/guppy_3.2.2_exec_20190809/pass/fastq_runid_536cafc874cb995b6c8b47a5baabb9598eaded02_17_3.fastq\n"
     ]
    },
    {
     "name": "stdout",
     "output_type": "stream",
     "text": [
      "[########################################] | 100% Completed |  1min 12.2s\n",
      "[########################################] | 100% Completed |  1min 12.3s\n",
      "[########################################] | 100% Completed |  1min 12.4s\n",
      "[########################################] | 100% Completed |  1min 12.5s\n",
      "[########################################] | 100% Completed |  1min 12.5s\n",
      "[########################################] | 100% Completed |  1min 12.6s\n",
      "[########################################] | 100% Completed |  1min 12.6s\n",
      "[########################################] | 100% Completed |  1min 12.7s\n",
      "[########################################] | 100% Completed |  1min 12.7s\n",
      "[########################################] | 100% Completed |  1min 12.8s\n",
      "[########################################] | 100% Completed |  1min 12.8s\n",
      "[########################################] | 100% Completed |  1min 12.9s\n",
      "[########################################] | 100% Completed |  1min 12.9s\n",
      "[########################################] | 100% Completed |  1min 12.9s\n"
     ]
    },
    {
     "name": "stderr",
     "output_type": "stream",
     "text": [
      "[20:44:04 - __main__] Saving to file: /path/to/data/MinION_sequencing_data_20190809/guppy_3.2.2_exec_20190809/sw/fastq_runid_536cafc874cb995b6c8b47a5baabb9598eaded02_17_3.tsv\n",
      "[20:44:04 - __main__] Starting fastq (74 of 211)\n",
      "\t/path/to/data/MinION_sequencing_data_20190809/guppy_3.2.2_exec_20190809/pass/fastq_runid_536cafc874cb995b6c8b47a5baabb9598eaded02_19_0.fastq\n"
     ]
    },
    {
     "name": "stdout",
     "output_type": "stream",
     "text": [
      "[########################################] | 100% Completed |  1min  2.3s\n",
      "[########################################] | 100% Completed |  1min  2.4s\n",
      "[########################################] | 100% Completed |  1min  2.4s\n",
      "[########################################] | 100% Completed |  1min  2.5s\n",
      "[########################################] | 100% Completed |  1min  2.6s\n",
      "[########################################] | 100% Completed |  1min  2.7s\n",
      "[########################################] | 100% Completed |  1min  2.8s\n",
      "[########################################] | 100% Completed |  1min  2.9s\n",
      "[########################################] | 100% Completed |  1min  2.9s\n",
      "[########################################] | 100% Completed |  1min  3.0s\n",
      "[########################################] | 100% Completed |  1min  3.1s\n",
      "[########################################] | 100% Completed |  1min  3.2s\n",
      "[########################################] | 100% Completed |  1min  3.2s\n",
      "[########################################] | 100% Completed |  1min  3.3s\n"
     ]
    },
    {
     "name": "stderr",
     "output_type": "stream",
     "text": [
      "[20:45:08 - __main__] Saving to file: /path/to/data/MinION_sequencing_data_20190809/guppy_3.2.2_exec_20190809/sw/fastq_runid_536cafc874cb995b6c8b47a5baabb9598eaded02_19_0.tsv\n",
      "[20:45:09 - __main__] Starting fastq (75 of 211)\n",
      "\t/path/to/data/MinION_sequencing_data_20190809/guppy_3.2.2_exec_20190809/pass/fastq_runid_536cafc874cb995b6c8b47a5baabb9598eaded02_18_2.fastq\n"
     ]
    },
    {
     "name": "stdout",
     "output_type": "stream",
     "text": [
      "[########################################] | 100% Completed | 14.1s\n",
      "[########################################] | 100% Completed | 14.2s\n",
      "[########################################] | 100% Completed | 14.2s\n",
      "[########################################] | 100% Completed | 14.2s\n",
      "[########################################] | 100% Completed | 14.3s\n",
      "[########################################] | 100% Completed | 14.3s\n",
      "[########################################] | 100% Completed | 14.3s\n",
      "[########################################] | 100% Completed | 14.4s\n",
      "[########################################] | 100% Completed | 14.4s\n",
      "[########################################] | 100% Completed | 14.5s\n",
      "[########################################] | 100% Completed | 14.6s\n",
      "[########################################] | 100% Completed | 14.7s\n",
      "[########################################] | 100% Completed | 14.8s\n",
      "[########################################] | 100% Completed | 14.8s\n"
     ]
    },
    {
     "name": "stderr",
     "output_type": "stream",
     "text": [
      "[20:45:24 - __main__] Saving to file: /path/to/data/MinION_sequencing_data_20190809/guppy_3.2.2_exec_20190809/sw/fastq_runid_536cafc874cb995b6c8b47a5baabb9598eaded02_18_2.tsv\n",
      "[20:45:24 - __main__] Starting fastq (76 of 211)\n",
      "\t/path/to/data/MinION_sequencing_data_20190809/guppy_3.2.2_exec_20190809/pass/fastq_runid_536cafc874cb995b6c8b47a5baabb9598eaded02_19_1.fastq\n"
     ]
    },
    {
     "name": "stdout",
     "output_type": "stream",
     "text": [
      "[########################################] | 100% Completed | 43.2s\n",
      "[########################################] | 100% Completed | 43.2s\n",
      "[########################################] | 100% Completed | 43.2s\n",
      "[########################################] | 100% Completed | 43.3s\n",
      "[########################################] | 100% Completed | 43.4s\n",
      "[########################################] | 100% Completed | 43.4s\n",
      "[########################################] | 100% Completed | 43.5s\n",
      "[########################################] | 100% Completed | 43.6s\n",
      "[########################################] | 100% Completed | 43.6s\n",
      "[########################################] | 100% Completed | 43.7s\n",
      "[########################################] | 100% Completed | 43.7s\n",
      "[########################################] | 100% Completed | 43.8s\n",
      "[########################################] | 100% Completed | 43.9s\n",
      "[########################################] | 100% Completed | 43.9s\n"
     ]
    },
    {
     "name": "stderr",
     "output_type": "stream",
     "text": [
      "[20:46:09 - __main__] Saving to file: /path/to/data/MinION_sequencing_data_20190809/guppy_3.2.2_exec_20190809/sw/fastq_runid_536cafc874cb995b6c8b47a5baabb9598eaded02_19_1.tsv\n",
      "[20:46:10 - __main__] Starting fastq (77 of 211)\n",
      "\t/path/to/data/MinION_sequencing_data_20190809/guppy_3.2.2_exec_20190809/pass/fastq_runid_536cafc874cb995b6c8b47a5baabb9598eaded02_18_3.fastq\n"
     ]
    },
    {
     "name": "stdout",
     "output_type": "stream",
     "text": [
      "[########################################] | 100% Completed |  1.8s\n",
      "[########################################] | 100% Completed |  1.9s\n",
      "[########################################] | 100% Completed |  1.9s\n",
      "[########################################] | 100% Completed |  1.9s\n",
      "[########################################] | 100% Completed |  2.0s\n",
      "[########################################] | 100% Completed |  2.1s\n",
      "[########################################] | 100% Completed |  2.2s\n",
      "[########################################] | 100% Completed |  2.3s\n",
      "[########################################] | 100% Completed |  2.4s\n",
      "[########################################] | 100% Completed |  2.4s\n",
      "[########################################] | 100% Completed |  2.5s\n",
      "[########################################] | 100% Completed |  2.5s\n",
      "[########################################] | 100% Completed |  2.6s\n",
      "[########################################] | 100% Completed |  2.7s\n"
     ]
    },
    {
     "name": "stderr",
     "output_type": "stream",
     "text": [
      "[20:46:13 - __main__] Saving to file: /path/to/data/MinION_sequencing_data_20190809/guppy_3.2.2_exec_20190809/sw/fastq_runid_536cafc874cb995b6c8b47a5baabb9598eaded02_18_3.tsv\n",
      "[20:46:13 - __main__] Starting fastq (78 of 211)\n",
      "\t/path/to/data/MinION_sequencing_data_20190809/guppy_3.2.2_exec_20190809/pass/fastq_runid_536cafc874cb995b6c8b47a5baabb9598eaded02_19_2.fastq\n"
     ]
    },
    {
     "name": "stdout",
     "output_type": "stream",
     "text": [
      "[########################################] | 100% Completed | 17.9s\n",
      "[########################################] | 100% Completed | 18.0s\n",
      "[########################################] | 100% Completed | 18.1s\n",
      "[########################################] | 100% Completed | 18.2s\n",
      "[########################################] | 100% Completed | 18.2s\n",
      "[########################################] | 100% Completed | 18.3s\n",
      "[########################################] | 100% Completed | 18.3s\n",
      "[########################################] | 100% Completed | 18.4s\n",
      "[########################################] | 100% Completed | 18.4s\n",
      "[########################################] | 100% Completed | 18.5s\n",
      "[########################################] | 100% Completed | 18.5s\n",
      "[########################################] | 100% Completed | 18.6s\n",
      "[########################################] | 100% Completed | 18.6s\n",
      "[########################################] | 100% Completed | 18.6s\n"
     ]
    },
    {
     "name": "stderr",
     "output_type": "stream",
     "text": [
      "[20:46:33 - __main__] Saving to file: /path/to/data/MinION_sequencing_data_20190809/guppy_3.2.2_exec_20190809/sw/fastq_runid_536cafc874cb995b6c8b47a5baabb9598eaded02_19_2.tsv\n",
      "[20:46:33 - __main__] Starting fastq (79 of 211)\n",
      "\t/path/to/data/MinION_sequencing_data_20190809/guppy_3.2.2_exec_20190809/pass/fastq_runid_536cafc874cb995b6c8b47a5baabb9598eaded02_19_3.fastq\n"
     ]
    },
    {
     "name": "stdout",
     "output_type": "stream",
     "text": [
      "[########################################] | 100% Completed | 15.0s\n",
      "[########################################] | 100% Completed | 15.1s\n",
      "[########################################] | 100% Completed | 15.2s\n",
      "[########################################] | 100% Completed | 15.3s\n",
      "[########################################] | 100% Completed | 15.4s\n",
      "[########################################] | 100% Completed | 15.4s\n",
      "[########################################] | 100% Completed | 15.5s\n",
      "[########################################] | 100% Completed | 15.6s\n",
      "[########################################] | 100% Completed | 15.6s\n",
      "[########################################] | 100% Completed | 15.6s\n",
      "[########################################] | 100% Completed | 15.6s\n",
      "[########################################] | 100% Completed | 15.7s\n",
      "[########################################] | 100% Completed | 15.8s\n",
      "[########################################] | 100% Completed | 15.8s\n"
     ]
    },
    {
     "name": "stderr",
     "output_type": "stream",
     "text": [
      "[20:46:50 - __main__] Saving to file: /path/to/data/MinION_sequencing_data_20190809/guppy_3.2.2_exec_20190809/sw/fastq_runid_536cafc874cb995b6c8b47a5baabb9598eaded02_19_3.tsv\n",
      "[20:46:50 - __main__] Starting fastq (80 of 211)\n",
      "\t/path/to/data/MinION_sequencing_data_20190809/guppy_3.2.2_exec_20190809/pass/fastq_runid_536cafc874cb995b6c8b47a5baabb9598eaded02_20_0.fastq\n"
     ]
    },
    {
     "name": "stdout",
     "output_type": "stream",
     "text": [
      "[########################################] | 100% Completed | 31.6s\n",
      "[########################################] | 100% Completed | 31.7s\n",
      "[########################################] | 100% Completed | 31.8s\n",
      "[########################################] | 100% Completed | 31.9s\n",
      "[########################################] | 100% Completed | 32.0s\n",
      "[########################################] | 100% Completed | 32.0s\n",
      "[########################################] | 100% Completed | 32.0s\n",
      "[########################################] | 100% Completed | 32.1s\n",
      "[########################################] | 100% Completed | 32.1s\n",
      "[########################################] | 100% Completed | 32.2s\n",
      "[########################################] | 100% Completed | 32.3s\n",
      "[########################################] | 100% Completed | 32.3s\n",
      "[########################################] | 100% Completed | 32.4s\n",
      "[########################################] | 100% Completed | 32.5s\n"
     ]
    },
    {
     "name": "stderr",
     "output_type": "stream",
     "text": [
      "[20:47:23 - __main__] Saving to file: /path/to/data/MinION_sequencing_data_20190809/guppy_3.2.2_exec_20190809/sw/fastq_runid_536cafc874cb995b6c8b47a5baabb9598eaded02_20_0.tsv\n",
      "[20:47:23 - __main__] Starting fastq (81 of 211)\n",
      "\t/path/to/data/MinION_sequencing_data_20190809/guppy_3.2.2_exec_20190809/pass/fastq_runid_536cafc874cb995b6c8b47a5baabb9598eaded02_20_1.fastq\n"
     ]
    },
    {
     "name": "stdout",
     "output_type": "stream",
     "text": [
      "[########################################] | 100% Completed |  0.9s\n",
      "[########################################] | 100% Completed |  1.0s\n",
      "[########################################] | 100% Completed |  1.1s\n",
      "[########################################] | 100% Completed |  1.1s\n",
      "[########################################] | 100% Completed |  1.2s\n",
      "[########################################] | 100% Completed |  1.3s\n",
      "[########################################] | 100% Completed |  1.3s\n",
      "[########################################] | 100% Completed |  1.4s\n",
      "[########################################] | 100% Completed |  1.5s\n",
      "[########################################] | 100% Completed |  1.6s\n",
      "[########################################] | 100% Completed |  1.7s\n",
      "[########################################] | 100% Completed |  1.8s\n",
      "[########################################] | 100% Completed |  1.9s\n",
      "[########################################] | 100% Completed |  1.9s\n"
     ]
    },
    {
     "name": "stderr",
     "output_type": "stream",
     "text": [
      "[20:47:26 - __main__] Saving to file: /path/to/data/MinION_sequencing_data_20190809/guppy_3.2.2_exec_20190809/sw/fastq_runid_536cafc874cb995b6c8b47a5baabb9598eaded02_20_1.tsv\n",
      "[20:47:26 - __main__] Starting fastq (82 of 211)\n",
      "\t/path/to/data/MinION_sequencing_data_20190809/guppy_3.2.2_exec_20190809/pass/fastq_runid_536cafc874cb995b6c8b47a5baabb9598eaded02_21_0.fastq\n"
     ]
    },
    {
     "name": "stdout",
     "output_type": "stream",
     "text": [
      "[########################################] | 100% Completed | 23.6s\n",
      "[########################################] | 100% Completed | 23.7s\n",
      "[########################################] | 100% Completed | 23.8s\n",
      "[########################################] | 100% Completed | 23.8s\n",
      "[########################################] | 100% Completed | 23.9s\n",
      "[########################################] | 100% Completed | 24.0s\n",
      "[########################################] | 100% Completed | 24.1s\n",
      "[########################################] | 100% Completed | 24.1s\n",
      "[########################################] | 100% Completed | 24.2s\n",
      "[########################################] | 100% Completed | 24.2s\n",
      "[########################################] | 100% Completed | 24.3s\n",
      "[########################################] | 100% Completed | 24.3s\n",
      "[########################################] | 100% Completed | 24.4s\n",
      "[########################################] | 100% Completed | 24.4s\n"
     ]
    },
    {
     "name": "stderr",
     "output_type": "stream",
     "text": [
      "[20:47:51 - __main__] Saving to file: /path/to/data/MinION_sequencing_data_20190809/guppy_3.2.2_exec_20190809/sw/fastq_runid_536cafc874cb995b6c8b47a5baabb9598eaded02_21_0.tsv\n",
      "[20:47:52 - __main__] Starting fastq (83 of 211)\n",
      "\t/path/to/data/MinION_sequencing_data_20190809/guppy_3.2.2_exec_20190809/pass/fastq_runid_536cafc874cb995b6c8b47a5baabb9598eaded02_20_2.fastq\n"
     ]
    },
    {
     "name": "stdout",
     "output_type": "stream",
     "text": [
      "[########################################] | 100% Completed |  1min 22.1s\n",
      "[########################################] | 100% Completed |  1min 22.2s\n",
      "[########################################] | 100% Completed |  1min 22.2s\n",
      "[########################################] | 100% Completed |  1min 22.3s\n",
      "[########################################] | 100% Completed |  1min 22.4s\n",
      "[########################################] | 100% Completed |  1min 22.4s\n",
      "[########################################] | 100% Completed |  1min 22.5s\n",
      "[########################################] | 100% Completed |  1min 22.6s\n",
      "[########################################] | 100% Completed |  1min 22.7s\n",
      "[########################################] | 100% Completed |  1min 22.7s\n",
      "[########################################] | 100% Completed |  1min 22.7s\n",
      "[########################################] | 100% Completed |  1min 22.7s\n",
      "[########################################] | 100% Completed |  1min 22.8s\n",
      "[########################################] | 100% Completed |  1min 22.8s\n"
     ]
    },
    {
     "name": "stderr",
     "output_type": "stream",
     "text": [
      "[20:49:15 - __main__] Saving to file: /path/to/data/MinION_sequencing_data_20190809/guppy_3.2.2_exec_20190809/sw/fastq_runid_536cafc874cb995b6c8b47a5baabb9598eaded02_20_2.tsv\n",
      "[20:49:15 - __main__] Starting fastq (84 of 211)\n",
      "\t/path/to/data/MinION_sequencing_data_20190809/guppy_3.2.2_exec_20190809/pass/fastq_runid_536cafc874cb995b6c8b47a5baabb9598eaded02_21_1.fastq\n"
     ]
    },
    {
     "name": "stdout",
     "output_type": "stream",
     "text": [
      "[########################################] | 100% Completed |  1min 13.1s\n",
      "[########################################] | 100% Completed |  1min 13.2s\n",
      "[########################################] | 100% Completed |  1min 13.3s\n",
      "[########################################] | 100% Completed |  1min 13.4s\n",
      "[########################################] | 100% Completed |  1min 13.4s\n",
      "[########################################] | 100% Completed |  1min 13.4s\n",
      "[########################################] | 100% Completed |  1min 13.5s\n",
      "[########################################] | 100% Completed |  1min 13.6s\n",
      "[########################################] | 100% Completed |  1min 13.6s\n",
      "[########################################] | 100% Completed |  1min 13.6s\n",
      "[########################################] | 100% Completed |  1min 13.7s\n",
      "[########################################] | 100% Completed |  1min 13.8s\n",
      "[########################################] | 100% Completed |  1min 13.9s\n",
      "[########################################] | 100% Completed |  1min 13.9s\n"
     ]
    },
    {
     "name": "stderr",
     "output_type": "stream",
     "text": [
      "[20:50:30 - __main__] Saving to file: /path/to/data/MinION_sequencing_data_20190809/guppy_3.2.2_exec_20190809/sw/fastq_runid_536cafc874cb995b6c8b47a5baabb9598eaded02_21_1.tsv\n",
      "[20:50:30 - __main__] Starting fastq (85 of 211)\n",
      "\t/path/to/data/MinION_sequencing_data_20190809/guppy_3.2.2_exec_20190809/pass/fastq_runid_536cafc874cb995b6c8b47a5baabb9598eaded02_20_3.fastq\n"
     ]
    },
    {
     "name": "stdout",
     "output_type": "stream",
     "text": [
      "[########################################] | 100% Completed | 26.2s\n",
      "[########################################] | 100% Completed | 26.3s\n",
      "[########################################] | 100% Completed | 26.3s\n",
      "[########################################] | 100% Completed | 26.3s\n",
      "[########################################] | 100% Completed | 26.4s\n",
      "[########################################] | 100% Completed | 26.5s\n",
      "[########################################] | 100% Completed | 26.6s\n",
      "[########################################] | 100% Completed | 26.6s\n",
      "[########################################] | 100% Completed | 26.7s\n",
      "[########################################] | 100% Completed | 26.7s\n",
      "[########################################] | 100% Completed | 26.8s\n",
      "[########################################] | 100% Completed | 26.9s\n",
      "[########################################] | 100% Completed | 26.9s\n",
      "[########################################] | 100% Completed | 26.9s\n"
     ]
    },
    {
     "name": "stderr",
     "output_type": "stream",
     "text": [
      "[20:50:58 - __main__] Saving to file: /path/to/data/MinION_sequencing_data_20190809/guppy_3.2.2_exec_20190809/sw/fastq_runid_536cafc874cb995b6c8b47a5baabb9598eaded02_20_3.tsv\n",
      "[20:50:58 - __main__] Starting fastq (86 of 211)\n",
      "\t/path/to/data/MinION_sequencing_data_20190809/guppy_3.2.2_exec_20190809/pass/fastq_runid_536cafc874cb995b6c8b47a5baabb9598eaded02_22_0.fastq\n"
     ]
    },
    {
     "name": "stdout",
     "output_type": "stream",
     "text": [
      "[########################################] | 100% Completed |  1min 22.1s\n",
      "[########################################] | 100% Completed |  1min 22.2s\n",
      "[########################################] | 100% Completed |  1min 22.3s\n",
      "[########################################] | 100% Completed |  1min 22.3s\n",
      "[########################################] | 100% Completed |  1min 22.4s\n",
      "[########################################] | 100% Completed |  1min 22.5s\n",
      "[########################################] | 100% Completed |  1min 22.6s\n",
      "[########################################] | 100% Completed |  1min 22.6s\n",
      "[########################################] | 100% Completed |  1min 22.7s\n",
      "[########################################] | 100% Completed |  1min 22.8s\n",
      "[########################################] | 100% Completed |  1min 22.8s\n",
      "[########################################] | 100% Completed |  1min 22.9s\n",
      "[########################################] | 100% Completed |  1min 22.9s\n",
      "[########################################] | 100% Completed |  1min 23.0s\n"
     ]
    },
    {
     "name": "stderr",
     "output_type": "stream",
     "text": [
      "[20:52:22 - __main__] Saving to file: /path/to/data/MinION_sequencing_data_20190809/guppy_3.2.2_exec_20190809/sw/fastq_runid_536cafc874cb995b6c8b47a5baabb9598eaded02_22_0.tsv\n",
      "[20:52:23 - __main__] Starting fastq (87 of 211)\n",
      "\t/path/to/data/MinION_sequencing_data_20190809/guppy_3.2.2_exec_20190809/pass/fastq_runid_536cafc874cb995b6c8b47a5baabb9598eaded02_21_2.fastq\n"
     ]
    },
    {
     "name": "stdout",
     "output_type": "stream",
     "text": [
      "[########################################] | 100% Completed |  4.7s\n",
      "[########################################] | 100% Completed |  4.8s\n",
      "[########################################] | 100% Completed |  4.9s\n",
      "[########################################] | 100% Completed |  5.0s\n",
      "[########################################] | 100% Completed |  5.0s\n",
      "[########################################] | 100% Completed |  5.1s\n",
      "[########################################] | 100% Completed |  5.1s\n",
      "[########################################] | 100% Completed |  5.2s\n",
      "[########################################] | 100% Completed |  5.3s\n",
      "[########################################] | 100% Completed |  5.3s\n",
      "[########################################] | 100% Completed |  5.4s\n",
      "[########################################] | 100% Completed |  5.5s\n",
      "[########################################] | 100% Completed |  5.5s\n",
      "[########################################] | 100% Completed |  5.6s\n"
     ]
    },
    {
     "name": "stderr",
     "output_type": "stream",
     "text": [
      "[20:52:29 - __main__] Saving to file: /path/to/data/MinION_sequencing_data_20190809/guppy_3.2.2_exec_20190809/sw/fastq_runid_536cafc874cb995b6c8b47a5baabb9598eaded02_21_2.tsv\n",
      "[20:52:29 - __main__] Starting fastq (88 of 211)\n",
      "\t/path/to/data/MinION_sequencing_data_20190809/guppy_3.2.2_exec_20190809/pass/fastq_runid_536cafc874cb995b6c8b47a5baabb9598eaded02_22_1.fastq\n"
     ]
    },
    {
     "name": "stdout",
     "output_type": "stream",
     "text": [
      "[########################################] | 100% Completed | 43.9s\n",
      "[########################################] | 100% Completed | 44.0s\n",
      "[########################################] | 100% Completed | 44.0s\n",
      "[########################################] | 100% Completed | 44.1s\n",
      "[########################################] | 100% Completed | 44.3s\n",
      "[########################################] | 100% Completed | 44.3s\n",
      "[########################################] | 100% Completed | 44.4s\n",
      "[########################################] | 100% Completed | 44.4s\n",
      "[########################################] | 100% Completed | 44.5s\n",
      "[########################################] | 100% Completed | 44.5s\n",
      "[########################################] | 100% Completed | 44.6s\n",
      "[########################################] | 100% Completed | 44.6s\n",
      "[########################################] | 100% Completed | 44.6s\n",
      "[########################################] | 100% Completed | 44.7s\n"
     ]
    },
    {
     "name": "stderr",
     "output_type": "stream",
     "text": [
      "[20:53:15 - __main__] Saving to file: /path/to/data/MinION_sequencing_data_20190809/guppy_3.2.2_exec_20190809/sw/fastq_runid_536cafc874cb995b6c8b47a5baabb9598eaded02_22_1.tsv\n",
      "[20:53:15 - __main__] Starting fastq (89 of 211)\n",
      "\t/path/to/data/MinION_sequencing_data_20190809/guppy_3.2.2_exec_20190809/pass/fastq_runid_536cafc874cb995b6c8b47a5baabb9598eaded02_23_0.fastq\n"
     ]
    },
    {
     "name": "stdout",
     "output_type": "stream",
     "text": [
      "[########################################] | 100% Completed | 39.8s\n",
      "[########################################] | 100% Completed | 39.9s\n",
      "[########################################] | 100% Completed | 40.0s\n",
      "[########################################] | 100% Completed | 40.1s\n",
      "[########################################] | 100% Completed | 40.2s\n",
      "[########################################] | 100% Completed | 40.2s\n",
      "[########################################] | 100% Completed | 40.2s\n",
      "[########################################] | 100% Completed | 40.3s\n",
      "[########################################] | 100% Completed | 40.3s\n",
      "[########################################] | 100% Completed | 40.4s\n",
      "[########################################] | 100% Completed | 40.4s\n",
      "[########################################] | 100% Completed | 40.4s\n",
      "[########################################] | 100% Completed | 40.5s\n",
      "[########################################] | 100% Completed | 40.6s\n"
     ]
    },
    {
     "name": "stderr",
     "output_type": "stream",
     "text": [
      "[20:53:56 - __main__] Saving to file: /path/to/data/MinION_sequencing_data_20190809/guppy_3.2.2_exec_20190809/sw/fastq_runid_536cafc874cb995b6c8b47a5baabb9598eaded02_23_0.tsv\n",
      "[20:53:57 - __main__] Starting fastq (90 of 211)\n",
      "\t/path/to/data/MinION_sequencing_data_20190809/guppy_3.2.2_exec_20190809/pass/fastq_runid_536cafc874cb995b6c8b47a5baabb9598eaded02_22_2.fastq\n"
     ]
    },
    {
     "name": "stdout",
     "output_type": "stream",
     "text": [
      "[########################################] | 100% Completed |  2.0s\n",
      "[########################################] | 100% Completed |  2.0s\n",
      "[########################################] | 100% Completed |  2.0s\n",
      "[########################################] | 100% Completed |  2.1s\n",
      "[########################################] | 100% Completed |  2.1s\n",
      "[########################################] | 100% Completed |  2.2s\n",
      "[########################################] | 100% Completed |  2.3s\n",
      "[########################################] | 100% Completed |  2.3s\n",
      "[########################################] | 100% Completed |  2.4s\n",
      "[########################################] | 100% Completed |  2.5s\n",
      "[########################################] | 100% Completed |  2.6s\n",
      "[########################################] | 100% Completed |  2.7s\n",
      "[########################################] | 100% Completed |  2.7s\n",
      "[########################################] | 100% Completed |  2.7s\n"
     ]
    },
    {
     "name": "stderr",
     "output_type": "stream",
     "text": [
      "[20:54:00 - __main__] Saving to file: /path/to/data/MinION_sequencing_data_20190809/guppy_3.2.2_exec_20190809/sw/fastq_runid_536cafc874cb995b6c8b47a5baabb9598eaded02_22_2.tsv\n",
      "[20:54:00 - __main__] Starting fastq (91 of 211)\n",
      "\t/path/to/data/MinION_sequencing_data_20190809/guppy_3.2.2_exec_20190809/pass/fastq_runid_536cafc874cb995b6c8b47a5baabb9598eaded02_23_1.fastq\n"
     ]
    },
    {
     "name": "stdout",
     "output_type": "stream",
     "text": [
      "[########################################] | 100% Completed | 27.5s\n",
      "[########################################] | 100% Completed | 27.5s\n",
      "[########################################] | 100% Completed | 27.5s\n",
      "[########################################] | 100% Completed | 27.6s\n",
      "[########################################] | 100% Completed | 27.7s\n",
      "[########################################] | 100% Completed | 27.7s\n",
      "[########################################] | 100% Completed | 27.8s\n",
      "[########################################] | 100% Completed | 27.8s\n",
      "[########################################] | 100% Completed | 27.8s\n",
      "[########################################] | 100% Completed | 27.8s\n",
      "[########################################] | 100% Completed | 27.9s\n",
      "[########################################] | 100% Completed | 28.0s\n",
      "[########################################] | 100% Completed | 28.1s\n",
      "[########################################] | 100% Completed | 28.1s\n"
     ]
    },
    {
     "name": "stderr",
     "output_type": "stream",
     "text": [
      "[20:54:29 - __main__] Saving to file: /path/to/data/MinION_sequencing_data_20190809/guppy_3.2.2_exec_20190809/sw/fastq_runid_536cafc874cb995b6c8b47a5baabb9598eaded02_23_1.tsv\n",
      "[20:54:29 - __main__] Starting fastq (92 of 211)\n",
      "\t/path/to/data/MinION_sequencing_data_20190809/guppy_3.2.2_exec_20190809/pass/fastq_runid_536cafc874cb995b6c8b47a5baabb9598eaded02_23_2.fastq\n"
     ]
    },
    {
     "name": "stdout",
     "output_type": "stream",
     "text": [
      "[########################################] | 100% Completed | 57.4s\n",
      "[########################################] | 100% Completed | 57.5s\n",
      "[########################################] | 100% Completed | 57.5s\n",
      "[########################################] | 100% Completed | 57.6s\n",
      "[########################################] | 100% Completed | 57.7s\n",
      "[########################################] | 100% Completed | 57.8s\n",
      "[########################################] | 100% Completed | 57.9s\n",
      "[########################################] | 100% Completed | 58.0s\n",
      "[########################################] | 100% Completed | 58.0s\n",
      "[########################################] | 100% Completed | 58.1s\n",
      "[########################################] | 100% Completed | 58.1s\n",
      "[########################################] | 100% Completed | 58.1s\n",
      "[########################################] | 100% Completed | 58.2s\n",
      "[########################################] | 100% Completed | 58.2s\n"
     ]
    },
    {
     "name": "stderr",
     "output_type": "stream",
     "text": [
      "[20:55:28 - __main__] Saving to file: /path/to/data/MinION_sequencing_data_20190809/guppy_3.2.2_exec_20190809/sw/fastq_runid_536cafc874cb995b6c8b47a5baabb9598eaded02_23_2.tsv\n",
      "[20:55:29 - __main__] Starting fastq (93 of 211)\n",
      "\t/path/to/data/MinION_sequencing_data_20190809/guppy_3.2.2_exec_20190809/pass/fastq_runid_536cafc874cb995b6c8b47a5baabb9598eaded02_21_3.fastq\n"
     ]
    },
    {
     "name": "stdout",
     "output_type": "stream",
     "text": [
      "[########################################] | 100% Completed | 34.0s\n",
      "[########################################] | 100% Completed | 34.1s\n",
      "[########################################] | 100% Completed | 34.1s\n",
      "[########################################] | 100% Completed | 34.2s\n",
      "[########################################] | 100% Completed | 34.2s\n",
      "[########################################] | 100% Completed | 34.2s\n",
      "[########################################] | 100% Completed | 34.3s\n",
      "[########################################] | 100% Completed | 34.4s\n",
      "[########################################] | 100% Completed | 34.5s\n",
      "[########################################] | 100% Completed | 34.6s\n",
      "[########################################] | 100% Completed | 34.6s\n",
      "[########################################] | 100% Completed | 34.6s\n",
      "[########################################] | 100% Completed | 34.7s\n",
      "[########################################] | 100% Completed | 34.8s\n"
     ]
    },
    {
     "name": "stderr",
     "output_type": "stream",
     "text": [
      "[20:56:04 - __main__] Saving to file: /path/to/data/MinION_sequencing_data_20190809/guppy_3.2.2_exec_20190809/sw/fastq_runid_536cafc874cb995b6c8b47a5baabb9598eaded02_21_3.tsv\n",
      "[20:56:04 - __main__] Starting fastq (94 of 211)\n",
      "\t/path/to/data/MinION_sequencing_data_20190809/guppy_3.2.2_exec_20190809/pass/fastq_runid_536cafc874cb995b6c8b47a5baabb9598eaded02_24_0.fastq\n"
     ]
    },
    {
     "name": "stdout",
     "output_type": "stream",
     "text": [
      "[########################################] | 100% Completed | 34.5s\n",
      "[########################################] | 100% Completed | 34.6s\n",
      "[########################################] | 100% Completed | 34.7s\n",
      "[########################################] | 100% Completed | 34.7s\n",
      "[########################################] | 100% Completed | 34.8s\n",
      "[########################################] | 100% Completed | 34.9s\n",
      "[########################################] | 100% Completed | 34.9s\n",
      "[########################################] | 100% Completed | 35.0s\n",
      "[########################################] | 100% Completed | 35.1s\n",
      "[########################################] | 100% Completed | 35.1s\n",
      "[########################################] | 100% Completed | 35.1s\n",
      "[########################################] | 100% Completed | 35.2s\n",
      "[########################################] | 100% Completed | 35.2s\n",
      "[########################################] | 100% Completed | 35.3s\n"
     ]
    },
    {
     "name": "stderr",
     "output_type": "stream",
     "text": [
      "[20:56:41 - __main__] Saving to file: /path/to/data/MinION_sequencing_data_20190809/guppy_3.2.2_exec_20190809/sw/fastq_runid_536cafc874cb995b6c8b47a5baabb9598eaded02_24_0.tsv\n",
      "[20:56:41 - __main__] Starting fastq (95 of 211)\n",
      "\t/path/to/data/MinION_sequencing_data_20190809/guppy_3.2.2_exec_20190809/pass/fastq_runid_536cafc874cb995b6c8b47a5baabb9598eaded02_24_1.fastq\n"
     ]
    },
    {
     "name": "stdout",
     "output_type": "stream",
     "text": [
      "[########################################] | 100% Completed | 35.7s\n",
      "[########################################] | 100% Completed | 35.7s\n",
      "[########################################] | 100% Completed | 35.8s\n",
      "[########################################] | 100% Completed | 35.9s\n",
      "[########################################] | 100% Completed | 35.9s\n",
      "[########################################] | 100% Completed | 36.0s\n",
      "[########################################] | 100% Completed | 36.1s\n",
      "[########################################] | 100% Completed | 36.2s\n",
      "[########################################] | 100% Completed | 36.2s\n",
      "[########################################] | 100% Completed | 36.3s\n",
      "[########################################] | 100% Completed | 36.3s\n",
      "[########################################] | 100% Completed | 36.4s\n",
      "[########################################] | 100% Completed | 36.4s\n",
      "[########################################] | 100% Completed | 36.5s\n"
     ]
    },
    {
     "name": "stderr",
     "output_type": "stream",
     "text": [
      "[20:57:18 - __main__] Saving to file: /path/to/data/MinION_sequencing_data_20190809/guppy_3.2.2_exec_20190809/sw/fastq_runid_536cafc874cb995b6c8b47a5baabb9598eaded02_24_1.tsv\n",
      "[20:57:18 - __main__] Starting fastq (96 of 211)\n",
      "\t/path/to/data/MinION_sequencing_data_20190809/guppy_3.2.2_exec_20190809/pass/fastq_runid_536cafc874cb995b6c8b47a5baabb9598eaded02_24_2.fastq\n"
     ]
    },
    {
     "name": "stdout",
     "output_type": "stream",
     "text": [
      "[########################################] | 100% Completed | 44.8s\n",
      "[########################################] | 100% Completed | 44.9s\n",
      "[########################################] | 100% Completed | 44.9s\n",
      "[########################################] | 100% Completed | 44.9s\n",
      "[########################################] | 100% Completed | 45.0s\n",
      "[########################################] | 100% Completed | 45.0s\n",
      "[########################################] | 100% Completed | 45.1s\n",
      "[########################################] | 100% Completed | 45.1s\n",
      "[########################################] | 100% Completed | 45.1s\n",
      "[########################################] | 100% Completed | 45.1s\n",
      "[########################################] | 100% Completed | 45.2s\n",
      "[########################################] | 100% Completed | 45.2s\n",
      "[########################################] | 100% Completed | 45.2s\n",
      "[########################################] | 100% Completed | 45.3s\n"
     ]
    },
    {
     "name": "stderr",
     "output_type": "stream",
     "text": [
      "[20:58:04 - __main__] Saving to file: /path/to/data/MinION_sequencing_data_20190809/guppy_3.2.2_exec_20190809/sw/fastq_runid_536cafc874cb995b6c8b47a5baabb9598eaded02_24_2.tsv\n",
      "[20:58:05 - __main__] Starting fastq (97 of 211)\n",
      "\t/path/to/data/MinION_sequencing_data_20190809/guppy_3.2.2_exec_20190809/pass/fastq_runid_536cafc874cb995b6c8b47a5baabb9598eaded02_22_3.fastq\n"
     ]
    },
    {
     "name": "stdout",
     "output_type": "stream",
     "text": [
      "[########################################] | 100% Completed |  6.3s\n",
      "[########################################] | 100% Completed |  6.4s\n",
      "[########################################] | 100% Completed |  6.4s\n",
      "[########################################] | 100% Completed |  6.5s\n",
      "[########################################] | 100% Completed |  6.6s\n",
      "[########################################] | 100% Completed |  6.6s\n",
      "[########################################] | 100% Completed |  6.6s\n",
      "[########################################] | 100% Completed |  6.7s\n",
      "[########################################] | 100% Completed |  6.8s\n",
      "[########################################] | 100% Completed |  6.9s\n",
      "[########################################] | 100% Completed |  6.9s\n",
      "[########################################] | 100% Completed |  6.9s\n",
      "[########################################] | 100% Completed |  7.1s\n",
      "[########################################] | 100% Completed |  7.1s\n"
     ]
    },
    {
     "name": "stderr",
     "output_type": "stream",
     "text": [
      "[20:58:13 - __main__] Saving to file: /path/to/data/MinION_sequencing_data_20190809/guppy_3.2.2_exec_20190809/sw/fastq_runid_536cafc874cb995b6c8b47a5baabb9598eaded02_22_3.tsv\n",
      "[20:58:13 - __main__] Starting fastq (98 of 211)\n",
      "\t/path/to/data/MinION_sequencing_data_20190809/guppy_3.2.2_exec_20190809/pass/fastq_runid_536cafc874cb995b6c8b47a5baabb9598eaded02_23_3.fastq\n"
     ]
    },
    {
     "name": "stdout",
     "output_type": "stream",
     "text": [
      "[########################################] | 100% Completed | 11.7s\n",
      "[########################################] | 100% Completed | 11.8s\n",
      "[########################################] | 100% Completed | 11.9s\n",
      "[########################################] | 100% Completed | 12.0s\n",
      "[########################################] | 100% Completed | 12.1s\n",
      "[########################################] | 100% Completed | 12.1s\n",
      "[########################################] | 100% Completed | 12.1s\n",
      "[########################################] | 100% Completed | 12.1s\n",
      "[########################################] | 100% Completed | 12.2s\n",
      "[########################################] | 100% Completed | 12.2s\n",
      "[########################################] | 100% Completed | 12.2s\n",
      "[########################################] | 100% Completed | 12.2s\n",
      "[########################################] | 100% Completed | 12.2s\n",
      "[########################################] | 100% Completed | 12.3s\n"
     ]
    },
    {
     "name": "stderr",
     "output_type": "stream",
     "text": [
      "[20:58:26 - __main__] Saving to file: /path/to/data/MinION_sequencing_data_20190809/guppy_3.2.2_exec_20190809/sw/fastq_runid_536cafc874cb995b6c8b47a5baabb9598eaded02_23_3.tsv\n",
      "[20:58:26 - __main__] Starting fastq (99 of 211)\n",
      "\t/path/to/data/MinION_sequencing_data_20190809/guppy_3.2.2_exec_20190809/pass/fastq_runid_536cafc874cb995b6c8b47a5baabb9598eaded02_24_3.fastq\n"
     ]
    },
    {
     "name": "stdout",
     "output_type": "stream",
     "text": [
      "[########################################] | 100% Completed | 24.8s\n",
      "[########################################] | 100% Completed | 24.9s\n",
      "[########################################] | 100% Completed | 25.0s\n",
      "[########################################] | 100% Completed | 25.1s\n",
      "[########################################] | 100% Completed | 25.1s\n",
      "[########################################] | 100% Completed | 25.2s\n",
      "[########################################] | 100% Completed | 25.2s\n",
      "[########################################] | 100% Completed | 25.2s\n",
      "[########################################] | 100% Completed | 25.3s\n",
      "[########################################] | 100% Completed | 25.3s\n",
      "[########################################] | 100% Completed | 25.3s\n",
      "[########################################] | 100% Completed | 25.4s\n",
      "[########################################] | 100% Completed | 25.5s\n",
      "[########################################] | 100% Completed | 25.5s\n"
     ]
    },
    {
     "name": "stderr",
     "output_type": "stream",
     "text": [
      "[20:58:52 - __main__] Saving to file: /path/to/data/MinION_sequencing_data_20190809/guppy_3.2.2_exec_20190809/sw/fastq_runid_536cafc874cb995b6c8b47a5baabb9598eaded02_24_3.tsv\n",
      "[20:58:52 - __main__] Starting fastq (100 of 211)\n",
      "\t/path/to/data/MinION_sequencing_data_20190809/guppy_3.2.2_exec_20190809/pass/fastq_runid_536cafc874cb995b6c8b47a5baabb9598eaded02_25_0.fastq\n"
     ]
    },
    {
     "name": "stdout",
     "output_type": "stream",
     "text": [
      "[########################################] | 100% Completed |  1min 50.4s\n",
      "[########################################] | 100% Completed |  1min 50.5s\n",
      "[########################################] | 100% Completed |  1min 50.5s\n",
      "[########################################] | 100% Completed |  1min 50.6s\n",
      "[########################################] | 100% Completed |  1min 50.7s\n",
      "[########################################] | 100% Completed |  1min 50.8s\n",
      "[########################################] | 100% Completed |  1min 50.8s\n",
      "[########################################] | 100% Completed |  1min 50.8s\n",
      "[########################################] | 100% Completed |  1min 50.9s\n",
      "[########################################] | 100% Completed |  1min 51.0s\n",
      "[########################################] | 100% Completed |  1min 51.0s\n",
      "[########################################] | 100% Completed |  1min 51.1s\n",
      "[########################################] | 100% Completed |  1min 51.1s\n",
      "[########################################] | 100% Completed |  1min 51.2s\n"
     ]
    },
    {
     "name": "stderr",
     "output_type": "stream",
     "text": [
      "[21:00:45 - __main__] Saving to file: /path/to/data/MinION_sequencing_data_20190809/guppy_3.2.2_exec_20190809/sw/fastq_runid_536cafc874cb995b6c8b47a5baabb9598eaded02_25_0.tsv\n",
      "[21:00:45 - __main__] Starting fastq (101 of 211)\n",
      "\t/path/to/data/MinION_sequencing_data_20190809/guppy_3.2.2_exec_20190809/pass/fastq_runid_536cafc874cb995b6c8b47a5baabb9598eaded02_25_1.fastq\n"
     ]
    },
    {
     "name": "stdout",
     "output_type": "stream",
     "text": [
      "[########################################] | 100% Completed |  2.9s\n",
      "[########################################] | 100% Completed |  2.9s\n",
      "[########################################] | 100% Completed |  3.0s\n",
      "[########################################] | 100% Completed |  3.0s\n",
      "[########################################] | 100% Completed |  3.1s\n",
      "[########################################] | 100% Completed |  3.2s\n",
      "[########################################] | 100% Completed |  3.3s\n",
      "[########################################] | 100% Completed |  3.3s\n",
      "[########################################] | 100% Completed |  3.4s\n",
      "[########################################] | 100% Completed |  3.5s\n",
      "[########################################] | 100% Completed |  3.5s\n",
      "[########################################] | 100% Completed |  3.6s\n",
      "[########################################] | 100% Completed |  3.7s\n",
      "[########################################] | 100% Completed |  3.7s\n"
     ]
    },
    {
     "name": "stderr",
     "output_type": "stream",
     "text": [
      "[21:00:50 - __main__] Saving to file: /path/to/data/MinION_sequencing_data_20190809/guppy_3.2.2_exec_20190809/sw/fastq_runid_536cafc874cb995b6c8b47a5baabb9598eaded02_25_1.tsv\n",
      "[21:00:50 - __main__] Starting fastq (102 of 211)\n",
      "\t/path/to/data/MinION_sequencing_data_20190809/guppy_3.2.2_exec_20190809/pass/fastq_runid_536cafc874cb995b6c8b47a5baabb9598eaded02_25_2.fastq\n"
     ]
    },
    {
     "name": "stdout",
     "output_type": "stream",
     "text": [
      "[########################################] | 100% Completed |  8.1s\n",
      "[########################################] | 100% Completed |  8.1s\n",
      "[########################################] | 100% Completed |  8.2s\n",
      "[########################################] | 100% Completed |  8.3s\n",
      "[########################################] | 100% Completed |  8.3s\n",
      "[########################################] | 100% Completed |  8.3s\n",
      "[########################################] | 100% Completed |  8.4s\n",
      "[########################################] | 100% Completed |  8.5s\n",
      "[########################################] | 100% Completed |  8.5s\n",
      "[########################################] | 100% Completed |  8.6s\n",
      "[########################################] | 100% Completed |  8.7s\n",
      "[########################################] | 100% Completed |  8.7s\n",
      "[########################################] | 100% Completed |  8.8s\n",
      "[########################################] | 100% Completed |  8.8s\n"
     ]
    },
    {
     "name": "stderr",
     "output_type": "stream",
     "text": [
      "[21:00:59 - __main__] Saving to file: /path/to/data/MinION_sequencing_data_20190809/guppy_3.2.2_exec_20190809/sw/fastq_runid_536cafc874cb995b6c8b47a5baabb9598eaded02_25_2.tsv\n",
      "[21:00:59 - __main__] Starting fastq (103 of 211)\n",
      "\t/path/to/data/MinION_sequencing_data_20190809/guppy_3.2.2_exec_20190809/pass/fastq_runid_536cafc874cb995b6c8b47a5baabb9598eaded02_25_3.fastq\n"
     ]
    },
    {
     "name": "stdout",
     "output_type": "stream",
     "text": [
      "[########################################] | 100% Completed | 12.1s\n",
      "[########################################] | 100% Completed | 12.2s\n",
      "[########################################] | 100% Completed | 12.2s\n",
      "[########################################] | 100% Completed | 12.3s\n",
      "[########################################] | 100% Completed | 12.4s\n",
      "[########################################] | 100% Completed | 12.4s\n",
      "[########################################] | 100% Completed | 12.4s\n",
      "[########################################] | 100% Completed | 12.4s\n",
      "[########################################] | 100% Completed | 12.5s\n",
      "[########################################] | 100% Completed | 12.6s\n",
      "[########################################] | 100% Completed | 12.6s\n",
      "[########################################] | 100% Completed | 12.7s\n",
      "[########################################] | 100% Completed | 12.7s\n",
      "[########################################] | 100% Completed | 12.8s\n"
     ]
    },
    {
     "name": "stderr",
     "output_type": "stream",
     "text": [
      "[21:01:13 - __main__] Saving to file: /path/to/data/MinION_sequencing_data_20190809/guppy_3.2.2_exec_20190809/sw/fastq_runid_536cafc874cb995b6c8b47a5baabb9598eaded02_25_3.tsv\n",
      "[21:01:13 - __main__] Starting fastq (104 of 211)\n",
      "\t/path/to/data/MinION_sequencing_data_20190809/guppy_3.2.2_exec_20190809/pass/fastq_runid_536cafc874cb995b6c8b47a5baabb9598eaded02_26_0.fastq\n"
     ]
    },
    {
     "name": "stdout",
     "output_type": "stream",
     "text": [
      "[########################################] | 100% Completed | 43.6s\n",
      "[########################################] | 100% Completed | 43.7s\n",
      "[########################################] | 100% Completed | 43.7s\n",
      "[########################################] | 100% Completed | 43.8s\n",
      "[########################################] | 100% Completed | 43.9s\n",
      "[########################################] | 100% Completed | 43.9s\n",
      "[########################################] | 100% Completed | 44.0s\n",
      "[########################################] | 100% Completed | 44.1s\n",
      "[########################################] | 100% Completed | 44.1s\n",
      "[########################################] | 100% Completed | 44.1s\n",
      "[########################################] | 100% Completed | 44.2s\n",
      "[########################################] | 100% Completed | 44.3s\n",
      "[########################################] | 100% Completed | 44.4s\n",
      "[########################################] | 100% Completed | 44.5s\n"
     ]
    },
    {
     "name": "stderr",
     "output_type": "stream",
     "text": [
      "[21:01:59 - __main__] Saving to file: /path/to/data/MinION_sequencing_data_20190809/guppy_3.2.2_exec_20190809/sw/fastq_runid_536cafc874cb995b6c8b47a5baabb9598eaded02_26_0.tsv\n",
      "[21:01:59 - __main__] Starting fastq (105 of 211)\n",
      "\t/path/to/data/MinION_sequencing_data_20190809/guppy_3.2.2_exec_20190809/pass/fastq_runid_536cafc874cb995b6c8b47a5baabb9598eaded02_26_1.fastq\n"
     ]
    },
    {
     "name": "stdout",
     "output_type": "stream",
     "text": [
      "[########################################] | 100% Completed | 35.6s\n",
      "[########################################] | 100% Completed | 35.7s\n",
      "[########################################] | 100% Completed | 35.8s\n",
      "[########################################] | 100% Completed | 35.8s\n",
      "[########################################] | 100% Completed | 35.8s\n",
      "[########################################] | 100% Completed | 35.9s\n",
      "[########################################] | 100% Completed | 35.9s\n",
      "[########################################] | 100% Completed | 36.0s\n",
      "[########################################] | 100% Completed | 36.0s\n",
      "[########################################] | 100% Completed | 36.1s\n",
      "[########################################] | 100% Completed | 36.1s\n",
      "[########################################] | 100% Completed | 36.2s\n",
      "[########################################] | 100% Completed | 36.2s\n",
      "[########################################] | 100% Completed | 36.3s\n"
     ]
    },
    {
     "name": "stderr",
     "output_type": "stream",
     "text": [
      "[21:02:36 - __main__] Saving to file: /path/to/data/MinION_sequencing_data_20190809/guppy_3.2.2_exec_20190809/sw/fastq_runid_536cafc874cb995b6c8b47a5baabb9598eaded02_26_1.tsv\n",
      "[21:02:36 - __main__] Starting fastq (106 of 211)\n",
      "\t/path/to/data/MinION_sequencing_data_20190809/guppy_3.2.2_exec_20190809/pass/fastq_runid_536cafc874cb995b6c8b47a5baabb9598eaded02_26_2.fastq\n"
     ]
    },
    {
     "name": "stdout",
     "output_type": "stream",
     "text": [
      "[########################################] | 100% Completed | 55.8s\n",
      "[########################################] | 100% Completed | 55.9s\n",
      "[########################################] | 100% Completed | 55.9s\n",
      "[########################################] | 100% Completed | 56.0s\n",
      "[########################################] | 100% Completed | 56.1s\n",
      "[########################################] | 100% Completed | 56.1s\n",
      "[########################################] | 100% Completed | 56.2s\n",
      "[########################################] | 100% Completed | 56.3s\n",
      "[########################################] | 100% Completed | 56.4s\n",
      "[########################################] | 100% Completed | 56.5s\n",
      "[########################################] | 100% Completed | 56.5s\n",
      "[########################################] | 100% Completed | 56.6s\n",
      "[########################################] | 100% Completed | 56.6s\n",
      "[########################################] | 100% Completed | 56.6s\n"
     ]
    },
    {
     "name": "stderr",
     "output_type": "stream",
     "text": [
      "[21:03:34 - __main__] Saving to file: /path/to/data/MinION_sequencing_data_20190809/guppy_3.2.2_exec_20190809/sw/fastq_runid_536cafc874cb995b6c8b47a5baabb9598eaded02_26_2.tsv\n",
      "[21:03:34 - __main__] Starting fastq (107 of 211)\n",
      "\t/path/to/data/MinION_sequencing_data_20190809/guppy_3.2.2_exec_20190809/pass/fastq_runid_536cafc874cb995b6c8b47a5baabb9598eaded02_27_0.fastq\n"
     ]
    },
    {
     "name": "stdout",
     "output_type": "stream",
     "text": [
      "[########################################] | 100% Completed | 56.5s\n",
      "[########################################] | 100% Completed | 56.5s\n",
      "[########################################] | 100% Completed | 56.6s\n",
      "[########################################] | 100% Completed | 56.6s\n",
      "[########################################] | 100% Completed | 56.6s\n",
      "[########################################] | 100% Completed | 56.7s\n",
      "[########################################] | 100% Completed | 56.8s\n",
      "[########################################] | 100% Completed | 56.8s\n",
      "[########################################] | 100% Completed | 56.9s\n",
      "[########################################] | 100% Completed | 56.9s\n",
      "[########################################] | 100% Completed | 57.0s\n",
      "[########################################] | 100% Completed | 57.1s\n",
      "[########################################] | 100% Completed | 57.2s\n",
      "[########################################] | 100% Completed | 57.2s\n"
     ]
    },
    {
     "name": "stderr",
     "output_type": "stream",
     "text": [
      "[21:04:32 - __main__] Saving to file: /path/to/data/MinION_sequencing_data_20190809/guppy_3.2.2_exec_20190809/sw/fastq_runid_536cafc874cb995b6c8b47a5baabb9598eaded02_27_0.tsv\n",
      "[21:04:32 - __main__] Starting fastq (108 of 211)\n",
      "\t/path/to/data/MinION_sequencing_data_20190809/guppy_3.2.2_exec_20190809/pass/fastq_runid_536cafc874cb995b6c8b47a5baabb9598eaded02_27_1.fastq\n"
     ]
    },
    {
     "name": "stdout",
     "output_type": "stream",
     "text": [
      "[########################################] | 100% Completed |  6.6s\n",
      "[########################################] | 100% Completed |  6.7s\n",
      "[########################################] | 100% Completed |  6.8s\n",
      "[########################################] | 100% Completed |  6.9s\n",
      "[########################################] | 100% Completed |  6.9s\n",
      "[########################################] | 100% Completed |  7.0s\n",
      "[########################################] | 100% Completed |  7.0s\n",
      "[########################################] | 100% Completed |  7.1s\n",
      "[########################################] | 100% Completed |  7.1s\n",
      "[########################################] | 100% Completed |  7.2s\n",
      "[########################################] | 100% Completed |  7.2s\n",
      "[########################################] | 100% Completed |  7.3s\n",
      "[########################################] | 100% Completed |  7.3s\n",
      "[########################################] | 100% Completed |  7.4s\n"
     ]
    },
    {
     "name": "stderr",
     "output_type": "stream",
     "text": [
      "[21:04:41 - __main__] Saving to file: /path/to/data/MinION_sequencing_data_20190809/guppy_3.2.2_exec_20190809/sw/fastq_runid_536cafc874cb995b6c8b47a5baabb9598eaded02_27_1.tsv\n",
      "[21:04:41 - __main__] Starting fastq (109 of 211)\n",
      "\t/path/to/data/MinION_sequencing_data_20190809/guppy_3.2.2_exec_20190809/pass/fastq_runid_536cafc874cb995b6c8b47a5baabb9598eaded02_28_0.fastq\n"
     ]
    },
    {
     "name": "stdout",
     "output_type": "stream",
     "text": [
      "[########################################] | 100% Completed |  1min 43.6s\n",
      "[########################################] | 100% Completed |  1min 43.7s\n",
      "[########################################] | 100% Completed |  1min 43.8s\n",
      "[########################################] | 100% Completed |  1min 43.9s\n",
      "[########################################] | 100% Completed |  1min 43.9s\n",
      "[########################################] | 100% Completed |  1min 43.9s\n",
      "[########################################] | 100% Completed |  1min 44.0s\n",
      "[########################################] | 100% Completed |  1min 44.0s\n",
      "[########################################] | 100% Completed |  1min 44.0s\n",
      "[########################################] | 100% Completed |  1min 44.1s\n",
      "[########################################] | 100% Completed |  1min 44.1s\n",
      "[########################################] | 100% Completed |  1min 44.1s\n",
      "[########################################] | 100% Completed |  1min 44.2s\n",
      "[########################################] | 100% Completed |  1min 44.3s\n"
     ]
    },
    {
     "name": "stderr",
     "output_type": "stream",
     "text": [
      "[21:06:26 - __main__] Saving to file: /path/to/data/MinION_sequencing_data_20190809/guppy_3.2.2_exec_20190809/sw/fastq_runid_536cafc874cb995b6c8b47a5baabb9598eaded02_28_0.tsv\n",
      "[21:06:26 - __main__] Starting fastq (110 of 211)\n",
      "\t/path/to/data/MinION_sequencing_data_20190809/guppy_3.2.2_exec_20190809/pass/fastq_runid_536cafc874cb995b6c8b47a5baabb9598eaded02_28_1.fastq\n"
     ]
    },
    {
     "name": "stdout",
     "output_type": "stream",
     "text": [
      "[########################################] | 100% Completed |  4.2s\n",
      "[########################################] | 100% Completed |  4.2s\n",
      "[########################################] | 100% Completed |  4.3s\n",
      "[########################################] | 100% Completed |  4.3s\n",
      "[########################################] | 100% Completed |  4.4s\n",
      "[########################################] | 100% Completed |  4.5s\n",
      "[########################################] | 100% Completed |  4.5s\n",
      "[########################################] | 100% Completed |  4.5s\n",
      "[########################################] | 100% Completed |  4.5s\n",
      "[########################################] | 100% Completed |  4.6s\n",
      "[########################################] | 100% Completed |  4.6s\n",
      "[########################################] | 100% Completed |  4.7s\n",
      "[########################################] | 100% Completed |  4.7s\n",
      "[########################################] | 100% Completed |  4.8s\n"
     ]
    },
    {
     "name": "stderr",
     "output_type": "stream",
     "text": [
      "[21:06:32 - __main__] Saving to file: /path/to/data/MinION_sequencing_data_20190809/guppy_3.2.2_exec_20190809/sw/fastq_runid_536cafc874cb995b6c8b47a5baabb9598eaded02_28_1.tsv\n",
      "[21:06:32 - __main__] Starting fastq (111 of 211)\n",
      "\t/path/to/data/MinION_sequencing_data_20190809/guppy_3.2.2_exec_20190809/pass/fastq_runid_536cafc874cb995b6c8b47a5baabb9598eaded02_29_0.fastq\n"
     ]
    },
    {
     "name": "stdout",
     "output_type": "stream",
     "text": [
      "[########################################] | 100% Completed | 38.6s\n",
      "[########################################] | 100% Completed | 38.6s\n",
      "[########################################] | 100% Completed | 38.6s\n",
      "[########################################] | 100% Completed | 38.7s\n",
      "[########################################] | 100% Completed | 38.8s\n",
      "[########################################] | 100% Completed | 38.8s\n",
      "[########################################] | 100% Completed | 38.8s\n",
      "[########################################] | 100% Completed | 38.8s\n",
      "[########################################] | 100% Completed | 38.9s\n",
      "[########################################] | 100% Completed | 38.9s\n",
      "[########################################] | 100% Completed | 39.0s\n",
      "[########################################] | 100% Completed | 39.1s\n",
      "[########################################] | 100% Completed | 39.1s\n",
      "[########################################] | 100% Completed | 39.2s\n"
     ]
    },
    {
     "name": "stderr",
     "output_type": "stream",
     "text": [
      "[21:07:12 - __main__] Saving to file: /path/to/data/MinION_sequencing_data_20190809/guppy_3.2.2_exec_20190809/sw/fastq_runid_536cafc874cb995b6c8b47a5baabb9598eaded02_29_0.tsv\n",
      "[21:07:12 - __main__] Starting fastq (112 of 211)\n",
      "\t/path/to/data/MinION_sequencing_data_20190809/guppy_3.2.2_exec_20190809/pass/fastq_runid_536cafc874cb995b6c8b47a5baabb9598eaded02_28_2.fastq\n"
     ]
    },
    {
     "name": "stdout",
     "output_type": "stream",
     "text": [
      "[########################################] | 100% Completed | 22.4s\n",
      "[########################################] | 100% Completed | 22.5s\n",
      "[########################################] | 100% Completed | 22.5s\n",
      "[########################################] | 100% Completed | 22.6s\n",
      "[########################################] | 100% Completed | 22.7s\n",
      "[########################################] | 100% Completed | 22.8s\n",
      "[########################################] | 100% Completed | 22.8s\n",
      "[########################################] | 100% Completed | 22.9s\n",
      "[########################################] | 100% Completed | 23.0s\n",
      "[########################################] | 100% Completed | 23.0s\n",
      "[########################################] | 100% Completed | 23.1s\n",
      "[########################################] | 100% Completed | 23.2s\n",
      "[########################################] | 100% Completed | 23.3s\n",
      "[########################################] | 100% Completed | 23.3s\n"
     ]
    },
    {
     "name": "stderr",
     "output_type": "stream",
     "text": [
      "[21:07:37 - __main__] Saving to file: /path/to/data/MinION_sequencing_data_20190809/guppy_3.2.2_exec_20190809/sw/fastq_runid_536cafc874cb995b6c8b47a5baabb9598eaded02_28_2.tsv\n",
      "[21:07:37 - __main__] Starting fastq (113 of 211)\n",
      "\t/path/to/data/MinION_sequencing_data_20190809/guppy_3.2.2_exec_20190809/pass/fastq_runid_536cafc874cb995b6c8b47a5baabb9598eaded02_27_2.fastq\n"
     ]
    },
    {
     "name": "stdout",
     "output_type": "stream",
     "text": [
      "[########################################] | 100% Completed |  1min 13.6s\n",
      "[########################################] | 100% Completed |  1min 13.7s\n",
      "[########################################] | 100% Completed |  1min 13.8s\n",
      "[########################################] | 100% Completed |  1min 13.8s\n",
      "[########################################] | 100% Completed |  1min 13.9s\n",
      "[########################################] | 100% Completed |  1min 14.0s\n",
      "[########################################] | 100% Completed |  1min 14.0s\n",
      "[########################################] | 100% Completed |  1min 14.1s\n",
      "[########################################] | 100% Completed |  1min 14.2s\n",
      "[########################################] | 100% Completed |  1min 14.3s\n",
      "[########################################] | 100% Completed |  1min 14.3s\n",
      "[########################################] | 100% Completed |  1min 14.3s\n",
      "[########################################] | 100% Completed |  1min 14.4s\n",
      "[########################################] | 100% Completed |  1min 14.4s\n"
     ]
    },
    {
     "name": "stderr",
     "output_type": "stream",
     "text": [
      "[21:08:52 - __main__] Saving to file: /path/to/data/MinION_sequencing_data_20190809/guppy_3.2.2_exec_20190809/sw/fastq_runid_536cafc874cb995b6c8b47a5baabb9598eaded02_27_2.tsv\n",
      "[21:08:52 - __main__] Starting fastq (114 of 211)\n",
      "\t/path/to/data/MinION_sequencing_data_20190809/guppy_3.2.2_exec_20190809/pass/fastq_runid_536cafc874cb995b6c8b47a5baabb9598eaded02_29_1.fastq\n"
     ]
    },
    {
     "name": "stdout",
     "output_type": "stream",
     "text": [
      "[########################################] | 100% Completed |  1min 21.6s\n",
      "[########################################] | 100% Completed |  1min 21.7s\n",
      "[########################################] | 100% Completed |  1min 21.8s\n",
      "[########################################] | 100% Completed |  1min 21.8s\n",
      "[########################################] | 100% Completed |  1min 21.9s\n",
      "[########################################] | 100% Completed |  1min 22.0s\n",
      "[########################################] | 100% Completed |  1min 22.1s\n",
      "[########################################] | 100% Completed |  1min 22.2s\n",
      "[########################################] | 100% Completed |  1min 22.3s\n",
      "[########################################] | 100% Completed |  1min 22.3s\n",
      "[########################################] | 100% Completed |  1min 22.4s\n",
      "[########################################] | 100% Completed |  1min 22.4s\n",
      "[########################################] | 100% Completed |  1min 22.5s\n",
      "[########################################] | 100% Completed |  1min 22.6s\n"
     ]
    },
    {
     "name": "stderr",
     "output_type": "stream",
     "text": [
      "[21:10:16 - __main__] Saving to file: /path/to/data/MinION_sequencing_data_20190809/guppy_3.2.2_exec_20190809/sw/fastq_runid_536cafc874cb995b6c8b47a5baabb9598eaded02_29_1.tsv\n",
      "[21:10:16 - __main__] Starting fastq (115 of 211)\n",
      "\t/path/to/data/MinION_sequencing_data_20190809/guppy_3.2.2_exec_20190809/pass/fastq_runid_536cafc874cb995b6c8b47a5baabb9598eaded02_30_0.fastq\n"
     ]
    },
    {
     "name": "stdout",
     "output_type": "stream",
     "text": [
      "[########################################] | 100% Completed | 55.0s\n",
      "[########################################] | 100% Completed | 55.0s\n",
      "[########################################] | 100% Completed | 55.1s\n",
      "[########################################] | 100% Completed | 55.2s\n",
      "[########################################] | 100% Completed | 55.3s\n",
      "[########################################] | 100% Completed | 55.3s\n",
      "[########################################] | 100% Completed | 55.4s\n",
      "[########################################] | 100% Completed | 55.5s\n",
      "[########################################] | 100% Completed | 55.6s\n",
      "[########################################] | 100% Completed | 55.6s\n",
      "[########################################] | 100% Completed | 55.6s\n",
      "[########################################] | 100% Completed | 55.7s\n",
      "[########################################] | 100% Completed | 55.7s\n",
      "[########################################] | 100% Completed | 55.7s\n"
     ]
    },
    {
     "name": "stderr",
     "output_type": "stream",
     "text": [
      "[21:11:12 - __main__] Saving to file: /path/to/data/MinION_sequencing_data_20190809/guppy_3.2.2_exec_20190809/sw/fastq_runid_536cafc874cb995b6c8b47a5baabb9598eaded02_30_0.tsv\n",
      "[21:11:13 - __main__] Starting fastq (116 of 211)\n",
      "\t/path/to/data/MinION_sequencing_data_20190809/guppy_3.2.2_exec_20190809/pass/fastq_runid_536cafc874cb995b6c8b47a5baabb9598eaded02_28_3.fastq\n"
     ]
    },
    {
     "name": "stdout",
     "output_type": "stream",
     "text": [
      "[########################################] | 100% Completed |  4.3s\n",
      "[########################################] | 100% Completed |  4.4s\n",
      "[########################################] | 100% Completed |  4.4s\n",
      "[########################################] | 100% Completed |  4.4s\n",
      "[########################################] | 100% Completed |  4.4s\n",
      "[########################################] | 100% Completed |  4.5s\n",
      "[########################################] | 100% Completed |  4.6s\n",
      "[########################################] | 100% Completed |  4.6s\n",
      "[########################################] | 100% Completed |  4.6s\n",
      "[########################################] | 100% Completed |  4.6s\n",
      "[########################################] | 100% Completed |  4.6s\n",
      "[########################################] | 100% Completed |  4.7s\n",
      "[########################################] | 100% Completed |  4.7s\n",
      "[########################################] | 100% Completed |  4.7s\n"
     ]
    },
    {
     "name": "stderr",
     "output_type": "stream",
     "text": [
      "[21:11:18 - __main__] Saving to file: /path/to/data/MinION_sequencing_data_20190809/guppy_3.2.2_exec_20190809/sw/fastq_runid_536cafc874cb995b6c8b47a5baabb9598eaded02_28_3.tsv\n",
      "[21:11:18 - __main__] Starting fastq (117 of 211)\n",
      "\t/path/to/data/MinION_sequencing_data_20190809/guppy_3.2.2_exec_20190809/pass/fastq_runid_536cafc874cb995b6c8b47a5baabb9598eaded02_29_2.fastq\n"
     ]
    },
    {
     "name": "stdout",
     "output_type": "stream",
     "text": [
      "[########################################] | 100% Completed |  1.0s\n",
      "[########################################] | 100% Completed |  1.0s\n",
      "[########################################] | 100% Completed |  1.1s\n",
      "[########################################] | 100% Completed |  1.2s\n",
      "[########################################] | 100% Completed |  1.2s\n",
      "[########################################] | 100% Completed |  1.2s\n",
      "[########################################] | 100% Completed |  1.2s\n",
      "[########################################] | 100% Completed |  1.3s\n",
      "[########################################] | 100% Completed |  1.3s\n",
      "[########################################] | 100% Completed |  1.4s\n",
      "[########################################] | 100% Completed |  1.5s\n",
      "[########################################] | 100% Completed |  1.6s\n",
      "[########################################] | 100% Completed |  1.6s\n",
      "[########################################] | 100% Completed |  1.6s\n"
     ]
    },
    {
     "name": "stderr",
     "output_type": "stream",
     "text": [
      "[21:11:21 - __main__] Saving to file: /path/to/data/MinION_sequencing_data_20190809/guppy_3.2.2_exec_20190809/sw/fastq_runid_536cafc874cb995b6c8b47a5baabb9598eaded02_29_2.tsv\n",
      "[21:11:21 - __main__] Starting fastq (118 of 211)\n",
      "\t/path/to/data/MinION_sequencing_data_20190809/guppy_3.2.2_exec_20190809/pass/fastq_runid_536cafc874cb995b6c8b47a5baabb9598eaded02_30_1.fastq\n"
     ]
    },
    {
     "name": "stdout",
     "output_type": "stream",
     "text": [
      "[########################################] | 100% Completed | 56.2s\n",
      "[########################################] | 100% Completed | 56.3s\n",
      "[########################################] | 100% Completed | 56.4s\n",
      "[########################################] | 100% Completed | 56.5s\n",
      "[########################################] | 100% Completed | 56.5s\n",
      "[########################################] | 100% Completed | 56.6s\n",
      "[########################################] | 100% Completed | 56.6s\n",
      "[########################################] | 100% Completed | 56.7s\n",
      "[########################################] | 100% Completed | 56.7s\n",
      "[########################################] | 100% Completed | 56.8s\n",
      "[########################################] | 100% Completed | 56.9s\n",
      "[########################################] | 100% Completed | 56.9s\n",
      "[########################################] | 100% Completed | 57.0s\n",
      "[########################################] | 100% Completed | 57.0s\n"
     ]
    },
    {
     "name": "stderr",
     "output_type": "stream",
     "text": [
      "[21:12:19 - __main__] Saving to file: /path/to/data/MinION_sequencing_data_20190809/guppy_3.2.2_exec_20190809/sw/fastq_runid_536cafc874cb995b6c8b47a5baabb9598eaded02_30_1.tsv\n",
      "[21:12:19 - __main__] Starting fastq (119 of 211)\n",
      "\t/path/to/data/MinION_sequencing_data_20190809/guppy_3.2.2_exec_20190809/pass/fastq_runid_536cafc874cb995b6c8b47a5baabb9598eaded02_31_0.fastq\n"
     ]
    },
    {
     "name": "stdout",
     "output_type": "stream",
     "text": [
      "[########################################] | 100% Completed | 46.7s\n",
      "[########################################] | 100% Completed | 46.8s\n",
      "[########################################] | 100% Completed | 46.8s\n",
      "[########################################] | 100% Completed | 46.9s\n",
      "[########################################] | 100% Completed | 46.9s\n",
      "[########################################] | 100% Completed | 47.0s\n",
      "[########################################] | 100% Completed | 47.0s\n",
      "[########################################] | 100% Completed | 47.1s\n",
      "[########################################] | 100% Completed | 47.1s\n",
      "[########################################] | 100% Completed | 47.2s\n",
      "[########################################] | 100% Completed | 47.3s\n",
      "[########################################] | 100% Completed | 47.3s\n",
      "[########################################] | 100% Completed | 47.4s\n",
      "[########################################] | 100% Completed | 47.5s\n"
     ]
    },
    {
     "name": "stderr",
     "output_type": "stream",
     "text": [
      "[21:13:07 - __main__] Saving to file: /path/to/data/MinION_sequencing_data_20190809/guppy_3.2.2_exec_20190809/sw/fastq_runid_536cafc874cb995b6c8b47a5baabb9598eaded02_31_0.tsv\n",
      "[21:13:07 - __main__] Starting fastq (120 of 211)\n",
      "\t/path/to/data/MinION_sequencing_data_20190809/guppy_3.2.2_exec_20190809/pass/fastq_runid_536cafc874cb995b6c8b47a5baabb9598eaded02_31_1.fastq\n"
     ]
    },
    {
     "name": "stdout",
     "output_type": "stream",
     "text": [
      "[########################################] | 100% Completed | 19.3s\n",
      "[########################################] | 100% Completed | 19.4s\n",
      "[########################################] | 100% Completed | 19.5s\n",
      "[########################################] | 100% Completed | 19.5s\n",
      "[########################################] | 100% Completed | 19.5s\n",
      "[########################################] | 100% Completed | 19.6s\n",
      "[########################################] | 100% Completed | 19.7s\n",
      "[########################################] | 100% Completed | 19.7s\n",
      "[########################################] | 100% Completed | 19.8s\n",
      "[########################################] | 100% Completed | 19.9s\n",
      "[########################################] | 100% Completed | 20.0s\n",
      "[########################################] | 100% Completed | 20.1s\n",
      "[########################################] | 100% Completed | 20.1s\n",
      "[########################################] | 100% Completed | 20.2s\n"
     ]
    },
    {
     "name": "stderr",
     "output_type": "stream",
     "text": [
      "[21:13:28 - __main__] Saving to file: /path/to/data/MinION_sequencing_data_20190809/guppy_3.2.2_exec_20190809/sw/fastq_runid_536cafc874cb995b6c8b47a5baabb9598eaded02_31_1.tsv\n",
      "[21:13:28 - __main__] Starting fastq (121 of 211)\n",
      "\t/path/to/data/MinION_sequencing_data_20190809/guppy_3.2.2_exec_20190809/pass/fastq_runid_536cafc874cb995b6c8b47a5baabb9598eaded02_29_3.fastq\n"
     ]
    },
    {
     "name": "stdout",
     "output_type": "stream",
     "text": [
      "[########################################] | 100% Completed | 13.3s\n",
      "[########################################] | 100% Completed | 13.4s\n",
      "[########################################] | 100% Completed | 13.4s\n",
      "[########################################] | 100% Completed | 13.5s\n",
      "[########################################] | 100% Completed | 13.6s\n",
      "[########################################] | 100% Completed | 13.7s\n",
      "[########################################] | 100% Completed | 13.7s\n",
      "[########################################] | 100% Completed | 13.8s\n",
      "[########################################] | 100% Completed | 13.8s\n",
      "[########################################] | 100% Completed | 13.8s\n",
      "[########################################] | 100% Completed | 13.9s\n",
      "[########################################] | 100% Completed | 13.9s\n",
      "[########################################] | 100% Completed | 14.0s\n",
      "[########################################] | 100% Completed | 14.1s\n"
     ]
    },
    {
     "name": "stderr",
     "output_type": "stream",
     "text": [
      "[21:13:43 - __main__] Saving to file: /path/to/data/MinION_sequencing_data_20190809/guppy_3.2.2_exec_20190809/sw/fastq_runid_536cafc874cb995b6c8b47a5baabb9598eaded02_29_3.tsv\n",
      "[21:13:44 - __main__] Starting fastq (122 of 211)\n",
      "\t/path/to/data/MinION_sequencing_data_20190809/guppy_3.2.2_exec_20190809/pass/fastq_runid_536cafc874cb995b6c8b47a5baabb9598eaded02_31_2.fastq\n"
     ]
    },
    {
     "name": "stdout",
     "output_type": "stream",
     "text": [
      "[########################################] | 100% Completed |  1min  1.2s\n",
      "[########################################] | 100% Completed |  1min  1.3s\n",
      "[########################################] | 100% Completed |  1min  1.3s\n",
      "[########################################] | 100% Completed |  1min  1.3s\n",
      "[########################################] | 100% Completed |  1min  1.4s\n",
      "[########################################] | 100% Completed |  1min  1.4s\n",
      "[########################################] | 100% Completed |  1min  1.5s\n",
      "[########################################] | 100% Completed |  1min  1.5s\n",
      "[########################################] | 100% Completed |  1min  1.5s\n",
      "[########################################] | 100% Completed |  1min  1.6s\n",
      "[########################################] | 100% Completed |  1min  1.7s\n",
      "[########################################] | 100% Completed |  1min  1.8s\n",
      "[########################################] | 100% Completed |  1min  1.9s\n",
      "[########################################] | 100% Completed |  1min  1.9s\n"
     ]
    },
    {
     "name": "stderr",
     "output_type": "stream",
     "text": [
      "[21:14:46 - __main__] Saving to file: /path/to/data/MinION_sequencing_data_20190809/guppy_3.2.2_exec_20190809/sw/fastq_runid_536cafc874cb995b6c8b47a5baabb9598eaded02_31_2.tsv\n",
      "[21:14:47 - __main__] Starting fastq (123 of 211)\n",
      "\t/path/to/data/MinION_sequencing_data_20190809/guppy_3.2.2_exec_20190809/pass/fastq_runid_536cafc874cb995b6c8b47a5baabb9598eaded02_30_2.fastq\n"
     ]
    },
    {
     "name": "stdout",
     "output_type": "stream",
     "text": [
      "[########################################] | 100% Completed |  1.0s\n",
      "[########################################] | 100% Completed |  1.0s\n",
      "[########################################] | 100% Completed |  1.1s\n",
      "[########################################] | 100% Completed |  1.1s\n",
      "[########################################] | 100% Completed |  1.1s\n",
      "[########################################] | 100% Completed |  1.2s\n",
      "[########################################] | 100% Completed |  1.2s\n",
      "[########################################] | 100% Completed |  1.3s\n",
      "[########################################] | 100% Completed |  1.3s\n",
      "[########################################] | 100% Completed |  1.3s\n",
      "[########################################] | 100% Completed |  1.4s\n",
      "[########################################] | 100% Completed |  1.4s\n",
      "[########################################] | 100% Completed |  1.5s\n",
      "[########################################] | 100% Completed |  1.5s\n"
     ]
    },
    {
     "name": "stderr",
     "output_type": "stream",
     "text": [
      "[21:14:49 - __main__] Saving to file: /path/to/data/MinION_sequencing_data_20190809/guppy_3.2.2_exec_20190809/sw/fastq_runid_536cafc874cb995b6c8b47a5baabb9598eaded02_30_2.tsv\n",
      "[21:14:49 - __main__] Starting fastq (124 of 211)\n",
      "\t/path/to/data/MinION_sequencing_data_20190809/guppy_3.2.2_exec_20190809/pass/fastq_runid_536cafc874cb995b6c8b47a5baabb9598eaded02_31_3.fastq\n"
     ]
    },
    {
     "name": "stdout",
     "output_type": "stream",
     "text": [
      "[########################################] | 100% Completed |  8.8s\n",
      "[########################################] | 100% Completed |  8.9s\n",
      "[########################################] | 100% Completed |  8.9s\n",
      "[########################################] | 100% Completed |  9.0s\n",
      "[########################################] | 100% Completed |  9.0s\n",
      "[########################################] | 100% Completed |  9.1s\n",
      "[########################################] | 100% Completed |  9.1s\n",
      "[########################################] | 100% Completed |  9.1s\n",
      "[########################################] | 100% Completed |  9.2s\n",
      "[########################################] | 100% Completed |  9.3s\n",
      "[########################################] | 100% Completed |  9.4s\n",
      "[########################################] | 100% Completed |  9.5s\n",
      "[########################################] | 100% Completed |  9.5s\n",
      "[########################################] | 100% Completed |  9.5s\n"
     ]
    },
    {
     "name": "stderr",
     "output_type": "stream",
     "text": [
      "[21:14:59 - __main__] Saving to file: /path/to/data/MinION_sequencing_data_20190809/guppy_3.2.2_exec_20190809/sw/fastq_runid_536cafc874cb995b6c8b47a5baabb9598eaded02_31_3.tsv\n",
      "[21:14:59 - __main__] Starting fastq (125 of 211)\n",
      "\t/path/to/data/MinION_sequencing_data_20190809/guppy_3.2.2_exec_20190809/pass/fastq_runid_536cafc874cb995b6c8b47a5baabb9598eaded02_30_3.fastq\n"
     ]
    },
    {
     "name": "stdout",
     "output_type": "stream",
     "text": [
      "[########################################] | 100% Completed | 26.9s\n",
      "[########################################] | 100% Completed | 26.9s\n",
      "[########################################] | 100% Completed | 26.9s\n",
      "[########################################] | 100% Completed | 26.9s\n",
      "[########################################] | 100% Completed | 27.0s\n",
      "[########################################] | 100% Completed | 27.1s\n",
      "[########################################] | 100% Completed | 27.1s\n",
      "[########################################] | 100% Completed | 27.2s\n",
      "[########################################] | 100% Completed | 27.3s\n",
      "[########################################] | 100% Completed | 27.4s\n",
      "[########################################] | 100% Completed | 27.4s\n",
      "[########################################] | 100% Completed | 27.4s\n",
      "[########################################] | 100% Completed | 27.4s\n",
      "[########################################] | 100% Completed | 27.5s\n"
     ]
    },
    {
     "name": "stderr",
     "output_type": "stream",
     "text": [
      "[21:15:28 - __main__] Saving to file: /path/to/data/MinION_sequencing_data_20190809/guppy_3.2.2_exec_20190809/sw/fastq_runid_536cafc874cb995b6c8b47a5baabb9598eaded02_30_3.tsv\n",
      "[21:15:28 - __main__] Starting fastq (126 of 211)\n",
      "\t/path/to/data/MinION_sequencing_data_20190809/guppy_3.2.2_exec_20190809/pass/fastq_runid_536cafc874cb995b6c8b47a5baabb9598eaded02_32_0.fastq\n"
     ]
    },
    {
     "name": "stdout",
     "output_type": "stream",
     "text": [
      "[########################################] | 100% Completed |  1min  9.7s\n",
      "[########################################] | 100% Completed |  1min  9.8s\n",
      "[########################################] | 100% Completed |  1min  9.8s\n",
      "[########################################] | 100% Completed |  1min  9.9s\n",
      "[########################################] | 100% Completed |  1min 10.0s\n",
      "[########################################] | 100% Completed |  1min 10.1s\n",
      "[########################################] | 100% Completed |  1min 10.1s\n",
      "[########################################] | 100% Completed |  1min 10.1s\n",
      "[########################################] | 100% Completed |  1min 10.2s\n",
      "[########################################] | 100% Completed |  1min 10.2s\n",
      "[########################################] | 100% Completed |  1min 10.3s\n",
      "[########################################] | 100% Completed |  1min 10.3s\n",
      "[########################################] | 100% Completed |  1min 10.4s\n",
      "[########################################] | 100% Completed |  1min 10.5s\n"
     ]
    },
    {
     "name": "stderr",
     "output_type": "stream",
     "text": [
      "[21:16:39 - __main__] Saving to file: /path/to/data/MinION_sequencing_data_20190809/guppy_3.2.2_exec_20190809/sw/fastq_runid_536cafc874cb995b6c8b47a5baabb9598eaded02_32_0.tsv\n",
      "[21:16:40 - __main__] Starting fastq (127 of 211)\n",
      "\t/path/to/data/MinION_sequencing_data_20190809/guppy_3.2.2_exec_20190809/pass/fastq_runid_536cafc874cb995b6c8b47a5baabb9598eaded02_32_1.fastq\n"
     ]
    },
    {
     "name": "stdout",
     "output_type": "stream",
     "text": [
      "[########################################] | 100% Completed | 54.3s\n",
      "[########################################] | 100% Completed | 54.3s\n",
      "[########################################] | 100% Completed | 54.4s\n",
      "[########################################] | 100% Completed | 54.4s\n",
      "[########################################] | 100% Completed | 54.5s\n",
      "[########################################] | 100% Completed | 54.5s\n",
      "[########################################] | 100% Completed | 54.6s\n",
      "[########################################] | 100% Completed | 54.7s\n",
      "[########################################] | 100% Completed | 54.8s\n",
      "[########################################] | 100% Completed | 54.8s\n",
      "[########################################] | 100% Completed | 54.9s\n",
      "[########################################] | 100% Completed | 54.9s\n",
      "[########################################] | 100% Completed | 55.0s\n",
      "[########################################] | 100% Completed | 55.0s\n"
     ]
    },
    {
     "name": "stderr",
     "output_type": "stream",
     "text": [
      "[21:17:35 - __main__] Saving to file: /path/to/data/MinION_sequencing_data_20190809/guppy_3.2.2_exec_20190809/sw/fastq_runid_536cafc874cb995b6c8b47a5baabb9598eaded02_32_1.tsv\n",
      "[21:17:36 - __main__] Starting fastq (128 of 211)\n",
      "\t/path/to/data/MinION_sequencing_data_20190809/guppy_3.2.2_exec_20190809/pass/fastq_runid_536cafc874cb995b6c8b47a5baabb9598eaded02_32_2.fastq\n"
     ]
    },
    {
     "name": "stdout",
     "output_type": "stream",
     "text": [
      "[########################################] | 100% Completed | 10.2s\n",
      "[########################################] | 100% Completed | 10.3s\n",
      "[########################################] | 100% Completed | 10.3s\n",
      "[########################################] | 100% Completed | 10.4s\n",
      "[########################################] | 100% Completed | 10.5s\n",
      "[########################################] | 100% Completed | 10.6s\n",
      "[########################################] | 100% Completed | 10.7s\n",
      "[########################################] | 100% Completed | 10.7s\n",
      "[########################################] | 100% Completed | 10.7s\n",
      "[########################################] | 100% Completed | 10.8s\n",
      "[########################################] | 100% Completed | 10.8s\n",
      "[########################################] | 100% Completed | 10.9s\n",
      "[########################################] | 100% Completed | 10.9s\n",
      "[########################################] | 100% Completed | 10.9s\n"
     ]
    },
    {
     "name": "stderr",
     "output_type": "stream",
     "text": [
      "[21:17:47 - __main__] Saving to file: /path/to/data/MinION_sequencing_data_20190809/guppy_3.2.2_exec_20190809/sw/fastq_runid_536cafc874cb995b6c8b47a5baabb9598eaded02_32_2.tsv\n",
      "[21:17:47 - __main__] Starting fastq (129 of 211)\n",
      "\t/path/to/data/MinION_sequencing_data_20190809/guppy_3.2.2_exec_20190809/pass/fastq_runid_536cafc874cb995b6c8b47a5baabb9598eaded02_32_3.fastq\n"
     ]
    },
    {
     "name": "stdout",
     "output_type": "stream",
     "text": [
      "[########################################] | 100% Completed |  1.0s\n",
      "[########################################] | 100% Completed |  1.0s\n",
      "[########################################] | 100% Completed |  1.1s\n",
      "[########################################] | 100% Completed |  1.2s\n",
      "[########################################] | 100% Completed |  1.2s\n",
      "[########################################] | 100% Completed |  1.3s\n",
      "[########################################] | 100% Completed |  1.4s\n",
      "[########################################] | 100% Completed |  1.5s\n",
      "[########################################] | 100% Completed |  1.5s\n",
      "[########################################] | 100% Completed |  1.6s\n",
      "[########################################] | 100% Completed |  1.7s\n",
      "[########################################] | 100% Completed |  1.7s\n",
      "[########################################] | 100% Completed |  1.8s\n",
      "[########################################] | 100% Completed |  1.8s\n"
     ]
    },
    {
     "name": "stderr",
     "output_type": "stream",
     "text": [
      "[21:17:50 - __main__] Saving to file: /path/to/data/MinION_sequencing_data_20190809/guppy_3.2.2_exec_20190809/sw/fastq_runid_536cafc874cb995b6c8b47a5baabb9598eaded02_32_3.tsv\n",
      "[21:17:50 - __main__] Starting fastq (130 of 211)\n",
      "\t/path/to/data/MinION_sequencing_data_20190809/guppy_3.2.2_exec_20190809/pass/fastq_runid_536cafc874cb995b6c8b47a5baabb9598eaded02_33_0.fastq\n"
     ]
    },
    {
     "name": "stdout",
     "output_type": "stream",
     "text": [
      "[########################################] | 100% Completed | 42.9s\n",
      "[########################################] | 100% Completed | 43.0s\n",
      "[########################################] | 100% Completed | 43.1s\n",
      "[########################################] | 100% Completed | 43.1s\n",
      "[########################################] | 100% Completed | 43.2s\n",
      "[########################################] | 100% Completed | 43.3s\n",
      "[########################################] | 100% Completed | 43.4s\n",
      "[########################################] | 100% Completed | 43.4s\n",
      "[########################################] | 100% Completed | 43.5s\n",
      "[########################################] | 100% Completed | 43.6s\n",
      "[########################################] | 100% Completed | 43.7s\n",
      "[########################################] | 100% Completed | 43.7s\n",
      "[########################################] | 100% Completed | 43.8s\n",
      "[########################################] | 100% Completed | 43.9s\n"
     ]
    },
    {
     "name": "stderr",
     "output_type": "stream",
     "text": [
      "[21:18:35 - __main__] Saving to file: /path/to/data/MinION_sequencing_data_20190809/guppy_3.2.2_exec_20190809/sw/fastq_runid_536cafc874cb995b6c8b47a5baabb9598eaded02_33_0.tsv\n",
      "[21:18:35 - __main__] Starting fastq (131 of 211)\n",
      "\t/path/to/data/MinION_sequencing_data_20190809/guppy_3.2.2_exec_20190809/pass/fastq_runid_536cafc874cb995b6c8b47a5baabb9598eaded02_33_1.fastq\n"
     ]
    },
    {
     "name": "stdout",
     "output_type": "stream",
     "text": [
      "[########################################] | 100% Completed |  1min 18.3s\n",
      "[########################################] | 100% Completed |  1min 18.3s\n",
      "[########################################] | 100% Completed |  1min 18.3s\n",
      "[########################################] | 100% Completed |  1min 18.4s\n",
      "[########################################] | 100% Completed |  1min 18.5s\n",
      "[########################################] | 100% Completed |  1min 18.5s\n",
      "[########################################] | 100% Completed |  1min 18.6s\n",
      "[########################################] | 100% Completed |  1min 18.6s\n",
      "[########################################] | 100% Completed |  1min 18.6s\n",
      "[########################################] | 100% Completed |  1min 18.6s\n",
      "[########################################] | 100% Completed |  1min 18.8s\n",
      "[########################################] | 100% Completed |  1min 18.8s\n",
      "[########################################] | 100% Completed |  1min 18.9s\n",
      "[########################################] | 100% Completed |  1min 19.0s\n"
     ]
    },
    {
     "name": "stderr",
     "output_type": "stream",
     "text": [
      "[21:19:55 - __main__] Saving to file: /path/to/data/MinION_sequencing_data_20190809/guppy_3.2.2_exec_20190809/sw/fastq_runid_536cafc874cb995b6c8b47a5baabb9598eaded02_33_1.tsv\n",
      "[21:19:55 - __main__] Starting fastq (132 of 211)\n",
      "\t/path/to/data/MinION_sequencing_data_20190809/guppy_3.2.2_exec_20190809/pass/fastq_runid_536cafc874cb995b6c8b47a5baabb9598eaded02_33_2.fastq\n"
     ]
    },
    {
     "name": "stdout",
     "output_type": "stream",
     "text": [
      "[########################################] | 100% Completed |  5.4s\n",
      "[########################################] | 100% Completed |  5.4s\n",
      "[########################################] | 100% Completed |  5.5s\n",
      "[########################################] | 100% Completed |  5.6s\n",
      "[########################################] | 100% Completed |  5.6s\n",
      "[########################################] | 100% Completed |  5.6s\n",
      "[########################################] | 100% Completed |  5.6s\n",
      "[########################################] | 100% Completed |  5.7s\n",
      "[########################################] | 100% Completed |  5.7s\n",
      "[########################################] | 100% Completed |  5.7s\n",
      "[########################################] | 100% Completed |  5.8s\n",
      "[########################################] | 100% Completed |  5.9s\n",
      "[########################################] | 100% Completed |  5.9s\n",
      "[########################################] | 100% Completed |  6.0s\n"
     ]
    },
    {
     "name": "stderr",
     "output_type": "stream",
     "text": [
      "[21:20:02 - __main__] Saving to file: /path/to/data/MinION_sequencing_data_20190809/guppy_3.2.2_exec_20190809/sw/fastq_runid_536cafc874cb995b6c8b47a5baabb9598eaded02_33_2.tsv\n",
      "[21:20:02 - __main__] Starting fastq (133 of 211)\n",
      "\t/path/to/data/MinION_sequencing_data_20190809/guppy_3.2.2_exec_20190809/pass/fastq_runid_536cafc874cb995b6c8b47a5baabb9598eaded02_34_0.fastq\n"
     ]
    },
    {
     "name": "stdout",
     "output_type": "stream",
     "text": [
      "[########################################] | 100% Completed |  1min 14.1s\n",
      "[########################################] | 100% Completed |  1min 14.1s\n",
      "[########################################] | 100% Completed |  1min 14.2s\n",
      "[########################################] | 100% Completed |  1min 14.3s\n",
      "[########################################] | 100% Completed |  1min 14.3s\n",
      "[########################################] | 100% Completed |  1min 14.4s\n",
      "[########################################] | 100% Completed |  1min 14.5s\n",
      "[########################################] | 100% Completed |  1min 14.6s\n",
      "[########################################] | 100% Completed |  1min 14.7s\n",
      "[########################################] | 100% Completed |  1min 14.8s\n",
      "[########################################] | 100% Completed |  1min 14.9s\n",
      "[########################################] | 100% Completed |  1min 15.0s\n",
      "[########################################] | 100% Completed |  1min 15.0s\n",
      "[########################################] | 100% Completed |  1min 15.1s\n"
     ]
    },
    {
     "name": "stderr",
     "output_type": "stream",
     "text": [
      "[21:21:18 - __main__] Saving to file: /path/to/data/MinION_sequencing_data_20190809/guppy_3.2.2_exec_20190809/sw/fastq_runid_536cafc874cb995b6c8b47a5baabb9598eaded02_34_0.tsv\n",
      "[21:21:18 - __main__] Starting fastq (134 of 211)\n",
      "\t/path/to/data/MinION_sequencing_data_20190809/guppy_3.2.2_exec_20190809/pass/fastq_runid_536cafc874cb995b6c8b47a5baabb9598eaded02_33_3.fastq\n"
     ]
    },
    {
     "name": "stdout",
     "output_type": "stream",
     "text": [
      "[########################################] | 100% Completed | 10.2s\n",
      "[########################################] | 100% Completed | 10.2s\n",
      "[########################################] | 100% Completed | 10.3s\n",
      "[########################################] | 100% Completed | 10.4s\n",
      "[########################################] | 100% Completed | 10.5s\n",
      "[########################################] | 100% Completed | 10.6s\n",
      "[########################################] | 100% Completed | 10.7s\n",
      "[########################################] | 100% Completed | 10.7s\n",
      "[########################################] | 100% Completed | 10.8s\n",
      "[########################################] | 100% Completed | 10.9s\n",
      "[########################################] | 100% Completed | 11.0s\n",
      "[########################################] | 100% Completed | 11.0s\n",
      "[########################################] | 100% Completed | 11.1s\n",
      "[########################################] | 100% Completed | 11.1s\n"
     ]
    },
    {
     "name": "stderr",
     "output_type": "stream",
     "text": [
      "[21:21:30 - __main__] Saving to file: /path/to/data/MinION_sequencing_data_20190809/guppy_3.2.2_exec_20190809/sw/fastq_runid_536cafc874cb995b6c8b47a5baabb9598eaded02_33_3.tsv\n",
      "[21:21:31 - __main__] Starting fastq (135 of 211)\n",
      "\t/path/to/data/MinION_sequencing_data_20190809/guppy_3.2.2_exec_20190809/pass/fastq_runid_536cafc874cb995b6c8b47a5baabb9598eaded02_34_1.fastq\n"
     ]
    },
    {
     "name": "stdout",
     "output_type": "stream",
     "text": [
      "[########################################] | 100% Completed | 30.5s\n",
      "[########################################] | 100% Completed | 30.6s\n",
      "[########################################] | 100% Completed | 30.7s\n",
      "[########################################] | 100% Completed | 30.8s\n",
      "[########################################] | 100% Completed | 30.9s\n",
      "[########################################] | 100% Completed | 30.9s\n",
      "[########################################] | 100% Completed | 31.0s\n",
      "[########################################] | 100% Completed | 31.1s\n",
      "[########################################] | 100% Completed | 31.1s\n",
      "[########################################] | 100% Completed | 31.2s\n",
      "[########################################] | 100% Completed | 31.3s\n",
      "[########################################] | 100% Completed | 31.3s\n",
      "[########################################] | 100% Completed | 31.4s\n",
      "[########################################] | 100% Completed | 31.4s\n"
     ]
    },
    {
     "name": "stderr",
     "output_type": "stream",
     "text": [
      "[21:22:03 - __main__] Saving to file: /path/to/data/MinION_sequencing_data_20190809/guppy_3.2.2_exec_20190809/sw/fastq_runid_536cafc874cb995b6c8b47a5baabb9598eaded02_34_1.tsv\n",
      "[21:22:03 - __main__] Starting fastq (136 of 211)\n",
      "\t/path/to/data/MinION_sequencing_data_20190809/guppy_3.2.2_exec_20190809/pass/fastq_runid_536cafc874cb995b6c8b47a5baabb9598eaded02_34_2.fastq\n"
     ]
    },
    {
     "name": "stdout",
     "output_type": "stream",
     "text": [
      "[########################################] | 100% Completed | 18.4s\n",
      "[########################################] | 100% Completed | 18.5s\n",
      "[########################################] | 100% Completed | 18.5s\n",
      "[########################################] | 100% Completed | 18.5s\n",
      "[########################################] | 100% Completed | 18.5s\n",
      "[########################################] | 100% Completed | 18.6s\n",
      "[########################################] | 100% Completed | 18.7s\n",
      "[########################################] | 100% Completed | 18.8s\n",
      "[########################################] | 100% Completed | 18.8s\n",
      "[########################################] | 100% Completed | 18.9s\n",
      "[########################################] | 100% Completed | 18.9s\n",
      "[########################################] | 100% Completed | 19.0s\n",
      "[########################################] | 100% Completed | 19.1s\n",
      "[########################################] | 100% Completed | 19.1s\n"
     ]
    },
    {
     "name": "stderr",
     "output_type": "stream",
     "text": [
      "[21:22:23 - __main__] Saving to file: /path/to/data/MinION_sequencing_data_20190809/guppy_3.2.2_exec_20190809/sw/fastq_runid_536cafc874cb995b6c8b47a5baabb9598eaded02_34_2.tsv\n",
      "[21:22:23 - __main__] Starting fastq (137 of 211)\n",
      "\t/path/to/data/MinION_sequencing_data_20190809/guppy_3.2.2_exec_20190809/pass/fastq_runid_536cafc874cb995b6c8b47a5baabb9598eaded02_35_0.fastq\n"
     ]
    },
    {
     "name": "stdout",
     "output_type": "stream",
     "text": [
      "[########################################] | 100% Completed | 26.3s\n",
      "[########################################] | 100% Completed | 26.3s\n",
      "[########################################] | 100% Completed | 26.3s\n",
      "[########################################] | 100% Completed | 26.4s\n",
      "[########################################] | 100% Completed | 26.4s\n",
      "[########################################] | 100% Completed | 26.5s\n",
      "[########################################] | 100% Completed | 26.6s\n",
      "[########################################] | 100% Completed | 26.7s\n",
      "[########################################] | 100% Completed | 26.7s\n",
      "[########################################] | 100% Completed | 26.8s\n",
      "[########################################] | 100% Completed | 26.9s\n",
      "[########################################] | 100% Completed | 27.0s\n",
      "[########################################] | 100% Completed | 27.0s\n",
      "[########################################] | 100% Completed | 27.1s\n"
     ]
    },
    {
     "name": "stderr",
     "output_type": "stream",
     "text": [
      "[21:22:51 - __main__] Saving to file: /path/to/data/MinION_sequencing_data_20190809/guppy_3.2.2_exec_20190809/sw/fastq_runid_536cafc874cb995b6c8b47a5baabb9598eaded02_35_0.tsv\n",
      "[21:22:51 - __main__] Starting fastq (138 of 211)\n",
      "\t/path/to/data/MinION_sequencing_data_20190809/guppy_3.2.2_exec_20190809/pass/fastq_runid_536cafc874cb995b6c8b47a5baabb9598eaded02_34_3.fastq\n"
     ]
    },
    {
     "name": "stdout",
     "output_type": "stream",
     "text": [
      "[########################################] | 100% Completed | 11.3s\n",
      "[########################################] | 100% Completed | 11.4s\n",
      "[########################################] | 100% Completed | 11.5s\n",
      "[########################################] | 100% Completed | 11.5s\n",
      "[########################################] | 100% Completed | 11.6s\n",
      "[########################################] | 100% Completed | 11.6s\n",
      "[########################################] | 100% Completed | 11.7s\n",
      "[########################################] | 100% Completed | 11.7s\n",
      "[########################################] | 100% Completed | 11.8s\n",
      "[########################################] | 100% Completed | 11.9s\n",
      "[########################################] | 100% Completed | 11.9s\n",
      "[########################################] | 100% Completed | 12.0s\n",
      "[########################################] | 100% Completed | 12.0s\n",
      "[########################################] | 100% Completed | 12.1s\n"
     ]
    },
    {
     "name": "stderr",
     "output_type": "stream",
     "text": [
      "[21:23:04 - __main__] Saving to file: /path/to/data/MinION_sequencing_data_20190809/guppy_3.2.2_exec_20190809/sw/fastq_runid_536cafc874cb995b6c8b47a5baabb9598eaded02_34_3.tsv\n",
      "[21:23:04 - __main__] Starting fastq (139 of 211)\n",
      "\t/path/to/data/MinION_sequencing_data_20190809/guppy_3.2.2_exec_20190809/pass/fastq_runid_536cafc874cb995b6c8b47a5baabb9598eaded02_35_1.fastq\n"
     ]
    },
    {
     "name": "stdout",
     "output_type": "stream",
     "text": [
      "[########################################] | 100% Completed |  1.1s\n",
      "[########################################] | 100% Completed |  1.1s\n",
      "[########################################] | 100% Completed |  1.2s\n",
      "[########################################] | 100% Completed |  1.2s\n",
      "[########################################] | 100% Completed |  1.2s\n",
      "[########################################] | 100% Completed |  1.3s\n",
      "[########################################] | 100% Completed |  1.3s\n",
      "[########################################] | 100% Completed |  1.4s\n",
      "[########################################] | 100% Completed |  1.5s\n",
      "[########################################] | 100% Completed |  1.6s\n",
      "[########################################] | 100% Completed |  1.6s\n",
      "[########################################] | 100% Completed |  1.7s\n",
      "[########################################] | 100% Completed |  1.8s\n",
      "[########################################] | 100% Completed |  1.8s\n"
     ]
    },
    {
     "name": "stderr",
     "output_type": "stream",
     "text": [
      "[21:23:07 - __main__] Saving to file: /path/to/data/MinION_sequencing_data_20190809/guppy_3.2.2_exec_20190809/sw/fastq_runid_536cafc874cb995b6c8b47a5baabb9598eaded02_35_1.tsv\n",
      "[21:23:07 - __main__] Starting fastq (140 of 211)\n",
      "\t/path/to/data/MinION_sequencing_data_20190809/guppy_3.2.2_exec_20190809/pass/fastq_runid_536cafc874cb995b6c8b47a5baabb9598eaded02_36_0.fastq\n"
     ]
    },
    {
     "name": "stdout",
     "output_type": "stream",
     "text": [
      "[########################################] | 100% Completed |  1min 49.0s\n",
      "[########################################] | 100% Completed |  1min 49.1s\n",
      "[########################################] | 100% Completed |  1min 49.2s\n",
      "[########################################] | 100% Completed |  1min 49.3s\n",
      "[########################################] | 100% Completed |  1min 49.4s\n",
      "[########################################] | 100% Completed |  1min 49.5s\n",
      "[########################################] | 100% Completed |  1min 49.5s\n",
      "[########################################] | 100% Completed |  1min 49.6s\n",
      "[########################################] | 100% Completed |  1min 49.7s\n",
      "[########################################] | 100% Completed |  1min 49.7s\n",
      "[########################################] | 100% Completed |  1min 49.7s\n",
      "[########################################] | 100% Completed |  1min 49.8s\n",
      "[########################################] | 100% Completed |  1min 49.9s\n",
      "[########################################] | 100% Completed |  1min 49.9s\n"
     ]
    },
    {
     "name": "stderr",
     "output_type": "stream",
     "text": [
      "[21:24:58 - __main__] Saving to file: /path/to/data/MinION_sequencing_data_20190809/guppy_3.2.2_exec_20190809/sw/fastq_runid_536cafc874cb995b6c8b47a5baabb9598eaded02_36_0.tsv\n",
      "[21:24:58 - __main__] Starting fastq (141 of 211)\n",
      "\t/path/to/data/MinION_sequencing_data_20190809/guppy_3.2.2_exec_20190809/pass/fastq_runid_536cafc874cb995b6c8b47a5baabb9598eaded02_35_2.fastq\n"
     ]
    },
    {
     "name": "stdout",
     "output_type": "stream",
     "text": [
      "[########################################] | 100% Completed | 45.7s\n",
      "[########################################] | 100% Completed | 45.7s\n",
      "[########################################] | 100% Completed | 45.7s\n",
      "[########################################] | 100% Completed | 45.8s\n",
      "[########################################] | 100% Completed | 45.8s\n",
      "[########################################] | 100% Completed | 45.9s\n",
      "[########################################] | 100% Completed | 45.9s\n",
      "[########################################] | 100% Completed | 46.0s\n",
      "[########################################] | 100% Completed | 46.1s\n",
      "[########################################] | 100% Completed | 46.2s\n",
      "[########################################] | 100% Completed | 46.2s\n",
      "[########################################] | 100% Completed | 46.2s\n",
      "[########################################] | 100% Completed | 46.3s\n",
      "[########################################] | 100% Completed | 46.3s\n"
     ]
    },
    {
     "name": "stderr",
     "output_type": "stream",
     "text": [
      "[21:25:45 - __main__] Saving to file: /path/to/data/MinION_sequencing_data_20190809/guppy_3.2.2_exec_20190809/sw/fastq_runid_536cafc874cb995b6c8b47a5baabb9598eaded02_35_2.tsv\n",
      "[21:25:45 - __main__] Starting fastq (142 of 211)\n",
      "\t/path/to/data/MinION_sequencing_data_20190809/guppy_3.2.2_exec_20190809/pass/fastq_runid_536cafc874cb995b6c8b47a5baabb9598eaded02_35_3.fastq\n"
     ]
    },
    {
     "name": "stdout",
     "output_type": "stream",
     "text": [
      "[########################################] | 100% Completed |  1min  5.1s\n",
      "[########################################] | 100% Completed |  1min  5.1s\n",
      "[########################################] | 100% Completed |  1min  5.2s\n",
      "[########################################] | 100% Completed |  1min  5.3s\n",
      "[########################################] | 100% Completed |  1min  5.4s\n",
      "[########################################] | 100% Completed |  1min  5.4s\n",
      "[########################################] | 100% Completed |  1min  5.5s\n",
      "[########################################] | 100% Completed |  1min  5.5s\n",
      "[########################################] | 100% Completed |  1min  5.6s\n",
      "[########################################] | 100% Completed |  1min  5.6s\n",
      "[########################################] | 100% Completed |  1min  5.6s\n",
      "[########################################] | 100% Completed |  1min  5.7s\n",
      "[########################################] | 100% Completed |  1min  5.7s\n",
      "[########################################] | 100% Completed |  1min  5.8s\n"
     ]
    },
    {
     "name": "stderr",
     "output_type": "stream",
     "text": [
      "[21:26:52 - __main__] Saving to file: /path/to/data/MinION_sequencing_data_20190809/guppy_3.2.2_exec_20190809/sw/fastq_runid_536cafc874cb995b6c8b47a5baabb9598eaded02_35_3.tsv\n",
      "[21:26:52 - __main__] Starting fastq (143 of 211)\n",
      "\t/path/to/data/MinION_sequencing_data_20190809/guppy_3.2.2_exec_20190809/pass/fastq_runid_536cafc874cb995b6c8b47a5baabb9598eaded02_36_1.fastq\n"
     ]
    },
    {
     "name": "stdout",
     "output_type": "stream",
     "text": [
      "[########################################] | 100% Completed |  4.7s\n",
      "[########################################] | 100% Completed |  4.8s\n",
      "[########################################] | 100% Completed |  4.8s\n",
      "[########################################] | 100% Completed |  4.9s\n",
      "[########################################] | 100% Completed |  4.9s\n",
      "[########################################] | 100% Completed |  5.0s\n",
      "[########################################] | 100% Completed |  5.1s\n",
      "[########################################] | 100% Completed |  5.1s\n",
      "[########################################] | 100% Completed |  5.1s\n",
      "[########################################] | 100% Completed |  5.1s\n",
      "[########################################] | 100% Completed |  5.2s\n",
      "[########################################] | 100% Completed |  5.3s\n",
      "[########################################] | 100% Completed |  5.4s\n",
      "[########################################] | 100% Completed |  5.4s\n"
     ]
    },
    {
     "name": "stderr",
     "output_type": "stream",
     "text": [
      "[21:26:58 - __main__] Saving to file: /path/to/data/MinION_sequencing_data_20190809/guppy_3.2.2_exec_20190809/sw/fastq_runid_536cafc874cb995b6c8b47a5baabb9598eaded02_36_1.tsv\n",
      "[21:26:58 - __main__] Starting fastq (144 of 211)\n",
      "\t/path/to/data/MinION_sequencing_data_20190809/guppy_3.2.2_exec_20190809/pass/fastq_runid_536cafc874cb995b6c8b47a5baabb9598eaded02_37_0.fastq\n"
     ]
    },
    {
     "name": "stdout",
     "output_type": "stream",
     "text": [
      "[########################################] | 100% Completed |  1min 53.7s\n",
      "[########################################] | 100% Completed |  1min 53.8s\n",
      "[########################################] | 100% Completed |  1min 53.9s\n",
      "[########################################] | 100% Completed |  1min 53.9s\n",
      "[########################################] | 100% Completed |  1min 54.0s\n",
      "[########################################] | 100% Completed |  1min 54.1s\n",
      "[########################################] | 100% Completed |  1min 54.1s\n",
      "[########################################] | 100% Completed |  1min 54.1s\n",
      "[########################################] | 100% Completed |  1min 54.2s\n",
      "[########################################] | 100% Completed |  1min 54.2s\n",
      "[########################################] | 100% Completed |  1min 54.3s\n",
      "[########################################] | 100% Completed |  1min 54.3s\n",
      "[########################################] | 100% Completed |  1min 54.4s\n",
      "[########################################] | 100% Completed |  1min 54.4s\n"
     ]
    },
    {
     "name": "stderr",
     "output_type": "stream",
     "text": [
      "[21:28:54 - __main__] Saving to file: /path/to/data/MinION_sequencing_data_20190809/guppy_3.2.2_exec_20190809/sw/fastq_runid_536cafc874cb995b6c8b47a5baabb9598eaded02_37_0.tsv\n",
      "[21:28:54 - __main__] Starting fastq (145 of 211)\n",
      "\t/path/to/data/MinION_sequencing_data_20190809/guppy_3.2.2_exec_20190809/pass/fastq_runid_536cafc874cb995b6c8b47a5baabb9598eaded02_37_1.fastq\n"
     ]
    },
    {
     "name": "stdout",
     "output_type": "stream",
     "text": [
      "[########################################] | 100% Completed |  7.4s\n",
      "[########################################] | 100% Completed |  7.5s\n",
      "[########################################] | 100% Completed |  7.5s\n",
      "[########################################] | 100% Completed |  7.6s\n",
      "[########################################] | 100% Completed |  7.6s\n",
      "[########################################] | 100% Completed |  7.7s\n",
      "[########################################] | 100% Completed |  7.8s\n",
      "[########################################] | 100% Completed |  7.9s\n",
      "[########################################] | 100% Completed |  7.9s\n",
      "[########################################] | 100% Completed |  8.0s\n",
      "[########################################] | 100% Completed |  8.0s\n",
      "[########################################] | 100% Completed |  8.1s\n",
      "[########################################] | 100% Completed |  8.1s\n",
      "[########################################] | 100% Completed |  8.2s\n"
     ]
    },
    {
     "name": "stderr",
     "output_type": "stream",
     "text": [
      "[21:29:03 - __main__] Saving to file: /path/to/data/MinION_sequencing_data_20190809/guppy_3.2.2_exec_20190809/sw/fastq_runid_536cafc874cb995b6c8b47a5baabb9598eaded02_37_1.tsv\n",
      "[21:29:03 - __main__] Starting fastq (146 of 211)\n",
      "\t/path/to/data/MinION_sequencing_data_20190809/guppy_3.2.2_exec_20190809/pass/fastq_runid_536cafc874cb995b6c8b47a5baabb9598eaded02_38_0.fastq\n"
     ]
    },
    {
     "name": "stdout",
     "output_type": "stream",
     "text": [
      "[########################################] | 100% Completed |  1min  1.1s\n",
      "[########################################] | 100% Completed |  1min  1.2s\n",
      "[########################################] | 100% Completed |  1min  1.3s\n",
      "[########################################] | 100% Completed |  1min  1.3s\n",
      "[########################################] | 100% Completed |  1min  1.4s\n",
      "[########################################] | 100% Completed |  1min  1.4s\n",
      "[########################################] | 100% Completed |  1min  1.5s\n",
      "[########################################] | 100% Completed |  1min  1.5s\n",
      "[########################################] | 100% Completed |  1min  1.6s\n",
      "[########################################] | 100% Completed |  1min  1.6s\n",
      "[########################################] | 100% Completed |  1min  1.6s\n",
      "[########################################] | 100% Completed |  1min  1.7s\n",
      "[########################################] | 100% Completed |  1min  1.7s\n",
      "[########################################] | 100% Completed |  1min  1.7s\n"
     ]
    },
    {
     "name": "stderr",
     "output_type": "stream",
     "text": [
      "[21:30:06 - __main__] Saving to file: /path/to/data/MinION_sequencing_data_20190809/guppy_3.2.2_exec_20190809/sw/fastq_runid_536cafc874cb995b6c8b47a5baabb9598eaded02_38_0.tsv\n",
      "[21:30:06 - __main__] Starting fastq (147 of 211)\n",
      "\t/path/to/data/MinION_sequencing_data_20190809/guppy_3.2.2_exec_20190809/pass/fastq_runid_536cafc874cb995b6c8b47a5baabb9598eaded02_36_2.fastq\n"
     ]
    },
    {
     "name": "stdout",
     "output_type": "stream",
     "text": [
      "[########################################] | 100% Completed | 20.7s\n",
      "[########################################] | 100% Completed | 20.8s\n",
      "[########################################] | 100% Completed | 20.9s\n",
      "[########################################] | 100% Completed | 21.0s\n",
      "[########################################] | 100% Completed | 21.0s\n",
      "[########################################] | 100% Completed | 21.0s\n",
      "[########################################] | 100% Completed | 21.1s\n",
      "[########################################] | 100% Completed | 21.1s\n",
      "[########################################] | 100% Completed | 21.2s\n",
      "[########################################] | 100% Completed | 21.3s\n",
      "[########################################] | 100% Completed | 21.3s\n",
      "[########################################] | 100% Completed | 21.4s\n",
      "[########################################] | 100% Completed | 21.5s\n",
      "[########################################] | 100% Completed | 21.5s\n"
     ]
    },
    {
     "name": "stderr",
     "output_type": "stream",
     "text": [
      "[21:30:28 - __main__] Saving to file: /path/to/data/MinION_sequencing_data_20190809/guppy_3.2.2_exec_20190809/sw/fastq_runid_536cafc874cb995b6c8b47a5baabb9598eaded02_36_2.tsv\n",
      "[21:30:28 - __main__] Starting fastq (148 of 211)\n",
      "\t/path/to/data/MinION_sequencing_data_20190809/guppy_3.2.2_exec_20190809/pass/fastq_runid_536cafc874cb995b6c8b47a5baabb9598eaded02_37_2.fastq\n"
     ]
    },
    {
     "name": "stdout",
     "output_type": "stream",
     "text": [
      "[########################################] | 100% Completed |  8.0s\n",
      "[########################################] | 100% Completed |  8.1s\n",
      "[########################################] | 100% Completed |  8.2s\n",
      "[########################################] | 100% Completed |  8.2s\n",
      "[########################################] | 100% Completed |  8.2s\n",
      "[########################################] | 100% Completed |  8.3s\n",
      "[########################################] | 100% Completed |  8.4s\n",
      "[########################################] | 100% Completed |  8.5s\n",
      "[########################################] | 100% Completed |  8.5s\n",
      "[########################################] | 100% Completed |  8.6s\n",
      "[########################################] | 100% Completed |  8.7s\n",
      "[########################################] | 100% Completed |  8.8s\n",
      "[########################################] | 100% Completed |  8.8s\n",
      "[########################################] | 100% Completed |  8.8s\n"
     ]
    },
    {
     "name": "stderr",
     "output_type": "stream",
     "text": [
      "[21:30:38 - __main__] Saving to file: /path/to/data/MinION_sequencing_data_20190809/guppy_3.2.2_exec_20190809/sw/fastq_runid_536cafc874cb995b6c8b47a5baabb9598eaded02_37_2.tsv\n",
      "[21:30:38 - __main__] Starting fastq (149 of 211)\n",
      "\t/path/to/data/MinION_sequencing_data_20190809/guppy_3.2.2_exec_20190809/pass/fastq_runid_536cafc874cb995b6c8b47a5baabb9598eaded02_36_3.fastq\n"
     ]
    },
    {
     "name": "stdout",
     "output_type": "stream",
     "text": [
      "[########################################] | 100% Completed |  1.0s\n",
      "[########################################] | 100% Completed |  1.0s\n",
      "[########################################] | 100% Completed |  1.0s\n",
      "[########################################] | 100% Completed |  1.1s\n",
      "[########################################] | 100% Completed |  1.2s\n",
      "[########################################] | 100% Completed |  1.3s\n",
      "[########################################] | 100% Completed |  1.4s\n",
      "[########################################] | 100% Completed |  1.4s\n",
      "[########################################] | 100% Completed |  1.4s\n",
      "[########################################] | 100% Completed |  1.5s\n",
      "[########################################] | 100% Completed |  1.5s\n",
      "[########################################] | 100% Completed |  1.6s\n",
      "[########################################] | 100% Completed |  1.6s\n",
      "[########################################] | 100% Completed |  1.7s\n"
     ]
    },
    {
     "name": "stderr",
     "output_type": "stream",
     "text": [
      "[21:30:41 - __main__] Saving to file: /path/to/data/MinION_sequencing_data_20190809/guppy_3.2.2_exec_20190809/sw/fastq_runid_536cafc874cb995b6c8b47a5baabb9598eaded02_36_3.tsv\n",
      "[21:30:41 - __main__] Starting fastq (150 of 211)\n",
      "\t/path/to/data/MinION_sequencing_data_20190809/guppy_3.2.2_exec_20190809/pass/fastq_runid_536cafc874cb995b6c8b47a5baabb9598eaded02_37_3.fastq\n"
     ]
    },
    {
     "name": "stdout",
     "output_type": "stream",
     "text": [
      "[########################################] | 100% Completed |  6.2s\n",
      "[########################################] | 100% Completed |  6.2s\n",
      "[########################################] | 100% Completed |  6.3s\n",
      "[########################################] | 100% Completed |  6.4s\n",
      "[########################################] | 100% Completed |  6.4s\n",
      "[########################################] | 100% Completed |  6.5s\n",
      "[########################################] | 100% Completed |  6.5s\n",
      "[########################################] | 100% Completed |  6.5s\n",
      "[########################################] | 100% Completed |  6.6s\n",
      "[########################################] | 100% Completed |  6.7s\n",
      "[########################################] | 100% Completed |  6.8s\n",
      "[########################################] | 100% Completed |  6.8s\n",
      "[########################################] | 100% Completed |  6.9s\n",
      "[########################################] | 100% Completed |  7.0s\n"
     ]
    },
    {
     "name": "stderr",
     "output_type": "stream",
     "text": [
      "[21:30:49 - __main__] Saving to file: /path/to/data/MinION_sequencing_data_20190809/guppy_3.2.2_exec_20190809/sw/fastq_runid_536cafc874cb995b6c8b47a5baabb9598eaded02_37_3.tsv\n",
      "[21:30:49 - __main__] Starting fastq (151 of 211)\n",
      "\t/path/to/data/MinION_sequencing_data_20190809/guppy_3.2.2_exec_20190809/pass/fastq_runid_536cafc874cb995b6c8b47a5baabb9598eaded02_38_1.fastq\n"
     ]
    },
    {
     "name": "stdout",
     "output_type": "stream",
     "text": [
      "[########################################] | 100% Completed | 30.8s\n",
      "[########################################] | 100% Completed | 30.8s\n",
      "[########################################] | 100% Completed | 30.9s\n",
      "[########################################] | 100% Completed | 31.0s\n",
      "[########################################] | 100% Completed | 31.0s\n",
      "[########################################] | 100% Completed | 31.1s\n",
      "[########################################] | 100% Completed | 31.2s\n",
      "[########################################] | 100% Completed | 31.3s\n",
      "[########################################] | 100% Completed | 31.3s\n",
      "[########################################] | 100% Completed | 31.4s\n",
      "[########################################] | 100% Completed | 31.4s\n",
      "[########################################] | 100% Completed | 31.5s\n",
      "[########################################] | 100% Completed | 31.6s\n",
      "[########################################] | 100% Completed | 31.6s\n"
     ]
    },
    {
     "name": "stderr",
     "output_type": "stream",
     "text": [
      "[21:31:21 - __main__] Saving to file: /path/to/data/MinION_sequencing_data_20190809/guppy_3.2.2_exec_20190809/sw/fastq_runid_536cafc874cb995b6c8b47a5baabb9598eaded02_38_1.tsv\n",
      "[21:31:21 - __main__] Starting fastq (152 of 211)\n",
      "\t/path/to/data/MinION_sequencing_data_20190809/guppy_3.2.2_exec_20190809/pass/fastq_runid_536cafc874cb995b6c8b47a5baabb9598eaded02_38_2.fastq\n"
     ]
    },
    {
     "name": "stdout",
     "output_type": "stream",
     "text": [
      "[########################################] | 100% Completed | 44.5s\n",
      "[########################################] | 100% Completed | 44.6s\n",
      "[########################################] | 100% Completed | 44.7s\n",
      "[########################################] | 100% Completed | 44.7s\n",
      "[########################################] | 100% Completed | 44.8s\n",
      "[########################################] | 100% Completed | 44.9s\n",
      "[########################################] | 100% Completed | 45.0s\n",
      "[########################################] | 100% Completed | 45.0s\n",
      "[########################################] | 100% Completed | 45.1s\n",
      "[########################################] | 100% Completed | 45.2s\n",
      "[########################################] | 100% Completed | 45.3s\n",
      "[########################################] | 100% Completed | 45.4s\n",
      "[########################################] | 100% Completed | 45.4s\n",
      "[########################################] | 100% Completed | 45.5s\n"
     ]
    },
    {
     "name": "stderr",
     "output_type": "stream",
     "text": [
      "[21:32:08 - __main__] Saving to file: /path/to/data/MinION_sequencing_data_20190809/guppy_3.2.2_exec_20190809/sw/fastq_runid_536cafc874cb995b6c8b47a5baabb9598eaded02_38_2.tsv\n",
      "[21:32:08 - __main__] Starting fastq (153 of 211)\n",
      "\t/path/to/data/MinION_sequencing_data_20190809/guppy_3.2.2_exec_20190809/pass/fastq_runid_536cafc874cb995b6c8b47a5baabb9598eaded02_38_3.fastq\n"
     ]
    },
    {
     "name": "stdout",
     "output_type": "stream",
     "text": [
      "[########################################] | 100% Completed |  1.0s\n",
      "[########################################] | 100% Completed |  1.1s\n",
      "[########################################] | 100% Completed |  1.2s\n",
      "[########################################] | 100% Completed |  1.2s\n",
      "[########################################] | 100% Completed |  1.2s\n",
      "[########################################] | 100% Completed |  1.3s\n",
      "[########################################] | 100% Completed |  1.4s\n",
      "[########################################] | 100% Completed |  1.4s\n",
      "[########################################] | 100% Completed |  1.5s\n",
      "[########################################] | 100% Completed |  1.6s\n",
      "[########################################] | 100% Completed |  1.7s\n",
      "[########################################] | 100% Completed |  1.7s\n",
      "[########################################] | 100% Completed |  1.8s\n",
      "[########################################] | 100% Completed |  1.9s\n"
     ]
    },
    {
     "name": "stderr",
     "output_type": "stream",
     "text": [
      "[21:32:11 - __main__] Saving to file: /path/to/data/MinION_sequencing_data_20190809/guppy_3.2.2_exec_20190809/sw/fastq_runid_536cafc874cb995b6c8b47a5baabb9598eaded02_38_3.tsv\n",
      "[21:32:11 - __main__] Starting fastq (154 of 211)\n",
      "\t/path/to/data/MinION_sequencing_data_20190809/guppy_3.2.2_exec_20190809/pass/fastq_runid_536cafc874cb995b6c8b47a5baabb9598eaded02_39_0.fastq\n"
     ]
    },
    {
     "name": "stdout",
     "output_type": "stream",
     "text": [
      "[########################################] | 100% Completed | 36.8s\n",
      "[########################################] | 100% Completed | 36.8s\n",
      "[########################################] | 100% Completed | 36.9s\n",
      "[########################################] | 100% Completed | 37.0s\n",
      "[########################################] | 100% Completed | 37.1s\n",
      "[########################################] | 100% Completed | 37.1s\n",
      "[########################################] | 100% Completed | 37.2s\n",
      "[########################################] | 100% Completed | 37.3s\n",
      "[########################################] | 100% Completed | 37.3s\n",
      "[########################################] | 100% Completed | 37.4s\n",
      "[########################################] | 100% Completed | 37.4s\n",
      "[########################################] | 100% Completed | 37.4s\n",
      "[########################################] | 100% Completed | 37.5s\n",
      "[########################################] | 100% Completed | 37.6s\n"
     ]
    },
    {
     "name": "stderr",
     "output_type": "stream",
     "text": [
      "[21:32:49 - __main__] Saving to file: /path/to/data/MinION_sequencing_data_20190809/guppy_3.2.2_exec_20190809/sw/fastq_runid_536cafc874cb995b6c8b47a5baabb9598eaded02_39_0.tsv\n",
      "[21:32:49 - __main__] Starting fastq (155 of 211)\n",
      "\t/path/to/data/MinION_sequencing_data_20190809/guppy_3.2.2_exec_20190809/pass/fastq_runid_536cafc874cb995b6c8b47a5baabb9598eaded02_39_1.fastq\n"
     ]
    },
    {
     "name": "stdout",
     "output_type": "stream",
     "text": [
      "[########################################] | 100% Completed | 41.8s\n",
      "[########################################] | 100% Completed | 41.9s\n",
      "[########################################] | 100% Completed | 42.0s\n",
      "[########################################] | 100% Completed | 42.0s\n",
      "[########################################] | 100% Completed | 42.0s\n",
      "[########################################] | 100% Completed | 42.1s\n",
      "[########################################] | 100% Completed | 42.2s\n",
      "[########################################] | 100% Completed | 42.2s\n",
      "[########################################] | 100% Completed | 42.3s\n",
      "[########################################] | 100% Completed | 42.3s\n",
      "[########################################] | 100% Completed | 42.3s\n",
      "[########################################] | 100% Completed | 42.4s\n",
      "[########################################] | 100% Completed | 42.5s\n",
      "[########################################] | 100% Completed | 42.5s\n"
     ]
    },
    {
     "name": "stderr",
     "output_type": "stream",
     "text": [
      "[21:33:33 - __main__] Saving to file: /path/to/data/MinION_sequencing_data_20190809/guppy_3.2.2_exec_20190809/sw/fastq_runid_536cafc874cb995b6c8b47a5baabb9598eaded02_39_1.tsv\n",
      "[21:33:33 - __main__] Starting fastq (156 of 211)\n",
      "\t/path/to/data/MinION_sequencing_data_20190809/guppy_3.2.2_exec_20190809/pass/fastq_runid_536cafc874cb995b6c8b47a5baabb9598eaded02_39_2.fastq\n"
     ]
    },
    {
     "name": "stdout",
     "output_type": "stream",
     "text": [
      "[########################################] | 100% Completed |  5.3s\n",
      "[########################################] | 100% Completed |  5.4s\n",
      "[########################################] | 100% Completed |  5.5s\n",
      "[########################################] | 100% Completed |  5.5s\n",
      "[########################################] | 100% Completed |  5.5s\n",
      "[########################################] | 100% Completed |  5.6s\n",
      "[########################################] | 100% Completed |  5.6s\n",
      "[########################################] | 100% Completed |  5.7s\n",
      "[########################################] | 100% Completed |  5.7s\n",
      "[########################################] | 100% Completed |  5.8s\n",
      "[########################################] | 100% Completed |  5.8s\n",
      "[########################################] | 100% Completed |  5.9s\n",
      "[########################################] | 100% Completed |  5.9s\n",
      "[########################################] | 100% Completed |  6.0s\n"
     ]
    },
    {
     "name": "stderr",
     "output_type": "stream",
     "text": [
      "[21:33:40 - __main__] Saving to file: /path/to/data/MinION_sequencing_data_20190809/guppy_3.2.2_exec_20190809/sw/fastq_runid_536cafc874cb995b6c8b47a5baabb9598eaded02_39_2.tsv\n",
      "[21:33:40 - __main__] Starting fastq (157 of 211)\n",
      "\t/path/to/data/MinION_sequencing_data_20190809/guppy_3.2.2_exec_20190809/pass/fastq_runid_536cafc874cb995b6c8b47a5baabb9598eaded02_39_3.fastq\n"
     ]
    },
    {
     "name": "stdout",
     "output_type": "stream",
     "text": [
      "[########################################] | 100% Completed | 53.1s\n",
      "[########################################] | 100% Completed | 53.1s\n",
      "[########################################] | 100% Completed | 53.1s\n",
      "[########################################] | 100% Completed | 53.1s\n",
      "[########################################] | 100% Completed | 53.2s\n",
      "[########################################] | 100% Completed | 53.2s\n",
      "[########################################] | 100% Completed | 53.3s\n",
      "[########################################] | 100% Completed | 53.3s\n",
      "[########################################] | 100% Completed | 53.4s\n",
      "[########################################] | 100% Completed | 53.5s\n",
      "[########################################] | 100% Completed | 53.5s\n",
      "[########################################] | 100% Completed | 53.6s\n",
      "[########################################] | 100% Completed | 53.6s\n",
      "[########################################] | 100% Completed | 53.7s\n"
     ]
    },
    {
     "name": "stderr",
     "output_type": "stream",
     "text": [
      "[21:34:35 - __main__] Saving to file: /path/to/data/MinION_sequencing_data_20190809/guppy_3.2.2_exec_20190809/sw/fastq_runid_536cafc874cb995b6c8b47a5baabb9598eaded02_39_3.tsv\n",
      "[21:34:35 - __main__] Starting fastq (158 of 211)\n",
      "\t/path/to/data/MinION_sequencing_data_20190809/guppy_3.2.2_exec_20190809/pass/fastq_runid_536cafc874cb995b6c8b47a5baabb9598eaded02_40_0.fastq\n"
     ]
    },
    {
     "name": "stdout",
     "output_type": "stream",
     "text": [
      "[########################################] | 100% Completed |  1min 43.8s\n",
      "[########################################] | 100% Completed |  1min 43.9s\n",
      "[########################################] | 100% Completed |  1min 43.9s\n",
      "[########################################] | 100% Completed |  1min 44.0s\n",
      "[########################################] | 100% Completed |  1min 44.1s\n",
      "[########################################] | 100% Completed |  1min 44.1s\n",
      "[########################################] | 100% Completed |  1min 44.2s\n",
      "[########################################] | 100% Completed |  1min 44.2s\n",
      "[########################################] | 100% Completed |  1min 44.2s\n",
      "[########################################] | 100% Completed |  1min 44.2s\n",
      "[########################################] | 100% Completed |  1min 44.3s\n",
      "[########################################] | 100% Completed |  1min 44.4s\n",
      "[########################################] | 100% Completed |  1min 44.4s\n",
      "[########################################] | 100% Completed |  1min 44.5s\n"
     ]
    },
    {
     "name": "stderr",
     "output_type": "stream",
     "text": [
      "[21:36:20 - __main__] Saving to file: /path/to/data/MinION_sequencing_data_20190809/guppy_3.2.2_exec_20190809/sw/fastq_runid_536cafc874cb995b6c8b47a5baabb9598eaded02_40_0.tsv\n",
      "[21:36:20 - __main__] Starting fastq (159 of 211)\n",
      "\t/path/to/data/MinION_sequencing_data_20190809/guppy_3.2.2_exec_20190809/pass/fastq_runid_536cafc874cb995b6c8b47a5baabb9598eaded02_40_1.fastq\n"
     ]
    },
    {
     "name": "stdout",
     "output_type": "stream",
     "text": [
      "[########################################] | 100% Completed | 14.2s\n",
      "[########################################] | 100% Completed | 14.3s\n",
      "[########################################] | 100% Completed | 14.4s\n",
      "[########################################] | 100% Completed | 14.4s\n",
      "[########################################] | 100% Completed | 14.4s\n",
      "[########################################] | 100% Completed | 14.5s\n",
      "[########################################] | 100% Completed | 14.5s\n",
      "[########################################] | 100% Completed | 14.6s\n",
      "[########################################] | 100% Completed | 14.6s\n",
      "[########################################] | 100% Completed | 14.6s\n",
      "[########################################] | 100% Completed | 14.7s\n",
      "[########################################] | 100% Completed | 14.8s\n",
      "[########################################] | 100% Completed | 14.8s\n",
      "[########################################] | 100% Completed | 14.9s\n"
     ]
    },
    {
     "name": "stderr",
     "output_type": "stream",
     "text": [
      "[21:36:36 - __main__] Saving to file: /path/to/data/MinION_sequencing_data_20190809/guppy_3.2.2_exec_20190809/sw/fastq_runid_536cafc874cb995b6c8b47a5baabb9598eaded02_40_1.tsv\n",
      "[21:36:36 - __main__] Starting fastq (160 of 211)\n",
      "\t/path/to/data/MinION_sequencing_data_20190809/guppy_3.2.2_exec_20190809/pass/fastq_runid_536cafc874cb995b6c8b47a5baabb9598eaded02_40_2.fastq\n"
     ]
    },
    {
     "name": "stdout",
     "output_type": "stream",
     "text": [
      "[########################################] | 100% Completed | 10.5s\n",
      "[########################################] | 100% Completed | 10.6s\n",
      "[########################################] | 100% Completed | 10.7s\n",
      "[########################################] | 100% Completed | 10.8s\n",
      "[########################################] | 100% Completed | 10.9s\n",
      "[########################################] | 100% Completed | 11.0s\n",
      "[########################################] | 100% Completed | 11.0s\n",
      "[########################################] | 100% Completed | 11.1s\n",
      "[########################################] | 100% Completed | 11.1s\n",
      "[########################################] | 100% Completed | 11.2s\n",
      "[########################################] | 100% Completed | 11.3s\n",
      "[########################################] | 100% Completed | 11.4s\n",
      "[########################################] | 100% Completed | 11.5s\n",
      "[########################################] | 100% Completed | 11.6s\n"
     ]
    },
    {
     "name": "stderr",
     "output_type": "stream",
     "text": [
      "[21:36:49 - __main__] Saving to file: /path/to/data/MinION_sequencing_data_20190809/guppy_3.2.2_exec_20190809/sw/fastq_runid_536cafc874cb995b6c8b47a5baabb9598eaded02_40_2.tsv\n",
      "[21:36:49 - __main__] Starting fastq (161 of 211)\n",
      "\t/path/to/data/MinION_sequencing_data_20190809/guppy_3.2.2_exec_20190809/pass/fastq_runid_536cafc874cb995b6c8b47a5baabb9598eaded02_41_0.fastq\n"
     ]
    },
    {
     "name": "stdout",
     "output_type": "stream",
     "text": [
      "[########################################] | 100% Completed | 16.6s\n",
      "[########################################] | 100% Completed | 16.7s\n",
      "[########################################] | 100% Completed | 16.7s\n",
      "[########################################] | 100% Completed | 16.8s\n",
      "[########################################] | 100% Completed | 16.8s\n",
      "[########################################] | 100% Completed | 16.9s\n",
      "[########################################] | 100% Completed | 16.9s\n",
      "[########################################] | 100% Completed | 17.0s\n",
      "[########################################] | 100% Completed | 17.0s\n",
      "[########################################] | 100% Completed | 17.1s\n",
      "[########################################] | 100% Completed | 17.1s\n",
      "[########################################] | 100% Completed | 17.2s\n",
      "[########################################] | 100% Completed | 17.2s\n",
      "[########################################] | 100% Completed | 17.3s\n"
     ]
    },
    {
     "name": "stderr",
     "output_type": "stream",
     "text": [
      "[21:37:07 - __main__] Saving to file: /path/to/data/MinION_sequencing_data_20190809/guppy_3.2.2_exec_20190809/sw/fastq_runid_536cafc874cb995b6c8b47a5baabb9598eaded02_41_0.tsv\n",
      "[21:37:07 - __main__] Starting fastq (162 of 211)\n",
      "\t/path/to/data/MinION_sequencing_data_20190809/guppy_3.2.2_exec_20190809/pass/fastq_runid_536cafc874cb995b6c8b47a5baabb9598eaded02_41_1.fastq\n"
     ]
    },
    {
     "name": "stdout",
     "output_type": "stream",
     "text": [
      "[########################################] | 100% Completed |  1min  3.2s\n",
      "[########################################] | 100% Completed |  1min  3.2s\n",
      "[########################################] | 100% Completed |  1min  3.3s\n",
      "[########################################] | 100% Completed |  1min  3.4s\n",
      "[########################################] | 100% Completed |  1min  3.4s\n",
      "[########################################] | 100% Completed |  1min  3.5s\n",
      "[########################################] | 100% Completed |  1min  3.5s\n",
      "[########################################] | 100% Completed |  1min  3.6s\n",
      "[########################################] | 100% Completed |  1min  3.7s\n",
      "[########################################] | 100% Completed |  1min  3.8s\n",
      "[########################################] | 100% Completed |  1min  3.9s\n",
      "[########################################] | 100% Completed |  1min  3.9s\n",
      "[########################################] | 100% Completed |  1min  4.0s\n",
      "[########################################] | 100% Completed |  1min  4.1s\n"
     ]
    },
    {
     "name": "stderr",
     "output_type": "stream",
     "text": [
      "[21:38:12 - __main__] Saving to file: /path/to/data/MinION_sequencing_data_20190809/guppy_3.2.2_exec_20190809/sw/fastq_runid_536cafc874cb995b6c8b47a5baabb9598eaded02_41_1.tsv\n",
      "[21:38:12 - __main__] Starting fastq (163 of 211)\n",
      "\t/path/to/data/MinION_sequencing_data_20190809/guppy_3.2.2_exec_20190809/pass/fastq_runid_536cafc874cb995b6c8b47a5baabb9598eaded02_41_2.fastq\n"
     ]
    },
    {
     "name": "stdout",
     "output_type": "stream",
     "text": [
      "[########################################] | 100% Completed |  5.7s\n",
      "[########################################] | 100% Completed |  5.7s\n",
      "[########################################] | 100% Completed |  5.8s\n",
      "[########################################] | 100% Completed |  5.9s\n",
      "[########################################] | 100% Completed |  6.0s\n",
      "[########################################] | 100% Completed |  6.1s\n",
      "[########################################] | 100% Completed |  6.1s\n",
      "[########################################] | 100% Completed |  6.1s\n",
      "[########################################] | 100% Completed |  6.1s\n",
      "[########################################] | 100% Completed |  6.2s\n",
      "[########################################] | 100% Completed |  6.3s\n",
      "[########################################] | 100% Completed |  6.3s\n",
      "[########################################] | 100% Completed |  6.4s\n",
      "[########################################] | 100% Completed |  6.4s\n"
     ]
    },
    {
     "name": "stderr",
     "output_type": "stream",
     "text": [
      "[21:38:19 - __main__] Saving to file: /path/to/data/MinION_sequencing_data_20190809/guppy_3.2.2_exec_20190809/sw/fastq_runid_536cafc874cb995b6c8b47a5baabb9598eaded02_41_2.tsv\n",
      "[21:38:20 - __main__] Starting fastq (164 of 211)\n",
      "\t/path/to/data/MinION_sequencing_data_20190809/guppy_3.2.2_exec_20190809/pass/fastq_runid_536cafc874cb995b6c8b47a5baabb9598eaded02_42_0.fastq\n"
     ]
    },
    {
     "name": "stdout",
     "output_type": "stream",
     "text": [
      "[########################################] | 100% Completed |  1min  5.3s\n",
      "[########################################] | 100% Completed |  1min  5.3s\n",
      "[########################################] | 100% Completed |  1min  5.3s\n",
      "[########################################] | 100% Completed |  1min  5.4s\n",
      "[########################################] | 100% Completed |  1min  5.4s\n",
      "[########################################] | 100% Completed |  1min  5.5s\n",
      "[########################################] | 100% Completed |  1min  5.5s\n",
      "[########################################] | 100% Completed |  1min  5.6s\n",
      "[########################################] | 100% Completed |  1min  5.7s\n",
      "[########################################] | 100% Completed |  1min  5.7s\n",
      "[########################################] | 100% Completed |  1min  5.8s\n",
      "[########################################] | 100% Completed |  1min  5.8s\n",
      "[########################################] | 100% Completed |  1min  5.9s\n",
      "[########################################] | 100% Completed |  1min  5.9s\n"
     ]
    },
    {
     "name": "stderr",
     "output_type": "stream",
     "text": [
      "[21:39:26 - __main__] Saving to file: /path/to/data/MinION_sequencing_data_20190809/guppy_3.2.2_exec_20190809/sw/fastq_runid_536cafc874cb995b6c8b47a5baabb9598eaded02_42_0.tsv\n",
      "[21:39:26 - __main__] Starting fastq (165 of 211)\n",
      "\t/path/to/data/MinION_sequencing_data_20190809/guppy_3.2.2_exec_20190809/pass/fastq_runid_536cafc874cb995b6c8b47a5baabb9598eaded02_40_3.fastq\n"
     ]
    },
    {
     "name": "stdout",
     "output_type": "stream",
     "text": [
      "[########################################] | 100% Completed |  6.3s\n",
      "[########################################] | 100% Completed |  6.3s\n",
      "[########################################] | 100% Completed |  6.4s\n",
      "[########################################] | 100% Completed |  6.5s\n",
      "[########################################] | 100% Completed |  6.6s\n",
      "[########################################] | 100% Completed |  6.6s\n",
      "[########################################] | 100% Completed |  6.7s\n",
      "[########################################] | 100% Completed |  6.7s\n",
      "[########################################] | 100% Completed |  6.8s\n",
      "[########################################] | 100% Completed |  6.8s\n",
      "[########################################] | 100% Completed |  6.9s\n",
      "[########################################] | 100% Completed |  6.9s\n",
      "[########################################] | 100% Completed |  6.9s\n",
      "[########################################] | 100% Completed |  7.0s\n"
     ]
    },
    {
     "name": "stderr",
     "output_type": "stream",
     "text": [
      "[21:39:34 - __main__] Saving to file: /path/to/data/MinION_sequencing_data_20190809/guppy_3.2.2_exec_20190809/sw/fastq_runid_536cafc874cb995b6c8b47a5baabb9598eaded02_40_3.tsv\n",
      "[21:39:34 - __main__] Starting fastq (166 of 211)\n",
      "\t/path/to/data/MinION_sequencing_data_20190809/guppy_3.2.2_exec_20190809/pass/fastq_runid_536cafc874cb995b6c8b47a5baabb9598eaded02_41_3.fastq\n"
     ]
    },
    {
     "name": "stdout",
     "output_type": "stream",
     "text": [
      "[########################################] | 100% Completed |  0.9s\n",
      "[########################################] | 100% Completed |  0.9s\n",
      "[########################################] | 100% Completed |  0.9s\n",
      "[########################################] | 100% Completed |  1.0s\n",
      "[########################################] | 100% Completed |  1.0s\n",
      "[########################################] | 100% Completed |  1.1s\n",
      "[########################################] | 100% Completed |  1.1s\n",
      "[########################################] | 100% Completed |  1.1s\n",
      "[########################################] | 100% Completed |  1.1s\n",
      "[########################################] | 100% Completed |  1.2s\n",
      "[########################################] | 100% Completed |  1.3s\n",
      "[########################################] | 100% Completed |  1.3s\n",
      "[########################################] | 100% Completed |  1.4s\n",
      "[########################################] | 100% Completed |  1.5s\n"
     ]
    },
    {
     "name": "stderr",
     "output_type": "stream",
     "text": [
      "[21:39:37 - __main__] Saving to file: /path/to/data/MinION_sequencing_data_20190809/guppy_3.2.2_exec_20190809/sw/fastq_runid_536cafc874cb995b6c8b47a5baabb9598eaded02_41_3.tsv\n",
      "[21:39:37 - __main__] Starting fastq (167 of 211)\n",
      "\t/path/to/data/MinION_sequencing_data_20190809/guppy_3.2.2_exec_20190809/pass/fastq_runid_536cafc874cb995b6c8b47a5baabb9598eaded02_42_1.fastq\n"
     ]
    },
    {
     "name": "stdout",
     "output_type": "stream",
     "text": [
      "[########################################] | 100% Completed | 59.0s\n",
      "[########################################] | 100% Completed | 59.0s\n",
      "[########################################] | 100% Completed | 59.1s\n",
      "[########################################] | 100% Completed | 59.2s\n",
      "[########################################] | 100% Completed | 59.3s\n",
      "[########################################] | 100% Completed | 59.3s\n",
      "[########################################] | 100% Completed | 59.4s\n",
      "[########################################] | 100% Completed | 59.4s\n",
      "[########################################] | 100% Completed | 59.4s\n",
      "[########################################] | 100% Completed | 59.5s\n",
      "[########################################] | 100% Completed | 59.6s\n",
      "[########################################] | 100% Completed | 59.7s\n",
      "[########################################] | 100% Completed | 59.8s\n",
      "[########################################] | 100% Completed | 59.8s\n"
     ]
    },
    {
     "name": "stderr",
     "output_type": "stream",
     "text": [
      "[21:40:38 - __main__] Saving to file: /path/to/data/MinION_sequencing_data_20190809/guppy_3.2.2_exec_20190809/sw/fastq_runid_536cafc874cb995b6c8b47a5baabb9598eaded02_42_1.tsv\n",
      "[21:40:38 - __main__] Starting fastq (168 of 211)\n",
      "\t/path/to/data/MinION_sequencing_data_20190809/guppy_3.2.2_exec_20190809/pass/fastq_runid_536cafc874cb995b6c8b47a5baabb9598eaded02_42_2.fastq\n"
     ]
    },
    {
     "name": "stdout",
     "output_type": "stream",
     "text": [
      "[########################################] | 100% Completed |  8.0s\n",
      "[########################################] | 100% Completed |  8.0s\n",
      "[########################################] | 100% Completed |  8.1s\n",
      "[########################################] | 100% Completed |  8.1s\n",
      "[########################################] | 100% Completed |  8.2s\n",
      "[########################################] | 100% Completed |  8.2s\n",
      "[########################################] | 100% Completed |  8.3s\n",
      "[########################################] | 100% Completed |  8.4s\n",
      "[########################################] | 100% Completed |  8.5s\n",
      "[########################################] | 100% Completed |  8.5s\n",
      "[########################################] | 100% Completed |  8.6s\n",
      "[########################################] | 100% Completed |  8.7s\n",
      "[########################################] | 100% Completed |  8.7s\n",
      "[########################################] | 100% Completed |  8.8s\n"
     ]
    },
    {
     "name": "stderr",
     "output_type": "stream",
     "text": [
      "[21:40:48 - __main__] Saving to file: /path/to/data/MinION_sequencing_data_20190809/guppy_3.2.2_exec_20190809/sw/fastq_runid_536cafc874cb995b6c8b47a5baabb9598eaded02_42_2.tsv\n",
      "[21:40:48 - __main__] Starting fastq (169 of 211)\n",
      "\t/path/to/data/MinION_sequencing_data_20190809/guppy_3.2.2_exec_20190809/pass/fastq_runid_536cafc874cb995b6c8b47a5baabb9598eaded02_43_0.fastq\n"
     ]
    },
    {
     "name": "stdout",
     "output_type": "stream",
     "text": [
      "[########################################] | 100% Completed | 54.9s\n",
      "[########################################] | 100% Completed | 54.9s\n",
      "[########################################] | 100% Completed | 54.9s\n",
      "[########################################] | 100% Completed | 55.0s\n",
      "[########################################] | 100% Completed | 55.0s\n",
      "[########################################] | 100% Completed | 55.1s\n",
      "[########################################] | 100% Completed | 55.1s\n",
      "[########################################] | 100% Completed | 55.1s\n",
      "[########################################] | 100% Completed | 55.2s\n",
      "[########################################] | 100% Completed | 55.2s\n",
      "[########################################] | 100% Completed | 55.3s\n",
      "[########################################] | 100% Completed | 55.4s\n",
      "[########################################] | 100% Completed | 55.5s\n",
      "[########################################] | 100% Completed | 55.5s\n"
     ]
    },
    {
     "name": "stderr",
     "output_type": "stream",
     "text": [
      "[21:41:44 - __main__] Saving to file: /path/to/data/MinION_sequencing_data_20190809/guppy_3.2.2_exec_20190809/sw/fastq_runid_536cafc874cb995b6c8b47a5baabb9598eaded02_43_0.tsv\n",
      "[21:41:44 - __main__] Starting fastq (170 of 211)\n",
      "\t/path/to/data/MinION_sequencing_data_20190809/guppy_3.2.2_exec_20190809/pass/fastq_runid_536cafc874cb995b6c8b47a5baabb9598eaded02_43_1.fastq\n"
     ]
    },
    {
     "name": "stdout",
     "output_type": "stream",
     "text": [
      "[########################################] | 100% Completed |  1min  7.4s\n",
      "[########################################] | 100% Completed |  1min  7.5s\n",
      "[########################################] | 100% Completed |  1min  7.5s\n",
      "[########################################] | 100% Completed |  1min  7.6s\n",
      "[########################################] | 100% Completed |  1min  7.7s\n",
      "[########################################] | 100% Completed |  1min  7.7s\n",
      "[########################################] | 100% Completed |  1min  7.8s\n",
      "[########################################] | 100% Completed |  1min  7.8s\n",
      "[########################################] | 100% Completed |  1min  7.9s\n",
      "[########################################] | 100% Completed |  1min  7.9s\n",
      "[########################################] | 100% Completed |  1min  7.9s\n",
      "[########################################] | 100% Completed |  1min  7.9s\n",
      "[########################################] | 100% Completed |  1min  8.0s\n",
      "[########################################] | 100% Completed |  1min  8.0s\n"
     ]
    },
    {
     "name": "stderr",
     "output_type": "stream",
     "text": [
      "[21:42:53 - __main__] Saving to file: /path/to/data/MinION_sequencing_data_20190809/guppy_3.2.2_exec_20190809/sw/fastq_runid_536cafc874cb995b6c8b47a5baabb9598eaded02_43_1.tsv\n",
      "[21:42:53 - __main__] Starting fastq (171 of 211)\n",
      "\t/path/to/data/MinION_sequencing_data_20190809/guppy_3.2.2_exec_20190809/pass/fastq_runid_536cafc874cb995b6c8b47a5baabb9598eaded02_42_3.fastq\n"
     ]
    },
    {
     "name": "stdout",
     "output_type": "stream",
     "text": [
      "[########################################] | 100% Completed |  1.0s\n",
      "[########################################] | 100% Completed |  1.0s\n",
      "[########################################] | 100% Completed |  1.0s\n",
      "[########################################] | 100% Completed |  1.1s\n",
      "[########################################] | 100% Completed |  1.1s\n",
      "[########################################] | 100% Completed |  1.2s\n",
      "[########################################] | 100% Completed |  1.3s\n",
      "[########################################] | 100% Completed |  1.4s\n",
      "[########################################] | 100% Completed |  1.4s\n",
      "[########################################] | 100% Completed |  1.5s\n",
      "[########################################] | 100% Completed |  1.5s\n",
      "[########################################] | 100% Completed |  1.6s\n",
      "[########################################] | 100% Completed |  1.7s\n",
      "[########################################] | 100% Completed |  1.7s\n"
     ]
    },
    {
     "name": "stderr",
     "output_type": "stream",
     "text": [
      "[21:42:56 - __main__] Saving to file: /path/to/data/MinION_sequencing_data_20190809/guppy_3.2.2_exec_20190809/sw/fastq_runid_536cafc874cb995b6c8b47a5baabb9598eaded02_42_3.tsv\n",
      "[21:42:56 - __main__] Starting fastq (172 of 211)\n",
      "\t/path/to/data/MinION_sequencing_data_20190809/guppy_3.2.2_exec_20190809/pass/fastq_runid_536cafc874cb995b6c8b47a5baabb9598eaded02_43_2.fastq\n"
     ]
    },
    {
     "name": "stdout",
     "output_type": "stream",
     "text": [
      "[########################################] | 100% Completed | 12.6s\n",
      "[########################################] | 100% Completed | 12.7s\n",
      "[########################################] | 100% Completed | 12.7s\n",
      "[########################################] | 100% Completed | 12.8s\n",
      "[########################################] | 100% Completed | 12.9s\n",
      "[########################################] | 100% Completed | 13.0s\n",
      "[########################################] | 100% Completed | 13.1s\n",
      "[########################################] | 100% Completed | 13.2s\n",
      "[########################################] | 100% Completed | 13.3s\n",
      "[########################################] | 100% Completed | 13.3s\n",
      "[########################################] | 100% Completed | 13.4s\n",
      "[########################################] | 100% Completed | 13.4s\n",
      "[########################################] | 100% Completed | 13.5s\n",
      "[########################################] | 100% Completed | 13.6s\n"
     ]
    },
    {
     "name": "stderr",
     "output_type": "stream",
     "text": [
      "[21:43:10 - __main__] Saving to file: /path/to/data/MinION_sequencing_data_20190809/guppy_3.2.2_exec_20190809/sw/fastq_runid_536cafc874cb995b6c8b47a5baabb9598eaded02_43_2.tsv\n",
      "[21:43:10 - __main__] Starting fastq (173 of 211)\n",
      "\t/path/to/data/MinION_sequencing_data_20190809/guppy_3.2.2_exec_20190809/pass/fastq_runid_536cafc874cb995b6c8b47a5baabb9598eaded02_43_3.fastq\n"
     ]
    },
    {
     "name": "stdout",
     "output_type": "stream",
     "text": [
      "[########################################] | 100% Completed |  1.9s\n",
      "[########################################] | 100% Completed |  2.0s\n",
      "[########################################] | 100% Completed |  2.0s\n",
      "[########################################] | 100% Completed |  2.1s\n",
      "[########################################] | 100% Completed |  2.2s\n",
      "[########################################] | 100% Completed |  2.2s\n",
      "[########################################] | 100% Completed |  2.2s\n",
      "[########################################] | 100% Completed |  2.3s\n",
      "[########################################] | 100% Completed |  2.3s\n",
      "[########################################] | 100% Completed |  2.3s\n",
      "[########################################] | 100% Completed |  2.4s\n",
      "[########################################] | 100% Completed |  2.4s\n",
      "[########################################] | 100% Completed |  2.5s\n",
      "[########################################] | 100% Completed |  2.6s\n"
     ]
    },
    {
     "name": "stderr",
     "output_type": "stream",
     "text": [
      "[21:43:14 - __main__] Saving to file: /path/to/data/MinION_sequencing_data_20190809/guppy_3.2.2_exec_20190809/sw/fastq_runid_536cafc874cb995b6c8b47a5baabb9598eaded02_43_3.tsv\n",
      "[21:43:14 - __main__] Starting fastq (174 of 211)\n",
      "\t/path/to/data/MinION_sequencing_data_20190809/guppy_3.2.2_exec_20190809/pass/fastq_runid_536cafc874cb995b6c8b47a5baabb9598eaded02_44_0.fastq\n"
     ]
    },
    {
     "name": "stdout",
     "output_type": "stream",
     "text": [
      "[########################################] | 100% Completed |  1.0s\n",
      "[########################################] | 100% Completed |  1.0s\n",
      "[########################################] | 100% Completed |  1.1s\n",
      "[########################################] | 100% Completed |  1.1s\n",
      "[########################################] | 100% Completed |  1.2s\n",
      "[########################################] | 100% Completed |  1.3s\n",
      "[########################################] | 100% Completed |  1.3s\n",
      "[########################################] | 100% Completed |  1.4s\n",
      "[########################################] | 100% Completed |  1.4s\n",
      "[########################################] | 100% Completed |  1.5s\n",
      "[########################################] | 100% Completed |  1.6s\n",
      "[########################################] | 100% Completed |  1.6s\n",
      "[########################################] | 100% Completed |  1.7s\n",
      "[########################################] | 100% Completed |  1.8s\n"
     ]
    },
    {
     "name": "stderr",
     "output_type": "stream",
     "text": [
      "[21:43:17 - __main__] Saving to file: /path/to/data/MinION_sequencing_data_20190809/guppy_3.2.2_exec_20190809/sw/fastq_runid_536cafc874cb995b6c8b47a5baabb9598eaded02_44_0.tsv\n",
      "[21:43:17 - __main__] Starting fastq (175 of 211)\n",
      "\t/path/to/data/MinION_sequencing_data_20190809/guppy_3.2.2_exec_20190809/pass/fastq_runid_536cafc874cb995b6c8b47a5baabb9598eaded02_45_0.fastq\n"
     ]
    },
    {
     "name": "stdout",
     "output_type": "stream",
     "text": [
      "[########################################] | 100% Completed | 58.5s\n",
      "[########################################] | 100% Completed | 58.5s\n",
      "[########################################] | 100% Completed | 58.6s\n",
      "[########################################] | 100% Completed | 58.6s\n",
      "[########################################] | 100% Completed | 58.7s\n",
      "[########################################] | 100% Completed | 58.8s\n",
      "[########################################] | 100% Completed | 58.8s\n",
      "[########################################] | 100% Completed | 58.8s\n",
      "[########################################] | 100% Completed | 58.9s\n",
      "[########################################] | 100% Completed | 58.9s\n",
      "[########################################] | 100% Completed | 58.9s\n",
      "[########################################] | 100% Completed | 59.0s\n",
      "[########################################] | 100% Completed | 59.0s\n",
      "[########################################] | 100% Completed | 59.1s\n"
     ]
    },
    {
     "name": "stderr",
     "output_type": "stream",
     "text": [
      "[21:44:17 - __main__] Saving to file: /path/to/data/MinION_sequencing_data_20190809/guppy_3.2.2_exec_20190809/sw/fastq_runid_536cafc874cb995b6c8b47a5baabb9598eaded02_45_0.tsv\n",
      "[21:44:17 - __main__] Starting fastq (176 of 211)\n",
      "\t/path/to/data/MinION_sequencing_data_20190809/guppy_3.2.2_exec_20190809/pass/fastq_runid_536cafc874cb995b6c8b47a5baabb9598eaded02_45_1.fastq\n"
     ]
    },
    {
     "name": "stdout",
     "output_type": "stream",
     "text": [
      "[########################################] | 100% Completed | 55.3s\n",
      "[########################################] | 100% Completed | 55.4s\n",
      "[########################################] | 100% Completed | 55.4s\n",
      "[########################################] | 100% Completed | 55.5s\n",
      "[########################################] | 100% Completed | 55.5s\n",
      "[########################################] | 100% Completed | 55.6s\n",
      "[########################################] | 100% Completed | 55.6s\n",
      "[########################################] | 100% Completed | 55.7s\n",
      "[########################################] | 100% Completed | 55.8s\n",
      "[########################################] | 100% Completed | 55.8s\n",
      "[########################################] | 100% Completed | 55.8s\n",
      "[########################################] | 100% Completed | 55.9s\n",
      "[########################################] | 100% Completed | 56.0s\n",
      "[########################################] | 100% Completed | 56.1s\n"
     ]
    },
    {
     "name": "stderr",
     "output_type": "stream",
     "text": [
      "[21:45:14 - __main__] Saving to file: /path/to/data/MinION_sequencing_data_20190809/guppy_3.2.2_exec_20190809/sw/fastq_runid_536cafc874cb995b6c8b47a5baabb9598eaded02_45_1.tsv\n",
      "[21:45:14 - __main__] Starting fastq (177 of 211)\n",
      "\t/path/to/data/MinION_sequencing_data_20190809/guppy_3.2.2_exec_20190809/pass/fastq_runid_536cafc874cb995b6c8b47a5baabb9598eaded02_45_2.fastq\n"
     ]
    },
    {
     "name": "stdout",
     "output_type": "stream",
     "text": [
      "[########################################] | 100% Completed | 14.2s\n",
      "[########################################] | 100% Completed | 14.3s\n",
      "[########################################] | 100% Completed | 14.3s\n",
      "[########################################] | 100% Completed | 14.4s\n",
      "[########################################] | 100% Completed | 14.5s\n",
      "[########################################] | 100% Completed | 14.5s\n",
      "[########################################] | 100% Completed | 14.5s\n",
      "[########################################] | 100% Completed | 14.6s\n",
      "[########################################] | 100% Completed | 14.7s\n",
      "[########################################] | 100% Completed | 14.7s\n",
      "[########################################] | 100% Completed | 14.8s\n",
      "[########################################] | 100% Completed | 14.9s\n",
      "[########################################] | 100% Completed | 15.0s\n",
      "[########################################] | 100% Completed | 15.0s\n"
     ]
    },
    {
     "name": "stderr",
     "output_type": "stream",
     "text": [
      "[21:45:30 - __main__] Saving to file: /path/to/data/MinION_sequencing_data_20190809/guppy_3.2.2_exec_20190809/sw/fastq_runid_536cafc874cb995b6c8b47a5baabb9598eaded02_45_2.tsv\n",
      "[21:45:30 - __main__] Starting fastq (178 of 211)\n",
      "\t/path/to/data/MinION_sequencing_data_20190809/guppy_3.2.2_exec_20190809/pass/fastq_runid_536cafc874cb995b6c8b47a5baabb9598eaded02_46_0.fastq\n"
     ]
    },
    {
     "name": "stdout",
     "output_type": "stream",
     "text": [
      "[########################################] | 100% Completed |  6.5s\n",
      "[########################################] | 100% Completed |  6.5s\n",
      "[########################################] | 100% Completed |  6.5s\n",
      "[########################################] | 100% Completed |  6.6s\n",
      "[########################################] | 100% Completed |  6.7s\n",
      "[########################################] | 100% Completed |  6.7s\n",
      "[########################################] | 100% Completed |  6.8s\n",
      "[########################################] | 100% Completed |  6.8s\n",
      "[########################################] | 100% Completed |  6.8s\n",
      "[########################################] | 100% Completed |  6.9s\n",
      "[########################################] | 100% Completed |  6.9s\n",
      "[########################################] | 100% Completed |  7.0s\n",
      "[########################################] | 100% Completed |  7.0s\n",
      "[########################################] | 100% Completed |  7.0s\n"
     ]
    },
    {
     "name": "stderr",
     "output_type": "stream",
     "text": [
      "[21:45:38 - __main__] Saving to file: /path/to/data/MinION_sequencing_data_20190809/guppy_3.2.2_exec_20190809/sw/fastq_runid_536cafc874cb995b6c8b47a5baabb9598eaded02_46_0.tsv\n",
      "[21:45:38 - __main__] Starting fastq (179 of 211)\n",
      "\t/path/to/data/MinION_sequencing_data_20190809/guppy_3.2.2_exec_20190809/pass/fastq_runid_536cafc874cb995b6c8b47a5baabb9598eaded02_46_1.fastq\n"
     ]
    },
    {
     "name": "stdout",
     "output_type": "stream",
     "text": [
      "[########################################] | 100% Completed |  1min 36.0s\n",
      "[########################################] | 100% Completed |  1min 36.1s\n",
      "[########################################] | 100% Completed |  1min 36.2s\n",
      "[########################################] | 100% Completed |  1min 36.2s\n",
      "[########################################] | 100% Completed |  1min 36.3s\n",
      "[########################################] | 100% Completed |  1min 36.4s\n",
      "[########################################] | 100% Completed |  1min 36.4s\n",
      "[########################################] | 100% Completed |  1min 36.4s\n",
      "[########################################] | 100% Completed |  1min 36.5s\n",
      "[########################################] | 100% Completed |  1min 36.5s\n",
      "[########################################] | 100% Completed |  1min 36.6s\n",
      "[########################################] | 100% Completed |  1min 36.7s\n",
      "[########################################] | 100% Completed |  1min 36.7s\n",
      "[########################################] | 100% Completed |  1min 36.8s\n"
     ]
    },
    {
     "name": "stderr",
     "output_type": "stream",
     "text": [
      "[21:47:16 - __main__] Saving to file: /path/to/data/MinION_sequencing_data_20190809/guppy_3.2.2_exec_20190809/sw/fastq_runid_536cafc874cb995b6c8b47a5baabb9598eaded02_46_1.tsv\n",
      "[21:47:16 - __main__] Starting fastq (180 of 211)\n",
      "\t/path/to/data/MinION_sequencing_data_20190809/guppy_3.2.2_exec_20190809/pass/fastq_runid_536cafc874cb995b6c8b47a5baabb9598eaded02_47_0.fastq\n"
     ]
    },
    {
     "name": "stdout",
     "output_type": "stream",
     "text": [
      "[########################################] | 100% Completed |  1min  1.3s\n",
      "[########################################] | 100% Completed |  1min  1.4s\n",
      "[########################################] | 100% Completed |  1min  1.5s\n",
      "[########################################] | 100% Completed |  1min  1.5s\n",
      "[########################################] | 100% Completed |  1min  1.6s\n",
      "[########################################] | 100% Completed |  1min  1.6s\n",
      "[########################################] | 100% Completed |  1min  1.6s\n",
      "[########################################] | 100% Completed |  1min  1.7s\n",
      "[########################################] | 100% Completed |  1min  1.7s\n",
      "[########################################] | 100% Completed |  1min  1.7s\n",
      "[########################################] | 100% Completed |  1min  1.8s\n",
      "[########################################] | 100% Completed |  1min  1.9s\n",
      "[########################################] | 100% Completed |  1min  2.0s\n",
      "[########################################] | 100% Completed |  1min  2.1s\n"
     ]
    },
    {
     "name": "stderr",
     "output_type": "stream",
     "text": [
      "[21:48:19 - __main__] Saving to file: /path/to/data/MinION_sequencing_data_20190809/guppy_3.2.2_exec_20190809/sw/fastq_runid_536cafc874cb995b6c8b47a5baabb9598eaded02_47_0.tsv\n",
      "[21:48:19 - __main__] Starting fastq (181 of 211)\n",
      "\t/path/to/data/MinION_sequencing_data_20190809/guppy_3.2.2_exec_20190809/pass/fastq_runid_536cafc874cb995b6c8b47a5baabb9598eaded02_46_2.fastq\n"
     ]
    },
    {
     "name": "stdout",
     "output_type": "stream",
     "text": [
      "[########################################] | 100% Completed | 39.5s\n",
      "[########################################] | 100% Completed | 39.6s\n",
      "[########################################] | 100% Completed | 39.6s\n",
      "[########################################] | 100% Completed | 39.6s\n",
      "[########################################] | 100% Completed | 39.6s\n",
      "[########################################] | 100% Completed | 39.7s\n",
      "[########################################] | 100% Completed | 39.8s\n",
      "[########################################] | 100% Completed | 39.8s\n",
      "[########################################] | 100% Completed | 39.9s\n",
      "[########################################] | 100% Completed | 40.0s\n",
      "[########################################] | 100% Completed | 40.0s\n",
      "[########################################] | 100% Completed | 40.1s\n",
      "[########################################] | 100% Completed | 40.1s\n",
      "[########################################] | 100% Completed | 40.2s\n"
     ]
    },
    {
     "name": "stderr",
     "output_type": "stream",
     "text": [
      "[21:49:00 - __main__] Saving to file: /path/to/data/MinION_sequencing_data_20190809/guppy_3.2.2_exec_20190809/sw/fastq_runid_536cafc874cb995b6c8b47a5baabb9598eaded02_46_2.tsv\n",
      "[21:49:00 - __main__] Starting fastq (182 of 211)\n",
      "\t/path/to/data/MinION_sequencing_data_20190809/guppy_3.2.2_exec_20190809/pass/fastq_runid_536cafc874cb995b6c8b47a5baabb9598eaded02_47_1.fastq\n"
     ]
    },
    {
     "name": "stdout",
     "output_type": "stream",
     "text": [
      "[########################################] | 100% Completed | 40.0s\n",
      "[########################################] | 100% Completed | 40.1s\n",
      "[########################################] | 100% Completed | 40.1s\n",
      "[########################################] | 100% Completed | 40.1s\n",
      "[########################################] | 100% Completed | 40.2s\n",
      "[########################################] | 100% Completed | 40.3s\n",
      "[########################################] | 100% Completed | 40.3s\n",
      "[########################################] | 100% Completed | 40.4s\n",
      "[########################################] | 100% Completed | 40.5s\n",
      "[########################################] | 100% Completed | 40.6s\n",
      "[########################################] | 100% Completed | 40.6s\n",
      "[########################################] | 100% Completed | 40.7s\n",
      "[########################################] | 100% Completed | 40.8s\n",
      "[########################################] | 100% Completed | 40.8s\n"
     ]
    },
    {
     "name": "stderr",
     "output_type": "stream",
     "text": [
      "[21:49:42 - __main__] Saving to file: /path/to/data/MinION_sequencing_data_20190809/guppy_3.2.2_exec_20190809/sw/fastq_runid_536cafc874cb995b6c8b47a5baabb9598eaded02_47_1.tsv\n",
      "[21:49:42 - __main__] Starting fastq (183 of 211)\n",
      "\t/path/to/data/MinION_sequencing_data_20190809/guppy_3.2.2_exec_20190809/pass/fastq_runid_536cafc874cb995b6c8b47a5baabb9598eaded02_45_3.fastq\n"
     ]
    },
    {
     "name": "stdout",
     "output_type": "stream",
     "text": [
      "[########################################] | 100% Completed | 19.2s\n",
      "[########################################] | 100% Completed | 19.3s\n",
      "[########################################] | 100% Completed | 19.3s\n",
      "[########################################] | 100% Completed | 19.3s\n",
      "[########################################] | 100% Completed | 19.4s\n",
      "[########################################] | 100% Completed | 19.5s\n",
      "[########################################] | 100% Completed | 19.5s\n",
      "[########################################] | 100% Completed | 19.6s\n",
      "[########################################] | 100% Completed | 19.7s\n",
      "[########################################] | 100% Completed | 19.8s\n",
      "[########################################] | 100% Completed | 19.9s\n",
      "[########################################] | 100% Completed | 19.9s\n",
      "[########################################] | 100% Completed | 20.0s\n",
      "[########################################] | 100% Completed | 20.1s\n"
     ]
    },
    {
     "name": "stderr",
     "output_type": "stream",
     "text": [
      "[21:50:03 - __main__] Saving to file: /path/to/data/MinION_sequencing_data_20190809/guppy_3.2.2_exec_20190809/sw/fastq_runid_536cafc874cb995b6c8b47a5baabb9598eaded02_45_3.tsv\n",
      "[21:50:03 - __main__] Starting fastq (184 of 211)\n",
      "\t/path/to/data/MinION_sequencing_data_20190809/guppy_3.2.2_exec_20190809/pass/fastq_runid_536cafc874cb995b6c8b47a5baabb9598eaded02_46_3.fastq\n"
     ]
    },
    {
     "name": "stdout",
     "output_type": "stream",
     "text": [
      "[########################################] | 100% Completed |  4.9s\n",
      "[########################################] | 100% Completed |  4.9s\n",
      "[########################################] | 100% Completed |  5.0s\n",
      "[########################################] | 100% Completed |  5.1s\n",
      "[########################################] | 100% Completed |  5.1s\n",
      "[########################################] | 100% Completed |  5.2s\n",
      "[########################################] | 100% Completed |  5.2s\n",
      "[########################################] | 100% Completed |  5.2s\n",
      "[########################################] | 100% Completed |  5.2s\n",
      "[########################################] | 100% Completed |  5.3s\n",
      "[########################################] | 100% Completed |  5.4s\n",
      "[########################################] | 100% Completed |  5.5s\n",
      "[########################################] | 100% Completed |  5.6s\n",
      "[########################################] | 100% Completed |  5.6s\n"
     ]
    },
    {
     "name": "stderr",
     "output_type": "stream",
     "text": [
      "[21:50:10 - __main__] Saving to file: /path/to/data/MinION_sequencing_data_20190809/guppy_3.2.2_exec_20190809/sw/fastq_runid_536cafc874cb995b6c8b47a5baabb9598eaded02_46_3.tsv\n",
      "[21:50:10 - __main__] Starting fastq (185 of 211)\n",
      "\t/path/to/data/MinION_sequencing_data_20190809/guppy_3.2.2_exec_20190809/pass/fastq_runid_536cafc874cb995b6c8b47a5baabb9598eaded02_47_2.fastq\n"
     ]
    },
    {
     "name": "stdout",
     "output_type": "stream",
     "text": [
      "[########################################] | 100% Completed | 44.5s\n",
      "[########################################] | 100% Completed | 44.6s\n",
      "[########################################] | 100% Completed | 44.7s\n",
      "[########################################] | 100% Completed | 44.8s\n",
      "[########################################] | 100% Completed | 44.8s\n",
      "[########################################] | 100% Completed | 44.9s\n",
      "[########################################] | 100% Completed | 45.0s\n",
      "[########################################] | 100% Completed | 45.1s\n",
      "[########################################] | 100% Completed | 45.2s\n",
      "[########################################] | 100% Completed | 45.2s\n",
      "[########################################] | 100% Completed | 45.3s\n",
      "[########################################] | 100% Completed | 45.3s\n",
      "[########################################] | 100% Completed | 45.3s\n",
      "[########################################] | 100% Completed | 45.3s\n"
     ]
    },
    {
     "name": "stderr",
     "output_type": "stream",
     "text": [
      "[21:50:56 - __main__] Saving to file: /path/to/data/MinION_sequencing_data_20190809/guppy_3.2.2_exec_20190809/sw/fastq_runid_536cafc874cb995b6c8b47a5baabb9598eaded02_47_2.tsv\n",
      "[21:50:56 - __main__] Starting fastq (186 of 211)\n",
      "\t/path/to/data/MinION_sequencing_data_20190809/guppy_3.2.2_exec_20190809/pass/fastq_runid_536cafc874cb995b6c8b47a5baabb9598eaded02_48_0.fastq\n"
     ]
    },
    {
     "name": "stdout",
     "output_type": "stream",
     "text": [
      "[########################################] | 100% Completed |  2min 10.5s\n",
      "[########################################] | 100% Completed |  2min 10.6s\n",
      "[########################################] | 100% Completed |  2min 10.7s\n",
      "[########################################] | 100% Completed |  2min 10.8s\n",
      "[########################################] | 100% Completed |  2min 10.8s\n",
      "[########################################] | 100% Completed |  2min 10.9s\n",
      "[########################################] | 100% Completed |  2min 11.0s\n",
      "[########################################] | 100% Completed |  2min 11.0s\n",
      "[########################################] | 100% Completed |  2min 11.1s\n",
      "[########################################] | 100% Completed |  2min 11.2s\n",
      "[########################################] | 100% Completed |  2min 11.2s\n",
      "[########################################] | 100% Completed |  2min 11.2s\n",
      "[########################################] | 100% Completed |  2min 11.3s\n",
      "[########################################] | 100% Completed |  2min 11.4s\n"
     ]
    },
    {
     "name": "stderr",
     "output_type": "stream",
     "text": [
      "[21:53:08 - __main__] Saving to file: /path/to/data/MinION_sequencing_data_20190809/guppy_3.2.2_exec_20190809/sw/fastq_runid_536cafc874cb995b6c8b47a5baabb9598eaded02_48_0.tsv\n",
      "[21:53:09 - __main__] Starting fastq (187 of 211)\n",
      "\t/path/to/data/MinION_sequencing_data_20190809/guppy_3.2.2_exec_20190809/pass/fastq_runid_536cafc874cb995b6c8b47a5baabb9598eaded02_47_3.fastq\n"
     ]
    },
    {
     "name": "stdout",
     "output_type": "stream",
     "text": [
      "[########################################] | 100% Completed |  1.8s\n",
      "[########################################] | 100% Completed |  1.8s\n",
      "[########################################] | 100% Completed |  1.8s\n",
      "[########################################] | 100% Completed |  1.9s\n",
      "[########################################] | 100% Completed |  1.9s\n",
      "[########################################] | 100% Completed |  1.9s\n",
      "[########################################] | 100% Completed |  2.0s\n",
      "[########################################] | 100% Completed |  2.0s\n",
      "[########################################] | 100% Completed |  2.0s\n",
      "[########################################] | 100% Completed |  2.1s\n",
      "[########################################] | 100% Completed |  2.2s\n",
      "[########################################] | 100% Completed |  2.2s\n",
      "[########################################] | 100% Completed |  2.3s\n",
      "[########################################] | 100% Completed |  2.3s\n"
     ]
    },
    {
     "name": "stderr",
     "output_type": "stream",
     "text": [
      "[21:53:12 - __main__] Saving to file: /path/to/data/MinION_sequencing_data_20190809/guppy_3.2.2_exec_20190809/sw/fastq_runid_536cafc874cb995b6c8b47a5baabb9598eaded02_47_3.tsv\n",
      "[21:53:12 - __main__] Starting fastq (188 of 211)\n",
      "\t/path/to/data/MinION_sequencing_data_20190809/guppy_3.2.2_exec_20190809/pass/fastq_runid_536cafc874cb995b6c8b47a5baabb9598eaded02_48_1.fastq\n"
     ]
    },
    {
     "name": "stdout",
     "output_type": "stream",
     "text": [
      "[########################################] | 100% Completed |  7.2s\n",
      "[########################################] | 100% Completed |  7.3s\n",
      "[########################################] | 100% Completed |  7.3s\n",
      "[########################################] | 100% Completed |  7.3s\n",
      "[########################################] | 100% Completed |  7.4s\n",
      "[########################################] | 100% Completed |  7.4s\n",
      "[########################################] | 100% Completed |  7.5s\n",
      "[########################################] | 100% Completed |  7.6s\n",
      "[########################################] | 100% Completed |  7.6s\n",
      "[########################################] | 100% Completed |  7.6s\n",
      "[########################################] | 100% Completed |  7.7s\n",
      "[########################################] | 100% Completed |  7.7s\n",
      "[########################################] | 100% Completed |  7.8s\n",
      "[########################################] | 100% Completed |  7.9s\n"
     ]
    },
    {
     "name": "stderr",
     "output_type": "stream",
     "text": [
      "[21:53:21 - __main__] Saving to file: /path/to/data/MinION_sequencing_data_20190809/guppy_3.2.2_exec_20190809/sw/fastq_runid_536cafc874cb995b6c8b47a5baabb9598eaded02_48_1.tsv\n",
      "[21:53:21 - __main__] Starting fastq (189 of 211)\n",
      "\t/path/to/data/MinION_sequencing_data_20190809/guppy_3.2.2_exec_20190809/pass/fastq_runid_536cafc874cb995b6c8b47a5baabb9598eaded02_48_2.fastq\n"
     ]
    },
    {
     "name": "stdout",
     "output_type": "stream",
     "text": [
      "[########################################] | 100% Completed |  4.3s\n",
      "[########################################] | 100% Completed |  4.4s\n",
      "[########################################] | 100% Completed |  4.4s\n",
      "[########################################] | 100% Completed |  4.4s\n",
      "[########################################] | 100% Completed |  4.5s\n",
      "[########################################] | 100% Completed |  4.5s\n",
      "[########################################] | 100% Completed |  4.6s\n",
      "[########################################] | 100% Completed |  4.7s\n",
      "[########################################] | 100% Completed |  4.7s\n",
      "[########################################] | 100% Completed |  4.7s\n",
      "[########################################] | 100% Completed |  4.8s\n",
      "[########################################] | 100% Completed |  4.8s\n",
      "[########################################] | 100% Completed |  4.9s\n",
      "[########################################] | 100% Completed |  5.0s\n"
     ]
    },
    {
     "name": "stderr",
     "output_type": "stream",
     "text": [
      "[21:53:27 - __main__] Saving to file: /path/to/data/MinION_sequencing_data_20190809/guppy_3.2.2_exec_20190809/sw/fastq_runid_536cafc874cb995b6c8b47a5baabb9598eaded02_48_2.tsv\n",
      "[21:53:27 - __main__] Starting fastq (190 of 211)\n",
      "\t/path/to/data/MinION_sequencing_data_20190809/guppy_3.2.2_exec_20190809/pass/fastq_runid_536cafc874cb995b6c8b47a5baabb9598eaded02_49_0.fastq\n"
     ]
    },
    {
     "name": "stdout",
     "output_type": "stream",
     "text": [
      "[########################################] | 100% Completed |  1min  1.3s\n",
      "[########################################] | 100% Completed |  1min  1.3s\n",
      "[########################################] | 100% Completed |  1min  1.4s\n",
      "[########################################] | 100% Completed |  1min  1.5s\n",
      "[########################################] | 100% Completed |  1min  1.5s\n",
      "[########################################] | 100% Completed |  1min  1.5s\n",
      "[########################################] | 100% Completed |  1min  1.6s\n",
      "[########################################] | 100% Completed |  1min  1.6s\n",
      "[########################################] | 100% Completed |  1min  1.7s\n",
      "[########################################] | 100% Completed |  1min  1.8s\n",
      "[########################################] | 100% Completed |  1min  1.9s\n",
      "[########################################] | 100% Completed |  1min  1.9s\n",
      "[########################################] | 100% Completed |  1min  2.0s\n",
      "[########################################] | 100% Completed |  1min  2.1s\n"
     ]
    },
    {
     "name": "stderr",
     "output_type": "stream",
     "text": [
      "[21:54:30 - __main__] Saving to file: /path/to/data/MinION_sequencing_data_20190809/guppy_3.2.2_exec_20190809/sw/fastq_runid_536cafc874cb995b6c8b47a5baabb9598eaded02_49_0.tsv\n",
      "[21:54:30 - __main__] Starting fastq (191 of 211)\n",
      "\t/path/to/data/MinION_sequencing_data_20190809/guppy_3.2.2_exec_20190809/pass/fastq_runid_536cafc874cb995b6c8b47a5baabb9598eaded02_48_3.fastq\n"
     ]
    },
    {
     "name": "stdout",
     "output_type": "stream",
     "text": [
      "[########################################] | 100% Completed |  7.1s\n",
      "[########################################] | 100% Completed |  7.1s\n",
      "[########################################] | 100% Completed |  7.1s\n",
      "[########################################] | 100% Completed |  7.2s\n",
      "[########################################] | 100% Completed |  7.2s\n",
      "[########################################] | 100% Completed |  7.2s\n",
      "[########################################] | 100% Completed |  7.3s\n",
      "[########################################] | 100% Completed |  7.4s\n",
      "[########################################] | 100% Completed |  7.4s\n",
      "[########################################] | 100% Completed |  7.4s\n",
      "[########################################] | 100% Completed |  7.5s\n",
      "[########################################] | 100% Completed |  7.6s\n",
      "[########################################] | 100% Completed |  7.7s\n",
      "[########################################] | 100% Completed |  7.7s\n"
     ]
    },
    {
     "name": "stderr",
     "output_type": "stream",
     "text": [
      "[21:54:39 - __main__] Saving to file: /path/to/data/MinION_sequencing_data_20190809/guppy_3.2.2_exec_20190809/sw/fastq_runid_536cafc874cb995b6c8b47a5baabb9598eaded02_48_3.tsv\n",
      "[21:54:39 - __main__] Starting fastq (192 of 211)\n",
      "\t/path/to/data/MinION_sequencing_data_20190809/guppy_3.2.2_exec_20190809/pass/fastq_runid_536cafc874cb995b6c8b47a5baabb9598eaded02_49_1.fastq\n"
     ]
    },
    {
     "name": "stdout",
     "output_type": "stream",
     "text": [
      "[########################################] | 100% Completed | 17.0s\n",
      "[########################################] | 100% Completed | 17.1s\n",
      "[########################################] | 100% Completed | 17.2s\n",
      "[########################################] | 100% Completed | 17.3s\n",
      "[########################################] | 100% Completed | 17.3s\n",
      "[########################################] | 100% Completed | 17.4s\n",
      "[########################################] | 100% Completed | 17.5s\n",
      "[########################################] | 100% Completed | 17.6s\n",
      "[########################################] | 100% Completed | 17.6s\n",
      "[########################################] | 100% Completed | 17.7s\n",
      "[########################################] | 100% Completed | 17.8s\n",
      "[########################################] | 100% Completed | 17.9s\n",
      "[########################################] | 100% Completed | 17.9s\n",
      "[########################################] | 100% Completed | 18.0s\n"
     ]
    },
    {
     "name": "stderr",
     "output_type": "stream",
     "text": [
      "[21:54:58 - __main__] Saving to file: /path/to/data/MinION_sequencing_data_20190809/guppy_3.2.2_exec_20190809/sw/fastq_runid_536cafc874cb995b6c8b47a5baabb9598eaded02_49_1.tsv\n",
      "[21:54:58 - __main__] Starting fastq (193 of 211)\n",
      "\t/path/to/data/MinION_sequencing_data_20190809/guppy_3.2.2_exec_20190809/pass/fastq_runid_536cafc874cb995b6c8b47a5baabb9598eaded02_49_2.fastq\n"
     ]
    },
    {
     "name": "stdout",
     "output_type": "stream",
     "text": [
      "[########################################] | 100% Completed |  1min  9.1s\n",
      "[########################################] | 100% Completed |  1min  9.2s\n",
      "[########################################] | 100% Completed |  1min  9.2s\n",
      "[########################################] | 100% Completed |  1min  9.2s\n",
      "[########################################] | 100% Completed |  1min  9.3s\n",
      "[########################################] | 100% Completed |  1min  9.3s\n",
      "[########################################] | 100% Completed |  1min  9.3s\n",
      "[########################################] | 100% Completed |  1min  9.4s\n",
      "[########################################] | 100% Completed |  1min  9.5s\n",
      "[########################################] | 100% Completed |  1min  9.5s\n",
      "[########################################] | 100% Completed |  1min  9.6s\n",
      "[########################################] | 100% Completed |  1min  9.6s\n",
      "[########################################] | 100% Completed |  1min  9.7s\n",
      "[########################################] | 100% Completed |  1min  9.8s\n"
     ]
    },
    {
     "name": "stderr",
     "output_type": "stream",
     "text": [
      "[21:56:08 - __main__] Saving to file: /path/to/data/MinION_sequencing_data_20190809/guppy_3.2.2_exec_20190809/sw/fastq_runid_536cafc874cb995b6c8b47a5baabb9598eaded02_49_2.tsv\n",
      "[21:56:09 - __main__] Starting fastq (194 of 211)\n",
      "\t/path/to/data/MinION_sequencing_data_20190809/guppy_3.2.2_exec_20190809/pass/fastq_runid_536cafc874cb995b6c8b47a5baabb9598eaded02_50_0.fastq\n"
     ]
    },
    {
     "name": "stdout",
     "output_type": "stream",
     "text": [
      "[########################################] | 100% Completed |  2min 15.3s\n",
      "[########################################] | 100% Completed |  2min 15.4s\n",
      "[########################################] | 100% Completed |  2min 15.5s\n",
      "[########################################] | 100% Completed |  2min 15.6s\n",
      "[########################################] | 100% Completed |  2min 15.7s\n",
      "[########################################] | 100% Completed |  2min 15.7s\n",
      "[########################################] | 100% Completed |  2min 15.8s\n",
      "[########################################] | 100% Completed |  2min 15.8s\n",
      "[########################################] | 100% Completed |  2min 15.9s\n",
      "[########################################] | 100% Completed |  2min 16.0s\n",
      "[########################################] | 100% Completed |  2min 16.1s\n",
      "[########################################] | 100% Completed |  2min 16.2s\n",
      "[########################################] | 100% Completed |  2min 16.3s\n",
      "[########################################] | 100% Completed |  2min 16.3s\n"
     ]
    },
    {
     "name": "stderr",
     "output_type": "stream",
     "text": [
      "[21:58:26 - __main__] Saving to file: /path/to/data/MinION_sequencing_data_20190809/guppy_3.2.2_exec_20190809/sw/fastq_runid_536cafc874cb995b6c8b47a5baabb9598eaded02_50_0.tsv\n",
      "[21:58:26 - __main__] Starting fastq (195 of 211)\n",
      "\t/path/to/data/MinION_sequencing_data_20190809/guppy_3.2.2_exec_20190809/pass/fastq_runid_536cafc874cb995b6c8b47a5baabb9598eaded02_50_1.fastq\n"
     ]
    },
    {
     "name": "stdout",
     "output_type": "stream",
     "text": [
      "[########################################] | 100% Completed |  7.7s\n",
      "[########################################] | 100% Completed |  7.7s\n",
      "[########################################] | 100% Completed |  7.8s\n",
      "[########################################] | 100% Completed |  7.8s\n",
      "[########################################] | 100% Completed |  7.9s\n",
      "[########################################] | 100% Completed |  7.9s\n",
      "[########################################] | 100% Completed |  8.0s\n",
      "[########################################] | 100% Completed |  8.1s\n",
      "[########################################] | 100% Completed |  8.2s\n",
      "[########################################] | 100% Completed |  8.3s\n",
      "[########################################] | 100% Completed |  8.3s\n",
      "[########################################] | 100% Completed |  8.4s\n",
      "[########################################] | 100% Completed |  8.5s\n",
      "[########################################] | 100% Completed |  8.6s\n"
     ]
    },
    {
     "name": "stderr",
     "output_type": "stream",
     "text": [
      "[21:58:36 - __main__] Saving to file: /path/to/data/MinION_sequencing_data_20190809/guppy_3.2.2_exec_20190809/sw/fastq_runid_536cafc874cb995b6c8b47a5baabb9598eaded02_50_1.tsv\n",
      "[21:58:36 - __main__] Starting fastq (196 of 211)\n",
      "\t/path/to/data/MinION_sequencing_data_20190809/guppy_3.2.2_exec_20190809/pass/fastq_runid_536cafc874cb995b6c8b47a5baabb9598eaded02_51_0.fastq\n"
     ]
    },
    {
     "name": "stdout",
     "output_type": "stream",
     "text": [
      "[########################################] | 100% Completed | 41.5s\n",
      "[########################################] | 100% Completed | 41.5s\n",
      "[########################################] | 100% Completed | 41.6s\n",
      "[########################################] | 100% Completed | 41.6s\n",
      "[########################################] | 100% Completed | 41.7s\n",
      "[########################################] | 100% Completed | 41.7s\n",
      "[########################################] | 100% Completed | 41.8s\n",
      "[########################################] | 100% Completed | 41.9s\n",
      "[########################################] | 100% Completed | 41.9s\n",
      "[########################################] | 100% Completed | 41.9s\n",
      "[########################################] | 100% Completed | 42.0s\n",
      "[########################################] | 100% Completed | 42.1s\n",
      "[########################################] | 100% Completed | 42.1s\n",
      "[########################################] | 100% Completed | 42.1s\n"
     ]
    },
    {
     "name": "stderr",
     "output_type": "stream",
     "text": [
      "[21:59:19 - __main__] Saving to file: /path/to/data/MinION_sequencing_data_20190809/guppy_3.2.2_exec_20190809/sw/fastq_runid_536cafc874cb995b6c8b47a5baabb9598eaded02_51_0.tsv\n",
      "[21:59:19 - __main__] Starting fastq (197 of 211)\n",
      "\t/path/to/data/MinION_sequencing_data_20190809/guppy_3.2.2_exec_20190809/pass/fastq_runid_536cafc874cb995b6c8b47a5baabb9598eaded02_50_2.fastq\n"
     ]
    },
    {
     "name": "stdout",
     "output_type": "stream",
     "text": [
      "[########################################] | 100% Completed |  1.0s\n",
      "[########################################] | 100% Completed |  1.0s\n",
      "[########################################] | 100% Completed |  1.1s\n",
      "[########################################] | 100% Completed |  1.1s\n",
      "[########################################] | 100% Completed |  1.2s\n",
      "[########################################] | 100% Completed |  1.2s\n",
      "[########################################] | 100% Completed |  1.2s\n",
      "[########################################] | 100% Completed |  1.3s\n",
      "[########################################] | 100% Completed |  1.3s\n",
      "[########################################] | 100% Completed |  1.4s\n",
      "[########################################] | 100% Completed |  1.5s\n",
      "[########################################] | 100% Completed |  1.6s\n",
      "[########################################] | 100% Completed |  1.6s\n",
      "[########################################] | 100% Completed |  1.7s\n"
     ]
    },
    {
     "name": "stderr",
     "output_type": "stream",
     "text": [
      "[21:59:21 - __main__] Saving to file: /path/to/data/MinION_sequencing_data_20190809/guppy_3.2.2_exec_20190809/sw/fastq_runid_536cafc874cb995b6c8b47a5baabb9598eaded02_50_2.tsv\n",
      "[21:59:21 - __main__] Starting fastq (198 of 211)\n",
      "\t/path/to/data/MinION_sequencing_data_20190809/guppy_3.2.2_exec_20190809/pass/fastq_runid_536cafc874cb995b6c8b47a5baabb9598eaded02_51_1.fastq\n"
     ]
    },
    {
     "name": "stdout",
     "output_type": "stream",
     "text": [
      "[########################################] | 100% Completed |  1min  1.9s\n",
      "[########################################] | 100% Completed |  1min  1.9s\n",
      "[########################################] | 100% Completed |  1min  2.0s\n",
      "[########################################] | 100% Completed |  1min  2.1s\n",
      "[########################################] | 100% Completed |  1min  2.1s\n",
      "[########################################] | 100% Completed |  1min  2.3s\n",
      "[########################################] | 100% Completed |  1min  2.4s\n",
      "[########################################] | 100% Completed |  1min  2.4s\n",
      "[########################################] | 100% Completed |  1min  2.5s\n",
      "[########################################] | 100% Completed |  1min  2.5s\n",
      "[########################################] | 100% Completed |  1min  2.6s\n",
      "[########################################] | 100% Completed |  1min  2.6s\n",
      "[########################################] | 100% Completed |  1min  2.7s\n",
      "[########################################] | 100% Completed |  1min  2.7s\n"
     ]
    },
    {
     "name": "stderr",
     "output_type": "stream",
     "text": [
      "[22:00:25 - __main__] Saving to file: /path/to/data/MinION_sequencing_data_20190809/guppy_3.2.2_exec_20190809/sw/fastq_runid_536cafc874cb995b6c8b47a5baabb9598eaded02_51_1.tsv\n",
      "[22:00:25 - __main__] Starting fastq (199 of 211)\n",
      "\t/path/to/data/MinION_sequencing_data_20190809/guppy_3.2.2_exec_20190809/pass/fastq_runid_536cafc874cb995b6c8b47a5baabb9598eaded02_49_3.fastq\n"
     ]
    },
    {
     "name": "stdout",
     "output_type": "stream",
     "text": [
      "[########################################] | 100% Completed |  1.0s\n",
      "[########################################] | 100% Completed |  1.0s\n",
      "[########################################] | 100% Completed |  1.1s\n",
      "[########################################] | 100% Completed |  1.1s\n",
      "[########################################] | 100% Completed |  1.2s\n",
      "[########################################] | 100% Completed |  1.3s\n",
      "[########################################] | 100% Completed |  1.4s\n",
      "[########################################] | 100% Completed |  1.4s\n",
      "[########################################] | 100% Completed |  1.5s\n",
      "[########################################] | 100% Completed |  1.5s\n",
      "[########################################] | 100% Completed |  1.6s\n",
      "[########################################] | 100% Completed |  1.7s\n",
      "[########################################] | 100% Completed |  1.7s\n",
      "[########################################] | 100% Completed |  1.8s\n"
     ]
    },
    {
     "name": "stderr",
     "output_type": "stream",
     "text": [
      "[22:00:28 - __main__] Saving to file: /path/to/data/MinION_sequencing_data_20190809/guppy_3.2.2_exec_20190809/sw/fastq_runid_536cafc874cb995b6c8b47a5baabb9598eaded02_49_3.tsv\n",
      "[22:00:28 - __main__] Starting fastq (200 of 211)\n",
      "\t/path/to/data/MinION_sequencing_data_20190809/guppy_3.2.2_exec_20190809/pass/fastq_runid_536cafc874cb995b6c8b47a5baabb9598eaded02_50_3.fastq\n"
     ]
    },
    {
     "name": "stdout",
     "output_type": "stream",
     "text": [
      "[########################################] | 100% Completed |  4.7s\n",
      "[########################################] | 100% Completed |  4.7s\n",
      "[########################################] | 100% Completed |  4.7s\n",
      "[########################################] | 100% Completed |  4.8s\n",
      "[########################################] | 100% Completed |  4.8s\n",
      "[########################################] | 100% Completed |  4.8s\n",
      "[########################################] | 100% Completed |  4.9s\n",
      "[########################################] | 100% Completed |  4.9s\n",
      "[########################################] | 100% Completed |  5.0s\n",
      "[########################################] | 100% Completed |  5.0s\n",
      "[########################################] | 100% Completed |  5.0s\n",
      "[########################################] | 100% Completed |  5.1s\n",
      "[########################################] | 100% Completed |  5.2s\n",
      "[########################################] | 100% Completed |  5.3s\n"
     ]
    },
    {
     "name": "stderr",
     "output_type": "stream",
     "text": [
      "[22:00:34 - __main__] Saving to file: /path/to/data/MinION_sequencing_data_20190809/guppy_3.2.2_exec_20190809/sw/fastq_runid_536cafc874cb995b6c8b47a5baabb9598eaded02_50_3.tsv\n",
      "[22:00:34 - __main__] Starting fastq (201 of 211)\n",
      "\t/path/to/data/MinION_sequencing_data_20190809/guppy_3.2.2_exec_20190809/pass/fastq_runid_536cafc874cb995b6c8b47a5baabb9598eaded02_51_2.fastq\n"
     ]
    },
    {
     "name": "stdout",
     "output_type": "stream",
     "text": [
      "[########################################] | 100% Completed | 34.7s\n",
      "[########################################] | 100% Completed | 34.8s\n",
      "[########################################] | 100% Completed | 34.8s\n",
      "[########################################] | 100% Completed | 34.9s\n",
      "[########################################] | 100% Completed | 34.9s\n",
      "[########################################] | 100% Completed | 34.9s\n",
      "[########################################] | 100% Completed | 35.0s\n",
      "[########################################] | 100% Completed | 35.0s\n",
      "[########################################] | 100% Completed | 35.0s\n",
      "[########################################] | 100% Completed | 35.1s\n",
      "[########################################] | 100% Completed | 35.2s\n",
      "[########################################] | 100% Completed | 35.2s\n",
      "[########################################] | 100% Completed | 35.3s\n",
      "[########################################] | 100% Completed | 35.3s\n"
     ]
    },
    {
     "name": "stderr",
     "output_type": "stream",
     "text": [
      "[22:01:10 - __main__] Saving to file: /path/to/data/MinION_sequencing_data_20190809/guppy_3.2.2_exec_20190809/sw/fastq_runid_536cafc874cb995b6c8b47a5baabb9598eaded02_51_2.tsv\n",
      "[22:01:10 - __main__] Starting fastq (202 of 211)\n",
      "\t/path/to/data/MinION_sequencing_data_20190809/guppy_3.2.2_exec_20190809/pass/fastq_runid_536cafc874cb995b6c8b47a5baabb9598eaded02_52_0.fastq\n"
     ]
    },
    {
     "name": "stdout",
     "output_type": "stream",
     "text": [
      "[########################################] | 100% Completed | 50.3s\n",
      "[########################################] | 100% Completed | 50.4s\n",
      "[########################################] | 100% Completed | 50.5s\n",
      "[########################################] | 100% Completed | 50.6s\n",
      "[########################################] | 100% Completed | 50.7s\n",
      "[########################################] | 100% Completed | 50.7s\n",
      "[########################################] | 100% Completed | 50.8s\n",
      "[########################################] | 100% Completed | 50.9s\n",
      "[########################################] | 100% Completed | 51.0s\n",
      "[########################################] | 100% Completed | 51.1s\n",
      "[########################################] | 100% Completed | 51.1s\n",
      "[########################################] | 100% Completed | 51.2s\n",
      "[########################################] | 100% Completed | 51.3s\n",
      "[########################################] | 100% Completed | 51.3s\n"
     ]
    },
    {
     "name": "stderr",
     "output_type": "stream",
     "text": [
      "[22:02:03 - __main__] Saving to file: /path/to/data/MinION_sequencing_data_20190809/guppy_3.2.2_exec_20190809/sw/fastq_runid_536cafc874cb995b6c8b47a5baabb9598eaded02_52_0.tsv\n",
      "[22:02:03 - __main__] Starting fastq (203 of 211)\n",
      "\t/path/to/data/MinION_sequencing_data_20190809/guppy_3.2.2_exec_20190809/pass/fastq_runid_536cafc874cb995b6c8b47a5baabb9598eaded02_52_1.fastq\n"
     ]
    },
    {
     "name": "stdout",
     "output_type": "stream",
     "text": [
      "[########################################] | 100% Completed | 38.0s\n",
      "[########################################] | 100% Completed | 38.1s\n",
      "[########################################] | 100% Completed | 38.1s\n",
      "[########################################] | 100% Completed | 38.2s\n",
      "[########################################] | 100% Completed | 38.3s\n",
      "[########################################] | 100% Completed | 38.4s\n",
      "[########################################] | 100% Completed | 38.5s\n",
      "[########################################] | 100% Completed | 38.5s\n",
      "[########################################] | 100% Completed | 38.5s\n",
      "[########################################] | 100% Completed | 38.6s\n",
      "[########################################] | 100% Completed | 38.6s\n",
      "[########################################] | 100% Completed | 38.7s\n",
      "[########################################] | 100% Completed | 38.7s\n",
      "[########################################] | 100% Completed | 38.8s\n"
     ]
    },
    {
     "name": "stderr",
     "output_type": "stream",
     "text": [
      "[22:02:43 - __main__] Saving to file: /path/to/data/MinION_sequencing_data_20190809/guppy_3.2.2_exec_20190809/sw/fastq_runid_536cafc874cb995b6c8b47a5baabb9598eaded02_52_1.tsv\n",
      "[22:02:43 - __main__] Starting fastq (204 of 211)\n",
      "\t/path/to/data/MinION_sequencing_data_20190809/guppy_3.2.2_exec_20190809/pass/fastq_runid_536cafc874cb995b6c8b47a5baabb9598eaded02_51_3.fastq\n"
     ]
    },
    {
     "name": "stdout",
     "output_type": "stream",
     "text": [
      "[########################################] | 100% Completed |  9.7s\n",
      "[########################################] | 100% Completed |  9.7s\n",
      "[########################################] | 100% Completed |  9.7s\n",
      "[########################################] | 100% Completed |  9.8s\n",
      "[########################################] | 100% Completed |  9.9s\n",
      "[########################################] | 100% Completed |  9.9s\n",
      "[########################################] | 100% Completed | 10.0s\n",
      "[########################################] | 100% Completed | 10.1s\n",
      "[########################################] | 100% Completed | 10.1s\n",
      "[########################################] | 100% Completed | 10.2s\n",
      "[########################################] | 100% Completed | 10.2s\n",
      "[########################################] | 100% Completed | 10.2s\n",
      "[########################################] | 100% Completed | 10.2s\n",
      "[########################################] | 100% Completed | 10.3s\n"
     ]
    },
    {
     "name": "stderr",
     "output_type": "stream",
     "text": [
      "[22:02:54 - __main__] Saving to file: /path/to/data/MinION_sequencing_data_20190809/guppy_3.2.2_exec_20190809/sw/fastq_runid_536cafc874cb995b6c8b47a5baabb9598eaded02_51_3.tsv\n",
      "[22:02:54 - __main__] Starting fastq (205 of 211)\n",
      "\t/path/to/data/MinION_sequencing_data_20190809/guppy_3.2.2_exec_20190809/pass/fastq_runid_536cafc874cb995b6c8b47a5baabb9598eaded02_52_2.fastq\n"
     ]
    },
    {
     "name": "stdout",
     "output_type": "stream",
     "text": [
      "[########################################] | 100% Completed | 39.9s\n",
      "[########################################] | 100% Completed | 40.1s\n",
      "[########################################] | 100% Completed | 40.1s\n",
      "[########################################] | 100% Completed | 40.2s\n",
      "[########################################] | 100% Completed | 40.3s\n",
      "[########################################] | 100% Completed | 40.4s\n",
      "[########################################] | 100% Completed | 40.4s\n",
      "[########################################] | 100% Completed | 40.5s\n",
      "[########################################] | 100% Completed | 40.6s\n",
      "[########################################] | 100% Completed | 40.6s\n",
      "[########################################] | 100% Completed | 40.7s\n",
      "[########################################] | 100% Completed | 40.7s\n",
      "[########################################] | 100% Completed | 40.7s\n",
      "[########################################] | 100% Completed | 40.7s\n"
     ]
    },
    {
     "name": "stderr",
     "output_type": "stream",
     "text": [
      "[22:03:36 - __main__] Saving to file: /path/to/data/MinION_sequencing_data_20190809/guppy_3.2.2_exec_20190809/sw/fastq_runid_536cafc874cb995b6c8b47a5baabb9598eaded02_52_2.tsv\n",
      "[22:03:36 - __main__] Starting fastq (206 of 211)\n",
      "\t/path/to/data/MinION_sequencing_data_20190809/guppy_3.2.2_exec_20190809/pass/fastq_runid_536cafc874cb995b6c8b47a5baabb9598eaded02_52_3.fastq\n"
     ]
    },
    {
     "name": "stdout",
     "output_type": "stream",
     "text": [
      "[########################################] | 100% Completed | 23.3s\n",
      "[########################################] | 100% Completed | 23.4s\n",
      "[########################################] | 100% Completed | 23.4s\n",
      "[########################################] | 100% Completed | 23.5s\n",
      "[########################################] | 100% Completed | 23.6s\n",
      "[########################################] | 100% Completed | 23.7s\n",
      "[########################################] | 100% Completed | 23.8s\n",
      "[########################################] | 100% Completed | 23.8s\n",
      "[########################################] | 100% Completed | 23.9s\n",
      "[########################################] | 100% Completed | 24.0s\n",
      "[########################################] | 100% Completed | 24.0s\n",
      "[########################################] | 100% Completed | 24.1s\n",
      "[########################################] | 100% Completed | 24.1s\n",
      "[########################################] | 100% Completed | 24.2s\n"
     ]
    },
    {
     "name": "stderr",
     "output_type": "stream",
     "text": [
      "[22:04:01 - __main__] Saving to file: /path/to/data/MinION_sequencing_data_20190809/guppy_3.2.2_exec_20190809/sw/fastq_runid_536cafc874cb995b6c8b47a5baabb9598eaded02_52_3.tsv\n",
      "[22:04:01 - __main__] Starting fastq (207 of 211)\n",
      "\t/path/to/data/MinION_sequencing_data_20190809/guppy_3.2.2_exec_20190809/pass/fastq_runid_536cafc874cb995b6c8b47a5baabb9598eaded02_53_0.fastq\n"
     ]
    },
    {
     "name": "stdout",
     "output_type": "stream",
     "text": [
      "[########################################] | 100% Completed |  6.7s\n",
      "[########################################] | 100% Completed |  6.7s\n",
      "[########################################] | 100% Completed |  6.8s\n",
      "[########################################] | 100% Completed |  6.9s\n",
      "[########################################] | 100% Completed |  7.0s\n",
      "[########################################] | 100% Completed |  7.0s\n",
      "[########################################] | 100% Completed |  7.1s\n",
      "[########################################] | 100% Completed |  7.1s\n",
      "[########################################] | 100% Completed |  7.2s\n",
      "[########################################] | 100% Completed |  7.3s\n",
      "[########################################] | 100% Completed |  7.3s\n",
      "[########################################] | 100% Completed |  7.3s\n",
      "[########################################] | 100% Completed |  7.4s\n",
      "[########################################] | 100% Completed |  7.4s\n"
     ]
    },
    {
     "name": "stderr",
     "output_type": "stream",
     "text": [
      "[22:04:09 - __main__] Saving to file: /path/to/data/MinION_sequencing_data_20190809/guppy_3.2.2_exec_20190809/sw/fastq_runid_536cafc874cb995b6c8b47a5baabb9598eaded02_53_0.tsv\n",
      "[22:04:09 - __main__] Starting fastq (208 of 211)\n",
      "\t/path/to/data/MinION_sequencing_data_20190809/guppy_3.2.2_exec_20190809/pass/fastq_runid_536cafc874cb995b6c8b47a5baabb9598eaded02_53_1.fastq\n"
     ]
    },
    {
     "name": "stdout",
     "output_type": "stream",
     "text": [
      "[########################################] | 100% Completed |  1.7s\n",
      "[########################################] | 100% Completed |  1.8s\n",
      "[########################################] | 100% Completed |  1.8s\n",
      "[########################################] | 100% Completed |  1.9s\n",
      "[########################################] | 100% Completed |  1.9s\n",
      "[########################################] | 100% Completed |  1.9s\n",
      "[########################################] | 100% Completed |  2.0s\n",
      "[########################################] | 100% Completed |  2.0s\n",
      "[########################################] | 100% Completed |  2.1s\n",
      "[########################################] | 100% Completed |  2.1s\n",
      "[########################################] | 100% Completed |  2.1s\n",
      "[########################################] | 100% Completed |  2.2s\n",
      "[########################################] | 100% Completed |  2.3s\n",
      "[########################################] | 100% Completed |  2.3s\n"
     ]
    },
    {
     "name": "stderr",
     "output_type": "stream",
     "text": [
      "[22:04:12 - __main__] Saving to file: /path/to/data/MinION_sequencing_data_20190809/guppy_3.2.2_exec_20190809/sw/fastq_runid_536cafc874cb995b6c8b47a5baabb9598eaded02_53_1.tsv\n",
      "[22:04:12 - __main__] Starting fastq (209 of 211)\n",
      "\t/path/to/data/MinION_sequencing_data_20190809/guppy_3.2.2_exec_20190809/pass/fastq_runid_536cafc874cb995b6c8b47a5baabb9598eaded02_53_2.fastq\n"
     ]
    },
    {
     "name": "stdout",
     "output_type": "stream",
     "text": [
      "[########################################] | 100% Completed |  3.9s\n",
      "[########################################] | 100% Completed |  4.0s\n",
      "[########################################] | 100% Completed |  4.1s\n",
      "[########################################] | 100% Completed |  4.2s\n",
      "[########################################] | 100% Completed |  4.3s\n",
      "[########################################] | 100% Completed |  4.3s\n",
      "[########################################] | 100% Completed |  4.4s\n",
      "[########################################] | 100% Completed |  4.4s\n",
      "[########################################] | 100% Completed |  4.4s\n",
      "[########################################] | 100% Completed |  4.5s\n",
      "[########################################] | 100% Completed |  4.5s\n",
      "[########################################] | 100% Completed |  4.5s\n",
      "[########################################] | 100% Completed |  4.6s\n",
      "[########################################] | 100% Completed |  4.7s\n"
     ]
    },
    {
     "name": "stderr",
     "output_type": "stream",
     "text": [
      "[22:04:18 - __main__] Saving to file: /path/to/data/MinION_sequencing_data_20190809/guppy_3.2.2_exec_20190809/sw/fastq_runid_536cafc874cb995b6c8b47a5baabb9598eaded02_53_2.tsv\n",
      "[22:04:18 - __main__] Starting fastq (210 of 211)\n",
      "\t/path/to/data/MinION_sequencing_data_20190809/guppy_3.2.2_exec_20190809/pass/fastq_runid_536cafc874cb995b6c8b47a5baabb9598eaded02_53_3.fastq\n"
     ]
    },
    {
     "name": "stdout",
     "output_type": "stream",
     "text": [
      "[########################################] | 100% Completed |  1.0s\n",
      "[########################################] | 100% Completed |  1.0s\n",
      "[########################################] | 100% Completed |  1.0s\n",
      "[########################################] | 100% Completed |  1.1s\n",
      "[########################################] | 100% Completed |  1.1s\n",
      "[########################################] | 100% Completed |  1.1s\n",
      "[########################################] | 100% Completed |  1.2s\n",
      "[########################################] | 100% Completed |  1.3s\n",
      "[########################################] | 100% Completed |  1.3s\n",
      "[########################################] | 100% Completed |  1.4s\n",
      "[########################################] | 100% Completed |  1.5s\n",
      "[########################################] | 100% Completed |  1.5s\n",
      "[########################################] | 100% Completed |  1.6s\n",
      "[########################################] | 100% Completed |  1.7s\n"
     ]
    },
    {
     "name": "stderr",
     "output_type": "stream",
     "text": [
      "[22:04:21 - __main__] Saving to file: /path/to/data/MinION_sequencing_data_20190809/guppy_3.2.2_exec_20190809/sw/fastq_runid_536cafc874cb995b6c8b47a5baabb9598eaded02_53_3.tsv\n"
     ]
    }
   ],
   "source": [
    "run_sw(fastq_dir, sw_dir, search_len=80, cost_fn=cost_fn, molbit_fa=molbit_file, n_workers=40)"
   ]
  },
  {
   "cell_type": "code",
   "execution_count": 84,
   "metadata": {
    "ExecuteTime": {
     "end_time": "2019-08-10T22:50:04.838097Z",
     "start_time": "2019-08-10T22:50:02.456710Z"
    }
   },
   "outputs": [],
   "source": [
    "sw_list = []\n",
    "for fname in os.listdir(sw_dir):\n",
    "    sw_tsv = os.path.join(sw_dir, fname)\n",
    "    sw = pd.read_csv(sw_tsv, sep=\"\\t\", index_col=0)\n",
    "    sw_list.append(sw)\n",
    "sw = pd.concat(sw_list)\n",
    "del sw_list"
   ]
  },
  {
   "cell_type": "code",
   "execution_count": 85,
   "metadata": {
    "ExecuteTime": {
     "end_time": "2019-08-10T22:50:04.940879Z",
     "start_time": "2019-08-10T22:50:04.840151Z"
    }
   },
   "outputs": [],
   "source": [
    "sw_arr = np.array(sw)"
   ]
  },
  {
   "cell_type": "code",
   "execution_count": 86,
   "metadata": {
    "ExecuteTime": {
     "end_time": "2019-08-10T22:50:05.257859Z",
     "start_time": "2019-08-10T22:50:04.942711Z"
    }
   },
   "outputs": [],
   "source": [
    "max_sw = np.max(sw_arr, axis=1)\n",
    "sw_arr[range(len(sw_arr)), np.argmax(sw_arr, axis=1)] = 0\n",
    "second_best_sw = np.max(sw_arr, axis=1)\n",
    "sw_arr = np.array(sw)"
   ]
  },
  {
   "cell_type": "markdown",
   "metadata": {},
   "source": [
    "## Plot alignment scores for basic overview of performance"
   ]
  },
  {
   "cell_type": "code",
   "execution_count": 92,
   "metadata": {
    "ExecuteTime": {
     "end_time": "2019-08-10T22:51:33.546826Z",
     "start_time": "2019-08-10T22:51:30.789314Z"
    },
    "scrolled": false
   },
   "outputs": [
    {
     "data": {
      "text/plain": [
       "<matplotlib.lines.Line2D at 0x7fa3998c8438>"
      ]
     },
     "execution_count": 92,
     "metadata": {},
     "output_type": "execute_result"
    },
    {
     "data": {
      "image/png": "[encoded data removed]",
      "text/plain": [
       "<Figure size 432x432 with 1 Axes>"
      ]
     },
     "metadata": {},
     "output_type": "display_data"
    }
   ],
   "source": [
    "fig, ax = plt.subplots(figsize=(6, 6))\n",
    "ax.scatter(max_sw, second_best_sw, alpha=0.01, c=\"k\")\n",
    "ax.set_title(\"\")\n",
    "ax.set_xlabel(\"1st best SW score\")\n",
    "ax.set_ylabel(\"2nd best SW score\")\n",
    "ax.plot([0, 40], [0, 40])\n",
    "ax.axhline(15)\n",
    "ax.axvline(15)"
   ]
  },
  {
   "cell_type": "code",
   "execution_count": 88,
   "metadata": {
    "ExecuteTime": {
     "end_time": "2019-08-10T22:50:09.703990Z",
     "start_time": "2019-08-10T22:50:08.739619Z"
    }
   },
   "outputs": [
    {
     "data": {
      "text/plain": [
       "<matplotlib.axes._subplots.AxesSubplot at 0x7fa3a9e7b780>"
      ]
     },
     "execution_count": 88,
     "metadata": {},
     "output_type": "execute_result"
    },
    {
     "data": {
      "image/png": "[encoded data removed]",
      "text/plain": [
       "<Figure size 432x288 with 1 Axes>"
      ]
     },
     "metadata": {},
     "output_type": "display_data"
    }
   ],
   "source": [
    "sns.distplot(max_sw)"
   ]
  },
  {
   "cell_type": "markdown",
   "metadata": {
    "ExecuteTime": {
     "end_time": "2019-08-11T00:31:43.917710Z",
     "start_time": "2019-08-11T00:31:43.897293Z"
    }
   },
   "source": [
    "### Merge & save alignment scores for all fq files"
   ]
  },
  {
   "cell_type": "code",
   "execution_count": 101,
   "metadata": {
    "ExecuteTime": {
     "end_time": "2019-08-11T00:33:15.827434Z",
     "start_time": "2019-08-11T00:33:15.805948Z"
    }
   },
   "outputs": [],
   "source": [
    "run_id = re.findall(r\"runid_(.*)_[\\d]+_[\\d]+.tsv\", sw_tsv)[0]"
   ]
  },
  {
   "cell_type": "code",
   "execution_count": 217,
   "metadata": {
    "ExecuteTime": {
     "end_time": "2019-08-20T20:04:32.882214Z",
     "start_time": "2019-08-20T20:04:32.845916Z"
    }
   },
   "outputs": [],
   "source": [
    "merged_sw_file = os.path.join(sw_dir, f\"all_{run_id}.tsv\")"
   ]
  },
  {
   "cell_type": "code",
   "execution_count": 219,
   "metadata": {
    "ExecuteTime": {
     "end_time": "2019-08-20T20:04:49.558766Z",
     "start_time": "2019-08-20T20:04:35.626242Z"
    }
   },
   "outputs": [],
   "source": [
    "sw.to_csv(merged_sw_file, sep=\"\\t\", index=True)"
   ]
  },
  {
   "cell_type": "code",
   "execution_count": 218,
   "metadata": {
    "ExecuteTime": {
     "end_time": "2019-08-20T20:04:34.345950Z",
     "start_time": "2019-08-20T20:04:34.313024Z"
    }
   },
   "outputs": [
    {
     "data": {
      "text/plain": [
       "'/path/to/data/MinION_sequencing_data_20190809/guppy_3.2.2_08_09_19_run_01_exec_20190809/sw/all_536cafc874cb995b6c8b47a5baabb9598eaded02.tsv'"
      ]
     },
     "execution_count": 218,
     "metadata": {},
     "output_type": "execute_result"
    }
   ],
   "source": [
    "merged_sw_file"
   ]
  },
  {
   "cell_type": "markdown",
   "metadata": {},
   "source": [
    "# Evaluate extant molbits vs rest"
   ]
  },
  {
   "cell_type": "markdown",
   "metadata": {},
   "source": [
    "## Specify which molbits were actually present"
   ]
  },
  {
   "cell_type": "code",
   "execution_count": 107,
   "metadata": {
    "ExecuteTime": {
     "end_time": "2019-08-11T00:36:14.234325Z",
     "start_time": "2019-08-11T00:36:14.211481Z"
    }
   },
   "outputs": [],
   "source": [
    "# Create set_N variables based on spreadsheet\n",
    "molbit_sets = {}\n",
    "for ix, row in set_spreadsheet.iterrows():\n",
    "    set_no = re.findall(r\"set ([\\d]+)\", row[\"set\"])[0]\n",
    "    molbits = row[\"molbits_in_set\"]\n",
    "    molbit_sets[set_no] = molbits"
   ]
  },
  {
   "cell_type": "code",
   "execution_count": 124,
   "metadata": {
    "ExecuteTime": {
     "end_time": "2019-08-11T00:49:39.402997Z",
     "start_time": "2019-08-11T00:49:39.381498Z"
    }
   },
   "outputs": [],
   "source": [
    "molbit_set_in_run = str(run_data.get(\"molbit_set\"))\n",
    "molbit_sets_on_flowcell = run_data.get(\"prev_on_flowcell\")\n",
    "\n",
    "molbits_in_run = molbit_sets[molbit_set_in_run].split(\", \")\n",
    "molbits_on_flowcell = []\n",
    "if molbit_sets_on_flowcell != \"none\":\n",
    "    # In the future, will need to do something here\n",
    "    pass"
   ]
  },
  {
   "cell_type": "markdown",
   "metadata": {},
   "source": [
    "## Extract the best-aligned molbit, across all 96 molbits"
   ]
  },
  {
   "cell_type": "markdown",
   "metadata": {},
   "source": [
    "This cell replaces \"make_sw_call\" in the past. No more \"-1\"s. Just filter by accept_molbit."
   ]
  },
  {
   "cell_type": "code",
   "execution_count": 181,
   "metadata": {
    "ExecuteTime": {
     "end_time": "2019-08-11T01:25:55.000918Z",
     "start_time": "2019-08-11T01:25:39.862251Z"
    }
   },
   "outputs": [
    {
     "name": "stderr",
     "output_type": "stream",
     "text": [
      "/ssd1/home/kdorosch/.local/lib/python3.6/site-packages/ipykernel_launcher.py:4: FutureWarning: currently extract(expand=None) means expand=False (return Index/Series/DataFrame) but in a future version of pandas this will be changed to expand=True (return DataFrame)\n",
      "  after removing the cwd from sys.path.\n"
     ]
    }
   ],
   "source": [
    "sw_scores = sw.filter(regex=\"score_molbit_.*\")\n",
    "best_molbits = sw_scores.apply(np.argmax, axis=1)\n",
    "accept_molbit = sw.lookup(sw.index, best_molbits) >= 15\n",
    "sw[\"best_molbit\"] = best_molbits.str.extract(r\"score_molbit_([\\d]+)\")\n",
    "sw[\"accept_molbit\"] = accept_molbit"
   ]
  },
  {
   "cell_type": "code",
   "execution_count": 182,
   "metadata": {
    "ExecuteTime": {
     "end_time": "2019-08-11T01:25:55.420309Z",
     "start_time": "2019-08-11T01:25:55.003516Z"
    }
   },
   "outputs": [
    {
     "data": {
      "text/plain": [
       "0.7709552534437742"
      ]
     },
     "execution_count": 182,
     "metadata": {},
     "output_type": "execute_result"
    }
   ],
   "source": [
    "sum(accept_molbit) / len(accept_molbit)"
   ]
  },
  {
   "cell_type": "markdown",
   "metadata": {},
   "source": [
    "## Extract the best-aligned molbit, across ONLY the extant molbits"
   ]
  },
  {
   "cell_type": "code",
   "execution_count": 144,
   "metadata": {
    "ExecuteTime": {
     "end_time": "2019-08-11T01:03:29.643828Z",
     "start_time": "2019-08-11T01:03:29.615919Z"
    }
   },
   "outputs": [],
   "source": [
    "extant_sw_cols = [f\"sw_score_molbit_{molbit}\" for molbit in molbits_in_run]"
   ]
  },
  {
   "cell_type": "code",
   "execution_count": 145,
   "metadata": {
    "ExecuteTime": {
     "end_time": "2019-08-11T01:03:29.962713Z",
     "start_time": "2019-08-11T01:03:29.919570Z"
    }
   },
   "outputs": [],
   "source": [
    "extant_sw = sw.loc[:, extant_sw_cols]"
   ]
  },
  {
   "cell_type": "code",
   "execution_count": 180,
   "metadata": {
    "ExecuteTime": {
     "end_time": "2019-08-11T01:25:39.859794Z",
     "start_time": "2019-08-11T01:25:25.323711Z"
    }
   },
   "outputs": [
    {
     "name": "stderr",
     "output_type": "stream",
     "text": [
      "/ssd1/home/kdorosch/software/anaconda3/envs/py36/lib/python3.6/site-packages/numpy/core/fromnumeric.py:51: FutureWarning: 'argmax' is deprecated. Use 'idxmax' instead. The behavior of 'argmax' will be corrected to return the positional maximum in the future. Use 'series.values.argmax' to get the position of the maximum now.\n",
      "  return getattr(obj, method)(*args, **kwds)\n",
      "/ssd1/home/kdorosch/.local/lib/python3.6/site-packages/ipykernel_launcher.py:4: FutureWarning: currently extract(expand=None) means expand=False (return Index/Series/DataFrame) but in a future version of pandas this will be changed to expand=True (return DataFrame)\n",
      "  after removing the cwd from sys.path.\n"
     ]
    }
   ],
   "source": [
    "extant_sw_scores = extant_sw.filter(regex=\"score_molbit_.*\")\n",
    "best_molbits = extant_sw_scores.apply(np.argmax, axis=1)\n",
    "accept_molbit = extant_sw.lookup(extant_sw.index, best_molbits) >= 15\n",
    "extant_sw[\"best_molbit\"] = best_molbits.str.extract(r\"score_molbit_([\\d]+)\")\n",
    "extant_sw[\"accept_molbit\"] = accept_molbit"
   ]
  },
  {
   "cell_type": "markdown",
   "metadata": {},
   "source": [
    "## Compare "
   ]
  },
  {
   "cell_type": "code",
   "execution_count": 204,
   "metadata": {
    "ExecuteTime": {
     "end_time": "2019-08-13T15:52:06.052671Z",
     "start_time": "2019-08-13T15:52:05.877998Z"
    }
   },
   "outputs": [],
   "source": [
    "# Only retrieve high-scoring alignments\n",
    "sw_accepted = sw[sw[\"accept_molbit\"]]\n",
    "extant_sw_acc = extant_sw[sw[\"accept_molbit\"]]"
   ]
  },
  {
   "cell_type": "code",
   "execution_count": 189,
   "metadata": {
    "ExecuteTime": {
     "end_time": "2019-08-11T01:26:31.322407Z",
     "start_time": "2019-08-11T01:26:31.271313Z"
    }
   },
   "outputs": [],
   "source": [
    "n_extant_is_best = sum(extant_sw_acc[\"best_molbit\"] == sw_accepted[\"best_molbit\"])"
   ]
  },
  {
   "cell_type": "code",
   "execution_count": 190,
   "metadata": {
    "ExecuteTime": {
     "end_time": "2019-08-11T01:26:32.471846Z",
     "start_time": "2019-08-11T01:26:32.448861Z"
    }
   },
   "outputs": [
    {
     "data": {
      "text/plain": [
       "136853"
      ]
     },
     "execution_count": 190,
     "metadata": {},
     "output_type": "execute_result"
    }
   ],
   "source": [
    "n_extant_is_best"
   ]
  },
  {
   "cell_type": "markdown",
   "metadata": {},
   "source": [
    "Percentage of well-aligned reads that belong to the true set"
   ]
  },
  {
   "cell_type": "code",
   "execution_count": 201,
   "metadata": {
    "ExecuteTime": {
     "end_time": "2019-08-13T15:50:24.523189Z",
     "start_time": "2019-08-13T15:50:24.497127Z"
    }
   },
   "outputs": [
    {
     "data": {
      "text/plain": [
       "0.9988686792012146"
      ]
     },
     "execution_count": 201,
     "metadata": {},
     "output_type": "execute_result"
    }
   ],
   "source": [
    "n_extant_is_best/len(sw_accepted)"
   ]
  },
  {
   "cell_type": "markdown",
   "metadata": {},
   "source": [
    "Read counts for each molbit"
   ]
  },
  {
   "cell_type": "code",
   "execution_count": 203,
   "metadata": {
    "ExecuteTime": {
     "end_time": "2019-08-13T15:50:45.973259Z",
     "start_time": "2019-08-13T15:50:45.841948Z"
    },
    "scrolled": true
   },
   "outputs": [
    {
     "data": {
      "text/plain": [
       "[('0', 2382),\n",
       " ('1', 2745),\n",
       " ('10', 717),\n",
       " ('11', 4777),\n",
       " ('12', 20668),\n",
       " ('13', 2029),\n",
       " ('14', 4314),\n",
       " ('15', 14026),\n",
       " ('2', 8397),\n",
       " ('3', 12899),\n",
       " ('4', 3362),\n",
       " ('5', 9185),\n",
       " ('6', 17605),\n",
       " ('7', 5901),\n",
       " ('8', 5550),\n",
       " ('9', 22451)]"
      ]
     },
     "execution_count": 203,
     "metadata": {},
     "output_type": "execute_result"
    }
   ],
   "source": [
    "m, c = np.unique(extant_sw_acc[\"best_molbit\"], return_counts=True)\n",
    "list(zip(m, c))"
   ]
  },
  {
   "cell_type": "markdown",
   "metadata": {},
   "source": [
    "## Get counts for all molbits"
   ]
  },
  {
   "cell_type": "code",
   "execution_count": 205,
   "metadata": {
    "ExecuteTime": {
     "end_time": "2019-08-20T19:59:50.116975Z",
     "start_time": "2019-08-20T19:59:43.645805Z"
    }
   },
   "outputs": [
    {
     "name": "stdout",
     "output_type": "stream",
     "text": [
      "2381\n",
      "2742\n",
      "8376\n",
      "12899\n",
      "3361\n",
      "9183\n",
      "17603\n",
      "5883\n",
      "5541\n",
      "22411\n",
      "716\n",
      "4750\n",
      "20665\n",
      "2021\n",
      "4302\n",
      "14019\n",
      "0\n",
      "1\n",
      "0\n",
      "0\n",
      "2\n",
      "0\n",
      "0\n",
      "0\n",
      "3\n",
      "4\n",
      "0\n",
      "1\n",
      "1\n",
      "0\n",
      "3\n",
      "0\n",
      "0\n",
      "1\n",
      "0\n",
      "1\n",
      "1\n",
      "1\n",
      "0\n",
      "0\n",
      "1\n",
      "0\n",
      "1\n",
      "2\n",
      "2\n",
      "0\n",
      "1\n",
      "1\n",
      "0\n",
      "7\n",
      "1\n",
      "0\n",
      "0\n",
      "34\n",
      "0\n",
      "2\n",
      "15\n",
      "1\n",
      "7\n",
      "1\n",
      "0\n",
      "0\n",
      "1\n",
      "0\n",
      "2\n",
      "1\n",
      "0\n",
      "0\n",
      "0\n",
      "4\n",
      "0\n",
      "0\n",
      "0\n",
      "0\n",
      "0\n",
      "4\n",
      "4\n",
      "0\n",
      "0\n",
      "2\n",
      "0\n",
      "0\n",
      "0\n",
      "0\n",
      "7\n",
      "11\n",
      "0\n",
      "0\n",
      "1\n",
      "1\n",
      "0\n",
      "12\n",
      "0\n",
      "2\n",
      "2\n",
      "6\n"
     ]
    }
   ],
   "source": [
    "m, c = np.unique(sw[sw[\"accept_molbit\"]][\"best_molbit\"], return_counts=True)\n",
    "molbit_counts = dict(zip(m, c))\n",
    "for i in range(96):\n",
    "    i = str(i)\n",
    "    if i in molbit_counts:\n",
    "        print(f\"{molbit_counts[i]}\")\n",
    "    else:\n",
    "        print(f\"0\")"
   ]
  },
  {
   "cell_type": "code",
   "execution_count": null,
   "metadata": {},
   "outputs": [],
   "source": []
  }
 ],
 "metadata": {
  "kernelspec": {
   "display_name": "Python 3",
   "language": "python",
   "name": "python3"
  },
  "language_info": {
   "codemirror_mode": {
    "name": "ipython",
    "version": 3
   },
   "file_extension": ".py",
   "mimetype": "text/x-python",
   "name": "python",
   "nbconvert_exporter": "python",
   "pygments_lexer": "ipython3",
   "version": "3.7.6"
  },
  "toc": {
   "base_numbering": 1,
   "nav_menu": {},
   "number_sections": true,
   "sideBar": true,
   "skip_h1_title": false,
   "title_cell": "Table of Contents",
   "title_sidebar": "Contents",
   "toc_cell": false,
   "toc_position": {},
   "toc_section_display": true,
   "toc_window_display": false
  }
 },
 "nbformat": 4,
 "nbformat_minor": 2
}
