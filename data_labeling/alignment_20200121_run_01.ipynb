{
 "cells": [
  {
   "cell_type": "code",
   "execution_count": 1,
   "metadata": {
    "ExecuteTime": {
     "end_time": "2020-01-21T20:59:31.040225Z",
     "start_time": "2020-01-21T20:59:30.267783Z"
    }
   },
   "outputs": [],
   "source": [
    "%load_ext autoreload\n",
    "%autoreload 2\n",
    "%matplotlib inline\n",
    "import os\n",
    "import h5py\n",
    "import numpy as np\n",
    "import pandas as pd\n",
    "import logging\n",
    "import re\n",
    "\n",
    "from matplotlib import pyplot as plt\n",
    "import seaborn as sns\n",
    "sns.set(font_scale=1.8, style=\"whitegrid\")"
   ]
  },
  {
   "cell_type": "code",
   "execution_count": 2,
   "metadata": {
    "ExecuteTime": {
     "end_time": "2020-01-21T20:59:31.055384Z",
     "start_time": "2020-01-21T20:59:31.042342Z"
    }
   },
   "outputs": [],
   "source": [
    "logger = logging.getLogger(__name__)\n",
    "logging.basicConfig(format='[%(asctime)s - %(name)s] %(message)s',\n",
    "                        datefmt='%H:%M:%S',\n",
    "                        level=logging.DEBUG,\n",
    "                        handlers=[logging.StreamHandler()])"
   ]
  },
  {
   "cell_type": "markdown",
   "metadata": {},
   "source": [
    "# Import run settings"
   ]
  },
  {
   "cell_type": "code",
   "execution_count": 3,
   "metadata": {
    "ExecuteTime": {
     "end_time": "2020-01-21T20:59:32.549132Z",
     "start_time": "2020-01-21T20:59:31.583925Z"
    }
   },
   "outputs": [],
   "source": [
    "def import_gdrive_sheet(gdrive_key, sheet_id):\n",
    "    run_spreadsheet = pd.read_csv(\"https://docs.google.com/spreadsheet/ccc?key=\" + \\\n",
    "                                  gdrive_key + \"&output=csv&gid=\" + sheet_id)\n",
    "    if \"date\" in run_spreadsheet.columns:\n",
    "        run_spreadsheet[\"date\"] = run_spreadsheet[\"date\"].astype(str)\n",
    "    return run_spreadsheet\n",
    "\n",
    "gdrive_key = \"gsheet_id_here\"\n",
    "sheet_id = \"0\"\n",
    "set_sheet_id = \"512509543\"\n",
    "\n",
    "run_spreadsheet = import_gdrive_sheet(gdrive_key, sheet_id)\n",
    "set_spreadsheet = import_gdrive_sheet(gdrive_key, set_sheet_id)"
   ]
  },
  {
   "cell_type": "code",
   "execution_count": 4,
   "metadata": {
    "ExecuteTime": {
     "end_time": "2020-01-21T20:59:51.008625Z",
     "start_time": "2020-01-21T20:59:50.979435Z"
    }
   },
   "outputs": [],
   "source": [
    "run_name = \"01_21_20_run_01\"\n",
    "molbit_file = \"../porcupine_sequences.fa\"\n",
    "run_data = dict(run_spreadsheet[run_spreadsheet[\"run_name\"] == run_name].iloc[0, :])"
   ]
  },
  {
   "cell_type": "code",
   "execution_count": 5,
   "metadata": {
    "ExecuteTime": {
     "end_time": "2020-01-21T20:59:51.485191Z",
     "start_time": "2020-01-21T20:59:51.464453Z"
    }
   },
   "outputs": [],
   "source": [
    "fastq_dir = os.path.join(run_data[\"basecall_dir\"], \"pass\")"
   ]
  },
  {
   "cell_type": "markdown",
   "metadata": {},
   "source": [
    "# Run sequence alignment"
   ]
  },
  {
   "cell_type": "code",
   "execution_count": 6,
   "metadata": {
    "ExecuteTime": {
     "end_time": "2020-01-21T23:14:57.901888Z",
     "start_time": "2020-01-21T23:14:57.882173Z"
    }
   },
   "outputs": [],
   "source": [
    "def read_fasta(fasta_fname):\n",
    "    '''Assumes 1 line per sequence.'''\n",
    "    seqs = []\n",
    "    names = []\n",
    "    with open(fasta_fname) as fa:\n",
    "        for line in fa:\n",
    "            line = line.strip()\n",
    "            if line.startswith(\">\"):\n",
    "                names.append(line.replace(\">\", \"\").split()[0])\n",
    "            else:\n",
    "                seqs.append(line)\n",
    "    return seqs, names"
   ]
  },
  {
   "cell_type": "code",
   "execution_count": 7,
   "metadata": {
    "ExecuteTime": {
     "end_time": "2020-01-21T23:14:58.743402Z",
     "start_time": "2020-01-21T23:14:58.724281Z"
    }
   },
   "outputs": [],
   "source": [
    "def read_fastq(fastq_fname):\n",
    "    seqs = []\n",
    "    with open(fastq_fname) as fq:\n",
    "        fq = fq.readlines()\n",
    "        for line_i in range(0, len(fq), 4):\n",
    "            line = fq[line_i].strip().split(\" \")\n",
    "            read_id = str(line[0])[1:]\n",
    "            seq = fq[line_i + 1].strip()\n",
    "            seqs.append((read_id, seq))\n",
    "    return seqs"
   ]
  },
  {
   "cell_type": "code",
   "execution_count": 8,
   "metadata": {
    "ExecuteTime": {
     "end_time": "2020-01-21T23:14:59.139467Z",
     "start_time": "2020-01-21T23:14:59.079251Z"
    }
   },
   "outputs": [],
   "source": [
    "from pore_utils import smith_waterman as s_w"
   ]
  },
  {
   "cell_type": "code",
   "execution_count": 9,
   "metadata": {
    "ExecuteTime": {
     "end_time": "2020-01-21T23:14:59.355324Z",
     "start_time": "2020-01-21T23:14:59.328841Z"
    }
   },
   "outputs": [],
   "source": [
    "def helper_run_sw(read, molbit_seqs=None, search_len=100,\n",
    "                  cost_fn={\"match\": 2, \"mismatch\": -2, \"gap\": -1}):\n",
    "    read_id, seq = read\n",
    "\n",
    "    sw_search_end = min(len(seq), search_len)\n",
    "    search_seq = seq[:sw_search_end]\n",
    "\n",
    "    results = [read_id]\n",
    "    for header_i, header_seq in enumerate(molbit_seqs):\n",
    "        _, sw_score, _, sw_loc, _ = s_w.s_w(search_seq, header_seq,\n",
    "                                        cost_fn=cost_fn)\n",
    "        results.append(sw_score)\n",
    "    return results\n",
    "\n",
    "\n",
    "def run_sw(fastq_dir, out_dir, search_len=80, molbit_fa=None, n_workers=20,\n",
    "           cost_fn={\"match\": 2, \"mismatch\": -2, \"gap\": -1}):\n",
    "    os.makedirs(out_dir)\n",
    "    import dask.bag as db\n",
    "    from dask.diagnostics import ProgressBar\n",
    "    ProgressBar().register()\n",
    "    \n",
    "    logger.info(\"Getting molbit sequences.\")\n",
    "    assert molbit_fa is not None\n",
    "    assert os.path.exists(molbit_fa)\n",
    "    molbit_seqs, molbit_names = read_fasta(molbit_fa)\n",
    "    \n",
    "    logger.info(\"Locating fastq files.\")\n",
    "    fastq_files = []\n",
    "    for fname in os.listdir(fastq_dir):\n",
    "        if fname.endswith(\".fastq\"):\n",
    "            fastq_files.append(os.path.join(fastq_dir, fname))\n",
    "    assert len(fastq_files) > 0\n",
    "    \n",
    "    logger.info(\"Running SW, one fastq at a time.\")\n",
    "    for fq_i, fq_fname in enumerate(fastq_files):\n",
    "        logger.info(f\"Starting fastq ({fq_i} of {len(fastq_files)})\\n\\t{fq_fname}\")\n",
    "        fq_seqs = read_fastq(fq_fname)\n",
    "        \n",
    "        bag = db.from_sequence(fq_seqs)\n",
    "        dask_map = bag.map(helper_run_sw, molbit_seqs=molbit_seqs,\n",
    "                           search_len=search_len, cost_fn=cost_fn)\n",
    "        sw_scores = dask_map.compute(num_workers=n_workers)\n",
    "        \n",
    "        cols = [\"read_id\"] + [f\"sw_score_molbit_{molbit}\" for molbit in molbit_names]\n",
    "        sw_df = pd.DataFrame(sw_scores, columns=cols)\n",
    "        sw_df.index = sw_df[\"read_id\"]\n",
    "        del sw_df[\"read_id\"]\n",
    "        out_fname = fq_fname.split(\"/\")[-1].replace(\".fastq\", \"\") + \".tsv\"\n",
    "        out_fname = os.path.join(out_dir, out_fname)\n",
    "        logger.info(f\"Saving to file: {out_fname}\")\n",
    "        sw_df.to_csv(out_fname, sep=\"\\t\", index=True)"
   ]
  },
  {
   "cell_type": "code",
   "execution_count": 10,
   "metadata": {
    "ExecuteTime": {
     "end_time": "2020-01-21T23:14:59.631156Z",
     "start_time": "2020-01-21T23:14:59.613664Z"
    }
   },
   "outputs": [],
   "source": [
    "sw_dir = os.path.join(run_data[\"basecall_dir\"], \"sw\")\n",
    "cost_fn = {\"match\": 1, \"mismatch\": -1, \"gap\": -8}"
   ]
  },
  {
   "cell_type": "raw",
   "metadata": {
    "ExecuteTime": {
     "end_time": "2019-08-11T02:58:25.962380Z",
     "start_time": "2019-08-11T02:58:25.723668Z"
    }
   },
   "source": [
    "! rm -rf /path/to/data/MinION_sequencing_data_20190809/guppy_3.2.2_exec_20190809/sw"
   ]
  },
  {
   "cell_type": "code",
   "execution_count": 11,
   "metadata": {
    "ExecuteTime": {
     "end_time": "2020-01-22T02:49:41.164041Z",
     "start_time": "2020-01-21T23:15:00.273816Z"
    }
   },
   "outputs": [
    {
     "name": "stderr",
     "output_type": "stream",
     "text": [
      "[15:15:00 - __main__] Getting molbit sequences.\n",
      "[15:15:00 - __main__] Locating fastq files.\n",
      "[15:15:00 - __main__] Running SW, one fastq at a time.\n",
      "[15:15:00 - __main__] Starting fastq (0 of 386)\n",
      "\t/path/to/data/MinION_sequencing_data_20200121/guppy_3.2.2_01_21_20_run_01_exec_20200121/pass/fastq_runid_7d0acceaaa1cedac5617dbfac6122f3441e9e66c_0_0.fastq\n"
     ]
    },
    {
     "name": "stdout",
     "output_type": "stream",
     "text": [
      "[########################################] | 100% Completed | 44.1s\n"
     ]
    },
    {
     "name": "stderr",
     "output_type": "stream",
     "text": [
      "[15:15:44 - __main__] Saving to file: /path/to/data/MinION_sequencing_data_20200121/guppy_3.2.2_01_21_20_run_01_exec_20200121/sw/fastq_runid_7d0acceaaa1cedac5617dbfac6122f3441e9e66c_0_0.tsv\n",
      "[15:15:45 - __main__] Starting fastq (1 of 386)\n",
      "\t/path/to/data/MinION_sequencing_data_20200121/guppy_3.2.2_01_21_20_run_01_exec_20200121/pass/fastq_runid_7d0acceaaa1cedac5617dbfac6122f3441e9e66c_0_1.fastq\n"
     ]
    },
    {
     "name": "stdout",
     "output_type": "stream",
     "text": [
      "[########################################] | 100% Completed | 13.2s\n"
     ]
    },
    {
     "name": "stderr",
     "output_type": "stream",
     "text": [
      "[15:15:58 - __main__] Saving to file: /path/to/data/MinION_sequencing_data_20200121/guppy_3.2.2_01_21_20_run_01_exec_20200121/sw/fastq_runid_7d0acceaaa1cedac5617dbfac6122f3441e9e66c_0_1.tsv\n",
      "[15:15:58 - __main__] Starting fastq (2 of 386)\n",
      "\t/path/to/data/MinION_sequencing_data_20200121/guppy_3.2.2_01_21_20_run_01_exec_20200121/pass/fastq_runid_7d0acceaaa1cedac5617dbfac6122f3441e9e66c_0_2.fastq\n"
     ]
    },
    {
     "name": "stdout",
     "output_type": "stream",
     "text": [
      "[########################################] | 100% Completed | 43.9s\n"
     ]
    },
    {
     "name": "stderr",
     "output_type": "stream",
     "text": [
      "[15:16:42 - __main__] Saving to file: /path/to/data/MinION_sequencing_data_20200121/guppy_3.2.2_01_21_20_run_01_exec_20200121/sw/fastq_runid_7d0acceaaa1cedac5617dbfac6122f3441e9e66c_0_2.tsv\n",
      "[15:16:43 - __main__] Starting fastq (3 of 386)\n",
      "\t/path/to/data/MinION_sequencing_data_20200121/guppy_3.2.2_01_21_20_run_01_exec_20200121/pass/fastq_runid_7d0acceaaa1cedac5617dbfac6122f3441e9e66c_0_3.fastq\n"
     ]
    },
    {
     "name": "stdout",
     "output_type": "stream",
     "text": [
      "[########################################] | 100% Completed | 16.9s\n"
     ]
    },
    {
     "name": "stderr",
     "output_type": "stream",
     "text": [
      "[15:17:00 - __main__] Saving to file: /path/to/data/MinION_sequencing_data_20200121/guppy_3.2.2_01_21_20_run_01_exec_20200121/sw/fastq_runid_7d0acceaaa1cedac5617dbfac6122f3441e9e66c_0_3.tsv\n",
      "[15:17:00 - __main__] Starting fastq (4 of 386)\n",
      "\t/path/to/data/MinION_sequencing_data_20200121/guppy_3.2.2_01_21_20_run_01_exec_20200121/pass/fastq_runid_7d0acceaaa1cedac5617dbfac6122f3441e9e66c_1_0.fastq\n"
     ]
    },
    {
     "name": "stdout",
     "output_type": "stream",
     "text": [
      "[########################################] | 100% Completed | 59.3s\n"
     ]
    },
    {
     "name": "stderr",
     "output_type": "stream",
     "text": [
      "[15:17:59 - __main__] Saving to file: /path/to/data/MinION_sequencing_data_20200121/guppy_3.2.2_01_21_20_run_01_exec_20200121/sw/fastq_runid_7d0acceaaa1cedac5617dbfac6122f3441e9e66c_1_0.tsv\n",
      "[15:18:00 - __main__] Starting fastq (5 of 386)\n",
      "\t/path/to/data/MinION_sequencing_data_20200121/guppy_3.2.2_01_21_20_run_01_exec_20200121/pass/fastq_runid_7d0acceaaa1cedac5617dbfac6122f3441e9e66c_1_1.fastq\n"
     ]
    },
    {
     "name": "stdout",
     "output_type": "stream",
     "text": [
      "[########################################] | 100% Completed | 44.3s\n"
     ]
    },
    {
     "name": "stderr",
     "output_type": "stream",
     "text": [
      "[15:18:44 - __main__] Saving to file: /path/to/data/MinION_sequencing_data_20200121/guppy_3.2.2_01_21_20_run_01_exec_20200121/sw/fastq_runid_7d0acceaaa1cedac5617dbfac6122f3441e9e66c_1_1.tsv\n",
      "[15:18:44 - __main__] Starting fastq (6 of 386)\n",
      "\t/path/to/data/MinION_sequencing_data_20200121/guppy_3.2.2_01_21_20_run_01_exec_20200121/pass/fastq_runid_7d0acceaaa1cedac5617dbfac6122f3441e9e66c_1_2.fastq\n"
     ]
    },
    {
     "name": "stdout",
     "output_type": "stream",
     "text": [
      "[########################################] | 100% Completed | 17.9s\n"
     ]
    },
    {
     "name": "stderr",
     "output_type": "stream",
     "text": [
      "[15:19:03 - __main__] Saving to file: /path/to/data/MinION_sequencing_data_20200121/guppy_3.2.2_01_21_20_run_01_exec_20200121/sw/fastq_runid_7d0acceaaa1cedac5617dbfac6122f3441e9e66c_1_2.tsv\n",
      "[15:19:03 - __main__] Starting fastq (7 of 386)\n",
      "\t/path/to/data/MinION_sequencing_data_20200121/guppy_3.2.2_01_21_20_run_01_exec_20200121/pass/fastq_runid_7d0acceaaa1cedac5617dbfac6122f3441e9e66c_1_3.fastq\n"
     ]
    },
    {
     "name": "stdout",
     "output_type": "stream",
     "text": [
      "[########################################] | 100% Completed |  7.3s\n"
     ]
    },
    {
     "name": "stderr",
     "output_type": "stream",
     "text": [
      "[15:19:10 - __main__] Saving to file: /path/to/data/MinION_sequencing_data_20200121/guppy_3.2.2_01_21_20_run_01_exec_20200121/sw/fastq_runid_7d0acceaaa1cedac5617dbfac6122f3441e9e66c_1_3.tsv\n",
      "[15:19:10 - __main__] Starting fastq (8 of 386)\n",
      "\t/path/to/data/MinION_sequencing_data_20200121/guppy_3.2.2_01_21_20_run_01_exec_20200121/pass/fastq_runid_7d0acceaaa1cedac5617dbfac6122f3441e9e66c_2_0.fastq\n"
     ]
    },
    {
     "name": "stdout",
     "output_type": "stream",
     "text": [
      "[########################################] | 100% Completed | 24.2s\n"
     ]
    },
    {
     "name": "stderr",
     "output_type": "stream",
     "text": [
      "[15:19:35 - __main__] Saving to file: /path/to/data/MinION_sequencing_data_20200121/guppy_3.2.2_01_21_20_run_01_exec_20200121/sw/fastq_runid_7d0acceaaa1cedac5617dbfac6122f3441e9e66c_2_0.tsv\n",
      "[15:19:35 - __main__] Starting fastq (9 of 386)\n",
      "\t/path/to/data/MinION_sequencing_data_20200121/guppy_3.2.2_01_21_20_run_01_exec_20200121/pass/fastq_runid_7d0acceaaa1cedac5617dbfac6122f3441e9e66c_2_1.fastq\n"
     ]
    },
    {
     "name": "stdout",
     "output_type": "stream",
     "text": [
      "[########################################] | 100% Completed | 35.6s\n"
     ]
    },
    {
     "name": "stderr",
     "output_type": "stream",
     "text": [
      "[15:20:11 - __main__] Saving to file: /path/to/data/MinION_sequencing_data_20200121/guppy_3.2.2_01_21_20_run_01_exec_20200121/sw/fastq_runid_7d0acceaaa1cedac5617dbfac6122f3441e9e66c_2_1.tsv\n",
      "[15:20:11 - __main__] Starting fastq (10 of 386)\n",
      "\t/path/to/data/MinION_sequencing_data_20200121/guppy_3.2.2_01_21_20_run_01_exec_20200121/pass/fastq_runid_7d0acceaaa1cedac5617dbfac6122f3441e9e66c_2_2.fastq\n"
     ]
    },
    {
     "name": "stdout",
     "output_type": "stream",
     "text": [
      "[########################################] | 100% Completed | 15.5s\n"
     ]
    },
    {
     "name": "stderr",
     "output_type": "stream",
     "text": [
      "[15:20:27 - __main__] Saving to file: /path/to/data/MinION_sequencing_data_20200121/guppy_3.2.2_01_21_20_run_01_exec_20200121/sw/fastq_runid_7d0acceaaa1cedac5617dbfac6122f3441e9e66c_2_2.tsv\n",
      "[15:20:27 - __main__] Starting fastq (11 of 386)\n",
      "\t/path/to/data/MinION_sequencing_data_20200121/guppy_3.2.2_01_21_20_run_01_exec_20200121/pass/fastq_runid_7d0acceaaa1cedac5617dbfac6122f3441e9e66c_2_3.fastq\n"
     ]
    },
    {
     "name": "stdout",
     "output_type": "stream",
     "text": [
      "[########################################] | 100% Completed | 55.6s\n"
     ]
    },
    {
     "name": "stderr",
     "output_type": "stream",
     "text": [
      "[15:21:23 - __main__] Saving to file: /path/to/data/MinION_sequencing_data_20200121/guppy_3.2.2_01_21_20_run_01_exec_20200121/sw/fastq_runid_7d0acceaaa1cedac5617dbfac6122f3441e9e66c_2_3.tsv\n",
      "[15:21:23 - __main__] Starting fastq (12 of 386)\n",
      "\t/path/to/data/MinION_sequencing_data_20200121/guppy_3.2.2_01_21_20_run_01_exec_20200121/pass/fastq_runid_7d0acceaaa1cedac5617dbfac6122f3441e9e66c_3_0.fastq\n"
     ]
    },
    {
     "name": "stdout",
     "output_type": "stream",
     "text": [
      "[########################################] | 100% Completed |  1min 25.0s\n"
     ]
    },
    {
     "name": "stderr",
     "output_type": "stream",
     "text": [
      "[15:22:49 - __main__] Saving to file: /path/to/data/MinION_sequencing_data_20200121/guppy_3.2.2_01_21_20_run_01_exec_20200121/sw/fastq_runid_7d0acceaaa1cedac5617dbfac6122f3441e9e66c_3_0.tsv\n",
      "[15:22:49 - __main__] Starting fastq (13 of 386)\n",
      "\t/path/to/data/MinION_sequencing_data_20200121/guppy_3.2.2_01_21_20_run_01_exec_20200121/pass/fastq_runid_7d0acceaaa1cedac5617dbfac6122f3441e9e66c_3_1.fastq\n"
     ]
    },
    {
     "name": "stdout",
     "output_type": "stream",
     "text": [
      "[########################################] | 100% Completed | 26.0s\n"
     ]
    },
    {
     "name": "stderr",
     "output_type": "stream",
     "text": [
      "[15:23:15 - __main__] Saving to file: /path/to/data/MinION_sequencing_data_20200121/guppy_3.2.2_01_21_20_run_01_exec_20200121/sw/fastq_runid_7d0acceaaa1cedac5617dbfac6122f3441e9e66c_3_1.tsv\n",
      "[15:23:15 - __main__] Starting fastq (14 of 386)\n",
      "\t/path/to/data/MinION_sequencing_data_20200121/guppy_3.2.2_01_21_20_run_01_exec_20200121/pass/fastq_runid_7d0acceaaa1cedac5617dbfac6122f3441e9e66c_3_2.fastq\n"
     ]
    },
    {
     "name": "stdout",
     "output_type": "stream",
     "text": [
      "[########################################] | 100% Completed | 22.2s\n"
     ]
    },
    {
     "name": "stderr",
     "output_type": "stream",
     "text": [
      "[15:23:38 - __main__] Saving to file: /path/to/data/MinION_sequencing_data_20200121/guppy_3.2.2_01_21_20_run_01_exec_20200121/sw/fastq_runid_7d0acceaaa1cedac5617dbfac6122f3441e9e66c_3_2.tsv\n",
      "[15:23:38 - __main__] Starting fastq (15 of 386)\n",
      "\t/path/to/data/MinION_sequencing_data_20200121/guppy_3.2.2_01_21_20_run_01_exec_20200121/pass/fastq_runid_7d0acceaaa1cedac5617dbfac6122f3441e9e66c_4_0.fastq\n"
     ]
    },
    {
     "name": "stdout",
     "output_type": "stream",
     "text": [
      "[########################################] | 100% Completed | 59.4s\n"
     ]
    },
    {
     "name": "stderr",
     "output_type": "stream",
     "text": [
      "[15:24:38 - __main__] Saving to file: /path/to/data/MinION_sequencing_data_20200121/guppy_3.2.2_01_21_20_run_01_exec_20200121/sw/fastq_runid_7d0acceaaa1cedac5617dbfac6122f3441e9e66c_4_0.tsv\n",
      "[15:24:38 - __main__] Starting fastq (16 of 386)\n",
      "\t/path/to/data/MinION_sequencing_data_20200121/guppy_3.2.2_01_21_20_run_01_exec_20200121/pass/fastq_runid_7d0acceaaa1cedac5617dbfac6122f3441e9e66c_4_1.fastq\n"
     ]
    },
    {
     "name": "stdout",
     "output_type": "stream",
     "text": [
      "[########################################] | 100% Completed | 41.1s\n"
     ]
    },
    {
     "name": "stderr",
     "output_type": "stream",
     "text": [
      "[15:25:20 - __main__] Saving to file: /path/to/data/MinION_sequencing_data_20200121/guppy_3.2.2_01_21_20_run_01_exec_20200121/sw/fastq_runid_7d0acceaaa1cedac5617dbfac6122f3441e9e66c_4_1.tsv\n",
      "[15:25:20 - __main__] Starting fastq (17 of 386)\n",
      "\t/path/to/data/MinION_sequencing_data_20200121/guppy_3.2.2_01_21_20_run_01_exec_20200121/pass/fastq_runid_7d0acceaaa1cedac5617dbfac6122f3441e9e66c_4_2.fastq\n"
     ]
    },
    {
     "name": "stdout",
     "output_type": "stream",
     "text": [
      "[########################################] | 100% Completed | 33.0s\n"
     ]
    },
    {
     "name": "stderr",
     "output_type": "stream",
     "text": [
      "[15:25:53 - __main__] Saving to file: /path/to/data/MinION_sequencing_data_20200121/guppy_3.2.2_01_21_20_run_01_exec_20200121/sw/fastq_runid_7d0acceaaa1cedac5617dbfac6122f3441e9e66c_4_2.tsv\n",
      "[15:25:53 - __main__] Starting fastq (18 of 386)\n",
      "\t/path/to/data/MinION_sequencing_data_20200121/guppy_3.2.2_01_21_20_run_01_exec_20200121/pass/fastq_runid_7d0acceaaa1cedac5617dbfac6122f3441e9e66c_3_3.fastq\n"
     ]
    },
    {
     "name": "stdout",
     "output_type": "stream",
     "text": [
      "[########################################] | 100% Completed |  2.6s\n"
     ]
    },
    {
     "name": "stderr",
     "output_type": "stream",
     "text": [
      "[15:25:56 - __main__] Saving to file: /path/to/data/MinION_sequencing_data_20200121/guppy_3.2.2_01_21_20_run_01_exec_20200121/sw/fastq_runid_7d0acceaaa1cedac5617dbfac6122f3441e9e66c_3_3.tsv\n",
      "[15:25:56 - __main__] Starting fastq (19 of 386)\n",
      "\t/path/to/data/MinION_sequencing_data_20200121/guppy_3.2.2_01_21_20_run_01_exec_20200121/pass/fastq_runid_7d0acceaaa1cedac5617dbfac6122f3441e9e66c_5_0.fastq\n"
     ]
    },
    {
     "name": "stdout",
     "output_type": "stream",
     "text": [
      "[########################################] | 100% Completed | 56.1s\n"
     ]
    },
    {
     "name": "stderr",
     "output_type": "stream",
     "text": [
      "[15:26:53 - __main__] Saving to file: /path/to/data/MinION_sequencing_data_20200121/guppy_3.2.2_01_21_20_run_01_exec_20200121/sw/fastq_runid_7d0acceaaa1cedac5617dbfac6122f3441e9e66c_5_0.tsv\n",
      "[15:26:53 - __main__] Starting fastq (20 of 386)\n",
      "\t/path/to/data/MinION_sequencing_data_20200121/guppy_3.2.2_01_21_20_run_01_exec_20200121/pass/fastq_runid_7d0acceaaa1cedac5617dbfac6122f3441e9e66c_5_1.fastq\n"
     ]
    },
    {
     "name": "stdout",
     "output_type": "stream",
     "text": [
      "[########################################] | 100% Completed |  8.3s\n"
     ]
    },
    {
     "name": "stderr",
     "output_type": "stream",
     "text": [
      "[15:27:02 - __main__] Saving to file: /path/to/data/MinION_sequencing_data_20200121/guppy_3.2.2_01_21_20_run_01_exec_20200121/sw/fastq_runid_7d0acceaaa1cedac5617dbfac6122f3441e9e66c_5_1.tsv\n",
      "[15:27:02 - __main__] Starting fastq (21 of 386)\n",
      "\t/path/to/data/MinION_sequencing_data_20200121/guppy_3.2.2_01_21_20_run_01_exec_20200121/pass/fastq_runid_7d0acceaaa1cedac5617dbfac6122f3441e9e66c_5_2.fastq\n"
     ]
    },
    {
     "name": "stdout",
     "output_type": "stream",
     "text": [
      "[########################################] | 100% Completed |  1min  9.4s\n"
     ]
    },
    {
     "name": "stderr",
     "output_type": "stream",
     "text": [
      "[15:28:11 - __main__] Saving to file: /path/to/data/MinION_sequencing_data_20200121/guppy_3.2.2_01_21_20_run_01_exec_20200121/sw/fastq_runid_7d0acceaaa1cedac5617dbfac6122f3441e9e66c_5_2.tsv\n",
      "[15:28:12 - __main__] Starting fastq (22 of 386)\n",
      "\t/path/to/data/MinION_sequencing_data_20200121/guppy_3.2.2_01_21_20_run_01_exec_20200121/pass/fastq_runid_7d0acceaaa1cedac5617dbfac6122f3441e9e66c_6_0.fastq\n"
     ]
    },
    {
     "name": "stdout",
     "output_type": "stream",
     "text": [
      "[########################################] | 100% Completed | 39.1s\n"
     ]
    },
    {
     "name": "stderr",
     "output_type": "stream",
     "text": [
      "[15:28:51 - __main__] Saving to file: /path/to/data/MinION_sequencing_data_20200121/guppy_3.2.2_01_21_20_run_01_exec_20200121/sw/fastq_runid_7d0acceaaa1cedac5617dbfac6122f3441e9e66c_6_0.tsv\n",
      "[15:28:51 - __main__] Starting fastq (23 of 386)\n",
      "\t/path/to/data/MinION_sequencing_data_20200121/guppy_3.2.2_01_21_20_run_01_exec_20200121/pass/fastq_runid_7d0acceaaa1cedac5617dbfac6122f3441e9e66c_4_3.fastq\n"
     ]
    },
    {
     "name": "stdout",
     "output_type": "stream",
     "text": [
      "[########################################] | 100% Completed |  1.5s\n"
     ]
    },
    {
     "name": "stderr",
     "output_type": "stream",
     "text": [
      "[15:28:53 - __main__] Saving to file: /path/to/data/MinION_sequencing_data_20200121/guppy_3.2.2_01_21_20_run_01_exec_20200121/sw/fastq_runid_7d0acceaaa1cedac5617dbfac6122f3441e9e66c_4_3.tsv\n",
      "[15:28:53 - __main__] Starting fastq (24 of 386)\n",
      "\t/path/to/data/MinION_sequencing_data_20200121/guppy_3.2.2_01_21_20_run_01_exec_20200121/pass/fastq_runid_7d0acceaaa1cedac5617dbfac6122f3441e9e66c_5_3.fastq\n"
     ]
    },
    {
     "name": "stdout",
     "output_type": "stream",
     "text": [
      "[########################################] | 100% Completed |  1.0s\n"
     ]
    },
    {
     "name": "stderr",
     "output_type": "stream",
     "text": [
      "[15:28:54 - __main__] Saving to file: /path/to/data/MinION_sequencing_data_20200121/guppy_3.2.2_01_21_20_run_01_exec_20200121/sw/fastq_runid_7d0acceaaa1cedac5617dbfac6122f3441e9e66c_5_3.tsv\n",
      "[15:28:55 - __main__] Starting fastq (25 of 386)\n",
      "\t/path/to/data/MinION_sequencing_data_20200121/guppy_3.2.2_01_21_20_run_01_exec_20200121/pass/fastq_runid_7d0acceaaa1cedac5617dbfac6122f3441e9e66c_6_1.fastq\n"
     ]
    },
    {
     "name": "stdout",
     "output_type": "stream",
     "text": [
      "[########################################] | 100% Completed | 44.2s\n"
     ]
    },
    {
     "name": "stderr",
     "output_type": "stream",
     "text": [
      "[15:29:39 - __main__] Saving to file: /path/to/data/MinION_sequencing_data_20200121/guppy_3.2.2_01_21_20_run_01_exec_20200121/sw/fastq_runid_7d0acceaaa1cedac5617dbfac6122f3441e9e66c_6_1.tsv\n",
      "[15:29:39 - __main__] Starting fastq (26 of 386)\n",
      "\t/path/to/data/MinION_sequencing_data_20200121/guppy_3.2.2_01_21_20_run_01_exec_20200121/pass/fastq_runid_7d0acceaaa1cedac5617dbfac6122f3441e9e66c_6_2.fastq\n"
     ]
    },
    {
     "name": "stdout",
     "output_type": "stream",
     "text": [
      "[########################################] | 100% Completed | 26.6s\n"
     ]
    },
    {
     "name": "stderr",
     "output_type": "stream",
     "text": [
      "[15:30:06 - __main__] Saving to file: /path/to/data/MinION_sequencing_data_20200121/guppy_3.2.2_01_21_20_run_01_exec_20200121/sw/fastq_runid_7d0acceaaa1cedac5617dbfac6122f3441e9e66c_6_2.tsv\n",
      "[15:30:06 - __main__] Starting fastq (27 of 386)\n",
      "\t/path/to/data/MinION_sequencing_data_20200121/guppy_3.2.2_01_21_20_run_01_exec_20200121/pass/fastq_runid_7d0acceaaa1cedac5617dbfac6122f3441e9e66c_7_0.fastq\n"
     ]
    },
    {
     "name": "stdout",
     "output_type": "stream",
     "text": [
      "[########################################] | 100% Completed | 36.2s\n"
     ]
    },
    {
     "name": "stderr",
     "output_type": "stream",
     "text": [
      "[15:30:43 - __main__] Saving to file: /path/to/data/MinION_sequencing_data_20200121/guppy_3.2.2_01_21_20_run_01_exec_20200121/sw/fastq_runid_7d0acceaaa1cedac5617dbfac6122f3441e9e66c_7_0.tsv\n",
      "[15:30:43 - __main__] Starting fastq (28 of 386)\n",
      "\t/path/to/data/MinION_sequencing_data_20200121/guppy_3.2.2_01_21_20_run_01_exec_20200121/pass/fastq_runid_7d0acceaaa1cedac5617dbfac6122f3441e9e66c_7_1.fastq\n"
     ]
    },
    {
     "name": "stdout",
     "output_type": "stream",
     "text": [
      "[########################################] | 100% Completed | 33.8s\n"
     ]
    },
    {
     "name": "stderr",
     "output_type": "stream",
     "text": [
      "[15:31:17 - __main__] Saving to file: /path/to/data/MinION_sequencing_data_20200121/guppy_3.2.2_01_21_20_run_01_exec_20200121/sw/fastq_runid_7d0acceaaa1cedac5617dbfac6122f3441e9e66c_7_1.tsv\n",
      "[15:31:17 - __main__] Starting fastq (29 of 386)\n",
      "\t/path/to/data/MinION_sequencing_data_20200121/guppy_3.2.2_01_21_20_run_01_exec_20200121/pass/fastq_runid_7d0acceaaa1cedac5617dbfac6122f3441e9e66c_7_2.fastq\n"
     ]
    },
    {
     "name": "stdout",
     "output_type": "stream",
     "text": [
      "[########################################] | 100% Completed | 51.9s\n"
     ]
    },
    {
     "name": "stderr",
     "output_type": "stream",
     "text": [
      "[15:32:10 - __main__] Saving to file: /path/to/data/MinION_sequencing_data_20200121/guppy_3.2.2_01_21_20_run_01_exec_20200121/sw/fastq_runid_7d0acceaaa1cedac5617dbfac6122f3441e9e66c_7_2.tsv\n",
      "[15:32:10 - __main__] Starting fastq (30 of 386)\n",
      "\t/path/to/data/MinION_sequencing_data_20200121/guppy_3.2.2_01_21_20_run_01_exec_20200121/pass/fastq_runid_7d0acceaaa1cedac5617dbfac6122f3441e9e66c_6_3.fastq\n"
     ]
    },
    {
     "name": "stdout",
     "output_type": "stream",
     "text": [
      "[########################################] | 100% Completed | 23.6s\n"
     ]
    },
    {
     "name": "stderr",
     "output_type": "stream",
     "text": [
      "[15:32:34 - __main__] Saving to file: /path/to/data/MinION_sequencing_data_20200121/guppy_3.2.2_01_21_20_run_01_exec_20200121/sw/fastq_runid_7d0acceaaa1cedac5617dbfac6122f3441e9e66c_6_3.tsv\n",
      "[15:32:34 - __main__] Starting fastq (31 of 386)\n",
      "\t/path/to/data/MinION_sequencing_data_20200121/guppy_3.2.2_01_21_20_run_01_exec_20200121/pass/fastq_runid_7d0acceaaa1cedac5617dbfac6122f3441e9e66c_8_0.fastq\n"
     ]
    },
    {
     "name": "stdout",
     "output_type": "stream",
     "text": [
      "[########################################] | 100% Completed | 56.7s\n"
     ]
    },
    {
     "name": "stderr",
     "output_type": "stream",
     "text": [
      "[15:33:31 - __main__] Saving to file: /path/to/data/MinION_sequencing_data_20200121/guppy_3.2.2_01_21_20_run_01_exec_20200121/sw/fastq_runid_7d0acceaaa1cedac5617dbfac6122f3441e9e66c_8_0.tsv\n",
      "[15:33:31 - __main__] Starting fastq (32 of 386)\n",
      "\t/path/to/data/MinION_sequencing_data_20200121/guppy_3.2.2_01_21_20_run_01_exec_20200121/pass/fastq_runid_7d0acceaaa1cedac5617dbfac6122f3441e9e66c_7_3.fastq\n"
     ]
    },
    {
     "name": "stdout",
     "output_type": "stream",
     "text": [
      "[########################################] | 100% Completed | 10.6s\n"
     ]
    },
    {
     "name": "stderr",
     "output_type": "stream",
     "text": [
      "[15:33:42 - __main__] Saving to file: /path/to/data/MinION_sequencing_data_20200121/guppy_3.2.2_01_21_20_run_01_exec_20200121/sw/fastq_runid_7d0acceaaa1cedac5617dbfac6122f3441e9e66c_7_3.tsv\n",
      "[15:33:42 - __main__] Starting fastq (33 of 386)\n",
      "\t/path/to/data/MinION_sequencing_data_20200121/guppy_3.2.2_01_21_20_run_01_exec_20200121/pass/fastq_runid_7d0acceaaa1cedac5617dbfac6122f3441e9e66c_8_1.fastq\n"
     ]
    },
    {
     "name": "stdout",
     "output_type": "stream",
     "text": [
      "[########################################] | 100% Completed | 49.7s\n"
     ]
    },
    {
     "name": "stderr",
     "output_type": "stream",
     "text": [
      "[15:34:32 - __main__] Saving to file: /path/to/data/MinION_sequencing_data_20200121/guppy_3.2.2_01_21_20_run_01_exec_20200121/sw/fastq_runid_7d0acceaaa1cedac5617dbfac6122f3441e9e66c_8_1.tsv\n",
      "[15:34:32 - __main__] Starting fastq (34 of 386)\n",
      "\t/path/to/data/MinION_sequencing_data_20200121/guppy_3.2.2_01_21_20_run_01_exec_20200121/pass/fastq_runid_7d0acceaaa1cedac5617dbfac6122f3441e9e66c_8_2.fastq\n"
     ]
    },
    {
     "name": "stdout",
     "output_type": "stream",
     "text": [
      "[########################################] | 100% Completed | 19.1s\n"
     ]
    },
    {
     "name": "stderr",
     "output_type": "stream",
     "text": [
      "[15:34:52 - __main__] Saving to file: /path/to/data/MinION_sequencing_data_20200121/guppy_3.2.2_01_21_20_run_01_exec_20200121/sw/fastq_runid_7d0acceaaa1cedac5617dbfac6122f3441e9e66c_8_2.tsv\n",
      "[15:34:52 - __main__] Starting fastq (35 of 386)\n",
      "\t/path/to/data/MinION_sequencing_data_20200121/guppy_3.2.2_01_21_20_run_01_exec_20200121/pass/fastq_runid_7d0acceaaa1cedac5617dbfac6122f3441e9e66c_8_3.fastq\n"
     ]
    },
    {
     "name": "stdout",
     "output_type": "stream",
     "text": [
      "[########################################] | 100% Completed |  8.5s\n"
     ]
    },
    {
     "name": "stderr",
     "output_type": "stream",
     "text": [
      "[15:35:01 - __main__] Saving to file: /path/to/data/MinION_sequencing_data_20200121/guppy_3.2.2_01_21_20_run_01_exec_20200121/sw/fastq_runid_7d0acceaaa1cedac5617dbfac6122f3441e9e66c_8_3.tsv\n",
      "[15:35:01 - __main__] Starting fastq (36 of 386)\n",
      "\t/path/to/data/MinION_sequencing_data_20200121/guppy_3.2.2_01_21_20_run_01_exec_20200121/pass/fastq_runid_7d0acceaaa1cedac5617dbfac6122f3441e9e66c_9_0.fastq\n"
     ]
    },
    {
     "name": "stdout",
     "output_type": "stream",
     "text": [
      "[########################################] | 100% Completed | 45.1s\n"
     ]
    },
    {
     "name": "stderr",
     "output_type": "stream",
     "text": [
      "[15:35:46 - __main__] Saving to file: /path/to/data/MinION_sequencing_data_20200121/guppy_3.2.2_01_21_20_run_01_exec_20200121/sw/fastq_runid_7d0acceaaa1cedac5617dbfac6122f3441e9e66c_9_0.tsv\n",
      "[15:35:46 - __main__] Starting fastq (37 of 386)\n",
      "\t/path/to/data/MinION_sequencing_data_20200121/guppy_3.2.2_01_21_20_run_01_exec_20200121/pass/fastq_runid_7d0acceaaa1cedac5617dbfac6122f3441e9e66c_9_1.fastq\n"
     ]
    },
    {
     "name": "stdout",
     "output_type": "stream",
     "text": [
      "[########################################] | 100% Completed | 24.9s\n"
     ]
    },
    {
     "name": "stderr",
     "output_type": "stream",
     "text": [
      "[15:36:12 - __main__] Saving to file: /path/to/data/MinION_sequencing_data_20200121/guppy_3.2.2_01_21_20_run_01_exec_20200121/sw/fastq_runid_7d0acceaaa1cedac5617dbfac6122f3441e9e66c_9_1.tsv\n",
      "[15:36:12 - __main__] Starting fastq (38 of 386)\n",
      "\t/path/to/data/MinION_sequencing_data_20200121/guppy_3.2.2_01_21_20_run_01_exec_20200121/pass/fastq_runid_7d0acceaaa1cedac5617dbfac6122f3441e9e66c_9_2.fastq\n"
     ]
    },
    {
     "name": "stdout",
     "output_type": "stream",
     "text": [
      "[########################################] | 100% Completed | 36.5s\n"
     ]
    },
    {
     "name": "stderr",
     "output_type": "stream",
     "text": [
      "[15:36:49 - __main__] Saving to file: /path/to/data/MinION_sequencing_data_20200121/guppy_3.2.2_01_21_20_run_01_exec_20200121/sw/fastq_runid_7d0acceaaa1cedac5617dbfac6122f3441e9e66c_9_2.tsv\n",
      "[15:36:49 - __main__] Starting fastq (39 of 386)\n",
      "\t/path/to/data/MinION_sequencing_data_20200121/guppy_3.2.2_01_21_20_run_01_exec_20200121/pass/fastq_runid_7d0acceaaa1cedac5617dbfac6122f3441e9e66c_9_3.fastq\n"
     ]
    },
    {
     "name": "stdout",
     "output_type": "stream",
     "text": [
      "[########################################] | 100% Completed | 27.6s\n"
     ]
    },
    {
     "name": "stderr",
     "output_type": "stream",
     "text": [
      "[15:37:17 - __main__] Saving to file: /path/to/data/MinION_sequencing_data_20200121/guppy_3.2.2_01_21_20_run_01_exec_20200121/sw/fastq_runid_7d0acceaaa1cedac5617dbfac6122f3441e9e66c_9_3.tsv\n",
      "[15:37:17 - __main__] Starting fastq (40 of 386)\n",
      "\t/path/to/data/MinION_sequencing_data_20200121/guppy_3.2.2_01_21_20_run_01_exec_20200121/pass/fastq_runid_7d0acceaaa1cedac5617dbfac6122f3441e9e66c_10_0.fastq\n"
     ]
    },
    {
     "name": "stdout",
     "output_type": "stream",
     "text": [
      "[########################################] | 100% Completed | 47.1s\n"
     ]
    },
    {
     "name": "stderr",
     "output_type": "stream",
     "text": [
      "[15:38:04 - __main__] Saving to file: /path/to/data/MinION_sequencing_data_20200121/guppy_3.2.2_01_21_20_run_01_exec_20200121/sw/fastq_runid_7d0acceaaa1cedac5617dbfac6122f3441e9e66c_10_0.tsv\n",
      "[15:38:05 - __main__] Starting fastq (41 of 386)\n",
      "\t/path/to/data/MinION_sequencing_data_20200121/guppy_3.2.2_01_21_20_run_01_exec_20200121/pass/fastq_runid_7d0acceaaa1cedac5617dbfac6122f3441e9e66c_10_1.fastq\n"
     ]
    },
    {
     "name": "stdout",
     "output_type": "stream",
     "text": [
      "[########################################] | 100% Completed | 51.7s\n"
     ]
    },
    {
     "name": "stderr",
     "output_type": "stream",
     "text": [
      "[15:38:57 - __main__] Saving to file: /path/to/data/MinION_sequencing_data_20200121/guppy_3.2.2_01_21_20_run_01_exec_20200121/sw/fastq_runid_7d0acceaaa1cedac5617dbfac6122f3441e9e66c_10_1.tsv\n",
      "[15:38:57 - __main__] Starting fastq (42 of 386)\n",
      "\t/path/to/data/MinION_sequencing_data_20200121/guppy_3.2.2_01_21_20_run_01_exec_20200121/pass/fastq_runid_7d0acceaaa1cedac5617dbfac6122f3441e9e66c_10_2.fastq\n"
     ]
    },
    {
     "name": "stdout",
     "output_type": "stream",
     "text": [
      "[########################################] | 100% Completed | 15.4s\n"
     ]
    },
    {
     "name": "stderr",
     "output_type": "stream",
     "text": [
      "[15:39:13 - __main__] Saving to file: /path/to/data/MinION_sequencing_data_20200121/guppy_3.2.2_01_21_20_run_01_exec_20200121/sw/fastq_runid_7d0acceaaa1cedac5617dbfac6122f3441e9e66c_10_2.tsv\n",
      "[15:39:13 - __main__] Starting fastq (43 of 386)\n",
      "\t/path/to/data/MinION_sequencing_data_20200121/guppy_3.2.2_01_21_20_run_01_exec_20200121/pass/fastq_runid_7d0acceaaa1cedac5617dbfac6122f3441e9e66c_11_0.fastq\n"
     ]
    },
    {
     "name": "stdout",
     "output_type": "stream",
     "text": [
      "[########################################] | 100% Completed |  1min 33.3s\n"
     ]
    },
    {
     "name": "stderr",
     "output_type": "stream",
     "text": [
      "[15:40:46 - __main__] Saving to file: /path/to/data/MinION_sequencing_data_20200121/guppy_3.2.2_01_21_20_run_01_exec_20200121/sw/fastq_runid_7d0acceaaa1cedac5617dbfac6122f3441e9e66c_11_0.tsv\n",
      "[15:40:47 - __main__] Starting fastq (44 of 386)\n",
      "\t/path/to/data/MinION_sequencing_data_20200121/guppy_3.2.2_01_21_20_run_01_exec_20200121/pass/fastq_runid_7d0acceaaa1cedac5617dbfac6122f3441e9e66c_10_3.fastq\n"
     ]
    },
    {
     "name": "stdout",
     "output_type": "stream",
     "text": [
      "[########################################] | 100% Completed | 17.9s\n"
     ]
    },
    {
     "name": "stderr",
     "output_type": "stream",
     "text": [
      "[15:41:05 - __main__] Saving to file: /path/to/data/MinION_sequencing_data_20200121/guppy_3.2.2_01_21_20_run_01_exec_20200121/sw/fastq_runid_7d0acceaaa1cedac5617dbfac6122f3441e9e66c_10_3.tsv\n",
      "[15:41:05 - __main__] Starting fastq (45 of 386)\n",
      "\t/path/to/data/MinION_sequencing_data_20200121/guppy_3.2.2_01_21_20_run_01_exec_20200121/pass/fastq_runid_7d0acceaaa1cedac5617dbfac6122f3441e9e66c_11_1.fastq\n"
     ]
    },
    {
     "name": "stdout",
     "output_type": "stream",
     "text": [
      "[########################################] | 100% Completed | 22.8s\n"
     ]
    },
    {
     "name": "stderr",
     "output_type": "stream",
     "text": [
      "[15:41:28 - __main__] Saving to file: /path/to/data/MinION_sequencing_data_20200121/guppy_3.2.2_01_21_20_run_01_exec_20200121/sw/fastq_runid_7d0acceaaa1cedac5617dbfac6122f3441e9e66c_11_1.tsv\n",
      "[15:41:28 - __main__] Starting fastq (46 of 386)\n",
      "\t/path/to/data/MinION_sequencing_data_20200121/guppy_3.2.2_01_21_20_run_01_exec_20200121/pass/fastq_runid_7d0acceaaa1cedac5617dbfac6122f3441e9e66c_11_2.fastq\n"
     ]
    },
    {
     "name": "stdout",
     "output_type": "stream",
     "text": [
      "[########################################] | 100% Completed | 12.5s\n"
     ]
    },
    {
     "name": "stderr",
     "output_type": "stream",
     "text": [
      "[15:41:41 - __main__] Saving to file: /path/to/data/MinION_sequencing_data_20200121/guppy_3.2.2_01_21_20_run_01_exec_20200121/sw/fastq_runid_7d0acceaaa1cedac5617dbfac6122f3441e9e66c_11_2.tsv\n",
      "[15:41:41 - __main__] Starting fastq (47 of 386)\n",
      "\t/path/to/data/MinION_sequencing_data_20200121/guppy_3.2.2_01_21_20_run_01_exec_20200121/pass/fastq_runid_7d0acceaaa1cedac5617dbfac6122f3441e9e66c_12_0.fastq\n"
     ]
    },
    {
     "name": "stdout",
     "output_type": "stream",
     "text": [
      "[########################################] | 100% Completed | 47.3s\n"
     ]
    },
    {
     "name": "stderr",
     "output_type": "stream",
     "text": [
      "[15:42:29 - __main__] Saving to file: /path/to/data/MinION_sequencing_data_20200121/guppy_3.2.2_01_21_20_run_01_exec_20200121/sw/fastq_runid_7d0acceaaa1cedac5617dbfac6122f3441e9e66c_12_0.tsv\n",
      "[15:42:29 - __main__] Starting fastq (48 of 386)\n",
      "\t/path/to/data/MinION_sequencing_data_20200121/guppy_3.2.2_01_21_20_run_01_exec_20200121/pass/fastq_runid_7d0acceaaa1cedac5617dbfac6122f3441e9e66c_12_1.fastq\n"
     ]
    },
    {
     "name": "stdout",
     "output_type": "stream",
     "text": [
      "[########################################] | 100% Completed | 28.7s\n"
     ]
    },
    {
     "name": "stderr",
     "output_type": "stream",
     "text": [
      "[15:42:58 - __main__] Saving to file: /path/to/data/MinION_sequencing_data_20200121/guppy_3.2.2_01_21_20_run_01_exec_20200121/sw/fastq_runid_7d0acceaaa1cedac5617dbfac6122f3441e9e66c_12_1.tsv\n",
      "[15:42:58 - __main__] Starting fastq (49 of 386)\n",
      "\t/path/to/data/MinION_sequencing_data_20200121/guppy_3.2.2_01_21_20_run_01_exec_20200121/pass/fastq_runid_7d0acceaaa1cedac5617dbfac6122f3441e9e66c_11_3.fastq\n"
     ]
    },
    {
     "name": "stdout",
     "output_type": "stream",
     "text": [
      "[########################################] | 100% Completed |  1.0s\n"
     ]
    },
    {
     "name": "stderr",
     "output_type": "stream",
     "text": [
      "[15:43:00 - __main__] Saving to file: /path/to/data/MinION_sequencing_data_20200121/guppy_3.2.2_01_21_20_run_01_exec_20200121/sw/fastq_runid_7d0acceaaa1cedac5617dbfac6122f3441e9e66c_11_3.tsv\n",
      "[15:43:00 - __main__] Starting fastq (50 of 386)\n",
      "\t/path/to/data/MinION_sequencing_data_20200121/guppy_3.2.2_01_21_20_run_01_exec_20200121/pass/fastq_runid_7d0acceaaa1cedac5617dbfac6122f3441e9e66c_12_2.fastq\n"
     ]
    },
    {
     "name": "stdout",
     "output_type": "stream",
     "text": [
      "[########################################] | 100% Completed | 54.0s\n"
     ]
    },
    {
     "name": "stderr",
     "output_type": "stream",
     "text": [
      "[15:43:54 - __main__] Saving to file: /path/to/data/MinION_sequencing_data_20200121/guppy_3.2.2_01_21_20_run_01_exec_20200121/sw/fastq_runid_7d0acceaaa1cedac5617dbfac6122f3441e9e66c_12_2.tsv\n",
      "[15:43:54 - __main__] Starting fastq (51 of 386)\n",
      "\t/path/to/data/MinION_sequencing_data_20200121/guppy_3.2.2_01_21_20_run_01_exec_20200121/pass/fastq_runid_7d0acceaaa1cedac5617dbfac6122f3441e9e66c_13_0.fastq\n"
     ]
    },
    {
     "name": "stdout",
     "output_type": "stream",
     "text": [
      "[########################################] | 100% Completed | 32.8s\n"
     ]
    },
    {
     "name": "stderr",
     "output_type": "stream",
     "text": [
      "[15:44:28 - __main__] Saving to file: /path/to/data/MinION_sequencing_data_20200121/guppy_3.2.2_01_21_20_run_01_exec_20200121/sw/fastq_runid_7d0acceaaa1cedac5617dbfac6122f3441e9e66c_13_0.tsv\n",
      "[15:44:28 - __main__] Starting fastq (52 of 386)\n",
      "\t/path/to/data/MinION_sequencing_data_20200121/guppy_3.2.2_01_21_20_run_01_exec_20200121/pass/fastq_runid_7d0acceaaa1cedac5617dbfac6122f3441e9e66c_13_1.fastq\n"
     ]
    },
    {
     "name": "stdout",
     "output_type": "stream",
     "text": [
      "[########################################] | 100% Completed |  1min  8.3s\n"
     ]
    },
    {
     "name": "stderr",
     "output_type": "stream",
     "text": [
      "[15:45:36 - __main__] Saving to file: /path/to/data/MinION_sequencing_data_20200121/guppy_3.2.2_01_21_20_run_01_exec_20200121/sw/fastq_runid_7d0acceaaa1cedac5617dbfac6122f3441e9e66c_13_1.tsv\n",
      "[15:45:37 - __main__] Starting fastq (53 of 386)\n",
      "\t/path/to/data/MinION_sequencing_data_20200121/guppy_3.2.2_01_21_20_run_01_exec_20200121/pass/fastq_runid_7d0acceaaa1cedac5617dbfac6122f3441e9e66c_12_3.fastq\n"
     ]
    },
    {
     "name": "stdout",
     "output_type": "stream",
     "text": [
      "[########################################] | 100% Completed |  1.0s\n"
     ]
    },
    {
     "name": "stderr",
     "output_type": "stream",
     "text": [
      "[15:45:38 - __main__] Saving to file: /path/to/data/MinION_sequencing_data_20200121/guppy_3.2.2_01_21_20_run_01_exec_20200121/sw/fastq_runid_7d0acceaaa1cedac5617dbfac6122f3441e9e66c_12_3.tsv\n",
      "[15:45:38 - __main__] Starting fastq (54 of 386)\n",
      "\t/path/to/data/MinION_sequencing_data_20200121/guppy_3.2.2_01_21_20_run_01_exec_20200121/pass/fastq_runid_7d0acceaaa1cedac5617dbfac6122f3441e9e66c_13_2.fastq\n"
     ]
    },
    {
     "name": "stdout",
     "output_type": "stream",
     "text": [
      "[########################################] | 100% Completed | 24.4s\n"
     ]
    },
    {
     "name": "stderr",
     "output_type": "stream",
     "text": [
      "[15:46:03 - __main__] Saving to file: /path/to/data/MinION_sequencing_data_20200121/guppy_3.2.2_01_21_20_run_01_exec_20200121/sw/fastq_runid_7d0acceaaa1cedac5617dbfac6122f3441e9e66c_13_2.tsv\n",
      "[15:46:03 - __main__] Starting fastq (55 of 386)\n",
      "\t/path/to/data/MinION_sequencing_data_20200121/guppy_3.2.2_01_21_20_run_01_exec_20200121/pass/fastq_runid_7d0acceaaa1cedac5617dbfac6122f3441e9e66c_13_3.fastq\n"
     ]
    },
    {
     "name": "stdout",
     "output_type": "stream",
     "text": [
      "[########################################] | 100% Completed | 10.8s\n"
     ]
    },
    {
     "name": "stderr",
     "output_type": "stream",
     "text": [
      "[15:46:14 - __main__] Saving to file: /path/to/data/MinION_sequencing_data_20200121/guppy_3.2.2_01_21_20_run_01_exec_20200121/sw/fastq_runid_7d0acceaaa1cedac5617dbfac6122f3441e9e66c_13_3.tsv\n",
      "[15:46:14 - __main__] Starting fastq (56 of 386)\n",
      "\t/path/to/data/MinION_sequencing_data_20200121/guppy_3.2.2_01_21_20_run_01_exec_20200121/pass/fastq_runid_7d0acceaaa1cedac5617dbfac6122f3441e9e66c_14_0.fastq\n"
     ]
    },
    {
     "name": "stdout",
     "output_type": "stream",
     "text": [
      "[########################################] | 100% Completed | 21.7s\n"
     ]
    },
    {
     "name": "stderr",
     "output_type": "stream",
     "text": [
      "[15:46:36 - __main__] Saving to file: /path/to/data/MinION_sequencing_data_20200121/guppy_3.2.2_01_21_20_run_01_exec_20200121/sw/fastq_runid_7d0acceaaa1cedac5617dbfac6122f3441e9e66c_14_0.tsv\n",
      "[15:46:36 - __main__] Starting fastq (57 of 386)\n",
      "\t/path/to/data/MinION_sequencing_data_20200121/guppy_3.2.2_01_21_20_run_01_exec_20200121/pass/fastq_runid_7d0acceaaa1cedac5617dbfac6122f3441e9e66c_14_1.fastq\n"
     ]
    },
    {
     "name": "stdout",
     "output_type": "stream",
     "text": [
      "[########################################] | 100% Completed | 20.2s\n"
     ]
    },
    {
     "name": "stderr",
     "output_type": "stream",
     "text": [
      "[15:46:57 - __main__] Saving to file: /path/to/data/MinION_sequencing_data_20200121/guppy_3.2.2_01_21_20_run_01_exec_20200121/sw/fastq_runid_7d0acceaaa1cedac5617dbfac6122f3441e9e66c_14_1.tsv\n",
      "[15:46:57 - __main__] Starting fastq (58 of 386)\n",
      "\t/path/to/data/MinION_sequencing_data_20200121/guppy_3.2.2_01_21_20_run_01_exec_20200121/pass/fastq_runid_7d0acceaaa1cedac5617dbfac6122f3441e9e66c_14_2.fastq\n"
     ]
    },
    {
     "name": "stdout",
     "output_type": "stream",
     "text": [
      "[########################################] | 100% Completed | 57.2s\n"
     ]
    },
    {
     "name": "stderr",
     "output_type": "stream",
     "text": [
      "[15:47:55 - __main__] Saving to file: /path/to/data/MinION_sequencing_data_20200121/guppy_3.2.2_01_21_20_run_01_exec_20200121/sw/fastq_runid_7d0acceaaa1cedac5617dbfac6122f3441e9e66c_14_2.tsv\n",
      "[15:47:55 - __main__] Starting fastq (59 of 386)\n",
      "\t/path/to/data/MinION_sequencing_data_20200121/guppy_3.2.2_01_21_20_run_01_exec_20200121/pass/fastq_runid_7d0acceaaa1cedac5617dbfac6122f3441e9e66c_14_3.fastq\n"
     ]
    },
    {
     "name": "stdout",
     "output_type": "stream",
     "text": [
      "[########################################] | 100% Completed | 34.1s\n"
     ]
    },
    {
     "name": "stderr",
     "output_type": "stream",
     "text": [
      "[15:48:29 - __main__] Saving to file: /path/to/data/MinION_sequencing_data_20200121/guppy_3.2.2_01_21_20_run_01_exec_20200121/sw/fastq_runid_7d0acceaaa1cedac5617dbfac6122f3441e9e66c_14_3.tsv\n",
      "[15:48:29 - __main__] Starting fastq (60 of 386)\n",
      "\t/path/to/data/MinION_sequencing_data_20200121/guppy_3.2.2_01_21_20_run_01_exec_20200121/pass/fastq_runid_7d0acceaaa1cedac5617dbfac6122f3441e9e66c_15_0.fastq\n"
     ]
    },
    {
     "name": "stdout",
     "output_type": "stream",
     "text": [
      "[########################################] | 100% Completed | 36.3s\n"
     ]
    },
    {
     "name": "stderr",
     "output_type": "stream",
     "text": [
      "[15:49:06 - __main__] Saving to file: /path/to/data/MinION_sequencing_data_20200121/guppy_3.2.2_01_21_20_run_01_exec_20200121/sw/fastq_runid_7d0acceaaa1cedac5617dbfac6122f3441e9e66c_15_0.tsv\n",
      "[15:49:06 - __main__] Starting fastq (61 of 386)\n",
      "\t/path/to/data/MinION_sequencing_data_20200121/guppy_3.2.2_01_21_20_run_01_exec_20200121/pass/fastq_runid_7d0acceaaa1cedac5617dbfac6122f3441e9e66c_15_1.fastq\n"
     ]
    },
    {
     "name": "stdout",
     "output_type": "stream",
     "text": [
      "[########################################] | 100% Completed | 56.0s\n"
     ]
    },
    {
     "name": "stderr",
     "output_type": "stream",
     "text": [
      "[15:50:03 - __main__] Saving to file: /path/to/data/MinION_sequencing_data_20200121/guppy_3.2.2_01_21_20_run_01_exec_20200121/sw/fastq_runid_7d0acceaaa1cedac5617dbfac6122f3441e9e66c_15_1.tsv\n",
      "[15:50:03 - __main__] Starting fastq (62 of 386)\n",
      "\t/path/to/data/MinION_sequencing_data_20200121/guppy_3.2.2_01_21_20_run_01_exec_20200121/pass/fastq_runid_7d0acceaaa1cedac5617dbfac6122f3441e9e66c_15_2.fastq\n"
     ]
    },
    {
     "name": "stdout",
     "output_type": "stream",
     "text": [
      "[########################################] | 100% Completed | 31.2s\n"
     ]
    },
    {
     "name": "stderr",
     "output_type": "stream",
     "text": [
      "[15:50:34 - __main__] Saving to file: /path/to/data/MinION_sequencing_data_20200121/guppy_3.2.2_01_21_20_run_01_exec_20200121/sw/fastq_runid_7d0acceaaa1cedac5617dbfac6122f3441e9e66c_15_2.tsv\n",
      "[15:50:35 - __main__] Starting fastq (63 of 386)\n",
      "\t/path/to/data/MinION_sequencing_data_20200121/guppy_3.2.2_01_21_20_run_01_exec_20200121/pass/fastq_runid_7d0acceaaa1cedac5617dbfac6122f3441e9e66c_16_0.fastq\n"
     ]
    },
    {
     "name": "stdout",
     "output_type": "stream",
     "text": [
      "[########################################] | 100% Completed | 41.5s\n"
     ]
    },
    {
     "name": "stderr",
     "output_type": "stream",
     "text": [
      "[15:51:16 - __main__] Saving to file: /path/to/data/MinION_sequencing_data_20200121/guppy_3.2.2_01_21_20_run_01_exec_20200121/sw/fastq_runid_7d0acceaaa1cedac5617dbfac6122f3441e9e66c_16_0.tsv\n",
      "[15:51:16 - __main__] Starting fastq (64 of 386)\n",
      "\t/path/to/data/MinION_sequencing_data_20200121/guppy_3.2.2_01_21_20_run_01_exec_20200121/pass/fastq_runid_7d0acceaaa1cedac5617dbfac6122f3441e9e66c_16_1.fastq\n"
     ]
    },
    {
     "name": "stdout",
     "output_type": "stream",
     "text": [
      "[########################################] | 100% Completed | 50.3s\n"
     ]
    },
    {
     "name": "stderr",
     "output_type": "stream",
     "text": [
      "[15:52:07 - __main__] Saving to file: /path/to/data/MinION_sequencing_data_20200121/guppy_3.2.2_01_21_20_run_01_exec_20200121/sw/fastq_runid_7d0acceaaa1cedac5617dbfac6122f3441e9e66c_16_1.tsv\n",
      "[15:52:07 - __main__] Starting fastq (65 of 386)\n",
      "\t/path/to/data/MinION_sequencing_data_20200121/guppy_3.2.2_01_21_20_run_01_exec_20200121/pass/fastq_runid_7d0acceaaa1cedac5617dbfac6122f3441e9e66c_15_3.fastq\n"
     ]
    },
    {
     "name": "stdout",
     "output_type": "stream",
     "text": [
      "[########################################] | 100% Completed | 10.0s\n"
     ]
    },
    {
     "name": "stderr",
     "output_type": "stream",
     "text": [
      "[15:52:18 - __main__] Saving to file: /path/to/data/MinION_sequencing_data_20200121/guppy_3.2.2_01_21_20_run_01_exec_20200121/sw/fastq_runid_7d0acceaaa1cedac5617dbfac6122f3441e9e66c_15_3.tsv\n",
      "[15:52:18 - __main__] Starting fastq (66 of 386)\n",
      "\t/path/to/data/MinION_sequencing_data_20200121/guppy_3.2.2_01_21_20_run_01_exec_20200121/pass/fastq_runid_7d0acceaaa1cedac5617dbfac6122f3441e9e66c_16_2.fastq\n"
     ]
    },
    {
     "name": "stdout",
     "output_type": "stream",
     "text": [
      "[########################################] | 100% Completed | 26.0s\n"
     ]
    },
    {
     "name": "stderr",
     "output_type": "stream",
     "text": [
      "[15:52:44 - __main__] Saving to file: /path/to/data/MinION_sequencing_data_20200121/guppy_3.2.2_01_21_20_run_01_exec_20200121/sw/fastq_runid_7d0acceaaa1cedac5617dbfac6122f3441e9e66c_16_2.tsv\n",
      "[15:52:44 - __main__] Starting fastq (67 of 386)\n",
      "\t/path/to/data/MinION_sequencing_data_20200121/guppy_3.2.2_01_21_20_run_01_exec_20200121/pass/fastq_runid_7d0acceaaa1cedac5617dbfac6122f3441e9e66c_16_3.fastq\n"
     ]
    },
    {
     "name": "stdout",
     "output_type": "stream",
     "text": [
      "[########################################] | 100% Completed | 17.9s\n"
     ]
    },
    {
     "name": "stderr",
     "output_type": "stream",
     "text": [
      "[15:53:03 - __main__] Saving to file: /path/to/data/MinION_sequencing_data_20200121/guppy_3.2.2_01_21_20_run_01_exec_20200121/sw/fastq_runid_7d0acceaaa1cedac5617dbfac6122f3441e9e66c_16_3.tsv\n",
      "[15:53:03 - __main__] Starting fastq (68 of 386)\n",
      "\t/path/to/data/MinION_sequencing_data_20200121/guppy_3.2.2_01_21_20_run_01_exec_20200121/pass/fastq_runid_7d0acceaaa1cedac5617dbfac6122f3441e9e66c_17_0.fastq\n"
     ]
    },
    {
     "name": "stdout",
     "output_type": "stream",
     "text": [
      "[########################################] | 100% Completed | 38.5s\n"
     ]
    },
    {
     "name": "stderr",
     "output_type": "stream",
     "text": [
      "[15:53:42 - __main__] Saving to file: /path/to/data/MinION_sequencing_data_20200121/guppy_3.2.2_01_21_20_run_01_exec_20200121/sw/fastq_runid_7d0acceaaa1cedac5617dbfac6122f3441e9e66c_17_0.tsv\n",
      "[15:53:42 - __main__] Starting fastq (69 of 386)\n",
      "\t/path/to/data/MinION_sequencing_data_20200121/guppy_3.2.2_01_21_20_run_01_exec_20200121/pass/fastq_runid_7d0acceaaa1cedac5617dbfac6122f3441e9e66c_17_1.fastq\n"
     ]
    },
    {
     "name": "stdout",
     "output_type": "stream",
     "text": [
      "[########################################] | 100% Completed | 49.3s\n"
     ]
    },
    {
     "name": "stderr",
     "output_type": "stream",
     "text": [
      "[15:54:31 - __main__] Saving to file: /path/to/data/MinION_sequencing_data_20200121/guppy_3.2.2_01_21_20_run_01_exec_20200121/sw/fastq_runid_7d0acceaaa1cedac5617dbfac6122f3441e9e66c_17_1.tsv\n",
      "[15:54:32 - __main__] Starting fastq (70 of 386)\n",
      "\t/path/to/data/MinION_sequencing_data_20200121/guppy_3.2.2_01_21_20_run_01_exec_20200121/pass/fastq_runid_7d0acceaaa1cedac5617dbfac6122f3441e9e66c_17_2.fastq\n"
     ]
    },
    {
     "name": "stdout",
     "output_type": "stream",
     "text": [
      "[########################################] | 100% Completed | 42.5s\n"
     ]
    },
    {
     "name": "stderr",
     "output_type": "stream",
     "text": [
      "[15:55:14 - __main__] Saving to file: /path/to/data/MinION_sequencing_data_20200121/guppy_3.2.2_01_21_20_run_01_exec_20200121/sw/fastq_runid_7d0acceaaa1cedac5617dbfac6122f3441e9e66c_17_2.tsv\n",
      "[15:55:15 - __main__] Starting fastq (71 of 386)\n",
      "\t/path/to/data/MinION_sequencing_data_20200121/guppy_3.2.2_01_21_20_run_01_exec_20200121/pass/fastq_runid_7d0acceaaa1cedac5617dbfac6122f3441e9e66c_18_0.fastq\n"
     ]
    },
    {
     "name": "stdout",
     "output_type": "stream",
     "text": [
      "[########################################] | 100% Completed | 38.1s\n"
     ]
    },
    {
     "name": "stderr",
     "output_type": "stream",
     "text": [
      "[15:55:53 - __main__] Saving to file: /path/to/data/MinION_sequencing_data_20200121/guppy_3.2.2_01_21_20_run_01_exec_20200121/sw/fastq_runid_7d0acceaaa1cedac5617dbfac6122f3441e9e66c_18_0.tsv\n",
      "[15:55:53 - __main__] Starting fastq (72 of 386)\n",
      "\t/path/to/data/MinION_sequencing_data_20200121/guppy_3.2.2_01_21_20_run_01_exec_20200121/pass/fastq_runid_7d0acceaaa1cedac5617dbfac6122f3441e9e66c_18_1.fastq\n"
     ]
    },
    {
     "name": "stdout",
     "output_type": "stream",
     "text": [
      "[########################################] | 100% Completed | 57.1s\n"
     ]
    },
    {
     "name": "stderr",
     "output_type": "stream",
     "text": [
      "[15:56:51 - __main__] Saving to file: /path/to/data/MinION_sequencing_data_20200121/guppy_3.2.2_01_21_20_run_01_exec_20200121/sw/fastq_runid_7d0acceaaa1cedac5617dbfac6122f3441e9e66c_18_1.tsv\n",
      "[15:56:51 - __main__] Starting fastq (73 of 386)\n",
      "\t/path/to/data/MinION_sequencing_data_20200121/guppy_3.2.2_01_21_20_run_01_exec_20200121/pass/fastq_runid_7d0acceaaa1cedac5617dbfac6122f3441e9e66c_17_3.fastq\n"
     ]
    },
    {
     "name": "stdout",
     "output_type": "stream",
     "text": [
      "[########################################] | 100% Completed |  2.9s\n"
     ]
    },
    {
     "name": "stderr",
     "output_type": "stream",
     "text": [
      "[15:56:54 - __main__] Saving to file: /path/to/data/MinION_sequencing_data_20200121/guppy_3.2.2_01_21_20_run_01_exec_20200121/sw/fastq_runid_7d0acceaaa1cedac5617dbfac6122f3441e9e66c_17_3.tsv\n",
      "[15:56:54 - __main__] Starting fastq (74 of 386)\n",
      "\t/path/to/data/MinION_sequencing_data_20200121/guppy_3.2.2_01_21_20_run_01_exec_20200121/pass/fastq_runid_7d0acceaaa1cedac5617dbfac6122f3441e9e66c_18_2.fastq\n"
     ]
    },
    {
     "name": "stdout",
     "output_type": "stream",
     "text": [
      "[########################################] | 100% Completed | 14.6s\n"
     ]
    },
    {
     "name": "stderr",
     "output_type": "stream",
     "text": [
      "[15:57:09 - __main__] Saving to file: /path/to/data/MinION_sequencing_data_20200121/guppy_3.2.2_01_21_20_run_01_exec_20200121/sw/fastq_runid_7d0acceaaa1cedac5617dbfac6122f3441e9e66c_18_2.tsv\n",
      "[15:57:09 - __main__] Starting fastq (75 of 386)\n",
      "\t/path/to/data/MinION_sequencing_data_20200121/guppy_3.2.2_01_21_20_run_01_exec_20200121/pass/fastq_runid_7d0acceaaa1cedac5617dbfac6122f3441e9e66c_18_3.fastq\n"
     ]
    },
    {
     "name": "stdout",
     "output_type": "stream",
     "text": [
      "[########################################] | 100% Completed | 19.4s\n"
     ]
    },
    {
     "name": "stderr",
     "output_type": "stream",
     "text": [
      "[15:57:29 - __main__] Saving to file: /path/to/data/MinION_sequencing_data_20200121/guppy_3.2.2_01_21_20_run_01_exec_20200121/sw/fastq_runid_7d0acceaaa1cedac5617dbfac6122f3441e9e66c_18_3.tsv\n",
      "[15:57:29 - __main__] Starting fastq (76 of 386)\n",
      "\t/path/to/data/MinION_sequencing_data_20200121/guppy_3.2.2_01_21_20_run_01_exec_20200121/pass/fastq_runid_7d0acceaaa1cedac5617dbfac6122f3441e9e66c_19_0.fastq\n"
     ]
    },
    {
     "name": "stdout",
     "output_type": "stream",
     "text": [
      "[########################################] | 100% Completed | 35.9s\n"
     ]
    },
    {
     "name": "stderr",
     "output_type": "stream",
     "text": [
      "[15:58:05 - __main__] Saving to file: /path/to/data/MinION_sequencing_data_20200121/guppy_3.2.2_01_21_20_run_01_exec_20200121/sw/fastq_runid_7d0acceaaa1cedac5617dbfac6122f3441e9e66c_19_0.tsv\n",
      "[15:58:05 - __main__] Starting fastq (77 of 386)\n",
      "\t/path/to/data/MinION_sequencing_data_20200121/guppy_3.2.2_01_21_20_run_01_exec_20200121/pass/fastq_runid_7d0acceaaa1cedac5617dbfac6122f3441e9e66c_19_1.fastq\n"
     ]
    },
    {
     "name": "stdout",
     "output_type": "stream",
     "text": [
      "[########################################] | 100% Completed | 13.7s\n"
     ]
    },
    {
     "name": "stderr",
     "output_type": "stream",
     "text": [
      "[15:58:20 - __main__] Saving to file: /path/to/data/MinION_sequencing_data_20200121/guppy_3.2.2_01_21_20_run_01_exec_20200121/sw/fastq_runid_7d0acceaaa1cedac5617dbfac6122f3441e9e66c_19_1.tsv\n",
      "[15:58:20 - __main__] Starting fastq (78 of 386)\n",
      "\t/path/to/data/MinION_sequencing_data_20200121/guppy_3.2.2_01_21_20_run_01_exec_20200121/pass/fastq_runid_7d0acceaaa1cedac5617dbfac6122f3441e9e66c_19_2.fastq\n"
     ]
    },
    {
     "name": "stdout",
     "output_type": "stream",
     "text": [
      "[########################################] | 100% Completed | 38.6s\n"
     ]
    },
    {
     "name": "stderr",
     "output_type": "stream",
     "text": [
      "[15:58:59 - __main__] Saving to file: /path/to/data/MinION_sequencing_data_20200121/guppy_3.2.2_01_21_20_run_01_exec_20200121/sw/fastq_runid_7d0acceaaa1cedac5617dbfac6122f3441e9e66c_19_2.tsv\n",
      "[15:58:59 - __main__] Starting fastq (79 of 386)\n",
      "\t/path/to/data/MinION_sequencing_data_20200121/guppy_3.2.2_01_21_20_run_01_exec_20200121/pass/fastq_runid_7d0acceaaa1cedac5617dbfac6122f3441e9e66c_20_0.fastq\n"
     ]
    },
    {
     "name": "stdout",
     "output_type": "stream",
     "text": [
      "[########################################] | 100% Completed | 46.0s\n"
     ]
    },
    {
     "name": "stderr",
     "output_type": "stream",
     "text": [
      "[15:59:45 - __main__] Saving to file: /path/to/data/MinION_sequencing_data_20200121/guppy_3.2.2_01_21_20_run_01_exec_20200121/sw/fastq_runid_7d0acceaaa1cedac5617dbfac6122f3441e9e66c_20_0.tsv\n",
      "[15:59:45 - __main__] Starting fastq (80 of 386)\n",
      "\t/path/to/data/MinION_sequencing_data_20200121/guppy_3.2.2_01_21_20_run_01_exec_20200121/pass/fastq_runid_7d0acceaaa1cedac5617dbfac6122f3441e9e66c_19_3.fastq\n"
     ]
    },
    {
     "name": "stdout",
     "output_type": "stream",
     "text": [
      "[########################################] | 100% Completed | 42.3s\n"
     ]
    },
    {
     "name": "stderr",
     "output_type": "stream",
     "text": [
      "[16:00:28 - __main__] Saving to file: /path/to/data/MinION_sequencing_data_20200121/guppy_3.2.2_01_21_20_run_01_exec_20200121/sw/fastq_runid_7d0acceaaa1cedac5617dbfac6122f3441e9e66c_19_3.tsv\n",
      "[16:00:28 - __main__] Starting fastq (81 of 386)\n",
      "\t/path/to/data/MinION_sequencing_data_20200121/guppy_3.2.2_01_21_20_run_01_exec_20200121/pass/fastq_runid_7d0acceaaa1cedac5617dbfac6122f3441e9e66c_20_1.fastq\n"
     ]
    },
    {
     "name": "stdout",
     "output_type": "stream",
     "text": [
      "[########################################] | 100% Completed | 27.6s\n"
     ]
    },
    {
     "name": "stderr",
     "output_type": "stream",
     "text": [
      "[16:00:56 - __main__] Saving to file: /path/to/data/MinION_sequencing_data_20200121/guppy_3.2.2_01_21_20_run_01_exec_20200121/sw/fastq_runid_7d0acceaaa1cedac5617dbfac6122f3441e9e66c_20_1.tsv\n",
      "[16:00:56 - __main__] Starting fastq (82 of 386)\n",
      "\t/path/to/data/MinION_sequencing_data_20200121/guppy_3.2.2_01_21_20_run_01_exec_20200121/pass/fastq_runid_7d0acceaaa1cedac5617dbfac6122f3441e9e66c_20_2.fastq\n"
     ]
    },
    {
     "name": "stdout",
     "output_type": "stream",
     "text": [
      "[########################################] | 100% Completed | 56.4s\n"
     ]
    },
    {
     "name": "stderr",
     "output_type": "stream",
     "text": [
      "[16:01:53 - __main__] Saving to file: /path/to/data/MinION_sequencing_data_20200121/guppy_3.2.2_01_21_20_run_01_exec_20200121/sw/fastq_runid_7d0acceaaa1cedac5617dbfac6122f3441e9e66c_20_2.tsv\n",
      "[16:01:53 - __main__] Starting fastq (83 of 386)\n",
      "\t/path/to/data/MinION_sequencing_data_20200121/guppy_3.2.2_01_21_20_run_01_exec_20200121/pass/fastq_runid_7d0acceaaa1cedac5617dbfac6122f3441e9e66c_21_0.fastq\n"
     ]
    },
    {
     "name": "stdout",
     "output_type": "stream",
     "text": [
      "[########################################] | 100% Completed |  1min  7.1s\n"
     ]
    },
    {
     "name": "stderr",
     "output_type": "stream",
     "text": [
      "[16:03:01 - __main__] Saving to file: /path/to/data/MinION_sequencing_data_20200121/guppy_3.2.2_01_21_20_run_01_exec_20200121/sw/fastq_runid_7d0acceaaa1cedac5617dbfac6122f3441e9e66c_21_0.tsv\n",
      "[16:03:01 - __main__] Starting fastq (84 of 386)\n",
      "\t/path/to/data/MinION_sequencing_data_20200121/guppy_3.2.2_01_21_20_run_01_exec_20200121/pass/fastq_runid_7d0acceaaa1cedac5617dbfac6122f3441e9e66c_21_1.fastq\n"
     ]
    },
    {
     "name": "stdout",
     "output_type": "stream",
     "text": [
      "[########################################] | 100% Completed | 41.6s\n"
     ]
    },
    {
     "name": "stderr",
     "output_type": "stream",
     "text": [
      "[16:03:43 - __main__] Saving to file: /path/to/data/MinION_sequencing_data_20200121/guppy_3.2.2_01_21_20_run_01_exec_20200121/sw/fastq_runid_7d0acceaaa1cedac5617dbfac6122f3441e9e66c_21_1.tsv\n",
      "[16:03:43 - __main__] Starting fastq (85 of 386)\n",
      "\t/path/to/data/MinION_sequencing_data_20200121/guppy_3.2.2_01_21_20_run_01_exec_20200121/pass/fastq_runid_7d0acceaaa1cedac5617dbfac6122f3441e9e66c_20_3.fastq\n"
     ]
    },
    {
     "name": "stdout",
     "output_type": "stream",
     "text": [
      "[########################################] | 100% Completed |  1.0s\n"
     ]
    },
    {
     "name": "stderr",
     "output_type": "stream",
     "text": [
      "[16:03:44 - __main__] Saving to file: /path/to/data/MinION_sequencing_data_20200121/guppy_3.2.2_01_21_20_run_01_exec_20200121/sw/fastq_runid_7d0acceaaa1cedac5617dbfac6122f3441e9e66c_20_3.tsv\n",
      "[16:03:44 - __main__] Starting fastq (86 of 386)\n",
      "\t/path/to/data/MinION_sequencing_data_20200121/guppy_3.2.2_01_21_20_run_01_exec_20200121/pass/fastq_runid_7d0acceaaa1cedac5617dbfac6122f3441e9e66c_21_2.fastq\n"
     ]
    },
    {
     "name": "stdout",
     "output_type": "stream",
     "text": [
      "[########################################] | 100% Completed | 20.2s\n"
     ]
    },
    {
     "name": "stderr",
     "output_type": "stream",
     "text": [
      "[16:04:05 - __main__] Saving to file: /path/to/data/MinION_sequencing_data_20200121/guppy_3.2.2_01_21_20_run_01_exec_20200121/sw/fastq_runid_7d0acceaaa1cedac5617dbfac6122f3441e9e66c_21_2.tsv\n",
      "[16:04:05 - __main__] Starting fastq (87 of 386)\n",
      "\t/path/to/data/MinION_sequencing_data_20200121/guppy_3.2.2_01_21_20_run_01_exec_20200121/pass/fastq_runid_7d0acceaaa1cedac5617dbfac6122f3441e9e66c_22_0.fastq\n"
     ]
    },
    {
     "name": "stdout",
     "output_type": "stream",
     "text": [
      "[########################################] | 100% Completed | 51.7s\n"
     ]
    },
    {
     "name": "stderr",
     "output_type": "stream",
     "text": [
      "[16:04:57 - __main__] Saving to file: /path/to/data/MinION_sequencing_data_20200121/guppy_3.2.2_01_21_20_run_01_exec_20200121/sw/fastq_runid_7d0acceaaa1cedac5617dbfac6122f3441e9e66c_22_0.tsv\n",
      "[16:04:57 - __main__] Starting fastq (88 of 386)\n",
      "\t/path/to/data/MinION_sequencing_data_20200121/guppy_3.2.2_01_21_20_run_01_exec_20200121/pass/fastq_runid_7d0acceaaa1cedac5617dbfac6122f3441e9e66c_22_1.fastq\n"
     ]
    },
    {
     "name": "stdout",
     "output_type": "stream",
     "text": [
      "[########################################] | 100% Completed | 36.3s\n"
     ]
    },
    {
     "name": "stderr",
     "output_type": "stream",
     "text": [
      "[16:05:34 - __main__] Saving to file: /path/to/data/MinION_sequencing_data_20200121/guppy_3.2.2_01_21_20_run_01_exec_20200121/sw/fastq_runid_7d0acceaaa1cedac5617dbfac6122f3441e9e66c_22_1.tsv\n",
      "[16:05:34 - __main__] Starting fastq (89 of 386)\n",
      "\t/path/to/data/MinION_sequencing_data_20200121/guppy_3.2.2_01_21_20_run_01_exec_20200121/pass/fastq_runid_7d0acceaaa1cedac5617dbfac6122f3441e9e66c_21_3.fastq\n"
     ]
    },
    {
     "name": "stdout",
     "output_type": "stream",
     "text": [
      "[########################################] | 100% Completed |  0.9s\n"
     ]
    },
    {
     "name": "stderr",
     "output_type": "stream",
     "text": [
      "[16:05:36 - __main__] Saving to file: /path/to/data/MinION_sequencing_data_20200121/guppy_3.2.2_01_21_20_run_01_exec_20200121/sw/fastq_runid_7d0acceaaa1cedac5617dbfac6122f3441e9e66c_21_3.tsv\n",
      "[16:05:36 - __main__] Starting fastq (90 of 386)\n",
      "\t/path/to/data/MinION_sequencing_data_20200121/guppy_3.2.2_01_21_20_run_01_exec_20200121/pass/fastq_runid_7d0acceaaa1cedac5617dbfac6122f3441e9e66c_22_2.fastq\n"
     ]
    },
    {
     "name": "stdout",
     "output_type": "stream",
     "text": [
      "[########################################] | 100% Completed | 13.6s\n"
     ]
    },
    {
     "name": "stderr",
     "output_type": "stream",
     "text": [
      "[16:05:50 - __main__] Saving to file: /path/to/data/MinION_sequencing_data_20200121/guppy_3.2.2_01_21_20_run_01_exec_20200121/sw/fastq_runid_7d0acceaaa1cedac5617dbfac6122f3441e9e66c_22_2.tsv\n",
      "[16:05:50 - __main__] Starting fastq (91 of 386)\n",
      "\t/path/to/data/MinION_sequencing_data_20200121/guppy_3.2.2_01_21_20_run_01_exec_20200121/pass/fastq_runid_7d0acceaaa1cedac5617dbfac6122f3441e9e66c_23_0.fastq\n"
     ]
    },
    {
     "name": "stdout",
     "output_type": "stream",
     "text": [
      "[########################################] | 100% Completed | 23.3s\n"
     ]
    },
    {
     "name": "stderr",
     "output_type": "stream",
     "text": [
      "[16:06:13 - __main__] Saving to file: /path/to/data/MinION_sequencing_data_20200121/guppy_3.2.2_01_21_20_run_01_exec_20200121/sw/fastq_runid_7d0acceaaa1cedac5617dbfac6122f3441e9e66c_23_0.tsv\n",
      "[16:06:13 - __main__] Starting fastq (92 of 386)\n",
      "\t/path/to/data/MinION_sequencing_data_20200121/guppy_3.2.2_01_21_20_run_01_exec_20200121/pass/fastq_runid_7d0acceaaa1cedac5617dbfac6122f3441e9e66c_23_1.fastq\n"
     ]
    },
    {
     "name": "stdout",
     "output_type": "stream",
     "text": [
      "[########################################] | 100% Completed | 52.3s\n"
     ]
    },
    {
     "name": "stderr",
     "output_type": "stream",
     "text": [
      "[16:07:06 - __main__] Saving to file: /path/to/data/MinION_sequencing_data_20200121/guppy_3.2.2_01_21_20_run_01_exec_20200121/sw/fastq_runid_7d0acceaaa1cedac5617dbfac6122f3441e9e66c_23_1.tsv\n",
      "[16:07:06 - __main__] Starting fastq (93 of 386)\n",
      "\t/path/to/data/MinION_sequencing_data_20200121/guppy_3.2.2_01_21_20_run_01_exec_20200121/pass/fastq_runid_7d0acceaaa1cedac5617dbfac6122f3441e9e66c_22_3.fastq\n"
     ]
    },
    {
     "name": "stdout",
     "output_type": "stream",
     "text": [
      "[########################################] | 100% Completed | 24.1s\n"
     ]
    },
    {
     "name": "stderr",
     "output_type": "stream",
     "text": [
      "[16:07:31 - __main__] Saving to file: /path/to/data/MinION_sequencing_data_20200121/guppy_3.2.2_01_21_20_run_01_exec_20200121/sw/fastq_runid_7d0acceaaa1cedac5617dbfac6122f3441e9e66c_22_3.tsv\n",
      "[16:07:31 - __main__] Starting fastq (94 of 386)\n",
      "\t/path/to/data/MinION_sequencing_data_20200121/guppy_3.2.2_01_21_20_run_01_exec_20200121/pass/fastq_runid_7d0acceaaa1cedac5617dbfac6122f3441e9e66c_24_0.fastq\n"
     ]
    },
    {
     "name": "stdout",
     "output_type": "stream",
     "text": [
      "[########################################] | 100% Completed |  1min  5.3s\n"
     ]
    },
    {
     "name": "stderr",
     "output_type": "stream",
     "text": [
      "[16:08:37 - __main__] Saving to file: /path/to/data/MinION_sequencing_data_20200121/guppy_3.2.2_01_21_20_run_01_exec_20200121/sw/fastq_runid_7d0acceaaa1cedac5617dbfac6122f3441e9e66c_24_0.tsv\n",
      "[16:08:37 - __main__] Starting fastq (95 of 386)\n",
      "\t/path/to/data/MinION_sequencing_data_20200121/guppy_3.2.2_01_21_20_run_01_exec_20200121/pass/fastq_runid_7d0acceaaa1cedac5617dbfac6122f3441e9e66c_23_2.fastq\n"
     ]
    },
    {
     "name": "stdout",
     "output_type": "stream",
     "text": [
      "[########################################] | 100% Completed |  4.0s\n"
     ]
    },
    {
     "name": "stderr",
     "output_type": "stream",
     "text": [
      "[16:08:41 - __main__] Saving to file: /path/to/data/MinION_sequencing_data_20200121/guppy_3.2.2_01_21_20_run_01_exec_20200121/sw/fastq_runid_7d0acceaaa1cedac5617dbfac6122f3441e9e66c_23_2.tsv\n",
      "[16:08:41 - __main__] Starting fastq (96 of 386)\n",
      "\t/path/to/data/MinION_sequencing_data_20200121/guppy_3.2.2_01_21_20_run_01_exec_20200121/pass/fastq_runid_7d0acceaaa1cedac5617dbfac6122f3441e9e66c_24_1.fastq\n"
     ]
    },
    {
     "name": "stdout",
     "output_type": "stream",
     "text": [
      "[########################################] | 100% Completed | 27.3s\n"
     ]
    },
    {
     "name": "stderr",
     "output_type": "stream",
     "text": [
      "[16:09:09 - __main__] Saving to file: /path/to/data/MinION_sequencing_data_20200121/guppy_3.2.2_01_21_20_run_01_exec_20200121/sw/fastq_runid_7d0acceaaa1cedac5617dbfac6122f3441e9e66c_24_1.tsv\n",
      "[16:09:09 - __main__] Starting fastq (97 of 386)\n",
      "\t/path/to/data/MinION_sequencing_data_20200121/guppy_3.2.2_01_21_20_run_01_exec_20200121/pass/fastq_runid_7d0acceaaa1cedac5617dbfac6122f3441e9e66c_24_2.fastq\n"
     ]
    },
    {
     "name": "stdout",
     "output_type": "stream",
     "text": [
      "[########################################] | 100% Completed | 36.2s\n"
     ]
    },
    {
     "name": "stderr",
     "output_type": "stream",
     "text": [
      "[16:09:46 - __main__] Saving to file: /path/to/data/MinION_sequencing_data_20200121/guppy_3.2.2_01_21_20_run_01_exec_20200121/sw/fastq_runid_7d0acceaaa1cedac5617dbfac6122f3441e9e66c_24_2.tsv\n",
      "[16:09:46 - __main__] Starting fastq (98 of 386)\n",
      "\t/path/to/data/MinION_sequencing_data_20200121/guppy_3.2.2_01_21_20_run_01_exec_20200121/pass/fastq_runid_7d0acceaaa1cedac5617dbfac6122f3441e9e66c_25_0.fastq\n"
     ]
    },
    {
     "name": "stdout",
     "output_type": "stream",
     "text": [
      "[########################################] | 100% Completed | 54.0s\n"
     ]
    },
    {
     "name": "stderr",
     "output_type": "stream",
     "text": [
      "[16:10:40 - __main__] Saving to file: /path/to/data/MinION_sequencing_data_20200121/guppy_3.2.2_01_21_20_run_01_exec_20200121/sw/fastq_runid_7d0acceaaa1cedac5617dbfac6122f3441e9e66c_25_0.tsv\n",
      "[16:10:40 - __main__] Starting fastq (99 of 386)\n",
      "\t/path/to/data/MinION_sequencing_data_20200121/guppy_3.2.2_01_21_20_run_01_exec_20200121/pass/fastq_runid_7d0acceaaa1cedac5617dbfac6122f3441e9e66c_23_3.fastq\n"
     ]
    },
    {
     "name": "stdout",
     "output_type": "stream",
     "text": [
      "[########################################] | 100% Completed | 52.5s\n"
     ]
    },
    {
     "name": "stderr",
     "output_type": "stream",
     "text": [
      "[16:11:33 - __main__] Saving to file: /path/to/data/MinION_sequencing_data_20200121/guppy_3.2.2_01_21_20_run_01_exec_20200121/sw/fastq_runid_7d0acceaaa1cedac5617dbfac6122f3441e9e66c_23_3.tsv\n",
      "[16:11:33 - __main__] Starting fastq (100 of 386)\n",
      "\t/path/to/data/MinION_sequencing_data_20200121/guppy_3.2.2_01_21_20_run_01_exec_20200121/pass/fastq_runid_7d0acceaaa1cedac5617dbfac6122f3441e9e66c_25_1.fastq\n"
     ]
    },
    {
     "name": "stdout",
     "output_type": "stream",
     "text": [
      "[########################################] | 100% Completed | 10.1s\n"
     ]
    },
    {
     "name": "stderr",
     "output_type": "stream",
     "text": [
      "[16:11:44 - __main__] Saving to file: /path/to/data/MinION_sequencing_data_20200121/guppy_3.2.2_01_21_20_run_01_exec_20200121/sw/fastq_runid_7d0acceaaa1cedac5617dbfac6122f3441e9e66c_25_1.tsv\n",
      "[16:11:44 - __main__] Starting fastq (101 of 386)\n",
      "\t/path/to/data/MinION_sequencing_data_20200121/guppy_3.2.2_01_21_20_run_01_exec_20200121/pass/fastq_runid_7d0acceaaa1cedac5617dbfac6122f3441e9e66c_26_0.fastq\n"
     ]
    },
    {
     "name": "stdout",
     "output_type": "stream",
     "text": [
      "[########################################] | 100% Completed | 41.2s\n"
     ]
    },
    {
     "name": "stderr",
     "output_type": "stream",
     "text": [
      "[16:12:26 - __main__] Saving to file: /path/to/data/MinION_sequencing_data_20200121/guppy_3.2.2_01_21_20_run_01_exec_20200121/sw/fastq_runid_7d0acceaaa1cedac5617dbfac6122f3441e9e66c_26_0.tsv\n",
      "[16:12:26 - __main__] Starting fastq (102 of 386)\n",
      "\t/path/to/data/MinION_sequencing_data_20200121/guppy_3.2.2_01_21_20_run_01_exec_20200121/pass/fastq_runid_7d0acceaaa1cedac5617dbfac6122f3441e9e66c_25_2.fastq\n"
     ]
    },
    {
     "name": "stdout",
     "output_type": "stream",
     "text": [
      "[########################################] | 100% Completed | 53.4s\n"
     ]
    },
    {
     "name": "stderr",
     "output_type": "stream",
     "text": [
      "[16:13:20 - __main__] Saving to file: /path/to/data/MinION_sequencing_data_20200121/guppy_3.2.2_01_21_20_run_01_exec_20200121/sw/fastq_runid_7d0acceaaa1cedac5617dbfac6122f3441e9e66c_25_2.tsv\n",
      "[16:13:20 - __main__] Starting fastq (103 of 386)\n",
      "\t/path/to/data/MinION_sequencing_data_20200121/guppy_3.2.2_01_21_20_run_01_exec_20200121/pass/fastq_runid_7d0acceaaa1cedac5617dbfac6122f3441e9e66c_24_3.fastq\n"
     ]
    },
    {
     "name": "stdout",
     "output_type": "stream",
     "text": [
      "[########################################] | 100% Completed |  1.0s\n"
     ]
    },
    {
     "name": "stderr",
     "output_type": "stream",
     "text": [
      "[16:13:21 - __main__] Saving to file: /path/to/data/MinION_sequencing_data_20200121/guppy_3.2.2_01_21_20_run_01_exec_20200121/sw/fastq_runid_7d0acceaaa1cedac5617dbfac6122f3441e9e66c_24_3.tsv\n",
      "[16:13:21 - __main__] Starting fastq (104 of 386)\n",
      "\t/path/to/data/MinION_sequencing_data_20200121/guppy_3.2.2_01_21_20_run_01_exec_20200121/pass/fastq_runid_7d0acceaaa1cedac5617dbfac6122f3441e9e66c_25_3.fastq\n"
     ]
    },
    {
     "name": "stdout",
     "output_type": "stream",
     "text": [
      "[########################################] | 100% Completed | 13.8s\n"
     ]
    },
    {
     "name": "stderr",
     "output_type": "stream",
     "text": [
      "[16:13:35 - __main__] Saving to file: /path/to/data/MinION_sequencing_data_20200121/guppy_3.2.2_01_21_20_run_01_exec_20200121/sw/fastq_runid_7d0acceaaa1cedac5617dbfac6122f3441e9e66c_25_3.tsv\n",
      "[16:13:35 - __main__] Starting fastq (105 of 386)\n",
      "\t/path/to/data/MinION_sequencing_data_20200121/guppy_3.2.2_01_21_20_run_01_exec_20200121/pass/fastq_runid_7d0acceaaa1cedac5617dbfac6122f3441e9e66c_26_1.fastq\n"
     ]
    },
    {
     "name": "stdout",
     "output_type": "stream",
     "text": [
      "[########################################] | 100% Completed | 42.4s\n"
     ]
    },
    {
     "name": "stderr",
     "output_type": "stream",
     "text": [
      "[16:14:18 - __main__] Saving to file: /path/to/data/MinION_sequencing_data_20200121/guppy_3.2.2_01_21_20_run_01_exec_20200121/sw/fastq_runid_7d0acceaaa1cedac5617dbfac6122f3441e9e66c_26_1.tsv\n",
      "[16:14:18 - __main__] Starting fastq (106 of 386)\n",
      "\t/path/to/data/MinION_sequencing_data_20200121/guppy_3.2.2_01_21_20_run_01_exec_20200121/pass/fastq_runid_7d0acceaaa1cedac5617dbfac6122f3441e9e66c_27_0.fastq\n"
     ]
    },
    {
     "name": "stdout",
     "output_type": "stream",
     "text": [
      "[########################################] | 100% Completed | 58.6s\n"
     ]
    },
    {
     "name": "stderr",
     "output_type": "stream",
     "text": [
      "[16:15:17 - __main__] Saving to file: /path/to/data/MinION_sequencing_data_20200121/guppy_3.2.2_01_21_20_run_01_exec_20200121/sw/fastq_runid_7d0acceaaa1cedac5617dbfac6122f3441e9e66c_27_0.tsv\n",
      "[16:15:18 - __main__] Starting fastq (107 of 386)\n",
      "\t/path/to/data/MinION_sequencing_data_20200121/guppy_3.2.2_01_21_20_run_01_exec_20200121/pass/fastq_runid_7d0acceaaa1cedac5617dbfac6122f3441e9e66c_26_2.fastq\n"
     ]
    },
    {
     "name": "stdout",
     "output_type": "stream",
     "text": [
      "[########################################] | 100% Completed |  1.6s\n"
     ]
    },
    {
     "name": "stderr",
     "output_type": "stream",
     "text": [
      "[16:15:20 - __main__] Saving to file: /path/to/data/MinION_sequencing_data_20200121/guppy_3.2.2_01_21_20_run_01_exec_20200121/sw/fastq_runid_7d0acceaaa1cedac5617dbfac6122f3441e9e66c_26_2.tsv\n",
      "[16:15:20 - __main__] Starting fastq (108 of 386)\n",
      "\t/path/to/data/MinION_sequencing_data_20200121/guppy_3.2.2_01_21_20_run_01_exec_20200121/pass/fastq_runid_7d0acceaaa1cedac5617dbfac6122f3441e9e66c_27_1.fastq\n"
     ]
    },
    {
     "name": "stdout",
     "output_type": "stream",
     "text": [
      "[########################################] | 100% Completed | 38.9s\n"
     ]
    },
    {
     "name": "stderr",
     "output_type": "stream",
     "text": [
      "[16:15:59 - __main__] Saving to file: /path/to/data/MinION_sequencing_data_20200121/guppy_3.2.2_01_21_20_run_01_exec_20200121/sw/fastq_runid_7d0acceaaa1cedac5617dbfac6122f3441e9e66c_27_1.tsv\n",
      "[16:15:59 - __main__] Starting fastq (109 of 386)\n",
      "\t/path/to/data/MinION_sequencing_data_20200121/guppy_3.2.2_01_21_20_run_01_exec_20200121/pass/fastq_runid_7d0acceaaa1cedac5617dbfac6122f3441e9e66c_27_2.fastq\n"
     ]
    },
    {
     "name": "stdout",
     "output_type": "stream",
     "text": [
      "[########################################] | 100% Completed | 28.5s\n"
     ]
    },
    {
     "name": "stderr",
     "output_type": "stream",
     "text": [
      "[16:16:28 - __main__] Saving to file: /path/to/data/MinION_sequencing_data_20200121/guppy_3.2.2_01_21_20_run_01_exec_20200121/sw/fastq_runid_7d0acceaaa1cedac5617dbfac6122f3441e9e66c_27_2.tsv\n",
      "[16:16:28 - __main__] Starting fastq (110 of 386)\n",
      "\t/path/to/data/MinION_sequencing_data_20200121/guppy_3.2.2_01_21_20_run_01_exec_20200121/pass/fastq_runid_7d0acceaaa1cedac5617dbfac6122f3441e9e66c_27_3.fastq\n"
     ]
    },
    {
     "name": "stdout",
     "output_type": "stream",
     "text": [
      "[########################################] | 100% Completed |  5.1s\n"
     ]
    },
    {
     "name": "stderr",
     "output_type": "stream",
     "text": [
      "[16:16:34 - __main__] Saving to file: /path/to/data/MinION_sequencing_data_20200121/guppy_3.2.2_01_21_20_run_01_exec_20200121/sw/fastq_runid_7d0acceaaa1cedac5617dbfac6122f3441e9e66c_27_3.tsv\n",
      "[16:16:34 - __main__] Starting fastq (111 of 386)\n",
      "\t/path/to/data/MinION_sequencing_data_20200121/guppy_3.2.2_01_21_20_run_01_exec_20200121/pass/fastq_runid_7d0acceaaa1cedac5617dbfac6122f3441e9e66c_28_0.fastq\n"
     ]
    },
    {
     "name": "stdout",
     "output_type": "stream",
     "text": [
      "[########################################] | 100% Completed | 23.8s\n"
     ]
    },
    {
     "name": "stderr",
     "output_type": "stream",
     "text": [
      "[16:16:58 - __main__] Saving to file: /path/to/data/MinION_sequencing_data_20200121/guppy_3.2.2_01_21_20_run_01_exec_20200121/sw/fastq_runid_7d0acceaaa1cedac5617dbfac6122f3441e9e66c_28_0.tsv\n",
      "[16:16:58 - __main__] Starting fastq (112 of 386)\n",
      "\t/path/to/data/MinION_sequencing_data_20200121/guppy_3.2.2_01_21_20_run_01_exec_20200121/pass/fastq_runid_7d0acceaaa1cedac5617dbfac6122f3441e9e66c_28_1.fastq\n"
     ]
    },
    {
     "name": "stdout",
     "output_type": "stream",
     "text": [
      "[########################################] | 100% Completed |  1min 20.3s\n"
     ]
    },
    {
     "name": "stderr",
     "output_type": "stream",
     "text": [
      "[16:18:19 - __main__] Saving to file: /path/to/data/MinION_sequencing_data_20200121/guppy_3.2.2_01_21_20_run_01_exec_20200121/sw/fastq_runid_7d0acceaaa1cedac5617dbfac6122f3441e9e66c_28_1.tsv\n",
      "[16:18:19 - __main__] Starting fastq (113 of 386)\n",
      "\t/path/to/data/MinION_sequencing_data_20200121/guppy_3.2.2_01_21_20_run_01_exec_20200121/pass/fastq_runid_7d0acceaaa1cedac5617dbfac6122f3441e9e66c_28_2.fastq\n"
     ]
    },
    {
     "name": "stdout",
     "output_type": "stream",
     "text": [
      "[########################################] | 100% Completed |  2.1s\n"
     ]
    },
    {
     "name": "stderr",
     "output_type": "stream",
     "text": [
      "[16:18:21 - __main__] Saving to file: /path/to/data/MinION_sequencing_data_20200121/guppy_3.2.2_01_21_20_run_01_exec_20200121/sw/fastq_runid_7d0acceaaa1cedac5617dbfac6122f3441e9e66c_28_2.tsv\n",
      "[16:18:21 - __main__] Starting fastq (114 of 386)\n",
      "\t/path/to/data/MinION_sequencing_data_20200121/guppy_3.2.2_01_21_20_run_01_exec_20200121/pass/fastq_runid_7d0acceaaa1cedac5617dbfac6122f3441e9e66c_29_0.fastq\n"
     ]
    },
    {
     "name": "stdout",
     "output_type": "stream",
     "text": [
      "[########################################] | 100% Completed | 48.2s\n"
     ]
    },
    {
     "name": "stderr",
     "output_type": "stream",
     "text": [
      "[16:19:10 - __main__] Saving to file: /path/to/data/MinION_sequencing_data_20200121/guppy_3.2.2_01_21_20_run_01_exec_20200121/sw/fastq_runid_7d0acceaaa1cedac5617dbfac6122f3441e9e66c_29_0.tsv\n",
      "[16:19:10 - __main__] Starting fastq (115 of 386)\n",
      "\t/path/to/data/MinION_sequencing_data_20200121/guppy_3.2.2_01_21_20_run_01_exec_20200121/pass/fastq_runid_7d0acceaaa1cedac5617dbfac6122f3441e9e66c_29_1.fastq\n"
     ]
    },
    {
     "name": "stdout",
     "output_type": "stream",
     "text": [
      "[########################################] | 100% Completed |  1min  4.6s\n"
     ]
    },
    {
     "name": "stderr",
     "output_type": "stream",
     "text": [
      "[16:20:15 - __main__] Saving to file: /path/to/data/MinION_sequencing_data_20200121/guppy_3.2.2_01_21_20_run_01_exec_20200121/sw/fastq_runid_7d0acceaaa1cedac5617dbfac6122f3441e9e66c_29_1.tsv\n",
      "[16:20:15 - __main__] Starting fastq (116 of 386)\n",
      "\t/path/to/data/MinION_sequencing_data_20200121/guppy_3.2.2_01_21_20_run_01_exec_20200121/pass/fastq_runid_7d0acceaaa1cedac5617dbfac6122f3441e9e66c_26_3.fastq\n"
     ]
    },
    {
     "name": "stdout",
     "output_type": "stream",
     "text": [
      "[########################################] | 100% Completed | 45.0s\n"
     ]
    },
    {
     "name": "stderr",
     "output_type": "stream",
     "text": [
      "[16:21:01 - __main__] Saving to file: /path/to/data/MinION_sequencing_data_20200121/guppy_3.2.2_01_21_20_run_01_exec_20200121/sw/fastq_runid_7d0acceaaa1cedac5617dbfac6122f3441e9e66c_26_3.tsv\n",
      "[16:21:01 - __main__] Starting fastq (117 of 386)\n",
      "\t/path/to/data/MinION_sequencing_data_20200121/guppy_3.2.2_01_21_20_run_01_exec_20200121/pass/fastq_runid_7d0acceaaa1cedac5617dbfac6122f3441e9e66c_29_2.fastq\n"
     ]
    },
    {
     "name": "stdout",
     "output_type": "stream",
     "text": [
      "[########################################] | 100% Completed | 18.0s\n"
     ]
    },
    {
     "name": "stderr",
     "output_type": "stream",
     "text": [
      "[16:21:19 - __main__] Saving to file: /path/to/data/MinION_sequencing_data_20200121/guppy_3.2.2_01_21_20_run_01_exec_20200121/sw/fastq_runid_7d0acceaaa1cedac5617dbfac6122f3441e9e66c_29_2.tsv\n",
      "[16:21:19 - __main__] Starting fastq (118 of 386)\n",
      "\t/path/to/data/MinION_sequencing_data_20200121/guppy_3.2.2_01_21_20_run_01_exec_20200121/pass/fastq_runid_7d0acceaaa1cedac5617dbfac6122f3441e9e66c_30_0.fastq\n"
     ]
    },
    {
     "name": "stdout",
     "output_type": "stream",
     "text": [
      "[########################################] | 100% Completed | 23.8s\n"
     ]
    },
    {
     "name": "stderr",
     "output_type": "stream",
     "text": [
      "[16:21:43 - __main__] Saving to file: /path/to/data/MinION_sequencing_data_20200121/guppy_3.2.2_01_21_20_run_01_exec_20200121/sw/fastq_runid_7d0acceaaa1cedac5617dbfac6122f3441e9e66c_30_0.tsv\n",
      "[16:21:43 - __main__] Starting fastq (119 of 386)\n",
      "\t/path/to/data/MinION_sequencing_data_20200121/guppy_3.2.2_01_21_20_run_01_exec_20200121/pass/fastq_runid_7d0acceaaa1cedac5617dbfac6122f3441e9e66c_30_1.fastq\n"
     ]
    },
    {
     "name": "stdout",
     "output_type": "stream",
     "text": [
      "[########################################] | 100% Completed | 56.8s\n"
     ]
    },
    {
     "name": "stderr",
     "output_type": "stream",
     "text": [
      "[16:22:41 - __main__] Saving to file: /path/to/data/MinION_sequencing_data_20200121/guppy_3.2.2_01_21_20_run_01_exec_20200121/sw/fastq_runid_7d0acceaaa1cedac5617dbfac6122f3441e9e66c_30_1.tsv\n",
      "[16:22:41 - __main__] Starting fastq (120 of 386)\n",
      "\t/path/to/data/MinION_sequencing_data_20200121/guppy_3.2.2_01_21_20_run_01_exec_20200121/pass/fastq_runid_7d0acceaaa1cedac5617dbfac6122f3441e9e66c_30_2.fastq\n"
     ]
    },
    {
     "name": "stdout",
     "output_type": "stream",
     "text": [
      "[########################################] | 100% Completed | 47.4s\n"
     ]
    },
    {
     "name": "stderr",
     "output_type": "stream",
     "text": [
      "[16:23:29 - __main__] Saving to file: /path/to/data/MinION_sequencing_data_20200121/guppy_3.2.2_01_21_20_run_01_exec_20200121/sw/fastq_runid_7d0acceaaa1cedac5617dbfac6122f3441e9e66c_30_2.tsv\n",
      "[16:23:29 - __main__] Starting fastq (121 of 386)\n",
      "\t/path/to/data/MinION_sequencing_data_20200121/guppy_3.2.2_01_21_20_run_01_exec_20200121/pass/fastq_runid_7d0acceaaa1cedac5617dbfac6122f3441e9e66c_31_0.fastq\n"
     ]
    },
    {
     "name": "stdout",
     "output_type": "stream",
     "text": [
      "[########################################] | 100% Completed | 44.3s\n"
     ]
    },
    {
     "name": "stderr",
     "output_type": "stream",
     "text": [
      "[16:24:14 - __main__] Saving to file: /path/to/data/MinION_sequencing_data_20200121/guppy_3.2.2_01_21_20_run_01_exec_20200121/sw/fastq_runid_7d0acceaaa1cedac5617dbfac6122f3441e9e66c_31_0.tsv\n",
      "[16:24:14 - __main__] Starting fastq (122 of 386)\n",
      "\t/path/to/data/MinION_sequencing_data_20200121/guppy_3.2.2_01_21_20_run_01_exec_20200121/pass/fastq_runid_7d0acceaaa1cedac5617dbfac6122f3441e9e66c_31_1.fastq\n"
     ]
    },
    {
     "name": "stdout",
     "output_type": "stream",
     "text": [
      "[########################################] | 100% Completed | 19.3s\n"
     ]
    },
    {
     "name": "stderr",
     "output_type": "stream",
     "text": [
      "[16:24:33 - __main__] Saving to file: /path/to/data/MinION_sequencing_data_20200121/guppy_3.2.2_01_21_20_run_01_exec_20200121/sw/fastq_runid_7d0acceaaa1cedac5617dbfac6122f3441e9e66c_31_1.tsv\n",
      "[16:24:33 - __main__] Starting fastq (123 of 386)\n",
      "\t/path/to/data/MinION_sequencing_data_20200121/guppy_3.2.2_01_21_20_run_01_exec_20200121/pass/fastq_runid_7d0acceaaa1cedac5617dbfac6122f3441e9e66c_28_3.fastq\n"
     ]
    },
    {
     "name": "stdout",
     "output_type": "stream",
     "text": [
      "[########################################] | 100% Completed | 20.0s\n"
     ]
    },
    {
     "name": "stderr",
     "output_type": "stream",
     "text": [
      "[16:24:54 - __main__] Saving to file: /path/to/data/MinION_sequencing_data_20200121/guppy_3.2.2_01_21_20_run_01_exec_20200121/sw/fastq_runid_7d0acceaaa1cedac5617dbfac6122f3441e9e66c_28_3.tsv\n",
      "[16:24:54 - __main__] Starting fastq (124 of 386)\n",
      "\t/path/to/data/MinION_sequencing_data_20200121/guppy_3.2.2_01_21_20_run_01_exec_20200121/pass/fastq_runid_7d0acceaaa1cedac5617dbfac6122f3441e9e66c_29_3.fastq\n"
     ]
    },
    {
     "name": "stdout",
     "output_type": "stream",
     "text": [
      "[########################################] | 100% Completed |  1.0s\n"
     ]
    },
    {
     "name": "stderr",
     "output_type": "stream",
     "text": [
      "[16:24:55 - __main__] Saving to file: /path/to/data/MinION_sequencing_data_20200121/guppy_3.2.2_01_21_20_run_01_exec_20200121/sw/fastq_runid_7d0acceaaa1cedac5617dbfac6122f3441e9e66c_29_3.tsv\n",
      "[16:24:55 - __main__] Starting fastq (125 of 386)\n",
      "\t/path/to/data/MinION_sequencing_data_20200121/guppy_3.2.2_01_21_20_run_01_exec_20200121/pass/fastq_runid_7d0acceaaa1cedac5617dbfac6122f3441e9e66c_30_3.fastq\n"
     ]
    },
    {
     "name": "stdout",
     "output_type": "stream",
     "text": [
      "[########################################] | 100% Completed |  0.9s\n"
     ]
    },
    {
     "name": "stderr",
     "output_type": "stream",
     "text": [
      "[16:24:57 - __main__] Saving to file: /path/to/data/MinION_sequencing_data_20200121/guppy_3.2.2_01_21_20_run_01_exec_20200121/sw/fastq_runid_7d0acceaaa1cedac5617dbfac6122f3441e9e66c_30_3.tsv\n",
      "[16:24:57 - __main__] Starting fastq (126 of 386)\n",
      "\t/path/to/data/MinION_sequencing_data_20200121/guppy_3.2.2_01_21_20_run_01_exec_20200121/pass/fastq_runid_7d0acceaaa1cedac5617dbfac6122f3441e9e66c_31_2.fastq\n"
     ]
    },
    {
     "name": "stdout",
     "output_type": "stream",
     "text": [
      "[########################################] | 100% Completed |  3.7s\n"
     ]
    },
    {
     "name": "stderr",
     "output_type": "stream",
     "text": [
      "[16:25:01 - __main__] Saving to file: /path/to/data/MinION_sequencing_data_20200121/guppy_3.2.2_01_21_20_run_01_exec_20200121/sw/fastq_runid_7d0acceaaa1cedac5617dbfac6122f3441e9e66c_31_2.tsv\n",
      "[16:25:01 - __main__] Starting fastq (127 of 386)\n",
      "\t/path/to/data/MinION_sequencing_data_20200121/guppy_3.2.2_01_21_20_run_01_exec_20200121/pass/fastq_runid_7d0acceaaa1cedac5617dbfac6122f3441e9e66c_32_0.fastq\n"
     ]
    },
    {
     "name": "stdout",
     "output_type": "stream",
     "text": [
      "[########################################] | 100% Completed |  1min 29.8s\n"
     ]
    },
    {
     "name": "stderr",
     "output_type": "stream",
     "text": [
      "[16:26:31 - __main__] Saving to file: /path/to/data/MinION_sequencing_data_20200121/guppy_3.2.2_01_21_20_run_01_exec_20200121/sw/fastq_runid_7d0acceaaa1cedac5617dbfac6122f3441e9e66c_32_0.tsv\n",
      "[16:26:31 - __main__] Starting fastq (128 of 386)\n",
      "\t/path/to/data/MinION_sequencing_data_20200121/guppy_3.2.2_01_21_20_run_01_exec_20200121/pass/fastq_runid_7d0acceaaa1cedac5617dbfac6122f3441e9e66c_32_1.fastq\n"
     ]
    },
    {
     "name": "stdout",
     "output_type": "stream",
     "text": [
      "[########################################] | 100% Completed | 24.9s\n"
     ]
    },
    {
     "name": "stderr",
     "output_type": "stream",
     "text": [
      "[16:26:56 - __main__] Saving to file: /path/to/data/MinION_sequencing_data_20200121/guppy_3.2.2_01_21_20_run_01_exec_20200121/sw/fastq_runid_7d0acceaaa1cedac5617dbfac6122f3441e9e66c_32_1.tsv\n",
      "[16:26:57 - __main__] Starting fastq (129 of 386)\n",
      "\t/path/to/data/MinION_sequencing_data_20200121/guppy_3.2.2_01_21_20_run_01_exec_20200121/pass/fastq_runid_7d0acceaaa1cedac5617dbfac6122f3441e9e66c_31_3.fastq\n"
     ]
    },
    {
     "name": "stdout",
     "output_type": "stream",
     "text": [
      "[########################################] | 100% Completed |  1min  0.1s\n"
     ]
    },
    {
     "name": "stderr",
     "output_type": "stream",
     "text": [
      "[16:27:57 - __main__] Saving to file: /path/to/data/MinION_sequencing_data_20200121/guppy_3.2.2_01_21_20_run_01_exec_20200121/sw/fastq_runid_7d0acceaaa1cedac5617dbfac6122f3441e9e66c_31_3.tsv\n",
      "[16:27:57 - __main__] Starting fastq (130 of 386)\n",
      "\t/path/to/data/MinION_sequencing_data_20200121/guppy_3.2.2_01_21_20_run_01_exec_20200121/pass/fastq_runid_7d0acceaaa1cedac5617dbfac6122f3441e9e66c_32_2.fastq\n"
     ]
    },
    {
     "name": "stdout",
     "output_type": "stream",
     "text": [
      "[########################################] | 100% Completed |  6.4s\n"
     ]
    },
    {
     "name": "stderr",
     "output_type": "stream",
     "text": [
      "[16:28:04 - __main__] Saving to file: /path/to/data/MinION_sequencing_data_20200121/guppy_3.2.2_01_21_20_run_01_exec_20200121/sw/fastq_runid_7d0acceaaa1cedac5617dbfac6122f3441e9e66c_32_2.tsv\n",
      "[16:28:04 - __main__] Starting fastq (131 of 386)\n",
      "\t/path/to/data/MinION_sequencing_data_20200121/guppy_3.2.2_01_21_20_run_01_exec_20200121/pass/fastq_runid_7d0acceaaa1cedac5617dbfac6122f3441e9e66c_33_0.fastq\n"
     ]
    },
    {
     "name": "stdout",
     "output_type": "stream",
     "text": [
      "[########################################] | 100% Completed |  1min 14.8s\n"
     ]
    },
    {
     "name": "stderr",
     "output_type": "stream",
     "text": [
      "[16:29:19 - __main__] Saving to file: /path/to/data/MinION_sequencing_data_20200121/guppy_3.2.2_01_21_20_run_01_exec_20200121/sw/fastq_runid_7d0acceaaa1cedac5617dbfac6122f3441e9e66c_33_0.tsv\n",
      "[16:29:19 - __main__] Starting fastq (132 of 386)\n",
      "\t/path/to/data/MinION_sequencing_data_20200121/guppy_3.2.2_01_21_20_run_01_exec_20200121/pass/fastq_runid_7d0acceaaa1cedac5617dbfac6122f3441e9e66c_33_1.fastq\n"
     ]
    },
    {
     "name": "stdout",
     "output_type": "stream",
     "text": [
      "[########################################] | 100% Completed | 52.9s\n"
     ]
    },
    {
     "name": "stderr",
     "output_type": "stream",
     "text": [
      "[16:30:13 - __main__] Saving to file: /path/to/data/MinION_sequencing_data_20200121/guppy_3.2.2_01_21_20_run_01_exec_20200121/sw/fastq_runid_7d0acceaaa1cedac5617dbfac6122f3441e9e66c_33_1.tsv\n",
      "[16:30:13 - __main__] Starting fastq (133 of 386)\n",
      "\t/path/to/data/MinION_sequencing_data_20200121/guppy_3.2.2_01_21_20_run_01_exec_20200121/pass/fastq_runid_7d0acceaaa1cedac5617dbfac6122f3441e9e66c_32_3.fastq\n"
     ]
    },
    {
     "name": "stdout",
     "output_type": "stream",
     "text": [
      "[########################################] | 100% Completed |  6.5s\n"
     ]
    },
    {
     "name": "stderr",
     "output_type": "stream",
     "text": [
      "[16:30:20 - __main__] Saving to file: /path/to/data/MinION_sequencing_data_20200121/guppy_3.2.2_01_21_20_run_01_exec_20200121/sw/fastq_runid_7d0acceaaa1cedac5617dbfac6122f3441e9e66c_32_3.tsv\n",
      "[16:30:20 - __main__] Starting fastq (134 of 386)\n",
      "\t/path/to/data/MinION_sequencing_data_20200121/guppy_3.2.2_01_21_20_run_01_exec_20200121/pass/fastq_runid_7d0acceaaa1cedac5617dbfac6122f3441e9e66c_33_2.fastq\n"
     ]
    },
    {
     "name": "stdout",
     "output_type": "stream",
     "text": [
      "[########################################] | 100% Completed |  3.7s\n"
     ]
    },
    {
     "name": "stderr",
     "output_type": "stream",
     "text": [
      "[16:30:24 - __main__] Saving to file: /path/to/data/MinION_sequencing_data_20200121/guppy_3.2.2_01_21_20_run_01_exec_20200121/sw/fastq_runid_7d0acceaaa1cedac5617dbfac6122f3441e9e66c_33_2.tsv\n",
      "[16:30:24 - __main__] Starting fastq (135 of 386)\n",
      "\t/path/to/data/MinION_sequencing_data_20200121/guppy_3.2.2_01_21_20_run_01_exec_20200121/pass/fastq_runid_7d0acceaaa1cedac5617dbfac6122f3441e9e66c_34_0.fastq\n"
     ]
    },
    {
     "name": "stdout",
     "output_type": "stream",
     "text": [
      "[########################################] | 100% Completed | 45.9s\n"
     ]
    },
    {
     "name": "stderr",
     "output_type": "stream",
     "text": [
      "[16:31:10 - __main__] Saving to file: /path/to/data/MinION_sequencing_data_20200121/guppy_3.2.2_01_21_20_run_01_exec_20200121/sw/fastq_runid_7d0acceaaa1cedac5617dbfac6122f3441e9e66c_34_0.tsv\n",
      "[16:31:10 - __main__] Starting fastq (136 of 386)\n",
      "\t/path/to/data/MinION_sequencing_data_20200121/guppy_3.2.2_01_21_20_run_01_exec_20200121/pass/fastq_runid_7d0acceaaa1cedac5617dbfac6122f3441e9e66c_33_3.fastq\n"
     ]
    },
    {
     "name": "stdout",
     "output_type": "stream",
     "text": [
      "[########################################] | 100% Completed |  0.9s\n"
     ]
    },
    {
     "name": "stderr",
     "output_type": "stream",
     "text": [
      "[16:31:12 - __main__] Saving to file: /path/to/data/MinION_sequencing_data_20200121/guppy_3.2.2_01_21_20_run_01_exec_20200121/sw/fastq_runid_7d0acceaaa1cedac5617dbfac6122f3441e9e66c_33_3.tsv\n",
      "[16:31:12 - __main__] Starting fastq (137 of 386)\n",
      "\t/path/to/data/MinION_sequencing_data_20200121/guppy_3.2.2_01_21_20_run_01_exec_20200121/pass/fastq_runid_7d0acceaaa1cedac5617dbfac6122f3441e9e66c_34_1.fastq\n"
     ]
    },
    {
     "name": "stdout",
     "output_type": "stream",
     "text": [
      "[########################################] | 100% Completed |  1min  4.5s\n"
     ]
    },
    {
     "name": "stderr",
     "output_type": "stream",
     "text": [
      "[16:32:17 - __main__] Saving to file: /path/to/data/MinION_sequencing_data_20200121/guppy_3.2.2_01_21_20_run_01_exec_20200121/sw/fastq_runid_7d0acceaaa1cedac5617dbfac6122f3441e9e66c_34_1.tsv\n",
      "[16:32:17 - __main__] Starting fastq (138 of 386)\n",
      "\t/path/to/data/MinION_sequencing_data_20200121/guppy_3.2.2_01_21_20_run_01_exec_20200121/pass/fastq_runid_7d0acceaaa1cedac5617dbfac6122f3441e9e66c_34_2.fastq\n"
     ]
    },
    {
     "name": "stdout",
     "output_type": "stream",
     "text": [
      "[########################################] | 100% Completed |  1.0s\n"
     ]
    },
    {
     "name": "stderr",
     "output_type": "stream",
     "text": [
      "[16:32:18 - __main__] Saving to file: /path/to/data/MinION_sequencing_data_20200121/guppy_3.2.2_01_21_20_run_01_exec_20200121/sw/fastq_runid_7d0acceaaa1cedac5617dbfac6122f3441e9e66c_34_2.tsv\n",
      "[16:32:18 - __main__] Starting fastq (139 of 386)\n",
      "\t/path/to/data/MinION_sequencing_data_20200121/guppy_3.2.2_01_21_20_run_01_exec_20200121/pass/fastq_runid_7d0acceaaa1cedac5617dbfac6122f3441e9e66c_35_0.fastq\n"
     ]
    },
    {
     "name": "stdout",
     "output_type": "stream",
     "text": [
      "[########################################] | 100% Completed |  1min 18.4s\n"
     ]
    },
    {
     "name": "stderr",
     "output_type": "stream",
     "text": [
      "[16:33:37 - __main__] Saving to file: /path/to/data/MinION_sequencing_data_20200121/guppy_3.2.2_01_21_20_run_01_exec_20200121/sw/fastq_runid_7d0acceaaa1cedac5617dbfac6122f3441e9e66c_35_0.tsv\n",
      "[16:33:37 - __main__] Starting fastq (140 of 386)\n",
      "\t/path/to/data/MinION_sequencing_data_20200121/guppy_3.2.2_01_21_20_run_01_exec_20200121/pass/fastq_runid_7d0acceaaa1cedac5617dbfac6122f3441e9e66c_35_1.fastq\n"
     ]
    },
    {
     "name": "stdout",
     "output_type": "stream",
     "text": [
      "[########################################] | 100% Completed | 22.9s\n"
     ]
    },
    {
     "name": "stderr",
     "output_type": "stream",
     "text": [
      "[16:34:01 - __main__] Saving to file: /path/to/data/MinION_sequencing_data_20200121/guppy_3.2.2_01_21_20_run_01_exec_20200121/sw/fastq_runid_7d0acceaaa1cedac5617dbfac6122f3441e9e66c_35_1.tsv\n",
      "[16:34:01 - __main__] Starting fastq (141 of 386)\n",
      "\t/path/to/data/MinION_sequencing_data_20200121/guppy_3.2.2_01_21_20_run_01_exec_20200121/pass/fastq_runid_7d0acceaaa1cedac5617dbfac6122f3441e9e66c_35_2.fastq\n"
     ]
    },
    {
     "name": "stdout",
     "output_type": "stream",
     "text": [
      "[########################################] | 100% Completed | 26.7s\n"
     ]
    },
    {
     "name": "stderr",
     "output_type": "stream",
     "text": [
      "[16:34:28 - __main__] Saving to file: /path/to/data/MinION_sequencing_data_20200121/guppy_3.2.2_01_21_20_run_01_exec_20200121/sw/fastq_runid_7d0acceaaa1cedac5617dbfac6122f3441e9e66c_35_2.tsv\n",
      "[16:34:28 - __main__] Starting fastq (142 of 386)\n",
      "\t/path/to/data/MinION_sequencing_data_20200121/guppy_3.2.2_01_21_20_run_01_exec_20200121/pass/fastq_runid_7d0acceaaa1cedac5617dbfac6122f3441e9e66c_34_3.fastq\n"
     ]
    },
    {
     "name": "stdout",
     "output_type": "stream",
     "text": [
      "[########################################] | 100% Completed | 20.1s\n"
     ]
    },
    {
     "name": "stderr",
     "output_type": "stream",
     "text": [
      "[16:34:48 - __main__] Saving to file: /path/to/data/MinION_sequencing_data_20200121/guppy_3.2.2_01_21_20_run_01_exec_20200121/sw/fastq_runid_7d0acceaaa1cedac5617dbfac6122f3441e9e66c_34_3.tsv\n",
      "[16:34:48 - __main__] Starting fastq (143 of 386)\n",
      "\t/path/to/data/MinION_sequencing_data_20200121/guppy_3.2.2_01_21_20_run_01_exec_20200121/pass/fastq_runid_7d0acceaaa1cedac5617dbfac6122f3441e9e66c_36_0.fastq\n"
     ]
    },
    {
     "name": "stdout",
     "output_type": "stream",
     "text": [
      "[########################################] | 100% Completed |  1min 25.4s\n"
     ]
    },
    {
     "name": "stderr",
     "output_type": "stream",
     "text": [
      "[16:36:14 - __main__] Saving to file: /path/to/data/MinION_sequencing_data_20200121/guppy_3.2.2_01_21_20_run_01_exec_20200121/sw/fastq_runid_7d0acceaaa1cedac5617dbfac6122f3441e9e66c_36_0.tsv\n",
      "[16:36:15 - __main__] Starting fastq (144 of 386)\n",
      "\t/path/to/data/MinION_sequencing_data_20200121/guppy_3.2.2_01_21_20_run_01_exec_20200121/pass/fastq_runid_7d0acceaaa1cedac5617dbfac6122f3441e9e66c_36_1.fastq\n"
     ]
    },
    {
     "name": "stdout",
     "output_type": "stream",
     "text": [
      "[########################################] | 100% Completed | 28.1s\n"
     ]
    },
    {
     "name": "stderr",
     "output_type": "stream",
     "text": [
      "[16:36:43 - __main__] Saving to file: /path/to/data/MinION_sequencing_data_20200121/guppy_3.2.2_01_21_20_run_01_exec_20200121/sw/fastq_runid_7d0acceaaa1cedac5617dbfac6122f3441e9e66c_36_1.tsv\n",
      "[16:36:43 - __main__] Starting fastq (145 of 386)\n",
      "\t/path/to/data/MinION_sequencing_data_20200121/guppy_3.2.2_01_21_20_run_01_exec_20200121/pass/fastq_runid_7d0acceaaa1cedac5617dbfac6122f3441e9e66c_35_3.fastq\n"
     ]
    },
    {
     "name": "stdout",
     "output_type": "stream",
     "text": [
      "[########################################] | 100% Completed |  1.9s\n"
     ]
    },
    {
     "name": "stderr",
     "output_type": "stream",
     "text": [
      "[16:36:45 - __main__] Saving to file: /path/to/data/MinION_sequencing_data_20200121/guppy_3.2.2_01_21_20_run_01_exec_20200121/sw/fastq_runid_7d0acceaaa1cedac5617dbfac6122f3441e9e66c_35_3.tsv\n",
      "[16:36:45 - __main__] Starting fastq (146 of 386)\n",
      "\t/path/to/data/MinION_sequencing_data_20200121/guppy_3.2.2_01_21_20_run_01_exec_20200121/pass/fastq_runid_7d0acceaaa1cedac5617dbfac6122f3441e9e66c_36_2.fastq\n"
     ]
    },
    {
     "name": "stdout",
     "output_type": "stream",
     "text": [
      "[########################################] | 100% Completed | 16.2s\n"
     ]
    },
    {
     "name": "stderr",
     "output_type": "stream",
     "text": [
      "[16:37:02 - __main__] Saving to file: /path/to/data/MinION_sequencing_data_20200121/guppy_3.2.2_01_21_20_run_01_exec_20200121/sw/fastq_runid_7d0acceaaa1cedac5617dbfac6122f3441e9e66c_36_2.tsv\n",
      "[16:37:02 - __main__] Starting fastq (147 of 386)\n",
      "\t/path/to/data/MinION_sequencing_data_20200121/guppy_3.2.2_01_21_20_run_01_exec_20200121/pass/fastq_runid_7d0acceaaa1cedac5617dbfac6122f3441e9e66c_37_0.fastq\n"
     ]
    },
    {
     "name": "stdout",
     "output_type": "stream",
     "text": [
      "[########################################] | 100% Completed | 33.3s\n"
     ]
    },
    {
     "name": "stderr",
     "output_type": "stream",
     "text": [
      "[16:37:36 - __main__] Saving to file: /path/to/data/MinION_sequencing_data_20200121/guppy_3.2.2_01_21_20_run_01_exec_20200121/sw/fastq_runid_7d0acceaaa1cedac5617dbfac6122f3441e9e66c_37_0.tsv\n",
      "[16:37:36 - __main__] Starting fastq (148 of 386)\n",
      "\t/path/to/data/MinION_sequencing_data_20200121/guppy_3.2.2_01_21_20_run_01_exec_20200121/pass/fastq_runid_7d0acceaaa1cedac5617dbfac6122f3441e9e66c_37_1.fastq\n"
     ]
    },
    {
     "name": "stdout",
     "output_type": "stream",
     "text": [
      "[########################################] | 100% Completed | 23.1s\n"
     ]
    },
    {
     "name": "stderr",
     "output_type": "stream",
     "text": [
      "[16:37:59 - __main__] Saving to file: /path/to/data/MinION_sequencing_data_20200121/guppy_3.2.2_01_21_20_run_01_exec_20200121/sw/fastq_runid_7d0acceaaa1cedac5617dbfac6122f3441e9e66c_37_1.tsv\n",
      "[16:38:00 - __main__] Starting fastq (149 of 386)\n",
      "\t/path/to/data/MinION_sequencing_data_20200121/guppy_3.2.2_01_21_20_run_01_exec_20200121/pass/fastq_runid_7d0acceaaa1cedac5617dbfac6122f3441e9e66c_37_2.fastq\n"
     ]
    },
    {
     "name": "stdout",
     "output_type": "stream",
     "text": [
      "[########################################] | 100% Completed |  1min 13.8s\n"
     ]
    },
    {
     "name": "stderr",
     "output_type": "stream",
     "text": [
      "[16:39:14 - __main__] Saving to file: /path/to/data/MinION_sequencing_data_20200121/guppy_3.2.2_01_21_20_run_01_exec_20200121/sw/fastq_runid_7d0acceaaa1cedac5617dbfac6122f3441e9e66c_37_2.tsv\n",
      "[16:39:14 - __main__] Starting fastq (150 of 386)\n",
      "\t/path/to/data/MinION_sequencing_data_20200121/guppy_3.2.2_01_21_20_run_01_exec_20200121/pass/fastq_runid_7d0acceaaa1cedac5617dbfac6122f3441e9e66c_37_3.fastq\n"
     ]
    },
    {
     "name": "stdout",
     "output_type": "stream",
     "text": [
      "[########################################] | 100% Completed |  3.4s\n"
     ]
    },
    {
     "name": "stderr",
     "output_type": "stream",
     "text": [
      "[16:39:18 - __main__] Saving to file: /path/to/data/MinION_sequencing_data_20200121/guppy_3.2.2_01_21_20_run_01_exec_20200121/sw/fastq_runid_7d0acceaaa1cedac5617dbfac6122f3441e9e66c_37_3.tsv\n",
      "[16:39:18 - __main__] Starting fastq (151 of 386)\n",
      "\t/path/to/data/MinION_sequencing_data_20200121/guppy_3.2.2_01_21_20_run_01_exec_20200121/pass/fastq_runid_7d0acceaaa1cedac5617dbfac6122f3441e9e66c_38_0.fastq\n"
     ]
    },
    {
     "name": "stdout",
     "output_type": "stream",
     "text": [
      "[########################################] | 100% Completed | 35.4s\n"
     ]
    },
    {
     "name": "stderr",
     "output_type": "stream",
     "text": [
      "[16:39:54 - __main__] Saving to file: /path/to/data/MinION_sequencing_data_20200121/guppy_3.2.2_01_21_20_run_01_exec_20200121/sw/fastq_runid_7d0acceaaa1cedac5617dbfac6122f3441e9e66c_38_0.tsv\n",
      "[16:39:54 - __main__] Starting fastq (152 of 386)\n",
      "\t/path/to/data/MinION_sequencing_data_20200121/guppy_3.2.2_01_21_20_run_01_exec_20200121/pass/fastq_runid_7d0acceaaa1cedac5617dbfac6122f3441e9e66c_38_1.fastq\n"
     ]
    },
    {
     "name": "stdout",
     "output_type": "stream",
     "text": [
      "[########################################] | 100% Completed | 26.8s\n"
     ]
    },
    {
     "name": "stderr",
     "output_type": "stream",
     "text": [
      "[16:40:21 - __main__] Saving to file: /path/to/data/MinION_sequencing_data_20200121/guppy_3.2.2_01_21_20_run_01_exec_20200121/sw/fastq_runid_7d0acceaaa1cedac5617dbfac6122f3441e9e66c_38_1.tsv\n",
      "[16:40:21 - __main__] Starting fastq (153 of 386)\n",
      "\t/path/to/data/MinION_sequencing_data_20200121/guppy_3.2.2_01_21_20_run_01_exec_20200121/pass/fastq_runid_7d0acceaaa1cedac5617dbfac6122f3441e9e66c_38_2.fastq\n"
     ]
    },
    {
     "name": "stdout",
     "output_type": "stream",
     "text": [
      "[########################################] | 100% Completed | 40.6s\n"
     ]
    },
    {
     "name": "stderr",
     "output_type": "stream",
     "text": [
      "[16:41:02 - __main__] Saving to file: /path/to/data/MinION_sequencing_data_20200121/guppy_3.2.2_01_21_20_run_01_exec_20200121/sw/fastq_runid_7d0acceaaa1cedac5617dbfac6122f3441e9e66c_38_2.tsv\n",
      "[16:41:02 - __main__] Starting fastq (154 of 386)\n",
      "\t/path/to/data/MinION_sequencing_data_20200121/guppy_3.2.2_01_21_20_run_01_exec_20200121/pass/fastq_runid_7d0acceaaa1cedac5617dbfac6122f3441e9e66c_39_0.fastq\n"
     ]
    },
    {
     "name": "stdout",
     "output_type": "stream",
     "text": [
      "[########################################] | 100% Completed | 28.2s\n"
     ]
    },
    {
     "name": "stderr",
     "output_type": "stream",
     "text": [
      "[16:41:31 - __main__] Saving to file: /path/to/data/MinION_sequencing_data_20200121/guppy_3.2.2_01_21_20_run_01_exec_20200121/sw/fastq_runid_7d0acceaaa1cedac5617dbfac6122f3441e9e66c_39_0.tsv\n",
      "[16:41:31 - __main__] Starting fastq (155 of 386)\n",
      "\t/path/to/data/MinION_sequencing_data_20200121/guppy_3.2.2_01_21_20_run_01_exec_20200121/pass/fastq_runid_7d0acceaaa1cedac5617dbfac6122f3441e9e66c_36_3.fastq\n"
     ]
    },
    {
     "name": "stdout",
     "output_type": "stream",
     "text": [
      "[########################################] | 100% Completed |  0.8s\n"
     ]
    },
    {
     "name": "stderr",
     "output_type": "stream",
     "text": [
      "[16:41:32 - __main__] Saving to file: /path/to/data/MinION_sequencing_data_20200121/guppy_3.2.2_01_21_20_run_01_exec_20200121/sw/fastq_runid_7d0acceaaa1cedac5617dbfac6122f3441e9e66c_36_3.tsv\n",
      "[16:41:32 - __main__] Starting fastq (156 of 386)\n",
      "\t/path/to/data/MinION_sequencing_data_20200121/guppy_3.2.2_01_21_20_run_01_exec_20200121/pass/fastq_runid_7d0acceaaa1cedac5617dbfac6122f3441e9e66c_39_1.fastq\n"
     ]
    },
    {
     "name": "stdout",
     "output_type": "stream",
     "text": [
      "[########################################] | 100% Completed |  1min  9.9s\n"
     ]
    },
    {
     "name": "stderr",
     "output_type": "stream",
     "text": [
      "[16:42:43 - __main__] Saving to file: /path/to/data/MinION_sequencing_data_20200121/guppy_3.2.2_01_21_20_run_01_exec_20200121/sw/fastq_runid_7d0acceaaa1cedac5617dbfac6122f3441e9e66c_39_1.tsv\n",
      "[16:42:43 - __main__] Starting fastq (157 of 386)\n",
      "\t/path/to/data/MinION_sequencing_data_20200121/guppy_3.2.2_01_21_20_run_01_exec_20200121/pass/fastq_runid_7d0acceaaa1cedac5617dbfac6122f3441e9e66c_38_3.fastq\n"
     ]
    },
    {
     "name": "stdout",
     "output_type": "stream",
     "text": [
      "[########################################] | 100% Completed | 26.5s\n"
     ]
    },
    {
     "name": "stderr",
     "output_type": "stream",
     "text": [
      "[16:43:10 - __main__] Saving to file: /path/to/data/MinION_sequencing_data_20200121/guppy_3.2.2_01_21_20_run_01_exec_20200121/sw/fastq_runid_7d0acceaaa1cedac5617dbfac6122f3441e9e66c_38_3.tsv\n",
      "[16:43:10 - __main__] Starting fastq (158 of 386)\n",
      "\t/path/to/data/MinION_sequencing_data_20200121/guppy_3.2.2_01_21_20_run_01_exec_20200121/pass/fastq_runid_7d0acceaaa1cedac5617dbfac6122f3441e9e66c_39_2.fastq\n"
     ]
    },
    {
     "name": "stdout",
     "output_type": "stream",
     "text": [
      "[########################################] | 100% Completed | 15.6s\n"
     ]
    },
    {
     "name": "stderr",
     "output_type": "stream",
     "text": [
      "[16:43:26 - __main__] Saving to file: /path/to/data/MinION_sequencing_data_20200121/guppy_3.2.2_01_21_20_run_01_exec_20200121/sw/fastq_runid_7d0acceaaa1cedac5617dbfac6122f3441e9e66c_39_2.tsv\n",
      "[16:43:26 - __main__] Starting fastq (159 of 386)\n",
      "\t/path/to/data/MinION_sequencing_data_20200121/guppy_3.2.2_01_21_20_run_01_exec_20200121/pass/fastq_runid_7d0acceaaa1cedac5617dbfac6122f3441e9e66c_39_3.fastq\n"
     ]
    },
    {
     "name": "stdout",
     "output_type": "stream",
     "text": [
      "[########################################] | 100% Completed | 16.1s\n"
     ]
    },
    {
     "name": "stderr",
     "output_type": "stream",
     "text": [
      "[16:43:42 - __main__] Saving to file: /path/to/data/MinION_sequencing_data_20200121/guppy_3.2.2_01_21_20_run_01_exec_20200121/sw/fastq_runid_7d0acceaaa1cedac5617dbfac6122f3441e9e66c_39_3.tsv\n",
      "[16:43:42 - __main__] Starting fastq (160 of 386)\n",
      "\t/path/to/data/MinION_sequencing_data_20200121/guppy_3.2.2_01_21_20_run_01_exec_20200121/pass/fastq_runid_7d0acceaaa1cedac5617dbfac6122f3441e9e66c_40_0.fastq\n"
     ]
    },
    {
     "name": "stdout",
     "output_type": "stream",
     "text": [
      "[########################################] | 100% Completed | 25.7s\n"
     ]
    },
    {
     "name": "stderr",
     "output_type": "stream",
     "text": [
      "[16:44:09 - __main__] Saving to file: /path/to/data/MinION_sequencing_data_20200121/guppy_3.2.2_01_21_20_run_01_exec_20200121/sw/fastq_runid_7d0acceaaa1cedac5617dbfac6122f3441e9e66c_40_0.tsv\n",
      "[16:44:09 - __main__] Starting fastq (161 of 386)\n",
      "\t/path/to/data/MinION_sequencing_data_20200121/guppy_3.2.2_01_21_20_run_01_exec_20200121/pass/fastq_runid_7d0acceaaa1cedac5617dbfac6122f3441e9e66c_40_1.fastq\n"
     ]
    },
    {
     "name": "stdout",
     "output_type": "stream",
     "text": [
      "[########################################] | 100% Completed | 34.7s\n"
     ]
    },
    {
     "name": "stderr",
     "output_type": "stream",
     "text": [
      "[16:44:44 - __main__] Saving to file: /path/to/data/MinION_sequencing_data_20200121/guppy_3.2.2_01_21_20_run_01_exec_20200121/sw/fastq_runid_7d0acceaaa1cedac5617dbfac6122f3441e9e66c_40_1.tsv\n",
      "[16:44:44 - __main__] Starting fastq (162 of 386)\n",
      "\t/path/to/data/MinION_sequencing_data_20200121/guppy_3.2.2_01_21_20_run_01_exec_20200121/pass/fastq_runid_7d0acceaaa1cedac5617dbfac6122f3441e9e66c_40_2.fastq\n"
     ]
    },
    {
     "name": "stdout",
     "output_type": "stream",
     "text": [
      "[########################################] | 100% Completed | 17.8s\n"
     ]
    },
    {
     "name": "stderr",
     "output_type": "stream",
     "text": [
      "[16:45:02 - __main__] Saving to file: /path/to/data/MinION_sequencing_data_20200121/guppy_3.2.2_01_21_20_run_01_exec_20200121/sw/fastq_runid_7d0acceaaa1cedac5617dbfac6122f3441e9e66c_40_2.tsv\n",
      "[16:45:02 - __main__] Starting fastq (163 of 386)\n",
      "\t/path/to/data/MinION_sequencing_data_20200121/guppy_3.2.2_01_21_20_run_01_exec_20200121/pass/fastq_runid_7d0acceaaa1cedac5617dbfac6122f3441e9e66c_40_3.fastq\n"
     ]
    },
    {
     "name": "stdout",
     "output_type": "stream",
     "text": [
      "[########################################] | 100% Completed | 51.7s\n"
     ]
    },
    {
     "name": "stderr",
     "output_type": "stream",
     "text": [
      "[16:45:54 - __main__] Saving to file: /path/to/data/MinION_sequencing_data_20200121/guppy_3.2.2_01_21_20_run_01_exec_20200121/sw/fastq_runid_7d0acceaaa1cedac5617dbfac6122f3441e9e66c_40_3.tsv\n",
      "[16:45:54 - __main__] Starting fastq (164 of 386)\n",
      "\t/path/to/data/MinION_sequencing_data_20200121/guppy_3.2.2_01_21_20_run_01_exec_20200121/pass/fastq_runid_7d0acceaaa1cedac5617dbfac6122f3441e9e66c_41_0.fastq\n"
     ]
    },
    {
     "name": "stdout",
     "output_type": "stream",
     "text": [
      "[########################################] | 100% Completed | 31.0s\n"
     ]
    },
    {
     "name": "stderr",
     "output_type": "stream",
     "text": [
      "[16:46:26 - __main__] Saving to file: /path/to/data/MinION_sequencing_data_20200121/guppy_3.2.2_01_21_20_run_01_exec_20200121/sw/fastq_runid_7d0acceaaa1cedac5617dbfac6122f3441e9e66c_41_0.tsv\n",
      "[16:46:26 - __main__] Starting fastq (165 of 386)\n",
      "\t/path/to/data/MinION_sequencing_data_20200121/guppy_3.2.2_01_21_20_run_01_exec_20200121/pass/fastq_runid_7d0acceaaa1cedac5617dbfac6122f3441e9e66c_41_1.fastq\n"
     ]
    },
    {
     "name": "stdout",
     "output_type": "stream",
     "text": [
      "[########################################] | 100% Completed | 15.1s\n"
     ]
    },
    {
     "name": "stderr",
     "output_type": "stream",
     "text": [
      "[16:46:41 - __main__] Saving to file: /path/to/data/MinION_sequencing_data_20200121/guppy_3.2.2_01_21_20_run_01_exec_20200121/sw/fastq_runid_7d0acceaaa1cedac5617dbfac6122f3441e9e66c_41_1.tsv\n",
      "[16:46:42 - __main__] Starting fastq (166 of 386)\n",
      "\t/path/to/data/MinION_sequencing_data_20200121/guppy_3.2.2_01_21_20_run_01_exec_20200121/pass/fastq_runid_7d0acceaaa1cedac5617dbfac6122f3441e9e66c_41_2.fastq\n"
     ]
    },
    {
     "name": "stdout",
     "output_type": "stream",
     "text": [
      "[########################################] | 100% Completed | 15.0s\n"
     ]
    },
    {
     "name": "stderr",
     "output_type": "stream",
     "text": [
      "[16:46:57 - __main__] Saving to file: /path/to/data/MinION_sequencing_data_20200121/guppy_3.2.2_01_21_20_run_01_exec_20200121/sw/fastq_runid_7d0acceaaa1cedac5617dbfac6122f3441e9e66c_41_2.tsv\n",
      "[16:46:57 - __main__] Starting fastq (167 of 386)\n",
      "\t/path/to/data/MinION_sequencing_data_20200121/guppy_3.2.2_01_21_20_run_01_exec_20200121/pass/fastq_runid_7d0acceaaa1cedac5617dbfac6122f3441e9e66c_41_3.fastq\n"
     ]
    },
    {
     "name": "stdout",
     "output_type": "stream",
     "text": [
      "[########################################] | 100% Completed |  1min  7.4s\n"
     ]
    },
    {
     "name": "stderr",
     "output_type": "stream",
     "text": [
      "[16:48:05 - __main__] Saving to file: /path/to/data/MinION_sequencing_data_20200121/guppy_3.2.2_01_21_20_run_01_exec_20200121/sw/fastq_runid_7d0acceaaa1cedac5617dbfac6122f3441e9e66c_41_3.tsv\n",
      "[16:48:05 - __main__] Starting fastq (168 of 386)\n",
      "\t/path/to/data/MinION_sequencing_data_20200121/guppy_3.2.2_01_21_20_run_01_exec_20200121/pass/fastq_runid_7d0acceaaa1cedac5617dbfac6122f3441e9e66c_42_0.fastq\n"
     ]
    },
    {
     "name": "stdout",
     "output_type": "stream",
     "text": [
      "[########################################] | 100% Completed | 32.4s\n"
     ]
    },
    {
     "name": "stderr",
     "output_type": "stream",
     "text": [
      "[16:48:38 - __main__] Saving to file: /path/to/data/MinION_sequencing_data_20200121/guppy_3.2.2_01_21_20_run_01_exec_20200121/sw/fastq_runid_7d0acceaaa1cedac5617dbfac6122f3441e9e66c_42_0.tsv\n",
      "[16:48:38 - __main__] Starting fastq (169 of 386)\n",
      "\t/path/to/data/MinION_sequencing_data_20200121/guppy_3.2.2_01_21_20_run_01_exec_20200121/pass/fastq_runid_7d0acceaaa1cedac5617dbfac6122f3441e9e66c_42_1.fastq\n"
     ]
    },
    {
     "name": "stdout",
     "output_type": "stream",
     "text": [
      "[########################################] | 100% Completed | 51.6s\n"
     ]
    },
    {
     "name": "stderr",
     "output_type": "stream",
     "text": [
      "[16:49:30 - __main__] Saving to file: /path/to/data/MinION_sequencing_data_20200121/guppy_3.2.2_01_21_20_run_01_exec_20200121/sw/fastq_runid_7d0acceaaa1cedac5617dbfac6122f3441e9e66c_42_1.tsv\n",
      "[16:49:30 - __main__] Starting fastq (170 of 386)\n",
      "\t/path/to/data/MinION_sequencing_data_20200121/guppy_3.2.2_01_21_20_run_01_exec_20200121/pass/fastq_runid_7d0acceaaa1cedac5617dbfac6122f3441e9e66c_42_2.fastq\n"
     ]
    },
    {
     "name": "stdout",
     "output_type": "stream",
     "text": [
      "[########################################] | 100% Completed | 47.8s\n"
     ]
    },
    {
     "name": "stderr",
     "output_type": "stream",
     "text": [
      "[16:50:18 - __main__] Saving to file: /path/to/data/MinION_sequencing_data_20200121/guppy_3.2.2_01_21_20_run_01_exec_20200121/sw/fastq_runid_7d0acceaaa1cedac5617dbfac6122f3441e9e66c_42_2.tsv\n",
      "[16:50:18 - __main__] Starting fastq (171 of 386)\n",
      "\t/path/to/data/MinION_sequencing_data_20200121/guppy_3.2.2_01_21_20_run_01_exec_20200121/pass/fastq_runid_7d0acceaaa1cedac5617dbfac6122f3441e9e66c_42_3.fastq\n"
     ]
    },
    {
     "name": "stdout",
     "output_type": "stream",
     "text": [
      "[########################################] | 100% Completed |  1.0s\n"
     ]
    },
    {
     "name": "stderr",
     "output_type": "stream",
     "text": [
      "[16:50:20 - __main__] Saving to file: /path/to/data/MinION_sequencing_data_20200121/guppy_3.2.2_01_21_20_run_01_exec_20200121/sw/fastq_runid_7d0acceaaa1cedac5617dbfac6122f3441e9e66c_42_3.tsv\n",
      "[16:50:20 - __main__] Starting fastq (172 of 386)\n",
      "\t/path/to/data/MinION_sequencing_data_20200121/guppy_3.2.2_01_21_20_run_01_exec_20200121/pass/fastq_runid_7d0acceaaa1cedac5617dbfac6122f3441e9e66c_43_0.fastq\n"
     ]
    },
    {
     "name": "stdout",
     "output_type": "stream",
     "text": [
      "[########################################] | 100% Completed | 40.0s\n"
     ]
    },
    {
     "name": "stderr",
     "output_type": "stream",
     "text": [
      "[16:51:00 - __main__] Saving to file: /path/to/data/MinION_sequencing_data_20200121/guppy_3.2.2_01_21_20_run_01_exec_20200121/sw/fastq_runid_7d0acceaaa1cedac5617dbfac6122f3441e9e66c_43_0.tsv\n",
      "[16:51:00 - __main__] Starting fastq (173 of 386)\n",
      "\t/path/to/data/MinION_sequencing_data_20200121/guppy_3.2.2_01_21_20_run_01_exec_20200121/pass/fastq_runid_7d0acceaaa1cedac5617dbfac6122f3441e9e66c_43_1.fastq\n"
     ]
    },
    {
     "name": "stdout",
     "output_type": "stream",
     "text": [
      "[########################################] | 100% Completed | 16.8s\n"
     ]
    },
    {
     "name": "stderr",
     "output_type": "stream",
     "text": [
      "[16:51:18 - __main__] Saving to file: /path/to/data/MinION_sequencing_data_20200121/guppy_3.2.2_01_21_20_run_01_exec_20200121/sw/fastq_runid_7d0acceaaa1cedac5617dbfac6122f3441e9e66c_43_1.tsv\n",
      "[16:51:18 - __main__] Starting fastq (174 of 386)\n",
      "\t/path/to/data/MinION_sequencing_data_20200121/guppy_3.2.2_01_21_20_run_01_exec_20200121/pass/fastq_runid_7d0acceaaa1cedac5617dbfac6122f3441e9e66c_43_2.fastq\n"
     ]
    },
    {
     "name": "stdout",
     "output_type": "stream",
     "text": [
      "[########################################] | 100% Completed |  2.8s\n"
     ]
    },
    {
     "name": "stderr",
     "output_type": "stream",
     "text": [
      "[16:51:21 - __main__] Saving to file: /path/to/data/MinION_sequencing_data_20200121/guppy_3.2.2_01_21_20_run_01_exec_20200121/sw/fastq_runid_7d0acceaaa1cedac5617dbfac6122f3441e9e66c_43_2.tsv\n",
      "[16:51:21 - __main__] Starting fastq (175 of 386)\n",
      "\t/path/to/data/MinION_sequencing_data_20200121/guppy_3.2.2_01_21_20_run_01_exec_20200121/pass/fastq_runid_7d0acceaaa1cedac5617dbfac6122f3441e9e66c_44_0.fastq\n"
     ]
    },
    {
     "name": "stdout",
     "output_type": "stream",
     "text": [
      "[########################################] | 100% Completed | 47.6s\n"
     ]
    },
    {
     "name": "stderr",
     "output_type": "stream",
     "text": [
      "[16:52:09 - __main__] Saving to file: /path/to/data/MinION_sequencing_data_20200121/guppy_3.2.2_01_21_20_run_01_exec_20200121/sw/fastq_runid_7d0acceaaa1cedac5617dbfac6122f3441e9e66c_44_0.tsv\n",
      "[16:52:09 - __main__] Starting fastq (176 of 386)\n",
      "\t/path/to/data/MinION_sequencing_data_20200121/guppy_3.2.2_01_21_20_run_01_exec_20200121/pass/fastq_runid_7d0acceaaa1cedac5617dbfac6122f3441e9e66c_44_1.fastq\n"
     ]
    },
    {
     "name": "stdout",
     "output_type": "stream",
     "text": [
      "[########################################] | 100% Completed | 29.2s\n"
     ]
    },
    {
     "name": "stderr",
     "output_type": "stream",
     "text": [
      "[16:52:39 - __main__] Saving to file: /path/to/data/MinION_sequencing_data_20200121/guppy_3.2.2_01_21_20_run_01_exec_20200121/sw/fastq_runid_7d0acceaaa1cedac5617dbfac6122f3441e9e66c_44_1.tsv\n",
      "[16:52:39 - __main__] Starting fastq (177 of 386)\n",
      "\t/path/to/data/MinION_sequencing_data_20200121/guppy_3.2.2_01_21_20_run_01_exec_20200121/pass/fastq_runid_7d0acceaaa1cedac5617dbfac6122f3441e9e66c_43_3.fastq\n"
     ]
    },
    {
     "name": "stdout",
     "output_type": "stream",
     "text": [
      "[########################################] | 100% Completed |  1min 13.7s\n"
     ]
    },
    {
     "name": "stderr",
     "output_type": "stream",
     "text": [
      "[16:53:53 - __main__] Saving to file: /path/to/data/MinION_sequencing_data_20200121/guppy_3.2.2_01_21_20_run_01_exec_20200121/sw/fastq_runid_7d0acceaaa1cedac5617dbfac6122f3441e9e66c_43_3.tsv\n",
      "[16:53:53 - __main__] Starting fastq (178 of 386)\n",
      "\t/path/to/data/MinION_sequencing_data_20200121/guppy_3.2.2_01_21_20_run_01_exec_20200121/pass/fastq_runid_7d0acceaaa1cedac5617dbfac6122f3441e9e66c_44_2.fastq\n"
     ]
    },
    {
     "name": "stdout",
     "output_type": "stream",
     "text": [
      "[########################################] | 100% Completed | 54.4s\n"
     ]
    },
    {
     "name": "stderr",
     "output_type": "stream",
     "text": [
      "[16:54:48 - __main__] Saving to file: /path/to/data/MinION_sequencing_data_20200121/guppy_3.2.2_01_21_20_run_01_exec_20200121/sw/fastq_runid_7d0acceaaa1cedac5617dbfac6122f3441e9e66c_44_2.tsv\n",
      "[16:54:48 - __main__] Starting fastq (179 of 386)\n",
      "\t/path/to/data/MinION_sequencing_data_20200121/guppy_3.2.2_01_21_20_run_01_exec_20200121/pass/fastq_runid_7d0acceaaa1cedac5617dbfac6122f3441e9e66c_45_0.fastq\n"
     ]
    },
    {
     "name": "stdout",
     "output_type": "stream",
     "text": [
      "[########################################] | 100% Completed | 50.4s\n"
     ]
    },
    {
     "name": "stderr",
     "output_type": "stream",
     "text": [
      "[16:55:39 - __main__] Saving to file: /path/to/data/MinION_sequencing_data_20200121/guppy_3.2.2_01_21_20_run_01_exec_20200121/sw/fastq_runid_7d0acceaaa1cedac5617dbfac6122f3441e9e66c_45_0.tsv\n",
      "[16:55:39 - __main__] Starting fastq (180 of 386)\n",
      "\t/path/to/data/MinION_sequencing_data_20200121/guppy_3.2.2_01_21_20_run_01_exec_20200121/pass/fastq_runid_7d0acceaaa1cedac5617dbfac6122f3441e9e66c_45_1.fastq\n"
     ]
    },
    {
     "name": "stdout",
     "output_type": "stream",
     "text": [
      "[########################################] | 100% Completed | 26.8s\n"
     ]
    },
    {
     "name": "stderr",
     "output_type": "stream",
     "text": [
      "[16:56:06 - __main__] Saving to file: /path/to/data/MinION_sequencing_data_20200121/guppy_3.2.2_01_21_20_run_01_exec_20200121/sw/fastq_runid_7d0acceaaa1cedac5617dbfac6122f3441e9e66c_45_1.tsv\n",
      "[16:56:06 - __main__] Starting fastq (181 of 386)\n",
      "\t/path/to/data/MinION_sequencing_data_20200121/guppy_3.2.2_01_21_20_run_01_exec_20200121/pass/fastq_runid_7d0acceaaa1cedac5617dbfac6122f3441e9e66c_45_2.fastq\n"
     ]
    },
    {
     "name": "stdout",
     "output_type": "stream",
     "text": [
      "[########################################] | 100% Completed | 35.7s\n"
     ]
    },
    {
     "name": "stderr",
     "output_type": "stream",
     "text": [
      "[16:56:42 - __main__] Saving to file: /path/to/data/MinION_sequencing_data_20200121/guppy_3.2.2_01_21_20_run_01_exec_20200121/sw/fastq_runid_7d0acceaaa1cedac5617dbfac6122f3441e9e66c_45_2.tsv\n",
      "[16:56:43 - __main__] Starting fastq (182 of 386)\n",
      "\t/path/to/data/MinION_sequencing_data_20200121/guppy_3.2.2_01_21_20_run_01_exec_20200121/pass/fastq_runid_7d0acceaaa1cedac5617dbfac6122f3441e9e66c_44_3.fastq\n"
     ]
    },
    {
     "name": "stdout",
     "output_type": "stream",
     "text": [
      "[########################################] | 100% Completed |  1.0s\n"
     ]
    },
    {
     "name": "stderr",
     "output_type": "stream",
     "text": [
      "[16:56:44 - __main__] Saving to file: /path/to/data/MinION_sequencing_data_20200121/guppy_3.2.2_01_21_20_run_01_exec_20200121/sw/fastq_runid_7d0acceaaa1cedac5617dbfac6122f3441e9e66c_44_3.tsv\n",
      "[16:56:44 - __main__] Starting fastq (183 of 386)\n",
      "\t/path/to/data/MinION_sequencing_data_20200121/guppy_3.2.2_01_21_20_run_01_exec_20200121/pass/fastq_runid_7d0acceaaa1cedac5617dbfac6122f3441e9e66c_45_3.fastq\n"
     ]
    },
    {
     "name": "stdout",
     "output_type": "stream",
     "text": [
      "[########################################] | 100% Completed | 19.7s\n"
     ]
    },
    {
     "name": "stderr",
     "output_type": "stream",
     "text": [
      "[16:57:04 - __main__] Saving to file: /path/to/data/MinION_sequencing_data_20200121/guppy_3.2.2_01_21_20_run_01_exec_20200121/sw/fastq_runid_7d0acceaaa1cedac5617dbfac6122f3441e9e66c_45_3.tsv\n",
      "[16:57:04 - __main__] Starting fastq (184 of 386)\n",
      "\t/path/to/data/MinION_sequencing_data_20200121/guppy_3.2.2_01_21_20_run_01_exec_20200121/pass/fastq_runid_7d0acceaaa1cedac5617dbfac6122f3441e9e66c_46_0.fastq\n"
     ]
    },
    {
     "name": "stdout",
     "output_type": "stream",
     "text": [
      "[########################################] | 100% Completed |  1min 23.6s\n"
     ]
    },
    {
     "name": "stderr",
     "output_type": "stream",
     "text": [
      "[16:58:28 - __main__] Saving to file: /path/to/data/MinION_sequencing_data_20200121/guppy_3.2.2_01_21_20_run_01_exec_20200121/sw/fastq_runid_7d0acceaaa1cedac5617dbfac6122f3441e9e66c_46_0.tsv\n",
      "[16:58:28 - __main__] Starting fastq (185 of 386)\n",
      "\t/path/to/data/MinION_sequencing_data_20200121/guppy_3.2.2_01_21_20_run_01_exec_20200121/pass/fastq_runid_7d0acceaaa1cedac5617dbfac6122f3441e9e66c_46_1.fastq\n"
     ]
    },
    {
     "name": "stdout",
     "output_type": "stream",
     "text": [
      "[########################################] | 100% Completed | 26.7s\n"
     ]
    },
    {
     "name": "stderr",
     "output_type": "stream",
     "text": [
      "[16:58:55 - __main__] Saving to file: /path/to/data/MinION_sequencing_data_20200121/guppy_3.2.2_01_21_20_run_01_exec_20200121/sw/fastq_runid_7d0acceaaa1cedac5617dbfac6122f3441e9e66c_46_1.tsv\n",
      "[16:58:56 - __main__] Starting fastq (186 of 386)\n",
      "\t/path/to/data/MinION_sequencing_data_20200121/guppy_3.2.2_01_21_20_run_01_exec_20200121/pass/fastq_runid_7d0acceaaa1cedac5617dbfac6122f3441e9e66c_46_2.fastq\n"
     ]
    },
    {
     "name": "stdout",
     "output_type": "stream",
     "text": [
      "[########################################] | 100% Completed | 16.6s\n"
     ]
    },
    {
     "name": "stderr",
     "output_type": "stream",
     "text": [
      "[16:59:13 - __main__] Saving to file: /path/to/data/MinION_sequencing_data_20200121/guppy_3.2.2_01_21_20_run_01_exec_20200121/sw/fastq_runid_7d0acceaaa1cedac5617dbfac6122f3441e9e66c_46_2.tsv\n",
      "[16:59:13 - __main__] Starting fastq (187 of 386)\n",
      "\t/path/to/data/MinION_sequencing_data_20200121/guppy_3.2.2_01_21_20_run_01_exec_20200121/pass/fastq_runid_7d0acceaaa1cedac5617dbfac6122f3441e9e66c_47_0.fastq\n"
     ]
    },
    {
     "name": "stdout",
     "output_type": "stream",
     "text": [
      "[########################################] | 100% Completed | 26.2s\n"
     ]
    },
    {
     "name": "stderr",
     "output_type": "stream",
     "text": [
      "[16:59:39 - __main__] Saving to file: /path/to/data/MinION_sequencing_data_20200121/guppy_3.2.2_01_21_20_run_01_exec_20200121/sw/fastq_runid_7d0acceaaa1cedac5617dbfac6122f3441e9e66c_47_0.tsv\n",
      "[16:59:39 - __main__] Starting fastq (188 of 386)\n",
      "\t/path/to/data/MinION_sequencing_data_20200121/guppy_3.2.2_01_21_20_run_01_exec_20200121/pass/fastq_runid_7d0acceaaa1cedac5617dbfac6122f3441e9e66c_46_3.fastq\n"
     ]
    },
    {
     "name": "stdout",
     "output_type": "stream",
     "text": [
      "[########################################] | 100% Completed |  1.8s\n"
     ]
    },
    {
     "name": "stderr",
     "output_type": "stream",
     "text": [
      "[16:59:42 - __main__] Saving to file: /path/to/data/MinION_sequencing_data_20200121/guppy_3.2.2_01_21_20_run_01_exec_20200121/sw/fastq_runid_7d0acceaaa1cedac5617dbfac6122f3441e9e66c_46_3.tsv\n",
      "[16:59:42 - __main__] Starting fastq (189 of 386)\n",
      "\t/path/to/data/MinION_sequencing_data_20200121/guppy_3.2.2_01_21_20_run_01_exec_20200121/pass/fastq_runid_7d0acceaaa1cedac5617dbfac6122f3441e9e66c_47_1.fastq\n"
     ]
    },
    {
     "name": "stdout",
     "output_type": "stream",
     "text": [
      "[########################################] | 100% Completed |  1min 10.0s\n"
     ]
    },
    {
     "name": "stderr",
     "output_type": "stream",
     "text": [
      "[17:00:52 - __main__] Saving to file: /path/to/data/MinION_sequencing_data_20200121/guppy_3.2.2_01_21_20_run_01_exec_20200121/sw/fastq_runid_7d0acceaaa1cedac5617dbfac6122f3441e9e66c_47_1.tsv\n",
      "[17:00:52 - __main__] Starting fastq (190 of 386)\n",
      "\t/path/to/data/MinION_sequencing_data_20200121/guppy_3.2.2_01_21_20_run_01_exec_20200121/pass/fastq_runid_7d0acceaaa1cedac5617dbfac6122f3441e9e66c_48_0.fastq\n"
     ]
    },
    {
     "name": "stdout",
     "output_type": "stream",
     "text": [
      "[########################################] | 100% Completed | 44.5s\n"
     ]
    },
    {
     "name": "stderr",
     "output_type": "stream",
     "text": [
      "[17:01:37 - __main__] Saving to file: /path/to/data/MinION_sequencing_data_20200121/guppy_3.2.2_01_21_20_run_01_exec_20200121/sw/fastq_runid_7d0acceaaa1cedac5617dbfac6122f3441e9e66c_48_0.tsv\n",
      "[17:01:37 - __main__] Starting fastq (191 of 386)\n",
      "\t/path/to/data/MinION_sequencing_data_20200121/guppy_3.2.2_01_21_20_run_01_exec_20200121/pass/fastq_runid_7d0acceaaa1cedac5617dbfac6122f3441e9e66c_47_2.fastq\n"
     ]
    },
    {
     "name": "stdout",
     "output_type": "stream",
     "text": [
      "[########################################] | 100% Completed | 18.3s\n"
     ]
    },
    {
     "name": "stderr",
     "output_type": "stream",
     "text": [
      "[17:01:56 - __main__] Saving to file: /path/to/data/MinION_sequencing_data_20200121/guppy_3.2.2_01_21_20_run_01_exec_20200121/sw/fastq_runid_7d0acceaaa1cedac5617dbfac6122f3441e9e66c_47_2.tsv\n",
      "[17:01:56 - __main__] Starting fastq (192 of 386)\n",
      "\t/path/to/data/MinION_sequencing_data_20200121/guppy_3.2.2_01_21_20_run_01_exec_20200121/pass/fastq_runid_7d0acceaaa1cedac5617dbfac6122f3441e9e66c_48_1.fastq\n"
     ]
    },
    {
     "name": "stdout",
     "output_type": "stream",
     "text": [
      "[########################################] | 100% Completed | 36.2s\n"
     ]
    },
    {
     "name": "stderr",
     "output_type": "stream",
     "text": [
      "[17:02:33 - __main__] Saving to file: /path/to/data/MinION_sequencing_data_20200121/guppy_3.2.2_01_21_20_run_01_exec_20200121/sw/fastq_runid_7d0acceaaa1cedac5617dbfac6122f3441e9e66c_48_1.tsv\n",
      "[17:02:33 - __main__] Starting fastq (193 of 386)\n",
      "\t/path/to/data/MinION_sequencing_data_20200121/guppy_3.2.2_01_21_20_run_01_exec_20200121/pass/fastq_runid_7d0acceaaa1cedac5617dbfac6122f3441e9e66c_49_0.fastq\n"
     ]
    },
    {
     "name": "stdout",
     "output_type": "stream",
     "text": [
      "[########################################] | 100% Completed | 49.0s\n"
     ]
    },
    {
     "name": "stderr",
     "output_type": "stream",
     "text": [
      "[17:03:22 - __main__] Saving to file: /path/to/data/MinION_sequencing_data_20200121/guppy_3.2.2_01_21_20_run_01_exec_20200121/sw/fastq_runid_7d0acceaaa1cedac5617dbfac6122f3441e9e66c_49_0.tsv\n",
      "[17:03:22 - __main__] Starting fastq (194 of 386)\n",
      "\t/path/to/data/MinION_sequencing_data_20200121/guppy_3.2.2_01_21_20_run_01_exec_20200121/pass/fastq_runid_7d0acceaaa1cedac5617dbfac6122f3441e9e66c_48_2.fastq\n"
     ]
    },
    {
     "name": "stdout",
     "output_type": "stream",
     "text": [
      "[########################################] | 100% Completed | 35.2s\n"
     ]
    },
    {
     "name": "stderr",
     "output_type": "stream",
     "text": [
      "[17:03:58 - __main__] Saving to file: /path/to/data/MinION_sequencing_data_20200121/guppy_3.2.2_01_21_20_run_01_exec_20200121/sw/fastq_runid_7d0acceaaa1cedac5617dbfac6122f3441e9e66c_48_2.tsv\n",
      "[17:03:58 - __main__] Starting fastq (195 of 386)\n",
      "\t/path/to/data/MinION_sequencing_data_20200121/guppy_3.2.2_01_21_20_run_01_exec_20200121/pass/fastq_runid_7d0acceaaa1cedac5617dbfac6122f3441e9e66c_49_1.fastq\n"
     ]
    },
    {
     "name": "stdout",
     "output_type": "stream",
     "text": [
      "[########################################] | 100% Completed |  1min 14.6s\n"
     ]
    },
    {
     "name": "stderr",
     "output_type": "stream",
     "text": [
      "[17:05:13 - __main__] Saving to file: /path/to/data/MinION_sequencing_data_20200121/guppy_3.2.2_01_21_20_run_01_exec_20200121/sw/fastq_runid_7d0acceaaa1cedac5617dbfac6122f3441e9e66c_49_1.tsv\n",
      "[17:05:13 - __main__] Starting fastq (196 of 386)\n",
      "\t/path/to/data/MinION_sequencing_data_20200121/guppy_3.2.2_01_21_20_run_01_exec_20200121/pass/fastq_runid_7d0acceaaa1cedac5617dbfac6122f3441e9e66c_50_0.fastq\n"
     ]
    },
    {
     "name": "stdout",
     "output_type": "stream",
     "text": [
      "[########################################] | 100% Completed |  1min 12.5s\n"
     ]
    },
    {
     "name": "stderr",
     "output_type": "stream",
     "text": [
      "[17:06:26 - __main__] Saving to file: /path/to/data/MinION_sequencing_data_20200121/guppy_3.2.2_01_21_20_run_01_exec_20200121/sw/fastq_runid_7d0acceaaa1cedac5617dbfac6122f3441e9e66c_50_0.tsv\n",
      "[17:06:26 - __main__] Starting fastq (197 of 386)\n",
      "\t/path/to/data/MinION_sequencing_data_20200121/guppy_3.2.2_01_21_20_run_01_exec_20200121/pass/fastq_runid_7d0acceaaa1cedac5617dbfac6122f3441e9e66c_49_2.fastq\n"
     ]
    },
    {
     "name": "stdout",
     "output_type": "stream",
     "text": [
      "[########################################] | 100% Completed |  1.0s\n"
     ]
    },
    {
     "name": "stderr",
     "output_type": "stream",
     "text": [
      "[17:06:27 - __main__] Saving to file: /path/to/data/MinION_sequencing_data_20200121/guppy_3.2.2_01_21_20_run_01_exec_20200121/sw/fastq_runid_7d0acceaaa1cedac5617dbfac6122f3441e9e66c_49_2.tsv\n",
      "[17:06:27 - __main__] Starting fastq (198 of 386)\n",
      "\t/path/to/data/MinION_sequencing_data_20200121/guppy_3.2.2_01_21_20_run_01_exec_20200121/pass/fastq_runid_7d0acceaaa1cedac5617dbfac6122f3441e9e66c_50_1.fastq\n"
     ]
    },
    {
     "name": "stdout",
     "output_type": "stream",
     "text": [
      "[########################################] | 100% Completed | 24.1s\n"
     ]
    },
    {
     "name": "stderr",
     "output_type": "stream",
     "text": [
      "[17:06:52 - __main__] Saving to file: /path/to/data/MinION_sequencing_data_20200121/guppy_3.2.2_01_21_20_run_01_exec_20200121/sw/fastq_runid_7d0acceaaa1cedac5617dbfac6122f3441e9e66c_50_1.tsv\n",
      "[17:06:52 - __main__] Starting fastq (199 of 386)\n",
      "\t/path/to/data/MinION_sequencing_data_20200121/guppy_3.2.2_01_21_20_run_01_exec_20200121/pass/fastq_runid_7d0acceaaa1cedac5617dbfac6122f3441e9e66c_47_3.fastq\n"
     ]
    },
    {
     "name": "stdout",
     "output_type": "stream",
     "text": [
      "[########################################] | 100% Completed | 16.5s\n"
     ]
    },
    {
     "name": "stderr",
     "output_type": "stream",
     "text": [
      "[17:07:09 - __main__] Saving to file: /path/to/data/MinION_sequencing_data_20200121/guppy_3.2.2_01_21_20_run_01_exec_20200121/sw/fastq_runid_7d0acceaaa1cedac5617dbfac6122f3441e9e66c_47_3.tsv\n",
      "[17:07:09 - __main__] Starting fastq (200 of 386)\n",
      "\t/path/to/data/MinION_sequencing_data_20200121/guppy_3.2.2_01_21_20_run_01_exec_20200121/pass/fastq_runid_7d0acceaaa1cedac5617dbfac6122f3441e9e66c_50_2.fastq\n"
     ]
    },
    {
     "name": "stdout",
     "output_type": "stream",
     "text": [
      "[########################################] | 100% Completed |  5.3s\n"
     ]
    },
    {
     "name": "stderr",
     "output_type": "stream",
     "text": [
      "[17:07:15 - __main__] Saving to file: /path/to/data/MinION_sequencing_data_20200121/guppy_3.2.2_01_21_20_run_01_exec_20200121/sw/fastq_runid_7d0acceaaa1cedac5617dbfac6122f3441e9e66c_50_2.tsv\n",
      "[17:07:15 - __main__] Starting fastq (201 of 386)\n",
      "\t/path/to/data/MinION_sequencing_data_20200121/guppy_3.2.2_01_21_20_run_01_exec_20200121/pass/fastq_runid_7d0acceaaa1cedac5617dbfac6122f3441e9e66c_51_0.fastq\n"
     ]
    },
    {
     "name": "stdout",
     "output_type": "stream",
     "text": [
      "[########################################] | 100% Completed | 32.1s\n"
     ]
    },
    {
     "name": "stderr",
     "output_type": "stream",
     "text": [
      "[17:07:47 - __main__] Saving to file: /path/to/data/MinION_sequencing_data_20200121/guppy_3.2.2_01_21_20_run_01_exec_20200121/sw/fastq_runid_7d0acceaaa1cedac5617dbfac6122f3441e9e66c_51_0.tsv\n",
      "[17:07:47 - __main__] Starting fastq (202 of 386)\n",
      "\t/path/to/data/MinION_sequencing_data_20200121/guppy_3.2.2_01_21_20_run_01_exec_20200121/pass/fastq_runid_7d0acceaaa1cedac5617dbfac6122f3441e9e66c_50_3.fastq\n"
     ]
    },
    {
     "name": "stdout",
     "output_type": "stream",
     "text": [
      "[########################################] | 100% Completed | 26.9s\n"
     ]
    },
    {
     "name": "stderr",
     "output_type": "stream",
     "text": [
      "[17:08:15 - __main__] Saving to file: /path/to/data/MinION_sequencing_data_20200121/guppy_3.2.2_01_21_20_run_01_exec_20200121/sw/fastq_runid_7d0acceaaa1cedac5617dbfac6122f3441e9e66c_50_3.tsv\n",
      "[17:08:15 - __main__] Starting fastq (203 of 386)\n",
      "\t/path/to/data/MinION_sequencing_data_20200121/guppy_3.2.2_01_21_20_run_01_exec_20200121/pass/fastq_runid_7d0acceaaa1cedac5617dbfac6122f3441e9e66c_48_3.fastq\n"
     ]
    },
    {
     "name": "stdout",
     "output_type": "stream",
     "text": [
      "[########################################] | 100% Completed | 13.8s\n"
     ]
    },
    {
     "name": "stderr",
     "output_type": "stream",
     "text": [
      "[17:08:29 - __main__] Saving to file: /path/to/data/MinION_sequencing_data_20200121/guppy_3.2.2_01_21_20_run_01_exec_20200121/sw/fastq_runid_7d0acceaaa1cedac5617dbfac6122f3441e9e66c_48_3.tsv\n",
      "[17:08:29 - __main__] Starting fastq (204 of 386)\n",
      "\t/path/to/data/MinION_sequencing_data_20200121/guppy_3.2.2_01_21_20_run_01_exec_20200121/pass/fastq_runid_7d0acceaaa1cedac5617dbfac6122f3441e9e66c_51_1.fastq\n"
     ]
    },
    {
     "name": "stdout",
     "output_type": "stream",
     "text": [
      "[########################################] | 100% Completed | 33.8s\n"
     ]
    },
    {
     "name": "stderr",
     "output_type": "stream",
     "text": [
      "[17:09:03 - __main__] Saving to file: /path/to/data/MinION_sequencing_data_20200121/guppy_3.2.2_01_21_20_run_01_exec_20200121/sw/fastq_runid_7d0acceaaa1cedac5617dbfac6122f3441e9e66c_51_1.tsv\n",
      "[17:09:04 - __main__] Starting fastq (205 of 386)\n",
      "\t/path/to/data/MinION_sequencing_data_20200121/guppy_3.2.2_01_21_20_run_01_exec_20200121/pass/fastq_runid_7d0acceaaa1cedac5617dbfac6122f3441e9e66c_52_0.fastq\n"
     ]
    },
    {
     "name": "stdout",
     "output_type": "stream",
     "text": [
      "[########################################] | 100% Completed | 45.3s\n"
     ]
    },
    {
     "name": "stderr",
     "output_type": "stream",
     "text": [
      "[17:09:49 - __main__] Saving to file: /path/to/data/MinION_sequencing_data_20200121/guppy_3.2.2_01_21_20_run_01_exec_20200121/sw/fastq_runid_7d0acceaaa1cedac5617dbfac6122f3441e9e66c_52_0.tsv\n",
      "[17:09:49 - __main__] Starting fastq (206 of 386)\n",
      "\t/path/to/data/MinION_sequencing_data_20200121/guppy_3.2.2_01_21_20_run_01_exec_20200121/pass/fastq_runid_7d0acceaaa1cedac5617dbfac6122f3441e9e66c_49_3.fastq\n"
     ]
    },
    {
     "name": "stdout",
     "output_type": "stream",
     "text": [
      "[########################################] | 100% Completed |  9.8s\n"
     ]
    },
    {
     "name": "stderr",
     "output_type": "stream",
     "text": [
      "[17:10:00 - __main__] Saving to file: /path/to/data/MinION_sequencing_data_20200121/guppy_3.2.2_01_21_20_run_01_exec_20200121/sw/fastq_runid_7d0acceaaa1cedac5617dbfac6122f3441e9e66c_49_3.tsv\n",
      "[17:10:00 - __main__] Starting fastq (207 of 386)\n",
      "\t/path/to/data/MinION_sequencing_data_20200121/guppy_3.2.2_01_21_20_run_01_exec_20200121/pass/fastq_runid_7d0acceaaa1cedac5617dbfac6122f3441e9e66c_51_2.fastq\n"
     ]
    },
    {
     "name": "stdout",
     "output_type": "stream",
     "text": [
      "[########################################] | 100% Completed |  1.1s\n"
     ]
    },
    {
     "name": "stderr",
     "output_type": "stream",
     "text": [
      "[17:10:01 - __main__] Saving to file: /path/to/data/MinION_sequencing_data_20200121/guppy_3.2.2_01_21_20_run_01_exec_20200121/sw/fastq_runid_7d0acceaaa1cedac5617dbfac6122f3441e9e66c_51_2.tsv\n",
      "[17:10:01 - __main__] Starting fastq (208 of 386)\n",
      "\t/path/to/data/MinION_sequencing_data_20200121/guppy_3.2.2_01_21_20_run_01_exec_20200121/pass/fastq_runid_7d0acceaaa1cedac5617dbfac6122f3441e9e66c_51_3.fastq\n"
     ]
    },
    {
     "name": "stdout",
     "output_type": "stream",
     "text": [
      "[########################################] | 100% Completed |  1min  1.7s\n"
     ]
    },
    {
     "name": "stderr",
     "output_type": "stream",
     "text": [
      "[17:11:03 - __main__] Saving to file: /path/to/data/MinION_sequencing_data_20200121/guppy_3.2.2_01_21_20_run_01_exec_20200121/sw/fastq_runid_7d0acceaaa1cedac5617dbfac6122f3441e9e66c_51_3.tsv\n",
      "[17:11:03 - __main__] Starting fastq (209 of 386)\n",
      "\t/path/to/data/MinION_sequencing_data_20200121/guppy_3.2.2_01_21_20_run_01_exec_20200121/pass/fastq_runid_7d0acceaaa1cedac5617dbfac6122f3441e9e66c_52_1.fastq\n"
     ]
    },
    {
     "name": "stdout",
     "output_type": "stream",
     "text": [
      "[########################################] | 100% Completed |  1min 11.7s\n"
     ]
    },
    {
     "name": "stderr",
     "output_type": "stream",
     "text": [
      "[17:12:16 - __main__] Saving to file: /path/to/data/MinION_sequencing_data_20200121/guppy_3.2.2_01_21_20_run_01_exec_20200121/sw/fastq_runid_7d0acceaaa1cedac5617dbfac6122f3441e9e66c_52_1.tsv\n",
      "[17:12:16 - __main__] Starting fastq (210 of 386)\n",
      "\t/path/to/data/MinION_sequencing_data_20200121/guppy_3.2.2_01_21_20_run_01_exec_20200121/pass/fastq_runid_7d0acceaaa1cedac5617dbfac6122f3441e9e66c_52_2.fastq\n"
     ]
    },
    {
     "name": "stdout",
     "output_type": "stream",
     "text": [
      "[########################################] | 100% Completed |  9.4s\n"
     ]
    },
    {
     "name": "stderr",
     "output_type": "stream",
     "text": [
      "[17:12:25 - __main__] Saving to file: /path/to/data/MinION_sequencing_data_20200121/guppy_3.2.2_01_21_20_run_01_exec_20200121/sw/fastq_runid_7d0acceaaa1cedac5617dbfac6122f3441e9e66c_52_2.tsv\n",
      "[17:12:25 - __main__] Starting fastq (211 of 386)\n",
      "\t/path/to/data/MinION_sequencing_data_20200121/guppy_3.2.2_01_21_20_run_01_exec_20200121/pass/fastq_runid_7d0acceaaa1cedac5617dbfac6122f3441e9e66c_53_0.fastq\n"
     ]
    },
    {
     "name": "stdout",
     "output_type": "stream",
     "text": [
      "[########################################] | 100% Completed | 35.1s\n"
     ]
    },
    {
     "name": "stderr",
     "output_type": "stream",
     "text": [
      "[17:13:01 - __main__] Saving to file: /path/to/data/MinION_sequencing_data_20200121/guppy_3.2.2_01_21_20_run_01_exec_20200121/sw/fastq_runid_7d0acceaaa1cedac5617dbfac6122f3441e9e66c_53_0.tsv\n",
      "[17:13:01 - __main__] Starting fastq (212 of 386)\n",
      "\t/path/to/data/MinION_sequencing_data_20200121/guppy_3.2.2_01_21_20_run_01_exec_20200121/pass/fastq_runid_7d0acceaaa1cedac5617dbfac6122f3441e9e66c_53_1.fastq\n"
     ]
    },
    {
     "name": "stdout",
     "output_type": "stream",
     "text": [
      "[########################################] | 100% Completed |  1min 33.7s\n"
     ]
    },
    {
     "name": "stderr",
     "output_type": "stream",
     "text": [
      "[17:14:35 - __main__] Saving to file: /path/to/data/MinION_sequencing_data_20200121/guppy_3.2.2_01_21_20_run_01_exec_20200121/sw/fastq_runid_7d0acceaaa1cedac5617dbfac6122f3441e9e66c_53_1.tsv\n",
      "[17:14:35 - __main__] Starting fastq (213 of 386)\n",
      "\t/path/to/data/MinION_sequencing_data_20200121/guppy_3.2.2_01_21_20_run_01_exec_20200121/pass/fastq_runid_7d0acceaaa1cedac5617dbfac6122f3441e9e66c_53_2.fastq\n"
     ]
    },
    {
     "name": "stdout",
     "output_type": "stream",
     "text": [
      "[########################################] | 100% Completed |  1.0s\n"
     ]
    },
    {
     "name": "stderr",
     "output_type": "stream",
     "text": [
      "[17:14:37 - __main__] Saving to file: /path/to/data/MinION_sequencing_data_20200121/guppy_3.2.2_01_21_20_run_01_exec_20200121/sw/fastq_runid_7d0acceaaa1cedac5617dbfac6122f3441e9e66c_53_2.tsv\n",
      "[17:14:37 - __main__] Starting fastq (214 of 386)\n",
      "\t/path/to/data/MinION_sequencing_data_20200121/guppy_3.2.2_01_21_20_run_01_exec_20200121/pass/fastq_runid_7d0acceaaa1cedac5617dbfac6122f3441e9e66c_54_0.fastq\n"
     ]
    },
    {
     "name": "stdout",
     "output_type": "stream",
     "text": [
      "[########################################] | 100% Completed | 50.6s\n"
     ]
    },
    {
     "name": "stderr",
     "output_type": "stream",
     "text": [
      "[17:15:28 - __main__] Saving to file: /path/to/data/MinION_sequencing_data_20200121/guppy_3.2.2_01_21_20_run_01_exec_20200121/sw/fastq_runid_7d0acceaaa1cedac5617dbfac6122f3441e9e66c_54_0.tsv\n",
      "[17:15:28 - __main__] Starting fastq (215 of 386)\n",
      "\t/path/to/data/MinION_sequencing_data_20200121/guppy_3.2.2_01_21_20_run_01_exec_20200121/pass/fastq_runid_7d0acceaaa1cedac5617dbfac6122f3441e9e66c_54_1.fastq\n"
     ]
    },
    {
     "name": "stdout",
     "output_type": "stream",
     "text": [
      "[########################################] | 100% Completed |  1min  1.4s\n"
     ]
    },
    {
     "name": "stderr",
     "output_type": "stream",
     "text": [
      "[17:16:30 - __main__] Saving to file: /path/to/data/MinION_sequencing_data_20200121/guppy_3.2.2_01_21_20_run_01_exec_20200121/sw/fastq_runid_7d0acceaaa1cedac5617dbfac6122f3441e9e66c_54_1.tsv\n",
      "[17:16:30 - __main__] Starting fastq (216 of 386)\n",
      "\t/path/to/data/MinION_sequencing_data_20200121/guppy_3.2.2_01_21_20_run_01_exec_20200121/pass/fastq_runid_7d0acceaaa1cedac5617dbfac6122f3441e9e66c_52_3.fastq\n"
     ]
    },
    {
     "name": "stdout",
     "output_type": "stream",
     "text": [
      "[########################################] | 100% Completed |  3.1s\n"
     ]
    },
    {
     "name": "stderr",
     "output_type": "stream",
     "text": [
      "[17:16:33 - __main__] Saving to file: /path/to/data/MinION_sequencing_data_20200121/guppy_3.2.2_01_21_20_run_01_exec_20200121/sw/fastq_runid_7d0acceaaa1cedac5617dbfac6122f3441e9e66c_52_3.tsv\n",
      "[17:16:33 - __main__] Starting fastq (217 of 386)\n",
      "\t/path/to/data/MinION_sequencing_data_20200121/guppy_3.2.2_01_21_20_run_01_exec_20200121/pass/fastq_runid_7d0acceaaa1cedac5617dbfac6122f3441e9e66c_53_3.fastq\n"
     ]
    },
    {
     "name": "stdout",
     "output_type": "stream",
     "text": [
      "[########################################] | 100% Completed |  0.9s\n"
     ]
    },
    {
     "name": "stderr",
     "output_type": "stream",
     "text": [
      "[17:16:35 - __main__] Saving to file: /path/to/data/MinION_sequencing_data_20200121/guppy_3.2.2_01_21_20_run_01_exec_20200121/sw/fastq_runid_7d0acceaaa1cedac5617dbfac6122f3441e9e66c_53_3.tsv\n",
      "[17:16:35 - __main__] Starting fastq (218 of 386)\n",
      "\t/path/to/data/MinION_sequencing_data_20200121/guppy_3.2.2_01_21_20_run_01_exec_20200121/pass/fastq_runid_7d0acceaaa1cedac5617dbfac6122f3441e9e66c_54_2.fastq\n"
     ]
    },
    {
     "name": "stdout",
     "output_type": "stream",
     "text": [
      "[########################################] | 100% Completed |  7.8s\n"
     ]
    },
    {
     "name": "stderr",
     "output_type": "stream",
     "text": [
      "[17:16:43 - __main__] Saving to file: /path/to/data/MinION_sequencing_data_20200121/guppy_3.2.2_01_21_20_run_01_exec_20200121/sw/fastq_runid_7d0acceaaa1cedac5617dbfac6122f3441e9e66c_54_2.tsv\n",
      "[17:16:43 - __main__] Starting fastq (219 of 386)\n",
      "\t/path/to/data/MinION_sequencing_data_20200121/guppy_3.2.2_01_21_20_run_01_exec_20200121/pass/fastq_runid_7d0acceaaa1cedac5617dbfac6122f3441e9e66c_55_0.fastq\n"
     ]
    },
    {
     "name": "stdout",
     "output_type": "stream",
     "text": [
      "[########################################] | 100% Completed | 18.4s\n"
     ]
    },
    {
     "name": "stderr",
     "output_type": "stream",
     "text": [
      "[17:17:02 - __main__] Saving to file: /path/to/data/MinION_sequencing_data_20200121/guppy_3.2.2_01_21_20_run_01_exec_20200121/sw/fastq_runid_7d0acceaaa1cedac5617dbfac6122f3441e9e66c_55_0.tsv\n",
      "[17:17:02 - __main__] Starting fastq (220 of 386)\n",
      "\t/path/to/data/MinION_sequencing_data_20200121/guppy_3.2.2_01_21_20_run_01_exec_20200121/pass/fastq_runid_7d0acceaaa1cedac5617dbfac6122f3441e9e66c_54_3.fastq\n"
     ]
    },
    {
     "name": "stdout",
     "output_type": "stream",
     "text": [
      "[########################################] | 100% Completed | 10.3s\n"
     ]
    },
    {
     "name": "stderr",
     "output_type": "stream",
     "text": [
      "[17:17:13 - __main__] Saving to file: /path/to/data/MinION_sequencing_data_20200121/guppy_3.2.2_01_21_20_run_01_exec_20200121/sw/fastq_runid_7d0acceaaa1cedac5617dbfac6122f3441e9e66c_54_3.tsv\n",
      "[17:17:13 - __main__] Starting fastq (221 of 386)\n",
      "\t/path/to/data/MinION_sequencing_data_20200121/guppy_3.2.2_01_21_20_run_01_exec_20200121/pass/fastq_runid_7d0acceaaa1cedac5617dbfac6122f3441e9e66c_55_1.fastq\n"
     ]
    },
    {
     "name": "stdout",
     "output_type": "stream",
     "text": [
      "[########################################] | 100% Completed | 28.4s\n"
     ]
    },
    {
     "name": "stderr",
     "output_type": "stream",
     "text": [
      "[17:17:42 - __main__] Saving to file: /path/to/data/MinION_sequencing_data_20200121/guppy_3.2.2_01_21_20_run_01_exec_20200121/sw/fastq_runid_7d0acceaaa1cedac5617dbfac6122f3441e9e66c_55_1.tsv\n",
      "[17:17:42 - __main__] Starting fastq (222 of 386)\n",
      "\t/path/to/data/MinION_sequencing_data_20200121/guppy_3.2.2_01_21_20_run_01_exec_20200121/pass/fastq_runid_7d0acceaaa1cedac5617dbfac6122f3441e9e66c_55_2.fastq\n"
     ]
    },
    {
     "name": "stdout",
     "output_type": "stream",
     "text": [
      "[########################################] | 100% Completed | 48.8s\n"
     ]
    },
    {
     "name": "stderr",
     "output_type": "stream",
     "text": [
      "[17:18:31 - __main__] Saving to file: /path/to/data/MinION_sequencing_data_20200121/guppy_3.2.2_01_21_20_run_01_exec_20200121/sw/fastq_runid_7d0acceaaa1cedac5617dbfac6122f3441e9e66c_55_2.tsv\n",
      "[17:18:31 - __main__] Starting fastq (223 of 386)\n",
      "\t/path/to/data/MinION_sequencing_data_20200121/guppy_3.2.2_01_21_20_run_01_exec_20200121/pass/fastq_runid_7d0acceaaa1cedac5617dbfac6122f3441e9e66c_56_0.fastq\n"
     ]
    },
    {
     "name": "stdout",
     "output_type": "stream",
     "text": [
      "[########################################] | 100% Completed | 49.6s\n"
     ]
    },
    {
     "name": "stderr",
     "output_type": "stream",
     "text": [
      "[17:19:21 - __main__] Saving to file: /path/to/data/MinION_sequencing_data_20200121/guppy_3.2.2_01_21_20_run_01_exec_20200121/sw/fastq_runid_7d0acceaaa1cedac5617dbfac6122f3441e9e66c_56_0.tsv\n",
      "[17:19:21 - __main__] Starting fastq (224 of 386)\n",
      "\t/path/to/data/MinION_sequencing_data_20200121/guppy_3.2.2_01_21_20_run_01_exec_20200121/pass/fastq_runid_7d0acceaaa1cedac5617dbfac6122f3441e9e66c_56_1.fastq\n"
     ]
    },
    {
     "name": "stdout",
     "output_type": "stream",
     "text": [
      "[########################################] | 100% Completed | 50.3s\n"
     ]
    },
    {
     "name": "stderr",
     "output_type": "stream",
     "text": [
      "[17:20:12 - __main__] Saving to file: /path/to/data/MinION_sequencing_data_20200121/guppy_3.2.2_01_21_20_run_01_exec_20200121/sw/fastq_runid_7d0acceaaa1cedac5617dbfac6122f3441e9e66c_56_1.tsv\n",
      "[17:20:12 - __main__] Starting fastq (225 of 386)\n",
      "\t/path/to/data/MinION_sequencing_data_20200121/guppy_3.2.2_01_21_20_run_01_exec_20200121/pass/fastq_runid_7d0acceaaa1cedac5617dbfac6122f3441e9e66c_55_3.fastq\n"
     ]
    },
    {
     "name": "stdout",
     "output_type": "stream",
     "text": [
      "[########################################] | 100% Completed | 35.6s\n"
     ]
    },
    {
     "name": "stderr",
     "output_type": "stream",
     "text": [
      "[17:20:48 - __main__] Saving to file: /path/to/data/MinION_sequencing_data_20200121/guppy_3.2.2_01_21_20_run_01_exec_20200121/sw/fastq_runid_7d0acceaaa1cedac5617dbfac6122f3441e9e66c_55_3.tsv\n",
      "[17:20:48 - __main__] Starting fastq (226 of 386)\n",
      "\t/path/to/data/MinION_sequencing_data_20200121/guppy_3.2.2_01_21_20_run_01_exec_20200121/pass/fastq_runid_7d0acceaaa1cedac5617dbfac6122f3441e9e66c_56_2.fastq\n"
     ]
    },
    {
     "name": "stdout",
     "output_type": "stream",
     "text": [
      "[########################################] | 100% Completed |  6.9s\n"
     ]
    },
    {
     "name": "stderr",
     "output_type": "stream",
     "text": [
      "[17:20:55 - __main__] Saving to file: /path/to/data/MinION_sequencing_data_20200121/guppy_3.2.2_01_21_20_run_01_exec_20200121/sw/fastq_runid_7d0acceaaa1cedac5617dbfac6122f3441e9e66c_56_2.tsv\n",
      "[17:20:55 - __main__] Starting fastq (227 of 386)\n",
      "\t/path/to/data/MinION_sequencing_data_20200121/guppy_3.2.2_01_21_20_run_01_exec_20200121/pass/fastq_runid_7d0acceaaa1cedac5617dbfac6122f3441e9e66c_57_0.fastq\n"
     ]
    },
    {
     "name": "stdout",
     "output_type": "stream",
     "text": [
      "[########################################] | 100% Completed | 21.2s\n"
     ]
    },
    {
     "name": "stderr",
     "output_type": "stream",
     "text": [
      "[17:21:17 - __main__] Saving to file: /path/to/data/MinION_sequencing_data_20200121/guppy_3.2.2_01_21_20_run_01_exec_20200121/sw/fastq_runid_7d0acceaaa1cedac5617dbfac6122f3441e9e66c_57_0.tsv\n",
      "[17:21:17 - __main__] Starting fastq (228 of 386)\n",
      "\t/path/to/data/MinION_sequencing_data_20200121/guppy_3.2.2_01_21_20_run_01_exec_20200121/pass/fastq_runid_7d0acceaaa1cedac5617dbfac6122f3441e9e66c_56_3.fastq\n"
     ]
    },
    {
     "name": "stdout",
     "output_type": "stream",
     "text": [
      "[########################################] | 100% Completed | 26.3s\n"
     ]
    },
    {
     "name": "stderr",
     "output_type": "stream",
     "text": [
      "[17:21:44 - __main__] Saving to file: /path/to/data/MinION_sequencing_data_20200121/guppy_3.2.2_01_21_20_run_01_exec_20200121/sw/fastq_runid_7d0acceaaa1cedac5617dbfac6122f3441e9e66c_56_3.tsv\n",
      "[17:21:44 - __main__] Starting fastq (229 of 386)\n",
      "\t/path/to/data/MinION_sequencing_data_20200121/guppy_3.2.2_01_21_20_run_01_exec_20200121/pass/fastq_runid_7d0acceaaa1cedac5617dbfac6122f3441e9e66c_57_1.fastq\n"
     ]
    },
    {
     "name": "stdout",
     "output_type": "stream",
     "text": [
      "[########################################] | 100% Completed | 43.3s\n"
     ]
    },
    {
     "name": "stderr",
     "output_type": "stream",
     "text": [
      "[17:22:28 - __main__] Saving to file: /path/to/data/MinION_sequencing_data_20200121/guppy_3.2.2_01_21_20_run_01_exec_20200121/sw/fastq_runid_7d0acceaaa1cedac5617dbfac6122f3441e9e66c_57_1.tsv\n",
      "[17:22:28 - __main__] Starting fastq (230 of 386)\n",
      "\t/path/to/data/MinION_sequencing_data_20200121/guppy_3.2.2_01_21_20_run_01_exec_20200121/pass/fastq_runid_7d0acceaaa1cedac5617dbfac6122f3441e9e66c_57_2.fastq\n"
     ]
    },
    {
     "name": "stdout",
     "output_type": "stream",
     "text": [
      "[########################################] | 100% Completed | 27.1s\n"
     ]
    },
    {
     "name": "stderr",
     "output_type": "stream",
     "text": [
      "[17:22:55 - __main__] Saving to file: /path/to/data/MinION_sequencing_data_20200121/guppy_3.2.2_01_21_20_run_01_exec_20200121/sw/fastq_runid_7d0acceaaa1cedac5617dbfac6122f3441e9e66c_57_2.tsv\n",
      "[17:22:55 - __main__] Starting fastq (231 of 386)\n",
      "\t/path/to/data/MinION_sequencing_data_20200121/guppy_3.2.2_01_21_20_run_01_exec_20200121/pass/fastq_runid_7d0acceaaa1cedac5617dbfac6122f3441e9e66c_58_0.fastq\n"
     ]
    },
    {
     "name": "stdout",
     "output_type": "stream",
     "text": [
      "[########################################] | 100% Completed |  1min 27.6s\n"
     ]
    },
    {
     "name": "stderr",
     "output_type": "stream",
     "text": [
      "[17:24:23 - __main__] Saving to file: /path/to/data/MinION_sequencing_data_20200121/guppy_3.2.2_01_21_20_run_01_exec_20200121/sw/fastq_runid_7d0acceaaa1cedac5617dbfac6122f3441e9e66c_58_0.tsv\n",
      "[17:24:24 - __main__] Starting fastq (232 of 386)\n",
      "\t/path/to/data/MinION_sequencing_data_20200121/guppy_3.2.2_01_21_20_run_01_exec_20200121/pass/fastq_runid_7d0acceaaa1cedac5617dbfac6122f3441e9e66c_58_1.fastq\n"
     ]
    },
    {
     "name": "stdout",
     "output_type": "stream",
     "text": [
      "[########################################] | 100% Completed | 38.8s\n"
     ]
    },
    {
     "name": "stderr",
     "output_type": "stream",
     "text": [
      "[17:25:03 - __main__] Saving to file: /path/to/data/MinION_sequencing_data_20200121/guppy_3.2.2_01_21_20_run_01_exec_20200121/sw/fastq_runid_7d0acceaaa1cedac5617dbfac6122f3441e9e66c_58_1.tsv\n",
      "[17:25:03 - __main__] Starting fastq (233 of 386)\n",
      "\t/path/to/data/MinION_sequencing_data_20200121/guppy_3.2.2_01_21_20_run_01_exec_20200121/pass/fastq_runid_7d0acceaaa1cedac5617dbfac6122f3441e9e66c_58_2.fastq\n"
     ]
    },
    {
     "name": "stdout",
     "output_type": "stream",
     "text": [
      "[########################################] | 100% Completed |  5.1s\n"
     ]
    },
    {
     "name": "stderr",
     "output_type": "stream",
     "text": [
      "[17:25:08 - __main__] Saving to file: /path/to/data/MinION_sequencing_data_20200121/guppy_3.2.2_01_21_20_run_01_exec_20200121/sw/fastq_runid_7d0acceaaa1cedac5617dbfac6122f3441e9e66c_58_2.tsv\n",
      "[17:25:08 - __main__] Starting fastq (234 of 386)\n",
      "\t/path/to/data/MinION_sequencing_data_20200121/guppy_3.2.2_01_21_20_run_01_exec_20200121/pass/fastq_runid_7d0acceaaa1cedac5617dbfac6122f3441e9e66c_57_3.fastq\n"
     ]
    },
    {
     "name": "stdout",
     "output_type": "stream",
     "text": [
      "[########################################] | 100% Completed | 40.2s\n"
     ]
    },
    {
     "name": "stderr",
     "output_type": "stream",
     "text": [
      "[17:25:49 - __main__] Saving to file: /path/to/data/MinION_sequencing_data_20200121/guppy_3.2.2_01_21_20_run_01_exec_20200121/sw/fastq_runid_7d0acceaaa1cedac5617dbfac6122f3441e9e66c_57_3.tsv\n",
      "[17:25:49 - __main__] Starting fastq (235 of 386)\n",
      "\t/path/to/data/MinION_sequencing_data_20200121/guppy_3.2.2_01_21_20_run_01_exec_20200121/pass/fastq_runid_7d0acceaaa1cedac5617dbfac6122f3441e9e66c_59_0.fastq\n"
     ]
    },
    {
     "name": "stdout",
     "output_type": "stream",
     "text": [
      "[########################################] | 100% Completed |  1min 15.3s\n"
     ]
    },
    {
     "name": "stderr",
     "output_type": "stream",
     "text": [
      "[17:27:05 - __main__] Saving to file: /path/to/data/MinION_sequencing_data_20200121/guppy_3.2.2_01_21_20_run_01_exec_20200121/sw/fastq_runid_7d0acceaaa1cedac5617dbfac6122f3441e9e66c_59_0.tsv\n",
      "[17:27:05 - __main__] Starting fastq (236 of 386)\n",
      "\t/path/to/data/MinION_sequencing_data_20200121/guppy_3.2.2_01_21_20_run_01_exec_20200121/pass/fastq_runid_7d0acceaaa1cedac5617dbfac6122f3441e9e66c_59_1.fastq\n"
     ]
    },
    {
     "name": "stdout",
     "output_type": "stream",
     "text": [
      "[########################################] | 100% Completed | 19.6s\n"
     ]
    },
    {
     "name": "stderr",
     "output_type": "stream",
     "text": [
      "[17:27:25 - __main__] Saving to file: /path/to/data/MinION_sequencing_data_20200121/guppy_3.2.2_01_21_20_run_01_exec_20200121/sw/fastq_runid_7d0acceaaa1cedac5617dbfac6122f3441e9e66c_59_1.tsv\n",
      "[17:27:25 - __main__] Starting fastq (237 of 386)\n",
      "\t/path/to/data/MinION_sequencing_data_20200121/guppy_3.2.2_01_21_20_run_01_exec_20200121/pass/fastq_runid_7d0acceaaa1cedac5617dbfac6122f3441e9e66c_59_2.fastq\n"
     ]
    },
    {
     "name": "stdout",
     "output_type": "stream",
     "text": [
      "[########################################] | 100% Completed | 34.1s\n"
     ]
    },
    {
     "name": "stderr",
     "output_type": "stream",
     "text": [
      "[17:27:59 - __main__] Saving to file: /path/to/data/MinION_sequencing_data_20200121/guppy_3.2.2_01_21_20_run_01_exec_20200121/sw/fastq_runid_7d0acceaaa1cedac5617dbfac6122f3441e9e66c_59_2.tsv\n",
      "[17:27:59 - __main__] Starting fastq (238 of 386)\n",
      "\t/path/to/data/MinION_sequencing_data_20200121/guppy_3.2.2_01_21_20_run_01_exec_20200121/pass/fastq_runid_7d0acceaaa1cedac5617dbfac6122f3441e9e66c_58_3.fastq\n"
     ]
    },
    {
     "name": "stdout",
     "output_type": "stream",
     "text": [
      "[########################################] | 100% Completed |  1.7s\n"
     ]
    },
    {
     "name": "stderr",
     "output_type": "stream",
     "text": [
      "[17:28:02 - __main__] Saving to file: /path/to/data/MinION_sequencing_data_20200121/guppy_3.2.2_01_21_20_run_01_exec_20200121/sw/fastq_runid_7d0acceaaa1cedac5617dbfac6122f3441e9e66c_58_3.tsv\n",
      "[17:28:02 - __main__] Starting fastq (239 of 386)\n",
      "\t/path/to/data/MinION_sequencing_data_20200121/guppy_3.2.2_01_21_20_run_01_exec_20200121/pass/fastq_runid_7d0acceaaa1cedac5617dbfac6122f3441e9e66c_60_0.fastq\n"
     ]
    },
    {
     "name": "stdout",
     "output_type": "stream",
     "text": [
      "[########################################] | 100% Completed | 53.5s\n"
     ]
    },
    {
     "name": "stderr",
     "output_type": "stream",
     "text": [
      "[17:28:56 - __main__] Saving to file: /path/to/data/MinION_sequencing_data_20200121/guppy_3.2.2_01_21_20_run_01_exec_20200121/sw/fastq_runid_7d0acceaaa1cedac5617dbfac6122f3441e9e66c_60_0.tsv\n",
      "[17:28:56 - __main__] Starting fastq (240 of 386)\n",
      "\t/path/to/data/MinION_sequencing_data_20200121/guppy_3.2.2_01_21_20_run_01_exec_20200121/pass/fastq_runid_7d0acceaaa1cedac5617dbfac6122f3441e9e66c_60_1.fastq\n"
     ]
    },
    {
     "name": "stdout",
     "output_type": "stream",
     "text": [
      "[########################################] | 100% Completed | 30.6s\n"
     ]
    },
    {
     "name": "stderr",
     "output_type": "stream",
     "text": [
      "[17:29:27 - __main__] Saving to file: /path/to/data/MinION_sequencing_data_20200121/guppy_3.2.2_01_21_20_run_01_exec_20200121/sw/fastq_runid_7d0acceaaa1cedac5617dbfac6122f3441e9e66c_60_1.tsv\n",
      "[17:29:27 - __main__] Starting fastq (241 of 386)\n",
      "\t/path/to/data/MinION_sequencing_data_20200121/guppy_3.2.2_01_21_20_run_01_exec_20200121/pass/fastq_runid_7d0acceaaa1cedac5617dbfac6122f3441e9e66c_60_2.fastq\n"
     ]
    },
    {
     "name": "stdout",
     "output_type": "stream",
     "text": [
      "[########################################] | 100% Completed | 41.3s\n"
     ]
    },
    {
     "name": "stderr",
     "output_type": "stream",
     "text": [
      "[17:30:09 - __main__] Saving to file: /path/to/data/MinION_sequencing_data_20200121/guppy_3.2.2_01_21_20_run_01_exec_20200121/sw/fastq_runid_7d0acceaaa1cedac5617dbfac6122f3441e9e66c_60_2.tsv\n",
      "[17:30:09 - __main__] Starting fastq (242 of 386)\n",
      "\t/path/to/data/MinION_sequencing_data_20200121/guppy_3.2.2_01_21_20_run_01_exec_20200121/pass/fastq_runid_7d0acceaaa1cedac5617dbfac6122f3441e9e66c_59_3.fastq\n"
     ]
    },
    {
     "name": "stdout",
     "output_type": "stream",
     "text": [
      "[########################################] | 100% Completed |  1.0s\n"
     ]
    },
    {
     "name": "stderr",
     "output_type": "stream",
     "text": [
      "[17:30:10 - __main__] Saving to file: /path/to/data/MinION_sequencing_data_20200121/guppy_3.2.2_01_21_20_run_01_exec_20200121/sw/fastq_runid_7d0acceaaa1cedac5617dbfac6122f3441e9e66c_59_3.tsv\n",
      "[17:30:10 - __main__] Starting fastq (243 of 386)\n",
      "\t/path/to/data/MinION_sequencing_data_20200121/guppy_3.2.2_01_21_20_run_01_exec_20200121/pass/fastq_runid_7d0acceaaa1cedac5617dbfac6122f3441e9e66c_60_3.fastq\n"
     ]
    },
    {
     "name": "stdout",
     "output_type": "stream",
     "text": [
      "[########################################] | 100% Completed |  6.8s\n"
     ]
    },
    {
     "name": "stderr",
     "output_type": "stream",
     "text": [
      "[17:30:17 - __main__] Saving to file: /path/to/data/MinION_sequencing_data_20200121/guppy_3.2.2_01_21_20_run_01_exec_20200121/sw/fastq_runid_7d0acceaaa1cedac5617dbfac6122f3441e9e66c_60_3.tsv\n",
      "[17:30:17 - __main__] Starting fastq (244 of 386)\n",
      "\t/path/to/data/MinION_sequencing_data_20200121/guppy_3.2.2_01_21_20_run_01_exec_20200121/pass/fastq_runid_7d0acceaaa1cedac5617dbfac6122f3441e9e66c_61_0.fastq\n"
     ]
    },
    {
     "name": "stdout",
     "output_type": "stream",
     "text": [
      "[########################################] | 100% Completed | 40.9s\n"
     ]
    },
    {
     "name": "stderr",
     "output_type": "stream",
     "text": [
      "[17:30:59 - __main__] Saving to file: /path/to/data/MinION_sequencing_data_20200121/guppy_3.2.2_01_21_20_run_01_exec_20200121/sw/fastq_runid_7d0acceaaa1cedac5617dbfac6122f3441e9e66c_61_0.tsv\n",
      "[17:30:59 - __main__] Starting fastq (245 of 386)\n",
      "\t/path/to/data/MinION_sequencing_data_20200121/guppy_3.2.2_01_21_20_run_01_exec_20200121/pass/fastq_runid_7d0acceaaa1cedac5617dbfac6122f3441e9e66c_61_1.fastq\n"
     ]
    },
    {
     "name": "stdout",
     "output_type": "stream",
     "text": [
      "[########################################] | 100% Completed | 40.5s\n"
     ]
    },
    {
     "name": "stderr",
     "output_type": "stream",
     "text": [
      "[17:31:40 - __main__] Saving to file: /path/to/data/MinION_sequencing_data_20200121/guppy_3.2.2_01_21_20_run_01_exec_20200121/sw/fastq_runid_7d0acceaaa1cedac5617dbfac6122f3441e9e66c_61_1.tsv\n",
      "[17:31:40 - __main__] Starting fastq (246 of 386)\n",
      "\t/path/to/data/MinION_sequencing_data_20200121/guppy_3.2.2_01_21_20_run_01_exec_20200121/pass/fastq_runid_7d0acceaaa1cedac5617dbfac6122f3441e9e66c_61_2.fastq\n"
     ]
    },
    {
     "name": "stdout",
     "output_type": "stream",
     "text": [
      "[########################################] | 100% Completed | 41.7s\n"
     ]
    },
    {
     "name": "stderr",
     "output_type": "stream",
     "text": [
      "[17:32:22 - __main__] Saving to file: /path/to/data/MinION_sequencing_data_20200121/guppy_3.2.2_01_21_20_run_01_exec_20200121/sw/fastq_runid_7d0acceaaa1cedac5617dbfac6122f3441e9e66c_61_2.tsv\n",
      "[17:32:22 - __main__] Starting fastq (247 of 386)\n",
      "\t/path/to/data/MinION_sequencing_data_20200121/guppy_3.2.2_01_21_20_run_01_exec_20200121/pass/fastq_runid_7d0acceaaa1cedac5617dbfac6122f3441e9e66c_61_3.fastq\n"
     ]
    },
    {
     "name": "stdout",
     "output_type": "stream",
     "text": [
      "[########################################] | 100% Completed |  7.9s\n"
     ]
    },
    {
     "name": "stderr",
     "output_type": "stream",
     "text": [
      "[17:32:30 - __main__] Saving to file: /path/to/data/MinION_sequencing_data_20200121/guppy_3.2.2_01_21_20_run_01_exec_20200121/sw/fastq_runid_7d0acceaaa1cedac5617dbfac6122f3441e9e66c_61_3.tsv\n",
      "[17:32:30 - __main__] Starting fastq (248 of 386)\n",
      "\t/path/to/data/MinION_sequencing_data_20200121/guppy_3.2.2_01_21_20_run_01_exec_20200121/pass/fastq_runid_7d0acceaaa1cedac5617dbfac6122f3441e9e66c_62_0.fastq\n"
     ]
    },
    {
     "name": "stdout",
     "output_type": "stream",
     "text": [
      "[########################################] | 100% Completed | 25.7s\n"
     ]
    },
    {
     "name": "stderr",
     "output_type": "stream",
     "text": [
      "[17:32:56 - __main__] Saving to file: /path/to/data/MinION_sequencing_data_20200121/guppy_3.2.2_01_21_20_run_01_exec_20200121/sw/fastq_runid_7d0acceaaa1cedac5617dbfac6122f3441e9e66c_62_0.tsv\n",
      "[17:32:56 - __main__] Starting fastq (249 of 386)\n",
      "\t/path/to/data/MinION_sequencing_data_20200121/guppy_3.2.2_01_21_20_run_01_exec_20200121/pass/fastq_runid_7d0acceaaa1cedac5617dbfac6122f3441e9e66c_62_1.fastq\n"
     ]
    },
    {
     "name": "stdout",
     "output_type": "stream",
     "text": [
      "[########################################] | 100% Completed |  1min  5.8s\n"
     ]
    },
    {
     "name": "stderr",
     "output_type": "stream",
     "text": [
      "[17:34:03 - __main__] Saving to file: /path/to/data/MinION_sequencing_data_20200121/guppy_3.2.2_01_21_20_run_01_exec_20200121/sw/fastq_runid_7d0acceaaa1cedac5617dbfac6122f3441e9e66c_62_1.tsv\n",
      "[17:34:03 - __main__] Starting fastq (250 of 386)\n",
      "\t/path/to/data/MinION_sequencing_data_20200121/guppy_3.2.2_01_21_20_run_01_exec_20200121/pass/fastq_runid_7d0acceaaa1cedac5617dbfac6122f3441e9e66c_62_2.fastq\n"
     ]
    },
    {
     "name": "stdout",
     "output_type": "stream",
     "text": [
      "[########################################] | 100% Completed | 36.9s\n"
     ]
    },
    {
     "name": "stderr",
     "output_type": "stream",
     "text": [
      "[17:34:40 - __main__] Saving to file: /path/to/data/MinION_sequencing_data_20200121/guppy_3.2.2_01_21_20_run_01_exec_20200121/sw/fastq_runid_7d0acceaaa1cedac5617dbfac6122f3441e9e66c_62_2.tsv\n",
      "[17:34:40 - __main__] Starting fastq (251 of 386)\n",
      "\t/path/to/data/MinION_sequencing_data_20200121/guppy_3.2.2_01_21_20_run_01_exec_20200121/pass/fastq_runid_7d0acceaaa1cedac5617dbfac6122f3441e9e66c_62_3.fastq\n"
     ]
    },
    {
     "name": "stdout",
     "output_type": "stream",
     "text": [
      "[########################################] | 100% Completed |  4.6s\n"
     ]
    },
    {
     "name": "stderr",
     "output_type": "stream",
     "text": [
      "[17:34:45 - __main__] Saving to file: /path/to/data/MinION_sequencing_data_20200121/guppy_3.2.2_01_21_20_run_01_exec_20200121/sw/fastq_runid_7d0acceaaa1cedac5617dbfac6122f3441e9e66c_62_3.tsv\n",
      "[17:34:45 - __main__] Starting fastq (252 of 386)\n",
      "\t/path/to/data/MinION_sequencing_data_20200121/guppy_3.2.2_01_21_20_run_01_exec_20200121/pass/fastq_runid_7d0acceaaa1cedac5617dbfac6122f3441e9e66c_63_0.fastq\n"
     ]
    },
    {
     "name": "stdout",
     "output_type": "stream",
     "text": [
      "[########################################] | 100% Completed | 40.3s\n"
     ]
    },
    {
     "name": "stderr",
     "output_type": "stream",
     "text": [
      "[17:35:26 - __main__] Saving to file: /path/to/data/MinION_sequencing_data_20200121/guppy_3.2.2_01_21_20_run_01_exec_20200121/sw/fastq_runid_7d0acceaaa1cedac5617dbfac6122f3441e9e66c_63_0.tsv\n",
      "[17:35:26 - __main__] Starting fastq (253 of 386)\n",
      "\t/path/to/data/MinION_sequencing_data_20200121/guppy_3.2.2_01_21_20_run_01_exec_20200121/pass/fastq_runid_7d0acceaaa1cedac5617dbfac6122f3441e9e66c_63_1.fastq\n"
     ]
    },
    {
     "name": "stdout",
     "output_type": "stream",
     "text": [
      "[########################################] | 100% Completed | 24.2s\n"
     ]
    },
    {
     "name": "stderr",
     "output_type": "stream",
     "text": [
      "[17:35:51 - __main__] Saving to file: /path/to/data/MinION_sequencing_data_20200121/guppy_3.2.2_01_21_20_run_01_exec_20200121/sw/fastq_runid_7d0acceaaa1cedac5617dbfac6122f3441e9e66c_63_1.tsv\n",
      "[17:35:51 - __main__] Starting fastq (254 of 386)\n",
      "\t/path/to/data/MinION_sequencing_data_20200121/guppy_3.2.2_01_21_20_run_01_exec_20200121/pass/fastq_runid_7d0acceaaa1cedac5617dbfac6122f3441e9e66c_63_2.fastq\n"
     ]
    },
    {
     "name": "stdout",
     "output_type": "stream",
     "text": [
      "[########################################] | 100% Completed | 48.7s\n"
     ]
    },
    {
     "name": "stderr",
     "output_type": "stream",
     "text": [
      "[17:36:40 - __main__] Saving to file: /path/to/data/MinION_sequencing_data_20200121/guppy_3.2.2_01_21_20_run_01_exec_20200121/sw/fastq_runid_7d0acceaaa1cedac5617dbfac6122f3441e9e66c_63_2.tsv\n",
      "[17:36:40 - __main__] Starting fastq (255 of 386)\n",
      "\t/path/to/data/MinION_sequencing_data_20200121/guppy_3.2.2_01_21_20_run_01_exec_20200121/pass/fastq_runid_7d0acceaaa1cedac5617dbfac6122f3441e9e66c_64_0.fastq\n"
     ]
    },
    {
     "name": "stdout",
     "output_type": "stream",
     "text": [
      "[########################################] | 100% Completed |  1min 11.1s\n"
     ]
    },
    {
     "name": "stderr",
     "output_type": "stream",
     "text": [
      "[17:37:51 - __main__] Saving to file: /path/to/data/MinION_sequencing_data_20200121/guppy_3.2.2_01_21_20_run_01_exec_20200121/sw/fastq_runid_7d0acceaaa1cedac5617dbfac6122f3441e9e66c_64_0.tsv\n",
      "[17:37:52 - __main__] Starting fastq (256 of 386)\n",
      "\t/path/to/data/MinION_sequencing_data_20200121/guppy_3.2.2_01_21_20_run_01_exec_20200121/pass/fastq_runid_7d0acceaaa1cedac5617dbfac6122f3441e9e66c_64_1.fastq\n"
     ]
    },
    {
     "name": "stdout",
     "output_type": "stream",
     "text": [
      "[########################################] | 100% Completed | 34.1s\n"
     ]
    },
    {
     "name": "stderr",
     "output_type": "stream",
     "text": [
      "[17:38:26 - __main__] Saving to file: /path/to/data/MinION_sequencing_data_20200121/guppy_3.2.2_01_21_20_run_01_exec_20200121/sw/fastq_runid_7d0acceaaa1cedac5617dbfac6122f3441e9e66c_64_1.tsv\n",
      "[17:38:26 - __main__] Starting fastq (257 of 386)\n",
      "\t/path/to/data/MinION_sequencing_data_20200121/guppy_3.2.2_01_21_20_run_01_exec_20200121/pass/fastq_runid_7d0acceaaa1cedac5617dbfac6122f3441e9e66c_64_2.fastq\n"
     ]
    },
    {
     "name": "stdout",
     "output_type": "stream",
     "text": [
      "[########################################] | 100% Completed | 24.5s\n"
     ]
    },
    {
     "name": "stderr",
     "output_type": "stream",
     "text": [
      "[17:38:51 - __main__] Saving to file: /path/to/data/MinION_sequencing_data_20200121/guppy_3.2.2_01_21_20_run_01_exec_20200121/sw/fastq_runid_7d0acceaaa1cedac5617dbfac6122f3441e9e66c_64_2.tsv\n",
      "[17:38:51 - __main__] Starting fastq (258 of 386)\n",
      "\t/path/to/data/MinION_sequencing_data_20200121/guppy_3.2.2_01_21_20_run_01_exec_20200121/pass/fastq_runid_7d0acceaaa1cedac5617dbfac6122f3441e9e66c_65_0.fastq\n"
     ]
    },
    {
     "name": "stdout",
     "output_type": "stream",
     "text": [
      "[########################################] | 100% Completed | 49.9s\n"
     ]
    },
    {
     "name": "stderr",
     "output_type": "stream",
     "text": [
      "[17:39:41 - __main__] Saving to file: /path/to/data/MinION_sequencing_data_20200121/guppy_3.2.2_01_21_20_run_01_exec_20200121/sw/fastq_runid_7d0acceaaa1cedac5617dbfac6122f3441e9e66c_65_0.tsv\n",
      "[17:39:41 - __main__] Starting fastq (259 of 386)\n",
      "\t/path/to/data/MinION_sequencing_data_20200121/guppy_3.2.2_01_21_20_run_01_exec_20200121/pass/fastq_runid_7d0acceaaa1cedac5617dbfac6122f3441e9e66c_65_1.fastq\n"
     ]
    },
    {
     "name": "stdout",
     "output_type": "stream",
     "text": [
      "[########################################] | 100% Completed | 21.2s\n"
     ]
    },
    {
     "name": "stderr",
     "output_type": "stream",
     "text": [
      "[17:40:03 - __main__] Saving to file: /path/to/data/MinION_sequencing_data_20200121/guppy_3.2.2_01_21_20_run_01_exec_20200121/sw/fastq_runid_7d0acceaaa1cedac5617dbfac6122f3441e9e66c_65_1.tsv\n",
      "[17:40:03 - __main__] Starting fastq (260 of 386)\n",
      "\t/path/to/data/MinION_sequencing_data_20200121/guppy_3.2.2_01_21_20_run_01_exec_20200121/pass/fastq_runid_7d0acceaaa1cedac5617dbfac6122f3441e9e66c_63_3.fastq\n"
     ]
    },
    {
     "name": "stdout",
     "output_type": "stream",
     "text": [
      "[########################################] | 100% Completed | 19.4s\n"
     ]
    },
    {
     "name": "stderr",
     "output_type": "stream",
     "text": [
      "[17:40:23 - __main__] Saving to file: /path/to/data/MinION_sequencing_data_20200121/guppy_3.2.2_01_21_20_run_01_exec_20200121/sw/fastq_runid_7d0acceaaa1cedac5617dbfac6122f3441e9e66c_63_3.tsv\n",
      "[17:40:23 - __main__] Starting fastq (261 of 386)\n",
      "\t/path/to/data/MinION_sequencing_data_20200121/guppy_3.2.2_01_21_20_run_01_exec_20200121/pass/fastq_runid_7d0acceaaa1cedac5617dbfac6122f3441e9e66c_65_2.fastq\n"
     ]
    },
    {
     "name": "stdout",
     "output_type": "stream",
     "text": [
      "[########################################] | 100% Completed | 31.5s\n"
     ]
    },
    {
     "name": "stderr",
     "output_type": "stream",
     "text": [
      "[17:40:55 - __main__] Saving to file: /path/to/data/MinION_sequencing_data_20200121/guppy_3.2.2_01_21_20_run_01_exec_20200121/sw/fastq_runid_7d0acceaaa1cedac5617dbfac6122f3441e9e66c_65_2.tsv\n",
      "[17:40:55 - __main__] Starting fastq (262 of 386)\n",
      "\t/path/to/data/MinION_sequencing_data_20200121/guppy_3.2.2_01_21_20_run_01_exec_20200121/pass/fastq_runid_7d0acceaaa1cedac5617dbfac6122f3441e9e66c_64_3.fastq\n"
     ]
    },
    {
     "name": "stdout",
     "output_type": "stream",
     "text": [
      "[########################################] | 100% Completed |  0.9s\n"
     ]
    },
    {
     "name": "stderr",
     "output_type": "stream",
     "text": [
      "[17:40:56 - __main__] Saving to file: /path/to/data/MinION_sequencing_data_20200121/guppy_3.2.2_01_21_20_run_01_exec_20200121/sw/fastq_runid_7d0acceaaa1cedac5617dbfac6122f3441e9e66c_64_3.tsv\n",
      "[17:40:56 - __main__] Starting fastq (263 of 386)\n",
      "\t/path/to/data/MinION_sequencing_data_20200121/guppy_3.2.2_01_21_20_run_01_exec_20200121/pass/fastq_runid_7d0acceaaa1cedac5617dbfac6122f3441e9e66c_65_3.fastq\n"
     ]
    },
    {
     "name": "stdout",
     "output_type": "stream",
     "text": [
      "[########################################] | 100% Completed | 31.5s\n"
     ]
    },
    {
     "name": "stderr",
     "output_type": "stream",
     "text": [
      "[17:41:28 - __main__] Saving to file: /path/to/data/MinION_sequencing_data_20200121/guppy_3.2.2_01_21_20_run_01_exec_20200121/sw/fastq_runid_7d0acceaaa1cedac5617dbfac6122f3441e9e66c_65_3.tsv\n",
      "[17:41:28 - __main__] Starting fastq (264 of 386)\n",
      "\t/path/to/data/MinION_sequencing_data_20200121/guppy_3.2.2_01_21_20_run_01_exec_20200121/pass/fastq_runid_7d0acceaaa1cedac5617dbfac6122f3441e9e66c_66_0.fastq\n"
     ]
    },
    {
     "name": "stdout",
     "output_type": "stream",
     "text": [
      "[########################################] | 100% Completed |  1min 11.9s\n"
     ]
    },
    {
     "name": "stderr",
     "output_type": "stream",
     "text": [
      "[17:42:41 - __main__] Saving to file: /path/to/data/MinION_sequencing_data_20200121/guppy_3.2.2_01_21_20_run_01_exec_20200121/sw/fastq_runid_7d0acceaaa1cedac5617dbfac6122f3441e9e66c_66_0.tsv\n",
      "[17:42:41 - __main__] Starting fastq (265 of 386)\n",
      "\t/path/to/data/MinION_sequencing_data_20200121/guppy_3.2.2_01_21_20_run_01_exec_20200121/pass/fastq_runid_7d0acceaaa1cedac5617dbfac6122f3441e9e66c_66_1.fastq\n"
     ]
    },
    {
     "name": "stdout",
     "output_type": "stream",
     "text": [
      "[########################################] | 100% Completed | 30.7s\n"
     ]
    },
    {
     "name": "stderr",
     "output_type": "stream",
     "text": [
      "[17:43:12 - __main__] Saving to file: /path/to/data/MinION_sequencing_data_20200121/guppy_3.2.2_01_21_20_run_01_exec_20200121/sw/fastq_runid_7d0acceaaa1cedac5617dbfac6122f3441e9e66c_66_1.tsv\n",
      "[17:43:12 - __main__] Starting fastq (266 of 386)\n",
      "\t/path/to/data/MinION_sequencing_data_20200121/guppy_3.2.2_01_21_20_run_01_exec_20200121/pass/fastq_runid_7d0acceaaa1cedac5617dbfac6122f3441e9e66c_66_2.fastq\n"
     ]
    },
    {
     "name": "stdout",
     "output_type": "stream",
     "text": [
      "[########################################] | 100% Completed |  5.8s\n"
     ]
    },
    {
     "name": "stderr",
     "output_type": "stream",
     "text": [
      "[17:43:18 - __main__] Saving to file: /path/to/data/MinION_sequencing_data_20200121/guppy_3.2.2_01_21_20_run_01_exec_20200121/sw/fastq_runid_7d0acceaaa1cedac5617dbfac6122f3441e9e66c_66_2.tsv\n",
      "[17:43:18 - __main__] Starting fastq (267 of 386)\n",
      "\t/path/to/data/MinION_sequencing_data_20200121/guppy_3.2.2_01_21_20_run_01_exec_20200121/pass/fastq_runid_7d0acceaaa1cedac5617dbfac6122f3441e9e66c_66_3.fastq\n"
     ]
    },
    {
     "name": "stdout",
     "output_type": "stream",
     "text": [
      "[########################################] | 100% Completed | 19.5s\n"
     ]
    },
    {
     "name": "stderr",
     "output_type": "stream",
     "text": [
      "[17:43:38 - __main__] Saving to file: /path/to/data/MinION_sequencing_data_20200121/guppy_3.2.2_01_21_20_run_01_exec_20200121/sw/fastq_runid_7d0acceaaa1cedac5617dbfac6122f3441e9e66c_66_3.tsv\n",
      "[17:43:38 - __main__] Starting fastq (268 of 386)\n",
      "\t/path/to/data/MinION_sequencing_data_20200121/guppy_3.2.2_01_21_20_run_01_exec_20200121/pass/fastq_runid_7d0acceaaa1cedac5617dbfac6122f3441e9e66c_67_0.fastq\n"
     ]
    },
    {
     "name": "stdout",
     "output_type": "stream",
     "text": [
      "[########################################] | 100% Completed | 36.0s\n"
     ]
    },
    {
     "name": "stderr",
     "output_type": "stream",
     "text": [
      "[17:44:14 - __main__] Saving to file: /path/to/data/MinION_sequencing_data_20200121/guppy_3.2.2_01_21_20_run_01_exec_20200121/sw/fastq_runid_7d0acceaaa1cedac5617dbfac6122f3441e9e66c_67_0.tsv\n",
      "[17:44:15 - __main__] Starting fastq (269 of 386)\n",
      "\t/path/to/data/MinION_sequencing_data_20200121/guppy_3.2.2_01_21_20_run_01_exec_20200121/pass/fastq_runid_7d0acceaaa1cedac5617dbfac6122f3441e9e66c_67_1.fastq\n"
     ]
    },
    {
     "name": "stdout",
     "output_type": "stream",
     "text": [
      "[########################################] | 100% Completed | 18.7s\n"
     ]
    },
    {
     "name": "stderr",
     "output_type": "stream",
     "text": [
      "[17:44:34 - __main__] Saving to file: /path/to/data/MinION_sequencing_data_20200121/guppy_3.2.2_01_21_20_run_01_exec_20200121/sw/fastq_runid_7d0acceaaa1cedac5617dbfac6122f3441e9e66c_67_1.tsv\n",
      "[17:44:34 - __main__] Starting fastq (270 of 386)\n",
      "\t/path/to/data/MinION_sequencing_data_20200121/guppy_3.2.2_01_21_20_run_01_exec_20200121/pass/fastq_runid_7d0acceaaa1cedac5617dbfac6122f3441e9e66c_68_0.fastq\n"
     ]
    },
    {
     "name": "stdout",
     "output_type": "stream",
     "text": [
      "[########################################] | 100% Completed |  1min  9.5s\n"
     ]
    },
    {
     "name": "stderr",
     "output_type": "stream",
     "text": [
      "[17:45:44 - __main__] Saving to file: /path/to/data/MinION_sequencing_data_20200121/guppy_3.2.2_01_21_20_run_01_exec_20200121/sw/fastq_runid_7d0acceaaa1cedac5617dbfac6122f3441e9e66c_68_0.tsv\n",
      "[17:45:44 - __main__] Starting fastq (271 of 386)\n",
      "\t/path/to/data/MinION_sequencing_data_20200121/guppy_3.2.2_01_21_20_run_01_exec_20200121/pass/fastq_runid_7d0acceaaa1cedac5617dbfac6122f3441e9e66c_67_2.fastq\n"
     ]
    },
    {
     "name": "stdout",
     "output_type": "stream",
     "text": [
      "[########################################] | 100% Completed |  1min 12.3s\n"
     ]
    },
    {
     "name": "stderr",
     "output_type": "stream",
     "text": [
      "[17:46:57 - __main__] Saving to file: /path/to/data/MinION_sequencing_data_20200121/guppy_3.2.2_01_21_20_run_01_exec_20200121/sw/fastq_runid_7d0acceaaa1cedac5617dbfac6122f3441e9e66c_67_2.tsv\n",
      "[17:46:57 - __main__] Starting fastq (272 of 386)\n",
      "\t/path/to/data/MinION_sequencing_data_20200121/guppy_3.2.2_01_21_20_run_01_exec_20200121/pass/fastq_runid_7d0acceaaa1cedac5617dbfac6122f3441e9e66c_68_1.fastq\n"
     ]
    },
    {
     "name": "stdout",
     "output_type": "stream",
     "text": [
      "[########################################] | 100% Completed |  1min  6.6s\n"
     ]
    },
    {
     "name": "stderr",
     "output_type": "stream",
     "text": [
      "[17:48:04 - __main__] Saving to file: /path/to/data/MinION_sequencing_data_20200121/guppy_3.2.2_01_21_20_run_01_exec_20200121/sw/fastq_runid_7d0acceaaa1cedac5617dbfac6122f3441e9e66c_68_1.tsv\n",
      "[17:48:04 - __main__] Starting fastq (273 of 386)\n",
      "\t/path/to/data/MinION_sequencing_data_20200121/guppy_3.2.2_01_21_20_run_01_exec_20200121/pass/fastq_runid_7d0acceaaa1cedac5617dbfac6122f3441e9e66c_67_3.fastq\n"
     ]
    },
    {
     "name": "stdout",
     "output_type": "stream",
     "text": [
      "[########################################] | 100% Completed |  6.6s\n"
     ]
    },
    {
     "name": "stderr",
     "output_type": "stream",
     "text": [
      "[17:48:11 - __main__] Saving to file: /path/to/data/MinION_sequencing_data_20200121/guppy_3.2.2_01_21_20_run_01_exec_20200121/sw/fastq_runid_7d0acceaaa1cedac5617dbfac6122f3441e9e66c_67_3.tsv\n",
      "[17:48:11 - __main__] Starting fastq (274 of 386)\n",
      "\t/path/to/data/MinION_sequencing_data_20200121/guppy_3.2.2_01_21_20_run_01_exec_20200121/pass/fastq_runid_7d0acceaaa1cedac5617dbfac6122f3441e9e66c_68_2.fastq\n"
     ]
    },
    {
     "name": "stdout",
     "output_type": "stream",
     "text": [
      "[########################################] | 100% Completed |  1.0s\n"
     ]
    },
    {
     "name": "stderr",
     "output_type": "stream",
     "text": [
      "[17:48:12 - __main__] Saving to file: /path/to/data/MinION_sequencing_data_20200121/guppy_3.2.2_01_21_20_run_01_exec_20200121/sw/fastq_runid_7d0acceaaa1cedac5617dbfac6122f3441e9e66c_68_2.tsv\n",
      "[17:48:12 - __main__] Starting fastq (275 of 386)\n",
      "\t/path/to/data/MinION_sequencing_data_20200121/guppy_3.2.2_01_21_20_run_01_exec_20200121/pass/fastq_runid_7d0acceaaa1cedac5617dbfac6122f3441e9e66c_69_0.fastq\n"
     ]
    },
    {
     "name": "stdout",
     "output_type": "stream",
     "text": [
      "[########################################] | 100% Completed |  1min 31.6s\n"
     ]
    },
    {
     "name": "stderr",
     "output_type": "stream",
     "text": [
      "[17:49:45 - __main__] Saving to file: /path/to/data/MinION_sequencing_data_20200121/guppy_3.2.2_01_21_20_run_01_exec_20200121/sw/fastq_runid_7d0acceaaa1cedac5617dbfac6122f3441e9e66c_69_0.tsv\n",
      "[17:49:45 - __main__] Starting fastq (276 of 386)\n",
      "\t/path/to/data/MinION_sequencing_data_20200121/guppy_3.2.2_01_21_20_run_01_exec_20200121/pass/fastq_runid_7d0acceaaa1cedac5617dbfac6122f3441e9e66c_69_1.fastq\n"
     ]
    },
    {
     "name": "stdout",
     "output_type": "stream",
     "text": [
      "[########################################] | 100% Completed |  2.8s\n"
     ]
    },
    {
     "name": "stderr",
     "output_type": "stream",
     "text": [
      "[17:49:48 - __main__] Saving to file: /path/to/data/MinION_sequencing_data_20200121/guppy_3.2.2_01_21_20_run_01_exec_20200121/sw/fastq_runid_7d0acceaaa1cedac5617dbfac6122f3441e9e66c_69_1.tsv\n",
      "[17:49:48 - __main__] Starting fastq (277 of 386)\n",
      "\t/path/to/data/MinION_sequencing_data_20200121/guppy_3.2.2_01_21_20_run_01_exec_20200121/pass/fastq_runid_7d0acceaaa1cedac5617dbfac6122f3441e9e66c_70_0.fastq\n"
     ]
    },
    {
     "name": "stdout",
     "output_type": "stream",
     "text": [
      "[########################################] | 100% Completed | 42.3s\n"
     ]
    },
    {
     "name": "stderr",
     "output_type": "stream",
     "text": [
      "[17:50:31 - __main__] Saving to file: /path/to/data/MinION_sequencing_data_20200121/guppy_3.2.2_01_21_20_run_01_exec_20200121/sw/fastq_runid_7d0acceaaa1cedac5617dbfac6122f3441e9e66c_70_0.tsv\n",
      "[17:50:31 - __main__] Starting fastq (278 of 386)\n",
      "\t/path/to/data/MinION_sequencing_data_20200121/guppy_3.2.2_01_21_20_run_01_exec_20200121/pass/fastq_runid_7d0acceaaa1cedac5617dbfac6122f3441e9e66c_68_3.fastq\n"
     ]
    },
    {
     "name": "stdout",
     "output_type": "stream",
     "text": [
      "[########################################] | 100% Completed |  1.0s\n"
     ]
    },
    {
     "name": "stderr",
     "output_type": "stream",
     "text": [
      "[17:50:32 - __main__] Saving to file: /path/to/data/MinION_sequencing_data_20200121/guppy_3.2.2_01_21_20_run_01_exec_20200121/sw/fastq_runid_7d0acceaaa1cedac5617dbfac6122f3441e9e66c_68_3.tsv\n",
      "[17:50:32 - __main__] Starting fastq (279 of 386)\n",
      "\t/path/to/data/MinION_sequencing_data_20200121/guppy_3.2.2_01_21_20_run_01_exec_20200121/pass/fastq_runid_7d0acceaaa1cedac5617dbfac6122f3441e9e66c_69_2.fastq\n"
     ]
    },
    {
     "name": "stdout",
     "output_type": "stream",
     "text": [
      "[########################################] | 100% Completed | 36.4s\n"
     ]
    },
    {
     "name": "stderr",
     "output_type": "stream",
     "text": [
      "[17:51:09 - __main__] Saving to file: /path/to/data/MinION_sequencing_data_20200121/guppy_3.2.2_01_21_20_run_01_exec_20200121/sw/fastq_runid_7d0acceaaa1cedac5617dbfac6122f3441e9e66c_69_2.tsv\n",
      "[17:51:09 - __main__] Starting fastq (280 of 386)\n",
      "\t/path/to/data/MinION_sequencing_data_20200121/guppy_3.2.2_01_21_20_run_01_exec_20200121/pass/fastq_runid_7d0acceaaa1cedac5617dbfac6122f3441e9e66c_69_3.fastq\n"
     ]
    },
    {
     "name": "stdout",
     "output_type": "stream",
     "text": [
      "[########################################] | 100% Completed |  1.0s\n"
     ]
    },
    {
     "name": "stderr",
     "output_type": "stream",
     "text": [
      "[17:51:11 - __main__] Saving to file: /path/to/data/MinION_sequencing_data_20200121/guppy_3.2.2_01_21_20_run_01_exec_20200121/sw/fastq_runid_7d0acceaaa1cedac5617dbfac6122f3441e9e66c_69_3.tsv\n",
      "[17:51:11 - __main__] Starting fastq (281 of 386)\n",
      "\t/path/to/data/MinION_sequencing_data_20200121/guppy_3.2.2_01_21_20_run_01_exec_20200121/pass/fastq_runid_7d0acceaaa1cedac5617dbfac6122f3441e9e66c_70_1.fastq\n"
     ]
    },
    {
     "name": "stdout",
     "output_type": "stream",
     "text": [
      "[########################################] | 100% Completed | 23.3s\n"
     ]
    },
    {
     "name": "stderr",
     "output_type": "stream",
     "text": [
      "[17:51:34 - __main__] Saving to file: /path/to/data/MinION_sequencing_data_20200121/guppy_3.2.2_01_21_20_run_01_exec_20200121/sw/fastq_runid_7d0acceaaa1cedac5617dbfac6122f3441e9e66c_70_1.tsv\n",
      "[17:51:34 - __main__] Starting fastq (282 of 386)\n",
      "\t/path/to/data/MinION_sequencing_data_20200121/guppy_3.2.2_01_21_20_run_01_exec_20200121/pass/fastq_runid_7d0acceaaa1cedac5617dbfac6122f3441e9e66c_70_2.fastq\n"
     ]
    },
    {
     "name": "stdout",
     "output_type": "stream",
     "text": [
      "[########################################] | 100% Completed |  1min  1.3s\n"
     ]
    },
    {
     "name": "stderr",
     "output_type": "stream",
     "text": [
      "[17:52:36 - __main__] Saving to file: /path/to/data/MinION_sequencing_data_20200121/guppy_3.2.2_01_21_20_run_01_exec_20200121/sw/fastq_runid_7d0acceaaa1cedac5617dbfac6122f3441e9e66c_70_2.tsv\n",
      "[17:52:36 - __main__] Starting fastq (283 of 386)\n",
      "\t/path/to/data/MinION_sequencing_data_20200121/guppy_3.2.2_01_21_20_run_01_exec_20200121/pass/fastq_runid_7d0acceaaa1cedac5617dbfac6122f3441e9e66c_71_0.fastq\n"
     ]
    },
    {
     "name": "stdout",
     "output_type": "stream",
     "text": [
      "[########################################] | 100% Completed | 53.4s\n"
     ]
    },
    {
     "name": "stderr",
     "output_type": "stream",
     "text": [
      "[17:53:30 - __main__] Saving to file: /path/to/data/MinION_sequencing_data_20200121/guppy_3.2.2_01_21_20_run_01_exec_20200121/sw/fastq_runid_7d0acceaaa1cedac5617dbfac6122f3441e9e66c_71_0.tsv\n",
      "[17:53:30 - __main__] Starting fastq (284 of 386)\n",
      "\t/path/to/data/MinION_sequencing_data_20200121/guppy_3.2.2_01_21_20_run_01_exec_20200121/pass/fastq_runid_7d0acceaaa1cedac5617dbfac6122f3441e9e66c_71_1.fastq\n"
     ]
    },
    {
     "name": "stdout",
     "output_type": "stream",
     "text": [
      "[########################################] | 100% Completed | 44.0s\n"
     ]
    },
    {
     "name": "stderr",
     "output_type": "stream",
     "text": [
      "[17:54:15 - __main__] Saving to file: /path/to/data/MinION_sequencing_data_20200121/guppy_3.2.2_01_21_20_run_01_exec_20200121/sw/fastq_runid_7d0acceaaa1cedac5617dbfac6122f3441e9e66c_71_1.tsv\n",
      "[17:54:15 - __main__] Starting fastq (285 of 386)\n",
      "\t/path/to/data/MinION_sequencing_data_20200121/guppy_3.2.2_01_21_20_run_01_exec_20200121/pass/fastq_runid_7d0acceaaa1cedac5617dbfac6122f3441e9e66c_70_3.fastq\n"
     ]
    },
    {
     "name": "stdout",
     "output_type": "stream",
     "text": [
      "[########################################] | 100% Completed |  2.5s\n"
     ]
    },
    {
     "name": "stderr",
     "output_type": "stream",
     "text": [
      "[17:54:18 - __main__] Saving to file: /path/to/data/MinION_sequencing_data_20200121/guppy_3.2.2_01_21_20_run_01_exec_20200121/sw/fastq_runid_7d0acceaaa1cedac5617dbfac6122f3441e9e66c_70_3.tsv\n",
      "[17:54:18 - __main__] Starting fastq (286 of 386)\n",
      "\t/path/to/data/MinION_sequencing_data_20200121/guppy_3.2.2_01_21_20_run_01_exec_20200121/pass/fastq_runid_7d0acceaaa1cedac5617dbfac6122f3441e9e66c_71_2.fastq\n"
     ]
    },
    {
     "name": "stdout",
     "output_type": "stream",
     "text": [
      "[########################################] | 100% Completed | 28.9s\n"
     ]
    },
    {
     "name": "stderr",
     "output_type": "stream",
     "text": [
      "[17:54:47 - __main__] Saving to file: /path/to/data/MinION_sequencing_data_20200121/guppy_3.2.2_01_21_20_run_01_exec_20200121/sw/fastq_runid_7d0acceaaa1cedac5617dbfac6122f3441e9e66c_71_2.tsv\n",
      "[17:54:47 - __main__] Starting fastq (287 of 386)\n",
      "\t/path/to/data/MinION_sequencing_data_20200121/guppy_3.2.2_01_21_20_run_01_exec_20200121/pass/fastq_runid_7d0acceaaa1cedac5617dbfac6122f3441e9e66c_71_3.fastq\n"
     ]
    },
    {
     "name": "stdout",
     "output_type": "stream",
     "text": [
      "[########################################] | 100% Completed |  5.5s\n"
     ]
    },
    {
     "name": "stderr",
     "output_type": "stream",
     "text": [
      "[17:54:53 - __main__] Saving to file: /path/to/data/MinION_sequencing_data_20200121/guppy_3.2.2_01_21_20_run_01_exec_20200121/sw/fastq_runid_7d0acceaaa1cedac5617dbfac6122f3441e9e66c_71_3.tsv\n",
      "[17:54:53 - __main__] Starting fastq (288 of 386)\n",
      "\t/path/to/data/MinION_sequencing_data_20200121/guppy_3.2.2_01_21_20_run_01_exec_20200121/pass/fastq_runid_7d0acceaaa1cedac5617dbfac6122f3441e9e66c_72_0.fastq\n"
     ]
    },
    {
     "name": "stdout",
     "output_type": "stream",
     "text": [
      "[########################################] | 100% Completed | 44.2s\n"
     ]
    },
    {
     "name": "stderr",
     "output_type": "stream",
     "text": [
      "[17:55:38 - __main__] Saving to file: /path/to/data/MinION_sequencing_data_20200121/guppy_3.2.2_01_21_20_run_01_exec_20200121/sw/fastq_runid_7d0acceaaa1cedac5617dbfac6122f3441e9e66c_72_0.tsv\n",
      "[17:55:38 - __main__] Starting fastq (289 of 386)\n",
      "\t/path/to/data/MinION_sequencing_data_20200121/guppy_3.2.2_01_21_20_run_01_exec_20200121/pass/fastq_runid_7d0acceaaa1cedac5617dbfac6122f3441e9e66c_72_1.fastq\n"
     ]
    },
    {
     "name": "stdout",
     "output_type": "stream",
     "text": [
      "[########################################] | 100% Completed | 30.3s\n"
     ]
    },
    {
     "name": "stderr",
     "output_type": "stream",
     "text": [
      "[17:56:09 - __main__] Saving to file: /path/to/data/MinION_sequencing_data_20200121/guppy_3.2.2_01_21_20_run_01_exec_20200121/sw/fastq_runid_7d0acceaaa1cedac5617dbfac6122f3441e9e66c_72_1.tsv\n",
      "[17:56:09 - __main__] Starting fastq (290 of 386)\n",
      "\t/path/to/data/MinION_sequencing_data_20200121/guppy_3.2.2_01_21_20_run_01_exec_20200121/pass/fastq_runid_7d0acceaaa1cedac5617dbfac6122f3441e9e66c_72_2.fastq\n"
     ]
    },
    {
     "name": "stdout",
     "output_type": "stream",
     "text": [
      "[########################################] | 100% Completed | 35.4s\n"
     ]
    },
    {
     "name": "stderr",
     "output_type": "stream",
     "text": [
      "[17:56:45 - __main__] Saving to file: /path/to/data/MinION_sequencing_data_20200121/guppy_3.2.2_01_21_20_run_01_exec_20200121/sw/fastq_runid_7d0acceaaa1cedac5617dbfac6122f3441e9e66c_72_2.tsv\n",
      "[17:56:45 - __main__] Starting fastq (291 of 386)\n",
      "\t/path/to/data/MinION_sequencing_data_20200121/guppy_3.2.2_01_21_20_run_01_exec_20200121/pass/fastq_runid_7d0acceaaa1cedac5617dbfac6122f3441e9e66c_72_3.fastq\n"
     ]
    },
    {
     "name": "stdout",
     "output_type": "stream",
     "text": [
      "[########################################] | 100% Completed | 25.0s\n"
     ]
    },
    {
     "name": "stderr",
     "output_type": "stream",
     "text": [
      "[17:57:10 - __main__] Saving to file: /path/to/data/MinION_sequencing_data_20200121/guppy_3.2.2_01_21_20_run_01_exec_20200121/sw/fastq_runid_7d0acceaaa1cedac5617dbfac6122f3441e9e66c_72_3.tsv\n",
      "[17:57:10 - __main__] Starting fastq (292 of 386)\n",
      "\t/path/to/data/MinION_sequencing_data_20200121/guppy_3.2.2_01_21_20_run_01_exec_20200121/pass/fastq_runid_7d0acceaaa1cedac5617dbfac6122f3441e9e66c_73_0.fastq\n"
     ]
    },
    {
     "name": "stdout",
     "output_type": "stream",
     "text": [
      "[########################################] | 100% Completed | 37.9s\n"
     ]
    },
    {
     "name": "stderr",
     "output_type": "stream",
     "text": [
      "[17:57:48 - __main__] Saving to file: /path/to/data/MinION_sequencing_data_20200121/guppy_3.2.2_01_21_20_run_01_exec_20200121/sw/fastq_runid_7d0acceaaa1cedac5617dbfac6122f3441e9e66c_73_0.tsv\n",
      "[17:57:48 - __main__] Starting fastq (293 of 386)\n",
      "\t/path/to/data/MinION_sequencing_data_20200121/guppy_3.2.2_01_21_20_run_01_exec_20200121/pass/fastq_runid_7d0acceaaa1cedac5617dbfac6122f3441e9e66c_73_1.fastq\n"
     ]
    },
    {
     "name": "stdout",
     "output_type": "stream",
     "text": [
      "[########################################] | 100% Completed | 24.5s\n"
     ]
    },
    {
     "name": "stderr",
     "output_type": "stream",
     "text": [
      "[17:58:13 - __main__] Saving to file: /path/to/data/MinION_sequencing_data_20200121/guppy_3.2.2_01_21_20_run_01_exec_20200121/sw/fastq_runid_7d0acceaaa1cedac5617dbfac6122f3441e9e66c_73_1.tsv\n",
      "[17:58:13 - __main__] Starting fastq (294 of 386)\n",
      "\t/path/to/data/MinION_sequencing_data_20200121/guppy_3.2.2_01_21_20_run_01_exec_20200121/pass/fastq_runid_7d0acceaaa1cedac5617dbfac6122f3441e9e66c_73_2.fastq\n"
     ]
    },
    {
     "name": "stdout",
     "output_type": "stream",
     "text": [
      "[########################################] | 100% Completed | 53.2s\n"
     ]
    },
    {
     "name": "stderr",
     "output_type": "stream",
     "text": [
      "[17:59:07 - __main__] Saving to file: /path/to/data/MinION_sequencing_data_20200121/guppy_3.2.2_01_21_20_run_01_exec_20200121/sw/fastq_runid_7d0acceaaa1cedac5617dbfac6122f3441e9e66c_73_2.tsv\n",
      "[17:59:07 - __main__] Starting fastq (295 of 386)\n",
      "\t/path/to/data/MinION_sequencing_data_20200121/guppy_3.2.2_01_21_20_run_01_exec_20200121/pass/fastq_runid_7d0acceaaa1cedac5617dbfac6122f3441e9e66c_73_3.fastq\n"
     ]
    },
    {
     "name": "stdout",
     "output_type": "stream",
     "text": [
      "[########################################] | 100% Completed | 17.8s\n"
     ]
    },
    {
     "name": "stderr",
     "output_type": "stream",
     "text": [
      "[17:59:25 - __main__] Saving to file: /path/to/data/MinION_sequencing_data_20200121/guppy_3.2.2_01_21_20_run_01_exec_20200121/sw/fastq_runid_7d0acceaaa1cedac5617dbfac6122f3441e9e66c_73_3.tsv\n",
      "[17:59:25 - __main__] Starting fastq (296 of 386)\n",
      "\t/path/to/data/MinION_sequencing_data_20200121/guppy_3.2.2_01_21_20_run_01_exec_20200121/pass/fastq_runid_7d0acceaaa1cedac5617dbfac6122f3441e9e66c_74_0.fastq\n"
     ]
    },
    {
     "name": "stdout",
     "output_type": "stream",
     "text": [
      "[########################################] | 100% Completed | 45.6s\n"
     ]
    },
    {
     "name": "stderr",
     "output_type": "stream",
     "text": [
      "[18:00:11 - __main__] Saving to file: /path/to/data/MinION_sequencing_data_20200121/guppy_3.2.2_01_21_20_run_01_exec_20200121/sw/fastq_runid_7d0acceaaa1cedac5617dbfac6122f3441e9e66c_74_0.tsv\n",
      "[18:00:12 - __main__] Starting fastq (297 of 386)\n",
      "\t/path/to/data/MinION_sequencing_data_20200121/guppy_3.2.2_01_21_20_run_01_exec_20200121/pass/fastq_runid_7d0acceaaa1cedac5617dbfac6122f3441e9e66c_74_1.fastq\n"
     ]
    },
    {
     "name": "stdout",
     "output_type": "stream",
     "text": [
      "[########################################] | 100% Completed | 56.6s\n"
     ]
    },
    {
     "name": "stderr",
     "output_type": "stream",
     "text": [
      "[18:01:09 - __main__] Saving to file: /path/to/data/MinION_sequencing_data_20200121/guppy_3.2.2_01_21_20_run_01_exec_20200121/sw/fastq_runid_7d0acceaaa1cedac5617dbfac6122f3441e9e66c_74_1.tsv\n",
      "[18:01:09 - __main__] Starting fastq (298 of 386)\n",
      "\t/path/to/data/MinION_sequencing_data_20200121/guppy_3.2.2_01_21_20_run_01_exec_20200121/pass/fastq_runid_7d0acceaaa1cedac5617dbfac6122f3441e9e66c_74_2.fastq\n"
     ]
    },
    {
     "name": "stdout",
     "output_type": "stream",
     "text": [
      "[########################################] | 100% Completed | 13.9s\n"
     ]
    },
    {
     "name": "stderr",
     "output_type": "stream",
     "text": [
      "[18:01:23 - __main__] Saving to file: /path/to/data/MinION_sequencing_data_20200121/guppy_3.2.2_01_21_20_run_01_exec_20200121/sw/fastq_runid_7d0acceaaa1cedac5617dbfac6122f3441e9e66c_74_2.tsv\n",
      "[18:01:23 - __main__] Starting fastq (299 of 386)\n",
      "\t/path/to/data/MinION_sequencing_data_20200121/guppy_3.2.2_01_21_20_run_01_exec_20200121/pass/fastq_runid_7d0acceaaa1cedac5617dbfac6122f3441e9e66c_75_0.fastq\n"
     ]
    },
    {
     "name": "stdout",
     "output_type": "stream",
     "text": [
      "[########################################] | 100% Completed | 31.5s\n"
     ]
    },
    {
     "name": "stderr",
     "output_type": "stream",
     "text": [
      "[18:01:55 - __main__] Saving to file: /path/to/data/MinION_sequencing_data_20200121/guppy_3.2.2_01_21_20_run_01_exec_20200121/sw/fastq_runid_7d0acceaaa1cedac5617dbfac6122f3441e9e66c_75_0.tsv\n",
      "[18:01:55 - __main__] Starting fastq (300 of 386)\n",
      "\t/path/to/data/MinION_sequencing_data_20200121/guppy_3.2.2_01_21_20_run_01_exec_20200121/pass/fastq_runid_7d0acceaaa1cedac5617dbfac6122f3441e9e66c_74_3.fastq\n"
     ]
    },
    {
     "name": "stdout",
     "output_type": "stream",
     "text": [
      "[########################################] | 100% Completed | 18.0s\n"
     ]
    },
    {
     "name": "stderr",
     "output_type": "stream",
     "text": [
      "[18:02:13 - __main__] Saving to file: /path/to/data/MinION_sequencing_data_20200121/guppy_3.2.2_01_21_20_run_01_exec_20200121/sw/fastq_runid_7d0acceaaa1cedac5617dbfac6122f3441e9e66c_74_3.tsv\n",
      "[18:02:13 - __main__] Starting fastq (301 of 386)\n",
      "\t/path/to/data/MinION_sequencing_data_20200121/guppy_3.2.2_01_21_20_run_01_exec_20200121/pass/fastq_runid_7d0acceaaa1cedac5617dbfac6122f3441e9e66c_75_1.fastq\n"
     ]
    },
    {
     "name": "stdout",
     "output_type": "stream",
     "text": [
      "[########################################] | 100% Completed |  1min  0.8s\n"
     ]
    },
    {
     "name": "stderr",
     "output_type": "stream",
     "text": [
      "[18:03:15 - __main__] Saving to file: /path/to/data/MinION_sequencing_data_20200121/guppy_3.2.2_01_21_20_run_01_exec_20200121/sw/fastq_runid_7d0acceaaa1cedac5617dbfac6122f3441e9e66c_75_1.tsv\n",
      "[18:03:15 - __main__] Starting fastq (302 of 386)\n",
      "\t/path/to/data/MinION_sequencing_data_20200121/guppy_3.2.2_01_21_20_run_01_exec_20200121/pass/fastq_runid_7d0acceaaa1cedac5617dbfac6122f3441e9e66c_75_2.fastq\n"
     ]
    },
    {
     "name": "stdout",
     "output_type": "stream",
     "text": [
      "[########################################] | 100% Completed | 18.3s\n"
     ]
    },
    {
     "name": "stderr",
     "output_type": "stream",
     "text": [
      "[18:03:34 - __main__] Saving to file: /path/to/data/MinION_sequencing_data_20200121/guppy_3.2.2_01_21_20_run_01_exec_20200121/sw/fastq_runid_7d0acceaaa1cedac5617dbfac6122f3441e9e66c_75_2.tsv\n",
      "[18:03:34 - __main__] Starting fastq (303 of 386)\n",
      "\t/path/to/data/MinION_sequencing_data_20200121/guppy_3.2.2_01_21_20_run_01_exec_20200121/pass/fastq_runid_7d0acceaaa1cedac5617dbfac6122f3441e9e66c_76_0.fastq\n"
     ]
    },
    {
     "name": "stdout",
     "output_type": "stream",
     "text": [
      "[########################################] | 100% Completed | 58.1s\n"
     ]
    },
    {
     "name": "stderr",
     "output_type": "stream",
     "text": [
      "[18:04:32 - __main__] Saving to file: /path/to/data/MinION_sequencing_data_20200121/guppy_3.2.2_01_21_20_run_01_exec_20200121/sw/fastq_runid_7d0acceaaa1cedac5617dbfac6122f3441e9e66c_76_0.tsv\n",
      "[18:04:33 - __main__] Starting fastq (304 of 386)\n",
      "\t/path/to/data/MinION_sequencing_data_20200121/guppy_3.2.2_01_21_20_run_01_exec_20200121/pass/fastq_runid_7d0acceaaa1cedac5617dbfac6122f3441e9e66c_75_3.fastq\n"
     ]
    },
    {
     "name": "stdout",
     "output_type": "stream",
     "text": [
      "[########################################] | 100% Completed | 20.5s\n"
     ]
    },
    {
     "name": "stderr",
     "output_type": "stream",
     "text": [
      "[18:04:53 - __main__] Saving to file: /path/to/data/MinION_sequencing_data_20200121/guppy_3.2.2_01_21_20_run_01_exec_20200121/sw/fastq_runid_7d0acceaaa1cedac5617dbfac6122f3441e9e66c_75_3.tsv\n",
      "[18:04:54 - __main__] Starting fastq (305 of 386)\n",
      "\t/path/to/data/MinION_sequencing_data_20200121/guppy_3.2.2_01_21_20_run_01_exec_20200121/pass/fastq_runid_7d0acceaaa1cedac5617dbfac6122f3441e9e66c_76_1.fastq\n"
     ]
    },
    {
     "name": "stdout",
     "output_type": "stream",
     "text": [
      "[########################################] | 100% Completed | 52.5s\n"
     ]
    },
    {
     "name": "stderr",
     "output_type": "stream",
     "text": [
      "[18:05:46 - __main__] Saving to file: /path/to/data/MinION_sequencing_data_20200121/guppy_3.2.2_01_21_20_run_01_exec_20200121/sw/fastq_runid_7d0acceaaa1cedac5617dbfac6122f3441e9e66c_76_1.tsv\n",
      "[18:05:47 - __main__] Starting fastq (306 of 386)\n",
      "\t/path/to/data/MinION_sequencing_data_20200121/guppy_3.2.2_01_21_20_run_01_exec_20200121/pass/fastq_runid_7d0acceaaa1cedac5617dbfac6122f3441e9e66c_76_2.fastq\n"
     ]
    },
    {
     "name": "stdout",
     "output_type": "stream",
     "text": [
      "[########################################] | 100% Completed | 19.5s\n"
     ]
    },
    {
     "name": "stderr",
     "output_type": "stream",
     "text": [
      "[18:06:06 - __main__] Saving to file: /path/to/data/MinION_sequencing_data_20200121/guppy_3.2.2_01_21_20_run_01_exec_20200121/sw/fastq_runid_7d0acceaaa1cedac5617dbfac6122f3441e9e66c_76_2.tsv\n",
      "[18:06:06 - __main__] Starting fastq (307 of 386)\n",
      "\t/path/to/data/MinION_sequencing_data_20200121/guppy_3.2.2_01_21_20_run_01_exec_20200121/pass/fastq_runid_7d0acceaaa1cedac5617dbfac6122f3441e9e66c_77_0.fastq\n"
     ]
    },
    {
     "name": "stdout",
     "output_type": "stream",
     "text": [
      "[########################################] | 100% Completed | 35.6s\n"
     ]
    },
    {
     "name": "stderr",
     "output_type": "stream",
     "text": [
      "[18:06:43 - __main__] Saving to file: /path/to/data/MinION_sequencing_data_20200121/guppy_3.2.2_01_21_20_run_01_exec_20200121/sw/fastq_runid_7d0acceaaa1cedac5617dbfac6122f3441e9e66c_77_0.tsv\n",
      "[18:06:43 - __main__] Starting fastq (308 of 386)\n",
      "\t/path/to/data/MinION_sequencing_data_20200121/guppy_3.2.2_01_21_20_run_01_exec_20200121/pass/fastq_runid_7d0acceaaa1cedac5617dbfac6122f3441e9e66c_77_1.fastq\n"
     ]
    },
    {
     "name": "stdout",
     "output_type": "stream",
     "text": [
      "[########################################] | 100% Completed |  1min 20.0s\n"
     ]
    },
    {
     "name": "stderr",
     "output_type": "stream",
     "text": [
      "[18:08:03 - __main__] Saving to file: /path/to/data/MinION_sequencing_data_20200121/guppy_3.2.2_01_21_20_run_01_exec_20200121/sw/fastq_runid_7d0acceaaa1cedac5617dbfac6122f3441e9e66c_77_1.tsv\n",
      "[18:08:03 - __main__] Starting fastq (309 of 386)\n",
      "\t/path/to/data/MinION_sequencing_data_20200121/guppy_3.2.2_01_21_20_run_01_exec_20200121/pass/fastq_runid_7d0acceaaa1cedac5617dbfac6122f3441e9e66c_76_3.fastq\n"
     ]
    },
    {
     "name": "stdout",
     "output_type": "stream",
     "text": [
      "[########################################] | 100% Completed |  3.1s\n"
     ]
    },
    {
     "name": "stderr",
     "output_type": "stream",
     "text": [
      "[18:08:07 - __main__] Saving to file: /path/to/data/MinION_sequencing_data_20200121/guppy_3.2.2_01_21_20_run_01_exec_20200121/sw/fastq_runid_7d0acceaaa1cedac5617dbfac6122f3441e9e66c_76_3.tsv\n",
      "[18:08:07 - __main__] Starting fastq (310 of 386)\n",
      "\t/path/to/data/MinION_sequencing_data_20200121/guppy_3.2.2_01_21_20_run_01_exec_20200121/pass/fastq_runid_7d0acceaaa1cedac5617dbfac6122f3441e9e66c_77_2.fastq\n"
     ]
    },
    {
     "name": "stdout",
     "output_type": "stream",
     "text": [
      "[########################################] | 100% Completed | 15.5s\n"
     ]
    },
    {
     "name": "stderr",
     "output_type": "stream",
     "text": [
      "[18:08:23 - __main__] Saving to file: /path/to/data/MinION_sequencing_data_20200121/guppy_3.2.2_01_21_20_run_01_exec_20200121/sw/fastq_runid_7d0acceaaa1cedac5617dbfac6122f3441e9e66c_77_2.tsv\n",
      "[18:08:23 - __main__] Starting fastq (311 of 386)\n",
      "\t/path/to/data/MinION_sequencing_data_20200121/guppy_3.2.2_01_21_20_run_01_exec_20200121/pass/fastq_runid_7d0acceaaa1cedac5617dbfac6122f3441e9e66c_78_0.fastq\n"
     ]
    },
    {
     "name": "stdout",
     "output_type": "stream",
     "text": [
      "[########################################] | 100% Completed |  1min 23.4s\n"
     ]
    },
    {
     "name": "stderr",
     "output_type": "stream",
     "text": [
      "[18:09:47 - __main__] Saving to file: /path/to/data/MinION_sequencing_data_20200121/guppy_3.2.2_01_21_20_run_01_exec_20200121/sw/fastq_runid_7d0acceaaa1cedac5617dbfac6122f3441e9e66c_78_0.tsv\n",
      "[18:09:47 - __main__] Starting fastq (312 of 386)\n",
      "\t/path/to/data/MinION_sequencing_data_20200121/guppy_3.2.2_01_21_20_run_01_exec_20200121/pass/fastq_runid_7d0acceaaa1cedac5617dbfac6122f3441e9e66c_78_1.fastq\n"
     ]
    },
    {
     "name": "stdout",
     "output_type": "stream",
     "text": [
      "[########################################] | 100% Completed | 32.2s\n"
     ]
    },
    {
     "name": "stderr",
     "output_type": "stream",
     "text": [
      "[18:10:19 - __main__] Saving to file: /path/to/data/MinION_sequencing_data_20200121/guppy_3.2.2_01_21_20_run_01_exec_20200121/sw/fastq_runid_7d0acceaaa1cedac5617dbfac6122f3441e9e66c_78_1.tsv\n",
      "[18:10:20 - __main__] Starting fastq (313 of 386)\n",
      "\t/path/to/data/MinION_sequencing_data_20200121/guppy_3.2.2_01_21_20_run_01_exec_20200121/pass/fastq_runid_7d0acceaaa1cedac5617dbfac6122f3441e9e66c_77_3.fastq\n"
     ]
    },
    {
     "name": "stdout",
     "output_type": "stream",
     "text": [
      "[########################################] | 100% Completed |  1.7s\n"
     ]
    },
    {
     "name": "stderr",
     "output_type": "stream",
     "text": [
      "[18:10:22 - __main__] Saving to file: /path/to/data/MinION_sequencing_data_20200121/guppy_3.2.2_01_21_20_run_01_exec_20200121/sw/fastq_runid_7d0acceaaa1cedac5617dbfac6122f3441e9e66c_77_3.tsv\n",
      "[18:10:22 - __main__] Starting fastq (314 of 386)\n",
      "\t/path/to/data/MinION_sequencing_data_20200121/guppy_3.2.2_01_21_20_run_01_exec_20200121/pass/fastq_runid_7d0acceaaa1cedac5617dbfac6122f3441e9e66c_78_2.fastq\n"
     ]
    },
    {
     "name": "stdout",
     "output_type": "stream",
     "text": [
      "[########################################] | 100% Completed | 16.2s\n"
     ]
    },
    {
     "name": "stderr",
     "output_type": "stream",
     "text": [
      "[18:10:38 - __main__] Saving to file: /path/to/data/MinION_sequencing_data_20200121/guppy_3.2.2_01_21_20_run_01_exec_20200121/sw/fastq_runid_7d0acceaaa1cedac5617dbfac6122f3441e9e66c_78_2.tsv\n",
      "[18:10:38 - __main__] Starting fastq (315 of 386)\n",
      "\t/path/to/data/MinION_sequencing_data_20200121/guppy_3.2.2_01_21_20_run_01_exec_20200121/pass/fastq_runid_7d0acceaaa1cedac5617dbfac6122f3441e9e66c_78_3.fastq\n"
     ]
    },
    {
     "name": "stdout",
     "output_type": "stream",
     "text": [
      "[########################################] | 100% Completed |  2.7s\n"
     ]
    },
    {
     "name": "stderr",
     "output_type": "stream",
     "text": [
      "[18:10:42 - __main__] Saving to file: /path/to/data/MinION_sequencing_data_20200121/guppy_3.2.2_01_21_20_run_01_exec_20200121/sw/fastq_runid_7d0acceaaa1cedac5617dbfac6122f3441e9e66c_78_3.tsv\n",
      "[18:10:42 - __main__] Starting fastq (316 of 386)\n",
      "\t/path/to/data/MinION_sequencing_data_20200121/guppy_3.2.2_01_21_20_run_01_exec_20200121/pass/fastq_runid_7d0acceaaa1cedac5617dbfac6122f3441e9e66c_79_0.fastq\n"
     ]
    },
    {
     "name": "stdout",
     "output_type": "stream",
     "text": [
      "[########################################] | 100% Completed | 34.5s\n"
     ]
    },
    {
     "name": "stderr",
     "output_type": "stream",
     "text": [
      "[18:11:17 - __main__] Saving to file: /path/to/data/MinION_sequencing_data_20200121/guppy_3.2.2_01_21_20_run_01_exec_20200121/sw/fastq_runid_7d0acceaaa1cedac5617dbfac6122f3441e9e66c_79_0.tsv\n",
      "[18:11:17 - __main__] Starting fastq (317 of 386)\n",
      "\t/path/to/data/MinION_sequencing_data_20200121/guppy_3.2.2_01_21_20_run_01_exec_20200121/pass/fastq_runid_7d0acceaaa1cedac5617dbfac6122f3441e9e66c_79_1.fastq\n"
     ]
    },
    {
     "name": "stdout",
     "output_type": "stream",
     "text": [
      "[########################################] | 100% Completed | 58.1s\n"
     ]
    },
    {
     "name": "stderr",
     "output_type": "stream",
     "text": [
      "[18:12:15 - __main__] Saving to file: /path/to/data/MinION_sequencing_data_20200121/guppy_3.2.2_01_21_20_run_01_exec_20200121/sw/fastq_runid_7d0acceaaa1cedac5617dbfac6122f3441e9e66c_79_1.tsv\n",
      "[18:12:15 - __main__] Starting fastq (318 of 386)\n",
      "\t/path/to/data/MinION_sequencing_data_20200121/guppy_3.2.2_01_21_20_run_01_exec_20200121/pass/fastq_runid_7d0acceaaa1cedac5617dbfac6122f3441e9e66c_79_2.fastq\n"
     ]
    },
    {
     "name": "stdout",
     "output_type": "stream",
     "text": [
      "[########################################] | 100% Completed | 22.3s\n"
     ]
    },
    {
     "name": "stderr",
     "output_type": "stream",
     "text": [
      "[18:12:38 - __main__] Saving to file: /path/to/data/MinION_sequencing_data_20200121/guppy_3.2.2_01_21_20_run_01_exec_20200121/sw/fastq_runid_7d0acceaaa1cedac5617dbfac6122f3441e9e66c_79_2.tsv\n",
      "[18:12:38 - __main__] Starting fastq (319 of 386)\n",
      "\t/path/to/data/MinION_sequencing_data_20200121/guppy_3.2.2_01_21_20_run_01_exec_20200121/pass/fastq_runid_7d0acceaaa1cedac5617dbfac6122f3441e9e66c_80_0.fastq\n"
     ]
    },
    {
     "name": "stdout",
     "output_type": "stream",
     "text": [
      "[########################################] | 100% Completed | 45.9s\n"
     ]
    },
    {
     "name": "stderr",
     "output_type": "stream",
     "text": [
      "[18:13:24 - __main__] Saving to file: /path/to/data/MinION_sequencing_data_20200121/guppy_3.2.2_01_21_20_run_01_exec_20200121/sw/fastq_runid_7d0acceaaa1cedac5617dbfac6122f3441e9e66c_80_0.tsv\n",
      "[18:13:25 - __main__] Starting fastq (320 of 386)\n",
      "\t/path/to/data/MinION_sequencing_data_20200121/guppy_3.2.2_01_21_20_run_01_exec_20200121/pass/fastq_runid_7d0acceaaa1cedac5617dbfac6122f3441e9e66c_80_1.fastq\n"
     ]
    },
    {
     "name": "stdout",
     "output_type": "stream",
     "text": [
      "[########################################] | 100% Completed |  1.5s\n"
     ]
    },
    {
     "name": "stderr",
     "output_type": "stream",
     "text": [
      "[18:13:26 - __main__] Saving to file: /path/to/data/MinION_sequencing_data_20200121/guppy_3.2.2_01_21_20_run_01_exec_20200121/sw/fastq_runid_7d0acceaaa1cedac5617dbfac6122f3441e9e66c_80_1.tsv\n",
      "[18:13:26 - __main__] Starting fastq (321 of 386)\n",
      "\t/path/to/data/MinION_sequencing_data_20200121/guppy_3.2.2_01_21_20_run_01_exec_20200121/pass/fastq_runid_7d0acceaaa1cedac5617dbfac6122f3441e9e66c_80_2.fastq\n"
     ]
    },
    {
     "name": "stdout",
     "output_type": "stream",
     "text": [
      "[########################################] | 100% Completed |  1min  3.1s\n"
     ]
    },
    {
     "name": "stderr",
     "output_type": "stream",
     "text": [
      "[18:14:30 - __main__] Saving to file: /path/to/data/MinION_sequencing_data_20200121/guppy_3.2.2_01_21_20_run_01_exec_20200121/sw/fastq_runid_7d0acceaaa1cedac5617dbfac6122f3441e9e66c_80_2.tsv\n",
      "[18:14:30 - __main__] Starting fastq (322 of 386)\n",
      "\t/path/to/data/MinION_sequencing_data_20200121/guppy_3.2.2_01_21_20_run_01_exec_20200121/pass/fastq_runid_7d0acceaaa1cedac5617dbfac6122f3441e9e66c_79_3.fastq\n"
     ]
    },
    {
     "name": "stdout",
     "output_type": "stream",
     "text": [
      "[########################################] | 100% Completed | 15.2s\n"
     ]
    },
    {
     "name": "stderr",
     "output_type": "stream",
     "text": [
      "[18:14:46 - __main__] Saving to file: /path/to/data/MinION_sequencing_data_20200121/guppy_3.2.2_01_21_20_run_01_exec_20200121/sw/fastq_runid_7d0acceaaa1cedac5617dbfac6122f3441e9e66c_79_3.tsv\n",
      "[18:14:46 - __main__] Starting fastq (323 of 386)\n",
      "\t/path/to/data/MinION_sequencing_data_20200121/guppy_3.2.2_01_21_20_run_01_exec_20200121/pass/fastq_runid_7d0acceaaa1cedac5617dbfac6122f3441e9e66c_80_3.fastq\n"
     ]
    },
    {
     "name": "stdout",
     "output_type": "stream",
     "text": [
      "[########################################] | 100% Completed | 20.9s\n"
     ]
    },
    {
     "name": "stderr",
     "output_type": "stream",
     "text": [
      "[18:15:07 - __main__] Saving to file: /path/to/data/MinION_sequencing_data_20200121/guppy_3.2.2_01_21_20_run_01_exec_20200121/sw/fastq_runid_7d0acceaaa1cedac5617dbfac6122f3441e9e66c_80_3.tsv\n",
      "[18:15:07 - __main__] Starting fastq (324 of 386)\n",
      "\t/path/to/data/MinION_sequencing_data_20200121/guppy_3.2.2_01_21_20_run_01_exec_20200121/pass/fastq_runid_7d0acceaaa1cedac5617dbfac6122f3441e9e66c_81_0.fastq\n"
     ]
    },
    {
     "name": "stdout",
     "output_type": "stream",
     "text": [
      "[########################################] | 100% Completed | 35.7s\n"
     ]
    },
    {
     "name": "stderr",
     "output_type": "stream",
     "text": [
      "[18:15:43 - __main__] Saving to file: /path/to/data/MinION_sequencing_data_20200121/guppy_3.2.2_01_21_20_run_01_exec_20200121/sw/fastq_runid_7d0acceaaa1cedac5617dbfac6122f3441e9e66c_81_0.tsv\n",
      "[18:15:43 - __main__] Starting fastq (325 of 386)\n",
      "\t/path/to/data/MinION_sequencing_data_20200121/guppy_3.2.2_01_21_20_run_01_exec_20200121/pass/fastq_runid_7d0acceaaa1cedac5617dbfac6122f3441e9e66c_81_1.fastq\n"
     ]
    },
    {
     "name": "stdout",
     "output_type": "stream",
     "text": [
      "[########################################] | 100% Completed | 34.0s\n"
     ]
    },
    {
     "name": "stderr",
     "output_type": "stream",
     "text": [
      "[18:16:18 - __main__] Saving to file: /path/to/data/MinION_sequencing_data_20200121/guppy_3.2.2_01_21_20_run_01_exec_20200121/sw/fastq_runid_7d0acceaaa1cedac5617dbfac6122f3441e9e66c_81_1.tsv\n",
      "[18:16:18 - __main__] Starting fastq (326 of 386)\n",
      "\t/path/to/data/MinION_sequencing_data_20200121/guppy_3.2.2_01_21_20_run_01_exec_20200121/pass/fastq_runid_7d0acceaaa1cedac5617dbfac6122f3441e9e66c_81_2.fastq\n"
     ]
    },
    {
     "name": "stdout",
     "output_type": "stream",
     "text": [
      "[########################################] | 100% Completed | 58.6s\n"
     ]
    },
    {
     "name": "stderr",
     "output_type": "stream",
     "text": [
      "[18:17:17 - __main__] Saving to file: /path/to/data/MinION_sequencing_data_20200121/guppy_3.2.2_01_21_20_run_01_exec_20200121/sw/fastq_runid_7d0acceaaa1cedac5617dbfac6122f3441e9e66c_81_2.tsv\n",
      "[18:17:17 - __main__] Starting fastq (327 of 386)\n",
      "\t/path/to/data/MinION_sequencing_data_20200121/guppy_3.2.2_01_21_20_run_01_exec_20200121/pass/fastq_runid_7d0acceaaa1cedac5617dbfac6122f3441e9e66c_81_3.fastq\n"
     ]
    },
    {
     "name": "stdout",
     "output_type": "stream",
     "text": [
      "[########################################] | 100% Completed |  3.0s\n"
     ]
    },
    {
     "name": "stderr",
     "output_type": "stream",
     "text": [
      "[18:17:20 - __main__] Saving to file: /path/to/data/MinION_sequencing_data_20200121/guppy_3.2.2_01_21_20_run_01_exec_20200121/sw/fastq_runid_7d0acceaaa1cedac5617dbfac6122f3441e9e66c_81_3.tsv\n",
      "[18:17:20 - __main__] Starting fastq (328 of 386)\n",
      "\t/path/to/data/MinION_sequencing_data_20200121/guppy_3.2.2_01_21_20_run_01_exec_20200121/pass/fastq_runid_7d0acceaaa1cedac5617dbfac6122f3441e9e66c_82_0.fastq\n"
     ]
    },
    {
     "name": "stdout",
     "output_type": "stream",
     "text": [
      "[########################################] | 100% Completed |  1min 36.1s\n"
     ]
    },
    {
     "name": "stderr",
     "output_type": "stream",
     "text": [
      "[18:18:57 - __main__] Saving to file: /path/to/data/MinION_sequencing_data_20200121/guppy_3.2.2_01_21_20_run_01_exec_20200121/sw/fastq_runid_7d0acceaaa1cedac5617dbfac6122f3441e9e66c_82_0.tsv\n",
      "[18:18:57 - __main__] Starting fastq (329 of 386)\n",
      "\t/path/to/data/MinION_sequencing_data_20200121/guppy_3.2.2_01_21_20_run_01_exec_20200121/pass/fastq_runid_7d0acceaaa1cedac5617dbfac6122f3441e9e66c_82_1.fastq\n"
     ]
    },
    {
     "name": "stdout",
     "output_type": "stream",
     "text": [
      "[########################################] | 100% Completed | 18.1s\n"
     ]
    },
    {
     "name": "stderr",
     "output_type": "stream",
     "text": [
      "[18:19:16 - __main__] Saving to file: /path/to/data/MinION_sequencing_data_20200121/guppy_3.2.2_01_21_20_run_01_exec_20200121/sw/fastq_runid_7d0acceaaa1cedac5617dbfac6122f3441e9e66c_82_1.tsv\n",
      "[18:19:16 - __main__] Starting fastq (330 of 386)\n",
      "\t/path/to/data/MinION_sequencing_data_20200121/guppy_3.2.2_01_21_20_run_01_exec_20200121/pass/fastq_runid_7d0acceaaa1cedac5617dbfac6122f3441e9e66c_82_2.fastq\n"
     ]
    },
    {
     "name": "stdout",
     "output_type": "stream",
     "text": [
      "[########################################] | 100% Completed |  8.0s\n"
     ]
    },
    {
     "name": "stderr",
     "output_type": "stream",
     "text": [
      "[18:19:24 - __main__] Saving to file: /path/to/data/MinION_sequencing_data_20200121/guppy_3.2.2_01_21_20_run_01_exec_20200121/sw/fastq_runid_7d0acceaaa1cedac5617dbfac6122f3441e9e66c_82_2.tsv\n",
      "[18:19:24 - __main__] Starting fastq (331 of 386)\n",
      "\t/path/to/data/MinION_sequencing_data_20200121/guppy_3.2.2_01_21_20_run_01_exec_20200121/pass/fastq_runid_7d0acceaaa1cedac5617dbfac6122f3441e9e66c_83_0.fastq\n"
     ]
    },
    {
     "name": "stdout",
     "output_type": "stream",
     "text": [
      "[########################################] | 100% Completed |  1min  4.2s\n"
     ]
    },
    {
     "name": "stderr",
     "output_type": "stream",
     "text": [
      "[18:20:29 - __main__] Saving to file: /path/to/data/MinION_sequencing_data_20200121/guppy_3.2.2_01_21_20_run_01_exec_20200121/sw/fastq_runid_7d0acceaaa1cedac5617dbfac6122f3441e9e66c_83_0.tsv\n",
      "[18:20:29 - __main__] Starting fastq (332 of 386)\n",
      "\t/path/to/data/MinION_sequencing_data_20200121/guppy_3.2.2_01_21_20_run_01_exec_20200121/pass/fastq_runid_7d0acceaaa1cedac5617dbfac6122f3441e9e66c_83_1.fastq\n"
     ]
    },
    {
     "name": "stdout",
     "output_type": "stream",
     "text": [
      "[########################################] | 100% Completed | 46.8s\n"
     ]
    },
    {
     "name": "stderr",
     "output_type": "stream",
     "text": [
      "[18:21:16 - __main__] Saving to file: /path/to/data/MinION_sequencing_data_20200121/guppy_3.2.2_01_21_20_run_01_exec_20200121/sw/fastq_runid_7d0acceaaa1cedac5617dbfac6122f3441e9e66c_83_1.tsv\n",
      "[18:21:16 - __main__] Starting fastq (333 of 386)\n",
      "\t/path/to/data/MinION_sequencing_data_20200121/guppy_3.2.2_01_21_20_run_01_exec_20200121/pass/fastq_runid_7d0acceaaa1cedac5617dbfac6122f3441e9e66c_82_3.fastq\n"
     ]
    },
    {
     "name": "stdout",
     "output_type": "stream",
     "text": [
      "[########################################] | 100% Completed |  7.2s\n"
     ]
    },
    {
     "name": "stderr",
     "output_type": "stream",
     "text": [
      "[18:21:24 - __main__] Saving to file: /path/to/data/MinION_sequencing_data_20200121/guppy_3.2.2_01_21_20_run_01_exec_20200121/sw/fastq_runid_7d0acceaaa1cedac5617dbfac6122f3441e9e66c_82_3.tsv\n",
      "[18:21:24 - __main__] Starting fastq (334 of 386)\n",
      "\t/path/to/data/MinION_sequencing_data_20200121/guppy_3.2.2_01_21_20_run_01_exec_20200121/pass/fastq_runid_7d0acceaaa1cedac5617dbfac6122f3441e9e66c_83_2.fastq\n"
     ]
    },
    {
     "name": "stdout",
     "output_type": "stream",
     "text": [
      "[########################################] | 100% Completed | 19.9s\n"
     ]
    },
    {
     "name": "stderr",
     "output_type": "stream",
     "text": [
      "[18:21:44 - __main__] Saving to file: /path/to/data/MinION_sequencing_data_20200121/guppy_3.2.2_01_21_20_run_01_exec_20200121/sw/fastq_runid_7d0acceaaa1cedac5617dbfac6122f3441e9e66c_83_2.tsv\n",
      "[18:21:44 - __main__] Starting fastq (335 of 386)\n",
      "\t/path/to/data/MinION_sequencing_data_20200121/guppy_3.2.2_01_21_20_run_01_exec_20200121/pass/fastq_runid_7d0acceaaa1cedac5617dbfac6122f3441e9e66c_84_0.fastq\n"
     ]
    },
    {
     "name": "stdout",
     "output_type": "stream",
     "text": [
      "[########################################] | 100% Completed |  1min  7.6s\n"
     ]
    },
    {
     "name": "stderr",
     "output_type": "stream",
     "text": [
      "[18:22:53 - __main__] Saving to file: /path/to/data/MinION_sequencing_data_20200121/guppy_3.2.2_01_21_20_run_01_exec_20200121/sw/fastq_runid_7d0acceaaa1cedac5617dbfac6122f3441e9e66c_84_0.tsv\n",
      "[18:22:53 - __main__] Starting fastq (336 of 386)\n",
      "\t/path/to/data/MinION_sequencing_data_20200121/guppy_3.2.2_01_21_20_run_01_exec_20200121/pass/fastq_runid_7d0acceaaa1cedac5617dbfac6122f3441e9e66c_84_1.fastq\n"
     ]
    },
    {
     "name": "stdout",
     "output_type": "stream",
     "text": [
      "[########################################] | 100% Completed | 43.5s\n"
     ]
    },
    {
     "name": "stderr",
     "output_type": "stream",
     "text": [
      "[18:23:37 - __main__] Saving to file: /path/to/data/MinION_sequencing_data_20200121/guppy_3.2.2_01_21_20_run_01_exec_20200121/sw/fastq_runid_7d0acceaaa1cedac5617dbfac6122f3441e9e66c_84_1.tsv\n",
      "[18:23:37 - __main__] Starting fastq (337 of 386)\n",
      "\t/path/to/data/MinION_sequencing_data_20200121/guppy_3.2.2_01_21_20_run_01_exec_20200121/pass/fastq_runid_7d0acceaaa1cedac5617dbfac6122f3441e9e66c_84_2.fastq\n"
     ]
    },
    {
     "name": "stdout",
     "output_type": "stream",
     "text": [
      "[########################################] | 100% Completed | 13.3s\n"
     ]
    },
    {
     "name": "stderr",
     "output_type": "stream",
     "text": [
      "[18:23:50 - __main__] Saving to file: /path/to/data/MinION_sequencing_data_20200121/guppy_3.2.2_01_21_20_run_01_exec_20200121/sw/fastq_runid_7d0acceaaa1cedac5617dbfac6122f3441e9e66c_84_2.tsv\n",
      "[18:23:50 - __main__] Starting fastq (338 of 386)\n",
      "\t/path/to/data/MinION_sequencing_data_20200121/guppy_3.2.2_01_21_20_run_01_exec_20200121/pass/fastq_runid_7d0acceaaa1cedac5617dbfac6122f3441e9e66c_85_0.fastq\n"
     ]
    },
    {
     "name": "stdout",
     "output_type": "stream",
     "text": [
      "[########################################] | 100% Completed |  1min  5.4s\n"
     ]
    },
    {
     "name": "stderr",
     "output_type": "stream",
     "text": [
      "[18:24:56 - __main__] Saving to file: /path/to/data/MinION_sequencing_data_20200121/guppy_3.2.2_01_21_20_run_01_exec_20200121/sw/fastq_runid_7d0acceaaa1cedac5617dbfac6122f3441e9e66c_85_0.tsv\n",
      "[18:24:56 - __main__] Starting fastq (339 of 386)\n",
      "\t/path/to/data/MinION_sequencing_data_20200121/guppy_3.2.2_01_21_20_run_01_exec_20200121/pass/fastq_runid_7d0acceaaa1cedac5617dbfac6122f3441e9e66c_85_1.fastq\n"
     ]
    },
    {
     "name": "stdout",
     "output_type": "stream",
     "text": [
      "[########################################] | 100% Completed | 29.2s\n"
     ]
    },
    {
     "name": "stderr",
     "output_type": "stream",
     "text": [
      "[18:25:26 - __main__] Saving to file: /path/to/data/MinION_sequencing_data_20200121/guppy_3.2.2_01_21_20_run_01_exec_20200121/sw/fastq_runid_7d0acceaaa1cedac5617dbfac6122f3441e9e66c_85_1.tsv\n",
      "[18:25:26 - __main__] Starting fastq (340 of 386)\n",
      "\t/path/to/data/MinION_sequencing_data_20200121/guppy_3.2.2_01_21_20_run_01_exec_20200121/pass/fastq_runid_7d0acceaaa1cedac5617dbfac6122f3441e9e66c_83_3.fastq\n"
     ]
    },
    {
     "name": "stdout",
     "output_type": "stream",
     "text": [
      "[########################################] | 100% Completed |  0.9s\n"
     ]
    },
    {
     "name": "stderr",
     "output_type": "stream",
     "text": [
      "[18:25:27 - __main__] Saving to file: /path/to/data/MinION_sequencing_data_20200121/guppy_3.2.2_01_21_20_run_01_exec_20200121/sw/fastq_runid_7d0acceaaa1cedac5617dbfac6122f3441e9e66c_83_3.tsv\n",
      "[18:25:27 - __main__] Starting fastq (341 of 386)\n",
      "\t/path/to/data/MinION_sequencing_data_20200121/guppy_3.2.2_01_21_20_run_01_exec_20200121/pass/fastq_runid_7d0acceaaa1cedac5617dbfac6122f3441e9e66c_84_3.fastq\n"
     ]
    },
    {
     "name": "stdout",
     "output_type": "stream",
     "text": [
      "[########################################] | 100% Completed |  7.4s\n"
     ]
    },
    {
     "name": "stderr",
     "output_type": "stream",
     "text": [
      "[18:25:35 - __main__] Saving to file: /path/to/data/MinION_sequencing_data_20200121/guppy_3.2.2_01_21_20_run_01_exec_20200121/sw/fastq_runid_7d0acceaaa1cedac5617dbfac6122f3441e9e66c_84_3.tsv\n",
      "[18:25:35 - __main__] Starting fastq (342 of 386)\n",
      "\t/path/to/data/MinION_sequencing_data_20200121/guppy_3.2.2_01_21_20_run_01_exec_20200121/pass/fastq_runid_7d0acceaaa1cedac5617dbfac6122f3441e9e66c_85_2.fastq\n"
     ]
    },
    {
     "name": "stdout",
     "output_type": "stream",
     "text": [
      "[########################################] | 100% Completed | 32.1s\n"
     ]
    },
    {
     "name": "stderr",
     "output_type": "stream",
     "text": [
      "[18:26:08 - __main__] Saving to file: /path/to/data/MinION_sequencing_data_20200121/guppy_3.2.2_01_21_20_run_01_exec_20200121/sw/fastq_runid_7d0acceaaa1cedac5617dbfac6122f3441e9e66c_85_2.tsv\n",
      "[18:26:08 - __main__] Starting fastq (343 of 386)\n",
      "\t/path/to/data/MinION_sequencing_data_20200121/guppy_3.2.2_01_21_20_run_01_exec_20200121/pass/fastq_runid_7d0acceaaa1cedac5617dbfac6122f3441e9e66c_85_3.fastq\n"
     ]
    },
    {
     "name": "stdout",
     "output_type": "stream",
     "text": [
      "[########################################] | 100% Completed |  4.9s\n"
     ]
    },
    {
     "name": "stderr",
     "output_type": "stream",
     "text": [
      "[18:26:13 - __main__] Saving to file: /path/to/data/MinION_sequencing_data_20200121/guppy_3.2.2_01_21_20_run_01_exec_20200121/sw/fastq_runid_7d0acceaaa1cedac5617dbfac6122f3441e9e66c_85_3.tsv\n",
      "[18:26:13 - __main__] Starting fastq (344 of 386)\n",
      "\t/path/to/data/MinION_sequencing_data_20200121/guppy_3.2.2_01_21_20_run_01_exec_20200121/pass/fastq_runid_7d0acceaaa1cedac5617dbfac6122f3441e9e66c_86_0.fastq\n"
     ]
    },
    {
     "name": "stdout",
     "output_type": "stream",
     "text": [
      "[########################################] | 100% Completed | 15.1s\n"
     ]
    },
    {
     "name": "stderr",
     "output_type": "stream",
     "text": [
      "[18:26:29 - __main__] Saving to file: /path/to/data/MinION_sequencing_data_20200121/guppy_3.2.2_01_21_20_run_01_exec_20200121/sw/fastq_runid_7d0acceaaa1cedac5617dbfac6122f3441e9e66c_86_0.tsv\n",
      "[18:26:29 - __main__] Starting fastq (345 of 386)\n",
      "\t/path/to/data/MinION_sequencing_data_20200121/guppy_3.2.2_01_21_20_run_01_exec_20200121/pass/fastq_runid_7d0acceaaa1cedac5617dbfac6122f3441e9e66c_86_1.fastq\n"
     ]
    },
    {
     "name": "stdout",
     "output_type": "stream",
     "text": [
      "[########################################] | 100% Completed | 45.6s\n"
     ]
    },
    {
     "name": "stderr",
     "output_type": "stream",
     "text": [
      "[18:27:15 - __main__] Saving to file: /path/to/data/MinION_sequencing_data_20200121/guppy_3.2.2_01_21_20_run_01_exec_20200121/sw/fastq_runid_7d0acceaaa1cedac5617dbfac6122f3441e9e66c_86_1.tsv\n",
      "[18:27:15 - __main__] Starting fastq (346 of 386)\n",
      "\t/path/to/data/MinION_sequencing_data_20200121/guppy_3.2.2_01_21_20_run_01_exec_20200121/pass/fastq_runid_7d0acceaaa1cedac5617dbfac6122f3441e9e66c_86_2.fastq\n"
     ]
    },
    {
     "name": "stdout",
     "output_type": "stream",
     "text": [
      "[########################################] | 100% Completed |  1min  5.4s\n"
     ]
    },
    {
     "name": "stderr",
     "output_type": "stream",
     "text": [
      "[18:28:21 - __main__] Saving to file: /path/to/data/MinION_sequencing_data_20200121/guppy_3.2.2_01_21_20_run_01_exec_20200121/sw/fastq_runid_7d0acceaaa1cedac5617dbfac6122f3441e9e66c_86_2.tsv\n",
      "[18:28:21 - __main__] Starting fastq (347 of 386)\n",
      "\t/path/to/data/MinION_sequencing_data_20200121/guppy_3.2.2_01_21_20_run_01_exec_20200121/pass/fastq_runid_7d0acceaaa1cedac5617dbfac6122f3441e9e66c_87_0.fastq\n"
     ]
    },
    {
     "name": "stdout",
     "output_type": "stream",
     "text": [
      "[########################################] | 100% Completed |  1min  8.7s\n"
     ]
    },
    {
     "name": "stderr",
     "output_type": "stream",
     "text": [
      "[18:29:30 - __main__] Saving to file: /path/to/data/MinION_sequencing_data_20200121/guppy_3.2.2_01_21_20_run_01_exec_20200121/sw/fastq_runid_7d0acceaaa1cedac5617dbfac6122f3441e9e66c_87_0.tsv\n",
      "[18:29:30 - __main__] Starting fastq (348 of 386)\n",
      "\t/path/to/data/MinION_sequencing_data_20200121/guppy_3.2.2_01_21_20_run_01_exec_20200121/pass/fastq_runid_7d0acceaaa1cedac5617dbfac6122f3441e9e66c_87_1.fastq\n"
     ]
    },
    {
     "name": "stdout",
     "output_type": "stream",
     "text": [
      "[########################################] | 100% Completed | 22.4s\n"
     ]
    },
    {
     "name": "stderr",
     "output_type": "stream",
     "text": [
      "[18:29:53 - __main__] Saving to file: /path/to/data/MinION_sequencing_data_20200121/guppy_3.2.2_01_21_20_run_01_exec_20200121/sw/fastq_runid_7d0acceaaa1cedac5617dbfac6122f3441e9e66c_87_1.tsv\n",
      "[18:29:53 - __main__] Starting fastq (349 of 386)\n",
      "\t/path/to/data/MinION_sequencing_data_20200121/guppy_3.2.2_01_21_20_run_01_exec_20200121/pass/fastq_runid_7d0acceaaa1cedac5617dbfac6122f3441e9e66c_86_3.fastq\n"
     ]
    },
    {
     "name": "stdout",
     "output_type": "stream",
     "text": [
      "[########################################] | 100% Completed |  4.6s\n"
     ]
    },
    {
     "name": "stderr",
     "output_type": "stream",
     "text": [
      "[18:29:58 - __main__] Saving to file: /path/to/data/MinION_sequencing_data_20200121/guppy_3.2.2_01_21_20_run_01_exec_20200121/sw/fastq_runid_7d0acceaaa1cedac5617dbfac6122f3441e9e66c_86_3.tsv\n",
      "[18:29:58 - __main__] Starting fastq (350 of 386)\n",
      "\t/path/to/data/MinION_sequencing_data_20200121/guppy_3.2.2_01_21_20_run_01_exec_20200121/pass/fastq_runid_7d0acceaaa1cedac5617dbfac6122f3441e9e66c_87_2.fastq\n"
     ]
    },
    {
     "name": "stdout",
     "output_type": "stream",
     "text": [
      "[########################################] | 100% Completed |  7.8s\n"
     ]
    },
    {
     "name": "stderr",
     "output_type": "stream",
     "text": [
      "[18:30:06 - __main__] Saving to file: /path/to/data/MinION_sequencing_data_20200121/guppy_3.2.2_01_21_20_run_01_exec_20200121/sw/fastq_runid_7d0acceaaa1cedac5617dbfac6122f3441e9e66c_87_2.tsv\n",
      "[18:30:06 - __main__] Starting fastq (351 of 386)\n",
      "\t/path/to/data/MinION_sequencing_data_20200121/guppy_3.2.2_01_21_20_run_01_exec_20200121/pass/fastq_runid_7d0acceaaa1cedac5617dbfac6122f3441e9e66c_88_0.fastq\n"
     ]
    },
    {
     "name": "stdout",
     "output_type": "stream",
     "text": [
      "[########################################] | 100% Completed | 45.3s\n"
     ]
    },
    {
     "name": "stderr",
     "output_type": "stream",
     "text": [
      "[18:30:52 - __main__] Saving to file: /path/to/data/MinION_sequencing_data_20200121/guppy_3.2.2_01_21_20_run_01_exec_20200121/sw/fastq_runid_7d0acceaaa1cedac5617dbfac6122f3441e9e66c_88_0.tsv\n",
      "[18:30:52 - __main__] Starting fastq (352 of 386)\n",
      "\t/path/to/data/MinION_sequencing_data_20200121/guppy_3.2.2_01_21_20_run_01_exec_20200121/pass/fastq_runid_7d0acceaaa1cedac5617dbfac6122f3441e9e66c_87_3.fastq\n"
     ]
    },
    {
     "name": "stdout",
     "output_type": "stream",
     "text": [
      "[########################################] | 100% Completed | 33.4s\n"
     ]
    },
    {
     "name": "stderr",
     "output_type": "stream",
     "text": [
      "[18:31:26 - __main__] Saving to file: /path/to/data/MinION_sequencing_data_20200121/guppy_3.2.2_01_21_20_run_01_exec_20200121/sw/fastq_runid_7d0acceaaa1cedac5617dbfac6122f3441e9e66c_87_3.tsv\n",
      "[18:31:26 - __main__] Starting fastq (353 of 386)\n",
      "\t/path/to/data/MinION_sequencing_data_20200121/guppy_3.2.2_01_21_20_run_01_exec_20200121/pass/fastq_runid_7d0acceaaa1cedac5617dbfac6122f3441e9e66c_88_1.fastq\n"
     ]
    },
    {
     "name": "stdout",
     "output_type": "stream",
     "text": [
      "[########################################] | 100% Completed |  1min  9.5s\n"
     ]
    },
    {
     "name": "stderr",
     "output_type": "stream",
     "text": [
      "[18:32:36 - __main__] Saving to file: /path/to/data/MinION_sequencing_data_20200121/guppy_3.2.2_01_21_20_run_01_exec_20200121/sw/fastq_runid_7d0acceaaa1cedac5617dbfac6122f3441e9e66c_88_1.tsv\n",
      "[18:32:36 - __main__] Starting fastq (354 of 386)\n",
      "\t/path/to/data/MinION_sequencing_data_20200121/guppy_3.2.2_01_21_20_run_01_exec_20200121/pass/fastq_runid_7d0acceaaa1cedac5617dbfac6122f3441e9e66c_89_0.fastq\n"
     ]
    },
    {
     "name": "stdout",
     "output_type": "stream",
     "text": [
      "[########################################] | 100% Completed | 41.7s\n"
     ]
    },
    {
     "name": "stderr",
     "output_type": "stream",
     "text": [
      "[18:33:18 - __main__] Saving to file: /path/to/data/MinION_sequencing_data_20200121/guppy_3.2.2_01_21_20_run_01_exec_20200121/sw/fastq_runid_7d0acceaaa1cedac5617dbfac6122f3441e9e66c_89_0.tsv\n",
      "[18:33:18 - __main__] Starting fastq (355 of 386)\n",
      "\t/path/to/data/MinION_sequencing_data_20200121/guppy_3.2.2_01_21_20_run_01_exec_20200121/pass/fastq_runid_7d0acceaaa1cedac5617dbfac6122f3441e9e66c_88_2.fastq\n"
     ]
    },
    {
     "name": "stdout",
     "output_type": "stream",
     "text": [
      "[########################################] | 100% Completed |  6.5s\n"
     ]
    },
    {
     "name": "stderr",
     "output_type": "stream",
     "text": [
      "[18:33:25 - __main__] Saving to file: /path/to/data/MinION_sequencing_data_20200121/guppy_3.2.2_01_21_20_run_01_exec_20200121/sw/fastq_runid_7d0acceaaa1cedac5617dbfac6122f3441e9e66c_88_2.tsv\n",
      "[18:33:25 - __main__] Starting fastq (356 of 386)\n",
      "\t/path/to/data/MinION_sequencing_data_20200121/guppy_3.2.2_01_21_20_run_01_exec_20200121/pass/fastq_runid_7d0acceaaa1cedac5617dbfac6122f3441e9e66c_89_1.fastq\n"
     ]
    },
    {
     "name": "stdout",
     "output_type": "stream",
     "text": [
      "[########################################] | 100% Completed |  1min  2.3s\n"
     ]
    },
    {
     "name": "stderr",
     "output_type": "stream",
     "text": [
      "[18:34:28 - __main__] Saving to file: /path/to/data/MinION_sequencing_data_20200121/guppy_3.2.2_01_21_20_run_01_exec_20200121/sw/fastq_runid_7d0acceaaa1cedac5617dbfac6122f3441e9e66c_89_1.tsv\n",
      "[18:34:28 - __main__] Starting fastq (357 of 386)\n",
      "\t/path/to/data/MinION_sequencing_data_20200121/guppy_3.2.2_01_21_20_run_01_exec_20200121/pass/fastq_runid_7d0acceaaa1cedac5617dbfac6122f3441e9e66c_88_3.fastq\n"
     ]
    },
    {
     "name": "stdout",
     "output_type": "stream",
     "text": [
      "[########################################] | 100% Completed |  5.8s\n"
     ]
    },
    {
     "name": "stderr",
     "output_type": "stream",
     "text": [
      "[18:34:35 - __main__] Saving to file: /path/to/data/MinION_sequencing_data_20200121/guppy_3.2.2_01_21_20_run_01_exec_20200121/sw/fastq_runid_7d0acceaaa1cedac5617dbfac6122f3441e9e66c_88_3.tsv\n",
      "[18:34:35 - __main__] Starting fastq (358 of 386)\n",
      "\t/path/to/data/MinION_sequencing_data_20200121/guppy_3.2.2_01_21_20_run_01_exec_20200121/pass/fastq_runid_7d0acceaaa1cedac5617dbfac6122f3441e9e66c_89_2.fastq\n"
     ]
    },
    {
     "name": "stdout",
     "output_type": "stream",
     "text": [
      "[########################################] | 100% Completed | 26.9s\n"
     ]
    },
    {
     "name": "stderr",
     "output_type": "stream",
     "text": [
      "[18:35:02 - __main__] Saving to file: /path/to/data/MinION_sequencing_data_20200121/guppy_3.2.2_01_21_20_run_01_exec_20200121/sw/fastq_runid_7d0acceaaa1cedac5617dbfac6122f3441e9e66c_89_2.tsv\n",
      "[18:35:02 - __main__] Starting fastq (359 of 386)\n",
      "\t/path/to/data/MinION_sequencing_data_20200121/guppy_3.2.2_01_21_20_run_01_exec_20200121/pass/fastq_runid_7d0acceaaa1cedac5617dbfac6122f3441e9e66c_90_0.fastq\n"
     ]
    },
    {
     "name": "stdout",
     "output_type": "stream",
     "text": [
      "[########################################] | 100% Completed |  1min 10.0s\n"
     ]
    },
    {
     "name": "stderr",
     "output_type": "stream",
     "text": [
      "[18:36:12 - __main__] Saving to file: /path/to/data/MinION_sequencing_data_20200121/guppy_3.2.2_01_21_20_run_01_exec_20200121/sw/fastq_runid_7d0acceaaa1cedac5617dbfac6122f3441e9e66c_90_0.tsv\n",
      "[18:36:13 - __main__] Starting fastq (360 of 386)\n",
      "\t/path/to/data/MinION_sequencing_data_20200121/guppy_3.2.2_01_21_20_run_01_exec_20200121/pass/fastq_runid_7d0acceaaa1cedac5617dbfac6122f3441e9e66c_90_1.fastq\n"
     ]
    },
    {
     "name": "stdout",
     "output_type": "stream",
     "text": [
      "[########################################] | 100% Completed | 28.7s\n"
     ]
    },
    {
     "name": "stderr",
     "output_type": "stream",
     "text": [
      "[18:36:42 - __main__] Saving to file: /path/to/data/MinION_sequencing_data_20200121/guppy_3.2.2_01_21_20_run_01_exec_20200121/sw/fastq_runid_7d0acceaaa1cedac5617dbfac6122f3441e9e66c_90_1.tsv\n",
      "[18:36:42 - __main__] Starting fastq (361 of 386)\n",
      "\t/path/to/data/MinION_sequencing_data_20200121/guppy_3.2.2_01_21_20_run_01_exec_20200121/pass/fastq_runid_7d0acceaaa1cedac5617dbfac6122f3441e9e66c_89_3.fastq\n"
     ]
    },
    {
     "name": "stdout",
     "output_type": "stream",
     "text": [
      "[########################################] | 100% Completed |  3.8s\n"
     ]
    },
    {
     "name": "stderr",
     "output_type": "stream",
     "text": [
      "[18:36:46 - __main__] Saving to file: /path/to/data/MinION_sequencing_data_20200121/guppy_3.2.2_01_21_20_run_01_exec_20200121/sw/fastq_runid_7d0acceaaa1cedac5617dbfac6122f3441e9e66c_89_3.tsv\n",
      "[18:36:46 - __main__] Starting fastq (362 of 386)\n",
      "\t/path/to/data/MinION_sequencing_data_20200121/guppy_3.2.2_01_21_20_run_01_exec_20200121/pass/fastq_runid_7d0acceaaa1cedac5617dbfac6122f3441e9e66c_90_2.fastq\n"
     ]
    },
    {
     "name": "stdout",
     "output_type": "stream",
     "text": [
      "[########################################] | 100% Completed | 32.6s\n"
     ]
    },
    {
     "name": "stderr",
     "output_type": "stream",
     "text": [
      "[18:37:19 - __main__] Saving to file: /path/to/data/MinION_sequencing_data_20200121/guppy_3.2.2_01_21_20_run_01_exec_20200121/sw/fastq_runid_7d0acceaaa1cedac5617dbfac6122f3441e9e66c_90_2.tsv\n",
      "[18:37:19 - __main__] Starting fastq (363 of 386)\n",
      "\t/path/to/data/MinION_sequencing_data_20200121/guppy_3.2.2_01_21_20_run_01_exec_20200121/pass/fastq_runid_7d0acceaaa1cedac5617dbfac6122f3441e9e66c_90_3.fastq\n"
     ]
    },
    {
     "name": "stdout",
     "output_type": "stream",
     "text": [
      "[########################################] | 100% Completed |  1.9s\n"
     ]
    },
    {
     "name": "stderr",
     "output_type": "stream",
     "text": [
      "[18:37:21 - __main__] Saving to file: /path/to/data/MinION_sequencing_data_20200121/guppy_3.2.2_01_21_20_run_01_exec_20200121/sw/fastq_runid_7d0acceaaa1cedac5617dbfac6122f3441e9e66c_90_3.tsv\n",
      "[18:37:21 - __main__] Starting fastq (364 of 386)\n",
      "\t/path/to/data/MinION_sequencing_data_20200121/guppy_3.2.2_01_21_20_run_01_exec_20200121/pass/fastq_runid_7d0acceaaa1cedac5617dbfac6122f3441e9e66c_91_0.fastq\n"
     ]
    },
    {
     "name": "stdout",
     "output_type": "stream",
     "text": [
      "[########################################] | 100% Completed |  9.5s\n"
     ]
    },
    {
     "name": "stderr",
     "output_type": "stream",
     "text": [
      "[18:37:31 - __main__] Saving to file: /path/to/data/MinION_sequencing_data_20200121/guppy_3.2.2_01_21_20_run_01_exec_20200121/sw/fastq_runid_7d0acceaaa1cedac5617dbfac6122f3441e9e66c_91_0.tsv\n",
      "[18:37:31 - __main__] Starting fastq (365 of 386)\n",
      "\t/path/to/data/MinION_sequencing_data_20200121/guppy_3.2.2_01_21_20_run_01_exec_20200121/pass/fastq_runid_7d0acceaaa1cedac5617dbfac6122f3441e9e66c_92_0.fastq\n"
     ]
    },
    {
     "name": "stdout",
     "output_type": "stream",
     "text": [
      "[########################################] | 100% Completed |  1min 10.5s\n"
     ]
    },
    {
     "name": "stderr",
     "output_type": "stream",
     "text": [
      "[18:38:42 - __main__] Saving to file: /path/to/data/MinION_sequencing_data_20200121/guppy_3.2.2_01_21_20_run_01_exec_20200121/sw/fastq_runid_7d0acceaaa1cedac5617dbfac6122f3441e9e66c_92_0.tsv\n",
      "[18:38:42 - __main__] Starting fastq (366 of 386)\n",
      "\t/path/to/data/MinION_sequencing_data_20200121/guppy_3.2.2_01_21_20_run_01_exec_20200121/pass/fastq_runid_7d0acceaaa1cedac5617dbfac6122f3441e9e66c_92_1.fastq\n"
     ]
    },
    {
     "name": "stdout",
     "output_type": "stream",
     "text": [
      "[########################################] | 100% Completed | 52.7s\n"
     ]
    },
    {
     "name": "stderr",
     "output_type": "stream",
     "text": [
      "[18:39:36 - __main__] Saving to file: /path/to/data/MinION_sequencing_data_20200121/guppy_3.2.2_01_21_20_run_01_exec_20200121/sw/fastq_runid_7d0acceaaa1cedac5617dbfac6122f3441e9e66c_92_1.tsv\n",
      "[18:39:36 - __main__] Starting fastq (367 of 386)\n",
      "\t/path/to/data/MinION_sequencing_data_20200121/guppy_3.2.2_01_21_20_run_01_exec_20200121/pass/fastq_runid_7d0acceaaa1cedac5617dbfac6122f3441e9e66c_91_1.fastq\n"
     ]
    },
    {
     "name": "stdout",
     "output_type": "stream",
     "text": [
      "[########################################] | 100% Completed |  1min 20.4s\n"
     ]
    },
    {
     "name": "stderr",
     "output_type": "stream",
     "text": [
      "[18:40:57 - __main__] Saving to file: /path/to/data/MinION_sequencing_data_20200121/guppy_3.2.2_01_21_20_run_01_exec_20200121/sw/fastq_runid_7d0acceaaa1cedac5617dbfac6122f3441e9e66c_91_1.tsv\n",
      "[18:40:57 - __main__] Starting fastq (368 of 386)\n",
      "\t/path/to/data/MinION_sequencing_data_20200121/guppy_3.2.2_01_21_20_run_01_exec_20200121/pass/fastq_runid_7d0acceaaa1cedac5617dbfac6122f3441e9e66c_91_2.fastq\n"
     ]
    },
    {
     "name": "stdout",
     "output_type": "stream",
     "text": [
      "[########################################] | 100% Completed | 41.3s\n"
     ]
    },
    {
     "name": "stderr",
     "output_type": "stream",
     "text": [
      "[18:41:39 - __main__] Saving to file: /path/to/data/MinION_sequencing_data_20200121/guppy_3.2.2_01_21_20_run_01_exec_20200121/sw/fastq_runid_7d0acceaaa1cedac5617dbfac6122f3441e9e66c_91_2.tsv\n",
      "[18:41:39 - __main__] Starting fastq (369 of 386)\n",
      "\t/path/to/data/MinION_sequencing_data_20200121/guppy_3.2.2_01_21_20_run_01_exec_20200121/pass/fastq_runid_7d0acceaaa1cedac5617dbfac6122f3441e9e66c_92_2.fastq\n"
     ]
    },
    {
     "name": "stdout",
     "output_type": "stream",
     "text": [
      "[########################################] | 100% Completed |  1.0s\n"
     ]
    },
    {
     "name": "stderr",
     "output_type": "stream",
     "text": [
      "[18:41:40 - __main__] Saving to file: /path/to/data/MinION_sequencing_data_20200121/guppy_3.2.2_01_21_20_run_01_exec_20200121/sw/fastq_runid_7d0acceaaa1cedac5617dbfac6122f3441e9e66c_92_2.tsv\n",
      "[18:41:40 - __main__] Starting fastq (370 of 386)\n",
      "\t/path/to/data/MinION_sequencing_data_20200121/guppy_3.2.2_01_21_20_run_01_exec_20200121/pass/fastq_runid_7d0acceaaa1cedac5617dbfac6122f3441e9e66c_93_0.fastq\n"
     ]
    },
    {
     "name": "stdout",
     "output_type": "stream",
     "text": [
      "[########################################] | 100% Completed | 46.3s\n"
     ]
    },
    {
     "name": "stderr",
     "output_type": "stream",
     "text": [
      "[18:42:27 - __main__] Saving to file: /path/to/data/MinION_sequencing_data_20200121/guppy_3.2.2_01_21_20_run_01_exec_20200121/sw/fastq_runid_7d0acceaaa1cedac5617dbfac6122f3441e9e66c_93_0.tsv\n",
      "[18:42:27 - __main__] Starting fastq (371 of 386)\n",
      "\t/path/to/data/MinION_sequencing_data_20200121/guppy_3.2.2_01_21_20_run_01_exec_20200121/pass/fastq_runid_7d0acceaaa1cedac5617dbfac6122f3441e9e66c_93_1.fastq\n"
     ]
    },
    {
     "name": "stdout",
     "output_type": "stream",
     "text": [
      "[########################################] | 100% Completed | 10.6s\n"
     ]
    },
    {
     "name": "stderr",
     "output_type": "stream",
     "text": [
      "[18:42:38 - __main__] Saving to file: /path/to/data/MinION_sequencing_data_20200121/guppy_3.2.2_01_21_20_run_01_exec_20200121/sw/fastq_runid_7d0acceaaa1cedac5617dbfac6122f3441e9e66c_93_1.tsv\n",
      "[18:42:38 - __main__] Starting fastq (372 of 386)\n",
      "\t/path/to/data/MinION_sequencing_data_20200121/guppy_3.2.2_01_21_20_run_01_exec_20200121/pass/fastq_runid_7d0acceaaa1cedac5617dbfac6122f3441e9e66c_94_0.fastq\n"
     ]
    },
    {
     "name": "stdout",
     "output_type": "stream",
     "text": [
      "[########################################] | 100% Completed | 39.2s\n"
     ]
    },
    {
     "name": "stderr",
     "output_type": "stream",
     "text": [
      "[18:43:18 - __main__] Saving to file: /path/to/data/MinION_sequencing_data_20200121/guppy_3.2.2_01_21_20_run_01_exec_20200121/sw/fastq_runid_7d0acceaaa1cedac5617dbfac6122f3441e9e66c_94_0.tsv\n",
      "[18:43:18 - __main__] Starting fastq (373 of 386)\n",
      "\t/path/to/data/MinION_sequencing_data_20200121/guppy_3.2.2_01_21_20_run_01_exec_20200121/pass/fastq_runid_7d0acceaaa1cedac5617dbfac6122f3441e9e66c_92_3.fastq\n"
     ]
    },
    {
     "name": "stdout",
     "output_type": "stream",
     "text": [
      "[########################################] | 100% Completed | 10.2s\n"
     ]
    },
    {
     "name": "stderr",
     "output_type": "stream",
     "text": [
      "[18:43:28 - __main__] Saving to file: /path/to/data/MinION_sequencing_data_20200121/guppy_3.2.2_01_21_20_run_01_exec_20200121/sw/fastq_runid_7d0acceaaa1cedac5617dbfac6122f3441e9e66c_92_3.tsv\n",
      "[18:43:28 - __main__] Starting fastq (374 of 386)\n",
      "\t/path/to/data/MinION_sequencing_data_20200121/guppy_3.2.2_01_21_20_run_01_exec_20200121/pass/fastq_runid_7d0acceaaa1cedac5617dbfac6122f3441e9e66c_93_2.fastq\n"
     ]
    },
    {
     "name": "stdout",
     "output_type": "stream",
     "text": [
      "[########################################] | 100% Completed |  8.1s\n"
     ]
    },
    {
     "name": "stderr",
     "output_type": "stream",
     "text": [
      "[18:43:37 - __main__] Saving to file: /path/to/data/MinION_sequencing_data_20200121/guppy_3.2.2_01_21_20_run_01_exec_20200121/sw/fastq_runid_7d0acceaaa1cedac5617dbfac6122f3441e9e66c_93_2.tsv\n",
      "[18:43:37 - __main__] Starting fastq (375 of 386)\n",
      "\t/path/to/data/MinION_sequencing_data_20200121/guppy_3.2.2_01_21_20_run_01_exec_20200121/pass/fastq_runid_7d0acceaaa1cedac5617dbfac6122f3441e9e66c_94_1.fastq\n"
     ]
    },
    {
     "name": "stdout",
     "output_type": "stream",
     "text": [
      "[########################################] | 100% Completed |  1min  9.2s\n"
     ]
    },
    {
     "name": "stderr",
     "output_type": "stream",
     "text": [
      "[18:44:46 - __main__] Saving to file: /path/to/data/MinION_sequencing_data_20200121/guppy_3.2.2_01_21_20_run_01_exec_20200121/sw/fastq_runid_7d0acceaaa1cedac5617dbfac6122f3441e9e66c_94_1.tsv\n",
      "[18:44:47 - __main__] Starting fastq (376 of 386)\n",
      "\t/path/to/data/MinION_sequencing_data_20200121/guppy_3.2.2_01_21_20_run_01_exec_20200121/pass/fastq_runid_7d0acceaaa1cedac5617dbfac6122f3441e9e66c_93_3.fastq\n"
     ]
    },
    {
     "name": "stdout",
     "output_type": "stream",
     "text": [
      "[########################################] | 100% Completed |  1min  3.0s\n"
     ]
    },
    {
     "name": "stderr",
     "output_type": "stream",
     "text": [
      "[18:45:50 - __main__] Saving to file: /path/to/data/MinION_sequencing_data_20200121/guppy_3.2.2_01_21_20_run_01_exec_20200121/sw/fastq_runid_7d0acceaaa1cedac5617dbfac6122f3441e9e66c_93_3.tsv\n",
      "[18:45:50 - __main__] Starting fastq (377 of 386)\n",
      "\t/path/to/data/MinION_sequencing_data_20200121/guppy_3.2.2_01_21_20_run_01_exec_20200121/pass/fastq_runid_7d0acceaaa1cedac5617dbfac6122f3441e9e66c_94_2.fastq\n"
     ]
    },
    {
     "name": "stdout",
     "output_type": "stream",
     "text": [
      "[########################################] | 100% Completed | 15.8s\n"
     ]
    },
    {
     "name": "stderr",
     "output_type": "stream",
     "text": [
      "[18:46:07 - __main__] Saving to file: /path/to/data/MinION_sequencing_data_20200121/guppy_3.2.2_01_21_20_run_01_exec_20200121/sw/fastq_runid_7d0acceaaa1cedac5617dbfac6122f3441e9e66c_94_2.tsv\n",
      "[18:46:07 - __main__] Starting fastq (378 of 386)\n",
      "\t/path/to/data/MinION_sequencing_data_20200121/guppy_3.2.2_01_21_20_run_01_exec_20200121/pass/fastq_runid_7d0acceaaa1cedac5617dbfac6122f3441e9e66c_95_0.fastq\n"
     ]
    },
    {
     "name": "stdout",
     "output_type": "stream",
     "text": [
      "[########################################] | 100% Completed | 19.8s\n"
     ]
    },
    {
     "name": "stderr",
     "output_type": "stream",
     "text": [
      "[18:46:27 - __main__] Saving to file: /path/to/data/MinION_sequencing_data_20200121/guppy_3.2.2_01_21_20_run_01_exec_20200121/sw/fastq_runid_7d0acceaaa1cedac5617dbfac6122f3441e9e66c_95_0.tsv\n",
      "[18:46:27 - __main__] Starting fastq (379 of 386)\n",
      "\t/path/to/data/MinION_sequencing_data_20200121/guppy_3.2.2_01_21_20_run_01_exec_20200121/pass/fastq_runid_7d0acceaaa1cedac5617dbfac6122f3441e9e66c_95_1.fastq\n"
     ]
    },
    {
     "name": "stdout",
     "output_type": "stream",
     "text": [
      "[########################################] | 100% Completed |  1min 30.0s\n"
     ]
    },
    {
     "name": "stderr",
     "output_type": "stream",
     "text": [
      "[18:47:57 - __main__] Saving to file: /path/to/data/MinION_sequencing_data_20200121/guppy_3.2.2_01_21_20_run_01_exec_20200121/sw/fastq_runid_7d0acceaaa1cedac5617dbfac6122f3441e9e66c_95_1.tsv\n",
      "[18:47:58 - __main__] Starting fastq (380 of 386)\n",
      "\t/path/to/data/MinION_sequencing_data_20200121/guppy_3.2.2_01_21_20_run_01_exec_20200121/pass/fastq_runid_7d0acceaaa1cedac5617dbfac6122f3441e9e66c_94_3.fastq\n"
     ]
    },
    {
     "name": "stdout",
     "output_type": "stream",
     "text": [
      "[########################################] | 100% Completed |  4.9s\n"
     ]
    },
    {
     "name": "stderr",
     "output_type": "stream",
     "text": [
      "[18:48:03 - __main__] Saving to file: /path/to/data/MinION_sequencing_data_20200121/guppy_3.2.2_01_21_20_run_01_exec_20200121/sw/fastq_runid_7d0acceaaa1cedac5617dbfac6122f3441e9e66c_94_3.tsv\n",
      "[18:48:03 - __main__] Starting fastq (381 of 386)\n",
      "\t/path/to/data/MinION_sequencing_data_20200121/guppy_3.2.2_01_21_20_run_01_exec_20200121/pass/fastq_runid_7d0acceaaa1cedac5617dbfac6122f3441e9e66c_95_2.fastq\n"
     ]
    },
    {
     "name": "stdout",
     "output_type": "stream",
     "text": [
      "[########################################] | 100% Completed |  1.0s\n"
     ]
    },
    {
     "name": "stderr",
     "output_type": "stream",
     "text": [
      "[18:48:04 - __main__] Saving to file: /path/to/data/MinION_sequencing_data_20200121/guppy_3.2.2_01_21_20_run_01_exec_20200121/sw/fastq_runid_7d0acceaaa1cedac5617dbfac6122f3441e9e66c_95_2.tsv\n",
      "[18:48:04 - __main__] Starting fastq (382 of 386)\n",
      "\t/path/to/data/MinION_sequencing_data_20200121/guppy_3.2.2_01_21_20_run_01_exec_20200121/pass/fastq_runid_7d0acceaaa1cedac5617dbfac6122f3441e9e66c_96_0.fastq\n"
     ]
    },
    {
     "name": "stdout",
     "output_type": "stream",
     "text": [
      "[########################################] | 100% Completed |  1min  2.3s\n"
     ]
    },
    {
     "name": "stderr",
     "output_type": "stream",
     "text": [
      "[18:49:07 - __main__] Saving to file: /path/to/data/MinION_sequencing_data_20200121/guppy_3.2.2_01_21_20_run_01_exec_20200121/sw/fastq_runid_7d0acceaaa1cedac5617dbfac6122f3441e9e66c_96_0.tsv\n",
      "[18:49:07 - __main__] Starting fastq (383 of 386)\n",
      "\t/path/to/data/MinION_sequencing_data_20200121/guppy_3.2.2_01_21_20_run_01_exec_20200121/pass/fastq_runid_7d0acceaaa1cedac5617dbfac6122f3441e9e66c_95_3.fastq\n"
     ]
    },
    {
     "name": "stdout",
     "output_type": "stream",
     "text": [
      "[########################################] | 100% Completed | 19.4s\n"
     ]
    },
    {
     "name": "stderr",
     "output_type": "stream",
     "text": [
      "[18:49:27 - __main__] Saving to file: /path/to/data/MinION_sequencing_data_20200121/guppy_3.2.2_01_21_20_run_01_exec_20200121/sw/fastq_runid_7d0acceaaa1cedac5617dbfac6122f3441e9e66c_95_3.tsv\n",
      "[18:49:27 - __main__] Starting fastq (384 of 386)\n",
      "\t/path/to/data/MinION_sequencing_data_20200121/guppy_3.2.2_01_21_20_run_01_exec_20200121/pass/fastq_runid_7d0acceaaa1cedac5617dbfac6122f3441e9e66c_96_1.fastq\n"
     ]
    },
    {
     "name": "stdout",
     "output_type": "stream",
     "text": [
      "[########################################] | 100% Completed |  1.0s\n"
     ]
    },
    {
     "name": "stderr",
     "output_type": "stream",
     "text": [
      "[18:49:28 - __main__] Saving to file: /path/to/data/MinION_sequencing_data_20200121/guppy_3.2.2_01_21_20_run_01_exec_20200121/sw/fastq_runid_7d0acceaaa1cedac5617dbfac6122f3441e9e66c_96_1.tsv\n",
      "[18:49:28 - __main__] Starting fastq (385 of 386)\n",
      "\t/path/to/data/MinION_sequencing_data_20200121/guppy_3.2.2_01_21_20_run_01_exec_20200121/pass/fastq_runid_7d0acceaaa1cedac5617dbfac6122f3441e9e66c_96_2.fastq\n"
     ]
    },
    {
     "name": "stdout",
     "output_type": "stream",
     "text": [
      "[########################################] | 100% Completed | 11.8s\n"
     ]
    },
    {
     "name": "stderr",
     "output_type": "stream",
     "text": [
      "[18:49:41 - __main__] Saving to file: /path/to/data/MinION_sequencing_data_20200121/guppy_3.2.2_01_21_20_run_01_exec_20200121/sw/fastq_runid_7d0acceaaa1cedac5617dbfac6122f3441e9e66c_96_2.tsv\n"
     ]
    }
   ],
   "source": [
    "run_sw(fastq_dir, sw_dir, search_len=80, cost_fn=cost_fn, molbit_fa=molbit_file, n_workers=40)"
   ]
  },
  {
   "cell_type": "code",
   "execution_count": 12,
   "metadata": {
    "ExecuteTime": {
     "end_time": "2020-01-22T02:49:41.190280Z",
     "start_time": "2020-01-22T02:49:41.166764Z"
    }
   },
   "outputs": [
    {
     "data": {
      "text/plain": [
       "'/path/to/data/MinION_sequencing_data_20200121/guppy_3.2.2_01_21_20_run_01_exec_20200121/sw'"
      ]
     },
     "execution_count": 12,
     "metadata": {},
     "output_type": "execute_result"
    }
   ],
   "source": [
    "sw_dir"
   ]
  },
  {
   "cell_type": "code",
   "execution_count": 13,
   "metadata": {
    "ExecuteTime": {
     "end_time": "2020-01-22T02:49:45.360635Z",
     "start_time": "2020-01-22T02:49:41.191966Z"
    }
   },
   "outputs": [],
   "source": [
    "sw_list = []\n",
    "for fname in os.listdir(sw_dir):\n",
    "    if len(re.findall(r\"fastq_runid_.*_[\\d]+_[\\d]+.tsv\", fname)) == 0:\n",
    "        continue\n",
    "    sw_tsv = os.path.join(sw_dir, fname)\n",
    "    sw = pd.read_csv(sw_tsv, sep=\"\\t\", index_col=0)\n",
    "    sw_list.append(sw)\n",
    "sw = pd.concat(sw_list)\n",
    "del sw_list"
   ]
  },
  {
   "cell_type": "code",
   "execution_count": 14,
   "metadata": {
    "ExecuteTime": {
     "end_time": "2020-01-22T02:49:45.462153Z",
     "start_time": "2020-01-22T02:49:45.362710Z"
    }
   },
   "outputs": [],
   "source": [
    "sw_arr = np.array(sw)"
   ]
  },
  {
   "cell_type": "code",
   "execution_count": 15,
   "metadata": {
    "ExecuteTime": {
     "end_time": "2020-01-22T02:49:45.887352Z",
     "start_time": "2020-01-22T02:49:45.464256Z"
    }
   },
   "outputs": [],
   "source": [
    "max_sw = np.max(sw_arr, axis=1)\n",
    "sw_arr[range(len(sw_arr)), np.argmax(sw_arr, axis=1)] = 0\n",
    "second_best_sw = np.max(sw_arr, axis=1)\n",
    "sw_arr = np.array(sw)"
   ]
  },
  {
   "cell_type": "markdown",
   "metadata": {},
   "source": [
    "## Plot alignment scores for basic overview of performance"
   ]
  },
  {
   "cell_type": "code",
   "execution_count": 16,
   "metadata": {
    "ExecuteTime": {
     "end_time": "2020-01-22T02:49:50.270995Z",
     "start_time": "2020-01-22T02:49:45.889321Z"
    },
    "scrolled": false
   },
   "outputs": [
    {
     "data": {
      "text/plain": [
       "<matplotlib.lines.Line2D at 0x7fd73150d860>"
      ]
     },
     "execution_count": 16,
     "metadata": {},
     "output_type": "execute_result"
    },
    {
     "name": "stderr",
     "output_type": "stream",
     "text": [
      "[18:49:46 - matplotlib.font_manager] findfont: Matching :family=sans-serif:style=normal:variant=normal:weight=normal:stretch=normal:size=19.8.\n",
      "[18:49:46 - matplotlib.font_manager] findfont: score(<Font 'STIXSizeThreeSym' (STIXSizThreeSymBol.ttf) normal normal bold normal>) = 10.335\n",
      "[18:49:46 - matplotlib.font_manager] findfont: score(<Font 'STIXSizeFourSym' (STIXSizFourSymBol.ttf) normal normal bold normal>) = 10.335\n",
      "[18:49:46 - matplotlib.font_manager] findfont: score(<Font 'DejaVu Sans Mono' (DejaVuSansMono-Oblique.ttf) oblique normal 400 normal>) = 11.05\n",
      "[18:49:46 - matplotlib.font_manager] findfont: score(<Font 'DejaVu Sans' (DejaVuSans-BoldOblique.ttf) oblique normal bold normal>) = 3.335\n",
      "[18:49:46 - matplotlib.font_manager] findfont: score(<Font 'STIXNonUnicode' (STIXNonUni.ttf) normal normal regular normal>) = 10.05\n",
      "[18:49:46 - matplotlib.font_manager] findfont: score(<Font 'STIXSizeFourSym' (STIXSizFourSymReg.ttf) normal normal regular normal>) = 10.05\n",
      "[18:49:46 - matplotlib.font_manager] findfont: score(<Font 'STIXGeneral' (STIXGeneral.ttf) normal normal regular normal>) = 10.05\n",
      "[18:49:46 - matplotlib.font_manager] findfont: score(<Font 'STIXSizeFiveSym' (STIXSizFiveSymReg.ttf) normal normal regular normal>) = 10.05\n",
      "[18:49:46 - matplotlib.font_manager] findfont: score(<Font 'DejaVu Serif' (DejaVuSerif-BoldItalic.ttf) italic normal bold normal>) = 11.335\n",
      "[18:49:46 - matplotlib.font_manager] findfont: score(<Font 'STIXNonUnicode' (STIXNonUniBol.ttf) normal normal bold normal>) = 10.335\n",
      "[18:49:46 - matplotlib.font_manager] findfont: score(<Font 'DejaVu Serif' (DejaVuSerif-Italic.ttf) italic normal 400 normal>) = 11.05\n",
      "[18:49:46 - matplotlib.font_manager] findfont: score(<Font 'cmss10' (cmss10.ttf) normal normal 400 normal>) = 10.05\n",
      "[18:49:46 - matplotlib.font_manager] findfont: score(<Font 'STIXSizeThreeSym' (STIXSizThreeSymReg.ttf) normal normal regular normal>) = 10.05\n",
      "[18:49:46 - matplotlib.font_manager] findfont: score(<Font 'STIXSizeOneSym' (STIXSizOneSymBol.ttf) normal normal bold normal>) = 10.335\n",
      "[18:49:46 - matplotlib.font_manager] findfont: score(<Font 'cmr10' (cmr10.ttf) normal normal 400 normal>) = 10.05\n",
      "[18:49:46 - matplotlib.font_manager] findfont: score(<Font 'STIXGeneral' (STIXGeneralBol.ttf) normal normal bold normal>) = 10.335\n",
      "[18:49:46 - matplotlib.font_manager] findfont: score(<Font 'cmb10' (cmb10.ttf) normal normal 400 normal>) = 10.05\n",
      "[18:49:46 - matplotlib.font_manager] findfont: score(<Font 'STIXGeneral' (STIXGeneralBolIta.ttf) italic normal bold normal>) = 11.335\n",
      "[18:49:46 - matplotlib.font_manager] findfont: score(<Font 'STIXGeneral' (STIXGeneralItalic.ttf) italic normal 400 normal>) = 11.05\n",
      "[18:49:46 - matplotlib.font_manager] findfont: score(<Font 'cmsy10' (cmsy10.ttf) normal normal 400 normal>) = 10.05\n",
      "[18:49:46 - matplotlib.font_manager] findfont: score(<Font 'STIXNonUnicode' (STIXNonUniBolIta.ttf) italic normal bold normal>) = 11.335\n",
      "[18:49:46 - matplotlib.font_manager] findfont: score(<Font 'DejaVu Sans' (DejaVuSans-Bold.ttf) normal normal bold normal>) = 2.335\n",
      "[18:49:46 - matplotlib.font_manager] findfont: score(<Font 'cmex10' (cmex10.ttf) normal normal 400 normal>) = 10.05\n",
      "[18:49:46 - matplotlib.font_manager] findfont: score(<Font 'DejaVu Sans' (DejaVuSans-Oblique.ttf) oblique normal 400 normal>) = 3.05\n",
      "[18:49:46 - matplotlib.font_manager] findfont: score(<Font 'DejaVu Sans' (DejaVuSans.ttf) normal normal 400 normal>) = 2.05\n",
      "[18:49:46 - matplotlib.font_manager] findfont: score(<Font 'DejaVu Serif' (DejaVuSerif-Bold.ttf) normal normal bold normal>) = 10.335\n",
      "[18:49:46 - matplotlib.font_manager] findfont: score(<Font 'STIXSizeTwoSym' (STIXSizTwoSymBol.ttf) normal normal bold normal>) = 10.335\n",
      "[18:49:46 - matplotlib.font_manager] findfont: score(<Font 'DejaVu Sans Mono' (DejaVuSansMono-BoldOblique.ttf) oblique normal bold normal>) = 11.335\n",
      "[18:49:46 - matplotlib.font_manager] findfont: score(<Font 'cmtt10' (cmtt10.ttf) normal normal 400 normal>) = 10.05\n",
      "[18:49:46 - matplotlib.font_manager] findfont: score(<Font 'DejaVu Serif' (DejaVuSerif.ttf) normal normal 400 normal>) = 10.05\n",
      "[18:49:46 - matplotlib.font_manager] findfont: score(<Font 'cmmi10' (cmmi10.ttf) normal normal 400 normal>) = 10.05\n",
      "[18:49:46 - matplotlib.font_manager] findfont: score(<Font 'DejaVu Sans Display' (DejaVuSansDisplay.ttf) normal normal 400 normal>) = 10.05\n",
      "[18:49:46 - matplotlib.font_manager] findfont: score(<Font 'STIXSizeTwoSym' (STIXSizTwoSymReg.ttf) normal normal regular normal>) = 10.05\n",
      "[18:49:46 - matplotlib.font_manager] findfont: score(<Font 'STIXNonUnicode' (STIXNonUniIta.ttf) italic normal 400 normal>) = 11.05\n",
      "[18:49:46 - matplotlib.font_manager] findfont: score(<Font 'DejaVu Sans Mono' (DejaVuSansMono.ttf) normal normal 400 normal>) = 10.05\n",
      "[18:49:46 - matplotlib.font_manager] findfont: score(<Font 'DejaVu Serif Display' (DejaVuSerifDisplay.ttf) normal normal 400 normal>) = 10.05\n",
      "[18:49:46 - matplotlib.font_manager] findfont: score(<Font 'DejaVu Sans Mono' (DejaVuSansMono-Bold.ttf) normal normal bold normal>) = 10.335\n",
      "[18:49:46 - matplotlib.font_manager] findfont: score(<Font 'STIXSizeOneSym' (STIXSizOneSymReg.ttf) normal normal regular normal>) = 10.05\n",
      "[18:49:46 - matplotlib.font_manager] findfont: score(<Font 'FreeSerif' (FreeSerif.ttf) normal normal 400 normal>) = 10.05\n",
      "[18:49:46 - matplotlib.font_manager] findfont: score(<Font 'PT Sans Narrow' (PTN57F.ttf) normal normal 400 condensed>) = 10.25\n",
      "[18:49:46 - matplotlib.font_manager] findfont: score(<Font 'Source Han Sans CN' (SourceHanSansCN-Light.otf) normal normal light normal>) = 10.24\n",
      "[18:49:46 - matplotlib.font_manager] findfont: score(<Font 'Khmer OS Content' (KhmerOS_content.ttf) normal normal 400 normal>) = 10.05\n",
      "[18:49:46 - matplotlib.font_manager] findfont: score(<Font 'PT Sans' (PTS76F.ttf) italic normal bold normal>) = 11.335\n",
      "[18:49:46 - matplotlib.font_manager] findfont: score(<Font 'PT Sans' (PTS56F.ttf) italic normal 400 normal>) = 11.05\n",
      "[18:49:46 - matplotlib.font_manager] findfont: score(<Font 'Caladea' (Caladea-Italic.ttf) italic normal 400 normal>) = 11.05\n",
      "[18:49:46 - matplotlib.font_manager] findfont: score(<Font 'Cantarell' (Cantarell-BoldOblique.otf) oblique normal bold normal>) = 11.335\n",
      "[18:49:46 - matplotlib.font_manager] findfont: score(<Font 'Source Han Sans TWHK' (SourceHanSansTWHK-Heavy.otf) normal normal bold normal>) = 10.335\n",
      "[18:49:46 - matplotlib.font_manager] findfont: score(<Font 'DejaVu Sans' (DejaVuSansCondensed.ttf) normal normal 400 condensed>) = 2.25\n",
      "[18:49:46 - matplotlib.font_manager] findfont: score(<Font 'Carlito' (Carlito-Bold.ttf) normal normal bold normal>) = 10.335\n",
      "[18:49:46 - matplotlib.font_manager] findfont: score(<Font 'Liberation Sans' (LiberationSans-Italic.ttf) italic normal 400 normal>) = 5.05\n",
      "[18:49:46 - matplotlib.font_manager] findfont: score(<Font 'Source Han Sans CN' (SourceHanSansCN-Regular.otf) normal normal regular normal>) = 10.05\n",
      "[18:49:46 - matplotlib.font_manager] findfont: score(<Font 'DejaVu Sans' (DejaVuSansCondensed-Oblique.ttf) oblique normal 400 condensed>) = 3.25\n",
      "[18:49:46 - matplotlib.font_manager] findfont: score(<Font 'Source Han Sans TWHK' (SourceHanSansTWHK-Normal.otf) normal normal normal normal>) = 10.0\n",
      "[18:49:46 - matplotlib.font_manager] findfont: score(<Font 'Liberation Mono' (LiberationMono-Regular.ttf) normal normal 400 normal>) = 10.05\n",
      "[18:49:46 - matplotlib.font_manager] findfont: score(<Font 'Cantarell' (Cantarell-Regular.otf) normal normal regular normal>) = 10.05\n",
      "[18:49:46 - matplotlib.font_manager] findfont: score(<Font 'NanumGothic' (NanumGothicBold.ttf) normal normal bold normal>) = 10.335\n",
      "[18:49:46 - matplotlib.font_manager] findfont: score(<Font 'Cantarell' (Cantarell-Oblique.otf) oblique normal 400 normal>) = 11.05\n",
      "[18:49:46 - matplotlib.font_manager] findfont: score(<Font 'Nuosu SIL' (NuosuSIL.ttf) normal normal 400 normal>) = 10.05\n",
      "[18:49:46 - matplotlib.font_manager] findfont: score(<Font 'Source Han Sans TWHK' (SourceHanSansTWHK-Medium.otf) normal normal medium normal>) = 10.145\n",
      "[18:49:46 - matplotlib.font_manager] findfont: score(<Font 'Carlito' (Carlito-Italic.ttf) italic normal 400 normal>) = 11.05\n",
      "[18:49:46 - matplotlib.font_manager] findfont: score(<Font 'FreeSerif' (FreeSerifBoldItalic.ttf) italic normal bold normal>) = 11.335\n"
     ]
    },
    {
     "name": "stderr",
     "output_type": "stream",
     "text": [
      "[18:49:46 - matplotlib.font_manager] findfont: score(<Font 'Source Han Sans CN' (SourceHanSansCN-ExtraLight.otf) normal normal light normal>) = 10.24\n",
      "[18:49:46 - matplotlib.font_manager] findfont: score(<Font 'Meera' (Meera.ttf) normal normal 400 normal>) = 10.05\n",
      "[18:49:46 - matplotlib.font_manager] findfont: score(<Font 'Lohit Gujarati' (Lohit-Gujarati.ttf) normal normal 400 normal>) = 10.05\n",
      "[18:49:46 - matplotlib.font_manager] findfont: score(<Font 'PT Sans' (PTS75F.ttf) normal normal bold normal>) = 10.335\n",
      "[18:49:46 - matplotlib.font_manager] findfont: score(<Font 'PakType Naqsh' (PakType_Naqsh.ttf) normal normal 400 normal>) = 10.05\n",
      "[18:49:46 - matplotlib.font_manager] findfont: score(<Font 'FreeMono' (FreeMonoBold.ttf) normal normal bold normal>) = 10.335\n",
      "[18:49:46 - matplotlib.font_manager] findfont: score(<Font 'Source Han Sans CN' (SourceHanSansCN-Medium.otf) normal normal medium normal>) = 10.145\n",
      "[18:49:46 - matplotlib.font_manager] findfont: score(<Font 'Carlito' (Carlito-BoldItalic.ttf) italic normal bold normal>) = 11.335\n",
      "[18:49:46 - matplotlib.font_manager] findfont: score(<Font 'Caladea' (Caladea-Regular.ttf) normal normal 400 normal>) = 10.05\n",
      "[18:49:46 - matplotlib.font_manager] findfont: score(<Font 'DejaVu Serif' (DejaVuSerifCondensed.ttf) normal normal 400 condensed>) = 10.25\n",
      "[18:49:46 - matplotlib.font_manager] findfont: score(<Font 'STIX' (STIX-Bold.otf) normal normal bold normal>) = 10.335\n",
      "[18:49:46 - matplotlib.font_manager] findfont: score(<Font 'AR PL UMing CN' (uming.ttc) normal normal 400 normal>) = 10.05\n",
      "[18:49:46 - matplotlib.font_manager] findfont: score(<Font 'STIX' (STIX-BoldItalic.otf) italic normal bold normal>) = 11.335\n",
      "[18:49:46 - matplotlib.font_manager] findfont: score(<Font 'DejaVu Serif' (DejaVuSerifCondensed-Bold.ttf) normal normal bold condensed>) = 10.535\n",
      "[18:49:46 - matplotlib.font_manager] findfont: score(<Font 'Liberation Serif' (LiberationSerif-BoldItalic.ttf) italic normal bold normal>) = 11.335\n",
      "[18:49:46 - matplotlib.font_manager] findfont: score(<Font 'FreeSans' (FreeSans.ttf) normal normal 400 normal>) = 10.05\n",
      "[18:49:46 - matplotlib.font_manager] findfont: score(<Font 'Waree' (Waree.ttf) normal normal 400 normal>) = 10.05\n",
      "[18:49:46 - matplotlib.font_manager] findfont: score(<Font 'Waree' (Waree-Bold.ttf) normal normal bold normal>) = 10.335\n",
      "[18:49:46 - matplotlib.font_manager] findfont: score(<Font 'FreeSans' (FreeSansBoldOblique.ttf) oblique normal bold normal>) = 11.335\n",
      "[18:49:46 - matplotlib.font_manager] findfont: score(<Font 'FreeMono' (FreeMono.ttf) normal normal 400 normal>) = 10.05\n",
      "[18:49:46 - matplotlib.font_manager] findfont: score(<Font 'Noto Sans Tagalog' (NotoSansTagalog-Regular.ttf) normal normal 400 normal>) = 10.05\n",
      "[18:49:46 - matplotlib.font_manager] findfont: score(<Font 'Lohit Tamil' (Lohit-Tamil.ttf) normal normal 400 normal>) = 10.05\n",
      "[18:49:46 - matplotlib.font_manager] findfont: score(<Font 'DejaVu Serif' (DejaVuSerifCondensed-Italic.ttf) italic normal 400 condensed>) = 11.25\n",
      "[18:49:46 - matplotlib.font_manager] findfont: score(<Font 'Caladea' (Caladea-BoldItalic.ttf) italic normal bold normal>) = 11.335\n",
      "[18:49:46 - matplotlib.font_manager] findfont: score(<Font 'Source Han Sans CN' (SourceHanSansCN-Normal.otf) normal normal normal normal>) = 10.0\n",
      "[18:49:46 - matplotlib.font_manager] findfont: score(<Font 'FreeMono' (FreeMonoBoldOblique.ttf) oblique normal bold normal>) = 11.335\n",
      "[18:49:46 - matplotlib.font_manager] findfont: score(<Font 'DejaVu Serif' (DejaVuSerifCondensed-BoldItalic.ttf) italic normal bold condensed>) = 11.535\n",
      "[18:49:46 - matplotlib.font_manager] findfont: score(<Font 'Source Han Sans TWHK' (SourceHanSansTWHK-ExtraLight.otf) normal normal light normal>) = 10.24\n",
      "[18:49:46 - matplotlib.font_manager] findfont: score(<Font 'Khmer OS' (KhmerOS.ttf) normal normal 400 normal>) = 10.05\n",
      "[18:49:46 - matplotlib.font_manager] findfont: score(<Font 'Liberation Sans' (LiberationSans-BoldItalic.ttf) italic normal bold normal>) = 5.335\n",
      "[18:49:46 - matplotlib.font_manager] findfont: score(<Font 'Liberation Serif' (LiberationSerif-Italic.ttf) italic normal 400 normal>) = 11.05\n",
      "[18:49:46 - matplotlib.font_manager] findfont: score(<Font 'Padauk' (Padauk.ttf) normal normal 400 normal>) = 10.05\n",
      "[18:49:46 - matplotlib.font_manager] findfont: score(<Font 'DejaVu Sans' (DejaVuSansCondensed-BoldOblique.ttf) oblique normal bold condensed>) = 3.535\n",
      "[18:49:46 - matplotlib.font_manager] findfont: score(<Font 'Noto Sans Mandaic' (NotoSansMandaic-Regular.ttf) normal normal 400 normal>) = 10.05\n",
      "[18:49:46 - matplotlib.font_manager] findfont: score(<Font 'FreeSans' (FreeSansBold.ttf) normal normal bold normal>) = 10.335\n",
      "[18:49:46 - matplotlib.font_manager] findfont: score(<Font 'STIX' (STIX-Italic.otf) italic normal 400 normal>) = 11.05\n",
      "[18:49:46 - matplotlib.font_manager] findfont: score(<Font 'Noto Sans Tai Viet' (NotoSansTaiViet-Regular.ttf) normal normal 400 normal>) = 10.05\n",
      "[18:49:46 - matplotlib.font_manager] findfont: score(<Font 'Source Han Sans TWHK' (SourceHanSansTWHK-Bold.otf) normal normal bold normal>) = 10.335\n",
      "[18:49:46 - matplotlib.font_manager] findfont: score(<Font 'NanumGothic' (NanumGothic.ttf) normal normal 400 normal>) = 10.05\n",
      "[18:49:46 - matplotlib.font_manager] findfont: score(<Font 'Waree' (Waree-Oblique.ttf) oblique normal 400 normal>) = 11.05\n",
      "[18:49:46 - matplotlib.font_manager] findfont: score(<Font 'Liberation Sans' (LiberationSans-Bold.ttf) normal normal bold normal>) = 4.335\n",
      "[18:49:46 - matplotlib.font_manager] findfont: score(<Font 'Source Han Sans TWHK' (SourceHanSansTWHK-Light.otf) normal normal light normal>) = 10.24\n",
      "[18:49:46 - matplotlib.font_manager] findfont: score(<Font 'Liberation Mono' (LiberationMono-BoldItalic.ttf) italic normal bold normal>) = 11.335\n",
      "[18:49:46 - matplotlib.font_manager] findfont: score(<Font 'Cantarell' (Cantarell-Bold.otf) normal normal bold normal>) = 10.335\n",
      "[18:49:46 - matplotlib.font_manager] findfont: score(<Font 'Liberation Sans' (LiberationSans-Regular.ttf) normal normal 400 normal>) = 4.05\n",
      "[18:49:46 - matplotlib.font_manager] findfont: score(<Font 'NanumGothic' (NanumGothicExtraBold.ttf) normal normal bold normal>) = 10.335\n",
      "[18:49:46 - matplotlib.font_manager] findfont: score(<Font 'Source Han Sans TWHK' (SourceHanSansTWHK-Regular.otf) normal normal regular normal>) = 10.05\n",
      "[18:49:46 - matplotlib.font_manager] findfont: score(<Font 'FreeSans' (FreeSansOblique.ttf) oblique normal 400 normal>) = 11.05\n",
      "[18:49:46 - matplotlib.font_manager] findfont: score(<Font 'Lohit Bengali' (Lohit-Bengali.ttf) normal normal 400 normal>) = 10.05\n",
      "[18:49:46 - matplotlib.font_manager] findfont: score(<Font 'Lohit Punjabi' (Lohit-Punjabi.ttf) normal normal 400 normal>) = 10.05\n",
      "[18:49:46 - matplotlib.font_manager] findfont: score(<Font 'FreeMono' (FreeMonoOblique.ttf) oblique normal 400 normal>) = 11.05\n",
      "[18:49:46 - matplotlib.font_manager] findfont: score(<Font 'Caladea' (Caladea-Bold.ttf) normal normal bold normal>) = 10.335\n",
      "[18:49:46 - matplotlib.font_manager] findfont: score(<Font 'Source Han Sans CN' (SourceHanSansCN-Bold.otf) normal normal bold normal>) = 10.335\n",
      "[18:49:46 - matplotlib.font_manager] findfont: score(<Font 'FreeSerif' (FreeSerifItalic.ttf) italic normal 400 normal>) = 11.05\n",
      "[18:49:46 - matplotlib.font_manager] findfont: score(<Font 'Source Han Sans CN' (SourceHanSansCN-Heavy.otf) normal normal bold normal>) = 10.335\n",
      "[18:49:46 - matplotlib.font_manager] findfont: score(<Font 'Liberation Serif' (LiberationSerif-Regular.ttf) normal normal 400 normal>) = 10.05\n",
      "[18:49:46 - matplotlib.font_manager] findfont: score(<Font 'Jomolhari' (Jomolhari-alpha3c-0605331.ttf) normal normal 400 normal>) = 10.05\n",
      "[18:49:46 - matplotlib.font_manager] findfont: score(<Font 'Liberation Mono' (LiberationMono-Italic.ttf) italic normal 400 normal>) = 11.05\n",
      "[18:49:46 - matplotlib.font_manager] findfont: score(<Font 'DejaVu Sans' (DejaVuSansCondensed-Bold.ttf) normal normal bold condensed>) = 2.535\n",
      "[18:49:46 - matplotlib.font_manager] findfont: score(<Font 'Khmer OS System' (KhmerOS_sys.ttf) normal normal 400 normal>) = 10.05\n",
      "[18:49:46 - matplotlib.font_manager] findfont: score(<Font 'Noto Sans Tai Tham' (NotoSansTaiTham-Regular.ttf) normal normal 400 normal>) = 10.05\n"
     ]
    },
    {
     "name": "stderr",
     "output_type": "stream",
     "text": [
      "[18:49:46 - matplotlib.font_manager] findfont: score(<Font 'Lohit Assamese' (Lohit-Assamese.ttf) normal normal 400 normal>) = 10.05\n",
      "[18:49:46 - matplotlib.font_manager] findfont: score(<Font 'VL Gothic' (VL-Gothic-Regular.ttf) normal normal regular normal>) = 10.05\n",
      "[18:49:46 - matplotlib.font_manager] findfont: score(<Font 'Noto Sans Lisu' (NotoSansLisu-Regular.ttf) normal normal 400 normal>) = 10.05\n",
      "[18:49:46 - matplotlib.font_manager] findfont: score(<Font 'Carlito' (Carlito-Regular.ttf) normal normal 400 normal>) = 10.05\n",
      "[18:49:46 - matplotlib.font_manager] findfont: score(<Font 'DejaVu Sans' (DejaVuSans-ExtraLight.ttf) normal normal light normal>) = 2.24\n",
      "[18:49:46 - matplotlib.font_manager] findfont: score(<Font 'Waree' (Waree-BoldOblique.ttf) oblique normal bold normal>) = 11.335\n",
      "[18:49:46 - matplotlib.font_manager] findfont: score(<Font 'STIX' (STIX-Regular.otf) normal normal regular normal>) = 10.05\n",
      "[18:49:46 - matplotlib.font_manager] findfont: score(<Font 'Lohit Oriya' (Lohit-Oriya.ttf) normal normal 400 normal>) = 10.05\n",
      "[18:49:46 - matplotlib.font_manager] findfont: score(<Font 'OpenSymbol' (opens___.ttf) normal normal 400 normal>) = 10.05\n",
      "[18:49:46 - matplotlib.font_manager] findfont: score(<Font 'Liberation Serif' (LiberationSerif-Bold.ttf) normal normal bold normal>) = 10.335\n",
      "[18:49:46 - matplotlib.font_manager] findfont: score(<Font 'WenQuanYi Zen Hei' (wqy-zenhei.ttc) normal normal 400 normal>) = 10.05\n",
      "[18:49:46 - matplotlib.font_manager] findfont: score(<Font 'Lohit Devanagari' (Lohit-Devanagari.ttf) normal normal 400 normal>) = 10.05\n",
      "[18:49:46 - matplotlib.font_manager] findfont: score(<Font 'Lohit Telugu' (Lohit-Telugu.ttf) normal normal 400 normal>) = 10.05\n",
      "[18:49:46 - matplotlib.font_manager] findfont: score(<Font 'Abyssinica SIL' (AbyssinicaSIL-R.ttf) normal normal 400 normal>) = 10.05\n",
      "[18:49:46 - matplotlib.font_manager] findfont: score(<Font 'LKLUG' (lklug.ttf) normal normal 400 normal>) = 10.05\n",
      "[18:49:46 - matplotlib.font_manager] findfont: score(<Font 'Liberation Mono' (LiberationMono-Bold.ttf) normal normal bold normal>) = 10.335\n",
      "[18:49:46 - matplotlib.font_manager] findfont: score(<Font 'FreeSerif' (FreeSerifBold.ttf) normal normal bold normal>) = 10.335\n",
      "[18:49:46 - matplotlib.font_manager] findfont: score(<Font 'PT Sans Narrow' (PTN77F.ttf) normal normal bold condensed>) = 10.535\n",
      "[18:49:46 - matplotlib.font_manager] findfont: score(<Font 'PT Sans' (PTS55F.ttf) normal normal 400 normal>) = 10.05\n",
      "[18:49:46 - matplotlib.font_manager] findfont: score(<Font 'Padauk' (Padauk-bold.ttf) normal normal bold normal>) = 10.335\n",
      "[18:49:46 - matplotlib.font_manager] findfont: score(<Font 'Lohit Kannada' (Lohit-Kannada.ttf) normal normal 400 normal>) = 10.05\n",
      "[18:49:46 - matplotlib.font_manager] findfont: Matching :family=sans-serif:style=normal:variant=normal:weight=normal:stretch=normal:size=19.8 to DejaVu Sans ('/ssd1/home/kdorosch/software/anaconda3/envs/py36/lib/python3.6/site-packages/matplotlib/mpl-data/fonts/ttf/DejaVuSans.ttf') with score of 2.050000.\n",
      "[18:49:46 - matplotlib.font_manager] findfont: Matching :family=sans-serif:style=normal:variant=normal:weight=normal:stretch=normal:size=21.6.\n",
      "[18:49:46 - matplotlib.font_manager] findfont: score(<Font 'STIXSizeThreeSym' (STIXSizThreeSymBol.ttf) normal normal bold normal>) = 10.335\n",
      "[18:49:46 - matplotlib.font_manager] findfont: score(<Font 'STIXSizeFourSym' (STIXSizFourSymBol.ttf) normal normal bold normal>) = 10.335\n",
      "[18:49:46 - matplotlib.font_manager] findfont: score(<Font 'DejaVu Sans Mono' (DejaVuSansMono-Oblique.ttf) oblique normal 400 normal>) = 11.05\n",
      "[18:49:46 - matplotlib.font_manager] findfont: score(<Font 'DejaVu Sans' (DejaVuSans-BoldOblique.ttf) oblique normal bold normal>) = 3.335\n",
      "[18:49:46 - matplotlib.font_manager] findfont: score(<Font 'STIXNonUnicode' (STIXNonUni.ttf) normal normal regular normal>) = 10.05\n",
      "[18:49:46 - matplotlib.font_manager] findfont: score(<Font 'STIXSizeFourSym' (STIXSizFourSymReg.ttf) normal normal regular normal>) = 10.05\n",
      "[18:49:46 - matplotlib.font_manager] findfont: score(<Font 'STIXGeneral' (STIXGeneral.ttf) normal normal regular normal>) = 10.05\n",
      "[18:49:46 - matplotlib.font_manager] findfont: score(<Font 'STIXSizeFiveSym' (STIXSizFiveSymReg.ttf) normal normal regular normal>) = 10.05\n",
      "[18:49:46 - matplotlib.font_manager] findfont: score(<Font 'DejaVu Serif' (DejaVuSerif-BoldItalic.ttf) italic normal bold normal>) = 11.335\n",
      "[18:49:46 - matplotlib.font_manager] findfont: score(<Font 'STIXNonUnicode' (STIXNonUniBol.ttf) normal normal bold normal>) = 10.335\n",
      "[18:49:46 - matplotlib.font_manager] findfont: score(<Font 'DejaVu Serif' (DejaVuSerif-Italic.ttf) italic normal 400 normal>) = 11.05\n",
      "[18:49:46 - matplotlib.font_manager] findfont: score(<Font 'cmss10' (cmss10.ttf) normal normal 400 normal>) = 10.05\n",
      "[18:49:46 - matplotlib.font_manager] findfont: score(<Font 'STIXSizeThreeSym' (STIXSizThreeSymReg.ttf) normal normal regular normal>) = 10.05\n",
      "[18:49:46 - matplotlib.font_manager] findfont: score(<Font 'STIXSizeOneSym' (STIXSizOneSymBol.ttf) normal normal bold normal>) = 10.335\n",
      "[18:49:46 - matplotlib.font_manager] findfont: score(<Font 'cmr10' (cmr10.ttf) normal normal 400 normal>) = 10.05\n",
      "[18:49:46 - matplotlib.font_manager] findfont: score(<Font 'STIXGeneral' (STIXGeneralBol.ttf) normal normal bold normal>) = 10.335\n",
      "[18:49:46 - matplotlib.font_manager] findfont: score(<Font 'cmb10' (cmb10.ttf) normal normal 400 normal>) = 10.05\n",
      "[18:49:46 - matplotlib.font_manager] findfont: score(<Font 'STIXGeneral' (STIXGeneralBolIta.ttf) italic normal bold normal>) = 11.335\n",
      "[18:49:46 - matplotlib.font_manager] findfont: score(<Font 'STIXGeneral' (STIXGeneralItalic.ttf) italic normal 400 normal>) = 11.05\n",
      "[18:49:46 - matplotlib.font_manager] findfont: score(<Font 'cmsy10' (cmsy10.ttf) normal normal 400 normal>) = 10.05\n",
      "[18:49:46 - matplotlib.font_manager] findfont: score(<Font 'STIXNonUnicode' (STIXNonUniBolIta.ttf) italic normal bold normal>) = 11.335\n",
      "[18:49:46 - matplotlib.font_manager] findfont: score(<Font 'DejaVu Sans' (DejaVuSans-Bold.ttf) normal normal bold normal>) = 2.335\n",
      "[18:49:46 - matplotlib.font_manager] findfont: score(<Font 'cmex10' (cmex10.ttf) normal normal 400 normal>) = 10.05\n",
      "[18:49:46 - matplotlib.font_manager] findfont: score(<Font 'DejaVu Sans' (DejaVuSans-Oblique.ttf) oblique normal 400 normal>) = 3.05\n",
      "[18:49:46 - matplotlib.font_manager] findfont: score(<Font 'DejaVu Sans' (DejaVuSans.ttf) normal normal 400 normal>) = 2.05\n",
      "[18:49:46 - matplotlib.font_manager] findfont: score(<Font 'DejaVu Serif' (DejaVuSerif-Bold.ttf) normal normal bold normal>) = 10.335\n",
      "[18:49:46 - matplotlib.font_manager] findfont: score(<Font 'STIXSizeTwoSym' (STIXSizTwoSymBol.ttf) normal normal bold normal>) = 10.335\n",
      "[18:49:46 - matplotlib.font_manager] findfont: score(<Font 'DejaVu Sans Mono' (DejaVuSansMono-BoldOblique.ttf) oblique normal bold normal>) = 11.335\n",
      "[18:49:46 - matplotlib.font_manager] findfont: score(<Font 'cmtt10' (cmtt10.ttf) normal normal 400 normal>) = 10.05\n",
      "[18:49:46 - matplotlib.font_manager] findfont: score(<Font 'DejaVu Serif' (DejaVuSerif.ttf) normal normal 400 normal>) = 10.05\n",
      "[18:49:46 - matplotlib.font_manager] findfont: score(<Font 'cmmi10' (cmmi10.ttf) normal normal 400 normal>) = 10.05\n",
      "[18:49:46 - matplotlib.font_manager] findfont: score(<Font 'DejaVu Sans Display' (DejaVuSansDisplay.ttf) normal normal 400 normal>) = 10.05\n",
      "[18:49:46 - matplotlib.font_manager] findfont: score(<Font 'STIXSizeTwoSym' (STIXSizTwoSymReg.ttf) normal normal regular normal>) = 10.05\n",
      "[18:49:46 - matplotlib.font_manager] findfont: score(<Font 'STIXNonUnicode' (STIXNonUniIta.ttf) italic normal 400 normal>) = 11.05\n",
      "[18:49:46 - matplotlib.font_manager] findfont: score(<Font 'DejaVu Sans Mono' (DejaVuSansMono.ttf) normal normal 400 normal>) = 10.05\n",
      "[18:49:46 - matplotlib.font_manager] findfont: score(<Font 'DejaVu Serif Display' (DejaVuSerifDisplay.ttf) normal normal 400 normal>) = 10.05\n",
      "[18:49:46 - matplotlib.font_manager] findfont: score(<Font 'DejaVu Sans Mono' (DejaVuSansMono-Bold.ttf) normal normal bold normal>) = 10.335\n",
      "[18:49:46 - matplotlib.font_manager] findfont: score(<Font 'STIXSizeOneSym' (STIXSizOneSymReg.ttf) normal normal regular normal>) = 10.05\n"
     ]
    },
    {
     "name": "stderr",
     "output_type": "stream",
     "text": [
      "[18:49:46 - matplotlib.font_manager] findfont: score(<Font 'FreeSerif' (FreeSerif.ttf) normal normal 400 normal>) = 10.05\n",
      "[18:49:46 - matplotlib.font_manager] findfont: score(<Font 'PT Sans Narrow' (PTN57F.ttf) normal normal 400 condensed>) = 10.25\n",
      "[18:49:46 - matplotlib.font_manager] findfont: score(<Font 'Source Han Sans CN' (SourceHanSansCN-Light.otf) normal normal light normal>) = 10.24\n",
      "[18:49:46 - matplotlib.font_manager] findfont: score(<Font 'Khmer OS Content' (KhmerOS_content.ttf) normal normal 400 normal>) = 10.05\n",
      "[18:49:46 - matplotlib.font_manager] findfont: score(<Font 'PT Sans' (PTS76F.ttf) italic normal bold normal>) = 11.335\n",
      "[18:49:46 - matplotlib.font_manager] findfont: score(<Font 'PT Sans' (PTS56F.ttf) italic normal 400 normal>) = 11.05\n",
      "[18:49:46 - matplotlib.font_manager] findfont: score(<Font 'Caladea' (Caladea-Italic.ttf) italic normal 400 normal>) = 11.05\n",
      "[18:49:46 - matplotlib.font_manager] findfont: score(<Font 'Cantarell' (Cantarell-BoldOblique.otf) oblique normal bold normal>) = 11.335\n",
      "[18:49:46 - matplotlib.font_manager] findfont: score(<Font 'Source Han Sans TWHK' (SourceHanSansTWHK-Heavy.otf) normal normal bold normal>) = 10.335\n",
      "[18:49:46 - matplotlib.font_manager] findfont: score(<Font 'DejaVu Sans' (DejaVuSansCondensed.ttf) normal normal 400 condensed>) = 2.25\n",
      "[18:49:46 - matplotlib.font_manager] findfont: score(<Font 'Carlito' (Carlito-Bold.ttf) normal normal bold normal>) = 10.335\n",
      "[18:49:46 - matplotlib.font_manager] findfont: score(<Font 'Liberation Sans' (LiberationSans-Italic.ttf) italic normal 400 normal>) = 5.05\n",
      "[18:49:46 - matplotlib.font_manager] findfont: score(<Font 'Source Han Sans CN' (SourceHanSansCN-Regular.otf) normal normal regular normal>) = 10.05\n",
      "[18:49:46 - matplotlib.font_manager] findfont: score(<Font 'DejaVu Sans' (DejaVuSansCondensed-Oblique.ttf) oblique normal 400 condensed>) = 3.25\n",
      "[18:49:46 - matplotlib.font_manager] findfont: score(<Font 'Source Han Sans TWHK' (SourceHanSansTWHK-Normal.otf) normal normal normal normal>) = 10.0\n",
      "[18:49:46 - matplotlib.font_manager] findfont: score(<Font 'Liberation Mono' (LiberationMono-Regular.ttf) normal normal 400 normal>) = 10.05\n",
      "[18:49:46 - matplotlib.font_manager] findfont: score(<Font 'Cantarell' (Cantarell-Regular.otf) normal normal regular normal>) = 10.05\n",
      "[18:49:46 - matplotlib.font_manager] findfont: score(<Font 'NanumGothic' (NanumGothicBold.ttf) normal normal bold normal>) = 10.335\n",
      "[18:49:46 - matplotlib.font_manager] findfont: score(<Font 'Cantarell' (Cantarell-Oblique.otf) oblique normal 400 normal>) = 11.05\n",
      "[18:49:46 - matplotlib.font_manager] findfont: score(<Font 'Nuosu SIL' (NuosuSIL.ttf) normal normal 400 normal>) = 10.05\n",
      "[18:49:46 - matplotlib.font_manager] findfont: score(<Font 'Source Han Sans TWHK' (SourceHanSansTWHK-Medium.otf) normal normal medium normal>) = 10.145\n",
      "[18:49:46 - matplotlib.font_manager] findfont: score(<Font 'Carlito' (Carlito-Italic.ttf) italic normal 400 normal>) = 11.05\n",
      "[18:49:46 - matplotlib.font_manager] findfont: score(<Font 'FreeSerif' (FreeSerifBoldItalic.ttf) italic normal bold normal>) = 11.335\n",
      "[18:49:46 - matplotlib.font_manager] findfont: score(<Font 'Source Han Sans CN' (SourceHanSansCN-ExtraLight.otf) normal normal light normal>) = 10.24\n",
      "[18:49:46 - matplotlib.font_manager] findfont: score(<Font 'Meera' (Meera.ttf) normal normal 400 normal>) = 10.05\n",
      "[18:49:46 - matplotlib.font_manager] findfont: score(<Font 'Lohit Gujarati' (Lohit-Gujarati.ttf) normal normal 400 normal>) = 10.05\n",
      "[18:49:46 - matplotlib.font_manager] findfont: score(<Font 'PT Sans' (PTS75F.ttf) normal normal bold normal>) = 10.335\n",
      "[18:49:46 - matplotlib.font_manager] findfont: score(<Font 'PakType Naqsh' (PakType_Naqsh.ttf) normal normal 400 normal>) = 10.05\n",
      "[18:49:46 - matplotlib.font_manager] findfont: score(<Font 'FreeMono' (FreeMonoBold.ttf) normal normal bold normal>) = 10.335\n",
      "[18:49:46 - matplotlib.font_manager] findfont: score(<Font 'Source Han Sans CN' (SourceHanSansCN-Medium.otf) normal normal medium normal>) = 10.145\n",
      "[18:49:46 - matplotlib.font_manager] findfont: score(<Font 'Carlito' (Carlito-BoldItalic.ttf) italic normal bold normal>) = 11.335\n",
      "[18:49:46 - matplotlib.font_manager] findfont: score(<Font 'Caladea' (Caladea-Regular.ttf) normal normal 400 normal>) = 10.05\n",
      "[18:49:46 - matplotlib.font_manager] findfont: score(<Font 'DejaVu Serif' (DejaVuSerifCondensed.ttf) normal normal 400 condensed>) = 10.25\n",
      "[18:49:46 - matplotlib.font_manager] findfont: score(<Font 'STIX' (STIX-Bold.otf) normal normal bold normal>) = 10.335\n",
      "[18:49:46 - matplotlib.font_manager] findfont: score(<Font 'AR PL UMing CN' (uming.ttc) normal normal 400 normal>) = 10.05\n",
      "[18:49:46 - matplotlib.font_manager] findfont: score(<Font 'STIX' (STIX-BoldItalic.otf) italic normal bold normal>) = 11.335\n",
      "[18:49:46 - matplotlib.font_manager] findfont: score(<Font 'DejaVu Serif' (DejaVuSerifCondensed-Bold.ttf) normal normal bold condensed>) = 10.535\n",
      "[18:49:46 - matplotlib.font_manager] findfont: score(<Font 'Liberation Serif' (LiberationSerif-BoldItalic.ttf) italic normal bold normal>) = 11.335\n",
      "[18:49:46 - matplotlib.font_manager] findfont: score(<Font 'FreeSans' (FreeSans.ttf) normal normal 400 normal>) = 10.05\n",
      "[18:49:46 - matplotlib.font_manager] findfont: score(<Font 'Waree' (Waree.ttf) normal normal 400 normal>) = 10.05\n",
      "[18:49:46 - matplotlib.font_manager] findfont: score(<Font 'Waree' (Waree-Bold.ttf) normal normal bold normal>) = 10.335\n",
      "[18:49:46 - matplotlib.font_manager] findfont: score(<Font 'FreeSans' (FreeSansBoldOblique.ttf) oblique normal bold normal>) = 11.335\n",
      "[18:49:46 - matplotlib.font_manager] findfont: score(<Font 'FreeMono' (FreeMono.ttf) normal normal 400 normal>) = 10.05\n",
      "[18:49:46 - matplotlib.font_manager] findfont: score(<Font 'Noto Sans Tagalog' (NotoSansTagalog-Regular.ttf) normal normal 400 normal>) = 10.05\n",
      "[18:49:46 - matplotlib.font_manager] findfont: score(<Font 'Lohit Tamil' (Lohit-Tamil.ttf) normal normal 400 normal>) = 10.05\n",
      "[18:49:46 - matplotlib.font_manager] findfont: score(<Font 'DejaVu Serif' (DejaVuSerifCondensed-Italic.ttf) italic normal 400 condensed>) = 11.25\n",
      "[18:49:46 - matplotlib.font_manager] findfont: score(<Font 'Caladea' (Caladea-BoldItalic.ttf) italic normal bold normal>) = 11.335\n",
      "[18:49:46 - matplotlib.font_manager] findfont: score(<Font 'Source Han Sans CN' (SourceHanSansCN-Normal.otf) normal normal normal normal>) = 10.0\n",
      "[18:49:46 - matplotlib.font_manager] findfont: score(<Font 'FreeMono' (FreeMonoBoldOblique.ttf) oblique normal bold normal>) = 11.335\n",
      "[18:49:46 - matplotlib.font_manager] findfont: score(<Font 'DejaVu Serif' (DejaVuSerifCondensed-BoldItalic.ttf) italic normal bold condensed>) = 11.535\n",
      "[18:49:46 - matplotlib.font_manager] findfont: score(<Font 'Source Han Sans TWHK' (SourceHanSansTWHK-ExtraLight.otf) normal normal light normal>) = 10.24\n",
      "[18:49:46 - matplotlib.font_manager] findfont: score(<Font 'Khmer OS' (KhmerOS.ttf) normal normal 400 normal>) = 10.05\n",
      "[18:49:46 - matplotlib.font_manager] findfont: score(<Font 'Liberation Sans' (LiberationSans-BoldItalic.ttf) italic normal bold normal>) = 5.335\n",
      "[18:49:46 - matplotlib.font_manager] findfont: score(<Font 'Liberation Serif' (LiberationSerif-Italic.ttf) italic normal 400 normal>) = 11.05\n",
      "[18:49:46 - matplotlib.font_manager] findfont: score(<Font 'Padauk' (Padauk.ttf) normal normal 400 normal>) = 10.05\n",
      "[18:49:46 - matplotlib.font_manager] findfont: score(<Font 'DejaVu Sans' (DejaVuSansCondensed-BoldOblique.ttf) oblique normal bold condensed>) = 3.535\n",
      "[18:49:46 - matplotlib.font_manager] findfont: score(<Font 'Noto Sans Mandaic' (NotoSansMandaic-Regular.ttf) normal normal 400 normal>) = 10.05\n",
      "[18:49:46 - matplotlib.font_manager] findfont: score(<Font 'FreeSans' (FreeSansBold.ttf) normal normal bold normal>) = 10.335\n",
      "[18:49:46 - matplotlib.font_manager] findfont: score(<Font 'STIX' (STIX-Italic.otf) italic normal 400 normal>) = 11.05\n",
      "[18:49:46 - matplotlib.font_manager] findfont: score(<Font 'Noto Sans Tai Viet' (NotoSansTaiViet-Regular.ttf) normal normal 400 normal>) = 10.05\n",
      "[18:49:46 - matplotlib.font_manager] findfont: score(<Font 'Source Han Sans TWHK' (SourceHanSansTWHK-Bold.otf) normal normal bold normal>) = 10.335\n",
      "[18:49:46 - matplotlib.font_manager] findfont: score(<Font 'NanumGothic' (NanumGothic.ttf) normal normal 400 normal>) = 10.05\n"
     ]
    },
    {
     "name": "stderr",
     "output_type": "stream",
     "text": [
      "[18:49:46 - matplotlib.font_manager] findfont: score(<Font 'Waree' (Waree-Oblique.ttf) oblique normal 400 normal>) = 11.05\n",
      "[18:49:46 - matplotlib.font_manager] findfont: score(<Font 'Liberation Sans' (LiberationSans-Bold.ttf) normal normal bold normal>) = 4.335\n",
      "[18:49:46 - matplotlib.font_manager] findfont: score(<Font 'Source Han Sans TWHK' (SourceHanSansTWHK-Light.otf) normal normal light normal>) = 10.24\n",
      "[18:49:46 - matplotlib.font_manager] findfont: score(<Font 'Liberation Mono' (LiberationMono-BoldItalic.ttf) italic normal bold normal>) = 11.335\n",
      "[18:49:46 - matplotlib.font_manager] findfont: score(<Font 'Cantarell' (Cantarell-Bold.otf) normal normal bold normal>) = 10.335\n",
      "[18:49:46 - matplotlib.font_manager] findfont: score(<Font 'Liberation Sans' (LiberationSans-Regular.ttf) normal normal 400 normal>) = 4.05\n",
      "[18:49:46 - matplotlib.font_manager] findfont: score(<Font 'NanumGothic' (NanumGothicExtraBold.ttf) normal normal bold normal>) = 10.335\n",
      "[18:49:46 - matplotlib.font_manager] findfont: score(<Font 'Source Han Sans TWHK' (SourceHanSansTWHK-Regular.otf) normal normal regular normal>) = 10.05\n",
      "[18:49:46 - matplotlib.font_manager] findfont: score(<Font 'FreeSans' (FreeSansOblique.ttf) oblique normal 400 normal>) = 11.05\n",
      "[18:49:46 - matplotlib.font_manager] findfont: score(<Font 'Lohit Bengali' (Lohit-Bengali.ttf) normal normal 400 normal>) = 10.05\n",
      "[18:49:46 - matplotlib.font_manager] findfont: score(<Font 'Lohit Punjabi' (Lohit-Punjabi.ttf) normal normal 400 normal>) = 10.05\n",
      "[18:49:46 - matplotlib.font_manager] findfont: score(<Font 'FreeMono' (FreeMonoOblique.ttf) oblique normal 400 normal>) = 11.05\n",
      "[18:49:46 - matplotlib.font_manager] findfont: score(<Font 'Caladea' (Caladea-Bold.ttf) normal normal bold normal>) = 10.335\n",
      "[18:49:46 - matplotlib.font_manager] findfont: score(<Font 'Source Han Sans CN' (SourceHanSansCN-Bold.otf) normal normal bold normal>) = 10.335\n",
      "[18:49:46 - matplotlib.font_manager] findfont: score(<Font 'FreeSerif' (FreeSerifItalic.ttf) italic normal 400 normal>) = 11.05\n",
      "[18:49:46 - matplotlib.font_manager] findfont: score(<Font 'Source Han Sans CN' (SourceHanSansCN-Heavy.otf) normal normal bold normal>) = 10.335\n",
      "[18:49:46 - matplotlib.font_manager] findfont: score(<Font 'Liberation Serif' (LiberationSerif-Regular.ttf) normal normal 400 normal>) = 10.05\n",
      "[18:49:46 - matplotlib.font_manager] findfont: score(<Font 'Jomolhari' (Jomolhari-alpha3c-0605331.ttf) normal normal 400 normal>) = 10.05\n",
      "[18:49:46 - matplotlib.font_manager] findfont: score(<Font 'Liberation Mono' (LiberationMono-Italic.ttf) italic normal 400 normal>) = 11.05\n",
      "[18:49:46 - matplotlib.font_manager] findfont: score(<Font 'DejaVu Sans' (DejaVuSansCondensed-Bold.ttf) normal normal bold condensed>) = 2.535\n",
      "[18:49:46 - matplotlib.font_manager] findfont: score(<Font 'Khmer OS System' (KhmerOS_sys.ttf) normal normal 400 normal>) = 10.05\n",
      "[18:49:46 - matplotlib.font_manager] findfont: score(<Font 'Noto Sans Tai Tham' (NotoSansTaiTham-Regular.ttf) normal normal 400 normal>) = 10.05\n",
      "[18:49:46 - matplotlib.font_manager] findfont: score(<Font 'Lohit Assamese' (Lohit-Assamese.ttf) normal normal 400 normal>) = 10.05\n",
      "[18:49:46 - matplotlib.font_manager] findfont: score(<Font 'VL Gothic' (VL-Gothic-Regular.ttf) normal normal regular normal>) = 10.05\n",
      "[18:49:46 - matplotlib.font_manager] findfont: score(<Font 'Noto Sans Lisu' (NotoSansLisu-Regular.ttf) normal normal 400 normal>) = 10.05\n",
      "[18:49:46 - matplotlib.font_manager] findfont: score(<Font 'Carlito' (Carlito-Regular.ttf) normal normal 400 normal>) = 10.05\n",
      "[18:49:46 - matplotlib.font_manager] findfont: score(<Font 'DejaVu Sans' (DejaVuSans-ExtraLight.ttf) normal normal light normal>) = 2.24\n",
      "[18:49:46 - matplotlib.font_manager] findfont: score(<Font 'Waree' (Waree-BoldOblique.ttf) oblique normal bold normal>) = 11.335\n",
      "[18:49:46 - matplotlib.font_manager] findfont: score(<Font 'STIX' (STIX-Regular.otf) normal normal regular normal>) = 10.05\n",
      "[18:49:46 - matplotlib.font_manager] findfont: score(<Font 'Lohit Oriya' (Lohit-Oriya.ttf) normal normal 400 normal>) = 10.05\n",
      "[18:49:46 - matplotlib.font_manager] findfont: score(<Font 'OpenSymbol' (opens___.ttf) normal normal 400 normal>) = 10.05\n",
      "[18:49:46 - matplotlib.font_manager] findfont: score(<Font 'Liberation Serif' (LiberationSerif-Bold.ttf) normal normal bold normal>) = 10.335\n",
      "[18:49:46 - matplotlib.font_manager] findfont: score(<Font 'WenQuanYi Zen Hei' (wqy-zenhei.ttc) normal normal 400 normal>) = 10.05\n",
      "[18:49:46 - matplotlib.font_manager] findfont: score(<Font 'Lohit Devanagari' (Lohit-Devanagari.ttf) normal normal 400 normal>) = 10.05\n",
      "[18:49:46 - matplotlib.font_manager] findfont: score(<Font 'Lohit Telugu' (Lohit-Telugu.ttf) normal normal 400 normal>) = 10.05\n",
      "[18:49:46 - matplotlib.font_manager] findfont: score(<Font 'Abyssinica SIL' (AbyssinicaSIL-R.ttf) normal normal 400 normal>) = 10.05\n",
      "[18:49:46 - matplotlib.font_manager] findfont: score(<Font 'LKLUG' (lklug.ttf) normal normal 400 normal>) = 10.05\n",
      "[18:49:46 - matplotlib.font_manager] findfont: score(<Font 'Liberation Mono' (LiberationMono-Bold.ttf) normal normal bold normal>) = 10.335\n",
      "[18:49:46 - matplotlib.font_manager] findfont: score(<Font 'FreeSerif' (FreeSerifBold.ttf) normal normal bold normal>) = 10.335\n",
      "[18:49:46 - matplotlib.font_manager] findfont: score(<Font 'PT Sans Narrow' (PTN77F.ttf) normal normal bold condensed>) = 10.535\n",
      "[18:49:46 - matplotlib.font_manager] findfont: score(<Font 'PT Sans' (PTS55F.ttf) normal normal 400 normal>) = 10.05\n",
      "[18:49:46 - matplotlib.font_manager] findfont: score(<Font 'Padauk' (Padauk-bold.ttf) normal normal bold normal>) = 10.335\n",
      "[18:49:46 - matplotlib.font_manager] findfont: score(<Font 'Lohit Kannada' (Lohit-Kannada.ttf) normal normal 400 normal>) = 10.05\n",
      "[18:49:46 - matplotlib.font_manager] findfont: Matching :family=sans-serif:style=normal:variant=normal:weight=normal:stretch=normal:size=21.6 to DejaVu Sans ('/ssd1/home/kdorosch/software/anaconda3/envs/py36/lib/python3.6/site-packages/matplotlib/mpl-data/fonts/ttf/DejaVuSans.ttf') with score of 2.050000.\n"
     ]
    },
    {
     "data": {
      "image/png": "[encoded data removed]",
      "text/plain": [
       "<Figure size 432x432 with 1 Axes>"
      ]
     },
     "metadata": {},
     "output_type": "display_data"
    }
   ],
   "source": [
    "fig, ax = plt.subplots(figsize=(6, 6))\n",
    "ax.scatter(max_sw, second_best_sw, alpha=0.01, c=\"k\")\n",
    "ax.set_title(\"\")\n",
    "ax.set_xlabel(\"1st best SW score\")\n",
    "ax.set_ylabel(\"2nd best SW score\")\n",
    "ax.plot([0, 40], [0, 40])\n",
    "ax.axhline(15)\n",
    "ax.axvline(15)"
   ]
  },
  {
   "cell_type": "code",
   "execution_count": 17,
   "metadata": {
    "ExecuteTime": {
     "end_time": "2020-01-22T02:49:51.559998Z",
     "start_time": "2020-01-22T02:49:50.272635Z"
    }
   },
   "outputs": [
    {
     "data": {
      "text/plain": [
       "<matplotlib.axes._subplots.AxesSubplot at 0x7fd730a43b00>"
      ]
     },
     "execution_count": 17,
     "metadata": {},
     "output_type": "execute_result"
    },
    {
     "data": {
      "image/png": "[encoded data removed]",
      "text/plain": [
       "<Figure size 432x288 with 1 Axes>"
      ]
     },
     "metadata": {},
     "output_type": "display_data"
    }
   ],
   "source": [
    "sns.distplot(max_sw)"
   ]
  },
  {
   "cell_type": "markdown",
   "metadata": {
    "ExecuteTime": {
     "end_time": "2019-08-11T00:31:43.917710Z",
     "start_time": "2019-08-11T00:31:43.897293Z"
    }
   },
   "source": [
    "### Merge & save alignment scores for all fq files"
   ]
  },
  {
   "cell_type": "code",
   "execution_count": 18,
   "metadata": {
    "ExecuteTime": {
     "end_time": "2020-01-22T02:49:51.576022Z",
     "start_time": "2020-01-22T02:49:51.561711Z"
    }
   },
   "outputs": [],
   "source": [
    "run_id = re.findall(r\"runid_(.*)_[\\d]+_[\\d]+.tsv\", sw_tsv)[0]"
   ]
  },
  {
   "cell_type": "code",
   "execution_count": 19,
   "metadata": {
    "ExecuteTime": {
     "end_time": "2020-01-22T02:49:51.592368Z",
     "start_time": "2020-01-22T02:49:51.577698Z"
    }
   },
   "outputs": [],
   "source": [
    "merged_sw_file = os.path.join(sw_dir, f\"all_{run_id}.tsv\")"
   ]
  },
  {
   "cell_type": "code",
   "execution_count": 20,
   "metadata": {
    "ExecuteTime": {
     "end_time": "2020-01-22T02:50:11.901718Z",
     "start_time": "2020-01-22T02:49:51.593968Z"
    }
   },
   "outputs": [],
   "source": [
    "sw.to_csv(merged_sw_file, sep=\"\\t\", index=True)"
   ]
  },
  {
   "cell_type": "code",
   "execution_count": 21,
   "metadata": {
    "ExecuteTime": {
     "end_time": "2020-01-22T02:50:11.922465Z",
     "start_time": "2020-01-22T02:50:11.904135Z"
    }
   },
   "outputs": [
    {
     "data": {
      "text/plain": [
       "'/path/to/data/MinION_sequencing_data_20200121/guppy_3.2.2_01_21_20_run_01_exec_20200121/sw/all_7d0acceaaa1cedac5617dbfac6122f3441e9e66c.tsv'"
      ]
     },
     "execution_count": 21,
     "metadata": {},
     "output_type": "execute_result"
    }
   ],
   "source": [
    "merged_sw_file"
   ]
  },
  {
   "cell_type": "markdown",
   "metadata": {},
   "source": [
    "# Evaluate extant molbits vs rest"
   ]
  },
  {
   "cell_type": "markdown",
   "metadata": {},
   "source": [
    "## Specify which molbits were actually present"
   ]
  },
  {
   "cell_type": "code",
   "execution_count": 22,
   "metadata": {
    "ExecuteTime": {
     "end_time": "2020-01-22T02:50:11.941486Z",
     "start_time": "2020-01-22T02:50:11.924078Z"
    }
   },
   "outputs": [],
   "source": [
    "# Create set_N variables based on spreadsheet\n",
    "molbit_sets = {}\n",
    "for ix, row in set_spreadsheet.iterrows():\n",
    "    set_no = re.findall(r\"set ([\\d]+)\", row[\"set\"])[0]\n",
    "    molbits = row[\"molbits_in_set\"]\n",
    "    molbit_sets[set_no] = molbits.replace(\" \", \"\").split(\",\")"
   ]
  },
  {
   "cell_type": "code",
   "execution_count": 23,
   "metadata": {
    "ExecuteTime": {
     "end_time": "2020-01-22T02:50:11.957573Z",
     "start_time": "2020-01-22T02:50:11.943287Z"
    }
   },
   "outputs": [],
   "source": [
    "molbit_set_in_run = str(int(run_data.get(\"molbit_set\")))\n",
    "molbit_sets_on_flowcell = run_data.get(\"prev_on_flowcell\")\n",
    "\n",
    "molbits_in_run = molbit_sets[molbit_set_in_run]\n",
    "molbits_on_flowcell = molbits_in_run[:]\n",
    "if molbit_sets_on_flowcell != \"none\":\n",
    "    molbit_sets_on_flowcell = molbit_sets_on_flowcell.split(\", \")\n",
    "    for m in molbit_sets_on_flowcell:\n",
    "        print(m)\n",
    "        print(molbit_sets[m])\n",
    "        molbits_on_flowcell.extend(molbit_sets[m])\n",
    "    print(molbits_on_flowcell)\n",
    "molbits_on_flowcell = list(np.unique(molbits_on_flowcell))"
   ]
  },
  {
   "cell_type": "markdown",
   "metadata": {},
   "source": [
    "## Extract the best-aligned molbit, across all 96 molbits"
   ]
  },
  {
   "cell_type": "markdown",
   "metadata": {},
   "source": [
    "This cell replaces \"make_sw_call\" in the past. No more \"-1\"s. Just filter by accept_molbit."
   ]
  },
  {
   "cell_type": "code",
   "execution_count": 24,
   "metadata": {
    "ExecuteTime": {
     "end_time": "2020-01-22T02:50:35.947016Z",
     "start_time": "2020-01-22T02:50:11.959524Z"
    }
   },
   "outputs": [
    {
     "name": "stderr",
     "output_type": "stream",
     "text": [
      "/ssd1/home/kdorosch/software/anaconda3/envs/py36/lib/python3.6/site-packages/numpy/core/fromnumeric.py:51: FutureWarning: 'argmax' is deprecated. Use 'idxmax' instead. The behavior of 'argmax' will be corrected to return the positional maximum in the future. Use 'series.values.argmax' to get the position of the maximum now.\n",
      "  return getattr(obj, method)(*args, **kwds)\n",
      "/ssd1/home/kdorosch/.local/lib/python3.6/site-packages/ipykernel_launcher.py:4: FutureWarning: currently extract(expand=None) means expand=False (return Index/Series/DataFrame) but in a future version of pandas this will be changed to expand=True (return DataFrame)\n",
      "  after removing the cwd from sys.path.\n"
     ]
    }
   ],
   "source": [
    "sw_scores = sw.filter(regex=\"score_molbit_.*\")\n",
    "best_molbits = sw_scores.apply(np.argmax, axis=1)\n",
    "accept_molbit = sw.lookup(sw.index, best_molbits) >= 15\n",
    "sw[\"best_molbit\"] = best_molbits.str.extract(r\"score_molbit_([\\d]+)\")\n",
    "sw[\"accept_molbit\"] = accept_molbit"
   ]
  },
  {
   "cell_type": "code",
   "execution_count": 25,
   "metadata": {
    "ExecuteTime": {
     "end_time": "2020-01-22T02:50:35.967338Z",
     "start_time": "2020-01-22T02:50:35.949222Z"
    },
    "scrolled": true
   },
   "outputs": [
    {
     "data": {
      "text/plain": [
       "298473"
      ]
     },
     "execution_count": 25,
     "metadata": {},
     "output_type": "execute_result"
    }
   ],
   "source": [
    "len(accept_molbit)"
   ]
  },
  {
   "cell_type": "code",
   "execution_count": 26,
   "metadata": {
    "ExecuteTime": {
     "end_time": "2020-01-22T02:50:36.691396Z",
     "start_time": "2020-01-22T02:50:35.969374Z"
    }
   },
   "outputs": [
    {
     "data": {
      "text/plain": [
       "210197"
      ]
     },
     "execution_count": 26,
     "metadata": {},
     "output_type": "execute_result"
    }
   ],
   "source": [
    "sum(accept_molbit)"
   ]
  },
  {
   "cell_type": "code",
   "execution_count": 27,
   "metadata": {
    "ExecuteTime": {
     "end_time": "2020-01-22T02:50:37.442072Z",
     "start_time": "2020-01-22T02:50:36.693117Z"
    }
   },
   "outputs": [
    {
     "data": {
      "text/plain": [
       "0.7042412546528497"
      ]
     },
     "execution_count": 27,
     "metadata": {},
     "output_type": "execute_result"
    }
   ],
   "source": [
    "sum(accept_molbit) / len(accept_molbit)\n"
   ]
  },
  {
   "cell_type": "markdown",
   "metadata": {},
   "source": [
    "## Extract the best-aligned molbit, across ONLY the extant molbits"
   ]
  },
  {
   "cell_type": "code",
   "execution_count": 28,
   "metadata": {
    "ExecuteTime": {
     "end_time": "2020-01-22T02:50:37.458283Z",
     "start_time": "2020-01-22T02:50:37.443791Z"
    }
   },
   "outputs": [],
   "source": [
    "extant_sw_cols = [f\"sw_score_molbit_{molbit}\" for molbit in molbits_on_flowcell]"
   ]
  },
  {
   "cell_type": "code",
   "execution_count": 29,
   "metadata": {
    "ExecuteTime": {
     "end_time": "2020-01-22T02:50:37.521215Z",
     "start_time": "2020-01-22T02:50:37.459947Z"
    }
   },
   "outputs": [],
   "source": [
    "extant_sw = sw.loc[:, extant_sw_cols]"
   ]
  },
  {
   "cell_type": "code",
   "execution_count": 30,
   "metadata": {
    "ExecuteTime": {
     "end_time": "2020-01-22T02:51:01.322350Z",
     "start_time": "2020-01-22T02:50:37.523282Z"
    }
   },
   "outputs": [
    {
     "name": "stderr",
     "output_type": "stream",
     "text": [
      "/ssd1/home/kdorosch/.local/lib/python3.6/site-packages/ipykernel_launcher.py:4: FutureWarning: currently extract(expand=None) means expand=False (return Index/Series/DataFrame) but in a future version of pandas this will be changed to expand=True (return DataFrame)\n",
      "  after removing the cwd from sys.path.\n"
     ]
    }
   ],
   "source": [
    "extant_sw_scores = extant_sw.filter(regex=\"score_molbit_.*\")\n",
    "best_molbits = extant_sw_scores.apply(np.argmax, axis=1)\n",
    "accept_molbit = extant_sw.lookup(extant_sw.index, best_molbits) >= 15\n",
    "extant_sw[\"best_molbit\"] = best_molbits.str.extract(r\"score_molbit_([\\d]+)\")\n",
    "extant_sw[\"accept_molbit\"] = accept_molbit"
   ]
  },
  {
   "cell_type": "markdown",
   "metadata": {},
   "source": [
    "## Compare "
   ]
  },
  {
   "cell_type": "code",
   "execution_count": 31,
   "metadata": {
    "ExecuteTime": {
     "end_time": "2020-01-22T02:51:01.474922Z",
     "start_time": "2020-01-22T02:51:01.324725Z"
    }
   },
   "outputs": [],
   "source": [
    "# Only retrieve high-scoring alignments\n",
    "sw_accepted = sw[sw[\"accept_molbit\"]]\n",
    "extant_sw_acc = extant_sw[sw[\"accept_molbit\"]]"
   ]
  },
  {
   "cell_type": "code",
   "execution_count": 32,
   "metadata": {
    "ExecuteTime": {
     "end_time": "2020-01-22T02:51:01.523300Z",
     "start_time": "2020-01-22T02:51:01.476769Z"
    }
   },
   "outputs": [],
   "source": [
    "n_extant_is_best = sum(extant_sw_acc[\"best_molbit\"] == sw_accepted[\"best_molbit\"])"
   ]
  },
  {
   "cell_type": "code",
   "execution_count": 33,
   "metadata": {
    "ExecuteTime": {
     "end_time": "2020-01-22T02:51:01.541470Z",
     "start_time": "2020-01-22T02:51:01.525548Z"
    }
   },
   "outputs": [
    {
     "data": {
      "text/plain": [
       "209676"
      ]
     },
     "execution_count": 33,
     "metadata": {},
     "output_type": "execute_result"
    }
   ],
   "source": [
    "n_extant_is_best"
   ]
  },
  {
   "cell_type": "markdown",
   "metadata": {},
   "source": [
    "Percentage of well-aligned reads that belong to the true set"
   ]
  },
  {
   "cell_type": "code",
   "execution_count": 34,
   "metadata": {
    "ExecuteTime": {
     "end_time": "2020-01-22T02:51:01.558209Z",
     "start_time": "2020-01-22T02:51:01.543184Z"
    }
   },
   "outputs": [
    {
     "data": {
      "text/plain": [
       "0.997521372807414"
      ]
     },
     "execution_count": 34,
     "metadata": {},
     "output_type": "execute_result"
    }
   ],
   "source": [
    "n_extant_is_best/len(sw_accepted)"
   ]
  },
  {
   "cell_type": "markdown",
   "metadata": {},
   "source": [
    "Read counts for each molbit"
   ]
  },
  {
   "cell_type": "code",
   "execution_count": 35,
   "metadata": {
    "ExecuteTime": {
     "end_time": "2020-01-22T02:51:01.746788Z",
     "start_time": "2020-01-22T02:51:01.559871Z"
    }
   },
   "outputs": [
    {
     "data": {
      "text/plain": [
       "[('1', 2068),\n",
       " ('12', 5940),\n",
       " ('15', 6069),\n",
       " ('17', 2399),\n",
       " ('19', 8016),\n",
       " ('22', 1682),\n",
       " ('23', 670),\n",
       " ('25', 2718),\n",
       " ('28', 965),\n",
       " ('29', 3235),\n",
       " ('32', 4383),\n",
       " ('35', 1573),\n",
       " ('37', 3728),\n",
       " ('38', 582),\n",
       " ('39', 3048),\n",
       " ('4', 828),\n",
       " ('40', 5370),\n",
       " ('43', 11566),\n",
       " ('45', 2854),\n",
       " ('46', 1107),\n",
       " ('5', 9183),\n",
       " ('50', 5852),\n",
       " ('51', 5063),\n",
       " ('52', 1206),\n",
       " ('54', 5490),\n",
       " ('57', 2302),\n",
       " ('62', 5068),\n",
       " ('63', 4532),\n",
       " ('65', 2877),\n",
       " ('66', 4531),\n",
       " ('67', 2151),\n",
       " ('68', 6236),\n",
       " ('69', 2358),\n",
       " ('7', 2311),\n",
       " ('70', 1149),\n",
       " ('73', 2971),\n",
       " ('75', 4125),\n",
       " ('76', 248),\n",
       " ('78', 633),\n",
       " ('79', 911),\n",
       " ('80', 3133),\n",
       " ('81', 7023),\n",
       " ('83', 1797),\n",
       " ('85', 7428),\n",
       " ('86', 5922),\n",
       " ('87', 3659),\n",
       " ('88', 5037),\n",
       " ('89', 6906),\n",
       " ('9', 19228),\n",
       " ('90', 4763),\n",
       " ('92', 4129),\n",
       " ('93', 3174)]"
      ]
     },
     "execution_count": 35,
     "metadata": {},
     "output_type": "execute_result"
    }
   ],
   "source": [
    "m, c = np.unique(extant_sw_acc[\"best_molbit\"], return_counts=True)\n",
    "list(zip(m, c))"
   ]
  },
  {
   "cell_type": "code",
   "execution_count": 36,
   "metadata": {
    "ExecuteTime": {
     "end_time": "2020-01-22T02:51:01.762367Z",
     "start_time": "2020-01-22T02:51:01.748627Z"
    }
   },
   "outputs": [
    {
     "name": "stdout",
     "output_type": "stream",
     "text": [
      "2068\n",
      "5940\n",
      "6069\n",
      "2399\n",
      "8016\n",
      "1682\n",
      "670\n",
      "2718\n",
      "965\n",
      "3235\n",
      "4383\n",
      "1573\n",
      "3728\n",
      "582\n",
      "3048\n",
      "828\n",
      "5370\n",
      "11566\n",
      "2854\n",
      "1107\n",
      "9183\n",
      "5852\n",
      "5063\n",
      "1206\n",
      "5490\n",
      "2302\n",
      "5068\n",
      "4532\n",
      "2877\n",
      "4531\n",
      "2151\n",
      "6236\n",
      "2358\n",
      "2311\n",
      "1149\n",
      "2971\n",
      "4125\n",
      "248\n",
      "633\n",
      "911\n",
      "3133\n",
      "7023\n",
      "1797\n",
      "7428\n",
      "5922\n",
      "3659\n",
      "5037\n",
      "6906\n",
      "19228\n",
      "4763\n",
      "4129\n",
      "3174\n"
     ]
    }
   ],
   "source": [
    "print(\"\\n\".join([str(x) for x in c]))"
   ]
  },
  {
   "cell_type": "markdown",
   "metadata": {},
   "source": [
    "## Extract the best-aligned molbit, across ONLY the current run's molbits"
   ]
  },
  {
   "cell_type": "code",
   "execution_count": 37,
   "metadata": {
    "ExecuteTime": {
     "end_time": "2020-01-22T02:51:01.778697Z",
     "start_time": "2020-01-22T02:51:01.764220Z"
    }
   },
   "outputs": [],
   "source": [
    "extant_sw_cols = [f\"sw_score_molbit_{molbit}\" for molbit in molbits_in_run]"
   ]
  },
  {
   "cell_type": "code",
   "execution_count": 38,
   "metadata": {
    "ExecuteTime": {
     "end_time": "2020-01-22T02:51:01.841491Z",
     "start_time": "2020-01-22T02:51:01.780418Z"
    }
   },
   "outputs": [],
   "source": [
    "extant_sw = sw.loc[:, extant_sw_cols]"
   ]
  },
  {
   "cell_type": "code",
   "execution_count": 39,
   "metadata": {
    "ExecuteTime": {
     "end_time": "2020-01-22T02:51:25.403232Z",
     "start_time": "2020-01-22T02:51:01.843605Z"
    }
   },
   "outputs": [
    {
     "name": "stderr",
     "output_type": "stream",
     "text": [
      "/ssd1/home/kdorosch/.local/lib/python3.6/site-packages/ipykernel_launcher.py:4: FutureWarning: currently extract(expand=None) means expand=False (return Index/Series/DataFrame) but in a future version of pandas this will be changed to expand=True (return DataFrame)\n",
      "  after removing the cwd from sys.path.\n"
     ]
    }
   ],
   "source": [
    "extant_sw_scores = extant_sw.filter(regex=\"score_molbit_.*\")\n",
    "best_molbits = extant_sw_scores.apply(np.argmax, axis=1)\n",
    "accept_molbit = extant_sw.lookup(extant_sw.index, best_molbits) >= 15\n",
    "extant_sw[\"best_molbit\"] = best_molbits.str.extract(r\"score_molbit_([\\d]+)\")\n",
    "extant_sw[\"accept_molbit\"] = accept_molbit"
   ]
  },
  {
   "cell_type": "markdown",
   "metadata": {},
   "source": [
    "## Compare "
   ]
  },
  {
   "cell_type": "code",
   "execution_count": 40,
   "metadata": {
    "ExecuteTime": {
     "end_time": "2020-01-22T02:51:25.557588Z",
     "start_time": "2020-01-22T02:51:25.405220Z"
    }
   },
   "outputs": [],
   "source": [
    "# Only retrieve high-scoring alignments\n",
    "sw_accepted = sw[sw[\"accept_molbit\"]]\n",
    "extant_sw_acc = extant_sw[sw[\"accept_molbit\"]]"
   ]
  },
  {
   "cell_type": "code",
   "execution_count": 41,
   "metadata": {
    "ExecuteTime": {
     "end_time": "2020-01-22T02:51:25.605114Z",
     "start_time": "2020-01-22T02:51:25.559357Z"
    }
   },
   "outputs": [],
   "source": [
    "n_extant_is_best = sum(extant_sw_acc[\"best_molbit\"] == sw_accepted[\"best_molbit\"])"
   ]
  },
  {
   "cell_type": "code",
   "execution_count": 42,
   "metadata": {
    "ExecuteTime": {
     "end_time": "2020-01-22T02:51:25.623223Z",
     "start_time": "2020-01-22T02:51:25.607213Z"
    }
   },
   "outputs": [
    {
     "data": {
      "text/plain": [
       "209710"
      ]
     },
     "execution_count": 42,
     "metadata": {},
     "output_type": "execute_result"
    }
   ],
   "source": [
    "n_extant_is_best"
   ]
  },
  {
   "cell_type": "markdown",
   "metadata": {},
   "source": [
    "Percentage of well-aligned reads that belong to the true set"
   ]
  },
  {
   "cell_type": "code",
   "execution_count": 43,
   "metadata": {
    "ExecuteTime": {
     "end_time": "2020-01-22T02:51:25.640719Z",
     "start_time": "2020-01-22T02:51:25.625068Z"
    }
   },
   "outputs": [
    {
     "data": {
      "text/plain": [
       "0.997683125829579"
      ]
     },
     "execution_count": 43,
     "metadata": {},
     "output_type": "execute_result"
    }
   ],
   "source": [
    "n_extant_is_best/len(sw_accepted)"
   ]
  },
  {
   "cell_type": "markdown",
   "metadata": {},
   "source": [
    "Read counts for each molbit"
   ]
  },
  {
   "cell_type": "code",
   "execution_count": 44,
   "metadata": {
    "ExecuteTime": {
     "end_time": "2020-01-22T02:51:25.835173Z",
     "start_time": "2020-01-22T02:51:25.642310Z"
    }
   },
   "outputs": [
    {
     "data": {
      "text/plain": [
       "[('1', 2068),\n",
       " ('12', 5938),\n",
       " ('15', 6067),\n",
       " ('17', 2399),\n",
       " ('19', 8011),\n",
       " ('22', 1682),\n",
       " ('23', 669),\n",
       " ('25', 2718),\n",
       " ('28', 964),\n",
       " ('29', 3234),\n",
       " ('32', 4382),\n",
       " ('35', 1570),\n",
       " ('37', 3728),\n",
       " ('38', 582),\n",
       " ('39', 3045),\n",
       " ('4', 830),\n",
       " ('40', 5370),\n",
       " ('43', 11564),\n",
       " ('45', 2854),\n",
       " ('46', 1106),\n",
       " ('5', 9185),\n",
       " ('50', 5851),\n",
       " ('51', 5062),\n",
       " ('52', 1206),\n",
       " ('54', 5487),\n",
       " ('57', 2302),\n",
       " ('62', 5067),\n",
       " ('63', 4532),\n",
       " ('65', 2877),\n",
       " ('66', 4531),\n",
       " ('67', 2151),\n",
       " ('68', 6233),\n",
       " ('69', 2358),\n",
       " ('7', 2315),\n",
       " ('70', 1148),\n",
       " ('73', 2971),\n",
       " ('75', 4125),\n",
       " ('76', 248),\n",
       " ('78', 633),\n",
       " ('79', 911),\n",
       " ('80', 3131),\n",
       " ('81', 7023),\n",
       " ('83', 1797),\n",
       " ('85', 7427),\n",
       " ('86', 5922),\n",
       " ('87', 3659),\n",
       " ('88', 5035),\n",
       " ('89', 6905),\n",
       " ('9', 19258),\n",
       " ('90', 4763),\n",
       " ('92', 4129),\n",
       " ('93', 3174)]"
      ]
     },
     "execution_count": 44,
     "metadata": {},
     "output_type": "execute_result"
    }
   ],
   "source": [
    "m, c = np.unique(extant_sw_acc[\"best_molbit\"], return_counts=True)\n",
    "list(zip(m, c))"
   ]
  },
  {
   "cell_type": "code",
   "execution_count": 45,
   "metadata": {
    "ExecuteTime": {
     "end_time": "2020-01-22T02:51:25.849491Z",
     "start_time": "2020-01-22T02:51:25.836686Z"
    }
   },
   "outputs": [],
   "source": [
    "l = []\n",
    "for i in range(0, 96, 16):\n",
    "    l.extend(range(i, i+8))"
   ]
  },
  {
   "cell_type": "code",
   "execution_count": 46,
   "metadata": {
    "ExecuteTime": {
     "end_time": "2020-01-22T02:51:25.866551Z",
     "start_time": "2020-01-22T02:51:25.851332Z"
    }
   },
   "outputs": [
    {
     "data": {
      "text/plain": [
       "'0, 1, 2, 3, 4, 5, 6, 7, 16, 17, 18, 19, 20, 21, 22, 23, 32, 33, 34, 35, 36, 37, 38, 39, 48, 49, 50, 51, 52, 53, 54, 55, 64, 65, 66, 67, 68, 69, 70, 71, 80, 81, 82, 83, 84, 85, 86, 87'"
      ]
     },
     "execution_count": 46,
     "metadata": {},
     "output_type": "execute_result"
    }
   ],
   "source": [
    "\", \".join([str(x) for x in l])"
   ]
  },
  {
   "cell_type": "markdown",
   "metadata": {},
   "source": [
    "## Get counts for all molbits"
   ]
  },
  {
   "cell_type": "code",
   "execution_count": 47,
   "metadata": {
    "ExecuteTime": {
     "end_time": "2020-01-22T02:51:26.166541Z",
     "start_time": "2020-01-22T02:51:25.869186Z"
    },
    "scrolled": true
   },
   "outputs": [
    {
     "name": "stdout",
     "output_type": "stream",
     "text": [
      "0\n",
      "2067\n",
      "1\n",
      "0\n",
      "830\n",
      "9183\n",
      "1\n",
      "2311\n",
      "6\n",
      "19206\n",
      "0\n",
      "2\n",
      "5936\n",
      "29\n",
      "3\n",
      "6055\n",
      "0\n",
      "2370\n",
      "0\n",
      "8010\n",
      "3\n",
      "0\n",
      "1680\n",
      "667\n",
      "0\n",
      "2715\n",
      "1\n",
      "4\n",
      "963\n",
      "3234\n",
      "2\n",
      "0\n",
      "4382\n",
      "2\n",
      "1\n",
      "1568\n",
      "54\n",
      "3686\n",
      "582\n",
      "3045\n",
      "5367\n",
      "2\n",
      "1\n",
      "11563\n",
      "0\n",
      "2854\n",
      "1084\n",
      "11\n",
      "2\n",
      "149\n",
      "5849\n",
      "5061\n",
      "1206\n",
      "52\n",
      "5485\n",
      "26\n",
      "0\n",
      "2301\n",
      "56\n",
      "0\n",
      "0\n",
      "8\n",
      "5038\n",
      "4531\n",
      "1\n",
      "2877\n",
      "4525\n",
      "2146\n",
      "6223\n",
      "2348\n",
      "1146\n",
      "0\n",
      "3\n",
      "2971\n",
      "4\n",
      "4011\n",
      "239\n",
      "0\n",
      "633\n",
      "875\n",
      "3131\n",
      "7022\n",
      "45\n",
      "1796\n",
      "0\n",
      "7425\n",
      "5922\n",
      "3626\n",
      "5035\n",
      "6905\n",
      "4762\n",
      "16\n",
      "4089\n",
      "3174\n",
      "2\n",
      "0\n"
     ]
    }
   ],
   "source": [
    "m, c = np.unique(sw[sw[\"accept_molbit\"]][\"best_molbit\"], return_counts=True)\n",
    "molbit_counts = dict(zip(m, c))\n",
    "for i in range(96):\n",
    "    i = str(i)\n",
    "    if i in molbit_counts:\n",
    "        print(f\"{molbit_counts[i]}\")\n",
    "    else:\n",
    "        print(f\"0\")"
   ]
  },
  {
   "cell_type": "markdown",
   "metadata": {},
   "source": [
    "# Plot read counts"
   ]
  },
  {
   "cell_type": "code",
   "execution_count": 57,
   "metadata": {
    "ExecuteTime": {
     "end_time": "2020-01-22T15:58:49.555498Z",
     "start_time": "2020-01-22T15:58:49.520613Z"
    },
    "code_folding": []
   },
   "outputs": [],
   "source": [
    "def plot_read_counts(labels, counts, labels_on_flowcell, labels_in_run,\n",
    "                     possible_labels=None, ax=None, vmax=None, title_note=None):\n",
    "    from matplotlib.patches import Patch\n",
    "    if vmax is None:\n",
    "        vmax = max(counts) + max(counts)\n",
    "    if ax == None:\n",
    "        fig, ax = plt.subplots(figsize=(30, 8))\n",
    "    if possible_labels is None:\n",
    "        possible_labels = labels[:]\n",
    "    g = sns.barplot(x=labels, y=counts, order=possible_labels, ax=ax)\n",
    "    title = \"#/reads identified per barcode\"\n",
    "    if title_note is not None:\n",
    "        title += \"\\n(%s)\" % title_note\n",
    "    ax.set_title(title)\n",
    "    ax.set_xlabel(\"Barcode ID\")\n",
    "    ax.set_ylabel(\"Read counts\")\n",
    "    ax.set_ylim([0, vmax])\n",
    "    \n",
    "    prev_text_height = 0\n",
    "    for j, label in enumerate(possible_labels):\n",
    "        if label in labels:\n",
    "            count = counts[labels.index(label)]\n",
    "        else:\n",
    "            count = 0\n",
    "        if label == \"-1\":\n",
    "            continue\n",
    "\n",
    "#         try:\n",
    "#             label = int(label)\n",
    "#         except:\n",
    "#             pass\n",
    "        \n",
    "        if label in labels_in_run:\n",
    "            g.containers[0].get_children()[j].set_facecolor(\"tab:red\")\n",
    "            font_kwargs = {\"color\": \"tab:red\", \"weight\": \"bold\"} \n",
    "        elif label in labels_on_flowcell:\n",
    "            g.containers[0].get_children()[j].set_facecolor(\"tab:blue\")\n",
    "            font_kwargs = {\"color\": \"k\", \"weight\": \"bold\"}\n",
    "        else:\n",
    "            g.containers[0].get_children()[j].set_facecolor(\"k\")\n",
    "            font_kwargs = {\"color\": \"k\", \"weight\": \"normal\"}\n",
    "            \n",
    "        diff = prev_text_height - (count + 0.01 * vmax)\n",
    "        if count < 100:\n",
    "            text_height = count + .01 * vmax\n",
    "            ax.text(j, text_height, count, ha=\"center\", **font_kwargs)\n",
    "        elif diff < 0 and np.abs(diff) < vmax * .06:\n",
    "            text_height = np.max([prev_text_height + .035 * vmax, count + .01 * vmax])\n",
    "            ax.text(j, text_height, count, ha=\"center\", **font_kwargs)\n",
    "        elif np.abs(diff) < vmax * .05:\n",
    "            text_height = np.min([prev_text_height - .01 * vmax, count + .01 * vmax])\n",
    "            ax.text(j, text_height, count, ha=\"center\", **font_kwargs)\n",
    "        else:\n",
    "            text_height = count + .01 * vmax\n",
    "            ax.text(j, text_height, count, ha=\"center\", **font_kwargs)\n",
    "        prev_text_height = text_height\n",
    "        \n",
    "    legend_elements = [Patch(facecolor='k', edgecolor='k',\n",
    "                         label='never been run on this flowcell'),\n",
    "                       Patch(facecolor='tab:blue', edgecolor='tab:blue',\n",
    "                         label='prev run on flowcell'),\n",
    "                       Patch(facecolor='tab:red', edgecolor='tab:red',\n",
    "                         label='current run on flowcell')]\n",
    "    leg = ax.legend(handles=legend_elements)\n",
    "    t1, t2, t3 = leg.get_texts()\n",
    "    t2._fontproperties = t1._fontproperties.copy()\n",
    "    t3._fontproperties = t1._fontproperties.copy()\n",
    "    t2.set_weight('bold')\n",
    "    t3.set_weight('bold')\n",
    "    t3.set_color(\"tab:red\")\n",
    "    return ax"
   ]
  },
  {
   "cell_type": "code",
   "execution_count": 58,
   "metadata": {
    "ExecuteTime": {
     "end_time": "2020-01-22T15:58:54.229236Z",
     "start_time": "2020-01-22T15:58:50.142620Z"
    },
    "scrolled": false
   },
   "outputs": [
    {
     "data": {
      "text/plain": [
       "<matplotlib.axes._subplots.AxesSubplot at 0x7fd69fef3b00>"
      ]
     },
     "execution_count": 58,
     "metadata": {},
     "output_type": "execute_result"
    },
    {
     "data": {
      "image/png": "[encoded data removed]",
      "text/plain": [
       "<Figure size 2160x576 with 1 Axes>"
      ]
     },
     "metadata": {},
     "output_type": "display_data"
    }
   ],
   "source": [
    "molbits = [str(x) for x in m]\n",
    "counts = list(c)\n",
    "on_flowcell = [str(x) for x in molbits_on_flowcell]\n",
    "in_run = [str(x) for x in molbits_in_run]\n",
    "poss_molbits = [str(x) for x in range(96)]\n",
    "plot_read_counts(molbits, counts, on_flowcell, in_run, possible_labels=poss_molbits, vmax=35600)"
   ]
  },
  {
   "cell_type": "markdown",
   "metadata": {},
   "source": [
    "# Save labels"
   ]
  },
  {
   "cell_type": "code",
   "execution_count": 49,
   "metadata": {
    "ExecuteTime": {
     "end_time": "2020-01-22T02:51:26.225771Z",
     "start_time": "2020-01-22T02:51:26.210931Z"
    }
   },
   "outputs": [
    {
     "data": {
      "text/plain": [
       "'/path/to/data/MinION_sequencing_data_20200121/guppy_3.2.2_01_21_20_run_01_exec_20200121/sw/all_7d0acceaaa1cedac5617dbfac6122f3441e9e66c.tsv'"
      ]
     },
     "execution_count": 49,
     "metadata": {},
     "output_type": "execute_result"
    }
   ],
   "source": [
    "merged_sw_file\n"
   ]
  },
  {
   "cell_type": "code",
   "execution_count": 50,
   "metadata": {
    "ExecuteTime": {
     "end_time": "2020-01-22T02:51:53.981736Z",
     "start_time": "2020-01-22T02:51:26.227549Z"
    }
   },
   "outputs": [
    {
     "name": "stderr",
     "output_type": "stream",
     "text": [
      "/ssd1/home/kdorosch/.local/lib/python3.6/site-packages/ipykernel_launcher.py:5: FutureWarning: currently extract(expand=None) means expand=False (return Index/Series/DataFrame) but in a future version of pandas this will be changed to expand=True (return DataFrame)\n",
      "  \"\"\"\n"
     ]
    }
   ],
   "source": [
    "sw = pd.read_csv(merged_sw_file, sep=\"\\t\", index_col=0)\n",
    "sw_scores = sw.filter(regex=\"score_molbit_.*\")\n",
    "best_molbits = sw_scores.apply(np.argmax, axis=1)\n",
    "accept_molbit = sw.lookup(sw.index, best_molbits) >= 15\n",
    "sw[\"best_molbit\"] = best_molbits.str.extract(r\"score_molbit_([\\d]+)\")\n",
    "sw[\"accept_molbit\"] = accept_molbit\n",
    "sw[\"best_molbit_is_in_run\"] = sw[\"best_molbit\"].apply(lambda x: x in molbits_in_run)\n",
    "\n",
    "labels_in_set = sw[np.logical_and(sw[\"accept_molbit\"], sw[\"best_molbit_is_in_run\"])]"
   ]
  },
  {
   "cell_type": "code",
   "execution_count": 51,
   "metadata": {
    "ExecuteTime": {
     "end_time": "2020-01-22T02:51:53.998869Z",
     "start_time": "2020-01-22T02:51:53.983886Z"
    }
   },
   "outputs": [
    {
     "name": "stdout",
     "output_type": "stream",
     "text": [
      "/path/to/data/MinION_sequencing_data_20200121/guppy_3.2.2_01_21_20_run_01_exec_20200121/sw/labels_for_molbits_in_set_7d0acceaaa1cedac5617dbfac6122f3441e9e66c.tsv\n"
     ]
    }
   ],
   "source": [
    "sw_label_file = merged_sw_file.replace(\"all\", \"labels_for_molbits_in_set\")\n",
    "print(sw_label_file)"
   ]
  },
  {
   "cell_type": "code",
   "execution_count": 52,
   "metadata": {
    "ExecuteTime": {
     "end_time": "2020-01-22T02:51:54.730572Z",
     "start_time": "2020-01-22T02:51:54.000983Z"
    }
   },
   "outputs": [
    {
     "name": "stderr",
     "output_type": "stream",
     "text": [
      "/ssd1/home/kdorosch/.local/lib/python3.6/site-packages/ipykernel_launcher.py:2: SettingWithCopyWarning: \n",
      "A value is trying to be set on a copy of a slice from a DataFrame.\n",
      "Try using .loc[row_indexer,col_indexer] = value instead\n",
      "\n",
      "See the caveats in the documentation: http://pandas.pydata.org/pandas-docs/stable/indexing.html#indexing-view-versus-copy\n",
      "  \n"
     ]
    }
   ],
   "source": [
    "best_score = np.max(labels_in_set[[f\"sw_score_molbit_{molbit}\" for molbit in molbits_in_run]], axis=1)\n",
    "labels_in_set[\"best_score\"] = best_score\n",
    "labels_in_set = labels_in_set.loc[:, [\"best_molbit\", \"best_score\"]]\n",
    "labels_in_set.columns = [\"molbit\", \"sw_score\"]\n",
    "\n",
    "labels_in_set.to_csv(sw_label_file, sep=\"\\t\", index=True)"
   ]
  },
  {
   "cell_type": "markdown",
   "metadata": {},
   "source": [
    "# Attempt to scale the counts"
   ]
  },
  {
   "cell_type": "code",
   "execution_count": 53,
   "metadata": {
    "ExecuteTime": {
     "end_time": "2020-01-22T02:51:54.750243Z",
     "start_time": "2020-01-22T02:51:54.732677Z"
    }
   },
   "outputs": [],
   "source": [
    "scaling_factor = [ 117.44079692,  296.08219178,   79.3902663 ,   63.8680128 ,\n",
    "        301.24041812,  106.23305345,   50.35782934,   94.36710933,\n",
    "        261.39458779,   23.42805573,  236.19903327,  215.71332122,\n",
    "         72.68457433, 1674.82258065,  359.61558442,   92.43485034,\n",
    "         55.15762106,  147.49710313,  161.68942521,   41.8235584 ,\n",
    "         72.38555587,  124.39775226,  207.99019608,  599.71731449,\n",
    "        410.15625   ,  146.23955432,   81.21546961,  151.60891089,\n",
    "        265.91895803,   93.01442673,   59.58171206,   41.92334018,\n",
    "         75.73638033,  100.18461538,  178.88385542,  176.9227836 ,\n",
    "         35.15      ,   99.06164932,  435.15123095,  124.01737387,\n",
    "        100.70515917,  113.01108647,  127.24327323,   34.53376496,\n",
    "        113.68327138,   86.11075652,  317.00898411,  239.53629243,\n",
    "         83.78780013,  276.0384821 ,   89.75808133,   32.18069662,\n",
    "        250.71262136,  310.93798916,   76.84392204,  187.19391084,\n",
    "        211.31315136,  165.0372093 ,   71.34651475,  403.21590909,\n",
    "         35.59571978,  201.41721854,  126.01242971,   66.43719769,\n",
    "       1425.49333333,  102.0477251 ,   39.45092251,   84.89571202,\n",
    "         68.85702018,  148.00922935,  204.68155712,  104.81568627,\n",
    "         66.45394046,  150.09968354,   32.68883529,   74.21318208,\n",
    "        797.16806723,   93.0257416 ,  348.76102941,  372.37684004,\n",
    "         95.12844828,   56.96902426,  143.82404692,  231.58237146,\n",
    "        171.5491644 ,   65.69370442,   68.64634526,  119.36073553,\n",
    "        128.91764706,   32.27093687,  114.79353994,  433.62242374,\n",
    "         92.13242249,  293.19063545,  129.10751105,   86.49629995]"
   ]
  },
  {
   "cell_type": "code",
   "execution_count": 54,
   "metadata": {
    "ExecuteTime": {
     "end_time": "2020-01-22T02:51:54.771882Z",
     "start_time": "2020-01-22T02:51:54.753298Z"
    }
   },
   "outputs": [
    {
     "data": {
      "text/plain": [
       "array(['1', '11', '12', '13', '14', '15', '17', '19', '2', '20', '22',\n",
       "       '23', '25', '26', '27', '28', '29', '30', '32', '33', '34', '35',\n",
       "       '36', '37', '38', '39', '4', '40', '41', '42', '43', '45', '46',\n",
       "       '47', '48', '49', '5', '50', '51', '52', '53', '54', '55', '57',\n",
       "       '58', '6', '61', '62', '63', '64', '65', '66', '67', '68', '69',\n",
       "       '7', '70', '72', '73', '74', '75', '76', '78', '79', '8', '80',\n",
       "       '81', '82', '83', '85', '86', '87', '88', '89', '9', '90', '91',\n",
       "       '92', '93', '94'], dtype=object)"
      ]
     },
     "execution_count": 54,
     "metadata": {},
     "output_type": "execute_result"
    }
   ],
   "source": [
    "m"
   ]
  },
  {
   "cell_type": "code",
   "execution_count": 55,
   "metadata": {
    "ExecuteTime": {
     "end_time": "2020-01-22T02:51:54.922231Z",
     "start_time": "2020-01-22T02:51:54.773927Z"
    }
   },
   "outputs": [
    {
     "ename": "ValueError",
     "evalue": "operands could not be broadcast together with shapes (80,) (96,) ",
     "output_type": "error",
     "traceback": [
      "\u001b[0;31m---------------------------------------------------------------------------\u001b[0m",
      "\u001b[0;31mValueError\u001b[0m                                Traceback (most recent call last)",
      "\u001b[0;32m<ipython-input-55-802efa672fd3>\u001b[0m in \u001b[0;36m<module>\u001b[0;34m\u001b[0m\n\u001b[1;32m      1\u001b[0m \u001b[0mmolbits\u001b[0m \u001b[0;34m=\u001b[0m \u001b[0;34m[\u001b[0m\u001b[0mstr\u001b[0m\u001b[0;34m(\u001b[0m\u001b[0mx\u001b[0m\u001b[0;34m)\u001b[0m \u001b[0;32mfor\u001b[0m \u001b[0mx\u001b[0m \u001b[0;32min\u001b[0m \u001b[0mm\u001b[0m\u001b[0;34m]\u001b[0m\u001b[0;34m\u001b[0m\u001b[0;34m\u001b[0m\u001b[0m\n\u001b[0;32m----> 2\u001b[0;31m \u001b[0mcounts\u001b[0m \u001b[0;34m=\u001b[0m \u001b[0mlist\u001b[0m\u001b[0;34m(\u001b[0m\u001b[0mc\u001b[0m \u001b[0;34m/\u001b[0m \u001b[0mnp\u001b[0m\u001b[0;34m.\u001b[0m\u001b[0marray\u001b[0m\u001b[0;34m(\u001b[0m\u001b[0mscaling_factor\u001b[0m\u001b[0;34m)\u001b[0m\u001b[0;34m)\u001b[0m\u001b[0;34m\u001b[0m\u001b[0;34m\u001b[0m\u001b[0m\n\u001b[0m\u001b[1;32m      3\u001b[0m \u001b[0mon_flowcell\u001b[0m \u001b[0;34m=\u001b[0m \u001b[0;34m[\u001b[0m\u001b[0mstr\u001b[0m\u001b[0;34m(\u001b[0m\u001b[0mx\u001b[0m\u001b[0;34m)\u001b[0m \u001b[0;32mfor\u001b[0m \u001b[0mx\u001b[0m \u001b[0;32min\u001b[0m \u001b[0mmolbits_on_flowcell\u001b[0m\u001b[0;34m]\u001b[0m\u001b[0;34m\u001b[0m\u001b[0;34m\u001b[0m\u001b[0m\n\u001b[1;32m      4\u001b[0m \u001b[0min_run\u001b[0m \u001b[0;34m=\u001b[0m \u001b[0;34m[\u001b[0m\u001b[0mstr\u001b[0m\u001b[0;34m(\u001b[0m\u001b[0mx\u001b[0m\u001b[0;34m)\u001b[0m \u001b[0;32mfor\u001b[0m \u001b[0mx\u001b[0m \u001b[0;32min\u001b[0m \u001b[0mmolbits_in_run\u001b[0m \u001b[0;32mif\u001b[0m \u001b[0mstr\u001b[0m\u001b[0;34m(\u001b[0m\u001b[0mx\u001b[0m\u001b[0;34m)\u001b[0m \u001b[0;32mnot\u001b[0m \u001b[0;32min\u001b[0m \u001b[0mmedium\u001b[0m\u001b[0;34m]\u001b[0m\u001b[0;34m\u001b[0m\u001b[0;34m\u001b[0m\u001b[0m\n\u001b[1;32m      5\u001b[0m \u001b[0mposs_molbits\u001b[0m \u001b[0;34m=\u001b[0m \u001b[0;34m[\u001b[0m\u001b[0mstr\u001b[0m\u001b[0;34m(\u001b[0m\u001b[0mx\u001b[0m\u001b[0;34m)\u001b[0m \u001b[0;32mfor\u001b[0m \u001b[0mx\u001b[0m \u001b[0;32min\u001b[0m \u001b[0mrange\u001b[0m\u001b[0;34m(\u001b[0m\u001b[0;36m96\u001b[0m\u001b[0;34m)\u001b[0m\u001b[0;34m]\u001b[0m\u001b[0;34m\u001b[0m\u001b[0;34m\u001b[0m\u001b[0m\n",
      "\u001b[0;31mValueError\u001b[0m: operands could not be broadcast together with shapes (80,) (96,) "
     ]
    }
   ],
   "source": [
    "molbits = [str(x) for x in m]\n",
    "counts = list(c / np.array(scaling_factor))\n",
    "on_flowcell = [str(x) for x in molbits_on_flowcell]\n",
    "in_run = [str(x) for x in molbits_in_run if str(x) not in medium]\n",
    "poss_molbits = [str(x) for x in range(96)]\n",
    "plot_read_counts(molbits, counts, on_flowcell, in_run, possible_labels=[str(x) for x in range(96)], vmax=1500)"
   ]
  },
  {
   "cell_type": "code",
   "execution_count": null,
   "metadata": {},
   "outputs": [],
   "source": []
  },
  {
   "cell_type": "code",
   "execution_count": null,
   "metadata": {},
   "outputs": [],
   "source": []
  }
 ],
 "metadata": {
  "kernelspec": {
   "display_name": "Python 3.6",
   "language": "python",
   "name": "py36"
  },
  "language_info": {
   "codemirror_mode": {
    "name": "ipython",
    "version": 3
   },
   "file_extension": ".py",
   "mimetype": "text/x-python",
   "name": "python",
   "nbconvert_exporter": "python",
   "pygments_lexer": "ipython3",
   "version": "3.6.8"
  },
  "notify_time": "30",
  "toc": {
   "base_numbering": 1,
   "nav_menu": {},
   "number_sections": true,
   "sideBar": true,
   "skip_h1_title": false,
   "title_cell": "Table of Contents",
   "title_sidebar": "Contents",
   "toc_cell": false,
   "toc_position": {},
   "toc_section_display": true,
   "toc_window_display": false
  }
 },
 "nbformat": 4,
 "nbformat_minor": 2
}