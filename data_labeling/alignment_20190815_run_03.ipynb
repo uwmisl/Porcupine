{
 "cells": [
  {
   "cell_type": "code",
   "execution_count": 1,
   "metadata": {
    "ExecuteTime": {
     "end_time": "2019-08-16T19:25:52.516065Z",
     "start_time": "2019-08-16T19:25:50.959104Z"
    }
   },
   "outputs": [],
   "source": [
    "%load_ext autoreload\n",
    "%autoreload 2\n",
    "%matplotlib inline\n",
    "import os\n",
    "import h5py\n",
    "import numpy as np\n",
    "import pandas as pd\n",
    "import logging\n",
    "import re\n",
    "\n",
    "from matplotlib import pyplot as plt\n",
    "import seaborn as sns\n",
    "sns.set(font_scale=1.8, style=\"whitegrid\")"
   ]
  },
  {
   "cell_type": "code",
   "execution_count": 2,
   "metadata": {
    "ExecuteTime": {
     "end_time": "2019-08-16T19:25:52.542326Z",
     "start_time": "2019-08-16T19:25:52.518793Z"
    }
   },
   "outputs": [],
   "source": [
    "logger = logging.getLogger(__name__)\n",
    "logging.basicConfig(format='[%(asctime)s - %(name)s] %(message)s',\n",
    "                        datefmt='%H:%M:%S',\n",
    "                        level=logging.DEBUG,\n",
    "                        handlers=[logging.StreamHandler()])"
   ]
  },
  {
   "cell_type": "markdown",
   "metadata": {},
   "source": [
    "# Import run settings"
   ]
  },
  {
   "cell_type": "code",
   "execution_count": 4,
   "metadata": {
    "ExecuteTime": {
     "end_time": "2019-08-16T19:26:15.016566Z",
     "start_time": "2019-08-16T19:26:13.532258Z"
    }
   },
   "outputs": [],
   "source": [
    "def import_gdrive_sheet(gdrive_key, sheet_id):\n",
    "    run_spreadsheet = pd.read_csv(\"https://docs.google.com/spreadsheet/ccc?key=\" + \\\n",
    "                                  gdrive_key + \"&output=csv&gid=\" + sheet_id)\n",
    "    if \"date\" in run_spreadsheet.columns:\n",
    "        run_spreadsheet[\"date\"] = run_spreadsheet[\"date\"].astype(str)\n",
    "    return run_spreadsheet\n",
    "\n",
    "gdrive_key = \"gsheet_id_here\"\n",
    "sheet_id = \"0\"\n",
    "set_sheet_id = \"512509543\"\n",
    "\n",
    "run_spreadsheet = import_gdrive_sheet(gdrive_key, sheet_id)\n",
    "set_spreadsheet = import_gdrive_sheet(gdrive_key, set_sheet_id)"
   ]
  },
  {
   "cell_type": "code",
   "execution_count": 5,
   "metadata": {
    "ExecuteTime": {
     "end_time": "2019-08-16T19:26:15.043545Z",
     "start_time": "2019-08-16T19:26:15.019242Z"
    }
   },
   "outputs": [],
   "source": [
    "date = \"20190815\"\n",
    "run_name = \"08_15_2019_run_03\"\n",
    "molbit_file = \"../porcupine_sequences.fa\"\n",
    "run_data = dict(run_spreadsheet[run_spreadsheet[\"run_name\"] == run_name].iloc[0, :])"
   ]
  },
  {
   "cell_type": "code",
   "execution_count": 6,
   "metadata": {
    "ExecuteTime": {
     "end_time": "2019-08-16T19:26:15.061977Z",
     "start_time": "2019-08-16T19:26:15.045708Z"
    }
   },
   "outputs": [],
   "source": [
    "fastq_dir = os.path.join(run_data[\"basecall_dir\"], \"pass\")"
   ]
  },
  {
   "cell_type": "markdown",
   "metadata": {},
   "source": [
    "# Run sequence alignment"
   ]
  },
  {
   "cell_type": "code",
   "execution_count": 8,
   "metadata": {
    "ExecuteTime": {
     "end_time": "2019-08-16T19:31:31.384461Z",
     "start_time": "2019-08-16T19:31:31.349143Z"
    }
   },
   "outputs": [],
   "source": [
    "def read_fasta(fasta_fname):\n",
    "    '''Assumes 1 line per sequence.'''\n",
    "    seqs = []\n",
    "    names = []\n",
    "    with open(fasta_fname) as fa:\n",
    "        for line in fa:\n",
    "            line = line.strip()\n",
    "            if line.startswith(\">\"):\n",
    "                names.append(line.replace(\">\", \"\").split()[0])\n",
    "            else:\n",
    "                seqs.append(line)\n",
    "    return seqs, names"
   ]
  },
  {
   "cell_type": "code",
   "execution_count": 9,
   "metadata": {
    "ExecuteTime": {
     "end_time": "2019-08-16T19:31:31.412287Z",
     "start_time": "2019-08-16T19:31:31.387231Z"
    }
   },
   "outputs": [],
   "source": [
    "def read_fastq(fastq_fname):\n",
    "    seqs = []\n",
    "    with open(fastq_fname) as fq:\n",
    "        fq = fq.readlines()\n",
    "        for line_i in range(0, len(fq), 4):\n",
    "            line = fq[line_i].strip().split(\" \")\n",
    "            read_id = str(line[0])[1:]\n",
    "            seq = fq[line_i + 1].strip()\n",
    "            seqs.append((read_id, seq))\n",
    "    return seqs"
   ]
  },
  {
   "cell_type": "code",
   "execution_count": 10,
   "metadata": {
    "ExecuteTime": {
     "end_time": "2019-08-16T19:31:31.484628Z",
     "start_time": "2019-08-16T19:31:31.415132Z"
    }
   },
   "outputs": [],
   "source": [
    "from pore_utils import raw_signal_utils\n",
    "from pore_utils import smith_waterman as s_w"
   ]
  },
  {
   "cell_type": "code",
   "execution_count": 11,
   "metadata": {
    "ExecuteTime": {
     "end_time": "2019-08-16T19:31:31.524255Z",
     "start_time": "2019-08-16T19:31:31.487464Z"
    }
   },
   "outputs": [],
   "source": [
    "def helper_run_sw(read, molbit_seqs=None, search_len=100,\n",
    "                  cost_fn={\"match\": 2, \"mismatch\": -2, \"gap\": -1}):\n",
    "    read_id, seq = read\n",
    "\n",
    "    sw_search_end = min(len(seq), search_len)\n",
    "    search_seq = seq[:sw_search_end]\n",
    "\n",
    "    results = [read_id]\n",
    "    for header_i, header_seq in enumerate(molbit_seqs):\n",
    "        _, sw_score, _, sw_loc, _ = s_w.s_w(search_seq, header_seq,\n",
    "                                        cost_fn=cost_fn)\n",
    "        results.append(sw_score)\n",
    "    return results\n",
    "\n",
    "\n",
    "def run_sw(fastq_dir, out_dir, search_len=80, molbit_fa=None, n_workers=20,\n",
    "           cost_fn={\"match\": 2, \"mismatch\": -2, \"gap\": -1}):\n",
    "    os.makedirs(out_dir)\n",
    "    import dask.bag as db\n",
    "    from dask.diagnostics import ProgressBar\n",
    "    ProgressBar().register()\n",
    "    \n",
    "    logger.info(\"Getting molbit sequences.\")\n",
    "    assert molbit_fa is not None\n",
    "    assert os.path.exists(molbit_fa)\n",
    "    molbit_seqs, molbit_names = read_fasta(molbit_fa)\n",
    "    \n",
    "    logger.info(\"Locating fastq files.\")\n",
    "    fastq_files = []\n",
    "    for fname in os.listdir(fastq_dir):\n",
    "        if fname.endswith(\".fastq\"):\n",
    "            fastq_files.append(os.path.join(fastq_dir, fname))\n",
    "    assert len(fastq_files) > 0\n",
    "    \n",
    "    logger.info(\"Running SW, one fastq at a time.\")\n",
    "    for fq_i, fq_fname in enumerate(fastq_files):\n",
    "        logger.info(f\"Starting fastq ({fq_i} of {len(fastq_files)})\\n\\t{fq_fname}\")\n",
    "        fq_seqs = read_fastq(fq_fname)\n",
    "        \n",
    "        bag = db.from_sequence(fq_seqs)\n",
    "        dask_map = bag.map(helper_run_sw, molbit_seqs=molbit_seqs,\n",
    "                           search_len=search_len, cost_fn=cost_fn)\n",
    "        sw_scores = dask_map.compute(num_workers=n_workers)\n",
    "        \n",
    "        cols = [\"read_id\"] + [f\"sw_score_molbit_{molbit}\" for molbit in molbit_names]\n",
    "        sw_df = pd.DataFrame(sw_scores, columns=cols)\n",
    "        sw_df.index = sw_df[\"read_id\"]\n",
    "        del sw_df[\"read_id\"]\n",
    "        out_fname = fq_fname.split(\"/\")[-1].replace(\".fastq\", \"\") + \".tsv\"\n",
    "        out_fname = os.path.join(out_dir, out_fname)\n",
    "        logger.info(f\"Saving to file: {out_fname}\")\n",
    "        sw_df.to_csv(out_fname, sep=\"\\t\", index=True)"
   ]
  },
  {
   "cell_type": "code",
   "execution_count": 12,
   "metadata": {
    "ExecuteTime": {
     "end_time": "2019-08-16T19:31:31.550448Z",
     "start_time": "2019-08-16T19:31:31.528205Z"
    }
   },
   "outputs": [],
   "source": [
    "sw_dir = os.path.join(run_data[\"basecall_dir\"], \"sw\")\n",
    "cost_fn = {\"match\": 1, \"mismatch\": -1, \"gap\": -8}"
   ]
  },
  {
   "cell_type": "raw",
   "metadata": {
    "ExecuteTime": {
     "end_time": "2019-08-11T02:58:25.962380Z",
     "start_time": "2019-08-11T02:58:25.723668Z"
    }
   },
   "source": [
    "! rm -rf /path/to/data/MinION_sequencing_data_20190809/guppy_3.2.2_exec_20190809/sw"
   ]
  },
  {
   "cell_type": "code",
   "execution_count": null,
   "metadata": {
    "ExecuteTime": {
     "start_time": "2019-08-16T19:26:17.274Z"
    }
   },
   "outputs": [
    {
     "name": "stderr",
     "output_type": "stream",
     "text": [
      "[12:31:31 - __main__] Getting molbit sequences.\n",
      "[12:31:31 - __main__] Locating fastq files.\n",
      "[12:31:31 - __main__] Running SW, one fastq at a time.\n",
      "[12:31:31 - __main__] Starting fastq (0 of 315)\n",
      "\t/path/to/data/MinION_sequencing_data_20190815/guppy_3.2.2_08_15_2019_run_03_exec_20190816/pass/fastq_runid_3af76ac4a3c3302724a333ac8c108c258c9ceb0d_0_0.fastq\n"
     ]
    },
    {
     "name": "stdout",
     "output_type": "stream",
     "text": [
      "[########################################] | 100% Completed |  1min 49.4s\n"
     ]
    },
    {
     "name": "stderr",
     "output_type": "stream",
     "text": [
      "[12:33:21 - __main__] Saving to file: /path/to/data/MinION_sequencing_data_20190815/guppy_3.2.2_08_15_2019_run_03_exec_20190816/sw/fastq_runid_3af76ac4a3c3302724a333ac8c108c258c9ceb0d_0_0.tsv\n",
      "[12:33:21 - __main__] Starting fastq (1 of 315)\n",
      "\t/path/to/data/MinION_sequencing_data_20190815/guppy_3.2.2_08_15_2019_run_03_exec_20190816/pass/fastq_runid_3af76ac4a3c3302724a333ac8c108c258c9ceb0d_0_1.fastq\n"
     ]
    },
    {
     "name": "stdout",
     "output_type": "stream",
     "text": [
      "[########################################] | 100% Completed | 56.8s\n"
     ]
    },
    {
     "name": "stderr",
     "output_type": "stream",
     "text": [
      "[12:34:18 - __main__] Saving to file: /path/to/data/MinION_sequencing_data_20190815/guppy_3.2.2_08_15_2019_run_03_exec_20190816/sw/fastq_runid_3af76ac4a3c3302724a333ac8c108c258c9ceb0d_0_1.tsv\n",
      "[12:34:19 - __main__] Starting fastq (2 of 315)\n",
      "\t/path/to/data/MinION_sequencing_data_20190815/guppy_3.2.2_08_15_2019_run_03_exec_20190816/pass/fastq_runid_3af76ac4a3c3302724a333ac8c108c258c9ceb0d_0_2.fastq\n"
     ]
    },
    {
     "name": "stdout",
     "output_type": "stream",
     "text": [
      "[########################################] | 100% Completed |  1min 13.1s\n"
     ]
    },
    {
     "name": "stderr",
     "output_type": "stream",
     "text": [
      "[12:35:32 - __main__] Saving to file: /path/to/data/MinION_sequencing_data_20190815/guppy_3.2.2_08_15_2019_run_03_exec_20190816/sw/fastq_runid_3af76ac4a3c3302724a333ac8c108c258c9ceb0d_0_2.tsv\n",
      "[12:35:32 - __main__] Starting fastq (3 of 315)\n",
      "\t/path/to/data/MinION_sequencing_data_20190815/guppy_3.2.2_08_15_2019_run_03_exec_20190816/pass/fastq_runid_3af76ac4a3c3302724a333ac8c108c258c9ceb0d_0_3.fastq\n"
     ]
    },
    {
     "name": "stdout",
     "output_type": "stream",
     "text": [
      "[########################################] | 100% Completed | 46.8s\n"
     ]
    },
    {
     "name": "stderr",
     "output_type": "stream",
     "text": [
      "[12:36:19 - __main__] Saving to file: /path/to/data/MinION_sequencing_data_20190815/guppy_3.2.2_08_15_2019_run_03_exec_20190816/sw/fastq_runid_3af76ac4a3c3302724a333ac8c108c258c9ceb0d_0_3.tsv\n",
      "[12:36:19 - __main__] Starting fastq (4 of 315)\n",
      "\t/path/to/data/MinION_sequencing_data_20190815/guppy_3.2.2_08_15_2019_run_03_exec_20190816/pass/fastq_runid_3af76ac4a3c3302724a333ac8c108c258c9ceb0d_1_0.fastq\n"
     ]
    },
    {
     "name": "stdout",
     "output_type": "stream",
     "text": [
      "[########################################] | 100% Completed |  1min 34.3s\n"
     ]
    },
    {
     "name": "stderr",
     "output_type": "stream",
     "text": [
      "[12:37:54 - __main__] Saving to file: /path/to/data/MinION_sequencing_data_20190815/guppy_3.2.2_08_15_2019_run_03_exec_20190816/sw/fastq_runid_3af76ac4a3c3302724a333ac8c108c258c9ceb0d_1_0.tsv\n",
      "[12:37:54 - __main__] Starting fastq (5 of 315)\n",
      "\t/path/to/data/MinION_sequencing_data_20190815/guppy_3.2.2_08_15_2019_run_03_exec_20190816/pass/fastq_runid_3af76ac4a3c3302724a333ac8c108c258c9ceb0d_1_1.fastq\n"
     ]
    },
    {
     "name": "stdout",
     "output_type": "stream",
     "text": [
      "[########################################] | 100% Completed | 47.2s\n"
     ]
    },
    {
     "name": "stderr",
     "output_type": "stream",
     "text": [
      "[12:38:42 - __main__] Saving to file: /path/to/data/MinION_sequencing_data_20190815/guppy_3.2.2_08_15_2019_run_03_exec_20190816/sw/fastq_runid_3af76ac4a3c3302724a333ac8c108c258c9ceb0d_1_1.tsv\n",
      "[12:38:42 - __main__] Starting fastq (6 of 315)\n",
      "\t/path/to/data/MinION_sequencing_data_20190815/guppy_3.2.2_08_15_2019_run_03_exec_20190816/pass/fastq_runid_3af76ac4a3c3302724a333ac8c108c258c9ceb0d_1_2.fastq\n"
     ]
    },
    {
     "name": "stdout",
     "output_type": "stream",
     "text": [
      "[########################################] | 100% Completed |  1min 33.3s\n"
     ]
    },
    {
     "name": "stderr",
     "output_type": "stream",
     "text": [
      "[12:40:16 - __main__] Saving to file: /path/to/data/MinION_sequencing_data_20190815/guppy_3.2.2_08_15_2019_run_03_exec_20190816/sw/fastq_runid_3af76ac4a3c3302724a333ac8c108c258c9ceb0d_1_2.tsv\n",
      "[12:40:16 - __main__] Starting fastq (7 of 315)\n",
      "\t/path/to/data/MinION_sequencing_data_20190815/guppy_3.2.2_08_15_2019_run_03_exec_20190816/pass/fastq_runid_3af76ac4a3c3302724a333ac8c108c258c9ceb0d_1_3.fastq\n"
     ]
    },
    {
     "name": "stdout",
     "output_type": "stream",
     "text": [
      "[########################################] | 100% Completed | 36.1s\n"
     ]
    },
    {
     "name": "stderr",
     "output_type": "stream",
     "text": [
      "[12:40:52 - __main__] Saving to file: /path/to/data/MinION_sequencing_data_20190815/guppy_3.2.2_08_15_2019_run_03_exec_20190816/sw/fastq_runid_3af76ac4a3c3302724a333ac8c108c258c9ceb0d_1_3.tsv\n",
      "[12:40:52 - __main__] Starting fastq (8 of 315)\n",
      "\t/path/to/data/MinION_sequencing_data_20190815/guppy_3.2.2_08_15_2019_run_03_exec_20190816/pass/fastq_runid_3af76ac4a3c3302724a333ac8c108c258c9ceb0d_2_0.fastq\n"
     ]
    },
    {
     "name": "stdout",
     "output_type": "stream",
     "text": [
      "[########################################] | 100% Completed |  1min  4.8s\n"
     ]
    },
    {
     "name": "stderr",
     "output_type": "stream",
     "text": [
      "[12:41:58 - __main__] Saving to file: /path/to/data/MinION_sequencing_data_20190815/guppy_3.2.2_08_15_2019_run_03_exec_20190816/sw/fastq_runid_3af76ac4a3c3302724a333ac8c108c258c9ceb0d_2_0.tsv\n",
      "[12:41:58 - __main__] Starting fastq (9 of 315)\n",
      "\t/path/to/data/MinION_sequencing_data_20190815/guppy_3.2.2_08_15_2019_run_03_exec_20190816/pass/fastq_runid_3af76ac4a3c3302724a333ac8c108c258c9ceb0d_2_1.fastq\n"
     ]
    },
    {
     "name": "stdout",
     "output_type": "stream",
     "text": [
      "[########################################] | 100% Completed |  1min 59.9s\n"
     ]
    },
    {
     "name": "stderr",
     "output_type": "stream",
     "text": [
      "[12:43:58 - __main__] Saving to file: /path/to/data/MinION_sequencing_data_20190815/guppy_3.2.2_08_15_2019_run_03_exec_20190816/sw/fastq_runid_3af76ac4a3c3302724a333ac8c108c258c9ceb0d_2_1.tsv\n",
      "[12:43:58 - __main__] Starting fastq (10 of 315)\n",
      "\t/path/to/data/MinION_sequencing_data_20190815/guppy_3.2.2_08_15_2019_run_03_exec_20190816/pass/fastq_runid_3af76ac4a3c3302724a333ac8c108c258c9ceb0d_2_2.fastq\n"
     ]
    },
    {
     "name": "stdout",
     "output_type": "stream",
     "text": [
      "[########################################] | 100% Completed | 38.0s\n"
     ]
    },
    {
     "name": "stderr",
     "output_type": "stream",
     "text": [
      "[12:44:37 - __main__] Saving to file: /path/to/data/MinION_sequencing_data_20190815/guppy_3.2.2_08_15_2019_run_03_exec_20190816/sw/fastq_runid_3af76ac4a3c3302724a333ac8c108c258c9ceb0d_2_2.tsv\n",
      "[12:44:37 - __main__] Starting fastq (11 of 315)\n",
      "\t/path/to/data/MinION_sequencing_data_20190815/guppy_3.2.2_08_15_2019_run_03_exec_20190816/pass/fastq_runid_3af76ac4a3c3302724a333ac8c108c258c9ceb0d_2_3.fastq\n"
     ]
    },
    {
     "name": "stdout",
     "output_type": "stream",
     "text": [
      "[########################################] | 100% Completed | 58.6s\n"
     ]
    },
    {
     "name": "stderr",
     "output_type": "stream",
     "text": [
      "[12:45:36 - __main__] Saving to file: /path/to/data/MinION_sequencing_data_20190815/guppy_3.2.2_08_15_2019_run_03_exec_20190816/sw/fastq_runid_3af76ac4a3c3302724a333ac8c108c258c9ceb0d_2_3.tsv\n",
      "[12:45:36 - __main__] Starting fastq (12 of 315)\n",
      "\t/path/to/data/MinION_sequencing_data_20190815/guppy_3.2.2_08_15_2019_run_03_exec_20190816/pass/fastq_runid_3af76ac4a3c3302724a333ac8c108c258c9ceb0d_3_0.fastq\n"
     ]
    },
    {
     "name": "stdout",
     "output_type": "stream",
     "text": [
      "[########################################] | 100% Completed |  1min 28.7s\n"
     ]
    },
    {
     "name": "stderr",
     "output_type": "stream",
     "text": [
      "[12:47:05 - __main__] Saving to file: /path/to/data/MinION_sequencing_data_20190815/guppy_3.2.2_08_15_2019_run_03_exec_20190816/sw/fastq_runid_3af76ac4a3c3302724a333ac8c108c258c9ceb0d_3_0.tsv\n",
      "[12:47:05 - __main__] Starting fastq (13 of 315)\n",
      "\t/path/to/data/MinION_sequencing_data_20190815/guppy_3.2.2_08_15_2019_run_03_exec_20190816/pass/fastq_runid_3af76ac4a3c3302724a333ac8c108c258c9ceb0d_3_1.fastq\n"
     ]
    },
    {
     "name": "stdout",
     "output_type": "stream",
     "text": [
      "[########################################] | 100% Completed |  1min 51.3s\n"
     ]
    },
    {
     "name": "stderr",
     "output_type": "stream",
     "text": [
      "[12:48:57 - __main__] Saving to file: /path/to/data/MinION_sequencing_data_20190815/guppy_3.2.2_08_15_2019_run_03_exec_20190816/sw/fastq_runid_3af76ac4a3c3302724a333ac8c108c258c9ceb0d_3_1.tsv\n",
      "[12:48:57 - __main__] Starting fastq (14 of 315)\n",
      "\t/path/to/data/MinION_sequencing_data_20190815/guppy_3.2.2_08_15_2019_run_03_exec_20190816/pass/fastq_runid_3af76ac4a3c3302724a333ac8c108c258c9ceb0d_3_2.fastq\n"
     ]
    },
    {
     "name": "stdout",
     "output_type": "stream",
     "text": [
      "[########################################] | 100% Completed |  1min 21.3s\n"
     ]
    },
    {
     "name": "stderr",
     "output_type": "stream",
     "text": [
      "[12:50:19 - __main__] Saving to file: /path/to/data/MinION_sequencing_data_20190815/guppy_3.2.2_08_15_2019_run_03_exec_20190816/sw/fastq_runid_3af76ac4a3c3302724a333ac8c108c258c9ceb0d_3_2.tsv\n",
      "[12:50:19 - __main__] Starting fastq (15 of 315)\n",
      "\t/path/to/data/MinION_sequencing_data_20190815/guppy_3.2.2_08_15_2019_run_03_exec_20190816/pass/fastq_runid_3af76ac4a3c3302724a333ac8c108c258c9ceb0d_3_3.fastq\n"
     ]
    },
    {
     "name": "stdout",
     "output_type": "stream",
     "text": [
      "[########################################] | 100% Completed |  1.8s\n"
     ]
    },
    {
     "name": "stderr",
     "output_type": "stream",
     "text": [
      "[12:50:21 - __main__] Saving to file: /path/to/data/MinION_sequencing_data_20190815/guppy_3.2.2_08_15_2019_run_03_exec_20190816/sw/fastq_runid_3af76ac4a3c3302724a333ac8c108c258c9ceb0d_3_3.tsv\n",
      "[12:50:21 - __main__] Starting fastq (16 of 315)\n",
      "\t/path/to/data/MinION_sequencing_data_20190815/guppy_3.2.2_08_15_2019_run_03_exec_20190816/pass/fastq_runid_3af76ac4a3c3302724a333ac8c108c258c9ceb0d_4_0.fastq\n"
     ]
    },
    {
     "name": "stdout",
     "output_type": "stream",
     "text": [
      "[########################################] | 100% Completed |  2min 13.2s\n"
     ]
    },
    {
     "name": "stderr",
     "output_type": "stream",
     "text": [
      "[12:52:35 - __main__] Saving to file: /path/to/data/MinION_sequencing_data_20190815/guppy_3.2.2_08_15_2019_run_03_exec_20190816/sw/fastq_runid_3af76ac4a3c3302724a333ac8c108c258c9ceb0d_4_0.tsv\n",
      "[12:52:35 - __main__] Starting fastq (17 of 315)\n",
      "\t/path/to/data/MinION_sequencing_data_20190815/guppy_3.2.2_08_15_2019_run_03_exec_20190816/pass/fastq_runid_3af76ac4a3c3302724a333ac8c108c258c9ceb0d_4_1.fastq\n"
     ]
    },
    {
     "name": "stdout",
     "output_type": "stream",
     "text": [
      "[########################################] | 100% Completed | 59.7s\n"
     ]
    },
    {
     "name": "stderr",
     "output_type": "stream",
     "text": [
      "[12:53:36 - __main__] Saving to file: /path/to/data/MinION_sequencing_data_20190815/guppy_3.2.2_08_15_2019_run_03_exec_20190816/sw/fastq_runid_3af76ac4a3c3302724a333ac8c108c258c9ceb0d_4_1.tsv\n",
      "[12:53:36 - __main__] Starting fastq (18 of 315)\n",
      "\t/path/to/data/MinION_sequencing_data_20190815/guppy_3.2.2_08_15_2019_run_03_exec_20190816/pass/fastq_runid_3af76ac4a3c3302724a333ac8c108c258c9ceb0d_4_2.fastq\n"
     ]
    },
    {
     "name": "stdout",
     "output_type": "stream",
     "text": [
      "[########################################] | 100% Completed | 39.6s\n"
     ]
    },
    {
     "name": "stderr",
     "output_type": "stream",
     "text": [
      "[12:54:16 - __main__] Saving to file: /path/to/data/MinION_sequencing_data_20190815/guppy_3.2.2_08_15_2019_run_03_exec_20190816/sw/fastq_runid_3af76ac4a3c3302724a333ac8c108c258c9ceb0d_4_2.tsv\n",
      "[12:54:16 - __main__] Starting fastq (19 of 315)\n",
      "\t/path/to/data/MinION_sequencing_data_20190815/guppy_3.2.2_08_15_2019_run_03_exec_20190816/pass/fastq_runid_3af76ac4a3c3302724a333ac8c108c258c9ceb0d_4_3.fastq\n"
     ]
    },
    {
     "name": "stdout",
     "output_type": "stream",
     "text": [
      "[########################################] | 100% Completed | 36.9s\n"
     ]
    },
    {
     "name": "stderr",
     "output_type": "stream",
     "text": [
      "[12:54:53 - __main__] Saving to file: /path/to/data/MinION_sequencing_data_20190815/guppy_3.2.2_08_15_2019_run_03_exec_20190816/sw/fastq_runid_3af76ac4a3c3302724a333ac8c108c258c9ceb0d_4_3.tsv\n",
      "[12:54:53 - __main__] Starting fastq (20 of 315)\n",
      "\t/path/to/data/MinION_sequencing_data_20190815/guppy_3.2.2_08_15_2019_run_03_exec_20190816/pass/fastq_runid_3af76ac4a3c3302724a333ac8c108c258c9ceb0d_5_0.fastq\n"
     ]
    },
    {
     "name": "stdout",
     "output_type": "stream",
     "text": [
      "[########################################] | 100% Completed |  1min 20.1s\n"
     ]
    },
    {
     "name": "stderr",
     "output_type": "stream",
     "text": [
      "[12:56:14 - __main__] Saving to file: /path/to/data/MinION_sequencing_data_20190815/guppy_3.2.2_08_15_2019_run_03_exec_20190816/sw/fastq_runid_3af76ac4a3c3302724a333ac8c108c258c9ceb0d_5_0.tsv\n",
      "[12:56:14 - __main__] Starting fastq (21 of 315)\n",
      "\t/path/to/data/MinION_sequencing_data_20190815/guppy_3.2.2_08_15_2019_run_03_exec_20190816/pass/fastq_runid_3af76ac4a3c3302724a333ac8c108c258c9ceb0d_5_1.fastq\n"
     ]
    },
    {
     "name": "stdout",
     "output_type": "stream",
     "text": [
      "[########################################] | 100% Completed |  1min 37.4s\n"
     ]
    },
    {
     "name": "stderr",
     "output_type": "stream",
     "text": [
      "[12:57:52 - __main__] Saving to file: /path/to/data/MinION_sequencing_data_20190815/guppy_3.2.2_08_15_2019_run_03_exec_20190816/sw/fastq_runid_3af76ac4a3c3302724a333ac8c108c258c9ceb0d_5_1.tsv\n",
      "[12:57:52 - __main__] Starting fastq (22 of 315)\n",
      "\t/path/to/data/MinION_sequencing_data_20190815/guppy_3.2.2_08_15_2019_run_03_exec_20190816/pass/fastq_runid_3af76ac4a3c3302724a333ac8c108c258c9ceb0d_5_2.fastq\n"
     ]
    },
    {
     "name": "stdout",
     "output_type": "stream",
     "text": [
      "[########################################] | 100% Completed | 42.2s\n"
     ]
    },
    {
     "name": "stderr",
     "output_type": "stream",
     "text": [
      "[12:58:34 - __main__] Saving to file: /path/to/data/MinION_sequencing_data_20190815/guppy_3.2.2_08_15_2019_run_03_exec_20190816/sw/fastq_runid_3af76ac4a3c3302724a333ac8c108c258c9ceb0d_5_2.tsv\n",
      "[12:58:34 - __main__] Starting fastq (23 of 315)\n",
      "\t/path/to/data/MinION_sequencing_data_20190815/guppy_3.2.2_08_15_2019_run_03_exec_20190816/pass/fastq_runid_3af76ac4a3c3302724a333ac8c108c258c9ceb0d_5_3.fastq\n"
     ]
    },
    {
     "name": "stdout",
     "output_type": "stream",
     "text": [
      "[########################################] | 100% Completed | 47.2s\n"
     ]
    },
    {
     "name": "stderr",
     "output_type": "stream",
     "text": [
      "[12:59:22 - __main__] Saving to file: /path/to/data/MinION_sequencing_data_20190815/guppy_3.2.2_08_15_2019_run_03_exec_20190816/sw/fastq_runid_3af76ac4a3c3302724a333ac8c108c258c9ceb0d_5_3.tsv\n",
      "[12:59:22 - __main__] Starting fastq (24 of 315)\n",
      "\t/path/to/data/MinION_sequencing_data_20190815/guppy_3.2.2_08_15_2019_run_03_exec_20190816/pass/fastq_runid_3af76ac4a3c3302724a333ac8c108c258c9ceb0d_6_0.fastq\n"
     ]
    },
    {
     "name": "stdout",
     "output_type": "stream",
     "text": [
      "[########################################] | 100% Completed |  1min  9.4s\n"
     ]
    },
    {
     "name": "stderr",
     "output_type": "stream",
     "text": [
      "[13:00:32 - __main__] Saving to file: /path/to/data/MinION_sequencing_data_20190815/guppy_3.2.2_08_15_2019_run_03_exec_20190816/sw/fastq_runid_3af76ac4a3c3302724a333ac8c108c258c9ceb0d_6_0.tsv\n",
      "[13:00:32 - __main__] Starting fastq (25 of 315)\n",
      "\t/path/to/data/MinION_sequencing_data_20190815/guppy_3.2.2_08_15_2019_run_03_exec_20190816/pass/fastq_runid_3af76ac4a3c3302724a333ac8c108c258c9ceb0d_6_1.fastq\n"
     ]
    },
    {
     "name": "stdout",
     "output_type": "stream",
     "text": [
      "[########################################] | 100% Completed | 57.7s\n"
     ]
    },
    {
     "name": "stderr",
     "output_type": "stream",
     "text": [
      "[13:01:30 - __main__] Saving to file: /path/to/data/MinION_sequencing_data_20190815/guppy_3.2.2_08_15_2019_run_03_exec_20190816/sw/fastq_runid_3af76ac4a3c3302724a333ac8c108c258c9ceb0d_6_1.tsv\n",
      "[13:01:30 - __main__] Starting fastq (26 of 315)\n",
      "\t/path/to/data/MinION_sequencing_data_20190815/guppy_3.2.2_08_15_2019_run_03_exec_20190816/pass/fastq_runid_3af76ac4a3c3302724a333ac8c108c258c9ceb0d_6_2.fastq\n"
     ]
    },
    {
     "name": "stdout",
     "output_type": "stream",
     "text": [
      "[########################################] | 100% Completed |  1min 23.3s\n"
     ]
    },
    {
     "name": "stderr",
     "output_type": "stream",
     "text": [
      "[13:02:54 - __main__] Saving to file: /path/to/data/MinION_sequencing_data_20190815/guppy_3.2.2_08_15_2019_run_03_exec_20190816/sw/fastq_runid_3af76ac4a3c3302724a333ac8c108c258c9ceb0d_6_2.tsv\n",
      "[13:02:54 - __main__] Starting fastq (27 of 315)\n",
      "\t/path/to/data/MinION_sequencing_data_20190815/guppy_3.2.2_08_15_2019_run_03_exec_20190816/pass/fastq_runid_3af76ac4a3c3302724a333ac8c108c258c9ceb0d_6_3.fastq\n"
     ]
    },
    {
     "name": "stdout",
     "output_type": "stream",
     "text": [
      "[########################################] | 100% Completed |  1min  3.8s\n"
     ]
    },
    {
     "name": "stderr",
     "output_type": "stream",
     "text": [
      "[13:03:58 - __main__] Saving to file: /path/to/data/MinION_sequencing_data_20190815/guppy_3.2.2_08_15_2019_run_03_exec_20190816/sw/fastq_runid_3af76ac4a3c3302724a333ac8c108c258c9ceb0d_6_3.tsv\n",
      "[13:03:59 - __main__] Starting fastq (28 of 315)\n",
      "\t/path/to/data/MinION_sequencing_data_20190815/guppy_3.2.2_08_15_2019_run_03_exec_20190816/pass/fastq_runid_3af76ac4a3c3302724a333ac8c108c258c9ceb0d_7_0.fastq\n"
     ]
    },
    {
     "name": "stdout",
     "output_type": "stream",
     "text": [
      "[########################################] | 100% Completed |  1min 58.4s\n"
     ]
    },
    {
     "name": "stderr",
     "output_type": "stream",
     "text": [
      "[13:05:57 - __main__] Saving to file: /path/to/data/MinION_sequencing_data_20190815/guppy_3.2.2_08_15_2019_run_03_exec_20190816/sw/fastq_runid_3af76ac4a3c3302724a333ac8c108c258c9ceb0d_7_0.tsv\n",
      "[13:05:58 - __main__] Starting fastq (29 of 315)\n",
      "\t/path/to/data/MinION_sequencing_data_20190815/guppy_3.2.2_08_15_2019_run_03_exec_20190816/pass/fastq_runid_3af76ac4a3c3302724a333ac8c108c258c9ceb0d_7_1.fastq\n"
     ]
    },
    {
     "name": "stdout",
     "output_type": "stream",
     "text": [
      "[########################################] | 100% Completed | 44.1s\n"
     ]
    },
    {
     "name": "stderr",
     "output_type": "stream",
     "text": [
      "[13:06:42 - __main__] Saving to file: /path/to/data/MinION_sequencing_data_20190815/guppy_3.2.2_08_15_2019_run_03_exec_20190816/sw/fastq_runid_3af76ac4a3c3302724a333ac8c108c258c9ceb0d_7_1.tsv\n",
      "[13:06:42 - __main__] Starting fastq (30 of 315)\n",
      "\t/path/to/data/MinION_sequencing_data_20190815/guppy_3.2.2_08_15_2019_run_03_exec_20190816/pass/fastq_runid_3af76ac4a3c3302724a333ac8c108c258c9ceb0d_7_2.fastq\n"
     ]
    },
    {
     "name": "stdout",
     "output_type": "stream",
     "text": [
      "[########################################] | 100% Completed |  1min 24.6s\n"
     ]
    },
    {
     "name": "stderr",
     "output_type": "stream",
     "text": [
      "[13:08:07 - __main__] Saving to file: /path/to/data/MinION_sequencing_data_20190815/guppy_3.2.2_08_15_2019_run_03_exec_20190816/sw/fastq_runid_3af76ac4a3c3302724a333ac8c108c258c9ceb0d_7_2.tsv\n",
      "[13:08:07 - __main__] Starting fastq (31 of 315)\n",
      "\t/path/to/data/MinION_sequencing_data_20190815/guppy_3.2.2_08_15_2019_run_03_exec_20190816/pass/fastq_runid_3af76ac4a3c3302724a333ac8c108c258c9ceb0d_7_3.fastq\n"
     ]
    },
    {
     "name": "stdout",
     "output_type": "stream",
     "text": [
      "[########################################] | 100% Completed | 19.8s\n"
     ]
    },
    {
     "name": "stderr",
     "output_type": "stream",
     "text": [
      "[13:08:27 - __main__] Saving to file: /path/to/data/MinION_sequencing_data_20190815/guppy_3.2.2_08_15_2019_run_03_exec_20190816/sw/fastq_runid_3af76ac4a3c3302724a333ac8c108c258c9ceb0d_7_3.tsv\n",
      "[13:08:27 - __main__] Starting fastq (32 of 315)\n",
      "\t/path/to/data/MinION_sequencing_data_20190815/guppy_3.2.2_08_15_2019_run_03_exec_20190816/pass/fastq_runid_3af76ac4a3c3302724a333ac8c108c258c9ceb0d_8_0.fastq\n"
     ]
    },
    {
     "name": "stdout",
     "output_type": "stream",
     "text": [
      "[########################################] | 100% Completed |  1min 52.3s\n"
     ]
    },
    {
     "name": "stderr",
     "output_type": "stream",
     "text": [
      "[13:10:20 - __main__] Saving to file: /path/to/data/MinION_sequencing_data_20190815/guppy_3.2.2_08_15_2019_run_03_exec_20190816/sw/fastq_runid_3af76ac4a3c3302724a333ac8c108c258c9ceb0d_8_0.tsv\n",
      "[13:10:20 - __main__] Starting fastq (33 of 315)\n",
      "\t/path/to/data/MinION_sequencing_data_20190815/guppy_3.2.2_08_15_2019_run_03_exec_20190816/pass/fastq_runid_3af76ac4a3c3302724a333ac8c108c258c9ceb0d_8_1.fastq\n"
     ]
    },
    {
     "name": "stdout",
     "output_type": "stream",
     "text": [
      "[########################################] | 100% Completed | 39.1s\n"
     ]
    },
    {
     "name": "stderr",
     "output_type": "stream",
     "text": [
      "[13:10:59 - __main__] Saving to file: /path/to/data/MinION_sequencing_data_20190815/guppy_3.2.2_08_15_2019_run_03_exec_20190816/sw/fastq_runid_3af76ac4a3c3302724a333ac8c108c258c9ceb0d_8_1.tsv\n",
      "[13:11:00 - __main__] Starting fastq (34 of 315)\n",
      "\t/path/to/data/MinION_sequencing_data_20190815/guppy_3.2.2_08_15_2019_run_03_exec_20190816/pass/fastq_runid_3af76ac4a3c3302724a333ac8c108c258c9ceb0d_8_2.fastq\n"
     ]
    },
    {
     "name": "stdout",
     "output_type": "stream",
     "text": [
      "[########################################] | 100% Completed |  1min 15.6s\n"
     ]
    },
    {
     "name": "stderr",
     "output_type": "stream",
     "text": [
      "[13:12:15 - __main__] Saving to file: /path/to/data/MinION_sequencing_data_20190815/guppy_3.2.2_08_15_2019_run_03_exec_20190816/sw/fastq_runid_3af76ac4a3c3302724a333ac8c108c258c9ceb0d_8_2.tsv\n",
      "[13:12:16 - __main__] Starting fastq (35 of 315)\n",
      "\t/path/to/data/MinION_sequencing_data_20190815/guppy_3.2.2_08_15_2019_run_03_exec_20190816/pass/fastq_runid_3af76ac4a3c3302724a333ac8c108c258c9ceb0d_8_3.fastq\n"
     ]
    },
    {
     "name": "stdout",
     "output_type": "stream",
     "text": [
      "[########################################] | 100% Completed | 33.8s\n"
     ]
    },
    {
     "name": "stderr",
     "output_type": "stream",
     "text": [
      "[13:12:50 - __main__] Saving to file: /path/to/data/MinION_sequencing_data_20190815/guppy_3.2.2_08_15_2019_run_03_exec_20190816/sw/fastq_runid_3af76ac4a3c3302724a333ac8c108c258c9ceb0d_8_3.tsv\n",
      "[13:12:50 - __main__] Starting fastq (36 of 315)\n",
      "\t/path/to/data/MinION_sequencing_data_20190815/guppy_3.2.2_08_15_2019_run_03_exec_20190816/pass/fastq_runid_3af76ac4a3c3302724a333ac8c108c258c9ceb0d_9_0.fastq\n"
     ]
    },
    {
     "name": "stdout",
     "output_type": "stream",
     "text": [
      "[########################################] | 100% Completed |  1min  7.5s\n"
     ]
    },
    {
     "name": "stderr",
     "output_type": "stream",
     "text": [
      "[13:13:57 - __main__] Saving to file: /path/to/data/MinION_sequencing_data_20190815/guppy_3.2.2_08_15_2019_run_03_exec_20190816/sw/fastq_runid_3af76ac4a3c3302724a333ac8c108c258c9ceb0d_9_0.tsv\n",
      "[13:13:58 - __main__] Starting fastq (37 of 315)\n",
      "\t/path/to/data/MinION_sequencing_data_20190815/guppy_3.2.2_08_15_2019_run_03_exec_20190816/pass/fastq_runid_3af76ac4a3c3302724a333ac8c108c258c9ceb0d_9_1.fastq\n"
     ]
    },
    {
     "name": "stdout",
     "output_type": "stream",
     "text": [
      "[########################################] | 100% Completed | 53.3s\n"
     ]
    },
    {
     "name": "stderr",
     "output_type": "stream",
     "text": [
      "[13:14:51 - __main__] Saving to file: /path/to/data/MinION_sequencing_data_20190815/guppy_3.2.2_08_15_2019_run_03_exec_20190816/sw/fastq_runid_3af76ac4a3c3302724a333ac8c108c258c9ceb0d_9_1.tsv\n",
      "[13:14:51 - __main__] Starting fastq (38 of 315)\n",
      "\t/path/to/data/MinION_sequencing_data_20190815/guppy_3.2.2_08_15_2019_run_03_exec_20190816/pass/fastq_runid_3af76ac4a3c3302724a333ac8c108c258c9ceb0d_9_2.fastq\n"
     ]
    },
    {
     "name": "stdout",
     "output_type": "stream",
     "text": [
      "[########################################] | 100% Completed |  1min 40.8s\n"
     ]
    },
    {
     "name": "stderr",
     "output_type": "stream",
     "text": [
      "[13:16:32 - __main__] Saving to file: /path/to/data/MinION_sequencing_data_20190815/guppy_3.2.2_08_15_2019_run_03_exec_20190816/sw/fastq_runid_3af76ac4a3c3302724a333ac8c108c258c9ceb0d_9_2.tsv\n",
      "[13:16:33 - __main__] Starting fastq (39 of 315)\n",
      "\t/path/to/data/MinION_sequencing_data_20190815/guppy_3.2.2_08_15_2019_run_03_exec_20190816/pass/fastq_runid_3af76ac4a3c3302724a333ac8c108c258c9ceb0d_9_3.fastq\n"
     ]
    },
    {
     "name": "stdout",
     "output_type": "stream",
     "text": [
      "[########################################] | 100% Completed | 39.2s\n"
     ]
    },
    {
     "name": "stderr",
     "output_type": "stream",
     "text": [
      "[13:17:12 - __main__] Saving to file: /path/to/data/MinION_sequencing_data_20190815/guppy_3.2.2_08_15_2019_run_03_exec_20190816/sw/fastq_runid_3af76ac4a3c3302724a333ac8c108c258c9ceb0d_9_3.tsv\n",
      "[13:17:12 - __main__] Starting fastq (40 of 315)\n",
      "\t/path/to/data/MinION_sequencing_data_20190815/guppy_3.2.2_08_15_2019_run_03_exec_20190816/pass/fastq_runid_3af76ac4a3c3302724a333ac8c108c258c9ceb0d_10_0.fastq\n"
     ]
    },
    {
     "name": "stdout",
     "output_type": "stream",
     "text": [
      "[########################################] | 100% Completed |  2min  6.2s\n"
     ]
    },
    {
     "name": "stderr",
     "output_type": "stream",
     "text": [
      "[13:19:19 - __main__] Saving to file: /path/to/data/MinION_sequencing_data_20190815/guppy_3.2.2_08_15_2019_run_03_exec_20190816/sw/fastq_runid_3af76ac4a3c3302724a333ac8c108c258c9ceb0d_10_0.tsv\n",
      "[13:19:19 - __main__] Starting fastq (41 of 315)\n",
      "\t/path/to/data/MinION_sequencing_data_20190815/guppy_3.2.2_08_15_2019_run_03_exec_20190816/pass/fastq_runid_3af76ac4a3c3302724a333ac8c108c258c9ceb0d_10_1.fastq\n"
     ]
    },
    {
     "name": "stdout",
     "output_type": "stream",
     "text": [
      "[########################################] | 100% Completed | 44.2s\n"
     ]
    },
    {
     "name": "stderr",
     "output_type": "stream",
     "text": [
      "[13:20:03 - __main__] Saving to file: /path/to/data/MinION_sequencing_data_20190815/guppy_3.2.2_08_15_2019_run_03_exec_20190816/sw/fastq_runid_3af76ac4a3c3302724a333ac8c108c258c9ceb0d_10_1.tsv\n",
      "[13:20:03 - __main__] Starting fastq (42 of 315)\n",
      "\t/path/to/data/MinION_sequencing_data_20190815/guppy_3.2.2_08_15_2019_run_03_exec_20190816/pass/fastq_runid_3af76ac4a3c3302724a333ac8c108c258c9ceb0d_10_2.fastq\n"
     ]
    },
    {
     "name": "stdout",
     "output_type": "stream",
     "text": [
      "[########################################] | 100% Completed |  1min 11.1s\n"
     ]
    },
    {
     "name": "stderr",
     "output_type": "stream",
     "text": [
      "[13:21:15 - __main__] Saving to file: /path/to/data/MinION_sequencing_data_20190815/guppy_3.2.2_08_15_2019_run_03_exec_20190816/sw/fastq_runid_3af76ac4a3c3302724a333ac8c108c258c9ceb0d_10_2.tsv\n",
      "[13:21:15 - __main__] Starting fastq (43 of 315)\n",
      "\t/path/to/data/MinION_sequencing_data_20190815/guppy_3.2.2_08_15_2019_run_03_exec_20190816/pass/fastq_runid_3af76ac4a3c3302724a333ac8c108c258c9ceb0d_10_3.fastq\n"
     ]
    },
    {
     "name": "stdout",
     "output_type": "stream",
     "text": [
      "[########################################] | 100% Completed | 12.8s\n"
     ]
    },
    {
     "name": "stderr",
     "output_type": "stream",
     "text": [
      "[13:21:28 - __main__] Saving to file: /path/to/data/MinION_sequencing_data_20190815/guppy_3.2.2_08_15_2019_run_03_exec_20190816/sw/fastq_runid_3af76ac4a3c3302724a333ac8c108c258c9ceb0d_10_3.tsv\n",
      "[13:21:28 - __main__] Starting fastq (44 of 315)\n",
      "\t/path/to/data/MinION_sequencing_data_20190815/guppy_3.2.2_08_15_2019_run_03_exec_20190816/pass/fastq_runid_3af76ac4a3c3302724a333ac8c108c258c9ceb0d_11_0.fastq\n"
     ]
    },
    {
     "name": "stdout",
     "output_type": "stream",
     "text": [
      "[########################################] | 100% Completed |  1min  4.8s\n"
     ]
    },
    {
     "name": "stderr",
     "output_type": "stream",
     "text": [
      "[13:22:33 - __main__] Saving to file: /path/to/data/MinION_sequencing_data_20190815/guppy_3.2.2_08_15_2019_run_03_exec_20190816/sw/fastq_runid_3af76ac4a3c3302724a333ac8c108c258c9ceb0d_11_0.tsv\n",
      "[13:22:33 - __main__] Starting fastq (45 of 315)\n",
      "\t/path/to/data/MinION_sequencing_data_20190815/guppy_3.2.2_08_15_2019_run_03_exec_20190816/pass/fastq_runid_3af76ac4a3c3302724a333ac8c108c258c9ceb0d_11_1.fastq\n"
     ]
    },
    {
     "name": "stdout",
     "output_type": "stream",
     "text": [
      "[########################################] | 100% Completed |  1min 28.8s\n"
     ]
    },
    {
     "name": "stderr",
     "output_type": "stream",
     "text": [
      "[13:24:02 - __main__] Saving to file: /path/to/data/MinION_sequencing_data_20190815/guppy_3.2.2_08_15_2019_run_03_exec_20190816/sw/fastq_runid_3af76ac4a3c3302724a333ac8c108c258c9ceb0d_11_1.tsv\n",
      "[13:24:03 - __main__] Starting fastq (46 of 315)\n",
      "\t/path/to/data/MinION_sequencing_data_20190815/guppy_3.2.2_08_15_2019_run_03_exec_20190816/pass/fastq_runid_3af76ac4a3c3302724a333ac8c108c258c9ceb0d_11_2.fastq\n"
     ]
    },
    {
     "name": "stdout",
     "output_type": "stream",
     "text": [
      "[########################################] | 100% Completed |  1min 10.5s\n"
     ]
    },
    {
     "name": "stderr",
     "output_type": "stream",
     "text": [
      "[13:25:13 - __main__] Saving to file: /path/to/data/MinION_sequencing_data_20190815/guppy_3.2.2_08_15_2019_run_03_exec_20190816/sw/fastq_runid_3af76ac4a3c3302724a333ac8c108c258c9ceb0d_11_2.tsv\n",
      "[13:25:14 - __main__] Starting fastq (47 of 315)\n",
      "\t/path/to/data/MinION_sequencing_data_20190815/guppy_3.2.2_08_15_2019_run_03_exec_20190816/pass/fastq_runid_3af76ac4a3c3302724a333ac8c108c258c9ceb0d_11_3.fastq\n"
     ]
    },
    {
     "name": "stdout",
     "output_type": "stream",
     "text": [
      "[########################################] | 100% Completed | 25.0s\n"
     ]
    },
    {
     "name": "stderr",
     "output_type": "stream",
     "text": [
      "[13:25:39 - __main__] Saving to file: /path/to/data/MinION_sequencing_data_20190815/guppy_3.2.2_08_15_2019_run_03_exec_20190816/sw/fastq_runid_3af76ac4a3c3302724a333ac8c108c258c9ceb0d_11_3.tsv\n",
      "[13:25:39 - __main__] Starting fastq (48 of 315)\n",
      "\t/path/to/data/MinION_sequencing_data_20190815/guppy_3.2.2_08_15_2019_run_03_exec_20190816/pass/fastq_runid_3af76ac4a3c3302724a333ac8c108c258c9ceb0d_12_0.fastq\n"
     ]
    },
    {
     "name": "stdout",
     "output_type": "stream",
     "text": [
      "[########################################] | 100% Completed | 48.5s\n"
     ]
    },
    {
     "name": "stderr",
     "output_type": "stream",
     "text": [
      "[13:26:28 - __main__] Saving to file: /path/to/data/MinION_sequencing_data_20190815/guppy_3.2.2_08_15_2019_run_03_exec_20190816/sw/fastq_runid_3af76ac4a3c3302724a333ac8c108c258c9ceb0d_12_0.tsv\n",
      "[13:26:28 - __main__] Starting fastq (49 of 315)\n",
      "\t/path/to/data/MinION_sequencing_data_20190815/guppy_3.2.2_08_15_2019_run_03_exec_20190816/pass/fastq_runid_3af76ac4a3c3302724a333ac8c108c258c9ceb0d_12_1.fastq\n"
     ]
    },
    {
     "name": "stdout",
     "output_type": "stream",
     "text": [
      "[########################################] | 100% Completed |  1min 46.3s\n"
     ]
    },
    {
     "name": "stderr",
     "output_type": "stream",
     "text": [
      "[13:28:14 - __main__] Saving to file: /path/to/data/MinION_sequencing_data_20190815/guppy_3.2.2_08_15_2019_run_03_exec_20190816/sw/fastq_runid_3af76ac4a3c3302724a333ac8c108c258c9ceb0d_12_1.tsv\n",
      "[13:28:15 - __main__] Starting fastq (50 of 315)\n",
      "\t/path/to/data/MinION_sequencing_data_20190815/guppy_3.2.2_08_15_2019_run_03_exec_20190816/pass/fastq_runid_3af76ac4a3c3302724a333ac8c108c258c9ceb0d_12_2.fastq\n"
     ]
    },
    {
     "name": "stdout",
     "output_type": "stream",
     "text": [
      "[########################################] | 100% Completed | 50.9s\n"
     ]
    },
    {
     "name": "stderr",
     "output_type": "stream",
     "text": [
      "[13:29:06 - __main__] Saving to file: /path/to/data/MinION_sequencing_data_20190815/guppy_3.2.2_08_15_2019_run_03_exec_20190816/sw/fastq_runid_3af76ac4a3c3302724a333ac8c108c258c9ceb0d_12_2.tsv\n",
      "[13:29:06 - __main__] Starting fastq (51 of 315)\n",
      "\t/path/to/data/MinION_sequencing_data_20190815/guppy_3.2.2_08_15_2019_run_03_exec_20190816/pass/fastq_runid_3af76ac4a3c3302724a333ac8c108c258c9ceb0d_12_3.fastq\n"
     ]
    },
    {
     "name": "stdout",
     "output_type": "stream",
     "text": [
      "[########################################] | 100% Completed | 47.1s\n"
     ]
    },
    {
     "name": "stderr",
     "output_type": "stream",
     "text": [
      "[13:29:53 - __main__] Saving to file: /path/to/data/MinION_sequencing_data_20190815/guppy_3.2.2_08_15_2019_run_03_exec_20190816/sw/fastq_runid_3af76ac4a3c3302724a333ac8c108c258c9ceb0d_12_3.tsv\n",
      "[13:29:53 - __main__] Starting fastq (52 of 315)\n",
      "\t/path/to/data/MinION_sequencing_data_20190815/guppy_3.2.2_08_15_2019_run_03_exec_20190816/pass/fastq_runid_3af76ac4a3c3302724a333ac8c108c258c9ceb0d_13_0.fastq\n"
     ]
    },
    {
     "name": "stdout",
     "output_type": "stream",
     "text": [
      "[########################################] | 100% Completed |  1min  3.8s\n"
     ]
    },
    {
     "name": "stderr",
     "output_type": "stream",
     "text": [
      "[13:30:58 - __main__] Saving to file: /path/to/data/MinION_sequencing_data_20190815/guppy_3.2.2_08_15_2019_run_03_exec_20190816/sw/fastq_runid_3af76ac4a3c3302724a333ac8c108c258c9ceb0d_13_0.tsv\n",
      "[13:30:58 - __main__] Starting fastq (53 of 315)\n",
      "\t/path/to/data/MinION_sequencing_data_20190815/guppy_3.2.2_08_15_2019_run_03_exec_20190816/pass/fastq_runid_3af76ac4a3c3302724a333ac8c108c258c9ceb0d_13_1.fastq\n"
     ]
    },
    {
     "name": "stdout",
     "output_type": "stream",
     "text": [
      "[########################################] | 100% Completed | 55.0s\n"
     ]
    },
    {
     "name": "stderr",
     "output_type": "stream",
     "text": [
      "[13:31:53 - __main__] Saving to file: /path/to/data/MinION_sequencing_data_20190815/guppy_3.2.2_08_15_2019_run_03_exec_20190816/sw/fastq_runid_3af76ac4a3c3302724a333ac8c108c258c9ceb0d_13_1.tsv\n",
      "[13:31:53 - __main__] Starting fastq (54 of 315)\n",
      "\t/path/to/data/MinION_sequencing_data_20190815/guppy_3.2.2_08_15_2019_run_03_exec_20190816/pass/fastq_runid_3af76ac4a3c3302724a333ac8c108c258c9ceb0d_13_2.fastq\n"
     ]
    },
    {
     "name": "stdout",
     "output_type": "stream",
     "text": [
      "[########################################] | 100% Completed | 50.8s\n"
     ]
    },
    {
     "name": "stderr",
     "output_type": "stream",
     "text": [
      "[13:32:44 - __main__] Saving to file: /path/to/data/MinION_sequencing_data_20190815/guppy_3.2.2_08_15_2019_run_03_exec_20190816/sw/fastq_runid_3af76ac4a3c3302724a333ac8c108c258c9ceb0d_13_2.tsv\n",
      "[13:32:44 - __main__] Starting fastq (55 of 315)\n",
      "\t/path/to/data/MinION_sequencing_data_20190815/guppy_3.2.2_08_15_2019_run_03_exec_20190816/pass/fastq_runid_3af76ac4a3c3302724a333ac8c108c258c9ceb0d_13_3.fastq\n"
     ]
    },
    {
     "name": "stdout",
     "output_type": "stream",
     "text": [
      "[########################################] | 100% Completed |  1min  6.6s\n"
     ]
    },
    {
     "name": "stderr",
     "output_type": "stream",
     "text": [
      "[13:33:51 - __main__] Saving to file: /path/to/data/MinION_sequencing_data_20190815/guppy_3.2.2_08_15_2019_run_03_exec_20190816/sw/fastq_runid_3af76ac4a3c3302724a333ac8c108c258c9ceb0d_13_3.tsv\n",
      "[13:33:52 - __main__] Starting fastq (56 of 315)\n",
      "\t/path/to/data/MinION_sequencing_data_20190815/guppy_3.2.2_08_15_2019_run_03_exec_20190816/pass/fastq_runid_3af76ac4a3c3302724a333ac8c108c258c9ceb0d_14_0.fastq\n"
     ]
    },
    {
     "name": "stdout",
     "output_type": "stream",
     "text": [
      "[########################################] | 100% Completed |  1min  5.6s\n"
     ]
    },
    {
     "name": "stderr",
     "output_type": "stream",
     "text": [
      "[13:34:58 - __main__] Saving to file: /path/to/data/MinION_sequencing_data_20190815/guppy_3.2.2_08_15_2019_run_03_exec_20190816/sw/fastq_runid_3af76ac4a3c3302724a333ac8c108c258c9ceb0d_14_0.tsv\n",
      "[13:34:58 - __main__] Starting fastq (57 of 315)\n",
      "\t/path/to/data/MinION_sequencing_data_20190815/guppy_3.2.2_08_15_2019_run_03_exec_20190816/pass/fastq_runid_3af76ac4a3c3302724a333ac8c108c258c9ceb0d_14_1.fastq\n"
     ]
    },
    {
     "name": "stdout",
     "output_type": "stream",
     "text": [
      "[########################################] | 100% Completed |  1min  6.4s\n"
     ]
    },
    {
     "name": "stderr",
     "output_type": "stream",
     "text": [
      "[13:36:04 - __main__] Saving to file: /path/to/data/MinION_sequencing_data_20190815/guppy_3.2.2_08_15_2019_run_03_exec_20190816/sw/fastq_runid_3af76ac4a3c3302724a333ac8c108c258c9ceb0d_14_1.tsv\n",
      "[13:36:04 - __main__] Starting fastq (58 of 315)\n",
      "\t/path/to/data/MinION_sequencing_data_20190815/guppy_3.2.2_08_15_2019_run_03_exec_20190816/pass/fastq_runid_3af76ac4a3c3302724a333ac8c108c258c9ceb0d_14_2.fastq\n"
     ]
    },
    {
     "name": "stdout",
     "output_type": "stream",
     "text": [
      "[########################################] | 100% Completed | 54.6s\n"
     ]
    },
    {
     "name": "stderr",
     "output_type": "stream",
     "text": [
      "[13:36:59 - __main__] Saving to file: /path/to/data/MinION_sequencing_data_20190815/guppy_3.2.2_08_15_2019_run_03_exec_20190816/sw/fastq_runid_3af76ac4a3c3302724a333ac8c108c258c9ceb0d_14_2.tsv\n",
      "[13:36:59 - __main__] Starting fastq (59 of 315)\n",
      "\t/path/to/data/MinION_sequencing_data_20190815/guppy_3.2.2_08_15_2019_run_03_exec_20190816/pass/fastq_runid_3af76ac4a3c3302724a333ac8c108c258c9ceb0d_14_3.fastq\n"
     ]
    },
    {
     "name": "stdout",
     "output_type": "stream",
     "text": [
      "[########################################] | 100% Completed |  1min  3.0s\n"
     ]
    },
    {
     "name": "stderr",
     "output_type": "stream",
     "text": [
      "[13:38:03 - __main__] Saving to file: /path/to/data/MinION_sequencing_data_20190815/guppy_3.2.2_08_15_2019_run_03_exec_20190816/sw/fastq_runid_3af76ac4a3c3302724a333ac8c108c258c9ceb0d_14_3.tsv\n",
      "[13:38:03 - __main__] Starting fastq (60 of 315)\n",
      "\t/path/to/data/MinION_sequencing_data_20190815/guppy_3.2.2_08_15_2019_run_03_exec_20190816/pass/fastq_runid_3af76ac4a3c3302724a333ac8c108c258c9ceb0d_15_0.fastq\n"
     ]
    },
    {
     "name": "stdout",
     "output_type": "stream",
     "text": [
      "[########################################] | 100% Completed | 52.6s\n"
     ]
    },
    {
     "name": "stderr",
     "output_type": "stream",
     "text": [
      "[13:38:56 - __main__] Saving to file: /path/to/data/MinION_sequencing_data_20190815/guppy_3.2.2_08_15_2019_run_03_exec_20190816/sw/fastq_runid_3af76ac4a3c3302724a333ac8c108c258c9ceb0d_15_0.tsv\n",
      "[13:38:56 - __main__] Starting fastq (61 of 315)\n",
      "\t/path/to/data/MinION_sequencing_data_20190815/guppy_3.2.2_08_15_2019_run_03_exec_20190816/pass/fastq_runid_3af76ac4a3c3302724a333ac8c108c258c9ceb0d_15_1.fastq\n"
     ]
    },
    {
     "name": "stdout",
     "output_type": "stream",
     "text": [
      "[########################################] | 100% Completed |  1min 12.1s\n"
     ]
    },
    {
     "name": "stderr",
     "output_type": "stream",
     "text": [
      "[13:40:08 - __main__] Saving to file: /path/to/data/MinION_sequencing_data_20190815/guppy_3.2.2_08_15_2019_run_03_exec_20190816/sw/fastq_runid_3af76ac4a3c3302724a333ac8c108c258c9ceb0d_15_1.tsv\n",
      "[13:40:08 - __main__] Starting fastq (62 of 315)\n",
      "\t/path/to/data/MinION_sequencing_data_20190815/guppy_3.2.2_08_15_2019_run_03_exec_20190816/pass/fastq_runid_3af76ac4a3c3302724a333ac8c108c258c9ceb0d_15_2.fastq\n"
     ]
    },
    {
     "name": "stdout",
     "output_type": "stream",
     "text": [
      "[########################################] | 100% Completed |  1min  7.6s\n"
     ]
    },
    {
     "name": "stderr",
     "output_type": "stream",
     "text": [
      "[13:41:17 - __main__] Saving to file: /path/to/data/MinION_sequencing_data_20190815/guppy_3.2.2_08_15_2019_run_03_exec_20190816/sw/fastq_runid_3af76ac4a3c3302724a333ac8c108c258c9ceb0d_15_2.tsv\n",
      "[13:41:17 - __main__] Starting fastq (63 of 315)\n",
      "\t/path/to/data/MinION_sequencing_data_20190815/guppy_3.2.2_08_15_2019_run_03_exec_20190816/pass/fastq_runid_3af76ac4a3c3302724a333ac8c108c258c9ceb0d_15_3.fastq\n"
     ]
    },
    {
     "name": "stdout",
     "output_type": "stream",
     "text": [
      "[########################################] | 100% Completed |  1min  8.9s\n"
     ]
    },
    {
     "name": "stderr",
     "output_type": "stream",
     "text": [
      "[13:42:26 - __main__] Saving to file: /path/to/data/MinION_sequencing_data_20190815/guppy_3.2.2_08_15_2019_run_03_exec_20190816/sw/fastq_runid_3af76ac4a3c3302724a333ac8c108c258c9ceb0d_15_3.tsv\n",
      "[13:42:26 - __main__] Starting fastq (64 of 315)\n",
      "\t/path/to/data/MinION_sequencing_data_20190815/guppy_3.2.2_08_15_2019_run_03_exec_20190816/pass/fastq_runid_3af76ac4a3c3302724a333ac8c108c258c9ceb0d_16_0.fastq\n"
     ]
    },
    {
     "name": "stdout",
     "output_type": "stream",
     "text": [
      "[########################################] | 100% Completed |  1min  6.7s\n"
     ]
    },
    {
     "name": "stderr",
     "output_type": "stream",
     "text": [
      "[13:43:33 - __main__] Saving to file: /path/to/data/MinION_sequencing_data_20190815/guppy_3.2.2_08_15_2019_run_03_exec_20190816/sw/fastq_runid_3af76ac4a3c3302724a333ac8c108c258c9ceb0d_16_0.tsv\n",
      "[13:43:33 - __main__] Starting fastq (65 of 315)\n",
      "\t/path/to/data/MinION_sequencing_data_20190815/guppy_3.2.2_08_15_2019_run_03_exec_20190816/pass/fastq_runid_3af76ac4a3c3302724a333ac8c108c258c9ceb0d_16_1.fastq\n"
     ]
    },
    {
     "name": "stdout",
     "output_type": "stream",
     "text": [
      "[########################################] | 100% Completed |  1min  5.4s\n"
     ]
    },
    {
     "name": "stderr",
     "output_type": "stream",
     "text": [
      "[13:44:39 - __main__] Saving to file: /path/to/data/MinION_sequencing_data_20190815/guppy_3.2.2_08_15_2019_run_03_exec_20190816/sw/fastq_runid_3af76ac4a3c3302724a333ac8c108c258c9ceb0d_16_1.tsv\n",
      "[13:44:39 - __main__] Starting fastq (66 of 315)\n",
      "\t/path/to/data/MinION_sequencing_data_20190815/guppy_3.2.2_08_15_2019_run_03_exec_20190816/pass/fastq_runid_3af76ac4a3c3302724a333ac8c108c258c9ceb0d_16_2.fastq\n"
     ]
    },
    {
     "name": "stdout",
     "output_type": "stream",
     "text": [
      "[########################################] | 100% Completed | 49.1s\n"
     ]
    },
    {
     "name": "stderr",
     "output_type": "stream",
     "text": [
      "[13:45:28 - __main__] Saving to file: /path/to/data/MinION_sequencing_data_20190815/guppy_3.2.2_08_15_2019_run_03_exec_20190816/sw/fastq_runid_3af76ac4a3c3302724a333ac8c108c258c9ceb0d_16_2.tsv\n",
      "[13:45:29 - __main__] Starting fastq (67 of 315)\n",
      "\t/path/to/data/MinION_sequencing_data_20190815/guppy_3.2.2_08_15_2019_run_03_exec_20190816/pass/fastq_runid_3af76ac4a3c3302724a333ac8c108c258c9ceb0d_16_3.fastq\n"
     ]
    },
    {
     "name": "stdout",
     "output_type": "stream",
     "text": [
      "[########################################] | 100% Completed |  1min 32.2s\n"
     ]
    },
    {
     "name": "stderr",
     "output_type": "stream",
     "text": [
      "[13:47:01 - __main__] Saving to file: /path/to/data/MinION_sequencing_data_20190815/guppy_3.2.2_08_15_2019_run_03_exec_20190816/sw/fastq_runid_3af76ac4a3c3302724a333ac8c108c258c9ceb0d_16_3.tsv\n",
      "[13:47:01 - __main__] Starting fastq (68 of 315)\n",
      "\t/path/to/data/MinION_sequencing_data_20190815/guppy_3.2.2_08_15_2019_run_03_exec_20190816/pass/fastq_runid_3af76ac4a3c3302724a333ac8c108c258c9ceb0d_17_0.fastq\n"
     ]
    },
    {
     "name": "stdout",
     "output_type": "stream",
     "text": [
      "[########################################] | 100% Completed |  1min  0.1s\n"
     ]
    },
    {
     "name": "stderr",
     "output_type": "stream",
     "text": [
      "[13:48:02 - __main__] Saving to file: /path/to/data/MinION_sequencing_data_20190815/guppy_3.2.2_08_15_2019_run_03_exec_20190816/sw/fastq_runid_3af76ac4a3c3302724a333ac8c108c258c9ceb0d_17_0.tsv\n",
      "[13:48:02 - __main__] Starting fastq (69 of 315)\n",
      "\t/path/to/data/MinION_sequencing_data_20190815/guppy_3.2.2_08_15_2019_run_03_exec_20190816/pass/fastq_runid_3af76ac4a3c3302724a333ac8c108c258c9ceb0d_17_1.fastq\n"
     ]
    },
    {
     "name": "stdout",
     "output_type": "stream",
     "text": [
      "[########################################] | 100% Completed |  1min  0.2s\n"
     ]
    },
    {
     "name": "stderr",
     "output_type": "stream",
     "text": [
      "[13:49:02 - __main__] Saving to file: /path/to/data/MinION_sequencing_data_20190815/guppy_3.2.2_08_15_2019_run_03_exec_20190816/sw/fastq_runid_3af76ac4a3c3302724a333ac8c108c258c9ceb0d_17_1.tsv\n",
      "[13:49:03 - __main__] Starting fastq (70 of 315)\n",
      "\t/path/to/data/MinION_sequencing_data_20190815/guppy_3.2.2_08_15_2019_run_03_exec_20190816/pass/fastq_runid_3af76ac4a3c3302724a333ac8c108c258c9ceb0d_17_2.fastq\n"
     ]
    },
    {
     "name": "stdout",
     "output_type": "stream",
     "text": [
      "[########################################] | 100% Completed | 55.7s\n"
     ]
    },
    {
     "name": "stderr",
     "output_type": "stream",
     "text": [
      "[13:49:59 - __main__] Saving to file: /path/to/data/MinION_sequencing_data_20190815/guppy_3.2.2_08_15_2019_run_03_exec_20190816/sw/fastq_runid_3af76ac4a3c3302724a333ac8c108c258c9ceb0d_17_2.tsv\n",
      "[13:49:59 - __main__] Starting fastq (71 of 315)\n",
      "\t/path/to/data/MinION_sequencing_data_20190815/guppy_3.2.2_08_15_2019_run_03_exec_20190816/pass/fastq_runid_3af76ac4a3c3302724a333ac8c108c258c9ceb0d_17_3.fastq\n"
     ]
    },
    {
     "name": "stdout",
     "output_type": "stream",
     "text": [
      "[########################################] | 100% Completed |  1min 11.8s\n"
     ]
    },
    {
     "name": "stderr",
     "output_type": "stream",
     "text": [
      "[13:51:11 - __main__] Saving to file: /path/to/data/MinION_sequencing_data_20190815/guppy_3.2.2_08_15_2019_run_03_exec_20190816/sw/fastq_runid_3af76ac4a3c3302724a333ac8c108c258c9ceb0d_17_3.tsv\n",
      "[13:51:11 - __main__] Starting fastq (72 of 315)\n",
      "\t/path/to/data/MinION_sequencing_data_20190815/guppy_3.2.2_08_15_2019_run_03_exec_20190816/pass/fastq_runid_3af76ac4a3c3302724a333ac8c108c258c9ceb0d_18_0.fastq\n"
     ]
    },
    {
     "name": "stdout",
     "output_type": "stream",
     "text": [
      "[########################################] | 100% Completed |  1min  9.9s\n"
     ]
    },
    {
     "name": "stderr",
     "output_type": "stream",
     "text": [
      "[13:52:21 - __main__] Saving to file: /path/to/data/MinION_sequencing_data_20190815/guppy_3.2.2_08_15_2019_run_03_exec_20190816/sw/fastq_runid_3af76ac4a3c3302724a333ac8c108c258c9ceb0d_18_0.tsv\n",
      "[13:52:21 - __main__] Starting fastq (73 of 315)\n",
      "\t/path/to/data/MinION_sequencing_data_20190815/guppy_3.2.2_08_15_2019_run_03_exec_20190816/pass/fastq_runid_3af76ac4a3c3302724a333ac8c108c258c9ceb0d_18_1.fastq\n"
     ]
    },
    {
     "name": "stdout",
     "output_type": "stream",
     "text": [
      "[########################################] | 100% Completed | 51.1s\n"
     ]
    },
    {
     "name": "stderr",
     "output_type": "stream",
     "text": [
      "[13:53:13 - __main__] Saving to file: /path/to/data/MinION_sequencing_data_20190815/guppy_3.2.2_08_15_2019_run_03_exec_20190816/sw/fastq_runid_3af76ac4a3c3302724a333ac8c108c258c9ceb0d_18_1.tsv\n",
      "[13:53:13 - __main__] Starting fastq (74 of 315)\n",
      "\t/path/to/data/MinION_sequencing_data_20190815/guppy_3.2.2_08_15_2019_run_03_exec_20190816/pass/fastq_runid_3af76ac4a3c3302724a333ac8c108c258c9ceb0d_18_2.fastq\n"
     ]
    },
    {
     "name": "stdout",
     "output_type": "stream",
     "text": [
      "[########################################] | 100% Completed | 44.2s\n"
     ]
    },
    {
     "name": "stderr",
     "output_type": "stream",
     "text": [
      "[13:53:57 - __main__] Saving to file: /path/to/data/MinION_sequencing_data_20190815/guppy_3.2.2_08_15_2019_run_03_exec_20190816/sw/fastq_runid_3af76ac4a3c3302724a333ac8c108c258c9ceb0d_18_2.tsv\n",
      "[13:53:57 - __main__] Starting fastq (75 of 315)\n",
      "\t/path/to/data/MinION_sequencing_data_20190815/guppy_3.2.2_08_15_2019_run_03_exec_20190816/pass/fastq_runid_3af76ac4a3c3302724a333ac8c108c258c9ceb0d_18_3.fastq\n"
     ]
    },
    {
     "name": "stdout",
     "output_type": "stream",
     "text": [
      "[########################################] | 100% Completed |  1min 17.1s\n"
     ]
    },
    {
     "name": "stderr",
     "output_type": "stream",
     "text": [
      "[13:55:15 - __main__] Saving to file: /path/to/data/MinION_sequencing_data_20190815/guppy_3.2.2_08_15_2019_run_03_exec_20190816/sw/fastq_runid_3af76ac4a3c3302724a333ac8c108c258c9ceb0d_18_3.tsv\n",
      "[13:55:15 - __main__] Starting fastq (76 of 315)\n",
      "\t/path/to/data/MinION_sequencing_data_20190815/guppy_3.2.2_08_15_2019_run_03_exec_20190816/pass/fastq_runid_3af76ac4a3c3302724a333ac8c108c258c9ceb0d_19_0.fastq\n"
     ]
    },
    {
     "name": "stdout",
     "output_type": "stream",
     "text": [
      "[########################################] | 100% Completed |  1min 17.0s\n"
     ]
    },
    {
     "name": "stderr",
     "output_type": "stream",
     "text": [
      "[13:56:32 - __main__] Saving to file: /path/to/data/MinION_sequencing_data_20190815/guppy_3.2.2_08_15_2019_run_03_exec_20190816/sw/fastq_runid_3af76ac4a3c3302724a333ac8c108c258c9ceb0d_19_0.tsv\n",
      "[13:56:32 - __main__] Starting fastq (77 of 315)\n",
      "\t/path/to/data/MinION_sequencing_data_20190815/guppy_3.2.2_08_15_2019_run_03_exec_20190816/pass/fastq_runid_3af76ac4a3c3302724a333ac8c108c258c9ceb0d_19_1.fastq\n"
     ]
    },
    {
     "name": "stdout",
     "output_type": "stream",
     "text": [
      "[########################################] | 100% Completed |  1min 16.7s\n"
     ]
    },
    {
     "name": "stderr",
     "output_type": "stream",
     "text": [
      "[13:57:49 - __main__] Saving to file: /path/to/data/MinION_sequencing_data_20190815/guppy_3.2.2_08_15_2019_run_03_exec_20190816/sw/fastq_runid_3af76ac4a3c3302724a333ac8c108c258c9ceb0d_19_1.tsv\n",
      "[13:57:49 - __main__] Starting fastq (78 of 315)\n",
      "\t/path/to/data/MinION_sequencing_data_20190815/guppy_3.2.2_08_15_2019_run_03_exec_20190816/pass/fastq_runid_3af76ac4a3c3302724a333ac8c108c258c9ceb0d_19_2.fastq\n"
     ]
    },
    {
     "name": "stdout",
     "output_type": "stream",
     "text": [
      "[########################################] | 100% Completed |  1min 26.9s\n"
     ]
    },
    {
     "name": "stderr",
     "output_type": "stream",
     "text": [
      "[13:59:17 - __main__] Saving to file: /path/to/data/MinION_sequencing_data_20190815/guppy_3.2.2_08_15_2019_run_03_exec_20190816/sw/fastq_runid_3af76ac4a3c3302724a333ac8c108c258c9ceb0d_19_2.tsv\n",
      "[13:59:17 - __main__] Starting fastq (79 of 315)\n",
      "\t/path/to/data/MinION_sequencing_data_20190815/guppy_3.2.2_08_15_2019_run_03_exec_20190816/pass/fastq_runid_3af76ac4a3c3302724a333ac8c108c258c9ceb0d_19_3.fastq\n"
     ]
    },
    {
     "name": "stdout",
     "output_type": "stream",
     "text": [
      "[########################################] | 100% Completed | 16.3s\n"
     ]
    },
    {
     "name": "stderr",
     "output_type": "stream",
     "text": [
      "[13:59:33 - __main__] Saving to file: /path/to/data/MinION_sequencing_data_20190815/guppy_3.2.2_08_15_2019_run_03_exec_20190816/sw/fastq_runid_3af76ac4a3c3302724a333ac8c108c258c9ceb0d_19_3.tsv\n",
      "[13:59:33 - __main__] Starting fastq (80 of 315)\n",
      "\t/path/to/data/MinION_sequencing_data_20190815/guppy_3.2.2_08_15_2019_run_03_exec_20190816/pass/fastq_runid_3af76ac4a3c3302724a333ac8c108c258c9ceb0d_20_0.fastq\n"
     ]
    },
    {
     "name": "stdout",
     "output_type": "stream",
     "text": [
      "[########################################] | 100% Completed |  1min 31.8s\n"
     ]
    },
    {
     "name": "stderr",
     "output_type": "stream",
     "text": [
      "[14:01:05 - __main__] Saving to file: /path/to/data/MinION_sequencing_data_20190815/guppy_3.2.2_08_15_2019_run_03_exec_20190816/sw/fastq_runid_3af76ac4a3c3302724a333ac8c108c258c9ceb0d_20_0.tsv\n",
      "[14:01:06 - __main__] Starting fastq (81 of 315)\n",
      "\t/path/to/data/MinION_sequencing_data_20190815/guppy_3.2.2_08_15_2019_run_03_exec_20190816/pass/fastq_runid_3af76ac4a3c3302724a333ac8c108c258c9ceb0d_20_1.fastq\n"
     ]
    },
    {
     "name": "stdout",
     "output_type": "stream",
     "text": [
      "[########################################] | 100% Completed | 51.8s\n"
     ]
    },
    {
     "name": "stderr",
     "output_type": "stream",
     "text": [
      "[14:01:58 - __main__] Saving to file: /path/to/data/MinION_sequencing_data_20190815/guppy_3.2.2_08_15_2019_run_03_exec_20190816/sw/fastq_runid_3af76ac4a3c3302724a333ac8c108c258c9ceb0d_20_1.tsv\n",
      "[14:01:58 - __main__] Starting fastq (82 of 315)\n",
      "\t/path/to/data/MinION_sequencing_data_20190815/guppy_3.2.2_08_15_2019_run_03_exec_20190816/pass/fastq_runid_3af76ac4a3c3302724a333ac8c108c258c9ceb0d_20_2.fastq\n"
     ]
    },
    {
     "name": "stdout",
     "output_type": "stream",
     "text": [
      "[########################################] | 100% Completed | 43.8s\n"
     ]
    },
    {
     "name": "stderr",
     "output_type": "stream",
     "text": [
      "[14:02:42 - __main__] Saving to file: /path/to/data/MinION_sequencing_data_20190815/guppy_3.2.2_08_15_2019_run_03_exec_20190816/sw/fastq_runid_3af76ac4a3c3302724a333ac8c108c258c9ceb0d_20_2.tsv\n",
      "[14:02:42 - __main__] Starting fastq (83 of 315)\n",
      "\t/path/to/data/MinION_sequencing_data_20190815/guppy_3.2.2_08_15_2019_run_03_exec_20190816/pass/fastq_runid_3af76ac4a3c3302724a333ac8c108c258c9ceb0d_20_3.fastq\n"
     ]
    },
    {
     "name": "stdout",
     "output_type": "stream",
     "text": [
      "[########################################] | 100% Completed | 57.5s\n"
     ]
    },
    {
     "name": "stderr",
     "output_type": "stream",
     "text": [
      "[14:03:40 - __main__] Saving to file: /path/to/data/MinION_sequencing_data_20190815/guppy_3.2.2_08_15_2019_run_03_exec_20190816/sw/fastq_runid_3af76ac4a3c3302724a333ac8c108c258c9ceb0d_20_3.tsv\n",
      "[14:03:40 - __main__] Starting fastq (84 of 315)\n",
      "\t/path/to/data/MinION_sequencing_data_20190815/guppy_3.2.2_08_15_2019_run_03_exec_20190816/pass/fastq_runid_3af76ac4a3c3302724a333ac8c108c258c9ceb0d_21_0.fastq\n"
     ]
    },
    {
     "name": "stdout",
     "output_type": "stream",
     "text": [
      "[########################################] | 100% Completed |  1min 21.0s\n"
     ]
    },
    {
     "name": "stderr",
     "output_type": "stream",
     "text": [
      "[14:05:01 - __main__] Saving to file: /path/to/data/MinION_sequencing_data_20190815/guppy_3.2.2_08_15_2019_run_03_exec_20190816/sw/fastq_runid_3af76ac4a3c3302724a333ac8c108c258c9ceb0d_21_0.tsv\n",
      "[14:05:01 - __main__] Starting fastq (85 of 315)\n",
      "\t/path/to/data/MinION_sequencing_data_20190815/guppy_3.2.2_08_15_2019_run_03_exec_20190816/pass/fastq_runid_3af76ac4a3c3302724a333ac8c108c258c9ceb0d_21_1.fastq\n"
     ]
    },
    {
     "name": "stdout",
     "output_type": "stream",
     "text": [
      "[########################################] | 100% Completed |  1min 12.8s\n"
     ]
    },
    {
     "name": "stderr",
     "output_type": "stream",
     "text": [
      "[14:06:14 - __main__] Saving to file: /path/to/data/MinION_sequencing_data_20190815/guppy_3.2.2_08_15_2019_run_03_exec_20190816/sw/fastq_runid_3af76ac4a3c3302724a333ac8c108c258c9ceb0d_21_1.tsv\n",
      "[14:06:15 - __main__] Starting fastq (86 of 315)\n",
      "\t/path/to/data/MinION_sequencing_data_20190815/guppy_3.2.2_08_15_2019_run_03_exec_20190816/pass/fastq_runid_3af76ac4a3c3302724a333ac8c108c258c9ceb0d_21_2.fastq\n"
     ]
    },
    {
     "name": "stdout",
     "output_type": "stream",
     "text": [
      "[########################################] | 100% Completed | 45.1s\n"
     ]
    },
    {
     "name": "stderr",
     "output_type": "stream",
     "text": [
      "[14:07:00 - __main__] Saving to file: /path/to/data/MinION_sequencing_data_20190815/guppy_3.2.2_08_15_2019_run_03_exec_20190816/sw/fastq_runid_3af76ac4a3c3302724a333ac8c108c258c9ceb0d_21_2.tsv\n",
      "[14:07:00 - __main__] Starting fastq (87 of 315)\n",
      "\t/path/to/data/MinION_sequencing_data_20190815/guppy_3.2.2_08_15_2019_run_03_exec_20190816/pass/fastq_runid_3af76ac4a3c3302724a333ac8c108c258c9ceb0d_21_3.fastq\n"
     ]
    },
    {
     "name": "stdout",
     "output_type": "stream",
     "text": [
      "[########################################] | 100% Completed | 44.6s\n"
     ]
    },
    {
     "name": "stderr",
     "output_type": "stream",
     "text": [
      "[14:07:45 - __main__] Saving to file: /path/to/data/MinION_sequencing_data_20190815/guppy_3.2.2_08_15_2019_run_03_exec_20190816/sw/fastq_runid_3af76ac4a3c3302724a333ac8c108c258c9ceb0d_21_3.tsv\n",
      "[14:07:45 - __main__] Starting fastq (88 of 315)\n",
      "\t/path/to/data/MinION_sequencing_data_20190815/guppy_3.2.2_08_15_2019_run_03_exec_20190816/pass/fastq_runid_3af76ac4a3c3302724a333ac8c108c258c9ceb0d_22_0.fastq\n"
     ]
    },
    {
     "name": "stdout",
     "output_type": "stream",
     "text": [
      "[########################################] | 100% Completed | 41.6s\n"
     ]
    },
    {
     "name": "stderr",
     "output_type": "stream",
     "text": [
      "[14:08:27 - __main__] Saving to file: /path/to/data/MinION_sequencing_data_20190815/guppy_3.2.2_08_15_2019_run_03_exec_20190816/sw/fastq_runid_3af76ac4a3c3302724a333ac8c108c258c9ceb0d_22_0.tsv\n",
      "[14:08:27 - __main__] Starting fastq (89 of 315)\n",
      "\t/path/to/data/MinION_sequencing_data_20190815/guppy_3.2.2_08_15_2019_run_03_exec_20190816/pass/fastq_runid_3af76ac4a3c3302724a333ac8c108c258c9ceb0d_22_1.fastq\n"
     ]
    },
    {
     "name": "stdout",
     "output_type": "stream",
     "text": [
      "[########################################] | 100% Completed |  1min 36.0s\n"
     ]
    },
    {
     "name": "stderr",
     "output_type": "stream",
     "text": [
      "[14:10:04 - __main__] Saving to file: /path/to/data/MinION_sequencing_data_20190815/guppy_3.2.2_08_15_2019_run_03_exec_20190816/sw/fastq_runid_3af76ac4a3c3302724a333ac8c108c258c9ceb0d_22_1.tsv\n",
      "[14:10:04 - __main__] Starting fastq (90 of 315)\n",
      "\t/path/to/data/MinION_sequencing_data_20190815/guppy_3.2.2_08_15_2019_run_03_exec_20190816/pass/fastq_runid_3af76ac4a3c3302724a333ac8c108c258c9ceb0d_22_2.fastq\n"
     ]
    },
    {
     "name": "stdout",
     "output_type": "stream",
     "text": [
      "[########################################] | 100% Completed | 55.9s\n"
     ]
    },
    {
     "name": "stderr",
     "output_type": "stream",
     "text": [
      "[14:11:00 - __main__] Saving to file: /path/to/data/MinION_sequencing_data_20190815/guppy_3.2.2_08_15_2019_run_03_exec_20190816/sw/fastq_runid_3af76ac4a3c3302724a333ac8c108c258c9ceb0d_22_2.tsv\n",
      "[14:11:00 - __main__] Starting fastq (91 of 315)\n",
      "\t/path/to/data/MinION_sequencing_data_20190815/guppy_3.2.2_08_15_2019_run_03_exec_20190816/pass/fastq_runid_3af76ac4a3c3302724a333ac8c108c258c9ceb0d_22_3.fastq\n"
     ]
    },
    {
     "name": "stdout",
     "output_type": "stream",
     "text": [
      "[########################################] | 100% Completed | 58.2s\n"
     ]
    },
    {
     "name": "stderr",
     "output_type": "stream",
     "text": [
      "[14:11:59 - __main__] Saving to file: /path/to/data/MinION_sequencing_data_20190815/guppy_3.2.2_08_15_2019_run_03_exec_20190816/sw/fastq_runid_3af76ac4a3c3302724a333ac8c108c258c9ceb0d_22_3.tsv\n",
      "[14:11:59 - __main__] Starting fastq (92 of 315)\n",
      "\t/path/to/data/MinION_sequencing_data_20190815/guppy_3.2.2_08_15_2019_run_03_exec_20190816/pass/fastq_runid_3af76ac4a3c3302724a333ac8c108c258c9ceb0d_23_0.fastq\n"
     ]
    },
    {
     "name": "stdout",
     "output_type": "stream",
     "text": [
      "[########################################] | 100% Completed | 41.1s\n"
     ]
    },
    {
     "name": "stderr",
     "output_type": "stream",
     "text": [
      "[14:12:40 - __main__] Saving to file: /path/to/data/MinION_sequencing_data_20190815/guppy_3.2.2_08_15_2019_run_03_exec_20190816/sw/fastq_runid_3af76ac4a3c3302724a333ac8c108c258c9ceb0d_23_0.tsv\n",
      "[14:12:40 - __main__] Starting fastq (93 of 315)\n",
      "\t/path/to/data/MinION_sequencing_data_20190815/guppy_3.2.2_08_15_2019_run_03_exec_20190816/pass/fastq_runid_3af76ac4a3c3302724a333ac8c108c258c9ceb0d_23_1.fastq\n"
     ]
    },
    {
     "name": "stdout",
     "output_type": "stream",
     "text": [
      "[########################################] | 100% Completed |  1min 22.3s\n"
     ]
    },
    {
     "name": "stderr",
     "output_type": "stream",
     "text": [
      "[14:14:03 - __main__] Saving to file: /path/to/data/MinION_sequencing_data_20190815/guppy_3.2.2_08_15_2019_run_03_exec_20190816/sw/fastq_runid_3af76ac4a3c3302724a333ac8c108c258c9ceb0d_23_1.tsv\n",
      "[14:14:03 - __main__] Starting fastq (94 of 315)\n",
      "\t/path/to/data/MinION_sequencing_data_20190815/guppy_3.2.2_08_15_2019_run_03_exec_20190816/pass/fastq_runid_3af76ac4a3c3302724a333ac8c108c258c9ceb0d_23_2.fastq\n"
     ]
    },
    {
     "name": "stdout",
     "output_type": "stream",
     "text": [
      "[########################################] | 100% Completed |  1min 27.4s\n"
     ]
    },
    {
     "name": "stderr",
     "output_type": "stream",
     "text": [
      "[14:15:31 - __main__] Saving to file: /path/to/data/MinION_sequencing_data_20190815/guppy_3.2.2_08_15_2019_run_03_exec_20190816/sw/fastq_runid_3af76ac4a3c3302724a333ac8c108c258c9ceb0d_23_2.tsv\n",
      "[14:15:31 - __main__] Starting fastq (95 of 315)\n",
      "\t/path/to/data/MinION_sequencing_data_20190815/guppy_3.2.2_08_15_2019_run_03_exec_20190816/pass/fastq_runid_3af76ac4a3c3302724a333ac8c108c258c9ceb0d_23_3.fastq\n"
     ]
    },
    {
     "name": "stdout",
     "output_type": "stream",
     "text": [
      "[########################################] | 100% Completed | 46.5s\n"
     ]
    },
    {
     "name": "stderr",
     "output_type": "stream",
     "text": [
      "[14:16:18 - __main__] Saving to file: /path/to/data/MinION_sequencing_data_20190815/guppy_3.2.2_08_15_2019_run_03_exec_20190816/sw/fastq_runid_3af76ac4a3c3302724a333ac8c108c258c9ceb0d_23_3.tsv\n",
      "[14:16:18 - __main__] Starting fastq (96 of 315)\n",
      "\t/path/to/data/MinION_sequencing_data_20190815/guppy_3.2.2_08_15_2019_run_03_exec_20190816/pass/fastq_runid_3af76ac4a3c3302724a333ac8c108c258c9ceb0d_24_0.fastq\n"
     ]
    },
    {
     "name": "stdout",
     "output_type": "stream",
     "text": [
      "[########################################] | 100% Completed | 45.8s\n"
     ]
    },
    {
     "name": "stderr",
     "output_type": "stream",
     "text": [
      "[14:17:04 - __main__] Saving to file: /path/to/data/MinION_sequencing_data_20190815/guppy_3.2.2_08_15_2019_run_03_exec_20190816/sw/fastq_runid_3af76ac4a3c3302724a333ac8c108c258c9ceb0d_24_0.tsv\n",
      "[14:17:04 - __main__] Starting fastq (97 of 315)\n",
      "\t/path/to/data/MinION_sequencing_data_20190815/guppy_3.2.2_08_15_2019_run_03_exec_20190816/pass/fastq_runid_3af76ac4a3c3302724a333ac8c108c258c9ceb0d_24_1.fastq\n"
     ]
    },
    {
     "name": "stdout",
     "output_type": "stream",
     "text": [
      "[########################################] | 100% Completed |  1min 25.2s\n"
     ]
    },
    {
     "name": "stderr",
     "output_type": "stream",
     "text": [
      "[14:18:30 - __main__] Saving to file: /path/to/data/MinION_sequencing_data_20190815/guppy_3.2.2_08_15_2019_run_03_exec_20190816/sw/fastq_runid_3af76ac4a3c3302724a333ac8c108c258c9ceb0d_24_1.tsv\n",
      "[14:18:30 - __main__] Starting fastq (98 of 315)\n",
      "\t/path/to/data/MinION_sequencing_data_20190815/guppy_3.2.2_08_15_2019_run_03_exec_20190816/pass/fastq_runid_3af76ac4a3c3302724a333ac8c108c258c9ceb0d_24_2.fastq\n"
     ]
    },
    {
     "name": "stdout",
     "output_type": "stream",
     "text": [
      "[########################################] | 100% Completed | 41.4s\n"
     ]
    },
    {
     "name": "stderr",
     "output_type": "stream",
     "text": [
      "[14:19:11 - __main__] Saving to file: /path/to/data/MinION_sequencing_data_20190815/guppy_3.2.2_08_15_2019_run_03_exec_20190816/sw/fastq_runid_3af76ac4a3c3302724a333ac8c108c258c9ceb0d_24_2.tsv\n",
      "[14:19:12 - __main__] Starting fastq (99 of 315)\n",
      "\t/path/to/data/MinION_sequencing_data_20190815/guppy_3.2.2_08_15_2019_run_03_exec_20190816/pass/fastq_runid_3af76ac4a3c3302724a333ac8c108c258c9ceb0d_24_3.fastq\n"
     ]
    },
    {
     "name": "stdout",
     "output_type": "stream",
     "text": [
      "[########################################] | 100% Completed |  1min 21.1s\n"
     ]
    },
    {
     "name": "stderr",
     "output_type": "stream",
     "text": [
      "[14:20:33 - __main__] Saving to file: /path/to/data/MinION_sequencing_data_20190815/guppy_3.2.2_08_15_2019_run_03_exec_20190816/sw/fastq_runid_3af76ac4a3c3302724a333ac8c108c258c9ceb0d_24_3.tsv\n",
      "[14:20:33 - __main__] Starting fastq (100 of 315)\n",
      "\t/path/to/data/MinION_sequencing_data_20190815/guppy_3.2.2_08_15_2019_run_03_exec_20190816/pass/fastq_runid_3af76ac4a3c3302724a333ac8c108c258c9ceb0d_25_0.fastq\n"
     ]
    },
    {
     "name": "stdout",
     "output_type": "stream",
     "text": [
      "[########################################] | 100% Completed |  1min 38.6s\n"
     ]
    },
    {
     "name": "stderr",
     "output_type": "stream",
     "text": [
      "[14:22:12 - __main__] Saving to file: /path/to/data/MinION_sequencing_data_20190815/guppy_3.2.2_08_15_2019_run_03_exec_20190816/sw/fastq_runid_3af76ac4a3c3302724a333ac8c108c258c9ceb0d_25_0.tsv\n",
      "[14:22:12 - __main__] Starting fastq (101 of 315)\n",
      "\t/path/to/data/MinION_sequencing_data_20190815/guppy_3.2.2_08_15_2019_run_03_exec_20190816/pass/fastq_runid_3af76ac4a3c3302724a333ac8c108c258c9ceb0d_25_1.fastq\n"
     ]
    },
    {
     "name": "stdout",
     "output_type": "stream",
     "text": [
      "[########################################] | 100% Completed | 53.2s\n"
     ]
    },
    {
     "name": "stderr",
     "output_type": "stream",
     "text": [
      "[14:23:06 - __main__] Saving to file: /path/to/data/MinION_sequencing_data_20190815/guppy_3.2.2_08_15_2019_run_03_exec_20190816/sw/fastq_runid_3af76ac4a3c3302724a333ac8c108c258c9ceb0d_25_1.tsv\n",
      "[14:23:06 - __main__] Starting fastq (102 of 315)\n",
      "\t/path/to/data/MinION_sequencing_data_20190815/guppy_3.2.2_08_15_2019_run_03_exec_20190816/pass/fastq_runid_3af76ac4a3c3302724a333ac8c108c258c9ceb0d_25_2.fastq\n"
     ]
    },
    {
     "name": "stdout",
     "output_type": "stream",
     "text": [
      "[########################################] | 100% Completed | 29.0s\n"
     ]
    },
    {
     "name": "stderr",
     "output_type": "stream",
     "text": [
      "[14:23:35 - __main__] Saving to file: /path/to/data/MinION_sequencing_data_20190815/guppy_3.2.2_08_15_2019_run_03_exec_20190816/sw/fastq_runid_3af76ac4a3c3302724a333ac8c108c258c9ceb0d_25_2.tsv\n",
      "[14:23:35 - __main__] Starting fastq (103 of 315)\n",
      "\t/path/to/data/MinION_sequencing_data_20190815/guppy_3.2.2_08_15_2019_run_03_exec_20190816/pass/fastq_runid_3af76ac4a3c3302724a333ac8c108c258c9ceb0d_25_3.fastq\n"
     ]
    },
    {
     "name": "stdout",
     "output_type": "stream",
     "text": [
      "[########################################] | 100% Completed | 56.6s\n"
     ]
    },
    {
     "name": "stderr",
     "output_type": "stream",
     "text": [
      "[14:24:32 - __main__] Saving to file: /path/to/data/MinION_sequencing_data_20190815/guppy_3.2.2_08_15_2019_run_03_exec_20190816/sw/fastq_runid_3af76ac4a3c3302724a333ac8c108c258c9ceb0d_25_3.tsv\n",
      "[14:24:32 - __main__] Starting fastq (104 of 315)\n",
      "\t/path/to/data/MinION_sequencing_data_20190815/guppy_3.2.2_08_15_2019_run_03_exec_20190816/pass/fastq_runid_3af76ac4a3c3302724a333ac8c108c258c9ceb0d_26_0.fastq\n"
     ]
    },
    {
     "name": "stdout",
     "output_type": "stream",
     "text": [
      "[########################################] | 100% Completed | 51.2s\n"
     ]
    },
    {
     "name": "stderr",
     "output_type": "stream",
     "text": [
      "[14:25:24 - __main__] Saving to file: /path/to/data/MinION_sequencing_data_20190815/guppy_3.2.2_08_15_2019_run_03_exec_20190816/sw/fastq_runid_3af76ac4a3c3302724a333ac8c108c258c9ceb0d_26_0.tsv\n",
      "[14:25:24 - __main__] Starting fastq (105 of 315)\n",
      "\t/path/to/data/MinION_sequencing_data_20190815/guppy_3.2.2_08_15_2019_run_03_exec_20190816/pass/fastq_runid_3af76ac4a3c3302724a333ac8c108c258c9ceb0d_26_1.fastq\n"
     ]
    },
    {
     "name": "stdout",
     "output_type": "stream",
     "text": [
      "[########################################] | 100% Completed |  1min 32.8s\n"
     ]
    },
    {
     "name": "stderr",
     "output_type": "stream",
     "text": [
      "[14:26:57 - __main__] Saving to file: /path/to/data/MinION_sequencing_data_20190815/guppy_3.2.2_08_15_2019_run_03_exec_20190816/sw/fastq_runid_3af76ac4a3c3302724a333ac8c108c258c9ceb0d_26_1.tsv\n",
      "[14:26:57 - __main__] Starting fastq (106 of 315)\n",
      "\t/path/to/data/MinION_sequencing_data_20190815/guppy_3.2.2_08_15_2019_run_03_exec_20190816/pass/fastq_runid_3af76ac4a3c3302724a333ac8c108c258c9ceb0d_26_2.fastq\n"
     ]
    },
    {
     "name": "stdout",
     "output_type": "stream",
     "text": [
      "[########################################] | 100% Completed |  1min 10.6s\n"
     ]
    },
    {
     "name": "stderr",
     "output_type": "stream",
     "text": [
      "[14:28:08 - __main__] Saving to file: /path/to/data/MinION_sequencing_data_20190815/guppy_3.2.2_08_15_2019_run_03_exec_20190816/sw/fastq_runid_3af76ac4a3c3302724a333ac8c108c258c9ceb0d_26_2.tsv\n",
      "[14:28:08 - __main__] Starting fastq (107 of 315)\n",
      "\t/path/to/data/MinION_sequencing_data_20190815/guppy_3.2.2_08_15_2019_run_03_exec_20190816/pass/fastq_runid_3af76ac4a3c3302724a333ac8c108c258c9ceb0d_26_3.fastq\n"
     ]
    },
    {
     "name": "stdout",
     "output_type": "stream",
     "text": [
      "[########################################] | 100% Completed | 38.1s\n"
     ]
    },
    {
     "name": "stderr",
     "output_type": "stream",
     "text": [
      "[14:28:47 - __main__] Saving to file: /path/to/data/MinION_sequencing_data_20190815/guppy_3.2.2_08_15_2019_run_03_exec_20190816/sw/fastq_runid_3af76ac4a3c3302724a333ac8c108c258c9ceb0d_26_3.tsv\n",
      "[14:28:47 - __main__] Starting fastq (108 of 315)\n",
      "\t/path/to/data/MinION_sequencing_data_20190815/guppy_3.2.2_08_15_2019_run_03_exec_20190816/pass/fastq_runid_3af76ac4a3c3302724a333ac8c108c258c9ceb0d_27_0.fastq\n"
     ]
    },
    {
     "name": "stdout",
     "output_type": "stream",
     "text": [
      "[########################################] | 100% Completed |  2min 17.9s\n"
     ]
    },
    {
     "name": "stderr",
     "output_type": "stream",
     "text": [
      "[14:31:05 - __main__] Saving to file: /path/to/data/MinION_sequencing_data_20190815/guppy_3.2.2_08_15_2019_run_03_exec_20190816/sw/fastq_runid_3af76ac4a3c3302724a333ac8c108c258c9ceb0d_27_0.tsv\n",
      "[14:31:05 - __main__] Starting fastq (109 of 315)\n",
      "\t/path/to/data/MinION_sequencing_data_20190815/guppy_3.2.2_08_15_2019_run_03_exec_20190816/pass/fastq_runid_3af76ac4a3c3302724a333ac8c108c258c9ceb0d_27_1.fastq\n"
     ]
    },
    {
     "name": "stdout",
     "output_type": "stream",
     "text": [
      "[########################################] | 100% Completed | 44.3s\n"
     ]
    },
    {
     "name": "stderr",
     "output_type": "stream",
     "text": [
      "[14:31:50 - __main__] Saving to file: /path/to/data/MinION_sequencing_data_20190815/guppy_3.2.2_08_15_2019_run_03_exec_20190816/sw/fastq_runid_3af76ac4a3c3302724a333ac8c108c258c9ceb0d_27_1.tsv\n",
      "[14:31:50 - __main__] Starting fastq (110 of 315)\n",
      "\t/path/to/data/MinION_sequencing_data_20190815/guppy_3.2.2_08_15_2019_run_03_exec_20190816/pass/fastq_runid_3af76ac4a3c3302724a333ac8c108c258c9ceb0d_27_2.fastq\n"
     ]
    },
    {
     "name": "stdout",
     "output_type": "stream",
     "text": [
      "[########################################] | 100% Completed |  1min  2.8s\n"
     ]
    },
    {
     "name": "stderr",
     "output_type": "stream",
     "text": [
      "[14:32:53 - __main__] Saving to file: /path/to/data/MinION_sequencing_data_20190815/guppy_3.2.2_08_15_2019_run_03_exec_20190816/sw/fastq_runid_3af76ac4a3c3302724a333ac8c108c258c9ceb0d_27_2.tsv\n",
      "[14:32:54 - __main__] Starting fastq (111 of 315)\n",
      "\t/path/to/data/MinION_sequencing_data_20190815/guppy_3.2.2_08_15_2019_run_03_exec_20190816/pass/fastq_runid_3af76ac4a3c3302724a333ac8c108c258c9ceb0d_27_3.fastq\n"
     ]
    },
    {
     "name": "stdout",
     "output_type": "stream",
     "text": [
      "[########################################] | 100% Completed |  2.9s\n"
     ]
    },
    {
     "name": "stderr",
     "output_type": "stream",
     "text": [
      "[14:32:57 - __main__] Saving to file: /path/to/data/MinION_sequencing_data_20190815/guppy_3.2.2_08_15_2019_run_03_exec_20190816/sw/fastq_runid_3af76ac4a3c3302724a333ac8c108c258c9ceb0d_27_3.tsv\n",
      "[14:32:57 - __main__] Starting fastq (112 of 315)\n",
      "\t/path/to/data/MinION_sequencing_data_20190815/guppy_3.2.2_08_15_2019_run_03_exec_20190816/pass/fastq_runid_3af76ac4a3c3302724a333ac8c108c258c9ceb0d_28_0.fastq\n"
     ]
    },
    {
     "name": "stdout",
     "output_type": "stream",
     "text": [
      "[########################################] | 100% Completed |  1min 27.4s\n"
     ]
    },
    {
     "name": "stderr",
     "output_type": "stream",
     "text": [
      "[14:34:24 - __main__] Saving to file: /path/to/data/MinION_sequencing_data_20190815/guppy_3.2.2_08_15_2019_run_03_exec_20190816/sw/fastq_runid_3af76ac4a3c3302724a333ac8c108c258c9ceb0d_28_0.tsv\n",
      "[14:34:25 - __main__] Starting fastq (113 of 315)\n",
      "\t/path/to/data/MinION_sequencing_data_20190815/guppy_3.2.2_08_15_2019_run_03_exec_20190816/pass/fastq_runid_3af76ac4a3c3302724a333ac8c108c258c9ceb0d_28_1.fastq\n"
     ]
    },
    {
     "name": "stdout",
     "output_type": "stream",
     "text": [
      "[########################################] | 100% Completed |  1min  5.2s\n"
     ]
    },
    {
     "name": "stderr",
     "output_type": "stream",
     "text": [
      "[14:35:30 - __main__] Saving to file: /path/to/data/MinION_sequencing_data_20190815/guppy_3.2.2_08_15_2019_run_03_exec_20190816/sw/fastq_runid_3af76ac4a3c3302724a333ac8c108c258c9ceb0d_28_1.tsv\n",
      "[14:35:30 - __main__] Starting fastq (114 of 315)\n",
      "\t/path/to/data/MinION_sequencing_data_20190815/guppy_3.2.2_08_15_2019_run_03_exec_20190816/pass/fastq_runid_3af76ac4a3c3302724a333ac8c108c258c9ceb0d_28_2.fastq\n"
     ]
    },
    {
     "name": "stdout",
     "output_type": "stream",
     "text": [
      "[########################################] | 100% Completed |  1min 12.1s\n"
     ]
    },
    {
     "name": "stderr",
     "output_type": "stream",
     "text": [
      "[14:36:43 - __main__] Saving to file: /path/to/data/MinION_sequencing_data_20190815/guppy_3.2.2_08_15_2019_run_03_exec_20190816/sw/fastq_runid_3af76ac4a3c3302724a333ac8c108c258c9ceb0d_28_2.tsv\n",
      "[14:36:43 - __main__] Starting fastq (115 of 315)\n",
      "\t/path/to/data/MinION_sequencing_data_20190815/guppy_3.2.2_08_15_2019_run_03_exec_20190816/pass/fastq_runid_3af76ac4a3c3302724a333ac8c108c258c9ceb0d_29_0.fastq\n"
     ]
    },
    {
     "name": "stdout",
     "output_type": "stream",
     "text": [
      "[########################################] | 100% Completed |  1min 28.0s\n"
     ]
    },
    {
     "name": "stderr",
     "output_type": "stream",
     "text": [
      "[14:38:11 - __main__] Saving to file: /path/to/data/MinION_sequencing_data_20190815/guppy_3.2.2_08_15_2019_run_03_exec_20190816/sw/fastq_runid_3af76ac4a3c3302724a333ac8c108c258c9ceb0d_29_0.tsv\n",
      "[14:38:11 - __main__] Starting fastq (116 of 315)\n",
      "\t/path/to/data/MinION_sequencing_data_20190815/guppy_3.2.2_08_15_2019_run_03_exec_20190816/pass/fastq_runid_3af76ac4a3c3302724a333ac8c108c258c9ceb0d_28_3.fastq\n"
     ]
    },
    {
     "name": "stdout",
     "output_type": "stream",
     "text": [
      "[########################################] | 100% Completed | 21.0s\n"
     ]
    },
    {
     "name": "stderr",
     "output_type": "stream",
     "text": [
      "[14:38:33 - __main__] Saving to file: /path/to/data/MinION_sequencing_data_20190815/guppy_3.2.2_08_15_2019_run_03_exec_20190816/sw/fastq_runid_3af76ac4a3c3302724a333ac8c108c258c9ceb0d_28_3.tsv\n",
      "[14:38:33 - __main__] Starting fastq (117 of 315)\n",
      "\t/path/to/data/MinION_sequencing_data_20190815/guppy_3.2.2_08_15_2019_run_03_exec_20190816/pass/fastq_runid_3af76ac4a3c3302724a333ac8c108c258c9ceb0d_29_1.fastq\n"
     ]
    },
    {
     "name": "stdout",
     "output_type": "stream",
     "text": [
      "[########################################] | 100% Completed | 54.4s\n"
     ]
    },
    {
     "name": "stderr",
     "output_type": "stream",
     "text": [
      "[14:39:28 - __main__] Saving to file: /path/to/data/MinION_sequencing_data_20190815/guppy_3.2.2_08_15_2019_run_03_exec_20190816/sw/fastq_runid_3af76ac4a3c3302724a333ac8c108c258c9ceb0d_29_1.tsv\n",
      "[14:39:28 - __main__] Starting fastq (118 of 315)\n",
      "\t/path/to/data/MinION_sequencing_data_20190815/guppy_3.2.2_08_15_2019_run_03_exec_20190816/pass/fastq_runid_3af76ac4a3c3302724a333ac8c108c258c9ceb0d_29_2.fastq\n"
     ]
    },
    {
     "name": "stdout",
     "output_type": "stream",
     "text": [
      "[########################################] | 100% Completed | 46.4s\n"
     ]
    },
    {
     "name": "stderr",
     "output_type": "stream",
     "text": [
      "[14:40:14 - __main__] Saving to file: /path/to/data/MinION_sequencing_data_20190815/guppy_3.2.2_08_15_2019_run_03_exec_20190816/sw/fastq_runid_3af76ac4a3c3302724a333ac8c108c258c9ceb0d_29_2.tsv\n",
      "[14:40:14 - __main__] Starting fastq (119 of 315)\n",
      "\t/path/to/data/MinION_sequencing_data_20190815/guppy_3.2.2_08_15_2019_run_03_exec_20190816/pass/fastq_runid_3af76ac4a3c3302724a333ac8c108c258c9ceb0d_29_3.fastq\n"
     ]
    },
    {
     "name": "stdout",
     "output_type": "stream",
     "text": [
      "[########################################] | 100% Completed |  1min 10.9s\n"
     ]
    },
    {
     "name": "stderr",
     "output_type": "stream",
     "text": [
      "[14:41:26 - __main__] Saving to file: /path/to/data/MinION_sequencing_data_20190815/guppy_3.2.2_08_15_2019_run_03_exec_20190816/sw/fastq_runid_3af76ac4a3c3302724a333ac8c108c258c9ceb0d_29_3.tsv\n",
      "[14:41:26 - __main__] Starting fastq (120 of 315)\n",
      "\t/path/to/data/MinION_sequencing_data_20190815/guppy_3.2.2_08_15_2019_run_03_exec_20190816/pass/fastq_runid_3af76ac4a3c3302724a333ac8c108c258c9ceb0d_30_0.fastq\n"
     ]
    },
    {
     "name": "stdout",
     "output_type": "stream",
     "text": [
      "[########################################] | 100% Completed |  1min  7.6s\n"
     ]
    },
    {
     "name": "stderr",
     "output_type": "stream",
     "text": [
      "[14:42:34 - __main__] Saving to file: /path/to/data/MinION_sequencing_data_20190815/guppy_3.2.2_08_15_2019_run_03_exec_20190816/sw/fastq_runid_3af76ac4a3c3302724a333ac8c108c258c9ceb0d_30_0.tsv\n",
      "[14:42:34 - __main__] Starting fastq (121 of 315)\n",
      "\t/path/to/data/MinION_sequencing_data_20190815/guppy_3.2.2_08_15_2019_run_03_exec_20190816/pass/fastq_runid_3af76ac4a3c3302724a333ac8c108c258c9ceb0d_30_1.fastq\n"
     ]
    },
    {
     "name": "stdout",
     "output_type": "stream",
     "text": [
      "[########################################] | 100% Completed | 33.4s\n"
     ]
    },
    {
     "name": "stderr",
     "output_type": "stream",
     "text": [
      "[14:43:08 - __main__] Saving to file: /path/to/data/MinION_sequencing_data_20190815/guppy_3.2.2_08_15_2019_run_03_exec_20190816/sw/fastq_runid_3af76ac4a3c3302724a333ac8c108c258c9ceb0d_30_1.tsv\n",
      "[14:43:08 - __main__] Starting fastq (122 of 315)\n",
      "\t/path/to/data/MinION_sequencing_data_20190815/guppy_3.2.2_08_15_2019_run_03_exec_20190816/pass/fastq_runid_3af76ac4a3c3302724a333ac8c108c258c9ceb0d_30_2.fastq\n"
     ]
    },
    {
     "name": "stdout",
     "output_type": "stream",
     "text": [
      "[########################################] | 100% Completed |  1min 45.6s\n"
     ]
    },
    {
     "name": "stderr",
     "output_type": "stream",
     "text": [
      "[14:44:54 - __main__] Saving to file: /path/to/data/MinION_sequencing_data_20190815/guppy_3.2.2_08_15_2019_run_03_exec_20190816/sw/fastq_runid_3af76ac4a3c3302724a333ac8c108c258c9ceb0d_30_2.tsv\n",
      "[14:44:54 - __main__] Starting fastq (123 of 315)\n",
      "\t/path/to/data/MinION_sequencing_data_20190815/guppy_3.2.2_08_15_2019_run_03_exec_20190816/pass/fastq_runid_3af76ac4a3c3302724a333ac8c108c258c9ceb0d_30_3.fastq\n"
     ]
    },
    {
     "name": "stdout",
     "output_type": "stream",
     "text": [
      "[########################################] | 100% Completed | 50.9s\n"
     ]
    },
    {
     "name": "stderr",
     "output_type": "stream",
     "text": [
      "[14:45:45 - __main__] Saving to file: /path/to/data/MinION_sequencing_data_20190815/guppy_3.2.2_08_15_2019_run_03_exec_20190816/sw/fastq_runid_3af76ac4a3c3302724a333ac8c108c258c9ceb0d_30_3.tsv\n",
      "[14:45:45 - __main__] Starting fastq (124 of 315)\n",
      "\t/path/to/data/MinION_sequencing_data_20190815/guppy_3.2.2_08_15_2019_run_03_exec_20190816/pass/fastq_runid_3af76ac4a3c3302724a333ac8c108c258c9ceb0d_31_0.fastq\n"
     ]
    },
    {
     "name": "stdout",
     "output_type": "stream",
     "text": [
      "[########################################] | 100% Completed |  1min 12.9s\n"
     ]
    },
    {
     "name": "stderr",
     "output_type": "stream",
     "text": [
      "[14:46:58 - __main__] Saving to file: /path/to/data/MinION_sequencing_data_20190815/guppy_3.2.2_08_15_2019_run_03_exec_20190816/sw/fastq_runid_3af76ac4a3c3302724a333ac8c108c258c9ceb0d_31_0.tsv\n",
      "[14:46:58 - __main__] Starting fastq (125 of 315)\n",
      "\t/path/to/data/MinION_sequencing_data_20190815/guppy_3.2.2_08_15_2019_run_03_exec_20190816/pass/fastq_runid_3af76ac4a3c3302724a333ac8c108c258c9ceb0d_31_1.fastq\n"
     ]
    },
    {
     "name": "stdout",
     "output_type": "stream",
     "text": [
      "[########################################] | 100% Completed |  1min 37.3s\n"
     ]
    },
    {
     "name": "stderr",
     "output_type": "stream",
     "text": [
      "[14:48:36 - __main__] Saving to file: /path/to/data/MinION_sequencing_data_20190815/guppy_3.2.2_08_15_2019_run_03_exec_20190816/sw/fastq_runid_3af76ac4a3c3302724a333ac8c108c258c9ceb0d_31_1.tsv\n",
      "[14:48:36 - __main__] Starting fastq (126 of 315)\n",
      "\t/path/to/data/MinION_sequencing_data_20190815/guppy_3.2.2_08_15_2019_run_03_exec_20190816/pass/fastq_runid_3af76ac4a3c3302724a333ac8c108c258c9ceb0d_31_2.fastq\n"
     ]
    },
    {
     "name": "stdout",
     "output_type": "stream",
     "text": [
      "[########################################] | 100% Completed |  1min  1.4s\n"
     ]
    },
    {
     "name": "stderr",
     "output_type": "stream",
     "text": [
      "[14:49:38 - __main__] Saving to file: /path/to/data/MinION_sequencing_data_20190815/guppy_3.2.2_08_15_2019_run_03_exec_20190816/sw/fastq_runid_3af76ac4a3c3302724a333ac8c108c258c9ceb0d_31_2.tsv\n",
      "[14:49:38 - __main__] Starting fastq (127 of 315)\n",
      "\t/path/to/data/MinION_sequencing_data_20190815/guppy_3.2.2_08_15_2019_run_03_exec_20190816/pass/fastq_runid_3af76ac4a3c3302724a333ac8c108c258c9ceb0d_31_3.fastq\n"
     ]
    },
    {
     "name": "stdout",
     "output_type": "stream",
     "text": [
      "[                                        ] | 0% Completed |  6.3s"
     ]
    }
   ],
   "source": [
    "run_sw(fastq_dir, sw_dir, search_len=80, cost_fn=cost_fn, molbit_fa=molbit_file, n_workers=40)"
   ]
  },
  {
   "cell_type": "code",
   "execution_count": 45,
   "metadata": {
    "ExecuteTime": {
     "end_time": "2019-08-17T00:41:56.810995Z",
     "start_time": "2019-08-17T00:41:51.916470Z"
    }
   },
   "outputs": [],
   "source": [
    "sw_list = []\n",
    "for fname in os.listdir(sw_dir):\n",
    "    if \"all\" in fname:\n",
    "        continue\n",
    "    sw_tsv = os.path.join(sw_dir, fname)\n",
    "    sw = pd.read_csv(sw_tsv, sep=\"\\t\", index_col=0)\n",
    "    sw_list.append(sw)\n",
    "sw = pd.concat(sw_list)\n",
    "del sw_list"
   ]
  },
  {
   "cell_type": "code",
   "execution_count": 46,
   "metadata": {
    "ExecuteTime": {
     "end_time": "2019-08-17T00:41:58.103521Z",
     "start_time": "2019-08-17T00:41:57.943952Z"
    }
   },
   "outputs": [],
   "source": [
    "sw_arr = np.array(sw)"
   ]
  },
  {
   "cell_type": "code",
   "execution_count": 47,
   "metadata": {
    "ExecuteTime": {
     "end_time": "2019-08-17T00:41:59.094760Z",
     "start_time": "2019-08-17T00:41:58.527357Z"
    }
   },
   "outputs": [],
   "source": [
    "max_sw = np.max(sw_arr, axis=1)\n",
    "sw_arr[range(len(sw_arr)), np.argmax(sw_arr, axis=1)] = 0\n",
    "second_best_sw = np.max(sw_arr, axis=1)\n",
    "sw_arr = np.array(sw)"
   ]
  },
  {
   "cell_type": "markdown",
   "metadata": {},
   "source": [
    "## Plot alignment scores for basic overview of performance"
   ]
  },
  {
   "cell_type": "code",
   "execution_count": 48,
   "metadata": {
    "ExecuteTime": {
     "end_time": "2019-08-17T00:42:03.353642Z",
     "start_time": "2019-08-17T00:41:59.586402Z"
    },
    "scrolled": false
   },
   "outputs": [
    {
     "data": {
      "text/plain": [
       "<matplotlib.lines.Line2D at 0x7f15b757d160>"
      ]
     },
     "execution_count": 48,
     "metadata": {},
     "output_type": "execute_result"
    },
    {
     "data": {
      "image/png": "[encoded data removed]",
      "text/plain": [
       "<Figure size 432x432 with 1 Axes>"
      ]
     },
     "metadata": {},
     "output_type": "display_data"
    }
   ],
   "source": [
    "fig, ax = plt.subplots(figsize=(6, 6))\n",
    "ax.scatter(max_sw, second_best_sw, alpha=0.01, c=\"k\")\n",
    "ax.set_title(\"\")\n",
    "ax.set_xlabel(\"1st best SW score\")\n",
    "ax.set_ylabel(\"2nd best SW score\")\n",
    "ax.plot([0, 40], [0, 40])\n",
    "ax.axhline(15)\n",
    "ax.axvline(15)"
   ]
  },
  {
   "cell_type": "code",
   "execution_count": 49,
   "metadata": {
    "ExecuteTime": {
     "end_time": "2019-08-17T00:42:04.553870Z",
     "start_time": "2019-08-17T00:42:03.355431Z"
    }
   },
   "outputs": [
    {
     "data": {
      "text/plain": [
       "<matplotlib.axes._subplots.AxesSubplot at 0x7f14d2bf74e0>"
      ]
     },
     "execution_count": 49,
     "metadata": {},
     "output_type": "execute_result"
    },
    {
     "data": {
      "image/png": "[encoded data removed]",
      "text/plain": [
       "<Figure size 432x288 with 1 Axes>"
      ]
     },
     "metadata": {},
     "output_type": "display_data"
    }
   ],
   "source": [
    "sns.distplot(max_sw)"
   ]
  },
  {
   "cell_type": "markdown",
   "metadata": {
    "ExecuteTime": {
     "end_time": "2019-08-11T00:31:43.917710Z",
     "start_time": "2019-08-11T00:31:43.897293Z"
    }
   },
   "source": [
    "### Merge & save alignment scores for all fq files"
   ]
  },
  {
   "cell_type": "code",
   "execution_count": 50,
   "metadata": {
    "ExecuteTime": {
     "end_time": "2019-08-17T00:42:04.569100Z",
     "start_time": "2019-08-17T00:42:04.555690Z"
    }
   },
   "outputs": [],
   "source": [
    "run_id = re.findall(r\"runid_(.*)_[\\d]+_[\\d]+.tsv\", sw_tsv)[0]"
   ]
  },
  {
   "cell_type": "code",
   "execution_count": 51,
   "metadata": {
    "ExecuteTime": {
     "end_time": "2019-08-17T00:42:04.582894Z",
     "start_time": "2019-08-17T00:42:04.571054Z"
    }
   },
   "outputs": [],
   "source": [
    "merged_sw_file = os.path.join(sw_dir, f\"all_{run_id}.tsv\")"
   ]
  },
  {
   "cell_type": "code",
   "execution_count": 52,
   "metadata": {
    "ExecuteTime": {
     "end_time": "2019-08-17T00:42:23.220692Z",
     "start_time": "2019-08-17T00:42:04.584696Z"
    }
   },
   "outputs": [],
   "source": [
    "sw.to_csv(merged_sw_file, sep=\"\\t\", index=True)"
   ]
  },
  {
   "cell_type": "code",
   "execution_count": 53,
   "metadata": {
    "ExecuteTime": {
     "end_time": "2019-08-17T00:42:23.244326Z",
     "start_time": "2019-08-17T00:42:23.222604Z"
    }
   },
   "outputs": [
    {
     "data": {
      "text/plain": [
       "'/path/to/data/MinION_sequencing_data_20190815/guppy_3.2.2_08_15_2019_run_03_exec_20190816/sw/all_3af76ac4a3c3302724a333ac8c108c258c9ceb0d.tsv'"
      ]
     },
     "execution_count": 53,
     "metadata": {},
     "output_type": "execute_result"
    }
   ],
   "source": [
    "merged_sw_file"
   ]
  },
  {
   "cell_type": "markdown",
   "metadata": {},
   "source": [
    "# Evaluate extant molbits vs rest"
   ]
  },
  {
   "cell_type": "markdown",
   "metadata": {},
   "source": [
    "## Specify which molbits were actually present"
   ]
  },
  {
   "cell_type": "code",
   "execution_count": 54,
   "metadata": {
    "ExecuteTime": {
     "end_time": "2019-08-17T00:42:23.262726Z",
     "start_time": "2019-08-17T00:42:23.246399Z"
    }
   },
   "outputs": [],
   "source": [
    "# Create set_N variables based on spreadsheet\n",
    "molbit_sets = {}\n",
    "for ix, row in set_spreadsheet.iterrows():\n",
    "    set_no = re.findall(r\"set ([\\d]+)\", row[\"set\"])[0]\n",
    "    molbits = row[\"molbits_in_set\"]\n",
    "    molbit_sets[set_no] = molbits.split(\", \")"
   ]
  },
  {
   "cell_type": "code",
   "execution_count": 55,
   "metadata": {
    "ExecuteTime": {
     "end_time": "2019-08-17T00:42:23.282873Z",
     "start_time": "2019-08-17T00:42:23.264790Z"
    }
   },
   "outputs": [
    {
     "name": "stdout",
     "output_type": "stream",
     "text": [
      "4\n",
      "['64', '65', '66', '67', '68', '69', '70', '71', '72', '73', '74', '75', '76', '77', '78', '79']\n",
      "['80', '81', '82', '83', '84', '85', '86', '87', '88', '89', '90', '91', '92', '93', '94', '95', '64', '65', '66', '67', '68', '69', '70', '71', '72', '73', '74', '75', '76', '77', '78', '79']\n"
     ]
    }
   ],
   "source": [
    "molbit_set_in_run = str(run_data.get(\"molbit_set\"))\n",
    "molbit_sets_on_flowcell = run_data.get(\"prev_on_flowcell\")\n",
    "\n",
    "molbits_in_run = molbit_sets[molbit_set_in_run]\n",
    "molbits_on_flowcell = molbits_in_run[:]\n",
    "if molbit_sets_on_flowcell != \"none\":\n",
    "    molbit_sets_on_flowcell = molbit_sets_on_flowcell.split(\", \")\n",
    "    for m in molbit_sets_on_flowcell:\n",
    "        print(m)\n",
    "        print(molbit_sets[m])\n",
    "        molbits_on_flowcell.extend(molbit_sets[m])\n",
    "    print(molbits_on_flowcell)"
   ]
  },
  {
   "cell_type": "markdown",
   "metadata": {},
   "source": [
    "## Extract the best-aligned molbit, across all 96 molbits"
   ]
  },
  {
   "cell_type": "markdown",
   "metadata": {},
   "source": [
    "This cell replaces \"make_sw_call\" in the past. No more \"-1\"s. Just filter by accept_molbit."
   ]
  },
  {
   "cell_type": "code",
   "execution_count": 56,
   "metadata": {
    "ExecuteTime": {
     "end_time": "2019-08-17T00:42:45.738269Z",
     "start_time": "2019-08-17T00:42:23.284765Z"
    }
   },
   "outputs": [
    {
     "name": "stderr",
     "output_type": "stream",
     "text": [
      "/ssd1/home/kdorosch/software/anaconda3/envs/py36/lib/python3.6/site-packages/numpy/core/fromnumeric.py:51: FutureWarning: 'argmax' is deprecated. Use 'idxmax' instead. The behavior of 'argmax' will be corrected to return the positional maximum in the future. Use 'series.values.argmax' to get the position of the maximum now.\n",
      "  return getattr(obj, method)(*args, **kwds)\n",
      "/ssd1/home/kdorosch/.local/lib/python3.6/site-packages/ipykernel_launcher.py:4: FutureWarning: currently extract(expand=None) means expand=False (return Index/Series/DataFrame) but in a future version of pandas this will be changed to expand=True (return DataFrame)\n",
      "  after removing the cwd from sys.path.\n"
     ]
    }
   ],
   "source": [
    "sw_scores = sw.filter(regex=\"score_molbit_.*\")\n",
    "best_molbits = sw_scores.apply(np.argmax, axis=1)\n",
    "accept_molbit = sw.lookup(sw.index, best_molbits) >= 15\n",
    "sw[\"best_molbit\"] = best_molbits.str.extract(r\"score_molbit_([\\d]+)\")\n",
    "sw[\"accept_molbit\"] = accept_molbit"
   ]
  },
  {
   "cell_type": "code",
   "execution_count": 57,
   "metadata": {
    "ExecuteTime": {
     "end_time": "2019-08-17T00:42:45.757849Z",
     "start_time": "2019-08-17T00:42:45.740525Z"
    }
   },
   "outputs": [
    {
     "data": {
      "text/plain": [
       "276369"
      ]
     },
     "execution_count": 57,
     "metadata": {},
     "output_type": "execute_result"
    }
   ],
   "source": [
    "len(accept_molbit)"
   ]
  },
  {
   "cell_type": "code",
   "execution_count": 58,
   "metadata": {
    "ExecuteTime": {
     "end_time": "2019-08-17T00:42:46.420456Z",
     "start_time": "2019-08-17T00:42:45.759608Z"
    }
   },
   "outputs": [
    {
     "data": {
      "text/plain": [
       "204007"
      ]
     },
     "execution_count": 58,
     "metadata": {},
     "output_type": "execute_result"
    }
   ],
   "source": [
    "sum(accept_molbit)"
   ]
  },
  {
   "cell_type": "code",
   "execution_count": 59,
   "metadata": {
    "ExecuteTime": {
     "end_time": "2019-08-17T00:42:47.106198Z",
     "start_time": "2019-08-17T00:42:46.423339Z"
    }
   },
   "outputs": [
    {
     "data": {
      "text/plain": [
       "0.7381688973799522"
      ]
     },
     "execution_count": 59,
     "metadata": {},
     "output_type": "execute_result"
    }
   ],
   "source": [
    "sum(accept_molbit) / len(accept_molbit)"
   ]
  },
  {
   "cell_type": "markdown",
   "metadata": {},
   "source": [
    "## Extract the best-aligned molbit, across ONLY the extant molbits"
   ]
  },
  {
   "cell_type": "code",
   "execution_count": 91,
   "metadata": {
    "ExecuteTime": {
     "end_time": "2019-08-20T15:42:49.423177Z",
     "start_time": "2019-08-20T15:42:49.409975Z"
    }
   },
   "outputs": [],
   "source": [
    "extant_sw_cols = [f\"sw_score_molbit_{molbit}\" for molbit in molbits_on_flowcell]"
   ]
  },
  {
   "cell_type": "code",
   "execution_count": 92,
   "metadata": {
    "ExecuteTime": {
     "end_time": "2019-08-20T15:42:49.475967Z",
     "start_time": "2019-08-20T15:42:49.424997Z"
    }
   },
   "outputs": [],
   "source": [
    "extant_sw = sw.loc[:, extant_sw_cols]"
   ]
  },
  {
   "cell_type": "code",
   "execution_count": 93,
   "metadata": {
    "ExecuteTime": {
     "end_time": "2019-08-20T15:43:11.107328Z",
     "start_time": "2019-08-20T15:42:49.478082Z"
    }
   },
   "outputs": [
    {
     "name": "stderr",
     "output_type": "stream",
     "text": [
      "/ssd1/home/kdorosch/.local/lib/python3.6/site-packages/ipykernel_launcher.py:4: FutureWarning: currently extract(expand=None) means expand=False (return Index/Series/DataFrame) but in a future version of pandas this will be changed to expand=True (return DataFrame)\n",
      "  after removing the cwd from sys.path.\n"
     ]
    }
   ],
   "source": [
    "extant_sw_scores = extant_sw.filter(regex=\"score_molbit_.*\")\n",
    "best_molbits = extant_sw_scores.apply(np.argmax, axis=1)\n",
    "accept_molbit = extant_sw.lookup(extant_sw.index, best_molbits) >= 15\n",
    "extant_sw[\"best_molbit\"] = best_molbits.str.extract(r\"score_molbit_([\\d]+)\")\n",
    "extant_sw[\"accept_molbit\"] = accept_molbit"
   ]
  },
  {
   "cell_type": "markdown",
   "metadata": {},
   "source": [
    "## Compare "
   ]
  },
  {
   "cell_type": "code",
   "execution_count": 94,
   "metadata": {
    "ExecuteTime": {
     "end_time": "2019-08-20T15:43:11.244921Z",
     "start_time": "2019-08-20T15:43:11.109532Z"
    }
   },
   "outputs": [],
   "source": [
    "# Only retrieve high-scoring alignments\n",
    "sw_accepted = sw[sw[\"accept_molbit\"]]\n",
    "extant_sw_acc = extant_sw[sw[\"accept_molbit\"]]"
   ]
  },
  {
   "cell_type": "code",
   "execution_count": 95,
   "metadata": {
    "ExecuteTime": {
     "end_time": "2019-08-20T15:43:11.292823Z",
     "start_time": "2019-08-20T15:43:11.246888Z"
    }
   },
   "outputs": [],
   "source": [
    "n_extant_is_best = sum(extant_sw_acc[\"best_molbit\"] == sw_accepted[\"best_molbit\"])"
   ]
  },
  {
   "cell_type": "code",
   "execution_count": 96,
   "metadata": {
    "ExecuteTime": {
     "end_time": "2019-08-20T15:43:11.316319Z",
     "start_time": "2019-08-20T15:43:11.296075Z"
    }
   },
   "outputs": [
    {
     "data": {
      "text/plain": [
       "203270"
      ]
     },
     "execution_count": 96,
     "metadata": {},
     "output_type": "execute_result"
    }
   ],
   "source": [
    "n_extant_is_best"
   ]
  },
  {
   "cell_type": "markdown",
   "metadata": {},
   "source": [
    "Percentage of well-aligned reads that belong to the true set"
   ]
  },
  {
   "cell_type": "code",
   "execution_count": 97,
   "metadata": {
    "ExecuteTime": {
     "end_time": "2019-08-20T15:43:11.334286Z",
     "start_time": "2019-08-20T15:43:11.318188Z"
    }
   },
   "outputs": [
    {
     "data": {
      "text/plain": [
       "0.9963873788644507"
      ]
     },
     "execution_count": 97,
     "metadata": {},
     "output_type": "execute_result"
    }
   ],
   "source": [
    "n_extant_is_best/len(sw_accepted)"
   ]
  },
  {
   "cell_type": "markdown",
   "metadata": {},
   "source": [
    "Read counts for each molbit"
   ]
  },
  {
   "cell_type": "code",
   "execution_count": 98,
   "metadata": {
    "ExecuteTime": {
     "end_time": "2019-08-20T15:43:11.539074Z",
     "start_time": "2019-08-20T15:43:11.336019Z"
    }
   },
   "outputs": [
    {
     "data": {
      "text/plain": [
       "[('64', 9),\n",
       " ('65', 137),\n",
       " ('66', 312),\n",
       " ('67', 165),\n",
       " ('68', 226),\n",
       " ('69', 86),\n",
       " ('70', 80),\n",
       " ('71', 156),\n",
       " ('72', 236),\n",
       " ('73', 185),\n",
       " ('74', 542),\n",
       " ('75', 269),\n",
       " ('76', 73),\n",
       " ('77', 165),\n",
       " ('78', 56),\n",
       " ('79', 91),\n",
       " ('80', 11622),\n",
       " ('81', 14828),\n",
       " ('82', 5530),\n",
       " ('83', 3539),\n",
       " ('84', 5147),\n",
       " ('85', 12759),\n",
       " ('86', 16156),\n",
       " ('87', 7468),\n",
       " ('88', 3569),\n",
       " ('89', 75471),\n",
       " ('90', 9785),\n",
       " ('91', 1739),\n",
       " ('92', 14428),\n",
       " ('93', 6767),\n",
       " ('94', 5335),\n",
       " ('95', 7076)]"
      ]
     },
     "execution_count": 98,
     "metadata": {},
     "output_type": "execute_result"
    }
   ],
   "source": [
    "m, c = np.unique(extant_sw_acc[\"best_molbit\"], return_counts=True)\n",
    "list(zip(m, c))"
   ]
  },
  {
   "cell_type": "code",
   "execution_count": 99,
   "metadata": {
    "ExecuteTime": {
     "end_time": "2019-08-20T15:43:11.555683Z",
     "start_time": "2019-08-20T15:43:11.540824Z"
    }
   },
   "outputs": [
    {
     "name": "stdout",
     "output_type": "stream",
     "text": [
      "9\n",
      "137\n",
      "312\n",
      "165\n",
      "226\n",
      "86\n",
      "80\n",
      "156\n",
      "236\n",
      "185\n",
      "542\n",
      "269\n",
      "73\n",
      "165\n",
      "56\n",
      "91\n",
      "11622\n",
      "14828\n",
      "5530\n",
      "3539\n",
      "5147\n",
      "12759\n",
      "16156\n",
      "7468\n",
      "3569\n",
      "75471\n",
      "9785\n",
      "1739\n",
      "14428\n",
      "6767\n",
      "5335\n",
      "7076\n"
     ]
    }
   ],
   "source": [
    "print(\"\\n\".join([str(x) for x in c]))"
   ]
  },
  {
   "cell_type": "markdown",
   "metadata": {},
   "source": [
    "## Extract the best-aligned molbit, across ONLY the current run's molbits"
   ]
  },
  {
   "cell_type": "code",
   "execution_count": 83,
   "metadata": {
    "ExecuteTime": {
     "end_time": "2019-08-20T15:42:27.012661Z",
     "start_time": "2019-08-20T15:42:26.994634Z"
    }
   },
   "outputs": [],
   "source": [
    "extant_sw_cols = [f\"sw_score_molbit_{molbit}\" for molbit in molbits_in_run]"
   ]
  },
  {
   "cell_type": "code",
   "execution_count": 84,
   "metadata": {
    "ExecuteTime": {
     "end_time": "2019-08-20T15:42:27.326541Z",
     "start_time": "2019-08-20T15:42:27.286514Z"
    }
   },
   "outputs": [],
   "source": [
    "extant_sw = sw.loc[:, extant_sw_cols]"
   ]
  },
  {
   "cell_type": "code",
   "execution_count": 85,
   "metadata": {
    "ExecuteTime": {
     "end_time": "2019-08-20T15:42:49.012226Z",
     "start_time": "2019-08-20T15:42:27.576867Z"
    }
   },
   "outputs": [
    {
     "name": "stderr",
     "output_type": "stream",
     "text": [
      "/ssd1/home/kdorosch/.local/lib/python3.6/site-packages/ipykernel_launcher.py:4: FutureWarning: currently extract(expand=None) means expand=False (return Index/Series/DataFrame) but in a future version of pandas this will be changed to expand=True (return DataFrame)\n",
      "  after removing the cwd from sys.path.\n"
     ]
    }
   ],
   "source": [
    "extant_sw_scores = extant_sw.filter(regex=\"score_molbit_.*\")\n",
    "best_molbits = extant_sw_scores.apply(np.argmax, axis=1)\n",
    "accept_molbit = extant_sw.lookup(extant_sw.index, best_molbits) >= 15\n",
    "extant_sw[\"best_molbit\"] = best_molbits.str.extract(r\"score_molbit_([\\d]+)\")\n",
    "extant_sw[\"accept_molbit\"] = accept_molbit"
   ]
  },
  {
   "cell_type": "markdown",
   "metadata": {},
   "source": [
    "## Compare "
   ]
  },
  {
   "cell_type": "code",
   "execution_count": 86,
   "metadata": {
    "ExecuteTime": {
     "end_time": "2019-08-20T15:42:49.144849Z",
     "start_time": "2019-08-20T15:42:49.014441Z"
    }
   },
   "outputs": [],
   "source": [
    "# Only retrieve high-scoring alignments\n",
    "sw_accepted = sw[sw[\"accept_molbit\"]]\n",
    "extant_sw_acc = extant_sw[sw[\"accept_molbit\"]]"
   ]
  },
  {
   "cell_type": "code",
   "execution_count": 87,
   "metadata": {
    "ExecuteTime": {
     "end_time": "2019-08-20T15:42:49.190783Z",
     "start_time": "2019-08-20T15:42:49.146779Z"
    }
   },
   "outputs": [],
   "source": [
    "n_extant_is_best = sum(extant_sw_acc[\"best_molbit\"] == sw_accepted[\"best_molbit\"])"
   ]
  },
  {
   "cell_type": "code",
   "execution_count": 88,
   "metadata": {
    "ExecuteTime": {
     "end_time": "2019-08-20T15:42:49.208815Z",
     "start_time": "2019-08-20T15:42:49.193205Z"
    }
   },
   "outputs": [
    {
     "data": {
      "text/plain": [
       "200563"
      ]
     },
     "execution_count": 88,
     "metadata": {},
     "output_type": "execute_result"
    }
   ],
   "source": [
    "n_extant_is_best"
   ]
  },
  {
   "cell_type": "markdown",
   "metadata": {},
   "source": [
    "Percentage of well-aligned reads that belong to the true set"
   ]
  },
  {
   "cell_type": "code",
   "execution_count": 89,
   "metadata": {
    "ExecuteTime": {
     "end_time": "2019-08-20T15:42:49.225319Z",
     "start_time": "2019-08-20T15:42:49.210648Z"
    }
   },
   "outputs": [
    {
     "data": {
      "text/plain": [
       "0.9831182263353708"
      ]
     },
     "execution_count": 89,
     "metadata": {},
     "output_type": "execute_result"
    }
   ],
   "source": [
    "n_extant_is_best/len(sw_accepted)"
   ]
  },
  {
   "cell_type": "markdown",
   "metadata": {},
   "source": [
    "Read counts for each molbit"
   ]
  },
  {
   "cell_type": "code",
   "execution_count": 90,
   "metadata": {
    "ExecuteTime": {
     "end_time": "2019-08-20T15:42:49.408278Z",
     "start_time": "2019-08-20T15:42:49.226878Z"
    }
   },
   "outputs": [
    {
     "data": {
      "text/plain": [
       "[('80', 11683),\n",
       " ('81', 15008),\n",
       " ('82', 5976),\n",
       " ('83', 3584),\n",
       " ('84', 5204),\n",
       " ('85', 12878),\n",
       " ('86', 16207),\n",
       " ('87', 7555),\n",
       " ('88', 3641),\n",
       " ('89', 75648),\n",
       " ('90', 9883),\n",
       " ('91', 2259),\n",
       " ('92', 14747),\n",
       " ('93', 6832),\n",
       " ('94', 5694),\n",
       " ('95', 7208)]"
      ]
     },
     "execution_count": 90,
     "metadata": {},
     "output_type": "execute_result"
    }
   ],
   "source": [
    "m, c = np.unique(extant_sw_acc[\"best_molbit\"], return_counts=True)\n",
    "list(zip(m, c))"
   ]
  },
  {
   "cell_type": "markdown",
   "metadata": {},
   "source": [
    "## Get counts for all molbits"
   ]
  },
  {
   "cell_type": "code",
   "execution_count": 100,
   "metadata": {
    "ExecuteTime": {
     "end_time": "2019-08-20T16:41:23.789764Z",
     "start_time": "2019-08-20T16:41:23.469138Z"
    }
   },
   "outputs": [
    {
     "name": "stdout",
     "output_type": "stream",
     "text": [
      "0\n",
      "0\n",
      "7\n",
      "0\n",
      "0\n",
      "0\n",
      "0\n",
      "214\n",
      "5\n",
      "10\n",
      "0\n",
      "2\n",
      "2\n",
      "52\n",
      "1\n",
      "6\n",
      "1\n",
      "2\n",
      "0\n",
      "0\n",
      "0\n",
      "0\n",
      "4\n",
      "0\n",
      "0\n",
      "0\n",
      "0\n",
      "10\n",
      "0\n",
      "4\n",
      "3\n",
      "0\n",
      "0\n",
      "0\n",
      "0\n",
      "3\n",
      "51\n",
      "22\n",
      "0\n",
      "0\n",
      "0\n",
      "0\n",
      "0\n",
      "108\n",
      "0\n",
      "0\n",
      "0\n",
      "2\n",
      "0\n",
      "15\n",
      "0\n",
      "1\n",
      "3\n",
      "1\n",
      "6\n",
      "0\n",
      "1\n",
      "0\n",
      "175\n",
      "0\n",
      "1\n",
      "0\n",
      "1\n",
      "0\n",
      "9\n",
      "136\n",
      "310\n",
      "162\n",
      "226\n",
      "86\n",
      "80\n",
      "156\n",
      "234\n",
      "184\n",
      "543\n",
      "266\n",
      "42\n",
      "159\n",
      "56\n",
      "82\n",
      "11521\n",
      "14826\n",
      "5499\n",
      "3538\n",
      "5146\n",
      "12708\n",
      "16156\n",
      "7416\n",
      "3568\n",
      "75466\n",
      "9784\n",
      "1680\n",
      "14104\n",
      "6765\n",
      "5312\n",
      "7074\n"
     ]
    }
   ],
   "source": [
    "m, c = np.unique(sw[sw[\"accept_molbit\"]][\"best_molbit\"], return_counts=True)\n",
    "molbit_counts = dict(zip(m, c))\n",
    "for i in range(96):\n",
    "    i = str(i)\n",
    "    if i in molbit_counts:\n",
    "        print(f\"{molbit_counts[i]}\")\n",
    "    else:\n",
    "        print(f\"0\")"
   ]
  },
  {
   "cell_type": "code",
   "execution_count": null,
   "metadata": {},
   "outputs": [],
   "source": []
  }
 ],
 "metadata": {
  "kernelspec": {
   "display_name": "Python 3",
   "language": "python",
   "name": "python3"
  },
  "language_info": {
   "codemirror_mode": {
    "name": "ipython",
    "version": 3
   },
   "file_extension": ".py",
   "mimetype": "text/x-python",
   "name": "python",
   "nbconvert_exporter": "python",
   "pygments_lexer": "ipython3",
   "version": "3.7.6"
  },
  "toc": {
   "base_numbering": 1,
   "nav_menu": {},
   "number_sections": true,
   "sideBar": true,
   "skip_h1_title": false,
   "title_cell": "Table of Contents",
   "title_sidebar": "Contents",
   "toc_cell": false,
   "toc_position": {},
   "toc_section_display": true,
   "toc_window_display": false
  }
 },
 "nbformat": 4,
 "nbformat_minor": 2
}
