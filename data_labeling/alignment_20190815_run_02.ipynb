{
 "cells": [
  {
   "cell_type": "code",
   "execution_count": 1,
   "metadata": {
    "ExecuteTime": {
     "end_time": "2019-08-16T17:54:17.908711Z",
     "start_time": "2019-08-16T17:54:17.026750Z"
    }
   },
   "outputs": [],
   "source": [
    "%load_ext autoreload\n",
    "%autoreload 2\n",
    "%matplotlib inline\n",
    "import os\n",
    "import h5py\n",
    "import numpy as np\n",
    "import pandas as pd\n",
    "import logging\n",
    "import re\n",
    "\n",
    "from matplotlib import pyplot as plt\n",
    "import seaborn as sns\n",
    "sns.set(font_scale=1.8, style=\"whitegrid\")"
   ]
  },
  {
   "cell_type": "code",
   "execution_count": 2,
   "metadata": {
    "ExecuteTime": {
     "end_time": "2019-08-16T17:54:17.924344Z",
     "start_time": "2019-08-16T17:54:17.910637Z"
    }
   },
   "outputs": [],
   "source": [
    "logger = logging.getLogger(__name__)\n",
    "logging.basicConfig(format='[%(asctime)s - %(name)s] %(message)s',\n",
    "                        datefmt='%H:%M:%S',\n",
    "                        level=logging.DEBUG,\n",
    "                        handlers=[logging.StreamHandler()])"
   ]
  },
  {
   "cell_type": "markdown",
   "metadata": {},
   "source": [
    "# Import run settings"
   ]
  },
  {
   "cell_type": "code",
   "execution_count": 3,
   "metadata": {
    "ExecuteTime": {
     "end_time": "2019-08-16T17:54:19.745387Z",
     "start_time": "2019-08-16T17:54:18.358250Z"
    }
   },
   "outputs": [],
   "source": [
    "def import_gdrive_sheet(gdrive_key, sheet_id):\n",
    "    run_spreadsheet = pd.read_csv(\"https://docs.google.com/spreadsheet/ccc?key=\" + \\\n",
    "                                  gdrive_key + \"&output=csv&gid=\" + sheet_id)\n",
    "    if \"date\" in run_spreadsheet.columns:\n",
    "        run_spreadsheet[\"date\"] = run_spreadsheet[\"date\"].astype(str)\n",
    "    return run_spreadsheet\n",
    "\n",
    "gdrive_key = \"gsheet_id_here\"\n",
    "sheet_id = \"0\"\n",
    "set_sheet_id = \"512509543\"\n",
    "\n",
    "run_spreadsheet = import_gdrive_sheet(gdrive_key, sheet_id)\n",
    "set_spreadsheet = import_gdrive_sheet(gdrive_key, set_sheet_id)"
   ]
  },
  {
   "cell_type": "code",
   "execution_count": 4,
   "metadata": {
    "ExecuteTime": {
     "end_time": "2019-08-16T17:54:19.769990Z",
     "start_time": "2019-08-16T17:54:19.748795Z"
    }
   },
   "outputs": [],
   "source": [
    "date = \"20190815\"\n",
    "run_name = \"08_15_2019_run_02\"\n",
    "molbit_file = \"../porcupine_sequences.fa\"\n",
    "run_data = dict(run_spreadsheet[run_spreadsheet[\"run_name\"] == run_name].iloc[0, :])"
   ]
  },
  {
   "cell_type": "code",
   "execution_count": 5,
   "metadata": {
    "ExecuteTime": {
     "end_time": "2019-08-16T17:54:19.786512Z",
     "start_time": "2019-08-16T17:54:19.772271Z"
    }
   },
   "outputs": [],
   "source": [
    "fastq_dir = os.path.join(run_data[\"basecall_dir\"], \"pass\")"
   ]
  },
  {
   "cell_type": "markdown",
   "metadata": {},
   "source": [
    "# Run sequence alignment"
   ]
  },
  {
   "cell_type": "code",
   "execution_count": 7,
   "metadata": {
    "ExecuteTime": {
     "end_time": "2019-08-16T18:01:26.792941Z",
     "start_time": "2019-08-16T18:01:26.754233Z"
    }
   },
   "outputs": [],
   "source": [
    "def read_fasta(fasta_fname):\n",
    "    '''Assumes 1 line per sequence.'''\n",
    "    seqs = []\n",
    "    names = []\n",
    "    with open(fasta_fname) as fa:\n",
    "        for line in fa:\n",
    "            line = line.strip()\n",
    "            if line.startswith(\">\"):\n",
    "                names.append(line.replace(\">\", \"\").split()[0])\n",
    "            else:\n",
    "                seqs.append(line)\n",
    "    return seqs, names"
   ]
  },
  {
   "cell_type": "code",
   "execution_count": 8,
   "metadata": {
    "ExecuteTime": {
     "end_time": "2019-08-16T18:01:26.814750Z",
     "start_time": "2019-08-16T18:01:26.796345Z"
    }
   },
   "outputs": [],
   "source": [
    "def read_fastq(fastq_fname):\n",
    "    seqs = []\n",
    "    with open(fastq_fname) as fq:\n",
    "        fq = fq.readlines()\n",
    "        for line_i in range(0, len(fq), 4):\n",
    "            line = fq[line_i].strip().split(\" \")\n",
    "            read_id = str(line[0])[1:]\n",
    "            seq = fq[line_i + 1].strip()\n",
    "            seqs.append((read_id, seq))\n",
    "    return seqs"
   ]
  },
  {
   "cell_type": "code",
   "execution_count": 9,
   "metadata": {
    "ExecuteTime": {
     "end_time": "2019-08-16T18:01:26.880426Z",
     "start_time": "2019-08-16T18:01:26.817174Z"
    }
   },
   "outputs": [],
   "source": [
    "from pore_utils import smith_waterman as s_w"
   ]
  },
  {
   "cell_type": "code",
   "execution_count": 10,
   "metadata": {
    "ExecuteTime": {
     "end_time": "2019-08-16T18:01:26.904986Z",
     "start_time": "2019-08-16T18:01:26.882791Z"
    }
   },
   "outputs": [],
   "source": [
    "def helper_run_sw(read, molbit_seqs=None, search_len=100,\n",
    "                  cost_fn={\"match\": 2, \"mismatch\": -2, \"gap\": -1}):\n",
    "    read_id, seq = read\n",
    "\n",
    "    sw_search_end = min(len(seq), search_len)\n",
    "    search_seq = seq[:sw_search_end]\n",
    "\n",
    "    results = [read_id]\n",
    "    for header_i, header_seq in enumerate(molbit_seqs):\n",
    "        _, sw_score, _, sw_loc, _ = s_w.s_w(search_seq, header_seq,\n",
    "                                        cost_fn=cost_fn)\n",
    "        results.append(sw_score)\n",
    "    return results\n",
    "\n",
    "\n",
    "def run_sw(fastq_dir, out_dir, search_len=80, molbit_fa=None, n_workers=20,\n",
    "           cost_fn={\"match\": 2, \"mismatch\": -2, \"gap\": -1}):\n",
    "    os.makedirs(out_dir)\n",
    "    import dask.bag as db\n",
    "    from dask.diagnostics import ProgressBar\n",
    "    ProgressBar().register()\n",
    "    \n",
    "    logger.info(\"Getting molbit sequences.\")\n",
    "    assert molbit_fa is not None\n",
    "    assert os.path.exists(molbit_fa)\n",
    "    molbit_seqs, molbit_names = read_fasta(molbit_fa)\n",
    "    \n",
    "    logger.info(\"Locating fastq files.\")\n",
    "    fastq_files = []\n",
    "    for fname in os.listdir(fastq_dir):\n",
    "        if fname.endswith(\".fastq\"):\n",
    "            fastq_files.append(os.path.join(fastq_dir, fname))\n",
    "    assert len(fastq_files) > 0\n",
    "    \n",
    "    logger.info(\"Running SW, one fastq at a time.\")\n",
    "    for fq_i, fq_fname in enumerate(fastq_files):\n",
    "        logger.info(f\"Starting fastq ({fq_i} of {len(fastq_files)})\\n\\t{fq_fname}\")\n",
    "        fq_seqs = read_fastq(fq_fname)\n",
    "        \n",
    "        bag = db.from_sequence(fq_seqs)\n",
    "        dask_map = bag.map(helper_run_sw, molbit_seqs=molbit_seqs,\n",
    "                           search_len=search_len, cost_fn=cost_fn)\n",
    "        sw_scores = dask_map.compute(num_workers=n_workers)\n",
    "        \n",
    "        cols = [\"read_id\"] + [f\"sw_score_molbit_{molbit}\" for molbit in molbit_names]\n",
    "        sw_df = pd.DataFrame(sw_scores, columns=cols)\n",
    "        sw_df.index = sw_df[\"read_id\"]\n",
    "        del sw_df[\"read_id\"]\n",
    "        out_fname = fq_fname.split(\"/\")[-1].replace(\".fastq\", \"\") + \".tsv\"\n",
    "        out_fname = os.path.join(out_dir, out_fname)\n",
    "        logger.info(f\"Saving to file: {out_fname}\")\n",
    "        sw_df.to_csv(out_fname, sep=\"\\t\", index=True)"
   ]
  },
  {
   "cell_type": "code",
   "execution_count": 11,
   "metadata": {
    "ExecuteTime": {
     "end_time": "2019-08-16T18:01:26.922284Z",
     "start_time": "2019-08-16T18:01:26.907217Z"
    }
   },
   "outputs": [],
   "source": [
    "sw_dir = os.path.join(run_data[\"basecall_dir\"], \"sw\")\n",
    "cost_fn = {\"match\": 1, \"mismatch\": -1, \"gap\": -8}"
   ]
  },
  {
   "cell_type": "raw",
   "metadata": {
    "ExecuteTime": {
     "end_time": "2019-08-11T02:58:25.962380Z",
     "start_time": "2019-08-11T02:58:25.723668Z"
    }
   },
   "source": [
    "! rm -rf /path/to/data/MinION_sequencing_data_20190809/guppy_3.2.2_exec_20190809/sw"
   ]
  },
  {
   "cell_type": "code",
   "execution_count": 67,
   "metadata": {
    "ExecuteTime": {
     "end_time": "2019-08-17T00:37:08.793972Z",
     "start_time": "2019-08-17T00:37:08.771663Z"
    }
   },
   "outputs": [
    {
     "data": {
      "text/plain": [
       "'/path/to/data/MinION_sequencing_data_20190815/guppy_3.2.2_08_15_2019_run_02_exec_20190815/sw'"
      ]
     },
     "execution_count": 67,
     "metadata": {},
     "output_type": "execute_result"
    }
   ],
   "source": [
    "sw_dir"
   ]
  },
  {
   "cell_type": "code",
   "execution_count": null,
   "metadata": {
    "ExecuteTime": {
     "start_time": "2019-08-16T17:54:23.169Z"
    },
    "scrolled": true
   },
   "outputs": [
    {
     "name": "stderr",
     "output_type": "stream",
     "text": [
      "[11:01:27 - __main__] Getting molbit sequences.\n",
      "[11:01:27 - __main__] Locating fastq files.\n",
      "[11:01:27 - __main__] Running SW, one fastq at a time.\n",
      "[11:01:27 - __main__] Starting fastq (0 of 323)\n",
      "\t/path/to/data/MinION_sequencing_data_20190815/guppy_3.2.2_08_15_2019_run_02_exec_20190815/pass/fastq_runid_e33d821ff769cbb24ed5af866a50887f3e1ea5c3_0_0.fastq\n"
     ]
    },
    {
     "name": "stdout",
     "output_type": "stream",
     "text": [
      "[########################################] | 100% Completed | 24.3s\n"
     ]
    },
    {
     "name": "stderr",
     "output_type": "stream",
     "text": [
      "[11:01:51 - __main__] Saving to file: /path/to/data/MinION_sequencing_data_20190815/guppy_3.2.2_08_15_2019_run_02_exec_20190815/sw/fastq_runid_e33d821ff769cbb24ed5af866a50887f3e1ea5c3_0_0.tsv\n",
      "[11:01:51 - __main__] Starting fastq (1 of 323)\n",
      "\t/path/to/data/MinION_sequencing_data_20190815/guppy_3.2.2_08_15_2019_run_02_exec_20190815/pass/fastq_runid_e33d821ff769cbb24ed5af866a50887f3e1ea5c3_0_1.fastq\n"
     ]
    },
    {
     "name": "stdout",
     "output_type": "stream",
     "text": [
      "[########################################] | 100% Completed |  1min 20.9s\n"
     ]
    },
    {
     "name": "stderr",
     "output_type": "stream",
     "text": [
      "[11:03:13 - __main__] Saving to file: /path/to/data/MinION_sequencing_data_20190815/guppy_3.2.2_08_15_2019_run_02_exec_20190815/sw/fastq_runid_e33d821ff769cbb24ed5af866a50887f3e1ea5c3_0_1.tsv\n",
      "[11:03:13 - __main__] Starting fastq (2 of 323)\n",
      "\t/path/to/data/MinION_sequencing_data_20190815/guppy_3.2.2_08_15_2019_run_02_exec_20190815/pass/fastq_runid_e33d821ff769cbb24ed5af866a50887f3e1ea5c3_0_2.fastq\n"
     ]
    },
    {
     "name": "stdout",
     "output_type": "stream",
     "text": [
      "[########################################] | 100% Completed | 26.7s\n"
     ]
    },
    {
     "name": "stderr",
     "output_type": "stream",
     "text": [
      "[11:03:40 - __main__] Saving to file: /path/to/data/MinION_sequencing_data_20190815/guppy_3.2.2_08_15_2019_run_02_exec_20190815/sw/fastq_runid_e33d821ff769cbb24ed5af866a50887f3e1ea5c3_0_2.tsv\n",
      "[11:03:40 - __main__] Starting fastq (3 of 323)\n",
      "\t/path/to/data/MinION_sequencing_data_20190815/guppy_3.2.2_08_15_2019_run_02_exec_20190815/pass/fastq_runid_e33d821ff769cbb24ed5af866a50887f3e1ea5c3_0_3.fastq\n"
     ]
    },
    {
     "name": "stdout",
     "output_type": "stream",
     "text": [
      "[########################################] | 100% Completed | 24.2s\n"
     ]
    },
    {
     "name": "stderr",
     "output_type": "stream",
     "text": [
      "[11:04:04 - __main__] Saving to file: /path/to/data/MinION_sequencing_data_20190815/guppy_3.2.2_08_15_2019_run_02_exec_20190815/sw/fastq_runid_e33d821ff769cbb24ed5af866a50887f3e1ea5c3_0_3.tsv\n",
      "[11:04:04 - __main__] Starting fastq (4 of 323)\n",
      "\t/path/to/data/MinION_sequencing_data_20190815/guppy_3.2.2_08_15_2019_run_02_exec_20190815/pass/fastq_runid_e33d821ff769cbb24ed5af866a50887f3e1ea5c3_1_0.fastq\n"
     ]
    },
    {
     "name": "stdout",
     "output_type": "stream",
     "text": [
      "[########################################] | 100% Completed | 55.7s\n"
     ]
    },
    {
     "name": "stderr",
     "output_type": "stream",
     "text": [
      "[11:05:00 - __main__] Saving to file: /path/to/data/MinION_sequencing_data_20190815/guppy_3.2.2_08_15_2019_run_02_exec_20190815/sw/fastq_runid_e33d821ff769cbb24ed5af866a50887f3e1ea5c3_1_0.tsv\n",
      "[11:05:01 - __main__] Starting fastq (5 of 323)\n",
      "\t/path/to/data/MinION_sequencing_data_20190815/guppy_3.2.2_08_15_2019_run_02_exec_20190815/pass/fastq_runid_e33d821ff769cbb24ed5af866a50887f3e1ea5c3_1_1.fastq\n"
     ]
    },
    {
     "name": "stdout",
     "output_type": "stream",
     "text": [
      "[########################################] | 100% Completed | 47.7s\n"
     ]
    },
    {
     "name": "stderr",
     "output_type": "stream",
     "text": [
      "[11:05:49 - __main__] Saving to file: /path/to/data/MinION_sequencing_data_20190815/guppy_3.2.2_08_15_2019_run_02_exec_20190815/sw/fastq_runid_e33d821ff769cbb24ed5af866a50887f3e1ea5c3_1_1.tsv\n",
      "[11:05:49 - __main__] Starting fastq (6 of 323)\n",
      "\t/path/to/data/MinION_sequencing_data_20190815/guppy_3.2.2_08_15_2019_run_02_exec_20190815/pass/fastq_runid_e33d821ff769cbb24ed5af866a50887f3e1ea5c3_1_2.fastq\n"
     ]
    },
    {
     "name": "stdout",
     "output_type": "stream",
     "text": [
      "[########################################] | 100% Completed | 48.6s\n"
     ]
    },
    {
     "name": "stderr",
     "output_type": "stream",
     "text": [
      "[11:06:38 - __main__] Saving to file: /path/to/data/MinION_sequencing_data_20190815/guppy_3.2.2_08_15_2019_run_02_exec_20190815/sw/fastq_runid_e33d821ff769cbb24ed5af866a50887f3e1ea5c3_1_2.tsv\n",
      "[11:06:38 - __main__] Starting fastq (7 of 323)\n",
      "\t/path/to/data/MinION_sequencing_data_20190815/guppy_3.2.2_08_15_2019_run_02_exec_20190815/pass/fastq_runid_e33d821ff769cbb24ed5af866a50887f3e1ea5c3_2_0.fastq\n"
     ]
    },
    {
     "name": "stdout",
     "output_type": "stream",
     "text": [
      "[########################################] | 100% Completed | 33.3s\n"
     ]
    },
    {
     "name": "stderr",
     "output_type": "stream",
     "text": [
      "[11:07:12 - __main__] Saving to file: /path/to/data/MinION_sequencing_data_20190815/guppy_3.2.2_08_15_2019_run_02_exec_20190815/sw/fastq_runid_e33d821ff769cbb24ed5af866a50887f3e1ea5c3_2_0.tsv\n",
      "[11:07:12 - __main__] Starting fastq (8 of 323)\n",
      "\t/path/to/data/MinION_sequencing_data_20190815/guppy_3.2.2_08_15_2019_run_02_exec_20190815/pass/fastq_runid_e33d821ff769cbb24ed5af866a50887f3e1ea5c3_2_1.fastq\n"
     ]
    },
    {
     "name": "stdout",
     "output_type": "stream",
     "text": [
      "[########################################] | 100% Completed | 52.9s\n"
     ]
    },
    {
     "name": "stderr",
     "output_type": "stream",
     "text": [
      "[11:08:05 - __main__] Saving to file: /path/to/data/MinION_sequencing_data_20190815/guppy_3.2.2_08_15_2019_run_02_exec_20190815/sw/fastq_runid_e33d821ff769cbb24ed5af866a50887f3e1ea5c3_2_1.tsv\n",
      "[11:08:05 - __main__] Starting fastq (9 of 323)\n",
      "\t/path/to/data/MinION_sequencing_data_20190815/guppy_3.2.2_08_15_2019_run_02_exec_20190815/pass/fastq_runid_e33d821ff769cbb24ed5af866a50887f3e1ea5c3_2_2.fastq\n"
     ]
    },
    {
     "name": "stdout",
     "output_type": "stream",
     "text": [
      "[########################################] | 100% Completed | 50.9s\n"
     ]
    },
    {
     "name": "stderr",
     "output_type": "stream",
     "text": [
      "[11:08:56 - __main__] Saving to file: /path/to/data/MinION_sequencing_data_20190815/guppy_3.2.2_08_15_2019_run_02_exec_20190815/sw/fastq_runid_e33d821ff769cbb24ed5af866a50887f3e1ea5c3_2_2.tsv\n",
      "[11:08:56 - __main__] Starting fastq (10 of 323)\n",
      "\t/path/to/data/MinION_sequencing_data_20190815/guppy_3.2.2_08_15_2019_run_02_exec_20190815/pass/fastq_runid_e33d821ff769cbb24ed5af866a50887f3e1ea5c3_1_3.fastq\n"
     ]
    },
    {
     "name": "stdout",
     "output_type": "stream",
     "text": [
      "[########################################] | 100% Completed |  1.0s\n"
     ]
    },
    {
     "name": "stderr",
     "output_type": "stream",
     "text": [
      "[11:08:58 - __main__] Saving to file: /path/to/data/MinION_sequencing_data_20190815/guppy_3.2.2_08_15_2019_run_02_exec_20190815/sw/fastq_runid_e33d821ff769cbb24ed5af866a50887f3e1ea5c3_1_3.tsv\n",
      "[11:08:58 - __main__] Starting fastq (11 of 323)\n",
      "\t/path/to/data/MinION_sequencing_data_20190815/guppy_3.2.2_08_15_2019_run_02_exec_20190815/pass/fastq_runid_e33d821ff769cbb24ed5af866a50887f3e1ea5c3_2_3.fastq\n"
     ]
    },
    {
     "name": "stdout",
     "output_type": "stream",
     "text": [
      "[########################################] | 100% Completed | 11.1s\n"
     ]
    },
    {
     "name": "stderr",
     "output_type": "stream",
     "text": [
      "[11:09:09 - __main__] Saving to file: /path/to/data/MinION_sequencing_data_20190815/guppy_3.2.2_08_15_2019_run_02_exec_20190815/sw/fastq_runid_e33d821ff769cbb24ed5af866a50887f3e1ea5c3_2_3.tsv\n",
      "[11:09:09 - __main__] Starting fastq (12 of 323)\n",
      "\t/path/to/data/MinION_sequencing_data_20190815/guppy_3.2.2_08_15_2019_run_02_exec_20190815/pass/fastq_runid_e33d821ff769cbb24ed5af866a50887f3e1ea5c3_3_0.fastq\n"
     ]
    },
    {
     "name": "stdout",
     "output_type": "stream",
     "text": [
      "[########################################] | 100% Completed | 53.8s\n"
     ]
    },
    {
     "name": "stderr",
     "output_type": "stream",
     "text": [
      "[11:10:03 - __main__] Saving to file: /path/to/data/MinION_sequencing_data_20190815/guppy_3.2.2_08_15_2019_run_02_exec_20190815/sw/fastq_runid_e33d821ff769cbb24ed5af866a50887f3e1ea5c3_3_0.tsv\n",
      "[11:10:03 - __main__] Starting fastq (13 of 323)\n",
      "\t/path/to/data/MinION_sequencing_data_20190815/guppy_3.2.2_08_15_2019_run_02_exec_20190815/pass/fastq_runid_e33d821ff769cbb24ed5af866a50887f3e1ea5c3_3_1.fastq\n"
     ]
    },
    {
     "name": "stdout",
     "output_type": "stream",
     "text": [
      "[########################################] | 100% Completed |  1min 41.2s\n"
     ]
    },
    {
     "name": "stderr",
     "output_type": "stream",
     "text": [
      "[11:11:45 - __main__] Saving to file: /path/to/data/MinION_sequencing_data_20190815/guppy_3.2.2_08_15_2019_run_02_exec_20190815/sw/fastq_runid_e33d821ff769cbb24ed5af866a50887f3e1ea5c3_3_1.tsv\n",
      "[11:11:45 - __main__] Starting fastq (14 of 323)\n",
      "\t/path/to/data/MinION_sequencing_data_20190815/guppy_3.2.2_08_15_2019_run_02_exec_20190815/pass/fastq_runid_e33d821ff769cbb24ed5af866a50887f3e1ea5c3_3_2.fastq\n"
     ]
    },
    {
     "name": "stdout",
     "output_type": "stream",
     "text": [
      "[########################################] | 100% Completed |  1.8s\n"
     ]
    },
    {
     "name": "stderr",
     "output_type": "stream",
     "text": [
      "[11:11:47 - __main__] Saving to file: /path/to/data/MinION_sequencing_data_20190815/guppy_3.2.2_08_15_2019_run_02_exec_20190815/sw/fastq_runid_e33d821ff769cbb24ed5af866a50887f3e1ea5c3_3_2.tsv\n",
      "[11:11:47 - __main__] Starting fastq (15 of 323)\n",
      "\t/path/to/data/MinION_sequencing_data_20190815/guppy_3.2.2_08_15_2019_run_02_exec_20190815/pass/fastq_runid_e33d821ff769cbb24ed5af866a50887f3e1ea5c3_4_0.fastq\n"
     ]
    },
    {
     "name": "stdout",
     "output_type": "stream",
     "text": [
      "[########################################] | 100% Completed | 26.9s\n"
     ]
    },
    {
     "name": "stderr",
     "output_type": "stream",
     "text": [
      "[11:12:14 - __main__] Saving to file: /path/to/data/MinION_sequencing_data_20190815/guppy_3.2.2_08_15_2019_run_02_exec_20190815/sw/fastq_runid_e33d821ff769cbb24ed5af866a50887f3e1ea5c3_4_0.tsv\n",
      "[11:12:14 - __main__] Starting fastq (16 of 323)\n",
      "\t/path/to/data/MinION_sequencing_data_20190815/guppy_3.2.2_08_15_2019_run_02_exec_20190815/pass/fastq_runid_e33d821ff769cbb24ed5af866a50887f3e1ea5c3_4_1.fastq\n"
     ]
    },
    {
     "name": "stdout",
     "output_type": "stream",
     "text": [
      "[########################################] | 100% Completed |  1min 24.4s\n"
     ]
    },
    {
     "name": "stderr",
     "output_type": "stream",
     "text": [
      "[11:13:39 - __main__] Saving to file: /path/to/data/MinION_sequencing_data_20190815/guppy_3.2.2_08_15_2019_run_02_exec_20190815/sw/fastq_runid_e33d821ff769cbb24ed5af866a50887f3e1ea5c3_4_1.tsv\n",
      "[11:13:39 - __main__] Starting fastq (17 of 323)\n",
      "\t/path/to/data/MinION_sequencing_data_20190815/guppy_3.2.2_08_15_2019_run_02_exec_20190815/pass/fastq_runid_e33d821ff769cbb24ed5af866a50887f3e1ea5c3_4_2.fastq\n"
     ]
    },
    {
     "name": "stdout",
     "output_type": "stream",
     "text": [
      "[########################################] | 100% Completed | 42.6s\n"
     ]
    },
    {
     "name": "stderr",
     "output_type": "stream",
     "text": [
      "[11:14:22 - __main__] Saving to file: /path/to/data/MinION_sequencing_data_20190815/guppy_3.2.2_08_15_2019_run_02_exec_20190815/sw/fastq_runid_e33d821ff769cbb24ed5af866a50887f3e1ea5c3_4_2.tsv\n",
      "[11:14:22 - __main__] Starting fastq (18 of 323)\n",
      "\t/path/to/data/MinION_sequencing_data_20190815/guppy_3.2.2_08_15_2019_run_02_exec_20190815/pass/fastq_runid_e33d821ff769cbb24ed5af866a50887f3e1ea5c3_3_3.fastq\n"
     ]
    },
    {
     "name": "stdout",
     "output_type": "stream",
     "text": [
      "[########################################] | 100% Completed |  1.0s\n"
     ]
    },
    {
     "name": "stderr",
     "output_type": "stream",
     "text": [
      "[11:14:24 - __main__] Saving to file: /path/to/data/MinION_sequencing_data_20190815/guppy_3.2.2_08_15_2019_run_02_exec_20190815/sw/fastq_runid_e33d821ff769cbb24ed5af866a50887f3e1ea5c3_3_3.tsv\n",
      "[11:14:24 - __main__] Starting fastq (19 of 323)\n",
      "\t/path/to/data/MinION_sequencing_data_20190815/guppy_3.2.2_08_15_2019_run_02_exec_20190815/pass/fastq_runid_e33d821ff769cbb24ed5af866a50887f3e1ea5c3_5_0.fastq\n"
     ]
    },
    {
     "name": "stdout",
     "output_type": "stream",
     "text": [
      "[########################################] | 100% Completed |  1min 30.8s\n"
     ]
    },
    {
     "name": "stderr",
     "output_type": "stream",
     "text": [
      "[11:15:55 - __main__] Saving to file: /path/to/data/MinION_sequencing_data_20190815/guppy_3.2.2_08_15_2019_run_02_exec_20190815/sw/fastq_runid_e33d821ff769cbb24ed5af866a50887f3e1ea5c3_5_0.tsv\n",
      "[11:15:55 - __main__] Starting fastq (20 of 323)\n",
      "\t/path/to/data/MinION_sequencing_data_20190815/guppy_3.2.2_08_15_2019_run_02_exec_20190815/pass/fastq_runid_e33d821ff769cbb24ed5af866a50887f3e1ea5c3_5_1.fastq\n"
     ]
    },
    {
     "name": "stdout",
     "output_type": "stream",
     "text": [
      "[########################################] | 100% Completed | 39.7s\n"
     ]
    },
    {
     "name": "stderr",
     "output_type": "stream",
     "text": [
      "[11:16:35 - __main__] Saving to file: /path/to/data/MinION_sequencing_data_20190815/guppy_3.2.2_08_15_2019_run_02_exec_20190815/sw/fastq_runid_e33d821ff769cbb24ed5af866a50887f3e1ea5c3_5_1.tsv\n",
      "[11:16:35 - __main__] Starting fastq (21 of 323)\n",
      "\t/path/to/data/MinION_sequencing_data_20190815/guppy_3.2.2_08_15_2019_run_02_exec_20190815/pass/fastq_runid_e33d821ff769cbb24ed5af866a50887f3e1ea5c3_5_2.fastq\n"
     ]
    },
    {
     "name": "stdout",
     "output_type": "stream",
     "text": [
      "[########################################] | 100% Completed | 10.3s\n"
     ]
    },
    {
     "name": "stderr",
     "output_type": "stream",
     "text": [
      "[11:16:46 - __main__] Saving to file: /path/to/data/MinION_sequencing_data_20190815/guppy_3.2.2_08_15_2019_run_02_exec_20190815/sw/fastq_runid_e33d821ff769cbb24ed5af866a50887f3e1ea5c3_5_2.tsv\n",
      "[11:16:46 - __main__] Starting fastq (22 of 323)\n",
      "\t/path/to/data/MinION_sequencing_data_20190815/guppy_3.2.2_08_15_2019_run_02_exec_20190815/pass/fastq_runid_e33d821ff769cbb24ed5af866a50887f3e1ea5c3_4_3.fastq\n"
     ]
    },
    {
     "name": "stdout",
     "output_type": "stream",
     "text": [
      "[########################################] | 100% Completed |  1.0s\n"
     ]
    },
    {
     "name": "stderr",
     "output_type": "stream",
     "text": [
      "[11:16:47 - __main__] Saving to file: /path/to/data/MinION_sequencing_data_20190815/guppy_3.2.2_08_15_2019_run_02_exec_20190815/sw/fastq_runid_e33d821ff769cbb24ed5af866a50887f3e1ea5c3_4_3.tsv\n",
      "[11:16:47 - __main__] Starting fastq (23 of 323)\n",
      "\t/path/to/data/MinION_sequencing_data_20190815/guppy_3.2.2_08_15_2019_run_02_exec_20190815/pass/fastq_runid_e33d821ff769cbb24ed5af866a50887f3e1ea5c3_5_3.fastq\n"
     ]
    },
    {
     "name": "stdout",
     "output_type": "stream",
     "text": [
      "[########################################] | 100% Completed | 13.7s\n"
     ]
    },
    {
     "name": "stderr",
     "output_type": "stream",
     "text": [
      "[11:17:01 - __main__] Saving to file: /path/to/data/MinION_sequencing_data_20190815/guppy_3.2.2_08_15_2019_run_02_exec_20190815/sw/fastq_runid_e33d821ff769cbb24ed5af866a50887f3e1ea5c3_5_3.tsv\n",
      "[11:17:01 - __main__] Starting fastq (24 of 323)\n",
      "\t/path/to/data/MinION_sequencing_data_20190815/guppy_3.2.2_08_15_2019_run_02_exec_20190815/pass/fastq_runid_e33d821ff769cbb24ed5af866a50887f3e1ea5c3_6_0.fastq\n"
     ]
    },
    {
     "name": "stdout",
     "output_type": "stream",
     "text": [
      "[########################################] | 100% Completed |  1min 12.1s\n"
     ]
    },
    {
     "name": "stderr",
     "output_type": "stream",
     "text": [
      "[11:18:14 - __main__] Saving to file: /path/to/data/MinION_sequencing_data_20190815/guppy_3.2.2_08_15_2019_run_02_exec_20190815/sw/fastq_runid_e33d821ff769cbb24ed5af866a50887f3e1ea5c3_6_0.tsv\n",
      "[11:18:14 - __main__] Starting fastq (25 of 323)\n",
      "\t/path/to/data/MinION_sequencing_data_20190815/guppy_3.2.2_08_15_2019_run_02_exec_20190815/pass/fastq_runid_e33d821ff769cbb24ed5af866a50887f3e1ea5c3_6_1.fastq\n"
     ]
    },
    {
     "name": "stdout",
     "output_type": "stream",
     "text": [
      "[########################################] | 100% Completed | 49.4s\n"
     ]
    },
    {
     "name": "stderr",
     "output_type": "stream",
     "text": [
      "[11:19:03 - __main__] Saving to file: /path/to/data/MinION_sequencing_data_20190815/guppy_3.2.2_08_15_2019_run_02_exec_20190815/sw/fastq_runid_e33d821ff769cbb24ed5af866a50887f3e1ea5c3_6_1.tsv\n",
      "[11:19:03 - __main__] Starting fastq (26 of 323)\n",
      "\t/path/to/data/MinION_sequencing_data_20190815/guppy_3.2.2_08_15_2019_run_02_exec_20190815/pass/fastq_runid_e33d821ff769cbb24ed5af866a50887f3e1ea5c3_6_2.fastq\n"
     ]
    },
    {
     "name": "stdout",
     "output_type": "stream",
     "text": [
      "[########################################] | 100% Completed | 31.7s\n"
     ]
    },
    {
     "name": "stderr",
     "output_type": "stream",
     "text": [
      "[11:19:35 - __main__] Saving to file: /path/to/data/MinION_sequencing_data_20190815/guppy_3.2.2_08_15_2019_run_02_exec_20190815/sw/fastq_runid_e33d821ff769cbb24ed5af866a50887f3e1ea5c3_6_2.tsv\n",
      "[11:19:36 - __main__] Starting fastq (27 of 323)\n",
      "\t/path/to/data/MinION_sequencing_data_20190815/guppy_3.2.2_08_15_2019_run_02_exec_20190815/pass/fastq_runid_e33d821ff769cbb24ed5af866a50887f3e1ea5c3_7_0.fastq\n"
     ]
    },
    {
     "name": "stdout",
     "output_type": "stream",
     "text": [
      "[########################################] | 100% Completed |  2min  3.4s\n"
     ]
    },
    {
     "name": "stderr",
     "output_type": "stream",
     "text": [
      "[11:21:39 - __main__] Saving to file: /path/to/data/MinION_sequencing_data_20190815/guppy_3.2.2_08_15_2019_run_02_exec_20190815/sw/fastq_runid_e33d821ff769cbb24ed5af866a50887f3e1ea5c3_7_0.tsv\n",
      "[11:21:40 - __main__] Starting fastq (28 of 323)\n",
      "\t/path/to/data/MinION_sequencing_data_20190815/guppy_3.2.2_08_15_2019_run_02_exec_20190815/pass/fastq_runid_e33d821ff769cbb24ed5af866a50887f3e1ea5c3_6_3.fastq\n"
     ]
    },
    {
     "name": "stdout",
     "output_type": "stream",
     "text": [
      "[########################################] | 100% Completed |  2.2s\n"
     ]
    },
    {
     "name": "stderr",
     "output_type": "stream",
     "text": [
      "[11:21:42 - __main__] Saving to file: /path/to/data/MinION_sequencing_data_20190815/guppy_3.2.2_08_15_2019_run_02_exec_20190815/sw/fastq_runid_e33d821ff769cbb24ed5af866a50887f3e1ea5c3_6_3.tsv\n",
      "[11:21:42 - __main__] Starting fastq (29 of 323)\n",
      "\t/path/to/data/MinION_sequencing_data_20190815/guppy_3.2.2_08_15_2019_run_02_exec_20190815/pass/fastq_runid_e33d821ff769cbb24ed5af866a50887f3e1ea5c3_7_1.fastq\n"
     ]
    },
    {
     "name": "stdout",
     "output_type": "stream",
     "text": [
      "[########################################] | 100% Completed | 14.5s\n"
     ]
    },
    {
     "name": "stderr",
     "output_type": "stream",
     "text": [
      "[11:21:57 - __main__] Saving to file: /path/to/data/MinION_sequencing_data_20190815/guppy_3.2.2_08_15_2019_run_02_exec_20190815/sw/fastq_runid_e33d821ff769cbb24ed5af866a50887f3e1ea5c3_7_1.tsv\n",
      "[11:21:57 - __main__] Starting fastq (30 of 323)\n",
      "\t/path/to/data/MinION_sequencing_data_20190815/guppy_3.2.2_08_15_2019_run_02_exec_20190815/pass/fastq_runid_e33d821ff769cbb24ed5af866a50887f3e1ea5c3_7_2.fastq\n"
     ]
    },
    {
     "name": "stdout",
     "output_type": "stream",
     "text": [
      "[########################################] | 100% Completed |  4.9s\n"
     ]
    },
    {
     "name": "stderr",
     "output_type": "stream",
     "text": [
      "[11:22:02 - __main__] Saving to file: /path/to/data/MinION_sequencing_data_20190815/guppy_3.2.2_08_15_2019_run_02_exec_20190815/sw/fastq_runid_e33d821ff769cbb24ed5af866a50887f3e1ea5c3_7_2.tsv\n",
      "[11:22:02 - __main__] Starting fastq (31 of 323)\n",
      "\t/path/to/data/MinION_sequencing_data_20190815/guppy_3.2.2_08_15_2019_run_02_exec_20190815/pass/fastq_runid_e33d821ff769cbb24ed5af866a50887f3e1ea5c3_8_0.fastq\n"
     ]
    },
    {
     "name": "stdout",
     "output_type": "stream",
     "text": [
      "[########################################] | 100% Completed | 25.5s\n"
     ]
    },
    {
     "name": "stderr",
     "output_type": "stream",
     "text": [
      "[11:22:28 - __main__] Saving to file: /path/to/data/MinION_sequencing_data_20190815/guppy_3.2.2_08_15_2019_run_02_exec_20190815/sw/fastq_runid_e33d821ff769cbb24ed5af866a50887f3e1ea5c3_8_0.tsv\n",
      "[11:22:28 - __main__] Starting fastq (32 of 323)\n",
      "\t/path/to/data/MinION_sequencing_data_20190815/guppy_3.2.2_08_15_2019_run_02_exec_20190815/pass/fastq_runid_e33d821ff769cbb24ed5af866a50887f3e1ea5c3_8_1.fastq\n"
     ]
    },
    {
     "name": "stdout",
     "output_type": "stream",
     "text": [
      "[########################################] | 100% Completed | 40.2s\n"
     ]
    },
    {
     "name": "stderr",
     "output_type": "stream",
     "text": [
      "[11:23:08 - __main__] Saving to file: /path/to/data/MinION_sequencing_data_20190815/guppy_3.2.2_08_15_2019_run_02_exec_20190815/sw/fastq_runid_e33d821ff769cbb24ed5af866a50887f3e1ea5c3_8_1.tsv\n",
      "[11:23:09 - __main__] Starting fastq (33 of 323)\n",
      "\t/path/to/data/MinION_sequencing_data_20190815/guppy_3.2.2_08_15_2019_run_02_exec_20190815/pass/fastq_runid_e33d821ff769cbb24ed5af866a50887f3e1ea5c3_8_2.fastq\n"
     ]
    },
    {
     "name": "stdout",
     "output_type": "stream",
     "text": [
      "[########################################] | 100% Completed |  1min 25.8s\n"
     ]
    },
    {
     "name": "stderr",
     "output_type": "stream",
     "text": [
      "[11:24:35 - __main__] Saving to file: /path/to/data/MinION_sequencing_data_20190815/guppy_3.2.2_08_15_2019_run_02_exec_20190815/sw/fastq_runid_e33d821ff769cbb24ed5af866a50887f3e1ea5c3_8_2.tsv\n",
      "[11:24:35 - __main__] Starting fastq (34 of 323)\n",
      "\t/path/to/data/MinION_sequencing_data_20190815/guppy_3.2.2_08_15_2019_run_02_exec_20190815/pass/fastq_runid_e33d821ff769cbb24ed5af866a50887f3e1ea5c3_9_0.fastq\n"
     ]
    },
    {
     "name": "stdout",
     "output_type": "stream",
     "text": [
      "[########################################] | 100% Completed |  1min  0.5s\n"
     ]
    },
    {
     "name": "stderr",
     "output_type": "stream",
     "text": [
      "[11:25:36 - __main__] Saving to file: /path/to/data/MinION_sequencing_data_20190815/guppy_3.2.2_08_15_2019_run_02_exec_20190815/sw/fastq_runid_e33d821ff769cbb24ed5af866a50887f3e1ea5c3_9_0.tsv\n",
      "[11:25:36 - __main__] Starting fastq (35 of 323)\n",
      "\t/path/to/data/MinION_sequencing_data_20190815/guppy_3.2.2_08_15_2019_run_02_exec_20190815/pass/fastq_runid_e33d821ff769cbb24ed5af866a50887f3e1ea5c3_9_1.fastq\n"
     ]
    },
    {
     "name": "stdout",
     "output_type": "stream",
     "text": [
      "[########################################] | 100% Completed |  1min 21.8s\n"
     ]
    },
    {
     "name": "stderr",
     "output_type": "stream",
     "text": [
      "[11:26:58 - __main__] Saving to file: /path/to/data/MinION_sequencing_data_20190815/guppy_3.2.2_08_15_2019_run_02_exec_20190815/sw/fastq_runid_e33d821ff769cbb24ed5af866a50887f3e1ea5c3_9_1.tsv\n",
      "[11:26:58 - __main__] Starting fastq (36 of 323)\n",
      "\t/path/to/data/MinION_sequencing_data_20190815/guppy_3.2.2_08_15_2019_run_02_exec_20190815/pass/fastq_runid_e33d821ff769cbb24ed5af866a50887f3e1ea5c3_7_3.fastq\n"
     ]
    },
    {
     "name": "stdout",
     "output_type": "stream",
     "text": [
      "[########################################] | 100% Completed | 12.4s\n"
     ]
    },
    {
     "name": "stderr",
     "output_type": "stream",
     "text": [
      "[11:27:11 - __main__] Saving to file: /path/to/data/MinION_sequencing_data_20190815/guppy_3.2.2_08_15_2019_run_02_exec_20190815/sw/fastq_runid_e33d821ff769cbb24ed5af866a50887f3e1ea5c3_7_3.tsv\n",
      "[11:27:11 - __main__] Starting fastq (37 of 323)\n",
      "\t/path/to/data/MinION_sequencing_data_20190815/guppy_3.2.2_08_15_2019_run_02_exec_20190815/pass/fastq_runid_e33d821ff769cbb24ed5af866a50887f3e1ea5c3_8_3.fastq\n"
     ]
    },
    {
     "name": "stdout",
     "output_type": "stream",
     "text": [
      "[########################################] | 100% Completed |  3.2s\n"
     ]
    },
    {
     "name": "stderr",
     "output_type": "stream",
     "text": [
      "[11:27:15 - __main__] Saving to file: /path/to/data/MinION_sequencing_data_20190815/guppy_3.2.2_08_15_2019_run_02_exec_20190815/sw/fastq_runid_e33d821ff769cbb24ed5af866a50887f3e1ea5c3_8_3.tsv\n",
      "[11:27:15 - __main__] Starting fastq (38 of 323)\n",
      "\t/path/to/data/MinION_sequencing_data_20190815/guppy_3.2.2_08_15_2019_run_02_exec_20190815/pass/fastq_runid_e33d821ff769cbb24ed5af866a50887f3e1ea5c3_9_2.fastq\n"
     ]
    },
    {
     "name": "stdout",
     "output_type": "stream",
     "text": [
      "[########################################] | 100% Completed |  6.4s\n"
     ]
    },
    {
     "name": "stderr",
     "output_type": "stream",
     "text": [
      "[11:27:21 - __main__] Saving to file: /path/to/data/MinION_sequencing_data_20190815/guppy_3.2.2_08_15_2019_run_02_exec_20190815/sw/fastq_runid_e33d821ff769cbb24ed5af866a50887f3e1ea5c3_9_2.tsv\n",
      "[11:27:21 - __main__] Starting fastq (39 of 323)\n",
      "\t/path/to/data/MinION_sequencing_data_20190815/guppy_3.2.2_08_15_2019_run_02_exec_20190815/pass/fastq_runid_e33d821ff769cbb24ed5af866a50887f3e1ea5c3_10_0.fastq\n"
     ]
    },
    {
     "name": "stdout",
     "output_type": "stream",
     "text": [
      "[########################################] | 100% Completed | 57.4s\n"
     ]
    },
    {
     "name": "stderr",
     "output_type": "stream",
     "text": [
      "[11:28:19 - __main__] Saving to file: /path/to/data/MinION_sequencing_data_20190815/guppy_3.2.2_08_15_2019_run_02_exec_20190815/sw/fastq_runid_e33d821ff769cbb24ed5af866a50887f3e1ea5c3_10_0.tsv\n",
      "[11:28:19 - __main__] Starting fastq (40 of 323)\n",
      "\t/path/to/data/MinION_sequencing_data_20190815/guppy_3.2.2_08_15_2019_run_02_exec_20190815/pass/fastq_runid_e33d821ff769cbb24ed5af866a50887f3e1ea5c3_10_1.fastq\n"
     ]
    },
    {
     "name": "stdout",
     "output_type": "stream",
     "text": [
      "[########################################] | 100% Completed |  1min 29.3s\n"
     ]
    },
    {
     "name": "stderr",
     "output_type": "stream",
     "text": [
      "[11:29:49 - __main__] Saving to file: /path/to/data/MinION_sequencing_data_20190815/guppy_3.2.2_08_15_2019_run_02_exec_20190815/sw/fastq_runid_e33d821ff769cbb24ed5af866a50887f3e1ea5c3_10_1.tsv\n",
      "[11:29:49 - __main__] Starting fastq (41 of 323)\n",
      "\t/path/to/data/MinION_sequencing_data_20190815/guppy_3.2.2_08_15_2019_run_02_exec_20190815/pass/fastq_runid_e33d821ff769cbb24ed5af866a50887f3e1ea5c3_10_2.fastq\n"
     ]
    },
    {
     "name": "stdout",
     "output_type": "stream",
     "text": [
      "[########################################] | 100% Completed |  7.6s\n"
     ]
    },
    {
     "name": "stderr",
     "output_type": "stream",
     "text": [
      "[11:29:57 - __main__] Saving to file: /path/to/data/MinION_sequencing_data_20190815/guppy_3.2.2_08_15_2019_run_02_exec_20190815/sw/fastq_runid_e33d821ff769cbb24ed5af866a50887f3e1ea5c3_10_2.tsv\n",
      "[11:29:57 - __main__] Starting fastq (42 of 323)\n",
      "\t/path/to/data/MinION_sequencing_data_20190815/guppy_3.2.2_08_15_2019_run_02_exec_20190815/pass/fastq_runid_e33d821ff769cbb24ed5af866a50887f3e1ea5c3_11_0.fastq\n"
     ]
    },
    {
     "name": "stdout",
     "output_type": "stream",
     "text": [
      "[########################################] | 100% Completed |  1min 13.7s\n"
     ]
    },
    {
     "name": "stderr",
     "output_type": "stream",
     "text": [
      "[11:31:11 - __main__] Saving to file: /path/to/data/MinION_sequencing_data_20190815/guppy_3.2.2_08_15_2019_run_02_exec_20190815/sw/fastq_runid_e33d821ff769cbb24ed5af866a50887f3e1ea5c3_11_0.tsv\n",
      "[11:31:11 - __main__] Starting fastq (43 of 323)\n",
      "\t/path/to/data/MinION_sequencing_data_20190815/guppy_3.2.2_08_15_2019_run_02_exec_20190815/pass/fastq_runid_e33d821ff769cbb24ed5af866a50887f3e1ea5c3_11_1.fastq\n"
     ]
    },
    {
     "name": "stdout",
     "output_type": "stream",
     "text": [
      "[########################################] | 100% Completed |  1min 11.4s\n"
     ]
    },
    {
     "name": "stderr",
     "output_type": "stream",
     "text": [
      "[11:32:23 - __main__] Saving to file: /path/to/data/MinION_sequencing_data_20190815/guppy_3.2.2_08_15_2019_run_02_exec_20190815/sw/fastq_runid_e33d821ff769cbb24ed5af866a50887f3e1ea5c3_11_1.tsv\n",
      "[11:32:23 - __main__] Starting fastq (44 of 323)\n",
      "\t/path/to/data/MinION_sequencing_data_20190815/guppy_3.2.2_08_15_2019_run_02_exec_20190815/pass/fastq_runid_e33d821ff769cbb24ed5af866a50887f3e1ea5c3_12_0.fastq\n"
     ]
    },
    {
     "name": "stdout",
     "output_type": "stream",
     "text": [
      "[########################################] | 100% Completed | 50.7s\n"
     ]
    },
    {
     "name": "stderr",
     "output_type": "stream",
     "text": [
      "[11:33:14 - __main__] Saving to file: /path/to/data/MinION_sequencing_data_20190815/guppy_3.2.2_08_15_2019_run_02_exec_20190815/sw/fastq_runid_e33d821ff769cbb24ed5af866a50887f3e1ea5c3_12_0.tsv\n",
      "[11:33:14 - __main__] Starting fastq (45 of 323)\n",
      "\t/path/to/data/MinION_sequencing_data_20190815/guppy_3.2.2_08_15_2019_run_02_exec_20190815/pass/fastq_runid_e33d821ff769cbb24ed5af866a50887f3e1ea5c3_11_2.fastq\n"
     ]
    },
    {
     "name": "stdout",
     "output_type": "stream",
     "text": [
      "[########################################] | 100% Completed |  6.8s\n"
     ]
    },
    {
     "name": "stderr",
     "output_type": "stream",
     "text": [
      "[11:33:22 - __main__] Saving to file: /path/to/data/MinION_sequencing_data_20190815/guppy_3.2.2_08_15_2019_run_02_exec_20190815/sw/fastq_runid_e33d821ff769cbb24ed5af866a50887f3e1ea5c3_11_2.tsv\n",
      "[11:33:22 - __main__] Starting fastq (46 of 323)\n",
      "\t/path/to/data/MinION_sequencing_data_20190815/guppy_3.2.2_08_15_2019_run_02_exec_20190815/pass/fastq_runid_e33d821ff769cbb24ed5af866a50887f3e1ea5c3_12_1.fastq\n"
     ]
    },
    {
     "name": "stdout",
     "output_type": "stream",
     "text": [
      "[########################################] | 100% Completed |  1min 37.7s\n"
     ]
    },
    {
     "name": "stderr",
     "output_type": "stream",
     "text": [
      "[11:35:00 - __main__] Saving to file: /path/to/data/MinION_sequencing_data_20190815/guppy_3.2.2_08_15_2019_run_02_exec_20190815/sw/fastq_runid_e33d821ff769cbb24ed5af866a50887f3e1ea5c3_12_1.tsv\n",
      "[11:35:00 - __main__] Starting fastq (47 of 323)\n",
      "\t/path/to/data/MinION_sequencing_data_20190815/guppy_3.2.2_08_15_2019_run_02_exec_20190815/pass/fastq_runid_e33d821ff769cbb24ed5af866a50887f3e1ea5c3_9_3.fastq\n"
     ]
    },
    {
     "name": "stdout",
     "output_type": "stream",
     "text": [
      "[########################################] | 100% Completed |  6.0s\n"
     ]
    },
    {
     "name": "stderr",
     "output_type": "stream",
     "text": [
      "[11:35:06 - __main__] Saving to file: /path/to/data/MinION_sequencing_data_20190815/guppy_3.2.2_08_15_2019_run_02_exec_20190815/sw/fastq_runid_e33d821ff769cbb24ed5af866a50887f3e1ea5c3_9_3.tsv\n",
      "[11:35:06 - __main__] Starting fastq (48 of 323)\n",
      "\t/path/to/data/MinION_sequencing_data_20190815/guppy_3.2.2_08_15_2019_run_02_exec_20190815/pass/fastq_runid_e33d821ff769cbb24ed5af866a50887f3e1ea5c3_12_2.fastq\n"
     ]
    },
    {
     "name": "stdout",
     "output_type": "stream",
     "text": [
      "[########################################] | 100% Completed |  4.0s\n"
     ]
    },
    {
     "name": "stderr",
     "output_type": "stream",
     "text": [
      "[11:35:11 - __main__] Saving to file: /path/to/data/MinION_sequencing_data_20190815/guppy_3.2.2_08_15_2019_run_02_exec_20190815/sw/fastq_runid_e33d821ff769cbb24ed5af866a50887f3e1ea5c3_12_2.tsv\n",
      "[11:35:11 - __main__] Starting fastq (49 of 323)\n",
      "\t/path/to/data/MinION_sequencing_data_20190815/guppy_3.2.2_08_15_2019_run_02_exec_20190815/pass/fastq_runid_e33d821ff769cbb24ed5af866a50887f3e1ea5c3_12_3.fastq\n"
     ]
    },
    {
     "name": "stdout",
     "output_type": "stream",
     "text": [
      "[########################################] | 100% Completed |  1.4s\n"
     ]
    },
    {
     "name": "stderr",
     "output_type": "stream",
     "text": [
      "[11:35:12 - __main__] Saving to file: /path/to/data/MinION_sequencing_data_20190815/guppy_3.2.2_08_15_2019_run_02_exec_20190815/sw/fastq_runid_e33d821ff769cbb24ed5af866a50887f3e1ea5c3_12_3.tsv\n",
      "[11:35:12 - __main__] Starting fastq (50 of 323)\n",
      "\t/path/to/data/MinION_sequencing_data_20190815/guppy_3.2.2_08_15_2019_run_02_exec_20190815/pass/fastq_runid_e33d821ff769cbb24ed5af866a50887f3e1ea5c3_13_0.fastq\n"
     ]
    },
    {
     "name": "stdout",
     "output_type": "stream",
     "text": [
      "[########################################] | 100% Completed | 26.4s\n"
     ]
    },
    {
     "name": "stderr",
     "output_type": "stream",
     "text": [
      "[11:35:39 - __main__] Saving to file: /path/to/data/MinION_sequencing_data_20190815/guppy_3.2.2_08_15_2019_run_02_exec_20190815/sw/fastq_runid_e33d821ff769cbb24ed5af866a50887f3e1ea5c3_13_0.tsv\n",
      "[11:35:39 - __main__] Starting fastq (51 of 323)\n",
      "\t/path/to/data/MinION_sequencing_data_20190815/guppy_3.2.2_08_15_2019_run_02_exec_20190815/pass/fastq_runid_e33d821ff769cbb24ed5af866a50887f3e1ea5c3_13_1.fastq\n"
     ]
    },
    {
     "name": "stdout",
     "output_type": "stream",
     "text": [
      "[########################################] | 100% Completed | 45.2s\n"
     ]
    },
    {
     "name": "stderr",
     "output_type": "stream",
     "text": [
      "[11:36:25 - __main__] Saving to file: /path/to/data/MinION_sequencing_data_20190815/guppy_3.2.2_08_15_2019_run_02_exec_20190815/sw/fastq_runid_e33d821ff769cbb24ed5af866a50887f3e1ea5c3_13_1.tsv\n",
      "[11:36:25 - __main__] Starting fastq (52 of 323)\n",
      "\t/path/to/data/MinION_sequencing_data_20190815/guppy_3.2.2_08_15_2019_run_02_exec_20190815/pass/fastq_runid_e33d821ff769cbb24ed5af866a50887f3e1ea5c3_10_3.fastq\n"
     ]
    },
    {
     "name": "stdout",
     "output_type": "stream",
     "text": [
      "[########################################] | 100% Completed |  0.9s\n"
     ]
    },
    {
     "name": "stderr",
     "output_type": "stream",
     "text": [
      "[11:36:26 - __main__] Saving to file: /path/to/data/MinION_sequencing_data_20190815/guppy_3.2.2_08_15_2019_run_02_exec_20190815/sw/fastq_runid_e33d821ff769cbb24ed5af866a50887f3e1ea5c3_10_3.tsv\n",
      "[11:36:26 - __main__] Starting fastq (53 of 323)\n",
      "\t/path/to/data/MinION_sequencing_data_20190815/guppy_3.2.2_08_15_2019_run_02_exec_20190815/pass/fastq_runid_e33d821ff769cbb24ed5af866a50887f3e1ea5c3_11_3.fastq\n"
     ]
    },
    {
     "name": "stdout",
     "output_type": "stream",
     "text": [
      "[########################################] | 100% Completed |  1.0s\n"
     ]
    },
    {
     "name": "stderr",
     "output_type": "stream",
     "text": [
      "[11:36:27 - __main__] Saving to file: /path/to/data/MinION_sequencing_data_20190815/guppy_3.2.2_08_15_2019_run_02_exec_20190815/sw/fastq_runid_e33d821ff769cbb24ed5af866a50887f3e1ea5c3_11_3.tsv\n",
      "[11:36:27 - __main__] Starting fastq (54 of 323)\n",
      "\t/path/to/data/MinION_sequencing_data_20190815/guppy_3.2.2_08_15_2019_run_02_exec_20190815/pass/fastq_runid_e33d821ff769cbb24ed5af866a50887f3e1ea5c3_13_2.fastq\n"
     ]
    },
    {
     "name": "stdout",
     "output_type": "stream",
     "text": [
      "[########################################] | 100% Completed | 36.2s\n"
     ]
    },
    {
     "name": "stderr",
     "output_type": "stream",
     "text": [
      "[11:37:04 - __main__] Saving to file: /path/to/data/MinION_sequencing_data_20190815/guppy_3.2.2_08_15_2019_run_02_exec_20190815/sw/fastq_runid_e33d821ff769cbb24ed5af866a50887f3e1ea5c3_13_2.tsv\n",
      "[11:37:04 - __main__] Starting fastq (55 of 323)\n",
      "\t/path/to/data/MinION_sequencing_data_20190815/guppy_3.2.2_08_15_2019_run_02_exec_20190815/pass/fastq_runid_e33d821ff769cbb24ed5af866a50887f3e1ea5c3_14_0.fastq\n"
     ]
    },
    {
     "name": "stdout",
     "output_type": "stream",
     "text": [
      "[########################################] | 100% Completed | 29.6s\n"
     ]
    },
    {
     "name": "stderr",
     "output_type": "stream",
     "text": [
      "[11:37:34 - __main__] Saving to file: /path/to/data/MinION_sequencing_data_20190815/guppy_3.2.2_08_15_2019_run_02_exec_20190815/sw/fastq_runid_e33d821ff769cbb24ed5af866a50887f3e1ea5c3_14_0.tsv\n",
      "[11:37:34 - __main__] Starting fastq (56 of 323)\n",
      "\t/path/to/data/MinION_sequencing_data_20190815/guppy_3.2.2_08_15_2019_run_02_exec_20190815/pass/fastq_runid_e33d821ff769cbb24ed5af866a50887f3e1ea5c3_14_1.fastq\n"
     ]
    },
    {
     "name": "stdout",
     "output_type": "stream",
     "text": [
      "[########################################] | 100% Completed |  1min 53.9s\n"
     ]
    },
    {
     "name": "stderr",
     "output_type": "stream",
     "text": [
      "[11:39:28 - __main__] Saving to file: /path/to/data/MinION_sequencing_data_20190815/guppy_3.2.2_08_15_2019_run_02_exec_20190815/sw/fastq_runid_e33d821ff769cbb24ed5af866a50887f3e1ea5c3_14_1.tsv\n",
      "[11:39:29 - __main__] Starting fastq (57 of 323)\n",
      "\t/path/to/data/MinION_sequencing_data_20190815/guppy_3.2.2_08_15_2019_run_02_exec_20190815/pass/fastq_runid_e33d821ff769cbb24ed5af866a50887f3e1ea5c3_15_0.fastq\n"
     ]
    },
    {
     "name": "stdout",
     "output_type": "stream",
     "text": [
      "[########################################] | 100% Completed |  1min  2.2s\n"
     ]
    },
    {
     "name": "stderr",
     "output_type": "stream",
     "text": [
      "[11:40:31 - __main__] Saving to file: /path/to/data/MinION_sequencing_data_20190815/guppy_3.2.2_08_15_2019_run_02_exec_20190815/sw/fastq_runid_e33d821ff769cbb24ed5af866a50887f3e1ea5c3_15_0.tsv\n",
      "[11:40:31 - __main__] Starting fastq (58 of 323)\n",
      "\t/path/to/data/MinION_sequencing_data_20190815/guppy_3.2.2_08_15_2019_run_02_exec_20190815/pass/fastq_runid_e33d821ff769cbb24ed5af866a50887f3e1ea5c3_14_2.fastq\n"
     ]
    },
    {
     "name": "stdout",
     "output_type": "stream",
     "text": [
      "[########################################] | 100% Completed |  8.8s\n"
     ]
    },
    {
     "name": "stderr",
     "output_type": "stream",
     "text": [
      "[11:40:40 - __main__] Saving to file: /path/to/data/MinION_sequencing_data_20190815/guppy_3.2.2_08_15_2019_run_02_exec_20190815/sw/fastq_runid_e33d821ff769cbb24ed5af866a50887f3e1ea5c3_14_2.tsv\n",
      "[11:40:40 - __main__] Starting fastq (59 of 323)\n",
      "\t/path/to/data/MinION_sequencing_data_20190815/guppy_3.2.2_08_15_2019_run_02_exec_20190815/pass/fastq_runid_e33d821ff769cbb24ed5af866a50887f3e1ea5c3_13_3.fastq\n"
     ]
    },
    {
     "name": "stdout",
     "output_type": "stream",
     "text": [
      "[########################################] | 100% Completed | 47.8s\n"
     ]
    },
    {
     "name": "stderr",
     "output_type": "stream",
     "text": [
      "[11:41:29 - __main__] Saving to file: /path/to/data/MinION_sequencing_data_20190815/guppy_3.2.2_08_15_2019_run_02_exec_20190815/sw/fastq_runid_e33d821ff769cbb24ed5af866a50887f3e1ea5c3_13_3.tsv\n",
      "[11:41:29 - __main__] Starting fastq (60 of 323)\n",
      "\t/path/to/data/MinION_sequencing_data_20190815/guppy_3.2.2_08_15_2019_run_02_exec_20190815/pass/fastq_runid_e33d821ff769cbb24ed5af866a50887f3e1ea5c3_15_1.fastq\n"
     ]
    },
    {
     "name": "stdout",
     "output_type": "stream",
     "text": [
      "[########################################] | 100% Completed |  1min  0.4s\n"
     ]
    },
    {
     "name": "stderr",
     "output_type": "stream",
     "text": [
      "[11:42:29 - __main__] Saving to file: /path/to/data/MinION_sequencing_data_20190815/guppy_3.2.2_08_15_2019_run_02_exec_20190815/sw/fastq_runid_e33d821ff769cbb24ed5af866a50887f3e1ea5c3_15_1.tsv\n",
      "[11:42:30 - __main__] Starting fastq (61 of 323)\n",
      "\t/path/to/data/MinION_sequencing_data_20190815/guppy_3.2.2_08_15_2019_run_02_exec_20190815/pass/fastq_runid_e33d821ff769cbb24ed5af866a50887f3e1ea5c3_16_0.fastq\n"
     ]
    },
    {
     "name": "stdout",
     "output_type": "stream",
     "text": [
      "[########################################] | 100% Completed | 16.8s\n"
     ]
    },
    {
     "name": "stderr",
     "output_type": "stream",
     "text": [
      "[11:42:47 - __main__] Saving to file: /path/to/data/MinION_sequencing_data_20190815/guppy_3.2.2_08_15_2019_run_02_exec_20190815/sw/fastq_runid_e33d821ff769cbb24ed5af866a50887f3e1ea5c3_16_0.tsv\n",
      "[11:42:47 - __main__] Starting fastq (62 of 323)\n",
      "\t/path/to/data/MinION_sequencing_data_20190815/guppy_3.2.2_08_15_2019_run_02_exec_20190815/pass/fastq_runid_e33d821ff769cbb24ed5af866a50887f3e1ea5c3_14_3.fastq\n"
     ]
    },
    {
     "name": "stdout",
     "output_type": "stream",
     "text": [
      "[########################################] | 100% Completed |  1.0s\n"
     ]
    },
    {
     "name": "stderr",
     "output_type": "stream",
     "text": [
      "[11:42:48 - __main__] Saving to file: /path/to/data/MinION_sequencing_data_20190815/guppy_3.2.2_08_15_2019_run_02_exec_20190815/sw/fastq_runid_e33d821ff769cbb24ed5af866a50887f3e1ea5c3_14_3.tsv\n",
      "[11:42:48 - __main__] Starting fastq (63 of 323)\n",
      "\t/path/to/data/MinION_sequencing_data_20190815/guppy_3.2.2_08_15_2019_run_02_exec_20190815/pass/fastq_runid_e33d821ff769cbb24ed5af866a50887f3e1ea5c3_15_2.fastq\n"
     ]
    },
    {
     "name": "stdout",
     "output_type": "stream",
     "text": [
      "[########################################] | 100% Completed | 30.5s\n"
     ]
    },
    {
     "name": "stderr",
     "output_type": "stream",
     "text": [
      "[11:43:19 - __main__] Saving to file: /path/to/data/MinION_sequencing_data_20190815/guppy_3.2.2_08_15_2019_run_02_exec_20190815/sw/fastq_runid_e33d821ff769cbb24ed5af866a50887f3e1ea5c3_15_2.tsv\n",
      "[11:43:19 - __main__] Starting fastq (64 of 323)\n",
      "\t/path/to/data/MinION_sequencing_data_20190815/guppy_3.2.2_08_15_2019_run_02_exec_20190815/pass/fastq_runid_e33d821ff769cbb24ed5af866a50887f3e1ea5c3_17_0.fastq\n"
     ]
    },
    {
     "name": "stdout",
     "output_type": "stream",
     "text": [
      "[########################################] | 100% Completed |  1min 23.9s\n"
     ]
    },
    {
     "name": "stderr",
     "output_type": "stream",
     "text": [
      "[11:44:43 - __main__] Saving to file: /path/to/data/MinION_sequencing_data_20190815/guppy_3.2.2_08_15_2019_run_02_exec_20190815/sw/fastq_runid_e33d821ff769cbb24ed5af866a50887f3e1ea5c3_17_0.tsv\n",
      "[11:44:43 - __main__] Starting fastq (65 of 323)\n",
      "\t/path/to/data/MinION_sequencing_data_20190815/guppy_3.2.2_08_15_2019_run_02_exec_20190815/pass/fastq_runid_e33d821ff769cbb24ed5af866a50887f3e1ea5c3_15_3.fastq\n"
     ]
    },
    {
     "name": "stdout",
     "output_type": "stream",
     "text": [
      "[########################################] | 100% Completed |  1.4s\n"
     ]
    },
    {
     "name": "stderr",
     "output_type": "stream",
     "text": [
      "[11:44:45 - __main__] Saving to file: /path/to/data/MinION_sequencing_data_20190815/guppy_3.2.2_08_15_2019_run_02_exec_20190815/sw/fastq_runid_e33d821ff769cbb24ed5af866a50887f3e1ea5c3_15_3.tsv\n",
      "[11:44:45 - __main__] Starting fastq (66 of 323)\n",
      "\t/path/to/data/MinION_sequencing_data_20190815/guppy_3.2.2_08_15_2019_run_02_exec_20190815/pass/fastq_runid_e33d821ff769cbb24ed5af866a50887f3e1ea5c3_16_1.fastq\n"
     ]
    },
    {
     "name": "stdout",
     "output_type": "stream",
     "text": [
      "[########################################] | 100% Completed |  1min  2.5s\n"
     ]
    },
    {
     "name": "stderr",
     "output_type": "stream",
     "text": [
      "[11:45:48 - __main__] Saving to file: /path/to/data/MinION_sequencing_data_20190815/guppy_3.2.2_08_15_2019_run_02_exec_20190815/sw/fastq_runid_e33d821ff769cbb24ed5af866a50887f3e1ea5c3_16_1.tsv\n",
      "[11:45:48 - __main__] Starting fastq (67 of 323)\n",
      "\t/path/to/data/MinION_sequencing_data_20190815/guppy_3.2.2_08_15_2019_run_02_exec_20190815/pass/fastq_runid_e33d821ff769cbb24ed5af866a50887f3e1ea5c3_16_2.fastq\n"
     ]
    },
    {
     "name": "stdout",
     "output_type": "stream",
     "text": [
      "[########################################] | 100% Completed | 45.2s\n"
     ]
    },
    {
     "name": "stderr",
     "output_type": "stream",
     "text": [
      "[11:46:34 - __main__] Saving to file: /path/to/data/MinION_sequencing_data_20190815/guppy_3.2.2_08_15_2019_run_02_exec_20190815/sw/fastq_runid_e33d821ff769cbb24ed5af866a50887f3e1ea5c3_16_2.tsv\n",
      "[11:46:34 - __main__] Starting fastq (68 of 323)\n",
      "\t/path/to/data/MinION_sequencing_data_20190815/guppy_3.2.2_08_15_2019_run_02_exec_20190815/pass/fastq_runid_e33d821ff769cbb24ed5af866a50887f3e1ea5c3_16_3.fastq\n"
     ]
    },
    {
     "name": "stdout",
     "output_type": "stream",
     "text": [
      "[########################################] | 100% Completed | 26.0s\n"
     ]
    },
    {
     "name": "stderr",
     "output_type": "stream",
     "text": [
      "[11:47:00 - __main__] Saving to file: /path/to/data/MinION_sequencing_data_20190815/guppy_3.2.2_08_15_2019_run_02_exec_20190815/sw/fastq_runid_e33d821ff769cbb24ed5af866a50887f3e1ea5c3_16_3.tsv\n",
      "[11:47:00 - __main__] Starting fastq (69 of 323)\n",
      "\t/path/to/data/MinION_sequencing_data_20190815/guppy_3.2.2_08_15_2019_run_02_exec_20190815/pass/fastq_runid_e33d821ff769cbb24ed5af866a50887f3e1ea5c3_17_1.fastq\n"
     ]
    },
    {
     "name": "stdout",
     "output_type": "stream",
     "text": [
      "[########################################] | 100% Completed | 35.4s\n"
     ]
    },
    {
     "name": "stderr",
     "output_type": "stream",
     "text": [
      "[11:47:36 - __main__] Saving to file: /path/to/data/MinION_sequencing_data_20190815/guppy_3.2.2_08_15_2019_run_02_exec_20190815/sw/fastq_runid_e33d821ff769cbb24ed5af866a50887f3e1ea5c3_17_1.tsv\n",
      "[11:47:36 - __main__] Starting fastq (70 of 323)\n",
      "\t/path/to/data/MinION_sequencing_data_20190815/guppy_3.2.2_08_15_2019_run_02_exec_20190815/pass/fastq_runid_e33d821ff769cbb24ed5af866a50887f3e1ea5c3_18_0.fastq\n"
     ]
    },
    {
     "name": "stdout",
     "output_type": "stream",
     "text": [
      "[########################################] | 100% Completed | 55.6s\n"
     ]
    },
    {
     "name": "stderr",
     "output_type": "stream",
     "text": [
      "[11:48:32 - __main__] Saving to file: /path/to/data/MinION_sequencing_data_20190815/guppy_3.2.2_08_15_2019_run_02_exec_20190815/sw/fastq_runid_e33d821ff769cbb24ed5af866a50887f3e1ea5c3_18_0.tsv\n",
      "[11:48:32 - __main__] Starting fastq (71 of 323)\n",
      "\t/path/to/data/MinION_sequencing_data_20190815/guppy_3.2.2_08_15_2019_run_02_exec_20190815/pass/fastq_runid_e33d821ff769cbb24ed5af866a50887f3e1ea5c3_18_1.fastq\n"
     ]
    },
    {
     "name": "stdout",
     "output_type": "stream",
     "text": [
      "[########################################] | 100% Completed | 53.2s\n"
     ]
    },
    {
     "name": "stderr",
     "output_type": "stream",
     "text": [
      "[11:49:26 - __main__] Saving to file: /path/to/data/MinION_sequencing_data_20190815/guppy_3.2.2_08_15_2019_run_02_exec_20190815/sw/fastq_runid_e33d821ff769cbb24ed5af866a50887f3e1ea5c3_18_1.tsv\n",
      "[11:49:26 - __main__] Starting fastq (72 of 323)\n",
      "\t/path/to/data/MinION_sequencing_data_20190815/guppy_3.2.2_08_15_2019_run_02_exec_20190815/pass/fastq_runid_e33d821ff769cbb24ed5af866a50887f3e1ea5c3_18_2.fastq\n"
     ]
    },
    {
     "name": "stdout",
     "output_type": "stream",
     "text": [
      "[########################################] | 100% Completed | 26.0s\n"
     ]
    },
    {
     "name": "stderr",
     "output_type": "stream",
     "text": [
      "[11:49:52 - __main__] Saving to file: /path/to/data/MinION_sequencing_data_20190815/guppy_3.2.2_08_15_2019_run_02_exec_20190815/sw/fastq_runid_e33d821ff769cbb24ed5af866a50887f3e1ea5c3_18_2.tsv\n",
      "[11:49:52 - __main__] Starting fastq (73 of 323)\n",
      "\t/path/to/data/MinION_sequencing_data_20190815/guppy_3.2.2_08_15_2019_run_02_exec_20190815/pass/fastq_runid_e33d821ff769cbb24ed5af866a50887f3e1ea5c3_17_2.fastq\n"
     ]
    },
    {
     "name": "stdout",
     "output_type": "stream",
     "text": [
      "[########################################] | 100% Completed |  0.9s\n"
     ]
    },
    {
     "name": "stderr",
     "output_type": "stream",
     "text": [
      "[11:49:54 - __main__] Saving to file: /path/to/data/MinION_sequencing_data_20190815/guppy_3.2.2_08_15_2019_run_02_exec_20190815/sw/fastq_runid_e33d821ff769cbb24ed5af866a50887f3e1ea5c3_17_2.tsv\n",
      "[11:49:54 - __main__] Starting fastq (74 of 323)\n",
      "\t/path/to/data/MinION_sequencing_data_20190815/guppy_3.2.2_08_15_2019_run_02_exec_20190815/pass/fastq_runid_e33d821ff769cbb24ed5af866a50887f3e1ea5c3_19_0.fastq\n"
     ]
    },
    {
     "name": "stdout",
     "output_type": "stream",
     "text": [
      "[########################################] | 100% Completed |  1min  9.1s\n"
     ]
    },
    {
     "name": "stderr",
     "output_type": "stream",
     "text": [
      "[11:51:03 - __main__] Saving to file: /path/to/data/MinION_sequencing_data_20190815/guppy_3.2.2_08_15_2019_run_02_exec_20190815/sw/fastq_runid_e33d821ff769cbb24ed5af866a50887f3e1ea5c3_19_0.tsv\n",
      "[11:51:03 - __main__] Starting fastq (75 of 323)\n",
      "\t/path/to/data/MinION_sequencing_data_20190815/guppy_3.2.2_08_15_2019_run_02_exec_20190815/pass/fastq_runid_e33d821ff769cbb24ed5af866a50887f3e1ea5c3_17_3.fastq\n"
     ]
    },
    {
     "name": "stdout",
     "output_type": "stream",
     "text": [
      "[########################################] | 100% Completed | 28.5s\n"
     ]
    },
    {
     "name": "stderr",
     "output_type": "stream",
     "text": [
      "[11:51:32 - __main__] Saving to file: /path/to/data/MinION_sequencing_data_20190815/guppy_3.2.2_08_15_2019_run_02_exec_20190815/sw/fastq_runid_e33d821ff769cbb24ed5af866a50887f3e1ea5c3_17_3.tsv\n",
      "[11:51:32 - __main__] Starting fastq (76 of 323)\n",
      "\t/path/to/data/MinION_sequencing_data_20190815/guppy_3.2.2_08_15_2019_run_02_exec_20190815/pass/fastq_runid_e33d821ff769cbb24ed5af866a50887f3e1ea5c3_19_1.fastq\n"
     ]
    },
    {
     "name": "stdout",
     "output_type": "stream",
     "text": [
      "[########################################] | 100% Completed |  4.4s\n"
     ]
    },
    {
     "name": "stderr",
     "output_type": "stream",
     "text": [
      "[11:51:37 - __main__] Saving to file: /path/to/data/MinION_sequencing_data_20190815/guppy_3.2.2_08_15_2019_run_02_exec_20190815/sw/fastq_runid_e33d821ff769cbb24ed5af866a50887f3e1ea5c3_19_1.tsv\n",
      "[11:51:37 - __main__] Starting fastq (77 of 323)\n",
      "\t/path/to/data/MinION_sequencing_data_20190815/guppy_3.2.2_08_15_2019_run_02_exec_20190815/pass/fastq_runid_e33d821ff769cbb24ed5af866a50887f3e1ea5c3_20_0.fastq\n"
     ]
    },
    {
     "name": "stdout",
     "output_type": "stream",
     "text": [
      "[########################################] | 100% Completed |  1min 31.6s\n"
     ]
    },
    {
     "name": "stderr",
     "output_type": "stream",
     "text": [
      "[11:53:09 - __main__] Saving to file: /path/to/data/MinION_sequencing_data_20190815/guppy_3.2.2_08_15_2019_run_02_exec_20190815/sw/fastq_runid_e33d821ff769cbb24ed5af866a50887f3e1ea5c3_20_0.tsv\n",
      "[11:53:09 - __main__] Starting fastq (78 of 323)\n",
      "\t/path/to/data/MinION_sequencing_data_20190815/guppy_3.2.2_08_15_2019_run_02_exec_20190815/pass/fastq_runid_e33d821ff769cbb24ed5af866a50887f3e1ea5c3_18_3.fastq\n"
     ]
    },
    {
     "name": "stdout",
     "output_type": "stream",
     "text": [
      "[########################################] | 100% Completed | 15.0s\n"
     ]
    },
    {
     "name": "stderr",
     "output_type": "stream",
     "text": [
      "[11:53:24 - __main__] Saving to file: /path/to/data/MinION_sequencing_data_20190815/guppy_3.2.2_08_15_2019_run_02_exec_20190815/sw/fastq_runid_e33d821ff769cbb24ed5af866a50887f3e1ea5c3_18_3.tsv\n",
      "[11:53:24 - __main__] Starting fastq (79 of 323)\n",
      "\t/path/to/data/MinION_sequencing_data_20190815/guppy_3.2.2_08_15_2019_run_02_exec_20190815/pass/fastq_runid_e33d821ff769cbb24ed5af866a50887f3e1ea5c3_19_2.fastq\n"
     ]
    },
    {
     "name": "stdout",
     "output_type": "stream",
     "text": [
      "[########################################] | 100% Completed |  1min 14.3s\n"
     ]
    },
    {
     "name": "stderr",
     "output_type": "stream",
     "text": [
      "[11:54:39 - __main__] Saving to file: /path/to/data/MinION_sequencing_data_20190815/guppy_3.2.2_08_15_2019_run_02_exec_20190815/sw/fastq_runid_e33d821ff769cbb24ed5af866a50887f3e1ea5c3_19_2.tsv\n",
      "[11:54:39 - __main__] Starting fastq (80 of 323)\n",
      "\t/path/to/data/MinION_sequencing_data_20190815/guppy_3.2.2_08_15_2019_run_02_exec_20190815/pass/fastq_runid_e33d821ff769cbb24ed5af866a50887f3e1ea5c3_19_3.fastq\n"
     ]
    },
    {
     "name": "stdout",
     "output_type": "stream",
     "text": [
      "[########################################] | 100% Completed |  1.0s\n"
     ]
    },
    {
     "name": "stderr",
     "output_type": "stream",
     "text": [
      "[11:54:41 - __main__] Saving to file: /path/to/data/MinION_sequencing_data_20190815/guppy_3.2.2_08_15_2019_run_02_exec_20190815/sw/fastq_runid_e33d821ff769cbb24ed5af866a50887f3e1ea5c3_19_3.tsv\n",
      "[11:54:41 - __main__] Starting fastq (81 of 323)\n",
      "\t/path/to/data/MinION_sequencing_data_20190815/guppy_3.2.2_08_15_2019_run_02_exec_20190815/pass/fastq_runid_e33d821ff769cbb24ed5af866a50887f3e1ea5c3_20_1.fastq\n"
     ]
    },
    {
     "name": "stdout",
     "output_type": "stream",
     "text": [
      "[########################################] | 100% Completed |  2.8s\n"
     ]
    },
    {
     "name": "stderr",
     "output_type": "stream",
     "text": [
      "[11:54:44 - __main__] Saving to file: /path/to/data/MinION_sequencing_data_20190815/guppy_3.2.2_08_15_2019_run_02_exec_20190815/sw/fastq_runid_e33d821ff769cbb24ed5af866a50887f3e1ea5c3_20_1.tsv\n",
      "[11:54:44 - __main__] Starting fastq (82 of 323)\n",
      "\t/path/to/data/MinION_sequencing_data_20190815/guppy_3.2.2_08_15_2019_run_02_exec_20190815/pass/fastq_runid_e33d821ff769cbb24ed5af866a50887f3e1ea5c3_21_0.fastq\n"
     ]
    },
    {
     "name": "stdout",
     "output_type": "stream",
     "text": [
      "[########################################] | 100% Completed |  1min 25.3s\n"
     ]
    },
    {
     "name": "stderr",
     "output_type": "stream",
     "text": [
      "[11:56:09 - __main__] Saving to file: /path/to/data/MinION_sequencing_data_20190815/guppy_3.2.2_08_15_2019_run_02_exec_20190815/sw/fastq_runid_e33d821ff769cbb24ed5af866a50887f3e1ea5c3_21_0.tsv\n",
      "[11:56:10 - __main__] Starting fastq (83 of 323)\n",
      "\t/path/to/data/MinION_sequencing_data_20190815/guppy_3.2.2_08_15_2019_run_02_exec_20190815/pass/fastq_runid_e33d821ff769cbb24ed5af866a50887f3e1ea5c3_20_2.fastq\n"
     ]
    },
    {
     "name": "stdout",
     "output_type": "stream",
     "text": [
      "[########################################] | 100% Completed | 52.0s\n"
     ]
    },
    {
     "name": "stderr",
     "output_type": "stream",
     "text": [
      "[11:57:02 - __main__] Saving to file: /path/to/data/MinION_sequencing_data_20190815/guppy_3.2.2_08_15_2019_run_02_exec_20190815/sw/fastq_runid_e33d821ff769cbb24ed5af866a50887f3e1ea5c3_20_2.tsv\n",
      "[11:57:02 - __main__] Starting fastq (84 of 323)\n",
      "\t/path/to/data/MinION_sequencing_data_20190815/guppy_3.2.2_08_15_2019_run_02_exec_20190815/pass/fastq_runid_e33d821ff769cbb24ed5af866a50887f3e1ea5c3_20_3.fastq\n"
     ]
    },
    {
     "name": "stdout",
     "output_type": "stream",
     "text": [
      "[########################################] | 100% Completed |  2.9s\n"
     ]
    },
    {
     "name": "stderr",
     "output_type": "stream",
     "text": [
      "[11:57:05 - __main__] Saving to file: /path/to/data/MinION_sequencing_data_20190815/guppy_3.2.2_08_15_2019_run_02_exec_20190815/sw/fastq_runid_e33d821ff769cbb24ed5af866a50887f3e1ea5c3_20_3.tsv\n",
      "[11:57:05 - __main__] Starting fastq (85 of 323)\n",
      "\t/path/to/data/MinION_sequencing_data_20190815/guppy_3.2.2_08_15_2019_run_02_exec_20190815/pass/fastq_runid_e33d821ff769cbb24ed5af866a50887f3e1ea5c3_21_1.fastq\n"
     ]
    },
    {
     "name": "stdout",
     "output_type": "stream",
     "text": [
      "[########################################] | 100% Completed | 46.4s\n"
     ]
    },
    {
     "name": "stderr",
     "output_type": "stream",
     "text": [
      "[11:57:52 - __main__] Saving to file: /path/to/data/MinION_sequencing_data_20190815/guppy_3.2.2_08_15_2019_run_02_exec_20190815/sw/fastq_runid_e33d821ff769cbb24ed5af866a50887f3e1ea5c3_21_1.tsv\n",
      "[11:57:52 - __main__] Starting fastq (86 of 323)\n",
      "\t/path/to/data/MinION_sequencing_data_20190815/guppy_3.2.2_08_15_2019_run_02_exec_20190815/pass/fastq_runid_e33d821ff769cbb24ed5af866a50887f3e1ea5c3_22_0.fastq\n"
     ]
    },
    {
     "name": "stdout",
     "output_type": "stream",
     "text": [
      "[########################################] | 100% Completed |  1min  6.5s\n"
     ]
    },
    {
     "name": "stderr",
     "output_type": "stream",
     "text": [
      "[11:58:59 - __main__] Saving to file: /path/to/data/MinION_sequencing_data_20190815/guppy_3.2.2_08_15_2019_run_02_exec_20190815/sw/fastq_runid_e33d821ff769cbb24ed5af866a50887f3e1ea5c3_22_0.tsv\n",
      "[11:58:59 - __main__] Starting fastq (87 of 323)\n",
      "\t/path/to/data/MinION_sequencing_data_20190815/guppy_3.2.2_08_15_2019_run_02_exec_20190815/pass/fastq_runid_e33d821ff769cbb24ed5af866a50887f3e1ea5c3_21_2.fastq\n"
     ]
    },
    {
     "name": "stdout",
     "output_type": "stream",
     "text": [
      "[########################################] | 100% Completed | 18.2s\n"
     ]
    },
    {
     "name": "stderr",
     "output_type": "stream",
     "text": [
      "[11:59:18 - __main__] Saving to file: /path/to/data/MinION_sequencing_data_20190815/guppy_3.2.2_08_15_2019_run_02_exec_20190815/sw/fastq_runid_e33d821ff769cbb24ed5af866a50887f3e1ea5c3_21_2.tsv\n",
      "[11:59:18 - __main__] Starting fastq (88 of 323)\n",
      "\t/path/to/data/MinION_sequencing_data_20190815/guppy_3.2.2_08_15_2019_run_02_exec_20190815/pass/fastq_runid_e33d821ff769cbb24ed5af866a50887f3e1ea5c3_22_1.fastq\n"
     ]
    },
    {
     "name": "stdout",
     "output_type": "stream",
     "text": [
      "[########################################] | 100% Completed | 29.3s\n"
     ]
    },
    {
     "name": "stderr",
     "output_type": "stream",
     "text": [
      "[11:59:47 - __main__] Saving to file: /path/to/data/MinION_sequencing_data_20190815/guppy_3.2.2_08_15_2019_run_02_exec_20190815/sw/fastq_runid_e33d821ff769cbb24ed5af866a50887f3e1ea5c3_22_1.tsv\n",
      "[11:59:48 - __main__] Starting fastq (89 of 323)\n",
      "\t/path/to/data/MinION_sequencing_data_20190815/guppy_3.2.2_08_15_2019_run_02_exec_20190815/pass/fastq_runid_e33d821ff769cbb24ed5af866a50887f3e1ea5c3_22_2.fastq\n"
     ]
    },
    {
     "name": "stdout",
     "output_type": "stream",
     "text": [
      "[########################################] | 100% Completed | 44.9s\n"
     ]
    },
    {
     "name": "stderr",
     "output_type": "stream",
     "text": [
      "[12:00:33 - __main__] Saving to file: /path/to/data/MinION_sequencing_data_20190815/guppy_3.2.2_08_15_2019_run_02_exec_20190815/sw/fastq_runid_e33d821ff769cbb24ed5af866a50887f3e1ea5c3_22_2.tsv\n",
      "[12:00:33 - __main__] Starting fastq (90 of 323)\n",
      "\t/path/to/data/MinION_sequencing_data_20190815/guppy_3.2.2_08_15_2019_run_02_exec_20190815/pass/fastq_runid_e33d821ff769cbb24ed5af866a50887f3e1ea5c3_22_3.fastq\n"
     ]
    },
    {
     "name": "stdout",
     "output_type": "stream",
     "text": [
      "[########################################] | 100% Completed |  6.3s\n"
     ]
    },
    {
     "name": "stderr",
     "output_type": "stream",
     "text": [
      "[12:00:39 - __main__] Saving to file: /path/to/data/MinION_sequencing_data_20190815/guppy_3.2.2_08_15_2019_run_02_exec_20190815/sw/fastq_runid_e33d821ff769cbb24ed5af866a50887f3e1ea5c3_22_3.tsv\n",
      "[12:00:39 - __main__] Starting fastq (91 of 323)\n",
      "\t/path/to/data/MinION_sequencing_data_20190815/guppy_3.2.2_08_15_2019_run_02_exec_20190815/pass/fastq_runid_e33d821ff769cbb24ed5af866a50887f3e1ea5c3_23_0.fastq\n"
     ]
    },
    {
     "name": "stdout",
     "output_type": "stream",
     "text": [
      "[########################################] | 100% Completed | 24.7s\n"
     ]
    },
    {
     "name": "stderr",
     "output_type": "stream",
     "text": [
      "[12:01:04 - __main__] Saving to file: /path/to/data/MinION_sequencing_data_20190815/guppy_3.2.2_08_15_2019_run_02_exec_20190815/sw/fastq_runid_e33d821ff769cbb24ed5af866a50887f3e1ea5c3_23_0.tsv\n",
      "[12:01:04 - __main__] Starting fastq (92 of 323)\n",
      "\t/path/to/data/MinION_sequencing_data_20190815/guppy_3.2.2_08_15_2019_run_02_exec_20190815/pass/fastq_runid_e33d821ff769cbb24ed5af866a50887f3e1ea5c3_23_1.fastq\n"
     ]
    },
    {
     "name": "stdout",
     "output_type": "stream",
     "text": [
      "[########################################] | 100% Completed | 40.2s\n"
     ]
    },
    {
     "name": "stderr",
     "output_type": "stream",
     "text": [
      "[12:01:45 - __main__] Saving to file: /path/to/data/MinION_sequencing_data_20190815/guppy_3.2.2_08_15_2019_run_02_exec_20190815/sw/fastq_runid_e33d821ff769cbb24ed5af866a50887f3e1ea5c3_23_1.tsv\n",
      "[12:01:45 - __main__] Starting fastq (93 of 323)\n",
      "\t/path/to/data/MinION_sequencing_data_20190815/guppy_3.2.2_08_15_2019_run_02_exec_20190815/pass/fastq_runid_e33d821ff769cbb24ed5af866a50887f3e1ea5c3_21_3.fastq\n"
     ]
    },
    {
     "name": "stdout",
     "output_type": "stream",
     "text": [
      "[########################################] | 100% Completed |  1.0s\n"
     ]
    },
    {
     "name": "stderr",
     "output_type": "stream",
     "text": [
      "[12:01:46 - __main__] Saving to file: /path/to/data/MinION_sequencing_data_20190815/guppy_3.2.2_08_15_2019_run_02_exec_20190815/sw/fastq_runid_e33d821ff769cbb24ed5af866a50887f3e1ea5c3_21_3.tsv\n",
      "[12:01:46 - __main__] Starting fastq (94 of 323)\n",
      "\t/path/to/data/MinION_sequencing_data_20190815/guppy_3.2.2_08_15_2019_run_02_exec_20190815/pass/fastq_runid_e33d821ff769cbb24ed5af866a50887f3e1ea5c3_23_2.fastq\n"
     ]
    },
    {
     "name": "stdout",
     "output_type": "stream",
     "text": [
      "[########################################] | 100% Completed |  1min 21.7s\n"
     ]
    },
    {
     "name": "stderr",
     "output_type": "stream",
     "text": [
      "[12:03:09 - __main__] Saving to file: /path/to/data/MinION_sequencing_data_20190815/guppy_3.2.2_08_15_2019_run_02_exec_20190815/sw/fastq_runid_e33d821ff769cbb24ed5af866a50887f3e1ea5c3_23_2.tsv\n",
      "[12:03:09 - __main__] Starting fastq (95 of 323)\n",
      "\t/path/to/data/MinION_sequencing_data_20190815/guppy_3.2.2_08_15_2019_run_02_exec_20190815/pass/fastq_runid_e33d821ff769cbb24ed5af866a50887f3e1ea5c3_23_3.fastq\n"
     ]
    },
    {
     "name": "stdout",
     "output_type": "stream",
     "text": [
      "[########################################] | 100% Completed |  4.0s\n"
     ]
    },
    {
     "name": "stderr",
     "output_type": "stream",
     "text": [
      "[12:03:13 - __main__] Saving to file: /path/to/data/MinION_sequencing_data_20190815/guppy_3.2.2_08_15_2019_run_02_exec_20190815/sw/fastq_runid_e33d821ff769cbb24ed5af866a50887f3e1ea5c3_23_3.tsv\n",
      "[12:03:13 - __main__] Starting fastq (96 of 323)\n",
      "\t/path/to/data/MinION_sequencing_data_20190815/guppy_3.2.2_08_15_2019_run_02_exec_20190815/pass/fastq_runid_e33d821ff769cbb24ed5af866a50887f3e1ea5c3_24_0.fastq\n"
     ]
    },
    {
     "name": "stdout",
     "output_type": "stream",
     "text": [
      "[########################################] | 100% Completed |  1min  7.6s\n"
     ]
    },
    {
     "name": "stderr",
     "output_type": "stream",
     "text": [
      "[12:04:21 - __main__] Saving to file: /path/to/data/MinION_sequencing_data_20190815/guppy_3.2.2_08_15_2019_run_02_exec_20190815/sw/fastq_runid_e33d821ff769cbb24ed5af866a50887f3e1ea5c3_24_0.tsv\n",
      "[12:04:21 - __main__] Starting fastq (97 of 323)\n",
      "\t/path/to/data/MinION_sequencing_data_20190815/guppy_3.2.2_08_15_2019_run_02_exec_20190815/pass/fastq_runid_e33d821ff769cbb24ed5af866a50887f3e1ea5c3_24_1.fastq\n"
     ]
    },
    {
     "name": "stdout",
     "output_type": "stream",
     "text": [
      "[########################################] | 100% Completed | 51.8s\n"
     ]
    },
    {
     "name": "stderr",
     "output_type": "stream",
     "text": [
      "[12:05:13 - __main__] Saving to file: /path/to/data/MinION_sequencing_data_20190815/guppy_3.2.2_08_15_2019_run_02_exec_20190815/sw/fastq_runid_e33d821ff769cbb24ed5af866a50887f3e1ea5c3_24_1.tsv\n",
      "[12:05:13 - __main__] Starting fastq (98 of 323)\n",
      "\t/path/to/data/MinION_sequencing_data_20190815/guppy_3.2.2_08_15_2019_run_02_exec_20190815/pass/fastq_runid_e33d821ff769cbb24ed5af866a50887f3e1ea5c3_24_2.fastq\n"
     ]
    },
    {
     "name": "stdout",
     "output_type": "stream",
     "text": [
      "[########################################] | 100% Completed | 27.6s\n"
     ]
    },
    {
     "name": "stderr",
     "output_type": "stream",
     "text": [
      "[12:05:41 - __main__] Saving to file: /path/to/data/MinION_sequencing_data_20190815/guppy_3.2.2_08_15_2019_run_02_exec_20190815/sw/fastq_runid_e33d821ff769cbb24ed5af866a50887f3e1ea5c3_24_2.tsv\n",
      "[12:05:42 - __main__] Starting fastq (99 of 323)\n",
      "\t/path/to/data/MinION_sequencing_data_20190815/guppy_3.2.2_08_15_2019_run_02_exec_20190815/pass/fastq_runid_e33d821ff769cbb24ed5af866a50887f3e1ea5c3_24_3.fastq\n"
     ]
    },
    {
     "name": "stdout",
     "output_type": "stream",
     "text": [
      "[########################################] | 100% Completed |  1.9s\n"
     ]
    },
    {
     "name": "stderr",
     "output_type": "stream",
     "text": [
      "[12:05:44 - __main__] Saving to file: /path/to/data/MinION_sequencing_data_20190815/guppy_3.2.2_08_15_2019_run_02_exec_20190815/sw/fastq_runid_e33d821ff769cbb24ed5af866a50887f3e1ea5c3_24_3.tsv\n",
      "[12:05:44 - __main__] Starting fastq (100 of 323)\n",
      "\t/path/to/data/MinION_sequencing_data_20190815/guppy_3.2.2_08_15_2019_run_02_exec_20190815/pass/fastq_runid_e33d821ff769cbb24ed5af866a50887f3e1ea5c3_25_0.fastq\n"
     ]
    },
    {
     "name": "stdout",
     "output_type": "stream",
     "text": [
      "[########################################] | 100% Completed | 27.5s\n"
     ]
    },
    {
     "name": "stderr",
     "output_type": "stream",
     "text": [
      "[12:06:12 - __main__] Saving to file: /path/to/data/MinION_sequencing_data_20190815/guppy_3.2.2_08_15_2019_run_02_exec_20190815/sw/fastq_runid_e33d821ff769cbb24ed5af866a50887f3e1ea5c3_25_0.tsv\n",
      "[12:06:12 - __main__] Starting fastq (101 of 323)\n",
      "\t/path/to/data/MinION_sequencing_data_20190815/guppy_3.2.2_08_15_2019_run_02_exec_20190815/pass/fastq_runid_e33d821ff769cbb24ed5af866a50887f3e1ea5c3_25_1.fastq\n"
     ]
    },
    {
     "name": "stdout",
     "output_type": "stream",
     "text": [
      "[########################################] | 100% Completed | 18.7s\n"
     ]
    },
    {
     "name": "stderr",
     "output_type": "stream",
     "text": [
      "[12:06:31 - __main__] Saving to file: /path/to/data/MinION_sequencing_data_20190815/guppy_3.2.2_08_15_2019_run_02_exec_20190815/sw/fastq_runid_e33d821ff769cbb24ed5af866a50887f3e1ea5c3_25_1.tsv\n",
      "[12:06:31 - __main__] Starting fastq (102 of 323)\n",
      "\t/path/to/data/MinION_sequencing_data_20190815/guppy_3.2.2_08_15_2019_run_02_exec_20190815/pass/fastq_runid_e33d821ff769cbb24ed5af866a50887f3e1ea5c3_25_2.fastq\n"
     ]
    },
    {
     "name": "stdout",
     "output_type": "stream",
     "text": [
      "[########################################] | 100% Completed | 28.7s\n"
     ]
    },
    {
     "name": "stderr",
     "output_type": "stream",
     "text": [
      "[12:07:00 - __main__] Saving to file: /path/to/data/MinION_sequencing_data_20190815/guppy_3.2.2_08_15_2019_run_02_exec_20190815/sw/fastq_runid_e33d821ff769cbb24ed5af866a50887f3e1ea5c3_25_2.tsv\n",
      "[12:07:00 - __main__] Starting fastq (103 of 323)\n",
      "\t/path/to/data/MinION_sequencing_data_20190815/guppy_3.2.2_08_15_2019_run_02_exec_20190815/pass/fastq_runid_e33d821ff769cbb24ed5af866a50887f3e1ea5c3_25_3.fastq\n"
     ]
    },
    {
     "name": "stdout",
     "output_type": "stream",
     "text": [
      "[########################################] | 100% Completed |  1min 14.0s\n"
     ]
    },
    {
     "name": "stderr",
     "output_type": "stream",
     "text": [
      "[12:08:14 - __main__] Saving to file: /path/to/data/MinION_sequencing_data_20190815/guppy_3.2.2_08_15_2019_run_02_exec_20190815/sw/fastq_runid_e33d821ff769cbb24ed5af866a50887f3e1ea5c3_25_3.tsv\n",
      "[12:08:14 - __main__] Starting fastq (104 of 323)\n",
      "\t/path/to/data/MinION_sequencing_data_20190815/guppy_3.2.2_08_15_2019_run_02_exec_20190815/pass/fastq_runid_e33d821ff769cbb24ed5af866a50887f3e1ea5c3_26_0.fastq\n"
     ]
    },
    {
     "name": "stdout",
     "output_type": "stream",
     "text": [
      "[########################################] | 100% Completed | 56.3s\n"
     ]
    },
    {
     "name": "stderr",
     "output_type": "stream",
     "text": [
      "[12:09:11 - __main__] Saving to file: /path/to/data/MinION_sequencing_data_20190815/guppy_3.2.2_08_15_2019_run_02_exec_20190815/sw/fastq_runid_e33d821ff769cbb24ed5af866a50887f3e1ea5c3_26_0.tsv\n",
      "[12:09:11 - __main__] Starting fastq (105 of 323)\n",
      "\t/path/to/data/MinION_sequencing_data_20190815/guppy_3.2.2_08_15_2019_run_02_exec_20190815/pass/fastq_runid_e33d821ff769cbb24ed5af866a50887f3e1ea5c3_26_1.fastq\n"
     ]
    },
    {
     "name": "stdout",
     "output_type": "stream",
     "text": [
      "[########################################] | 100% Completed |  1min  1.2s\n"
     ]
    },
    {
     "name": "stderr",
     "output_type": "stream",
     "text": [
      "[12:10:13 - __main__] Saving to file: /path/to/data/MinION_sequencing_data_20190815/guppy_3.2.2_08_15_2019_run_02_exec_20190815/sw/fastq_runid_e33d821ff769cbb24ed5af866a50887f3e1ea5c3_26_1.tsv\n",
      "[12:10:13 - __main__] Starting fastq (106 of 323)\n",
      "\t/path/to/data/MinION_sequencing_data_20190815/guppy_3.2.2_08_15_2019_run_02_exec_20190815/pass/fastq_runid_e33d821ff769cbb24ed5af866a50887f3e1ea5c3_26_2.fastq\n"
     ]
    },
    {
     "name": "stdout",
     "output_type": "stream",
     "text": [
      "[########################################] | 100% Completed | 16.6s\n"
     ]
    },
    {
     "name": "stderr",
     "output_type": "stream",
     "text": [
      "[12:10:30 - __main__] Saving to file: /path/to/data/MinION_sequencing_data_20190815/guppy_3.2.2_08_15_2019_run_02_exec_20190815/sw/fastq_runid_e33d821ff769cbb24ed5af866a50887f3e1ea5c3_26_2.tsv\n",
      "[12:10:30 - __main__] Starting fastq (107 of 323)\n",
      "\t/path/to/data/MinION_sequencing_data_20190815/guppy_3.2.2_08_15_2019_run_02_exec_20190815/pass/fastq_runid_e33d821ff769cbb24ed5af866a50887f3e1ea5c3_27_0.fastq\n"
     ]
    },
    {
     "name": "stdout",
     "output_type": "stream",
     "text": [
      "[########################################] | 100% Completed |  1min  2.3s\n"
     ]
    },
    {
     "name": "stderr",
     "output_type": "stream",
     "text": [
      "[12:11:33 - __main__] Saving to file: /path/to/data/MinION_sequencing_data_20190815/guppy_3.2.2_08_15_2019_run_02_exec_20190815/sw/fastq_runid_e33d821ff769cbb24ed5af866a50887f3e1ea5c3_27_0.tsv\n",
      "[12:11:33 - __main__] Starting fastq (108 of 323)\n",
      "\t/path/to/data/MinION_sequencing_data_20190815/guppy_3.2.2_08_15_2019_run_02_exec_20190815/pass/fastq_runid_e33d821ff769cbb24ed5af866a50887f3e1ea5c3_26_3.fastq\n"
     ]
    },
    {
     "name": "stdout",
     "output_type": "stream",
     "text": [
      "[########################################] | 100% Completed | 17.1s\n"
     ]
    },
    {
     "name": "stderr",
     "output_type": "stream",
     "text": [
      "[12:11:50 - __main__] Saving to file: /path/to/data/MinION_sequencing_data_20190815/guppy_3.2.2_08_15_2019_run_02_exec_20190815/sw/fastq_runid_e33d821ff769cbb24ed5af866a50887f3e1ea5c3_26_3.tsv\n",
      "[12:11:50 - __main__] Starting fastq (109 of 323)\n",
      "\t/path/to/data/MinION_sequencing_data_20190815/guppy_3.2.2_08_15_2019_run_02_exec_20190815/pass/fastq_runid_e33d821ff769cbb24ed5af866a50887f3e1ea5c3_27_1.fastq\n"
     ]
    },
    {
     "name": "stdout",
     "output_type": "stream",
     "text": [
      "[########################################] | 100% Completed | 48.2s\n"
     ]
    },
    {
     "name": "stderr",
     "output_type": "stream",
     "text": [
      "[12:12:39 - __main__] Saving to file: /path/to/data/MinION_sequencing_data_20190815/guppy_3.2.2_08_15_2019_run_02_exec_20190815/sw/fastq_runid_e33d821ff769cbb24ed5af866a50887f3e1ea5c3_27_1.tsv\n",
      "[12:12:39 - __main__] Starting fastq (110 of 323)\n",
      "\t/path/to/data/MinION_sequencing_data_20190815/guppy_3.2.2_08_15_2019_run_02_exec_20190815/pass/fastq_runid_e33d821ff769cbb24ed5af866a50887f3e1ea5c3_27_2.fastq\n"
     ]
    },
    {
     "name": "stdout",
     "output_type": "stream",
     "text": [
      "[########################################] | 100% Completed | 39.1s\n"
     ]
    },
    {
     "name": "stderr",
     "output_type": "stream",
     "text": [
      "[12:13:18 - __main__] Saving to file: /path/to/data/MinION_sequencing_data_20190815/guppy_3.2.2_08_15_2019_run_02_exec_20190815/sw/fastq_runid_e33d821ff769cbb24ed5af866a50887f3e1ea5c3_27_2.tsv\n",
      "[12:13:18 - __main__] Starting fastq (111 of 323)\n",
      "\t/path/to/data/MinION_sequencing_data_20190815/guppy_3.2.2_08_15_2019_run_02_exec_20190815/pass/fastq_runid_e33d821ff769cbb24ed5af866a50887f3e1ea5c3_28_0.fastq\n"
     ]
    },
    {
     "name": "stdout",
     "output_type": "stream",
     "text": [
      "[########################################] | 100% Completed | 25.9s\n"
     ]
    },
    {
     "name": "stderr",
     "output_type": "stream",
     "text": [
      "[12:13:45 - __main__] Saving to file: /path/to/data/MinION_sequencing_data_20190815/guppy_3.2.2_08_15_2019_run_02_exec_20190815/sw/fastq_runid_e33d821ff769cbb24ed5af866a50887f3e1ea5c3_28_0.tsv\n",
      "[12:13:45 - __main__] Starting fastq (112 of 323)\n",
      "\t/path/to/data/MinION_sequencing_data_20190815/guppy_3.2.2_08_15_2019_run_02_exec_20190815/pass/fastq_runid_e33d821ff769cbb24ed5af866a50887f3e1ea5c3_28_1.fastq\n"
     ]
    },
    {
     "name": "stdout",
     "output_type": "stream",
     "text": [
      "[########################################] | 100% Completed |  1min  2.2s\n"
     ]
    },
    {
     "name": "stderr",
     "output_type": "stream",
     "text": [
      "[12:14:47 - __main__] Saving to file: /path/to/data/MinION_sequencing_data_20190815/guppy_3.2.2_08_15_2019_run_02_exec_20190815/sw/fastq_runid_e33d821ff769cbb24ed5af866a50887f3e1ea5c3_28_1.tsv\n",
      "[12:14:48 - __main__] Starting fastq (113 of 323)\n",
      "\t/path/to/data/MinION_sequencing_data_20190815/guppy_3.2.2_08_15_2019_run_02_exec_20190815/pass/fastq_runid_e33d821ff769cbb24ed5af866a50887f3e1ea5c3_27_3.fastq\n"
     ]
    },
    {
     "name": "stdout",
     "output_type": "stream",
     "text": [
      "[########################################] | 100% Completed |  3.6s\n"
     ]
    },
    {
     "name": "stderr",
     "output_type": "stream",
     "text": [
      "[12:14:52 - __main__] Saving to file: /path/to/data/MinION_sequencing_data_20190815/guppy_3.2.2_08_15_2019_run_02_exec_20190815/sw/fastq_runid_e33d821ff769cbb24ed5af866a50887f3e1ea5c3_27_3.tsv\n",
      "[12:14:52 - __main__] Starting fastq (114 of 323)\n",
      "\t/path/to/data/MinION_sequencing_data_20190815/guppy_3.2.2_08_15_2019_run_02_exec_20190815/pass/fastq_runid_e33d821ff769cbb24ed5af866a50887f3e1ea5c3_28_2.fastq\n"
     ]
    },
    {
     "name": "stdout",
     "output_type": "stream",
     "text": [
      "[########################################] | 100% Completed |  0.9s\n"
     ]
    },
    {
     "name": "stderr",
     "output_type": "stream",
     "text": [
      "[12:14:53 - __main__] Saving to file: /path/to/data/MinION_sequencing_data_20190815/guppy_3.2.2_08_15_2019_run_02_exec_20190815/sw/fastq_runid_e33d821ff769cbb24ed5af866a50887f3e1ea5c3_28_2.tsv\n",
      "[12:14:53 - __main__] Starting fastq (115 of 323)\n",
      "\t/path/to/data/MinION_sequencing_data_20190815/guppy_3.2.2_08_15_2019_run_02_exec_20190815/pass/fastq_runid_e33d821ff769cbb24ed5af866a50887f3e1ea5c3_29_0.fastq\n"
     ]
    },
    {
     "name": "stdout",
     "output_type": "stream",
     "text": [
      "[########################################] | 100% Completed | 49.2s\n"
     ]
    },
    {
     "name": "stderr",
     "output_type": "stream",
     "text": [
      "[12:15:42 - __main__] Saving to file: /path/to/data/MinION_sequencing_data_20190815/guppy_3.2.2_08_15_2019_run_02_exec_20190815/sw/fastq_runid_e33d821ff769cbb24ed5af866a50887f3e1ea5c3_29_0.tsv\n",
      "[12:15:42 - __main__] Starting fastq (116 of 323)\n",
      "\t/path/to/data/MinION_sequencing_data_20190815/guppy_3.2.2_08_15_2019_run_02_exec_20190815/pass/fastq_runid_e33d821ff769cbb24ed5af866a50887f3e1ea5c3_28_3.fastq\n"
     ]
    },
    {
     "name": "stdout",
     "output_type": "stream",
     "text": [
      "[########################################] | 100% Completed |  1min 16.9s\n"
     ]
    },
    {
     "name": "stderr",
     "output_type": "stream",
     "text": [
      "[12:17:00 - __main__] Saving to file: /path/to/data/MinION_sequencing_data_20190815/guppy_3.2.2_08_15_2019_run_02_exec_20190815/sw/fastq_runid_e33d821ff769cbb24ed5af866a50887f3e1ea5c3_28_3.tsv\n",
      "[12:17:00 - __main__] Starting fastq (117 of 323)\n",
      "\t/path/to/data/MinION_sequencing_data_20190815/guppy_3.2.2_08_15_2019_run_02_exec_20190815/pass/fastq_runid_e33d821ff769cbb24ed5af866a50887f3e1ea5c3_29_1.fastq\n"
     ]
    },
    {
     "name": "stdout",
     "output_type": "stream",
     "text": [
      "[########################################] | 100% Completed | 45.9s\n"
     ]
    },
    {
     "name": "stderr",
     "output_type": "stream",
     "text": [
      "[12:17:46 - __main__] Saving to file: /path/to/data/MinION_sequencing_data_20190815/guppy_3.2.2_08_15_2019_run_02_exec_20190815/sw/fastq_runid_e33d821ff769cbb24ed5af866a50887f3e1ea5c3_29_1.tsv\n",
      "[12:17:46 - __main__] Starting fastq (118 of 323)\n",
      "\t/path/to/data/MinION_sequencing_data_20190815/guppy_3.2.2_08_15_2019_run_02_exec_20190815/pass/fastq_runid_e33d821ff769cbb24ed5af866a50887f3e1ea5c3_29_2.fastq\n"
     ]
    },
    {
     "name": "stdout",
     "output_type": "stream",
     "text": [
      "[########################################] | 100% Completed | 11.9s\n"
     ]
    },
    {
     "name": "stderr",
     "output_type": "stream",
     "text": [
      "[12:17:59 - __main__] Saving to file: /path/to/data/MinION_sequencing_data_20190815/guppy_3.2.2_08_15_2019_run_02_exec_20190815/sw/fastq_runid_e33d821ff769cbb24ed5af866a50887f3e1ea5c3_29_2.tsv\n",
      "[12:17:59 - __main__] Starting fastq (119 of 323)\n",
      "\t/path/to/data/MinION_sequencing_data_20190815/guppy_3.2.2_08_15_2019_run_02_exec_20190815/pass/fastq_runid_e33d821ff769cbb24ed5af866a50887f3e1ea5c3_30_0.fastq\n"
     ]
    },
    {
     "name": "stdout",
     "output_type": "stream",
     "text": [
      "[########################################] | 100% Completed |  1min 30.7s\n"
     ]
    },
    {
     "name": "stderr",
     "output_type": "stream",
     "text": [
      "[12:19:30 - __main__] Saving to file: /path/to/data/MinION_sequencing_data_20190815/guppy_3.2.2_08_15_2019_run_02_exec_20190815/sw/fastq_runid_e33d821ff769cbb24ed5af866a50887f3e1ea5c3_30_0.tsv\n",
      "[12:19:30 - __main__] Starting fastq (120 of 323)\n",
      "\t/path/to/data/MinION_sequencing_data_20190815/guppy_3.2.2_08_15_2019_run_02_exec_20190815/pass/fastq_runid_e33d821ff769cbb24ed5af866a50887f3e1ea5c3_30_1.fastq\n"
     ]
    },
    {
     "name": "stdout",
     "output_type": "stream",
     "text": [
      "[########################################] | 100% Completed | 55.8s\n"
     ]
    },
    {
     "name": "stderr",
     "output_type": "stream",
     "text": [
      "[12:20:26 - __main__] Saving to file: /path/to/data/MinION_sequencing_data_20190815/guppy_3.2.2_08_15_2019_run_02_exec_20190815/sw/fastq_runid_e33d821ff769cbb24ed5af866a50887f3e1ea5c3_30_1.tsv\n",
      "[12:20:26 - __main__] Starting fastq (121 of 323)\n",
      "\t/path/to/data/MinION_sequencing_data_20190815/guppy_3.2.2_08_15_2019_run_02_exec_20190815/pass/fastq_runid_e33d821ff769cbb24ed5af866a50887f3e1ea5c3_29_3.fastq\n"
     ]
    },
    {
     "name": "stdout",
     "output_type": "stream",
     "text": [
      "[########################################] | 100% Completed | 56.0s\n"
     ]
    },
    {
     "name": "stderr",
     "output_type": "stream",
     "text": [
      "[12:21:23 - __main__] Saving to file: /path/to/data/MinION_sequencing_data_20190815/guppy_3.2.2_08_15_2019_run_02_exec_20190815/sw/fastq_runid_e33d821ff769cbb24ed5af866a50887f3e1ea5c3_29_3.tsv\n",
      "[12:21:23 - __main__] Starting fastq (122 of 323)\n",
      "\t/path/to/data/MinION_sequencing_data_20190815/guppy_3.2.2_08_15_2019_run_02_exec_20190815/pass/fastq_runid_e33d821ff769cbb24ed5af866a50887f3e1ea5c3_30_2.fastq\n"
     ]
    },
    {
     "name": "stdout",
     "output_type": "stream",
     "text": [
      "[########################################] | 100% Completed | 16.3s\n"
     ]
    },
    {
     "name": "stderr",
     "output_type": "stream",
     "text": [
      "[12:21:40 - __main__] Saving to file: /path/to/data/MinION_sequencing_data_20190815/guppy_3.2.2_08_15_2019_run_02_exec_20190815/sw/fastq_runid_e33d821ff769cbb24ed5af866a50887f3e1ea5c3_30_2.tsv\n",
      "[12:21:40 - __main__] Starting fastq (123 of 323)\n",
      "\t/path/to/data/MinION_sequencing_data_20190815/guppy_3.2.2_08_15_2019_run_02_exec_20190815/pass/fastq_runid_e33d821ff769cbb24ed5af866a50887f3e1ea5c3_30_3.fastq\n"
     ]
    },
    {
     "name": "stdout",
     "output_type": "stream",
     "text": [
      "[########################################] | 100% Completed |  1.8s\n"
     ]
    },
    {
     "name": "stderr",
     "output_type": "stream",
     "text": [
      "[12:21:42 - __main__] Saving to file: /path/to/data/MinION_sequencing_data_20190815/guppy_3.2.2_08_15_2019_run_02_exec_20190815/sw/fastq_runid_e33d821ff769cbb24ed5af866a50887f3e1ea5c3_30_3.tsv\n",
      "[12:21:42 - __main__] Starting fastq (124 of 323)\n",
      "\t/path/to/data/MinION_sequencing_data_20190815/guppy_3.2.2_08_15_2019_run_02_exec_20190815/pass/fastq_runid_e33d821ff769cbb24ed5af866a50887f3e1ea5c3_31_0.fastq\n"
     ]
    },
    {
     "name": "stdout",
     "output_type": "stream",
     "text": [
      "[########################################] | 100% Completed | 28.3s\n"
     ]
    },
    {
     "name": "stderr",
     "output_type": "stream",
     "text": [
      "[12:22:10 - __main__] Saving to file: /path/to/data/MinION_sequencing_data_20190815/guppy_3.2.2_08_15_2019_run_02_exec_20190815/sw/fastq_runid_e33d821ff769cbb24ed5af866a50887f3e1ea5c3_31_0.tsv\n",
      "[12:22:10 - __main__] Starting fastq (125 of 323)\n",
      "\t/path/to/data/MinION_sequencing_data_20190815/guppy_3.2.2_08_15_2019_run_02_exec_20190815/pass/fastq_runid_e33d821ff769cbb24ed5af866a50887f3e1ea5c3_31_1.fastq\n"
     ]
    },
    {
     "name": "stdout",
     "output_type": "stream",
     "text": [
      "[########################################] | 100% Completed | 24.5s\n"
     ]
    },
    {
     "name": "stderr",
     "output_type": "stream",
     "text": [
      "[12:22:35 - __main__] Saving to file: /path/to/data/MinION_sequencing_data_20190815/guppy_3.2.2_08_15_2019_run_02_exec_20190815/sw/fastq_runid_e33d821ff769cbb24ed5af866a50887f3e1ea5c3_31_1.tsv\n",
      "[12:22:35 - __main__] Starting fastq (126 of 323)\n",
      "\t/path/to/data/MinION_sequencing_data_20190815/guppy_3.2.2_08_15_2019_run_02_exec_20190815/pass/fastq_runid_e33d821ff769cbb24ed5af866a50887f3e1ea5c3_31_2.fastq\n"
     ]
    },
    {
     "name": "stdout",
     "output_type": "stream",
     "text": [
      "[########################################] | 100% Completed |  1min  2.5s\n"
     ]
    },
    {
     "name": "stderr",
     "output_type": "stream",
     "text": [
      "[12:23:38 - __main__] Saving to file: /path/to/data/MinION_sequencing_data_20190815/guppy_3.2.2_08_15_2019_run_02_exec_20190815/sw/fastq_runid_e33d821ff769cbb24ed5af866a50887f3e1ea5c3_31_2.tsv\n",
      "[12:23:38 - __main__] Starting fastq (127 of 323)\n",
      "\t/path/to/data/MinION_sequencing_data_20190815/guppy_3.2.2_08_15_2019_run_02_exec_20190815/pass/fastq_runid_e33d821ff769cbb24ed5af866a50887f3e1ea5c3_32_0.fastq\n"
     ]
    },
    {
     "name": "stdout",
     "output_type": "stream",
     "text": [
      "[########################################] | 100% Completed |  1min 18.3s\n"
     ]
    },
    {
     "name": "stderr",
     "output_type": "stream",
     "text": [
      "[12:24:57 - __main__] Saving to file: /path/to/data/MinION_sequencing_data_20190815/guppy_3.2.2_08_15_2019_run_02_exec_20190815/sw/fastq_runid_e33d821ff769cbb24ed5af866a50887f3e1ea5c3_32_0.tsv\n",
      "[12:24:57 - __main__] Starting fastq (128 of 323)\n",
      "\t/path/to/data/MinION_sequencing_data_20190815/guppy_3.2.2_08_15_2019_run_02_exec_20190815/pass/fastq_runid_e33d821ff769cbb24ed5af866a50887f3e1ea5c3_31_3.fastq\n"
     ]
    },
    {
     "name": "stdout",
     "output_type": "stream",
     "text": [
      "[########################################] | 100% Completed | 33.3s\n"
     ]
    },
    {
     "name": "stderr",
     "output_type": "stream",
     "text": [
      "[12:25:31 - __main__] Saving to file: /path/to/data/MinION_sequencing_data_20190815/guppy_3.2.2_08_15_2019_run_02_exec_20190815/sw/fastq_runid_e33d821ff769cbb24ed5af866a50887f3e1ea5c3_31_3.tsv\n",
      "[12:25:31 - __main__] Starting fastq (129 of 323)\n",
      "\t/path/to/data/MinION_sequencing_data_20190815/guppy_3.2.2_08_15_2019_run_02_exec_20190815/pass/fastq_runid_e33d821ff769cbb24ed5af866a50887f3e1ea5c3_32_1.fastq\n"
     ]
    },
    {
     "name": "stdout",
     "output_type": "stream",
     "text": [
      "[########################################] | 100% Completed | 44.1s\n"
     ]
    },
    {
     "name": "stderr",
     "output_type": "stream",
     "text": [
      "[12:26:15 - __main__] Saving to file: /path/to/data/MinION_sequencing_data_20190815/guppy_3.2.2_08_15_2019_run_02_exec_20190815/sw/fastq_runid_e33d821ff769cbb24ed5af866a50887f3e1ea5c3_32_1.tsv\n",
      "[12:26:16 - __main__] Starting fastq (130 of 323)\n",
      "\t/path/to/data/MinION_sequencing_data_20190815/guppy_3.2.2_08_15_2019_run_02_exec_20190815/pass/fastq_runid_e33d821ff769cbb24ed5af866a50887f3e1ea5c3_32_2.fastq\n"
     ]
    },
    {
     "name": "stdout",
     "output_type": "stream",
     "text": [
      "[########################################] | 100% Completed | 29.9s\n"
     ]
    },
    {
     "name": "stderr",
     "output_type": "stream",
     "text": [
      "[12:26:46 - __main__] Saving to file: /path/to/data/MinION_sequencing_data_20190815/guppy_3.2.2_08_15_2019_run_02_exec_20190815/sw/fastq_runid_e33d821ff769cbb24ed5af866a50887f3e1ea5c3_32_2.tsv\n",
      "[12:26:46 - __main__] Starting fastq (131 of 323)\n",
      "\t/path/to/data/MinION_sequencing_data_20190815/guppy_3.2.2_08_15_2019_run_02_exec_20190815/pass/fastq_runid_e33d821ff769cbb24ed5af866a50887f3e1ea5c3_33_0.fastq\n"
     ]
    },
    {
     "name": "stdout",
     "output_type": "stream",
     "text": [
      "[########################################] | 100% Completed |  1min 24.7s\n"
     ]
    },
    {
     "name": "stderr",
     "output_type": "stream",
     "text": [
      "[12:28:11 - __main__] Saving to file: /path/to/data/MinION_sequencing_data_20190815/guppy_3.2.2_08_15_2019_run_02_exec_20190815/sw/fastq_runid_e33d821ff769cbb24ed5af866a50887f3e1ea5c3_33_0.tsv\n",
      "[12:28:11 - __main__] Starting fastq (132 of 323)\n",
      "\t/path/to/data/MinION_sequencing_data_20190815/guppy_3.2.2_08_15_2019_run_02_exec_20190815/pass/fastq_runid_e33d821ff769cbb24ed5af866a50887f3e1ea5c3_33_1.fastq\n"
     ]
    },
    {
     "name": "stdout",
     "output_type": "stream",
     "text": [
      "[########################################] | 100% Completed | 52.4s\n"
     ]
    },
    {
     "name": "stderr",
     "output_type": "stream",
     "text": [
      "[12:29:04 - __main__] Saving to file: /path/to/data/MinION_sequencing_data_20190815/guppy_3.2.2_08_15_2019_run_02_exec_20190815/sw/fastq_runid_e33d821ff769cbb24ed5af866a50887f3e1ea5c3_33_1.tsv\n",
      "[12:29:04 - __main__] Starting fastq (133 of 323)\n",
      "\t/path/to/data/MinION_sequencing_data_20190815/guppy_3.2.2_08_15_2019_run_02_exec_20190815/pass/fastq_runid_e33d821ff769cbb24ed5af866a50887f3e1ea5c3_33_2.fastq\n"
     ]
    },
    {
     "name": "stdout",
     "output_type": "stream",
     "text": [
      "[########################################] | 100% Completed | 25.2s\n"
     ]
    },
    {
     "name": "stderr",
     "output_type": "stream",
     "text": [
      "[12:29:30 - __main__] Saving to file: /path/to/data/MinION_sequencing_data_20190815/guppy_3.2.2_08_15_2019_run_02_exec_20190815/sw/fastq_runid_e33d821ff769cbb24ed5af866a50887f3e1ea5c3_33_2.tsv\n",
      "[12:29:30 - __main__] Starting fastq (134 of 323)\n",
      "\t/path/to/data/MinION_sequencing_data_20190815/guppy_3.2.2_08_15_2019_run_02_exec_20190815/pass/fastq_runid_e33d821ff769cbb24ed5af866a50887f3e1ea5c3_34_0.fastq\n"
     ]
    },
    {
     "name": "stdout",
     "output_type": "stream",
     "text": [
      "[########################################] | 100% Completed |  1min  2.2s\n"
     ]
    },
    {
     "name": "stderr",
     "output_type": "stream",
     "text": [
      "[12:30:32 - __main__] Saving to file: /path/to/data/MinION_sequencing_data_20190815/guppy_3.2.2_08_15_2019_run_02_exec_20190815/sw/fastq_runid_e33d821ff769cbb24ed5af866a50887f3e1ea5c3_34_0.tsv\n",
      "[12:30:32 - __main__] Starting fastq (135 of 323)\n",
      "\t/path/to/data/MinION_sequencing_data_20190815/guppy_3.2.2_08_15_2019_run_02_exec_20190815/pass/fastq_runid_e33d821ff769cbb24ed5af866a50887f3e1ea5c3_34_1.fastq\n"
     ]
    },
    {
     "name": "stdout",
     "output_type": "stream",
     "text": [
      "[########################################] | 100% Completed |  7.7s\n"
     ]
    },
    {
     "name": "stderr",
     "output_type": "stream",
     "text": [
      "[12:30:40 - __main__] Saving to file: /path/to/data/MinION_sequencing_data_20190815/guppy_3.2.2_08_15_2019_run_02_exec_20190815/sw/fastq_runid_e33d821ff769cbb24ed5af866a50887f3e1ea5c3_34_1.tsv\n",
      "[12:30:40 - __main__] Starting fastq (136 of 323)\n",
      "\t/path/to/data/MinION_sequencing_data_20190815/guppy_3.2.2_08_15_2019_run_02_exec_20190815/pass/fastq_runid_e33d821ff769cbb24ed5af866a50887f3e1ea5c3_34_2.fastq\n"
     ]
    },
    {
     "name": "stdout",
     "output_type": "stream",
     "text": [
      "[########################################] | 100% Completed |  1min 21.5s\n"
     ]
    },
    {
     "name": "stderr",
     "output_type": "stream",
     "text": [
      "[12:32:02 - __main__] Saving to file: /path/to/data/MinION_sequencing_data_20190815/guppy_3.2.2_08_15_2019_run_02_exec_20190815/sw/fastq_runid_e33d821ff769cbb24ed5af866a50887f3e1ea5c3_34_2.tsv\n",
      "[12:32:02 - __main__] Starting fastq (137 of 323)\n",
      "\t/path/to/data/MinION_sequencing_data_20190815/guppy_3.2.2_08_15_2019_run_02_exec_20190815/pass/fastq_runid_e33d821ff769cbb24ed5af866a50887f3e1ea5c3_32_3.fastq\n"
     ]
    },
    {
     "name": "stdout",
     "output_type": "stream",
     "text": [
      "[########################################] | 100% Completed |  1.8s\n"
     ]
    },
    {
     "name": "stderr",
     "output_type": "stream",
     "text": [
      "[12:32:05 - __main__] Saving to file: /path/to/data/MinION_sequencing_data_20190815/guppy_3.2.2_08_15_2019_run_02_exec_20190815/sw/fastq_runid_e33d821ff769cbb24ed5af866a50887f3e1ea5c3_32_3.tsv\n",
      "[12:32:05 - __main__] Starting fastq (138 of 323)\n",
      "\t/path/to/data/MinION_sequencing_data_20190815/guppy_3.2.2_08_15_2019_run_02_exec_20190815/pass/fastq_runid_e33d821ff769cbb24ed5af866a50887f3e1ea5c3_33_3.fastq\n"
     ]
    },
    {
     "name": "stdout",
     "output_type": "stream",
     "text": [
      "[########################################] | 100% Completed |  1.3s\n"
     ]
    },
    {
     "name": "stderr",
     "output_type": "stream",
     "text": [
      "[12:32:06 - __main__] Saving to file: /path/to/data/MinION_sequencing_data_20190815/guppy_3.2.2_08_15_2019_run_02_exec_20190815/sw/fastq_runid_e33d821ff769cbb24ed5af866a50887f3e1ea5c3_33_3.tsv\n",
      "[12:32:06 - __main__] Starting fastq (139 of 323)\n",
      "\t/path/to/data/MinION_sequencing_data_20190815/guppy_3.2.2_08_15_2019_run_02_exec_20190815/pass/fastq_runid_e33d821ff769cbb24ed5af866a50887f3e1ea5c3_34_3.fastq\n"
     ]
    },
    {
     "name": "stdout",
     "output_type": "stream",
     "text": [
      "[########################################] | 100% Completed | 31.0s\n"
     ]
    },
    {
     "name": "stderr",
     "output_type": "stream",
     "text": [
      "[12:32:38 - __main__] Saving to file: /path/to/data/MinION_sequencing_data_20190815/guppy_3.2.2_08_15_2019_run_02_exec_20190815/sw/fastq_runid_e33d821ff769cbb24ed5af866a50887f3e1ea5c3_34_3.tsv\n",
      "[12:32:38 - __main__] Starting fastq (140 of 323)\n",
      "\t/path/to/data/MinION_sequencing_data_20190815/guppy_3.2.2_08_15_2019_run_02_exec_20190815/pass/fastq_runid_e33d821ff769cbb24ed5af866a50887f3e1ea5c3_35_0.fastq\n"
     ]
    },
    {
     "name": "stdout",
     "output_type": "stream",
     "text": [
      "[########################################] | 100% Completed |  1min 21.5s\n"
     ]
    },
    {
     "name": "stderr",
     "output_type": "stream",
     "text": [
      "[12:34:00 - __main__] Saving to file: /path/to/data/MinION_sequencing_data_20190815/guppy_3.2.2_08_15_2019_run_02_exec_20190815/sw/fastq_runid_e33d821ff769cbb24ed5af866a50887f3e1ea5c3_35_0.tsv\n",
      "[12:34:00 - __main__] Starting fastq (141 of 323)\n",
      "\t/path/to/data/MinION_sequencing_data_20190815/guppy_3.2.2_08_15_2019_run_02_exec_20190815/pass/fastq_runid_e33d821ff769cbb24ed5af866a50887f3e1ea5c3_35_1.fastq\n"
     ]
    },
    {
     "name": "stdout",
     "output_type": "stream",
     "text": [
      "[########################################] | 100% Completed |  2min 58.0s\n"
     ]
    },
    {
     "name": "stderr",
     "output_type": "stream",
     "text": [
      "[12:36:59 - __main__] Saving to file: /path/to/data/MinION_sequencing_data_20190815/guppy_3.2.2_08_15_2019_run_02_exec_20190815/sw/fastq_runid_e33d821ff769cbb24ed5af866a50887f3e1ea5c3_35_1.tsv\n",
      "[12:36:59 - __main__] Starting fastq (142 of 323)\n",
      "\t/path/to/data/MinION_sequencing_data_20190815/guppy_3.2.2_08_15_2019_run_02_exec_20190815/pass/fastq_runid_e33d821ff769cbb24ed5af866a50887f3e1ea5c3_36_0.fastq\n"
     ]
    },
    {
     "name": "stdout",
     "output_type": "stream",
     "text": [
      "[########################################] | 100% Completed | 55.4s\n"
     ]
    },
    {
     "name": "stderr",
     "output_type": "stream",
     "text": [
      "[12:37:55 - __main__] Saving to file: /path/to/data/MinION_sequencing_data_20190815/guppy_3.2.2_08_15_2019_run_02_exec_20190815/sw/fastq_runid_e33d821ff769cbb24ed5af866a50887f3e1ea5c3_36_0.tsv\n",
      "[12:37:55 - __main__] Starting fastq (143 of 323)\n",
      "\t/path/to/data/MinION_sequencing_data_20190815/guppy_3.2.2_08_15_2019_run_02_exec_20190815/pass/fastq_runid_e33d821ff769cbb24ed5af866a50887f3e1ea5c3_35_2.fastq\n"
     ]
    },
    {
     "name": "stdout",
     "output_type": "stream",
     "text": [
      "[########################################] | 100% Completed |  1.7s\n"
     ]
    },
    {
     "name": "stderr",
     "output_type": "stream",
     "text": [
      "[12:37:57 - __main__] Saving to file: /path/to/data/MinION_sequencing_data_20190815/guppy_3.2.2_08_15_2019_run_02_exec_20190815/sw/fastq_runid_e33d821ff769cbb24ed5af866a50887f3e1ea5c3_35_2.tsv\n",
      "[12:37:57 - __main__] Starting fastq (144 of 323)\n",
      "\t/path/to/data/MinION_sequencing_data_20190815/guppy_3.2.2_08_15_2019_run_02_exec_20190815/pass/fastq_runid_e33d821ff769cbb24ed5af866a50887f3e1ea5c3_36_1.fastq\n"
     ]
    },
    {
     "name": "stdout",
     "output_type": "stream",
     "text": [
      "[########################################] | 100% Completed |  1min 29.4s\n"
     ]
    },
    {
     "name": "stderr",
     "output_type": "stream",
     "text": [
      "[12:39:27 - __main__] Saving to file: /path/to/data/MinION_sequencing_data_20190815/guppy_3.2.2_08_15_2019_run_02_exec_20190815/sw/fastq_runid_e33d821ff769cbb24ed5af866a50887f3e1ea5c3_36_1.tsv\n",
      "[12:39:27 - __main__] Starting fastq (145 of 323)\n",
      "\t/path/to/data/MinION_sequencing_data_20190815/guppy_3.2.2_08_15_2019_run_02_exec_20190815/pass/fastq_runid_e33d821ff769cbb24ed5af866a50887f3e1ea5c3_35_3.fastq\n"
     ]
    },
    {
     "name": "stdout",
     "output_type": "stream",
     "text": [
      "[########################################] | 100% Completed |  1.8s\n"
     ]
    },
    {
     "name": "stderr",
     "output_type": "stream",
     "text": [
      "[12:39:29 - __main__] Saving to file: /path/to/data/MinION_sequencing_data_20190815/guppy_3.2.2_08_15_2019_run_02_exec_20190815/sw/fastq_runid_e33d821ff769cbb24ed5af866a50887f3e1ea5c3_35_3.tsv\n",
      "[12:39:29 - __main__] Starting fastq (146 of 323)\n",
      "\t/path/to/data/MinION_sequencing_data_20190815/guppy_3.2.2_08_15_2019_run_02_exec_20190815/pass/fastq_runid_e33d821ff769cbb24ed5af866a50887f3e1ea5c3_36_2.fastq\n"
     ]
    },
    {
     "name": "stdout",
     "output_type": "stream",
     "text": [
      "[########################################] | 100% Completed |  1min 38.9s\n"
     ]
    },
    {
     "name": "stderr",
     "output_type": "stream",
     "text": [
      "[12:41:09 - __main__] Saving to file: /path/to/data/MinION_sequencing_data_20190815/guppy_3.2.2_08_15_2019_run_02_exec_20190815/sw/fastq_runid_e33d821ff769cbb24ed5af866a50887f3e1ea5c3_36_2.tsv\n",
      "[12:41:09 - __main__] Starting fastq (147 of 323)\n",
      "\t/path/to/data/MinION_sequencing_data_20190815/guppy_3.2.2_08_15_2019_run_02_exec_20190815/pass/fastq_runid_e33d821ff769cbb24ed5af866a50887f3e1ea5c3_37_0.fastq\n"
     ]
    },
    {
     "name": "stdout",
     "output_type": "stream",
     "text": [
      "[########################################] | 100% Completed |  1min 35.2s\n"
     ]
    },
    {
     "name": "stderr",
     "output_type": "stream",
     "text": [
      "[12:42:44 - __main__] Saving to file: /path/to/data/MinION_sequencing_data_20190815/guppy_3.2.2_08_15_2019_run_02_exec_20190815/sw/fastq_runid_e33d821ff769cbb24ed5af866a50887f3e1ea5c3_37_0.tsv\n",
      "[12:42:45 - __main__] Starting fastq (148 of 323)\n",
      "\t/path/to/data/MinION_sequencing_data_20190815/guppy_3.2.2_08_15_2019_run_02_exec_20190815/pass/fastq_runid_e33d821ff769cbb24ed5af866a50887f3e1ea5c3_37_1.fastq\n"
     ]
    },
    {
     "name": "stdout",
     "output_type": "stream",
     "text": [
      "[########################################] | 100% Completed |  1min 35.2s\n"
     ]
    },
    {
     "name": "stderr",
     "output_type": "stream",
     "text": [
      "[12:44:20 - __main__] Saving to file: /path/to/data/MinION_sequencing_data_20190815/guppy_3.2.2_08_15_2019_run_02_exec_20190815/sw/fastq_runid_e33d821ff769cbb24ed5af866a50887f3e1ea5c3_37_1.tsv\n",
      "[12:44:20 - __main__] Starting fastq (149 of 323)\n",
      "\t/path/to/data/MinION_sequencing_data_20190815/guppy_3.2.2_08_15_2019_run_02_exec_20190815/pass/fastq_runid_e33d821ff769cbb24ed5af866a50887f3e1ea5c3_37_2.fastq\n"
     ]
    },
    {
     "name": "stdout",
     "output_type": "stream",
     "text": [
      "[########################################] | 100% Completed |  1min 18.7s\n"
     ]
    },
    {
     "name": "stderr",
     "output_type": "stream",
     "text": [
      "[12:45:40 - __main__] Saving to file: /path/to/data/MinION_sequencing_data_20190815/guppy_3.2.2_08_15_2019_run_02_exec_20190815/sw/fastq_runid_e33d821ff769cbb24ed5af866a50887f3e1ea5c3_37_2.tsv\n",
      "[12:45:40 - __main__] Starting fastq (150 of 323)\n",
      "\t/path/to/data/MinION_sequencing_data_20190815/guppy_3.2.2_08_15_2019_run_02_exec_20190815/pass/fastq_runid_e33d821ff769cbb24ed5af866a50887f3e1ea5c3_38_0.fastq\n"
     ]
    },
    {
     "name": "stdout",
     "output_type": "stream",
     "text": [
      "[########################################] | 100% Completed |  1min 10.8s\n"
     ]
    },
    {
     "name": "stderr",
     "output_type": "stream",
     "text": [
      "[12:46:51 - __main__] Saving to file: /path/to/data/MinION_sequencing_data_20190815/guppy_3.2.2_08_15_2019_run_02_exec_20190815/sw/fastq_runid_e33d821ff769cbb24ed5af866a50887f3e1ea5c3_38_0.tsv\n",
      "[12:46:51 - __main__] Starting fastq (151 of 323)\n",
      "\t/path/to/data/MinION_sequencing_data_20190815/guppy_3.2.2_08_15_2019_run_02_exec_20190815/pass/fastq_runid_e33d821ff769cbb24ed5af866a50887f3e1ea5c3_38_1.fastq\n"
     ]
    },
    {
     "name": "stdout",
     "output_type": "stream",
     "text": [
      "[########################################] | 100% Completed |  1min 23.8s\n"
     ]
    },
    {
     "name": "stderr",
     "output_type": "stream",
     "text": [
      "[12:48:15 - __main__] Saving to file: /path/to/data/MinION_sequencing_data_20190815/guppy_3.2.2_08_15_2019_run_02_exec_20190815/sw/fastq_runid_e33d821ff769cbb24ed5af866a50887f3e1ea5c3_38_1.tsv\n",
      "[12:48:16 - __main__] Starting fastq (152 of 323)\n",
      "\t/path/to/data/MinION_sequencing_data_20190815/guppy_3.2.2_08_15_2019_run_02_exec_20190815/pass/fastq_runid_e33d821ff769cbb24ed5af866a50887f3e1ea5c3_38_2.fastq\n"
     ]
    },
    {
     "name": "stdout",
     "output_type": "stream",
     "text": [
      "[########################################] | 100% Completed |  1min 45.3s\n"
     ]
    },
    {
     "name": "stderr",
     "output_type": "stream",
     "text": [
      "[12:50:01 - __main__] Saving to file: /path/to/data/MinION_sequencing_data_20190815/guppy_3.2.2_08_15_2019_run_02_exec_20190815/sw/fastq_runid_e33d821ff769cbb24ed5af866a50887f3e1ea5c3_38_2.tsv\n",
      "[12:50:02 - __main__] Starting fastq (153 of 323)\n",
      "\t/path/to/data/MinION_sequencing_data_20190815/guppy_3.2.2_08_15_2019_run_02_exec_20190815/pass/fastq_runid_e33d821ff769cbb24ed5af866a50887f3e1ea5c3_39_0.fastq\n"
     ]
    },
    {
     "name": "stdout",
     "output_type": "stream",
     "text": [
      "[########################################] | 100% Completed | 48.3s\n"
     ]
    },
    {
     "name": "stderr",
     "output_type": "stream",
     "text": [
      "[12:50:50 - __main__] Saving to file: /path/to/data/MinION_sequencing_data_20190815/guppy_3.2.2_08_15_2019_run_02_exec_20190815/sw/fastq_runid_e33d821ff769cbb24ed5af866a50887f3e1ea5c3_39_0.tsv\n",
      "[12:50:50 - __main__] Starting fastq (154 of 323)\n",
      "\t/path/to/data/MinION_sequencing_data_20190815/guppy_3.2.2_08_15_2019_run_02_exec_20190815/pass/fastq_runid_e33d821ff769cbb24ed5af866a50887f3e1ea5c3_39_1.fastq\n"
     ]
    },
    {
     "name": "stdout",
     "output_type": "stream",
     "text": [
      "[########################################] | 100% Completed |  1min 27.1s\n"
     ]
    },
    {
     "name": "stderr",
     "output_type": "stream",
     "text": [
      "[12:52:18 - __main__] Saving to file: /path/to/data/MinION_sequencing_data_20190815/guppy_3.2.2_08_15_2019_run_02_exec_20190815/sw/fastq_runid_e33d821ff769cbb24ed5af866a50887f3e1ea5c3_39_1.tsv\n",
      "[12:52:18 - __main__] Starting fastq (155 of 323)\n",
      "\t/path/to/data/MinION_sequencing_data_20190815/guppy_3.2.2_08_15_2019_run_02_exec_20190815/pass/fastq_runid_e33d821ff769cbb24ed5af866a50887f3e1ea5c3_36_3.fastq\n"
     ]
    },
    {
     "name": "stdout",
     "output_type": "stream",
     "text": [
      "[########################################] | 100% Completed | 15.7s\n"
     ]
    },
    {
     "name": "stderr",
     "output_type": "stream",
     "text": [
      "[12:52:34 - __main__] Saving to file: /path/to/data/MinION_sequencing_data_20190815/guppy_3.2.2_08_15_2019_run_02_exec_20190815/sw/fastq_runid_e33d821ff769cbb24ed5af866a50887f3e1ea5c3_36_3.tsv\n",
      "[12:52:34 - __main__] Starting fastq (156 of 323)\n",
      "\t/path/to/data/MinION_sequencing_data_20190815/guppy_3.2.2_08_15_2019_run_02_exec_20190815/pass/fastq_runid_e33d821ff769cbb24ed5af866a50887f3e1ea5c3_39_2.fastq\n"
     ]
    },
    {
     "name": "stdout",
     "output_type": "stream",
     "text": [
      "[########################################] | 100% Completed |  2min 10.5s\n"
     ]
    },
    {
     "name": "stderr",
     "output_type": "stream",
     "text": [
      "[12:54:45 - __main__] Saving to file: /path/to/data/MinION_sequencing_data_20190815/guppy_3.2.2_08_15_2019_run_02_exec_20190815/sw/fastq_runid_e33d821ff769cbb24ed5af866a50887f3e1ea5c3_39_2.tsv\n",
      "[12:54:45 - __main__] Starting fastq (157 of 323)\n",
      "\t/path/to/data/MinION_sequencing_data_20190815/guppy_3.2.2_08_15_2019_run_02_exec_20190815/pass/fastq_runid_e33d821ff769cbb24ed5af866a50887f3e1ea5c3_40_0.fastq\n"
     ]
    },
    {
     "name": "stdout",
     "output_type": "stream",
     "text": [
      "[########################################] | 100% Completed |  1min 35.9s\n"
     ]
    },
    {
     "name": "stderr",
     "output_type": "stream",
     "text": [
      "[12:56:22 - __main__] Saving to file: /path/to/data/MinION_sequencing_data_20190815/guppy_3.2.2_08_15_2019_run_02_exec_20190815/sw/fastq_runid_e33d821ff769cbb24ed5af866a50887f3e1ea5c3_40_0.tsv\n",
      "[12:56:22 - __main__] Starting fastq (158 of 323)\n",
      "\t/path/to/data/MinION_sequencing_data_20190815/guppy_3.2.2_08_15_2019_run_02_exec_20190815/pass/fastq_runid_e33d821ff769cbb24ed5af866a50887f3e1ea5c3_37_3.fastq\n"
     ]
    },
    {
     "name": "stdout",
     "output_type": "stream",
     "text": [
      "[########################################] | 100% Completed |  1.2s\n"
     ]
    },
    {
     "name": "stderr",
     "output_type": "stream",
     "text": [
      "[12:56:23 - __main__] Saving to file: /path/to/data/MinION_sequencing_data_20190815/guppy_3.2.2_08_15_2019_run_02_exec_20190815/sw/fastq_runid_e33d821ff769cbb24ed5af866a50887f3e1ea5c3_37_3.tsv\n",
      "[12:56:23 - __main__] Starting fastq (159 of 323)\n",
      "\t/path/to/data/MinION_sequencing_data_20190815/guppy_3.2.2_08_15_2019_run_02_exec_20190815/pass/fastq_runid_e33d821ff769cbb24ed5af866a50887f3e1ea5c3_38_3.fastq\n"
     ]
    },
    {
     "name": "stdout",
     "output_type": "stream",
     "text": [
      "[########################################] | 100% Completed |  1.5s\n"
     ]
    },
    {
     "name": "stderr",
     "output_type": "stream",
     "text": [
      "[12:56:25 - __main__] Saving to file: /path/to/data/MinION_sequencing_data_20190815/guppy_3.2.2_08_15_2019_run_02_exec_20190815/sw/fastq_runid_e33d821ff769cbb24ed5af866a50887f3e1ea5c3_38_3.tsv\n",
      "[12:56:25 - __main__] Starting fastq (160 of 323)\n",
      "\t/path/to/data/MinION_sequencing_data_20190815/guppy_3.2.2_08_15_2019_run_02_exec_20190815/pass/fastq_runid_e33d821ff769cbb24ed5af866a50887f3e1ea5c3_40_1.fastq\n"
     ]
    },
    {
     "name": "stdout",
     "output_type": "stream",
     "text": [
      "[########################################] | 100% Completed |  1min 21.8s\n"
     ]
    },
    {
     "name": "stderr",
     "output_type": "stream",
     "text": [
      "[12:57:48 - __main__] Saving to file: /path/to/data/MinION_sequencing_data_20190815/guppy_3.2.2_08_15_2019_run_02_exec_20190815/sw/fastq_runid_e33d821ff769cbb24ed5af866a50887f3e1ea5c3_40_1.tsv\n",
      "[12:57:48 - __main__] Starting fastq (161 of 323)\n",
      "\t/path/to/data/MinION_sequencing_data_20190815/guppy_3.2.2_08_15_2019_run_02_exec_20190815/pass/fastq_runid_e33d821ff769cbb24ed5af866a50887f3e1ea5c3_40_2.fastq\n"
     ]
    },
    {
     "name": "stdout",
     "output_type": "stream",
     "text": [
      "[########################################] | 100% Completed |  1min 18.0s\n"
     ]
    },
    {
     "name": "stderr",
     "output_type": "stream",
     "text": [
      "[12:59:06 - __main__] Saving to file: /path/to/data/MinION_sequencing_data_20190815/guppy_3.2.2_08_15_2019_run_02_exec_20190815/sw/fastq_runid_e33d821ff769cbb24ed5af866a50887f3e1ea5c3_40_2.tsv\n",
      "[12:59:06 - __main__] Starting fastq (162 of 323)\n",
      "\t/path/to/data/MinION_sequencing_data_20190815/guppy_3.2.2_08_15_2019_run_02_exec_20190815/pass/fastq_runid_e33d821ff769cbb24ed5af866a50887f3e1ea5c3_40_3.fastq\n"
     ]
    },
    {
     "name": "stdout",
     "output_type": "stream",
     "text": [
      "[########################################] | 100% Completed | 10.3s\n"
     ]
    },
    {
     "name": "stderr",
     "output_type": "stream",
     "text": [
      "[12:59:17 - __main__] Saving to file: /path/to/data/MinION_sequencing_data_20190815/guppy_3.2.2_08_15_2019_run_02_exec_20190815/sw/fastq_runid_e33d821ff769cbb24ed5af866a50887f3e1ea5c3_40_3.tsv\n",
      "[12:59:17 - __main__] Starting fastq (163 of 323)\n",
      "\t/path/to/data/MinION_sequencing_data_20190815/guppy_3.2.2_08_15_2019_run_02_exec_20190815/pass/fastq_runid_e33d821ff769cbb24ed5af866a50887f3e1ea5c3_41_0.fastq\n"
     ]
    },
    {
     "name": "stdout",
     "output_type": "stream",
     "text": [
      "[########################################] | 100% Completed |  1min 18.0s\n"
     ]
    },
    {
     "name": "stderr",
     "output_type": "stream",
     "text": [
      "[13:00:35 - __main__] Saving to file: /path/to/data/MinION_sequencing_data_20190815/guppy_3.2.2_08_15_2019_run_02_exec_20190815/sw/fastq_runid_e33d821ff769cbb24ed5af866a50887f3e1ea5c3_41_0.tsv\n",
      "[13:00:35 - __main__] Starting fastq (164 of 323)\n",
      "\t/path/to/data/MinION_sequencing_data_20190815/guppy_3.2.2_08_15_2019_run_02_exec_20190815/pass/fastq_runid_e33d821ff769cbb24ed5af866a50887f3e1ea5c3_39_3.fastq\n"
     ]
    },
    {
     "name": "stdout",
     "output_type": "stream",
     "text": [
      "[########################################] | 100% Completed |  1.7s\n"
     ]
    },
    {
     "name": "stderr",
     "output_type": "stream",
     "text": [
      "[13:00:38 - __main__] Saving to file: /path/to/data/MinION_sequencing_data_20190815/guppy_3.2.2_08_15_2019_run_02_exec_20190815/sw/fastq_runid_e33d821ff769cbb24ed5af866a50887f3e1ea5c3_39_3.tsv\n",
      "[13:00:38 - __main__] Starting fastq (165 of 323)\n",
      "\t/path/to/data/MinION_sequencing_data_20190815/guppy_3.2.2_08_15_2019_run_02_exec_20190815/pass/fastq_runid_e33d821ff769cbb24ed5af866a50887f3e1ea5c3_41_1.fastq\n"
     ]
    },
    {
     "name": "stdout",
     "output_type": "stream",
     "text": [
      "[########################################] | 100% Completed |  1min  9.4s\n"
     ]
    },
    {
     "name": "stderr",
     "output_type": "stream",
     "text": [
      "[13:01:47 - __main__] Saving to file: /path/to/data/MinION_sequencing_data_20190815/guppy_3.2.2_08_15_2019_run_02_exec_20190815/sw/fastq_runid_e33d821ff769cbb24ed5af866a50887f3e1ea5c3_41_1.tsv\n",
      "[13:01:48 - __main__] Starting fastq (166 of 323)\n",
      "\t/path/to/data/MinION_sequencing_data_20190815/guppy_3.2.2_08_15_2019_run_02_exec_20190815/pass/fastq_runid_e33d821ff769cbb24ed5af866a50887f3e1ea5c3_41_2.fastq\n"
     ]
    },
    {
     "name": "stdout",
     "output_type": "stream",
     "text": [
      "[########################################] | 100% Completed |  1min 34.7s\n"
     ]
    },
    {
     "name": "stderr",
     "output_type": "stream",
     "text": [
      "[13:03:23 - __main__] Saving to file: /path/to/data/MinION_sequencing_data_20190815/guppy_3.2.2_08_15_2019_run_02_exec_20190815/sw/fastq_runid_e33d821ff769cbb24ed5af866a50887f3e1ea5c3_41_2.tsv\n",
      "[13:03:23 - __main__] Starting fastq (167 of 323)\n",
      "\t/path/to/data/MinION_sequencing_data_20190815/guppy_3.2.2_08_15_2019_run_02_exec_20190815/pass/fastq_runid_e33d821ff769cbb24ed5af866a50887f3e1ea5c3_41_3.fastq\n"
     ]
    },
    {
     "name": "stdout",
     "output_type": "stream",
     "text": [
      "[########################################] | 100% Completed | 20.4s\n"
     ]
    },
    {
     "name": "stderr",
     "output_type": "stream",
     "text": [
      "[13:03:44 - __main__] Saving to file: /path/to/data/MinION_sequencing_data_20190815/guppy_3.2.2_08_15_2019_run_02_exec_20190815/sw/fastq_runid_e33d821ff769cbb24ed5af866a50887f3e1ea5c3_41_3.tsv\n",
      "[13:03:44 - __main__] Starting fastq (168 of 323)\n",
      "\t/path/to/data/MinION_sequencing_data_20190815/guppy_3.2.2_08_15_2019_run_02_exec_20190815/pass/fastq_runid_e33d821ff769cbb24ed5af866a50887f3e1ea5c3_42_0.fastq\n"
     ]
    },
    {
     "name": "stdout",
     "output_type": "stream",
     "text": [
      "[########################################] | 100% Completed |  1min  2.5s\n"
     ]
    },
    {
     "name": "stderr",
     "output_type": "stream",
     "text": [
      "[13:04:47 - __main__] Saving to file: /path/to/data/MinION_sequencing_data_20190815/guppy_3.2.2_08_15_2019_run_02_exec_20190815/sw/fastq_runid_e33d821ff769cbb24ed5af866a50887f3e1ea5c3_42_0.tsv\n",
      "[13:04:47 - __main__] Starting fastq (169 of 323)\n",
      "\t/path/to/data/MinION_sequencing_data_20190815/guppy_3.2.2_08_15_2019_run_02_exec_20190815/pass/fastq_runid_e33d821ff769cbb24ed5af866a50887f3e1ea5c3_42_1.fastq\n"
     ]
    },
    {
     "name": "stdout",
     "output_type": "stream",
     "text": [
      "[########################################] | 100% Completed |  1min 28.9s\n"
     ]
    },
    {
     "name": "stderr",
     "output_type": "stream",
     "text": [
      "[13:06:16 - __main__] Saving to file: /path/to/data/MinION_sequencing_data_20190815/guppy_3.2.2_08_15_2019_run_02_exec_20190815/sw/fastq_runid_e33d821ff769cbb24ed5af866a50887f3e1ea5c3_42_1.tsv\n",
      "[13:06:16 - __main__] Starting fastq (170 of 323)\n",
      "\t/path/to/data/MinION_sequencing_data_20190815/guppy_3.2.2_08_15_2019_run_02_exec_20190815/pass/fastq_runid_e33d821ff769cbb24ed5af866a50887f3e1ea5c3_42_2.fastq\n"
     ]
    },
    {
     "name": "stdout",
     "output_type": "stream",
     "text": [
      "[########################################] | 100% Completed |  1min 24.1s\n"
     ]
    },
    {
     "name": "stderr",
     "output_type": "stream",
     "text": [
      "[13:07:41 - __main__] Saving to file: /path/to/data/MinION_sequencing_data_20190815/guppy_3.2.2_08_15_2019_run_02_exec_20190815/sw/fastq_runid_e33d821ff769cbb24ed5af866a50887f3e1ea5c3_42_2.tsv\n",
      "[13:07:41 - __main__] Starting fastq (171 of 323)\n",
      "\t/path/to/data/MinION_sequencing_data_20190815/guppy_3.2.2_08_15_2019_run_02_exec_20190815/pass/fastq_runid_e33d821ff769cbb24ed5af866a50887f3e1ea5c3_42_3.fastq\n"
     ]
    },
    {
     "name": "stdout",
     "output_type": "stream",
     "text": [
      "[########################################] | 100% Completed | 26.0s\n"
     ]
    },
    {
     "name": "stderr",
     "output_type": "stream",
     "text": [
      "[13:08:07 - __main__] Saving to file: /path/to/data/MinION_sequencing_data_20190815/guppy_3.2.2_08_15_2019_run_02_exec_20190815/sw/fastq_runid_e33d821ff769cbb24ed5af866a50887f3e1ea5c3_42_3.tsv\n",
      "[13:08:07 - __main__] Starting fastq (172 of 323)\n",
      "\t/path/to/data/MinION_sequencing_data_20190815/guppy_3.2.2_08_15_2019_run_02_exec_20190815/pass/fastq_runid_e33d821ff769cbb24ed5af866a50887f3e1ea5c3_43_0.fastq\n"
     ]
    },
    {
     "name": "stdout",
     "output_type": "stream",
     "text": [
      "[########################################] | 100% Completed | 56.7s\n"
     ]
    },
    {
     "name": "stderr",
     "output_type": "stream",
     "text": [
      "[13:09:05 - __main__] Saving to file: /path/to/data/MinION_sequencing_data_20190815/guppy_3.2.2_08_15_2019_run_02_exec_20190815/sw/fastq_runid_e33d821ff769cbb24ed5af866a50887f3e1ea5c3_43_0.tsv\n",
      "[13:09:05 - __main__] Starting fastq (173 of 323)\n",
      "\t/path/to/data/MinION_sequencing_data_20190815/guppy_3.2.2_08_15_2019_run_02_exec_20190815/pass/fastq_runid_e33d821ff769cbb24ed5af866a50887f3e1ea5c3_43_1.fastq\n"
     ]
    },
    {
     "name": "stdout",
     "output_type": "stream",
     "text": [
      "[########################################] | 100% Completed |  1min 51.9s\n"
     ]
    },
    {
     "name": "stderr",
     "output_type": "stream",
     "text": [
      "[13:10:57 - __main__] Saving to file: /path/to/data/MinION_sequencing_data_20190815/guppy_3.2.2_08_15_2019_run_02_exec_20190815/sw/fastq_runid_e33d821ff769cbb24ed5af866a50887f3e1ea5c3_43_1.tsv\n",
      "[13:10:57 - __main__] Starting fastq (174 of 323)\n",
      "\t/path/to/data/MinION_sequencing_data_20190815/guppy_3.2.2_08_15_2019_run_02_exec_20190815/pass/fastq_runid_e33d821ff769cbb24ed5af866a50887f3e1ea5c3_43_2.fastq\n"
     ]
    },
    {
     "name": "stdout",
     "output_type": "stream",
     "text": [
      "[########################################] | 100% Completed |  1min  2.2s\n"
     ]
    },
    {
     "name": "stderr",
     "output_type": "stream",
     "text": [
      "[13:12:00 - __main__] Saving to file: /path/to/data/MinION_sequencing_data_20190815/guppy_3.2.2_08_15_2019_run_02_exec_20190815/sw/fastq_runid_e33d821ff769cbb24ed5af866a50887f3e1ea5c3_43_2.tsv\n",
      "[13:12:00 - __main__] Starting fastq (175 of 323)\n",
      "\t/path/to/data/MinION_sequencing_data_20190815/guppy_3.2.2_08_15_2019_run_02_exec_20190815/pass/fastq_runid_e33d821ff769cbb24ed5af866a50887f3e1ea5c3_44_0.fastq\n"
     ]
    },
    {
     "name": "stdout",
     "output_type": "stream",
     "text": [
      "[########################################] | 100% Completed |  1min 57.5s\n"
     ]
    },
    {
     "name": "stderr",
     "output_type": "stream",
     "text": [
      "[13:13:58 - __main__] Saving to file: /path/to/data/MinION_sequencing_data_20190815/guppy_3.2.2_08_15_2019_run_02_exec_20190815/sw/fastq_runid_e33d821ff769cbb24ed5af866a50887f3e1ea5c3_44_0.tsv\n",
      "[13:13:58 - __main__] Starting fastq (176 of 323)\n",
      "\t/path/to/data/MinION_sequencing_data_20190815/guppy_3.2.2_08_15_2019_run_02_exec_20190815/pass/fastq_runid_e33d821ff769cbb24ed5af866a50887f3e1ea5c3_43_3.fastq\n"
     ]
    },
    {
     "name": "stdout",
     "output_type": "stream",
     "text": [
      "[########################################] | 100% Completed | 39.7s\n"
     ]
    },
    {
     "name": "stderr",
     "output_type": "stream",
     "text": [
      "[13:14:38 - __main__] Saving to file: /path/to/data/MinION_sequencing_data_20190815/guppy_3.2.2_08_15_2019_run_02_exec_20190815/sw/fastq_runid_e33d821ff769cbb24ed5af866a50887f3e1ea5c3_43_3.tsv\n",
      "[13:14:38 - __main__] Starting fastq (177 of 323)\n",
      "\t/path/to/data/MinION_sequencing_data_20190815/guppy_3.2.2_08_15_2019_run_02_exec_20190815/pass/fastq_runid_e33d821ff769cbb24ed5af866a50887f3e1ea5c3_44_1.fastq\n"
     ]
    },
    {
     "name": "stdout",
     "output_type": "stream",
     "text": [
      "[########################################] | 100% Completed |  1min 25.3s\n"
     ]
    },
    {
     "name": "stderr",
     "output_type": "stream",
     "text": [
      "[13:16:04 - __main__] Saving to file: /path/to/data/MinION_sequencing_data_20190815/guppy_3.2.2_08_15_2019_run_02_exec_20190815/sw/fastq_runid_e33d821ff769cbb24ed5af866a50887f3e1ea5c3_44_1.tsv\n",
      "[13:16:04 - __main__] Starting fastq (178 of 323)\n",
      "\t/path/to/data/MinION_sequencing_data_20190815/guppy_3.2.2_08_15_2019_run_02_exec_20190815/pass/fastq_runid_e33d821ff769cbb24ed5af866a50887f3e1ea5c3_44_2.fastq\n"
     ]
    },
    {
     "name": "stdout",
     "output_type": "stream",
     "text": [
      "[########################################] | 100% Completed |  1min  2.1s\n"
     ]
    },
    {
     "name": "stderr",
     "output_type": "stream",
     "text": [
      "[13:17:06 - __main__] Saving to file: /path/to/data/MinION_sequencing_data_20190815/guppy_3.2.2_08_15_2019_run_02_exec_20190815/sw/fastq_runid_e33d821ff769cbb24ed5af866a50887f3e1ea5c3_44_2.tsv\n",
      "[13:17:06 - __main__] Starting fastq (179 of 323)\n",
      "\t/path/to/data/MinION_sequencing_data_20190815/guppy_3.2.2_08_15_2019_run_02_exec_20190815/pass/fastq_runid_e33d821ff769cbb24ed5af866a50887f3e1ea5c3_45_0.fastq\n"
     ]
    },
    {
     "name": "stdout",
     "output_type": "stream",
     "text": [
      "[########################################] | 100% Completed |  2min 21.5s\n"
     ]
    },
    {
     "name": "stderr",
     "output_type": "stream",
     "text": [
      "[13:19:28 - __main__] Saving to file: /path/to/data/MinION_sequencing_data_20190815/guppy_3.2.2_08_15_2019_run_02_exec_20190815/sw/fastq_runid_e33d821ff769cbb24ed5af866a50887f3e1ea5c3_45_0.tsv\n",
      "[13:19:29 - __main__] Starting fastq (180 of 323)\n",
      "\t/path/to/data/MinION_sequencing_data_20190815/guppy_3.2.2_08_15_2019_run_02_exec_20190815/pass/fastq_runid_e33d821ff769cbb24ed5af866a50887f3e1ea5c3_44_3.fastq\n"
     ]
    },
    {
     "name": "stdout",
     "output_type": "stream",
     "text": [
      "[########################################] | 100% Completed |  9.6s\n"
     ]
    },
    {
     "name": "stderr",
     "output_type": "stream",
     "text": [
      "[13:19:39 - __main__] Saving to file: /path/to/data/MinION_sequencing_data_20190815/guppy_3.2.2_08_15_2019_run_02_exec_20190815/sw/fastq_runid_e33d821ff769cbb24ed5af866a50887f3e1ea5c3_44_3.tsv\n",
      "[13:19:39 - __main__] Starting fastq (181 of 323)\n",
      "\t/path/to/data/MinION_sequencing_data_20190815/guppy_3.2.2_08_15_2019_run_02_exec_20190815/pass/fastq_runid_e33d821ff769cbb24ed5af866a50887f3e1ea5c3_45_1.fastq\n"
     ]
    },
    {
     "name": "stdout",
     "output_type": "stream",
     "text": [
      "[########################################] | 100% Completed | 50.9s\n"
     ]
    },
    {
     "name": "stderr",
     "output_type": "stream",
     "text": [
      "[13:20:30 - __main__] Saving to file: /path/to/data/MinION_sequencing_data_20190815/guppy_3.2.2_08_15_2019_run_02_exec_20190815/sw/fastq_runid_e33d821ff769cbb24ed5af866a50887f3e1ea5c3_45_1.tsv\n",
      "[13:20:30 - __main__] Starting fastq (182 of 323)\n",
      "\t/path/to/data/MinION_sequencing_data_20190815/guppy_3.2.2_08_15_2019_run_02_exec_20190815/pass/fastq_runid_e33d821ff769cbb24ed5af866a50887f3e1ea5c3_45_2.fastq\n"
     ]
    },
    {
     "name": "stdout",
     "output_type": "stream",
     "text": [
      "[########################################] | 100% Completed | 17.5s\n"
     ]
    },
    {
     "name": "stderr",
     "output_type": "stream",
     "text": [
      "[13:20:48 - __main__] Saving to file: /path/to/data/MinION_sequencing_data_20190815/guppy_3.2.2_08_15_2019_run_02_exec_20190815/sw/fastq_runid_e33d821ff769cbb24ed5af866a50887f3e1ea5c3_45_2.tsv\n",
      "[13:20:48 - __main__] Starting fastq (183 of 323)\n",
      "\t/path/to/data/MinION_sequencing_data_20190815/guppy_3.2.2_08_15_2019_run_02_exec_20190815/pass/fastq_runid_e33d821ff769cbb24ed5af866a50887f3e1ea5c3_45_3.fastq\n"
     ]
    },
    {
     "name": "stdout",
     "output_type": "stream",
     "text": [
      "[########################################] | 100% Completed |  1min  4.1s\n"
     ]
    },
    {
     "name": "stderr",
     "output_type": "stream",
     "text": [
      "[13:21:52 - __main__] Saving to file: /path/to/data/MinION_sequencing_data_20190815/guppy_3.2.2_08_15_2019_run_02_exec_20190815/sw/fastq_runid_e33d821ff769cbb24ed5af866a50887f3e1ea5c3_45_3.tsv\n",
      "[13:21:53 - __main__] Starting fastq (184 of 323)\n",
      "\t/path/to/data/MinION_sequencing_data_20190815/guppy_3.2.2_08_15_2019_run_02_exec_20190815/pass/fastq_runid_e33d821ff769cbb24ed5af866a50887f3e1ea5c3_46_0.fastq\n"
     ]
    },
    {
     "name": "stdout",
     "output_type": "stream",
     "text": [
      "[########################################] | 100% Completed |  1min 38.5s\n"
     ]
    },
    {
     "name": "stderr",
     "output_type": "stream",
     "text": [
      "[13:23:31 - __main__] Saving to file: /path/to/data/MinION_sequencing_data_20190815/guppy_3.2.2_08_15_2019_run_02_exec_20190815/sw/fastq_runid_e33d821ff769cbb24ed5af866a50887f3e1ea5c3_46_0.tsv\n",
      "[13:23:32 - __main__] Starting fastq (185 of 323)\n",
      "\t/path/to/data/MinION_sequencing_data_20190815/guppy_3.2.2_08_15_2019_run_02_exec_20190815/pass/fastq_runid_e33d821ff769cbb24ed5af866a50887f3e1ea5c3_46_1.fastq\n"
     ]
    },
    {
     "name": "stdout",
     "output_type": "stream",
     "text": [
      "[########################################] | 100% Completed |  2min  8.9s\n"
     ]
    },
    {
     "name": "stderr",
     "output_type": "stream",
     "text": [
      "[13:25:41 - __main__] Saving to file: /path/to/data/MinION_sequencing_data_20190815/guppy_3.2.2_08_15_2019_run_02_exec_20190815/sw/fastq_runid_e33d821ff769cbb24ed5af866a50887f3e1ea5c3_46_1.tsv\n",
      "[13:25:41 - __main__] Starting fastq (186 of 323)\n",
      "\t/path/to/data/MinION_sequencing_data_20190815/guppy_3.2.2_08_15_2019_run_02_exec_20190815/pass/fastq_runid_e33d821ff769cbb24ed5af866a50887f3e1ea5c3_46_2.fastq\n"
     ]
    },
    {
     "name": "stdout",
     "output_type": "stream",
     "text": [
      "[########################################] | 100% Completed | 54.5s\n"
     ]
    },
    {
     "name": "stderr",
     "output_type": "stream",
     "text": [
      "[13:26:36 - __main__] Saving to file: /path/to/data/MinION_sequencing_data_20190815/guppy_3.2.2_08_15_2019_run_02_exec_20190815/sw/fastq_runid_e33d821ff769cbb24ed5af866a50887f3e1ea5c3_46_2.tsv\n",
      "[13:26:36 - __main__] Starting fastq (187 of 323)\n",
      "\t/path/to/data/MinION_sequencing_data_20190815/guppy_3.2.2_08_15_2019_run_02_exec_20190815/pass/fastq_runid_e33d821ff769cbb24ed5af866a50887f3e1ea5c3_47_0.fastq\n"
     ]
    },
    {
     "name": "stdout",
     "output_type": "stream",
     "text": [
      "[########################################] | 100% Completed |  1min 55.7s\n"
     ]
    },
    {
     "name": "stderr",
     "output_type": "stream",
     "text": [
      "[13:28:33 - __main__] Saving to file: /path/to/data/MinION_sequencing_data_20190815/guppy_3.2.2_08_15_2019_run_02_exec_20190815/sw/fastq_runid_e33d821ff769cbb24ed5af866a50887f3e1ea5c3_47_0.tsv\n",
      "[13:28:33 - __main__] Starting fastq (188 of 323)\n",
      "\t/path/to/data/MinION_sequencing_data_20190815/guppy_3.2.2_08_15_2019_run_02_exec_20190815/pass/fastq_runid_e33d821ff769cbb24ed5af866a50887f3e1ea5c3_47_1.fastq\n"
     ]
    },
    {
     "name": "stdout",
     "output_type": "stream",
     "text": [
      "[########################################] | 100% Completed |  1min 49.9s\n"
     ]
    },
    {
     "name": "stderr",
     "output_type": "stream",
     "text": [
      "[13:30:23 - __main__] Saving to file: /path/to/data/MinION_sequencing_data_20190815/guppy_3.2.2_08_15_2019_run_02_exec_20190815/sw/fastq_runid_e33d821ff769cbb24ed5af866a50887f3e1ea5c3_47_1.tsv\n",
      "[13:30:23 - __main__] Starting fastq (189 of 323)\n",
      "\t/path/to/data/MinION_sequencing_data_20190815/guppy_3.2.2_08_15_2019_run_02_exec_20190815/pass/fastq_runid_e33d821ff769cbb24ed5af866a50887f3e1ea5c3_46_3.fastq\n"
     ]
    },
    {
     "name": "stdout",
     "output_type": "stream",
     "text": [
      "[########################################] | 100% Completed |  1.8s\n"
     ]
    },
    {
     "name": "stderr",
     "output_type": "stream",
     "text": [
      "[13:30:26 - __main__] Saving to file: /path/to/data/MinION_sequencing_data_20190815/guppy_3.2.2_08_15_2019_run_02_exec_20190815/sw/fastq_runid_e33d821ff769cbb24ed5af866a50887f3e1ea5c3_46_3.tsv\n",
      "[13:30:26 - __main__] Starting fastq (190 of 323)\n",
      "\t/path/to/data/MinION_sequencing_data_20190815/guppy_3.2.2_08_15_2019_run_02_exec_20190815/pass/fastq_runid_e33d821ff769cbb24ed5af866a50887f3e1ea5c3_47_2.fastq\n"
     ]
    },
    {
     "name": "stdout",
     "output_type": "stream",
     "text": [
      "[########################################] | 100% Completed |  1min  0.7s\n"
     ]
    },
    {
     "name": "stderr",
     "output_type": "stream",
     "text": [
      "[13:31:27 - __main__] Saving to file: /path/to/data/MinION_sequencing_data_20190815/guppy_3.2.2_08_15_2019_run_02_exec_20190815/sw/fastq_runid_e33d821ff769cbb24ed5af866a50887f3e1ea5c3_47_2.tsv\n",
      "[13:31:27 - __main__] Starting fastq (191 of 323)\n",
      "\t/path/to/data/MinION_sequencing_data_20190815/guppy_3.2.2_08_15_2019_run_02_exec_20190815/pass/fastq_runid_e33d821ff769cbb24ed5af866a50887f3e1ea5c3_48_0.fastq\n"
     ]
    },
    {
     "name": "stdout",
     "output_type": "stream",
     "text": [
      "[########################################] | 100% Completed |  1min  8.9s\n"
     ]
    },
    {
     "name": "stderr",
     "output_type": "stream",
     "text": [
      "[13:32:36 - __main__] Saving to file: /path/to/data/MinION_sequencing_data_20190815/guppy_3.2.2_08_15_2019_run_02_exec_20190815/sw/fastq_runid_e33d821ff769cbb24ed5af866a50887f3e1ea5c3_48_0.tsv\n",
      "[13:32:37 - __main__] Starting fastq (192 of 323)\n",
      "\t/path/to/data/MinION_sequencing_data_20190815/guppy_3.2.2_08_15_2019_run_02_exec_20190815/pass/fastq_runid_e33d821ff769cbb24ed5af866a50887f3e1ea5c3_47_3.fastq\n"
     ]
    },
    {
     "name": "stdout",
     "output_type": "stream",
     "text": [
      "[########################################] | 100% Completed |  1.4s\n"
     ]
    },
    {
     "name": "stderr",
     "output_type": "stream",
     "text": [
      "[13:32:38 - __main__] Saving to file: /path/to/data/MinION_sequencing_data_20190815/guppy_3.2.2_08_15_2019_run_02_exec_20190815/sw/fastq_runid_e33d821ff769cbb24ed5af866a50887f3e1ea5c3_47_3.tsv\n",
      "[13:32:38 - __main__] Starting fastq (193 of 323)\n",
      "\t/path/to/data/MinION_sequencing_data_20190815/guppy_3.2.2_08_15_2019_run_02_exec_20190815/pass/fastq_runid_e33d821ff769cbb24ed5af866a50887f3e1ea5c3_48_1.fastq\n"
     ]
    },
    {
     "name": "stdout",
     "output_type": "stream",
     "text": [
      "[########################################] | 100% Completed |  4.0s\n"
     ]
    },
    {
     "name": "stderr",
     "output_type": "stream",
     "text": [
      "[13:32:43 - __main__] Saving to file: /path/to/data/MinION_sequencing_data_20190815/guppy_3.2.2_08_15_2019_run_02_exec_20190815/sw/fastq_runid_e33d821ff769cbb24ed5af866a50887f3e1ea5c3_48_1.tsv\n",
      "[13:32:43 - __main__] Starting fastq (194 of 323)\n",
      "\t/path/to/data/MinION_sequencing_data_20190815/guppy_3.2.2_08_15_2019_run_02_exec_20190815/pass/fastq_runid_e33d821ff769cbb24ed5af866a50887f3e1ea5c3_49_0.fastq\n"
     ]
    },
    {
     "name": "stdout",
     "output_type": "stream",
     "text": [
      "[########################################] | 100% Completed |  1min 46.8s\n"
     ]
    },
    {
     "name": "stderr",
     "output_type": "stream",
     "text": [
      "[13:34:30 - __main__] Saving to file: /path/to/data/MinION_sequencing_data_20190815/guppy_3.2.2_08_15_2019_run_02_exec_20190815/sw/fastq_runid_e33d821ff769cbb24ed5af866a50887f3e1ea5c3_49_0.tsv\n",
      "[13:34:30 - __main__] Starting fastq (195 of 323)\n",
      "\t/path/to/data/MinION_sequencing_data_20190815/guppy_3.2.2_08_15_2019_run_02_exec_20190815/pass/fastq_runid_e33d821ff769cbb24ed5af866a50887f3e1ea5c3_49_1.fastq\n"
     ]
    },
    {
     "name": "stdout",
     "output_type": "stream",
     "text": [
      "[########################################] | 100% Completed |  1min  4.1s\n"
     ]
    },
    {
     "name": "stderr",
     "output_type": "stream",
     "text": [
      "[13:35:35 - __main__] Saving to file: /path/to/data/MinION_sequencing_data_20190815/guppy_3.2.2_08_15_2019_run_02_exec_20190815/sw/fastq_runid_e33d821ff769cbb24ed5af866a50887f3e1ea5c3_49_1.tsv\n",
      "[13:35:35 - __main__] Starting fastq (196 of 323)\n",
      "\t/path/to/data/MinION_sequencing_data_20190815/guppy_3.2.2_08_15_2019_run_02_exec_20190815/pass/fastq_runid_e33d821ff769cbb24ed5af866a50887f3e1ea5c3_49_2.fastq\n"
     ]
    },
    {
     "name": "stdout",
     "output_type": "stream",
     "text": [
      "[########################################] | 100% Completed | 28.8s\n"
     ]
    },
    {
     "name": "stderr",
     "output_type": "stream",
     "text": [
      "[13:36:04 - __main__] Saving to file: /path/to/data/MinION_sequencing_data_20190815/guppy_3.2.2_08_15_2019_run_02_exec_20190815/sw/fastq_runid_e33d821ff769cbb24ed5af866a50887f3e1ea5c3_49_2.tsv\n",
      "[13:36:04 - __main__] Starting fastq (197 of 323)\n",
      "\t/path/to/data/MinION_sequencing_data_20190815/guppy_3.2.2_08_15_2019_run_02_exec_20190815/pass/fastq_runid_e33d821ff769cbb24ed5af866a50887f3e1ea5c3_48_2.fastq\n"
     ]
    },
    {
     "name": "stdout",
     "output_type": "stream",
     "text": [
      "[########################################] | 100% Completed |  1.4s\n"
     ]
    },
    {
     "name": "stderr",
     "output_type": "stream",
     "text": [
      "[13:36:06 - __main__] Saving to file: /path/to/data/MinION_sequencing_data_20190815/guppy_3.2.2_08_15_2019_run_02_exec_20190815/sw/fastq_runid_e33d821ff769cbb24ed5af866a50887f3e1ea5c3_48_2.tsv\n",
      "[13:36:06 - __main__] Starting fastq (198 of 323)\n",
      "\t/path/to/data/MinION_sequencing_data_20190815/guppy_3.2.2_08_15_2019_run_02_exec_20190815/pass/fastq_runid_e33d821ff769cbb24ed5af866a50887f3e1ea5c3_48_3.fastq\n"
     ]
    },
    {
     "name": "stdout",
     "output_type": "stream",
     "text": [
      "[########################################] | 100% Completed | 10.4s\n"
     ]
    },
    {
     "name": "stderr",
     "output_type": "stream",
     "text": [
      "[13:36:17 - __main__] Saving to file: /path/to/data/MinION_sequencing_data_20190815/guppy_3.2.2_08_15_2019_run_02_exec_20190815/sw/fastq_runid_e33d821ff769cbb24ed5af866a50887f3e1ea5c3_48_3.tsv\n",
      "[13:36:17 - __main__] Starting fastq (199 of 323)\n",
      "\t/path/to/data/MinION_sequencing_data_20190815/guppy_3.2.2_08_15_2019_run_02_exec_20190815/pass/fastq_runid_e33d821ff769cbb24ed5af866a50887f3e1ea5c3_49_3.fastq\n"
     ]
    },
    {
     "name": "stdout",
     "output_type": "stream",
     "text": [
      "[########################################] | 100% Completed |  1min 23.1s\n"
     ]
    },
    {
     "name": "stderr",
     "output_type": "stream",
     "text": [
      "[13:37:40 - __main__] Saving to file: /path/to/data/MinION_sequencing_data_20190815/guppy_3.2.2_08_15_2019_run_02_exec_20190815/sw/fastq_runid_e33d821ff769cbb24ed5af866a50887f3e1ea5c3_49_3.tsv\n",
      "[13:37:41 - __main__] Starting fastq (200 of 323)\n",
      "\t/path/to/data/MinION_sequencing_data_20190815/guppy_3.2.2_08_15_2019_run_02_exec_20190815/pass/fastq_runid_e33d821ff769cbb24ed5af866a50887f3e1ea5c3_50_0.fastq\n"
     ]
    },
    {
     "name": "stdout",
     "output_type": "stream",
     "text": [
      "[########################################] | 100% Completed | 58.3s\n"
     ]
    },
    {
     "name": "stderr",
     "output_type": "stream",
     "text": [
      "[13:38:39 - __main__] Saving to file: /path/to/data/MinION_sequencing_data_20190815/guppy_3.2.2_08_15_2019_run_02_exec_20190815/sw/fastq_runid_e33d821ff769cbb24ed5af866a50887f3e1ea5c3_50_0.tsv\n",
      "[13:38:39 - __main__] Starting fastq (201 of 323)\n",
      "\t/path/to/data/MinION_sequencing_data_20190815/guppy_3.2.2_08_15_2019_run_02_exec_20190815/pass/fastq_runid_e33d821ff769cbb24ed5af866a50887f3e1ea5c3_50_1.fastq\n"
     ]
    },
    {
     "name": "stdout",
     "output_type": "stream",
     "text": [
      "[########################################] | 100% Completed | 16.0s\n"
     ]
    },
    {
     "name": "stderr",
     "output_type": "stream",
     "text": [
      "[13:38:56 - __main__] Saving to file: /path/to/data/MinION_sequencing_data_20190815/guppy_3.2.2_08_15_2019_run_02_exec_20190815/sw/fastq_runid_e33d821ff769cbb24ed5af866a50887f3e1ea5c3_50_1.tsv\n",
      "[13:38:56 - __main__] Starting fastq (202 of 323)\n",
      "\t/path/to/data/MinION_sequencing_data_20190815/guppy_3.2.2_08_15_2019_run_02_exec_20190815/pass/fastq_runid_e33d821ff769cbb24ed5af866a50887f3e1ea5c3_50_2.fastq\n"
     ]
    },
    {
     "name": "stdout",
     "output_type": "stream",
     "text": [
      "[########################################] | 100% Completed |  2min 12.2s\n"
     ]
    },
    {
     "name": "stderr",
     "output_type": "stream",
     "text": [
      "[13:41:09 - __main__] Saving to file: /path/to/data/MinION_sequencing_data_20190815/guppy_3.2.2_08_15_2019_run_02_exec_20190815/sw/fastq_runid_e33d821ff769cbb24ed5af866a50887f3e1ea5c3_50_2.tsv\n",
      "[13:41:09 - __main__] Starting fastq (203 of 323)\n",
      "\t/path/to/data/MinION_sequencing_data_20190815/guppy_3.2.2_08_15_2019_run_02_exec_20190815/pass/fastq_runid_e33d821ff769cbb24ed5af866a50887f3e1ea5c3_50_3.fastq\n"
     ]
    },
    {
     "name": "stdout",
     "output_type": "stream",
     "text": [
      "[########################################] | 100% Completed |  1min 10.0s\n"
     ]
    },
    {
     "name": "stderr",
     "output_type": "stream",
     "text": [
      "[13:42:19 - __main__] Saving to file: /path/to/data/MinION_sequencing_data_20190815/guppy_3.2.2_08_15_2019_run_02_exec_20190815/sw/fastq_runid_e33d821ff769cbb24ed5af866a50887f3e1ea5c3_50_3.tsv\n",
      "[13:42:19 - __main__] Starting fastq (204 of 323)\n",
      "\t/path/to/data/MinION_sequencing_data_20190815/guppy_3.2.2_08_15_2019_run_02_exec_20190815/pass/fastq_runid_e33d821ff769cbb24ed5af866a50887f3e1ea5c3_51_0.fastq\n"
     ]
    },
    {
     "name": "stdout",
     "output_type": "stream",
     "text": [
      "[########################################] | 100% Completed |  1min  9.2s\n"
     ]
    },
    {
     "name": "stderr",
     "output_type": "stream",
     "text": [
      "[13:43:29 - __main__] Saving to file: /path/to/data/MinION_sequencing_data_20190815/guppy_3.2.2_08_15_2019_run_02_exec_20190815/sw/fastq_runid_e33d821ff769cbb24ed5af866a50887f3e1ea5c3_51_0.tsv\n",
      "[13:43:29 - __main__] Starting fastq (205 of 323)\n",
      "\t/path/to/data/MinION_sequencing_data_20190815/guppy_3.2.2_08_15_2019_run_02_exec_20190815/pass/fastq_runid_e33d821ff769cbb24ed5af866a50887f3e1ea5c3_51_1.fastq\n"
     ]
    },
    {
     "name": "stdout",
     "output_type": "stream",
     "text": [
      "[########################################] | 100% Completed |  1min 42.7s\n"
     ]
    },
    {
     "name": "stderr",
     "output_type": "stream",
     "text": [
      "[13:45:12 - __main__] Saving to file: /path/to/data/MinION_sequencing_data_20190815/guppy_3.2.2_08_15_2019_run_02_exec_20190815/sw/fastq_runid_e33d821ff769cbb24ed5af866a50887f3e1ea5c3_51_1.tsv\n",
      "[13:45:12 - __main__] Starting fastq (206 of 323)\n",
      "\t/path/to/data/MinION_sequencing_data_20190815/guppy_3.2.2_08_15_2019_run_02_exec_20190815/pass/fastq_runid_e33d821ff769cbb24ed5af866a50887f3e1ea5c3_51_2.fastq\n"
     ]
    },
    {
     "name": "stdout",
     "output_type": "stream",
     "text": [
      "[########################################] | 100% Completed | 59.9s\n"
     ]
    },
    {
     "name": "stderr",
     "output_type": "stream",
     "text": [
      "[13:46:13 - __main__] Saving to file: /path/to/data/MinION_sequencing_data_20190815/guppy_3.2.2_08_15_2019_run_02_exec_20190815/sw/fastq_runid_e33d821ff769cbb24ed5af866a50887f3e1ea5c3_51_2.tsv\n",
      "[13:46:13 - __main__] Starting fastq (207 of 323)\n",
      "\t/path/to/data/MinION_sequencing_data_20190815/guppy_3.2.2_08_15_2019_run_02_exec_20190815/pass/fastq_runid_e33d821ff769cbb24ed5af866a50887f3e1ea5c3_51_3.fastq\n"
     ]
    },
    {
     "name": "stdout",
     "output_type": "stream",
     "text": [
      "[########################################] | 100% Completed | 27.3s\n"
     ]
    },
    {
     "name": "stderr",
     "output_type": "stream",
     "text": [
      "[13:46:41 - __main__] Saving to file: /path/to/data/MinION_sequencing_data_20190815/guppy_3.2.2_08_15_2019_run_02_exec_20190815/sw/fastq_runid_e33d821ff769cbb24ed5af866a50887f3e1ea5c3_51_3.tsv\n",
      "[13:46:41 - __main__] Starting fastq (208 of 323)\n",
      "\t/path/to/data/MinION_sequencing_data_20190815/guppy_3.2.2_08_15_2019_run_02_exec_20190815/pass/fastq_runid_e33d821ff769cbb24ed5af866a50887f3e1ea5c3_52_0.fastq\n"
     ]
    },
    {
     "name": "stdout",
     "output_type": "stream",
     "text": [
      "[########################################] | 100% Completed |  1min 52.6s\n"
     ]
    },
    {
     "name": "stderr",
     "output_type": "stream",
     "text": [
      "[13:48:34 - __main__] Saving to file: /path/to/data/MinION_sequencing_data_20190815/guppy_3.2.2_08_15_2019_run_02_exec_20190815/sw/fastq_runid_e33d821ff769cbb24ed5af866a50887f3e1ea5c3_52_0.tsv\n",
      "[13:48:34 - __main__] Starting fastq (209 of 323)\n",
      "\t/path/to/data/MinION_sequencing_data_20190815/guppy_3.2.2_08_15_2019_run_02_exec_20190815/pass/fastq_runid_e33d821ff769cbb24ed5af866a50887f3e1ea5c3_52_1.fastq\n"
     ]
    },
    {
     "name": "stdout",
     "output_type": "stream",
     "text": [
      "[########################################] | 100% Completed | 32.8s\n"
     ]
    },
    {
     "name": "stderr",
     "output_type": "stream",
     "text": [
      "[13:49:07 - __main__] Saving to file: /path/to/data/MinION_sequencing_data_20190815/guppy_3.2.2_08_15_2019_run_02_exec_20190815/sw/fastq_runid_e33d821ff769cbb24ed5af866a50887f3e1ea5c3_52_1.tsv\n",
      "[13:49:07 - __main__] Starting fastq (210 of 323)\n",
      "\t/path/to/data/MinION_sequencing_data_20190815/guppy_3.2.2_08_15_2019_run_02_exec_20190815/pass/fastq_runid_e33d821ff769cbb24ed5af866a50887f3e1ea5c3_52_2.fastq\n"
     ]
    },
    {
     "name": "stdout",
     "output_type": "stream",
     "text": [
      "[########################################] | 100% Completed | 14.3s\n"
     ]
    },
    {
     "name": "stderr",
     "output_type": "stream",
     "text": [
      "[13:49:22 - __main__] Saving to file: /path/to/data/MinION_sequencing_data_20190815/guppy_3.2.2_08_15_2019_run_02_exec_20190815/sw/fastq_runid_e33d821ff769cbb24ed5af866a50887f3e1ea5c3_52_2.tsv\n",
      "[13:49:22 - __main__] Starting fastq (211 of 323)\n",
      "\t/path/to/data/MinION_sequencing_data_20190815/guppy_3.2.2_08_15_2019_run_02_exec_20190815/pass/fastq_runid_e33d821ff769cbb24ed5af866a50887f3e1ea5c3_52_3.fastq\n"
     ]
    },
    {
     "name": "stdout",
     "output_type": "stream",
     "text": [
      "[########################################] | 100% Completed |  1min 58.8s\n"
     ]
    },
    {
     "name": "stderr",
     "output_type": "stream",
     "text": [
      "[13:51:21 - __main__] Saving to file: /path/to/data/MinION_sequencing_data_20190815/guppy_3.2.2_08_15_2019_run_02_exec_20190815/sw/fastq_runid_e33d821ff769cbb24ed5af866a50887f3e1ea5c3_52_3.tsv\n",
      "[13:51:22 - __main__] Starting fastq (212 of 323)\n",
      "\t/path/to/data/MinION_sequencing_data_20190815/guppy_3.2.2_08_15_2019_run_02_exec_20190815/pass/fastq_runid_e33d821ff769cbb24ed5af866a50887f3e1ea5c3_53_0.fastq\n"
     ]
    },
    {
     "name": "stdout",
     "output_type": "stream",
     "text": [
      "[########################################] | 100% Completed |  2min  0.3s\n"
     ]
    },
    {
     "name": "stderr",
     "output_type": "stream",
     "text": [
      "[13:53:22 - __main__] Saving to file: /path/to/data/MinION_sequencing_data_20190815/guppy_3.2.2_08_15_2019_run_02_exec_20190815/sw/fastq_runid_e33d821ff769cbb24ed5af866a50887f3e1ea5c3_53_0.tsv\n",
      "[13:53:22 - __main__] Starting fastq (213 of 323)\n",
      "\t/path/to/data/MinION_sequencing_data_20190815/guppy_3.2.2_08_15_2019_run_02_exec_20190815/pass/fastq_runid_e33d821ff769cbb24ed5af866a50887f3e1ea5c3_53_1.fastq\n"
     ]
    },
    {
     "name": "stdout",
     "output_type": "stream",
     "text": [
      "[########################################] | 100% Completed |  2min  2.4s\n"
     ]
    },
    {
     "name": "stderr",
     "output_type": "stream",
     "text": [
      "[13:55:25 - __main__] Saving to file: /path/to/data/MinION_sequencing_data_20190815/guppy_3.2.2_08_15_2019_run_02_exec_20190815/sw/fastq_runid_e33d821ff769cbb24ed5af866a50887f3e1ea5c3_53_1.tsv\n",
      "[13:55:26 - __main__] Starting fastq (214 of 323)\n",
      "\t/path/to/data/MinION_sequencing_data_20190815/guppy_3.2.2_08_15_2019_run_02_exec_20190815/pass/fastq_runid_e33d821ff769cbb24ed5af866a50887f3e1ea5c3_53_2.fastq\n"
     ]
    },
    {
     "name": "stdout",
     "output_type": "stream",
     "text": [
      "[########################################] | 100% Completed | 17.7s\n"
     ]
    },
    {
     "name": "stderr",
     "output_type": "stream",
     "text": [
      "[13:55:44 - __main__] Saving to file: /path/to/data/MinION_sequencing_data_20190815/guppy_3.2.2_08_15_2019_run_02_exec_20190815/sw/fastq_runid_e33d821ff769cbb24ed5af866a50887f3e1ea5c3_53_2.tsv\n",
      "[13:55:44 - __main__] Starting fastq (215 of 323)\n",
      "\t/path/to/data/MinION_sequencing_data_20190815/guppy_3.2.2_08_15_2019_run_02_exec_20190815/pass/fastq_runid_e33d821ff769cbb24ed5af866a50887f3e1ea5c3_54_0.fastq\n"
     ]
    },
    {
     "name": "stdout",
     "output_type": "stream",
     "text": [
      "[########################################] | 100% Completed | 58.9s\n"
     ]
    },
    {
     "name": "stderr",
     "output_type": "stream",
     "text": [
      "[13:56:43 - __main__] Saving to file: /path/to/data/MinION_sequencing_data_20190815/guppy_3.2.2_08_15_2019_run_02_exec_20190815/sw/fastq_runid_e33d821ff769cbb24ed5af866a50887f3e1ea5c3_54_0.tsv\n",
      "[13:56:43 - __main__] Starting fastq (216 of 323)\n",
      "\t/path/to/data/MinION_sequencing_data_20190815/guppy_3.2.2_08_15_2019_run_02_exec_20190815/pass/fastq_runid_e33d821ff769cbb24ed5af866a50887f3e1ea5c3_54_1.fastq\n"
     ]
    },
    {
     "name": "stdout",
     "output_type": "stream",
     "text": [
      "[########################################] | 100% Completed | 52.4s\n"
     ]
    },
    {
     "name": "stderr",
     "output_type": "stream",
     "text": [
      "[13:57:36 - __main__] Saving to file: /path/to/data/MinION_sequencing_data_20190815/guppy_3.2.2_08_15_2019_run_02_exec_20190815/sw/fastq_runid_e33d821ff769cbb24ed5af866a50887f3e1ea5c3_54_1.tsv\n",
      "[13:57:36 - __main__] Starting fastq (217 of 323)\n",
      "\t/path/to/data/MinION_sequencing_data_20190815/guppy_3.2.2_08_15_2019_run_02_exec_20190815/pass/fastq_runid_e33d821ff769cbb24ed5af866a50887f3e1ea5c3_54_2.fastq\n"
     ]
    },
    {
     "name": "stdout",
     "output_type": "stream",
     "text": [
      "[########################################] | 100% Completed |  2min  2.9s\n"
     ]
    },
    {
     "name": "stderr",
     "output_type": "stream",
     "text": [
      "[13:59:39 - __main__] Saving to file: /path/to/data/MinION_sequencing_data_20190815/guppy_3.2.2_08_15_2019_run_02_exec_20190815/sw/fastq_runid_e33d821ff769cbb24ed5af866a50887f3e1ea5c3_54_2.tsv\n",
      "[13:59:39 - __main__] Starting fastq (218 of 323)\n",
      "\t/path/to/data/MinION_sequencing_data_20190815/guppy_3.2.2_08_15_2019_run_02_exec_20190815/pass/fastq_runid_e33d821ff769cbb24ed5af866a50887f3e1ea5c3_53_3.fastq\n"
     ]
    },
    {
     "name": "stdout",
     "output_type": "stream",
     "text": [
      "[########################################] | 100% Completed | 27.0s\n"
     ]
    },
    {
     "name": "stderr",
     "output_type": "stream",
     "text": [
      "[14:00:07 - __main__] Saving to file: /path/to/data/MinION_sequencing_data_20190815/guppy_3.2.2_08_15_2019_run_02_exec_20190815/sw/fastq_runid_e33d821ff769cbb24ed5af866a50887f3e1ea5c3_53_3.tsv\n",
      "[14:00:07 - __main__] Starting fastq (219 of 323)\n",
      "\t/path/to/data/MinION_sequencing_data_20190815/guppy_3.2.2_08_15_2019_run_02_exec_20190815/pass/fastq_runid_e33d821ff769cbb24ed5af866a50887f3e1ea5c3_54_3.fastq\n"
     ]
    },
    {
     "name": "stdout",
     "output_type": "stream",
     "text": [
      "[########################################] | 100% Completed | 44.4s\n"
     ]
    },
    {
     "name": "stderr",
     "output_type": "stream",
     "text": [
      "[14:00:52 - __main__] Saving to file: /path/to/data/MinION_sequencing_data_20190815/guppy_3.2.2_08_15_2019_run_02_exec_20190815/sw/fastq_runid_e33d821ff769cbb24ed5af866a50887f3e1ea5c3_54_3.tsv\n",
      "[14:00:52 - __main__] Starting fastq (220 of 323)\n",
      "\t/path/to/data/MinION_sequencing_data_20190815/guppy_3.2.2_08_15_2019_run_02_exec_20190815/pass/fastq_runid_e33d821ff769cbb24ed5af866a50887f3e1ea5c3_55_0.fastq\n"
     ]
    },
    {
     "name": "stdout",
     "output_type": "stream",
     "text": [
      "[########################################] | 100% Completed | 56.6s\n"
     ]
    },
    {
     "name": "stderr",
     "output_type": "stream",
     "text": [
      "[14:01:49 - __main__] Saving to file: /path/to/data/MinION_sequencing_data_20190815/guppy_3.2.2_08_15_2019_run_02_exec_20190815/sw/fastq_runid_e33d821ff769cbb24ed5af866a50887f3e1ea5c3_55_0.tsv\n",
      "[14:01:49 - __main__] Starting fastq (221 of 323)\n",
      "\t/path/to/data/MinION_sequencing_data_20190815/guppy_3.2.2_08_15_2019_run_02_exec_20190815/pass/fastq_runid_e33d821ff769cbb24ed5af866a50887f3e1ea5c3_55_1.fastq\n"
     ]
    },
    {
     "name": "stdout",
     "output_type": "stream",
     "text": [
      "[########################################] | 100% Completed |  1min 50.8s\n"
     ]
    },
    {
     "name": "stderr",
     "output_type": "stream",
     "text": [
      "[14:03:40 - __main__] Saving to file: /path/to/data/MinION_sequencing_data_20190815/guppy_3.2.2_08_15_2019_run_02_exec_20190815/sw/fastq_runid_e33d821ff769cbb24ed5af866a50887f3e1ea5c3_55_1.tsv\n",
      "[14:03:40 - __main__] Starting fastq (222 of 323)\n",
      "\t/path/to/data/MinION_sequencing_data_20190815/guppy_3.2.2_08_15_2019_run_02_exec_20190815/pass/fastq_runid_e33d821ff769cbb24ed5af866a50887f3e1ea5c3_55_2.fastq\n"
     ]
    },
    {
     "name": "stdout",
     "output_type": "stream",
     "text": [
      "[########################################] | 100% Completed |  1min 26.1s\n"
     ]
    },
    {
     "name": "stderr",
     "output_type": "stream",
     "text": [
      "[14:05:07 - __main__] Saving to file: /path/to/data/MinION_sequencing_data_20190815/guppy_3.2.2_08_15_2019_run_02_exec_20190815/sw/fastq_runid_e33d821ff769cbb24ed5af866a50887f3e1ea5c3_55_2.tsv\n",
      "[14:05:07 - __main__] Starting fastq (223 of 323)\n",
      "\t/path/to/data/MinION_sequencing_data_20190815/guppy_3.2.2_08_15_2019_run_02_exec_20190815/pass/fastq_runid_e33d821ff769cbb24ed5af866a50887f3e1ea5c3_55_3.fastq\n"
     ]
    },
    {
     "name": "stdout",
     "output_type": "stream",
     "text": [
      "[########################################] | 100% Completed | 34.1s\n"
     ]
    },
    {
     "name": "stderr",
     "output_type": "stream",
     "text": [
      "[14:05:41 - __main__] Saving to file: /path/to/data/MinION_sequencing_data_20190815/guppy_3.2.2_08_15_2019_run_02_exec_20190815/sw/fastq_runid_e33d821ff769cbb24ed5af866a50887f3e1ea5c3_55_3.tsv\n",
      "[14:05:41 - __main__] Starting fastq (224 of 323)\n",
      "\t/path/to/data/MinION_sequencing_data_20190815/guppy_3.2.2_08_15_2019_run_02_exec_20190815/pass/fastq_runid_e33d821ff769cbb24ed5af866a50887f3e1ea5c3_56_0.fastq\n"
     ]
    },
    {
     "name": "stdout",
     "output_type": "stream",
     "text": [
      "[########################################] | 100% Completed | 43.8s\n"
     ]
    },
    {
     "name": "stderr",
     "output_type": "stream",
     "text": [
      "[14:06:25 - __main__] Saving to file: /path/to/data/MinION_sequencing_data_20190815/guppy_3.2.2_08_15_2019_run_02_exec_20190815/sw/fastq_runid_e33d821ff769cbb24ed5af866a50887f3e1ea5c3_56_0.tsv\n",
      "[14:06:25 - __main__] Starting fastq (225 of 323)\n",
      "\t/path/to/data/MinION_sequencing_data_20190815/guppy_3.2.2_08_15_2019_run_02_exec_20190815/pass/fastq_runid_e33d821ff769cbb24ed5af866a50887f3e1ea5c3_56_1.fastq\n"
     ]
    },
    {
     "name": "stdout",
     "output_type": "stream",
     "text": [
      "[########################################] | 100% Completed | 51.4s\n"
     ]
    },
    {
     "name": "stderr",
     "output_type": "stream",
     "text": [
      "[14:07:17 - __main__] Saving to file: /path/to/data/MinION_sequencing_data_20190815/guppy_3.2.2_08_15_2019_run_02_exec_20190815/sw/fastq_runid_e33d821ff769cbb24ed5af866a50887f3e1ea5c3_56_1.tsv\n",
      "[14:07:17 - __main__] Starting fastq (226 of 323)\n",
      "\t/path/to/data/MinION_sequencing_data_20190815/guppy_3.2.2_08_15_2019_run_02_exec_20190815/pass/fastq_runid_e33d821ff769cbb24ed5af866a50887f3e1ea5c3_56_2.fastq\n"
     ]
    },
    {
     "name": "stdout",
     "output_type": "stream",
     "text": [
      "[########################################] | 100% Completed |  1min 54.2s\n"
     ]
    },
    {
     "name": "stderr",
     "output_type": "stream",
     "text": [
      "[14:09:12 - __main__] Saving to file: /path/to/data/MinION_sequencing_data_20190815/guppy_3.2.2_08_15_2019_run_02_exec_20190815/sw/fastq_runid_e33d821ff769cbb24ed5af866a50887f3e1ea5c3_56_2.tsv\n",
      "[14:09:12 - __main__] Starting fastq (227 of 323)\n",
      "\t/path/to/data/MinION_sequencing_data_20190815/guppy_3.2.2_08_15_2019_run_02_exec_20190815/pass/fastq_runid_e33d821ff769cbb24ed5af866a50887f3e1ea5c3_56_3.fastq\n"
     ]
    },
    {
     "name": "stdout",
     "output_type": "stream",
     "text": [
      "[########################################] | 100% Completed |  1min 14.6s\n"
     ]
    },
    {
     "name": "stderr",
     "output_type": "stream",
     "text": [
      "[14:10:27 - __main__] Saving to file: /path/to/data/MinION_sequencing_data_20190815/guppy_3.2.2_08_15_2019_run_02_exec_20190815/sw/fastq_runid_e33d821ff769cbb24ed5af866a50887f3e1ea5c3_56_3.tsv\n",
      "[14:10:27 - __main__] Starting fastq (228 of 323)\n",
      "\t/path/to/data/MinION_sequencing_data_20190815/guppy_3.2.2_08_15_2019_run_02_exec_20190815/pass/fastq_runid_e33d821ff769cbb24ed5af866a50887f3e1ea5c3_57_0.fastq\n"
     ]
    },
    {
     "name": "stdout",
     "output_type": "stream",
     "text": [
      "[########################################] | 100% Completed |  1min 23.9s\n"
     ]
    },
    {
     "name": "stderr",
     "output_type": "stream",
     "text": [
      "[14:11:52 - __main__] Saving to file: /path/to/data/MinION_sequencing_data_20190815/guppy_3.2.2_08_15_2019_run_02_exec_20190815/sw/fastq_runid_e33d821ff769cbb24ed5af866a50887f3e1ea5c3_57_0.tsv\n",
      "[14:11:52 - __main__] Starting fastq (229 of 323)\n",
      "\t/path/to/data/MinION_sequencing_data_20190815/guppy_3.2.2_08_15_2019_run_02_exec_20190815/pass/fastq_runid_e33d821ff769cbb24ed5af866a50887f3e1ea5c3_57_1.fastq\n"
     ]
    },
    {
     "name": "stdout",
     "output_type": "stream",
     "text": [
      "[########################################] | 100% Completed |  2min 16.6s\n"
     ]
    },
    {
     "name": "stderr",
     "output_type": "stream",
     "text": [
      "[14:14:09 - __main__] Saving to file: /path/to/data/MinION_sequencing_data_20190815/guppy_3.2.2_08_15_2019_run_02_exec_20190815/sw/fastq_runid_e33d821ff769cbb24ed5af866a50887f3e1ea5c3_57_1.tsv\n",
      "[14:14:09 - __main__] Starting fastq (230 of 323)\n",
      "\t/path/to/data/MinION_sequencing_data_20190815/guppy_3.2.2_08_15_2019_run_02_exec_20190815/pass/fastq_runid_e33d821ff769cbb24ed5af866a50887f3e1ea5c3_57_2.fastq\n"
     ]
    },
    {
     "name": "stdout",
     "output_type": "stream",
     "text": [
      "[########################################] | 100% Completed | 45.1s\n"
     ]
    },
    {
     "name": "stderr",
     "output_type": "stream",
     "text": [
      "[14:14:55 - __main__] Saving to file: /path/to/data/MinION_sequencing_data_20190815/guppy_3.2.2_08_15_2019_run_02_exec_20190815/sw/fastq_runid_e33d821ff769cbb24ed5af866a50887f3e1ea5c3_57_2.tsv\n",
      "[14:14:55 - __main__] Starting fastq (231 of 323)\n",
      "\t/path/to/data/MinION_sequencing_data_20190815/guppy_3.2.2_08_15_2019_run_02_exec_20190815/pass/fastq_runid_e33d821ff769cbb24ed5af866a50887f3e1ea5c3_57_3.fastq\n"
     ]
    },
    {
     "name": "stdout",
     "output_type": "stream",
     "text": [
      "[########################################] | 100% Completed | 16.5s\n"
     ]
    },
    {
     "name": "stderr",
     "output_type": "stream",
     "text": [
      "[14:15:12 - __main__] Saving to file: /path/to/data/MinION_sequencing_data_20190815/guppy_3.2.2_08_15_2019_run_02_exec_20190815/sw/fastq_runid_e33d821ff769cbb24ed5af866a50887f3e1ea5c3_57_3.tsv\n",
      "[14:15:12 - __main__] Starting fastq (232 of 323)\n",
      "\t/path/to/data/MinION_sequencing_data_20190815/guppy_3.2.2_08_15_2019_run_02_exec_20190815/pass/fastq_runid_e33d821ff769cbb24ed5af866a50887f3e1ea5c3_58_0.fastq\n"
     ]
    },
    {
     "name": "stdout",
     "output_type": "stream",
     "text": [
      "[########################################] | 100% Completed |  1min 18.7s\n"
     ]
    },
    {
     "name": "stderr",
     "output_type": "stream",
     "text": [
      "[14:16:31 - __main__] Saving to file: /path/to/data/MinION_sequencing_data_20190815/guppy_3.2.2_08_15_2019_run_02_exec_20190815/sw/fastq_runid_e33d821ff769cbb24ed5af866a50887f3e1ea5c3_58_0.tsv\n",
      "[14:16:31 - __main__] Starting fastq (233 of 323)\n",
      "\t/path/to/data/MinION_sequencing_data_20190815/guppy_3.2.2_08_15_2019_run_02_exec_20190815/pass/fastq_runid_e33d821ff769cbb24ed5af866a50887f3e1ea5c3_58_1.fastq\n"
     ]
    },
    {
     "name": "stdout",
     "output_type": "stream",
     "text": [
      "[########################################] | 100% Completed |  1min 35.2s\n"
     ]
    },
    {
     "name": "stderr",
     "output_type": "stream",
     "text": [
      "[14:18:07 - __main__] Saving to file: /path/to/data/MinION_sequencing_data_20190815/guppy_3.2.2_08_15_2019_run_02_exec_20190815/sw/fastq_runid_e33d821ff769cbb24ed5af866a50887f3e1ea5c3_58_1.tsv\n",
      "[14:18:07 - __main__] Starting fastq (234 of 323)\n",
      "\t/path/to/data/MinION_sequencing_data_20190815/guppy_3.2.2_08_15_2019_run_02_exec_20190815/pass/fastq_runid_e33d821ff769cbb24ed5af866a50887f3e1ea5c3_58_2.fastq\n"
     ]
    },
    {
     "name": "stdout",
     "output_type": "stream",
     "text": [
      "[########################################] | 100% Completed |  1min 40.4s\n"
     ]
    },
    {
     "name": "stderr",
     "output_type": "stream",
     "text": [
      "[14:19:48 - __main__] Saving to file: /path/to/data/MinION_sequencing_data_20190815/guppy_3.2.2_08_15_2019_run_02_exec_20190815/sw/fastq_runid_e33d821ff769cbb24ed5af866a50887f3e1ea5c3_58_2.tsv\n",
      "[14:19:48 - __main__] Starting fastq (235 of 323)\n",
      "\t/path/to/data/MinION_sequencing_data_20190815/guppy_3.2.2_08_15_2019_run_02_exec_20190815/pass/fastq_runid_e33d821ff769cbb24ed5af866a50887f3e1ea5c3_59_0.fastq\n"
     ]
    },
    {
     "name": "stdout",
     "output_type": "stream",
     "text": [
      "[########################################] | 100% Completed |  1min 18.4s\n"
     ]
    },
    {
     "name": "stderr",
     "output_type": "stream",
     "text": [
      "[14:21:07 - __main__] Saving to file: /path/to/data/MinION_sequencing_data_20190815/guppy_3.2.2_08_15_2019_run_02_exec_20190815/sw/fastq_runid_e33d821ff769cbb24ed5af866a50887f3e1ea5c3_59_0.tsv\n",
      "[14:21:07 - __main__] Starting fastq (236 of 323)\n",
      "\t/path/to/data/MinION_sequencing_data_20190815/guppy_3.2.2_08_15_2019_run_02_exec_20190815/pass/fastq_runid_e33d821ff769cbb24ed5af866a50887f3e1ea5c3_59_1.fastq\n"
     ]
    },
    {
     "name": "stdout",
     "output_type": "stream",
     "text": [
      "[########################################] | 100% Completed | 53.6s\n"
     ]
    },
    {
     "name": "stderr",
     "output_type": "stream",
     "text": [
      "[14:22:01 - __main__] Saving to file: /path/to/data/MinION_sequencing_data_20190815/guppy_3.2.2_08_15_2019_run_02_exec_20190815/sw/fastq_runid_e33d821ff769cbb24ed5af866a50887f3e1ea5c3_59_1.tsv\n",
      "[14:22:01 - __main__] Starting fastq (237 of 323)\n",
      "\t/path/to/data/MinION_sequencing_data_20190815/guppy_3.2.2_08_15_2019_run_02_exec_20190815/pass/fastq_runid_e33d821ff769cbb24ed5af866a50887f3e1ea5c3_58_3.fastq\n"
     ]
    },
    {
     "name": "stdout",
     "output_type": "stream",
     "text": [
      "[########################################] | 100% Completed |  3.3s\n"
     ]
    },
    {
     "name": "stderr",
     "output_type": "stream",
     "text": [
      "[14:22:05 - __main__] Saving to file: /path/to/data/MinION_sequencing_data_20190815/guppy_3.2.2_08_15_2019_run_02_exec_20190815/sw/fastq_runid_e33d821ff769cbb24ed5af866a50887f3e1ea5c3_58_3.tsv\n",
      "[14:22:05 - __main__] Starting fastq (238 of 323)\n",
      "\t/path/to/data/MinION_sequencing_data_20190815/guppy_3.2.2_08_15_2019_run_02_exec_20190815/pass/fastq_runid_e33d821ff769cbb24ed5af866a50887f3e1ea5c3_59_2.fastq\n"
     ]
    },
    {
     "name": "stdout",
     "output_type": "stream",
     "text": [
      "[########################################] | 100% Completed |  1min 57.7s\n"
     ]
    },
    {
     "name": "stderr",
     "output_type": "stream",
     "text": [
      "[14:24:03 - __main__] Saving to file: /path/to/data/MinION_sequencing_data_20190815/guppy_3.2.2_08_15_2019_run_02_exec_20190815/sw/fastq_runid_e33d821ff769cbb24ed5af866a50887f3e1ea5c3_59_2.tsv\n",
      "[14:24:03 - __main__] Starting fastq (239 of 323)\n",
      "\t/path/to/data/MinION_sequencing_data_20190815/guppy_3.2.2_08_15_2019_run_02_exec_20190815/pass/fastq_runid_e33d821ff769cbb24ed5af866a50887f3e1ea5c3_59_3.fastq\n"
     ]
    },
    {
     "name": "stdout",
     "output_type": "stream",
     "text": [
      "[########################################] | 100% Completed | 37.4s\n"
     ]
    },
    {
     "name": "stderr",
     "output_type": "stream",
     "text": [
      "[14:24:41 - __main__] Saving to file: /path/to/data/MinION_sequencing_data_20190815/guppy_3.2.2_08_15_2019_run_02_exec_20190815/sw/fastq_runid_e33d821ff769cbb24ed5af866a50887f3e1ea5c3_59_3.tsv\n",
      "[14:24:41 - __main__] Starting fastq (240 of 323)\n",
      "\t/path/to/data/MinION_sequencing_data_20190815/guppy_3.2.2_08_15_2019_run_02_exec_20190815/pass/fastq_runid_e33d821ff769cbb24ed5af866a50887f3e1ea5c3_60_0.fastq\n"
     ]
    },
    {
     "name": "stdout",
     "output_type": "stream",
     "text": [
      "[########################################] | 100% Completed |  2min  7.5s\n"
     ]
    },
    {
     "name": "stderr",
     "output_type": "stream",
     "text": [
      "[14:26:49 - __main__] Saving to file: /path/to/data/MinION_sequencing_data_20190815/guppy_3.2.2_08_15_2019_run_02_exec_20190815/sw/fastq_runid_e33d821ff769cbb24ed5af866a50887f3e1ea5c3_60_0.tsv\n",
      "[14:26:49 - __main__] Starting fastq (241 of 323)\n",
      "\t/path/to/data/MinION_sequencing_data_20190815/guppy_3.2.2_08_15_2019_run_02_exec_20190815/pass/fastq_runid_e33d821ff769cbb24ed5af866a50887f3e1ea5c3_60_1.fastq\n"
     ]
    },
    {
     "name": "stdout",
     "output_type": "stream",
     "text": [
      "[########################################] | 100% Completed |  1min 13.1s\n"
     ]
    },
    {
     "name": "stderr",
     "output_type": "stream",
     "text": [
      "[14:28:03 - __main__] Saving to file: /path/to/data/MinION_sequencing_data_20190815/guppy_3.2.2_08_15_2019_run_02_exec_20190815/sw/fastq_runid_e33d821ff769cbb24ed5af866a50887f3e1ea5c3_60_1.tsv\n",
      "[14:28:03 - __main__] Starting fastq (242 of 323)\n",
      "\t/path/to/data/MinION_sequencing_data_20190815/guppy_3.2.2_08_15_2019_run_02_exec_20190815/pass/fastq_runid_e33d821ff769cbb24ed5af866a50887f3e1ea5c3_60_2.fastq\n"
     ]
    },
    {
     "name": "stdout",
     "output_type": "stream",
     "text": [
      "[########################################] | 100% Completed |  1min 24.5s\n"
     ]
    },
    {
     "name": "stderr",
     "output_type": "stream",
     "text": [
      "[14:29:28 - __main__] Saving to file: /path/to/data/MinION_sequencing_data_20190815/guppy_3.2.2_08_15_2019_run_02_exec_20190815/sw/fastq_runid_e33d821ff769cbb24ed5af866a50887f3e1ea5c3_60_2.tsv\n",
      "[14:29:28 - __main__] Starting fastq (243 of 323)\n",
      "\t/path/to/data/MinION_sequencing_data_20190815/guppy_3.2.2_08_15_2019_run_02_exec_20190815/pass/fastq_runid_e33d821ff769cbb24ed5af866a50887f3e1ea5c3_61_0.fastq\n"
     ]
    },
    {
     "name": "stdout",
     "output_type": "stream",
     "text": [
      "[########################################] | 100% Completed |  2min  9.9s\n"
     ]
    },
    {
     "name": "stderr",
     "output_type": "stream",
     "text": [
      "[14:31:38 - __main__] Saving to file: /path/to/data/MinION_sequencing_data_20190815/guppy_3.2.2_08_15_2019_run_02_exec_20190815/sw/fastq_runid_e33d821ff769cbb24ed5af866a50887f3e1ea5c3_61_0.tsv\n",
      "[14:31:38 - __main__] Starting fastq (244 of 323)\n",
      "\t/path/to/data/MinION_sequencing_data_20190815/guppy_3.2.2_08_15_2019_run_02_exec_20190815/pass/fastq_runid_e33d821ff769cbb24ed5af866a50887f3e1ea5c3_60_3.fastq\n"
     ]
    },
    {
     "name": "stdout",
     "output_type": "stream",
     "text": [
      "[########################################] | 100% Completed |  1.7s\n"
     ]
    },
    {
     "name": "stderr",
     "output_type": "stream",
     "text": [
      "[14:31:40 - __main__] Saving to file: /path/to/data/MinION_sequencing_data_20190815/guppy_3.2.2_08_15_2019_run_02_exec_20190815/sw/fastq_runid_e33d821ff769cbb24ed5af866a50887f3e1ea5c3_60_3.tsv\n",
      "[14:31:40 - __main__] Starting fastq (245 of 323)\n",
      "\t/path/to/data/MinION_sequencing_data_20190815/guppy_3.2.2_08_15_2019_run_02_exec_20190815/pass/fastq_runid_e33d821ff769cbb24ed5af866a50887f3e1ea5c3_61_1.fastq\n"
     ]
    },
    {
     "name": "stdout",
     "output_type": "stream",
     "text": [
      "[########################################] | 100% Completed |  1min  7.5s\n"
     ]
    },
    {
     "name": "stderr",
     "output_type": "stream",
     "text": [
      "[14:32:48 - __main__] Saving to file: /path/to/data/MinION_sequencing_data_20190815/guppy_3.2.2_08_15_2019_run_02_exec_20190815/sw/fastq_runid_e33d821ff769cbb24ed5af866a50887f3e1ea5c3_61_1.tsv\n",
      "[14:32:48 - __main__] Starting fastq (246 of 323)\n",
      "\t/path/to/data/MinION_sequencing_data_20190815/guppy_3.2.2_08_15_2019_run_02_exec_20190815/pass/fastq_runid_e33d821ff769cbb24ed5af866a50887f3e1ea5c3_61_2.fastq\n"
     ]
    },
    {
     "name": "stdout",
     "output_type": "stream",
     "text": [
      "[########################################] | 100% Completed |  1min 26.7s\n"
     ]
    },
    {
     "name": "stderr",
     "output_type": "stream",
     "text": [
      "[14:34:15 - __main__] Saving to file: /path/to/data/MinION_sequencing_data_20190815/guppy_3.2.2_08_15_2019_run_02_exec_20190815/sw/fastq_runid_e33d821ff769cbb24ed5af866a50887f3e1ea5c3_61_2.tsv\n",
      "[14:34:15 - __main__] Starting fastq (247 of 323)\n",
      "\t/path/to/data/MinION_sequencing_data_20190815/guppy_3.2.2_08_15_2019_run_02_exec_20190815/pass/fastq_runid_e33d821ff769cbb24ed5af866a50887f3e1ea5c3_61_3.fastq\n"
     ]
    },
    {
     "name": "stdout",
     "output_type": "stream",
     "text": [
      "[########################################] | 100% Completed |  1.9s\n"
     ]
    },
    {
     "name": "stderr",
     "output_type": "stream",
     "text": [
      "[14:34:18 - __main__] Saving to file: /path/to/data/MinION_sequencing_data_20190815/guppy_3.2.2_08_15_2019_run_02_exec_20190815/sw/fastq_runid_e33d821ff769cbb24ed5af866a50887f3e1ea5c3_61_3.tsv\n",
      "[14:34:18 - __main__] Starting fastq (248 of 323)\n",
      "\t/path/to/data/MinION_sequencing_data_20190815/guppy_3.2.2_08_15_2019_run_02_exec_20190815/pass/fastq_runid_e33d821ff769cbb24ed5af866a50887f3e1ea5c3_62_0.fastq\n"
     ]
    },
    {
     "name": "stdout",
     "output_type": "stream",
     "text": [
      "[########################################] | 100% Completed |  2min  4.2s\n"
     ]
    },
    {
     "name": "stderr",
     "output_type": "stream",
     "text": [
      "[14:36:22 - __main__] Saving to file: /path/to/data/MinION_sequencing_data_20190815/guppy_3.2.2_08_15_2019_run_02_exec_20190815/sw/fastq_runid_e33d821ff769cbb24ed5af866a50887f3e1ea5c3_62_0.tsv\n",
      "[14:36:23 - __main__] Starting fastq (249 of 323)\n",
      "\t/path/to/data/MinION_sequencing_data_20190815/guppy_3.2.2_08_15_2019_run_02_exec_20190815/pass/fastq_runid_e33d821ff769cbb24ed5af866a50887f3e1ea5c3_62_1.fastq\n"
     ]
    },
    {
     "name": "stdout",
     "output_type": "stream",
     "text": [
      "[########################################] | 100% Completed |  1min  6.1s\n"
     ]
    },
    {
     "name": "stderr",
     "output_type": "stream",
     "text": [
      "[14:37:29 - __main__] Saving to file: /path/to/data/MinION_sequencing_data_20190815/guppy_3.2.2_08_15_2019_run_02_exec_20190815/sw/fastq_runid_e33d821ff769cbb24ed5af866a50887f3e1ea5c3_62_1.tsv\n",
      "[14:37:29 - __main__] Starting fastq (250 of 323)\n",
      "\t/path/to/data/MinION_sequencing_data_20190815/guppy_3.2.2_08_15_2019_run_02_exec_20190815/pass/fastq_runid_e33d821ff769cbb24ed5af866a50887f3e1ea5c3_62_2.fastq\n"
     ]
    },
    {
     "name": "stdout",
     "output_type": "stream",
     "text": [
      "[########################################] | 100% Completed | 48.8s\n"
     ]
    },
    {
     "name": "stderr",
     "output_type": "stream",
     "text": [
      "[14:38:19 - __main__] Saving to file: /path/to/data/MinION_sequencing_data_20190815/guppy_3.2.2_08_15_2019_run_02_exec_20190815/sw/fastq_runid_e33d821ff769cbb24ed5af866a50887f3e1ea5c3_62_2.tsv\n",
      "[14:38:19 - __main__] Starting fastq (251 of 323)\n",
      "\t/path/to/data/MinION_sequencing_data_20190815/guppy_3.2.2_08_15_2019_run_02_exec_20190815/pass/fastq_runid_e33d821ff769cbb24ed5af866a50887f3e1ea5c3_62_3.fastq\n"
     ]
    },
    {
     "name": "stdout",
     "output_type": "stream",
     "text": [
      "[########################################] | 100% Completed | 57.0s\n"
     ]
    },
    {
     "name": "stderr",
     "output_type": "stream",
     "text": [
      "[14:39:16 - __main__] Saving to file: /path/to/data/MinION_sequencing_data_20190815/guppy_3.2.2_08_15_2019_run_02_exec_20190815/sw/fastq_runid_e33d821ff769cbb24ed5af866a50887f3e1ea5c3_62_3.tsv\n",
      "[14:39:16 - __main__] Starting fastq (252 of 323)\n",
      "\t/path/to/data/MinION_sequencing_data_20190815/guppy_3.2.2_08_15_2019_run_02_exec_20190815/pass/fastq_runid_e33d821ff769cbb24ed5af866a50887f3e1ea5c3_63_0.fastq\n"
     ]
    },
    {
     "name": "stdout",
     "output_type": "stream",
     "text": [
      "[########################################] | 100% Completed | 38.2s\n"
     ]
    },
    {
     "name": "stderr",
     "output_type": "stream",
     "text": [
      "[14:39:55 - __main__] Saving to file: /path/to/data/MinION_sequencing_data_20190815/guppy_3.2.2_08_15_2019_run_02_exec_20190815/sw/fastq_runid_e33d821ff769cbb24ed5af866a50887f3e1ea5c3_63_0.tsv\n",
      "[14:39:55 - __main__] Starting fastq (253 of 323)\n",
      "\t/path/to/data/MinION_sequencing_data_20190815/guppy_3.2.2_08_15_2019_run_02_exec_20190815/pass/fastq_runid_e33d821ff769cbb24ed5af866a50887f3e1ea5c3_63_1.fastq\n"
     ]
    },
    {
     "name": "stdout",
     "output_type": "stream",
     "text": [
      "[########################################] | 100% Completed |  1min 54.4s\n"
     ]
    },
    {
     "name": "stderr",
     "output_type": "stream",
     "text": [
      "[14:41:50 - __main__] Saving to file: /path/to/data/MinION_sequencing_data_20190815/guppy_3.2.2_08_15_2019_run_02_exec_20190815/sw/fastq_runid_e33d821ff769cbb24ed5af866a50887f3e1ea5c3_63_1.tsv\n",
      "[14:41:50 - __main__] Starting fastq (254 of 323)\n",
      "\t/path/to/data/MinION_sequencing_data_20190815/guppy_3.2.2_08_15_2019_run_02_exec_20190815/pass/fastq_runid_e33d821ff769cbb24ed5af866a50887f3e1ea5c3_63_2.fastq\n"
     ]
    },
    {
     "name": "stdout",
     "output_type": "stream",
     "text": [
      "[########################################] | 100% Completed |  1min  0.9s\n"
     ]
    },
    {
     "name": "stderr",
     "output_type": "stream",
     "text": [
      "[14:42:51 - __main__] Saving to file: /path/to/data/MinION_sequencing_data_20190815/guppy_3.2.2_08_15_2019_run_02_exec_20190815/sw/fastq_runid_e33d821ff769cbb24ed5af866a50887f3e1ea5c3_63_2.tsv\n",
      "[14:42:51 - __main__] Starting fastq (255 of 323)\n",
      "\t/path/to/data/MinION_sequencing_data_20190815/guppy_3.2.2_08_15_2019_run_02_exec_20190815/pass/fastq_runid_e33d821ff769cbb24ed5af866a50887f3e1ea5c3_63_3.fastq\n"
     ]
    },
    {
     "name": "stdout",
     "output_type": "stream",
     "text": [
      "[########################################] | 100% Completed |  1min 13.8s\n"
     ]
    },
    {
     "name": "stderr",
     "output_type": "stream",
     "text": [
      "[14:44:06 - __main__] Saving to file: /path/to/data/MinION_sequencing_data_20190815/guppy_3.2.2_08_15_2019_run_02_exec_20190815/sw/fastq_runid_e33d821ff769cbb24ed5af866a50887f3e1ea5c3_63_3.tsv\n",
      "[14:44:06 - __main__] Starting fastq (256 of 323)\n",
      "\t/path/to/data/MinION_sequencing_data_20190815/guppy_3.2.2_08_15_2019_run_02_exec_20190815/pass/fastq_runid_e33d821ff769cbb24ed5af866a50887f3e1ea5c3_64_0.fastq\n"
     ]
    },
    {
     "name": "stdout",
     "output_type": "stream",
     "text": [
      "[########################################] | 100% Completed |  1min 41.4s\n"
     ]
    },
    {
     "name": "stderr",
     "output_type": "stream",
     "text": [
      "[14:45:48 - __main__] Saving to file: /path/to/data/MinION_sequencing_data_20190815/guppy_3.2.2_08_15_2019_run_02_exec_20190815/sw/fastq_runid_e33d821ff769cbb24ed5af866a50887f3e1ea5c3_64_0.tsv\n",
      "[14:45:48 - __main__] Starting fastq (257 of 323)\n",
      "\t/path/to/data/MinION_sequencing_data_20190815/guppy_3.2.2_08_15_2019_run_02_exec_20190815/pass/fastq_runid_e33d821ff769cbb24ed5af866a50887f3e1ea5c3_64_1.fastq\n"
     ]
    },
    {
     "name": "stdout",
     "output_type": "stream",
     "text": [
      "[########################################] | 100% Completed |  1min 55.6s\n"
     ]
    },
    {
     "name": "stderr",
     "output_type": "stream",
     "text": [
      "[14:47:44 - __main__] Saving to file: /path/to/data/MinION_sequencing_data_20190815/guppy_3.2.2_08_15_2019_run_02_exec_20190815/sw/fastq_runid_e33d821ff769cbb24ed5af866a50887f3e1ea5c3_64_1.tsv\n",
      "[14:47:44 - __main__] Starting fastq (258 of 323)\n",
      "\t/path/to/data/MinION_sequencing_data_20190815/guppy_3.2.2_08_15_2019_run_02_exec_20190815/pass/fastq_runid_e33d821ff769cbb24ed5af866a50887f3e1ea5c3_64_2.fastq\n"
     ]
    },
    {
     "name": "stdout",
     "output_type": "stream",
     "text": [
      "[########################################] | 100% Completed | 31.1s\n"
     ]
    },
    {
     "name": "stderr",
     "output_type": "stream",
     "text": [
      "[14:48:16 - __main__] Saving to file: /path/to/data/MinION_sequencing_data_20190815/guppy_3.2.2_08_15_2019_run_02_exec_20190815/sw/fastq_runid_e33d821ff769cbb24ed5af866a50887f3e1ea5c3_64_2.tsv\n",
      "[14:48:16 - __main__] Starting fastq (259 of 323)\n",
      "\t/path/to/data/MinION_sequencing_data_20190815/guppy_3.2.2_08_15_2019_run_02_exec_20190815/pass/fastq_runid_e33d821ff769cbb24ed5af866a50887f3e1ea5c3_65_0.fastq\n"
     ]
    },
    {
     "name": "stdout",
     "output_type": "stream",
     "text": [
      "[###################################     ] | 88% Completed |  1min  4.5s"
     ]
    }
   ],
   "source": [
    "run_sw(fastq_dir, sw_dir, search_len=80, cost_fn=cost_fn, molbit_fa=molbit_file, n_workers=40)"
   ]
  },
  {
   "cell_type": "code",
   "execution_count": 71,
   "metadata": {
    "ExecuteTime": {
     "end_time": "2019-08-17T00:38:47.191358Z",
     "start_time": "2019-08-17T00:38:43.262415Z"
    }
   },
   "outputs": [],
   "source": [
    "sw_list = []\n",
    "for fname in os.listdir(sw_dir):\n",
    "    if \"all\" in fname:\n",
    "        continue\n",
    "    sw_tsv = os.path.join(sw_dir, fname)\n",
    "    sw = pd.read_csv(sw_tsv, sep=\"\\t\", index_col=0)\n",
    "    sw_list.append(sw)\n",
    "sw = pd.concat(sw_list)\n",
    "del sw_list"
   ]
  },
  {
   "cell_type": "code",
   "execution_count": 72,
   "metadata": {
    "ExecuteTime": {
     "end_time": "2019-08-17T00:38:47.298936Z",
     "start_time": "2019-08-17T00:38:47.194016Z"
    }
   },
   "outputs": [],
   "source": [
    "sw_arr = np.array(sw)"
   ]
  },
  {
   "cell_type": "code",
   "execution_count": 73,
   "metadata": {
    "ExecuteTime": {
     "end_time": "2019-08-17T00:38:47.857794Z",
     "start_time": "2019-08-17T00:38:47.300870Z"
    }
   },
   "outputs": [],
   "source": [
    "max_sw = np.max(sw_arr, axis=1)\n",
    "sw_arr[range(len(sw_arr)), np.argmax(sw_arr, axis=1)] = 0\n",
    "second_best_sw = np.max(sw_arr, axis=1)\n",
    "sw_arr = np.array(sw)"
   ]
  },
  {
   "cell_type": "markdown",
   "metadata": {},
   "source": [
    "## Plot alignment scores for basic overview of performance"
   ]
  },
  {
   "cell_type": "code",
   "execution_count": 74,
   "metadata": {
    "ExecuteTime": {
     "end_time": "2019-08-17T00:38:52.843642Z",
     "start_time": "2019-08-17T00:38:48.856125Z"
    },
    "scrolled": false
   },
   "outputs": [
    {
     "data": {
      "text/plain": [
       "<matplotlib.lines.Line2D at 0x7f4985654208>"
      ]
     },
     "execution_count": 74,
     "metadata": {},
     "output_type": "execute_result"
    },
    {
     "data": {
      "image/png": "[encoded data removed]",
      "text/plain": [
       "<Figure size 432x432 with 1 Axes>"
      ]
     },
     "metadata": {},
     "output_type": "display_data"
    }
   ],
   "source": [
    "fig, ax = plt.subplots(figsize=(6, 6))\n",
    "ax.scatter(max_sw, second_best_sw, alpha=0.01, c=\"k\")\n",
    "ax.set_title(\"\")\n",
    "ax.set_xlabel(\"1st best SW score\")\n",
    "ax.set_ylabel(\"2nd best SW score\")\n",
    "ax.plot([0, 40], [0, 40])\n",
    "ax.axhline(15)\n",
    "ax.axvline(15)"
   ]
  },
  {
   "cell_type": "code",
   "execution_count": 75,
   "metadata": {
    "ExecuteTime": {
     "end_time": "2019-08-17T00:38:54.086680Z",
     "start_time": "2019-08-17T00:38:52.845956Z"
    }
   },
   "outputs": [
    {
     "data": {
      "text/plain": [
       "<matplotlib.axes._subplots.AxesSubplot at 0x7f49859b76a0>"
      ]
     },
     "execution_count": 75,
     "metadata": {},
     "output_type": "execute_result"
    },
    {
     "data": {
      "image/png": "[encoded data removed]",
      "text/plain": [
       "<Figure size 432x288 with 1 Axes>"
      ]
     },
     "metadata": {},
     "output_type": "display_data"
    }
   ],
   "source": [
    "sns.distplot(max_sw)"
   ]
  },
  {
   "cell_type": "markdown",
   "metadata": {
    "ExecuteTime": {
     "end_time": "2019-08-11T00:31:43.917710Z",
     "start_time": "2019-08-11T00:31:43.897293Z"
    }
   },
   "source": [
    "### Merge & save alignment scores for all fq files"
   ]
  },
  {
   "cell_type": "code",
   "execution_count": 76,
   "metadata": {
    "ExecuteTime": {
     "end_time": "2019-08-17T00:38:54.103708Z",
     "start_time": "2019-08-17T00:38:54.088315Z"
    }
   },
   "outputs": [
    {
     "data": {
      "text/plain": [
       "'/path/to/data/MinION_sequencing_data_20190815/guppy_3.2.2_08_15_2019_run_02_exec_20190815/sw/fastq_runid_e33d821ff769cbb24ed5af866a50887f3e1ea5c3_80_3.tsv'"
      ]
     },
     "execution_count": 76,
     "metadata": {},
     "output_type": "execute_result"
    }
   ],
   "source": [
    "sw_tsv"
   ]
  },
  {
   "cell_type": "code",
   "execution_count": 60,
   "metadata": {
    "ExecuteTime": {
     "end_time": "2019-08-17T00:34:33.257100Z",
     "start_time": "2019-08-17T00:34:33.229564Z"
    }
   },
   "outputs": [],
   "source": [
    "run_id = re.findall(r\"all_(.*).tsv\", sw_tsv)[0]"
   ]
  },
  {
   "cell_type": "code",
   "execution_count": 77,
   "metadata": {
    "ExecuteTime": {
     "end_time": "2019-08-17T00:38:59.889866Z",
     "start_time": "2019-08-17T00:38:59.867287Z"
    }
   },
   "outputs": [],
   "source": [
    "merged_sw_file = os.path.join(sw_dir, f\"all_{run_id}.tsv\")"
   ]
  },
  {
   "cell_type": "code",
   "execution_count": 78,
   "metadata": {
    "ExecuteTime": {
     "end_time": "2019-08-17T00:39:20.659090Z",
     "start_time": "2019-08-17T00:39:01.332843Z"
    }
   },
   "outputs": [],
   "source": [
    "sw.to_csv(merged_sw_file, sep=\"\\t\", index=True)"
   ]
  },
  {
   "cell_type": "code",
   "execution_count": 79,
   "metadata": {
    "ExecuteTime": {
     "end_time": "2019-08-17T00:39:20.680544Z",
     "start_time": "2019-08-17T00:39:20.661501Z"
    }
   },
   "outputs": [
    {
     "data": {
      "text/plain": [
       "'/path/to/data/MinION_sequencing_data_20190815/guppy_3.2.2_08_15_2019_run_02_exec_20190815/sw/all_e33d821ff769cbb24ed5af866a50887f3e1ea5c3.tsv'"
      ]
     },
     "execution_count": 79,
     "metadata": {},
     "output_type": "execute_result"
    }
   ],
   "source": [
    "merged_sw_file"
   ]
  },
  {
   "cell_type": "markdown",
   "metadata": {},
   "source": [
    "# Evaluate extant molbits vs rest"
   ]
  },
  {
   "cell_type": "markdown",
   "metadata": {},
   "source": [
    "## Specify which molbits were actually present"
   ]
  },
  {
   "cell_type": "code",
   "execution_count": 80,
   "metadata": {
    "ExecuteTime": {
     "end_time": "2019-08-17T00:39:20.698442Z",
     "start_time": "2019-08-17T00:39:20.682326Z"
    }
   },
   "outputs": [],
   "source": [
    "# Create set_N variables based on spreadsheet\n",
    "molbit_sets = {}\n",
    "for ix, row in set_spreadsheet.iterrows():\n",
    "    set_no = re.findall(r\"set ([\\d]+)\", row[\"set\"])[0]\n",
    "    molbits = row[\"molbits_in_set\"]\n",
    "    molbit_sets[set_no] = molbits.split(\", \")"
   ]
  },
  {
   "cell_type": "code",
   "execution_count": 81,
   "metadata": {
    "ExecuteTime": {
     "end_time": "2019-08-17T00:39:20.715381Z",
     "start_time": "2019-08-17T00:39:20.700261Z"
    }
   },
   "outputs": [],
   "source": [
    "molbit_set_in_run = str(run_data.get(\"molbit_set\"))\n",
    "molbit_sets_on_flowcell = run_data.get(\"prev_on_flowcell\")\n",
    "\n",
    "molbits_in_run = molbit_sets[molbit_set_in_run]\n",
    "molbits_on_flowcell = molbits_in_run[:]\n",
    "if molbit_sets_on_flowcell != \"none\":\n",
    "    molbit_sets_on_flowcell = molbit_sets_on_flowcell.split(\", \")\n",
    "    for m in molbit_sets_on_flowcell:\n",
    "        print(m)\n",
    "        print(molbit_sets[m])\n",
    "        molbits_on_flowcell.extend(molbit_sets[m])\n",
    "    print(molbits_on_flowcell)"
   ]
  },
  {
   "cell_type": "markdown",
   "metadata": {},
   "source": [
    "## Extract the best-aligned molbit, across all 96 molbits"
   ]
  },
  {
   "cell_type": "markdown",
   "metadata": {},
   "source": [
    "This cell replaces \"make_sw_call\" in the past. No more \"-1\"s. Just filter by accept_molbit."
   ]
  },
  {
   "cell_type": "code",
   "execution_count": 82,
   "metadata": {
    "ExecuteTime": {
     "end_time": "2019-08-17T00:39:44.701250Z",
     "start_time": "2019-08-17T00:39:20.717316Z"
    }
   },
   "outputs": [
    {
     "name": "stderr",
     "output_type": "stream",
     "text": [
      "/ssd1/home/kdorosch/software/anaconda3/envs/py36/lib/python3.6/site-packages/numpy/core/fromnumeric.py:51: FutureWarning: 'argmax' is deprecated. Use 'idxmax' instead. The behavior of 'argmax' will be corrected to return the positional maximum in the future. Use 'series.values.argmax' to get the position of the maximum now.\n",
      "  return getattr(obj, method)(*args, **kwds)\n",
      "/ssd1/home/kdorosch/.local/lib/python3.6/site-packages/ipykernel_launcher.py:4: FutureWarning: currently extract(expand=None) means expand=False (return Index/Series/DataFrame) but in a future version of pandas this will be changed to expand=True (return DataFrame)\n",
      "  after removing the cwd from sys.path.\n"
     ]
    }
   ],
   "source": [
    "sw_scores = sw.filter(regex=\"score_molbit_.*\")\n",
    "best_molbits = sw_scores.apply(np.argmax, axis=1)\n",
    "accept_molbit = sw.lookup(sw.index, best_molbits) >= 15\n",
    "sw[\"best_molbit\"] = best_molbits.str.extract(r\"score_molbit_([\\d]+)\")\n",
    "sw[\"accept_molbit\"] = accept_molbit"
   ]
  },
  {
   "cell_type": "code",
   "execution_count": 83,
   "metadata": {
    "ExecuteTime": {
     "end_time": "2019-08-17T00:39:44.723851Z",
     "start_time": "2019-08-17T00:39:44.703698Z"
    }
   },
   "outputs": [
    {
     "data": {
      "text/plain": [
       "287313"
      ]
     },
     "execution_count": 83,
     "metadata": {},
     "output_type": "execute_result"
    }
   ],
   "source": [
    "len(accept_molbit)"
   ]
  },
  {
   "cell_type": "code",
   "execution_count": 84,
   "metadata": {
    "ExecuteTime": {
     "end_time": "2019-08-17T00:39:45.397797Z",
     "start_time": "2019-08-17T00:39:44.725689Z"
    }
   },
   "outputs": [
    {
     "data": {
      "text/plain": [
       "195547"
      ]
     },
     "execution_count": 84,
     "metadata": {},
     "output_type": "execute_result"
    }
   ],
   "source": [
    "sum(accept_molbit)"
   ]
  },
  {
   "cell_type": "code",
   "execution_count": 85,
   "metadata": {
    "ExecuteTime": {
     "end_time": "2019-08-17T00:39:46.109355Z",
     "start_time": "2019-08-17T00:39:45.399512Z"
    }
   },
   "outputs": [
    {
     "data": {
      "text/plain": [
       "0.6806061681859157"
      ]
     },
     "execution_count": 85,
     "metadata": {},
     "output_type": "execute_result"
    }
   ],
   "source": [
    "sum(accept_molbit) / len(accept_molbit)"
   ]
  },
  {
   "cell_type": "markdown",
   "metadata": {},
   "source": [
    "## Extract the best-aligned molbit, across ONLY the extant molbits"
   ]
  },
  {
   "cell_type": "code",
   "execution_count": 86,
   "metadata": {
    "ExecuteTime": {
     "end_time": "2019-08-17T00:39:46.124634Z",
     "start_time": "2019-08-17T00:39:46.111065Z"
    }
   },
   "outputs": [],
   "source": [
    "extant_sw_cols = [f\"sw_score_molbit_{molbit}\" for molbit in molbits_on_flowcell]"
   ]
  },
  {
   "cell_type": "code",
   "execution_count": 87,
   "metadata": {
    "ExecuteTime": {
     "end_time": "2019-08-17T00:39:46.156594Z",
     "start_time": "2019-08-17T00:39:46.126338Z"
    }
   },
   "outputs": [],
   "source": [
    "extant_sw = sw.loc[:, extant_sw_cols]"
   ]
  },
  {
   "cell_type": "code",
   "execution_count": 88,
   "metadata": {
    "ExecuteTime": {
     "end_time": "2019-08-17T00:40:09.983283Z",
     "start_time": "2019-08-17T00:39:46.158590Z"
    }
   },
   "outputs": [
    {
     "name": "stderr",
     "output_type": "stream",
     "text": [
      "/ssd1/home/kdorosch/.local/lib/python3.6/site-packages/ipykernel_launcher.py:4: FutureWarning: currently extract(expand=None) means expand=False (return Index/Series/DataFrame) but in a future version of pandas this will be changed to expand=True (return DataFrame)\n",
      "  after removing the cwd from sys.path.\n"
     ]
    }
   ],
   "source": [
    "extant_sw_scores = extant_sw.filter(regex=\"score_molbit_.*\")\n",
    "best_molbits = extant_sw_scores.apply(np.argmax, axis=1)\n",
    "accept_molbit = extant_sw.lookup(extant_sw.index, best_molbits) >= 15\n",
    "extant_sw[\"best_molbit\"] = best_molbits.str.extract(r\"score_molbit_([\\d]+)\")\n",
    "extant_sw[\"accept_molbit\"] = accept_molbit"
   ]
  },
  {
   "cell_type": "markdown",
   "metadata": {},
   "source": [
    "## Compare "
   ]
  },
  {
   "cell_type": "code",
   "execution_count": 89,
   "metadata": {
    "ExecuteTime": {
     "end_time": "2019-08-17T00:40:10.184944Z",
     "start_time": "2019-08-17T00:40:09.985692Z"
    }
   },
   "outputs": [],
   "source": [
    "# Only retrieve high-scoring alignments\n",
    "sw_accepted = sw[sw[\"accept_molbit\"]]\n",
    "extant_sw_acc = extant_sw[sw[\"accept_molbit\"]]"
   ]
  },
  {
   "cell_type": "code",
   "execution_count": 90,
   "metadata": {
    "ExecuteTime": {
     "end_time": "2019-08-17T00:40:10.230902Z",
     "start_time": "2019-08-17T00:40:10.186738Z"
    }
   },
   "outputs": [],
   "source": [
    "n_extant_is_best = sum(extant_sw_acc[\"best_molbit\"] == sw_accepted[\"best_molbit\"])"
   ]
  },
  {
   "cell_type": "code",
   "execution_count": 91,
   "metadata": {
    "ExecuteTime": {
     "end_time": "2019-08-17T00:40:10.247615Z",
     "start_time": "2019-08-17T00:40:10.233069Z"
    }
   },
   "outputs": [
    {
     "data": {
      "text/plain": [
       "194460"
      ]
     },
     "execution_count": 91,
     "metadata": {},
     "output_type": "execute_result"
    }
   ],
   "source": [
    "n_extant_is_best"
   ]
  },
  {
   "cell_type": "markdown",
   "metadata": {},
   "source": [
    "Percentage of well-aligned reads that belong to the true set"
   ]
  },
  {
   "cell_type": "code",
   "execution_count": 92,
   "metadata": {
    "ExecuteTime": {
     "end_time": "2019-08-17T00:40:10.264500Z",
     "start_time": "2019-08-17T00:40:10.249450Z"
    }
   },
   "outputs": [
    {
     "data": {
      "text/plain": [
       "0.9944412340767181"
      ]
     },
     "execution_count": 92,
     "metadata": {},
     "output_type": "execute_result"
    }
   ],
   "source": [
    "n_extant_is_best/len(sw_accepted)"
   ]
  },
  {
   "cell_type": "markdown",
   "metadata": {},
   "source": [
    "Read counts for each molbit"
   ]
  },
  {
   "cell_type": "code",
   "execution_count": 93,
   "metadata": {
    "ExecuteTime": {
     "end_time": "2019-08-17T00:40:10.444583Z",
     "start_time": "2019-08-17T00:40:10.266100Z"
    }
   },
   "outputs": [
    {
     "data": {
      "text/plain": [
       "[('64', 306),\n",
       " ('65', 7074),\n",
       " ('66', 35867),\n",
       " ('67', 8613),\n",
       " ('68', 12637),\n",
       " ('69', 4146),\n",
       " ('70', 3821),\n",
       " ('71', 6407),\n",
       " ('72', 16971),\n",
       " ('73', 8467),\n",
       " ('74', 49821),\n",
       " ('75', 20108),\n",
       " ('76', 1245),\n",
       " ('77', 15052),\n",
       " ('78', 2112),\n",
       " ('79', 2900)]"
      ]
     },
     "execution_count": 93,
     "metadata": {},
     "output_type": "execute_result"
    }
   ],
   "source": [
    "m, c = np.unique(extant_sw_acc[\"best_molbit\"], return_counts=True)\n",
    "list(zip(m, c))"
   ]
  },
  {
   "cell_type": "markdown",
   "metadata": {},
   "source": [
    "## Extract the best-aligned molbit, across ONLY the current run's molbits"
   ]
  },
  {
   "cell_type": "code",
   "execution_count": 94,
   "metadata": {
    "ExecuteTime": {
     "end_time": "2019-08-17T00:40:10.459821Z",
     "start_time": "2019-08-17T00:40:10.446359Z"
    }
   },
   "outputs": [],
   "source": [
    "extant_sw_cols = [f\"sw_score_molbit_{molbit}\" for molbit in molbits_in_run]"
   ]
  },
  {
   "cell_type": "code",
   "execution_count": 95,
   "metadata": {
    "ExecuteTime": {
     "end_time": "2019-08-17T00:40:10.498433Z",
     "start_time": "2019-08-17T00:40:10.461621Z"
    }
   },
   "outputs": [],
   "source": [
    "extant_sw = sw.loc[:, extant_sw_cols]"
   ]
  },
  {
   "cell_type": "code",
   "execution_count": 96,
   "metadata": {
    "ExecuteTime": {
     "end_time": "2019-08-17T00:40:33.759730Z",
     "start_time": "2019-08-17T00:40:10.500435Z"
    }
   },
   "outputs": [
    {
     "name": "stderr",
     "output_type": "stream",
     "text": [
      "/ssd1/home/kdorosch/.local/lib/python3.6/site-packages/ipykernel_launcher.py:4: FutureWarning: currently extract(expand=None) means expand=False (return Index/Series/DataFrame) but in a future version of pandas this will be changed to expand=True (return DataFrame)\n",
      "  after removing the cwd from sys.path.\n"
     ]
    }
   ],
   "source": [
    "extant_sw_scores = extant_sw.filter(regex=\"score_molbit_.*\")\n",
    "best_molbits = extant_sw_scores.apply(np.argmax, axis=1)\n",
    "accept_molbit = extant_sw.lookup(extant_sw.index, best_molbits) >= 15\n",
    "extant_sw[\"best_molbit\"] = best_molbits.str.extract(r\"score_molbit_([\\d]+)\")\n",
    "extant_sw[\"accept_molbit\"] = accept_molbit"
   ]
  },
  {
   "cell_type": "markdown",
   "metadata": {},
   "source": [
    "## Compare "
   ]
  },
  {
   "cell_type": "code",
   "execution_count": 97,
   "metadata": {
    "ExecuteTime": {
     "end_time": "2019-08-17T00:40:33.928035Z",
     "start_time": "2019-08-17T00:40:33.761739Z"
    }
   },
   "outputs": [],
   "source": [
    "# Only retrieve high-scoring alignments\n",
    "sw_accepted = sw[sw[\"accept_molbit\"]]\n",
    "extant_sw_acc = extant_sw[sw[\"accept_molbit\"]]"
   ]
  },
  {
   "cell_type": "code",
   "execution_count": 98,
   "metadata": {
    "ExecuteTime": {
     "end_time": "2019-08-17T00:40:33.974224Z",
     "start_time": "2019-08-17T00:40:33.930073Z"
    }
   },
   "outputs": [],
   "source": [
    "n_extant_is_best = sum(extant_sw_acc[\"best_molbit\"] == sw_accepted[\"best_molbit\"])"
   ]
  },
  {
   "cell_type": "code",
   "execution_count": 99,
   "metadata": {
    "ExecuteTime": {
     "end_time": "2019-08-17T00:40:33.991896Z",
     "start_time": "2019-08-17T00:40:33.976382Z"
    }
   },
   "outputs": [
    {
     "data": {
      "text/plain": [
       "194460"
      ]
     },
     "execution_count": 99,
     "metadata": {},
     "output_type": "execute_result"
    }
   ],
   "source": [
    "n_extant_is_best"
   ]
  },
  {
   "cell_type": "markdown",
   "metadata": {},
   "source": [
    "Percentage of well-aligned reads that belong to the true set"
   ]
  },
  {
   "cell_type": "code",
   "execution_count": 100,
   "metadata": {
    "ExecuteTime": {
     "end_time": "2019-08-17T00:40:34.008014Z",
     "start_time": "2019-08-17T00:40:33.993863Z"
    }
   },
   "outputs": [
    {
     "data": {
      "text/plain": [
       "0.9944412340767181"
      ]
     },
     "execution_count": 100,
     "metadata": {},
     "output_type": "execute_result"
    }
   ],
   "source": [
    "n_extant_is_best/len(sw_accepted)"
   ]
  },
  {
   "cell_type": "markdown",
   "metadata": {},
   "source": [
    "Read counts for each molbit"
   ]
  },
  {
   "cell_type": "code",
   "execution_count": 101,
   "metadata": {
    "ExecuteTime": {
     "end_time": "2019-08-17T00:40:34.194692Z",
     "start_time": "2019-08-17T00:40:34.009800Z"
    }
   },
   "outputs": [
    {
     "data": {
      "text/plain": [
       "[('64', 306),\n",
       " ('65', 7074),\n",
       " ('66', 35867),\n",
       " ('67', 8613),\n",
       " ('68', 12637),\n",
       " ('69', 4146),\n",
       " ('70', 3821),\n",
       " ('71', 6407),\n",
       " ('72', 16971),\n",
       " ('73', 8467),\n",
       " ('74', 49821),\n",
       " ('75', 20108),\n",
       " ('76', 1245),\n",
       " ('77', 15052),\n",
       " ('78', 2112),\n",
       " ('79', 2900)]"
      ]
     },
     "execution_count": 101,
     "metadata": {},
     "output_type": "execute_result"
    }
   ],
   "source": [
    "m, c = np.unique(extant_sw_acc[\"best_molbit\"], return_counts=True)\n",
    "list(zip(m, c))"
   ]
  },
  {
   "cell_type": "code",
   "execution_count": 103,
   "metadata": {
    "ExecuteTime": {
     "end_time": "2019-08-20T15:40:48.812754Z",
     "start_time": "2019-08-20T15:40:48.791933Z"
    }
   },
   "outputs": [
    {
     "name": "stdout",
     "output_type": "stream",
     "text": [
      "306\n",
      "7074\n",
      "35867\n",
      "8613\n",
      "12637\n",
      "4146\n",
      "3821\n",
      "6407\n",
      "16971\n",
      "8467\n",
      "49821\n",
      "20108\n",
      "1245\n",
      "15052\n",
      "2112\n",
      "2900\n"
     ]
    }
   ],
   "source": [
    "print(\"\\n\".join([str(x) for x in c]))"
   ]
  },
  {
   "cell_type": "markdown",
   "metadata": {},
   "source": [
    "## Get counts for all molbits"
   ]
  },
  {
   "cell_type": "code",
   "execution_count": 104,
   "metadata": {
    "ExecuteTime": {
     "end_time": "2019-08-20T16:42:02.849766Z",
     "start_time": "2019-08-20T16:42:02.547310Z"
    }
   },
   "outputs": [
    {
     "name": "stdout",
     "output_type": "stream",
     "text": [
      "0\n",
      "2\n",
      "5\n",
      "0\n",
      "0\n",
      "0\n",
      "0\n",
      "3\n",
      "8\n",
      "16\n",
      "0\n",
      "19\n",
      "1\n",
      "31\n",
      "0\n",
      "6\n",
      "1\n",
      "5\n",
      "0\n",
      "0\n",
      "0\n",
      "0\n",
      "82\n",
      "159\n",
      "0\n",
      "0\n",
      "0\n",
      "0\n",
      "2\n",
      "1\n",
      "7\n",
      "0\n",
      "0\n",
      "2\n",
      "0\n",
      "19\n",
      "84\n",
      "2\n",
      "0\n",
      "0\n",
      "1\n",
      "1\n",
      "8\n",
      "7\n",
      "1\n",
      "0\n",
      "1\n",
      "22\n",
      "0\n",
      "476\n",
      "3\n",
      "0\n",
      "2\n",
      "9\n",
      "1\n",
      "1\n",
      "2\n",
      "0\n",
      "16\n",
      "2\n",
      "0\n",
      "0\n",
      "5\n",
      "2\n",
      "302\n",
      "7057\n",
      "35847\n",
      "8587\n",
      "12606\n",
      "4133\n",
      "3816\n",
      "6399\n",
      "16809\n",
      "8443\n",
      "49756\n",
      "19638\n",
      "1235\n",
      "15011\n",
      "2109\n",
      "2712\n",
      "1\n",
      "0\n",
      "5\n",
      "0\n",
      "0\n",
      "0\n",
      "0\n",
      "1\n",
      "0\n",
      "0\n",
      "2\n",
      "37\n",
      "21\n",
      "0\n",
      "2\n",
      "3\n"
     ]
    }
   ],
   "source": [
    "m, c = np.unique(sw[sw[\"accept_molbit\"]][\"best_molbit\"], return_counts=True)\n",
    "molbit_counts = dict(zip(m, c))\n",
    "for i in range(96):\n",
    "    i = str(i)\n",
    "    if i in molbit_counts:\n",
    "        print(f\"{molbit_counts[i]}\")\n",
    "    else:\n",
    "        print(f\"0\")"
   ]
  },
  {
   "cell_type": "code",
   "execution_count": null,
   "metadata": {},
   "outputs": [],
   "source": []
  }
 ],
 "metadata": {
  "kernelspec": {
   "display_name": "Python 3",
   "language": "python",
   "name": "python3"
  },
  "language_info": {
   "codemirror_mode": {
    "name": "ipython",
    "version": 3
   },
   "file_extension": ".py",
   "mimetype": "text/x-python",
   "name": "python",
   "nbconvert_exporter": "python",
   "pygments_lexer": "ipython3",
   "version": "3.7.6"
  },
  "toc": {
   "base_numbering": 1,
   "nav_menu": {},
   "number_sections": true,
   "sideBar": true,
   "skip_h1_title": false,
   "title_cell": "Table of Contents",
   "title_sidebar": "Contents",
   "toc_cell": false,
   "toc_position": {},
   "toc_section_display": true,
   "toc_window_display": false
  }
 },
 "nbformat": 4,
 "nbformat_minor": 2
}