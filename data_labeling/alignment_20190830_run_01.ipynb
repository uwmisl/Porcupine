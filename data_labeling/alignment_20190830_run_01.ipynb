{
 "cells": [
  {
   "cell_type": "code",
   "execution_count": 1,
   "metadata": {
    "ExecuteTime": {
     "end_time": "2019-08-30T20:16:25.835932Z",
     "start_time": "2019-08-30T20:16:24.998828Z"
    }
   },
   "outputs": [],
   "source": [
    "%load_ext autoreload\n",
    "%autoreload 2\n",
    "%matplotlib inline\n",
    "import os\n",
    "import h5py\n",
    "import numpy as np\n",
    "import pandas as pd\n",
    "import logging\n",
    "import re\n",
    "\n",
    "from matplotlib import pyplot as plt\n",
    "import seaborn as sns\n",
    "sns.set(font_scale=1.8, style=\"whitegrid\")"
   ]
  },
  {
   "cell_type": "code",
   "execution_count": 2,
   "metadata": {
    "ExecuteTime": {
     "end_time": "2019-08-30T20:16:25.852736Z",
     "start_time": "2019-08-30T20:16:25.838110Z"
    }
   },
   "outputs": [],
   "source": [
    "logger = logging.getLogger(__name__)\n",
    "logging.basicConfig(format='[%(asctime)s - %(name)s] %(message)s',\n",
    "                        datefmt='%H:%M:%S',\n",
    "                        level=logging.DEBUG,\n",
    "                        handlers=[logging.StreamHandler()])"
   ]
  },
  {
   "cell_type": "markdown",
   "metadata": {},
   "source": [
    "# Import run settings"
   ]
  },
  {
   "cell_type": "code",
   "execution_count": 3,
   "metadata": {
    "ExecuteTime": {
     "end_time": "2019-08-30T20:16:27.393044Z",
     "start_time": "2019-08-30T20:16:26.678187Z"
    }
   },
   "outputs": [],
   "source": [
    "def import_gdrive_sheet(gdrive_key, sheet_id):\n",
    "    run_spreadsheet = pd.read_csv(\"https://docs.google.com/spreadsheet/ccc?key=\" + \\\n",
    "                                  gdrive_key + \"&output=csv&gid=\" + sheet_id)\n",
    "    if \"date\" in run_spreadsheet.columns:\n",
    "        run_spreadsheet[\"date\"] = run_spreadsheet[\"date\"].astype(str)\n",
    "    return run_spreadsheet\n",
    "\n",
    "gdrive_key = \"gsheet_id_here\"\n",
    "sheet_id = \"0\"\n",
    "set_sheet_id = \"512509543\"\n",
    "\n",
    "run_spreadsheet = import_gdrive_sheet(gdrive_key, sheet_id)\n",
    "set_spreadsheet = import_gdrive_sheet(gdrive_key, set_sheet_id)"
   ]
  },
  {
   "cell_type": "code",
   "execution_count": 4,
   "metadata": {
    "ExecuteTime": {
     "end_time": "2019-08-30T20:16:32.692144Z",
     "start_time": "2019-08-30T20:16:32.666262Z"
    }
   },
   "outputs": [],
   "source": [
    "date = \"20190830\"\n",
    "run_name = \"08_30_2019_run_01\"\n",
    "molbit_file = \"../porcupine_sequences.fa\"\n",
    "run_data = dict(run_spreadsheet[run_spreadsheet[\"run_name\"] == run_name].iloc[0, :])"
   ]
  },
  {
   "cell_type": "code",
   "execution_count": 5,
   "metadata": {
    "ExecuteTime": {
     "end_time": "2019-08-30T20:16:33.220116Z",
     "start_time": "2019-08-30T20:16:33.197851Z"
    }
   },
   "outputs": [],
   "source": [
    "fastq_dir = os.path.join(run_data[\"basecall_dir\"], \"pass\")"
   ]
  },
  {
   "cell_type": "markdown",
   "metadata": {},
   "source": [
    "# Run sequence alignment"
   ]
  },
  {
   "cell_type": "code",
   "execution_count": 7,
   "metadata": {
    "ExecuteTime": {
     "end_time": "2019-08-30T20:25:11.089356Z",
     "start_time": "2019-08-30T20:25:11.062526Z"
    }
   },
   "outputs": [],
   "source": [
    "def read_fasta(fasta_fname):\n",
    "    '''Assumes 1 line per sequence.'''\n",
    "    seqs = []\n",
    "    names = []\n",
    "    with open(fasta_fname) as fa:\n",
    "        for line in fa:\n",
    "            line = line.strip()\n",
    "            if line.startswith(\">\"):\n",
    "                names.append(line.replace(\">\", \"\").split()[0])\n",
    "            else:\n",
    "                seqs.append(line)\n",
    "    return seqs, names"
   ]
  },
  {
   "cell_type": "code",
   "execution_count": 8,
   "metadata": {
    "ExecuteTime": {
     "end_time": "2019-08-30T20:25:11.109851Z",
     "start_time": "2019-08-30T20:25:11.091811Z"
    }
   },
   "outputs": [],
   "source": [
    "def read_fastq(fastq_fname):\n",
    "    seqs = []\n",
    "    with open(fastq_fname) as fq:\n",
    "        fq = fq.readlines()\n",
    "        for line_i in range(0, len(fq), 4):\n",
    "            line = fq[line_i].strip().split(\" \")\n",
    "            read_id = str(line[0])[1:]\n",
    "            seq = fq[line_i + 1].strip()\n",
    "            seqs.append((read_id, seq))\n",
    "    return seqs"
   ]
  },
  {
   "cell_type": "code",
   "execution_count": 9,
   "metadata": {
    "ExecuteTime": {
     "end_time": "2019-08-30T20:25:11.168254Z",
     "start_time": "2019-08-30T20:25:11.112491Z"
    }
   },
   "outputs": [],
   "source": [
    "from pore_utils import smith_waterman as s_w"
   ]
  },
  {
   "cell_type": "code",
   "execution_count": 10,
   "metadata": {
    "ExecuteTime": {
     "end_time": "2019-08-30T20:25:11.195240Z",
     "start_time": "2019-08-30T20:25:11.170645Z"
    }
   },
   "outputs": [],
   "source": [
    "def helper_run_sw(read, molbit_seqs=None, search_len=100,\n",
    "                  cost_fn={\"match\": 2, \"mismatch\": -2, \"gap\": -1}):\n",
    "    read_id, seq = read\n",
    "\n",
    "    sw_search_end = min(len(seq), search_len)\n",
    "    search_seq = seq[:sw_search_end]\n",
    "\n",
    "    results = [read_id]\n",
    "    for header_i, header_seq in enumerate(molbit_seqs):\n",
    "        _, sw_score, _, sw_loc, _ = s_w.s_w(search_seq, header_seq,\n",
    "                                        cost_fn=cost_fn)\n",
    "        results.append(sw_score)\n",
    "    return results\n",
    "\n",
    "\n",
    "def run_sw(fastq_dir, out_dir, search_len=80, molbit_fa=None, n_workers=20,\n",
    "           cost_fn={\"match\": 2, \"mismatch\": -2, \"gap\": -1}):\n",
    "    os.makedirs(out_dir)\n",
    "    import dask.bag as db\n",
    "    from dask.diagnostics import ProgressBar\n",
    "    ProgressBar().register()\n",
    "    \n",
    "    logger.info(\"Getting molbit sequences.\")\n",
    "    assert molbit_fa is not None\n",
    "    assert os.path.exists(molbit_fa)\n",
    "    molbit_seqs, molbit_names = read_fasta(molbit_fa)\n",
    "    \n",
    "    logger.info(\"Locating fastq files.\")\n",
    "    fastq_files = []\n",
    "    for fname in os.listdir(fastq_dir):\n",
    "        if fname.endswith(\".fastq\"):\n",
    "            fastq_files.append(os.path.join(fastq_dir, fname))\n",
    "    assert len(fastq_files) > 0\n",
    "    \n",
    "    logger.info(\"Running SW, one fastq at a time.\")\n",
    "    for fq_i, fq_fname in enumerate(fastq_files):\n",
    "        logger.info(f\"Starting fastq ({fq_i} of {len(fastq_files)})\\n\\t{fq_fname}\")\n",
    "        fq_seqs = read_fastq(fq_fname)\n",
    "        \n",
    "        bag = db.from_sequence(fq_seqs)\n",
    "        dask_map = bag.map(helper_run_sw, molbit_seqs=molbit_seqs,\n",
    "                           search_len=search_len, cost_fn=cost_fn)\n",
    "        sw_scores = dask_map.compute(num_workers=n_workers)\n",
    "        \n",
    "        cols = [\"read_id\"] + [f\"sw_score_molbit_{molbit}\" for molbit in molbit_names]\n",
    "        sw_df = pd.DataFrame(sw_scores, columns=cols)\n",
    "        sw_df.index = sw_df[\"read_id\"]\n",
    "        del sw_df[\"read_id\"]\n",
    "        out_fname = fq_fname.split(\"/\")[-1].replace(\".fastq\", \"\") + \".tsv\"\n",
    "        out_fname = os.path.join(out_dir, out_fname)\n",
    "        logger.info(f\"Saving to file: {out_fname}\")\n",
    "        sw_df.to_csv(out_fname, sep=\"\\t\", index=True)"
   ]
  },
  {
   "cell_type": "code",
   "execution_count": 11,
   "metadata": {
    "ExecuteTime": {
     "end_time": "2019-08-30T20:25:11.213194Z",
     "start_time": "2019-08-30T20:25:11.197317Z"
    }
   },
   "outputs": [],
   "source": [
    "sw_dir = os.path.join(run_data[\"basecall_dir\"], \"sw\")\n",
    "cost_fn = {\"match\": 1, \"mismatch\": -1, \"gap\": -8}"
   ]
  },
  {
   "cell_type": "raw",
   "metadata": {
    "ExecuteTime": {
     "end_time": "2019-08-11T02:58:25.962380Z",
     "start_time": "2019-08-11T02:58:25.723668Z"
    }
   },
   "source": [
    "! rm -rf /path/to/data/MinION_sequencing_data_20190809/guppy_3.2.2_exec_20190809/sw"
   ]
  },
  {
   "cell_type": "code",
   "execution_count": 12,
   "metadata": {
    "ExecuteTime": {
     "end_time": "2019-08-31T00:10:27.335607Z",
     "start_time": "2019-08-30T20:25:11.215497Z"
    },
    "scrolled": true
   },
   "outputs": [
    {
     "name": "stderr",
     "output_type": "stream",
     "text": [
      "[13:25:11 - __main__] Getting molbit sequences.\n",
      "[13:25:11 - __main__] Locating fastq files.\n",
      "[13:25:11 - __main__] Running SW, one fastq at a time.\n",
      "[13:25:11 - __main__] Starting fastq (0 of 378)\n",
      "\t/path/to/data/MinION_sequencing_data_20190830/guppy_3.2.2_08_30_2019_run_01_exec_20190830/pass/fastq_runid_ee80935b39ac8eac3e848aa0e1f003f3f7be1c96_0_0.fastq\n"
     ]
    },
    {
     "name": "stdout",
     "output_type": "stream",
     "text": [
      "[########################################] | 100% Completed | 30.8s\n"
     ]
    },
    {
     "name": "stderr",
     "output_type": "stream",
     "text": [
      "[13:25:42 - __main__] Saving to file: /path/to/data/MinION_sequencing_data_20190830/guppy_3.2.2_08_30_2019_run_01_exec_20190830/sw/fastq_runid_ee80935b39ac8eac3e848aa0e1f003f3f7be1c96_0_0.tsv\n",
      "[13:25:42 - __main__] Starting fastq (1 of 378)\n",
      "\t/path/to/data/MinION_sequencing_data_20190830/guppy_3.2.2_08_30_2019_run_01_exec_20190830/pass/fastq_runid_ee80935b39ac8eac3e848aa0e1f003f3f7be1c96_0_1.fastq\n"
     ]
    },
    {
     "name": "stdout",
     "output_type": "stream",
     "text": [
      "[########################################] | 100% Completed | 27.0s\n"
     ]
    },
    {
     "name": "stderr",
     "output_type": "stream",
     "text": [
      "[13:26:09 - __main__] Saving to file: /path/to/data/MinION_sequencing_data_20190830/guppy_3.2.2_08_30_2019_run_01_exec_20190830/sw/fastq_runid_ee80935b39ac8eac3e848aa0e1f003f3f7be1c96_0_1.tsv\n",
      "[13:26:09 - __main__] Starting fastq (2 of 378)\n",
      "\t/path/to/data/MinION_sequencing_data_20190830/guppy_3.2.2_08_30_2019_run_01_exec_20190830/pass/fastq_runid_ee80935b39ac8eac3e848aa0e1f003f3f7be1c96_0_2.fastq\n"
     ]
    },
    {
     "name": "stdout",
     "output_type": "stream",
     "text": [
      "[########################################] | 100% Completed | 49.7s\n"
     ]
    },
    {
     "name": "stderr",
     "output_type": "stream",
     "text": [
      "[13:26:59 - __main__] Saving to file: /path/to/data/MinION_sequencing_data_20190830/guppy_3.2.2_08_30_2019_run_01_exec_20190830/sw/fastq_runid_ee80935b39ac8eac3e848aa0e1f003f3f7be1c96_0_2.tsv\n",
      "[13:26:59 - __main__] Starting fastq (3 of 378)\n",
      "\t/path/to/data/MinION_sequencing_data_20190830/guppy_3.2.2_08_30_2019_run_01_exec_20190830/pass/fastq_runid_ee80935b39ac8eac3e848aa0e1f003f3f7be1c96_0_3.fastq\n"
     ]
    },
    {
     "name": "stdout",
     "output_type": "stream",
     "text": [
      "[########################################] | 100% Completed | 37.5s\n"
     ]
    },
    {
     "name": "stderr",
     "output_type": "stream",
     "text": [
      "[13:27:37 - __main__] Saving to file: /path/to/data/MinION_sequencing_data_20190830/guppy_3.2.2_08_30_2019_run_01_exec_20190830/sw/fastq_runid_ee80935b39ac8eac3e848aa0e1f003f3f7be1c96_0_3.tsv\n",
      "[13:27:37 - __main__] Starting fastq (4 of 378)\n",
      "\t/path/to/data/MinION_sequencing_data_20190830/guppy_3.2.2_08_30_2019_run_01_exec_20190830/pass/fastq_runid_ee80935b39ac8eac3e848aa0e1f003f3f7be1c96_1_0.fastq\n"
     ]
    },
    {
     "name": "stdout",
     "output_type": "stream",
     "text": [
      "[########################################] | 100% Completed | 47.4s\n"
     ]
    },
    {
     "name": "stderr",
     "output_type": "stream",
     "text": [
      "[13:28:25 - __main__] Saving to file: /path/to/data/MinION_sequencing_data_20190830/guppy_3.2.2_08_30_2019_run_01_exec_20190830/sw/fastq_runid_ee80935b39ac8eac3e848aa0e1f003f3f7be1c96_1_0.tsv\n",
      "[13:28:25 - __main__] Starting fastq (5 of 378)\n",
      "\t/path/to/data/MinION_sequencing_data_20190830/guppy_3.2.2_08_30_2019_run_01_exec_20190830/pass/fastq_runid_ee80935b39ac8eac3e848aa0e1f003f3f7be1c96_1_1.fastq\n"
     ]
    },
    {
     "name": "stdout",
     "output_type": "stream",
     "text": [
      "[########################################] | 100% Completed | 39.7s\n"
     ]
    },
    {
     "name": "stderr",
     "output_type": "stream",
     "text": [
      "[13:29:05 - __main__] Saving to file: /path/to/data/MinION_sequencing_data_20190830/guppy_3.2.2_08_30_2019_run_01_exec_20190830/sw/fastq_runid_ee80935b39ac8eac3e848aa0e1f003f3f7be1c96_1_1.tsv\n",
      "[13:29:05 - __main__] Starting fastq (6 of 378)\n",
      "\t/path/to/data/MinION_sequencing_data_20190830/guppy_3.2.2_08_30_2019_run_01_exec_20190830/pass/fastq_runid_ee80935b39ac8eac3e848aa0e1f003f3f7be1c96_1_2.fastq\n"
     ]
    },
    {
     "name": "stdout",
     "output_type": "stream",
     "text": [
      "[########################################] | 100% Completed | 59.1s\n"
     ]
    },
    {
     "name": "stderr",
     "output_type": "stream",
     "text": [
      "[13:30:05 - __main__] Saving to file: /path/to/data/MinION_sequencing_data_20190830/guppy_3.2.2_08_30_2019_run_01_exec_20190830/sw/fastq_runid_ee80935b39ac8eac3e848aa0e1f003f3f7be1c96_1_2.tsv\n",
      "[13:30:05 - __main__] Starting fastq (7 of 378)\n",
      "\t/path/to/data/MinION_sequencing_data_20190830/guppy_3.2.2_08_30_2019_run_01_exec_20190830/pass/fastq_runid_ee80935b39ac8eac3e848aa0e1f003f3f7be1c96_1_3.fastq\n"
     ]
    },
    {
     "name": "stdout",
     "output_type": "stream",
     "text": [
      "[########################################] | 100% Completed |  4.6s\n"
     ]
    },
    {
     "name": "stderr",
     "output_type": "stream",
     "text": [
      "[13:30:10 - __main__] Saving to file: /path/to/data/MinION_sequencing_data_20190830/guppy_3.2.2_08_30_2019_run_01_exec_20190830/sw/fastq_runid_ee80935b39ac8eac3e848aa0e1f003f3f7be1c96_1_3.tsv\n",
      "[13:30:10 - __main__] Starting fastq (8 of 378)\n",
      "\t/path/to/data/MinION_sequencing_data_20190830/guppy_3.2.2_08_30_2019_run_01_exec_20190830/pass/fastq_runid_ee80935b39ac8eac3e848aa0e1f003f3f7be1c96_2_0.fastq\n"
     ]
    },
    {
     "name": "stdout",
     "output_type": "stream",
     "text": [
      "[########################################] | 100% Completed | 45.6s\n"
     ]
    },
    {
     "name": "stderr",
     "output_type": "stream",
     "text": [
      "[13:30:56 - __main__] Saving to file: /path/to/data/MinION_sequencing_data_20190830/guppy_3.2.2_08_30_2019_run_01_exec_20190830/sw/fastq_runid_ee80935b39ac8eac3e848aa0e1f003f3f7be1c96_2_0.tsv\n",
      "[13:30:56 - __main__] Starting fastq (9 of 378)\n",
      "\t/path/to/data/MinION_sequencing_data_20190830/guppy_3.2.2_08_30_2019_run_01_exec_20190830/pass/fastq_runid_ee80935b39ac8eac3e848aa0e1f003f3f7be1c96_2_1.fastq\n"
     ]
    },
    {
     "name": "stdout",
     "output_type": "stream",
     "text": [
      "[########################################] | 100% Completed | 46.6s\n"
     ]
    },
    {
     "name": "stderr",
     "output_type": "stream",
     "text": [
      "[13:31:43 - __main__] Saving to file: /path/to/data/MinION_sequencing_data_20190830/guppy_3.2.2_08_30_2019_run_01_exec_20190830/sw/fastq_runid_ee80935b39ac8eac3e848aa0e1f003f3f7be1c96_2_1.tsv\n",
      "[13:31:43 - __main__] Starting fastq (10 of 378)\n",
      "\t/path/to/data/MinION_sequencing_data_20190830/guppy_3.2.2_08_30_2019_run_01_exec_20190830/pass/fastq_runid_ee80935b39ac8eac3e848aa0e1f003f3f7be1c96_2_2.fastq\n"
     ]
    },
    {
     "name": "stdout",
     "output_type": "stream",
     "text": [
      "[########################################] | 100% Completed | 48.4s\n"
     ]
    },
    {
     "name": "stderr",
     "output_type": "stream",
     "text": [
      "[13:32:31 - __main__] Saving to file: /path/to/data/MinION_sequencing_data_20190830/guppy_3.2.2_08_30_2019_run_01_exec_20190830/sw/fastq_runid_ee80935b39ac8eac3e848aa0e1f003f3f7be1c96_2_2.tsv\n",
      "[13:32:32 - __main__] Starting fastq (11 of 378)\n",
      "\t/path/to/data/MinION_sequencing_data_20190830/guppy_3.2.2_08_30_2019_run_01_exec_20190830/pass/fastq_runid_ee80935b39ac8eac3e848aa0e1f003f3f7be1c96_2_3.fastq\n"
     ]
    },
    {
     "name": "stdout",
     "output_type": "stream",
     "text": [
      "[########################################] | 100% Completed |  5.9s\n"
     ]
    },
    {
     "name": "stderr",
     "output_type": "stream",
     "text": [
      "[13:32:38 - __main__] Saving to file: /path/to/data/MinION_sequencing_data_20190830/guppy_3.2.2_08_30_2019_run_01_exec_20190830/sw/fastq_runid_ee80935b39ac8eac3e848aa0e1f003f3f7be1c96_2_3.tsv\n",
      "[13:32:38 - __main__] Starting fastq (12 of 378)\n",
      "\t/path/to/data/MinION_sequencing_data_20190830/guppy_3.2.2_08_30_2019_run_01_exec_20190830/pass/fastq_runid_ee80935b39ac8eac3e848aa0e1f003f3f7be1c96_3_0.fastq\n"
     ]
    },
    {
     "name": "stdout",
     "output_type": "stream",
     "text": [
      "[########################################] | 100% Completed | 32.4s\n"
     ]
    },
    {
     "name": "stderr",
     "output_type": "stream",
     "text": [
      "[13:33:10 - __main__] Saving to file: /path/to/data/MinION_sequencing_data_20190830/guppy_3.2.2_08_30_2019_run_01_exec_20190830/sw/fastq_runid_ee80935b39ac8eac3e848aa0e1f003f3f7be1c96_3_0.tsv\n",
      "[13:33:10 - __main__] Starting fastq (13 of 378)\n",
      "\t/path/to/data/MinION_sequencing_data_20190830/guppy_3.2.2_08_30_2019_run_01_exec_20190830/pass/fastq_runid_ee80935b39ac8eac3e848aa0e1f003f3f7be1c96_3_1.fastq\n"
     ]
    },
    {
     "name": "stdout",
     "output_type": "stream",
     "text": [
      "[########################################] | 100% Completed |  1min 48.7s\n"
     ]
    },
    {
     "name": "stderr",
     "output_type": "stream",
     "text": [
      "[13:34:59 - __main__] Saving to file: /path/to/data/MinION_sequencing_data_20190830/guppy_3.2.2_08_30_2019_run_01_exec_20190830/sw/fastq_runid_ee80935b39ac8eac3e848aa0e1f003f3f7be1c96_3_1.tsv\n",
      "[13:35:00 - __main__] Starting fastq (14 of 378)\n",
      "\t/path/to/data/MinION_sequencing_data_20190830/guppy_3.2.2_08_30_2019_run_01_exec_20190830/pass/fastq_runid_ee80935b39ac8eac3e848aa0e1f003f3f7be1c96_4_0.fastq\n"
     ]
    },
    {
     "name": "stdout",
     "output_type": "stream",
     "text": [
      "[########################################] | 100% Completed |  1min  3.2s\n"
     ]
    },
    {
     "name": "stderr",
     "output_type": "stream",
     "text": [
      "[13:36:03 - __main__] Saving to file: /path/to/data/MinION_sequencing_data_20190830/guppy_3.2.2_08_30_2019_run_01_exec_20190830/sw/fastq_runid_ee80935b39ac8eac3e848aa0e1f003f3f7be1c96_4_0.tsv\n",
      "[13:36:03 - __main__] Starting fastq (15 of 378)\n",
      "\t/path/to/data/MinION_sequencing_data_20190830/guppy_3.2.2_08_30_2019_run_01_exec_20190830/pass/fastq_runid_ee80935b39ac8eac3e848aa0e1f003f3f7be1c96_3_2.fastq\n"
     ]
    },
    {
     "name": "stdout",
     "output_type": "stream",
     "text": [
      "[########################################] | 100% Completed |  1.0s\n"
     ]
    },
    {
     "name": "stderr",
     "output_type": "stream",
     "text": [
      "[13:36:05 - __main__] Saving to file: /path/to/data/MinION_sequencing_data_20190830/guppy_3.2.2_08_30_2019_run_01_exec_20190830/sw/fastq_runid_ee80935b39ac8eac3e848aa0e1f003f3f7be1c96_3_2.tsv\n",
      "[13:36:05 - __main__] Starting fastq (16 of 378)\n",
      "\t/path/to/data/MinION_sequencing_data_20190830/guppy_3.2.2_08_30_2019_run_01_exec_20190830/pass/fastq_runid_ee80935b39ac8eac3e848aa0e1f003f3f7be1c96_4_1.fastq\n"
     ]
    },
    {
     "name": "stdout",
     "output_type": "stream",
     "text": [
      "[########################################] | 100% Completed | 29.8s\n"
     ]
    },
    {
     "name": "stderr",
     "output_type": "stream",
     "text": [
      "[13:36:35 - __main__] Saving to file: /path/to/data/MinION_sequencing_data_20190830/guppy_3.2.2_08_30_2019_run_01_exec_20190830/sw/fastq_runid_ee80935b39ac8eac3e848aa0e1f003f3f7be1c96_4_1.tsv\n",
      "[13:36:35 - __main__] Starting fastq (17 of 378)\n",
      "\t/path/to/data/MinION_sequencing_data_20190830/guppy_3.2.2_08_30_2019_run_01_exec_20190830/pass/fastq_runid_ee80935b39ac8eac3e848aa0e1f003f3f7be1c96_3_3.fastq\n"
     ]
    },
    {
     "name": "stdout",
     "output_type": "stream",
     "text": [
      "[########################################] | 100% Completed |  7.1s\n"
     ]
    },
    {
     "name": "stderr",
     "output_type": "stream",
     "text": [
      "[13:36:42 - __main__] Saving to file: /path/to/data/MinION_sequencing_data_20190830/guppy_3.2.2_08_30_2019_run_01_exec_20190830/sw/fastq_runid_ee80935b39ac8eac3e848aa0e1f003f3f7be1c96_3_3.tsv\n",
      "[13:36:42 - __main__] Starting fastq (18 of 378)\n",
      "\t/path/to/data/MinION_sequencing_data_20190830/guppy_3.2.2_08_30_2019_run_01_exec_20190830/pass/fastq_runid_ee80935b39ac8eac3e848aa0e1f003f3f7be1c96_5_0.fastq\n"
     ]
    },
    {
     "name": "stdout",
     "output_type": "stream",
     "text": [
      "[########################################] | 100% Completed | 49.3s\n"
     ]
    },
    {
     "name": "stderr",
     "output_type": "stream",
     "text": [
      "[13:37:32 - __main__] Saving to file: /path/to/data/MinION_sequencing_data_20190830/guppy_3.2.2_08_30_2019_run_01_exec_20190830/sw/fastq_runid_ee80935b39ac8eac3e848aa0e1f003f3f7be1c96_5_0.tsv\n",
      "[13:37:32 - __main__] Starting fastq (19 of 378)\n",
      "\t/path/to/data/MinION_sequencing_data_20190830/guppy_3.2.2_08_30_2019_run_01_exec_20190830/pass/fastq_runid_ee80935b39ac8eac3e848aa0e1f003f3f7be1c96_4_2.fastq\n"
     ]
    },
    {
     "name": "stdout",
     "output_type": "stream",
     "text": [
      "[########################################] | 100% Completed | 57.4s\n"
     ]
    },
    {
     "name": "stderr",
     "output_type": "stream",
     "text": [
      "[13:38:30 - __main__] Saving to file: /path/to/data/MinION_sequencing_data_20190830/guppy_3.2.2_08_30_2019_run_01_exec_20190830/sw/fastq_runid_ee80935b39ac8eac3e848aa0e1f003f3f7be1c96_4_2.tsv\n",
      "[13:38:30 - __main__] Starting fastq (20 of 378)\n",
      "\t/path/to/data/MinION_sequencing_data_20190830/guppy_3.2.2_08_30_2019_run_01_exec_20190830/pass/fastq_runid_ee80935b39ac8eac3e848aa0e1f003f3f7be1c96_5_1.fastq\n"
     ]
    },
    {
     "name": "stdout",
     "output_type": "stream",
     "text": [
      "[########################################] | 100% Completed |  1min  6.0s\n"
     ]
    },
    {
     "name": "stderr",
     "output_type": "stream",
     "text": [
      "[13:39:36 - __main__] Saving to file: /path/to/data/MinION_sequencing_data_20190830/guppy_3.2.2_08_30_2019_run_01_exec_20190830/sw/fastq_runid_ee80935b39ac8eac3e848aa0e1f003f3f7be1c96_5_1.tsv\n",
      "[13:39:37 - __main__] Starting fastq (21 of 378)\n",
      "\t/path/to/data/MinION_sequencing_data_20190830/guppy_3.2.2_08_30_2019_run_01_exec_20190830/pass/fastq_runid_ee80935b39ac8eac3e848aa0e1f003f3f7be1c96_5_2.fastq\n"
     ]
    },
    {
     "name": "stdout",
     "output_type": "stream",
     "text": [
      "[########################################] | 100% Completed | 15.1s\n"
     ]
    },
    {
     "name": "stderr",
     "output_type": "stream",
     "text": [
      "[13:39:52 - __main__] Saving to file: /path/to/data/MinION_sequencing_data_20190830/guppy_3.2.2_08_30_2019_run_01_exec_20190830/sw/fastq_runid_ee80935b39ac8eac3e848aa0e1f003f3f7be1c96_5_2.tsv\n",
      "[13:39:52 - __main__] Starting fastq (22 of 378)\n",
      "\t/path/to/data/MinION_sequencing_data_20190830/guppy_3.2.2_08_30_2019_run_01_exec_20190830/pass/fastq_runid_ee80935b39ac8eac3e848aa0e1f003f3f7be1c96_6_0.fastq\n"
     ]
    },
    {
     "name": "stdout",
     "output_type": "stream",
     "text": [
      "[########################################] | 100% Completed | 58.6s\n"
     ]
    },
    {
     "name": "stderr",
     "output_type": "stream",
     "text": [
      "[13:40:51 - __main__] Saving to file: /path/to/data/MinION_sequencing_data_20190830/guppy_3.2.2_08_30_2019_run_01_exec_20190830/sw/fastq_runid_ee80935b39ac8eac3e848aa0e1f003f3f7be1c96_6_0.tsv\n",
      "[13:40:51 - __main__] Starting fastq (23 of 378)\n",
      "\t/path/to/data/MinION_sequencing_data_20190830/guppy_3.2.2_08_30_2019_run_01_exec_20190830/pass/fastq_runid_ee80935b39ac8eac3e848aa0e1f003f3f7be1c96_4_3.fastq\n"
     ]
    },
    {
     "name": "stdout",
     "output_type": "stream",
     "text": [
      "[########################################] | 100% Completed |  1.4s\n"
     ]
    },
    {
     "name": "stderr",
     "output_type": "stream",
     "text": [
      "[13:40:53 - __main__] Saving to file: /path/to/data/MinION_sequencing_data_20190830/guppy_3.2.2_08_30_2019_run_01_exec_20190830/sw/fastq_runid_ee80935b39ac8eac3e848aa0e1f003f3f7be1c96_4_3.tsv\n",
      "[13:40:53 - __main__] Starting fastq (24 of 378)\n",
      "\t/path/to/data/MinION_sequencing_data_20190830/guppy_3.2.2_08_30_2019_run_01_exec_20190830/pass/fastq_runid_ee80935b39ac8eac3e848aa0e1f003f3f7be1c96_5_3.fastq\n"
     ]
    },
    {
     "name": "stdout",
     "output_type": "stream",
     "text": [
      "[########################################] | 100% Completed | 20.8s\n"
     ]
    },
    {
     "name": "stderr",
     "output_type": "stream",
     "text": [
      "[13:41:14 - __main__] Saving to file: /path/to/data/MinION_sequencing_data_20190830/guppy_3.2.2_08_30_2019_run_01_exec_20190830/sw/fastq_runid_ee80935b39ac8eac3e848aa0e1f003f3f7be1c96_5_3.tsv\n",
      "[13:41:14 - __main__] Starting fastq (25 of 378)\n",
      "\t/path/to/data/MinION_sequencing_data_20190830/guppy_3.2.2_08_30_2019_run_01_exec_20190830/pass/fastq_runid_ee80935b39ac8eac3e848aa0e1f003f3f7be1c96_6_1.fastq\n"
     ]
    },
    {
     "name": "stdout",
     "output_type": "stream",
     "text": [
      "[########################################] | 100% Completed | 38.0s\n"
     ]
    },
    {
     "name": "stderr",
     "output_type": "stream",
     "text": [
      "[13:41:52 - __main__] Saving to file: /path/to/data/MinION_sequencing_data_20190830/guppy_3.2.2_08_30_2019_run_01_exec_20190830/sw/fastq_runid_ee80935b39ac8eac3e848aa0e1f003f3f7be1c96_6_1.tsv\n",
      "[13:41:52 - __main__] Starting fastq (26 of 378)\n",
      "\t/path/to/data/MinION_sequencing_data_20190830/guppy_3.2.2_08_30_2019_run_01_exec_20190830/pass/fastq_runid_ee80935b39ac8eac3e848aa0e1f003f3f7be1c96_6_2.fastq\n"
     ]
    },
    {
     "name": "stdout",
     "output_type": "stream",
     "text": [
      "[########################################] | 100% Completed | 23.6s\n"
     ]
    },
    {
     "name": "stderr",
     "output_type": "stream",
     "text": [
      "[13:42:16 - __main__] Saving to file: /path/to/data/MinION_sequencing_data_20190830/guppy_3.2.2_08_30_2019_run_01_exec_20190830/sw/fastq_runid_ee80935b39ac8eac3e848aa0e1f003f3f7be1c96_6_2.tsv\n",
      "[13:42:16 - __main__] Starting fastq (27 of 378)\n",
      "\t/path/to/data/MinION_sequencing_data_20190830/guppy_3.2.2_08_30_2019_run_01_exec_20190830/pass/fastq_runid_ee80935b39ac8eac3e848aa0e1f003f3f7be1c96_6_3.fastq\n"
     ]
    },
    {
     "name": "stdout",
     "output_type": "stream",
     "text": [
      "[########################################] | 100% Completed | 27.6s\n"
     ]
    },
    {
     "name": "stderr",
     "output_type": "stream",
     "text": [
      "[13:42:44 - __main__] Saving to file: /path/to/data/MinION_sequencing_data_20190830/guppy_3.2.2_08_30_2019_run_01_exec_20190830/sw/fastq_runid_ee80935b39ac8eac3e848aa0e1f003f3f7be1c96_6_3.tsv\n",
      "[13:42:44 - __main__] Starting fastq (28 of 378)\n",
      "\t/path/to/data/MinION_sequencing_data_20190830/guppy_3.2.2_08_30_2019_run_01_exec_20190830/pass/fastq_runid_ee80935b39ac8eac3e848aa0e1f003f3f7be1c96_7_0.fastq\n"
     ]
    },
    {
     "name": "stdout",
     "output_type": "stream",
     "text": [
      "[########################################] | 100% Completed | 36.7s\n"
     ]
    },
    {
     "name": "stderr",
     "output_type": "stream",
     "text": [
      "[13:43:21 - __main__] Saving to file: /path/to/data/MinION_sequencing_data_20190830/guppy_3.2.2_08_30_2019_run_01_exec_20190830/sw/fastq_runid_ee80935b39ac8eac3e848aa0e1f003f3f7be1c96_7_0.tsv\n",
      "[13:43:21 - __main__] Starting fastq (29 of 378)\n",
      "\t/path/to/data/MinION_sequencing_data_20190830/guppy_3.2.2_08_30_2019_run_01_exec_20190830/pass/fastq_runid_ee80935b39ac8eac3e848aa0e1f003f3f7be1c96_7_1.fastq\n"
     ]
    },
    {
     "name": "stdout",
     "output_type": "stream",
     "text": [
      "[########################################] | 100% Completed | 36.1s\n"
     ]
    },
    {
     "name": "stderr",
     "output_type": "stream",
     "text": [
      "[13:43:58 - __main__] Saving to file: /path/to/data/MinION_sequencing_data_20190830/guppy_3.2.2_08_30_2019_run_01_exec_20190830/sw/fastq_runid_ee80935b39ac8eac3e848aa0e1f003f3f7be1c96_7_1.tsv\n",
      "[13:43:58 - __main__] Starting fastq (30 of 378)\n",
      "\t/path/to/data/MinION_sequencing_data_20190830/guppy_3.2.2_08_30_2019_run_01_exec_20190830/pass/fastq_runid_ee80935b39ac8eac3e848aa0e1f003f3f7be1c96_7_2.fastq\n"
     ]
    },
    {
     "name": "stdout",
     "output_type": "stream",
     "text": [
      "[########################################] | 100% Completed | 53.7s\n"
     ]
    },
    {
     "name": "stderr",
     "output_type": "stream",
     "text": [
      "[13:44:52 - __main__] Saving to file: /path/to/data/MinION_sequencing_data_20190830/guppy_3.2.2_08_30_2019_run_01_exec_20190830/sw/fastq_runid_ee80935b39ac8eac3e848aa0e1f003f3f7be1c96_7_2.tsv\n",
      "[13:44:52 - __main__] Starting fastq (31 of 378)\n",
      "\t/path/to/data/MinION_sequencing_data_20190830/guppy_3.2.2_08_30_2019_run_01_exec_20190830/pass/fastq_runid_ee80935b39ac8eac3e848aa0e1f003f3f7be1c96_7_3.fastq\n"
     ]
    },
    {
     "name": "stdout",
     "output_type": "stream",
     "text": [
      "[########################################] | 100% Completed | 24.8s\n"
     ]
    },
    {
     "name": "stderr",
     "output_type": "stream",
     "text": [
      "[13:45:17 - __main__] Saving to file: /path/to/data/MinION_sequencing_data_20190830/guppy_3.2.2_08_30_2019_run_01_exec_20190830/sw/fastq_runid_ee80935b39ac8eac3e848aa0e1f003f3f7be1c96_7_3.tsv\n",
      "[13:45:17 - __main__] Starting fastq (32 of 378)\n",
      "\t/path/to/data/MinION_sequencing_data_20190830/guppy_3.2.2_08_30_2019_run_01_exec_20190830/pass/fastq_runid_ee80935b39ac8eac3e848aa0e1f003f3f7be1c96_8_0.fastq\n"
     ]
    },
    {
     "name": "stdout",
     "output_type": "stream",
     "text": [
      "[########################################] | 100% Completed |  1min 15.6s\n"
     ]
    },
    {
     "name": "stderr",
     "output_type": "stream",
     "text": [
      "[13:46:33 - __main__] Saving to file: /path/to/data/MinION_sequencing_data_20190830/guppy_3.2.2_08_30_2019_run_01_exec_20190830/sw/fastq_runid_ee80935b39ac8eac3e848aa0e1f003f3f7be1c96_8_0.tsv\n",
      "[13:46:33 - __main__] Starting fastq (33 of 378)\n",
      "\t/path/to/data/MinION_sequencing_data_20190830/guppy_3.2.2_08_30_2019_run_01_exec_20190830/pass/fastq_runid_ee80935b39ac8eac3e848aa0e1f003f3f7be1c96_8_1.fastq\n"
     ]
    },
    {
     "name": "stdout",
     "output_type": "stream",
     "text": [
      "[########################################] | 100% Completed | 31.5s\n"
     ]
    },
    {
     "name": "stderr",
     "output_type": "stream",
     "text": [
      "[13:47:05 - __main__] Saving to file: /path/to/data/MinION_sequencing_data_20190830/guppy_3.2.2_08_30_2019_run_01_exec_20190830/sw/fastq_runid_ee80935b39ac8eac3e848aa0e1f003f3f7be1c96_8_1.tsv\n",
      "[13:47:05 - __main__] Starting fastq (34 of 378)\n",
      "\t/path/to/data/MinION_sequencing_data_20190830/guppy_3.2.2_08_30_2019_run_01_exec_20190830/pass/fastq_runid_ee80935b39ac8eac3e848aa0e1f003f3f7be1c96_8_2.fastq\n"
     ]
    },
    {
     "name": "stdout",
     "output_type": "stream",
     "text": [
      "[########################################] | 100% Completed | 31.3s\n"
     ]
    },
    {
     "name": "stderr",
     "output_type": "stream",
     "text": [
      "[13:47:37 - __main__] Saving to file: /path/to/data/MinION_sequencing_data_20190830/guppy_3.2.2_08_30_2019_run_01_exec_20190830/sw/fastq_runid_ee80935b39ac8eac3e848aa0e1f003f3f7be1c96_8_2.tsv\n",
      "[13:47:37 - __main__] Starting fastq (35 of 378)\n",
      "\t/path/to/data/MinION_sequencing_data_20190830/guppy_3.2.2_08_30_2019_run_01_exec_20190830/pass/fastq_runid_ee80935b39ac8eac3e848aa0e1f003f3f7be1c96_8_3.fastq\n"
     ]
    },
    {
     "name": "stdout",
     "output_type": "stream",
     "text": [
      "[########################################] | 100% Completed | 15.7s\n"
     ]
    },
    {
     "name": "stderr",
     "output_type": "stream",
     "text": [
      "[13:47:53 - __main__] Saving to file: /path/to/data/MinION_sequencing_data_20190830/guppy_3.2.2_08_30_2019_run_01_exec_20190830/sw/fastq_runid_ee80935b39ac8eac3e848aa0e1f003f3f7be1c96_8_3.tsv\n",
      "[13:47:53 - __main__] Starting fastq (36 of 378)\n",
      "\t/path/to/data/MinION_sequencing_data_20190830/guppy_3.2.2_08_30_2019_run_01_exec_20190830/pass/fastq_runid_ee80935b39ac8eac3e848aa0e1f003f3f7be1c96_9_0.fastq\n"
     ]
    },
    {
     "name": "stdout",
     "output_type": "stream",
     "text": [
      "[########################################] | 100% Completed | 27.5s\n"
     ]
    },
    {
     "name": "stderr",
     "output_type": "stream",
     "text": [
      "[13:48:21 - __main__] Saving to file: /path/to/data/MinION_sequencing_data_20190830/guppy_3.2.2_08_30_2019_run_01_exec_20190830/sw/fastq_runid_ee80935b39ac8eac3e848aa0e1f003f3f7be1c96_9_0.tsv\n",
      "[13:48:21 - __main__] Starting fastq (37 of 378)\n",
      "\t/path/to/data/MinION_sequencing_data_20190830/guppy_3.2.2_08_30_2019_run_01_exec_20190830/pass/fastq_runid_ee80935b39ac8eac3e848aa0e1f003f3f7be1c96_9_1.fastq\n"
     ]
    },
    {
     "name": "stdout",
     "output_type": "stream",
     "text": [
      "[########################################] | 100% Completed | 39.3s\n"
     ]
    },
    {
     "name": "stderr",
     "output_type": "stream",
     "text": [
      "[13:49:00 - __main__] Saving to file: /path/to/data/MinION_sequencing_data_20190830/guppy_3.2.2_08_30_2019_run_01_exec_20190830/sw/fastq_runid_ee80935b39ac8eac3e848aa0e1f003f3f7be1c96_9_1.tsv\n",
      "[13:49:00 - __main__] Starting fastq (38 of 378)\n",
      "\t/path/to/data/MinION_sequencing_data_20190830/guppy_3.2.2_08_30_2019_run_01_exec_20190830/pass/fastq_runid_ee80935b39ac8eac3e848aa0e1f003f3f7be1c96_9_2.fastq\n"
     ]
    },
    {
     "name": "stdout",
     "output_type": "stream",
     "text": [
      "[########################################] | 100% Completed | 38.9s\n"
     ]
    },
    {
     "name": "stderr",
     "output_type": "stream",
     "text": [
      "[13:49:40 - __main__] Saving to file: /path/to/data/MinION_sequencing_data_20190830/guppy_3.2.2_08_30_2019_run_01_exec_20190830/sw/fastq_runid_ee80935b39ac8eac3e848aa0e1f003f3f7be1c96_9_2.tsv\n",
      "[13:49:40 - __main__] Starting fastq (39 of 378)\n",
      "\t/path/to/data/MinION_sequencing_data_20190830/guppy_3.2.2_08_30_2019_run_01_exec_20190830/pass/fastq_runid_ee80935b39ac8eac3e848aa0e1f003f3f7be1c96_9_3.fastq\n"
     ]
    },
    {
     "name": "stdout",
     "output_type": "stream",
     "text": [
      "[########################################] | 100% Completed | 44.1s\n"
     ]
    },
    {
     "name": "stderr",
     "output_type": "stream",
     "text": [
      "[13:50:24 - __main__] Saving to file: /path/to/data/MinION_sequencing_data_20190830/guppy_3.2.2_08_30_2019_run_01_exec_20190830/sw/fastq_runid_ee80935b39ac8eac3e848aa0e1f003f3f7be1c96_9_3.tsv\n",
      "[13:50:24 - __main__] Starting fastq (40 of 378)\n",
      "\t/path/to/data/MinION_sequencing_data_20190830/guppy_3.2.2_08_30_2019_run_01_exec_20190830/pass/fastq_runid_ee80935b39ac8eac3e848aa0e1f003f3f7be1c96_10_0.fastq\n"
     ]
    },
    {
     "name": "stdout",
     "output_type": "stream",
     "text": [
      "[########################################] | 100% Completed |  1min 47.5s\n"
     ]
    },
    {
     "name": "stderr",
     "output_type": "stream",
     "text": [
      "[13:52:12 - __main__] Saving to file: /path/to/data/MinION_sequencing_data_20190830/guppy_3.2.2_08_30_2019_run_01_exec_20190830/sw/fastq_runid_ee80935b39ac8eac3e848aa0e1f003f3f7be1c96_10_0.tsv\n",
      "[13:52:12 - __main__] Starting fastq (41 of 378)\n",
      "\t/path/to/data/MinION_sequencing_data_20190830/guppy_3.2.2_08_30_2019_run_01_exec_20190830/pass/fastq_runid_ee80935b39ac8eac3e848aa0e1f003f3f7be1c96_10_1.fastq\n"
     ]
    },
    {
     "name": "stdout",
     "output_type": "stream",
     "text": [
      "[########################################] | 100% Completed | 14.0s\n"
     ]
    },
    {
     "name": "stderr",
     "output_type": "stream",
     "text": [
      "[13:52:26 - __main__] Saving to file: /path/to/data/MinION_sequencing_data_20190830/guppy_3.2.2_08_30_2019_run_01_exec_20190830/sw/fastq_runid_ee80935b39ac8eac3e848aa0e1f003f3f7be1c96_10_1.tsv\n",
      "[13:52:27 - __main__] Starting fastq (42 of 378)\n",
      "\t/path/to/data/MinION_sequencing_data_20190830/guppy_3.2.2_08_30_2019_run_01_exec_20190830/pass/fastq_runid_ee80935b39ac8eac3e848aa0e1f003f3f7be1c96_11_0.fastq\n"
     ]
    },
    {
     "name": "stdout",
     "output_type": "stream",
     "text": [
      "[########################################] | 100% Completed |  1min 10.9s\n"
     ]
    },
    {
     "name": "stderr",
     "output_type": "stream",
     "text": [
      "[13:53:38 - __main__] Saving to file: /path/to/data/MinION_sequencing_data_20190830/guppy_3.2.2_08_30_2019_run_01_exec_20190830/sw/fastq_runid_ee80935b39ac8eac3e848aa0e1f003f3f7be1c96_11_0.tsv\n",
      "[13:53:38 - __main__] Starting fastq (43 of 378)\n",
      "\t/path/to/data/MinION_sequencing_data_20190830/guppy_3.2.2_08_30_2019_run_01_exec_20190830/pass/fastq_runid_ee80935b39ac8eac3e848aa0e1f003f3f7be1c96_10_2.fastq\n"
     ]
    },
    {
     "name": "stdout",
     "output_type": "stream",
     "text": [
      "[########################################] | 100% Completed | 25.9s\n"
     ]
    },
    {
     "name": "stderr",
     "output_type": "stream",
     "text": [
      "[13:54:04 - __main__] Saving to file: /path/to/data/MinION_sequencing_data_20190830/guppy_3.2.2_08_30_2019_run_01_exec_20190830/sw/fastq_runid_ee80935b39ac8eac3e848aa0e1f003f3f7be1c96_10_2.tsv\n",
      "[13:54:04 - __main__] Starting fastq (44 of 378)\n",
      "\t/path/to/data/MinION_sequencing_data_20190830/guppy_3.2.2_08_30_2019_run_01_exec_20190830/pass/fastq_runid_ee80935b39ac8eac3e848aa0e1f003f3f7be1c96_10_3.fastq\n"
     ]
    },
    {
     "name": "stdout",
     "output_type": "stream",
     "text": [
      "[########################################] | 100% Completed |  1.0s\n"
     ]
    },
    {
     "name": "stderr",
     "output_type": "stream",
     "text": [
      "[13:54:06 - __main__] Saving to file: /path/to/data/MinION_sequencing_data_20190830/guppy_3.2.2_08_30_2019_run_01_exec_20190830/sw/fastq_runid_ee80935b39ac8eac3e848aa0e1f003f3f7be1c96_10_3.tsv\n",
      "[13:54:06 - __main__] Starting fastq (45 of 378)\n",
      "\t/path/to/data/MinION_sequencing_data_20190830/guppy_3.2.2_08_30_2019_run_01_exec_20190830/pass/fastq_runid_ee80935b39ac8eac3e848aa0e1f003f3f7be1c96_11_1.fastq\n"
     ]
    },
    {
     "name": "stdout",
     "output_type": "stream",
     "text": [
      "[########################################] | 100% Completed | 37.0s\n"
     ]
    },
    {
     "name": "stderr",
     "output_type": "stream",
     "text": [
      "[13:54:43 - __main__] Saving to file: /path/to/data/MinION_sequencing_data_20190830/guppy_3.2.2_08_30_2019_run_01_exec_20190830/sw/fastq_runid_ee80935b39ac8eac3e848aa0e1f003f3f7be1c96_11_1.tsv\n",
      "[13:54:43 - __main__] Starting fastq (46 of 378)\n",
      "\t/path/to/data/MinION_sequencing_data_20190830/guppy_3.2.2_08_30_2019_run_01_exec_20190830/pass/fastq_runid_ee80935b39ac8eac3e848aa0e1f003f3f7be1c96_11_2.fastq\n"
     ]
    },
    {
     "name": "stdout",
     "output_type": "stream",
     "text": [
      "[########################################] | 100% Completed | 32.5s\n"
     ]
    },
    {
     "name": "stderr",
     "output_type": "stream",
     "text": [
      "[13:55:16 - __main__] Saving to file: /path/to/data/MinION_sequencing_data_20190830/guppy_3.2.2_08_30_2019_run_01_exec_20190830/sw/fastq_runid_ee80935b39ac8eac3e848aa0e1f003f3f7be1c96_11_2.tsv\n",
      "[13:55:16 - __main__] Starting fastq (47 of 378)\n",
      "\t/path/to/data/MinION_sequencing_data_20190830/guppy_3.2.2_08_30_2019_run_01_exec_20190830/pass/fastq_runid_ee80935b39ac8eac3e848aa0e1f003f3f7be1c96_11_3.fastq\n"
     ]
    },
    {
     "name": "stdout",
     "output_type": "stream",
     "text": [
      "[########################################] | 100% Completed |  9.6s\n"
     ]
    },
    {
     "name": "stderr",
     "output_type": "stream",
     "text": [
      "[13:55:26 - __main__] Saving to file: /path/to/data/MinION_sequencing_data_20190830/guppy_3.2.2_08_30_2019_run_01_exec_20190830/sw/fastq_runid_ee80935b39ac8eac3e848aa0e1f003f3f7be1c96_11_3.tsv\n",
      "[13:55:26 - __main__] Starting fastq (48 of 378)\n",
      "\t/path/to/data/MinION_sequencing_data_20190830/guppy_3.2.2_08_30_2019_run_01_exec_20190830/pass/fastq_runid_ee80935b39ac8eac3e848aa0e1f003f3f7be1c96_12_0.fastq\n"
     ]
    },
    {
     "name": "stdout",
     "output_type": "stream",
     "text": [
      "[########################################] | 100% Completed | 50.2s\n"
     ]
    },
    {
     "name": "stderr",
     "output_type": "stream",
     "text": [
      "[13:56:16 - __main__] Saving to file: /path/to/data/MinION_sequencing_data_20190830/guppy_3.2.2_08_30_2019_run_01_exec_20190830/sw/fastq_runid_ee80935b39ac8eac3e848aa0e1f003f3f7be1c96_12_0.tsv\n",
      "[13:56:16 - __main__] Starting fastq (49 of 378)\n",
      "\t/path/to/data/MinION_sequencing_data_20190830/guppy_3.2.2_08_30_2019_run_01_exec_20190830/pass/fastq_runid_ee80935b39ac8eac3e848aa0e1f003f3f7be1c96_12_1.fastq\n"
     ]
    },
    {
     "name": "stdout",
     "output_type": "stream",
     "text": [
      "[########################################] | 100% Completed | 46.2s\n"
     ]
    },
    {
     "name": "stderr",
     "output_type": "stream",
     "text": [
      "[13:57:03 - __main__] Saving to file: /path/to/data/MinION_sequencing_data_20190830/guppy_3.2.2_08_30_2019_run_01_exec_20190830/sw/fastq_runid_ee80935b39ac8eac3e848aa0e1f003f3f7be1c96_12_1.tsv\n",
      "[13:57:03 - __main__] Starting fastq (50 of 378)\n",
      "\t/path/to/data/MinION_sequencing_data_20190830/guppy_3.2.2_08_30_2019_run_01_exec_20190830/pass/fastq_runid_ee80935b39ac8eac3e848aa0e1f003f3f7be1c96_12_2.fastq\n"
     ]
    },
    {
     "name": "stdout",
     "output_type": "stream",
     "text": [
      "[########################################] | 100% Completed | 28.6s\n"
     ]
    },
    {
     "name": "stderr",
     "output_type": "stream",
     "text": [
      "[13:57:32 - __main__] Saving to file: /path/to/data/MinION_sequencing_data_20190830/guppy_3.2.2_08_30_2019_run_01_exec_20190830/sw/fastq_runid_ee80935b39ac8eac3e848aa0e1f003f3f7be1c96_12_2.tsv\n",
      "[13:57:32 - __main__] Starting fastq (51 of 378)\n",
      "\t/path/to/data/MinION_sequencing_data_20190830/guppy_3.2.2_08_30_2019_run_01_exec_20190830/pass/fastq_runid_ee80935b39ac8eac3e848aa0e1f003f3f7be1c96_12_3.fastq\n"
     ]
    },
    {
     "name": "stdout",
     "output_type": "stream",
     "text": [
      "[########################################] | 100% Completed | 26.4s\n"
     ]
    },
    {
     "name": "stderr",
     "output_type": "stream",
     "text": [
      "[13:57:59 - __main__] Saving to file: /path/to/data/MinION_sequencing_data_20190830/guppy_3.2.2_08_30_2019_run_01_exec_20190830/sw/fastq_runid_ee80935b39ac8eac3e848aa0e1f003f3f7be1c96_12_3.tsv\n",
      "[13:57:59 - __main__] Starting fastq (52 of 378)\n",
      "\t/path/to/data/MinION_sequencing_data_20190830/guppy_3.2.2_08_30_2019_run_01_exec_20190830/pass/fastq_runid_ee80935b39ac8eac3e848aa0e1f003f3f7be1c96_13_0.fastq\n"
     ]
    },
    {
     "name": "stdout",
     "output_type": "stream",
     "text": [
      "[########################################] | 100% Completed | 40.8s\n"
     ]
    },
    {
     "name": "stderr",
     "output_type": "stream",
     "text": [
      "[13:58:40 - __main__] Saving to file: /path/to/data/MinION_sequencing_data_20190830/guppy_3.2.2_08_30_2019_run_01_exec_20190830/sw/fastq_runid_ee80935b39ac8eac3e848aa0e1f003f3f7be1c96_13_0.tsv\n",
      "[13:58:40 - __main__] Starting fastq (53 of 378)\n",
      "\t/path/to/data/MinION_sequencing_data_20190830/guppy_3.2.2_08_30_2019_run_01_exec_20190830/pass/fastq_runid_ee80935b39ac8eac3e848aa0e1f003f3f7be1c96_13_1.fastq\n"
     ]
    },
    {
     "name": "stdout",
     "output_type": "stream",
     "text": [
      "[########################################] | 100% Completed | 35.1s\n"
     ]
    },
    {
     "name": "stderr",
     "output_type": "stream",
     "text": [
      "[13:59:15 - __main__] Saving to file: /path/to/data/MinION_sequencing_data_20190830/guppy_3.2.2_08_30_2019_run_01_exec_20190830/sw/fastq_runid_ee80935b39ac8eac3e848aa0e1f003f3f7be1c96_13_1.tsv\n",
      "[13:59:16 - __main__] Starting fastq (54 of 378)\n",
      "\t/path/to/data/MinION_sequencing_data_20190830/guppy_3.2.2_08_30_2019_run_01_exec_20190830/pass/fastq_runid_ee80935b39ac8eac3e848aa0e1f003f3f7be1c96_13_2.fastq\n"
     ]
    },
    {
     "name": "stdout",
     "output_type": "stream",
     "text": [
      "[########################################] | 100% Completed | 46.6s\n"
     ]
    },
    {
     "name": "stderr",
     "output_type": "stream",
     "text": [
      "[14:00:02 - __main__] Saving to file: /path/to/data/MinION_sequencing_data_20190830/guppy_3.2.2_08_30_2019_run_01_exec_20190830/sw/fastq_runid_ee80935b39ac8eac3e848aa0e1f003f3f7be1c96_13_2.tsv\n",
      "[14:00:02 - __main__] Starting fastq (55 of 378)\n",
      "\t/path/to/data/MinION_sequencing_data_20190830/guppy_3.2.2_08_30_2019_run_01_exec_20190830/pass/fastq_runid_ee80935b39ac8eac3e848aa0e1f003f3f7be1c96_13_3.fastq\n"
     ]
    },
    {
     "name": "stdout",
     "output_type": "stream",
     "text": [
      "[########################################] | 100% Completed | 27.8s\n"
     ]
    },
    {
     "name": "stderr",
     "output_type": "stream",
     "text": [
      "[14:00:31 - __main__] Saving to file: /path/to/data/MinION_sequencing_data_20190830/guppy_3.2.2_08_30_2019_run_01_exec_20190830/sw/fastq_runid_ee80935b39ac8eac3e848aa0e1f003f3f7be1c96_13_3.tsv\n",
      "[14:00:31 - __main__] Starting fastq (56 of 378)\n",
      "\t/path/to/data/MinION_sequencing_data_20190830/guppy_3.2.2_08_30_2019_run_01_exec_20190830/pass/fastq_runid_ee80935b39ac8eac3e848aa0e1f003f3f7be1c96_14_0.fastq\n"
     ]
    },
    {
     "name": "stdout",
     "output_type": "stream",
     "text": [
      "[########################################] | 100% Completed |  1min  0.3s\n"
     ]
    },
    {
     "name": "stderr",
     "output_type": "stream",
     "text": [
      "[14:01:31 - __main__] Saving to file: /path/to/data/MinION_sequencing_data_20190830/guppy_3.2.2_08_30_2019_run_01_exec_20190830/sw/fastq_runid_ee80935b39ac8eac3e848aa0e1f003f3f7be1c96_14_0.tsv\n",
      "[14:01:31 - __main__] Starting fastq (57 of 378)\n",
      "\t/path/to/data/MinION_sequencing_data_20190830/guppy_3.2.2_08_30_2019_run_01_exec_20190830/pass/fastq_runid_ee80935b39ac8eac3e848aa0e1f003f3f7be1c96_14_1.fastq\n"
     ]
    },
    {
     "name": "stdout",
     "output_type": "stream",
     "text": [
      "[########################################] | 100% Completed |  7.1s\n"
     ]
    },
    {
     "name": "stderr",
     "output_type": "stream",
     "text": [
      "[14:01:39 - __main__] Saving to file: /path/to/data/MinION_sequencing_data_20190830/guppy_3.2.2_08_30_2019_run_01_exec_20190830/sw/fastq_runid_ee80935b39ac8eac3e848aa0e1f003f3f7be1c96_14_1.tsv\n",
      "[14:01:39 - __main__] Starting fastq (58 of 378)\n",
      "\t/path/to/data/MinION_sequencing_data_20190830/guppy_3.2.2_08_30_2019_run_01_exec_20190830/pass/fastq_runid_ee80935b39ac8eac3e848aa0e1f003f3f7be1c96_14_2.fastq\n"
     ]
    },
    {
     "name": "stdout",
     "output_type": "stream",
     "text": [
      "[########################################] | 100% Completed | 59.1s\n"
     ]
    },
    {
     "name": "stderr",
     "output_type": "stream",
     "text": [
      "[14:02:38 - __main__] Saving to file: /path/to/data/MinION_sequencing_data_20190830/guppy_3.2.2_08_30_2019_run_01_exec_20190830/sw/fastq_runid_ee80935b39ac8eac3e848aa0e1f003f3f7be1c96_14_2.tsv\n",
      "[14:02:38 - __main__] Starting fastq (59 of 378)\n",
      "\t/path/to/data/MinION_sequencing_data_20190830/guppy_3.2.2_08_30_2019_run_01_exec_20190830/pass/fastq_runid_ee80935b39ac8eac3e848aa0e1f003f3f7be1c96_14_3.fastq\n"
     ]
    },
    {
     "name": "stdout",
     "output_type": "stream",
     "text": [
      "[########################################] | 100% Completed | 22.6s\n"
     ]
    },
    {
     "name": "stderr",
     "output_type": "stream",
     "text": [
      "[14:03:01 - __main__] Saving to file: /path/to/data/MinION_sequencing_data_20190830/guppy_3.2.2_08_30_2019_run_01_exec_20190830/sw/fastq_runid_ee80935b39ac8eac3e848aa0e1f003f3f7be1c96_14_3.tsv\n",
      "[14:03:01 - __main__] Starting fastq (60 of 378)\n",
      "\t/path/to/data/MinION_sequencing_data_20190830/guppy_3.2.2_08_30_2019_run_01_exec_20190830/pass/fastq_runid_ee80935b39ac8eac3e848aa0e1f003f3f7be1c96_15_0.fastq\n"
     ]
    },
    {
     "name": "stdout",
     "output_type": "stream",
     "text": [
      "[########################################] | 100% Completed | 47.7s\n"
     ]
    },
    {
     "name": "stderr",
     "output_type": "stream",
     "text": [
      "[14:03:50 - __main__] Saving to file: /path/to/data/MinION_sequencing_data_20190830/guppy_3.2.2_08_30_2019_run_01_exec_20190830/sw/fastq_runid_ee80935b39ac8eac3e848aa0e1f003f3f7be1c96_15_0.tsv\n",
      "[14:03:50 - __main__] Starting fastq (61 of 378)\n",
      "\t/path/to/data/MinION_sequencing_data_20190830/guppy_3.2.2_08_30_2019_run_01_exec_20190830/pass/fastq_runid_ee80935b39ac8eac3e848aa0e1f003f3f7be1c96_15_1.fastq\n"
     ]
    },
    {
     "name": "stdout",
     "output_type": "stream",
     "text": [
      "[########################################] | 100% Completed |  1min  4.0s\n"
     ]
    },
    {
     "name": "stderr",
     "output_type": "stream",
     "text": [
      "[14:04:54 - __main__] Saving to file: /path/to/data/MinION_sequencing_data_20190830/guppy_3.2.2_08_30_2019_run_01_exec_20190830/sw/fastq_runid_ee80935b39ac8eac3e848aa0e1f003f3f7be1c96_15_1.tsv\n",
      "[14:04:54 - __main__] Starting fastq (62 of 378)\n",
      "\t/path/to/data/MinION_sequencing_data_20190830/guppy_3.2.2_08_30_2019_run_01_exec_20190830/pass/fastq_runid_ee80935b39ac8eac3e848aa0e1f003f3f7be1c96_15_2.fastq\n"
     ]
    },
    {
     "name": "stdout",
     "output_type": "stream",
     "text": [
      "[########################################] | 100% Completed | 20.5s\n"
     ]
    },
    {
     "name": "stderr",
     "output_type": "stream",
     "text": [
      "[14:05:15 - __main__] Saving to file: /path/to/data/MinION_sequencing_data_20190830/guppy_3.2.2_08_30_2019_run_01_exec_20190830/sw/fastq_runid_ee80935b39ac8eac3e848aa0e1f003f3f7be1c96_15_2.tsv\n",
      "[14:05:15 - __main__] Starting fastq (63 of 378)\n",
      "\t/path/to/data/MinION_sequencing_data_20190830/guppy_3.2.2_08_30_2019_run_01_exec_20190830/pass/fastq_runid_ee80935b39ac8eac3e848aa0e1f003f3f7be1c96_16_0.fastq\n"
     ]
    },
    {
     "name": "stdout",
     "output_type": "stream",
     "text": [
      "[########################################] | 100% Completed | 50.3s\n"
     ]
    },
    {
     "name": "stderr",
     "output_type": "stream",
     "text": [
      "[14:06:06 - __main__] Saving to file: /path/to/data/MinION_sequencing_data_20190830/guppy_3.2.2_08_30_2019_run_01_exec_20190830/sw/fastq_runid_ee80935b39ac8eac3e848aa0e1f003f3f7be1c96_16_0.tsv\n",
      "[14:06:06 - __main__] Starting fastq (64 of 378)\n",
      "\t/path/to/data/MinION_sequencing_data_20190830/guppy_3.2.2_08_30_2019_run_01_exec_20190830/pass/fastq_runid_ee80935b39ac8eac3e848aa0e1f003f3f7be1c96_15_3.fastq\n"
     ]
    },
    {
     "name": "stdout",
     "output_type": "stream",
     "text": [
      "[########################################] | 100% Completed | 17.3s\n"
     ]
    },
    {
     "name": "stderr",
     "output_type": "stream",
     "text": [
      "[14:06:23 - __main__] Saving to file: /path/to/data/MinION_sequencing_data_20190830/guppy_3.2.2_08_30_2019_run_01_exec_20190830/sw/fastq_runid_ee80935b39ac8eac3e848aa0e1f003f3f7be1c96_15_3.tsv\n",
      "[14:06:23 - __main__] Starting fastq (65 of 378)\n",
      "\t/path/to/data/MinION_sequencing_data_20190830/guppy_3.2.2_08_30_2019_run_01_exec_20190830/pass/fastq_runid_ee80935b39ac8eac3e848aa0e1f003f3f7be1c96_16_1.fastq\n"
     ]
    },
    {
     "name": "stdout",
     "output_type": "stream",
     "text": [
      "[########################################] | 100% Completed |  1min  9.7s\n"
     ]
    },
    {
     "name": "stderr",
     "output_type": "stream",
     "text": [
      "[14:07:33 - __main__] Saving to file: /path/to/data/MinION_sequencing_data_20190830/guppy_3.2.2_08_30_2019_run_01_exec_20190830/sw/fastq_runid_ee80935b39ac8eac3e848aa0e1f003f3f7be1c96_16_1.tsv\n",
      "[14:07:34 - __main__] Starting fastq (66 of 378)\n",
      "\t/path/to/data/MinION_sequencing_data_20190830/guppy_3.2.2_08_30_2019_run_01_exec_20190830/pass/fastq_runid_ee80935b39ac8eac3e848aa0e1f003f3f7be1c96_16_2.fastq\n"
     ]
    },
    {
     "name": "stdout",
     "output_type": "stream",
     "text": [
      "[########################################] | 100% Completed | 14.6s\n"
     ]
    },
    {
     "name": "stderr",
     "output_type": "stream",
     "text": [
      "[14:07:48 - __main__] Saving to file: /path/to/data/MinION_sequencing_data_20190830/guppy_3.2.2_08_30_2019_run_01_exec_20190830/sw/fastq_runid_ee80935b39ac8eac3e848aa0e1f003f3f7be1c96_16_2.tsv\n",
      "[14:07:48 - __main__] Starting fastq (67 of 378)\n",
      "\t/path/to/data/MinION_sequencing_data_20190830/guppy_3.2.2_08_30_2019_run_01_exec_20190830/pass/fastq_runid_ee80935b39ac8eac3e848aa0e1f003f3f7be1c96_17_0.fastq\n"
     ]
    },
    {
     "name": "stdout",
     "output_type": "stream",
     "text": [
      "[########################################] | 100% Completed | 57.4s\n"
     ]
    },
    {
     "name": "stderr",
     "output_type": "stream",
     "text": [
      "[14:08:46 - __main__] Saving to file: /path/to/data/MinION_sequencing_data_20190830/guppy_3.2.2_08_30_2019_run_01_exec_20190830/sw/fastq_runid_ee80935b39ac8eac3e848aa0e1f003f3f7be1c96_17_0.tsv\n",
      "[14:08:46 - __main__] Starting fastq (68 of 378)\n",
      "\t/path/to/data/MinION_sequencing_data_20190830/guppy_3.2.2_08_30_2019_run_01_exec_20190830/pass/fastq_runid_ee80935b39ac8eac3e848aa0e1f003f3f7be1c96_17_1.fastq\n"
     ]
    },
    {
     "name": "stdout",
     "output_type": "stream",
     "text": [
      "[########################################] | 100% Completed |  1min  6.4s\n"
     ]
    },
    {
     "name": "stderr",
     "output_type": "stream",
     "text": [
      "[14:09:53 - __main__] Saving to file: /path/to/data/MinION_sequencing_data_20190830/guppy_3.2.2_08_30_2019_run_01_exec_20190830/sw/fastq_runid_ee80935b39ac8eac3e848aa0e1f003f3f7be1c96_17_1.tsv\n",
      "[14:09:53 - __main__] Starting fastq (69 of 378)\n",
      "\t/path/to/data/MinION_sequencing_data_20190830/guppy_3.2.2_08_30_2019_run_01_exec_20190830/pass/fastq_runid_ee80935b39ac8eac3e848aa0e1f003f3f7be1c96_16_3.fastq\n"
     ]
    },
    {
     "name": "stdout",
     "output_type": "stream",
     "text": [
      "[########################################] | 100% Completed | 17.8s\n"
     ]
    },
    {
     "name": "stderr",
     "output_type": "stream",
     "text": [
      "[14:10:11 - __main__] Saving to file: /path/to/data/MinION_sequencing_data_20190830/guppy_3.2.2_08_30_2019_run_01_exec_20190830/sw/fastq_runid_ee80935b39ac8eac3e848aa0e1f003f3f7be1c96_16_3.tsv\n",
      "[14:10:11 - __main__] Starting fastq (70 of 378)\n",
      "\t/path/to/data/MinION_sequencing_data_20190830/guppy_3.2.2_08_30_2019_run_01_exec_20190830/pass/fastq_runid_ee80935b39ac8eac3e848aa0e1f003f3f7be1c96_17_2.fastq\n"
     ]
    },
    {
     "name": "stdout",
     "output_type": "stream",
     "text": [
      "[########################################] | 100% Completed | 11.5s\n"
     ]
    },
    {
     "name": "stderr",
     "output_type": "stream",
     "text": [
      "[14:10:23 - __main__] Saving to file: /path/to/data/MinION_sequencing_data_20190830/guppy_3.2.2_08_30_2019_run_01_exec_20190830/sw/fastq_runid_ee80935b39ac8eac3e848aa0e1f003f3f7be1c96_17_2.tsv\n",
      "[14:10:23 - __main__] Starting fastq (71 of 378)\n",
      "\t/path/to/data/MinION_sequencing_data_20190830/guppy_3.2.2_08_30_2019_run_01_exec_20190830/pass/fastq_runid_ee80935b39ac8eac3e848aa0e1f003f3f7be1c96_17_3.fastq\n"
     ]
    },
    {
     "name": "stdout",
     "output_type": "stream",
     "text": [
      "[########################################] | 100% Completed | 11.6s\n"
     ]
    },
    {
     "name": "stderr",
     "output_type": "stream",
     "text": [
      "[14:10:35 - __main__] Saving to file: /path/to/data/MinION_sequencing_data_20190830/guppy_3.2.2_08_30_2019_run_01_exec_20190830/sw/fastq_runid_ee80935b39ac8eac3e848aa0e1f003f3f7be1c96_17_3.tsv\n",
      "[14:10:35 - __main__] Starting fastq (72 of 378)\n",
      "\t/path/to/data/MinION_sequencing_data_20190830/guppy_3.2.2_08_30_2019_run_01_exec_20190830/pass/fastq_runid_ee80935b39ac8eac3e848aa0e1f003f3f7be1c96_18_0.fastq\n"
     ]
    },
    {
     "name": "stdout",
     "output_type": "stream",
     "text": [
      "[########################################] | 100% Completed | 36.1s\n"
     ]
    },
    {
     "name": "stderr",
     "output_type": "stream",
     "text": [
      "[14:11:11 - __main__] Saving to file: /path/to/data/MinION_sequencing_data_20190830/guppy_3.2.2_08_30_2019_run_01_exec_20190830/sw/fastq_runid_ee80935b39ac8eac3e848aa0e1f003f3f7be1c96_18_0.tsv\n",
      "[14:11:12 - __main__] Starting fastq (73 of 378)\n",
      "\t/path/to/data/MinION_sequencing_data_20190830/guppy_3.2.2_08_30_2019_run_01_exec_20190830/pass/fastq_runid_ee80935b39ac8eac3e848aa0e1f003f3f7be1c96_18_1.fastq\n"
     ]
    },
    {
     "name": "stdout",
     "output_type": "stream",
     "text": [
      "[########################################] | 100% Completed |  1min 31.7s\n"
     ]
    },
    {
     "name": "stderr",
     "output_type": "stream",
     "text": [
      "[14:12:44 - __main__] Saving to file: /path/to/data/MinION_sequencing_data_20190830/guppy_3.2.2_08_30_2019_run_01_exec_20190830/sw/fastq_runid_ee80935b39ac8eac3e848aa0e1f003f3f7be1c96_18_1.tsv\n",
      "[14:12:44 - __main__] Starting fastq (74 of 378)\n",
      "\t/path/to/data/MinION_sequencing_data_20190830/guppy_3.2.2_08_30_2019_run_01_exec_20190830/pass/fastq_runid_ee80935b39ac8eac3e848aa0e1f003f3f7be1c96_18_2.fastq\n"
     ]
    },
    {
     "name": "stdout",
     "output_type": "stream",
     "text": [
      "[########################################] | 100% Completed | 18.5s\n"
     ]
    },
    {
     "name": "stderr",
     "output_type": "stream",
     "text": [
      "[14:13:03 - __main__] Saving to file: /path/to/data/MinION_sequencing_data_20190830/guppy_3.2.2_08_30_2019_run_01_exec_20190830/sw/fastq_runid_ee80935b39ac8eac3e848aa0e1f003f3f7be1c96_18_2.tsv\n",
      "[14:13:03 - __main__] Starting fastq (75 of 378)\n",
      "\t/path/to/data/MinION_sequencing_data_20190830/guppy_3.2.2_08_30_2019_run_01_exec_20190830/pass/fastq_runid_ee80935b39ac8eac3e848aa0e1f003f3f7be1c96_19_0.fastq\n"
     ]
    },
    {
     "name": "stdout",
     "output_type": "stream",
     "text": [
      "[########################################] | 100% Completed | 46.0s\n"
     ]
    },
    {
     "name": "stderr",
     "output_type": "stream",
     "text": [
      "[14:13:49 - __main__] Saving to file: /path/to/data/MinION_sequencing_data_20190830/guppy_3.2.2_08_30_2019_run_01_exec_20190830/sw/fastq_runid_ee80935b39ac8eac3e848aa0e1f003f3f7be1c96_19_0.tsv\n",
      "[14:13:49 - __main__] Starting fastq (76 of 378)\n",
      "\t/path/to/data/MinION_sequencing_data_20190830/guppy_3.2.2_08_30_2019_run_01_exec_20190830/pass/fastq_runid_ee80935b39ac8eac3e848aa0e1f003f3f7be1c96_19_1.fastq\n"
     ]
    },
    {
     "name": "stdout",
     "output_type": "stream",
     "text": [
      "[########################################] | 100% Completed |  1min  5.5s\n"
     ]
    },
    {
     "name": "stderr",
     "output_type": "stream",
     "text": [
      "[14:14:55 - __main__] Saving to file: /path/to/data/MinION_sequencing_data_20190830/guppy_3.2.2_08_30_2019_run_01_exec_20190830/sw/fastq_runid_ee80935b39ac8eac3e848aa0e1f003f3f7be1c96_19_1.tsv\n",
      "[14:14:55 - __main__] Starting fastq (77 of 378)\n",
      "\t/path/to/data/MinION_sequencing_data_20190830/guppy_3.2.2_08_30_2019_run_01_exec_20190830/pass/fastq_runid_ee80935b39ac8eac3e848aa0e1f003f3f7be1c96_18_3.fastq\n"
     ]
    },
    {
     "name": "stdout",
     "output_type": "stream",
     "text": [
      "[########################################] | 100% Completed |  0.9s\n"
     ]
    },
    {
     "name": "stderr",
     "output_type": "stream",
     "text": [
      "[14:14:56 - __main__] Saving to file: /path/to/data/MinION_sequencing_data_20190830/guppy_3.2.2_08_30_2019_run_01_exec_20190830/sw/fastq_runid_ee80935b39ac8eac3e848aa0e1f003f3f7be1c96_18_3.tsv\n",
      "[14:14:56 - __main__] Starting fastq (78 of 378)\n",
      "\t/path/to/data/MinION_sequencing_data_20190830/guppy_3.2.2_08_30_2019_run_01_exec_20190830/pass/fastq_runid_ee80935b39ac8eac3e848aa0e1f003f3f7be1c96_19_2.fastq\n"
     ]
    },
    {
     "name": "stdout",
     "output_type": "stream",
     "text": [
      "[########################################] | 100% Completed | 22.8s\n"
     ]
    },
    {
     "name": "stderr",
     "output_type": "stream",
     "text": [
      "[14:15:19 - __main__] Saving to file: /path/to/data/MinION_sequencing_data_20190830/guppy_3.2.2_08_30_2019_run_01_exec_20190830/sw/fastq_runid_ee80935b39ac8eac3e848aa0e1f003f3f7be1c96_19_2.tsv\n",
      "[14:15:19 - __main__] Starting fastq (79 of 378)\n",
      "\t/path/to/data/MinION_sequencing_data_20190830/guppy_3.2.2_08_30_2019_run_01_exec_20190830/pass/fastq_runid_ee80935b39ac8eac3e848aa0e1f003f3f7be1c96_20_0.fastq\n"
     ]
    },
    {
     "name": "stdout",
     "output_type": "stream",
     "text": [
      "[########################################] | 100% Completed |  1min 19.4s\n"
     ]
    },
    {
     "name": "stderr",
     "output_type": "stream",
     "text": [
      "[14:16:39 - __main__] Saving to file: /path/to/data/MinION_sequencing_data_20190830/guppy_3.2.2_08_30_2019_run_01_exec_20190830/sw/fastq_runid_ee80935b39ac8eac3e848aa0e1f003f3f7be1c96_20_0.tsv\n",
      "[14:16:39 - __main__] Starting fastq (80 of 378)\n",
      "\t/path/to/data/MinION_sequencing_data_20190830/guppy_3.2.2_08_30_2019_run_01_exec_20190830/pass/fastq_runid_ee80935b39ac8eac3e848aa0e1f003f3f7be1c96_20_1.fastq\n"
     ]
    },
    {
     "name": "stdout",
     "output_type": "stream",
     "text": [
      "[########################################] | 100% Completed | 29.3s\n"
     ]
    },
    {
     "name": "stderr",
     "output_type": "stream",
     "text": [
      "[14:17:09 - __main__] Saving to file: /path/to/data/MinION_sequencing_data_20190830/guppy_3.2.2_08_30_2019_run_01_exec_20190830/sw/fastq_runid_ee80935b39ac8eac3e848aa0e1f003f3f7be1c96_20_1.tsv\n",
      "[14:17:09 - __main__] Starting fastq (81 of 378)\n",
      "\t/path/to/data/MinION_sequencing_data_20190830/guppy_3.2.2_08_30_2019_run_01_exec_20190830/pass/fastq_runid_ee80935b39ac8eac3e848aa0e1f003f3f7be1c96_20_2.fastq\n"
     ]
    },
    {
     "name": "stdout",
     "output_type": "stream",
     "text": [
      "[########################################] | 100% Completed | 32.7s\n"
     ]
    },
    {
     "name": "stderr",
     "output_type": "stream",
     "text": [
      "[14:17:42 - __main__] Saving to file: /path/to/data/MinION_sequencing_data_20190830/guppy_3.2.2_08_30_2019_run_01_exec_20190830/sw/fastq_runid_ee80935b39ac8eac3e848aa0e1f003f3f7be1c96_20_2.tsv\n",
      "[14:17:42 - __main__] Starting fastq (82 of 378)\n",
      "\t/path/to/data/MinION_sequencing_data_20190830/guppy_3.2.2_08_30_2019_run_01_exec_20190830/pass/fastq_runid_ee80935b39ac8eac3e848aa0e1f003f3f7be1c96_19_3.fastq\n"
     ]
    },
    {
     "name": "stdout",
     "output_type": "stream",
     "text": [
      "[########################################] | 100% Completed |  9.4s\n"
     ]
    },
    {
     "name": "stderr",
     "output_type": "stream",
     "text": [
      "[14:17:52 - __main__] Saving to file: /path/to/data/MinION_sequencing_data_20190830/guppy_3.2.2_08_30_2019_run_01_exec_20190830/sw/fastq_runid_ee80935b39ac8eac3e848aa0e1f003f3f7be1c96_19_3.tsv\n",
      "[14:17:52 - __main__] Starting fastq (83 of 378)\n",
      "\t/path/to/data/MinION_sequencing_data_20190830/guppy_3.2.2_08_30_2019_run_01_exec_20190830/pass/fastq_runid_ee80935b39ac8eac3e848aa0e1f003f3f7be1c96_21_0.fastq\n"
     ]
    },
    {
     "name": "stdout",
     "output_type": "stream",
     "text": [
      "[########################################] | 100% Completed | 49.9s\n"
     ]
    },
    {
     "name": "stderr",
     "output_type": "stream",
     "text": [
      "[14:18:42 - __main__] Saving to file: /path/to/data/MinION_sequencing_data_20190830/guppy_3.2.2_08_30_2019_run_01_exec_20190830/sw/fastq_runid_ee80935b39ac8eac3e848aa0e1f003f3f7be1c96_21_0.tsv\n",
      "[14:18:42 - __main__] Starting fastq (84 of 378)\n",
      "\t/path/to/data/MinION_sequencing_data_20190830/guppy_3.2.2_08_30_2019_run_01_exec_20190830/pass/fastq_runid_ee80935b39ac8eac3e848aa0e1f003f3f7be1c96_20_3.fastq\n"
     ]
    },
    {
     "name": "stdout",
     "output_type": "stream",
     "text": [
      "[########################################] | 100% Completed |  5.3s\n"
     ]
    },
    {
     "name": "stderr",
     "output_type": "stream",
     "text": [
      "[14:18:48 - __main__] Saving to file: /path/to/data/MinION_sequencing_data_20190830/guppy_3.2.2_08_30_2019_run_01_exec_20190830/sw/fastq_runid_ee80935b39ac8eac3e848aa0e1f003f3f7be1c96_20_3.tsv\n",
      "[14:18:48 - __main__] Starting fastq (85 of 378)\n",
      "\t/path/to/data/MinION_sequencing_data_20190830/guppy_3.2.2_08_30_2019_run_01_exec_20190830/pass/fastq_runid_ee80935b39ac8eac3e848aa0e1f003f3f7be1c96_21_1.fastq\n"
     ]
    },
    {
     "name": "stdout",
     "output_type": "stream",
     "text": [
      "[########################################] | 100% Completed | 26.0s\n"
     ]
    },
    {
     "name": "stderr",
     "output_type": "stream",
     "text": [
      "[14:19:14 - __main__] Saving to file: /path/to/data/MinION_sequencing_data_20190830/guppy_3.2.2_08_30_2019_run_01_exec_20190830/sw/fastq_runid_ee80935b39ac8eac3e848aa0e1f003f3f7be1c96_21_1.tsv\n",
      "[14:19:14 - __main__] Starting fastq (86 of 378)\n",
      "\t/path/to/data/MinION_sequencing_data_20190830/guppy_3.2.2_08_30_2019_run_01_exec_20190830/pass/fastq_runid_ee80935b39ac8eac3e848aa0e1f003f3f7be1c96_21_2.fastq\n"
     ]
    },
    {
     "name": "stdout",
     "output_type": "stream",
     "text": [
      "[########################################] | 100% Completed | 58.5s\n"
     ]
    },
    {
     "name": "stderr",
     "output_type": "stream",
     "text": [
      "[14:20:13 - __main__] Saving to file: /path/to/data/MinION_sequencing_data_20190830/guppy_3.2.2_08_30_2019_run_01_exec_20190830/sw/fastq_runid_ee80935b39ac8eac3e848aa0e1f003f3f7be1c96_21_2.tsv\n",
      "[14:20:13 - __main__] Starting fastq (87 of 378)\n",
      "\t/path/to/data/MinION_sequencing_data_20190830/guppy_3.2.2_08_30_2019_run_01_exec_20190830/pass/fastq_runid_ee80935b39ac8eac3e848aa0e1f003f3f7be1c96_21_3.fastq\n"
     ]
    },
    {
     "name": "stdout",
     "output_type": "stream",
     "text": [
      "[########################################] | 100% Completed | 11.9s\n"
     ]
    },
    {
     "name": "stderr",
     "output_type": "stream",
     "text": [
      "[14:20:25 - __main__] Saving to file: /path/to/data/MinION_sequencing_data_20190830/guppy_3.2.2_08_30_2019_run_01_exec_20190830/sw/fastq_runid_ee80935b39ac8eac3e848aa0e1f003f3f7be1c96_21_3.tsv\n",
      "[14:20:25 - __main__] Starting fastq (88 of 378)\n",
      "\t/path/to/data/MinION_sequencing_data_20190830/guppy_3.2.2_08_30_2019_run_01_exec_20190830/pass/fastq_runid_ee80935b39ac8eac3e848aa0e1f003f3f7be1c96_22_0.fastq\n"
     ]
    },
    {
     "name": "stdout",
     "output_type": "stream",
     "text": [
      "[########################################] | 100% Completed | 51.3s\n"
     ]
    },
    {
     "name": "stderr",
     "output_type": "stream",
     "text": [
      "[14:21:17 - __main__] Saving to file: /path/to/data/MinION_sequencing_data_20190830/guppy_3.2.2_08_30_2019_run_01_exec_20190830/sw/fastq_runid_ee80935b39ac8eac3e848aa0e1f003f3f7be1c96_22_0.tsv\n",
      "[14:21:17 - __main__] Starting fastq (89 of 378)\n",
      "\t/path/to/data/MinION_sequencing_data_20190830/guppy_3.2.2_08_30_2019_run_01_exec_20190830/pass/fastq_runid_ee80935b39ac8eac3e848aa0e1f003f3f7be1c96_22_1.fastq\n"
     ]
    },
    {
     "name": "stdout",
     "output_type": "stream",
     "text": [
      "[########################################] | 100% Completed |  1min 11.5s\n"
     ]
    },
    {
     "name": "stderr",
     "output_type": "stream",
     "text": [
      "[14:22:29 - __main__] Saving to file: /path/to/data/MinION_sequencing_data_20190830/guppy_3.2.2_08_30_2019_run_01_exec_20190830/sw/fastq_runid_ee80935b39ac8eac3e848aa0e1f003f3f7be1c96_22_1.tsv\n",
      "[14:22:29 - __main__] Starting fastq (90 of 378)\n",
      "\t/path/to/data/MinION_sequencing_data_20190830/guppy_3.2.2_08_30_2019_run_01_exec_20190830/pass/fastq_runid_ee80935b39ac8eac3e848aa0e1f003f3f7be1c96_22_2.fastq\n"
     ]
    },
    {
     "name": "stdout",
     "output_type": "stream",
     "text": [
      "[########################################] | 100% Completed | 19.0s\n"
     ]
    },
    {
     "name": "stderr",
     "output_type": "stream",
     "text": [
      "[14:22:48 - __main__] Saving to file: /path/to/data/MinION_sequencing_data_20190830/guppy_3.2.2_08_30_2019_run_01_exec_20190830/sw/fastq_runid_ee80935b39ac8eac3e848aa0e1f003f3f7be1c96_22_2.tsv\n",
      "[14:22:48 - __main__] Starting fastq (91 of 378)\n",
      "\t/path/to/data/MinION_sequencing_data_20190830/guppy_3.2.2_08_30_2019_run_01_exec_20190830/pass/fastq_runid_ee80935b39ac8eac3e848aa0e1f003f3f7be1c96_23_0.fastq\n"
     ]
    },
    {
     "name": "stdout",
     "output_type": "stream",
     "text": [
      "[########################################] | 100% Completed |  1min  2.9s\n"
     ]
    },
    {
     "name": "stderr",
     "output_type": "stream",
     "text": [
      "[14:23:52 - __main__] Saving to file: /path/to/data/MinION_sequencing_data_20190830/guppy_3.2.2_08_30_2019_run_01_exec_20190830/sw/fastq_runid_ee80935b39ac8eac3e848aa0e1f003f3f7be1c96_23_0.tsv\n",
      "[14:23:52 - __main__] Starting fastq (92 of 378)\n",
      "\t/path/to/data/MinION_sequencing_data_20190830/guppy_3.2.2_08_30_2019_run_01_exec_20190830/pass/fastq_runid_ee80935b39ac8eac3e848aa0e1f003f3f7be1c96_22_3.fastq\n"
     ]
    },
    {
     "name": "stdout",
     "output_type": "stream",
     "text": [
      "[########################################] | 100% Completed |  1.7s\n"
     ]
    },
    {
     "name": "stderr",
     "output_type": "stream",
     "text": [
      "[14:23:54 - __main__] Saving to file: /path/to/data/MinION_sequencing_data_20190830/guppy_3.2.2_08_30_2019_run_01_exec_20190830/sw/fastq_runid_ee80935b39ac8eac3e848aa0e1f003f3f7be1c96_22_3.tsv\n",
      "[14:23:54 - __main__] Starting fastq (93 of 378)\n",
      "\t/path/to/data/MinION_sequencing_data_20190830/guppy_3.2.2_08_30_2019_run_01_exec_20190830/pass/fastq_runid_ee80935b39ac8eac3e848aa0e1f003f3f7be1c96_23_1.fastq\n"
     ]
    },
    {
     "name": "stdout",
     "output_type": "stream",
     "text": [
      "[########################################] | 100% Completed | 57.4s\n"
     ]
    },
    {
     "name": "stderr",
     "output_type": "stream",
     "text": [
      "[14:24:51 - __main__] Saving to file: /path/to/data/MinION_sequencing_data_20190830/guppy_3.2.2_08_30_2019_run_01_exec_20190830/sw/fastq_runid_ee80935b39ac8eac3e848aa0e1f003f3f7be1c96_23_1.tsv\n",
      "[14:24:52 - __main__] Starting fastq (94 of 378)\n",
      "\t/path/to/data/MinION_sequencing_data_20190830/guppy_3.2.2_08_30_2019_run_01_exec_20190830/pass/fastq_runid_ee80935b39ac8eac3e848aa0e1f003f3f7be1c96_23_2.fastq\n"
     ]
    },
    {
     "name": "stdout",
     "output_type": "stream",
     "text": [
      "[########################################] | 100% Completed | 26.9s\n"
     ]
    },
    {
     "name": "stderr",
     "output_type": "stream",
     "text": [
      "[14:25:19 - __main__] Saving to file: /path/to/data/MinION_sequencing_data_20190830/guppy_3.2.2_08_30_2019_run_01_exec_20190830/sw/fastq_runid_ee80935b39ac8eac3e848aa0e1f003f3f7be1c96_23_2.tsv\n",
      "[14:25:19 - __main__] Starting fastq (95 of 378)\n",
      "\t/path/to/data/MinION_sequencing_data_20190830/guppy_3.2.2_08_30_2019_run_01_exec_20190830/pass/fastq_runid_ee80935b39ac8eac3e848aa0e1f003f3f7be1c96_23_3.fastq\n"
     ]
    },
    {
     "name": "stdout",
     "output_type": "stream",
     "text": [
      "[########################################] | 100% Completed |  3.7s\n"
     ]
    },
    {
     "name": "stderr",
     "output_type": "stream",
     "text": [
      "[14:25:23 - __main__] Saving to file: /path/to/data/MinION_sequencing_data_20190830/guppy_3.2.2_08_30_2019_run_01_exec_20190830/sw/fastq_runid_ee80935b39ac8eac3e848aa0e1f003f3f7be1c96_23_3.tsv\n",
      "[14:25:23 - __main__] Starting fastq (96 of 378)\n",
      "\t/path/to/data/MinION_sequencing_data_20190830/guppy_3.2.2_08_30_2019_run_01_exec_20190830/pass/fastq_runid_ee80935b39ac8eac3e848aa0e1f003f3f7be1c96_24_0.fastq\n"
     ]
    },
    {
     "name": "stdout",
     "output_type": "stream",
     "text": [
      "[########################################] | 100% Completed |  1min 24.7s\n"
     ]
    },
    {
     "name": "stderr",
     "output_type": "stream",
     "text": [
      "[14:26:48 - __main__] Saving to file: /path/to/data/MinION_sequencing_data_20190830/guppy_3.2.2_08_30_2019_run_01_exec_20190830/sw/fastq_runid_ee80935b39ac8eac3e848aa0e1f003f3f7be1c96_24_0.tsv\n",
      "[14:26:48 - __main__] Starting fastq (97 of 378)\n",
      "\t/path/to/data/MinION_sequencing_data_20190830/guppy_3.2.2_08_30_2019_run_01_exec_20190830/pass/fastq_runid_ee80935b39ac8eac3e848aa0e1f003f3f7be1c96_24_1.fastq\n"
     ]
    },
    {
     "name": "stdout",
     "output_type": "stream",
     "text": [
      "[########################################] | 100% Completed | 41.5s\n"
     ]
    },
    {
     "name": "stderr",
     "output_type": "stream",
     "text": [
      "[14:27:30 - __main__] Saving to file: /path/to/data/MinION_sequencing_data_20190830/guppy_3.2.2_08_30_2019_run_01_exec_20190830/sw/fastq_runid_ee80935b39ac8eac3e848aa0e1f003f3f7be1c96_24_1.tsv\n",
      "[14:27:30 - __main__] Starting fastq (98 of 378)\n",
      "\t/path/to/data/MinION_sequencing_data_20190830/guppy_3.2.2_08_30_2019_run_01_exec_20190830/pass/fastq_runid_ee80935b39ac8eac3e848aa0e1f003f3f7be1c96_24_2.fastq\n"
     ]
    },
    {
     "name": "stdout",
     "output_type": "stream",
     "text": [
      "[########################################] | 100% Completed | 18.2s\n"
     ]
    },
    {
     "name": "stderr",
     "output_type": "stream",
     "text": [
      "[14:27:48 - __main__] Saving to file: /path/to/data/MinION_sequencing_data_20190830/guppy_3.2.2_08_30_2019_run_01_exec_20190830/sw/fastq_runid_ee80935b39ac8eac3e848aa0e1f003f3f7be1c96_24_2.tsv\n",
      "[14:27:48 - __main__] Starting fastq (99 of 378)\n",
      "\t/path/to/data/MinION_sequencing_data_20190830/guppy_3.2.2_08_30_2019_run_01_exec_20190830/pass/fastq_runid_ee80935b39ac8eac3e848aa0e1f003f3f7be1c96_25_0.fastq\n"
     ]
    },
    {
     "name": "stdout",
     "output_type": "stream",
     "text": [
      "[########################################] | 100% Completed | 57.7s\n"
     ]
    },
    {
     "name": "stderr",
     "output_type": "stream",
     "text": [
      "[14:28:46 - __main__] Saving to file: /path/to/data/MinION_sequencing_data_20190830/guppy_3.2.2_08_30_2019_run_01_exec_20190830/sw/fastq_runid_ee80935b39ac8eac3e848aa0e1f003f3f7be1c96_25_0.tsv\n",
      "[14:28:47 - __main__] Starting fastq (100 of 378)\n",
      "\t/path/to/data/MinION_sequencing_data_20190830/guppy_3.2.2_08_30_2019_run_01_exec_20190830/pass/fastq_runid_ee80935b39ac8eac3e848aa0e1f003f3f7be1c96_25_1.fastq\n"
     ]
    },
    {
     "name": "stdout",
     "output_type": "stream",
     "text": [
      "[########################################] | 100% Completed | 40.5s\n"
     ]
    },
    {
     "name": "stderr",
     "output_type": "stream",
     "text": [
      "[14:29:27 - __main__] Saving to file: /path/to/data/MinION_sequencing_data_20190830/guppy_3.2.2_08_30_2019_run_01_exec_20190830/sw/fastq_runid_ee80935b39ac8eac3e848aa0e1f003f3f7be1c96_25_1.tsv\n",
      "[14:29:27 - __main__] Starting fastq (101 of 378)\n",
      "\t/path/to/data/MinION_sequencing_data_20190830/guppy_3.2.2_08_30_2019_run_01_exec_20190830/pass/fastq_runid_ee80935b39ac8eac3e848aa0e1f003f3f7be1c96_24_3.fastq\n"
     ]
    },
    {
     "name": "stdout",
     "output_type": "stream",
     "text": [
      "[########################################] | 100% Completed |  0.9s\n"
     ]
    },
    {
     "name": "stderr",
     "output_type": "stream",
     "text": [
      "[14:29:29 - __main__] Saving to file: /path/to/data/MinION_sequencing_data_20190830/guppy_3.2.2_08_30_2019_run_01_exec_20190830/sw/fastq_runid_ee80935b39ac8eac3e848aa0e1f003f3f7be1c96_24_3.tsv\n",
      "[14:29:29 - __main__] Starting fastq (102 of 378)\n",
      "\t/path/to/data/MinION_sequencing_data_20190830/guppy_3.2.2_08_30_2019_run_01_exec_20190830/pass/fastq_runid_ee80935b39ac8eac3e848aa0e1f003f3f7be1c96_25_2.fastq\n"
     ]
    },
    {
     "name": "stdout",
     "output_type": "stream",
     "text": [
      "[########################################] | 100% Completed | 49.5s\n"
     ]
    },
    {
     "name": "stderr",
     "output_type": "stream",
     "text": [
      "[14:30:18 - __main__] Saving to file: /path/to/data/MinION_sequencing_data_20190830/guppy_3.2.2_08_30_2019_run_01_exec_20190830/sw/fastq_runid_ee80935b39ac8eac3e848aa0e1f003f3f7be1c96_25_2.tsv\n",
      "[14:30:19 - __main__] Starting fastq (103 of 378)\n",
      "\t/path/to/data/MinION_sequencing_data_20190830/guppy_3.2.2_08_30_2019_run_01_exec_20190830/pass/fastq_runid_ee80935b39ac8eac3e848aa0e1f003f3f7be1c96_26_0.fastq\n"
     ]
    },
    {
     "name": "stdout",
     "output_type": "stream",
     "text": [
      "[########################################] | 100% Completed | 54.8s\n"
     ]
    },
    {
     "name": "stderr",
     "output_type": "stream",
     "text": [
      "[14:31:14 - __main__] Saving to file: /path/to/data/MinION_sequencing_data_20190830/guppy_3.2.2_08_30_2019_run_01_exec_20190830/sw/fastq_runid_ee80935b39ac8eac3e848aa0e1f003f3f7be1c96_26_0.tsv\n",
      "[14:31:14 - __main__] Starting fastq (104 of 378)\n",
      "\t/path/to/data/MinION_sequencing_data_20190830/guppy_3.2.2_08_30_2019_run_01_exec_20190830/pass/fastq_runid_ee80935b39ac8eac3e848aa0e1f003f3f7be1c96_25_3.fastq\n"
     ]
    },
    {
     "name": "stdout",
     "output_type": "stream",
     "text": [
      "[########################################] | 100% Completed |  1.0s\n"
     ]
    },
    {
     "name": "stderr",
     "output_type": "stream",
     "text": [
      "[14:31:15 - __main__] Saving to file: /path/to/data/MinION_sequencing_data_20190830/guppy_3.2.2_08_30_2019_run_01_exec_20190830/sw/fastq_runid_ee80935b39ac8eac3e848aa0e1f003f3f7be1c96_25_3.tsv\n",
      "[14:31:15 - __main__] Starting fastq (105 of 378)\n",
      "\t/path/to/data/MinION_sequencing_data_20190830/guppy_3.2.2_08_30_2019_run_01_exec_20190830/pass/fastq_runid_ee80935b39ac8eac3e848aa0e1f003f3f7be1c96_26_1.fastq\n"
     ]
    },
    {
     "name": "stdout",
     "output_type": "stream",
     "text": [
      "[########################################] | 100% Completed | 20.3s\n"
     ]
    },
    {
     "name": "stderr",
     "output_type": "stream",
     "text": [
      "[14:31:36 - __main__] Saving to file: /path/to/data/MinION_sequencing_data_20190830/guppy_3.2.2_08_30_2019_run_01_exec_20190830/sw/fastq_runid_ee80935b39ac8eac3e848aa0e1f003f3f7be1c96_26_1.tsv\n",
      "[14:31:36 - __main__] Starting fastq (106 of 378)\n",
      "\t/path/to/data/MinION_sequencing_data_20190830/guppy_3.2.2_08_30_2019_run_01_exec_20190830/pass/fastq_runid_ee80935b39ac8eac3e848aa0e1f003f3f7be1c96_27_0.fastq\n"
     ]
    },
    {
     "name": "stdout",
     "output_type": "stream",
     "text": [
      "[########################################] | 100% Completed |  1min  0.7s\n"
     ]
    },
    {
     "name": "stderr",
     "output_type": "stream",
     "text": [
      "[14:32:37 - __main__] Saving to file: /path/to/data/MinION_sequencing_data_20190830/guppy_3.2.2_08_30_2019_run_01_exec_20190830/sw/fastq_runid_ee80935b39ac8eac3e848aa0e1f003f3f7be1c96_27_0.tsv\n",
      "[14:32:37 - __main__] Starting fastq (107 of 378)\n",
      "\t/path/to/data/MinION_sequencing_data_20190830/guppy_3.2.2_08_30_2019_run_01_exec_20190830/pass/fastq_runid_ee80935b39ac8eac3e848aa0e1f003f3f7be1c96_26_2.fastq\n"
     ]
    },
    {
     "name": "stdout",
     "output_type": "stream",
     "text": [
      "[########################################] | 100% Completed |  1.0s\n"
     ]
    },
    {
     "name": "stderr",
     "output_type": "stream",
     "text": [
      "[14:32:38 - __main__] Saving to file: /path/to/data/MinION_sequencing_data_20190830/guppy_3.2.2_08_30_2019_run_01_exec_20190830/sw/fastq_runid_ee80935b39ac8eac3e848aa0e1f003f3f7be1c96_26_2.tsv\n",
      "[14:32:38 - __main__] Starting fastq (108 of 378)\n",
      "\t/path/to/data/MinION_sequencing_data_20190830/guppy_3.2.2_08_30_2019_run_01_exec_20190830/pass/fastq_runid_ee80935b39ac8eac3e848aa0e1f003f3f7be1c96_27_1.fastq\n"
     ]
    },
    {
     "name": "stdout",
     "output_type": "stream",
     "text": [
      "[########################################] | 100% Completed | 48.3s\n"
     ]
    },
    {
     "name": "stderr",
     "output_type": "stream",
     "text": [
      "[14:33:27 - __main__] Saving to file: /path/to/data/MinION_sequencing_data_20190830/guppy_3.2.2_08_30_2019_run_01_exec_20190830/sw/fastq_runid_ee80935b39ac8eac3e848aa0e1f003f3f7be1c96_27_1.tsv\n",
      "[14:33:27 - __main__] Starting fastq (109 of 378)\n",
      "\t/path/to/data/MinION_sequencing_data_20190830/guppy_3.2.2_08_30_2019_run_01_exec_20190830/pass/fastq_runid_ee80935b39ac8eac3e848aa0e1f003f3f7be1c96_26_3.fastq\n"
     ]
    },
    {
     "name": "stdout",
     "output_type": "stream",
     "text": [
      "[########################################] | 100% Completed |  1min  9.4s\n"
     ]
    },
    {
     "name": "stderr",
     "output_type": "stream",
     "text": [
      "[14:34:37 - __main__] Saving to file: /path/to/data/MinION_sequencing_data_20190830/guppy_3.2.2_08_30_2019_run_01_exec_20190830/sw/fastq_runid_ee80935b39ac8eac3e848aa0e1f003f3f7be1c96_26_3.tsv\n",
      "[14:34:37 - __main__] Starting fastq (110 of 378)\n",
      "\t/path/to/data/MinION_sequencing_data_20190830/guppy_3.2.2_08_30_2019_run_01_exec_20190830/pass/fastq_runid_ee80935b39ac8eac3e848aa0e1f003f3f7be1c96_27_2.fastq\n"
     ]
    },
    {
     "name": "stdout",
     "output_type": "stream",
     "text": [
      "[########################################] | 100% Completed | 34.6s\n"
     ]
    },
    {
     "name": "stderr",
     "output_type": "stream",
     "text": [
      "[14:35:12 - __main__] Saving to file: /path/to/data/MinION_sequencing_data_20190830/guppy_3.2.2_08_30_2019_run_01_exec_20190830/sw/fastq_runid_ee80935b39ac8eac3e848aa0e1f003f3f7be1c96_27_2.tsv\n",
      "[14:35:12 - __main__] Starting fastq (111 of 378)\n",
      "\t/path/to/data/MinION_sequencing_data_20190830/guppy_3.2.2_08_30_2019_run_01_exec_20190830/pass/fastq_runid_ee80935b39ac8eac3e848aa0e1f003f3f7be1c96_28_0.fastq\n"
     ]
    },
    {
     "name": "stdout",
     "output_type": "stream",
     "text": [
      "[########################################] | 100% Completed | 36.5s\n"
     ]
    },
    {
     "name": "stderr",
     "output_type": "stream",
     "text": [
      "[14:35:49 - __main__] Saving to file: /path/to/data/MinION_sequencing_data_20190830/guppy_3.2.2_08_30_2019_run_01_exec_20190830/sw/fastq_runid_ee80935b39ac8eac3e848aa0e1f003f3f7be1c96_28_0.tsv\n",
      "[14:35:49 - __main__] Starting fastq (112 of 378)\n",
      "\t/path/to/data/MinION_sequencing_data_20190830/guppy_3.2.2_08_30_2019_run_01_exec_20190830/pass/fastq_runid_ee80935b39ac8eac3e848aa0e1f003f3f7be1c96_28_1.fastq\n"
     ]
    },
    {
     "name": "stdout",
     "output_type": "stream",
     "text": [
      "[########################################] | 100% Completed |  1min 27.9s\n"
     ]
    },
    {
     "name": "stderr",
     "output_type": "stream",
     "text": [
      "[14:37:17 - __main__] Saving to file: /path/to/data/MinION_sequencing_data_20190830/guppy_3.2.2_08_30_2019_run_01_exec_20190830/sw/fastq_runid_ee80935b39ac8eac3e848aa0e1f003f3f7be1c96_28_1.tsv\n",
      "[14:37:17 - __main__] Starting fastq (113 of 378)\n",
      "\t/path/to/data/MinION_sequencing_data_20190830/guppy_3.2.2_08_30_2019_run_01_exec_20190830/pass/fastq_runid_ee80935b39ac8eac3e848aa0e1f003f3f7be1c96_28_2.fastq\n"
     ]
    },
    {
     "name": "stdout",
     "output_type": "stream",
     "text": [
      "[########################################] | 100% Completed | 17.6s\n"
     ]
    },
    {
     "name": "stderr",
     "output_type": "stream",
     "text": [
      "[14:37:35 - __main__] Saving to file: /path/to/data/MinION_sequencing_data_20190830/guppy_3.2.2_08_30_2019_run_01_exec_20190830/sw/fastq_runid_ee80935b39ac8eac3e848aa0e1f003f3f7be1c96_28_2.tsv\n",
      "[14:37:35 - __main__] Starting fastq (114 of 378)\n",
      "\t/path/to/data/MinION_sequencing_data_20190830/guppy_3.2.2_08_30_2019_run_01_exec_20190830/pass/fastq_runid_ee80935b39ac8eac3e848aa0e1f003f3f7be1c96_29_0.fastq\n"
     ]
    },
    {
     "name": "stdout",
     "output_type": "stream",
     "text": [
      "[########################################] | 100% Completed | 59.2s\n"
     ]
    },
    {
     "name": "stderr",
     "output_type": "stream",
     "text": [
      "[14:38:35 - __main__] Saving to file: /path/to/data/MinION_sequencing_data_20190830/guppy_3.2.2_08_30_2019_run_01_exec_20190830/sw/fastq_runid_ee80935b39ac8eac3e848aa0e1f003f3f7be1c96_29_0.tsv\n",
      "[14:38:35 - __main__] Starting fastq (115 of 378)\n",
      "\t/path/to/data/MinION_sequencing_data_20190830/guppy_3.2.2_08_30_2019_run_01_exec_20190830/pass/fastq_runid_ee80935b39ac8eac3e848aa0e1f003f3f7be1c96_29_1.fastq\n"
     ]
    },
    {
     "name": "stdout",
     "output_type": "stream",
     "text": [
      "[########################################] | 100% Completed | 55.7s\n"
     ]
    },
    {
     "name": "stderr",
     "output_type": "stream",
     "text": [
      "[14:39:31 - __main__] Saving to file: /path/to/data/MinION_sequencing_data_20190830/guppy_3.2.2_08_30_2019_run_01_exec_20190830/sw/fastq_runid_ee80935b39ac8eac3e848aa0e1f003f3f7be1c96_29_1.tsv\n",
      "[14:39:31 - __main__] Starting fastq (116 of 378)\n",
      "\t/path/to/data/MinION_sequencing_data_20190830/guppy_3.2.2_08_30_2019_run_01_exec_20190830/pass/fastq_runid_ee80935b39ac8eac3e848aa0e1f003f3f7be1c96_27_3.fastq\n"
     ]
    },
    {
     "name": "stdout",
     "output_type": "stream",
     "text": [
      "[########################################] | 100% Completed |  1.0s\n"
     ]
    },
    {
     "name": "stderr",
     "output_type": "stream",
     "text": [
      "[14:39:32 - __main__] Saving to file: /path/to/data/MinION_sequencing_data_20190830/guppy_3.2.2_08_30_2019_run_01_exec_20190830/sw/fastq_runid_ee80935b39ac8eac3e848aa0e1f003f3f7be1c96_27_3.tsv\n",
      "[14:39:32 - __main__] Starting fastq (117 of 378)\n",
      "\t/path/to/data/MinION_sequencing_data_20190830/guppy_3.2.2_08_30_2019_run_01_exec_20190830/pass/fastq_runid_ee80935b39ac8eac3e848aa0e1f003f3f7be1c96_28_3.fastq\n"
     ]
    },
    {
     "name": "stdout",
     "output_type": "stream",
     "text": [
      "[########################################] | 100% Completed |  0.9s\n"
     ]
    },
    {
     "name": "stderr",
     "output_type": "stream",
     "text": [
      "[14:39:33 - __main__] Saving to file: /path/to/data/MinION_sequencing_data_20190830/guppy_3.2.2_08_30_2019_run_01_exec_20190830/sw/fastq_runid_ee80935b39ac8eac3e848aa0e1f003f3f7be1c96_28_3.tsv\n",
      "[14:39:33 - __main__] Starting fastq (118 of 378)\n",
      "\t/path/to/data/MinION_sequencing_data_20190830/guppy_3.2.2_08_30_2019_run_01_exec_20190830/pass/fastq_runid_ee80935b39ac8eac3e848aa0e1f003f3f7be1c96_29_2.fastq\n"
     ]
    },
    {
     "name": "stdout",
     "output_type": "stream",
     "text": [
      "[########################################] | 100% Completed | 28.9s\n"
     ]
    },
    {
     "name": "stderr",
     "output_type": "stream",
     "text": [
      "[14:40:02 - __main__] Saving to file: /path/to/data/MinION_sequencing_data_20190830/guppy_3.2.2_08_30_2019_run_01_exec_20190830/sw/fastq_runid_ee80935b39ac8eac3e848aa0e1f003f3f7be1c96_29_2.tsv\n",
      "[14:40:03 - __main__] Starting fastq (119 of 378)\n",
      "\t/path/to/data/MinION_sequencing_data_20190830/guppy_3.2.2_08_30_2019_run_01_exec_20190830/pass/fastq_runid_ee80935b39ac8eac3e848aa0e1f003f3f7be1c96_30_0.fastq\n"
     ]
    },
    {
     "name": "stdout",
     "output_type": "stream",
     "text": [
      "[########################################] | 100% Completed |  1min 18.7s\n"
     ]
    },
    {
     "name": "stderr",
     "output_type": "stream",
     "text": [
      "[14:41:22 - __main__] Saving to file: /path/to/data/MinION_sequencing_data_20190830/guppy_3.2.2_08_30_2019_run_01_exec_20190830/sw/fastq_runid_ee80935b39ac8eac3e848aa0e1f003f3f7be1c96_30_0.tsv\n",
      "[14:41:22 - __main__] Starting fastq (120 of 378)\n",
      "\t/path/to/data/MinION_sequencing_data_20190830/guppy_3.2.2_08_30_2019_run_01_exec_20190830/pass/fastq_runid_ee80935b39ac8eac3e848aa0e1f003f3f7be1c96_30_1.fastq\n"
     ]
    },
    {
     "name": "stdout",
     "output_type": "stream",
     "text": [
      "[########################################] | 100% Completed |  8.9s\n"
     ]
    },
    {
     "name": "stderr",
     "output_type": "stream",
     "text": [
      "[14:41:31 - __main__] Saving to file: /path/to/data/MinION_sequencing_data_20190830/guppy_3.2.2_08_30_2019_run_01_exec_20190830/sw/fastq_runid_ee80935b39ac8eac3e848aa0e1f003f3f7be1c96_30_1.tsv\n",
      "[14:41:31 - __main__] Starting fastq (121 of 378)\n",
      "\t/path/to/data/MinION_sequencing_data_20190830/guppy_3.2.2_08_30_2019_run_01_exec_20190830/pass/fastq_runid_ee80935b39ac8eac3e848aa0e1f003f3f7be1c96_31_0.fastq\n"
     ]
    },
    {
     "name": "stdout",
     "output_type": "stream",
     "text": [
      "[########################################] | 100% Completed |  1min  5.3s\n"
     ]
    },
    {
     "name": "stderr",
     "output_type": "stream",
     "text": [
      "[14:42:37 - __main__] Saving to file: /path/to/data/MinION_sequencing_data_20190830/guppy_3.2.2_08_30_2019_run_01_exec_20190830/sw/fastq_runid_ee80935b39ac8eac3e848aa0e1f003f3f7be1c96_31_0.tsv\n",
      "[14:42:37 - __main__] Starting fastq (122 of 378)\n",
      "\t/path/to/data/MinION_sequencing_data_20190830/guppy_3.2.2_08_30_2019_run_01_exec_20190830/pass/fastq_runid_ee80935b39ac8eac3e848aa0e1f003f3f7be1c96_30_2.fastq\n"
     ]
    },
    {
     "name": "stdout",
     "output_type": "stream",
     "text": [
      "[########################################] | 100% Completed | 50.0s\n"
     ]
    },
    {
     "name": "stderr",
     "output_type": "stream",
     "text": [
      "[14:43:27 - __main__] Saving to file: /path/to/data/MinION_sequencing_data_20190830/guppy_3.2.2_08_30_2019_run_01_exec_20190830/sw/fastq_runid_ee80935b39ac8eac3e848aa0e1f003f3f7be1c96_30_2.tsv\n",
      "[14:43:27 - __main__] Starting fastq (123 of 378)\n",
      "\t/path/to/data/MinION_sequencing_data_20190830/guppy_3.2.2_08_30_2019_run_01_exec_20190830/pass/fastq_runid_ee80935b39ac8eac3e848aa0e1f003f3f7be1c96_29_3.fastq\n"
     ]
    },
    {
     "name": "stdout",
     "output_type": "stream",
     "text": [
      "[########################################] | 100% Completed |  1.0s\n"
     ]
    },
    {
     "name": "stderr",
     "output_type": "stream",
     "text": [
      "[14:43:28 - __main__] Saving to file: /path/to/data/MinION_sequencing_data_20190830/guppy_3.2.2_08_30_2019_run_01_exec_20190830/sw/fastq_runid_ee80935b39ac8eac3e848aa0e1f003f3f7be1c96_29_3.tsv\n",
      "[14:43:28 - __main__] Starting fastq (124 of 378)\n",
      "\t/path/to/data/MinION_sequencing_data_20190830/guppy_3.2.2_08_30_2019_run_01_exec_20190830/pass/fastq_runid_ee80935b39ac8eac3e848aa0e1f003f3f7be1c96_30_3.fastq\n"
     ]
    },
    {
     "name": "stdout",
     "output_type": "stream",
     "text": [
      "[########################################] | 100% Completed |  5.2s\n"
     ]
    },
    {
     "name": "stderr",
     "output_type": "stream",
     "text": [
      "[14:43:34 - __main__] Saving to file: /path/to/data/MinION_sequencing_data_20190830/guppy_3.2.2_08_30_2019_run_01_exec_20190830/sw/fastq_runid_ee80935b39ac8eac3e848aa0e1f003f3f7be1c96_30_3.tsv\n",
      "[14:43:34 - __main__] Starting fastq (125 of 378)\n",
      "\t/path/to/data/MinION_sequencing_data_20190830/guppy_3.2.2_08_30_2019_run_01_exec_20190830/pass/fastq_runid_ee80935b39ac8eac3e848aa0e1f003f3f7be1c96_31_1.fastq\n"
     ]
    },
    {
     "name": "stdout",
     "output_type": "stream",
     "text": [
      "[########################################] | 100% Completed | 53.5s\n"
     ]
    },
    {
     "name": "stderr",
     "output_type": "stream",
     "text": [
      "[14:44:28 - __main__] Saving to file: /path/to/data/MinION_sequencing_data_20190830/guppy_3.2.2_08_30_2019_run_01_exec_20190830/sw/fastq_runid_ee80935b39ac8eac3e848aa0e1f003f3f7be1c96_31_1.tsv\n",
      "[14:44:28 - __main__] Starting fastq (126 of 378)\n",
      "\t/path/to/data/MinION_sequencing_data_20190830/guppy_3.2.2_08_30_2019_run_01_exec_20190830/pass/fastq_runid_ee80935b39ac8eac3e848aa0e1f003f3f7be1c96_31_2.fastq\n"
     ]
    },
    {
     "name": "stdout",
     "output_type": "stream",
     "text": [
      "[########################################] | 100% Completed | 26.6s\n"
     ]
    },
    {
     "name": "stderr",
     "output_type": "stream",
     "text": [
      "[14:44:55 - __main__] Saving to file: /path/to/data/MinION_sequencing_data_20190830/guppy_3.2.2_08_30_2019_run_01_exec_20190830/sw/fastq_runid_ee80935b39ac8eac3e848aa0e1f003f3f7be1c96_31_2.tsv\n",
      "[14:44:55 - __main__] Starting fastq (127 of 378)\n",
      "\t/path/to/data/MinION_sequencing_data_20190830/guppy_3.2.2_08_30_2019_run_01_exec_20190830/pass/fastq_runid_ee80935b39ac8eac3e848aa0e1f003f3f7be1c96_32_0.fastq\n"
     ]
    },
    {
     "name": "stdout",
     "output_type": "stream",
     "text": [
      "[########################################] | 100% Completed | 42.4s\n"
     ]
    },
    {
     "name": "stderr",
     "output_type": "stream",
     "text": [
      "[14:45:37 - __main__] Saving to file: /path/to/data/MinION_sequencing_data_20190830/guppy_3.2.2_08_30_2019_run_01_exec_20190830/sw/fastq_runid_ee80935b39ac8eac3e848aa0e1f003f3f7be1c96_32_0.tsv\n",
      "[14:45:38 - __main__] Starting fastq (128 of 378)\n",
      "\t/path/to/data/MinION_sequencing_data_20190830/guppy_3.2.2_08_30_2019_run_01_exec_20190830/pass/fastq_runid_ee80935b39ac8eac3e848aa0e1f003f3f7be1c96_32_1.fastq\n"
     ]
    },
    {
     "name": "stdout",
     "output_type": "stream",
     "text": [
      "[########################################] | 100% Completed |  1min 11.2s\n"
     ]
    },
    {
     "name": "stderr",
     "output_type": "stream",
     "text": [
      "[14:46:49 - __main__] Saving to file: /path/to/data/MinION_sequencing_data_20190830/guppy_3.2.2_08_30_2019_run_01_exec_20190830/sw/fastq_runid_ee80935b39ac8eac3e848aa0e1f003f3f7be1c96_32_1.tsv\n",
      "[14:46:49 - __main__] Starting fastq (129 of 378)\n",
      "\t/path/to/data/MinION_sequencing_data_20190830/guppy_3.2.2_08_30_2019_run_01_exec_20190830/pass/fastq_runid_ee80935b39ac8eac3e848aa0e1f003f3f7be1c96_31_3.fastq\n"
     ]
    },
    {
     "name": "stdout",
     "output_type": "stream",
     "text": [
      "[########################################] | 100% Completed |  1.0s\n"
     ]
    },
    {
     "name": "stderr",
     "output_type": "stream",
     "text": [
      "[14:46:51 - __main__] Saving to file: /path/to/data/MinION_sequencing_data_20190830/guppy_3.2.2_08_30_2019_run_01_exec_20190830/sw/fastq_runid_ee80935b39ac8eac3e848aa0e1f003f3f7be1c96_31_3.tsv\n",
      "[14:46:51 - __main__] Starting fastq (130 of 378)\n",
      "\t/path/to/data/MinION_sequencing_data_20190830/guppy_3.2.2_08_30_2019_run_01_exec_20190830/pass/fastq_runid_ee80935b39ac8eac3e848aa0e1f003f3f7be1c96_32_2.fastq\n"
     ]
    },
    {
     "name": "stdout",
     "output_type": "stream",
     "text": [
      "[########################################] | 100% Completed | 13.9s\n"
     ]
    },
    {
     "name": "stderr",
     "output_type": "stream",
     "text": [
      "[14:47:05 - __main__] Saving to file: /path/to/data/MinION_sequencing_data_20190830/guppy_3.2.2_08_30_2019_run_01_exec_20190830/sw/fastq_runid_ee80935b39ac8eac3e848aa0e1f003f3f7be1c96_32_2.tsv\n",
      "[14:47:05 - __main__] Starting fastq (131 of 378)\n",
      "\t/path/to/data/MinION_sequencing_data_20190830/guppy_3.2.2_08_30_2019_run_01_exec_20190830/pass/fastq_runid_ee80935b39ac8eac3e848aa0e1f003f3f7be1c96_33_0.fastq\n"
     ]
    },
    {
     "name": "stdout",
     "output_type": "stream",
     "text": [
      "[########################################] | 100% Completed | 53.0s\n"
     ]
    },
    {
     "name": "stderr",
     "output_type": "stream",
     "text": [
      "[14:47:58 - __main__] Saving to file: /path/to/data/MinION_sequencing_data_20190830/guppy_3.2.2_08_30_2019_run_01_exec_20190830/sw/fastq_runid_ee80935b39ac8eac3e848aa0e1f003f3f7be1c96_33_0.tsv\n",
      "[14:47:58 - __main__] Starting fastq (132 of 378)\n",
      "\t/path/to/data/MinION_sequencing_data_20190830/guppy_3.2.2_08_30_2019_run_01_exec_20190830/pass/fastq_runid_ee80935b39ac8eac3e848aa0e1f003f3f7be1c96_33_1.fastq\n"
     ]
    },
    {
     "name": "stdout",
     "output_type": "stream",
     "text": [
      "[########################################] | 100% Completed | 51.7s\n"
     ]
    },
    {
     "name": "stderr",
     "output_type": "stream",
     "text": [
      "[14:48:50 - __main__] Saving to file: /path/to/data/MinION_sequencing_data_20190830/guppy_3.2.2_08_30_2019_run_01_exec_20190830/sw/fastq_runid_ee80935b39ac8eac3e848aa0e1f003f3f7be1c96_33_1.tsv\n",
      "[14:48:50 - __main__] Starting fastq (133 of 378)\n",
      "\t/path/to/data/MinION_sequencing_data_20190830/guppy_3.2.2_08_30_2019_run_01_exec_20190830/pass/fastq_runid_ee80935b39ac8eac3e848aa0e1f003f3f7be1c96_32_3.fastq\n"
     ]
    },
    {
     "name": "stdout",
     "output_type": "stream",
     "text": [
      "[########################################] | 100% Completed | 18.7s\n"
     ]
    },
    {
     "name": "stderr",
     "output_type": "stream",
     "text": [
      "[14:49:09 - __main__] Saving to file: /path/to/data/MinION_sequencing_data_20190830/guppy_3.2.2_08_30_2019_run_01_exec_20190830/sw/fastq_runid_ee80935b39ac8eac3e848aa0e1f003f3f7be1c96_32_3.tsv\n",
      "[14:49:09 - __main__] Starting fastq (134 of 378)\n",
      "\t/path/to/data/MinION_sequencing_data_20190830/guppy_3.2.2_08_30_2019_run_01_exec_20190830/pass/fastq_runid_ee80935b39ac8eac3e848aa0e1f003f3f7be1c96_33_2.fastq\n"
     ]
    },
    {
     "name": "stdout",
     "output_type": "stream",
     "text": [
      "[########################################] | 100% Completed | 24.3s\n"
     ]
    },
    {
     "name": "stderr",
     "output_type": "stream",
     "text": [
      "[14:49:34 - __main__] Saving to file: /path/to/data/MinION_sequencing_data_20190830/guppy_3.2.2_08_30_2019_run_01_exec_20190830/sw/fastq_runid_ee80935b39ac8eac3e848aa0e1f003f3f7be1c96_33_2.tsv\n",
      "[14:49:34 - __main__] Starting fastq (135 of 378)\n",
      "\t/path/to/data/MinION_sequencing_data_20190830/guppy_3.2.2_08_30_2019_run_01_exec_20190830/pass/fastq_runid_ee80935b39ac8eac3e848aa0e1f003f3f7be1c96_34_0.fastq\n"
     ]
    },
    {
     "name": "stdout",
     "output_type": "stream",
     "text": [
      "[########################################] | 100% Completed | 34.8s\n"
     ]
    },
    {
     "name": "stderr",
     "output_type": "stream",
     "text": [
      "[14:50:09 - __main__] Saving to file: /path/to/data/MinION_sequencing_data_20190830/guppy_3.2.2_08_30_2019_run_01_exec_20190830/sw/fastq_runid_ee80935b39ac8eac3e848aa0e1f003f3f7be1c96_34_0.tsv\n",
      "[14:50:09 - __main__] Starting fastq (136 of 378)\n",
      "\t/path/to/data/MinION_sequencing_data_20190830/guppy_3.2.2_08_30_2019_run_01_exec_20190830/pass/fastq_runid_ee80935b39ac8eac3e848aa0e1f003f3f7be1c96_34_1.fastq\n"
     ]
    },
    {
     "name": "stdout",
     "output_type": "stream",
     "text": [
      "[########################################] | 100% Completed | 34.0s\n"
     ]
    },
    {
     "name": "stderr",
     "output_type": "stream",
     "text": [
      "[14:50:43 - __main__] Saving to file: /path/to/data/MinION_sequencing_data_20190830/guppy_3.2.2_08_30_2019_run_01_exec_20190830/sw/fastq_runid_ee80935b39ac8eac3e848aa0e1f003f3f7be1c96_34_1.tsv\n",
      "[14:50:43 - __main__] Starting fastq (137 of 378)\n",
      "\t/path/to/data/MinION_sequencing_data_20190830/guppy_3.2.2_08_30_2019_run_01_exec_20190830/pass/fastq_runid_ee80935b39ac8eac3e848aa0e1f003f3f7be1c96_33_3.fastq\n"
     ]
    },
    {
     "name": "stdout",
     "output_type": "stream",
     "text": [
      "[########################################] | 100% Completed |  9.7s\n"
     ]
    },
    {
     "name": "stderr",
     "output_type": "stream",
     "text": [
      "[14:50:53 - __main__] Saving to file: /path/to/data/MinION_sequencing_data_20190830/guppy_3.2.2_08_30_2019_run_01_exec_20190830/sw/fastq_runid_ee80935b39ac8eac3e848aa0e1f003f3f7be1c96_33_3.tsv\n",
      "[14:50:53 - __main__] Starting fastq (138 of 378)\n",
      "\t/path/to/data/MinION_sequencing_data_20190830/guppy_3.2.2_08_30_2019_run_01_exec_20190830/pass/fastq_runid_ee80935b39ac8eac3e848aa0e1f003f3f7be1c96_34_2.fastq\n"
     ]
    },
    {
     "name": "stdout",
     "output_type": "stream",
     "text": [
      "[########################################] | 100% Completed | 41.6s\n"
     ]
    },
    {
     "name": "stderr",
     "output_type": "stream",
     "text": [
      "[14:51:35 - __main__] Saving to file: /path/to/data/MinION_sequencing_data_20190830/guppy_3.2.2_08_30_2019_run_01_exec_20190830/sw/fastq_runid_ee80935b39ac8eac3e848aa0e1f003f3f7be1c96_34_2.tsv\n",
      "[14:51:35 - __main__] Starting fastq (139 of 378)\n",
      "\t/path/to/data/MinION_sequencing_data_20190830/guppy_3.2.2_08_30_2019_run_01_exec_20190830/pass/fastq_runid_ee80935b39ac8eac3e848aa0e1f003f3f7be1c96_35_0.fastq\n"
     ]
    },
    {
     "name": "stdout",
     "output_type": "stream",
     "text": [
      "[########################################] | 100% Completed | 48.0s\n"
     ]
    },
    {
     "name": "stderr",
     "output_type": "stream",
     "text": [
      "[14:52:24 - __main__] Saving to file: /path/to/data/MinION_sequencing_data_20190830/guppy_3.2.2_08_30_2019_run_01_exec_20190830/sw/fastq_runid_ee80935b39ac8eac3e848aa0e1f003f3f7be1c96_35_0.tsv\n",
      "[14:52:24 - __main__] Starting fastq (140 of 378)\n",
      "\t/path/to/data/MinION_sequencing_data_20190830/guppy_3.2.2_08_30_2019_run_01_exec_20190830/pass/fastq_runid_ee80935b39ac8eac3e848aa0e1f003f3f7be1c96_34_3.fastq\n"
     ]
    },
    {
     "name": "stdout",
     "output_type": "stream",
     "text": [
      "[########################################] | 100% Completed | 35.9s\n"
     ]
    },
    {
     "name": "stderr",
     "output_type": "stream",
     "text": [
      "[14:53:00 - __main__] Saving to file: /path/to/data/MinION_sequencing_data_20190830/guppy_3.2.2_08_30_2019_run_01_exec_20190830/sw/fastq_runid_ee80935b39ac8eac3e848aa0e1f003f3f7be1c96_34_3.tsv\n",
      "[14:53:00 - __main__] Starting fastq (141 of 378)\n",
      "\t/path/to/data/MinION_sequencing_data_20190830/guppy_3.2.2_08_30_2019_run_01_exec_20190830/pass/fastq_runid_ee80935b39ac8eac3e848aa0e1f003f3f7be1c96_35_1.fastq\n"
     ]
    },
    {
     "name": "stdout",
     "output_type": "stream",
     "text": [
      "[########################################] | 100% Completed | 55.6s\n"
     ]
    },
    {
     "name": "stderr",
     "output_type": "stream",
     "text": [
      "[14:53:56 - __main__] Saving to file: /path/to/data/MinION_sequencing_data_20190830/guppy_3.2.2_08_30_2019_run_01_exec_20190830/sw/fastq_runid_ee80935b39ac8eac3e848aa0e1f003f3f7be1c96_35_1.tsv\n",
      "[14:53:56 - __main__] Starting fastq (142 of 378)\n",
      "\t/path/to/data/MinION_sequencing_data_20190830/guppy_3.2.2_08_30_2019_run_01_exec_20190830/pass/fastq_runid_ee80935b39ac8eac3e848aa0e1f003f3f7be1c96_35_2.fastq\n"
     ]
    },
    {
     "name": "stdout",
     "output_type": "stream",
     "text": [
      "[########################################] | 100% Completed |  5.2s\n"
     ]
    },
    {
     "name": "stderr",
     "output_type": "stream",
     "text": [
      "[14:54:02 - __main__] Saving to file: /path/to/data/MinION_sequencing_data_20190830/guppy_3.2.2_08_30_2019_run_01_exec_20190830/sw/fastq_runid_ee80935b39ac8eac3e848aa0e1f003f3f7be1c96_35_2.tsv\n",
      "[14:54:02 - __main__] Starting fastq (143 of 378)\n",
      "\t/path/to/data/MinION_sequencing_data_20190830/guppy_3.2.2_08_30_2019_run_01_exec_20190830/pass/fastq_runid_ee80935b39ac8eac3e848aa0e1f003f3f7be1c96_35_3.fastq\n"
     ]
    },
    {
     "name": "stdout",
     "output_type": "stream",
     "text": [
      "[########################################] | 100% Completed | 37.4s\n"
     ]
    },
    {
     "name": "stderr",
     "output_type": "stream",
     "text": [
      "[14:54:39 - __main__] Saving to file: /path/to/data/MinION_sequencing_data_20190830/guppy_3.2.2_08_30_2019_run_01_exec_20190830/sw/fastq_runid_ee80935b39ac8eac3e848aa0e1f003f3f7be1c96_35_3.tsv\n",
      "[14:54:39 - __main__] Starting fastq (144 of 378)\n",
      "\t/path/to/data/MinION_sequencing_data_20190830/guppy_3.2.2_08_30_2019_run_01_exec_20190830/pass/fastq_runid_ee80935b39ac8eac3e848aa0e1f003f3f7be1c96_36_0.fastq\n"
     ]
    },
    {
     "name": "stdout",
     "output_type": "stream",
     "text": [
      "[########################################] | 100% Completed | 47.0s\n"
     ]
    },
    {
     "name": "stderr",
     "output_type": "stream",
     "text": [
      "[14:55:27 - __main__] Saving to file: /path/to/data/MinION_sequencing_data_20190830/guppy_3.2.2_08_30_2019_run_01_exec_20190830/sw/fastq_runid_ee80935b39ac8eac3e848aa0e1f003f3f7be1c96_36_0.tsv\n",
      "[14:55:27 - __main__] Starting fastq (145 of 378)\n",
      "\t/path/to/data/MinION_sequencing_data_20190830/guppy_3.2.2_08_30_2019_run_01_exec_20190830/pass/fastq_runid_ee80935b39ac8eac3e848aa0e1f003f3f7be1c96_36_1.fastq\n"
     ]
    },
    {
     "name": "stdout",
     "output_type": "stream",
     "text": [
      "[########################################] | 100% Completed | 41.6s\n"
     ]
    },
    {
     "name": "stderr",
     "output_type": "stream",
     "text": [
      "[14:56:09 - __main__] Saving to file: /path/to/data/MinION_sequencing_data_20190830/guppy_3.2.2_08_30_2019_run_01_exec_20190830/sw/fastq_runid_ee80935b39ac8eac3e848aa0e1f003f3f7be1c96_36_1.tsv\n",
      "[14:56:09 - __main__] Starting fastq (146 of 378)\n",
      "\t/path/to/data/MinION_sequencing_data_20190830/guppy_3.2.2_08_30_2019_run_01_exec_20190830/pass/fastq_runid_ee80935b39ac8eac3e848aa0e1f003f3f7be1c96_36_2.fastq\n"
     ]
    },
    {
     "name": "stdout",
     "output_type": "stream",
     "text": [
      "[########################################] | 100% Completed | 30.8s\n"
     ]
    },
    {
     "name": "stderr",
     "output_type": "stream",
     "text": [
      "[14:56:40 - __main__] Saving to file: /path/to/data/MinION_sequencing_data_20190830/guppy_3.2.2_08_30_2019_run_01_exec_20190830/sw/fastq_runid_ee80935b39ac8eac3e848aa0e1f003f3f7be1c96_36_2.tsv\n",
      "[14:56:40 - __main__] Starting fastq (147 of 378)\n",
      "\t/path/to/data/MinION_sequencing_data_20190830/guppy_3.2.2_08_30_2019_run_01_exec_20190830/pass/fastq_runid_ee80935b39ac8eac3e848aa0e1f003f3f7be1c96_36_3.fastq\n"
     ]
    },
    {
     "name": "stdout",
     "output_type": "stream",
     "text": [
      "[########################################] | 100% Completed | 18.1s\n"
     ]
    },
    {
     "name": "stderr",
     "output_type": "stream",
     "text": [
      "[14:56:58 - __main__] Saving to file: /path/to/data/MinION_sequencing_data_20190830/guppy_3.2.2_08_30_2019_run_01_exec_20190830/sw/fastq_runid_ee80935b39ac8eac3e848aa0e1f003f3f7be1c96_36_3.tsv\n",
      "[14:56:58 - __main__] Starting fastq (148 of 378)\n",
      "\t/path/to/data/MinION_sequencing_data_20190830/guppy_3.2.2_08_30_2019_run_01_exec_20190830/pass/fastq_runid_ee80935b39ac8eac3e848aa0e1f003f3f7be1c96_37_0.fastq\n"
     ]
    },
    {
     "name": "stdout",
     "output_type": "stream",
     "text": [
      "[########################################] | 100% Completed | 53.8s\n"
     ]
    },
    {
     "name": "stderr",
     "output_type": "stream",
     "text": [
      "[14:57:52 - __main__] Saving to file: /path/to/data/MinION_sequencing_data_20190830/guppy_3.2.2_08_30_2019_run_01_exec_20190830/sw/fastq_runid_ee80935b39ac8eac3e848aa0e1f003f3f7be1c96_37_0.tsv\n",
      "[14:57:52 - __main__] Starting fastq (149 of 378)\n",
      "\t/path/to/data/MinION_sequencing_data_20190830/guppy_3.2.2_08_30_2019_run_01_exec_20190830/pass/fastq_runid_ee80935b39ac8eac3e848aa0e1f003f3f7be1c96_37_1.fastq\n"
     ]
    },
    {
     "name": "stdout",
     "output_type": "stream",
     "text": [
      "[########################################] | 100% Completed | 27.5s\n"
     ]
    },
    {
     "name": "stderr",
     "output_type": "stream",
     "text": [
      "[14:58:20 - __main__] Saving to file: /path/to/data/MinION_sequencing_data_20190830/guppy_3.2.2_08_30_2019_run_01_exec_20190830/sw/fastq_runid_ee80935b39ac8eac3e848aa0e1f003f3f7be1c96_37_1.tsv\n",
      "[14:58:20 - __main__] Starting fastq (150 of 378)\n",
      "\t/path/to/data/MinION_sequencing_data_20190830/guppy_3.2.2_08_30_2019_run_01_exec_20190830/pass/fastq_runid_ee80935b39ac8eac3e848aa0e1f003f3f7be1c96_37_2.fastq\n"
     ]
    },
    {
     "name": "stdout",
     "output_type": "stream",
     "text": [
      "[########################################] | 100% Completed | 41.4s\n"
     ]
    },
    {
     "name": "stderr",
     "output_type": "stream",
     "text": [
      "[14:59:02 - __main__] Saving to file: /path/to/data/MinION_sequencing_data_20190830/guppy_3.2.2_08_30_2019_run_01_exec_20190830/sw/fastq_runid_ee80935b39ac8eac3e848aa0e1f003f3f7be1c96_37_2.tsv\n",
      "[14:59:02 - __main__] Starting fastq (151 of 378)\n",
      "\t/path/to/data/MinION_sequencing_data_20190830/guppy_3.2.2_08_30_2019_run_01_exec_20190830/pass/fastq_runid_ee80935b39ac8eac3e848aa0e1f003f3f7be1c96_37_3.fastq\n"
     ]
    },
    {
     "name": "stdout",
     "output_type": "stream",
     "text": [
      "[########################################] | 100% Completed | 15.4s\n"
     ]
    },
    {
     "name": "stderr",
     "output_type": "stream",
     "text": [
      "[14:59:18 - __main__] Saving to file: /path/to/data/MinION_sequencing_data_20190830/guppy_3.2.2_08_30_2019_run_01_exec_20190830/sw/fastq_runid_ee80935b39ac8eac3e848aa0e1f003f3f7be1c96_37_3.tsv\n",
      "[14:59:18 - __main__] Starting fastq (152 of 378)\n",
      "\t/path/to/data/MinION_sequencing_data_20190830/guppy_3.2.2_08_30_2019_run_01_exec_20190830/pass/fastq_runid_ee80935b39ac8eac3e848aa0e1f003f3f7be1c96_38_0.fastq\n"
     ]
    },
    {
     "name": "stdout",
     "output_type": "stream",
     "text": [
      "[########################################] | 100% Completed | 20.5s\n"
     ]
    },
    {
     "name": "stderr",
     "output_type": "stream",
     "text": [
      "[14:59:38 - __main__] Saving to file: /path/to/data/MinION_sequencing_data_20190830/guppy_3.2.2_08_30_2019_run_01_exec_20190830/sw/fastq_runid_ee80935b39ac8eac3e848aa0e1f003f3f7be1c96_38_0.tsv\n",
      "[14:59:38 - __main__] Starting fastq (153 of 378)\n",
      "\t/path/to/data/MinION_sequencing_data_20190830/guppy_3.2.2_08_30_2019_run_01_exec_20190830/pass/fastq_runid_ee80935b39ac8eac3e848aa0e1f003f3f7be1c96_38_1.fastq\n"
     ]
    },
    {
     "name": "stdout",
     "output_type": "stream",
     "text": [
      "[########################################] | 100% Completed |  1min  1.0s\n"
     ]
    },
    {
     "name": "stderr",
     "output_type": "stream",
     "text": [
      "[15:00:40 - __main__] Saving to file: /path/to/data/MinION_sequencing_data_20190830/guppy_3.2.2_08_30_2019_run_01_exec_20190830/sw/fastq_runid_ee80935b39ac8eac3e848aa0e1f003f3f7be1c96_38_1.tsv\n",
      "[15:00:40 - __main__] Starting fastq (154 of 378)\n",
      "\t/path/to/data/MinION_sequencing_data_20190830/guppy_3.2.2_08_30_2019_run_01_exec_20190830/pass/fastq_runid_ee80935b39ac8eac3e848aa0e1f003f3f7be1c96_38_2.fastq\n"
     ]
    },
    {
     "name": "stdout",
     "output_type": "stream",
     "text": [
      "[########################################] | 100% Completed | 53.4s\n"
     ]
    },
    {
     "name": "stderr",
     "output_type": "stream",
     "text": [
      "[15:01:34 - __main__] Saving to file: /path/to/data/MinION_sequencing_data_20190830/guppy_3.2.2_08_30_2019_run_01_exec_20190830/sw/fastq_runid_ee80935b39ac8eac3e848aa0e1f003f3f7be1c96_38_2.tsv\n",
      "[15:01:34 - __main__] Starting fastq (155 of 378)\n",
      "\t/path/to/data/MinION_sequencing_data_20190830/guppy_3.2.2_08_30_2019_run_01_exec_20190830/pass/fastq_runid_ee80935b39ac8eac3e848aa0e1f003f3f7be1c96_39_0.fastq\n"
     ]
    },
    {
     "name": "stdout",
     "output_type": "stream",
     "text": [
      "[########################################] | 100% Completed |  1min  6.5s\n"
     ]
    },
    {
     "name": "stderr",
     "output_type": "stream",
     "text": [
      "[15:02:40 - __main__] Saving to file: /path/to/data/MinION_sequencing_data_20190830/guppy_3.2.2_08_30_2019_run_01_exec_20190830/sw/fastq_runid_ee80935b39ac8eac3e848aa0e1f003f3f7be1c96_39_0.tsv\n",
      "[15:02:41 - __main__] Starting fastq (156 of 378)\n",
      "\t/path/to/data/MinION_sequencing_data_20190830/guppy_3.2.2_08_30_2019_run_01_exec_20190830/pass/fastq_runid_ee80935b39ac8eac3e848aa0e1f003f3f7be1c96_38_3.fastq\n"
     ]
    },
    {
     "name": "stdout",
     "output_type": "stream",
     "text": [
      "[########################################] | 100% Completed |  3.9s\n"
     ]
    },
    {
     "name": "stderr",
     "output_type": "stream",
     "text": [
      "[15:02:45 - __main__] Saving to file: /path/to/data/MinION_sequencing_data_20190830/guppy_3.2.2_08_30_2019_run_01_exec_20190830/sw/fastq_runid_ee80935b39ac8eac3e848aa0e1f003f3f7be1c96_38_3.tsv\n",
      "[15:02:45 - __main__] Starting fastq (157 of 378)\n",
      "\t/path/to/data/MinION_sequencing_data_20190830/guppy_3.2.2_08_30_2019_run_01_exec_20190830/pass/fastq_runid_ee80935b39ac8eac3e848aa0e1f003f3f7be1c96_39_1.fastq\n"
     ]
    },
    {
     "name": "stdout",
     "output_type": "stream",
     "text": [
      "[########################################] | 100% Completed | 51.8s\n"
     ]
    },
    {
     "name": "stderr",
     "output_type": "stream",
     "text": [
      "[15:03:37 - __main__] Saving to file: /path/to/data/MinION_sequencing_data_20190830/guppy_3.2.2_08_30_2019_run_01_exec_20190830/sw/fastq_runid_ee80935b39ac8eac3e848aa0e1f003f3f7be1c96_39_1.tsv\n",
      "[15:03:37 - __main__] Starting fastq (158 of 378)\n",
      "\t/path/to/data/MinION_sequencing_data_20190830/guppy_3.2.2_08_30_2019_run_01_exec_20190830/pass/fastq_runid_ee80935b39ac8eac3e848aa0e1f003f3f7be1c96_39_2.fastq\n"
     ]
    },
    {
     "name": "stdout",
     "output_type": "stream",
     "text": [
      "[########################################] | 100% Completed |  8.4s\n"
     ]
    },
    {
     "name": "stderr",
     "output_type": "stream",
     "text": [
      "[15:03:46 - __main__] Saving to file: /path/to/data/MinION_sequencing_data_20190830/guppy_3.2.2_08_30_2019_run_01_exec_20190830/sw/fastq_runid_ee80935b39ac8eac3e848aa0e1f003f3f7be1c96_39_2.tsv\n",
      "[15:03:46 - __main__] Starting fastq (159 of 378)\n",
      "\t/path/to/data/MinION_sequencing_data_20190830/guppy_3.2.2_08_30_2019_run_01_exec_20190830/pass/fastq_runid_ee80935b39ac8eac3e848aa0e1f003f3f7be1c96_39_3.fastq\n"
     ]
    },
    {
     "name": "stdout",
     "output_type": "stream",
     "text": [
      "[########################################] | 100% Completed | 13.9s\n"
     ]
    },
    {
     "name": "stderr",
     "output_type": "stream",
     "text": [
      "[15:04:00 - __main__] Saving to file: /path/to/data/MinION_sequencing_data_20190830/guppy_3.2.2_08_30_2019_run_01_exec_20190830/sw/fastq_runid_ee80935b39ac8eac3e848aa0e1f003f3f7be1c96_39_3.tsv\n",
      "[15:04:00 - __main__] Starting fastq (160 of 378)\n",
      "\t/path/to/data/MinION_sequencing_data_20190830/guppy_3.2.2_08_30_2019_run_01_exec_20190830/pass/fastq_runid_ee80935b39ac8eac3e848aa0e1f003f3f7be1c96_40_0.fastq\n"
     ]
    },
    {
     "name": "stdout",
     "output_type": "stream",
     "text": [
      "[########################################] | 100% Completed |  1min 39.9s\n"
     ]
    },
    {
     "name": "stderr",
     "output_type": "stream",
     "text": [
      "[15:05:40 - __main__] Saving to file: /path/to/data/MinION_sequencing_data_20190830/guppy_3.2.2_08_30_2019_run_01_exec_20190830/sw/fastq_runid_ee80935b39ac8eac3e848aa0e1f003f3f7be1c96_40_0.tsv\n",
      "[15:05:40 - __main__] Starting fastq (161 of 378)\n",
      "\t/path/to/data/MinION_sequencing_data_20190830/guppy_3.2.2_08_30_2019_run_01_exec_20190830/pass/fastq_runid_ee80935b39ac8eac3e848aa0e1f003f3f7be1c96_40_1.fastq\n"
     ]
    },
    {
     "name": "stdout",
     "output_type": "stream",
     "text": [
      "[########################################] | 100% Completed | 16.4s\n"
     ]
    },
    {
     "name": "stderr",
     "output_type": "stream",
     "text": [
      "[15:05:57 - __main__] Saving to file: /path/to/data/MinION_sequencing_data_20190830/guppy_3.2.2_08_30_2019_run_01_exec_20190830/sw/fastq_runid_ee80935b39ac8eac3e848aa0e1f003f3f7be1c96_40_1.tsv\n",
      "[15:05:57 - __main__] Starting fastq (162 of 378)\n",
      "\t/path/to/data/MinION_sequencing_data_20190830/guppy_3.2.2_08_30_2019_run_01_exec_20190830/pass/fastq_runid_ee80935b39ac8eac3e848aa0e1f003f3f7be1c96_40_2.fastq\n"
     ]
    },
    {
     "name": "stdout",
     "output_type": "stream",
     "text": [
      "[########################################] | 100% Completed | 17.8s\n"
     ]
    },
    {
     "name": "stderr",
     "output_type": "stream",
     "text": [
      "[15:06:15 - __main__] Saving to file: /path/to/data/MinION_sequencing_data_20190830/guppy_3.2.2_08_30_2019_run_01_exec_20190830/sw/fastq_runid_ee80935b39ac8eac3e848aa0e1f003f3f7be1c96_40_2.tsv\n",
      "[15:06:15 - __main__] Starting fastq (163 of 378)\n",
      "\t/path/to/data/MinION_sequencing_data_20190830/guppy_3.2.2_08_30_2019_run_01_exec_20190830/pass/fastq_runid_ee80935b39ac8eac3e848aa0e1f003f3f7be1c96_40_3.fastq\n"
     ]
    },
    {
     "name": "stdout",
     "output_type": "stream",
     "text": [
      "[########################################] | 100% Completed |  2.3s\n"
     ]
    },
    {
     "name": "stderr",
     "output_type": "stream",
     "text": [
      "[15:06:18 - __main__] Saving to file: /path/to/data/MinION_sequencing_data_20190830/guppy_3.2.2_08_30_2019_run_01_exec_20190830/sw/fastq_runid_ee80935b39ac8eac3e848aa0e1f003f3f7be1c96_40_3.tsv\n",
      "[15:06:18 - __main__] Starting fastq (164 of 378)\n",
      "\t/path/to/data/MinION_sequencing_data_20190830/guppy_3.2.2_08_30_2019_run_01_exec_20190830/pass/fastq_runid_ee80935b39ac8eac3e848aa0e1f003f3f7be1c96_41_0.fastq\n"
     ]
    },
    {
     "name": "stdout",
     "output_type": "stream",
     "text": [
      "[########################################] | 100% Completed | 30.2s\n"
     ]
    },
    {
     "name": "stderr",
     "output_type": "stream",
     "text": [
      "[15:06:48 - __main__] Saving to file: /path/to/data/MinION_sequencing_data_20190830/guppy_3.2.2_08_30_2019_run_01_exec_20190830/sw/fastq_runid_ee80935b39ac8eac3e848aa0e1f003f3f7be1c96_41_0.tsv\n",
      "[15:06:48 - __main__] Starting fastq (165 of 378)\n",
      "\t/path/to/data/MinION_sequencing_data_20190830/guppy_3.2.2_08_30_2019_run_01_exec_20190830/pass/fastq_runid_ee80935b39ac8eac3e848aa0e1f003f3f7be1c96_41_1.fastq\n"
     ]
    },
    {
     "name": "stdout",
     "output_type": "stream",
     "text": [
      "[########################################] | 100% Completed |  1min  7.1s\n"
     ]
    },
    {
     "name": "stderr",
     "output_type": "stream",
     "text": [
      "[15:07:56 - __main__] Saving to file: /path/to/data/MinION_sequencing_data_20190830/guppy_3.2.2_08_30_2019_run_01_exec_20190830/sw/fastq_runid_ee80935b39ac8eac3e848aa0e1f003f3f7be1c96_41_1.tsv\n",
      "[15:07:56 - __main__] Starting fastq (166 of 378)\n",
      "\t/path/to/data/MinION_sequencing_data_20190830/guppy_3.2.2_08_30_2019_run_01_exec_20190830/pass/fastq_runid_ee80935b39ac8eac3e848aa0e1f003f3f7be1c96_41_2.fastq\n"
     ]
    },
    {
     "name": "stdout",
     "output_type": "stream",
     "text": [
      "[########################################] | 100% Completed | 37.7s\n"
     ]
    },
    {
     "name": "stderr",
     "output_type": "stream",
     "text": [
      "[15:08:34 - __main__] Saving to file: /path/to/data/MinION_sequencing_data_20190830/guppy_3.2.2_08_30_2019_run_01_exec_20190830/sw/fastq_runid_ee80935b39ac8eac3e848aa0e1f003f3f7be1c96_41_2.tsv\n",
      "[15:08:34 - __main__] Starting fastq (167 of 378)\n",
      "\t/path/to/data/MinION_sequencing_data_20190830/guppy_3.2.2_08_30_2019_run_01_exec_20190830/pass/fastq_runid_ee80935b39ac8eac3e848aa0e1f003f3f7be1c96_42_0.fastq\n"
     ]
    },
    {
     "name": "stdout",
     "output_type": "stream",
     "text": [
      "[########################################] | 100% Completed | 48.5s\n"
     ]
    },
    {
     "name": "stderr",
     "output_type": "stream",
     "text": [
      "[15:09:23 - __main__] Saving to file: /path/to/data/MinION_sequencing_data_20190830/guppy_3.2.2_08_30_2019_run_01_exec_20190830/sw/fastq_runid_ee80935b39ac8eac3e848aa0e1f003f3f7be1c96_42_0.tsv\n",
      "[15:09:23 - __main__] Starting fastq (168 of 378)\n",
      "\t/path/to/data/MinION_sequencing_data_20190830/guppy_3.2.2_08_30_2019_run_01_exec_20190830/pass/fastq_runid_ee80935b39ac8eac3e848aa0e1f003f3f7be1c96_42_1.fastq\n"
     ]
    },
    {
     "name": "stdout",
     "output_type": "stream",
     "text": [
      "[########################################] | 100% Completed |  1min 19.9s\n"
     ]
    },
    {
     "name": "stderr",
     "output_type": "stream",
     "text": [
      "[15:10:43 - __main__] Saving to file: /path/to/data/MinION_sequencing_data_20190830/guppy_3.2.2_08_30_2019_run_01_exec_20190830/sw/fastq_runid_ee80935b39ac8eac3e848aa0e1f003f3f7be1c96_42_1.tsv\n",
      "[15:10:43 - __main__] Starting fastq (169 of 378)\n",
      "\t/path/to/data/MinION_sequencing_data_20190830/guppy_3.2.2_08_30_2019_run_01_exec_20190830/pass/fastq_runid_ee80935b39ac8eac3e848aa0e1f003f3f7be1c96_42_2.fastq\n"
     ]
    },
    {
     "name": "stdout",
     "output_type": "stream",
     "text": [
      "[########################################] | 100% Completed |  6.0s\n"
     ]
    },
    {
     "name": "stderr",
     "output_type": "stream",
     "text": [
      "[15:10:49 - __main__] Saving to file: /path/to/data/MinION_sequencing_data_20190830/guppy_3.2.2_08_30_2019_run_01_exec_20190830/sw/fastq_runid_ee80935b39ac8eac3e848aa0e1f003f3f7be1c96_42_2.tsv\n",
      "[15:10:49 - __main__] Starting fastq (170 of 378)\n",
      "\t/path/to/data/MinION_sequencing_data_20190830/guppy_3.2.2_08_30_2019_run_01_exec_20190830/pass/fastq_runid_ee80935b39ac8eac3e848aa0e1f003f3f7be1c96_43_0.fastq\n"
     ]
    },
    {
     "name": "stdout",
     "output_type": "stream",
     "text": [
      "[########################################] | 100% Completed |  1min 23.9s\n"
     ]
    },
    {
     "name": "stderr",
     "output_type": "stream",
     "text": [
      "[15:12:14 - __main__] Saving to file: /path/to/data/MinION_sequencing_data_20190830/guppy_3.2.2_08_30_2019_run_01_exec_20190830/sw/fastq_runid_ee80935b39ac8eac3e848aa0e1f003f3f7be1c96_43_0.tsv\n",
      "[15:12:14 - __main__] Starting fastq (171 of 378)\n",
      "\t/path/to/data/MinION_sequencing_data_20190830/guppy_3.2.2_08_30_2019_run_01_exec_20190830/pass/fastq_runid_ee80935b39ac8eac3e848aa0e1f003f3f7be1c96_43_1.fastq\n"
     ]
    },
    {
     "name": "stdout",
     "output_type": "stream",
     "text": [
      "[########################################] | 100% Completed | 47.2s\n"
     ]
    },
    {
     "name": "stderr",
     "output_type": "stream",
     "text": [
      "[15:13:01 - __main__] Saving to file: /path/to/data/MinION_sequencing_data_20190830/guppy_3.2.2_08_30_2019_run_01_exec_20190830/sw/fastq_runid_ee80935b39ac8eac3e848aa0e1f003f3f7be1c96_43_1.tsv\n",
      "[15:13:01 - __main__] Starting fastq (172 of 378)\n",
      "\t/path/to/data/MinION_sequencing_data_20190830/guppy_3.2.2_08_30_2019_run_01_exec_20190830/pass/fastq_runid_ee80935b39ac8eac3e848aa0e1f003f3f7be1c96_41_3.fastq\n"
     ]
    },
    {
     "name": "stdout",
     "output_type": "stream",
     "text": [
      "[########################################] | 100% Completed |  5.1s\n"
     ]
    },
    {
     "name": "stderr",
     "output_type": "stream",
     "text": [
      "[15:13:07 - __main__] Saving to file: /path/to/data/MinION_sequencing_data_20190830/guppy_3.2.2_08_30_2019_run_01_exec_20190830/sw/fastq_runid_ee80935b39ac8eac3e848aa0e1f003f3f7be1c96_41_3.tsv\n",
      "[15:13:07 - __main__] Starting fastq (173 of 378)\n",
      "\t/path/to/data/MinION_sequencing_data_20190830/guppy_3.2.2_08_30_2019_run_01_exec_20190830/pass/fastq_runid_ee80935b39ac8eac3e848aa0e1f003f3f7be1c96_42_3.fastq\n"
     ]
    },
    {
     "name": "stdout",
     "output_type": "stream",
     "text": [
      "[########################################] | 100% Completed |  7.0s\n"
     ]
    },
    {
     "name": "stderr",
     "output_type": "stream",
     "text": [
      "[15:13:14 - __main__] Saving to file: /path/to/data/MinION_sequencing_data_20190830/guppy_3.2.2_08_30_2019_run_01_exec_20190830/sw/fastq_runid_ee80935b39ac8eac3e848aa0e1f003f3f7be1c96_42_3.tsv\n",
      "[15:13:14 - __main__] Starting fastq (174 of 378)\n",
      "\t/path/to/data/MinION_sequencing_data_20190830/guppy_3.2.2_08_30_2019_run_01_exec_20190830/pass/fastq_runid_ee80935b39ac8eac3e848aa0e1f003f3f7be1c96_44_0.fastq\n"
     ]
    },
    {
     "name": "stdout",
     "output_type": "stream",
     "text": [
      "[########################################] | 100% Completed | 18.5s\n"
     ]
    },
    {
     "name": "stderr",
     "output_type": "stream",
     "text": [
      "[15:13:33 - __main__] Saving to file: /path/to/data/MinION_sequencing_data_20190830/guppy_3.2.2_08_30_2019_run_01_exec_20190830/sw/fastq_runid_ee80935b39ac8eac3e848aa0e1f003f3f7be1c96_44_0.tsv\n",
      "[15:13:33 - __main__] Starting fastq (175 of 378)\n",
      "\t/path/to/data/MinION_sequencing_data_20190830/guppy_3.2.2_08_30_2019_run_01_exec_20190830/pass/fastq_runid_ee80935b39ac8eac3e848aa0e1f003f3f7be1c96_43_2.fastq\n"
     ]
    },
    {
     "name": "stdout",
     "output_type": "stream",
     "text": [
      "[########################################] | 100% Completed |  5.6s\n"
     ]
    },
    {
     "name": "stderr",
     "output_type": "stream",
     "text": [
      "[15:13:39 - __main__] Saving to file: /path/to/data/MinION_sequencing_data_20190830/guppy_3.2.2_08_30_2019_run_01_exec_20190830/sw/fastq_runid_ee80935b39ac8eac3e848aa0e1f003f3f7be1c96_43_2.tsv\n",
      "[15:13:39 - __main__] Starting fastq (176 of 378)\n",
      "\t/path/to/data/MinION_sequencing_data_20190830/guppy_3.2.2_08_30_2019_run_01_exec_20190830/pass/fastq_runid_ee80935b39ac8eac3e848aa0e1f003f3f7be1c96_44_1.fastq\n"
     ]
    },
    {
     "name": "stdout",
     "output_type": "stream",
     "text": [
      "[########################################] | 100% Completed | 39.8s\n"
     ]
    },
    {
     "name": "stderr",
     "output_type": "stream",
     "text": [
      "[15:14:19 - __main__] Saving to file: /path/to/data/MinION_sequencing_data_20190830/guppy_3.2.2_08_30_2019_run_01_exec_20190830/sw/fastq_runid_ee80935b39ac8eac3e848aa0e1f003f3f7be1c96_44_1.tsv\n",
      "[15:14:19 - __main__] Starting fastq (177 of 378)\n",
      "\t/path/to/data/MinION_sequencing_data_20190830/guppy_3.2.2_08_30_2019_run_01_exec_20190830/pass/fastq_runid_ee80935b39ac8eac3e848aa0e1f003f3f7be1c96_43_3.fastq\n"
     ]
    },
    {
     "name": "stdout",
     "output_type": "stream",
     "text": [
      "[########################################] | 100% Completed |  1.0s\n"
     ]
    },
    {
     "name": "stderr",
     "output_type": "stream",
     "text": [
      "[15:14:20 - __main__] Saving to file: /path/to/data/MinION_sequencing_data_20190830/guppy_3.2.2_08_30_2019_run_01_exec_20190830/sw/fastq_runid_ee80935b39ac8eac3e848aa0e1f003f3f7be1c96_43_3.tsv\n",
      "[15:14:20 - __main__] Starting fastq (178 of 378)\n",
      "\t/path/to/data/MinION_sequencing_data_20190830/guppy_3.2.2_08_30_2019_run_01_exec_20190830/pass/fastq_runid_ee80935b39ac8eac3e848aa0e1f003f3f7be1c96_44_2.fastq\n"
     ]
    },
    {
     "name": "stdout",
     "output_type": "stream",
     "text": [
      "[########################################] | 100% Completed | 46.2s\n"
     ]
    },
    {
     "name": "stderr",
     "output_type": "stream",
     "text": [
      "[15:15:07 - __main__] Saving to file: /path/to/data/MinION_sequencing_data_20190830/guppy_3.2.2_08_30_2019_run_01_exec_20190830/sw/fastq_runid_ee80935b39ac8eac3e848aa0e1f003f3f7be1c96_44_2.tsv\n",
      "[15:15:07 - __main__] Starting fastq (179 of 378)\n",
      "\t/path/to/data/MinION_sequencing_data_20190830/guppy_3.2.2_08_30_2019_run_01_exec_20190830/pass/fastq_runid_ee80935b39ac8eac3e848aa0e1f003f3f7be1c96_44_3.fastq\n"
     ]
    },
    {
     "name": "stdout",
     "output_type": "stream",
     "text": [
      "[########################################] | 100% Completed | 33.5s\n"
     ]
    },
    {
     "name": "stderr",
     "output_type": "stream",
     "text": [
      "[15:15:40 - __main__] Saving to file: /path/to/data/MinION_sequencing_data_20190830/guppy_3.2.2_08_30_2019_run_01_exec_20190830/sw/fastq_runid_ee80935b39ac8eac3e848aa0e1f003f3f7be1c96_44_3.tsv\n",
      "[15:15:40 - __main__] Starting fastq (180 of 378)\n",
      "\t/path/to/data/MinION_sequencing_data_20190830/guppy_3.2.2_08_30_2019_run_01_exec_20190830/pass/fastq_runid_ee80935b39ac8eac3e848aa0e1f003f3f7be1c96_45_0.fastq\n"
     ]
    },
    {
     "name": "stdout",
     "output_type": "stream",
     "text": [
      "[########################################] | 100% Completed |  1min  0.8s\n"
     ]
    },
    {
     "name": "stderr",
     "output_type": "stream",
     "text": [
      "[15:16:42 - __main__] Saving to file: /path/to/data/MinION_sequencing_data_20190830/guppy_3.2.2_08_30_2019_run_01_exec_20190830/sw/fastq_runid_ee80935b39ac8eac3e848aa0e1f003f3f7be1c96_45_0.tsv\n",
      "[15:16:42 - __main__] Starting fastq (181 of 378)\n",
      "\t/path/to/data/MinION_sequencing_data_20190830/guppy_3.2.2_08_30_2019_run_01_exec_20190830/pass/fastq_runid_ee80935b39ac8eac3e848aa0e1f003f3f7be1c96_45_1.fastq\n"
     ]
    },
    {
     "name": "stdout",
     "output_type": "stream",
     "text": [
      "[########################################] | 100% Completed | 24.1s\n"
     ]
    },
    {
     "name": "stderr",
     "output_type": "stream",
     "text": [
      "[15:17:06 - __main__] Saving to file: /path/to/data/MinION_sequencing_data_20190830/guppy_3.2.2_08_30_2019_run_01_exec_20190830/sw/fastq_runid_ee80935b39ac8eac3e848aa0e1f003f3f7be1c96_45_1.tsv\n",
      "[15:17:06 - __main__] Starting fastq (182 of 378)\n",
      "\t/path/to/data/MinION_sequencing_data_20190830/guppy_3.2.2_08_30_2019_run_01_exec_20190830/pass/fastq_runid_ee80935b39ac8eac3e848aa0e1f003f3f7be1c96_46_0.fastq\n"
     ]
    },
    {
     "name": "stdout",
     "output_type": "stream",
     "text": [
      "[########################################] | 100% Completed | 53.6s\n"
     ]
    },
    {
     "name": "stderr",
     "output_type": "stream",
     "text": [
      "[15:18:00 - __main__] Saving to file: /path/to/data/MinION_sequencing_data_20190830/guppy_3.2.2_08_30_2019_run_01_exec_20190830/sw/fastq_runid_ee80935b39ac8eac3e848aa0e1f003f3f7be1c96_46_0.tsv\n",
      "[15:18:00 - __main__] Starting fastq (183 of 378)\n",
      "\t/path/to/data/MinION_sequencing_data_20190830/guppy_3.2.2_08_30_2019_run_01_exec_20190830/pass/fastq_runid_ee80935b39ac8eac3e848aa0e1f003f3f7be1c96_45_2.fastq\n"
     ]
    },
    {
     "name": "stdout",
     "output_type": "stream",
     "text": [
      "[########################################] | 100% Completed | 31.0s\n"
     ]
    },
    {
     "name": "stderr",
     "output_type": "stream",
     "text": [
      "[15:18:32 - __main__] Saving to file: /path/to/data/MinION_sequencing_data_20190830/guppy_3.2.2_08_30_2019_run_01_exec_20190830/sw/fastq_runid_ee80935b39ac8eac3e848aa0e1f003f3f7be1c96_45_2.tsv\n",
      "[15:18:32 - __main__] Starting fastq (184 of 378)\n",
      "\t/path/to/data/MinION_sequencing_data_20190830/guppy_3.2.2_08_30_2019_run_01_exec_20190830/pass/fastq_runid_ee80935b39ac8eac3e848aa0e1f003f3f7be1c96_46_1.fastq\n"
     ]
    },
    {
     "name": "stdout",
     "output_type": "stream",
     "text": [
      "[########################################] | 100% Completed |  1min 10.0s\n"
     ]
    },
    {
     "name": "stderr",
     "output_type": "stream",
     "text": [
      "[15:19:42 - __main__] Saving to file: /path/to/data/MinION_sequencing_data_20190830/guppy_3.2.2_08_30_2019_run_01_exec_20190830/sw/fastq_runid_ee80935b39ac8eac3e848aa0e1f003f3f7be1c96_46_1.tsv\n",
      "[15:19:42 - __main__] Starting fastq (185 of 378)\n",
      "\t/path/to/data/MinION_sequencing_data_20190830/guppy_3.2.2_08_30_2019_run_01_exec_20190830/pass/fastq_runid_ee80935b39ac8eac3e848aa0e1f003f3f7be1c96_45_3.fastq\n"
     ]
    },
    {
     "name": "stdout",
     "output_type": "stream",
     "text": [
      "[########################################] | 100% Completed | 25.5s\n"
     ]
    },
    {
     "name": "stderr",
     "output_type": "stream",
     "text": [
      "[15:20:08 - __main__] Saving to file: /path/to/data/MinION_sequencing_data_20190830/guppy_3.2.2_08_30_2019_run_01_exec_20190830/sw/fastq_runid_ee80935b39ac8eac3e848aa0e1f003f3f7be1c96_45_3.tsv\n",
      "[15:20:08 - __main__] Starting fastq (186 of 378)\n",
      "\t/path/to/data/MinION_sequencing_data_20190830/guppy_3.2.2_08_30_2019_run_01_exec_20190830/pass/fastq_runid_ee80935b39ac8eac3e848aa0e1f003f3f7be1c96_46_2.fastq\n"
     ]
    },
    {
     "name": "stdout",
     "output_type": "stream",
     "text": [
      "[########################################] | 100% Completed |  4.4s\n"
     ]
    },
    {
     "name": "stderr",
     "output_type": "stream",
     "text": [
      "[15:20:13 - __main__] Saving to file: /path/to/data/MinION_sequencing_data_20190830/guppy_3.2.2_08_30_2019_run_01_exec_20190830/sw/fastq_runid_ee80935b39ac8eac3e848aa0e1f003f3f7be1c96_46_2.tsv\n",
      "[15:20:13 - __main__] Starting fastq (187 of 378)\n",
      "\t/path/to/data/MinION_sequencing_data_20190830/guppy_3.2.2_08_30_2019_run_01_exec_20190830/pass/fastq_runid_ee80935b39ac8eac3e848aa0e1f003f3f7be1c96_46_3.fastq\n"
     ]
    },
    {
     "name": "stdout",
     "output_type": "stream",
     "text": [
      "[########################################] | 100% Completed |  7.7s\n"
     ]
    },
    {
     "name": "stderr",
     "output_type": "stream",
     "text": [
      "[15:20:21 - __main__] Saving to file: /path/to/data/MinION_sequencing_data_20190830/guppy_3.2.2_08_30_2019_run_01_exec_20190830/sw/fastq_runid_ee80935b39ac8eac3e848aa0e1f003f3f7be1c96_46_3.tsv\n",
      "[15:20:21 - __main__] Starting fastq (188 of 378)\n",
      "\t/path/to/data/MinION_sequencing_data_20190830/guppy_3.2.2_08_30_2019_run_01_exec_20190830/pass/fastq_runid_ee80935b39ac8eac3e848aa0e1f003f3f7be1c96_47_0.fastq\n"
     ]
    },
    {
     "name": "stdout",
     "output_type": "stream",
     "text": [
      "[########################################] | 100% Completed | 32.7s\n"
     ]
    },
    {
     "name": "stderr",
     "output_type": "stream",
     "text": [
      "[15:20:54 - __main__] Saving to file: /path/to/data/MinION_sequencing_data_20190830/guppy_3.2.2_08_30_2019_run_01_exec_20190830/sw/fastq_runid_ee80935b39ac8eac3e848aa0e1f003f3f7be1c96_47_0.tsv\n",
      "[15:20:54 - __main__] Starting fastq (189 of 378)\n",
      "\t/path/to/data/MinION_sequencing_data_20190830/guppy_3.2.2_08_30_2019_run_01_exec_20190830/pass/fastq_runid_ee80935b39ac8eac3e848aa0e1f003f3f7be1c96_47_1.fastq\n"
     ]
    },
    {
     "name": "stdout",
     "output_type": "stream",
     "text": [
      "[########################################] | 100% Completed |  1min  5.3s\n"
     ]
    },
    {
     "name": "stderr",
     "output_type": "stream",
     "text": [
      "[15:21:59 - __main__] Saving to file: /path/to/data/MinION_sequencing_data_20190830/guppy_3.2.2_08_30_2019_run_01_exec_20190830/sw/fastq_runid_ee80935b39ac8eac3e848aa0e1f003f3f7be1c96_47_1.tsv\n",
      "[15:21:59 - __main__] Starting fastq (190 of 378)\n",
      "\t/path/to/data/MinION_sequencing_data_20190830/guppy_3.2.2_08_30_2019_run_01_exec_20190830/pass/fastq_runid_ee80935b39ac8eac3e848aa0e1f003f3f7be1c96_47_2.fastq\n"
     ]
    },
    {
     "name": "stdout",
     "output_type": "stream",
     "text": [
      "[########################################] | 100% Completed | 38.0s\n"
     ]
    },
    {
     "name": "stderr",
     "output_type": "stream",
     "text": [
      "[15:22:38 - __main__] Saving to file: /path/to/data/MinION_sequencing_data_20190830/guppy_3.2.2_08_30_2019_run_01_exec_20190830/sw/fastq_runid_ee80935b39ac8eac3e848aa0e1f003f3f7be1c96_47_2.tsv\n",
      "[15:22:38 - __main__] Starting fastq (191 of 378)\n",
      "\t/path/to/data/MinION_sequencing_data_20190830/guppy_3.2.2_08_30_2019_run_01_exec_20190830/pass/fastq_runid_ee80935b39ac8eac3e848aa0e1f003f3f7be1c96_48_0.fastq\n"
     ]
    },
    {
     "name": "stdout",
     "output_type": "stream",
     "text": [
      "[########################################] | 100% Completed | 53.2s\n"
     ]
    },
    {
     "name": "stderr",
     "output_type": "stream",
     "text": [
      "[15:23:31 - __main__] Saving to file: /path/to/data/MinION_sequencing_data_20190830/guppy_3.2.2_08_30_2019_run_01_exec_20190830/sw/fastq_runid_ee80935b39ac8eac3e848aa0e1f003f3f7be1c96_48_0.tsv\n",
      "[15:23:31 - __main__] Starting fastq (192 of 378)\n",
      "\t/path/to/data/MinION_sequencing_data_20190830/guppy_3.2.2_08_30_2019_run_01_exec_20190830/pass/fastq_runid_ee80935b39ac8eac3e848aa0e1f003f3f7be1c96_47_3.fastq\n"
     ]
    },
    {
     "name": "stdout",
     "output_type": "stream",
     "text": [
      "[########################################] | 100% Completed |  1.8s\n"
     ]
    },
    {
     "name": "stderr",
     "output_type": "stream",
     "text": [
      "[15:23:33 - __main__] Saving to file: /path/to/data/MinION_sequencing_data_20190830/guppy_3.2.2_08_30_2019_run_01_exec_20190830/sw/fastq_runid_ee80935b39ac8eac3e848aa0e1f003f3f7be1c96_47_3.tsv\n",
      "[15:23:34 - __main__] Starting fastq (193 of 378)\n",
      "\t/path/to/data/MinION_sequencing_data_20190830/guppy_3.2.2_08_30_2019_run_01_exec_20190830/pass/fastq_runid_ee80935b39ac8eac3e848aa0e1f003f3f7be1c96_48_1.fastq\n"
     ]
    },
    {
     "name": "stdout",
     "output_type": "stream",
     "text": [
      "[########################################] | 100% Completed | 29.1s\n"
     ]
    },
    {
     "name": "stderr",
     "output_type": "stream",
     "text": [
      "[15:24:03 - __main__] Saving to file: /path/to/data/MinION_sequencing_data_20190830/guppy_3.2.2_08_30_2019_run_01_exec_20190830/sw/fastq_runid_ee80935b39ac8eac3e848aa0e1f003f3f7be1c96_48_1.tsv\n",
      "[15:24:03 - __main__] Starting fastq (194 of 378)\n",
      "\t/path/to/data/MinION_sequencing_data_20190830/guppy_3.2.2_08_30_2019_run_01_exec_20190830/pass/fastq_runid_ee80935b39ac8eac3e848aa0e1f003f3f7be1c96_48_2.fastq\n"
     ]
    },
    {
     "name": "stdout",
     "output_type": "stream",
     "text": [
      "[########################################] | 100% Completed | 50.9s\n"
     ]
    },
    {
     "name": "stderr",
     "output_type": "stream",
     "text": [
      "[15:24:54 - __main__] Saving to file: /path/to/data/MinION_sequencing_data_20190830/guppy_3.2.2_08_30_2019_run_01_exec_20190830/sw/fastq_runid_ee80935b39ac8eac3e848aa0e1f003f3f7be1c96_48_2.tsv\n",
      "[15:24:54 - __main__] Starting fastq (195 of 378)\n",
      "\t/path/to/data/MinION_sequencing_data_20190830/guppy_3.2.2_08_30_2019_run_01_exec_20190830/pass/fastq_runid_ee80935b39ac8eac3e848aa0e1f003f3f7be1c96_49_0.fastq\n"
     ]
    },
    {
     "name": "stdout",
     "output_type": "stream",
     "text": [
      "[########################################] | 100% Completed | 46.6s\n"
     ]
    },
    {
     "name": "stderr",
     "output_type": "stream",
     "text": [
      "[15:25:41 - __main__] Saving to file: /path/to/data/MinION_sequencing_data_20190830/guppy_3.2.2_08_30_2019_run_01_exec_20190830/sw/fastq_runid_ee80935b39ac8eac3e848aa0e1f003f3f7be1c96_49_0.tsv\n",
      "[15:25:41 - __main__] Starting fastq (196 of 378)\n",
      "\t/path/to/data/MinION_sequencing_data_20190830/guppy_3.2.2_08_30_2019_run_01_exec_20190830/pass/fastq_runid_ee80935b39ac8eac3e848aa0e1f003f3f7be1c96_48_3.fastq\n"
     ]
    },
    {
     "name": "stdout",
     "output_type": "stream",
     "text": [
      "[########################################] | 100% Completed |  5.1s\n"
     ]
    },
    {
     "name": "stderr",
     "output_type": "stream",
     "text": [
      "[15:25:47 - __main__] Saving to file: /path/to/data/MinION_sequencing_data_20190830/guppy_3.2.2_08_30_2019_run_01_exec_20190830/sw/fastq_runid_ee80935b39ac8eac3e848aa0e1f003f3f7be1c96_48_3.tsv\n",
      "[15:25:47 - __main__] Starting fastq (197 of 378)\n",
      "\t/path/to/data/MinION_sequencing_data_20190830/guppy_3.2.2_08_30_2019_run_01_exec_20190830/pass/fastq_runid_ee80935b39ac8eac3e848aa0e1f003f3f7be1c96_49_1.fastq\n"
     ]
    },
    {
     "name": "stdout",
     "output_type": "stream",
     "text": [
      "[########################################] | 100% Completed | 30.7s\n"
     ]
    },
    {
     "name": "stderr",
     "output_type": "stream",
     "text": [
      "[15:26:18 - __main__] Saving to file: /path/to/data/MinION_sequencing_data_20190830/guppy_3.2.2_08_30_2019_run_01_exec_20190830/sw/fastq_runid_ee80935b39ac8eac3e848aa0e1f003f3f7be1c96_49_1.tsv\n",
      "[15:26:18 - __main__] Starting fastq (198 of 378)\n",
      "\t/path/to/data/MinION_sequencing_data_20190830/guppy_3.2.2_08_30_2019_run_01_exec_20190830/pass/fastq_runid_ee80935b39ac8eac3e848aa0e1f003f3f7be1c96_49_2.fastq\n"
     ]
    },
    {
     "name": "stdout",
     "output_type": "stream",
     "text": [
      "[########################################] | 100% Completed | 10.8s\n"
     ]
    },
    {
     "name": "stderr",
     "output_type": "stream",
     "text": [
      "[15:26:29 - __main__] Saving to file: /path/to/data/MinION_sequencing_data_20190830/guppy_3.2.2_08_30_2019_run_01_exec_20190830/sw/fastq_runid_ee80935b39ac8eac3e848aa0e1f003f3f7be1c96_49_2.tsv\n",
      "[15:26:29 - __main__] Starting fastq (199 of 378)\n",
      "\t/path/to/data/MinION_sequencing_data_20190830/guppy_3.2.2_08_30_2019_run_01_exec_20190830/pass/fastq_runid_ee80935b39ac8eac3e848aa0e1f003f3f7be1c96_49_3.fastq\n"
     ]
    },
    {
     "name": "stdout",
     "output_type": "stream",
     "text": [
      "[########################################] | 100% Completed | 48.5s\n"
     ]
    },
    {
     "name": "stderr",
     "output_type": "stream",
     "text": [
      "[15:27:18 - __main__] Saving to file: /path/to/data/MinION_sequencing_data_20190830/guppy_3.2.2_08_30_2019_run_01_exec_20190830/sw/fastq_runid_ee80935b39ac8eac3e848aa0e1f003f3f7be1c96_49_3.tsv\n",
      "[15:27:18 - __main__] Starting fastq (200 of 378)\n",
      "\t/path/to/data/MinION_sequencing_data_20190830/guppy_3.2.2_08_30_2019_run_01_exec_20190830/pass/fastq_runid_ee80935b39ac8eac3e848aa0e1f003f3f7be1c96_50_0.fastq\n"
     ]
    },
    {
     "name": "stdout",
     "output_type": "stream",
     "text": [
      "[########################################] | 100% Completed | 34.2s\n"
     ]
    },
    {
     "name": "stderr",
     "output_type": "stream",
     "text": [
      "[15:27:52 - __main__] Saving to file: /path/to/data/MinION_sequencing_data_20190830/guppy_3.2.2_08_30_2019_run_01_exec_20190830/sw/fastq_runid_ee80935b39ac8eac3e848aa0e1f003f3f7be1c96_50_0.tsv\n",
      "[15:27:52 - __main__] Starting fastq (201 of 378)\n",
      "\t/path/to/data/MinION_sequencing_data_20190830/guppy_3.2.2_08_30_2019_run_01_exec_20190830/pass/fastq_runid_ee80935b39ac8eac3e848aa0e1f003f3f7be1c96_50_1.fastq\n"
     ]
    },
    {
     "name": "stdout",
     "output_type": "stream",
     "text": [
      "[########################################] | 100% Completed | 58.2s\n"
     ]
    },
    {
     "name": "stderr",
     "output_type": "stream",
     "text": [
      "[15:28:51 - __main__] Saving to file: /path/to/data/MinION_sequencing_data_20190830/guppy_3.2.2_08_30_2019_run_01_exec_20190830/sw/fastq_runid_ee80935b39ac8eac3e848aa0e1f003f3f7be1c96_50_1.tsv\n",
      "[15:28:51 - __main__] Starting fastq (202 of 378)\n",
      "\t/path/to/data/MinION_sequencing_data_20190830/guppy_3.2.2_08_30_2019_run_01_exec_20190830/pass/fastq_runid_ee80935b39ac8eac3e848aa0e1f003f3f7be1c96_50_2.fastq\n"
     ]
    },
    {
     "name": "stdout",
     "output_type": "stream",
     "text": [
      "[########################################] | 100% Completed | 41.2s\n"
     ]
    },
    {
     "name": "stderr",
     "output_type": "stream",
     "text": [
      "[15:29:32 - __main__] Saving to file: /path/to/data/MinION_sequencing_data_20190830/guppy_3.2.2_08_30_2019_run_01_exec_20190830/sw/fastq_runid_ee80935b39ac8eac3e848aa0e1f003f3f7be1c96_50_2.tsv\n",
      "[15:29:32 - __main__] Starting fastq (203 of 378)\n",
      "\t/path/to/data/MinION_sequencing_data_20190830/guppy_3.2.2_08_30_2019_run_01_exec_20190830/pass/fastq_runid_ee80935b39ac8eac3e848aa0e1f003f3f7be1c96_50_3.fastq\n"
     ]
    },
    {
     "name": "stdout",
     "output_type": "stream",
     "text": [
      "[########################################] | 100% Completed |  6.4s\n"
     ]
    },
    {
     "name": "stderr",
     "output_type": "stream",
     "text": [
      "[15:29:39 - __main__] Saving to file: /path/to/data/MinION_sequencing_data_20190830/guppy_3.2.2_08_30_2019_run_01_exec_20190830/sw/fastq_runid_ee80935b39ac8eac3e848aa0e1f003f3f7be1c96_50_3.tsv\n",
      "[15:29:39 - __main__] Starting fastq (204 of 378)\n",
      "\t/path/to/data/MinION_sequencing_data_20190830/guppy_3.2.2_08_30_2019_run_01_exec_20190830/pass/fastq_runid_ee80935b39ac8eac3e848aa0e1f003f3f7be1c96_51_0.fastq\n"
     ]
    },
    {
     "name": "stdout",
     "output_type": "stream",
     "text": [
      "[########################################] | 100% Completed | 25.0s\n"
     ]
    },
    {
     "name": "stderr",
     "output_type": "stream",
     "text": [
      "[15:30:04 - __main__] Saving to file: /path/to/data/MinION_sequencing_data_20190830/guppy_3.2.2_08_30_2019_run_01_exec_20190830/sw/fastq_runid_ee80935b39ac8eac3e848aa0e1f003f3f7be1c96_51_0.tsv\n",
      "[15:30:04 - __main__] Starting fastq (205 of 378)\n",
      "\t/path/to/data/MinION_sequencing_data_20190830/guppy_3.2.2_08_30_2019_run_01_exec_20190830/pass/fastq_runid_ee80935b39ac8eac3e848aa0e1f003f3f7be1c96_51_1.fastq\n"
     ]
    },
    {
     "name": "stdout",
     "output_type": "stream",
     "text": [
      "[########################################] | 100% Completed |  1min 34.4s\n"
     ]
    },
    {
     "name": "stderr",
     "output_type": "stream",
     "text": [
      "[15:31:39 - __main__] Saving to file: /path/to/data/MinION_sequencing_data_20190830/guppy_3.2.2_08_30_2019_run_01_exec_20190830/sw/fastq_runid_ee80935b39ac8eac3e848aa0e1f003f3f7be1c96_51_1.tsv\n",
      "[15:31:39 - __main__] Starting fastq (206 of 378)\n",
      "\t/path/to/data/MinION_sequencing_data_20190830/guppy_3.2.2_08_30_2019_run_01_exec_20190830/pass/fastq_runid_ee80935b39ac8eac3e848aa0e1f003f3f7be1c96_52_0.fastq\n"
     ]
    },
    {
     "name": "stdout",
     "output_type": "stream",
     "text": [
      "[########################################] | 100% Completed |  1min 13.3s\n"
     ]
    },
    {
     "name": "stderr",
     "output_type": "stream",
     "text": [
      "[15:32:53 - __main__] Saving to file: /path/to/data/MinION_sequencing_data_20190830/guppy_3.2.2_08_30_2019_run_01_exec_20190830/sw/fastq_runid_ee80935b39ac8eac3e848aa0e1f003f3f7be1c96_52_0.tsv\n",
      "[15:32:53 - __main__] Starting fastq (207 of 378)\n",
      "\t/path/to/data/MinION_sequencing_data_20190830/guppy_3.2.2_08_30_2019_run_01_exec_20190830/pass/fastq_runid_ee80935b39ac8eac3e848aa0e1f003f3f7be1c96_51_2.fastq\n"
     ]
    },
    {
     "name": "stdout",
     "output_type": "stream",
     "text": [
      "[########################################] | 100% Completed | 14.3s\n"
     ]
    },
    {
     "name": "stderr",
     "output_type": "stream",
     "text": [
      "[15:33:08 - __main__] Saving to file: /path/to/data/MinION_sequencing_data_20190830/guppy_3.2.2_08_30_2019_run_01_exec_20190830/sw/fastq_runid_ee80935b39ac8eac3e848aa0e1f003f3f7be1c96_51_2.tsv\n",
      "[15:33:08 - __main__] Starting fastq (208 of 378)\n",
      "\t/path/to/data/MinION_sequencing_data_20190830/guppy_3.2.2_08_30_2019_run_01_exec_20190830/pass/fastq_runid_ee80935b39ac8eac3e848aa0e1f003f3f7be1c96_51_3.fastq\n"
     ]
    },
    {
     "name": "stdout",
     "output_type": "stream",
     "text": [
      "[########################################] | 100% Completed |  4.7s\n"
     ]
    },
    {
     "name": "stderr",
     "output_type": "stream",
     "text": [
      "[15:33:13 - __main__] Saving to file: /path/to/data/MinION_sequencing_data_20190830/guppy_3.2.2_08_30_2019_run_01_exec_20190830/sw/fastq_runid_ee80935b39ac8eac3e848aa0e1f003f3f7be1c96_51_3.tsv\n",
      "[15:33:13 - __main__] Starting fastq (209 of 378)\n",
      "\t/path/to/data/MinION_sequencing_data_20190830/guppy_3.2.2_08_30_2019_run_01_exec_20190830/pass/fastq_runid_ee80935b39ac8eac3e848aa0e1f003f3f7be1c96_52_1.fastq\n"
     ]
    },
    {
     "name": "stdout",
     "output_type": "stream",
     "text": [
      "[########################################] | 100% Completed | 37.7s\n"
     ]
    },
    {
     "name": "stderr",
     "output_type": "stream",
     "text": [
      "[15:33:51 - __main__] Saving to file: /path/to/data/MinION_sequencing_data_20190830/guppy_3.2.2_08_30_2019_run_01_exec_20190830/sw/fastq_runid_ee80935b39ac8eac3e848aa0e1f003f3f7be1c96_52_1.tsv\n",
      "[15:33:51 - __main__] Starting fastq (210 of 378)\n",
      "\t/path/to/data/MinION_sequencing_data_20190830/guppy_3.2.2_08_30_2019_run_01_exec_20190830/pass/fastq_runid_ee80935b39ac8eac3e848aa0e1f003f3f7be1c96_52_2.fastq\n"
     ]
    },
    {
     "name": "stdout",
     "output_type": "stream",
     "text": [
      "[########################################] | 100% Completed | 24.7s\n"
     ]
    },
    {
     "name": "stderr",
     "output_type": "stream",
     "text": [
      "[15:34:16 - __main__] Saving to file: /path/to/data/MinION_sequencing_data_20190830/guppy_3.2.2_08_30_2019_run_01_exec_20190830/sw/fastq_runid_ee80935b39ac8eac3e848aa0e1f003f3f7be1c96_52_2.tsv\n",
      "[15:34:16 - __main__] Starting fastq (211 of 378)\n",
      "\t/path/to/data/MinION_sequencing_data_20190830/guppy_3.2.2_08_30_2019_run_01_exec_20190830/pass/fastq_runid_ee80935b39ac8eac3e848aa0e1f003f3f7be1c96_53_0.fastq\n"
     ]
    },
    {
     "name": "stdout",
     "output_type": "stream",
     "text": [
      "[########################################] | 100% Completed |  1min 12.2s\n"
     ]
    },
    {
     "name": "stderr",
     "output_type": "stream",
     "text": [
      "[15:35:28 - __main__] Saving to file: /path/to/data/MinION_sequencing_data_20190830/guppy_3.2.2_08_30_2019_run_01_exec_20190830/sw/fastq_runid_ee80935b39ac8eac3e848aa0e1f003f3f7be1c96_53_0.tsv\n",
      "[15:35:28 - __main__] Starting fastq (212 of 378)\n",
      "\t/path/to/data/MinION_sequencing_data_20190830/guppy_3.2.2_08_30_2019_run_01_exec_20190830/pass/fastq_runid_ee80935b39ac8eac3e848aa0e1f003f3f7be1c96_53_1.fastq\n"
     ]
    },
    {
     "name": "stdout",
     "output_type": "stream",
     "text": [
      "[########################################] | 100% Completed | 35.1s\n"
     ]
    },
    {
     "name": "stderr",
     "output_type": "stream",
     "text": [
      "[15:36:04 - __main__] Saving to file: /path/to/data/MinION_sequencing_data_20190830/guppy_3.2.2_08_30_2019_run_01_exec_20190830/sw/fastq_runid_ee80935b39ac8eac3e848aa0e1f003f3f7be1c96_53_1.tsv\n",
      "[15:36:04 - __main__] Starting fastq (213 of 378)\n",
      "\t/path/to/data/MinION_sequencing_data_20190830/guppy_3.2.2_08_30_2019_run_01_exec_20190830/pass/fastq_runid_ee80935b39ac8eac3e848aa0e1f003f3f7be1c96_52_3.fastq\n"
     ]
    },
    {
     "name": "stdout",
     "output_type": "stream",
     "text": [
      "[########################################] | 100% Completed |  0.9s\n"
     ]
    },
    {
     "name": "stderr",
     "output_type": "stream",
     "text": [
      "[15:36:05 - __main__] Saving to file: /path/to/data/MinION_sequencing_data_20190830/guppy_3.2.2_08_30_2019_run_01_exec_20190830/sw/fastq_runid_ee80935b39ac8eac3e848aa0e1f003f3f7be1c96_52_3.tsv\n",
      "[15:36:05 - __main__] Starting fastq (214 of 378)\n",
      "\t/path/to/data/MinION_sequencing_data_20190830/guppy_3.2.2_08_30_2019_run_01_exec_20190830/pass/fastq_runid_ee80935b39ac8eac3e848aa0e1f003f3f7be1c96_53_2.fastq\n"
     ]
    },
    {
     "name": "stdout",
     "output_type": "stream",
     "text": [
      "[########################################] | 100% Completed | 14.6s\n"
     ]
    },
    {
     "name": "stderr",
     "output_type": "stream",
     "text": [
      "[15:36:20 - __main__] Saving to file: /path/to/data/MinION_sequencing_data_20190830/guppy_3.2.2_08_30_2019_run_01_exec_20190830/sw/fastq_runid_ee80935b39ac8eac3e848aa0e1f003f3f7be1c96_53_2.tsv\n",
      "[15:36:20 - __main__] Starting fastq (215 of 378)\n",
      "\t/path/to/data/MinION_sequencing_data_20190830/guppy_3.2.2_08_30_2019_run_01_exec_20190830/pass/fastq_runid_ee80935b39ac8eac3e848aa0e1f003f3f7be1c96_53_3.fastq\n"
     ]
    },
    {
     "name": "stdout",
     "output_type": "stream",
     "text": [
      "[########################################] | 100% Completed | 15.7s\n"
     ]
    },
    {
     "name": "stderr",
     "output_type": "stream",
     "text": [
      "[15:36:36 - __main__] Saving to file: /path/to/data/MinION_sequencing_data_20190830/guppy_3.2.2_08_30_2019_run_01_exec_20190830/sw/fastq_runid_ee80935b39ac8eac3e848aa0e1f003f3f7be1c96_53_3.tsv\n",
      "[15:36:36 - __main__] Starting fastq (216 of 378)\n",
      "\t/path/to/data/MinION_sequencing_data_20190830/guppy_3.2.2_08_30_2019_run_01_exec_20190830/pass/fastq_runid_ee80935b39ac8eac3e848aa0e1f003f3f7be1c96_54_0.fastq\n"
     ]
    },
    {
     "name": "stdout",
     "output_type": "stream",
     "text": [
      "[########################################] | 100% Completed | 40.8s\n"
     ]
    },
    {
     "name": "stderr",
     "output_type": "stream",
     "text": [
      "[15:37:17 - __main__] Saving to file: /path/to/data/MinION_sequencing_data_20190830/guppy_3.2.2_08_30_2019_run_01_exec_20190830/sw/fastq_runid_ee80935b39ac8eac3e848aa0e1f003f3f7be1c96_54_0.tsv\n",
      "[15:37:17 - __main__] Starting fastq (217 of 378)\n",
      "\t/path/to/data/MinION_sequencing_data_20190830/guppy_3.2.2_08_30_2019_run_01_exec_20190830/pass/fastq_runid_ee80935b39ac8eac3e848aa0e1f003f3f7be1c96_54_1.fastq\n"
     ]
    },
    {
     "name": "stdout",
     "output_type": "stream",
     "text": [
      "[########################################] | 100% Completed | 48.4s\n"
     ]
    },
    {
     "name": "stderr",
     "output_type": "stream",
     "text": [
      "[15:38:06 - __main__] Saving to file: /path/to/data/MinION_sequencing_data_20190830/guppy_3.2.2_08_30_2019_run_01_exec_20190830/sw/fastq_runid_ee80935b39ac8eac3e848aa0e1f003f3f7be1c96_54_1.tsv\n",
      "[15:38:06 - __main__] Starting fastq (218 of 378)\n",
      "\t/path/to/data/MinION_sequencing_data_20190830/guppy_3.2.2_08_30_2019_run_01_exec_20190830/pass/fastq_runid_ee80935b39ac8eac3e848aa0e1f003f3f7be1c96_54_2.fastq\n"
     ]
    },
    {
     "name": "stdout",
     "output_type": "stream",
     "text": [
      "[########################################] | 100% Completed | 29.8s\n"
     ]
    },
    {
     "name": "stderr",
     "output_type": "stream",
     "text": [
      "[15:38:36 - __main__] Saving to file: /path/to/data/MinION_sequencing_data_20190830/guppy_3.2.2_08_30_2019_run_01_exec_20190830/sw/fastq_runid_ee80935b39ac8eac3e848aa0e1f003f3f7be1c96_54_2.tsv\n",
      "[15:38:36 - __main__] Starting fastq (219 of 378)\n",
      "\t/path/to/data/MinION_sequencing_data_20190830/guppy_3.2.2_08_30_2019_run_01_exec_20190830/pass/fastq_runid_ee80935b39ac8eac3e848aa0e1f003f3f7be1c96_54_3.fastq\n"
     ]
    },
    {
     "name": "stdout",
     "output_type": "stream",
     "text": [
      "[########################################] | 100% Completed | 21.0s\n"
     ]
    },
    {
     "name": "stderr",
     "output_type": "stream",
     "text": [
      "[15:38:57 - __main__] Saving to file: /path/to/data/MinION_sequencing_data_20190830/guppy_3.2.2_08_30_2019_run_01_exec_20190830/sw/fastq_runid_ee80935b39ac8eac3e848aa0e1f003f3f7be1c96_54_3.tsv\n",
      "[15:38:57 - __main__] Starting fastq (220 of 378)\n",
      "\t/path/to/data/MinION_sequencing_data_20190830/guppy_3.2.2_08_30_2019_run_01_exec_20190830/pass/fastq_runid_ee80935b39ac8eac3e848aa0e1f003f3f7be1c96_55_0.fastq\n"
     ]
    },
    {
     "name": "stdout",
     "output_type": "stream",
     "text": [
      "[########################################] | 100% Completed | 31.9s\n"
     ]
    },
    {
     "name": "stderr",
     "output_type": "stream",
     "text": [
      "[15:39:29 - __main__] Saving to file: /path/to/data/MinION_sequencing_data_20190830/guppy_3.2.2_08_30_2019_run_01_exec_20190830/sw/fastq_runid_ee80935b39ac8eac3e848aa0e1f003f3f7be1c96_55_0.tsv\n",
      "[15:39:30 - __main__] Starting fastq (221 of 378)\n",
      "\t/path/to/data/MinION_sequencing_data_20190830/guppy_3.2.2_08_30_2019_run_01_exec_20190830/pass/fastq_runid_ee80935b39ac8eac3e848aa0e1f003f3f7be1c96_55_1.fastq\n"
     ]
    },
    {
     "name": "stdout",
     "output_type": "stream",
     "text": [
      "[########################################] | 100% Completed | 50.2s\n"
     ]
    },
    {
     "name": "stderr",
     "output_type": "stream",
     "text": [
      "[15:40:20 - __main__] Saving to file: /path/to/data/MinION_sequencing_data_20190830/guppy_3.2.2_08_30_2019_run_01_exec_20190830/sw/fastq_runid_ee80935b39ac8eac3e848aa0e1f003f3f7be1c96_55_1.tsv\n",
      "[15:40:20 - __main__] Starting fastq (222 of 378)\n",
      "\t/path/to/data/MinION_sequencing_data_20190830/guppy_3.2.2_08_30_2019_run_01_exec_20190830/pass/fastq_runid_ee80935b39ac8eac3e848aa0e1f003f3f7be1c96_55_2.fastq\n"
     ]
    },
    {
     "name": "stdout",
     "output_type": "stream",
     "text": [
      "[########################################] | 100% Completed | 28.0s\n"
     ]
    },
    {
     "name": "stderr",
     "output_type": "stream",
     "text": [
      "[15:40:48 - __main__] Saving to file: /path/to/data/MinION_sequencing_data_20190830/guppy_3.2.2_08_30_2019_run_01_exec_20190830/sw/fastq_runid_ee80935b39ac8eac3e848aa0e1f003f3f7be1c96_55_2.tsv\n",
      "[15:40:49 - __main__] Starting fastq (223 of 378)\n",
      "\t/path/to/data/MinION_sequencing_data_20190830/guppy_3.2.2_08_30_2019_run_01_exec_20190830/pass/fastq_runid_ee80935b39ac8eac3e848aa0e1f003f3f7be1c96_55_3.fastq\n"
     ]
    },
    {
     "name": "stdout",
     "output_type": "stream",
     "text": [
      "[########################################] | 100% Completed | 26.4s\n"
     ]
    },
    {
     "name": "stderr",
     "output_type": "stream",
     "text": [
      "[15:41:15 - __main__] Saving to file: /path/to/data/MinION_sequencing_data_20190830/guppy_3.2.2_08_30_2019_run_01_exec_20190830/sw/fastq_runid_ee80935b39ac8eac3e848aa0e1f003f3f7be1c96_55_3.tsv\n",
      "[15:41:15 - __main__] Starting fastq (224 of 378)\n",
      "\t/path/to/data/MinION_sequencing_data_20190830/guppy_3.2.2_08_30_2019_run_01_exec_20190830/pass/fastq_runid_ee80935b39ac8eac3e848aa0e1f003f3f7be1c96_56_0.fastq\n"
     ]
    },
    {
     "name": "stdout",
     "output_type": "stream",
     "text": [
      "[########################################] | 100% Completed | 16.8s\n"
     ]
    },
    {
     "name": "stderr",
     "output_type": "stream",
     "text": [
      "[15:41:32 - __main__] Saving to file: /path/to/data/MinION_sequencing_data_20190830/guppy_3.2.2_08_30_2019_run_01_exec_20190830/sw/fastq_runid_ee80935b39ac8eac3e848aa0e1f003f3f7be1c96_56_0.tsv\n",
      "[15:41:32 - __main__] Starting fastq (225 of 378)\n",
      "\t/path/to/data/MinION_sequencing_data_20190830/guppy_3.2.2_08_30_2019_run_01_exec_20190830/pass/fastq_runid_ee80935b39ac8eac3e848aa0e1f003f3f7be1c96_56_1.fastq\n"
     ]
    },
    {
     "name": "stdout",
     "output_type": "stream",
     "text": [
      "[########################################] | 100% Completed | 43.7s\n"
     ]
    },
    {
     "name": "stderr",
     "output_type": "stream",
     "text": [
      "[15:42:16 - __main__] Saving to file: /path/to/data/MinION_sequencing_data_20190830/guppy_3.2.2_08_30_2019_run_01_exec_20190830/sw/fastq_runid_ee80935b39ac8eac3e848aa0e1f003f3f7be1c96_56_1.tsv\n",
      "[15:42:16 - __main__] Starting fastq (226 of 378)\n",
      "\t/path/to/data/MinION_sequencing_data_20190830/guppy_3.2.2_08_30_2019_run_01_exec_20190830/pass/fastq_runid_ee80935b39ac8eac3e848aa0e1f003f3f7be1c96_56_2.fastq\n"
     ]
    },
    {
     "name": "stdout",
     "output_type": "stream",
     "text": [
      "[########################################] | 100% Completed | 11.1s\n"
     ]
    },
    {
     "name": "stderr",
     "output_type": "stream",
     "text": [
      "[15:42:28 - __main__] Saving to file: /path/to/data/MinION_sequencing_data_20190830/guppy_3.2.2_08_30_2019_run_01_exec_20190830/sw/fastq_runid_ee80935b39ac8eac3e848aa0e1f003f3f7be1c96_56_2.tsv\n",
      "[15:42:28 - __main__] Starting fastq (227 of 378)\n",
      "\t/path/to/data/MinION_sequencing_data_20190830/guppy_3.2.2_08_30_2019_run_01_exec_20190830/pass/fastq_runid_ee80935b39ac8eac3e848aa0e1f003f3f7be1c96_57_0.fastq\n"
     ]
    },
    {
     "name": "stdout",
     "output_type": "stream",
     "text": [
      "[########################################] | 100% Completed |  1min  9.1s\n"
     ]
    },
    {
     "name": "stderr",
     "output_type": "stream",
     "text": [
      "[15:43:37 - __main__] Saving to file: /path/to/data/MinION_sequencing_data_20190830/guppy_3.2.2_08_30_2019_run_01_exec_20190830/sw/fastq_runid_ee80935b39ac8eac3e848aa0e1f003f3f7be1c96_57_0.tsv\n",
      "[15:43:37 - __main__] Starting fastq (228 of 378)\n",
      "\t/path/to/data/MinION_sequencing_data_20190830/guppy_3.2.2_08_30_2019_run_01_exec_20190830/pass/fastq_runid_ee80935b39ac8eac3e848aa0e1f003f3f7be1c96_57_1.fastq\n"
     ]
    },
    {
     "name": "stdout",
     "output_type": "stream",
     "text": [
      "[########################################] | 100% Completed | 57.2s\n"
     ]
    },
    {
     "name": "stderr",
     "output_type": "stream",
     "text": [
      "[15:44:35 - __main__] Saving to file: /path/to/data/MinION_sequencing_data_20190830/guppy_3.2.2_08_30_2019_run_01_exec_20190830/sw/fastq_runid_ee80935b39ac8eac3e848aa0e1f003f3f7be1c96_57_1.tsv\n",
      "[15:44:35 - __main__] Starting fastq (229 of 378)\n",
      "\t/path/to/data/MinION_sequencing_data_20190830/guppy_3.2.2_08_30_2019_run_01_exec_20190830/pass/fastq_runid_ee80935b39ac8eac3e848aa0e1f003f3f7be1c96_56_3.fastq\n"
     ]
    },
    {
     "name": "stdout",
     "output_type": "stream",
     "text": [
      "[########################################] | 100% Completed |  1min  8.7s\n"
     ]
    },
    {
     "name": "stderr",
     "output_type": "stream",
     "text": [
      "[15:45:44 - __main__] Saving to file: /path/to/data/MinION_sequencing_data_20190830/guppy_3.2.2_08_30_2019_run_01_exec_20190830/sw/fastq_runid_ee80935b39ac8eac3e848aa0e1f003f3f7be1c96_56_3.tsv\n",
      "[15:45:44 - __main__] Starting fastq (230 of 378)\n",
      "\t/path/to/data/MinION_sequencing_data_20190830/guppy_3.2.2_08_30_2019_run_01_exec_20190830/pass/fastq_runid_ee80935b39ac8eac3e848aa0e1f003f3f7be1c96_57_2.fastq\n"
     ]
    },
    {
     "name": "stdout",
     "output_type": "stream",
     "text": [
      "[########################################] | 100% Completed | 10.5s\n"
     ]
    },
    {
     "name": "stderr",
     "output_type": "stream",
     "text": [
      "[15:45:55 - __main__] Saving to file: /path/to/data/MinION_sequencing_data_20190830/guppy_3.2.2_08_30_2019_run_01_exec_20190830/sw/fastq_runid_ee80935b39ac8eac3e848aa0e1f003f3f7be1c96_57_2.tsv\n",
      "[15:45:55 - __main__] Starting fastq (231 of 378)\n",
      "\t/path/to/data/MinION_sequencing_data_20190830/guppy_3.2.2_08_30_2019_run_01_exec_20190830/pass/fastq_runid_ee80935b39ac8eac3e848aa0e1f003f3f7be1c96_58_0.fastq\n"
     ]
    },
    {
     "name": "stdout",
     "output_type": "stream",
     "text": [
      "[########################################] | 100% Completed |  1min  3.0s\n"
     ]
    },
    {
     "name": "stderr",
     "output_type": "stream",
     "text": [
      "[15:46:58 - __main__] Saving to file: /path/to/data/MinION_sequencing_data_20190830/guppy_3.2.2_08_30_2019_run_01_exec_20190830/sw/fastq_runid_ee80935b39ac8eac3e848aa0e1f003f3f7be1c96_58_0.tsv\n",
      "[15:46:58 - __main__] Starting fastq (232 of 378)\n",
      "\t/path/to/data/MinION_sequencing_data_20190830/guppy_3.2.2_08_30_2019_run_01_exec_20190830/pass/fastq_runid_ee80935b39ac8eac3e848aa0e1f003f3f7be1c96_58_1.fastq\n"
     ]
    },
    {
     "name": "stdout",
     "output_type": "stream",
     "text": [
      "[########################################] | 100% Completed | 37.7s\n"
     ]
    },
    {
     "name": "stderr",
     "output_type": "stream",
     "text": [
      "[15:47:36 - __main__] Saving to file: /path/to/data/MinION_sequencing_data_20190830/guppy_3.2.2_08_30_2019_run_01_exec_20190830/sw/fastq_runid_ee80935b39ac8eac3e848aa0e1f003f3f7be1c96_58_1.tsv\n",
      "[15:47:36 - __main__] Starting fastq (233 of 378)\n",
      "\t/path/to/data/MinION_sequencing_data_20190830/guppy_3.2.2_08_30_2019_run_01_exec_20190830/pass/fastq_runid_ee80935b39ac8eac3e848aa0e1f003f3f7be1c96_57_3.fastq\n"
     ]
    },
    {
     "name": "stdout",
     "output_type": "stream",
     "text": [
      "[########################################] | 100% Completed |  1.0s\n"
     ]
    },
    {
     "name": "stderr",
     "output_type": "stream",
     "text": [
      "[15:47:37 - __main__] Saving to file: /path/to/data/MinION_sequencing_data_20190830/guppy_3.2.2_08_30_2019_run_01_exec_20190830/sw/fastq_runid_ee80935b39ac8eac3e848aa0e1f003f3f7be1c96_57_3.tsv\n",
      "[15:47:37 - __main__] Starting fastq (234 of 378)\n",
      "\t/path/to/data/MinION_sequencing_data_20190830/guppy_3.2.2_08_30_2019_run_01_exec_20190830/pass/fastq_runid_ee80935b39ac8eac3e848aa0e1f003f3f7be1c96_58_2.fastq\n"
     ]
    },
    {
     "name": "stdout",
     "output_type": "stream",
     "text": [
      "[########################################] | 100% Completed | 17.0s\n"
     ]
    },
    {
     "name": "stderr",
     "output_type": "stream",
     "text": [
      "[15:47:55 - __main__] Saving to file: /path/to/data/MinION_sequencing_data_20190830/guppy_3.2.2_08_30_2019_run_01_exec_20190830/sw/fastq_runid_ee80935b39ac8eac3e848aa0e1f003f3f7be1c96_58_2.tsv\n",
      "[15:47:55 - __main__] Starting fastq (235 of 378)\n",
      "\t/path/to/data/MinION_sequencing_data_20190830/guppy_3.2.2_08_30_2019_run_01_exec_20190830/pass/fastq_runid_ee80935b39ac8eac3e848aa0e1f003f3f7be1c96_58_3.fastq\n"
     ]
    },
    {
     "name": "stdout",
     "output_type": "stream",
     "text": [
      "[########################################] | 100% Completed | 21.6s\n"
     ]
    },
    {
     "name": "stderr",
     "output_type": "stream",
     "text": [
      "[15:48:17 - __main__] Saving to file: /path/to/data/MinION_sequencing_data_20190830/guppy_3.2.2_08_30_2019_run_01_exec_20190830/sw/fastq_runid_ee80935b39ac8eac3e848aa0e1f003f3f7be1c96_58_3.tsv\n",
      "[15:48:17 - __main__] Starting fastq (236 of 378)\n",
      "\t/path/to/data/MinION_sequencing_data_20190830/guppy_3.2.2_08_30_2019_run_01_exec_20190830/pass/fastq_runid_ee80935b39ac8eac3e848aa0e1f003f3f7be1c96_59_0.fastq\n"
     ]
    },
    {
     "name": "stdout",
     "output_type": "stream",
     "text": [
      "[########################################] | 100% Completed | 45.6s\n"
     ]
    },
    {
     "name": "stderr",
     "output_type": "stream",
     "text": [
      "[15:49:02 - __main__] Saving to file: /path/to/data/MinION_sequencing_data_20190830/guppy_3.2.2_08_30_2019_run_01_exec_20190830/sw/fastq_runid_ee80935b39ac8eac3e848aa0e1f003f3f7be1c96_59_0.tsv\n",
      "[15:49:03 - __main__] Starting fastq (237 of 378)\n",
      "\t/path/to/data/MinION_sequencing_data_20190830/guppy_3.2.2_08_30_2019_run_01_exec_20190830/pass/fastq_runid_ee80935b39ac8eac3e848aa0e1f003f3f7be1c96_59_1.fastq\n"
     ]
    },
    {
     "name": "stdout",
     "output_type": "stream",
     "text": [
      "[########################################] | 100% Completed |  1min  4.9s\n"
     ]
    },
    {
     "name": "stderr",
     "output_type": "stream",
     "text": [
      "[15:50:08 - __main__] Saving to file: /path/to/data/MinION_sequencing_data_20190830/guppy_3.2.2_08_30_2019_run_01_exec_20190830/sw/fastq_runid_ee80935b39ac8eac3e848aa0e1f003f3f7be1c96_59_1.tsv\n",
      "[15:50:08 - __main__] Starting fastq (238 of 378)\n",
      "\t/path/to/data/MinION_sequencing_data_20190830/guppy_3.2.2_08_30_2019_run_01_exec_20190830/pass/fastq_runid_ee80935b39ac8eac3e848aa0e1f003f3f7be1c96_59_2.fastq\n"
     ]
    },
    {
     "name": "stdout",
     "output_type": "stream",
     "text": [
      "[########################################] | 100% Completed | 25.9s\n"
     ]
    },
    {
     "name": "stderr",
     "output_type": "stream",
     "text": [
      "[15:50:34 - __main__] Saving to file: /path/to/data/MinION_sequencing_data_20190830/guppy_3.2.2_08_30_2019_run_01_exec_20190830/sw/fastq_runid_ee80935b39ac8eac3e848aa0e1f003f3f7be1c96_59_2.tsv\n",
      "[15:50:34 - __main__] Starting fastq (239 of 378)\n",
      "\t/path/to/data/MinION_sequencing_data_20190830/guppy_3.2.2_08_30_2019_run_01_exec_20190830/pass/fastq_runid_ee80935b39ac8eac3e848aa0e1f003f3f7be1c96_60_0.fastq\n"
     ]
    },
    {
     "name": "stdout",
     "output_type": "stream",
     "text": [
      "[########################################] | 100% Completed | 23.2s\n"
     ]
    },
    {
     "name": "stderr",
     "output_type": "stream",
     "text": [
      "[15:50:58 - __main__] Saving to file: /path/to/data/MinION_sequencing_data_20190830/guppy_3.2.2_08_30_2019_run_01_exec_20190830/sw/fastq_runid_ee80935b39ac8eac3e848aa0e1f003f3f7be1c96_60_0.tsv\n",
      "[15:50:58 - __main__] Starting fastq (240 of 378)\n",
      "\t/path/to/data/MinION_sequencing_data_20190830/guppy_3.2.2_08_30_2019_run_01_exec_20190830/pass/fastq_runid_ee80935b39ac8eac3e848aa0e1f003f3f7be1c96_60_1.fastq\n"
     ]
    },
    {
     "name": "stdout",
     "output_type": "stream",
     "text": [
      "[########################################] | 100% Completed | 39.2s\n"
     ]
    },
    {
     "name": "stderr",
     "output_type": "stream",
     "text": [
      "[15:51:37 - __main__] Saving to file: /path/to/data/MinION_sequencing_data_20190830/guppy_3.2.2_08_30_2019_run_01_exec_20190830/sw/fastq_runid_ee80935b39ac8eac3e848aa0e1f003f3f7be1c96_60_1.tsv\n",
      "[15:51:37 - __main__] Starting fastq (241 of 378)\n",
      "\t/path/to/data/MinION_sequencing_data_20190830/guppy_3.2.2_08_30_2019_run_01_exec_20190830/pass/fastq_runid_ee80935b39ac8eac3e848aa0e1f003f3f7be1c96_59_3.fastq\n"
     ]
    },
    {
     "name": "stdout",
     "output_type": "stream",
     "text": [
      "[########################################] | 100% Completed |  1.0s\n"
     ]
    },
    {
     "name": "stderr",
     "output_type": "stream",
     "text": [
      "[15:51:38 - __main__] Saving to file: /path/to/data/MinION_sequencing_data_20190830/guppy_3.2.2_08_30_2019_run_01_exec_20190830/sw/fastq_runid_ee80935b39ac8eac3e848aa0e1f003f3f7be1c96_59_3.tsv\n",
      "[15:51:38 - __main__] Starting fastq (242 of 378)\n",
      "\t/path/to/data/MinION_sequencing_data_20190830/guppy_3.2.2_08_30_2019_run_01_exec_20190830/pass/fastq_runid_ee80935b39ac8eac3e848aa0e1f003f3f7be1c96_60_2.fastq\n"
     ]
    },
    {
     "name": "stdout",
     "output_type": "stream",
     "text": [
      "[########################################] | 100% Completed |  1min  4.9s\n"
     ]
    },
    {
     "name": "stderr",
     "output_type": "stream",
     "text": [
      "[15:52:44 - __main__] Saving to file: /path/to/data/MinION_sequencing_data_20190830/guppy_3.2.2_08_30_2019_run_01_exec_20190830/sw/fastq_runid_ee80935b39ac8eac3e848aa0e1f003f3f7be1c96_60_2.tsv\n",
      "[15:52:44 - __main__] Starting fastq (243 of 378)\n",
      "\t/path/to/data/MinION_sequencing_data_20190830/guppy_3.2.2_08_30_2019_run_01_exec_20190830/pass/fastq_runid_ee80935b39ac8eac3e848aa0e1f003f3f7be1c96_60_3.fastq\n"
     ]
    },
    {
     "name": "stdout",
     "output_type": "stream",
     "text": [
      "[########################################] | 100% Completed | 11.1s\n"
     ]
    },
    {
     "name": "stderr",
     "output_type": "stream",
     "text": [
      "[15:52:55 - __main__] Saving to file: /path/to/data/MinION_sequencing_data_20190830/guppy_3.2.2_08_30_2019_run_01_exec_20190830/sw/fastq_runid_ee80935b39ac8eac3e848aa0e1f003f3f7be1c96_60_3.tsv\n",
      "[15:52:55 - __main__] Starting fastq (244 of 378)\n",
      "\t/path/to/data/MinION_sequencing_data_20190830/guppy_3.2.2_08_30_2019_run_01_exec_20190830/pass/fastq_runid_ee80935b39ac8eac3e848aa0e1f003f3f7be1c96_61_0.fastq\n"
     ]
    },
    {
     "name": "stdout",
     "output_type": "stream",
     "text": [
      "[########################################] | 100% Completed | 24.9s\n"
     ]
    },
    {
     "name": "stderr",
     "output_type": "stream",
     "text": [
      "[15:53:20 - __main__] Saving to file: /path/to/data/MinION_sequencing_data_20190830/guppy_3.2.2_08_30_2019_run_01_exec_20190830/sw/fastq_runid_ee80935b39ac8eac3e848aa0e1f003f3f7be1c96_61_0.tsv\n",
      "[15:53:20 - __main__] Starting fastq (245 of 378)\n",
      "\t/path/to/data/MinION_sequencing_data_20190830/guppy_3.2.2_08_30_2019_run_01_exec_20190830/pass/fastq_runid_ee80935b39ac8eac3e848aa0e1f003f3f7be1c96_61_1.fastq\n"
     ]
    },
    {
     "name": "stdout",
     "output_type": "stream",
     "text": [
      "[########################################] | 100% Completed |  1min 15.1s\n"
     ]
    },
    {
     "name": "stderr",
     "output_type": "stream",
     "text": [
      "[15:54:36 - __main__] Saving to file: /path/to/data/MinION_sequencing_data_20190830/guppy_3.2.2_08_30_2019_run_01_exec_20190830/sw/fastq_runid_ee80935b39ac8eac3e848aa0e1f003f3f7be1c96_61_1.tsv\n",
      "[15:54:36 - __main__] Starting fastq (246 of 378)\n",
      "\t/path/to/data/MinION_sequencing_data_20190830/guppy_3.2.2_08_30_2019_run_01_exec_20190830/pass/fastq_runid_ee80935b39ac8eac3e848aa0e1f003f3f7be1c96_61_2.fastq\n"
     ]
    },
    {
     "name": "stdout",
     "output_type": "stream",
     "text": [
      "[########################################] | 100% Completed | 31.6s\n"
     ]
    },
    {
     "name": "stderr",
     "output_type": "stream",
     "text": [
      "[15:55:08 - __main__] Saving to file: /path/to/data/MinION_sequencing_data_20190830/guppy_3.2.2_08_30_2019_run_01_exec_20190830/sw/fastq_runid_ee80935b39ac8eac3e848aa0e1f003f3f7be1c96_61_2.tsv\n",
      "[15:55:08 - __main__] Starting fastq (247 of 378)\n",
      "\t/path/to/data/MinION_sequencing_data_20190830/guppy_3.2.2_08_30_2019_run_01_exec_20190830/pass/fastq_runid_ee80935b39ac8eac3e848aa0e1f003f3f7be1c96_62_0.fastq\n"
     ]
    },
    {
     "name": "stdout",
     "output_type": "stream",
     "text": [
      "[########################################] | 100% Completed |  1min 13.4s\n"
     ]
    },
    {
     "name": "stderr",
     "output_type": "stream",
     "text": [
      "[15:56:22 - __main__] Saving to file: /path/to/data/MinION_sequencing_data_20190830/guppy_3.2.2_08_30_2019_run_01_exec_20190830/sw/fastq_runid_ee80935b39ac8eac3e848aa0e1f003f3f7be1c96_62_0.tsv\n",
      "[15:56:22 - __main__] Starting fastq (248 of 378)\n",
      "\t/path/to/data/MinION_sequencing_data_20190830/guppy_3.2.2_08_30_2019_run_01_exec_20190830/pass/fastq_runid_ee80935b39ac8eac3e848aa0e1f003f3f7be1c96_62_1.fastq\n"
     ]
    },
    {
     "name": "stdout",
     "output_type": "stream",
     "text": [
      "[########################################] | 100% Completed | 23.6s\n"
     ]
    },
    {
     "name": "stderr",
     "output_type": "stream",
     "text": [
      "[15:56:46 - __main__] Saving to file: /path/to/data/MinION_sequencing_data_20190830/guppy_3.2.2_08_30_2019_run_01_exec_20190830/sw/fastq_runid_ee80935b39ac8eac3e848aa0e1f003f3f7be1c96_62_1.tsv\n",
      "[15:56:46 - __main__] Starting fastq (249 of 378)\n",
      "\t/path/to/data/MinION_sequencing_data_20190830/guppy_3.2.2_08_30_2019_run_01_exec_20190830/pass/fastq_runid_ee80935b39ac8eac3e848aa0e1f003f3f7be1c96_61_3.fastq\n"
     ]
    },
    {
     "name": "stdout",
     "output_type": "stream",
     "text": [
      "[########################################] | 100% Completed |  5.7s\n"
     ]
    },
    {
     "name": "stderr",
     "output_type": "stream",
     "text": [
      "[15:56:52 - __main__] Saving to file: /path/to/data/MinION_sequencing_data_20190830/guppy_3.2.2_08_30_2019_run_01_exec_20190830/sw/fastq_runid_ee80935b39ac8eac3e848aa0e1f003f3f7be1c96_61_3.tsv\n",
      "[15:56:52 - __main__] Starting fastq (250 of 378)\n",
      "\t/path/to/data/MinION_sequencing_data_20190830/guppy_3.2.2_08_30_2019_run_01_exec_20190830/pass/fastq_runid_ee80935b39ac8eac3e848aa0e1f003f3f7be1c96_62_2.fastq\n"
     ]
    },
    {
     "name": "stdout",
     "output_type": "stream",
     "text": [
      "[########################################] | 100% Completed | 25.1s\n"
     ]
    },
    {
     "name": "stderr",
     "output_type": "stream",
     "text": [
      "[15:57:17 - __main__] Saving to file: /path/to/data/MinION_sequencing_data_20190830/guppy_3.2.2_08_30_2019_run_01_exec_20190830/sw/fastq_runid_ee80935b39ac8eac3e848aa0e1f003f3f7be1c96_62_2.tsv\n",
      "[15:57:17 - __main__] Starting fastq (251 of 378)\n",
      "\t/path/to/data/MinION_sequencing_data_20190830/guppy_3.2.2_08_30_2019_run_01_exec_20190830/pass/fastq_runid_ee80935b39ac8eac3e848aa0e1f003f3f7be1c96_63_0.fastq\n"
     ]
    },
    {
     "name": "stdout",
     "output_type": "stream",
     "text": [
      "[########################################] | 100% Completed | 29.5s\n"
     ]
    },
    {
     "name": "stderr",
     "output_type": "stream",
     "text": [
      "[15:57:47 - __main__] Saving to file: /path/to/data/MinION_sequencing_data_20190830/guppy_3.2.2_08_30_2019_run_01_exec_20190830/sw/fastq_runid_ee80935b39ac8eac3e848aa0e1f003f3f7be1c96_63_0.tsv\n",
      "[15:57:47 - __main__] Starting fastq (252 of 378)\n",
      "\t/path/to/data/MinION_sequencing_data_20190830/guppy_3.2.2_08_30_2019_run_01_exec_20190830/pass/fastq_runid_ee80935b39ac8eac3e848aa0e1f003f3f7be1c96_63_1.fastq\n"
     ]
    },
    {
     "name": "stdout",
     "output_type": "stream",
     "text": [
      "[########################################] | 100% Completed | 30.9s\n"
     ]
    },
    {
     "name": "stderr",
     "output_type": "stream",
     "text": [
      "[15:58:18 - __main__] Saving to file: /path/to/data/MinION_sequencing_data_20190830/guppy_3.2.2_08_30_2019_run_01_exec_20190830/sw/fastq_runid_ee80935b39ac8eac3e848aa0e1f003f3f7be1c96_63_1.tsv\n",
      "[15:58:18 - __main__] Starting fastq (253 of 378)\n",
      "\t/path/to/data/MinION_sequencing_data_20190830/guppy_3.2.2_08_30_2019_run_01_exec_20190830/pass/fastq_runid_ee80935b39ac8eac3e848aa0e1f003f3f7be1c96_63_2.fastq\n"
     ]
    },
    {
     "name": "stdout",
     "output_type": "stream",
     "text": [
      "[########################################] | 100% Completed |  1min 12.1s\n"
     ]
    },
    {
     "name": "stderr",
     "output_type": "stream",
     "text": [
      "[15:59:31 - __main__] Saving to file: /path/to/data/MinION_sequencing_data_20190830/guppy_3.2.2_08_30_2019_run_01_exec_20190830/sw/fastq_runid_ee80935b39ac8eac3e848aa0e1f003f3f7be1c96_63_2.tsv\n",
      "[15:59:31 - __main__] Starting fastq (254 of 378)\n",
      "\t/path/to/data/MinION_sequencing_data_20190830/guppy_3.2.2_08_30_2019_run_01_exec_20190830/pass/fastq_runid_ee80935b39ac8eac3e848aa0e1f003f3f7be1c96_64_0.fastq\n"
     ]
    },
    {
     "name": "stdout",
     "output_type": "stream",
     "text": [
      "[########################################] | 100% Completed |  1min 13.5s\n"
     ]
    },
    {
     "name": "stderr",
     "output_type": "stream",
     "text": [
      "[16:00:44 - __main__] Saving to file: /path/to/data/MinION_sequencing_data_20190830/guppy_3.2.2_08_30_2019_run_01_exec_20190830/sw/fastq_runid_ee80935b39ac8eac3e848aa0e1f003f3f7be1c96_64_0.tsv\n",
      "[16:00:45 - __main__] Starting fastq (255 of 378)\n",
      "\t/path/to/data/MinION_sequencing_data_20190830/guppy_3.2.2_08_30_2019_run_01_exec_20190830/pass/fastq_runid_ee80935b39ac8eac3e848aa0e1f003f3f7be1c96_62_3.fastq\n"
     ]
    },
    {
     "name": "stdout",
     "output_type": "stream",
     "text": [
      "[########################################] | 100% Completed | 17.4s\n"
     ]
    },
    {
     "name": "stderr",
     "output_type": "stream",
     "text": [
      "[16:01:02 - __main__] Saving to file: /path/to/data/MinION_sequencing_data_20190830/guppy_3.2.2_08_30_2019_run_01_exec_20190830/sw/fastq_runid_ee80935b39ac8eac3e848aa0e1f003f3f7be1c96_62_3.tsv\n",
      "[16:01:02 - __main__] Starting fastq (256 of 378)\n",
      "\t/path/to/data/MinION_sequencing_data_20190830/guppy_3.2.2_08_30_2019_run_01_exec_20190830/pass/fastq_runid_ee80935b39ac8eac3e848aa0e1f003f3f7be1c96_64_1.fastq\n"
     ]
    },
    {
     "name": "stdout",
     "output_type": "stream",
     "text": [
      "[########################################] | 100% Completed | 22.2s\n"
     ]
    },
    {
     "name": "stderr",
     "output_type": "stream",
     "text": [
      "[16:01:25 - __main__] Saving to file: /path/to/data/MinION_sequencing_data_20190830/guppy_3.2.2_08_30_2019_run_01_exec_20190830/sw/fastq_runid_ee80935b39ac8eac3e848aa0e1f003f3f7be1c96_64_1.tsv\n",
      "[16:01:25 - __main__] Starting fastq (257 of 378)\n",
      "\t/path/to/data/MinION_sequencing_data_20190830/guppy_3.2.2_08_30_2019_run_01_exec_20190830/pass/fastq_runid_ee80935b39ac8eac3e848aa0e1f003f3f7be1c96_63_3.fastq\n"
     ]
    },
    {
     "name": "stdout",
     "output_type": "stream",
     "text": [
      "[########################################] | 100% Completed |  4.1s\n"
     ]
    },
    {
     "name": "stderr",
     "output_type": "stream",
     "text": [
      "[16:01:29 - __main__] Saving to file: /path/to/data/MinION_sequencing_data_20190830/guppy_3.2.2_08_30_2019_run_01_exec_20190830/sw/fastq_runid_ee80935b39ac8eac3e848aa0e1f003f3f7be1c96_63_3.tsv\n",
      "[16:01:29 - __main__] Starting fastq (258 of 378)\n",
      "\t/path/to/data/MinION_sequencing_data_20190830/guppy_3.2.2_08_30_2019_run_01_exec_20190830/pass/fastq_runid_ee80935b39ac8eac3e848aa0e1f003f3f7be1c96_64_2.fastq\n"
     ]
    },
    {
     "name": "stdout",
     "output_type": "stream",
     "text": [
      "[########################################] | 100% Completed | 15.0s\n"
     ]
    },
    {
     "name": "stderr",
     "output_type": "stream",
     "text": [
      "[16:01:44 - __main__] Saving to file: /path/to/data/MinION_sequencing_data_20190830/guppy_3.2.2_08_30_2019_run_01_exec_20190830/sw/fastq_runid_ee80935b39ac8eac3e848aa0e1f003f3f7be1c96_64_2.tsv\n",
      "[16:01:44 - __main__] Starting fastq (259 of 378)\n",
      "\t/path/to/data/MinION_sequencing_data_20190830/guppy_3.2.2_08_30_2019_run_01_exec_20190830/pass/fastq_runid_ee80935b39ac8eac3e848aa0e1f003f3f7be1c96_65_0.fastq\n"
     ]
    },
    {
     "name": "stdout",
     "output_type": "stream",
     "text": [
      "[########################################] | 100% Completed | 42.4s\n"
     ]
    },
    {
     "name": "stderr",
     "output_type": "stream",
     "text": [
      "[16:02:27 - __main__] Saving to file: /path/to/data/MinION_sequencing_data_20190830/guppy_3.2.2_08_30_2019_run_01_exec_20190830/sw/fastq_runid_ee80935b39ac8eac3e848aa0e1f003f3f7be1c96_65_0.tsv\n",
      "[16:02:27 - __main__] Starting fastq (260 of 378)\n",
      "\t/path/to/data/MinION_sequencing_data_20190830/guppy_3.2.2_08_30_2019_run_01_exec_20190830/pass/fastq_runid_ee80935b39ac8eac3e848aa0e1f003f3f7be1c96_65_1.fastq\n"
     ]
    },
    {
     "name": "stdout",
     "output_type": "stream",
     "text": [
      "[########################################] | 100% Completed | 26.9s\n"
     ]
    },
    {
     "name": "stderr",
     "output_type": "stream",
     "text": [
      "[16:02:54 - __main__] Saving to file: /path/to/data/MinION_sequencing_data_20190830/guppy_3.2.2_08_30_2019_run_01_exec_20190830/sw/fastq_runid_ee80935b39ac8eac3e848aa0e1f003f3f7be1c96_65_1.tsv\n",
      "[16:02:54 - __main__] Starting fastq (261 of 378)\n",
      "\t/path/to/data/MinION_sequencing_data_20190830/guppy_3.2.2_08_30_2019_run_01_exec_20190830/pass/fastq_runid_ee80935b39ac8eac3e848aa0e1f003f3f7be1c96_64_3.fastq\n"
     ]
    },
    {
     "name": "stdout",
     "output_type": "stream",
     "text": [
      "[########################################] | 100% Completed | 25.2s\n"
     ]
    },
    {
     "name": "stderr",
     "output_type": "stream",
     "text": [
      "[16:03:20 - __main__] Saving to file: /path/to/data/MinION_sequencing_data_20190830/guppy_3.2.2_08_30_2019_run_01_exec_20190830/sw/fastq_runid_ee80935b39ac8eac3e848aa0e1f003f3f7be1c96_64_3.tsv\n",
      "[16:03:20 - __main__] Starting fastq (262 of 378)\n",
      "\t/path/to/data/MinION_sequencing_data_20190830/guppy_3.2.2_08_30_2019_run_01_exec_20190830/pass/fastq_runid_ee80935b39ac8eac3e848aa0e1f003f3f7be1c96_65_2.fastq\n"
     ]
    },
    {
     "name": "stdout",
     "output_type": "stream",
     "text": [
      "[########################################] | 100% Completed | 14.0s\n"
     ]
    },
    {
     "name": "stderr",
     "output_type": "stream",
     "text": [
      "[16:03:34 - __main__] Saving to file: /path/to/data/MinION_sequencing_data_20190830/guppy_3.2.2_08_30_2019_run_01_exec_20190830/sw/fastq_runid_ee80935b39ac8eac3e848aa0e1f003f3f7be1c96_65_2.tsv\n",
      "[16:03:34 - __main__] Starting fastq (263 of 378)\n",
      "\t/path/to/data/MinION_sequencing_data_20190830/guppy_3.2.2_08_30_2019_run_01_exec_20190830/pass/fastq_runid_ee80935b39ac8eac3e848aa0e1f003f3f7be1c96_65_3.fastq\n"
     ]
    },
    {
     "name": "stdout",
     "output_type": "stream",
     "text": [
      "[########################################] | 100% Completed | 53.4s\n"
     ]
    },
    {
     "name": "stderr",
     "output_type": "stream",
     "text": [
      "[16:04:28 - __main__] Saving to file: /path/to/data/MinION_sequencing_data_20190830/guppy_3.2.2_08_30_2019_run_01_exec_20190830/sw/fastq_runid_ee80935b39ac8eac3e848aa0e1f003f3f7be1c96_65_3.tsv\n",
      "[16:04:28 - __main__] Starting fastq (264 of 378)\n",
      "\t/path/to/data/MinION_sequencing_data_20190830/guppy_3.2.2_08_30_2019_run_01_exec_20190830/pass/fastq_runid_ee80935b39ac8eac3e848aa0e1f003f3f7be1c96_66_0.fastq\n"
     ]
    },
    {
     "name": "stdout",
     "output_type": "stream",
     "text": [
      "[########################################] | 100% Completed | 23.7s\n"
     ]
    },
    {
     "name": "stderr",
     "output_type": "stream",
     "text": [
      "[16:04:52 - __main__] Saving to file: /path/to/data/MinION_sequencing_data_20190830/guppy_3.2.2_08_30_2019_run_01_exec_20190830/sw/fastq_runid_ee80935b39ac8eac3e848aa0e1f003f3f7be1c96_66_0.tsv\n",
      "[16:04:52 - __main__] Starting fastq (265 of 378)\n",
      "\t/path/to/data/MinION_sequencing_data_20190830/guppy_3.2.2_08_30_2019_run_01_exec_20190830/pass/fastq_runid_ee80935b39ac8eac3e848aa0e1f003f3f7be1c96_66_1.fastq\n"
     ]
    },
    {
     "name": "stdout",
     "output_type": "stream",
     "text": [
      "[########################################] | 100% Completed | 53.5s\n"
     ]
    },
    {
     "name": "stderr",
     "output_type": "stream",
     "text": [
      "[16:05:46 - __main__] Saving to file: /path/to/data/MinION_sequencing_data_20190830/guppy_3.2.2_08_30_2019_run_01_exec_20190830/sw/fastq_runid_ee80935b39ac8eac3e848aa0e1f003f3f7be1c96_66_1.tsv\n",
      "[16:05:46 - __main__] Starting fastq (266 of 378)\n",
      "\t/path/to/data/MinION_sequencing_data_20190830/guppy_3.2.2_08_30_2019_run_01_exec_20190830/pass/fastq_runid_ee80935b39ac8eac3e848aa0e1f003f3f7be1c96_66_2.fastq\n"
     ]
    },
    {
     "name": "stdout",
     "output_type": "stream",
     "text": [
      "[########################################] | 100% Completed | 45.8s\n"
     ]
    },
    {
     "name": "stderr",
     "output_type": "stream",
     "text": [
      "[16:06:32 - __main__] Saving to file: /path/to/data/MinION_sequencing_data_20190830/guppy_3.2.2_08_30_2019_run_01_exec_20190830/sw/fastq_runid_ee80935b39ac8eac3e848aa0e1f003f3f7be1c96_66_2.tsv\n",
      "[16:06:32 - __main__] Starting fastq (267 of 378)\n",
      "\t/path/to/data/MinION_sequencing_data_20190830/guppy_3.2.2_08_30_2019_run_01_exec_20190830/pass/fastq_runid_ee80935b39ac8eac3e848aa0e1f003f3f7be1c96_67_0.fastq\n"
     ]
    },
    {
     "name": "stdout",
     "output_type": "stream",
     "text": [
      "[########################################] | 100% Completed |  1min 40.0s\n"
     ]
    },
    {
     "name": "stderr",
     "output_type": "stream",
     "text": [
      "[16:08:13 - __main__] Saving to file: /path/to/data/MinION_sequencing_data_20190830/guppy_3.2.2_08_30_2019_run_01_exec_20190830/sw/fastq_runid_ee80935b39ac8eac3e848aa0e1f003f3f7be1c96_67_0.tsv\n",
      "[16:08:13 - __main__] Starting fastq (268 of 378)\n",
      "\t/path/to/data/MinION_sequencing_data_20190830/guppy_3.2.2_08_30_2019_run_01_exec_20190830/pass/fastq_runid_ee80935b39ac8eac3e848aa0e1f003f3f7be1c96_67_1.fastq\n"
     ]
    },
    {
     "name": "stdout",
     "output_type": "stream",
     "text": [
      "[########################################] | 100% Completed | 16.3s\n"
     ]
    },
    {
     "name": "stderr",
     "output_type": "stream",
     "text": [
      "[16:08:29 - __main__] Saving to file: /path/to/data/MinION_sequencing_data_20190830/guppy_3.2.2_08_30_2019_run_01_exec_20190830/sw/fastq_runid_ee80935b39ac8eac3e848aa0e1f003f3f7be1c96_67_1.tsv\n",
      "[16:08:29 - __main__] Starting fastq (269 of 378)\n",
      "\t/path/to/data/MinION_sequencing_data_20190830/guppy_3.2.2_08_30_2019_run_01_exec_20190830/pass/fastq_runid_ee80935b39ac8eac3e848aa0e1f003f3f7be1c96_67_2.fastq\n"
     ]
    },
    {
     "name": "stdout",
     "output_type": "stream",
     "text": [
      "[########################################] | 100% Completed |  8.5s\n"
     ]
    },
    {
     "name": "stderr",
     "output_type": "stream",
     "text": [
      "[16:08:38 - __main__] Saving to file: /path/to/data/MinION_sequencing_data_20190830/guppy_3.2.2_08_30_2019_run_01_exec_20190830/sw/fastq_runid_ee80935b39ac8eac3e848aa0e1f003f3f7be1c96_67_2.tsv\n",
      "[16:08:38 - __main__] Starting fastq (270 of 378)\n",
      "\t/path/to/data/MinION_sequencing_data_20190830/guppy_3.2.2_08_30_2019_run_01_exec_20190830/pass/fastq_runid_ee80935b39ac8eac3e848aa0e1f003f3f7be1c96_68_0.fastq\n"
     ]
    },
    {
     "name": "stdout",
     "output_type": "stream",
     "text": [
      "[########################################] | 100% Completed | 27.0s\n"
     ]
    },
    {
     "name": "stderr",
     "output_type": "stream",
     "text": [
      "[16:09:06 - __main__] Saving to file: /path/to/data/MinION_sequencing_data_20190830/guppy_3.2.2_08_30_2019_run_01_exec_20190830/sw/fastq_runid_ee80935b39ac8eac3e848aa0e1f003f3f7be1c96_68_0.tsv\n",
      "[16:09:06 - __main__] Starting fastq (271 of 378)\n",
      "\t/path/to/data/MinION_sequencing_data_20190830/guppy_3.2.2_08_30_2019_run_01_exec_20190830/pass/fastq_runid_ee80935b39ac8eac3e848aa0e1f003f3f7be1c96_68_1.fastq\n"
     ]
    },
    {
     "name": "stdout",
     "output_type": "stream",
     "text": [
      "[########################################] | 100% Completed | 39.3s\n"
     ]
    },
    {
     "name": "stderr",
     "output_type": "stream",
     "text": [
      "[16:09:45 - __main__] Saving to file: /path/to/data/MinION_sequencing_data_20190830/guppy_3.2.2_08_30_2019_run_01_exec_20190830/sw/fastq_runid_ee80935b39ac8eac3e848aa0e1f003f3f7be1c96_68_1.tsv\n",
      "[16:09:45 - __main__] Starting fastq (272 of 378)\n",
      "\t/path/to/data/MinION_sequencing_data_20190830/guppy_3.2.2_08_30_2019_run_01_exec_20190830/pass/fastq_runid_ee80935b39ac8eac3e848aa0e1f003f3f7be1c96_66_3.fastq\n"
     ]
    },
    {
     "name": "stdout",
     "output_type": "stream",
     "text": [
      "[########################################] | 100% Completed | 15.9s\n"
     ]
    },
    {
     "name": "stderr",
     "output_type": "stream",
     "text": [
      "[16:10:02 - __main__] Saving to file: /path/to/data/MinION_sequencing_data_20190830/guppy_3.2.2_08_30_2019_run_01_exec_20190830/sw/fastq_runid_ee80935b39ac8eac3e848aa0e1f003f3f7be1c96_66_3.tsv\n",
      "[16:10:02 - __main__] Starting fastq (273 of 378)\n",
      "\t/path/to/data/MinION_sequencing_data_20190830/guppy_3.2.2_08_30_2019_run_01_exec_20190830/pass/fastq_runid_ee80935b39ac8eac3e848aa0e1f003f3f7be1c96_67_3.fastq\n"
     ]
    },
    {
     "name": "stdout",
     "output_type": "stream",
     "text": [
      "[########################################] | 100% Completed | 15.0s\n"
     ]
    },
    {
     "name": "stderr",
     "output_type": "stream",
     "text": [
      "[16:10:17 - __main__] Saving to file: /path/to/data/MinION_sequencing_data_20190830/guppy_3.2.2_08_30_2019_run_01_exec_20190830/sw/fastq_runid_ee80935b39ac8eac3e848aa0e1f003f3f7be1c96_67_3.tsv\n",
      "[16:10:17 - __main__] Starting fastq (274 of 378)\n",
      "\t/path/to/data/MinION_sequencing_data_20190830/guppy_3.2.2_08_30_2019_run_01_exec_20190830/pass/fastq_runid_ee80935b39ac8eac3e848aa0e1f003f3f7be1c96_68_2.fastq\n"
     ]
    },
    {
     "name": "stdout",
     "output_type": "stream",
     "text": [
      "[########################################] | 100% Completed |  1min 10.9s\n"
     ]
    },
    {
     "name": "stderr",
     "output_type": "stream",
     "text": [
      "[16:11:28 - __main__] Saving to file: /path/to/data/MinION_sequencing_data_20190830/guppy_3.2.2_08_30_2019_run_01_exec_20190830/sw/fastq_runid_ee80935b39ac8eac3e848aa0e1f003f3f7be1c96_68_2.tsv\n",
      "[16:11:28 - __main__] Starting fastq (275 of 378)\n",
      "\t/path/to/data/MinION_sequencing_data_20190830/guppy_3.2.2_08_30_2019_run_01_exec_20190830/pass/fastq_runid_ee80935b39ac8eac3e848aa0e1f003f3f7be1c96_69_0.fastq\n"
     ]
    },
    {
     "name": "stdout",
     "output_type": "stream",
     "text": [
      "[########################################] | 100% Completed | 44.9s\n"
     ]
    },
    {
     "name": "stderr",
     "output_type": "stream",
     "text": [
      "[16:12:13 - __main__] Saving to file: /path/to/data/MinION_sequencing_data_20190830/guppy_3.2.2_08_30_2019_run_01_exec_20190830/sw/fastq_runid_ee80935b39ac8eac3e848aa0e1f003f3f7be1c96_69_0.tsv\n",
      "[16:12:14 - __main__] Starting fastq (276 of 378)\n",
      "\t/path/to/data/MinION_sequencing_data_20190830/guppy_3.2.2_08_30_2019_run_01_exec_20190830/pass/fastq_runid_ee80935b39ac8eac3e848aa0e1f003f3f7be1c96_69_1.fastq\n"
     ]
    },
    {
     "name": "stdout",
     "output_type": "stream",
     "text": [
      "[########################################] | 100% Completed | 49.5s\n"
     ]
    },
    {
     "name": "stderr",
     "output_type": "stream",
     "text": [
      "[16:13:03 - __main__] Saving to file: /path/to/data/MinION_sequencing_data_20190830/guppy_3.2.2_08_30_2019_run_01_exec_20190830/sw/fastq_runid_ee80935b39ac8eac3e848aa0e1f003f3f7be1c96_69_1.tsv\n",
      "[16:13:03 - __main__] Starting fastq (277 of 378)\n",
      "\t/path/to/data/MinION_sequencing_data_20190830/guppy_3.2.2_08_30_2019_run_01_exec_20190830/pass/fastq_runid_ee80935b39ac8eac3e848aa0e1f003f3f7be1c96_68_3.fastq\n"
     ]
    },
    {
     "name": "stdout",
     "output_type": "stream",
     "text": [
      "[########################################] | 100% Completed |  0.8s\n"
     ]
    },
    {
     "name": "stderr",
     "output_type": "stream",
     "text": [
      "[16:13:04 - __main__] Saving to file: /path/to/data/MinION_sequencing_data_20190830/guppy_3.2.2_08_30_2019_run_01_exec_20190830/sw/fastq_runid_ee80935b39ac8eac3e848aa0e1f003f3f7be1c96_68_3.tsv\n",
      "[16:13:05 - __main__] Starting fastq (278 of 378)\n",
      "\t/path/to/data/MinION_sequencing_data_20190830/guppy_3.2.2_08_30_2019_run_01_exec_20190830/pass/fastq_runid_ee80935b39ac8eac3e848aa0e1f003f3f7be1c96_69_2.fastq\n"
     ]
    },
    {
     "name": "stdout",
     "output_type": "stream",
     "text": [
      "[########################################] | 100% Completed | 30.4s\n"
     ]
    },
    {
     "name": "stderr",
     "output_type": "stream",
     "text": [
      "[16:13:35 - __main__] Saving to file: /path/to/data/MinION_sequencing_data_20190830/guppy_3.2.2_08_30_2019_run_01_exec_20190830/sw/fastq_runid_ee80935b39ac8eac3e848aa0e1f003f3f7be1c96_69_2.tsv\n",
      "[16:13:35 - __main__] Starting fastq (279 of 378)\n",
      "\t/path/to/data/MinION_sequencing_data_20190830/guppy_3.2.2_08_30_2019_run_01_exec_20190830/pass/fastq_runid_ee80935b39ac8eac3e848aa0e1f003f3f7be1c96_70_0.fastq\n"
     ]
    },
    {
     "name": "stdout",
     "output_type": "stream",
     "text": [
      "[########################################] | 100% Completed | 31.4s\n"
     ]
    },
    {
     "name": "stderr",
     "output_type": "stream",
     "text": [
      "[16:14:07 - __main__] Saving to file: /path/to/data/MinION_sequencing_data_20190830/guppy_3.2.2_08_30_2019_run_01_exec_20190830/sw/fastq_runid_ee80935b39ac8eac3e848aa0e1f003f3f7be1c96_70_0.tsv\n",
      "[16:14:07 - __main__] Starting fastq (280 of 378)\n",
      "\t/path/to/data/MinION_sequencing_data_20190830/guppy_3.2.2_08_30_2019_run_01_exec_20190830/pass/fastq_runid_ee80935b39ac8eac3e848aa0e1f003f3f7be1c96_70_1.fastq\n"
     ]
    },
    {
     "name": "stdout",
     "output_type": "stream",
     "text": [
      "[########################################] | 100% Completed | 20.6s\n"
     ]
    },
    {
     "name": "stderr",
     "output_type": "stream",
     "text": [
      "[16:14:28 - __main__] Saving to file: /path/to/data/MinION_sequencing_data_20190830/guppy_3.2.2_08_30_2019_run_01_exec_20190830/sw/fastq_runid_ee80935b39ac8eac3e848aa0e1f003f3f7be1c96_70_1.tsv\n",
      "[16:14:28 - __main__] Starting fastq (281 of 378)\n",
      "\t/path/to/data/MinION_sequencing_data_20190830/guppy_3.2.2_08_30_2019_run_01_exec_20190830/pass/fastq_runid_ee80935b39ac8eac3e848aa0e1f003f3f7be1c96_69_3.fastq\n"
     ]
    },
    {
     "name": "stdout",
     "output_type": "stream",
     "text": [
      "[########################################] | 100% Completed | 12.8s\n"
     ]
    },
    {
     "name": "stderr",
     "output_type": "stream",
     "text": [
      "[16:14:41 - __main__] Saving to file: /path/to/data/MinION_sequencing_data_20190830/guppy_3.2.2_08_30_2019_run_01_exec_20190830/sw/fastq_runid_ee80935b39ac8eac3e848aa0e1f003f3f7be1c96_69_3.tsv\n",
      "[16:14:41 - __main__] Starting fastq (282 of 378)\n",
      "\t/path/to/data/MinION_sequencing_data_20190830/guppy_3.2.2_08_30_2019_run_01_exec_20190830/pass/fastq_runid_ee80935b39ac8eac3e848aa0e1f003f3f7be1c96_71_0.fastq\n"
     ]
    },
    {
     "name": "stdout",
     "output_type": "stream",
     "text": [
      "[########################################] | 100% Completed | 52.8s\n"
     ]
    },
    {
     "name": "stderr",
     "output_type": "stream",
     "text": [
      "[16:15:34 - __main__] Saving to file: /path/to/data/MinION_sequencing_data_20190830/guppy_3.2.2_08_30_2019_run_01_exec_20190830/sw/fastq_runid_ee80935b39ac8eac3e848aa0e1f003f3f7be1c96_71_0.tsv\n",
      "[16:15:34 - __main__] Starting fastq (283 of 378)\n",
      "\t/path/to/data/MinION_sequencing_data_20190830/guppy_3.2.2_08_30_2019_run_01_exec_20190830/pass/fastq_runid_ee80935b39ac8eac3e848aa0e1f003f3f7be1c96_70_2.fastq\n"
     ]
    },
    {
     "name": "stdout",
     "output_type": "stream",
     "text": [
      "[########################################] | 100% Completed |  5.2s\n"
     ]
    },
    {
     "name": "stderr",
     "output_type": "stream",
     "text": [
      "[16:15:40 - __main__] Saving to file: /path/to/data/MinION_sequencing_data_20190830/guppy_3.2.2_08_30_2019_run_01_exec_20190830/sw/fastq_runid_ee80935b39ac8eac3e848aa0e1f003f3f7be1c96_70_2.tsv\n",
      "[16:15:40 - __main__] Starting fastq (284 of 378)\n",
      "\t/path/to/data/MinION_sequencing_data_20190830/guppy_3.2.2_08_30_2019_run_01_exec_20190830/pass/fastq_runid_ee80935b39ac8eac3e848aa0e1f003f3f7be1c96_71_1.fastq\n"
     ]
    },
    {
     "name": "stdout",
     "output_type": "stream",
     "text": [
      "[########################################] | 100% Completed | 48.6s\n"
     ]
    },
    {
     "name": "stderr",
     "output_type": "stream",
     "text": [
      "[16:16:29 - __main__] Saving to file: /path/to/data/MinION_sequencing_data_20190830/guppy_3.2.2_08_30_2019_run_01_exec_20190830/sw/fastq_runid_ee80935b39ac8eac3e848aa0e1f003f3f7be1c96_71_1.tsv\n",
      "[16:16:29 - __main__] Starting fastq (285 of 378)\n",
      "\t/path/to/data/MinION_sequencing_data_20190830/guppy_3.2.2_08_30_2019_run_01_exec_20190830/pass/fastq_runid_ee80935b39ac8eac3e848aa0e1f003f3f7be1c96_71_2.fastq\n"
     ]
    },
    {
     "name": "stdout",
     "output_type": "stream",
     "text": [
      "[########################################] | 100% Completed | 36.5s\n"
     ]
    },
    {
     "name": "stderr",
     "output_type": "stream",
     "text": [
      "[16:17:06 - __main__] Saving to file: /path/to/data/MinION_sequencing_data_20190830/guppy_3.2.2_08_30_2019_run_01_exec_20190830/sw/fastq_runid_ee80935b39ac8eac3e848aa0e1f003f3f7be1c96_71_2.tsv\n",
      "[16:17:06 - __main__] Starting fastq (286 of 378)\n",
      "\t/path/to/data/MinION_sequencing_data_20190830/guppy_3.2.2_08_30_2019_run_01_exec_20190830/pass/fastq_runid_ee80935b39ac8eac3e848aa0e1f003f3f7be1c96_70_3.fastq\n"
     ]
    },
    {
     "name": "stdout",
     "output_type": "stream",
     "text": [
      "[########################################] | 100% Completed |  1min 18.5s\n"
     ]
    },
    {
     "name": "stderr",
     "output_type": "stream",
     "text": [
      "[16:18:24 - __main__] Saving to file: /path/to/data/MinION_sequencing_data_20190830/guppy_3.2.2_08_30_2019_run_01_exec_20190830/sw/fastq_runid_ee80935b39ac8eac3e848aa0e1f003f3f7be1c96_70_3.tsv\n",
      "[16:18:25 - __main__] Starting fastq (287 of 378)\n",
      "\t/path/to/data/MinION_sequencing_data_20190830/guppy_3.2.2_08_30_2019_run_01_exec_20190830/pass/fastq_runid_ee80935b39ac8eac3e848aa0e1f003f3f7be1c96_72_0.fastq\n"
     ]
    },
    {
     "name": "stdout",
     "output_type": "stream",
     "text": [
      "[########################################] | 100% Completed | 38.3s\n"
     ]
    },
    {
     "name": "stderr",
     "output_type": "stream",
     "text": [
      "[16:19:03 - __main__] Saving to file: /path/to/data/MinION_sequencing_data_20190830/guppy_3.2.2_08_30_2019_run_01_exec_20190830/sw/fastq_runid_ee80935b39ac8eac3e848aa0e1f003f3f7be1c96_72_0.tsv\n",
      "[16:19:03 - __main__] Starting fastq (288 of 378)\n",
      "\t/path/to/data/MinION_sequencing_data_20190830/guppy_3.2.2_08_30_2019_run_01_exec_20190830/pass/fastq_runid_ee80935b39ac8eac3e848aa0e1f003f3f7be1c96_72_1.fastq\n"
     ]
    },
    {
     "name": "stdout",
     "output_type": "stream",
     "text": [
      "[########################################] | 100% Completed |  1min 18.4s\n"
     ]
    },
    {
     "name": "stderr",
     "output_type": "stream",
     "text": [
      "[16:20:22 - __main__] Saving to file: /path/to/data/MinION_sequencing_data_20190830/guppy_3.2.2_08_30_2019_run_01_exec_20190830/sw/fastq_runid_ee80935b39ac8eac3e848aa0e1f003f3f7be1c96_72_1.tsv\n",
      "[16:20:22 - __main__] Starting fastq (289 of 378)\n",
      "\t/path/to/data/MinION_sequencing_data_20190830/guppy_3.2.2_08_30_2019_run_01_exec_20190830/pass/fastq_runid_ee80935b39ac8eac3e848aa0e1f003f3f7be1c96_72_2.fastq\n"
     ]
    },
    {
     "name": "stdout",
     "output_type": "stream",
     "text": [
      "[########################################] | 100% Completed | 16.1s\n"
     ]
    },
    {
     "name": "stderr",
     "output_type": "stream",
     "text": [
      "[16:20:39 - __main__] Saving to file: /path/to/data/MinION_sequencing_data_20190830/guppy_3.2.2_08_30_2019_run_01_exec_20190830/sw/fastq_runid_ee80935b39ac8eac3e848aa0e1f003f3f7be1c96_72_2.tsv\n",
      "[16:20:39 - __main__] Starting fastq (290 of 378)\n",
      "\t/path/to/data/MinION_sequencing_data_20190830/guppy_3.2.2_08_30_2019_run_01_exec_20190830/pass/fastq_runid_ee80935b39ac8eac3e848aa0e1f003f3f7be1c96_73_0.fastq\n"
     ]
    },
    {
     "name": "stdout",
     "output_type": "stream",
     "text": [
      "[########################################] | 100% Completed |  1min  3.2s\n"
     ]
    },
    {
     "name": "stderr",
     "output_type": "stream",
     "text": [
      "[16:21:42 - __main__] Saving to file: /path/to/data/MinION_sequencing_data_20190830/guppy_3.2.2_08_30_2019_run_01_exec_20190830/sw/fastq_runid_ee80935b39ac8eac3e848aa0e1f003f3f7be1c96_73_0.tsv\n",
      "[16:21:42 - __main__] Starting fastq (291 of 378)\n",
      "\t/path/to/data/MinION_sequencing_data_20190830/guppy_3.2.2_08_30_2019_run_01_exec_20190830/pass/fastq_runid_ee80935b39ac8eac3e848aa0e1f003f3f7be1c96_73_1.fastq\n"
     ]
    },
    {
     "name": "stdout",
     "output_type": "stream",
     "text": [
      "[########################################] | 100% Completed | 30.3s\n"
     ]
    },
    {
     "name": "stderr",
     "output_type": "stream",
     "text": [
      "[16:22:13 - __main__] Saving to file: /path/to/data/MinION_sequencing_data_20190830/guppy_3.2.2_08_30_2019_run_01_exec_20190830/sw/fastq_runid_ee80935b39ac8eac3e848aa0e1f003f3f7be1c96_73_1.tsv\n",
      "[16:22:13 - __main__] Starting fastq (292 of 378)\n",
      "\t/path/to/data/MinION_sequencing_data_20190830/guppy_3.2.2_08_30_2019_run_01_exec_20190830/pass/fastq_runid_ee80935b39ac8eac3e848aa0e1f003f3f7be1c96_71_3.fastq\n"
     ]
    },
    {
     "name": "stdout",
     "output_type": "stream",
     "text": [
      "[########################################] | 100% Completed |  0.9s\n"
     ]
    },
    {
     "name": "stderr",
     "output_type": "stream",
     "text": [
      "[16:22:14 - __main__] Saving to file: /path/to/data/MinION_sequencing_data_20190830/guppy_3.2.2_08_30_2019_run_01_exec_20190830/sw/fastq_runid_ee80935b39ac8eac3e848aa0e1f003f3f7be1c96_71_3.tsv\n",
      "[16:22:14 - __main__] Starting fastq (293 of 378)\n",
      "\t/path/to/data/MinION_sequencing_data_20190830/guppy_3.2.2_08_30_2019_run_01_exec_20190830/pass/fastq_runid_ee80935b39ac8eac3e848aa0e1f003f3f7be1c96_72_3.fastq\n"
     ]
    },
    {
     "name": "stdout",
     "output_type": "stream",
     "text": [
      "[########################################] | 100% Completed |  6.3s\n"
     ]
    },
    {
     "name": "stderr",
     "output_type": "stream",
     "text": [
      "[16:22:21 - __main__] Saving to file: /path/to/data/MinION_sequencing_data_20190830/guppy_3.2.2_08_30_2019_run_01_exec_20190830/sw/fastq_runid_ee80935b39ac8eac3e848aa0e1f003f3f7be1c96_72_3.tsv\n",
      "[16:22:21 - __main__] Starting fastq (294 of 378)\n",
      "\t/path/to/data/MinION_sequencing_data_20190830/guppy_3.2.2_08_30_2019_run_01_exec_20190830/pass/fastq_runid_ee80935b39ac8eac3e848aa0e1f003f3f7be1c96_73_2.fastq\n"
     ]
    },
    {
     "name": "stdout",
     "output_type": "stream",
     "text": [
      "[########################################] | 100% Completed | 40.2s\n"
     ]
    },
    {
     "name": "stderr",
     "output_type": "stream",
     "text": [
      "[16:23:01 - __main__] Saving to file: /path/to/data/MinION_sequencing_data_20190830/guppy_3.2.2_08_30_2019_run_01_exec_20190830/sw/fastq_runid_ee80935b39ac8eac3e848aa0e1f003f3f7be1c96_73_2.tsv\n",
      "[16:23:01 - __main__] Starting fastq (295 of 378)\n",
      "\t/path/to/data/MinION_sequencing_data_20190830/guppy_3.2.2_08_30_2019_run_01_exec_20190830/pass/fastq_runid_ee80935b39ac8eac3e848aa0e1f003f3f7be1c96_73_3.fastq\n"
     ]
    },
    {
     "name": "stdout",
     "output_type": "stream",
     "text": [
      "[########################################] | 100% Completed |  4.8s\n"
     ]
    },
    {
     "name": "stderr",
     "output_type": "stream",
     "text": [
      "[16:23:06 - __main__] Saving to file: /path/to/data/MinION_sequencing_data_20190830/guppy_3.2.2_08_30_2019_run_01_exec_20190830/sw/fastq_runid_ee80935b39ac8eac3e848aa0e1f003f3f7be1c96_73_3.tsv\n",
      "[16:23:06 - __main__] Starting fastq (296 of 378)\n",
      "\t/path/to/data/MinION_sequencing_data_20190830/guppy_3.2.2_08_30_2019_run_01_exec_20190830/pass/fastq_runid_ee80935b39ac8eac3e848aa0e1f003f3f7be1c96_74_0.fastq\n"
     ]
    },
    {
     "name": "stdout",
     "output_type": "stream",
     "text": [
      "[########################################] | 100% Completed | 44.8s\n"
     ]
    },
    {
     "name": "stderr",
     "output_type": "stream",
     "text": [
      "[16:23:51 - __main__] Saving to file: /path/to/data/MinION_sequencing_data_20190830/guppy_3.2.2_08_30_2019_run_01_exec_20190830/sw/fastq_runid_ee80935b39ac8eac3e848aa0e1f003f3f7be1c96_74_0.tsv\n",
      "[16:23:51 - __main__] Starting fastq (297 of 378)\n",
      "\t/path/to/data/MinION_sequencing_data_20190830/guppy_3.2.2_08_30_2019_run_01_exec_20190830/pass/fastq_runid_ee80935b39ac8eac3e848aa0e1f003f3f7be1c96_74_1.fastq\n"
     ]
    },
    {
     "name": "stdout",
     "output_type": "stream",
     "text": [
      "[########################################] | 100% Completed | 21.1s\n"
     ]
    },
    {
     "name": "stderr",
     "output_type": "stream",
     "text": [
      "[16:24:13 - __main__] Saving to file: /path/to/data/MinION_sequencing_data_20190830/guppy_3.2.2_08_30_2019_run_01_exec_20190830/sw/fastq_runid_ee80935b39ac8eac3e848aa0e1f003f3f7be1c96_74_1.tsv\n",
      "[16:24:13 - __main__] Starting fastq (298 of 378)\n",
      "\t/path/to/data/MinION_sequencing_data_20190830/guppy_3.2.2_08_30_2019_run_01_exec_20190830/pass/fastq_runid_ee80935b39ac8eac3e848aa0e1f003f3f7be1c96_74_2.fastq\n"
     ]
    },
    {
     "name": "stdout",
     "output_type": "stream",
     "text": [
      "[########################################] | 100% Completed | 29.4s\n"
     ]
    },
    {
     "name": "stderr",
     "output_type": "stream",
     "text": [
      "[16:24:42 - __main__] Saving to file: /path/to/data/MinION_sequencing_data_20190830/guppy_3.2.2_08_30_2019_run_01_exec_20190830/sw/fastq_runid_ee80935b39ac8eac3e848aa0e1f003f3f7be1c96_74_2.tsv\n",
      "[16:24:43 - __main__] Starting fastq (299 of 378)\n",
      "\t/path/to/data/MinION_sequencing_data_20190830/guppy_3.2.2_08_30_2019_run_01_exec_20190830/pass/fastq_runid_ee80935b39ac8eac3e848aa0e1f003f3f7be1c96_74_3.fastq\n"
     ]
    },
    {
     "name": "stdout",
     "output_type": "stream",
     "text": [
      "[########################################] | 100% Completed | 42.9s\n"
     ]
    },
    {
     "name": "stderr",
     "output_type": "stream",
     "text": [
      "[16:25:26 - __main__] Saving to file: /path/to/data/MinION_sequencing_data_20190830/guppy_3.2.2_08_30_2019_run_01_exec_20190830/sw/fastq_runid_ee80935b39ac8eac3e848aa0e1f003f3f7be1c96_74_3.tsv\n",
      "[16:25:26 - __main__] Starting fastq (300 of 378)\n",
      "\t/path/to/data/MinION_sequencing_data_20190830/guppy_3.2.2_08_30_2019_run_01_exec_20190830/pass/fastq_runid_ee80935b39ac8eac3e848aa0e1f003f3f7be1c96_75_0.fastq\n"
     ]
    },
    {
     "name": "stdout",
     "output_type": "stream",
     "text": [
      "[########################################] | 100% Completed | 39.0s\n"
     ]
    },
    {
     "name": "stderr",
     "output_type": "stream",
     "text": [
      "[16:26:05 - __main__] Saving to file: /path/to/data/MinION_sequencing_data_20190830/guppy_3.2.2_08_30_2019_run_01_exec_20190830/sw/fastq_runid_ee80935b39ac8eac3e848aa0e1f003f3f7be1c96_75_0.tsv\n",
      "[16:26:05 - __main__] Starting fastq (301 of 378)\n",
      "\t/path/to/data/MinION_sequencing_data_20190830/guppy_3.2.2_08_30_2019_run_01_exec_20190830/pass/fastq_runid_ee80935b39ac8eac3e848aa0e1f003f3f7be1c96_75_1.fastq\n"
     ]
    },
    {
     "name": "stdout",
     "output_type": "stream",
     "text": [
      "[########################################] | 100% Completed |  1min 13.0s\n"
     ]
    },
    {
     "name": "stderr",
     "output_type": "stream",
     "text": [
      "[16:27:19 - __main__] Saving to file: /path/to/data/MinION_sequencing_data_20190830/guppy_3.2.2_08_30_2019_run_01_exec_20190830/sw/fastq_runid_ee80935b39ac8eac3e848aa0e1f003f3f7be1c96_75_1.tsv\n",
      "[16:27:19 - __main__] Starting fastq (302 of 378)\n",
      "\t/path/to/data/MinION_sequencing_data_20190830/guppy_3.2.2_08_30_2019_run_01_exec_20190830/pass/fastq_runid_ee80935b39ac8eac3e848aa0e1f003f3f7be1c96_75_2.fastq\n"
     ]
    },
    {
     "name": "stdout",
     "output_type": "stream",
     "text": [
      "[########################################] | 100% Completed | 22.8s\n"
     ]
    },
    {
     "name": "stderr",
     "output_type": "stream",
     "text": [
      "[16:27:42 - __main__] Saving to file: /path/to/data/MinION_sequencing_data_20190830/guppy_3.2.2_08_30_2019_run_01_exec_20190830/sw/fastq_runid_ee80935b39ac8eac3e848aa0e1f003f3f7be1c96_75_2.tsv\n",
      "[16:27:42 - __main__] Starting fastq (303 of 378)\n",
      "\t/path/to/data/MinION_sequencing_data_20190830/guppy_3.2.2_08_30_2019_run_01_exec_20190830/pass/fastq_runid_ee80935b39ac8eac3e848aa0e1f003f3f7be1c96_76_0.fastq\n"
     ]
    },
    {
     "name": "stdout",
     "output_type": "stream",
     "text": [
      "[########################################] | 100% Completed | 33.2s\n"
     ]
    },
    {
     "name": "stderr",
     "output_type": "stream",
     "text": [
      "[16:28:15 - __main__] Saving to file: /path/to/data/MinION_sequencing_data_20190830/guppy_3.2.2_08_30_2019_run_01_exec_20190830/sw/fastq_runid_ee80935b39ac8eac3e848aa0e1f003f3f7be1c96_76_0.tsv\n",
      "[16:28:15 - __main__] Starting fastq (304 of 378)\n",
      "\t/path/to/data/MinION_sequencing_data_20190830/guppy_3.2.2_08_30_2019_run_01_exec_20190830/pass/fastq_runid_ee80935b39ac8eac3e848aa0e1f003f3f7be1c96_76_1.fastq\n"
     ]
    },
    {
     "name": "stdout",
     "output_type": "stream",
     "text": [
      "[########################################] | 100% Completed |  1min  2.2s\n"
     ]
    },
    {
     "name": "stderr",
     "output_type": "stream",
     "text": [
      "[16:29:18 - __main__] Saving to file: /path/to/data/MinION_sequencing_data_20190830/guppy_3.2.2_08_30_2019_run_01_exec_20190830/sw/fastq_runid_ee80935b39ac8eac3e848aa0e1f003f3f7be1c96_76_1.tsv\n",
      "[16:29:18 - __main__] Starting fastq (305 of 378)\n",
      "\t/path/to/data/MinION_sequencing_data_20190830/guppy_3.2.2_08_30_2019_run_01_exec_20190830/pass/fastq_runid_ee80935b39ac8eac3e848aa0e1f003f3f7be1c96_76_2.fastq\n"
     ]
    },
    {
     "name": "stdout",
     "output_type": "stream",
     "text": [
      "[########################################] | 100% Completed | 31.7s\n"
     ]
    },
    {
     "name": "stderr",
     "output_type": "stream",
     "text": [
      "[16:29:50 - __main__] Saving to file: /path/to/data/MinION_sequencing_data_20190830/guppy_3.2.2_08_30_2019_run_01_exec_20190830/sw/fastq_runid_ee80935b39ac8eac3e848aa0e1f003f3f7be1c96_76_2.tsv\n",
      "[16:29:50 - __main__] Starting fastq (306 of 378)\n",
      "\t/path/to/data/MinION_sequencing_data_20190830/guppy_3.2.2_08_30_2019_run_01_exec_20190830/pass/fastq_runid_ee80935b39ac8eac3e848aa0e1f003f3f7be1c96_75_3.fastq\n"
     ]
    },
    {
     "name": "stdout",
     "output_type": "stream",
     "text": [
      "[########################################] | 100% Completed |  1.0s\n"
     ]
    },
    {
     "name": "stderr",
     "output_type": "stream",
     "text": [
      "[16:29:51 - __main__] Saving to file: /path/to/data/MinION_sequencing_data_20190830/guppy_3.2.2_08_30_2019_run_01_exec_20190830/sw/fastq_runid_ee80935b39ac8eac3e848aa0e1f003f3f7be1c96_75_3.tsv\n",
      "[16:29:51 - __main__] Starting fastq (307 of 378)\n",
      "\t/path/to/data/MinION_sequencing_data_20190830/guppy_3.2.2_08_30_2019_run_01_exec_20190830/pass/fastq_runid_ee80935b39ac8eac3e848aa0e1f003f3f7be1c96_77_0.fastq\n"
     ]
    },
    {
     "name": "stdout",
     "output_type": "stream",
     "text": [
      "[########################################] | 100% Completed |  1min  0.7s\n"
     ]
    },
    {
     "name": "stderr",
     "output_type": "stream",
     "text": [
      "[16:30:52 - __main__] Saving to file: /path/to/data/MinION_sequencing_data_20190830/guppy_3.2.2_08_30_2019_run_01_exec_20190830/sw/fastq_runid_ee80935b39ac8eac3e848aa0e1f003f3f7be1c96_77_0.tsv\n",
      "[16:30:52 - __main__] Starting fastq (308 of 378)\n",
      "\t/path/to/data/MinION_sequencing_data_20190830/guppy_3.2.2_08_30_2019_run_01_exec_20190830/pass/fastq_runid_ee80935b39ac8eac3e848aa0e1f003f3f7be1c96_76_3.fastq\n"
     ]
    },
    {
     "name": "stdout",
     "output_type": "stream",
     "text": [
      "[########################################] | 100% Completed | 11.5s\n"
     ]
    },
    {
     "name": "stderr",
     "output_type": "stream",
     "text": [
      "[16:31:04 - __main__] Saving to file: /path/to/data/MinION_sequencing_data_20190830/guppy_3.2.2_08_30_2019_run_01_exec_20190830/sw/fastq_runid_ee80935b39ac8eac3e848aa0e1f003f3f7be1c96_76_3.tsv\n",
      "[16:31:04 - __main__] Starting fastq (309 of 378)\n",
      "\t/path/to/data/MinION_sequencing_data_20190830/guppy_3.2.2_08_30_2019_run_01_exec_20190830/pass/fastq_runid_ee80935b39ac8eac3e848aa0e1f003f3f7be1c96_77_1.fastq\n"
     ]
    },
    {
     "name": "stdout",
     "output_type": "stream",
     "text": [
      "[########################################] | 100% Completed | 55.1s\n"
     ]
    },
    {
     "name": "stderr",
     "output_type": "stream",
     "text": [
      "[16:32:00 - __main__] Saving to file: /path/to/data/MinION_sequencing_data_20190830/guppy_3.2.2_08_30_2019_run_01_exec_20190830/sw/fastq_runid_ee80935b39ac8eac3e848aa0e1f003f3f7be1c96_77_1.tsv\n",
      "[16:32:00 - __main__] Starting fastq (310 of 378)\n",
      "\t/path/to/data/MinION_sequencing_data_20190830/guppy_3.2.2_08_30_2019_run_01_exec_20190830/pass/fastq_runid_ee80935b39ac8eac3e848aa0e1f003f3f7be1c96_77_2.fastq\n"
     ]
    },
    {
     "name": "stdout",
     "output_type": "stream",
     "text": [
      "[########################################] | 100% Completed |  4.3s\n"
     ]
    },
    {
     "name": "stderr",
     "output_type": "stream",
     "text": [
      "[16:32:04 - __main__] Saving to file: /path/to/data/MinION_sequencing_data_20190830/guppy_3.2.2_08_30_2019_run_01_exec_20190830/sw/fastq_runid_ee80935b39ac8eac3e848aa0e1f003f3f7be1c96_77_2.tsv\n",
      "[16:32:04 - __main__] Starting fastq (311 of 378)\n",
      "\t/path/to/data/MinION_sequencing_data_20190830/guppy_3.2.2_08_30_2019_run_01_exec_20190830/pass/fastq_runid_ee80935b39ac8eac3e848aa0e1f003f3f7be1c96_78_0.fastq\n"
     ]
    },
    {
     "name": "stdout",
     "output_type": "stream",
     "text": [
      "[########################################] | 100% Completed | 30.5s\n"
     ]
    },
    {
     "name": "stderr",
     "output_type": "stream",
     "text": [
      "[16:32:35 - __main__] Saving to file: /path/to/data/MinION_sequencing_data_20190830/guppy_3.2.2_08_30_2019_run_01_exec_20190830/sw/fastq_runid_ee80935b39ac8eac3e848aa0e1f003f3f7be1c96_78_0.tsv\n",
      "[16:32:35 - __main__] Starting fastq (312 of 378)\n",
      "\t/path/to/data/MinION_sequencing_data_20190830/guppy_3.2.2_08_30_2019_run_01_exec_20190830/pass/fastq_runid_ee80935b39ac8eac3e848aa0e1f003f3f7be1c96_78_1.fastq\n"
     ]
    },
    {
     "name": "stdout",
     "output_type": "stream",
     "text": [
      "[########################################] | 100% Completed | 26.0s\n"
     ]
    },
    {
     "name": "stderr",
     "output_type": "stream",
     "text": [
      "[16:33:01 - __main__] Saving to file: /path/to/data/MinION_sequencing_data_20190830/guppy_3.2.2_08_30_2019_run_01_exec_20190830/sw/fastq_runid_ee80935b39ac8eac3e848aa0e1f003f3f7be1c96_78_1.tsv\n",
      "[16:33:01 - __main__] Starting fastq (313 of 378)\n",
      "\t/path/to/data/MinION_sequencing_data_20190830/guppy_3.2.2_08_30_2019_run_01_exec_20190830/pass/fastq_runid_ee80935b39ac8eac3e848aa0e1f003f3f7be1c96_77_3.fastq\n"
     ]
    },
    {
     "name": "stdout",
     "output_type": "stream",
     "text": [
      "[########################################] | 100% Completed | 14.7s\n"
     ]
    },
    {
     "name": "stderr",
     "output_type": "stream",
     "text": [
      "[16:33:16 - __main__] Saving to file: /path/to/data/MinION_sequencing_data_20190830/guppy_3.2.2_08_30_2019_run_01_exec_20190830/sw/fastq_runid_ee80935b39ac8eac3e848aa0e1f003f3f7be1c96_77_3.tsv\n",
      "[16:33:16 - __main__] Starting fastq (314 of 378)\n",
      "\t/path/to/data/MinION_sequencing_data_20190830/guppy_3.2.2_08_30_2019_run_01_exec_20190830/pass/fastq_runid_ee80935b39ac8eac3e848aa0e1f003f3f7be1c96_78_2.fastq\n"
     ]
    },
    {
     "name": "stdout",
     "output_type": "stream",
     "text": [
      "[########################################] | 100% Completed |  1min  1.4s\n"
     ]
    },
    {
     "name": "stderr",
     "output_type": "stream",
     "text": [
      "[16:34:18 - __main__] Saving to file: /path/to/data/MinION_sequencing_data_20190830/guppy_3.2.2_08_30_2019_run_01_exec_20190830/sw/fastq_runid_ee80935b39ac8eac3e848aa0e1f003f3f7be1c96_78_2.tsv\n",
      "[16:34:18 - __main__] Starting fastq (315 of 378)\n",
      "\t/path/to/data/MinION_sequencing_data_20190830/guppy_3.2.2_08_30_2019_run_01_exec_20190830/pass/fastq_runid_ee80935b39ac8eac3e848aa0e1f003f3f7be1c96_78_3.fastq\n"
     ]
    },
    {
     "name": "stdout",
     "output_type": "stream",
     "text": [
      "[########################################] | 100% Completed | 22.9s\n"
     ]
    },
    {
     "name": "stderr",
     "output_type": "stream",
     "text": [
      "[16:34:41 - __main__] Saving to file: /path/to/data/MinION_sequencing_data_20190830/guppy_3.2.2_08_30_2019_run_01_exec_20190830/sw/fastq_runid_ee80935b39ac8eac3e848aa0e1f003f3f7be1c96_78_3.tsv\n",
      "[16:34:42 - __main__] Starting fastq (316 of 378)\n",
      "\t/path/to/data/MinION_sequencing_data_20190830/guppy_3.2.2_08_30_2019_run_01_exec_20190830/pass/fastq_runid_ee80935b39ac8eac3e848aa0e1f003f3f7be1c96_79_0.fastq\n"
     ]
    },
    {
     "name": "stdout",
     "output_type": "stream",
     "text": [
      "[########################################] | 100% Completed | 46.1s\n"
     ]
    },
    {
     "name": "stderr",
     "output_type": "stream",
     "text": [
      "[16:35:28 - __main__] Saving to file: /path/to/data/MinION_sequencing_data_20190830/guppy_3.2.2_08_30_2019_run_01_exec_20190830/sw/fastq_runid_ee80935b39ac8eac3e848aa0e1f003f3f7be1c96_79_0.tsv\n",
      "[16:35:28 - __main__] Starting fastq (317 of 378)\n",
      "\t/path/to/data/MinION_sequencing_data_20190830/guppy_3.2.2_08_30_2019_run_01_exec_20190830/pass/fastq_runid_ee80935b39ac8eac3e848aa0e1f003f3f7be1c96_79_1.fastq\n"
     ]
    },
    {
     "name": "stdout",
     "output_type": "stream",
     "text": [
      "[########################################] | 100% Completed | 37.7s\n"
     ]
    },
    {
     "name": "stderr",
     "output_type": "stream",
     "text": [
      "[16:36:06 - __main__] Saving to file: /path/to/data/MinION_sequencing_data_20190830/guppy_3.2.2_08_30_2019_run_01_exec_20190830/sw/fastq_runid_ee80935b39ac8eac3e848aa0e1f003f3f7be1c96_79_1.tsv\n",
      "[16:36:06 - __main__] Starting fastq (318 of 378)\n",
      "\t/path/to/data/MinION_sequencing_data_20190830/guppy_3.2.2_08_30_2019_run_01_exec_20190830/pass/fastq_runid_ee80935b39ac8eac3e848aa0e1f003f3f7be1c96_79_2.fastq\n"
     ]
    },
    {
     "name": "stdout",
     "output_type": "stream",
     "text": [
      "[########################################] | 100% Completed | 16.2s\n"
     ]
    },
    {
     "name": "stderr",
     "output_type": "stream",
     "text": [
      "[16:36:23 - __main__] Saving to file: /path/to/data/MinION_sequencing_data_20190830/guppy_3.2.2_08_30_2019_run_01_exec_20190830/sw/fastq_runid_ee80935b39ac8eac3e848aa0e1f003f3f7be1c96_79_2.tsv\n",
      "[16:36:23 - __main__] Starting fastq (319 of 378)\n",
      "\t/path/to/data/MinION_sequencing_data_20190830/guppy_3.2.2_08_30_2019_run_01_exec_20190830/pass/fastq_runid_ee80935b39ac8eac3e848aa0e1f003f3f7be1c96_80_0.fastq\n"
     ]
    },
    {
     "name": "stdout",
     "output_type": "stream",
     "text": [
      "[########################################] | 100% Completed |  1min 13.2s\n"
     ]
    },
    {
     "name": "stderr",
     "output_type": "stream",
     "text": [
      "[16:37:36 - __main__] Saving to file: /path/to/data/MinION_sequencing_data_20190830/guppy_3.2.2_08_30_2019_run_01_exec_20190830/sw/fastq_runid_ee80935b39ac8eac3e848aa0e1f003f3f7be1c96_80_0.tsv\n",
      "[16:37:36 - __main__] Starting fastq (320 of 378)\n",
      "\t/path/to/data/MinION_sequencing_data_20190830/guppy_3.2.2_08_30_2019_run_01_exec_20190830/pass/fastq_runid_ee80935b39ac8eac3e848aa0e1f003f3f7be1c96_80_1.fastq\n"
     ]
    },
    {
     "name": "stdout",
     "output_type": "stream",
     "text": [
      "[########################################] | 100% Completed | 29.9s\n"
     ]
    },
    {
     "name": "stderr",
     "output_type": "stream",
     "text": [
      "[16:38:06 - __main__] Saving to file: /path/to/data/MinION_sequencing_data_20190830/guppy_3.2.2_08_30_2019_run_01_exec_20190830/sw/fastq_runid_ee80935b39ac8eac3e848aa0e1f003f3f7be1c96_80_1.tsv\n",
      "[16:38:06 - __main__] Starting fastq (321 of 378)\n",
      "\t/path/to/data/MinION_sequencing_data_20190830/guppy_3.2.2_08_30_2019_run_01_exec_20190830/pass/fastq_runid_ee80935b39ac8eac3e848aa0e1f003f3f7be1c96_79_3.fastq\n"
     ]
    },
    {
     "name": "stdout",
     "output_type": "stream",
     "text": [
      "[########################################] | 100% Completed | 36.9s\n"
     ]
    },
    {
     "name": "stderr",
     "output_type": "stream",
     "text": [
      "[16:38:44 - __main__] Saving to file: /path/to/data/MinION_sequencing_data_20190830/guppy_3.2.2_08_30_2019_run_01_exec_20190830/sw/fastq_runid_ee80935b39ac8eac3e848aa0e1f003f3f7be1c96_79_3.tsv\n",
      "[16:38:44 - __main__] Starting fastq (322 of 378)\n",
      "\t/path/to/data/MinION_sequencing_data_20190830/guppy_3.2.2_08_30_2019_run_01_exec_20190830/pass/fastq_runid_ee80935b39ac8eac3e848aa0e1f003f3f7be1c96_80_2.fastq\n"
     ]
    },
    {
     "name": "stdout",
     "output_type": "stream",
     "text": [
      "[########################################] | 100% Completed |  7.0s\n"
     ]
    },
    {
     "name": "stderr",
     "output_type": "stream",
     "text": [
      "[16:38:51 - __main__] Saving to file: /path/to/data/MinION_sequencing_data_20190830/guppy_3.2.2_08_30_2019_run_01_exec_20190830/sw/fastq_runid_ee80935b39ac8eac3e848aa0e1f003f3f7be1c96_80_2.tsv\n",
      "[16:38:51 - __main__] Starting fastq (323 of 378)\n",
      "\t/path/to/data/MinION_sequencing_data_20190830/guppy_3.2.2_08_30_2019_run_01_exec_20190830/pass/fastq_runid_ee80935b39ac8eac3e848aa0e1f003f3f7be1c96_81_0.fastq\n"
     ]
    },
    {
     "name": "stdout",
     "output_type": "stream",
     "text": [
      "[########################################] | 100% Completed | 45.2s\n"
     ]
    },
    {
     "name": "stderr",
     "output_type": "stream",
     "text": [
      "[16:39:37 - __main__] Saving to file: /path/to/data/MinION_sequencing_data_20190830/guppy_3.2.2_08_30_2019_run_01_exec_20190830/sw/fastq_runid_ee80935b39ac8eac3e848aa0e1f003f3f7be1c96_81_0.tsv\n",
      "[16:39:37 - __main__] Starting fastq (324 of 378)\n",
      "\t/path/to/data/MinION_sequencing_data_20190830/guppy_3.2.2_08_30_2019_run_01_exec_20190830/pass/fastq_runid_ee80935b39ac8eac3e848aa0e1f003f3f7be1c96_81_1.fastq\n"
     ]
    },
    {
     "name": "stdout",
     "output_type": "stream",
     "text": [
      "[########################################] | 100% Completed | 41.3s\n"
     ]
    },
    {
     "name": "stderr",
     "output_type": "stream",
     "text": [
      "[16:40:18 - __main__] Saving to file: /path/to/data/MinION_sequencing_data_20190830/guppy_3.2.2_08_30_2019_run_01_exec_20190830/sw/fastq_runid_ee80935b39ac8eac3e848aa0e1f003f3f7be1c96_81_1.tsv\n",
      "[16:40:18 - __main__] Starting fastq (325 of 378)\n",
      "\t/path/to/data/MinION_sequencing_data_20190830/guppy_3.2.2_08_30_2019_run_01_exec_20190830/pass/fastq_runid_ee80935b39ac8eac3e848aa0e1f003f3f7be1c96_81_2.fastq\n"
     ]
    },
    {
     "name": "stdout",
     "output_type": "stream",
     "text": [
      "[########################################] | 100% Completed | 48.9s\n"
     ]
    },
    {
     "name": "stderr",
     "output_type": "stream",
     "text": [
      "[16:41:08 - __main__] Saving to file: /path/to/data/MinION_sequencing_data_20190830/guppy_3.2.2_08_30_2019_run_01_exec_20190830/sw/fastq_runid_ee80935b39ac8eac3e848aa0e1f003f3f7be1c96_81_2.tsv\n",
      "[16:41:08 - __main__] Starting fastq (326 of 378)\n",
      "\t/path/to/data/MinION_sequencing_data_20190830/guppy_3.2.2_08_30_2019_run_01_exec_20190830/pass/fastq_runid_ee80935b39ac8eac3e848aa0e1f003f3f7be1c96_80_3.fastq\n"
     ]
    },
    {
     "name": "stdout",
     "output_type": "stream",
     "text": [
      "[########################################] | 100% Completed | 28.0s\n"
     ]
    },
    {
     "name": "stderr",
     "output_type": "stream",
     "text": [
      "[16:41:36 - __main__] Saving to file: /path/to/data/MinION_sequencing_data_20190830/guppy_3.2.2_08_30_2019_run_01_exec_20190830/sw/fastq_runid_ee80935b39ac8eac3e848aa0e1f003f3f7be1c96_80_3.tsv\n",
      "[16:41:36 - __main__] Starting fastq (327 of 378)\n",
      "\t/path/to/data/MinION_sequencing_data_20190830/guppy_3.2.2_08_30_2019_run_01_exec_20190830/pass/fastq_runid_ee80935b39ac8eac3e848aa0e1f003f3f7be1c96_82_0.fastq\n"
     ]
    },
    {
     "name": "stdout",
     "output_type": "stream",
     "text": [
      "[########################################] | 100% Completed | 33.3s\n"
     ]
    },
    {
     "name": "stderr",
     "output_type": "stream",
     "text": [
      "[16:42:09 - __main__] Saving to file: /path/to/data/MinION_sequencing_data_20190830/guppy_3.2.2_08_30_2019_run_01_exec_20190830/sw/fastq_runid_ee80935b39ac8eac3e848aa0e1f003f3f7be1c96_82_0.tsv\n",
      "[16:42:10 - __main__] Starting fastq (328 of 378)\n",
      "\t/path/to/data/MinION_sequencing_data_20190830/guppy_3.2.2_08_30_2019_run_01_exec_20190830/pass/fastq_runid_ee80935b39ac8eac3e848aa0e1f003f3f7be1c96_81_3.fastq\n"
     ]
    },
    {
     "name": "stdout",
     "output_type": "stream",
     "text": [
      "[########################################] | 100% Completed |  1.0s\n"
     ]
    },
    {
     "name": "stderr",
     "output_type": "stream",
     "text": [
      "[16:42:11 - __main__] Saving to file: /path/to/data/MinION_sequencing_data_20190830/guppy_3.2.2_08_30_2019_run_01_exec_20190830/sw/fastq_runid_ee80935b39ac8eac3e848aa0e1f003f3f7be1c96_81_3.tsv\n",
      "[16:42:11 - __main__] Starting fastq (329 of 378)\n",
      "\t/path/to/data/MinION_sequencing_data_20190830/guppy_3.2.2_08_30_2019_run_01_exec_20190830/pass/fastq_runid_ee80935b39ac8eac3e848aa0e1f003f3f7be1c96_82_1.fastq\n"
     ]
    },
    {
     "name": "stdout",
     "output_type": "stream",
     "text": [
      "[########################################] | 100% Completed |  1min 20.2s\n"
     ]
    },
    {
     "name": "stderr",
     "output_type": "stream",
     "text": [
      "[16:43:31 - __main__] Saving to file: /path/to/data/MinION_sequencing_data_20190830/guppy_3.2.2_08_30_2019_run_01_exec_20190830/sw/fastq_runid_ee80935b39ac8eac3e848aa0e1f003f3f7be1c96_82_1.tsv\n",
      "[16:43:31 - __main__] Starting fastq (330 of 378)\n",
      "\t/path/to/data/MinION_sequencing_data_20190830/guppy_3.2.2_08_30_2019_run_01_exec_20190830/pass/fastq_runid_ee80935b39ac8eac3e848aa0e1f003f3f7be1c96_83_0.fastq\n"
     ]
    },
    {
     "name": "stdout",
     "output_type": "stream",
     "text": [
      "[########################################] | 100% Completed |  1min 40.5s\n"
     ]
    },
    {
     "name": "stderr",
     "output_type": "stream",
     "text": [
      "[16:45:12 - __main__] Saving to file: /path/to/data/MinION_sequencing_data_20190830/guppy_3.2.2_08_30_2019_run_01_exec_20190830/sw/fastq_runid_ee80935b39ac8eac3e848aa0e1f003f3f7be1c96_83_0.tsv\n",
      "[16:45:13 - __main__] Starting fastq (331 of 378)\n",
      "\t/path/to/data/MinION_sequencing_data_20190830/guppy_3.2.2_08_30_2019_run_01_exec_20190830/pass/fastq_runid_ee80935b39ac8eac3e848aa0e1f003f3f7be1c96_82_2.fastq\n"
     ]
    },
    {
     "name": "stdout",
     "output_type": "stream",
     "text": [
      "[########################################] | 100% Completed | 17.6s\n"
     ]
    },
    {
     "name": "stderr",
     "output_type": "stream",
     "text": [
      "[16:45:30 - __main__] Saving to file: /path/to/data/MinION_sequencing_data_20190830/guppy_3.2.2_08_30_2019_run_01_exec_20190830/sw/fastq_runid_ee80935b39ac8eac3e848aa0e1f003f3f7be1c96_82_2.tsv\n",
      "[16:45:30 - __main__] Starting fastq (332 of 378)\n",
      "\t/path/to/data/MinION_sequencing_data_20190830/guppy_3.2.2_08_30_2019_run_01_exec_20190830/pass/fastq_runid_ee80935b39ac8eac3e848aa0e1f003f3f7be1c96_82_3.fastq\n"
     ]
    },
    {
     "name": "stdout",
     "output_type": "stream",
     "text": [
      "[########################################] | 100% Completed |  6.3s\n"
     ]
    },
    {
     "name": "stderr",
     "output_type": "stream",
     "text": [
      "[16:45:37 - __main__] Saving to file: /path/to/data/MinION_sequencing_data_20190830/guppy_3.2.2_08_30_2019_run_01_exec_20190830/sw/fastq_runid_ee80935b39ac8eac3e848aa0e1f003f3f7be1c96_82_3.tsv\n",
      "[16:45:37 - __main__] Starting fastq (333 of 378)\n",
      "\t/path/to/data/MinION_sequencing_data_20190830/guppy_3.2.2_08_30_2019_run_01_exec_20190830/pass/fastq_runid_ee80935b39ac8eac3e848aa0e1f003f3f7be1c96_83_1.fastq\n"
     ]
    },
    {
     "name": "stdout",
     "output_type": "stream",
     "text": [
      "[########################################] | 100% Completed |  8.7s\n"
     ]
    },
    {
     "name": "stderr",
     "output_type": "stream",
     "text": [
      "[16:45:46 - __main__] Saving to file: /path/to/data/MinION_sequencing_data_20190830/guppy_3.2.2_08_30_2019_run_01_exec_20190830/sw/fastq_runid_ee80935b39ac8eac3e848aa0e1f003f3f7be1c96_83_1.tsv\n",
      "[16:45:46 - __main__] Starting fastq (334 of 378)\n",
      "\t/path/to/data/MinION_sequencing_data_20190830/guppy_3.2.2_08_30_2019_run_01_exec_20190830/pass/fastq_runid_ee80935b39ac8eac3e848aa0e1f003f3f7be1c96_83_2.fastq\n"
     ]
    },
    {
     "name": "stdout",
     "output_type": "stream",
     "text": [
      "[########################################] | 100% Completed | 10.2s\n"
     ]
    },
    {
     "name": "stderr",
     "output_type": "stream",
     "text": [
      "[16:45:56 - __main__] Saving to file: /path/to/data/MinION_sequencing_data_20190830/guppy_3.2.2_08_30_2019_run_01_exec_20190830/sw/fastq_runid_ee80935b39ac8eac3e848aa0e1f003f3f7be1c96_83_2.tsv\n",
      "[16:45:56 - __main__] Starting fastq (335 of 378)\n",
      "\t/path/to/data/MinION_sequencing_data_20190830/guppy_3.2.2_08_30_2019_run_01_exec_20190830/pass/fastq_runid_ee80935b39ac8eac3e848aa0e1f003f3f7be1c96_84_0.fastq\n"
     ]
    },
    {
     "name": "stdout",
     "output_type": "stream",
     "text": [
      "[########################################] | 100% Completed | 25.8s\n"
     ]
    },
    {
     "name": "stderr",
     "output_type": "stream",
     "text": [
      "[16:46:22 - __main__] Saving to file: /path/to/data/MinION_sequencing_data_20190830/guppy_3.2.2_08_30_2019_run_01_exec_20190830/sw/fastq_runid_ee80935b39ac8eac3e848aa0e1f003f3f7be1c96_84_0.tsv\n",
      "[16:46:23 - __main__] Starting fastq (336 of 378)\n",
      "\t/path/to/data/MinION_sequencing_data_20190830/guppy_3.2.2_08_30_2019_run_01_exec_20190830/pass/fastq_runid_ee80935b39ac8eac3e848aa0e1f003f3f7be1c96_83_3.fastq\n"
     ]
    },
    {
     "name": "stdout",
     "output_type": "stream",
     "text": [
      "[########################################] | 100% Completed | 16.3s\n"
     ]
    },
    {
     "name": "stderr",
     "output_type": "stream",
     "text": [
      "[16:46:39 - __main__] Saving to file: /path/to/data/MinION_sequencing_data_20190830/guppy_3.2.2_08_30_2019_run_01_exec_20190830/sw/fastq_runid_ee80935b39ac8eac3e848aa0e1f003f3f7be1c96_83_3.tsv\n",
      "[16:46:39 - __main__] Starting fastq (337 of 378)\n",
      "\t/path/to/data/MinION_sequencing_data_20190830/guppy_3.2.2_08_30_2019_run_01_exec_20190830/pass/fastq_runid_ee80935b39ac8eac3e848aa0e1f003f3f7be1c96_84_1.fastq\n"
     ]
    },
    {
     "name": "stdout",
     "output_type": "stream",
     "text": [
      "[########################################] | 100% Completed | 22.0s\n"
     ]
    },
    {
     "name": "stderr",
     "output_type": "stream",
     "text": [
      "[16:47:01 - __main__] Saving to file: /path/to/data/MinION_sequencing_data_20190830/guppy_3.2.2_08_30_2019_run_01_exec_20190830/sw/fastq_runid_ee80935b39ac8eac3e848aa0e1f003f3f7be1c96_84_1.tsv\n",
      "[16:47:01 - __main__] Starting fastq (338 of 378)\n",
      "\t/path/to/data/MinION_sequencing_data_20190830/guppy_3.2.2_08_30_2019_run_01_exec_20190830/pass/fastq_runid_ee80935b39ac8eac3e848aa0e1f003f3f7be1c96_84_2.fastq\n"
     ]
    },
    {
     "name": "stdout",
     "output_type": "stream",
     "text": [
      "[########################################] | 100% Completed |  8.9s\n"
     ]
    },
    {
     "name": "stderr",
     "output_type": "stream",
     "text": [
      "[16:47:11 - __main__] Saving to file: /path/to/data/MinION_sequencing_data_20190830/guppy_3.2.2_08_30_2019_run_01_exec_20190830/sw/fastq_runid_ee80935b39ac8eac3e848aa0e1f003f3f7be1c96_84_2.tsv\n",
      "[16:47:11 - __main__] Starting fastq (339 of 378)\n",
      "\t/path/to/data/MinION_sequencing_data_20190830/guppy_3.2.2_08_30_2019_run_01_exec_20190830/pass/fastq_runid_ee80935b39ac8eac3e848aa0e1f003f3f7be1c96_84_3.fastq\n"
     ]
    },
    {
     "name": "stdout",
     "output_type": "stream",
     "text": [
      "[########################################] | 100% Completed |  1min 19.8s\n"
     ]
    },
    {
     "name": "stderr",
     "output_type": "stream",
     "text": [
      "[16:48:31 - __main__] Saving to file: /path/to/data/MinION_sequencing_data_20190830/guppy_3.2.2_08_30_2019_run_01_exec_20190830/sw/fastq_runid_ee80935b39ac8eac3e848aa0e1f003f3f7be1c96_84_3.tsv\n",
      "[16:48:31 - __main__] Starting fastq (340 of 378)\n",
      "\t/path/to/data/MinION_sequencing_data_20190830/guppy_3.2.2_08_30_2019_run_01_exec_20190830/pass/fastq_runid_ee80935b39ac8eac3e848aa0e1f003f3f7be1c96_85_0.fastq\n"
     ]
    },
    {
     "name": "stdout",
     "output_type": "stream",
     "text": [
      "[########################################] | 100% Completed | 36.2s\n"
     ]
    },
    {
     "name": "stderr",
     "output_type": "stream",
     "text": [
      "[16:49:07 - __main__] Saving to file: /path/to/data/MinION_sequencing_data_20190830/guppy_3.2.2_08_30_2019_run_01_exec_20190830/sw/fastq_runid_ee80935b39ac8eac3e848aa0e1f003f3f7be1c96_85_0.tsv\n",
      "[16:49:08 - __main__] Starting fastq (341 of 378)\n",
      "\t/path/to/data/MinION_sequencing_data_20190830/guppy_3.2.2_08_30_2019_run_01_exec_20190830/pass/fastq_runid_ee80935b39ac8eac3e848aa0e1f003f3f7be1c96_85_1.fastq\n"
     ]
    },
    {
     "name": "stdout",
     "output_type": "stream",
     "text": [
      "[########################################] | 100% Completed |  6.0s\n"
     ]
    },
    {
     "name": "stderr",
     "output_type": "stream",
     "text": [
      "[16:49:14 - __main__] Saving to file: /path/to/data/MinION_sequencing_data_20190830/guppy_3.2.2_08_30_2019_run_01_exec_20190830/sw/fastq_runid_ee80935b39ac8eac3e848aa0e1f003f3f7be1c96_85_1.tsv\n",
      "[16:49:14 - __main__] Starting fastq (342 of 378)\n",
      "\t/path/to/data/MinION_sequencing_data_20190830/guppy_3.2.2_08_30_2019_run_01_exec_20190830/pass/fastq_runid_ee80935b39ac8eac3e848aa0e1f003f3f7be1c96_85_2.fastq\n"
     ]
    },
    {
     "name": "stdout",
     "output_type": "stream",
     "text": [
      "[########################################] | 100% Completed |  1min 23.1s\n"
     ]
    },
    {
     "name": "stderr",
     "output_type": "stream",
     "text": [
      "[16:50:37 - __main__] Saving to file: /path/to/data/MinION_sequencing_data_20190830/guppy_3.2.2_08_30_2019_run_01_exec_20190830/sw/fastq_runid_ee80935b39ac8eac3e848aa0e1f003f3f7be1c96_85_2.tsv\n",
      "[16:50:37 - __main__] Starting fastq (343 of 378)\n",
      "\t/path/to/data/MinION_sequencing_data_20190830/guppy_3.2.2_08_30_2019_run_01_exec_20190830/pass/fastq_runid_ee80935b39ac8eac3e848aa0e1f003f3f7be1c96_85_3.fastq\n"
     ]
    },
    {
     "name": "stdout",
     "output_type": "stream",
     "text": [
      "[########################################] | 100% Completed | 10.2s\n"
     ]
    },
    {
     "name": "stderr",
     "output_type": "stream",
     "text": [
      "[16:50:48 - __main__] Saving to file: /path/to/data/MinION_sequencing_data_20190830/guppy_3.2.2_08_30_2019_run_01_exec_20190830/sw/fastq_runid_ee80935b39ac8eac3e848aa0e1f003f3f7be1c96_85_3.tsv\n",
      "[16:50:48 - __main__] Starting fastq (344 of 378)\n",
      "\t/path/to/data/MinION_sequencing_data_20190830/guppy_3.2.2_08_30_2019_run_01_exec_20190830/pass/fastq_runid_ee80935b39ac8eac3e848aa0e1f003f3f7be1c96_86_0.fastq\n"
     ]
    },
    {
     "name": "stdout",
     "output_type": "stream",
     "text": [
      "[########################################] | 100% Completed | 24.9s\n"
     ]
    },
    {
     "name": "stderr",
     "output_type": "stream",
     "text": [
      "[16:51:13 - __main__] Saving to file: /path/to/data/MinION_sequencing_data_20190830/guppy_3.2.2_08_30_2019_run_01_exec_20190830/sw/fastq_runid_ee80935b39ac8eac3e848aa0e1f003f3f7be1c96_86_0.tsv\n",
      "[16:51:13 - __main__] Starting fastq (345 of 378)\n",
      "\t/path/to/data/MinION_sequencing_data_20190830/guppy_3.2.2_08_30_2019_run_01_exec_20190830/pass/fastq_runid_ee80935b39ac8eac3e848aa0e1f003f3f7be1c96_86_1.fastq\n"
     ]
    },
    {
     "name": "stdout",
     "output_type": "stream",
     "text": [
      "[########################################] | 100% Completed | 42.1s\n"
     ]
    },
    {
     "name": "stderr",
     "output_type": "stream",
     "text": [
      "[16:51:56 - __main__] Saving to file: /path/to/data/MinION_sequencing_data_20190830/guppy_3.2.2_08_30_2019_run_01_exec_20190830/sw/fastq_runid_ee80935b39ac8eac3e848aa0e1f003f3f7be1c96_86_1.tsv\n",
      "[16:51:56 - __main__] Starting fastq (346 of 378)\n",
      "\t/path/to/data/MinION_sequencing_data_20190830/guppy_3.2.2_08_30_2019_run_01_exec_20190830/pass/fastq_runid_ee80935b39ac8eac3e848aa0e1f003f3f7be1c96_86_2.fastq\n"
     ]
    },
    {
     "name": "stdout",
     "output_type": "stream",
     "text": [
      "[########################################] | 100% Completed |  1min 13.3s\n"
     ]
    },
    {
     "name": "stderr",
     "output_type": "stream",
     "text": [
      "[16:53:09 - __main__] Saving to file: /path/to/data/MinION_sequencing_data_20190830/guppy_3.2.2_08_30_2019_run_01_exec_20190830/sw/fastq_runid_ee80935b39ac8eac3e848aa0e1f003f3f7be1c96_86_2.tsv\n",
      "[16:53:09 - __main__] Starting fastq (347 of 378)\n",
      "\t/path/to/data/MinION_sequencing_data_20190830/guppy_3.2.2_08_30_2019_run_01_exec_20190830/pass/fastq_runid_ee80935b39ac8eac3e848aa0e1f003f3f7be1c96_87_0.fastq\n"
     ]
    },
    {
     "name": "stdout",
     "output_type": "stream",
     "text": [
      "[########################################] | 100% Completed | 45.1s\n"
     ]
    },
    {
     "name": "stderr",
     "output_type": "stream",
     "text": [
      "[16:53:55 - __main__] Saving to file: /path/to/data/MinION_sequencing_data_20190830/guppy_3.2.2_08_30_2019_run_01_exec_20190830/sw/fastq_runid_ee80935b39ac8eac3e848aa0e1f003f3f7be1c96_87_0.tsv\n",
      "[16:53:55 - __main__] Starting fastq (348 of 378)\n",
      "\t/path/to/data/MinION_sequencing_data_20190830/guppy_3.2.2_08_30_2019_run_01_exec_20190830/pass/fastq_runid_ee80935b39ac8eac3e848aa0e1f003f3f7be1c96_87_1.fastq\n"
     ]
    },
    {
     "name": "stdout",
     "output_type": "stream",
     "text": [
      "[########################################] | 100% Completed | 46.9s\n"
     ]
    },
    {
     "name": "stderr",
     "output_type": "stream",
     "text": [
      "[16:54:42 - __main__] Saving to file: /path/to/data/MinION_sequencing_data_20190830/guppy_3.2.2_08_30_2019_run_01_exec_20190830/sw/fastq_runid_ee80935b39ac8eac3e848aa0e1f003f3f7be1c96_87_1.tsv\n",
      "[16:54:42 - __main__] Starting fastq (349 of 378)\n",
      "\t/path/to/data/MinION_sequencing_data_20190830/guppy_3.2.2_08_30_2019_run_01_exec_20190830/pass/fastq_runid_ee80935b39ac8eac3e848aa0e1f003f3f7be1c96_86_3.fastq\n"
     ]
    },
    {
     "name": "stdout",
     "output_type": "stream",
     "text": [
      "[########################################] | 100% Completed |  1.0s\n"
     ]
    },
    {
     "name": "stderr",
     "output_type": "stream",
     "text": [
      "[16:54:43 - __main__] Saving to file: /path/to/data/MinION_sequencing_data_20190830/guppy_3.2.2_08_30_2019_run_01_exec_20190830/sw/fastq_runid_ee80935b39ac8eac3e848aa0e1f003f3f7be1c96_86_3.tsv\n",
      "[16:54:43 - __main__] Starting fastq (350 of 378)\n",
      "\t/path/to/data/MinION_sequencing_data_20190830/guppy_3.2.2_08_30_2019_run_01_exec_20190830/pass/fastq_runid_ee80935b39ac8eac3e848aa0e1f003f3f7be1c96_87_2.fastq\n"
     ]
    },
    {
     "name": "stdout",
     "output_type": "stream",
     "text": [
      "[########################################] | 100% Completed | 26.1s\n"
     ]
    },
    {
     "name": "stderr",
     "output_type": "stream",
     "text": [
      "[16:55:10 - __main__] Saving to file: /path/to/data/MinION_sequencing_data_20190830/guppy_3.2.2_08_30_2019_run_01_exec_20190830/sw/fastq_runid_ee80935b39ac8eac3e848aa0e1f003f3f7be1c96_87_2.tsv\n",
      "[16:55:10 - __main__] Starting fastq (351 of 378)\n",
      "\t/path/to/data/MinION_sequencing_data_20190830/guppy_3.2.2_08_30_2019_run_01_exec_20190830/pass/fastq_runid_ee80935b39ac8eac3e848aa0e1f003f3f7be1c96_87_3.fastq\n"
     ]
    },
    {
     "name": "stdout",
     "output_type": "stream",
     "text": [
      "[########################################] | 100% Completed | 23.2s\n"
     ]
    },
    {
     "name": "stderr",
     "output_type": "stream",
     "text": [
      "[16:55:33 - __main__] Saving to file: /path/to/data/MinION_sequencing_data_20190830/guppy_3.2.2_08_30_2019_run_01_exec_20190830/sw/fastq_runid_ee80935b39ac8eac3e848aa0e1f003f3f7be1c96_87_3.tsv\n",
      "[16:55:34 - __main__] Starting fastq (352 of 378)\n",
      "\t/path/to/data/MinION_sequencing_data_20190830/guppy_3.2.2_08_30_2019_run_01_exec_20190830/pass/fastq_runid_ee80935b39ac8eac3e848aa0e1f003f3f7be1c96_88_0.fastq\n"
     ]
    },
    {
     "name": "stdout",
     "output_type": "stream",
     "text": [
      "[########################################] | 100% Completed | 45.0s\n"
     ]
    },
    {
     "name": "stderr",
     "output_type": "stream",
     "text": [
      "[16:56:19 - __main__] Saving to file: /path/to/data/MinION_sequencing_data_20190830/guppy_3.2.2_08_30_2019_run_01_exec_20190830/sw/fastq_runid_ee80935b39ac8eac3e848aa0e1f003f3f7be1c96_88_0.tsv\n",
      "[16:56:19 - __main__] Starting fastq (353 of 378)\n",
      "\t/path/to/data/MinION_sequencing_data_20190830/guppy_3.2.2_08_30_2019_run_01_exec_20190830/pass/fastq_runid_ee80935b39ac8eac3e848aa0e1f003f3f7be1c96_88_1.fastq\n"
     ]
    },
    {
     "name": "stdout",
     "output_type": "stream",
     "text": [
      "[########################################] | 100% Completed |  1min 13.2s\n"
     ]
    },
    {
     "name": "stderr",
     "output_type": "stream",
     "text": [
      "[16:57:32 - __main__] Saving to file: /path/to/data/MinION_sequencing_data_20190830/guppy_3.2.2_08_30_2019_run_01_exec_20190830/sw/fastq_runid_ee80935b39ac8eac3e848aa0e1f003f3f7be1c96_88_1.tsv\n",
      "[16:57:33 - __main__] Starting fastq (354 of 378)\n",
      "\t/path/to/data/MinION_sequencing_data_20190830/guppy_3.2.2_08_30_2019_run_01_exec_20190830/pass/fastq_runid_ee80935b39ac8eac3e848aa0e1f003f3f7be1c96_88_2.fastq\n"
     ]
    },
    {
     "name": "stdout",
     "output_type": "stream",
     "text": [
      "[########################################] | 100% Completed | 24.3s\n"
     ]
    },
    {
     "name": "stderr",
     "output_type": "stream",
     "text": [
      "[16:57:57 - __main__] Saving to file: /path/to/data/MinION_sequencing_data_20190830/guppy_3.2.2_08_30_2019_run_01_exec_20190830/sw/fastq_runid_ee80935b39ac8eac3e848aa0e1f003f3f7be1c96_88_2.tsv\n",
      "[16:57:57 - __main__] Starting fastq (355 of 378)\n",
      "\t/path/to/data/MinION_sequencing_data_20190830/guppy_3.2.2_08_30_2019_run_01_exec_20190830/pass/fastq_runid_ee80935b39ac8eac3e848aa0e1f003f3f7be1c96_88_3.fastq\n"
     ]
    },
    {
     "name": "stdout",
     "output_type": "stream",
     "text": [
      "[########################################] | 100% Completed |  6.7s\n"
     ]
    },
    {
     "name": "stderr",
     "output_type": "stream",
     "text": [
      "[16:58:04 - __main__] Saving to file: /path/to/data/MinION_sequencing_data_20190830/guppy_3.2.2_08_30_2019_run_01_exec_20190830/sw/fastq_runid_ee80935b39ac8eac3e848aa0e1f003f3f7be1c96_88_3.tsv\n",
      "[16:58:04 - __main__] Starting fastq (356 of 378)\n",
      "\t/path/to/data/MinION_sequencing_data_20190830/guppy_3.2.2_08_30_2019_run_01_exec_20190830/pass/fastq_runid_ee80935b39ac8eac3e848aa0e1f003f3f7be1c96_89_0.fastq\n"
     ]
    },
    {
     "name": "stdout",
     "output_type": "stream",
     "text": [
      "[########################################] | 100% Completed |  1min 12.0s\n"
     ]
    },
    {
     "name": "stderr",
     "output_type": "stream",
     "text": [
      "[16:59:16 - __main__] Saving to file: /path/to/data/MinION_sequencing_data_20190830/guppy_3.2.2_08_30_2019_run_01_exec_20190830/sw/fastq_runid_ee80935b39ac8eac3e848aa0e1f003f3f7be1c96_89_0.tsv\n",
      "[16:59:17 - __main__] Starting fastq (357 of 378)\n",
      "\t/path/to/data/MinION_sequencing_data_20190830/guppy_3.2.2_08_30_2019_run_01_exec_20190830/pass/fastq_runid_ee80935b39ac8eac3e848aa0e1f003f3f7be1c96_89_1.fastq\n"
     ]
    },
    {
     "name": "stdout",
     "output_type": "stream",
     "text": [
      "[########################################] | 100% Completed | 44.4s\n"
     ]
    },
    {
     "name": "stderr",
     "output_type": "stream",
     "text": [
      "[17:00:01 - __main__] Saving to file: /path/to/data/MinION_sequencing_data_20190830/guppy_3.2.2_08_30_2019_run_01_exec_20190830/sw/fastq_runid_ee80935b39ac8eac3e848aa0e1f003f3f7be1c96_89_1.tsv\n",
      "[17:00:01 - __main__] Starting fastq (358 of 378)\n",
      "\t/path/to/data/MinION_sequencing_data_20190830/guppy_3.2.2_08_30_2019_run_01_exec_20190830/pass/fastq_runid_ee80935b39ac8eac3e848aa0e1f003f3f7be1c96_89_2.fastq\n"
     ]
    },
    {
     "name": "stdout",
     "output_type": "stream",
     "text": [
      "[########################################] | 100% Completed | 27.7s\n"
     ]
    },
    {
     "name": "stderr",
     "output_type": "stream",
     "text": [
      "[17:00:29 - __main__] Saving to file: /path/to/data/MinION_sequencing_data_20190830/guppy_3.2.2_08_30_2019_run_01_exec_20190830/sw/fastq_runid_ee80935b39ac8eac3e848aa0e1f003f3f7be1c96_89_2.tsv\n",
      "[17:00:29 - __main__] Starting fastq (359 of 378)\n",
      "\t/path/to/data/MinION_sequencing_data_20190830/guppy_3.2.2_08_30_2019_run_01_exec_20190830/pass/fastq_runid_ee80935b39ac8eac3e848aa0e1f003f3f7be1c96_89_3.fastq\n"
     ]
    },
    {
     "name": "stdout",
     "output_type": "stream",
     "text": [
      "[########################################] | 100% Completed |  8.0s\n"
     ]
    },
    {
     "name": "stderr",
     "output_type": "stream",
     "text": [
      "[17:00:38 - __main__] Saving to file: /path/to/data/MinION_sequencing_data_20190830/guppy_3.2.2_08_30_2019_run_01_exec_20190830/sw/fastq_runid_ee80935b39ac8eac3e848aa0e1f003f3f7be1c96_89_3.tsv\n",
      "[17:00:38 - __main__] Starting fastq (360 of 378)\n",
      "\t/path/to/data/MinION_sequencing_data_20190830/guppy_3.2.2_08_30_2019_run_01_exec_20190830/pass/fastq_runid_ee80935b39ac8eac3e848aa0e1f003f3f7be1c96_90_0.fastq\n"
     ]
    },
    {
     "name": "stdout",
     "output_type": "stream",
     "text": [
      "[########################################] | 100% Completed | 41.7s\n"
     ]
    },
    {
     "name": "stderr",
     "output_type": "stream",
     "text": [
      "[17:01:20 - __main__] Saving to file: /path/to/data/MinION_sequencing_data_20190830/guppy_3.2.2_08_30_2019_run_01_exec_20190830/sw/fastq_runid_ee80935b39ac8eac3e848aa0e1f003f3f7be1c96_90_0.tsv\n",
      "[17:01:20 - __main__] Starting fastq (361 of 378)\n",
      "\t/path/to/data/MinION_sequencing_data_20190830/guppy_3.2.2_08_30_2019_run_01_exec_20190830/pass/fastq_runid_ee80935b39ac8eac3e848aa0e1f003f3f7be1c96_90_1.fastq\n"
     ]
    },
    {
     "name": "stdout",
     "output_type": "stream",
     "text": [
      "[########################################] | 100% Completed |  1min  7.2s\n"
     ]
    },
    {
     "name": "stderr",
     "output_type": "stream",
     "text": [
      "[17:02:27 - __main__] Saving to file: /path/to/data/MinION_sequencing_data_20190830/guppy_3.2.2_08_30_2019_run_01_exec_20190830/sw/fastq_runid_ee80935b39ac8eac3e848aa0e1f003f3f7be1c96_90_1.tsv\n",
      "[17:02:28 - __main__] Starting fastq (362 of 378)\n",
      "\t/path/to/data/MinION_sequencing_data_20190830/guppy_3.2.2_08_30_2019_run_01_exec_20190830/pass/fastq_runid_ee80935b39ac8eac3e848aa0e1f003f3f7be1c96_90_2.fastq\n"
     ]
    },
    {
     "name": "stdout",
     "output_type": "stream",
     "text": [
      "[########################################] | 100% Completed | 20.5s\n"
     ]
    },
    {
     "name": "stderr",
     "output_type": "stream",
     "text": [
      "[17:02:48 - __main__] Saving to file: /path/to/data/MinION_sequencing_data_20190830/guppy_3.2.2_08_30_2019_run_01_exec_20190830/sw/fastq_runid_ee80935b39ac8eac3e848aa0e1f003f3f7be1c96_90_2.tsv\n",
      "[17:02:48 - __main__] Starting fastq (363 of 378)\n",
      "\t/path/to/data/MinION_sequencing_data_20190830/guppy_3.2.2_08_30_2019_run_01_exec_20190830/pass/fastq_runid_ee80935b39ac8eac3e848aa0e1f003f3f7be1c96_90_3.fastq\n"
     ]
    },
    {
     "name": "stdout",
     "output_type": "stream",
     "text": [
      "[########################################] | 100% Completed | 11.2s\n"
     ]
    },
    {
     "name": "stderr",
     "output_type": "stream",
     "text": [
      "[17:03:00 - __main__] Saving to file: /path/to/data/MinION_sequencing_data_20190830/guppy_3.2.2_08_30_2019_run_01_exec_20190830/sw/fastq_runid_ee80935b39ac8eac3e848aa0e1f003f3f7be1c96_90_3.tsv\n",
      "[17:03:00 - __main__] Starting fastq (364 of 378)\n",
      "\t/path/to/data/MinION_sequencing_data_20190830/guppy_3.2.2_08_30_2019_run_01_exec_20190830/pass/fastq_runid_ee80935b39ac8eac3e848aa0e1f003f3f7be1c96_91_0.fastq\n"
     ]
    },
    {
     "name": "stdout",
     "output_type": "stream",
     "text": [
      "[########################################] | 100% Completed | 40.7s\n"
     ]
    },
    {
     "name": "stderr",
     "output_type": "stream",
     "text": [
      "[17:03:41 - __main__] Saving to file: /path/to/data/MinION_sequencing_data_20190830/guppy_3.2.2_08_30_2019_run_01_exec_20190830/sw/fastq_runid_ee80935b39ac8eac3e848aa0e1f003f3f7be1c96_91_0.tsv\n",
      "[17:03:41 - __main__] Starting fastq (365 of 378)\n",
      "\t/path/to/data/MinION_sequencing_data_20190830/guppy_3.2.2_08_30_2019_run_01_exec_20190830/pass/fastq_runid_ee80935b39ac8eac3e848aa0e1f003f3f7be1c96_91_1.fastq\n"
     ]
    },
    {
     "name": "stdout",
     "output_type": "stream",
     "text": [
      "[########################################] | 100% Completed | 53.2s\n"
     ]
    },
    {
     "name": "stderr",
     "output_type": "stream",
     "text": [
      "[17:04:35 - __main__] Saving to file: /path/to/data/MinION_sequencing_data_20190830/guppy_3.2.2_08_30_2019_run_01_exec_20190830/sw/fastq_runid_ee80935b39ac8eac3e848aa0e1f003f3f7be1c96_91_1.tsv\n",
      "[17:04:35 - __main__] Starting fastq (366 of 378)\n",
      "\t/path/to/data/MinION_sequencing_data_20190830/guppy_3.2.2_08_30_2019_run_01_exec_20190830/pass/fastq_runid_ee80935b39ac8eac3e848aa0e1f003f3f7be1c96_91_2.fastq\n"
     ]
    },
    {
     "name": "stdout",
     "output_type": "stream",
     "text": [
      "[########################################] | 100% Completed | 51.6s\n"
     ]
    },
    {
     "name": "stderr",
     "output_type": "stream",
     "text": [
      "[17:05:27 - __main__] Saving to file: /path/to/data/MinION_sequencing_data_20190830/guppy_3.2.2_08_30_2019_run_01_exec_20190830/sw/fastq_runid_ee80935b39ac8eac3e848aa0e1f003f3f7be1c96_91_2.tsv\n",
      "[17:05:27 - __main__] Starting fastq (367 of 378)\n",
      "\t/path/to/data/MinION_sequencing_data_20190830/guppy_3.2.2_08_30_2019_run_01_exec_20190830/pass/fastq_runid_ee80935b39ac8eac3e848aa0e1f003f3f7be1c96_92_0.fastq\n"
     ]
    },
    {
     "name": "stdout",
     "output_type": "stream",
     "text": [
      "[########################################] | 100% Completed | 53.5s\n"
     ]
    },
    {
     "name": "stderr",
     "output_type": "stream",
     "text": [
      "[17:06:20 - __main__] Saving to file: /path/to/data/MinION_sequencing_data_20190830/guppy_3.2.2_08_30_2019_run_01_exec_20190830/sw/fastq_runid_ee80935b39ac8eac3e848aa0e1f003f3f7be1c96_92_0.tsv\n",
      "[17:06:21 - __main__] Starting fastq (368 of 378)\n",
      "\t/path/to/data/MinION_sequencing_data_20190830/guppy_3.2.2_08_30_2019_run_01_exec_20190830/pass/fastq_runid_ee80935b39ac8eac3e848aa0e1f003f3f7be1c96_92_1.fastq\n"
     ]
    },
    {
     "name": "stdout",
     "output_type": "stream",
     "text": [
      "[########################################] | 100% Completed | 55.4s\n"
     ]
    },
    {
     "name": "stderr",
     "output_type": "stream",
     "text": [
      "[17:07:16 - __main__] Saving to file: /path/to/data/MinION_sequencing_data_20190830/guppy_3.2.2_08_30_2019_run_01_exec_20190830/sw/fastq_runid_ee80935b39ac8eac3e848aa0e1f003f3f7be1c96_92_1.tsv\n",
      "[17:07:16 - __main__] Starting fastq (369 of 378)\n",
      "\t/path/to/data/MinION_sequencing_data_20190830/guppy_3.2.2_08_30_2019_run_01_exec_20190830/pass/fastq_runid_ee80935b39ac8eac3e848aa0e1f003f3f7be1c96_91_3.fastq\n"
     ]
    },
    {
     "name": "stdout",
     "output_type": "stream",
     "text": [
      "[########################################] | 100% Completed |  1.0s\n"
     ]
    },
    {
     "name": "stderr",
     "output_type": "stream",
     "text": [
      "[17:07:18 - __main__] Saving to file: /path/to/data/MinION_sequencing_data_20190830/guppy_3.2.2_08_30_2019_run_01_exec_20190830/sw/fastq_runid_ee80935b39ac8eac3e848aa0e1f003f3f7be1c96_91_3.tsv\n",
      "[17:07:18 - __main__] Starting fastq (370 of 378)\n",
      "\t/path/to/data/MinION_sequencing_data_20190830/guppy_3.2.2_08_30_2019_run_01_exec_20190830/pass/fastq_runid_ee80935b39ac8eac3e848aa0e1f003f3f7be1c96_92_2.fastq\n"
     ]
    },
    {
     "name": "stdout",
     "output_type": "stream",
     "text": [
      "[########################################] | 100% Completed | 19.3s\n"
     ]
    },
    {
     "name": "stderr",
     "output_type": "stream",
     "text": [
      "[17:07:37 - __main__] Saving to file: /path/to/data/MinION_sequencing_data_20190830/guppy_3.2.2_08_30_2019_run_01_exec_20190830/sw/fastq_runid_ee80935b39ac8eac3e848aa0e1f003f3f7be1c96_92_2.tsv\n",
      "[17:07:37 - __main__] Starting fastq (371 of 378)\n",
      "\t/path/to/data/MinION_sequencing_data_20190830/guppy_3.2.2_08_30_2019_run_01_exec_20190830/pass/fastq_runid_ee80935b39ac8eac3e848aa0e1f003f3f7be1c96_92_3.fastq\n"
     ]
    },
    {
     "name": "stdout",
     "output_type": "stream",
     "text": [
      "[########################################] | 100% Completed | 19.0s\n"
     ]
    },
    {
     "name": "stderr",
     "output_type": "stream",
     "text": [
      "[17:07:57 - __main__] Saving to file: /path/to/data/MinION_sequencing_data_20190830/guppy_3.2.2_08_30_2019_run_01_exec_20190830/sw/fastq_runid_ee80935b39ac8eac3e848aa0e1f003f3f7be1c96_92_3.tsv\n",
      "[17:07:57 - __main__] Starting fastq (372 of 378)\n",
      "\t/path/to/data/MinION_sequencing_data_20190830/guppy_3.2.2_08_30_2019_run_01_exec_20190830/pass/fastq_runid_ee80935b39ac8eac3e848aa0e1f003f3f7be1c96_93_0.fastq\n"
     ]
    },
    {
     "name": "stdout",
     "output_type": "stream",
     "text": [
      "[########################################] | 100% Completed | 25.9s\n"
     ]
    },
    {
     "name": "stderr",
     "output_type": "stream",
     "text": [
      "[17:08:23 - __main__] Saving to file: /path/to/data/MinION_sequencing_data_20190830/guppy_3.2.2_08_30_2019_run_01_exec_20190830/sw/fastq_runid_ee80935b39ac8eac3e848aa0e1f003f3f7be1c96_93_0.tsv\n",
      "[17:08:23 - __main__] Starting fastq (373 of 378)\n",
      "\t/path/to/data/MinION_sequencing_data_20190830/guppy_3.2.2_08_30_2019_run_01_exec_20190830/pass/fastq_runid_ee80935b39ac8eac3e848aa0e1f003f3f7be1c96_93_1.fastq\n"
     ]
    },
    {
     "name": "stdout",
     "output_type": "stream",
     "text": [
      "[########################################] | 100% Completed | 56.8s\n"
     ]
    },
    {
     "name": "stderr",
     "output_type": "stream",
     "text": [
      "[17:09:20 - __main__] Saving to file: /path/to/data/MinION_sequencing_data_20190830/guppy_3.2.2_08_30_2019_run_01_exec_20190830/sw/fastq_runid_ee80935b39ac8eac3e848aa0e1f003f3f7be1c96_93_1.tsv\n",
      "[17:09:20 - __main__] Starting fastq (374 of 378)\n",
      "\t/path/to/data/MinION_sequencing_data_20190830/guppy_3.2.2_08_30_2019_run_01_exec_20190830/pass/fastq_runid_ee80935b39ac8eac3e848aa0e1f003f3f7be1c96_93_2.fastq\n"
     ]
    },
    {
     "name": "stdout",
     "output_type": "stream",
     "text": [
      "[########################################] | 100% Completed | 41.5s\n"
     ]
    },
    {
     "name": "stderr",
     "output_type": "stream",
     "text": [
      "[17:10:02 - __main__] Saving to file: /path/to/data/MinION_sequencing_data_20190830/guppy_3.2.2_08_30_2019_run_01_exec_20190830/sw/fastq_runid_ee80935b39ac8eac3e848aa0e1f003f3f7be1c96_93_2.tsv\n",
      "[17:10:02 - __main__] Starting fastq (375 of 378)\n",
      "\t/path/to/data/MinION_sequencing_data_20190830/guppy_3.2.2_08_30_2019_run_01_exec_20190830/pass/fastq_runid_ee80935b39ac8eac3e848aa0e1f003f3f7be1c96_94_0.fastq\n"
     ]
    },
    {
     "name": "stdout",
     "output_type": "stream",
     "text": [
      "[########################################] | 100% Completed |  0.9s\n"
     ]
    },
    {
     "name": "stderr",
     "output_type": "stream",
     "text": [
      "[17:10:03 - __main__] Saving to file: /path/to/data/MinION_sequencing_data_20190830/guppy_3.2.2_08_30_2019_run_01_exec_20190830/sw/fastq_runid_ee80935b39ac8eac3e848aa0e1f003f3f7be1c96_94_0.tsv\n",
      "[17:10:03 - __main__] Starting fastq (376 of 378)\n",
      "\t/path/to/data/MinION_sequencing_data_20190830/guppy_3.2.2_08_30_2019_run_01_exec_20190830/pass/fastq_runid_ee80935b39ac8eac3e848aa0e1f003f3f7be1c96_93_3.fastq\n"
     ]
    },
    {
     "name": "stdout",
     "output_type": "stream",
     "text": [
      "[########################################] | 100% Completed | 18.3s\n"
     ]
    },
    {
     "name": "stderr",
     "output_type": "stream",
     "text": [
      "[17:10:22 - __main__] Saving to file: /path/to/data/MinION_sequencing_data_20190830/guppy_3.2.2_08_30_2019_run_01_exec_20190830/sw/fastq_runid_ee80935b39ac8eac3e848aa0e1f003f3f7be1c96_93_3.tsv\n",
      "[17:10:22 - __main__] Starting fastq (377 of 378)\n",
      "\t/path/to/data/MinION_sequencing_data_20190830/guppy_3.2.2_08_30_2019_run_01_exec_20190830/pass/fastq_runid_ee80935b39ac8eac3e848aa0e1f003f3f7be1c96_94_1.fastq\n"
     ]
    },
    {
     "name": "stdout",
     "output_type": "stream",
     "text": [
      "[########################################] | 100% Completed |  4.8s\n"
     ]
    },
    {
     "name": "stderr",
     "output_type": "stream",
     "text": [
      "[17:10:27 - __main__] Saving to file: /path/to/data/MinION_sequencing_data_20190830/guppy_3.2.2_08_30_2019_run_01_exec_20190830/sw/fastq_runid_ee80935b39ac8eac3e848aa0e1f003f3f7be1c96_94_1.tsv\n"
     ]
    }
   ],
   "source": [
    "run_sw(fastq_dir, sw_dir, search_len=80, cost_fn=cost_fn, molbit_fa=molbit_file, n_workers=40)"
   ]
  },
  {
   "cell_type": "code",
   "execution_count": 13,
   "metadata": {
    "ExecuteTime": {
     "end_time": "2019-08-31T00:10:32.080322Z",
     "start_time": "2019-08-31T00:10:27.339060Z"
    }
   },
   "outputs": [],
   "source": [
    "sw_list = []\n",
    "for fname in os.listdir(sw_dir):\n",
    "    if \"all\" in fname:\n",
    "        continue\n",
    "    sw_tsv = os.path.join(sw_dir, fname)\n",
    "    sw = pd.read_csv(sw_tsv, sep=\"\\t\", index_col=0)\n",
    "    sw_list.append(sw)\n",
    "sw = pd.concat(sw_list)\n",
    "del sw_list"
   ]
  },
  {
   "cell_type": "code",
   "execution_count": 14,
   "metadata": {
    "ExecuteTime": {
     "end_time": "2019-08-31T00:10:32.261059Z",
     "start_time": "2019-08-31T00:10:32.082399Z"
    }
   },
   "outputs": [],
   "source": [
    "sw_arr = np.array(sw)"
   ]
  },
  {
   "cell_type": "code",
   "execution_count": 15,
   "metadata": {
    "ExecuteTime": {
     "end_time": "2019-08-31T00:10:32.897608Z",
     "start_time": "2019-08-31T00:10:32.263017Z"
    }
   },
   "outputs": [],
   "source": [
    "max_sw = np.max(sw_arr, axis=1)\n",
    "sw_arr[range(len(sw_arr)), np.argmax(sw_arr, axis=1)] = 0\n",
    "second_best_sw = np.max(sw_arr, axis=1)\n",
    "sw_arr = np.array(sw)"
   ]
  },
  {
   "cell_type": "markdown",
   "metadata": {},
   "source": [
    "## Plot alignment scores for basic overview of performance"
   ]
  },
  {
   "cell_type": "code",
   "execution_count": 16,
   "metadata": {
    "ExecuteTime": {
     "end_time": "2019-08-31T00:10:37.666291Z",
     "start_time": "2019-08-31T00:10:32.899578Z"
    }
   },
   "outputs": [
    {
     "data": {
      "text/plain": [
       "<matplotlib.lines.Line2D at 0x7fde0e968160>"
      ]
     },
     "execution_count": 16,
     "metadata": {},
     "output_type": "execute_result"
    },
    {
     "name": "stderr",
     "output_type": "stream",
     "text": [
      "[17:10:33 - matplotlib.font_manager] findfont: Matching :family=sans-serif:style=normal:variant=normal:weight=normal:stretch=normal:size=19.8.\n",
      "[17:10:33 - matplotlib.font_manager] findfont: score(<Font 'STIXSizeThreeSym' (STIXSizThreeSymBol.ttf) normal normal bold normal>) = 10.335\n",
      "[17:10:33 - matplotlib.font_manager] findfont: score(<Font 'STIXSizeFourSym' (STIXSizFourSymBol.ttf) normal normal bold normal>) = 10.335\n",
      "[17:10:33 - matplotlib.font_manager] findfont: score(<Font 'DejaVu Sans Mono' (DejaVuSansMono-Oblique.ttf) oblique normal 400 normal>) = 11.05\n",
      "[17:10:33 - matplotlib.font_manager] findfont: score(<Font 'DejaVu Sans' (DejaVuSans-BoldOblique.ttf) oblique normal bold normal>) = 3.335\n",
      "[17:10:33 - matplotlib.font_manager] findfont: score(<Font 'STIXNonUnicode' (STIXNonUni.ttf) normal normal regular normal>) = 10.05\n",
      "[17:10:33 - matplotlib.font_manager] findfont: score(<Font 'STIXSizeFourSym' (STIXSizFourSymReg.ttf) normal normal regular normal>) = 10.05\n",
      "[17:10:33 - matplotlib.font_manager] findfont: score(<Font 'STIXGeneral' (STIXGeneral.ttf) normal normal regular normal>) = 10.05\n",
      "[17:10:33 - matplotlib.font_manager] findfont: score(<Font 'STIXSizeFiveSym' (STIXSizFiveSymReg.ttf) normal normal regular normal>) = 10.05\n",
      "[17:10:33 - matplotlib.font_manager] findfont: score(<Font 'DejaVu Serif' (DejaVuSerif-BoldItalic.ttf) italic normal bold normal>) = 11.335\n",
      "[17:10:33 - matplotlib.font_manager] findfont: score(<Font 'STIXNonUnicode' (STIXNonUniBol.ttf) normal normal bold normal>) = 10.335\n",
      "[17:10:33 - matplotlib.font_manager] findfont: score(<Font 'DejaVu Serif' (DejaVuSerif-Italic.ttf) italic normal 400 normal>) = 11.05\n",
      "[17:10:33 - matplotlib.font_manager] findfont: score(<Font 'cmss10' (cmss10.ttf) normal normal 400 normal>) = 10.05\n",
      "[17:10:33 - matplotlib.font_manager] findfont: score(<Font 'STIXSizeThreeSym' (STIXSizThreeSymReg.ttf) normal normal regular normal>) = 10.05\n",
      "[17:10:33 - matplotlib.font_manager] findfont: score(<Font 'STIXSizeOneSym' (STIXSizOneSymBol.ttf) normal normal bold normal>) = 10.335\n",
      "[17:10:33 - matplotlib.font_manager] findfont: score(<Font 'cmr10' (cmr10.ttf) normal normal 400 normal>) = 10.05\n",
      "[17:10:33 - matplotlib.font_manager] findfont: score(<Font 'STIXGeneral' (STIXGeneralBol.ttf) normal normal bold normal>) = 10.335\n",
      "[17:10:33 - matplotlib.font_manager] findfont: score(<Font 'cmb10' (cmb10.ttf) normal normal 400 normal>) = 10.05\n",
      "[17:10:33 - matplotlib.font_manager] findfont: score(<Font 'STIXGeneral' (STIXGeneralBolIta.ttf) italic normal bold normal>) = 11.335\n",
      "[17:10:33 - matplotlib.font_manager] findfont: score(<Font 'STIXGeneral' (STIXGeneralItalic.ttf) italic normal 400 normal>) = 11.05\n",
      "[17:10:33 - matplotlib.font_manager] findfont: score(<Font 'cmsy10' (cmsy10.ttf) normal normal 400 normal>) = 10.05\n",
      "[17:10:33 - matplotlib.font_manager] findfont: score(<Font 'STIXNonUnicode' (STIXNonUniBolIta.ttf) italic normal bold normal>) = 11.335\n",
      "[17:10:33 - matplotlib.font_manager] findfont: score(<Font 'DejaVu Sans' (DejaVuSans-Bold.ttf) normal normal bold normal>) = 2.335\n",
      "[17:10:33 - matplotlib.font_manager] findfont: score(<Font 'cmex10' (cmex10.ttf) normal normal 400 normal>) = 10.05\n",
      "[17:10:33 - matplotlib.font_manager] findfont: score(<Font 'DejaVu Sans' (DejaVuSans-Oblique.ttf) oblique normal 400 normal>) = 3.05\n",
      "[17:10:33 - matplotlib.font_manager] findfont: score(<Font 'DejaVu Sans' (DejaVuSans.ttf) normal normal 400 normal>) = 2.05\n",
      "[17:10:33 - matplotlib.font_manager] findfont: score(<Font 'DejaVu Serif' (DejaVuSerif-Bold.ttf) normal normal bold normal>) = 10.335\n",
      "[17:10:33 - matplotlib.font_manager] findfont: score(<Font 'STIXSizeTwoSym' (STIXSizTwoSymBol.ttf) normal normal bold normal>) = 10.335\n",
      "[17:10:33 - matplotlib.font_manager] findfont: score(<Font 'DejaVu Sans Mono' (DejaVuSansMono-BoldOblique.ttf) oblique normal bold normal>) = 11.335\n",
      "[17:10:33 - matplotlib.font_manager] findfont: score(<Font 'cmtt10' (cmtt10.ttf) normal normal 400 normal>) = 10.05\n",
      "[17:10:33 - matplotlib.font_manager] findfont: score(<Font 'DejaVu Serif' (DejaVuSerif.ttf) normal normal 400 normal>) = 10.05\n",
      "[17:10:33 - matplotlib.font_manager] findfont: score(<Font 'cmmi10' (cmmi10.ttf) normal normal 400 normal>) = 10.05\n",
      "[17:10:33 - matplotlib.font_manager] findfont: score(<Font 'DejaVu Sans Display' (DejaVuSansDisplay.ttf) normal normal 400 normal>) = 10.05\n",
      "[17:10:33 - matplotlib.font_manager] findfont: score(<Font 'STIXSizeTwoSym' (STIXSizTwoSymReg.ttf) normal normal regular normal>) = 10.05\n",
      "[17:10:33 - matplotlib.font_manager] findfont: score(<Font 'STIXNonUnicode' (STIXNonUniIta.ttf) italic normal 400 normal>) = 11.05\n",
      "[17:10:33 - matplotlib.font_manager] findfont: score(<Font 'DejaVu Sans Mono' (DejaVuSansMono.ttf) normal normal 400 normal>) = 10.05\n",
      "[17:10:33 - matplotlib.font_manager] findfont: score(<Font 'DejaVu Serif Display' (DejaVuSerifDisplay.ttf) normal normal 400 normal>) = 10.05\n",
      "[17:10:33 - matplotlib.font_manager] findfont: score(<Font 'DejaVu Sans Mono' (DejaVuSansMono-Bold.ttf) normal normal bold normal>) = 10.335\n",
      "[17:10:33 - matplotlib.font_manager] findfont: score(<Font 'STIXSizeOneSym' (STIXSizOneSymReg.ttf) normal normal regular normal>) = 10.05\n",
      "[17:10:33 - matplotlib.font_manager] findfont: score(<Font 'FreeSerif' (FreeSerif.ttf) normal normal 400 normal>) = 10.05\n",
      "[17:10:33 - matplotlib.font_manager] findfont: score(<Font 'PT Sans Narrow' (PTN57F.ttf) normal normal 400 condensed>) = 10.25\n",
      "[17:10:33 - matplotlib.font_manager] findfont: score(<Font 'Source Han Sans CN' (SourceHanSansCN-Light.otf) normal normal light normal>) = 10.24\n",
      "[17:10:33 - matplotlib.font_manager] findfont: score(<Font 'Khmer OS Content' (KhmerOS_content.ttf) normal normal 400 normal>) = 10.05\n",
      "[17:10:33 - matplotlib.font_manager] findfont: score(<Font 'PT Sans' (PTS76F.ttf) italic normal bold normal>) = 11.335\n",
      "[17:10:33 - matplotlib.font_manager] findfont: score(<Font 'PT Sans' (PTS56F.ttf) italic normal 400 normal>) = 11.05\n",
      "[17:10:33 - matplotlib.font_manager] findfont: score(<Font 'Caladea' (Caladea-Italic.ttf) italic normal 400 normal>) = 11.05\n",
      "[17:10:33 - matplotlib.font_manager] findfont: score(<Font 'Cantarell' (Cantarell-BoldOblique.otf) oblique normal bold normal>) = 11.335\n",
      "[17:10:33 - matplotlib.font_manager] findfont: score(<Font 'Source Han Sans TWHK' (SourceHanSansTWHK-Heavy.otf) normal normal bold normal>) = 10.335\n",
      "[17:10:33 - matplotlib.font_manager] findfont: score(<Font 'DejaVu Sans' (DejaVuSansCondensed.ttf) normal normal 400 condensed>) = 2.25\n",
      "[17:10:33 - matplotlib.font_manager] findfont: score(<Font 'Carlito' (Carlito-Bold.ttf) normal normal bold normal>) = 10.335\n",
      "[17:10:33 - matplotlib.font_manager] findfont: score(<Font 'Liberation Sans' (LiberationSans-Italic.ttf) italic normal 400 normal>) = 5.05\n",
      "[17:10:33 - matplotlib.font_manager] findfont: score(<Font 'Source Han Sans CN' (SourceHanSansCN-Regular.otf) normal normal regular normal>) = 10.05\n",
      "[17:10:33 - matplotlib.font_manager] findfont: score(<Font 'DejaVu Sans' (DejaVuSansCondensed-Oblique.ttf) oblique normal 400 condensed>) = 3.25\n",
      "[17:10:33 - matplotlib.font_manager] findfont: score(<Font 'Source Han Sans TWHK' (SourceHanSansTWHK-Normal.otf) normal normal normal normal>) = 10.0\n",
      "[17:10:33 - matplotlib.font_manager] findfont: score(<Font 'Liberation Mono' (LiberationMono-Regular.ttf) normal normal 400 normal>) = 10.05\n",
      "[17:10:33 - matplotlib.font_manager] findfont: score(<Font 'Cantarell' (Cantarell-Regular.otf) normal normal regular normal>) = 10.05\n",
      "[17:10:33 - matplotlib.font_manager] findfont: score(<Font 'NanumGothic' (NanumGothicBold.ttf) normal normal bold normal>) = 10.335\n",
      "[17:10:33 - matplotlib.font_manager] findfont: score(<Font 'Cantarell' (Cantarell-Oblique.otf) oblique normal 400 normal>) = 11.05\n",
      "[17:10:33 - matplotlib.font_manager] findfont: score(<Font 'Nuosu SIL' (NuosuSIL.ttf) normal normal 400 normal>) = 10.05\n",
      "[17:10:33 - matplotlib.font_manager] findfont: score(<Font 'Source Han Sans TWHK' (SourceHanSansTWHK-Medium.otf) normal normal medium normal>) = 10.145\n",
      "[17:10:33 - matplotlib.font_manager] findfont: score(<Font 'Carlito' (Carlito-Italic.ttf) italic normal 400 normal>) = 11.05\n",
      "[17:10:33 - matplotlib.font_manager] findfont: score(<Font 'FreeSerif' (FreeSerifBoldItalic.ttf) italic normal bold normal>) = 11.335\n"
     ]
    },
    {
     "name": "stderr",
     "output_type": "stream",
     "text": [
      "[17:10:33 - matplotlib.font_manager] findfont: score(<Font 'Source Han Sans CN' (SourceHanSansCN-ExtraLight.otf) normal normal light normal>) = 10.24\n",
      "[17:10:33 - matplotlib.font_manager] findfont: score(<Font 'Meera' (Meera.ttf) normal normal 400 normal>) = 10.05\n",
      "[17:10:33 - matplotlib.font_manager] findfont: score(<Font 'Lohit Gujarati' (Lohit-Gujarati.ttf) normal normal 400 normal>) = 10.05\n",
      "[17:10:33 - matplotlib.font_manager] findfont: score(<Font 'PT Sans' (PTS75F.ttf) normal normal bold normal>) = 10.335\n",
      "[17:10:33 - matplotlib.font_manager] findfont: score(<Font 'PakType Naqsh' (PakType_Naqsh.ttf) normal normal 400 normal>) = 10.05\n",
      "[17:10:33 - matplotlib.font_manager] findfont: score(<Font 'FreeMono' (FreeMonoBold.ttf) normal normal bold normal>) = 10.335\n",
      "[17:10:33 - matplotlib.font_manager] findfont: score(<Font 'Source Han Sans CN' (SourceHanSansCN-Medium.otf) normal normal medium normal>) = 10.145\n",
      "[17:10:33 - matplotlib.font_manager] findfont: score(<Font 'Carlito' (Carlito-BoldItalic.ttf) italic normal bold normal>) = 11.335\n",
      "[17:10:33 - matplotlib.font_manager] findfont: score(<Font 'Caladea' (Caladea-Regular.ttf) normal normal 400 normal>) = 10.05\n",
      "[17:10:33 - matplotlib.font_manager] findfont: score(<Font 'DejaVu Serif' (DejaVuSerifCondensed.ttf) normal normal 400 condensed>) = 10.25\n",
      "[17:10:33 - matplotlib.font_manager] findfont: score(<Font 'STIX' (STIX-Bold.otf) normal normal bold normal>) = 10.335\n",
      "[17:10:33 - matplotlib.font_manager] findfont: score(<Font 'AR PL UMing CN' (uming.ttc) normal normal 400 normal>) = 10.05\n",
      "[17:10:33 - matplotlib.font_manager] findfont: score(<Font 'STIX' (STIX-BoldItalic.otf) italic normal bold normal>) = 11.335\n",
      "[17:10:33 - matplotlib.font_manager] findfont: score(<Font 'DejaVu Serif' (DejaVuSerifCondensed-Bold.ttf) normal normal bold condensed>) = 10.535\n",
      "[17:10:33 - matplotlib.font_manager] findfont: score(<Font 'Liberation Serif' (LiberationSerif-BoldItalic.ttf) italic normal bold normal>) = 11.335\n",
      "[17:10:33 - matplotlib.font_manager] findfont: score(<Font 'FreeSans' (FreeSans.ttf) normal normal 400 normal>) = 10.05\n",
      "[17:10:33 - matplotlib.font_manager] findfont: score(<Font 'Waree' (Waree.ttf) normal normal 400 normal>) = 10.05\n",
      "[17:10:33 - matplotlib.font_manager] findfont: score(<Font 'Waree' (Waree-Bold.ttf) normal normal bold normal>) = 10.335\n",
      "[17:10:33 - matplotlib.font_manager] findfont: score(<Font 'FreeSans' (FreeSansBoldOblique.ttf) oblique normal bold normal>) = 11.335\n",
      "[17:10:33 - matplotlib.font_manager] findfont: score(<Font 'FreeMono' (FreeMono.ttf) normal normal 400 normal>) = 10.05\n",
      "[17:10:33 - matplotlib.font_manager] findfont: score(<Font 'Noto Sans Tagalog' (NotoSansTagalog-Regular.ttf) normal normal 400 normal>) = 10.05\n",
      "[17:10:33 - matplotlib.font_manager] findfont: score(<Font 'Lohit Tamil' (Lohit-Tamil.ttf) normal normal 400 normal>) = 10.05\n",
      "[17:10:33 - matplotlib.font_manager] findfont: score(<Font 'DejaVu Serif' (DejaVuSerifCondensed-Italic.ttf) italic normal 400 condensed>) = 11.25\n",
      "[17:10:33 - matplotlib.font_manager] findfont: score(<Font 'Caladea' (Caladea-BoldItalic.ttf) italic normal bold normal>) = 11.335\n",
      "[17:10:33 - matplotlib.font_manager] findfont: score(<Font 'Source Han Sans CN' (SourceHanSansCN-Normal.otf) normal normal normal normal>) = 10.0\n",
      "[17:10:33 - matplotlib.font_manager] findfont: score(<Font 'FreeMono' (FreeMonoBoldOblique.ttf) oblique normal bold normal>) = 11.335\n",
      "[17:10:33 - matplotlib.font_manager] findfont: score(<Font 'DejaVu Serif' (DejaVuSerifCondensed-BoldItalic.ttf) italic normal bold condensed>) = 11.535\n",
      "[17:10:33 - matplotlib.font_manager] findfont: score(<Font 'Source Han Sans TWHK' (SourceHanSansTWHK-ExtraLight.otf) normal normal light normal>) = 10.24\n",
      "[17:10:33 - matplotlib.font_manager] findfont: score(<Font 'Khmer OS' (KhmerOS.ttf) normal normal 400 normal>) = 10.05\n",
      "[17:10:33 - matplotlib.font_manager] findfont: score(<Font 'Liberation Sans' (LiberationSans-BoldItalic.ttf) italic normal bold normal>) = 5.335\n",
      "[17:10:33 - matplotlib.font_manager] findfont: score(<Font 'Liberation Serif' (LiberationSerif-Italic.ttf) italic normal 400 normal>) = 11.05\n",
      "[17:10:33 - matplotlib.font_manager] findfont: score(<Font 'Padauk' (Padauk.ttf) normal normal 400 normal>) = 10.05\n",
      "[17:10:33 - matplotlib.font_manager] findfont: score(<Font 'DejaVu Sans' (DejaVuSansCondensed-BoldOblique.ttf) oblique normal bold condensed>) = 3.535\n",
      "[17:10:33 - matplotlib.font_manager] findfont: score(<Font 'Noto Sans Mandaic' (NotoSansMandaic-Regular.ttf) normal normal 400 normal>) = 10.05\n",
      "[17:10:33 - matplotlib.font_manager] findfont: score(<Font 'FreeSans' (FreeSansBold.ttf) normal normal bold normal>) = 10.335\n",
      "[17:10:33 - matplotlib.font_manager] findfont: score(<Font 'STIX' (STIX-Italic.otf) italic normal 400 normal>) = 11.05\n",
      "[17:10:33 - matplotlib.font_manager] findfont: score(<Font 'Noto Sans Tai Viet' (NotoSansTaiViet-Regular.ttf) normal normal 400 normal>) = 10.05\n",
      "[17:10:33 - matplotlib.font_manager] findfont: score(<Font 'Source Han Sans TWHK' (SourceHanSansTWHK-Bold.otf) normal normal bold normal>) = 10.335\n",
      "[17:10:33 - matplotlib.font_manager] findfont: score(<Font 'NanumGothic' (NanumGothic.ttf) normal normal 400 normal>) = 10.05\n",
      "[17:10:33 - matplotlib.font_manager] findfont: score(<Font 'Waree' (Waree-Oblique.ttf) oblique normal 400 normal>) = 11.05\n",
      "[17:10:33 - matplotlib.font_manager] findfont: score(<Font 'Liberation Sans' (LiberationSans-Bold.ttf) normal normal bold normal>) = 4.335\n",
      "[17:10:33 - matplotlib.font_manager] findfont: score(<Font 'Source Han Sans TWHK' (SourceHanSansTWHK-Light.otf) normal normal light normal>) = 10.24\n",
      "[17:10:33 - matplotlib.font_manager] findfont: score(<Font 'Liberation Mono' (LiberationMono-BoldItalic.ttf) italic normal bold normal>) = 11.335\n",
      "[17:10:33 - matplotlib.font_manager] findfont: score(<Font 'Cantarell' (Cantarell-Bold.otf) normal normal bold normal>) = 10.335\n",
      "[17:10:33 - matplotlib.font_manager] findfont: score(<Font 'Liberation Sans' (LiberationSans-Regular.ttf) normal normal 400 normal>) = 4.05\n",
      "[17:10:33 - matplotlib.font_manager] findfont: score(<Font 'NanumGothic' (NanumGothicExtraBold.ttf) normal normal bold normal>) = 10.335\n",
      "[17:10:33 - matplotlib.font_manager] findfont: score(<Font 'Source Han Sans TWHK' (SourceHanSansTWHK-Regular.otf) normal normal regular normal>) = 10.05\n",
      "[17:10:33 - matplotlib.font_manager] findfont: score(<Font 'FreeSans' (FreeSansOblique.ttf) oblique normal 400 normal>) = 11.05\n",
      "[17:10:33 - matplotlib.font_manager] findfont: score(<Font 'Lohit Bengali' (Lohit-Bengali.ttf) normal normal 400 normal>) = 10.05\n",
      "[17:10:33 - matplotlib.font_manager] findfont: score(<Font 'Lohit Punjabi' (Lohit-Punjabi.ttf) normal normal 400 normal>) = 10.05\n",
      "[17:10:33 - matplotlib.font_manager] findfont: score(<Font 'FreeMono' (FreeMonoOblique.ttf) oblique normal 400 normal>) = 11.05\n",
      "[17:10:33 - matplotlib.font_manager] findfont: score(<Font 'Caladea' (Caladea-Bold.ttf) normal normal bold normal>) = 10.335\n",
      "[17:10:33 - matplotlib.font_manager] findfont: score(<Font 'Source Han Sans CN' (SourceHanSansCN-Bold.otf) normal normal bold normal>) = 10.335\n",
      "[17:10:33 - matplotlib.font_manager] findfont: score(<Font 'FreeSerif' (FreeSerifItalic.ttf) italic normal 400 normal>) = 11.05\n",
      "[17:10:33 - matplotlib.font_manager] findfont: score(<Font 'Source Han Sans CN' (SourceHanSansCN-Heavy.otf) normal normal bold normal>) = 10.335\n",
      "[17:10:33 - matplotlib.font_manager] findfont: score(<Font 'Liberation Serif' (LiberationSerif-Regular.ttf) normal normal 400 normal>) = 10.05\n",
      "[17:10:33 - matplotlib.font_manager] findfont: score(<Font 'Jomolhari' (Jomolhari-alpha3c-0605331.ttf) normal normal 400 normal>) = 10.05\n",
      "[17:10:33 - matplotlib.font_manager] findfont: score(<Font 'Liberation Mono' (LiberationMono-Italic.ttf) italic normal 400 normal>) = 11.05\n",
      "[17:10:33 - matplotlib.font_manager] findfont: score(<Font 'DejaVu Sans' (DejaVuSansCondensed-Bold.ttf) normal normal bold condensed>) = 2.535\n",
      "[17:10:33 - matplotlib.font_manager] findfont: score(<Font 'Khmer OS System' (KhmerOS_sys.ttf) normal normal 400 normal>) = 10.05\n",
      "[17:10:33 - matplotlib.font_manager] findfont: score(<Font 'Noto Sans Tai Tham' (NotoSansTaiTham-Regular.ttf) normal normal 400 normal>) = 10.05\n"
     ]
    },
    {
     "name": "stderr",
     "output_type": "stream",
     "text": [
      "[17:10:33 - matplotlib.font_manager] findfont: score(<Font 'Lohit Assamese' (Lohit-Assamese.ttf) normal normal 400 normal>) = 10.05\n",
      "[17:10:33 - matplotlib.font_manager] findfont: score(<Font 'VL Gothic' (VL-Gothic-Regular.ttf) normal normal regular normal>) = 10.05\n",
      "[17:10:33 - matplotlib.font_manager] findfont: score(<Font 'Noto Sans Lisu' (NotoSansLisu-Regular.ttf) normal normal 400 normal>) = 10.05\n",
      "[17:10:33 - matplotlib.font_manager] findfont: score(<Font 'Carlito' (Carlito-Regular.ttf) normal normal 400 normal>) = 10.05\n",
      "[17:10:33 - matplotlib.font_manager] findfont: score(<Font 'DejaVu Sans' (DejaVuSans-ExtraLight.ttf) normal normal light normal>) = 2.24\n",
      "[17:10:33 - matplotlib.font_manager] findfont: score(<Font 'Waree' (Waree-BoldOblique.ttf) oblique normal bold normal>) = 11.335\n",
      "[17:10:33 - matplotlib.font_manager] findfont: score(<Font 'STIX' (STIX-Regular.otf) normal normal regular normal>) = 10.05\n",
      "[17:10:33 - matplotlib.font_manager] findfont: score(<Font 'Lohit Oriya' (Lohit-Oriya.ttf) normal normal 400 normal>) = 10.05\n",
      "[17:10:33 - matplotlib.font_manager] findfont: score(<Font 'OpenSymbol' (opens___.ttf) normal normal 400 normal>) = 10.05\n",
      "[17:10:33 - matplotlib.font_manager] findfont: score(<Font 'Liberation Serif' (LiberationSerif-Bold.ttf) normal normal bold normal>) = 10.335\n",
      "[17:10:33 - matplotlib.font_manager] findfont: score(<Font 'WenQuanYi Zen Hei' (wqy-zenhei.ttc) normal normal 400 normal>) = 10.05\n",
      "[17:10:33 - matplotlib.font_manager] findfont: score(<Font 'Lohit Devanagari' (Lohit-Devanagari.ttf) normal normal 400 normal>) = 10.05\n",
      "[17:10:33 - matplotlib.font_manager] findfont: score(<Font 'Lohit Telugu' (Lohit-Telugu.ttf) normal normal 400 normal>) = 10.05\n",
      "[17:10:33 - matplotlib.font_manager] findfont: score(<Font 'Abyssinica SIL' (AbyssinicaSIL-R.ttf) normal normal 400 normal>) = 10.05\n",
      "[17:10:33 - matplotlib.font_manager] findfont: score(<Font 'LKLUG' (lklug.ttf) normal normal 400 normal>) = 10.05\n",
      "[17:10:33 - matplotlib.font_manager] findfont: score(<Font 'Liberation Mono' (LiberationMono-Bold.ttf) normal normal bold normal>) = 10.335\n",
      "[17:10:33 - matplotlib.font_manager] findfont: score(<Font 'FreeSerif' (FreeSerifBold.ttf) normal normal bold normal>) = 10.335\n",
      "[17:10:33 - matplotlib.font_manager] findfont: score(<Font 'PT Sans Narrow' (PTN77F.ttf) normal normal bold condensed>) = 10.535\n",
      "[17:10:33 - matplotlib.font_manager] findfont: score(<Font 'PT Sans' (PTS55F.ttf) normal normal 400 normal>) = 10.05\n",
      "[17:10:33 - matplotlib.font_manager] findfont: score(<Font 'Padauk' (Padauk-bold.ttf) normal normal bold normal>) = 10.335\n",
      "[17:10:33 - matplotlib.font_manager] findfont: score(<Font 'Lohit Kannada' (Lohit-Kannada.ttf) normal normal 400 normal>) = 10.05\n",
      "[17:10:33 - matplotlib.font_manager] findfont: Matching :family=sans-serif:style=normal:variant=normal:weight=normal:stretch=normal:size=19.8 to DejaVu Sans ('/ssd1/home/kdorosch/software/anaconda3/envs/py36/lib/python3.6/site-packages/matplotlib/mpl-data/fonts/ttf/DejaVuSans.ttf') with score of 2.050000.\n",
      "[17:10:33 - matplotlib.font_manager] findfont: Matching :family=sans-serif:style=normal:variant=normal:weight=normal:stretch=normal:size=21.6.\n",
      "[17:10:33 - matplotlib.font_manager] findfont: score(<Font 'STIXSizeThreeSym' (STIXSizThreeSymBol.ttf) normal normal bold normal>) = 10.335\n",
      "[17:10:33 - matplotlib.font_manager] findfont: score(<Font 'STIXSizeFourSym' (STIXSizFourSymBol.ttf) normal normal bold normal>) = 10.335\n",
      "[17:10:33 - matplotlib.font_manager] findfont: score(<Font 'DejaVu Sans Mono' (DejaVuSansMono-Oblique.ttf) oblique normal 400 normal>) = 11.05\n",
      "[17:10:33 - matplotlib.font_manager] findfont: score(<Font 'DejaVu Sans' (DejaVuSans-BoldOblique.ttf) oblique normal bold normal>) = 3.335\n",
      "[17:10:33 - matplotlib.font_manager] findfont: score(<Font 'STIXNonUnicode' (STIXNonUni.ttf) normal normal regular normal>) = 10.05\n",
      "[17:10:33 - matplotlib.font_manager] findfont: score(<Font 'STIXSizeFourSym' (STIXSizFourSymReg.ttf) normal normal regular normal>) = 10.05\n",
      "[17:10:33 - matplotlib.font_manager] findfont: score(<Font 'STIXGeneral' (STIXGeneral.ttf) normal normal regular normal>) = 10.05\n",
      "[17:10:33 - matplotlib.font_manager] findfont: score(<Font 'STIXSizeFiveSym' (STIXSizFiveSymReg.ttf) normal normal regular normal>) = 10.05\n",
      "[17:10:33 - matplotlib.font_manager] findfont: score(<Font 'DejaVu Serif' (DejaVuSerif-BoldItalic.ttf) italic normal bold normal>) = 11.335\n",
      "[17:10:33 - matplotlib.font_manager] findfont: score(<Font 'STIXNonUnicode' (STIXNonUniBol.ttf) normal normal bold normal>) = 10.335\n",
      "[17:10:33 - matplotlib.font_manager] findfont: score(<Font 'DejaVu Serif' (DejaVuSerif-Italic.ttf) italic normal 400 normal>) = 11.05\n",
      "[17:10:33 - matplotlib.font_manager] findfont: score(<Font 'cmss10' (cmss10.ttf) normal normal 400 normal>) = 10.05\n",
      "[17:10:33 - matplotlib.font_manager] findfont: score(<Font 'STIXSizeThreeSym' (STIXSizThreeSymReg.ttf) normal normal regular normal>) = 10.05\n",
      "[17:10:33 - matplotlib.font_manager] findfont: score(<Font 'STIXSizeOneSym' (STIXSizOneSymBol.ttf) normal normal bold normal>) = 10.335\n",
      "[17:10:33 - matplotlib.font_manager] findfont: score(<Font 'cmr10' (cmr10.ttf) normal normal 400 normal>) = 10.05\n",
      "[17:10:33 - matplotlib.font_manager] findfont: score(<Font 'STIXGeneral' (STIXGeneralBol.ttf) normal normal bold normal>) = 10.335\n",
      "[17:10:33 - matplotlib.font_manager] findfont: score(<Font 'cmb10' (cmb10.ttf) normal normal 400 normal>) = 10.05\n",
      "[17:10:33 - matplotlib.font_manager] findfont: score(<Font 'STIXGeneral' (STIXGeneralBolIta.ttf) italic normal bold normal>) = 11.335\n",
      "[17:10:33 - matplotlib.font_manager] findfont: score(<Font 'STIXGeneral' (STIXGeneralItalic.ttf) italic normal 400 normal>) = 11.05\n",
      "[17:10:33 - matplotlib.font_manager] findfont: score(<Font 'cmsy10' (cmsy10.ttf) normal normal 400 normal>) = 10.05\n",
      "[17:10:33 - matplotlib.font_manager] findfont: score(<Font 'STIXNonUnicode' (STIXNonUniBolIta.ttf) italic normal bold normal>) = 11.335\n",
      "[17:10:33 - matplotlib.font_manager] findfont: score(<Font 'DejaVu Sans' (DejaVuSans-Bold.ttf) normal normal bold normal>) = 2.335\n",
      "[17:10:33 - matplotlib.font_manager] findfont: score(<Font 'cmex10' (cmex10.ttf) normal normal 400 normal>) = 10.05\n",
      "[17:10:33 - matplotlib.font_manager] findfont: score(<Font 'DejaVu Sans' (DejaVuSans-Oblique.ttf) oblique normal 400 normal>) = 3.05\n",
      "[17:10:33 - matplotlib.font_manager] findfont: score(<Font 'DejaVu Sans' (DejaVuSans.ttf) normal normal 400 normal>) = 2.05\n",
      "[17:10:33 - matplotlib.font_manager] findfont: score(<Font 'DejaVu Serif' (DejaVuSerif-Bold.ttf) normal normal bold normal>) = 10.335\n",
      "[17:10:33 - matplotlib.font_manager] findfont: score(<Font 'STIXSizeTwoSym' (STIXSizTwoSymBol.ttf) normal normal bold normal>) = 10.335\n",
      "[17:10:33 - matplotlib.font_manager] findfont: score(<Font 'DejaVu Sans Mono' (DejaVuSansMono-BoldOblique.ttf) oblique normal bold normal>) = 11.335\n",
      "[17:10:33 - matplotlib.font_manager] findfont: score(<Font 'cmtt10' (cmtt10.ttf) normal normal 400 normal>) = 10.05\n",
      "[17:10:33 - matplotlib.font_manager] findfont: score(<Font 'DejaVu Serif' (DejaVuSerif.ttf) normal normal 400 normal>) = 10.05\n",
      "[17:10:33 - matplotlib.font_manager] findfont: score(<Font 'cmmi10' (cmmi10.ttf) normal normal 400 normal>) = 10.05\n",
      "[17:10:33 - matplotlib.font_manager] findfont: score(<Font 'DejaVu Sans Display' (DejaVuSansDisplay.ttf) normal normal 400 normal>) = 10.05\n",
      "[17:10:33 - matplotlib.font_manager] findfont: score(<Font 'STIXSizeTwoSym' (STIXSizTwoSymReg.ttf) normal normal regular normal>) = 10.05\n",
      "[17:10:33 - matplotlib.font_manager] findfont: score(<Font 'STIXNonUnicode' (STIXNonUniIta.ttf) italic normal 400 normal>) = 11.05\n",
      "[17:10:33 - matplotlib.font_manager] findfont: score(<Font 'DejaVu Sans Mono' (DejaVuSansMono.ttf) normal normal 400 normal>) = 10.05\n",
      "[17:10:33 - matplotlib.font_manager] findfont: score(<Font 'DejaVu Serif Display' (DejaVuSerifDisplay.ttf) normal normal 400 normal>) = 10.05\n",
      "[17:10:33 - matplotlib.font_manager] findfont: score(<Font 'DejaVu Sans Mono' (DejaVuSansMono-Bold.ttf) normal normal bold normal>) = 10.335\n",
      "[17:10:33 - matplotlib.font_manager] findfont: score(<Font 'STIXSizeOneSym' (STIXSizOneSymReg.ttf) normal normal regular normal>) = 10.05\n"
     ]
    },
    {
     "name": "stderr",
     "output_type": "stream",
     "text": [
      "[17:10:33 - matplotlib.font_manager] findfont: score(<Font 'FreeSerif' (FreeSerif.ttf) normal normal 400 normal>) = 10.05\n",
      "[17:10:33 - matplotlib.font_manager] findfont: score(<Font 'PT Sans Narrow' (PTN57F.ttf) normal normal 400 condensed>) = 10.25\n",
      "[17:10:33 - matplotlib.font_manager] findfont: score(<Font 'Source Han Sans CN' (SourceHanSansCN-Light.otf) normal normal light normal>) = 10.24\n",
      "[17:10:33 - matplotlib.font_manager] findfont: score(<Font 'Khmer OS Content' (KhmerOS_content.ttf) normal normal 400 normal>) = 10.05\n",
      "[17:10:33 - matplotlib.font_manager] findfont: score(<Font 'PT Sans' (PTS76F.ttf) italic normal bold normal>) = 11.335\n",
      "[17:10:33 - matplotlib.font_manager] findfont: score(<Font 'PT Sans' (PTS56F.ttf) italic normal 400 normal>) = 11.05\n",
      "[17:10:33 - matplotlib.font_manager] findfont: score(<Font 'Caladea' (Caladea-Italic.ttf) italic normal 400 normal>) = 11.05\n",
      "[17:10:33 - matplotlib.font_manager] findfont: score(<Font 'Cantarell' (Cantarell-BoldOblique.otf) oblique normal bold normal>) = 11.335\n",
      "[17:10:33 - matplotlib.font_manager] findfont: score(<Font 'Source Han Sans TWHK' (SourceHanSansTWHK-Heavy.otf) normal normal bold normal>) = 10.335\n",
      "[17:10:33 - matplotlib.font_manager] findfont: score(<Font 'DejaVu Sans' (DejaVuSansCondensed.ttf) normal normal 400 condensed>) = 2.25\n",
      "[17:10:33 - matplotlib.font_manager] findfont: score(<Font 'Carlito' (Carlito-Bold.ttf) normal normal bold normal>) = 10.335\n",
      "[17:10:33 - matplotlib.font_manager] findfont: score(<Font 'Liberation Sans' (LiberationSans-Italic.ttf) italic normal 400 normal>) = 5.05\n",
      "[17:10:33 - matplotlib.font_manager] findfont: score(<Font 'Source Han Sans CN' (SourceHanSansCN-Regular.otf) normal normal regular normal>) = 10.05\n",
      "[17:10:33 - matplotlib.font_manager] findfont: score(<Font 'DejaVu Sans' (DejaVuSansCondensed-Oblique.ttf) oblique normal 400 condensed>) = 3.25\n",
      "[17:10:33 - matplotlib.font_manager] findfont: score(<Font 'Source Han Sans TWHK' (SourceHanSansTWHK-Normal.otf) normal normal normal normal>) = 10.0\n",
      "[17:10:33 - matplotlib.font_manager] findfont: score(<Font 'Liberation Mono' (LiberationMono-Regular.ttf) normal normal 400 normal>) = 10.05\n",
      "[17:10:33 - matplotlib.font_manager] findfont: score(<Font 'Cantarell' (Cantarell-Regular.otf) normal normal regular normal>) = 10.05\n",
      "[17:10:33 - matplotlib.font_manager] findfont: score(<Font 'NanumGothic' (NanumGothicBold.ttf) normal normal bold normal>) = 10.335\n",
      "[17:10:33 - matplotlib.font_manager] findfont: score(<Font 'Cantarell' (Cantarell-Oblique.otf) oblique normal 400 normal>) = 11.05\n",
      "[17:10:33 - matplotlib.font_manager] findfont: score(<Font 'Nuosu SIL' (NuosuSIL.ttf) normal normal 400 normal>) = 10.05\n",
      "[17:10:33 - matplotlib.font_manager] findfont: score(<Font 'Source Han Sans TWHK' (SourceHanSansTWHK-Medium.otf) normal normal medium normal>) = 10.145\n",
      "[17:10:33 - matplotlib.font_manager] findfont: score(<Font 'Carlito' (Carlito-Italic.ttf) italic normal 400 normal>) = 11.05\n",
      "[17:10:33 - matplotlib.font_manager] findfont: score(<Font 'FreeSerif' (FreeSerifBoldItalic.ttf) italic normal bold normal>) = 11.335\n",
      "[17:10:33 - matplotlib.font_manager] findfont: score(<Font 'Source Han Sans CN' (SourceHanSansCN-ExtraLight.otf) normal normal light normal>) = 10.24\n",
      "[17:10:33 - matplotlib.font_manager] findfont: score(<Font 'Meera' (Meera.ttf) normal normal 400 normal>) = 10.05\n",
      "[17:10:33 - matplotlib.font_manager] findfont: score(<Font 'Lohit Gujarati' (Lohit-Gujarati.ttf) normal normal 400 normal>) = 10.05\n",
      "[17:10:33 - matplotlib.font_manager] findfont: score(<Font 'PT Sans' (PTS75F.ttf) normal normal bold normal>) = 10.335\n",
      "[17:10:33 - matplotlib.font_manager] findfont: score(<Font 'PakType Naqsh' (PakType_Naqsh.ttf) normal normal 400 normal>) = 10.05\n",
      "[17:10:33 - matplotlib.font_manager] findfont: score(<Font 'FreeMono' (FreeMonoBold.ttf) normal normal bold normal>) = 10.335\n",
      "[17:10:33 - matplotlib.font_manager] findfont: score(<Font 'Source Han Sans CN' (SourceHanSansCN-Medium.otf) normal normal medium normal>) = 10.145\n",
      "[17:10:33 - matplotlib.font_manager] findfont: score(<Font 'Carlito' (Carlito-BoldItalic.ttf) italic normal bold normal>) = 11.335\n",
      "[17:10:33 - matplotlib.font_manager] findfont: score(<Font 'Caladea' (Caladea-Regular.ttf) normal normal 400 normal>) = 10.05\n",
      "[17:10:33 - matplotlib.font_manager] findfont: score(<Font 'DejaVu Serif' (DejaVuSerifCondensed.ttf) normal normal 400 condensed>) = 10.25\n",
      "[17:10:33 - matplotlib.font_manager] findfont: score(<Font 'STIX' (STIX-Bold.otf) normal normal bold normal>) = 10.335\n",
      "[17:10:33 - matplotlib.font_manager] findfont: score(<Font 'AR PL UMing CN' (uming.ttc) normal normal 400 normal>) = 10.05\n",
      "[17:10:33 - matplotlib.font_manager] findfont: score(<Font 'STIX' (STIX-BoldItalic.otf) italic normal bold normal>) = 11.335\n",
      "[17:10:33 - matplotlib.font_manager] findfont: score(<Font 'DejaVu Serif' (DejaVuSerifCondensed-Bold.ttf) normal normal bold condensed>) = 10.535\n",
      "[17:10:33 - matplotlib.font_manager] findfont: score(<Font 'Liberation Serif' (LiberationSerif-BoldItalic.ttf) italic normal bold normal>) = 11.335\n",
      "[17:10:33 - matplotlib.font_manager] findfont: score(<Font 'FreeSans' (FreeSans.ttf) normal normal 400 normal>) = 10.05\n",
      "[17:10:33 - matplotlib.font_manager] findfont: score(<Font 'Waree' (Waree.ttf) normal normal 400 normal>) = 10.05\n",
      "[17:10:33 - matplotlib.font_manager] findfont: score(<Font 'Waree' (Waree-Bold.ttf) normal normal bold normal>) = 10.335\n",
      "[17:10:33 - matplotlib.font_manager] findfont: score(<Font 'FreeSans' (FreeSansBoldOblique.ttf) oblique normal bold normal>) = 11.335\n",
      "[17:10:33 - matplotlib.font_manager] findfont: score(<Font 'FreeMono' (FreeMono.ttf) normal normal 400 normal>) = 10.05\n",
      "[17:10:33 - matplotlib.font_manager] findfont: score(<Font 'Noto Sans Tagalog' (NotoSansTagalog-Regular.ttf) normal normal 400 normal>) = 10.05\n",
      "[17:10:33 - matplotlib.font_manager] findfont: score(<Font 'Lohit Tamil' (Lohit-Tamil.ttf) normal normal 400 normal>) = 10.05\n",
      "[17:10:33 - matplotlib.font_manager] findfont: score(<Font 'DejaVu Serif' (DejaVuSerifCondensed-Italic.ttf) italic normal 400 condensed>) = 11.25\n",
      "[17:10:33 - matplotlib.font_manager] findfont: score(<Font 'Caladea' (Caladea-BoldItalic.ttf) italic normal bold normal>) = 11.335\n",
      "[17:10:33 - matplotlib.font_manager] findfont: score(<Font 'Source Han Sans CN' (SourceHanSansCN-Normal.otf) normal normal normal normal>) = 10.0\n",
      "[17:10:33 - matplotlib.font_manager] findfont: score(<Font 'FreeMono' (FreeMonoBoldOblique.ttf) oblique normal bold normal>) = 11.335\n",
      "[17:10:33 - matplotlib.font_manager] findfont: score(<Font 'DejaVu Serif' (DejaVuSerifCondensed-BoldItalic.ttf) italic normal bold condensed>) = 11.535\n",
      "[17:10:33 - matplotlib.font_manager] findfont: score(<Font 'Source Han Sans TWHK' (SourceHanSansTWHK-ExtraLight.otf) normal normal light normal>) = 10.24\n",
      "[17:10:33 - matplotlib.font_manager] findfont: score(<Font 'Khmer OS' (KhmerOS.ttf) normal normal 400 normal>) = 10.05\n",
      "[17:10:33 - matplotlib.font_manager] findfont: score(<Font 'Liberation Sans' (LiberationSans-BoldItalic.ttf) italic normal bold normal>) = 5.335\n",
      "[17:10:33 - matplotlib.font_manager] findfont: score(<Font 'Liberation Serif' (LiberationSerif-Italic.ttf) italic normal 400 normal>) = 11.05\n",
      "[17:10:33 - matplotlib.font_manager] findfont: score(<Font 'Padauk' (Padauk.ttf) normal normal 400 normal>) = 10.05\n",
      "[17:10:33 - matplotlib.font_manager] findfont: score(<Font 'DejaVu Sans' (DejaVuSansCondensed-BoldOblique.ttf) oblique normal bold condensed>) = 3.535\n",
      "[17:10:33 - matplotlib.font_manager] findfont: score(<Font 'Noto Sans Mandaic' (NotoSansMandaic-Regular.ttf) normal normal 400 normal>) = 10.05\n",
      "[17:10:33 - matplotlib.font_manager] findfont: score(<Font 'FreeSans' (FreeSansBold.ttf) normal normal bold normal>) = 10.335\n",
      "[17:10:33 - matplotlib.font_manager] findfont: score(<Font 'STIX' (STIX-Italic.otf) italic normal 400 normal>) = 11.05\n",
      "[17:10:33 - matplotlib.font_manager] findfont: score(<Font 'Noto Sans Tai Viet' (NotoSansTaiViet-Regular.ttf) normal normal 400 normal>) = 10.05\n",
      "[17:10:33 - matplotlib.font_manager] findfont: score(<Font 'Source Han Sans TWHK' (SourceHanSansTWHK-Bold.otf) normal normal bold normal>) = 10.335\n",
      "[17:10:33 - matplotlib.font_manager] findfont: score(<Font 'NanumGothic' (NanumGothic.ttf) normal normal 400 normal>) = 10.05\n"
     ]
    },
    {
     "name": "stderr",
     "output_type": "stream",
     "text": [
      "[17:10:33 - matplotlib.font_manager] findfont: score(<Font 'Waree' (Waree-Oblique.ttf) oblique normal 400 normal>) = 11.05\n",
      "[17:10:33 - matplotlib.font_manager] findfont: score(<Font 'Liberation Sans' (LiberationSans-Bold.ttf) normal normal bold normal>) = 4.335\n",
      "[17:10:33 - matplotlib.font_manager] findfont: score(<Font 'Source Han Sans TWHK' (SourceHanSansTWHK-Light.otf) normal normal light normal>) = 10.24\n",
      "[17:10:33 - matplotlib.font_manager] findfont: score(<Font 'Liberation Mono' (LiberationMono-BoldItalic.ttf) italic normal bold normal>) = 11.335\n",
      "[17:10:33 - matplotlib.font_manager] findfont: score(<Font 'Cantarell' (Cantarell-Bold.otf) normal normal bold normal>) = 10.335\n",
      "[17:10:33 - matplotlib.font_manager] findfont: score(<Font 'Liberation Sans' (LiberationSans-Regular.ttf) normal normal 400 normal>) = 4.05\n",
      "[17:10:33 - matplotlib.font_manager] findfont: score(<Font 'NanumGothic' (NanumGothicExtraBold.ttf) normal normal bold normal>) = 10.335\n",
      "[17:10:33 - matplotlib.font_manager] findfont: score(<Font 'Source Han Sans TWHK' (SourceHanSansTWHK-Regular.otf) normal normal regular normal>) = 10.05\n",
      "[17:10:33 - matplotlib.font_manager] findfont: score(<Font 'FreeSans' (FreeSansOblique.ttf) oblique normal 400 normal>) = 11.05\n",
      "[17:10:33 - matplotlib.font_manager] findfont: score(<Font 'Lohit Bengali' (Lohit-Bengali.ttf) normal normal 400 normal>) = 10.05\n",
      "[17:10:33 - matplotlib.font_manager] findfont: score(<Font 'Lohit Punjabi' (Lohit-Punjabi.ttf) normal normal 400 normal>) = 10.05\n",
      "[17:10:33 - matplotlib.font_manager] findfont: score(<Font 'FreeMono' (FreeMonoOblique.ttf) oblique normal 400 normal>) = 11.05\n",
      "[17:10:33 - matplotlib.font_manager] findfont: score(<Font 'Caladea' (Caladea-Bold.ttf) normal normal bold normal>) = 10.335\n",
      "[17:10:33 - matplotlib.font_manager] findfont: score(<Font 'Source Han Sans CN' (SourceHanSansCN-Bold.otf) normal normal bold normal>) = 10.335\n",
      "[17:10:33 - matplotlib.font_manager] findfont: score(<Font 'FreeSerif' (FreeSerifItalic.ttf) italic normal 400 normal>) = 11.05\n",
      "[17:10:33 - matplotlib.font_manager] findfont: score(<Font 'Source Han Sans CN' (SourceHanSansCN-Heavy.otf) normal normal bold normal>) = 10.335\n",
      "[17:10:33 - matplotlib.font_manager] findfont: score(<Font 'Liberation Serif' (LiberationSerif-Regular.ttf) normal normal 400 normal>) = 10.05\n",
      "[17:10:33 - matplotlib.font_manager] findfont: score(<Font 'Jomolhari' (Jomolhari-alpha3c-0605331.ttf) normal normal 400 normal>) = 10.05\n",
      "[17:10:33 - matplotlib.font_manager] findfont: score(<Font 'Liberation Mono' (LiberationMono-Italic.ttf) italic normal 400 normal>) = 11.05\n",
      "[17:10:33 - matplotlib.font_manager] findfont: score(<Font 'DejaVu Sans' (DejaVuSansCondensed-Bold.ttf) normal normal bold condensed>) = 2.535\n",
      "[17:10:33 - matplotlib.font_manager] findfont: score(<Font 'Khmer OS System' (KhmerOS_sys.ttf) normal normal 400 normal>) = 10.05\n",
      "[17:10:33 - matplotlib.font_manager] findfont: score(<Font 'Noto Sans Tai Tham' (NotoSansTaiTham-Regular.ttf) normal normal 400 normal>) = 10.05\n",
      "[17:10:33 - matplotlib.font_manager] findfont: score(<Font 'Lohit Assamese' (Lohit-Assamese.ttf) normal normal 400 normal>) = 10.05\n",
      "[17:10:33 - matplotlib.font_manager] findfont: score(<Font 'VL Gothic' (VL-Gothic-Regular.ttf) normal normal regular normal>) = 10.05\n",
      "[17:10:33 - matplotlib.font_manager] findfont: score(<Font 'Noto Sans Lisu' (NotoSansLisu-Regular.ttf) normal normal 400 normal>) = 10.05\n",
      "[17:10:33 - matplotlib.font_manager] findfont: score(<Font 'Carlito' (Carlito-Regular.ttf) normal normal 400 normal>) = 10.05\n",
      "[17:10:33 - matplotlib.font_manager] findfont: score(<Font 'DejaVu Sans' (DejaVuSans-ExtraLight.ttf) normal normal light normal>) = 2.24\n",
      "[17:10:33 - matplotlib.font_manager] findfont: score(<Font 'Waree' (Waree-BoldOblique.ttf) oblique normal bold normal>) = 11.335\n",
      "[17:10:33 - matplotlib.font_manager] findfont: score(<Font 'STIX' (STIX-Regular.otf) normal normal regular normal>) = 10.05\n",
      "[17:10:33 - matplotlib.font_manager] findfont: score(<Font 'Lohit Oriya' (Lohit-Oriya.ttf) normal normal 400 normal>) = 10.05\n",
      "[17:10:33 - matplotlib.font_manager] findfont: score(<Font 'OpenSymbol' (opens___.ttf) normal normal 400 normal>) = 10.05\n",
      "[17:10:33 - matplotlib.font_manager] findfont: score(<Font 'Liberation Serif' (LiberationSerif-Bold.ttf) normal normal bold normal>) = 10.335\n",
      "[17:10:33 - matplotlib.font_manager] findfont: score(<Font 'WenQuanYi Zen Hei' (wqy-zenhei.ttc) normal normal 400 normal>) = 10.05\n",
      "[17:10:33 - matplotlib.font_manager] findfont: score(<Font 'Lohit Devanagari' (Lohit-Devanagari.ttf) normal normal 400 normal>) = 10.05\n",
      "[17:10:33 - matplotlib.font_manager] findfont: score(<Font 'Lohit Telugu' (Lohit-Telugu.ttf) normal normal 400 normal>) = 10.05\n",
      "[17:10:33 - matplotlib.font_manager] findfont: score(<Font 'Abyssinica SIL' (AbyssinicaSIL-R.ttf) normal normal 400 normal>) = 10.05\n",
      "[17:10:33 - matplotlib.font_manager] findfont: score(<Font 'LKLUG' (lklug.ttf) normal normal 400 normal>) = 10.05\n",
      "[17:10:33 - matplotlib.font_manager] findfont: score(<Font 'Liberation Mono' (LiberationMono-Bold.ttf) normal normal bold normal>) = 10.335\n",
      "[17:10:33 - matplotlib.font_manager] findfont: score(<Font 'FreeSerif' (FreeSerifBold.ttf) normal normal bold normal>) = 10.335\n",
      "[17:10:33 - matplotlib.font_manager] findfont: score(<Font 'PT Sans Narrow' (PTN77F.ttf) normal normal bold condensed>) = 10.535\n",
      "[17:10:33 - matplotlib.font_manager] findfont: score(<Font 'PT Sans' (PTS55F.ttf) normal normal 400 normal>) = 10.05\n",
      "[17:10:33 - matplotlib.font_manager] findfont: score(<Font 'Padauk' (Padauk-bold.ttf) normal normal bold normal>) = 10.335\n",
      "[17:10:33 - matplotlib.font_manager] findfont: score(<Font 'Lohit Kannada' (Lohit-Kannada.ttf) normal normal 400 normal>) = 10.05\n",
      "[17:10:33 - matplotlib.font_manager] findfont: Matching :family=sans-serif:style=normal:variant=normal:weight=normal:stretch=normal:size=21.6 to DejaVu Sans ('/ssd1/home/kdorosch/software/anaconda3/envs/py36/lib/python3.6/site-packages/matplotlib/mpl-data/fonts/ttf/DejaVuSans.ttf') with score of 2.050000.\n"
     ]
    },
    {
     "data": {
      "image/png": "[encoded data removed]",
      "text/plain": [
       "<Figure size 432x432 with 1 Axes>"
      ]
     },
     "metadata": {},
     "output_type": "display_data"
    }
   ],
   "source": [
    "fig, ax = plt.subplots(figsize=(6, 6))\n",
    "ax.scatter(max_sw, second_best_sw, alpha=0.01, c=\"k\")\n",
    "ax.set_title(\"\")\n",
    "ax.set_xlabel(\"1st best SW score\")\n",
    "ax.set_ylabel(\"2nd best SW score\")\n",
    "ax.plot([0, 40], [0, 40])\n",
    "ax.axhline(15)\n",
    "ax.axvline(15)"
   ]
  },
  {
   "cell_type": "code",
   "execution_count": 17,
   "metadata": {
    "ExecuteTime": {
     "end_time": "2019-08-31T00:10:39.081942Z",
     "start_time": "2019-08-31T00:10:37.668212Z"
    }
   },
   "outputs": [
    {
     "data": {
      "text/plain": [
       "<matplotlib.axes._subplots.AxesSubplot at 0x7fde0b95c278>"
      ]
     },
     "execution_count": 17,
     "metadata": {},
     "output_type": "execute_result"
    },
    {
     "data": {
      "image/png": "[encoded data removed]",
      "text/plain": [
       "<Figure size 432x288 with 1 Axes>"
      ]
     },
     "metadata": {},
     "output_type": "display_data"
    }
   ],
   "source": [
    "sns.distplot(max_sw)"
   ]
  },
  {
   "cell_type": "markdown",
   "metadata": {
    "ExecuteTime": {
     "end_time": "2019-08-11T00:31:43.917710Z",
     "start_time": "2019-08-11T00:31:43.897293Z"
    }
   },
   "source": [
    "### Merge & save alignment scores for all fq files"
   ]
  },
  {
   "cell_type": "code",
   "execution_count": 18,
   "metadata": {
    "ExecuteTime": {
     "end_time": "2019-08-31T00:10:39.100060Z",
     "start_time": "2019-08-31T00:10:39.084045Z"
    }
   },
   "outputs": [],
   "source": [
    "run_id = re.findall(r\"runid_(.*)_[\\d]+_[\\d]+.tsv\", sw_tsv)[0]"
   ]
  },
  {
   "cell_type": "code",
   "execution_count": 19,
   "metadata": {
    "ExecuteTime": {
     "end_time": "2019-08-31T00:10:39.116853Z",
     "start_time": "2019-08-31T00:10:39.101974Z"
    }
   },
   "outputs": [],
   "source": [
    "merged_sw_file = os.path.join(sw_dir, f\"all_{run_id}.tsv\")"
   ]
  },
  {
   "cell_type": "code",
   "execution_count": 20,
   "metadata": {
    "ExecuteTime": {
     "end_time": "2019-08-31T00:11:01.723939Z",
     "start_time": "2019-08-31T00:10:39.118860Z"
    }
   },
   "outputs": [],
   "source": [
    "sw.to_csv(merged_sw_file, sep=\"\\t\", index=True)"
   ]
  },
  {
   "cell_type": "code",
   "execution_count": 21,
   "metadata": {
    "ExecuteTime": {
     "end_time": "2019-08-31T00:11:01.748874Z",
     "start_time": "2019-08-31T00:11:01.726818Z"
    }
   },
   "outputs": [
    {
     "data": {
      "text/plain": [
       "'/path/to/data/MinION_sequencing_data_20190830/guppy_3.2.2_08_30_2019_run_01_exec_20190830/sw/all_ee80935b39ac8eac3e848aa0e1f003f3f7be1c96.tsv'"
      ]
     },
     "execution_count": 21,
     "metadata": {},
     "output_type": "execute_result"
    }
   ],
   "source": [
    "merged_sw_file"
   ]
  },
  {
   "cell_type": "markdown",
   "metadata": {},
   "source": [
    "# Evaluate extant molbits vs rest"
   ]
  },
  {
   "cell_type": "markdown",
   "metadata": {},
   "source": [
    "## Specify which molbits were actually present"
   ]
  },
  {
   "cell_type": "code",
   "execution_count": 22,
   "metadata": {
    "ExecuteTime": {
     "end_time": "2019-08-31T00:11:01.766249Z",
     "start_time": "2019-08-31T00:11:01.751037Z"
    }
   },
   "outputs": [],
   "source": [
    "# Create set_N variables based on spreadsheet\n",
    "molbit_sets = {}\n",
    "for ix, row in set_spreadsheet.iterrows():\n",
    "    set_no = re.findall(r\"set ([\\d]+)\", row[\"set\"])[0]\n",
    "    molbits = row[\"molbits_in_set\"]\n",
    "    molbit_sets[set_no] = molbits.split(\", \")"
   ]
  },
  {
   "cell_type": "code",
   "execution_count": 23,
   "metadata": {
    "ExecuteTime": {
     "end_time": "2019-08-31T00:11:01.784974Z",
     "start_time": "2019-08-31T00:11:01.768159Z"
    }
   },
   "outputs": [
    {
     "name": "stdout",
     "output_type": "stream",
     "text": [
      "6\n",
      "['0', '1', '2', '3', '4', '5', '6', '7', '16', '17', '18', '19', '20', '21', '22', '23', '32', '33', '34', '35', '36', '37', '38', '39', '48', '49', '50', '51', '52', '53', '54', '55', '64', '65', '66', '67', '68', '69', '70', '71', '80', '81', '82', '83', '84', '85', '86', '87']\n",
      "['8', '9', '10', '11', '12', '13', '14', '15', '24', '25', '26', '27', '28', '29', '30', '31', '40', '41', '42', '43', '44', '45', '46', '47', '56', '57', '58', '59', '60', '61', '62', '63', '72', '73', '74', '75', '76', '77', '78', '79', '88', '89', '90', '91', '92', '93', '94', '95', '0', '1', '2', '3', '4', '5', '6', '7', '16', '17', '18', '19', '20', '21', '22', '23', '32', '33', '34', '35', '36', '37', '38', '39', '48', '49', '50', '51', '52', '53', '54', '55', '64', '65', '66', '67', '68', '69', '70', '71', '80', '81', '82', '83', '84', '85', '86', '87']\n"
     ]
    }
   ],
   "source": [
    "molbit_set_in_run = str(run_data.get(\"molbit_set\"))\n",
    "molbit_sets_on_flowcell = run_data.get(\"prev_on_flowcell\")\n",
    "\n",
    "molbits_in_run = molbit_sets[molbit_set_in_run]\n",
    "molbits_on_flowcell = molbits_in_run[:]\n",
    "if molbit_sets_on_flowcell != \"none\":\n",
    "    molbit_sets_on_flowcell = molbit_sets_on_flowcell.split(\", \")\n",
    "    for m in molbit_sets_on_flowcell:\n",
    "        print(m)\n",
    "        print(molbit_sets[m])\n",
    "        molbits_on_flowcell.extend(molbit_sets[m])\n",
    "    print(molbits_on_flowcell)"
   ]
  },
  {
   "cell_type": "markdown",
   "metadata": {},
   "source": [
    "## Extract the best-aligned molbit, across all 96 molbits"
   ]
  },
  {
   "cell_type": "markdown",
   "metadata": {},
   "source": [
    "This cell replaces \"make_sw_call\" in the past. No more \"-1\"s. Just filter by accept_molbit."
   ]
  },
  {
   "cell_type": "code",
   "execution_count": 24,
   "metadata": {
    "ExecuteTime": {
     "end_time": "2019-08-31T00:11:28.833989Z",
     "start_time": "2019-08-31T00:11:01.786845Z"
    }
   },
   "outputs": [
    {
     "name": "stderr",
     "output_type": "stream",
     "text": [
      "/ssd1/home/kdorosch/software/anaconda3/envs/py36/lib/python3.6/site-packages/numpy/core/fromnumeric.py:51: FutureWarning: 'argmax' is deprecated. Use 'idxmax' instead. The behavior of 'argmax' will be corrected to return the positional maximum in the future. Use 'series.values.argmax' to get the position of the maximum now.\n",
      "  return getattr(obj, method)(*args, **kwds)\n",
      "/ssd1/home/kdorosch/.local/lib/python3.6/site-packages/ipykernel_launcher.py:4: FutureWarning: currently extract(expand=None) means expand=False (return Index/Series/DataFrame) but in a future version of pandas this will be changed to expand=True (return DataFrame)\n",
      "  after removing the cwd from sys.path.\n"
     ]
    }
   ],
   "source": [
    "sw_scores = sw.filter(regex=\"score_molbit_.*\")\n",
    "best_molbits = sw_scores.apply(np.argmax, axis=1)\n",
    "accept_molbit = sw.lookup(sw.index, best_molbits) >= 15\n",
    "sw[\"best_molbit\"] = best_molbits.str.extract(r\"score_molbit_([\\d]+)\")\n",
    "sw[\"accept_molbit\"] = accept_molbit"
   ]
  },
  {
   "cell_type": "code",
   "execution_count": 25,
   "metadata": {
    "ExecuteTime": {
     "end_time": "2019-08-31T00:11:28.855660Z",
     "start_time": "2019-08-31T00:11:28.836407Z"
    }
   },
   "outputs": [
    {
     "data": {
      "text/plain": [
       "330013"
      ]
     },
     "execution_count": 25,
     "metadata": {},
     "output_type": "execute_result"
    }
   ],
   "source": [
    "len(accept_molbit)"
   ]
  },
  {
   "cell_type": "code",
   "execution_count": 26,
   "metadata": {
    "ExecuteTime": {
     "end_time": "2019-08-31T00:11:29.614216Z",
     "start_time": "2019-08-31T00:11:28.857422Z"
    }
   },
   "outputs": [
    {
     "data": {
      "text/plain": [
       "251588"
      ]
     },
     "execution_count": 26,
     "metadata": {},
     "output_type": "execute_result"
    }
   ],
   "source": [
    "sum(accept_molbit)"
   ]
  },
  {
   "cell_type": "code",
   "execution_count": 27,
   "metadata": {
    "ExecuteTime": {
     "end_time": "2019-08-31T00:11:30.377097Z",
     "start_time": "2019-08-31T00:11:29.616308Z"
    }
   },
   "outputs": [
    {
     "data": {
      "text/plain": [
       "0.7623578465090769"
      ]
     },
     "execution_count": 27,
     "metadata": {},
     "output_type": "execute_result"
    }
   ],
   "source": [
    "sum(accept_molbit) / len(accept_molbit)"
   ]
  },
  {
   "cell_type": "markdown",
   "metadata": {},
   "source": [
    "## Extract the best-aligned molbit, across ONLY the extant molbits"
   ]
  },
  {
   "cell_type": "code",
   "execution_count": 28,
   "metadata": {
    "ExecuteTime": {
     "end_time": "2019-08-31T00:11:30.393961Z",
     "start_time": "2019-08-31T00:11:30.379134Z"
    }
   },
   "outputs": [],
   "source": [
    "extant_sw_cols = [f\"sw_score_molbit_{molbit}\" for molbit in molbits_on_flowcell]"
   ]
  },
  {
   "cell_type": "code",
   "execution_count": 29,
   "metadata": {
    "ExecuteTime": {
     "end_time": "2019-08-31T00:11:30.585638Z",
     "start_time": "2019-08-31T00:11:30.395974Z"
    }
   },
   "outputs": [],
   "source": [
    "extant_sw = sw.loc[:, extant_sw_cols]"
   ]
  },
  {
   "cell_type": "code",
   "execution_count": 30,
   "metadata": {
    "ExecuteTime": {
     "end_time": "2019-08-31T00:11:57.314128Z",
     "start_time": "2019-08-31T00:11:30.587953Z"
    }
   },
   "outputs": [
    {
     "name": "stderr",
     "output_type": "stream",
     "text": [
      "/ssd1/home/kdorosch/.local/lib/python3.6/site-packages/ipykernel_launcher.py:4: FutureWarning: currently extract(expand=None) means expand=False (return Index/Series/DataFrame) but in a future version of pandas this will be changed to expand=True (return DataFrame)\n",
      "  after removing the cwd from sys.path.\n"
     ]
    }
   ],
   "source": [
    "extant_sw_scores = extant_sw.filter(regex=\"score_molbit_.*\")\n",
    "best_molbits = extant_sw_scores.apply(np.argmax, axis=1)\n",
    "accept_molbit = extant_sw.lookup(extant_sw.index, best_molbits) >= 15\n",
    "extant_sw[\"best_molbit\"] = best_molbits.str.extract(r\"score_molbit_([\\d]+)\")\n",
    "extant_sw[\"accept_molbit\"] = accept_molbit"
   ]
  },
  {
   "cell_type": "markdown",
   "metadata": {},
   "source": [
    "## Compare "
   ]
  },
  {
   "cell_type": "code",
   "execution_count": 31,
   "metadata": {
    "ExecuteTime": {
     "end_time": "2019-08-31T00:11:57.595702Z",
     "start_time": "2019-08-31T00:11:57.316391Z"
    }
   },
   "outputs": [],
   "source": [
    "# Only retrieve high-scoring alignments\n",
    "sw_accepted = sw[sw[\"accept_molbit\"]]\n",
    "extant_sw_acc = extant_sw[sw[\"accept_molbit\"]]"
   ]
  },
  {
   "cell_type": "code",
   "execution_count": 32,
   "metadata": {
    "ExecuteTime": {
     "end_time": "2019-08-31T00:11:57.651784Z",
     "start_time": "2019-08-31T00:11:57.597990Z"
    }
   },
   "outputs": [],
   "source": [
    "n_extant_is_best = sum(extant_sw_acc[\"best_molbit\"] == sw_accepted[\"best_molbit\"])"
   ]
  },
  {
   "cell_type": "code",
   "execution_count": 33,
   "metadata": {
    "ExecuteTime": {
     "end_time": "2019-08-31T00:11:57.670427Z",
     "start_time": "2019-08-31T00:11:57.653995Z"
    }
   },
   "outputs": [
    {
     "data": {
      "text/plain": [
       "251520"
      ]
     },
     "execution_count": 33,
     "metadata": {},
     "output_type": "execute_result"
    }
   ],
   "source": [
    "n_extant_is_best"
   ]
  },
  {
   "cell_type": "markdown",
   "metadata": {},
   "source": [
    "Percentage of well-aligned reads that belong to the true set"
   ]
  },
  {
   "cell_type": "code",
   "execution_count": 34,
   "metadata": {
    "ExecuteTime": {
     "end_time": "2019-08-31T00:11:57.692320Z",
     "start_time": "2019-08-31T00:11:57.673371Z"
    }
   },
   "outputs": [
    {
     "data": {
      "text/plain": [
       "0.999729716838641"
      ]
     },
     "execution_count": 34,
     "metadata": {},
     "output_type": "execute_result"
    }
   ],
   "source": [
    "n_extant_is_best/len(sw_accepted)"
   ]
  },
  {
   "cell_type": "markdown",
   "metadata": {},
   "source": [
    "Read counts for each molbit"
   ]
  },
  {
   "cell_type": "code",
   "execution_count": 35,
   "metadata": {
    "ExecuteTime": {
     "end_time": "2019-08-31T00:11:58.024015Z",
     "start_time": "2019-08-31T00:11:57.694346Z"
    }
   },
   "outputs": [
    {
     "data": {
      "text/plain": [
       "[('0', 57),\n",
       " ('1', 22),\n",
       " ('10', 3517),\n",
       " ('11', 3851),\n",
       " ('12', 11429),\n",
       " ('13', 496),\n",
       " ('14', 2310),\n",
       " ('15', 8987),\n",
       " ('16', 55),\n",
       " ('17', 46),\n",
       " ('18', 30),\n",
       " ('19', 84),\n",
       " ('2', 64),\n",
       " ('20', 62),\n",
       " ('21', 41),\n",
       " ('22', 63),\n",
       " ('23', 56),\n",
       " ('24', 896),\n",
       " ('25', 2513),\n",
       " ('26', 4525),\n",
       " ('27', 2424),\n",
       " ('28', 1382),\n",
       " ('29', 3951),\n",
       " ('3', 81),\n",
       " ('30', 6168),\n",
       " ('31', 8766),\n",
       " ('32', 39),\n",
       " ('33', 39),\n",
       " ('34', 42),\n",
       " ('35', 27),\n",
       " ('36', 96),\n",
       " ('37', 38),\n",
       " ('38', 14),\n",
       " ('39', 30),\n",
       " ('4', 23),\n",
       " ('40', 4555),\n",
       " ('41', 4059),\n",
       " ('42', 3605),\n",
       " ('43', 13283),\n",
       " ('44', 4035),\n",
       " ('45', 5327),\n",
       " ('46', 1448),\n",
       " ('47', 1915),\n",
       " ('48', 66),\n",
       " ('49', 163),\n",
       " ('5', 46),\n",
       " ('50', 58),\n",
       " ('51', 92),\n",
       " ('52', 27),\n",
       " ('53', 71),\n",
       " ('54', 49),\n",
       " ('55', 66),\n",
       " ('56', 2015),\n",
       " ('57', 2580),\n",
       " ('58', 5972),\n",
       " ('59', 1056),\n",
       " ('6', 63),\n",
       " ('60', 11962),\n",
       " ('61', 2115),\n",
       " ('62', 3381),\n",
       " ('63', 6409),\n",
       " ('64', 4),\n",
       " ('65', 40),\n",
       " ('66', 45),\n",
       " ('67', 43),\n",
       " ('68', 47),\n",
       " ('69', 119),\n",
       " ('7', 124),\n",
       " ('70', 13),\n",
       " ('71', 43),\n",
       " ('72', 5712),\n",
       " ('73', 2528),\n",
       " ('74', 11608),\n",
       " ('75', 5140),\n",
       " ('76', 476),\n",
       " ('77', 4079),\n",
       " ('78', 1088),\n",
       " ('79', 1031),\n",
       " ('8', 3178),\n",
       " ('80', 20),\n",
       " ('81', 46),\n",
       " ('82', 32),\n",
       " ('83', 17),\n",
       " ('84', 28),\n",
       " ('85', 95),\n",
       " ('86', 43),\n",
       " ('87', 38),\n",
       " ('88', 4080),\n",
       " ('89', 16299),\n",
       " ('9', 35458),\n",
       " ('90', 4582),\n",
       " ('91', 1224),\n",
       " ('92', 5715),\n",
       " ('93', 1794),\n",
       " ('94', 4075),\n",
       " ('95', 6082)]"
      ]
     },
     "execution_count": 35,
     "metadata": {},
     "output_type": "execute_result"
    }
   ],
   "source": [
    "m, c = np.unique(extant_sw_acc[\"best_molbit\"], return_counts=True)\n",
    "list(zip(m, c))"
   ]
  },
  {
   "cell_type": "code",
   "execution_count": 36,
   "metadata": {
    "ExecuteTime": {
     "end_time": "2019-08-31T00:11:58.041266Z",
     "start_time": "2019-08-31T00:11:58.025774Z"
    }
   },
   "outputs": [
    {
     "name": "stdout",
     "output_type": "stream",
     "text": [
      "57\n",
      "22\n",
      "3517\n",
      "3851\n",
      "11429\n",
      "496\n",
      "2310\n",
      "8987\n",
      "55\n",
      "46\n",
      "30\n",
      "84\n",
      "64\n",
      "62\n",
      "41\n",
      "63\n",
      "56\n",
      "896\n",
      "2513\n",
      "4525\n",
      "2424\n",
      "1382\n",
      "3951\n",
      "81\n",
      "6168\n",
      "8766\n",
      "39\n",
      "39\n",
      "42\n",
      "27\n",
      "96\n",
      "38\n",
      "14\n",
      "30\n",
      "23\n",
      "4555\n",
      "4059\n",
      "3605\n",
      "13283\n",
      "4035\n",
      "5327\n",
      "1448\n",
      "1915\n",
      "66\n",
      "163\n",
      "46\n",
      "58\n",
      "92\n",
      "27\n",
      "71\n",
      "49\n",
      "66\n",
      "2015\n",
      "2580\n",
      "5972\n",
      "1056\n",
      "63\n",
      "11962\n",
      "2115\n",
      "3381\n",
      "6409\n",
      "4\n",
      "40\n",
      "45\n",
      "43\n",
      "47\n",
      "119\n",
      "124\n",
      "13\n",
      "43\n",
      "5712\n",
      "2528\n",
      "11608\n",
      "5140\n",
      "476\n",
      "4079\n",
      "1088\n",
      "1031\n",
      "3178\n",
      "20\n",
      "46\n",
      "32\n",
      "17\n",
      "28\n",
      "95\n",
      "43\n",
      "38\n",
      "4080\n",
      "16299\n",
      "35458\n",
      "4582\n",
      "1224\n",
      "5715\n",
      "1794\n",
      "4075\n",
      "6082\n"
     ]
    }
   ],
   "source": [
    "print(\"\\n\".join([str(x) for x in c]))"
   ]
  },
  {
   "cell_type": "markdown",
   "metadata": {},
   "source": [
    "## Extract the best-aligned molbit, across ONLY the current run's molbits"
   ]
  },
  {
   "cell_type": "code",
   "execution_count": 37,
   "metadata": {
    "ExecuteTime": {
     "end_time": "2019-08-31T00:11:58.057708Z",
     "start_time": "2019-08-31T00:11:58.043218Z"
    }
   },
   "outputs": [],
   "source": [
    "extant_sw_cols = [f\"sw_score_molbit_{molbit}\" for molbit in molbits_in_run]"
   ]
  },
  {
   "cell_type": "code",
   "execution_count": 38,
   "metadata": {
    "ExecuteTime": {
     "end_time": "2019-08-31T00:11:58.157203Z",
     "start_time": "2019-08-31T00:11:58.059409Z"
    }
   },
   "outputs": [],
   "source": [
    "extant_sw = sw.loc[:, extant_sw_cols]"
   ]
  },
  {
   "cell_type": "code",
   "execution_count": 39,
   "metadata": {
    "ExecuteTime": {
     "end_time": "2019-08-31T00:12:24.756679Z",
     "start_time": "2019-08-31T00:11:58.159293Z"
    }
   },
   "outputs": [
    {
     "name": "stderr",
     "output_type": "stream",
     "text": [
      "/ssd1/home/kdorosch/.local/lib/python3.6/site-packages/ipykernel_launcher.py:4: FutureWarning: currently extract(expand=None) means expand=False (return Index/Series/DataFrame) but in a future version of pandas this will be changed to expand=True (return DataFrame)\n",
      "  after removing the cwd from sys.path.\n"
     ]
    }
   ],
   "source": [
    "extant_sw_scores = extant_sw.filter(regex=\"score_molbit_.*\")\n",
    "best_molbits = extant_sw_scores.apply(np.argmax, axis=1)\n",
    "accept_molbit = extant_sw.lookup(extant_sw.index, best_molbits) >= 15\n",
    "extant_sw[\"best_molbit\"] = best_molbits.str.extract(r\"score_molbit_([\\d]+)\")\n",
    "extant_sw[\"accept_molbit\"] = accept_molbit"
   ]
  },
  {
   "cell_type": "markdown",
   "metadata": {},
   "source": [
    "## Compare "
   ]
  },
  {
   "cell_type": "code",
   "execution_count": 40,
   "metadata": {
    "ExecuteTime": {
     "end_time": "2019-08-31T00:12:25.054515Z",
     "start_time": "2019-08-31T00:12:24.758627Z"
    }
   },
   "outputs": [],
   "source": [
    "# Only retrieve high-scoring alignments\n",
    "sw_accepted = sw[sw[\"accept_molbit\"]]\n",
    "extant_sw_acc = extant_sw[sw[\"accept_molbit\"]]"
   ]
  },
  {
   "cell_type": "code",
   "execution_count": 41,
   "metadata": {
    "ExecuteTime": {
     "end_time": "2019-08-31T00:12:25.114930Z",
     "start_time": "2019-08-31T00:12:25.057090Z"
    }
   },
   "outputs": [],
   "source": [
    "n_extant_is_best = sum(extant_sw_acc[\"best_molbit\"] == sw_accepted[\"best_molbit\"])"
   ]
  },
  {
   "cell_type": "code",
   "execution_count": 42,
   "metadata": {
    "ExecuteTime": {
     "end_time": "2019-08-31T00:12:25.133230Z",
     "start_time": "2019-08-31T00:12:25.117046Z"
    }
   },
   "outputs": [
    {
     "data": {
      "text/plain": [
       "249013"
      ]
     },
     "execution_count": 42,
     "metadata": {},
     "output_type": "execute_result"
    }
   ],
   "source": [
    "n_extant_is_best"
   ]
  },
  {
   "cell_type": "markdown",
   "metadata": {},
   "source": [
    "Percentage of well-aligned reads that belong to the true set"
   ]
  },
  {
   "cell_type": "code",
   "execution_count": 43,
   "metadata": {
    "ExecuteTime": {
     "end_time": "2019-08-31T00:12:25.149958Z",
     "start_time": "2019-08-31T00:12:25.135075Z"
    }
   },
   "outputs": [
    {
     "data": {
      "text/plain": [
       "0.9897650126397125"
      ]
     },
     "execution_count": 43,
     "metadata": {},
     "output_type": "execute_result"
    }
   ],
   "source": [
    "n_extant_is_best/len(sw_accepted)"
   ]
  },
  {
   "cell_type": "markdown",
   "metadata": {},
   "source": [
    "Read counts for each molbit"
   ]
  },
  {
   "cell_type": "code",
   "execution_count": 44,
   "metadata": {
    "ExecuteTime": {
     "end_time": "2019-08-31T00:12:25.374622Z",
     "start_time": "2019-08-31T00:12:25.151724Z"
    }
   },
   "outputs": [
    {
     "data": {
      "text/plain": [
       "[('10', 3562),\n",
       " ('11', 3895),\n",
       " ('12', 11499),\n",
       " ('13', 606),\n",
       " ('14', 2435),\n",
       " ('15', 9048),\n",
       " ('24', 925),\n",
       " ('25', 2545),\n",
       " ('26', 4552),\n",
       " ('27', 2538),\n",
       " ('28', 1399),\n",
       " ('29', 3991),\n",
       " ('30', 6197),\n",
       " ('31', 8781),\n",
       " ('40', 4615),\n",
       " ('41', 4139),\n",
       " ('42', 3612),\n",
       " ('43', 13336),\n",
       " ('44', 4052),\n",
       " ('45', 5348),\n",
       " ('46', 1495),\n",
       " ('47', 1951),\n",
       " ('56', 2047),\n",
       " ('57', 2601),\n",
       " ('58', 6017),\n",
       " ('59', 1218),\n",
       " ('60', 11968),\n",
       " ('61', 2163),\n",
       " ('62', 3406),\n",
       " ('63', 6436),\n",
       " ('72', 5780),\n",
       " ('73', 2556),\n",
       " ('74', 11615),\n",
       " ('75', 5266),\n",
       " ('76', 512),\n",
       " ('77', 4129),\n",
       " ('78', 1121),\n",
       " ('79', 1116),\n",
       " ('8', 3306),\n",
       " ('88', 4091),\n",
       " ('89', 16327),\n",
       " ('9', 35654),\n",
       " ('90', 4588),\n",
       " ('91', 1290),\n",
       " ('92', 5818),\n",
       " ('93', 1805),\n",
       " ('94', 4116),\n",
       " ('95', 6121)]"
      ]
     },
     "execution_count": 44,
     "metadata": {},
     "output_type": "execute_result"
    }
   ],
   "source": [
    "m, c = np.unique(extant_sw_acc[\"best_molbit\"], return_counts=True)\n",
    "list(zip(m, c))"
   ]
  },
  {
   "cell_type": "code",
   "execution_count": 45,
   "metadata": {
    "ExecuteTime": {
     "end_time": "2019-08-31T00:12:25.391604Z",
     "start_time": "2019-08-31T00:12:25.376486Z"
    }
   },
   "outputs": [],
   "source": [
    "l = []\n",
    "for i in range(0, 96, 16):\n",
    "    l.extend(range(i, i+8))"
   ]
  },
  {
   "cell_type": "code",
   "execution_count": 46,
   "metadata": {
    "ExecuteTime": {
     "end_time": "2019-08-31T00:12:25.407448Z",
     "start_time": "2019-08-31T00:12:25.393546Z"
    }
   },
   "outputs": [
    {
     "data": {
      "text/plain": [
       "'0, 1, 2, 3, 4, 5, 6, 7, 16, 17, 18, 19, 20, 21, 22, 23, 32, 33, 34, 35, 36, 37, 38, 39, 48, 49, 50, 51, 52, 53, 54, 55, 64, 65, 66, 67, 68, 69, 70, 71, 80, 81, 82, 83, 84, 85, 86, 87'"
      ]
     },
     "execution_count": 46,
     "metadata": {},
     "output_type": "execute_result"
    }
   ],
   "source": [
    "\", \".join([str(x) for x in l])"
   ]
  },
  {
   "cell_type": "markdown",
   "metadata": {},
   "source": [
    "## Get counts for all molbits"
   ]
  },
  {
   "cell_type": "code",
   "execution_count": 47,
   "metadata": {
    "ExecuteTime": {
     "end_time": "2019-08-31T00:12:25.766501Z",
     "start_time": "2019-08-31T00:12:25.409161Z"
    },
    "scrolled": true
   },
   "outputs": [
    {
     "name": "stdout",
     "output_type": "stream",
     "text": [
      "57\n",
      "22\n",
      "66\n",
      "81\n",
      "23\n",
      "46\n",
      "63\n",
      "131\n",
      "3178\n",
      "35458\n",
      "3517\n",
      "3851\n",
      "11429\n",
      "496\n",
      "2310\n",
      "8987\n",
      "55\n",
      "47\n",
      "30\n",
      "84\n",
      "62\n",
      "41\n",
      "71\n",
      "58\n",
      "896\n",
      "2513\n",
      "4525\n",
      "2424\n",
      "1382\n",
      "3951\n",
      "6168\n",
      "8766\n",
      "39\n",
      "39\n",
      "42\n",
      "28\n",
      "110\n",
      "38\n",
      "14\n",
      "30\n",
      "4555\n",
      "4059\n",
      "3605\n",
      "13283\n",
      "4035\n",
      "5327\n",
      "1447\n",
      "1915\n",
      "66\n",
      "193\n",
      "58\n",
      "93\n",
      "28\n",
      "71\n",
      "49\n",
      "66\n",
      "2015\n",
      "2580\n",
      "5968\n",
      "1056\n",
      "11962\n",
      "2114\n",
      "3379\n",
      "6409\n",
      "4\n",
      "40\n",
      "45\n",
      "43\n",
      "47\n",
      "119\n",
      "13\n",
      "43\n",
      "5710\n",
      "2528\n",
      "11608\n",
      "5113\n",
      "476\n",
      "4079\n",
      "1088\n",
      "1019\n",
      "20\n",
      "46\n",
      "32\n",
      "17\n",
      "28\n",
      "95\n",
      "43\n",
      "39\n",
      "4080\n",
      "16299\n",
      "4582\n",
      "1213\n",
      "5709\n",
      "1794\n",
      "4074\n",
      "6081\n"
     ]
    }
   ],
   "source": [
    "m, c = np.unique(sw[sw[\"accept_molbit\"]][\"best_molbit\"], return_counts=True)\n",
    "molbit_counts = dict(zip(m, c))\n",
    "for i in range(96):\n",
    "    i = str(i)\n",
    "    if i in molbit_counts:\n",
    "        print(f\"{molbit_counts[i]}\")\n",
    "    else:\n",
    "        print(f\"0\")"
   ]
  },
  {
   "cell_type": "markdown",
   "metadata": {},
   "source": [
    "# Plot read counts"
   ]
  },
  {
   "cell_type": "code",
   "execution_count": 48,
   "metadata": {
    "ExecuteTime": {
     "end_time": "2019-08-31T00:12:25.809109Z",
     "start_time": "2019-08-31T00:12:25.768706Z"
    },
    "code_folding": []
   },
   "outputs": [],
   "source": [
    "def plot_read_counts(labels, counts, labels_on_flowcell, labels_in_run,\n",
    "                     possible_labels=None, ax=None, vmax=None, title_note=None):\n",
    "    from matplotlib.patches import Patch\n",
    "    if vmax is None:\n",
    "        vmax = max(counts) + max(counts)\n",
    "    if ax == None:\n",
    "        fig, ax = plt.subplots(figsize=(30, 8))\n",
    "    if possible_labels is None:\n",
    "        possible_labels = labels[:]\n",
    "    g = sns.barplot(x=labels, y=counts, order=possible_labels, ax=ax)\n",
    "    title = \"#/reads identified per barcode\"\n",
    "    if title_note is not None:\n",
    "        title += \"\\n(%s)\" % title_note\n",
    "    ax.set_title(title)\n",
    "    ax.set_xlabel(\"Barcode ID\")\n",
    "    ax.set_ylabel(\"Read counts\")\n",
    "    ax.set_ylim([0, vmax])\n",
    "    \n",
    "    prev_text_height = 0\n",
    "    for j, label in enumerate(possible_labels):\n",
    "        if label in labels:\n",
    "            count = counts[labels.index(label)]\n",
    "        else:\n",
    "            count = 0\n",
    "        if label == \"-1\":\n",
    "            continue\n",
    "\n",
    "#         try:\n",
    "#             label = int(label)\n",
    "#         except:\n",
    "#             pass\n",
    "        \n",
    "        if label in labels_in_run:\n",
    "            g.containers[0].get_children()[j].set_facecolor(\"tab:red\")\n",
    "            font_kwargs = {\"color\": \"tab:red\", \"weight\": \"bold\"} \n",
    "        elif label in labels_on_flowcell:\n",
    "            g.containers[0].get_children()[j].set_facecolor(\"tab:blue\")\n",
    "            font_kwargs = {\"color\": \"k\", \"weight\": \"bold\"}\n",
    "        else:\n",
    "            g.containers[0].get_children()[j].set_facecolor(\"k\")\n",
    "            font_kwargs = {\"color\": \"k\", \"weight\": \"normal\"}\n",
    "            \n",
    "        diff = prev_text_height - (count + 0.01 * vmax)\n",
    "        if count < 100:\n",
    "            text_height = count + .01 * vmax\n",
    "            ax.text(j, text_height, count, ha=\"center\", **font_kwargs)\n",
    "        elif diff < 0 and np.abs(diff) < vmax * .06:\n",
    "            text_height = np.max([prev_text_height + .035 * vmax, count + .01 * vmax])\n",
    "            ax.text(j, text_height, count, ha=\"center\", **font_kwargs)\n",
    "        elif np.abs(diff) < vmax * .05:\n",
    "            text_height = np.min([prev_text_height - .01 * vmax, count + .01 * vmax])\n",
    "            ax.text(j, text_height, count, ha=\"center\", **font_kwargs)\n",
    "        else:\n",
    "            text_height = count + .01 * vmax\n",
    "            ax.text(j, text_height, count, ha=\"center\", **font_kwargs)\n",
    "        prev_text_height = text_height\n",
    "        \n",
    "    legend_elements = [Patch(facecolor='k', edgecolor='k',\n",
    "                         label='never been run on this flowcell'),\n",
    "                       Patch(facecolor='tab:blue', edgecolor='tab:blue',\n",
    "                         label='prev run on flowcell'),\n",
    "                       Patch(facecolor='tab:red', edgecolor='tab:red',\n",
    "                         label='current run on flowcell')]\n",
    "    leg = ax.legend(handles=legend_elements)\n",
    "    t1, t2, t3 = leg.get_texts()\n",
    "    t2._fontproperties = t1._fontproperties.copy()\n",
    "    t3._fontproperties = t1._fontproperties.copy()\n",
    "    t2.set_weight('bold')\n",
    "    t3.set_weight('bold')\n",
    "    t3.set_color(\"tab:red\")\n",
    "    return ax"
   ]
  },
  {
   "cell_type": "code",
   "execution_count": 54,
   "metadata": {
    "ExecuteTime": {
     "end_time": "2019-08-31T01:58:18.693297Z",
     "start_time": "2019-08-31T01:58:14.638200Z"
    }
   },
   "outputs": [
    {
     "data": {
      "text/plain": [
       "<matplotlib.axes._subplots.AxesSubplot at 0x7fdd74bc3940>"
      ]
     },
     "execution_count": 54,
     "metadata": {},
     "output_type": "execute_result"
    },
    {
     "data": {
      "image/png": "[encoded data removed]",
      "text/plain": [
       "<Figure size 2160x576 with 1 Axes>"
      ]
     },
     "metadata": {},
     "output_type": "display_data"
    }
   ],
   "source": [
    "molbits = [str(x) for x in m]\n",
    "counts = list(c)\n",
    "on_flowcell = [str(x) for x in molbits_on_flowcell]\n",
    "in_run = [str(x) for x in molbits_in_run]\n",
    "poss_molbits = [str(x) for x in range(96)]\n",
    "plot_read_counts(molbits, counts, on_flowcell, in_run, possible_labels=poss_molbits, vmax=34800)"
   ]
  },
  {
   "cell_type": "markdown",
   "metadata": {},
   "source": [
    "# Save labels"
   ]
  },
  {
   "cell_type": "code",
   "execution_count": 50,
   "metadata": {
    "ExecuteTime": {
     "end_time": "2019-08-31T00:12:30.275458Z",
     "start_time": "2019-08-31T00:12:30.259878Z"
    }
   },
   "outputs": [
    {
     "data": {
      "text/plain": [
       "'/path/to/data/MinION_sequencing_data_20190830/guppy_3.2.2_08_30_2019_run_01_exec_20190830/sw/all_ee80935b39ac8eac3e848aa0e1f003f3f7be1c96.tsv'"
      ]
     },
     "execution_count": 50,
     "metadata": {},
     "output_type": "execute_result"
    }
   ],
   "source": [
    "merged_sw_file"
   ]
  },
  {
   "cell_type": "code",
   "execution_count": 51,
   "metadata": {
    "ExecuteTime": {
     "end_time": "2019-08-31T00:13:00.754223Z",
     "start_time": "2019-08-31T00:12:30.277213Z"
    }
   },
   "outputs": [
    {
     "name": "stderr",
     "output_type": "stream",
     "text": [
      "/ssd1/home/kdorosch/.local/lib/python3.6/site-packages/ipykernel_launcher.py:5: FutureWarning: currently extract(expand=None) means expand=False (return Index/Series/DataFrame) but in a future version of pandas this will be changed to expand=True (return DataFrame)\n",
      "  \"\"\"\n"
     ]
    }
   ],
   "source": [
    "sw = pd.read_csv(merged_sw_file, sep=\"\\t\", index_col=0)\n",
    "sw_scores = sw.filter(regex=\"score_molbit_.*\")\n",
    "best_molbits = sw_scores.apply(np.argmax, axis=1)\n",
    "accept_molbit = sw.lookup(sw.index, best_molbits) >= 15\n",
    "sw[\"best_molbit\"] = best_molbits.str.extract(r\"score_molbit_([\\d]+)\")\n",
    "sw[\"accept_molbit\"] = accept_molbit\n",
    "sw[\"best_molbit_is_in_run\"] = sw[\"best_molbit\"].apply(lambda x: x in molbits_in_run)\n",
    "\n",
    "labels_in_set = sw[np.logical_and(sw[\"accept_molbit\"], sw[\"best_molbit_is_in_run\"])]"
   ]
  },
  {
   "cell_type": "code",
   "execution_count": 52,
   "metadata": {
    "ExecuteTime": {
     "end_time": "2019-08-31T00:13:00.773633Z",
     "start_time": "2019-08-31T00:13:00.756551Z"
    }
   },
   "outputs": [
    {
     "name": "stdout",
     "output_type": "stream",
     "text": [
      "/path/to/data/MinION_sequencing_data_20190830/guppy_3.2.2_08_30_2019_run_01_exec_20190830/sw/labels_for_molbits_in_set_ee80935b39ac8eac3e848aa0e1f003f3f7be1c96.tsv\n"
     ]
    }
   ],
   "source": [
    "sw_label_file = merged_sw_file.replace(\"all\", \"labels_for_molbits_in_set\")\n",
    "print(sw_label_file)"
   ]
  },
  {
   "cell_type": "code",
   "execution_count": 53,
   "metadata": {
    "ExecuteTime": {
     "end_time": "2019-08-31T00:13:01.807403Z",
     "start_time": "2019-08-31T00:13:00.775546Z"
    }
   },
   "outputs": [
    {
     "name": "stderr",
     "output_type": "stream",
     "text": [
      "/ssd1/home/kdorosch/.local/lib/python3.6/site-packages/ipykernel_launcher.py:2: SettingWithCopyWarning: \n",
      "A value is trying to be set on a copy of a slice from a DataFrame.\n",
      "Try using .loc[row_indexer,col_indexer] = value instead\n",
      "\n",
      "See the caveats in the documentation: http://pandas.pydata.org/pandas-docs/stable/indexing.html#indexing-view-versus-copy\n",
      "  \n"
     ]
    }
   ],
   "source": [
    "best_score = np.max(labels_in_set[[f\"sw_score_molbit_{molbit}\" for molbit in molbits_in_run]], axis=1)\n",
    "labels_in_set[\"best_score\"] = best_score\n",
    "labels_in_set = labels_in_set.loc[:, [\"best_molbit\", \"best_score\"]]\n",
    "labels_in_set.columns = [\"molbit\", \"sw_score\"]\n",
    "\n",
    "labels_in_set.to_csv(sw_label_file, sep=\"\\t\", index=True)"
   ]
  },
  {
   "cell_type": "code",
   "execution_count": null,
   "metadata": {},
   "outputs": [],
   "source": []
  }
 ],
 "metadata": {
  "kernelspec": {
   "display_name": "Python 3",
   "language": "python",
   "name": "python3"
  },
  "language_info": {
   "codemirror_mode": {
    "name": "ipython",
    "version": 3
   },
   "file_extension": ".py",
   "mimetype": "text/x-python",
   "name": "python",
   "nbconvert_exporter": "python",
   "pygments_lexer": "ipython3",
   "version": "3.7.6"
  },
  "notify_time": "30",
  "toc": {
   "base_numbering": 1,
   "nav_menu": {},
   "number_sections": true,
   "sideBar": true,
   "skip_h1_title": false,
   "title_cell": "Table of Contents",
   "title_sidebar": "Contents",
   "toc_cell": false,
   "toc_position": {},
   "toc_section_display": true,
   "toc_window_display": false
  }
 },
 "nbformat": 4,
 "nbformat_minor": 2
}