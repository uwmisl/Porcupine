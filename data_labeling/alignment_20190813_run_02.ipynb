{
 "cells": [
  {
   "cell_type": "code",
   "execution_count": 1,
   "metadata": {
    "ExecuteTime": {
     "end_time": "2019-08-13T22:31:01.017890Z",
     "start_time": "2019-08-13T22:31:00.054180Z"
    }
   },
   "outputs": [],
   "source": [
    "%load_ext autoreload\n",
    "%autoreload 2\n",
    "%matplotlib inline\n",
    "import os\n",
    "import h5py\n",
    "import numpy as np\n",
    "import pandas as pd\n",
    "import logging\n",
    "import re\n",
    "\n",
    "from matplotlib import pyplot as plt\n",
    "import seaborn as sns\n",
    "sns.set(font_scale=1.8, style=\"whitegrid\")"
   ]
  },
  {
   "cell_type": "code",
   "execution_count": 2,
   "metadata": {
    "ExecuteTime": {
     "end_time": "2019-08-13T22:31:01.032857Z",
     "start_time": "2019-08-13T22:31:01.019922Z"
    }
   },
   "outputs": [],
   "source": [
    "logger = logging.getLogger(__name__)\n",
    "logging.basicConfig(format='[%(asctime)s - %(name)s] %(message)s',\n",
    "                        datefmt='%H:%M:%S',\n",
    "                        level=logging.DEBUG,\n",
    "                        handlers=[logging.StreamHandler()])"
   ]
  },
  {
   "cell_type": "markdown",
   "metadata": {},
   "source": [
    "# Import run settings"
   ]
  },
  {
   "cell_type": "code",
   "execution_count": 3,
   "metadata": {
    "ExecuteTime": {
     "end_time": "2019-08-13T22:31:02.836313Z",
     "start_time": "2019-08-13T22:31:01.034739Z"
    }
   },
   "outputs": [],
   "source": [
    "def import_gdrive_sheet(gdrive_key, sheet_id):\n",
    "    run_spreadsheet = pd.read_csv(\"https://docs.google.com/spreadsheet/ccc?key=\" + \\\n",
    "                                  gdrive_key + \"&output=csv&gid=\" + sheet_id)\n",
    "    if \"date\" in run_spreadsheet.columns:\n",
    "        run_spreadsheet[\"date\"] = run_spreadsheet[\"date\"].astype(str)\n",
    "    return run_spreadsheet\n",
    "\n",
    "gdrive_key = \"gsheet_id_here\"\n",
    "sheet_id = \"0\"\n",
    "set_sheet_id = \"512509543\"\n",
    "\n",
    "run_spreadsheet = import_gdrive_sheet(gdrive_key, sheet_id)\n",
    "set_spreadsheet = import_gdrive_sheet(gdrive_key, set_sheet_id)"
   ]
  },
  {
   "cell_type": "code",
   "execution_count": 4,
   "metadata": {
    "ExecuteTime": {
     "end_time": "2019-08-13T22:31:02.869998Z",
     "start_time": "2019-08-13T22:31:02.839389Z"
    }
   },
   "outputs": [],
   "source": [
    "date = \"20190809\"\n",
    "run_name = \"08_13_2019_run_02\"\n",
    "molbit_file = \"../porcupine_sequences.fa\"\n",
    "run_data = dict(run_spreadsheet[run_spreadsheet[\"run_name\"] == run_name].iloc[0, :])"
   ]
  },
  {
   "cell_type": "code",
   "execution_count": 5,
   "metadata": {
    "ExecuteTime": {
     "end_time": "2019-08-13T22:31:02.918811Z",
     "start_time": "2019-08-13T22:31:02.882718Z"
    }
   },
   "outputs": [],
   "source": [
    "fastq_dir = os.path.join(run_data[\"basecall_dir\"], \"pass\")"
   ]
  },
  {
   "cell_type": "markdown",
   "metadata": {},
   "source": [
    "# Run sequence alignment"
   ]
  },
  {
   "cell_type": "code",
   "execution_count": 7,
   "metadata": {
    "ExecuteTime": {
     "end_time": "2019-08-13T22:36:08.972590Z",
     "start_time": "2019-08-13T22:36:08.948337Z"
    }
   },
   "outputs": [],
   "source": [
    "def read_fasta(fasta_fname):\n",
    "    '''Assumes 1 line per sequence.'''\n",
    "    seqs = []\n",
    "    names = []\n",
    "    with open(fasta_fname) as fa:\n",
    "        for line in fa:\n",
    "            line = line.strip()\n",
    "            if line.startswith(\">\"):\n",
    "                names.append(line.replace(\">\", \"\").split()[0])\n",
    "            else:\n",
    "                seqs.append(line)\n",
    "    return seqs, names"
   ]
  },
  {
   "cell_type": "code",
   "execution_count": 8,
   "metadata": {
    "ExecuteTime": {
     "end_time": "2019-08-13T22:36:08.998576Z",
     "start_time": "2019-08-13T22:36:08.975321Z"
    }
   },
   "outputs": [],
   "source": [
    "def read_fastq(fastq_fname):\n",
    "    seqs = []\n",
    "    with open(fastq_fname) as fq:\n",
    "        fq = fq.readlines()\n",
    "        for line_i in range(0, len(fq), 4):\n",
    "            line = fq[line_i].strip().split(\" \")\n",
    "            read_id = str(line[0])[1:]\n",
    "            seq = fq[line_i + 1].strip()\n",
    "            seqs.append((read_id, seq))\n",
    "    return seqs"
   ]
  },
  {
   "cell_type": "code",
   "execution_count": 9,
   "metadata": {
    "ExecuteTime": {
     "end_time": "2019-08-13T22:36:09.063879Z",
     "start_time": "2019-08-13T22:36:09.001173Z"
    }
   },
   "outputs": [],
   "source": [
    "from pore_utils import smith_waterman as s_w"
   ]
  },
  {
   "cell_type": "code",
   "execution_count": 10,
   "metadata": {
    "ExecuteTime": {
     "end_time": "2019-08-13T22:36:09.100840Z",
     "start_time": "2019-08-13T22:36:09.066601Z"
    }
   },
   "outputs": [],
   "source": [
    "def helper_run_sw(read, molbit_seqs=None, search_len=100,\n",
    "                  cost_fn={\"match\": 2, \"mismatch\": -2, \"gap\": -1}):\n",
    "    read_id, seq = read\n",
    "\n",
    "    sw_search_end = min(len(seq), search_len)\n",
    "    search_seq = seq[:sw_search_end]\n",
    "\n",
    "    results = [read_id]\n",
    "    for header_i, header_seq in enumerate(molbit_seqs):\n",
    "        _, sw_score, _, sw_loc, _ = s_w.s_w(search_seq, header_seq,\n",
    "                                        cost_fn=cost_fn)\n",
    "        results.append(sw_score)\n",
    "    return results\n",
    "\n",
    "\n",
    "def run_sw(fastq_dir, out_dir, search_len=80, molbit_fa=None, n_workers=20,\n",
    "           cost_fn={\"match\": 2, \"mismatch\": -2, \"gap\": -1}):\n",
    "    os.makedirs(out_dir)\n",
    "    import dask.bag as db\n",
    "    from dask.diagnostics import ProgressBar\n",
    "    ProgressBar().register()\n",
    "    \n",
    "    logger.info(\"Getting molbit sequences.\")\n",
    "    assert molbit_fa is not None\n",
    "    assert os.path.exists(molbit_fa)\n",
    "    molbit_seqs, molbit_names = read_fasta(molbit_fa)\n",
    "    \n",
    "    logger.info(\"Locating fastq files.\")\n",
    "    fastq_files = []\n",
    "    for fname in os.listdir(fastq_dir):\n",
    "        if fname.endswith(\".fastq\"):\n",
    "            fastq_files.append(os.path.join(fastq_dir, fname))\n",
    "    assert len(fastq_files) > 0\n",
    "    \n",
    "    logger.info(\"Running SW, one fastq at a time.\")\n",
    "    for fq_i, fq_fname in enumerate(fastq_files):\n",
    "        logger.info(f\"Starting fastq ({fq_i} of {len(fastq_files)})\\n\\t{fq_fname}\")\n",
    "        fq_seqs = read_fastq(fq_fname)\n",
    "        \n",
    "        bag = db.from_sequence(fq_seqs)\n",
    "        dask_map = bag.map(helper_run_sw, molbit_seqs=molbit_seqs,\n",
    "                           search_len=search_len, cost_fn=cost_fn)\n",
    "        sw_scores = dask_map.compute(num_workers=n_workers)\n",
    "        \n",
    "        cols = [\"read_id\"] + [f\"sw_score_molbit_{molbit}\" for molbit in molbit_names]\n",
    "        sw_df = pd.DataFrame(sw_scores, columns=cols)\n",
    "        sw_df.index = sw_df[\"read_id\"]\n",
    "        del sw_df[\"read_id\"]\n",
    "        out_fname = fq_fname.split(\"/\")[-1].replace(\".fastq\", \"\") + \".tsv\"\n",
    "        out_fname = os.path.join(out_dir, out_fname)\n",
    "        logger.info(f\"Saving to file: {out_fname}\")\n",
    "        sw_df.to_csv(out_fname, sep=\"\\t\", index=True)"
   ]
  },
  {
   "cell_type": "code",
   "execution_count": 11,
   "metadata": {
    "ExecuteTime": {
     "end_time": "2019-08-13T22:36:09.124422Z",
     "start_time": "2019-08-13T22:36:09.103417Z"
    }
   },
   "outputs": [],
   "source": [
    "sw_dir = os.path.join(run_data[\"basecall_dir\"], \"sw\")\n",
    "cost_fn = {\"match\": 1, \"mismatch\": -1, \"gap\": -8}"
   ]
  },
  {
   "cell_type": "raw",
   "metadata": {
    "ExecuteTime": {
     "end_time": "2019-08-11T02:58:25.962380Z",
     "start_time": "2019-08-11T02:58:25.723668Z"
    }
   },
   "source": [
    "! rm -rf /path/to/data/MinION_sequencing_data_20190809/guppy_3.2.2_exec_20190809/sw"
   ]
  },
  {
   "cell_type": "code",
   "execution_count": 12,
   "metadata": {
    "ExecuteTime": {
     "end_time": "2019-08-14T02:32:47.816017Z",
     "start_time": "2019-08-13T22:36:09.126963Z"
    },
    "scrolled": true
   },
   "outputs": [
    {
     "name": "stderr",
     "output_type": "stream",
     "text": [
      "[15:36:09 - __main__] Getting molbit sequences.\n",
      "[15:36:09 - __main__] Locating fastq files.\n",
      "[15:36:09 - __main__] Running SW, one fastq at a time.\n",
      "[15:36:09 - __main__] Starting fastq (0 of 307)\n",
      "\t/path/to/data/MinION_sequencing_data_20190813/guppy_3.2.2_08_13_2019_run_02_exec_20190813/pass/fastq_runid_cbeb224beba4132d960067800238defaeed962bf_0_0.fastq\n"
     ]
    },
    {
     "name": "stdout",
     "output_type": "stream",
     "text": [
      "[########################################] | 100% Completed | 37.8s\n"
     ]
    },
    {
     "name": "stderr",
     "output_type": "stream",
     "text": [
      "[15:36:47 - __main__] Saving to file: /path/to/data/MinION_sequencing_data_20190813/guppy_3.2.2_08_13_2019_run_02_exec_20190813/sw/fastq_runid_cbeb224beba4132d960067800238defaeed962bf_0_0.tsv\n",
      "[15:36:47 - __main__] Starting fastq (1 of 307)\n",
      "\t/path/to/data/MinION_sequencing_data_20190813/guppy_3.2.2_08_13_2019_run_02_exec_20190813/pass/fastq_runid_cbeb224beba4132d960067800238defaeed962bf_0_1.fastq\n"
     ]
    },
    {
     "name": "stdout",
     "output_type": "stream",
     "text": [
      "[########################################] | 100% Completed | 52.2s\n"
     ]
    },
    {
     "name": "stderr",
     "output_type": "stream",
     "text": [
      "[15:37:40 - __main__] Saving to file: /path/to/data/MinION_sequencing_data_20190813/guppy_3.2.2_08_13_2019_run_02_exec_20190813/sw/fastq_runid_cbeb224beba4132d960067800238defaeed962bf_0_1.tsv\n",
      "[15:37:40 - __main__] Starting fastq (2 of 307)\n",
      "\t/path/to/data/MinION_sequencing_data_20190813/guppy_3.2.2_08_13_2019_run_02_exec_20190813/pass/fastq_runid_cbeb224beba4132d960067800238defaeed962bf_0_2.fastq\n"
     ]
    },
    {
     "name": "stdout",
     "output_type": "stream",
     "text": [
      "[########################################] | 100% Completed |  1min 14.9s\n"
     ]
    },
    {
     "name": "stderr",
     "output_type": "stream",
     "text": [
      "[15:38:55 - __main__] Saving to file: /path/to/data/MinION_sequencing_data_20190813/guppy_3.2.2_08_13_2019_run_02_exec_20190813/sw/fastq_runid_cbeb224beba4132d960067800238defaeed962bf_0_2.tsv\n",
      "[15:38:55 - __main__] Starting fastq (3 of 307)\n",
      "\t/path/to/data/MinION_sequencing_data_20190813/guppy_3.2.2_08_13_2019_run_02_exec_20190813/pass/fastq_runid_cbeb224beba4132d960067800238defaeed962bf_0_3.fastq\n"
     ]
    },
    {
     "name": "stdout",
     "output_type": "stream",
     "text": [
      "[########################################] | 100% Completed |  1min 18.1s\n"
     ]
    },
    {
     "name": "stderr",
     "output_type": "stream",
     "text": [
      "[15:40:13 - __main__] Saving to file: /path/to/data/MinION_sequencing_data_20190813/guppy_3.2.2_08_13_2019_run_02_exec_20190813/sw/fastq_runid_cbeb224beba4132d960067800238defaeed962bf_0_3.tsv\n",
      "[15:40:14 - __main__] Starting fastq (4 of 307)\n",
      "\t/path/to/data/MinION_sequencing_data_20190813/guppy_3.2.2_08_13_2019_run_02_exec_20190813/pass/fastq_runid_cbeb224beba4132d960067800238defaeed962bf_1_0.fastq\n"
     ]
    },
    {
     "name": "stdout",
     "output_type": "stream",
     "text": [
      "[########################################] | 100% Completed |  1min 33.4s\n"
     ]
    },
    {
     "name": "stderr",
     "output_type": "stream",
     "text": [
      "[15:41:47 - __main__] Saving to file: /path/to/data/MinION_sequencing_data_20190813/guppy_3.2.2_08_13_2019_run_02_exec_20190813/sw/fastq_runid_cbeb224beba4132d960067800238defaeed962bf_1_0.tsv\n",
      "[15:41:48 - __main__] Starting fastq (5 of 307)\n",
      "\t/path/to/data/MinION_sequencing_data_20190813/guppy_3.2.2_08_13_2019_run_02_exec_20190813/pass/fastq_runid_cbeb224beba4132d960067800238defaeed962bf_1_1.fastq\n"
     ]
    },
    {
     "name": "stdout",
     "output_type": "stream",
     "text": [
      "[########################################] | 100% Completed |  1min 22.3s\n"
     ]
    },
    {
     "name": "stderr",
     "output_type": "stream",
     "text": [
      "[15:43:10 - __main__] Saving to file: /path/to/data/MinION_sequencing_data_20190813/guppy_3.2.2_08_13_2019_run_02_exec_20190813/sw/fastq_runid_cbeb224beba4132d960067800238defaeed962bf_1_1.tsv\n",
      "[15:43:10 - __main__] Starting fastq (6 of 307)\n",
      "\t/path/to/data/MinION_sequencing_data_20190813/guppy_3.2.2_08_13_2019_run_02_exec_20190813/pass/fastq_runid_cbeb224beba4132d960067800238defaeed962bf_1_2.fastq\n"
     ]
    },
    {
     "name": "stdout",
     "output_type": "stream",
     "text": [
      "[########################################] | 100% Completed | 29.1s\n"
     ]
    },
    {
     "name": "stderr",
     "output_type": "stream",
     "text": [
      "[15:43:40 - __main__] Saving to file: /path/to/data/MinION_sequencing_data_20190813/guppy_3.2.2_08_13_2019_run_02_exec_20190813/sw/fastq_runid_cbeb224beba4132d960067800238defaeed962bf_1_2.tsv\n",
      "[15:43:40 - __main__] Starting fastq (7 of 307)\n",
      "\t/path/to/data/MinION_sequencing_data_20190813/guppy_3.2.2_08_13_2019_run_02_exec_20190813/pass/fastq_runid_cbeb224beba4132d960067800238defaeed962bf_1_3.fastq\n"
     ]
    },
    {
     "name": "stdout",
     "output_type": "stream",
     "text": [
      "[########################################] | 100% Completed | 46.8s\n"
     ]
    },
    {
     "name": "stderr",
     "output_type": "stream",
     "text": [
      "[15:44:27 - __main__] Saving to file: /path/to/data/MinION_sequencing_data_20190813/guppy_3.2.2_08_13_2019_run_02_exec_20190813/sw/fastq_runid_cbeb224beba4132d960067800238defaeed962bf_1_3.tsv\n",
      "[15:44:27 - __main__] Starting fastq (8 of 307)\n",
      "\t/path/to/data/MinION_sequencing_data_20190813/guppy_3.2.2_08_13_2019_run_02_exec_20190813/pass/fastq_runid_cbeb224beba4132d960067800238defaeed962bf_2_0.fastq\n"
     ]
    },
    {
     "name": "stdout",
     "output_type": "stream",
     "text": [
      "[########################################] | 100% Completed |  1min 13.2s\n"
     ]
    },
    {
     "name": "stderr",
     "output_type": "stream",
     "text": [
      "[15:45:40 - __main__] Saving to file: /path/to/data/MinION_sequencing_data_20190813/guppy_3.2.2_08_13_2019_run_02_exec_20190813/sw/fastq_runid_cbeb224beba4132d960067800238defaeed962bf_2_0.tsv\n",
      "[15:45:41 - __main__] Starting fastq (9 of 307)\n",
      "\t/path/to/data/MinION_sequencing_data_20190813/guppy_3.2.2_08_13_2019_run_02_exec_20190813/pass/fastq_runid_cbeb224beba4132d960067800238defaeed962bf_2_1.fastq\n"
     ]
    },
    {
     "name": "stdout",
     "output_type": "stream",
     "text": [
      "[########################################] | 100% Completed |  1min  0.8s\n"
     ]
    },
    {
     "name": "stderr",
     "output_type": "stream",
     "text": [
      "[15:46:42 - __main__] Saving to file: /path/to/data/MinION_sequencing_data_20190813/guppy_3.2.2_08_13_2019_run_02_exec_20190813/sw/fastq_runid_cbeb224beba4132d960067800238defaeed962bf_2_1.tsv\n",
      "[15:46:42 - __main__] Starting fastq (10 of 307)\n",
      "\t/path/to/data/MinION_sequencing_data_20190813/guppy_3.2.2_08_13_2019_run_02_exec_20190813/pass/fastq_runid_cbeb224beba4132d960067800238defaeed962bf_2_2.fastq\n"
     ]
    },
    {
     "name": "stdout",
     "output_type": "stream",
     "text": [
      "[########################################] | 100% Completed |  1min  0.1s\n"
     ]
    },
    {
     "name": "stderr",
     "output_type": "stream",
     "text": [
      "[15:47:42 - __main__] Saving to file: /path/to/data/MinION_sequencing_data_20190813/guppy_3.2.2_08_13_2019_run_02_exec_20190813/sw/fastq_runid_cbeb224beba4132d960067800238defaeed962bf_2_2.tsv\n",
      "[15:47:42 - __main__] Starting fastq (11 of 307)\n",
      "\t/path/to/data/MinION_sequencing_data_20190813/guppy_3.2.2_08_13_2019_run_02_exec_20190813/pass/fastq_runid_cbeb224beba4132d960067800238defaeed962bf_2_3.fastq\n"
     ]
    },
    {
     "name": "stdout",
     "output_type": "stream",
     "text": [
      "[########################################] | 100% Completed | 49.0s\n"
     ]
    },
    {
     "name": "stderr",
     "output_type": "stream",
     "text": [
      "[15:48:31 - __main__] Saving to file: /path/to/data/MinION_sequencing_data_20190813/guppy_3.2.2_08_13_2019_run_02_exec_20190813/sw/fastq_runid_cbeb224beba4132d960067800238defaeed962bf_2_3.tsv\n",
      "[15:48:32 - __main__] Starting fastq (12 of 307)\n",
      "\t/path/to/data/MinION_sequencing_data_20190813/guppy_3.2.2_08_13_2019_run_02_exec_20190813/pass/fastq_runid_cbeb224beba4132d960067800238defaeed962bf_3_0.fastq\n"
     ]
    },
    {
     "name": "stdout",
     "output_type": "stream",
     "text": [
      "[########################################] | 100% Completed |  1min  2.6s\n"
     ]
    },
    {
     "name": "stderr",
     "output_type": "stream",
     "text": [
      "[15:49:35 - __main__] Saving to file: /path/to/data/MinION_sequencing_data_20190813/guppy_3.2.2_08_13_2019_run_02_exec_20190813/sw/fastq_runid_cbeb224beba4132d960067800238defaeed962bf_3_0.tsv\n",
      "[15:49:35 - __main__] Starting fastq (13 of 307)\n",
      "\t/path/to/data/MinION_sequencing_data_20190813/guppy_3.2.2_08_13_2019_run_02_exec_20190813/pass/fastq_runid_cbeb224beba4132d960067800238defaeed962bf_3_1.fastq\n"
     ]
    },
    {
     "name": "stdout",
     "output_type": "stream",
     "text": [
      "[########################################] | 100% Completed |  1min  3.0s\n"
     ]
    },
    {
     "name": "stderr",
     "output_type": "stream",
     "text": [
      "[15:50:38 - __main__] Saving to file: /path/to/data/MinION_sequencing_data_20190813/guppy_3.2.2_08_13_2019_run_02_exec_20190813/sw/fastq_runid_cbeb224beba4132d960067800238defaeed962bf_3_1.tsv\n",
      "[15:50:38 - __main__] Starting fastq (14 of 307)\n",
      "\t/path/to/data/MinION_sequencing_data_20190813/guppy_3.2.2_08_13_2019_run_02_exec_20190813/pass/fastq_runid_cbeb224beba4132d960067800238defaeed962bf_3_2.fastq\n"
     ]
    },
    {
     "name": "stdout",
     "output_type": "stream",
     "text": [
      "[########################################] | 100% Completed | 25.5s\n"
     ]
    },
    {
     "name": "stderr",
     "output_type": "stream",
     "text": [
      "[15:51:04 - __main__] Saving to file: /path/to/data/MinION_sequencing_data_20190813/guppy_3.2.2_08_13_2019_run_02_exec_20190813/sw/fastq_runid_cbeb224beba4132d960067800238defaeed962bf_3_2.tsv\n",
      "[15:51:04 - __main__] Starting fastq (15 of 307)\n",
      "\t/path/to/data/MinION_sequencing_data_20190813/guppy_3.2.2_08_13_2019_run_02_exec_20190813/pass/fastq_runid_cbeb224beba4132d960067800238defaeed962bf_3_3.fastq\n"
     ]
    },
    {
     "name": "stdout",
     "output_type": "stream",
     "text": [
      "[########################################] | 100% Completed |  1min 24.4s\n"
     ]
    },
    {
     "name": "stderr",
     "output_type": "stream",
     "text": [
      "[15:52:29 - __main__] Saving to file: /path/to/data/MinION_sequencing_data_20190813/guppy_3.2.2_08_13_2019_run_02_exec_20190813/sw/fastq_runid_cbeb224beba4132d960067800238defaeed962bf_3_3.tsv\n",
      "[15:52:29 - __main__] Starting fastq (16 of 307)\n",
      "\t/path/to/data/MinION_sequencing_data_20190813/guppy_3.2.2_08_13_2019_run_02_exec_20190813/pass/fastq_runid_cbeb224beba4132d960067800238defaeed962bf_4_0.fastq\n"
     ]
    },
    {
     "name": "stdout",
     "output_type": "stream",
     "text": [
      "[########################################] | 100% Completed | 41.3s12.9s\n"
     ]
    },
    {
     "name": "stderr",
     "output_type": "stream",
     "text": [
      "[15:55:05 - __main__] Saving to file: /path/to/data/MinION_sequencing_data_20190813/guppy_3.2.2_08_13_2019_run_02_exec_20190813/sw/fastq_runid_cbeb224beba4132d960067800238defaeed962bf_4_1.tsv\n",
      "[15:55:05 - __main__] Starting fastq (18 of 307)\n",
      "\t/path/to/data/MinION_sequencing_data_20190813/guppy_3.2.2_08_13_2019_run_02_exec_20190813/pass/fastq_runid_cbeb224beba4132d960067800238defaeed962bf_4_2.fastq\n"
     ]
    },
    {
     "name": "stdout",
     "output_type": "stream",
     "text": [
      "[########################################] | 100% Completed | 58.8s\n"
     ]
    },
    {
     "name": "stderr",
     "output_type": "stream",
     "text": [
      "[15:56:04 - __main__] Saving to file: /path/to/data/MinION_sequencing_data_20190813/guppy_3.2.2_08_13_2019_run_02_exec_20190813/sw/fastq_runid_cbeb224beba4132d960067800238defaeed962bf_4_2.tsv\n",
      "[15:56:05 - __main__] Starting fastq (19 of 307)\n",
      "\t/path/to/data/MinION_sequencing_data_20190813/guppy_3.2.2_08_13_2019_run_02_exec_20190813/pass/fastq_runid_cbeb224beba4132d960067800238defaeed962bf_4_3.fastq\n"
     ]
    },
    {
     "name": "stdout",
     "output_type": "stream",
     "text": [
      "[########################################] | 100% Completed | 29.1s\n"
     ]
    },
    {
     "name": "stderr",
     "output_type": "stream",
     "text": [
      "[15:56:34 - __main__] Saving to file: /path/to/data/MinION_sequencing_data_20190813/guppy_3.2.2_08_13_2019_run_02_exec_20190813/sw/fastq_runid_cbeb224beba4132d960067800238defaeed962bf_4_3.tsv\n",
      "[15:56:34 - __main__] Starting fastq (20 of 307)\n",
      "\t/path/to/data/MinION_sequencing_data_20190813/guppy_3.2.2_08_13_2019_run_02_exec_20190813/pass/fastq_runid_cbeb224beba4132d960067800238defaeed962bf_5_0.fastq\n"
     ]
    },
    {
     "name": "stdout",
     "output_type": "stream",
     "text": [
      "[########################################] | 100% Completed | 35.0s\n"
     ]
    },
    {
     "name": "stderr",
     "output_type": "stream",
     "text": [
      "[15:57:10 - __main__] Saving to file: /path/to/data/MinION_sequencing_data_20190813/guppy_3.2.2_08_13_2019_run_02_exec_20190813/sw/fastq_runid_cbeb224beba4132d960067800238defaeed962bf_5_0.tsv\n",
      "[15:57:10 - __main__] Starting fastq (21 of 307)\n",
      "\t/path/to/data/MinION_sequencing_data_20190813/guppy_3.2.2_08_13_2019_run_02_exec_20190813/pass/fastq_runid_cbeb224beba4132d960067800238defaeed962bf_5_1.fastq\n"
     ]
    },
    {
     "name": "stdout",
     "output_type": "stream",
     "text": [
      "[########################################] | 100% Completed |  1min  6.8s\n"
     ]
    },
    {
     "name": "stderr",
     "output_type": "stream",
     "text": [
      "[15:58:17 - __main__] Saving to file: /path/to/data/MinION_sequencing_data_20190813/guppy_3.2.2_08_13_2019_run_02_exec_20190813/sw/fastq_runid_cbeb224beba4132d960067800238defaeed962bf_5_1.tsv\n",
      "[15:58:17 - __main__] Starting fastq (22 of 307)\n",
      "\t/path/to/data/MinION_sequencing_data_20190813/guppy_3.2.2_08_13_2019_run_02_exec_20190813/pass/fastq_runid_cbeb224beba4132d960067800238defaeed962bf_5_2.fastq\n"
     ]
    },
    {
     "name": "stdout",
     "output_type": "stream",
     "text": [
      "[########################################] | 100% Completed |  1min  6.6s\n"
     ]
    },
    {
     "name": "stderr",
     "output_type": "stream",
     "text": [
      "[15:59:24 - __main__] Saving to file: /path/to/data/MinION_sequencing_data_20190813/guppy_3.2.2_08_13_2019_run_02_exec_20190813/sw/fastq_runid_cbeb224beba4132d960067800238defaeed962bf_5_2.tsv\n",
      "[15:59:24 - __main__] Starting fastq (23 of 307)\n",
      "\t/path/to/data/MinION_sequencing_data_20190813/guppy_3.2.2_08_13_2019_run_02_exec_20190813/pass/fastq_runid_cbeb224beba4132d960067800238defaeed962bf_5_3.fastq\n"
     ]
    },
    {
     "name": "stdout",
     "output_type": "stream",
     "text": [
      "[#############################           ] | 72% Completed | 47.0s"
     ]
    },
    {
     "name": "stderr",
     "output_type": "stream",
     "text": [
      "IOPub message rate exceeded.\n",
      "The notebook server will temporarily stop sending output\n",
      "to the client in order to avoid crashing it.\n",
      "To change this limit, set the config variable\n",
      "`--NotebookApp.iopub_msg_rate_limit`.\n",
      "\n",
      "Current values:\n",
      "NotebookApp.iopub_msg_rate_limit=1000.0 (msgs/sec)\n",
      "NotebookApp.rate_limit_window=3.0 (secs)\n",
      "\n"
     ]
    },
    {
     "name": "stdout",
     "output_type": "stream",
     "text": [
      "[########################################] | 100% Completed |  1min  2.3s\n"
     ]
    },
    {
     "name": "stderr",
     "output_type": "stream",
     "text": [
      "[16:09:06 - __main__] Saving to file: /path/to/data/MinION_sequencing_data_20190813/guppy_3.2.2_08_13_2019_run_02_exec_20190813/sw/fastq_runid_cbeb224beba4132d960067800238defaeed962bf_8_0.tsv\n",
      "[16:09:06 - __main__] Starting fastq (32 of 307)\n",
      "\t/path/to/data/MinION_sequencing_data_20190813/guppy_3.2.2_08_13_2019_run_02_exec_20190813/pass/fastq_runid_cbeb224beba4132d960067800238defaeed962bf_7_3.fastq\n"
     ]
    },
    {
     "name": "stdout",
     "output_type": "stream",
     "text": [
      "[########################################] | 100% Completed |  1.4s\n"
     ]
    },
    {
     "name": "stderr",
     "output_type": "stream",
     "text": [
      "[16:09:08 - __main__] Saving to file: /path/to/data/MinION_sequencing_data_20190813/guppy_3.2.2_08_13_2019_run_02_exec_20190813/sw/fastq_runid_cbeb224beba4132d960067800238defaeed962bf_7_3.tsv\n",
      "[16:09:08 - __main__] Starting fastq (33 of 307)\n",
      "\t/path/to/data/MinION_sequencing_data_20190813/guppy_3.2.2_08_13_2019_run_02_exec_20190813/pass/fastq_runid_cbeb224beba4132d960067800238defaeed962bf_8_1.fastq\n"
     ]
    },
    {
     "name": "stdout",
     "output_type": "stream",
     "text": [
      "[########################################] | 100% Completed |  1min 24.1s\n"
     ]
    },
    {
     "name": "stderr",
     "output_type": "stream",
     "text": [
      "[16:10:32 - __main__] Saving to file: /path/to/data/MinION_sequencing_data_20190813/guppy_3.2.2_08_13_2019_run_02_exec_20190813/sw/fastq_runid_cbeb224beba4132d960067800238defaeed962bf_8_1.tsv\n",
      "[16:10:33 - __main__] Starting fastq (34 of 307)\n",
      "\t/path/to/data/MinION_sequencing_data_20190813/guppy_3.2.2_08_13_2019_run_02_exec_20190813/pass/fastq_runid_cbeb224beba4132d960067800238defaeed962bf_8_2.fastq\n"
     ]
    },
    {
     "name": "stdout",
     "output_type": "stream",
     "text": [
      "[########################################] | 100% Completed |  1min 17.9s\n"
     ]
    },
    {
     "name": "stderr",
     "output_type": "stream",
     "text": [
      "[16:11:51 - __main__] Saving to file: /path/to/data/MinION_sequencing_data_20190813/guppy_3.2.2_08_13_2019_run_02_exec_20190813/sw/fastq_runid_cbeb224beba4132d960067800238defaeed962bf_8_2.tsv\n",
      "[16:11:51 - __main__] Starting fastq (35 of 307)\n",
      "\t/path/to/data/MinION_sequencing_data_20190813/guppy_3.2.2_08_13_2019_run_02_exec_20190813/pass/fastq_runid_cbeb224beba4132d960067800238defaeed962bf_9_0.fastq\n"
     ]
    },
    {
     "name": "stdout",
     "output_type": "stream",
     "text": [
      "[########################################] | 100% Completed |  1min 28.3s\n"
     ]
    },
    {
     "name": "stderr",
     "output_type": "stream",
     "text": [
      "[16:13:20 - __main__] Saving to file: /path/to/data/MinION_sequencing_data_20190813/guppy_3.2.2_08_13_2019_run_02_exec_20190813/sw/fastq_runid_cbeb224beba4132d960067800238defaeed962bf_9_0.tsv\n",
      "[16:13:20 - __main__] Starting fastq (36 of 307)\n",
      "\t/path/to/data/MinION_sequencing_data_20190813/guppy_3.2.2_08_13_2019_run_02_exec_20190813/pass/fastq_runid_cbeb224beba4132d960067800238defaeed962bf_8_3.fastq\n"
     ]
    },
    {
     "name": "stdout",
     "output_type": "stream",
     "text": [
      "[########################################] | 100% Completed | 10.5s\n"
     ]
    },
    {
     "name": "stderr",
     "output_type": "stream",
     "text": [
      "[16:13:31 - __main__] Saving to file: /path/to/data/MinION_sequencing_data_20190813/guppy_3.2.2_08_13_2019_run_02_exec_20190813/sw/fastq_runid_cbeb224beba4132d960067800238defaeed962bf_8_3.tsv\n",
      "[16:13:31 - __main__] Starting fastq (37 of 307)\n",
      "\t/path/to/data/MinION_sequencing_data_20190813/guppy_3.2.2_08_13_2019_run_02_exec_20190813/pass/fastq_runid_cbeb224beba4132d960067800238defaeed962bf_9_1.fastq\n"
     ]
    },
    {
     "name": "stdout",
     "output_type": "stream",
     "text": [
      "[###############                         ] | 39% Completed | 29.9s"
     ]
    },
    {
     "name": "stderr",
     "output_type": "stream",
     "text": [
      "IOPub message rate exceeded.\n",
      "The notebook server will temporarily stop sending output\n",
      "to the client in order to avoid crashing it.\n",
      "To change this limit, set the config variable\n",
      "`--NotebookApp.iopub_msg_rate_limit`.\n",
      "\n",
      "Current values:\n",
      "NotebookApp.iopub_msg_rate_limit=1000.0 (msgs/sec)\n",
      "NotebookApp.rate_limit_window=3.0 (secs)\n",
      "\n"
     ]
    },
    {
     "name": "stdout",
     "output_type": "stream",
     "text": [
      "[########################################] | 100% Completed |  2min  3.7s\n"
     ]
    },
    {
     "name": "stderr",
     "output_type": "stream",
     "text": [
      "[16:25:13 - __main__] Saving to file: /path/to/data/MinION_sequencing_data_20190813/guppy_3.2.2_08_13_2019_run_02_exec_20190813/sw/fastq_runid_cbeb224beba4132d960067800238defaeed962bf_12_0.tsv\n",
      "[16:25:13 - __main__] Starting fastq (48 of 307)\n",
      "\t/path/to/data/MinION_sequencing_data_20190813/guppy_3.2.2_08_13_2019_run_02_exec_20190813/pass/fastq_runid_cbeb224beba4132d960067800238defaeed962bf_12_1.fastq\n"
     ]
    },
    {
     "name": "stdout",
     "output_type": "stream",
     "text": [
      "[########################################] | 100% Completed |  1min  9.3s\n"
     ]
    },
    {
     "name": "stderr",
     "output_type": "stream",
     "text": [
      "[16:26:23 - __main__] Saving to file: /path/to/data/MinION_sequencing_data_20190813/guppy_3.2.2_08_13_2019_run_02_exec_20190813/sw/fastq_runid_cbeb224beba4132d960067800238defaeed962bf_12_1.tsv\n",
      "[16:26:23 - __main__] Starting fastq (49 of 307)\n",
      "\t/path/to/data/MinION_sequencing_data_20190813/guppy_3.2.2_08_13_2019_run_02_exec_20190813/pass/fastq_runid_cbeb224beba4132d960067800238defaeed962bf_12_2.fastq\n"
     ]
    },
    {
     "name": "stdout",
     "output_type": "stream",
     "text": [
      "[########################################] | 100% Completed | 43.5s\n"
     ]
    },
    {
     "name": "stderr",
     "output_type": "stream",
     "text": [
      "[16:27:07 - __main__] Saving to file: /path/to/data/MinION_sequencing_data_20190813/guppy_3.2.2_08_13_2019_run_02_exec_20190813/sw/fastq_runid_cbeb224beba4132d960067800238defaeed962bf_12_2.tsv\n",
      "[16:27:07 - __main__] Starting fastq (50 of 307)\n",
      "\t/path/to/data/MinION_sequencing_data_20190813/guppy_3.2.2_08_13_2019_run_02_exec_20190813/pass/fastq_runid_cbeb224beba4132d960067800238defaeed962bf_11_3.fastq\n"
     ]
    },
    {
     "name": "stdout",
     "output_type": "stream",
     "text": [
      "[########################################] | 100% Completed | 33.4s\n"
     ]
    },
    {
     "name": "stderr",
     "output_type": "stream",
     "text": [
      "[16:27:41 - __main__] Saving to file: /path/to/data/MinION_sequencing_data_20190813/guppy_3.2.2_08_13_2019_run_02_exec_20190813/sw/fastq_runid_cbeb224beba4132d960067800238defaeed962bf_11_3.tsv\n",
      "[16:27:41 - __main__] Starting fastq (51 of 307)\n",
      "\t/path/to/data/MinION_sequencing_data_20190813/guppy_3.2.2_08_13_2019_run_02_exec_20190813/pass/fastq_runid_cbeb224beba4132d960067800238defaeed962bf_12_3.fastq\n"
     ]
    },
    {
     "name": "stdout",
     "output_type": "stream",
     "text": [
      "[########################################] | 100% Completed |  1.8s\n"
     ]
    },
    {
     "name": "stderr",
     "output_type": "stream",
     "text": [
      "[16:27:43 - __main__] Saving to file: /path/to/data/MinION_sequencing_data_20190813/guppy_3.2.2_08_13_2019_run_02_exec_20190813/sw/fastq_runid_cbeb224beba4132d960067800238defaeed962bf_12_3.tsv\n",
      "[16:27:43 - __main__] Starting fastq (52 of 307)\n",
      "\t/path/to/data/MinION_sequencing_data_20190813/guppy_3.2.2_08_13_2019_run_02_exec_20190813/pass/fastq_runid_cbeb224beba4132d960067800238defaeed962bf_13_0.fastq\n"
     ]
    },
    {
     "name": "stdout",
     "output_type": "stream",
     "text": [
      "[######################                  ] | 56% Completed |  1min 20.6s"
     ]
    },
    {
     "name": "stderr",
     "output_type": "stream",
     "text": [
      "IOPub message rate exceeded.\n",
      "The notebook server will temporarily stop sending output\n",
      "to the client in order to avoid crashing it.\n",
      "To change this limit, set the config variable\n",
      "`--NotebookApp.iopub_msg_rate_limit`.\n",
      "\n",
      "Current values:\n",
      "NotebookApp.iopub_msg_rate_limit=1000.0 (msgs/sec)\n",
      "NotebookApp.rate_limit_window=3.0 (secs)\n",
      "\n"
     ]
    },
    {
     "name": "stdout",
     "output_type": "stream",
     "text": [
      "[########################################] | 100% Completed | 34.0s\n"
     ]
    },
    {
     "name": "stderr",
     "output_type": "stream",
     "text": [
      "[16:39:15 - __main__] Saving to file: /path/to/data/MinION_sequencing_data_20190813/guppy_3.2.2_08_13_2019_run_02_exec_20190813/sw/fastq_runid_cbeb224beba4132d960067800238defaeed962bf_15_2.tsv\n",
      "[16:39:15 - __main__] Starting fastq (63 of 307)\n",
      "\t/path/to/data/MinION_sequencing_data_20190813/guppy_3.2.2_08_13_2019_run_02_exec_20190813/pass/fastq_runid_cbeb224beba4132d960067800238defaeed962bf_16_0.fastq\n"
     ]
    },
    {
     "name": "stdout",
     "output_type": "stream",
     "text": [
      "[########################################] | 100% Completed |  1min 22.4s\n"
     ]
    },
    {
     "name": "stderr",
     "output_type": "stream",
     "text": [
      "[16:40:38 - __main__] Saving to file: /path/to/data/MinION_sequencing_data_20190813/guppy_3.2.2_08_13_2019_run_02_exec_20190813/sw/fastq_runid_cbeb224beba4132d960067800238defaeed962bf_16_0.tsv\n",
      "[16:40:38 - __main__] Starting fastq (64 of 307)\n",
      "\t/path/to/data/MinION_sequencing_data_20190813/guppy_3.2.2_08_13_2019_run_02_exec_20190813/pass/fastq_runid_cbeb224beba4132d960067800238defaeed962bf_16_1.fastq\n"
     ]
    },
    {
     "name": "stdout",
     "output_type": "stream",
     "text": [
      "[########################################] | 100% Completed |  1min 38.4s\n"
     ]
    },
    {
     "name": "stderr",
     "output_type": "stream",
     "text": [
      "[16:42:17 - __main__] Saving to file: /path/to/data/MinION_sequencing_data_20190813/guppy_3.2.2_08_13_2019_run_02_exec_20190813/sw/fastq_runid_cbeb224beba4132d960067800238defaeed962bf_16_1.tsv\n",
      "[16:42:17 - __main__] Starting fastq (65 of 307)\n",
      "\t/path/to/data/MinION_sequencing_data_20190813/guppy_3.2.2_08_13_2019_run_02_exec_20190813/pass/fastq_runid_cbeb224beba4132d960067800238defaeed962bf_15_3.fastq\n"
     ]
    },
    {
     "name": "stdout",
     "output_type": "stream",
     "text": [
      "[########################################] | 100% Completed | 53.6s\n"
     ]
    },
    {
     "name": "stderr",
     "output_type": "stream",
     "text": [
      "[16:43:11 - __main__] Saving to file: /path/to/data/MinION_sequencing_data_20190813/guppy_3.2.2_08_13_2019_run_02_exec_20190813/sw/fastq_runid_cbeb224beba4132d960067800238defaeed962bf_15_3.tsv\n",
      "[16:43:11 - __main__] Starting fastq (66 of 307)\n",
      "\t/path/to/data/MinION_sequencing_data_20190813/guppy_3.2.2_08_13_2019_run_02_exec_20190813/pass/fastq_runid_cbeb224beba4132d960067800238defaeed962bf_16_2.fastq\n"
     ]
    },
    {
     "name": "stdout",
     "output_type": "stream",
     "text": [
      "[###############                         ] | 38% Completed | 43.0s"
     ]
    },
    {
     "name": "stderr",
     "output_type": "stream",
     "text": [
      "IOPub message rate exceeded.\n",
      "The notebook server will temporarily stop sending output\n",
      "to the client in order to avoid crashing it.\n",
      "To change this limit, set the config variable\n",
      "`--NotebookApp.iopub_msg_rate_limit`.\n",
      "\n",
      "Current values:\n",
      "NotebookApp.iopub_msg_rate_limit=1000.0 (msgs/sec)\n",
      "NotebookApp.rate_limit_window=3.0 (secs)\n",
      "\n"
     ]
    },
    {
     "name": "stdout",
     "output_type": "stream",
     "text": [
      "[########################################] | 100% Completed |  1min  2.1s\n"
     ]
    },
    {
     "name": "stderr",
     "output_type": "stream",
     "text": [
      "[16:53:39 - __main__] Saving to file: /path/to/data/MinION_sequencing_data_20190813/guppy_3.2.2_08_13_2019_run_02_exec_20190813/sw/fastq_runid_cbeb224beba4132d960067800238defaeed962bf_19_0.tsv\n",
      "[16:53:39 - __main__] Starting fastq (77 of 307)\n",
      "\t/path/to/data/MinION_sequencing_data_20190813/guppy_3.2.2_08_13_2019_run_02_exec_20190813/pass/fastq_runid_cbeb224beba4132d960067800238defaeed962bf_19_1.fastq\n"
     ]
    },
    {
     "name": "stdout",
     "output_type": "stream",
     "text": [
      "[########################################] | 100% Completed |  1min 14.5s\n"
     ]
    },
    {
     "name": "stderr",
     "output_type": "stream",
     "text": [
      "[16:54:54 - __main__] Saving to file: /path/to/data/MinION_sequencing_data_20190813/guppy_3.2.2_08_13_2019_run_02_exec_20190813/sw/fastq_runid_cbeb224beba4132d960067800238defaeed962bf_19_1.tsv\n",
      "[16:54:54 - __main__] Starting fastq (78 of 307)\n",
      "\t/path/to/data/MinION_sequencing_data_20190813/guppy_3.2.2_08_13_2019_run_02_exec_20190813/pass/fastq_runid_cbeb224beba4132d960067800238defaeed962bf_19_2.fastq\n"
     ]
    },
    {
     "name": "stdout",
     "output_type": "stream",
     "text": [
      "[########################################] | 100% Completed | 52.4s\n"
     ]
    },
    {
     "name": "stderr",
     "output_type": "stream",
     "text": [
      "[16:55:47 - __main__] Saving to file: /path/to/data/MinION_sequencing_data_20190813/guppy_3.2.2_08_13_2019_run_02_exec_20190813/sw/fastq_runid_cbeb224beba4132d960067800238defaeed962bf_19_2.tsv\n",
      "[16:55:47 - __main__] Starting fastq (79 of 307)\n",
      "\t/path/to/data/MinION_sequencing_data_20190813/guppy_3.2.2_08_13_2019_run_02_exec_20190813/pass/fastq_runid_cbeb224beba4132d960067800238defaeed962bf_19_3.fastq\n"
     ]
    },
    {
     "name": "stdout",
     "output_type": "stream",
     "text": [
      "[########################################] | 100% Completed |  1min  7.1s\n"
     ]
    },
    {
     "name": "stderr",
     "output_type": "stream",
     "text": [
      "[16:56:55 - __main__] Saving to file: /path/to/data/MinION_sequencing_data_20190813/guppy_3.2.2_08_13_2019_run_02_exec_20190813/sw/fastq_runid_cbeb224beba4132d960067800238defaeed962bf_19_3.tsv\n",
      "[16:56:55 - __main__] Starting fastq (80 of 307)\n",
      "\t/path/to/data/MinION_sequencing_data_20190813/guppy_3.2.2_08_13_2019_run_02_exec_20190813/pass/fastq_runid_cbeb224beba4132d960067800238defaeed962bf_20_0.fastq\n"
     ]
    },
    {
     "name": "stdout",
     "output_type": "stream",
     "text": [
      "[########################################] | 100% Completed | 50.1s\n"
     ]
    },
    {
     "name": "stderr",
     "output_type": "stream",
     "text": [
      "[16:57:45 - __main__] Saving to file: /path/to/data/MinION_sequencing_data_20190813/guppy_3.2.2_08_13_2019_run_02_exec_20190813/sw/fastq_runid_cbeb224beba4132d960067800238defaeed962bf_20_0.tsv\n",
      "[16:57:45 - __main__] Starting fastq (81 of 307)\n",
      "\t/path/to/data/MinION_sequencing_data_20190813/guppy_3.2.2_08_13_2019_run_02_exec_20190813/pass/fastq_runid_cbeb224beba4132d960067800238defaeed962bf_20_1.fastq\n"
     ]
    },
    {
     "name": "stdout",
     "output_type": "stream",
     "text": [
      "[#####################                   ] | 54% Completed | 57.2s"
     ]
    },
    {
     "name": "stderr",
     "output_type": "stream",
     "text": [
      "IOPub message rate exceeded.\n",
      "The notebook server will temporarily stop sending output\n",
      "to the client in order to avoid crashing it.\n",
      "To change this limit, set the config variable\n",
      "`--NotebookApp.iopub_msg_rate_limit`.\n",
      "\n",
      "Current values:\n",
      "NotebookApp.iopub_msg_rate_limit=1000.0 (msgs/sec)\n",
      "NotebookApp.rate_limit_window=3.0 (secs)\n",
      "\n"
     ]
    },
    {
     "name": "stdout",
     "output_type": "stream",
     "text": [
      "[########################################] | 100% Completed |  1min 57.9s\n"
     ]
    },
    {
     "name": "stderr",
     "output_type": "stream",
     "text": [
      "[17:09:48 - __main__] Saving to file: /path/to/data/MinION_sequencing_data_20190813/guppy_3.2.2_08_13_2019_run_02_exec_20190813/sw/fastq_runid_cbeb224beba4132d960067800238defaeed962bf_23_0.tsv\n",
      "[17:09:49 - __main__] Starting fastq (91 of 307)\n",
      "\t/path/to/data/MinION_sequencing_data_20190813/guppy_3.2.2_08_13_2019_run_02_exec_20190813/pass/fastq_runid_cbeb224beba4132d960067800238defaeed962bf_22_2.fastq\n"
     ]
    },
    {
     "name": "stdout",
     "output_type": "stream",
     "text": [
      "[########################################] | 100% Completed |  1min 23.8s\n"
     ]
    },
    {
     "name": "stderr",
     "output_type": "stream",
     "text": [
      "[17:11:13 - __main__] Saving to file: /path/to/data/MinION_sequencing_data_20190813/guppy_3.2.2_08_13_2019_run_02_exec_20190813/sw/fastq_runid_cbeb224beba4132d960067800238defaeed962bf_22_2.tsv\n",
      "[17:11:13 - __main__] Starting fastq (92 of 307)\n",
      "\t/path/to/data/MinION_sequencing_data_20190813/guppy_3.2.2_08_13_2019_run_02_exec_20190813/pass/fastq_runid_cbeb224beba4132d960067800238defaeed962bf_22_3.fastq\n"
     ]
    },
    {
     "name": "stdout",
     "output_type": "stream",
     "text": [
      "[########################################] | 100% Completed |  2.2s\n"
     ]
    },
    {
     "name": "stderr",
     "output_type": "stream",
     "text": [
      "[17:11:15 - __main__] Saving to file: /path/to/data/MinION_sequencing_data_20190813/guppy_3.2.2_08_13_2019_run_02_exec_20190813/sw/fastq_runid_cbeb224beba4132d960067800238defaeed962bf_22_3.tsv\n",
      "[17:11:15 - __main__] Starting fastq (93 of 307)\n",
      "\t/path/to/data/MinION_sequencing_data_20190813/guppy_3.2.2_08_13_2019_run_02_exec_20190813/pass/fastq_runid_cbeb224beba4132d960067800238defaeed962bf_23_1.fastq\n"
     ]
    },
    {
     "name": "stdout",
     "output_type": "stream",
     "text": [
      "[########################################] | 100% Completed |  1min 50.8s\n"
     ]
    },
    {
     "name": "stderr",
     "output_type": "stream",
     "text": [
      "[17:13:07 - __main__] Saving to file: /path/to/data/MinION_sequencing_data_20190813/guppy_3.2.2_08_13_2019_run_02_exec_20190813/sw/fastq_runid_cbeb224beba4132d960067800238defaeed962bf_23_1.tsv\n",
      "[17:13:07 - __main__] Starting fastq (94 of 307)\n",
      "\t/path/to/data/MinION_sequencing_data_20190813/guppy_3.2.2_08_13_2019_run_02_exec_20190813/pass/fastq_runid_cbeb224beba4132d960067800238defaeed962bf_23_2.fastq\n"
     ]
    },
    {
     "name": "stdout",
     "output_type": "stream",
     "text": [
      "[########################################] | 100% Completed |  8.2s\n"
     ]
    },
    {
     "name": "stderr",
     "output_type": "stream",
     "text": [
      "[17:13:15 - __main__] Saving to file: /path/to/data/MinION_sequencing_data_20190813/guppy_3.2.2_08_13_2019_run_02_exec_20190813/sw/fastq_runid_cbeb224beba4132d960067800238defaeed962bf_23_2.tsv\n",
      "[17:13:15 - __main__] Starting fastq (95 of 307)\n",
      "\t/path/to/data/MinION_sequencing_data_20190813/guppy_3.2.2_08_13_2019_run_02_exec_20190813/pass/fastq_runid_cbeb224beba4132d960067800238defaeed962bf_24_0.fastq\n"
     ]
    },
    {
     "name": "stdout",
     "output_type": "stream",
     "text": [
      "[################################        ] | 81% Completed |  1min 23.8s"
     ]
    },
    {
     "name": "stderr",
     "output_type": "stream",
     "text": [
      "IOPub message rate exceeded.\n",
      "The notebook server will temporarily stop sending output\n",
      "to the client in order to avoid crashing it.\n",
      "To change this limit, set the config variable\n",
      "`--NotebookApp.iopub_msg_rate_limit`.\n",
      "\n",
      "Current values:\n",
      "NotebookApp.iopub_msg_rate_limit=1000.0 (msgs/sec)\n",
      "NotebookApp.rate_limit_window=3.0 (secs)\n",
      "\n"
     ]
    },
    {
     "name": "stdout",
     "output_type": "stream",
     "text": [
      "[########################################] | 100% Completed |  2min  1.6s\n"
     ]
    },
    {
     "name": "stderr",
     "output_type": "stream",
     "text": [
      "[17:27:26 - __main__] Saving to file: /path/to/data/MinION_sequencing_data_20190813/guppy_3.2.2_08_13_2019_run_02_exec_20190813/sw/fastq_runid_cbeb224beba4132d960067800238defaeed962bf_27_0.tsv\n",
      "[17:27:26 - __main__] Starting fastq (108 of 307)\n",
      "\t/path/to/data/MinION_sequencing_data_20190813/guppy_3.2.2_08_13_2019_run_02_exec_20190813/pass/fastq_runid_cbeb224beba4132d960067800238defaeed962bf_27_1.fastq\n"
     ]
    },
    {
     "name": "stdout",
     "output_type": "stream",
     "text": [
      "[########################################] | 100% Completed |  1min 19.6s\n"
     ]
    },
    {
     "name": "stderr",
     "output_type": "stream",
     "text": [
      "[17:28:46 - __main__] Saving to file: /path/to/data/MinION_sequencing_data_20190813/guppy_3.2.2_08_13_2019_run_02_exec_20190813/sw/fastq_runid_cbeb224beba4132d960067800238defaeed962bf_27_1.tsv\n",
      "[17:28:46 - __main__] Starting fastq (109 of 307)\n",
      "\t/path/to/data/MinION_sequencing_data_20190813/guppy_3.2.2_08_13_2019_run_02_exec_20190813/pass/fastq_runid_cbeb224beba4132d960067800238defaeed962bf_26_3.fastq\n"
     ]
    },
    {
     "name": "stdout",
     "output_type": "stream",
     "text": [
      "[########################################] | 100% Completed |  2.0s\n"
     ]
    },
    {
     "name": "stderr",
     "output_type": "stream",
     "text": [
      "[17:28:49 - __main__] Saving to file: /path/to/data/MinION_sequencing_data_20190813/guppy_3.2.2_08_13_2019_run_02_exec_20190813/sw/fastq_runid_cbeb224beba4132d960067800238defaeed962bf_26_3.tsv\n",
      "[17:28:49 - __main__] Starting fastq (110 of 307)\n",
      "\t/path/to/data/MinION_sequencing_data_20190813/guppy_3.2.2_08_13_2019_run_02_exec_20190813/pass/fastq_runid_cbeb224beba4132d960067800238defaeed962bf_27_2.fastq\n"
     ]
    },
    {
     "name": "stdout",
     "output_type": "stream",
     "text": [
      "[########################################] | 100% Completed | 45.0s\n"
     ]
    },
    {
     "name": "stderr",
     "output_type": "stream",
     "text": [
      "[17:29:34 - __main__] Saving to file: /path/to/data/MinION_sequencing_data_20190813/guppy_3.2.2_08_13_2019_run_02_exec_20190813/sw/fastq_runid_cbeb224beba4132d960067800238defaeed962bf_27_2.tsv\n",
      "[17:29:34 - __main__] Starting fastq (111 of 307)\n",
      "\t/path/to/data/MinION_sequencing_data_20190813/guppy_3.2.2_08_13_2019_run_02_exec_20190813/pass/fastq_runid_cbeb224beba4132d960067800238defaeed962bf_28_0.fastq\n"
     ]
    },
    {
     "name": "stdout",
     "output_type": "stream",
     "text": [
      "[##############################          ] | 75% Completed |  1min  8.5s"
     ]
    },
    {
     "name": "stderr",
     "output_type": "stream",
     "text": [
      "IOPub message rate exceeded.\n",
      "The notebook server will temporarily stop sending output\n",
      "to the client in order to avoid crashing it.\n",
      "To change this limit, set the config variable\n",
      "`--NotebookApp.iopub_msg_rate_limit`.\n",
      "\n",
      "Current values:\n",
      "NotebookApp.iopub_msg_rate_limit=1000.0 (msgs/sec)\n",
      "NotebookApp.rate_limit_window=3.0 (secs)\n",
      "\n"
     ]
    },
    {
     "name": "stdout",
     "output_type": "stream",
     "text": [
      "[########################################] | 100% Completed |  1min  2.9s\n"
     ]
    },
    {
     "name": "stderr",
     "output_type": "stream",
     "text": [
      "[17:41:30 - __main__] Saving to file: /path/to/data/MinION_sequencing_data_20190813/guppy_3.2.2_08_13_2019_run_02_exec_20190813/sw/fastq_runid_cbeb224beba4132d960067800238defaeed962bf_30_3.tsv\n",
      "[17:41:30 - __main__] Starting fastq (124 of 307)\n",
      "\t/path/to/data/MinION_sequencing_data_20190813/guppy_3.2.2_08_13_2019_run_02_exec_20190813/pass/fastq_runid_cbeb224beba4132d960067800238defaeed962bf_31_0.fastq\n"
     ]
    },
    {
     "name": "stdout",
     "output_type": "stream",
     "text": [
      "[########################################] | 100% Completed |  1min 55.0s\n"
     ]
    },
    {
     "name": "stderr",
     "output_type": "stream",
     "text": [
      "[17:43:25 - __main__] Saving to file: /path/to/data/MinION_sequencing_data_20190813/guppy_3.2.2_08_13_2019_run_02_exec_20190813/sw/fastq_runid_cbeb224beba4132d960067800238defaeed962bf_31_0.tsv\n",
      "[17:43:25 - __main__] Starting fastq (125 of 307)\n",
      "\t/path/to/data/MinION_sequencing_data_20190813/guppy_3.2.2_08_13_2019_run_02_exec_20190813/pass/fastq_runid_cbeb224beba4132d960067800238defaeed962bf_31_1.fastq\n"
     ]
    },
    {
     "name": "stdout",
     "output_type": "stream",
     "text": [
      "[########################################] | 100% Completed |  1min  5.1s\n"
     ]
    },
    {
     "name": "stderr",
     "output_type": "stream",
     "text": [
      "[17:44:31 - __main__] Saving to file: /path/to/data/MinION_sequencing_data_20190813/guppy_3.2.2_08_13_2019_run_02_exec_20190813/sw/fastq_runid_cbeb224beba4132d960067800238defaeed962bf_31_1.tsv\n",
      "[17:44:31 - __main__] Starting fastq (126 of 307)\n",
      "\t/path/to/data/MinION_sequencing_data_20190813/guppy_3.2.2_08_13_2019_run_02_exec_20190813/pass/fastq_runid_cbeb224beba4132d960067800238defaeed962bf_31_2.fastq\n"
     ]
    },
    {
     "name": "stdout",
     "output_type": "stream",
     "text": [
      "[########################################] | 100% Completed | 34.7s\n"
     ]
    },
    {
     "name": "stderr",
     "output_type": "stream",
     "text": [
      "[17:45:06 - __main__] Saving to file: /path/to/data/MinION_sequencing_data_20190813/guppy_3.2.2_08_13_2019_run_02_exec_20190813/sw/fastq_runid_cbeb224beba4132d960067800238defaeed962bf_31_2.tsv\n",
      "[17:45:06 - __main__] Starting fastq (127 of 307)\n",
      "\t/path/to/data/MinION_sequencing_data_20190813/guppy_3.2.2_08_13_2019_run_02_exec_20190813/pass/fastq_runid_cbeb224beba4132d960067800238defaeed962bf_31_3.fastq\n"
     ]
    },
    {
     "name": "stdout",
     "output_type": "stream",
     "text": [
      "[########################################] | 100% Completed | 24.2s\n"
     ]
    },
    {
     "name": "stderr",
     "output_type": "stream",
     "text": [
      "[17:45:30 - __main__] Saving to file: /path/to/data/MinION_sequencing_data_20190813/guppy_3.2.2_08_13_2019_run_02_exec_20190813/sw/fastq_runid_cbeb224beba4132d960067800238defaeed962bf_31_3.tsv\n",
      "[17:45:30 - __main__] Starting fastq (128 of 307)\n",
      "\t/path/to/data/MinION_sequencing_data_20190813/guppy_3.2.2_08_13_2019_run_02_exec_20190813/pass/fastq_runid_cbeb224beba4132d960067800238defaeed962bf_32_0.fastq\n"
     ]
    },
    {
     "name": "stdout",
     "output_type": "stream",
     "text": [
      "[                                        ] | 0% Completed | 16.2s"
     ]
    },
    {
     "name": "stderr",
     "output_type": "stream",
     "text": [
      "IOPub message rate exceeded.\n",
      "The notebook server will temporarily stop sending output\n",
      "to the client in order to avoid crashing it.\n",
      "To change this limit, set the config variable\n",
      "`--NotebookApp.iopub_msg_rate_limit`.\n",
      "\n",
      "Current values:\n",
      "NotebookApp.iopub_msg_rate_limit=1000.0 (msgs/sec)\n",
      "NotebookApp.rate_limit_window=3.0 (secs)\n",
      "\n"
     ]
    },
    {
     "name": "stdout",
     "output_type": "stream",
     "text": [
      "[########################################] | 100% Completed |  3min 30.3s\n"
     ]
    },
    {
     "name": "stderr",
     "output_type": "stream",
     "text": [
      "[17:57:54 - __main__] Saving to file: /path/to/data/MinION_sequencing_data_20190813/guppy_3.2.2_08_13_2019_run_02_exec_20190813/sw/fastq_runid_cbeb224beba4132d960067800238defaeed962bf_34_1.tsv\n",
      "[17:57:54 - __main__] Starting fastq (137 of 307)\n",
      "\t/path/to/data/MinION_sequencing_data_20190813/guppy_3.2.2_08_13_2019_run_02_exec_20190813/pass/fastq_runid_cbeb224beba4132d960067800238defaeed962bf_35_0.fastq\n"
     ]
    },
    {
     "name": "stdout",
     "output_type": "stream",
     "text": [
      "[########################################] | 100% Completed |  3min  2.1s\n"
     ]
    },
    {
     "name": "stderr",
     "output_type": "stream",
     "text": [
      "[18:00:57 - __main__] Saving to file: /path/to/data/MinION_sequencing_data_20190813/guppy_3.2.2_08_13_2019_run_02_exec_20190813/sw/fastq_runid_cbeb224beba4132d960067800238defaeed962bf_35_0.tsv\n",
      "[18:00:57 - __main__] Starting fastq (138 of 307)\n",
      "\t/path/to/data/MinION_sequencing_data_20190813/guppy_3.2.2_08_13_2019_run_02_exec_20190813/pass/fastq_runid_cbeb224beba4132d960067800238defaeed962bf_33_3.fastq\n"
     ]
    },
    {
     "name": "stdout",
     "output_type": "stream",
     "text": [
      "[########################################] | 100% Completed |  7.8s\n"
     ]
    },
    {
     "name": "stderr",
     "output_type": "stream",
     "text": [
      "[18:01:05 - __main__] Saving to file: /path/to/data/MinION_sequencing_data_20190813/guppy_3.2.2_08_13_2019_run_02_exec_20190813/sw/fastq_runid_cbeb224beba4132d960067800238defaeed962bf_33_3.tsv\n",
      "[18:01:05 - __main__] Starting fastq (139 of 307)\n",
      "\t/path/to/data/MinION_sequencing_data_20190813/guppy_3.2.2_08_13_2019_run_02_exec_20190813/pass/fastq_runid_cbeb224beba4132d960067800238defaeed962bf_34_2.fastq\n"
     ]
    },
    {
     "name": "stdout",
     "output_type": "stream",
     "text": [
      "[########################################] | 100% Completed |  4.1s\n"
     ]
    },
    {
     "name": "stderr",
     "output_type": "stream",
     "text": [
      "[18:01:09 - __main__] Saving to file: /path/to/data/MinION_sequencing_data_20190813/guppy_3.2.2_08_13_2019_run_02_exec_20190813/sw/fastq_runid_cbeb224beba4132d960067800238defaeed962bf_34_2.tsv\n",
      "[18:01:09 - __main__] Starting fastq (140 of 307)\n",
      "\t/path/to/data/MinION_sequencing_data_20190813/guppy_3.2.2_08_13_2019_run_02_exec_20190813/pass/fastq_runid_cbeb224beba4132d960067800238defaeed962bf_35_1.fastq\n"
     ]
    },
    {
     "name": "stdout",
     "output_type": "stream",
     "text": [
      "[###############                         ] | 38% Completed | 31.9s"
     ]
    },
    {
     "name": "stderr",
     "output_type": "stream",
     "text": [
      "IOPub message rate exceeded.\n",
      "The notebook server will temporarily stop sending output\n",
      "to the client in order to avoid crashing it.\n",
      "To change this limit, set the config variable\n",
      "`--NotebookApp.iopub_msg_rate_limit`.\n",
      "\n",
      "Current values:\n",
      "NotebookApp.iopub_msg_rate_limit=1000.0 (msgs/sec)\n",
      "NotebookApp.rate_limit_window=3.0 (secs)\n",
      "\n"
     ]
    },
    {
     "name": "stdout",
     "output_type": "stream",
     "text": [
      "[########################################] | 100% Completed | 30.7s\n"
     ]
    },
    {
     "name": "stderr",
     "output_type": "stream",
     "text": [
      "[18:12:30 - __main__] Saving to file: /path/to/data/MinION_sequencing_data_20190813/guppy_3.2.2_08_13_2019_run_02_exec_20190813/sw/fastq_runid_cbeb224beba4132d960067800238defaeed962bf_39_3.tsv\n",
      "[18:12:30 - __main__] Starting fastq (160 of 307)\n",
      "\t/path/to/data/MinION_sequencing_data_20190813/guppy_3.2.2_08_13_2019_run_02_exec_20190813/pass/fastq_runid_cbeb224beba4132d960067800238defaeed962bf_40_0.fastq\n"
     ]
    },
    {
     "name": "stdout",
     "output_type": "stream",
     "text": [
      "[########################################] | 100% Completed | 38.3s\n"
     ]
    },
    {
     "name": "stderr",
     "output_type": "stream",
     "text": [
      "[18:13:08 - __main__] Saving to file: /path/to/data/MinION_sequencing_data_20190813/guppy_3.2.2_08_13_2019_run_02_exec_20190813/sw/fastq_runid_cbeb224beba4132d960067800238defaeed962bf_40_0.tsv\n",
      "[18:13:08 - __main__] Starting fastq (161 of 307)\n",
      "\t/path/to/data/MinION_sequencing_data_20190813/guppy_3.2.2_08_13_2019_run_02_exec_20190813/pass/fastq_runid_cbeb224beba4132d960067800238defaeed962bf_40_1.fastq\n"
     ]
    },
    {
     "name": "stdout",
     "output_type": "stream",
     "text": [
      "[########################################] | 100% Completed | 43.6s\n"
     ]
    },
    {
     "name": "stderr",
     "output_type": "stream",
     "text": [
      "[18:13:52 - __main__] Saving to file: /path/to/data/MinION_sequencing_data_20190813/guppy_3.2.2_08_13_2019_run_02_exec_20190813/sw/fastq_runid_cbeb224beba4132d960067800238defaeed962bf_40_1.tsv\n",
      "[18:13:52 - __main__] Starting fastq (162 of 307)\n",
      "\t/path/to/data/MinION_sequencing_data_20190813/guppy_3.2.2_08_13_2019_run_02_exec_20190813/pass/fastq_runid_cbeb224beba4132d960067800238defaeed962bf_40_2.fastq\n"
     ]
    },
    {
     "name": "stdout",
     "output_type": "stream",
     "text": [
      "[########################################] | 100% Completed | 37.3s\n"
     ]
    },
    {
     "name": "stderr",
     "output_type": "stream",
     "text": [
      "[18:14:30 - __main__] Saving to file: /path/to/data/MinION_sequencing_data_20190813/guppy_3.2.2_08_13_2019_run_02_exec_20190813/sw/fastq_runid_cbeb224beba4132d960067800238defaeed962bf_40_2.tsv\n",
      "[18:14:30 - __main__] Starting fastq (163 of 307)\n",
      "\t/path/to/data/MinION_sequencing_data_20190813/guppy_3.2.2_08_13_2019_run_02_exec_20190813/pass/fastq_runid_cbeb224beba4132d960067800238defaeed962bf_40_3.fastq\n"
     ]
    },
    {
     "name": "stdout",
     "output_type": "stream",
     "text": [
      "[########################################] | 100% Completed | 11.1s\n"
     ]
    },
    {
     "name": "stderr",
     "output_type": "stream",
     "text": [
      "[18:14:41 - __main__] Saving to file: /path/to/data/MinION_sequencing_data_20190813/guppy_3.2.2_08_13_2019_run_02_exec_20190813/sw/fastq_runid_cbeb224beba4132d960067800238defaeed962bf_40_3.tsv\n",
      "[18:14:41 - __main__] Starting fastq (164 of 307)\n",
      "\t/path/to/data/MinION_sequencing_data_20190813/guppy_3.2.2_08_13_2019_run_02_exec_20190813/pass/fastq_runid_cbeb224beba4132d960067800238defaeed962bf_41_0.fastq\n"
     ]
    },
    {
     "name": "stdout",
     "output_type": "stream",
     "text": [
      "[########################################] | 100% Completed | 34.3s\n"
     ]
    },
    {
     "name": "stderr",
     "output_type": "stream",
     "text": [
      "[18:15:16 - __main__] Saving to file: /path/to/data/MinION_sequencing_data_20190813/guppy_3.2.2_08_13_2019_run_02_exec_20190813/sw/fastq_runid_cbeb224beba4132d960067800238defaeed962bf_41_0.tsv\n",
      "[18:15:16 - __main__] Starting fastq (165 of 307)\n",
      "\t/path/to/data/MinION_sequencing_data_20190813/guppy_3.2.2_08_13_2019_run_02_exec_20190813/pass/fastq_runid_cbeb224beba4132d960067800238defaeed962bf_41_1.fastq\n"
     ]
    },
    {
     "name": "stdout",
     "output_type": "stream",
     "text": [
      "[########################################] | 100% Completed | 43.1s\n"
     ]
    },
    {
     "name": "stderr",
     "output_type": "stream",
     "text": [
      "[18:15:59 - __main__] Saving to file: /path/to/data/MinION_sequencing_data_20190813/guppy_3.2.2_08_13_2019_run_02_exec_20190813/sw/fastq_runid_cbeb224beba4132d960067800238defaeed962bf_41_1.tsv\n",
      "[18:15:59 - __main__] Starting fastq (166 of 307)\n",
      "\t/path/to/data/MinION_sequencing_data_20190813/guppy_3.2.2_08_13_2019_run_02_exec_20190813/pass/fastq_runid_cbeb224beba4132d960067800238defaeed962bf_41_2.fastq\n"
     ]
    },
    {
     "name": "stdout",
     "output_type": "stream",
     "text": [
      "[########################################] | 100% Completed | 11.7s\n"
     ]
    },
    {
     "name": "stderr",
     "output_type": "stream",
     "text": [
      "[18:16:11 - __main__] Saving to file: /path/to/data/MinION_sequencing_data_20190813/guppy_3.2.2_08_13_2019_run_02_exec_20190813/sw/fastq_runid_cbeb224beba4132d960067800238defaeed962bf_41_2.tsv\n",
      "[18:16:11 - __main__] Starting fastq (167 of 307)\n",
      "\t/path/to/data/MinION_sequencing_data_20190813/guppy_3.2.2_08_13_2019_run_02_exec_20190813/pass/fastq_runid_cbeb224beba4132d960067800238defaeed962bf_41_3.fastq\n"
     ]
    },
    {
     "name": "stdout",
     "output_type": "stream",
     "text": [
      "[########################################] | 100% Completed | 41.5s\n"
     ]
    },
    {
     "name": "stderr",
     "output_type": "stream",
     "text": [
      "[18:16:53 - __main__] Saving to file: /path/to/data/MinION_sequencing_data_20190813/guppy_3.2.2_08_13_2019_run_02_exec_20190813/sw/fastq_runid_cbeb224beba4132d960067800238defaeed962bf_41_3.tsv\n",
      "[18:16:53 - __main__] Starting fastq (168 of 307)\n",
      "\t/path/to/data/MinION_sequencing_data_20190813/guppy_3.2.2_08_13_2019_run_02_exec_20190813/pass/fastq_runid_cbeb224beba4132d960067800238defaeed962bf_42_0.fastq\n"
     ]
    },
    {
     "name": "stdout",
     "output_type": "stream",
     "text": [
      "[########################################] | 100% Completed | 24.8s\n"
     ]
    },
    {
     "name": "stderr",
     "output_type": "stream",
     "text": [
      "[18:17:18 - __main__] Saving to file: /path/to/data/MinION_sequencing_data_20190813/guppy_3.2.2_08_13_2019_run_02_exec_20190813/sw/fastq_runid_cbeb224beba4132d960067800238defaeed962bf_42_0.tsv\n",
      "[18:17:18 - __main__] Starting fastq (169 of 307)\n",
      "\t/path/to/data/MinION_sequencing_data_20190813/guppy_3.2.2_08_13_2019_run_02_exec_20190813/pass/fastq_runid_cbeb224beba4132d960067800238defaeed962bf_42_1.fastq\n"
     ]
    },
    {
     "name": "stdout",
     "output_type": "stream",
     "text": [
      "[                                        ] | 0% Completed | 14.8s"
     ]
    },
    {
     "name": "stderr",
     "output_type": "stream",
     "text": [
      "IOPub message rate exceeded.\n",
      "The notebook server will temporarily stop sending output\n",
      "to the client in order to avoid crashing it.\n",
      "To change this limit, set the config variable\n",
      "`--NotebookApp.iopub_msg_rate_limit`.\n",
      "\n",
      "Current values:\n",
      "NotebookApp.iopub_msg_rate_limit=1000.0 (msgs/sec)\n",
      "NotebookApp.rate_limit_window=3.0 (secs)\n",
      "\n"
     ]
    },
    {
     "name": "stdout",
     "output_type": "stream",
     "text": [
      "[########################################] | 100% Completed | 45.3s\n"
     ]
    },
    {
     "name": "stderr",
     "output_type": "stream",
     "text": [
      "[18:28:43 - __main__] Saving to file: /path/to/data/MinION_sequencing_data_20190813/guppy_3.2.2_08_13_2019_run_02_exec_20190813/sw/fastq_runid_cbeb224beba4132d960067800238defaeed962bf_47_0.tsv\n",
      "[18:28:43 - __main__] Starting fastq (189 of 307)\n",
      "\t/path/to/data/MinION_sequencing_data_20190813/guppy_3.2.2_08_13_2019_run_02_exec_20190813/pass/fastq_runid_cbeb224beba4132d960067800238defaeed962bf_47_1.fastq\n"
     ]
    },
    {
     "name": "stdout",
     "output_type": "stream",
     "text": [
      "[########################################] | 100% Completed | 19.2s\n"
     ]
    },
    {
     "name": "stderr",
     "output_type": "stream",
     "text": [
      "[18:29:03 - __main__] Saving to file: /path/to/data/MinION_sequencing_data_20190813/guppy_3.2.2_08_13_2019_run_02_exec_20190813/sw/fastq_runid_cbeb224beba4132d960067800238defaeed962bf_47_1.tsv\n",
      "[18:29:03 - __main__] Starting fastq (190 of 307)\n",
      "\t/path/to/data/MinION_sequencing_data_20190813/guppy_3.2.2_08_13_2019_run_02_exec_20190813/pass/fastq_runid_cbeb224beba4132d960067800238defaeed962bf_47_2.fastq\n"
     ]
    },
    {
     "name": "stdout",
     "output_type": "stream",
     "text": [
      "[########################################] | 100% Completed | 10.6s\n"
     ]
    },
    {
     "name": "stderr",
     "output_type": "stream",
     "text": [
      "[18:29:14 - __main__] Saving to file: /path/to/data/MinION_sequencing_data_20190813/guppy_3.2.2_08_13_2019_run_02_exec_20190813/sw/fastq_runid_cbeb224beba4132d960067800238defaeed962bf_47_2.tsv\n",
      "[18:29:14 - __main__] Starting fastq (191 of 307)\n",
      "\t/path/to/data/MinION_sequencing_data_20190813/guppy_3.2.2_08_13_2019_run_02_exec_20190813/pass/fastq_runid_cbeb224beba4132d960067800238defaeed962bf_47_3.fastq\n"
     ]
    },
    {
     "name": "stdout",
     "output_type": "stream",
     "text": [
      "[########################################] | 100% Completed | 55.0s\n"
     ]
    },
    {
     "name": "stderr",
     "output_type": "stream",
     "text": [
      "[18:30:09 - __main__] Saving to file: /path/to/data/MinION_sequencing_data_20190813/guppy_3.2.2_08_13_2019_run_02_exec_20190813/sw/fastq_runid_cbeb224beba4132d960067800238defaeed962bf_47_3.tsv\n",
      "[18:30:09 - __main__] Starting fastq (192 of 307)\n",
      "\t/path/to/data/MinION_sequencing_data_20190813/guppy_3.2.2_08_13_2019_run_02_exec_20190813/pass/fastq_runid_cbeb224beba4132d960067800238defaeed962bf_48_0.fastq\n"
     ]
    },
    {
     "name": "stdout",
     "output_type": "stream",
     "text": [
      "[########################################] | 100% Completed | 49.8s\n"
     ]
    },
    {
     "name": "stderr",
     "output_type": "stream",
     "text": [
      "[18:30:59 - __main__] Saving to file: /path/to/data/MinION_sequencing_data_20190813/guppy_3.2.2_08_13_2019_run_02_exec_20190813/sw/fastq_runid_cbeb224beba4132d960067800238defaeed962bf_48_0.tsv\n",
      "[18:31:00 - __main__] Starting fastq (193 of 307)\n",
      "\t/path/to/data/MinION_sequencing_data_20190813/guppy_3.2.2_08_13_2019_run_02_exec_20190813/pass/fastq_runid_cbeb224beba4132d960067800238defaeed962bf_48_1.fastq\n"
     ]
    },
    {
     "name": "stdout",
     "output_type": "stream",
     "text": [
      "[########################################] | 100% Completed | 56.1s\n"
     ]
    },
    {
     "name": "stderr",
     "output_type": "stream",
     "text": [
      "[18:31:56 - __main__] Saving to file: /path/to/data/MinION_sequencing_data_20190813/guppy_3.2.2_08_13_2019_run_02_exec_20190813/sw/fastq_runid_cbeb224beba4132d960067800238defaeed962bf_48_1.tsv\n",
      "[18:31:56 - __main__] Starting fastq (194 of 307)\n",
      "\t/path/to/data/MinION_sequencing_data_20190813/guppy_3.2.2_08_13_2019_run_02_exec_20190813/pass/fastq_runid_cbeb224beba4132d960067800238defaeed962bf_48_2.fastq\n"
     ]
    },
    {
     "name": "stdout",
     "output_type": "stream",
     "text": [
      "[########################################] | 100% Completed | 22.5s\n"
     ]
    },
    {
     "name": "stderr",
     "output_type": "stream",
     "text": [
      "[18:32:19 - __main__] Saving to file: /path/to/data/MinION_sequencing_data_20190813/guppy_3.2.2_08_13_2019_run_02_exec_20190813/sw/fastq_runid_cbeb224beba4132d960067800238defaeed962bf_48_2.tsv\n",
      "[18:32:19 - __main__] Starting fastq (195 of 307)\n",
      "\t/path/to/data/MinION_sequencing_data_20190813/guppy_3.2.2_08_13_2019_run_02_exec_20190813/pass/fastq_runid_cbeb224beba4132d960067800238defaeed962bf_49_0.fastq\n"
     ]
    },
    {
     "name": "stdout",
     "output_type": "stream",
     "text": [
      "[########################################] | 100% Completed | 40.9s\n"
     ]
    },
    {
     "name": "stderr",
     "output_type": "stream",
     "text": [
      "[18:33:00 - __main__] Saving to file: /path/to/data/MinION_sequencing_data_20190813/guppy_3.2.2_08_13_2019_run_02_exec_20190813/sw/fastq_runid_cbeb224beba4132d960067800238defaeed962bf_49_0.tsv\n",
      "[18:33:00 - __main__] Starting fastq (196 of 307)\n",
      "\t/path/to/data/MinION_sequencing_data_20190813/guppy_3.2.2_08_13_2019_run_02_exec_20190813/pass/fastq_runid_cbeb224beba4132d960067800238defaeed962bf_49_1.fastq\n"
     ]
    },
    {
     "name": "stdout",
     "output_type": "stream",
     "text": [
      "[########################################] | 100% Completed | 12.1s\n"
     ]
    },
    {
     "name": "stderr",
     "output_type": "stream",
     "text": [
      "[18:33:12 - __main__] Saving to file: /path/to/data/MinION_sequencing_data_20190813/guppy_3.2.2_08_13_2019_run_02_exec_20190813/sw/fastq_runid_cbeb224beba4132d960067800238defaeed962bf_49_1.tsv\n",
      "[18:33:13 - __main__] Starting fastq (197 of 307)\n",
      "\t/path/to/data/MinION_sequencing_data_20190813/guppy_3.2.2_08_13_2019_run_02_exec_20190813/pass/fastq_runid_cbeb224beba4132d960067800238defaeed962bf_49_2.fastq\n"
     ]
    },
    {
     "name": "stdout",
     "output_type": "stream",
     "text": [
      "[####                                    ] | 12% Completed | 17.3s"
     ]
    },
    {
     "name": "stderr",
     "output_type": "stream",
     "text": [
      "IOPub message rate exceeded.\n",
      "The notebook server will temporarily stop sending output\n",
      "to the client in order to avoid crashing it.\n",
      "To change this limit, set the config variable\n",
      "`--NotebookApp.iopub_msg_rate_limit`.\n",
      "\n",
      "Current values:\n",
      "NotebookApp.iopub_msg_rate_limit=1000.0 (msgs/sec)\n",
      "NotebookApp.rate_limit_window=3.0 (secs)\n",
      "\n"
     ]
    },
    {
     "name": "stdout",
     "output_type": "stream",
     "text": [
      "[########################################] | 100% Completed |  1min  0.1s\n"
     ]
    },
    {
     "name": "stderr",
     "output_type": "stream",
     "text": [
      "[18:44:36 - __main__] Saving to file: /path/to/data/MinION_sequencing_data_20190813/guppy_3.2.2_08_13_2019_run_02_exec_20190813/sw/fastq_runid_cbeb224beba4132d960067800238defaeed962bf_54_0.tsv\n",
      "[18:44:36 - __main__] Starting fastq (217 of 307)\n",
      "\t/path/to/data/MinION_sequencing_data_20190813/guppy_3.2.2_08_13_2019_run_02_exec_20190813/pass/fastq_runid_cbeb224beba4132d960067800238defaeed962bf_54_1.fastq\n"
     ]
    },
    {
     "name": "stdout",
     "output_type": "stream",
     "text": [
      "[########################################] | 100% Completed | 26.5s\n"
     ]
    },
    {
     "name": "stderr",
     "output_type": "stream",
     "text": [
      "[18:45:02 - __main__] Saving to file: /path/to/data/MinION_sequencing_data_20190813/guppy_3.2.2_08_13_2019_run_02_exec_20190813/sw/fastq_runid_cbeb224beba4132d960067800238defaeed962bf_54_1.tsv\n",
      "[18:45:03 - __main__] Starting fastq (218 of 307)\n",
      "\t/path/to/data/MinION_sequencing_data_20190813/guppy_3.2.2_08_13_2019_run_02_exec_20190813/pass/fastq_runid_cbeb224beba4132d960067800238defaeed962bf_54_2.fastq\n"
     ]
    },
    {
     "name": "stdout",
     "output_type": "stream",
     "text": [
      "[########################################] | 100% Completed | 25.0s\n"
     ]
    },
    {
     "name": "stderr",
     "output_type": "stream",
     "text": [
      "[18:45:28 - __main__] Saving to file: /path/to/data/MinION_sequencing_data_20190813/guppy_3.2.2_08_13_2019_run_02_exec_20190813/sw/fastq_runid_cbeb224beba4132d960067800238defaeed962bf_54_2.tsv\n",
      "[18:45:28 - __main__] Starting fastq (219 of 307)\n",
      "\t/path/to/data/MinION_sequencing_data_20190813/guppy_3.2.2_08_13_2019_run_02_exec_20190813/pass/fastq_runid_cbeb224beba4132d960067800238defaeed962bf_54_3.fastq\n"
     ]
    },
    {
     "name": "stdout",
     "output_type": "stream",
     "text": [
      "[########################################] | 100% Completed | 18.5s\n"
     ]
    },
    {
     "name": "stderr",
     "output_type": "stream",
     "text": [
      "[18:45:47 - __main__] Saving to file: /path/to/data/MinION_sequencing_data_20190813/guppy_3.2.2_08_13_2019_run_02_exec_20190813/sw/fastq_runid_cbeb224beba4132d960067800238defaeed962bf_54_3.tsv\n",
      "[18:45:47 - __main__] Starting fastq (220 of 307)\n",
      "\t/path/to/data/MinION_sequencing_data_20190813/guppy_3.2.2_08_13_2019_run_02_exec_20190813/pass/fastq_runid_cbeb224beba4132d960067800238defaeed962bf_55_0.fastq\n"
     ]
    },
    {
     "name": "stdout",
     "output_type": "stream",
     "text": [
      "[########################################] | 100% Completed | 41.4s\n"
     ]
    },
    {
     "name": "stderr",
     "output_type": "stream",
     "text": [
      "[18:46:28 - __main__] Saving to file: /path/to/data/MinION_sequencing_data_20190813/guppy_3.2.2_08_13_2019_run_02_exec_20190813/sw/fastq_runid_cbeb224beba4132d960067800238defaeed962bf_55_0.tsv\n",
      "[18:46:28 - __main__] Starting fastq (221 of 307)\n",
      "\t/path/to/data/MinION_sequencing_data_20190813/guppy_3.2.2_08_13_2019_run_02_exec_20190813/pass/fastq_runid_cbeb224beba4132d960067800238defaeed962bf_55_1.fastq\n"
     ]
    },
    {
     "name": "stdout",
     "output_type": "stream",
     "text": [
      "[########################################] | 100% Completed | 23.8s\n"
     ]
    },
    {
     "name": "stderr",
     "output_type": "stream",
     "text": [
      "[18:46:53 - __main__] Saving to file: /path/to/data/MinION_sequencing_data_20190813/guppy_3.2.2_08_13_2019_run_02_exec_20190813/sw/fastq_runid_cbeb224beba4132d960067800238defaeed962bf_55_1.tsv\n",
      "[18:46:53 - __main__] Starting fastq (222 of 307)\n",
      "\t/path/to/data/MinION_sequencing_data_20190813/guppy_3.2.2_08_13_2019_run_02_exec_20190813/pass/fastq_runid_cbeb224beba4132d960067800238defaeed962bf_55_2.fastq\n"
     ]
    },
    {
     "name": "stdout",
     "output_type": "stream",
     "text": [
      "[########################################] | 100% Completed | 29.7s\n"
     ]
    },
    {
     "name": "stderr",
     "output_type": "stream",
     "text": [
      "[18:47:23 - __main__] Saving to file: /path/to/data/MinION_sequencing_data_20190813/guppy_3.2.2_08_13_2019_run_02_exec_20190813/sw/fastq_runid_cbeb224beba4132d960067800238defaeed962bf_55_2.tsv\n",
      "[18:47:23 - __main__] Starting fastq (223 of 307)\n",
      "\t/path/to/data/MinION_sequencing_data_20190813/guppy_3.2.2_08_13_2019_run_02_exec_20190813/pass/fastq_runid_cbeb224beba4132d960067800238defaeed962bf_55_3.fastq\n"
     ]
    },
    {
     "name": "stdout",
     "output_type": "stream",
     "text": [
      "[########################################] | 100% Completed | 15.5s\n"
     ]
    },
    {
     "name": "stderr",
     "output_type": "stream",
     "text": [
      "[18:47:38 - __main__] Saving to file: /path/to/data/MinION_sequencing_data_20190813/guppy_3.2.2_08_13_2019_run_02_exec_20190813/sw/fastq_runid_cbeb224beba4132d960067800238defaeed962bf_55_3.tsv\n",
      "[18:47:38 - __main__] Starting fastq (224 of 307)\n",
      "\t/path/to/data/MinION_sequencing_data_20190813/guppy_3.2.2_08_13_2019_run_02_exec_20190813/pass/fastq_runid_cbeb224beba4132d960067800238defaeed962bf_56_0.fastq\n"
     ]
    },
    {
     "name": "stdout",
     "output_type": "stream",
     "text": [
      "[########################################] | 100% Completed | 47.9s\n"
     ]
    },
    {
     "name": "stderr",
     "output_type": "stream",
     "text": [
      "[18:48:27 - __main__] Saving to file: /path/to/data/MinION_sequencing_data_20190813/guppy_3.2.2_08_13_2019_run_02_exec_20190813/sw/fastq_runid_cbeb224beba4132d960067800238defaeed962bf_56_0.tsv\n",
      "[18:48:27 - __main__] Starting fastq (225 of 307)\n",
      "\t/path/to/data/MinION_sequencing_data_20190813/guppy_3.2.2_08_13_2019_run_02_exec_20190813/pass/fastq_runid_cbeb224beba4132d960067800238defaeed962bf_56_1.fastq\n"
     ]
    },
    {
     "name": "stdout",
     "output_type": "stream",
     "text": [
      "[########################################] | 100% Completed | 36.1s\n"
     ]
    },
    {
     "name": "stderr",
     "output_type": "stream",
     "text": [
      "[18:49:03 - __main__] Saving to file: /path/to/data/MinION_sequencing_data_20190813/guppy_3.2.2_08_13_2019_run_02_exec_20190813/sw/fastq_runid_cbeb224beba4132d960067800238defaeed962bf_56_1.tsv\n",
      "[18:49:03 - __main__] Starting fastq (226 of 307)\n",
      "\t/path/to/data/MinION_sequencing_data_20190813/guppy_3.2.2_08_13_2019_run_02_exec_20190813/pass/fastq_runid_cbeb224beba4132d960067800238defaeed962bf_56_2.fastq\n"
     ]
    },
    {
     "name": "stdout",
     "output_type": "stream",
     "text": [
      "[########################################] | 100% Completed | 18.7s\n"
     ]
    },
    {
     "name": "stderr",
     "output_type": "stream",
     "text": [
      "[18:49:22 - __main__] Saving to file: /path/to/data/MinION_sequencing_data_20190813/guppy_3.2.2_08_13_2019_run_02_exec_20190813/sw/fastq_runid_cbeb224beba4132d960067800238defaeed962bf_56_2.tsv\n",
      "[18:49:22 - __main__] Starting fastq (227 of 307)\n",
      "\t/path/to/data/MinION_sequencing_data_20190813/guppy_3.2.2_08_13_2019_run_02_exec_20190813/pass/fastq_runid_cbeb224beba4132d960067800238defaeed962bf_56_3.fastq\n"
     ]
    },
    {
     "name": "stdout",
     "output_type": "stream",
     "text": [
      "[                                        ] | 0% Completed |  4.1s"
     ]
    },
    {
     "name": "stderr",
     "output_type": "stream",
     "text": [
      "IOPub message rate exceeded.\n",
      "The notebook server will temporarily stop sending output\n",
      "to the client in order to avoid crashing it.\n",
      "To change this limit, set the config variable\n",
      "`--NotebookApp.iopub_msg_rate_limit`.\n",
      "\n",
      "Current values:\n",
      "NotebookApp.iopub_msg_rate_limit=1000.0 (msgs/sec)\n",
      "NotebookApp.rate_limit_window=3.0 (secs)\n",
      "\n"
     ]
    },
    {
     "name": "stdout",
     "output_type": "stream",
     "text": [
      "[########################################] | 100% Completed | 37.5s\n"
     ]
    },
    {
     "name": "stderr",
     "output_type": "stream",
     "text": [
      "[19:00:23 - __main__] Saving to file: /path/to/data/MinION_sequencing_data_20190813/guppy_3.2.2_08_13_2019_run_02_exec_20190813/sw/fastq_runid_cbeb224beba4132d960067800238defaeed962bf_61_1.tsv\n",
      "[19:00:23 - __main__] Starting fastq (246 of 307)\n",
      "\t/path/to/data/MinION_sequencing_data_20190813/guppy_3.2.2_08_13_2019_run_02_exec_20190813/pass/fastq_runid_cbeb224beba4132d960067800238defaeed962bf_61_2.fastq\n"
     ]
    },
    {
     "name": "stdout",
     "output_type": "stream",
     "text": [
      "[########################################] | 100% Completed | 24.2s\n"
     ]
    },
    {
     "name": "stderr",
     "output_type": "stream",
     "text": [
      "[19:00:47 - __main__] Saving to file: /path/to/data/MinION_sequencing_data_20190813/guppy_3.2.2_08_13_2019_run_02_exec_20190813/sw/fastq_runid_cbeb224beba4132d960067800238defaeed962bf_61_2.tsv\n",
      "[19:00:47 - __main__] Starting fastq (247 of 307)\n",
      "\t/path/to/data/MinION_sequencing_data_20190813/guppy_3.2.2_08_13_2019_run_02_exec_20190813/pass/fastq_runid_cbeb224beba4132d960067800238defaeed962bf_61_3.fastq\n"
     ]
    },
    {
     "name": "stdout",
     "output_type": "stream",
     "text": [
      "[########################################] | 100% Completed | 11.7s\n"
     ]
    },
    {
     "name": "stderr",
     "output_type": "stream",
     "text": [
      "[19:00:59 - __main__] Saving to file: /path/to/data/MinION_sequencing_data_20190813/guppy_3.2.2_08_13_2019_run_02_exec_20190813/sw/fastq_runid_cbeb224beba4132d960067800238defaeed962bf_61_3.tsv\n",
      "[19:00:59 - __main__] Starting fastq (248 of 307)\n",
      "\t/path/to/data/MinION_sequencing_data_20190813/guppy_3.2.2_08_13_2019_run_02_exec_20190813/pass/fastq_runid_cbeb224beba4132d960067800238defaeed962bf_62_0.fastq\n"
     ]
    },
    {
     "name": "stdout",
     "output_type": "stream",
     "text": [
      "[########################################] | 100% Completed | 53.1s\n"
     ]
    },
    {
     "name": "stderr",
     "output_type": "stream",
     "text": [
      "[19:01:53 - __main__] Saving to file: /path/to/data/MinION_sequencing_data_20190813/guppy_3.2.2_08_13_2019_run_02_exec_20190813/sw/fastq_runid_cbeb224beba4132d960067800238defaeed962bf_62_0.tsv\n",
      "[19:01:53 - __main__] Starting fastq (249 of 307)\n",
      "\t/path/to/data/MinION_sequencing_data_20190813/guppy_3.2.2_08_13_2019_run_02_exec_20190813/pass/fastq_runid_cbeb224beba4132d960067800238defaeed962bf_62_1.fastq\n"
     ]
    },
    {
     "name": "stdout",
     "output_type": "stream",
     "text": [
      "[########################################] | 100% Completed | 34.2s\n"
     ]
    },
    {
     "name": "stderr",
     "output_type": "stream",
     "text": [
      "[19:02:27 - __main__] Saving to file: /path/to/data/MinION_sequencing_data_20190813/guppy_3.2.2_08_13_2019_run_02_exec_20190813/sw/fastq_runid_cbeb224beba4132d960067800238defaeed962bf_62_1.tsv\n",
      "[19:02:27 - __main__] Starting fastq (250 of 307)\n",
      "\t/path/to/data/MinION_sequencing_data_20190813/guppy_3.2.2_08_13_2019_run_02_exec_20190813/pass/fastq_runid_cbeb224beba4132d960067800238defaeed962bf_62_2.fastq\n"
     ]
    },
    {
     "name": "stdout",
     "output_type": "stream",
     "text": [
      "[########################################] | 100% Completed | 21.4s\n"
     ]
    },
    {
     "name": "stderr",
     "output_type": "stream",
     "text": [
      "[19:02:49 - __main__] Saving to file: /path/to/data/MinION_sequencing_data_20190813/guppy_3.2.2_08_13_2019_run_02_exec_20190813/sw/fastq_runid_cbeb224beba4132d960067800238defaeed962bf_62_2.tsv\n",
      "[19:02:49 - __main__] Starting fastq (251 of 307)\n",
      "\t/path/to/data/MinION_sequencing_data_20190813/guppy_3.2.2_08_13_2019_run_02_exec_20190813/pass/fastq_runid_cbeb224beba4132d960067800238defaeed962bf_62_3.fastq\n"
     ]
    },
    {
     "name": "stdout",
     "output_type": "stream",
     "text": [
      "[########################################] | 100% Completed | 20.8s\n"
     ]
    },
    {
     "name": "stderr",
     "output_type": "stream",
     "text": [
      "[19:03:10 - __main__] Saving to file: /path/to/data/MinION_sequencing_data_20190813/guppy_3.2.2_08_13_2019_run_02_exec_20190813/sw/fastq_runid_cbeb224beba4132d960067800238defaeed962bf_62_3.tsv\n",
      "[19:03:10 - __main__] Starting fastq (252 of 307)\n",
      "\t/path/to/data/MinION_sequencing_data_20190813/guppy_3.2.2_08_13_2019_run_02_exec_20190813/pass/fastq_runid_cbeb224beba4132d960067800238defaeed962bf_64_0.fastq\n"
     ]
    },
    {
     "name": "stdout",
     "output_type": "stream",
     "text": [
      "[########################################] | 100% Completed |  0.8s\n"
     ]
    },
    {
     "name": "stderr",
     "output_type": "stream",
     "text": [
      "[19:03:11 - __main__] Saving to file: /path/to/data/MinION_sequencing_data_20190813/guppy_3.2.2_08_13_2019_run_02_exec_20190813/sw/fastq_runid_cbeb224beba4132d960067800238defaeed962bf_64_0.tsv\n",
      "[19:03:11 - __main__] Starting fastq (253 of 307)\n",
      "\t/path/to/data/MinION_sequencing_data_20190813/guppy_3.2.2_08_13_2019_run_02_exec_20190813/pass/fastq_runid_cbeb224beba4132d960067800238defaeed962bf_63_0.fastq\n"
     ]
    },
    {
     "name": "stdout",
     "output_type": "stream",
     "text": [
      "[########################################] | 100% Completed |  0.8s\n"
     ]
    },
    {
     "name": "stderr",
     "output_type": "stream",
     "text": [
      "[19:03:12 - __main__] Saving to file: /path/to/data/MinION_sequencing_data_20190813/guppy_3.2.2_08_13_2019_run_02_exec_20190813/sw/fastq_runid_cbeb224beba4132d960067800238defaeed962bf_63_0.tsv\n",
      "[19:03:12 - __main__] Starting fastq (254 of 307)\n",
      "\t/path/to/data/MinION_sequencing_data_20190813/guppy_3.2.2_08_13_2019_run_02_exec_20190813/pass/fastq_runid_cbeb224beba4132d960067800238defaeed962bf_64_1.fastq\n"
     ]
    },
    {
     "name": "stdout",
     "output_type": "stream",
     "text": [
      "[########################################] | 100% Completed |  0.9s\n"
     ]
    },
    {
     "name": "stderr",
     "output_type": "stream",
     "text": [
      "[19:03:13 - __main__] Saving to file: /path/to/data/MinION_sequencing_data_20190813/guppy_3.2.2_08_13_2019_run_02_exec_20190813/sw/fastq_runid_cbeb224beba4132d960067800238defaeed962bf_64_1.tsv\n",
      "[19:03:14 - __main__] Starting fastq (255 of 307)\n",
      "\t/path/to/data/MinION_sequencing_data_20190813/guppy_3.2.2_08_13_2019_run_02_exec_20190813/pass/fastq_runid_cbeb224beba4132d960067800238defaeed962bf_64_2.fastq\n"
     ]
    },
    {
     "name": "stdout",
     "output_type": "stream",
     "text": [
      "[########################################] | 100% Completed |  1.0s\n"
     ]
    },
    {
     "name": "stderr",
     "output_type": "stream",
     "text": [
      "[19:03:15 - __main__] Saving to file: /path/to/data/MinION_sequencing_data_20190813/guppy_3.2.2_08_13_2019_run_02_exec_20190813/sw/fastq_runid_cbeb224beba4132d960067800238defaeed962bf_64_2.tsv\n",
      "[19:03:15 - __main__] Starting fastq (256 of 307)\n",
      "\t/path/to/data/MinION_sequencing_data_20190813/guppy_3.2.2_08_13_2019_run_02_exec_20190813/pass/fastq_runid_cbeb224beba4132d960067800238defaeed962bf_65_0.fastq\n"
     ]
    },
    {
     "name": "stdout",
     "output_type": "stream",
     "text": [
      "[########################################] | 100% Completed | 56.6s\n"
     ]
    },
    {
     "name": "stderr",
     "output_type": "stream",
     "text": [
      "[19:04:12 - __main__] Saving to file: /path/to/data/MinION_sequencing_data_20190813/guppy_3.2.2_08_13_2019_run_02_exec_20190813/sw/fastq_runid_cbeb224beba4132d960067800238defaeed962bf_65_0.tsv\n",
      "[19:04:12 - __main__] Starting fastq (257 of 307)\n",
      "\t/path/to/data/MinION_sequencing_data_20190813/guppy_3.2.2_08_13_2019_run_02_exec_20190813/pass/fastq_runid_cbeb224beba4132d960067800238defaeed962bf_65_1.fastq\n"
     ]
    },
    {
     "name": "stdout",
     "output_type": "stream",
     "text": [
      "[########################################] | 100% Completed | 37.4s\n"
     ]
    },
    {
     "name": "stderr",
     "output_type": "stream",
     "text": [
      "[19:04:50 - __main__] Saving to file: /path/to/data/MinION_sequencing_data_20190813/guppy_3.2.2_08_13_2019_run_02_exec_20190813/sw/fastq_runid_cbeb224beba4132d960067800238defaeed962bf_65_1.tsv\n",
      "[19:04:50 - __main__] Starting fastq (258 of 307)\n",
      "\t/path/to/data/MinION_sequencing_data_20190813/guppy_3.2.2_08_13_2019_run_02_exec_20190813/pass/fastq_runid_cbeb224beba4132d960067800238defaeed962bf_64_3.fastq\n"
     ]
    },
    {
     "name": "stdout",
     "output_type": "stream",
     "text": [
      "[########################################] | 100% Completed |  0.9s\n"
     ]
    },
    {
     "name": "stderr",
     "output_type": "stream",
     "text": [
      "[19:04:51 - __main__] Saving to file: /path/to/data/MinION_sequencing_data_20190813/guppy_3.2.2_08_13_2019_run_02_exec_20190813/sw/fastq_runid_cbeb224beba4132d960067800238defaeed962bf_64_3.tsv\n",
      "[19:04:51 - __main__] Starting fastq (259 of 307)\n",
      "\t/path/to/data/MinION_sequencing_data_20190813/guppy_3.2.2_08_13_2019_run_02_exec_20190813/pass/fastq_runid_cbeb224beba4132d960067800238defaeed962bf_65_2.fastq\n"
     ]
    },
    {
     "name": "stdout",
     "output_type": "stream",
     "text": [
      "[#################                       ] | 42% Completed | 22.5s"
     ]
    },
    {
     "name": "stderr",
     "output_type": "stream",
     "text": [
      "IOPub message rate exceeded.\n",
      "The notebook server will temporarily stop sending output\n",
      "to the client in order to avoid crashing it.\n",
      "To change this limit, set the config variable\n",
      "`--NotebookApp.iopub_msg_rate_limit`.\n",
      "\n",
      "Current values:\n",
      "NotebookApp.iopub_msg_rate_limit=1000.0 (msgs/sec)\n",
      "NotebookApp.rate_limit_window=3.0 (secs)\n",
      "\n"
     ]
    },
    {
     "name": "stdout",
     "output_type": "stream",
     "text": [
      "[########################################] | 100% Completed |  1min  2.0s\n"
     ]
    },
    {
     "name": "stderr",
     "output_type": "stream",
     "text": [
      "[19:16:47 - __main__] Saving to file: /path/to/data/MinION_sequencing_data_20190813/guppy_3.2.2_08_13_2019_run_02_exec_20190813/sw/fastq_runid_cbeb224beba4132d960067800238defaeed962bf_71_0.tsv\n",
      "[19:16:47 - __main__] Starting fastq (280 of 307)\n",
      "\t/path/to/data/MinION_sequencing_data_20190813/guppy_3.2.2_08_13_2019_run_02_exec_20190813/pass/fastq_runid_cbeb224beba4132d960067800238defaeed962bf_71_1.fastq\n"
     ]
    },
    {
     "name": "stdout",
     "output_type": "stream",
     "text": [
      "[########################################] | 100% Completed | 35.4s\n"
     ]
    },
    {
     "name": "stderr",
     "output_type": "stream",
     "text": [
      "[19:17:23 - __main__] Saving to file: /path/to/data/MinION_sequencing_data_20190813/guppy_3.2.2_08_13_2019_run_02_exec_20190813/sw/fastq_runid_cbeb224beba4132d960067800238defaeed962bf_71_1.tsv\n",
      "[19:17:23 - __main__] Starting fastq (281 of 307)\n",
      "\t/path/to/data/MinION_sequencing_data_20190813/guppy_3.2.2_08_13_2019_run_02_exec_20190813/pass/fastq_runid_cbeb224beba4132d960067800238defaeed962bf_71_2.fastq\n"
     ]
    },
    {
     "name": "stdout",
     "output_type": "stream",
     "text": [
      "[########################################] | 100% Completed |  7.7s\n"
     ]
    },
    {
     "name": "stderr",
     "output_type": "stream",
     "text": [
      "[19:17:31 - __main__] Saving to file: /path/to/data/MinION_sequencing_data_20190813/guppy_3.2.2_08_13_2019_run_02_exec_20190813/sw/fastq_runid_cbeb224beba4132d960067800238defaeed962bf_71_2.tsv\n",
      "[19:17:31 - __main__] Starting fastq (282 of 307)\n",
      "\t/path/to/data/MinION_sequencing_data_20190813/guppy_3.2.2_08_13_2019_run_02_exec_20190813/pass/fastq_runid_cbeb224beba4132d960067800238defaeed962bf_71_3.fastq\n"
     ]
    },
    {
     "name": "stdout",
     "output_type": "stream",
     "text": [
      "[########################################] | 100% Completed | 38.3s\n"
     ]
    },
    {
     "name": "stderr",
     "output_type": "stream",
     "text": [
      "[19:18:10 - __main__] Saving to file: /path/to/data/MinION_sequencing_data_20190813/guppy_3.2.2_08_13_2019_run_02_exec_20190813/sw/fastq_runid_cbeb224beba4132d960067800238defaeed962bf_71_3.tsv\n",
      "[19:18:10 - __main__] Starting fastq (283 of 307)\n",
      "\t/path/to/data/MinION_sequencing_data_20190813/guppy_3.2.2_08_13_2019_run_02_exec_20190813/pass/fastq_runid_cbeb224beba4132d960067800238defaeed962bf_72_0.fastq\n"
     ]
    },
    {
     "name": "stdout",
     "output_type": "stream",
     "text": [
      "[########################################] | 100% Completed | 25.0s\n"
     ]
    },
    {
     "name": "stderr",
     "output_type": "stream",
     "text": [
      "[19:18:35 - __main__] Saving to file: /path/to/data/MinION_sequencing_data_20190813/guppy_3.2.2_08_13_2019_run_02_exec_20190813/sw/fastq_runid_cbeb224beba4132d960067800238defaeed962bf_72_0.tsv\n",
      "[19:18:35 - __main__] Starting fastq (284 of 307)\n",
      "\t/path/to/data/MinION_sequencing_data_20190813/guppy_3.2.2_08_13_2019_run_02_exec_20190813/pass/fastq_runid_cbeb224beba4132d960067800238defaeed962bf_72_1.fastq\n"
     ]
    },
    {
     "name": "stdout",
     "output_type": "stream",
     "text": [
      "[########################################] | 100% Completed |  1min 12.4s\n"
     ]
    },
    {
     "name": "stderr",
     "output_type": "stream",
     "text": [
      "[19:19:48 - __main__] Saving to file: /path/to/data/MinION_sequencing_data_20190813/guppy_3.2.2_08_13_2019_run_02_exec_20190813/sw/fastq_runid_cbeb224beba4132d960067800238defaeed962bf_72_1.tsv\n",
      "[19:19:48 - __main__] Starting fastq (285 of 307)\n",
      "\t/path/to/data/MinION_sequencing_data_20190813/guppy_3.2.2_08_13_2019_run_02_exec_20190813/pass/fastq_runid_cbeb224beba4132d960067800238defaeed962bf_72_2.fastq\n"
     ]
    },
    {
     "name": "stdout",
     "output_type": "stream",
     "text": [
      "[########################################] | 100% Completed |  3.9s\n"
     ]
    },
    {
     "name": "stderr",
     "output_type": "stream",
     "text": [
      "[19:19:52 - __main__] Saving to file: /path/to/data/MinION_sequencing_data_20190813/guppy_3.2.2_08_13_2019_run_02_exec_20190813/sw/fastq_runid_cbeb224beba4132d960067800238defaeed962bf_72_2.tsv\n",
      "[19:19:52 - __main__] Starting fastq (286 of 307)\n",
      "\t/path/to/data/MinION_sequencing_data_20190813/guppy_3.2.2_08_13_2019_run_02_exec_20190813/pass/fastq_runid_cbeb224beba4132d960067800238defaeed962bf_72_3.fastq\n"
     ]
    },
    {
     "name": "stdout",
     "output_type": "stream",
     "text": [
      "[########################################] | 100% Completed | 43.7s\n"
     ]
    },
    {
     "name": "stderr",
     "output_type": "stream",
     "text": [
      "[19:20:36 - __main__] Saving to file: /path/to/data/MinION_sequencing_data_20190813/guppy_3.2.2_08_13_2019_run_02_exec_20190813/sw/fastq_runid_cbeb224beba4132d960067800238defaeed962bf_72_3.tsv\n",
      "[19:20:36 - __main__] Starting fastq (287 of 307)\n",
      "\t/path/to/data/MinION_sequencing_data_20190813/guppy_3.2.2_08_13_2019_run_02_exec_20190813/pass/fastq_runid_cbeb224beba4132d960067800238defaeed962bf_73_0.fastq\n"
     ]
    },
    {
     "name": "stdout",
     "output_type": "stream",
     "text": [
      "[################                        ] | 41% Completed | 34.3s"
     ]
    },
    {
     "name": "stderr",
     "output_type": "stream",
     "text": [
      "IOPub message rate exceeded.\n",
      "The notebook server will temporarily stop sending output\n",
      "to the client in order to avoid crashing it.\n",
      "To change this limit, set the config variable\n",
      "`--NotebookApp.iopub_msg_rate_limit`.\n",
      "\n",
      "Current values:\n",
      "NotebookApp.iopub_msg_rate_limit=1000.0 (msgs/sec)\n",
      "NotebookApp.rate_limit_window=3.0 (secs)\n",
      "\n"
     ]
    },
    {
     "name": "stdout",
     "output_type": "stream",
     "text": [
      "[########################################] | 100% Completed | 31.0s\n"
     ]
    },
    {
     "name": "stderr",
     "output_type": "stream",
     "text": [
      "[19:32:24 - __main__] Saving to file: /path/to/data/MinION_sequencing_data_20190813/guppy_3.2.2_08_13_2019_run_02_exec_20190813/sw/fastq_runid_cbeb224beba4132d960067800238defaeed962bf_77_2.tsv\n",
      "[19:32:24 - __main__] Starting fastq (306 of 307)\n",
      "\t/path/to/data/MinION_sequencing_data_20190813/guppy_3.2.2_08_13_2019_run_02_exec_20190813/pass/fastq_runid_cbeb224beba4132d960067800238defaeed962bf_77_3.fastq\n"
     ]
    },
    {
     "name": "stdout",
     "output_type": "stream",
     "text": [
      "[########################################] | 100% Completed | 23.3s\n"
     ]
    },
    {
     "name": "stderr",
     "output_type": "stream",
     "text": [
      "[19:32:47 - __main__] Saving to file: /path/to/data/MinION_sequencing_data_20190813/guppy_3.2.2_08_13_2019_run_02_exec_20190813/sw/fastq_runid_cbeb224beba4132d960067800238defaeed962bf_77_3.tsv\n"
     ]
    }
   ],
   "source": [
    "run_sw(fastq_dir, sw_dir, search_len=80, cost_fn=cost_fn, molbit_fa=molbit_file, n_workers=40)"
   ]
  },
  {
   "cell_type": "code",
   "execution_count": 13,
   "metadata": {
    "ExecuteTime": {
     "end_time": "2019-08-14T02:32:51.281924Z",
     "start_time": "2019-08-14T02:32:47.819359Z"
    }
   },
   "outputs": [],
   "source": [
    "sw_list = []\n",
    "for fname in os.listdir(sw_dir):\n",
    "    sw_tsv = os.path.join(sw_dir, fname)\n",
    "    sw = pd.read_csv(sw_tsv, sep=\"\\t\", index_col=0)\n",
    "    sw_list.append(sw)\n",
    "sw = pd.concat(sw_list)\n",
    "del sw_list"
   ]
  },
  {
   "cell_type": "code",
   "execution_count": 14,
   "metadata": {
    "ExecuteTime": {
     "end_time": "2019-08-14T02:32:51.422479Z",
     "start_time": "2019-08-14T02:32:51.284115Z"
    }
   },
   "outputs": [],
   "source": [
    "sw_arr = np.array(sw)"
   ]
  },
  {
   "cell_type": "code",
   "execution_count": 15,
   "metadata": {
    "ExecuteTime": {
     "end_time": "2019-08-14T02:32:51.872515Z",
     "start_time": "2019-08-14T02:32:51.424515Z"
    }
   },
   "outputs": [],
   "source": [
    "max_sw = np.max(sw_arr, axis=1)\n",
    "sw_arr[range(len(sw_arr)), np.argmax(sw_arr, axis=1)] = 0\n",
    "second_best_sw = np.max(sw_arr, axis=1)\n",
    "sw_arr = np.array(sw)"
   ]
  },
  {
   "cell_type": "markdown",
   "metadata": {},
   "source": [
    "## Plot alignment scores for basic overview of performance"
   ]
  },
  {
   "cell_type": "code",
   "execution_count": 16,
   "metadata": {
    "ExecuteTime": {
     "end_time": "2019-08-14T02:32:55.488667Z",
     "start_time": "2019-08-14T02:32:51.874489Z"
    },
    "scrolled": true
   },
   "outputs": [
    {
     "data": {
      "text/plain": [
       "<matplotlib.lines.Line2D at 0x7fda891d1fd0>"
      ]
     },
     "execution_count": 16,
     "metadata": {},
     "output_type": "execute_result"
    },
    {
     "name": "stderr",
     "output_type": "stream",
     "text": [
      "[19:32:52 - matplotlib.font_manager] findfont: Matching :family=sans-serif:style=normal:variant=normal:weight=normal:stretch=normal:size=19.8.\n",
      "[19:32:52 - matplotlib.font_manager] findfont: score(<Font 'STIXSizeThreeSym' (STIXSizThreeSymBol.ttf) normal normal bold normal>) = 10.335\n",
      "[19:32:52 - matplotlib.font_manager] findfont: score(<Font 'STIXSizeFourSym' (STIXSizFourSymBol.ttf) normal normal bold normal>) = 10.335\n",
      "[19:32:52 - matplotlib.font_manager] findfont: score(<Font 'DejaVu Sans Mono' (DejaVuSansMono-Oblique.ttf) oblique normal 400 normal>) = 11.05\n",
      "[19:32:52 - matplotlib.font_manager] findfont: score(<Font 'DejaVu Sans' (DejaVuSans-BoldOblique.ttf) oblique normal bold normal>) = 3.335\n",
      "[19:32:52 - matplotlib.font_manager] findfont: score(<Font 'STIXNonUnicode' (STIXNonUni.ttf) normal normal regular normal>) = 10.05\n",
      "[19:32:52 - matplotlib.font_manager] findfont: score(<Font 'STIXSizeFourSym' (STIXSizFourSymReg.ttf) normal normal regular normal>) = 10.05\n",
      "[19:32:52 - matplotlib.font_manager] findfont: score(<Font 'STIXGeneral' (STIXGeneral.ttf) normal normal regular normal>) = 10.05\n",
      "[19:32:52 - matplotlib.font_manager] findfont: score(<Font 'STIXSizeFiveSym' (STIXSizFiveSymReg.ttf) normal normal regular normal>) = 10.05\n",
      "[19:32:52 - matplotlib.font_manager] findfont: score(<Font 'DejaVu Serif' (DejaVuSerif-BoldItalic.ttf) italic normal bold normal>) = 11.335\n",
      "[19:32:52 - matplotlib.font_manager] findfont: score(<Font 'STIXNonUnicode' (STIXNonUniBol.ttf) normal normal bold normal>) = 10.335\n",
      "[19:32:52 - matplotlib.font_manager] findfont: score(<Font 'DejaVu Serif' (DejaVuSerif-Italic.ttf) italic normal 400 normal>) = 11.05\n",
      "[19:32:52 - matplotlib.font_manager] findfont: score(<Font 'cmss10' (cmss10.ttf) normal normal 400 normal>) = 10.05\n",
      "[19:32:52 - matplotlib.font_manager] findfont: score(<Font 'STIXSizeThreeSym' (STIXSizThreeSymReg.ttf) normal normal regular normal>) = 10.05\n",
      "[19:32:52 - matplotlib.font_manager] findfont: score(<Font 'STIXSizeOneSym' (STIXSizOneSymBol.ttf) normal normal bold normal>) = 10.335\n",
      "[19:32:52 - matplotlib.font_manager] findfont: score(<Font 'cmr10' (cmr10.ttf) normal normal 400 normal>) = 10.05\n",
      "[19:32:52 - matplotlib.font_manager] findfont: score(<Font 'STIXGeneral' (STIXGeneralBol.ttf) normal normal bold normal>) = 10.335\n",
      "[19:32:52 - matplotlib.font_manager] findfont: score(<Font 'cmb10' (cmb10.ttf) normal normal 400 normal>) = 10.05\n",
      "[19:32:52 - matplotlib.font_manager] findfont: score(<Font 'STIXGeneral' (STIXGeneralBolIta.ttf) italic normal bold normal>) = 11.335\n",
      "[19:32:52 - matplotlib.font_manager] findfont: score(<Font 'STIXGeneral' (STIXGeneralItalic.ttf) italic normal 400 normal>) = 11.05\n",
      "[19:32:52 - matplotlib.font_manager] findfont: score(<Font 'cmsy10' (cmsy10.ttf) normal normal 400 normal>) = 10.05\n",
      "[19:32:52 - matplotlib.font_manager] findfont: score(<Font 'STIXNonUnicode' (STIXNonUniBolIta.ttf) italic normal bold normal>) = 11.335\n",
      "[19:32:52 - matplotlib.font_manager] findfont: score(<Font 'DejaVu Sans' (DejaVuSans-Bold.ttf) normal normal bold normal>) = 2.335\n",
      "[19:32:52 - matplotlib.font_manager] findfont: score(<Font 'cmex10' (cmex10.ttf) normal normal 400 normal>) = 10.05\n",
      "[19:32:52 - matplotlib.font_manager] findfont: score(<Font 'DejaVu Sans' (DejaVuSans-Oblique.ttf) oblique normal 400 normal>) = 3.05\n",
      "[19:32:52 - matplotlib.font_manager] findfont: score(<Font 'DejaVu Sans' (DejaVuSans.ttf) normal normal 400 normal>) = 2.05\n",
      "[19:32:52 - matplotlib.font_manager] findfont: score(<Font 'DejaVu Serif' (DejaVuSerif-Bold.ttf) normal normal bold normal>) = 10.335\n",
      "[19:32:52 - matplotlib.font_manager] findfont: score(<Font 'STIXSizeTwoSym' (STIXSizTwoSymBol.ttf) normal normal bold normal>) = 10.335\n",
      "[19:32:52 - matplotlib.font_manager] findfont: score(<Font 'DejaVu Sans Mono' (DejaVuSansMono-BoldOblique.ttf) oblique normal bold normal>) = 11.335\n",
      "[19:32:52 - matplotlib.font_manager] findfont: score(<Font 'cmtt10' (cmtt10.ttf) normal normal 400 normal>) = 10.05\n",
      "[19:32:52 - matplotlib.font_manager] findfont: score(<Font 'DejaVu Serif' (DejaVuSerif.ttf) normal normal 400 normal>) = 10.05\n",
      "[19:32:52 - matplotlib.font_manager] findfont: score(<Font 'cmmi10' (cmmi10.ttf) normal normal 400 normal>) = 10.05\n",
      "[19:32:52 - matplotlib.font_manager] findfont: score(<Font 'DejaVu Sans Display' (DejaVuSansDisplay.ttf) normal normal 400 normal>) = 10.05\n",
      "[19:32:52 - matplotlib.font_manager] findfont: score(<Font 'STIXSizeTwoSym' (STIXSizTwoSymReg.ttf) normal normal regular normal>) = 10.05\n",
      "[19:32:52 - matplotlib.font_manager] findfont: score(<Font 'STIXNonUnicode' (STIXNonUniIta.ttf) italic normal 400 normal>) = 11.05\n",
      "[19:32:52 - matplotlib.font_manager] findfont: score(<Font 'DejaVu Sans Mono' (DejaVuSansMono.ttf) normal normal 400 normal>) = 10.05\n",
      "[19:32:52 - matplotlib.font_manager] findfont: score(<Font 'DejaVu Serif Display' (DejaVuSerifDisplay.ttf) normal normal 400 normal>) = 10.05\n",
      "[19:32:52 - matplotlib.font_manager] findfont: score(<Font 'DejaVu Sans Mono' (DejaVuSansMono-Bold.ttf) normal normal bold normal>) = 10.335\n",
      "[19:32:52 - matplotlib.font_manager] findfont: score(<Font 'STIXSizeOneSym' (STIXSizOneSymReg.ttf) normal normal regular normal>) = 10.05\n",
      "[19:32:52 - matplotlib.font_manager] findfont: score(<Font 'FreeSerif' (FreeSerif.ttf) normal normal 400 normal>) = 10.05\n",
      "[19:32:52 - matplotlib.font_manager] findfont: score(<Font 'PT Sans Narrow' (PTN57F.ttf) normal normal 400 condensed>) = 10.25\n",
      "[19:32:52 - matplotlib.font_manager] findfont: score(<Font 'Source Han Sans CN' (SourceHanSansCN-Light.otf) normal normal light normal>) = 10.24\n",
      "[19:32:52 - matplotlib.font_manager] findfont: score(<Font 'Khmer OS Content' (KhmerOS_content.ttf) normal normal 400 normal>) = 10.05\n",
      "[19:32:52 - matplotlib.font_manager] findfont: score(<Font 'PT Sans' (PTS76F.ttf) italic normal bold normal>) = 11.335\n",
      "[19:32:52 - matplotlib.font_manager] findfont: score(<Font 'PT Sans' (PTS56F.ttf) italic normal 400 normal>) = 11.05\n",
      "[19:32:52 - matplotlib.font_manager] findfont: score(<Font 'Caladea' (Caladea-Italic.ttf) italic normal 400 normal>) = 11.05\n",
      "[19:32:52 - matplotlib.font_manager] findfont: score(<Font 'Cantarell' (Cantarell-BoldOblique.otf) oblique normal bold normal>) = 11.335\n",
      "[19:32:52 - matplotlib.font_manager] findfont: score(<Font 'Source Han Sans TWHK' (SourceHanSansTWHK-Heavy.otf) normal normal bold normal>) = 10.335\n",
      "[19:32:52 - matplotlib.font_manager] findfont: score(<Font 'DejaVu Sans' (DejaVuSansCondensed.ttf) normal normal 400 condensed>) = 2.25\n",
      "[19:32:52 - matplotlib.font_manager] findfont: score(<Font 'Carlito' (Carlito-Bold.ttf) normal normal bold normal>) = 10.335\n",
      "[19:32:52 - matplotlib.font_manager] findfont: score(<Font 'Liberation Sans' (LiberationSans-Italic.ttf) italic normal 400 normal>) = 5.05\n",
      "[19:32:52 - matplotlib.font_manager] findfont: score(<Font 'Source Han Sans CN' (SourceHanSansCN-Regular.otf) normal normal regular normal>) = 10.05\n",
      "[19:32:52 - matplotlib.font_manager] findfont: score(<Font 'DejaVu Sans' (DejaVuSansCondensed-Oblique.ttf) oblique normal 400 condensed>) = 3.25\n",
      "[19:32:52 - matplotlib.font_manager] findfont: score(<Font 'Source Han Sans TWHK' (SourceHanSansTWHK-Normal.otf) normal normal normal normal>) = 10.0\n",
      "[19:32:52 - matplotlib.font_manager] findfont: score(<Font 'Liberation Mono' (LiberationMono-Regular.ttf) normal normal 400 normal>) = 10.05\n",
      "[19:32:52 - matplotlib.font_manager] findfont: score(<Font 'Cantarell' (Cantarell-Regular.otf) normal normal regular normal>) = 10.05\n",
      "[19:32:52 - matplotlib.font_manager] findfont: score(<Font 'NanumGothic' (NanumGothicBold.ttf) normal normal bold normal>) = 10.335\n",
      "[19:32:52 - matplotlib.font_manager] findfont: score(<Font 'Cantarell' (Cantarell-Oblique.otf) oblique normal 400 normal>) = 11.05\n",
      "[19:32:52 - matplotlib.font_manager] findfont: score(<Font 'Nuosu SIL' (NuosuSIL.ttf) normal normal 400 normal>) = 10.05\n",
      "[19:32:52 - matplotlib.font_manager] findfont: score(<Font 'Source Han Sans TWHK' (SourceHanSansTWHK-Medium.otf) normal normal medium normal>) = 10.145\n",
      "[19:32:52 - matplotlib.font_manager] findfont: score(<Font 'Carlito' (Carlito-Italic.ttf) italic normal 400 normal>) = 11.05\n",
      "[19:32:52 - matplotlib.font_manager] findfont: score(<Font 'FreeSerif' (FreeSerifBoldItalic.ttf) italic normal bold normal>) = 11.335\n"
     ]
    },
    {
     "name": "stderr",
     "output_type": "stream",
     "text": [
      "[19:32:52 - matplotlib.font_manager] findfont: score(<Font 'Source Han Sans CN' (SourceHanSansCN-ExtraLight.otf) normal normal light normal>) = 10.24\n",
      "[19:32:52 - matplotlib.font_manager] findfont: score(<Font 'Meera' (Meera.ttf) normal normal 400 normal>) = 10.05\n",
      "[19:32:52 - matplotlib.font_manager] findfont: score(<Font 'Lohit Gujarati' (Lohit-Gujarati.ttf) normal normal 400 normal>) = 10.05\n",
      "[19:32:52 - matplotlib.font_manager] findfont: score(<Font 'PT Sans' (PTS75F.ttf) normal normal bold normal>) = 10.335\n",
      "[19:32:52 - matplotlib.font_manager] findfont: score(<Font 'PakType Naqsh' (PakType_Naqsh.ttf) normal normal 400 normal>) = 10.05\n",
      "[19:32:52 - matplotlib.font_manager] findfont: score(<Font 'FreeMono' (FreeMonoBold.ttf) normal normal bold normal>) = 10.335\n",
      "[19:32:52 - matplotlib.font_manager] findfont: score(<Font 'Source Han Sans CN' (SourceHanSansCN-Medium.otf) normal normal medium normal>) = 10.145\n",
      "[19:32:52 - matplotlib.font_manager] findfont: score(<Font 'Carlito' (Carlito-BoldItalic.ttf) italic normal bold normal>) = 11.335\n",
      "[19:32:52 - matplotlib.font_manager] findfont: score(<Font 'Caladea' (Caladea-Regular.ttf) normal normal 400 normal>) = 10.05\n",
      "[19:32:52 - matplotlib.font_manager] findfont: score(<Font 'DejaVu Serif' (DejaVuSerifCondensed.ttf) normal normal 400 condensed>) = 10.25\n",
      "[19:32:52 - matplotlib.font_manager] findfont: score(<Font 'STIX' (STIX-Bold.otf) normal normal bold normal>) = 10.335\n",
      "[19:32:52 - matplotlib.font_manager] findfont: score(<Font 'AR PL UMing CN' (uming.ttc) normal normal 400 normal>) = 10.05\n",
      "[19:32:52 - matplotlib.font_manager] findfont: score(<Font 'STIX' (STIX-BoldItalic.otf) italic normal bold normal>) = 11.335\n",
      "[19:32:52 - matplotlib.font_manager] findfont: score(<Font 'DejaVu Serif' (DejaVuSerifCondensed-Bold.ttf) normal normal bold condensed>) = 10.535\n",
      "[19:32:52 - matplotlib.font_manager] findfont: score(<Font 'Liberation Serif' (LiberationSerif-BoldItalic.ttf) italic normal bold normal>) = 11.335\n",
      "[19:32:52 - matplotlib.font_manager] findfont: score(<Font 'FreeSans' (FreeSans.ttf) normal normal 400 normal>) = 10.05\n",
      "[19:32:52 - matplotlib.font_manager] findfont: score(<Font 'Waree' (Waree.ttf) normal normal 400 normal>) = 10.05\n",
      "[19:32:52 - matplotlib.font_manager] findfont: score(<Font 'Waree' (Waree-Bold.ttf) normal normal bold normal>) = 10.335\n",
      "[19:32:52 - matplotlib.font_manager] findfont: score(<Font 'FreeSans' (FreeSansBoldOblique.ttf) oblique normal bold normal>) = 11.335\n",
      "[19:32:52 - matplotlib.font_manager] findfont: score(<Font 'FreeMono' (FreeMono.ttf) normal normal 400 normal>) = 10.05\n",
      "[19:32:52 - matplotlib.font_manager] findfont: score(<Font 'Noto Sans Tagalog' (NotoSansTagalog-Regular.ttf) normal normal 400 normal>) = 10.05\n",
      "[19:32:52 - matplotlib.font_manager] findfont: score(<Font 'Lohit Tamil' (Lohit-Tamil.ttf) normal normal 400 normal>) = 10.05\n",
      "[19:32:52 - matplotlib.font_manager] findfont: score(<Font 'DejaVu Serif' (DejaVuSerifCondensed-Italic.ttf) italic normal 400 condensed>) = 11.25\n",
      "[19:32:52 - matplotlib.font_manager] findfont: score(<Font 'Caladea' (Caladea-BoldItalic.ttf) italic normal bold normal>) = 11.335\n",
      "[19:32:52 - matplotlib.font_manager] findfont: score(<Font 'Source Han Sans CN' (SourceHanSansCN-Normal.otf) normal normal normal normal>) = 10.0\n",
      "[19:32:52 - matplotlib.font_manager] findfont: score(<Font 'FreeMono' (FreeMonoBoldOblique.ttf) oblique normal bold normal>) = 11.335\n",
      "[19:32:52 - matplotlib.font_manager] findfont: score(<Font 'DejaVu Serif' (DejaVuSerifCondensed-BoldItalic.ttf) italic normal bold condensed>) = 11.535\n",
      "[19:32:52 - matplotlib.font_manager] findfont: score(<Font 'Source Han Sans TWHK' (SourceHanSansTWHK-ExtraLight.otf) normal normal light normal>) = 10.24\n",
      "[19:32:52 - matplotlib.font_manager] findfont: score(<Font 'Khmer OS' (KhmerOS.ttf) normal normal 400 normal>) = 10.05\n",
      "[19:32:52 - matplotlib.font_manager] findfont: score(<Font 'Liberation Sans' (LiberationSans-BoldItalic.ttf) italic normal bold normal>) = 5.335\n",
      "[19:32:52 - matplotlib.font_manager] findfont: score(<Font 'Liberation Serif' (LiberationSerif-Italic.ttf) italic normal 400 normal>) = 11.05\n",
      "[19:32:52 - matplotlib.font_manager] findfont: score(<Font 'Padauk' (Padauk.ttf) normal normal 400 normal>) = 10.05\n",
      "[19:32:52 - matplotlib.font_manager] findfont: score(<Font 'DejaVu Sans' (DejaVuSansCondensed-BoldOblique.ttf) oblique normal bold condensed>) = 3.535\n",
      "[19:32:52 - matplotlib.font_manager] findfont: score(<Font 'Noto Sans Mandaic' (NotoSansMandaic-Regular.ttf) normal normal 400 normal>) = 10.05\n",
      "[19:32:52 - matplotlib.font_manager] findfont: score(<Font 'FreeSans' (FreeSansBold.ttf) normal normal bold normal>) = 10.335\n",
      "[19:32:52 - matplotlib.font_manager] findfont: score(<Font 'STIX' (STIX-Italic.otf) italic normal 400 normal>) = 11.05\n",
      "[19:32:52 - matplotlib.font_manager] findfont: score(<Font 'Noto Sans Tai Viet' (NotoSansTaiViet-Regular.ttf) normal normal 400 normal>) = 10.05\n",
      "[19:32:52 - matplotlib.font_manager] findfont: score(<Font 'Source Han Sans TWHK' (SourceHanSansTWHK-Bold.otf) normal normal bold normal>) = 10.335\n",
      "[19:32:52 - matplotlib.font_manager] findfont: score(<Font 'NanumGothic' (NanumGothic.ttf) normal normal 400 normal>) = 10.05\n",
      "[19:32:52 - matplotlib.font_manager] findfont: score(<Font 'Waree' (Waree-Oblique.ttf) oblique normal 400 normal>) = 11.05\n",
      "[19:32:52 - matplotlib.font_manager] findfont: score(<Font 'Liberation Sans' (LiberationSans-Bold.ttf) normal normal bold normal>) = 4.335\n",
      "[19:32:52 - matplotlib.font_manager] findfont: score(<Font 'Source Han Sans TWHK' (SourceHanSansTWHK-Light.otf) normal normal light normal>) = 10.24\n",
      "[19:32:52 - matplotlib.font_manager] findfont: score(<Font 'Liberation Mono' (LiberationMono-BoldItalic.ttf) italic normal bold normal>) = 11.335\n",
      "[19:32:52 - matplotlib.font_manager] findfont: score(<Font 'Cantarell' (Cantarell-Bold.otf) normal normal bold normal>) = 10.335\n",
      "[19:32:52 - matplotlib.font_manager] findfont: score(<Font 'Liberation Sans' (LiberationSans-Regular.ttf) normal normal 400 normal>) = 4.05\n",
      "[19:32:52 - matplotlib.font_manager] findfont: score(<Font 'NanumGothic' (NanumGothicExtraBold.ttf) normal normal bold normal>) = 10.335\n",
      "[19:32:52 - matplotlib.font_manager] findfont: score(<Font 'Source Han Sans TWHK' (SourceHanSansTWHK-Regular.otf) normal normal regular normal>) = 10.05\n",
      "[19:32:52 - matplotlib.font_manager] findfont: score(<Font 'FreeSans' (FreeSansOblique.ttf) oblique normal 400 normal>) = 11.05\n",
      "[19:32:52 - matplotlib.font_manager] findfont: score(<Font 'Lohit Bengali' (Lohit-Bengali.ttf) normal normal 400 normal>) = 10.05\n",
      "[19:32:52 - matplotlib.font_manager] findfont: score(<Font 'Lohit Punjabi' (Lohit-Punjabi.ttf) normal normal 400 normal>) = 10.05\n",
      "[19:32:52 - matplotlib.font_manager] findfont: score(<Font 'FreeMono' (FreeMonoOblique.ttf) oblique normal 400 normal>) = 11.05\n",
      "[19:32:52 - matplotlib.font_manager] findfont: score(<Font 'Caladea' (Caladea-Bold.ttf) normal normal bold normal>) = 10.335\n",
      "[19:32:52 - matplotlib.font_manager] findfont: score(<Font 'Source Han Sans CN' (SourceHanSansCN-Bold.otf) normal normal bold normal>) = 10.335\n",
      "[19:32:52 - matplotlib.font_manager] findfont: score(<Font 'FreeSerif' (FreeSerifItalic.ttf) italic normal 400 normal>) = 11.05\n",
      "[19:32:52 - matplotlib.font_manager] findfont: score(<Font 'Source Han Sans CN' (SourceHanSansCN-Heavy.otf) normal normal bold normal>) = 10.335\n",
      "[19:32:52 - matplotlib.font_manager] findfont: score(<Font 'Liberation Serif' (LiberationSerif-Regular.ttf) normal normal 400 normal>) = 10.05\n",
      "[19:32:52 - matplotlib.font_manager] findfont: score(<Font 'Jomolhari' (Jomolhari-alpha3c-0605331.ttf) normal normal 400 normal>) = 10.05\n",
      "[19:32:52 - matplotlib.font_manager] findfont: score(<Font 'Liberation Mono' (LiberationMono-Italic.ttf) italic normal 400 normal>) = 11.05\n",
      "[19:32:52 - matplotlib.font_manager] findfont: score(<Font 'DejaVu Sans' (DejaVuSansCondensed-Bold.ttf) normal normal bold condensed>) = 2.535\n",
      "[19:32:52 - matplotlib.font_manager] findfont: score(<Font 'Khmer OS System' (KhmerOS_sys.ttf) normal normal 400 normal>) = 10.05\n",
      "[19:32:52 - matplotlib.font_manager] findfont: score(<Font 'Noto Sans Tai Tham' (NotoSansTaiTham-Regular.ttf) normal normal 400 normal>) = 10.05\n"
     ]
    },
    {
     "name": "stderr",
     "output_type": "stream",
     "text": [
      "[19:32:52 - matplotlib.font_manager] findfont: score(<Font 'Lohit Assamese' (Lohit-Assamese.ttf) normal normal 400 normal>) = 10.05\n",
      "[19:32:52 - matplotlib.font_manager] findfont: score(<Font 'VL Gothic' (VL-Gothic-Regular.ttf) normal normal regular normal>) = 10.05\n",
      "[19:32:52 - matplotlib.font_manager] findfont: score(<Font 'Noto Sans Lisu' (NotoSansLisu-Regular.ttf) normal normal 400 normal>) = 10.05\n",
      "[19:32:52 - matplotlib.font_manager] findfont: score(<Font 'Carlito' (Carlito-Regular.ttf) normal normal 400 normal>) = 10.05\n",
      "[19:32:52 - matplotlib.font_manager] findfont: score(<Font 'DejaVu Sans' (DejaVuSans-ExtraLight.ttf) normal normal light normal>) = 2.24\n",
      "[19:32:52 - matplotlib.font_manager] findfont: score(<Font 'Waree' (Waree-BoldOblique.ttf) oblique normal bold normal>) = 11.335\n",
      "[19:32:52 - matplotlib.font_manager] findfont: score(<Font 'STIX' (STIX-Regular.otf) normal normal regular normal>) = 10.05\n",
      "[19:32:52 - matplotlib.font_manager] findfont: score(<Font 'Lohit Oriya' (Lohit-Oriya.ttf) normal normal 400 normal>) = 10.05\n",
      "[19:32:52 - matplotlib.font_manager] findfont: score(<Font 'OpenSymbol' (opens___.ttf) normal normal 400 normal>) = 10.05\n",
      "[19:32:52 - matplotlib.font_manager] findfont: score(<Font 'Liberation Serif' (LiberationSerif-Bold.ttf) normal normal bold normal>) = 10.335\n",
      "[19:32:52 - matplotlib.font_manager] findfont: score(<Font 'WenQuanYi Zen Hei' (wqy-zenhei.ttc) normal normal 400 normal>) = 10.05\n",
      "[19:32:52 - matplotlib.font_manager] findfont: score(<Font 'Lohit Devanagari' (Lohit-Devanagari.ttf) normal normal 400 normal>) = 10.05\n",
      "[19:32:52 - matplotlib.font_manager] findfont: score(<Font 'Lohit Telugu' (Lohit-Telugu.ttf) normal normal 400 normal>) = 10.05\n",
      "[19:32:52 - matplotlib.font_manager] findfont: score(<Font 'Abyssinica SIL' (AbyssinicaSIL-R.ttf) normal normal 400 normal>) = 10.05\n",
      "[19:32:52 - matplotlib.font_manager] findfont: score(<Font 'LKLUG' (lklug.ttf) normal normal 400 normal>) = 10.05\n",
      "[19:32:52 - matplotlib.font_manager] findfont: score(<Font 'Liberation Mono' (LiberationMono-Bold.ttf) normal normal bold normal>) = 10.335\n",
      "[19:32:52 - matplotlib.font_manager] findfont: score(<Font 'FreeSerif' (FreeSerifBold.ttf) normal normal bold normal>) = 10.335\n",
      "[19:32:52 - matplotlib.font_manager] findfont: score(<Font 'PT Sans Narrow' (PTN77F.ttf) normal normal bold condensed>) = 10.535\n",
      "[19:32:52 - matplotlib.font_manager] findfont: score(<Font 'PT Sans' (PTS55F.ttf) normal normal 400 normal>) = 10.05\n",
      "[19:32:52 - matplotlib.font_manager] findfont: score(<Font 'Padauk' (Padauk-bold.ttf) normal normal bold normal>) = 10.335\n",
      "[19:32:52 - matplotlib.font_manager] findfont: score(<Font 'Lohit Kannada' (Lohit-Kannada.ttf) normal normal 400 normal>) = 10.05\n",
      "[19:32:52 - matplotlib.font_manager] findfont: Matching :family=sans-serif:style=normal:variant=normal:weight=normal:stretch=normal:size=19.8 to DejaVu Sans ('/ssd1/home/kdorosch/software/anaconda3/envs/py36/lib/python3.6/site-packages/matplotlib/mpl-data/fonts/ttf/DejaVuSans.ttf') with score of 2.050000.\n",
      "[19:32:52 - matplotlib.font_manager] findfont: Matching :family=sans-serif:style=normal:variant=normal:weight=normal:stretch=normal:size=21.6.\n",
      "[19:32:52 - matplotlib.font_manager] findfont: score(<Font 'STIXSizeThreeSym' (STIXSizThreeSymBol.ttf) normal normal bold normal>) = 10.335\n",
      "[19:32:52 - matplotlib.font_manager] findfont: score(<Font 'STIXSizeFourSym' (STIXSizFourSymBol.ttf) normal normal bold normal>) = 10.335\n",
      "[19:32:52 - matplotlib.font_manager] findfont: score(<Font 'DejaVu Sans Mono' (DejaVuSansMono-Oblique.ttf) oblique normal 400 normal>) = 11.05\n",
      "[19:32:52 - matplotlib.font_manager] findfont: score(<Font 'DejaVu Sans' (DejaVuSans-BoldOblique.ttf) oblique normal bold normal>) = 3.335\n",
      "[19:32:52 - matplotlib.font_manager] findfont: score(<Font 'STIXNonUnicode' (STIXNonUni.ttf) normal normal regular normal>) = 10.05\n",
      "[19:32:52 - matplotlib.font_manager] findfont: score(<Font 'STIXSizeFourSym' (STIXSizFourSymReg.ttf) normal normal regular normal>) = 10.05\n",
      "[19:32:52 - matplotlib.font_manager] findfont: score(<Font 'STIXGeneral' (STIXGeneral.ttf) normal normal regular normal>) = 10.05\n",
      "[19:32:52 - matplotlib.font_manager] findfont: score(<Font 'STIXSizeFiveSym' (STIXSizFiveSymReg.ttf) normal normal regular normal>) = 10.05\n",
      "[19:32:52 - matplotlib.font_manager] findfont: score(<Font 'DejaVu Serif' (DejaVuSerif-BoldItalic.ttf) italic normal bold normal>) = 11.335\n",
      "[19:32:52 - matplotlib.font_manager] findfont: score(<Font 'STIXNonUnicode' (STIXNonUniBol.ttf) normal normal bold normal>) = 10.335\n",
      "[19:32:52 - matplotlib.font_manager] findfont: score(<Font 'DejaVu Serif' (DejaVuSerif-Italic.ttf) italic normal 400 normal>) = 11.05\n",
      "[19:32:52 - matplotlib.font_manager] findfont: score(<Font 'cmss10' (cmss10.ttf) normal normal 400 normal>) = 10.05\n",
      "[19:32:52 - matplotlib.font_manager] findfont: score(<Font 'STIXSizeThreeSym' (STIXSizThreeSymReg.ttf) normal normal regular normal>) = 10.05\n",
      "[19:32:52 - matplotlib.font_manager] findfont: score(<Font 'STIXSizeOneSym' (STIXSizOneSymBol.ttf) normal normal bold normal>) = 10.335\n",
      "[19:32:52 - matplotlib.font_manager] findfont: score(<Font 'cmr10' (cmr10.ttf) normal normal 400 normal>) = 10.05\n",
      "[19:32:52 - matplotlib.font_manager] findfont: score(<Font 'STIXGeneral' (STIXGeneralBol.ttf) normal normal bold normal>) = 10.335\n",
      "[19:32:52 - matplotlib.font_manager] findfont: score(<Font 'cmb10' (cmb10.ttf) normal normal 400 normal>) = 10.05\n",
      "[19:32:52 - matplotlib.font_manager] findfont: score(<Font 'STIXGeneral' (STIXGeneralBolIta.ttf) italic normal bold normal>) = 11.335\n",
      "[19:32:52 - matplotlib.font_manager] findfont: score(<Font 'STIXGeneral' (STIXGeneralItalic.ttf) italic normal 400 normal>) = 11.05\n",
      "[19:32:52 - matplotlib.font_manager] findfont: score(<Font 'cmsy10' (cmsy10.ttf) normal normal 400 normal>) = 10.05\n",
      "[19:32:52 - matplotlib.font_manager] findfont: score(<Font 'STIXNonUnicode' (STIXNonUniBolIta.ttf) italic normal bold normal>) = 11.335\n",
      "[19:32:52 - matplotlib.font_manager] findfont: score(<Font 'DejaVu Sans' (DejaVuSans-Bold.ttf) normal normal bold normal>) = 2.335\n",
      "[19:32:52 - matplotlib.font_manager] findfont: score(<Font 'cmex10' (cmex10.ttf) normal normal 400 normal>) = 10.05\n",
      "[19:32:52 - matplotlib.font_manager] findfont: score(<Font 'DejaVu Sans' (DejaVuSans-Oblique.ttf) oblique normal 400 normal>) = 3.05\n",
      "[19:32:52 - matplotlib.font_manager] findfont: score(<Font 'DejaVu Sans' (DejaVuSans.ttf) normal normal 400 normal>) = 2.05\n",
      "[19:32:52 - matplotlib.font_manager] findfont: score(<Font 'DejaVu Serif' (DejaVuSerif-Bold.ttf) normal normal bold normal>) = 10.335\n",
      "[19:32:52 - matplotlib.font_manager] findfont: score(<Font 'STIXSizeTwoSym' (STIXSizTwoSymBol.ttf) normal normal bold normal>) = 10.335\n",
      "[19:32:52 - matplotlib.font_manager] findfont: score(<Font 'DejaVu Sans Mono' (DejaVuSansMono-BoldOblique.ttf) oblique normal bold normal>) = 11.335\n",
      "[19:32:52 - matplotlib.font_manager] findfont: score(<Font 'cmtt10' (cmtt10.ttf) normal normal 400 normal>) = 10.05\n",
      "[19:32:52 - matplotlib.font_manager] findfont: score(<Font 'DejaVu Serif' (DejaVuSerif.ttf) normal normal 400 normal>) = 10.05\n",
      "[19:32:52 - matplotlib.font_manager] findfont: score(<Font 'cmmi10' (cmmi10.ttf) normal normal 400 normal>) = 10.05\n",
      "[19:32:52 - matplotlib.font_manager] findfont: score(<Font 'DejaVu Sans Display' (DejaVuSansDisplay.ttf) normal normal 400 normal>) = 10.05\n",
      "[19:32:52 - matplotlib.font_manager] findfont: score(<Font 'STIXSizeTwoSym' (STIXSizTwoSymReg.ttf) normal normal regular normal>) = 10.05\n",
      "[19:32:52 - matplotlib.font_manager] findfont: score(<Font 'STIXNonUnicode' (STIXNonUniIta.ttf) italic normal 400 normal>) = 11.05\n",
      "[19:32:52 - matplotlib.font_manager] findfont: score(<Font 'DejaVu Sans Mono' (DejaVuSansMono.ttf) normal normal 400 normal>) = 10.05\n",
      "[19:32:52 - matplotlib.font_manager] findfont: score(<Font 'DejaVu Serif Display' (DejaVuSerifDisplay.ttf) normal normal 400 normal>) = 10.05\n",
      "[19:32:52 - matplotlib.font_manager] findfont: score(<Font 'DejaVu Sans Mono' (DejaVuSansMono-Bold.ttf) normal normal bold normal>) = 10.335\n",
      "[19:32:52 - matplotlib.font_manager] findfont: score(<Font 'STIXSizeOneSym' (STIXSizOneSymReg.ttf) normal normal regular normal>) = 10.05\n"
     ]
    },
    {
     "name": "stderr",
     "output_type": "stream",
     "text": [
      "[19:32:52 - matplotlib.font_manager] findfont: score(<Font 'FreeSerif' (FreeSerif.ttf) normal normal 400 normal>) = 10.05\n",
      "[19:32:52 - matplotlib.font_manager] findfont: score(<Font 'PT Sans Narrow' (PTN57F.ttf) normal normal 400 condensed>) = 10.25\n",
      "[19:32:52 - matplotlib.font_manager] findfont: score(<Font 'Source Han Sans CN' (SourceHanSansCN-Light.otf) normal normal light normal>) = 10.24\n",
      "[19:32:52 - matplotlib.font_manager] findfont: score(<Font 'Khmer OS Content' (KhmerOS_content.ttf) normal normal 400 normal>) = 10.05\n",
      "[19:32:52 - matplotlib.font_manager] findfont: score(<Font 'PT Sans' (PTS76F.ttf) italic normal bold normal>) = 11.335\n",
      "[19:32:52 - matplotlib.font_manager] findfont: score(<Font 'PT Sans' (PTS56F.ttf) italic normal 400 normal>) = 11.05\n",
      "[19:32:52 - matplotlib.font_manager] findfont: score(<Font 'Caladea' (Caladea-Italic.ttf) italic normal 400 normal>) = 11.05\n",
      "[19:32:52 - matplotlib.font_manager] findfont: score(<Font 'Cantarell' (Cantarell-BoldOblique.otf) oblique normal bold normal>) = 11.335\n",
      "[19:32:52 - matplotlib.font_manager] findfont: score(<Font 'Source Han Sans TWHK' (SourceHanSansTWHK-Heavy.otf) normal normal bold normal>) = 10.335\n",
      "[19:32:52 - matplotlib.font_manager] findfont: score(<Font 'DejaVu Sans' (DejaVuSansCondensed.ttf) normal normal 400 condensed>) = 2.25\n",
      "[19:32:52 - matplotlib.font_manager] findfont: score(<Font 'Carlito' (Carlito-Bold.ttf) normal normal bold normal>) = 10.335\n",
      "[19:32:52 - matplotlib.font_manager] findfont: score(<Font 'Liberation Sans' (LiberationSans-Italic.ttf) italic normal 400 normal>) = 5.05\n",
      "[19:32:52 - matplotlib.font_manager] findfont: score(<Font 'Source Han Sans CN' (SourceHanSansCN-Regular.otf) normal normal regular normal>) = 10.05\n",
      "[19:32:52 - matplotlib.font_manager] findfont: score(<Font 'DejaVu Sans' (DejaVuSansCondensed-Oblique.ttf) oblique normal 400 condensed>) = 3.25\n",
      "[19:32:52 - matplotlib.font_manager] findfont: score(<Font 'Source Han Sans TWHK' (SourceHanSansTWHK-Normal.otf) normal normal normal normal>) = 10.0\n",
      "[19:32:52 - matplotlib.font_manager] findfont: score(<Font 'Liberation Mono' (LiberationMono-Regular.ttf) normal normal 400 normal>) = 10.05\n",
      "[19:32:52 - matplotlib.font_manager] findfont: score(<Font 'Cantarell' (Cantarell-Regular.otf) normal normal regular normal>) = 10.05\n",
      "[19:32:52 - matplotlib.font_manager] findfont: score(<Font 'NanumGothic' (NanumGothicBold.ttf) normal normal bold normal>) = 10.335\n",
      "[19:32:52 - matplotlib.font_manager] findfont: score(<Font 'Cantarell' (Cantarell-Oblique.otf) oblique normal 400 normal>) = 11.05\n",
      "[19:32:52 - matplotlib.font_manager] findfont: score(<Font 'Nuosu SIL' (NuosuSIL.ttf) normal normal 400 normal>) = 10.05\n",
      "[19:32:52 - matplotlib.font_manager] findfont: score(<Font 'Source Han Sans TWHK' (SourceHanSansTWHK-Medium.otf) normal normal medium normal>) = 10.145\n",
      "[19:32:52 - matplotlib.font_manager] findfont: score(<Font 'Carlito' (Carlito-Italic.ttf) italic normal 400 normal>) = 11.05\n",
      "[19:32:52 - matplotlib.font_manager] findfont: score(<Font 'FreeSerif' (FreeSerifBoldItalic.ttf) italic normal bold normal>) = 11.335\n",
      "[19:32:52 - matplotlib.font_manager] findfont: score(<Font 'Source Han Sans CN' (SourceHanSansCN-ExtraLight.otf) normal normal light normal>) = 10.24\n",
      "[19:32:52 - matplotlib.font_manager] findfont: score(<Font 'Meera' (Meera.ttf) normal normal 400 normal>) = 10.05\n",
      "[19:32:52 - matplotlib.font_manager] findfont: score(<Font 'Lohit Gujarati' (Lohit-Gujarati.ttf) normal normal 400 normal>) = 10.05\n",
      "[19:32:52 - matplotlib.font_manager] findfont: score(<Font 'PT Sans' (PTS75F.ttf) normal normal bold normal>) = 10.335\n",
      "[19:32:52 - matplotlib.font_manager] findfont: score(<Font 'PakType Naqsh' (PakType_Naqsh.ttf) normal normal 400 normal>) = 10.05\n",
      "[19:32:52 - matplotlib.font_manager] findfont: score(<Font 'FreeMono' (FreeMonoBold.ttf) normal normal bold normal>) = 10.335\n",
      "[19:32:52 - matplotlib.font_manager] findfont: score(<Font 'Source Han Sans CN' (SourceHanSansCN-Medium.otf) normal normal medium normal>) = 10.145\n",
      "[19:32:52 - matplotlib.font_manager] findfont: score(<Font 'Carlito' (Carlito-BoldItalic.ttf) italic normal bold normal>) = 11.335\n",
      "[19:32:52 - matplotlib.font_manager] findfont: score(<Font 'Caladea' (Caladea-Regular.ttf) normal normal 400 normal>) = 10.05\n",
      "[19:32:52 - matplotlib.font_manager] findfont: score(<Font 'DejaVu Serif' (DejaVuSerifCondensed.ttf) normal normal 400 condensed>) = 10.25\n",
      "[19:32:52 - matplotlib.font_manager] findfont: score(<Font 'STIX' (STIX-Bold.otf) normal normal bold normal>) = 10.335\n",
      "[19:32:52 - matplotlib.font_manager] findfont: score(<Font 'AR PL UMing CN' (uming.ttc) normal normal 400 normal>) = 10.05\n",
      "[19:32:52 - matplotlib.font_manager] findfont: score(<Font 'STIX' (STIX-BoldItalic.otf) italic normal bold normal>) = 11.335\n",
      "[19:32:52 - matplotlib.font_manager] findfont: score(<Font 'DejaVu Serif' (DejaVuSerifCondensed-Bold.ttf) normal normal bold condensed>) = 10.535\n",
      "[19:32:52 - matplotlib.font_manager] findfont: score(<Font 'Liberation Serif' (LiberationSerif-BoldItalic.ttf) italic normal bold normal>) = 11.335\n",
      "[19:32:52 - matplotlib.font_manager] findfont: score(<Font 'FreeSans' (FreeSans.ttf) normal normal 400 normal>) = 10.05\n",
      "[19:32:52 - matplotlib.font_manager] findfont: score(<Font 'Waree' (Waree.ttf) normal normal 400 normal>) = 10.05\n",
      "[19:32:52 - matplotlib.font_manager] findfont: score(<Font 'Waree' (Waree-Bold.ttf) normal normal bold normal>) = 10.335\n",
      "[19:32:52 - matplotlib.font_manager] findfont: score(<Font 'FreeSans' (FreeSansBoldOblique.ttf) oblique normal bold normal>) = 11.335\n",
      "[19:32:52 - matplotlib.font_manager] findfont: score(<Font 'FreeMono' (FreeMono.ttf) normal normal 400 normal>) = 10.05\n",
      "[19:32:52 - matplotlib.font_manager] findfont: score(<Font 'Noto Sans Tagalog' (NotoSansTagalog-Regular.ttf) normal normal 400 normal>) = 10.05\n",
      "[19:32:52 - matplotlib.font_manager] findfont: score(<Font 'Lohit Tamil' (Lohit-Tamil.ttf) normal normal 400 normal>) = 10.05\n",
      "[19:32:52 - matplotlib.font_manager] findfont: score(<Font 'DejaVu Serif' (DejaVuSerifCondensed-Italic.ttf) italic normal 400 condensed>) = 11.25\n",
      "[19:32:52 - matplotlib.font_manager] findfont: score(<Font 'Caladea' (Caladea-BoldItalic.ttf) italic normal bold normal>) = 11.335\n",
      "[19:32:52 - matplotlib.font_manager] findfont: score(<Font 'Source Han Sans CN' (SourceHanSansCN-Normal.otf) normal normal normal normal>) = 10.0\n",
      "[19:32:52 - matplotlib.font_manager] findfont: score(<Font 'FreeMono' (FreeMonoBoldOblique.ttf) oblique normal bold normal>) = 11.335\n",
      "[19:32:52 - matplotlib.font_manager] findfont: score(<Font 'DejaVu Serif' (DejaVuSerifCondensed-BoldItalic.ttf) italic normal bold condensed>) = 11.535\n",
      "[19:32:52 - matplotlib.font_manager] findfont: score(<Font 'Source Han Sans TWHK' (SourceHanSansTWHK-ExtraLight.otf) normal normal light normal>) = 10.24\n",
      "[19:32:52 - matplotlib.font_manager] findfont: score(<Font 'Khmer OS' (KhmerOS.ttf) normal normal 400 normal>) = 10.05\n",
      "[19:32:52 - matplotlib.font_manager] findfont: score(<Font 'Liberation Sans' (LiberationSans-BoldItalic.ttf) italic normal bold normal>) = 5.335\n",
      "[19:32:52 - matplotlib.font_manager] findfont: score(<Font 'Liberation Serif' (LiberationSerif-Italic.ttf) italic normal 400 normal>) = 11.05\n",
      "[19:32:52 - matplotlib.font_manager] findfont: score(<Font 'Padauk' (Padauk.ttf) normal normal 400 normal>) = 10.05\n",
      "[19:32:52 - matplotlib.font_manager] findfont: score(<Font 'DejaVu Sans' (DejaVuSansCondensed-BoldOblique.ttf) oblique normal bold condensed>) = 3.535\n",
      "[19:32:52 - matplotlib.font_manager] findfont: score(<Font 'Noto Sans Mandaic' (NotoSansMandaic-Regular.ttf) normal normal 400 normal>) = 10.05\n",
      "[19:32:52 - matplotlib.font_manager] findfont: score(<Font 'FreeSans' (FreeSansBold.ttf) normal normal bold normal>) = 10.335\n",
      "[19:32:52 - matplotlib.font_manager] findfont: score(<Font 'STIX' (STIX-Italic.otf) italic normal 400 normal>) = 11.05\n",
      "[19:32:52 - matplotlib.font_manager] findfont: score(<Font 'Noto Sans Tai Viet' (NotoSansTaiViet-Regular.ttf) normal normal 400 normal>) = 10.05\n",
      "[19:32:52 - matplotlib.font_manager] findfont: score(<Font 'Source Han Sans TWHK' (SourceHanSansTWHK-Bold.otf) normal normal bold normal>) = 10.335\n",
      "[19:32:52 - matplotlib.font_manager] findfont: score(<Font 'NanumGothic' (NanumGothic.ttf) normal normal 400 normal>) = 10.05\n"
     ]
    },
    {
     "name": "stderr",
     "output_type": "stream",
     "text": [
      "[19:32:52 - matplotlib.font_manager] findfont: score(<Font 'Waree' (Waree-Oblique.ttf) oblique normal 400 normal>) = 11.05\n",
      "[19:32:52 - matplotlib.font_manager] findfont: score(<Font 'Liberation Sans' (LiberationSans-Bold.ttf) normal normal bold normal>) = 4.335\n",
      "[19:32:52 - matplotlib.font_manager] findfont: score(<Font 'Source Han Sans TWHK' (SourceHanSansTWHK-Light.otf) normal normal light normal>) = 10.24\n",
      "[19:32:52 - matplotlib.font_manager] findfont: score(<Font 'Liberation Mono' (LiberationMono-BoldItalic.ttf) italic normal bold normal>) = 11.335\n",
      "[19:32:52 - matplotlib.font_manager] findfont: score(<Font 'Cantarell' (Cantarell-Bold.otf) normal normal bold normal>) = 10.335\n",
      "[19:32:52 - matplotlib.font_manager] findfont: score(<Font 'Liberation Sans' (LiberationSans-Regular.ttf) normal normal 400 normal>) = 4.05\n",
      "[19:32:52 - matplotlib.font_manager] findfont: score(<Font 'NanumGothic' (NanumGothicExtraBold.ttf) normal normal bold normal>) = 10.335\n",
      "[19:32:52 - matplotlib.font_manager] findfont: score(<Font 'Source Han Sans TWHK' (SourceHanSansTWHK-Regular.otf) normal normal regular normal>) = 10.05\n",
      "[19:32:52 - matplotlib.font_manager] findfont: score(<Font 'FreeSans' (FreeSansOblique.ttf) oblique normal 400 normal>) = 11.05\n",
      "[19:32:52 - matplotlib.font_manager] findfont: score(<Font 'Lohit Bengali' (Lohit-Bengali.ttf) normal normal 400 normal>) = 10.05\n",
      "[19:32:52 - matplotlib.font_manager] findfont: score(<Font 'Lohit Punjabi' (Lohit-Punjabi.ttf) normal normal 400 normal>) = 10.05\n",
      "[19:32:52 - matplotlib.font_manager] findfont: score(<Font 'FreeMono' (FreeMonoOblique.ttf) oblique normal 400 normal>) = 11.05\n",
      "[19:32:52 - matplotlib.font_manager] findfont: score(<Font 'Caladea' (Caladea-Bold.ttf) normal normal bold normal>) = 10.335\n",
      "[19:32:52 - matplotlib.font_manager] findfont: score(<Font 'Source Han Sans CN' (SourceHanSansCN-Bold.otf) normal normal bold normal>) = 10.335\n",
      "[19:32:52 - matplotlib.font_manager] findfont: score(<Font 'FreeSerif' (FreeSerifItalic.ttf) italic normal 400 normal>) = 11.05\n",
      "[19:32:52 - matplotlib.font_manager] findfont: score(<Font 'Source Han Sans CN' (SourceHanSansCN-Heavy.otf) normal normal bold normal>) = 10.335\n",
      "[19:32:52 - matplotlib.font_manager] findfont: score(<Font 'Liberation Serif' (LiberationSerif-Regular.ttf) normal normal 400 normal>) = 10.05\n",
      "[19:32:52 - matplotlib.font_manager] findfont: score(<Font 'Jomolhari' (Jomolhari-alpha3c-0605331.ttf) normal normal 400 normal>) = 10.05\n",
      "[19:32:52 - matplotlib.font_manager] findfont: score(<Font 'Liberation Mono' (LiberationMono-Italic.ttf) italic normal 400 normal>) = 11.05\n",
      "[19:32:52 - matplotlib.font_manager] findfont: score(<Font 'DejaVu Sans' (DejaVuSansCondensed-Bold.ttf) normal normal bold condensed>) = 2.535\n",
      "[19:32:52 - matplotlib.font_manager] findfont: score(<Font 'Khmer OS System' (KhmerOS_sys.ttf) normal normal 400 normal>) = 10.05\n",
      "[19:32:52 - matplotlib.font_manager] findfont: score(<Font 'Noto Sans Tai Tham' (NotoSansTaiTham-Regular.ttf) normal normal 400 normal>) = 10.05\n",
      "[19:32:52 - matplotlib.font_manager] findfont: score(<Font 'Lohit Assamese' (Lohit-Assamese.ttf) normal normal 400 normal>) = 10.05\n",
      "[19:32:52 - matplotlib.font_manager] findfont: score(<Font 'VL Gothic' (VL-Gothic-Regular.ttf) normal normal regular normal>) = 10.05\n",
      "[19:32:52 - matplotlib.font_manager] findfont: score(<Font 'Noto Sans Lisu' (NotoSansLisu-Regular.ttf) normal normal 400 normal>) = 10.05\n",
      "[19:32:52 - matplotlib.font_manager] findfont: score(<Font 'Carlito' (Carlito-Regular.ttf) normal normal 400 normal>) = 10.05\n",
      "[19:32:52 - matplotlib.font_manager] findfont: score(<Font 'DejaVu Sans' (DejaVuSans-ExtraLight.ttf) normal normal light normal>) = 2.24\n",
      "[19:32:52 - matplotlib.font_manager] findfont: score(<Font 'Waree' (Waree-BoldOblique.ttf) oblique normal bold normal>) = 11.335\n",
      "[19:32:52 - matplotlib.font_manager] findfont: score(<Font 'STIX' (STIX-Regular.otf) normal normal regular normal>) = 10.05\n",
      "[19:32:52 - matplotlib.font_manager] findfont: score(<Font 'Lohit Oriya' (Lohit-Oriya.ttf) normal normal 400 normal>) = 10.05\n",
      "[19:32:52 - matplotlib.font_manager] findfont: score(<Font 'OpenSymbol' (opens___.ttf) normal normal 400 normal>) = 10.05\n",
      "[19:32:52 - matplotlib.font_manager] findfont: score(<Font 'Liberation Serif' (LiberationSerif-Bold.ttf) normal normal bold normal>) = 10.335\n",
      "[19:32:52 - matplotlib.font_manager] findfont: score(<Font 'WenQuanYi Zen Hei' (wqy-zenhei.ttc) normal normal 400 normal>) = 10.05\n",
      "[19:32:52 - matplotlib.font_manager] findfont: score(<Font 'Lohit Devanagari' (Lohit-Devanagari.ttf) normal normal 400 normal>) = 10.05\n",
      "[19:32:52 - matplotlib.font_manager] findfont: score(<Font 'Lohit Telugu' (Lohit-Telugu.ttf) normal normal 400 normal>) = 10.05\n",
      "[19:32:52 - matplotlib.font_manager] findfont: score(<Font 'Abyssinica SIL' (AbyssinicaSIL-R.ttf) normal normal 400 normal>) = 10.05\n",
      "[19:32:52 - matplotlib.font_manager] findfont: score(<Font 'LKLUG' (lklug.ttf) normal normal 400 normal>) = 10.05\n",
      "[19:32:52 - matplotlib.font_manager] findfont: score(<Font 'Liberation Mono' (LiberationMono-Bold.ttf) normal normal bold normal>) = 10.335\n",
      "[19:32:52 - matplotlib.font_manager] findfont: score(<Font 'FreeSerif' (FreeSerifBold.ttf) normal normal bold normal>) = 10.335\n",
      "[19:32:52 - matplotlib.font_manager] findfont: score(<Font 'PT Sans Narrow' (PTN77F.ttf) normal normal bold condensed>) = 10.535\n",
      "[19:32:52 - matplotlib.font_manager] findfont: score(<Font 'PT Sans' (PTS55F.ttf) normal normal 400 normal>) = 10.05\n",
      "[19:32:52 - matplotlib.font_manager] findfont: score(<Font 'Padauk' (Padauk-bold.ttf) normal normal bold normal>) = 10.335\n",
      "[19:32:52 - matplotlib.font_manager] findfont: score(<Font 'Lohit Kannada' (Lohit-Kannada.ttf) normal normal 400 normal>) = 10.05\n",
      "[19:32:52 - matplotlib.font_manager] findfont: Matching :family=sans-serif:style=normal:variant=normal:weight=normal:stretch=normal:size=21.6 to DejaVu Sans ('/ssd1/home/kdorosch/software/anaconda3/envs/py36/lib/python3.6/site-packages/matplotlib/mpl-data/fonts/ttf/DejaVuSans.ttf') with score of 2.050000.\n"
     ]
    },
    {
     "data": {
      "image/png": "[encoded data removed]",
      "text/plain": [
       "<Figure size 432x432 with 1 Axes>"
      ]
     },
     "metadata": {},
     "output_type": "display_data"
    }
   ],
   "source": [
    "fig, ax = plt.subplots(figsize=(6, 6))\n",
    "ax.scatter(max_sw, second_best_sw, alpha=0.01, c=\"k\")\n",
    "ax.set_title(\"\")\n",
    "ax.set_xlabel(\"1st best SW score\")\n",
    "ax.set_ylabel(\"2nd best SW score\")\n",
    "ax.plot([0, 40], [0, 40])\n",
    "ax.axhline(15)\n",
    "ax.axvline(15)"
   ]
  },
  {
   "cell_type": "code",
   "execution_count": 17,
   "metadata": {
    "ExecuteTime": {
     "end_time": "2019-08-14T02:32:56.633151Z",
     "start_time": "2019-08-14T02:32:55.490361Z"
    }
   },
   "outputs": [
    {
     "data": {
      "text/plain": [
       "<matplotlib.axes._subplots.AxesSubplot at 0x7fda846553c8>"
      ]
     },
     "execution_count": 17,
     "metadata": {},
     "output_type": "execute_result"
    },
    {
     "data": {
      "image/png": "[encoded data removed]",
      "text/plain": [
       "<Figure size 432x288 with 1 Axes>"
      ]
     },
     "metadata": {},
     "output_type": "display_data"
    }
   ],
   "source": [
    "sns.distplot(max_sw)"
   ]
  },
  {
   "cell_type": "markdown",
   "metadata": {
    "ExecuteTime": {
     "end_time": "2019-08-11T00:31:43.917710Z",
     "start_time": "2019-08-11T00:31:43.897293Z"
    }
   },
   "source": [
    "### Merge & save alignment scores for all fq files"
   ]
  },
  {
   "cell_type": "code",
   "execution_count": 18,
   "metadata": {
    "ExecuteTime": {
     "end_time": "2019-08-14T02:32:56.648844Z",
     "start_time": "2019-08-14T02:32:56.634857Z"
    }
   },
   "outputs": [],
   "source": [
    "run_id = re.findall(r\"runid_(.*)_[\\d]+_[\\d]+.tsv\", sw_tsv)[0]"
   ]
  },
  {
   "cell_type": "code",
   "execution_count": 19,
   "metadata": {
    "ExecuteTime": {
     "end_time": "2019-08-14T02:32:56.662645Z",
     "start_time": "2019-08-14T02:32:56.650744Z"
    }
   },
   "outputs": [],
   "source": [
    "merged_sw_file = os.path.join(sw_dir, f\"all_{run_id}.tsv\")"
   ]
  },
  {
   "cell_type": "code",
   "execution_count": 20,
   "metadata": {
    "ExecuteTime": {
     "end_time": "2019-08-14T02:33:13.706227Z",
     "start_time": "2019-08-14T02:32:56.664557Z"
    }
   },
   "outputs": [],
   "source": [
    "sw.to_csv(merged_sw_file, sep=\"\\t\", index=True)"
   ]
  },
  {
   "cell_type": "code",
   "execution_count": 21,
   "metadata": {
    "ExecuteTime": {
     "end_time": "2019-08-14T02:33:13.723689Z",
     "start_time": "2019-08-14T02:33:13.708404Z"
    }
   },
   "outputs": [
    {
     "data": {
      "text/plain": [
       "'/path/to/data/MinION_sequencing_data_20190813/guppy_3.2.2_08_13_2019_run_02_exec_20190813/sw/all_cbeb224beba4132d960067800238defaeed962bf.tsv'"
      ]
     },
     "execution_count": 21,
     "metadata": {},
     "output_type": "execute_result"
    }
   ],
   "source": [
    "merged_sw_file"
   ]
  },
  {
   "cell_type": "markdown",
   "metadata": {},
   "source": [
    "# Evaluate extant molbits vs rest"
   ]
  },
  {
   "cell_type": "markdown",
   "metadata": {},
   "source": [
    "## Specify which molbits were actually present"
   ]
  },
  {
   "cell_type": "code",
   "execution_count": 75,
   "metadata": {
    "ExecuteTime": {
     "end_time": "2019-08-14T17:22:51.452155Z",
     "start_time": "2019-08-14T17:22:51.429272Z"
    }
   },
   "outputs": [],
   "source": [
    "# Create set_N variables based on spreadsheet\n",
    "molbit_sets = {}\n",
    "for ix, row in set_spreadsheet.iterrows():\n",
    "    set_no = re.findall(r\"set ([\\d]+)\", row[\"set\"])[0]\n",
    "    molbits = row[\"molbits_in_set\"]\n",
    "    molbit_sets[set_no] = molbits.split(\", \")"
   ]
  },
  {
   "cell_type": "code",
   "execution_count": 76,
   "metadata": {
    "ExecuteTime": {
     "end_time": "2019-08-14T17:22:51.927955Z",
     "start_time": "2019-08-14T17:22:51.902403Z"
    }
   },
   "outputs": [
    {
     "name": "stdout",
     "output_type": "stream",
     "text": [
      "0\n",
      "['0', '1', '2', '3', '4', '5', '6', '7', '8', '9', '10', '11', '12', '13', '14', '15']\n",
      "['16', '17', '18', '19', '20', '21', '22', '23', '24', '25', '26', '27', '28', '29', '30', '31', '0', '1', '2', '3', '4', '5', '6', '7', '8', '9', '10', '11', '12', '13', '14', '15']\n"
     ]
    }
   ],
   "source": [
    "molbit_set_in_run = str(run_data.get(\"molbit_set\"))\n",
    "molbit_sets_on_flowcell = run_data.get(\"prev_on_flowcell\")\n",
    "\n",
    "molbits_in_run = molbit_sets[molbit_set_in_run]\n",
    "molbits_on_flowcell = molbits_in_run[:]\n",
    "if molbit_sets_on_flowcell != \"none\":\n",
    "    molbit_sets_on_flowcell = molbit_sets_on_flowcell.split(\", \")\n",
    "    for m in molbit_sets_on_flowcell:\n",
    "        print(m)\n",
    "        print(molbit_sets[m])\n",
    "        molbits_on_flowcell.extend(molbit_sets[m])\n",
    "    print(molbits_on_flowcell)"
   ]
  },
  {
   "cell_type": "markdown",
   "metadata": {},
   "source": [
    "## Extract the best-aligned molbit, across all 96 molbits"
   ]
  },
  {
   "cell_type": "markdown",
   "metadata": {},
   "source": [
    "This cell replaces \"make_sw_call\" in the past. No more \"-1\"s. Just filter by accept_molbit."
   ]
  },
  {
   "cell_type": "code",
   "execution_count": 77,
   "metadata": {
    "ExecuteTime": {
     "end_time": "2019-08-14T17:23:16.037634Z",
     "start_time": "2019-08-14T17:22:54.402199Z"
    }
   },
   "outputs": [
    {
     "name": "stderr",
     "output_type": "stream",
     "text": [
      "/ssd1/home/kdorosch/.local/lib/python3.6/site-packages/ipykernel_launcher.py:4: FutureWarning: currently extract(expand=None) means expand=False (return Index/Series/DataFrame) but in a future version of pandas this will be changed to expand=True (return DataFrame)\n",
      "  after removing the cwd from sys.path.\n"
     ]
    }
   ],
   "source": [
    "sw_scores = sw.filter(regex=\"score_molbit_.*\")\n",
    "best_molbits = sw_scores.apply(np.argmax, axis=1)\n",
    "accept_molbit = sw.lookup(sw.index, best_molbits) >= 15\n",
    "sw[\"best_molbit\"] = best_molbits.str.extract(r\"score_molbit_([\\d]+)\")\n",
    "sw[\"accept_molbit\"] = accept_molbit"
   ]
  },
  {
   "cell_type": "code",
   "execution_count": 78,
   "metadata": {
    "ExecuteTime": {
     "end_time": "2019-08-14T17:23:16.616271Z",
     "start_time": "2019-08-14T17:23:16.039747Z"
    }
   },
   "outputs": [
    {
     "data": {
      "text/plain": [
       "0.7637102073453619"
      ]
     },
     "execution_count": 78,
     "metadata": {},
     "output_type": "execute_result"
    }
   ],
   "source": [
    "sum(accept_molbit) / len(accept_molbit)"
   ]
  },
  {
   "cell_type": "markdown",
   "metadata": {},
   "source": [
    "## Extract the best-aligned molbit, across ONLY the extant molbits"
   ]
  },
  {
   "cell_type": "code",
   "execution_count": 98,
   "metadata": {
    "ExecuteTime": {
     "end_time": "2019-08-15T23:09:20.706966Z",
     "start_time": "2019-08-15T23:09:20.541779Z"
    }
   },
   "outputs": [],
   "source": [
    "extant_sw_cols = [f\"sw_score_molbit_{molbit}\" for molbit in molbits_on_flowcell]"
   ]
  },
  {
   "cell_type": "code",
   "execution_count": 99,
   "metadata": {
    "ExecuteTime": {
     "end_time": "2019-08-15T23:09:21.084339Z",
     "start_time": "2019-08-15T23:09:20.732664Z"
    }
   },
   "outputs": [],
   "source": [
    "extant_sw = sw.loc[:, extant_sw_cols]"
   ]
  },
  {
   "cell_type": "code",
   "execution_count": 100,
   "metadata": {
    "ExecuteTime": {
     "end_time": "2019-08-15T23:09:44.003013Z",
     "start_time": "2019-08-15T23:09:21.171748Z"
    }
   },
   "outputs": [
    {
     "name": "stderr",
     "output_type": "stream",
     "text": [
      "/ssd1/home/kdorosch/.local/lib/python3.6/site-packages/ipykernel_launcher.py:4: FutureWarning: currently extract(expand=None) means expand=False (return Index/Series/DataFrame) but in a future version of pandas this will be changed to expand=True (return DataFrame)\n",
      "  after removing the cwd from sys.path.\n"
     ]
    }
   ],
   "source": [
    "extant_sw_scores = extant_sw.filter(regex=\"score_molbit_.*\")\n",
    "best_molbits = extant_sw_scores.apply(np.argmax, axis=1)\n",
    "accept_molbit = extant_sw.lookup(extant_sw.index, best_molbits) >= 15\n",
    "extant_sw[\"best_molbit\"] = best_molbits.str.extract(r\"score_molbit_([\\d]+)\")\n",
    "extant_sw[\"accept_molbit\"] = accept_molbit"
   ]
  },
  {
   "cell_type": "markdown",
   "metadata": {},
   "source": [
    "## Compare "
   ]
  },
  {
   "cell_type": "code",
   "execution_count": 101,
   "metadata": {
    "ExecuteTime": {
     "end_time": "2019-08-15T23:09:44.500847Z",
     "start_time": "2019-08-15T23:09:44.006696Z"
    }
   },
   "outputs": [],
   "source": [
    "# Only retrieve high-scoring alignments\n",
    "sw_accepted = sw[sw[\"accept_molbit\"]]\n",
    "extant_sw_acc = extant_sw[sw[\"accept_molbit\"]]"
   ]
  },
  {
   "cell_type": "code",
   "execution_count": 102,
   "metadata": {
    "ExecuteTime": {
     "end_time": "2019-08-15T23:09:44.618631Z",
     "start_time": "2019-08-15T23:09:44.504217Z"
    }
   },
   "outputs": [],
   "source": [
    "n_extant_is_best = sum(extant_sw_acc[\"best_molbit\"] == sw_accepted[\"best_molbit\"])"
   ]
  },
  {
   "cell_type": "code",
   "execution_count": 103,
   "metadata": {
    "ExecuteTime": {
     "end_time": "2019-08-15T23:09:44.661393Z",
     "start_time": "2019-08-15T23:09:44.620477Z"
    }
   },
   "outputs": [
    {
     "data": {
      "text/plain": [
       "192799"
      ]
     },
     "execution_count": 103,
     "metadata": {},
     "output_type": "execute_result"
    }
   ],
   "source": [
    "n_extant_is_best"
   ]
  },
  {
   "cell_type": "markdown",
   "metadata": {},
   "source": [
    "Percentage of well-aligned reads that belong to the true set"
   ]
  },
  {
   "cell_type": "code",
   "execution_count": 104,
   "metadata": {
    "ExecuteTime": {
     "end_time": "2019-08-15T23:09:44.683820Z",
     "start_time": "2019-08-15T23:09:44.663026Z"
    }
   },
   "outputs": [
    {
     "data": {
      "text/plain": [
       "0.9993209972528897"
      ]
     },
     "execution_count": 104,
     "metadata": {},
     "output_type": "execute_result"
    }
   ],
   "source": [
    "n_extant_is_best/len(sw_accepted)"
   ]
  },
  {
   "cell_type": "markdown",
   "metadata": {},
   "source": [
    "Read counts for each molbit"
   ]
  },
  {
   "cell_type": "code",
   "execution_count": 105,
   "metadata": {
    "ExecuteTime": {
     "end_time": "2019-08-15T23:09:44.891172Z",
     "start_time": "2019-08-15T23:09:44.685408Z"
    }
   },
   "outputs": [
    {
     "data": {
      "text/plain": [
       "[('0', 40),\n",
       " ('1', 35),\n",
       " ('10', 21),\n",
       " ('11', 70),\n",
       " ('12', 177),\n",
       " ('13', 37),\n",
       " ('14', 60),\n",
       " ('15', 170),\n",
       " ('16', 22817),\n",
       " ('17', 7931),\n",
       " ('18', 11506),\n",
       " ('19', 24394),\n",
       " ('2', 99),\n",
       " ('20', 19096),\n",
       " ('21', 8626),\n",
       " ('22', 6989),\n",
       " ('23', 2203),\n",
       " ('24', 3687),\n",
       " ('25', 11527),\n",
       " ('26', 12905),\n",
       " ('27', 9212),\n",
       " ('28', 5322),\n",
       " ('29', 15438),\n",
       " ('3', 184),\n",
       " ('30', 14727),\n",
       " ('31', 15019),\n",
       " ('4', 68),\n",
       " ('5', 123),\n",
       " ('6', 148),\n",
       " ('7', 78),\n",
       " ('8', 92),\n",
       " ('9', 129)]"
      ]
     },
     "execution_count": 105,
     "metadata": {},
     "output_type": "execute_result"
    }
   ],
   "source": [
    "m, c = np.unique(extant_sw_acc[\"best_molbit\"], return_counts=True)\n",
    "list(zip(m, c))"
   ]
  },
  {
   "cell_type": "markdown",
   "metadata": {},
   "source": [
    "## Extract the best-aligned molbit, across ONLY the current run's molbits"
   ]
  },
  {
   "cell_type": "code",
   "execution_count": 87,
   "metadata": {
    "ExecuteTime": {
     "end_time": "2019-08-14T17:31:37.271753Z",
     "start_time": "2019-08-14T17:31:37.255801Z"
    }
   },
   "outputs": [],
   "source": [
    "extant_sw_cols = [f\"sw_score_molbit_{molbit}\" for molbit in molbits_in_run]"
   ]
  },
  {
   "cell_type": "code",
   "execution_count": 88,
   "metadata": {
    "ExecuteTime": {
     "end_time": "2019-08-14T17:31:37.627797Z",
     "start_time": "2019-08-14T17:31:37.594310Z"
    }
   },
   "outputs": [],
   "source": [
    "extant_sw = sw.loc[:, extant_sw_cols]"
   ]
  },
  {
   "cell_type": "code",
   "execution_count": 89,
   "metadata": {
    "ExecuteTime": {
     "end_time": "2019-08-14T17:31:58.048856Z",
     "start_time": "2019-08-14T17:31:37.839387Z"
    }
   },
   "outputs": [
    {
     "name": "stderr",
     "output_type": "stream",
     "text": [
      "/ssd1/home/kdorosch/.local/lib/python3.6/site-packages/ipykernel_launcher.py:4: FutureWarning: currently extract(expand=None) means expand=False (return Index/Series/DataFrame) but in a future version of pandas this will be changed to expand=True (return DataFrame)\n",
      "  after removing the cwd from sys.path.\n"
     ]
    }
   ],
   "source": [
    "extant_sw_scores = extant_sw.filter(regex=\"score_molbit_.*\")\n",
    "best_molbits = extant_sw_scores.apply(np.argmax, axis=1)\n",
    "accept_molbit = extant_sw.lookup(extant_sw.index, best_molbits) >= 15\n",
    "extant_sw[\"best_molbit\"] = best_molbits.str.extract(r\"score_molbit_([\\d]+)\")\n",
    "extant_sw[\"accept_molbit\"] = accept_molbit"
   ]
  },
  {
   "cell_type": "markdown",
   "metadata": {},
   "source": [
    "## Compare "
   ]
  },
  {
   "cell_type": "code",
   "execution_count": 90,
   "metadata": {
    "ExecuteTime": {
     "end_time": "2019-08-14T17:31:58.219794Z",
     "start_time": "2019-08-14T17:31:58.051181Z"
    }
   },
   "outputs": [],
   "source": [
    "# Only retrieve high-scoring alignments\n",
    "sw_accepted = sw[sw[\"accept_molbit\"]]\n",
    "extant_sw_acc = extant_sw[sw[\"accept_molbit\"]]"
   ]
  },
  {
   "cell_type": "code",
   "execution_count": 91,
   "metadata": {
    "ExecuteTime": {
     "end_time": "2019-08-14T17:31:58.272547Z",
     "start_time": "2019-08-14T17:31:58.221870Z"
    }
   },
   "outputs": [],
   "source": [
    "n_extant_is_best = sum(extant_sw_acc[\"best_molbit\"] == sw_accepted[\"best_molbit\"])"
   ]
  },
  {
   "cell_type": "code",
   "execution_count": 92,
   "metadata": {
    "ExecuteTime": {
     "end_time": "2019-08-14T17:31:58.290775Z",
     "start_time": "2019-08-14T17:31:58.274688Z"
    }
   },
   "outputs": [
    {
     "data": {
      "text/plain": [
       "191278"
      ]
     },
     "execution_count": 92,
     "metadata": {},
     "output_type": "execute_result"
    }
   ],
   "source": [
    "n_extant_is_best"
   ]
  },
  {
   "cell_type": "markdown",
   "metadata": {},
   "source": [
    "Percentage of well-aligned reads that belong to the true set"
   ]
  },
  {
   "cell_type": "code",
   "execution_count": 93,
   "metadata": {
    "ExecuteTime": {
     "end_time": "2019-08-14T17:31:58.306747Z",
     "start_time": "2019-08-14T17:31:58.292655Z"
    }
   },
   "outputs": [
    {
     "data": {
      "text/plain": [
       "0.9914373088685016"
      ]
     },
     "execution_count": 93,
     "metadata": {},
     "output_type": "execute_result"
    }
   ],
   "source": [
    "n_extant_is_best/len(sw_accepted)"
   ]
  },
  {
   "cell_type": "markdown",
   "metadata": {},
   "source": [
    "Read counts for each molbit"
   ]
  },
  {
   "cell_type": "code",
   "execution_count": 94,
   "metadata": {
    "ExecuteTime": {
     "end_time": "2019-08-14T17:31:58.489103Z",
     "start_time": "2019-08-14T17:31:58.308431Z"
    }
   },
   "outputs": [
    {
     "data": {
      "text/plain": [
       "[('16', 22922),\n",
       " ('17', 8138),\n",
       " ('18', 11588),\n",
       " ('19', 24652),\n",
       " ('20', 19277),\n",
       " ('21', 8655),\n",
       " ('22', 7023),\n",
       " ('23', 2214),\n",
       " ('24', 3718),\n",
       " ('25', 11597),\n",
       " ('26', 12942),\n",
       " ('27', 9406),\n",
       " ('28', 5371),\n",
       " ('29', 15477),\n",
       " ('30', 14886),\n",
       " ('31', 15064)]"
      ]
     },
     "execution_count": 94,
     "metadata": {},
     "output_type": "execute_result"
    }
   ],
   "source": [
    "m, c = np.unique(extant_sw_acc[\"best_molbit\"], return_counts=True)\n",
    "list(zip(m, c))"
   ]
  },
  {
   "cell_type": "markdown",
   "metadata": {},
   "source": [
    "## Get counts for all molbits"
   ]
  },
  {
   "cell_type": "code",
   "execution_count": 106,
   "metadata": {
    "ExecuteTime": {
     "end_time": "2019-08-20T16:47:59.650223Z",
     "start_time": "2019-08-20T16:47:51.232768Z"
    }
   },
   "outputs": [
    {
     "name": "stdout",
     "output_type": "stream",
     "text": [
      "40\n",
      "35\n",
      "99\n",
      "184\n",
      "68\n",
      "122\n",
      "147\n",
      "77\n",
      "91\n",
      "127\n",
      "20\n",
      "70\n",
      "178\n",
      "38\n",
      "59\n",
      "170\n",
      "22810\n",
      "7880\n",
      "11500\n",
      "24389\n",
      "19092\n",
      "8624\n",
      "6988\n",
      "2196\n",
      "3681\n",
      "11522\n",
      "12896\n",
      "9207\n",
      "5322\n",
      "15432\n",
      "14720\n",
      "15019\n",
      "0\n",
      "0\n",
      "0\n",
      "0\n",
      "3\n",
      "1\n",
      "0\n",
      "0\n",
      "0\n",
      "0\n",
      "4\n",
      "2\n",
      "0\n",
      "0\n",
      "0\n",
      "0\n",
      "3\n",
      "0\n",
      "0\n",
      "0\n",
      "0\n",
      "1\n",
      "0\n",
      "5\n",
      "1\n",
      "0\n",
      "0\n",
      "2\n",
      "1\n",
      "49\n",
      "1\n",
      "0\n",
      "2\n",
      "1\n",
      "0\n",
      "0\n",
      "1\n",
      "3\n",
      "0\n",
      "0\n",
      "6\n",
      "7\n",
      "0\n",
      "0\n",
      "0\n",
      "3\n",
      "1\n",
      "0\n",
      "0\n",
      "0\n",
      "0\n",
      "0\n",
      "5\n",
      "6\n",
      "0\n",
      "2\n",
      "1\n",
      "7\n",
      "0\n",
      "1\n",
      "0\n",
      "4\n",
      "1\n",
      "3\n"
     ]
    }
   ],
   "source": [
    "m, c = np.unique(sw[sw[\"accept_molbit\"]][\"best_molbit\"], return_counts=True)\n",
    "molbit_counts = dict(zip(m, c))\n",
    "for i in range(96):\n",
    "    i = str(i)\n",
    "    if i in molbit_counts:\n",
    "        print(f\"{molbit_counts[i]}\")\n",
    "    else:\n",
    "        print(f\"0\")"
   ]
  },
  {
   "cell_type": "code",
   "execution_count": null,
   "metadata": {},
   "outputs": [],
   "source": []
  }
 ],
 "metadata": {
  "kernelspec": {
   "display_name": "Python 3",
   "language": "python",
   "name": "python3"
  },
  "language_info": {
   "codemirror_mode": {
    "name": "ipython",
    "version": 3
   },
   "file_extension": ".py",
   "mimetype": "text/x-python",
   "name": "python",
   "nbconvert_exporter": "python",
   "pygments_lexer": "ipython3",
   "version": "3.7.6"
  },
  "toc": {
   "base_numbering": 1,
   "nav_menu": {},
   "number_sections": true,
   "sideBar": true,
   "skip_h1_title": false,
   "title_cell": "Table of Contents",
   "title_sidebar": "Contents",
   "toc_cell": false,
   "toc_position": {},
   "toc_section_display": true,
   "toc_window_display": false
  }
 },
 "nbformat": 4,
 "nbformat_minor": 2
}