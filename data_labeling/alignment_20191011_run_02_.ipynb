{
 "cells": [
  {
   "cell_type": "code",
   "execution_count": 1,
   "metadata": {
    "ExecuteTime": {
     "end_time": "2019-10-14T16:54:33.776020Z",
     "start_time": "2019-10-14T16:54:32.949167Z"
    }
   },
   "outputs": [],
   "source": [
    "%load_ext autoreload\n",
    "%autoreload 2\n",
    "%matplotlib inline\n",
    "import os\n",
    "import h5py\n",
    "import numpy as np\n",
    "import pandas as pd\n",
    "import logging\n",
    "import re\n",
    "\n",
    "from matplotlib import pyplot as plt\n",
    "import seaborn as sns\n",
    "sns.set(font_scale=1.8, style=\"whitegrid\")"
   ]
  },
  {
   "cell_type": "code",
   "execution_count": 2,
   "metadata": {
    "ExecuteTime": {
     "end_time": "2019-10-14T17:03:24.829100Z",
     "start_time": "2019-10-14T17:03:24.810609Z"
    }
   },
   "outputs": [],
   "source": [
    "logger = logging.getLogger(__name__)\n",
    "logging.basicConfig(format='[%(asctime)s - %(name)s] %(message)s',\n",
    "                        datefmt='%H:%M:%S',\n",
    "                        level=logging.DEBUG,\n",
    "                        handlers=[logging.StreamHandler()])"
   ]
  },
  {
   "cell_type": "markdown",
   "metadata": {},
   "source": [
    "# Import run settings"
   ]
  },
  {
   "cell_type": "code",
   "execution_count": 3,
   "metadata": {
    "ExecuteTime": {
     "end_time": "2019-10-14T17:03:27.709791Z",
     "start_time": "2019-10-14T17:03:26.809928Z"
    }
   },
   "outputs": [],
   "source": [
    "def import_gdrive_sheet(gdrive_key, sheet_id):\n",
    "    run_spreadsheet = pd.read_csv(\"https://docs.google.com/spreadsheet/ccc?key=\" + \\\n",
    "                                  gdrive_key + \"&output=csv&gid=\" + sheet_id)\n",
    "    if \"date\" in run_spreadsheet.columns:\n",
    "        run_spreadsheet[\"date\"] = run_spreadsheet[\"date\"].astype(str)\n",
    "    return run_spreadsheet\n",
    "\n",
    "gdrive_key = \"gsheet_id_here\"\n",
    "sheet_id = \"0\"\n",
    "set_sheet_id = \"512509543\"\n",
    "\n",
    "run_spreadsheet = import_gdrive_sheet(gdrive_key, sheet_id)\n",
    "set_spreadsheet = import_gdrive_sheet(gdrive_key, set_sheet_id)"
   ]
  },
  {
   "cell_type": "code",
   "execution_count": 4,
   "metadata": {
    "ExecuteTime": {
     "end_time": "2019-10-14T17:03:27.733135Z",
     "start_time": "2019-10-14T17:03:27.712997Z"
    }
   },
   "outputs": [],
   "source": [
    "run_name = \"10_11_19_run_02\"\n",
    "molbit_file = \"../porcupine_sequences.fa\"\n",
    "run_data = dict(run_spreadsheet[run_spreadsheet[\"run_name\"] == run_name].iloc[0, :])"
   ]
  },
  {
   "cell_type": "code",
   "execution_count": 5,
   "metadata": {
    "ExecuteTime": {
     "end_time": "2019-10-14T17:03:28.741608Z",
     "start_time": "2019-10-14T17:03:28.719838Z"
    }
   },
   "outputs": [],
   "source": [
    "fastq_dir = os.path.join(run_data[\"basecall_dir\"], \"pass\")"
   ]
  },
  {
   "cell_type": "markdown",
   "metadata": {},
   "source": [
    "# Run sequence alignment"
   ]
  },
  {
   "cell_type": "code",
   "execution_count": 7,
   "metadata": {
    "ExecuteTime": {
     "end_time": "2019-10-14T17:05:15.785525Z",
     "start_time": "2019-10-14T17:05:15.761882Z"
    }
   },
   "outputs": [],
   "source": [
    "def read_fasta(fasta_fname):\n",
    "    '''Assumes 1 line per sequence.'''\n",
    "    seqs = []\n",
    "    names = []\n",
    "    with open(fasta_fname) as fa:\n",
    "        for line in fa:\n",
    "            line = line.strip()\n",
    "            if line.startswith(\">\"):\n",
    "                names.append(line.replace(\">\", \"\").split()[0])\n",
    "            else:\n",
    "                seqs.append(line)\n",
    "    return seqs, names"
   ]
  },
  {
   "cell_type": "code",
   "execution_count": 8,
   "metadata": {
    "ExecuteTime": {
     "end_time": "2019-10-14T17:05:15.802173Z",
     "start_time": "2019-10-14T17:05:15.787353Z"
    }
   },
   "outputs": [],
   "source": [
    "def read_fastq(fastq_fname):\n",
    "    seqs = []\n",
    "    with open(fastq_fname) as fq:\n",
    "        fq = fq.readlines()\n",
    "        for line_i in range(0, len(fq), 4):\n",
    "            line = fq[line_i].strip().split(\" \")\n",
    "            read_id = str(line[0])[1:]\n",
    "            seq = fq[line_i + 1].strip()\n",
    "            seqs.append((read_id, seq))\n",
    "    return seqs"
   ]
  },
  {
   "cell_type": "code",
   "execution_count": 9,
   "metadata": {
    "ExecuteTime": {
     "end_time": "2019-10-14T17:05:15.826718Z",
     "start_time": "2019-10-14T17:05:15.804645Z"
    }
   },
   "outputs": [
    {
     "ename": "ModuleNotFoundError",
     "evalue": "No module named 'pore_utils'",
     "output_type": "error",
     "traceback": [
      "\u001b[0;31m---------------------------------------------------------------------------\u001b[0m",
      "\u001b[0;31mModuleNotFoundError\u001b[0m                       Traceback (most recent call last)",
      "\u001b[0;32m<ipython-input-9-b2ba22b0e991>\u001b[0m in \u001b[0;36m<module>\u001b[0;34m\u001b[0m\n\u001b[0;32m----> 1\u001b[0;31m \u001b[0;32mfrom\u001b[0m \u001b[0mpore_utils\u001b[0m \u001b[0;32mimport\u001b[0m \u001b[0mraw_signal_utils\u001b[0m\u001b[0;34m\u001b[0m\u001b[0;34m\u001b[0m\u001b[0m\n\u001b[0m\u001b[1;32m      2\u001b[0m \u001b[0;32mfrom\u001b[0m \u001b[0mpore_utils\u001b[0m \u001b[0;32mimport\u001b[0m \u001b[0msmith_waterman\u001b[0m \u001b[0;32mas\u001b[0m \u001b[0ms_w\u001b[0m\u001b[0;34m\u001b[0m\u001b[0;34m\u001b[0m\u001b[0m\n",
      "\u001b[0;31mModuleNotFoundError\u001b[0m: No module named 'pore_utils'"
     ]
    }
   ],
   "source": [
    "from pore_utils import raw_signal_utils\n",
    "from pore_utils import smith_waterman as s_w"
   ]
  },
  {
   "cell_type": "code",
   "execution_count": null,
   "metadata": {
    "ExecuteTime": {
     "end_time": "2019-10-14T17:05:15.830684Z",
     "start_time": "2019-10-14T17:03:34.570Z"
    }
   },
   "outputs": [],
   "source": [
    "def helper_run_sw(read, molbit_seqs=None, search_len=100,\n",
    "                  cost_fn={\"match\": 2, \"mismatch\": -2, \"gap\": -1}):\n",
    "    read_id, seq = read\n",
    "\n",
    "    sw_search_end = min(len(seq), search_len)\n",
    "    search_seq = seq[:sw_search_end]\n",
    "\n",
    "    results = [read_id]\n",
    "    for header_i, header_seq in enumerate(molbit_seqs):\n",
    "        _, sw_score, _, sw_loc, _ = s_w.s_w(search_seq, header_seq,\n",
    "                                        cost_fn=cost_fn)\n",
    "        results.append(sw_score)\n",
    "    return results\n",
    "\n",
    "\n",
    "def run_sw(fastq_dir, out_dir, search_len=80, molbit_fa=None, n_workers=20,\n",
    "           cost_fn={\"match\": 2, \"mismatch\": -2, \"gap\": -1}):\n",
    "    os.makedirs(out_dir)\n",
    "    import dask.bag as db\n",
    "    from dask.diagnostics import ProgressBar\n",
    "    ProgressBar().register()\n",
    "    \n",
    "    logger.info(\"Getting molbit sequences.\")\n",
    "    assert molbit_fa is not None\n",
    "    assert os.path.exists(molbit_fa)\n",
    "    molbit_seqs, molbit_names = read_fasta(molbit_fa)\n",
    "    \n",
    "    logger.info(\"Locating fastq files.\")\n",
    "    fastq_files = []\n",
    "    for fname in os.listdir(fastq_dir):\n",
    "        if fname.endswith(\".fastq\"):\n",
    "            fastq_files.append(os.path.join(fastq_dir, fname))\n",
    "    assert len(fastq_files) > 0\n",
    "    \n",
    "    logger.info(\"Running SW, one fastq at a time.\")\n",
    "    for fq_i, fq_fname in enumerate(fastq_files):\n",
    "        logger.info(f\"Starting fastq ({fq_i} of {len(fastq_files)})\\n\\t{fq_fname}\")\n",
    "        fq_seqs = read_fastq(fq_fname)\n",
    "        \n",
    "        bag = db.from_sequence(fq_seqs)\n",
    "        dask_map = bag.map(helper_run_sw, molbit_seqs=molbit_seqs,\n",
    "                           search_len=search_len, cost_fn=cost_fn)\n",
    "        sw_scores = dask_map.compute(num_workers=n_workers)\n",
    "        \n",
    "        cols = [\"read_id\"] + [f\"sw_score_molbit_{molbit}\" for molbit in molbit_names]\n",
    "        sw_df = pd.DataFrame(sw_scores, columns=cols)\n",
    "        sw_df.index = sw_df[\"read_id\"]\n",
    "        del sw_df[\"read_id\"]\n",
    "        out_fname = fq_fname.split(\"/\")[-1].replace(\".fastq\", \"\") + \".tsv\"\n",
    "        out_fname = os.path.join(out_dir, out_fname)\n",
    "        logger.info(f\"Saving to file: {out_fname}\")\n",
    "        sw_df.to_csv(out_fname, sep=\"\\t\", index=True)"
   ]
  },
  {
   "cell_type": "code",
   "execution_count": null,
   "metadata": {
    "ExecuteTime": {
     "end_time": "2019-10-14T17:05:15.831827Z",
     "start_time": "2019-10-14T17:03:34.955Z"
    }
   },
   "outputs": [],
   "source": [
    "sw_dir = os.path.join(run_data[\"basecall_dir\"], \"sw\")\n",
    "cost_fn = {\"match\": 1, \"mismatch\": -1, \"gap\": -8}"
   ]
  },
  {
   "cell_type": "raw",
   "metadata": {
    "ExecuteTime": {
     "end_time": "2019-08-11T02:58:25.962380Z",
     "start_time": "2019-08-11T02:58:25.723668Z"
    }
   },
   "source": [
    "! rm -rf /path/to/data/MinION_sequencing_data_20190809/guppy_3.2.2_exec_20190809/sw"
   ]
  },
  {
   "cell_type": "code",
   "execution_count": null,
   "metadata": {
    "ExecuteTime": {
     "end_time": "2019-10-14T17:05:15.833057Z",
     "start_time": "2019-10-14T17:03:35.867Z"
    }
   },
   "outputs": [],
   "source": [
    "run_sw(fastq_dir, sw_dir, search_len=80, cost_fn=cost_fn, molbit_fa=molbit_file, n_workers=40)"
   ]
  },
  {
   "cell_type": "code",
   "execution_count": null,
   "metadata": {
    "ExecuteTime": {
     "end_time": "2019-10-14T17:05:15.834313Z",
     "start_time": "2019-10-14T17:03:38.222Z"
    }
   },
   "outputs": [],
   "source": [
    "sw_dir"
   ]
  },
  {
   "cell_type": "code",
   "execution_count": null,
   "metadata": {
    "ExecuteTime": {
     "end_time": "2019-10-14T17:05:15.835498Z",
     "start_time": "2019-10-14T17:03:39.165Z"
    }
   },
   "outputs": [],
   "source": [
    "sw_list = []\n",
    "for fname in os.listdir(sw_dir):\n",
    "    if len(re.findall(r\"fastq_runid_.*_[\\d]+_[\\d]+.tsv\", fname)) == 0:\n",
    "        continue\n",
    "    sw_tsv = os.path.join(sw_dir, fname)\n",
    "    sw = pd.read_csv(sw_tsv, sep=\"\\t\", index_col=0)\n",
    "    sw_list.append(sw)\n",
    "sw = pd.concat(sw_list)\n",
    "del sw_list"
   ]
  },
  {
   "cell_type": "code",
   "execution_count": null,
   "metadata": {
    "ExecuteTime": {
     "end_time": "2019-10-14T17:05:15.836657Z",
     "start_time": "2019-10-14T17:03:39.650Z"
    }
   },
   "outputs": [],
   "source": [
    "sw_arr = np.array(sw)"
   ]
  },
  {
   "cell_type": "code",
   "execution_count": null,
   "metadata": {
    "ExecuteTime": {
     "end_time": "2019-10-14T17:05:15.837811Z",
     "start_time": "2019-10-14T17:03:40.027Z"
    }
   },
   "outputs": [],
   "source": [
    "max_sw = np.max(sw_arr, axis=1)\n",
    "sw_arr[range(len(sw_arr)), np.argmax(sw_arr, axis=1)] = 0\n",
    "second_best_sw = np.max(sw_arr, axis=1)\n",
    "sw_arr = np.array(sw)"
   ]
  },
  {
   "cell_type": "code",
   "execution_count": null,
   "metadata": {
    "ExecuteTime": {
     "end_time": "2019-10-14T17:05:15.838927Z",
     "start_time": "2019-10-14T17:03:40.371Z"
    }
   },
   "outputs": [],
   "source": [
    "sw_tsv"
   ]
  },
  {
   "cell_type": "markdown",
   "metadata": {},
   "source": [
    "## Plot alignment scores for basic overview of performance"
   ]
  },
  {
   "cell_type": "code",
   "execution_count": null,
   "metadata": {
    "ExecuteTime": {
     "end_time": "2019-10-14T17:05:15.840136Z",
     "start_time": "2019-10-14T17:03:41.157Z"
    },
    "scrolled": false
   },
   "outputs": [],
   "source": [
    "fig, ax = plt.subplots(figsize=(6, 6))\n",
    "ax.scatter(max_sw, second_best_sw, alpha=0.01, c=\"k\")\n",
    "ax.set_title(\"\")\n",
    "ax.set_xlabel(\"1st best SW score\")\n",
    "ax.set_ylabel(\"2nd best SW score\")\n",
    "ax.plot([0, 40], [0, 40])\n",
    "ax.axhline(15)\n",
    "ax.axvline(15)"
   ]
  },
  {
   "cell_type": "code",
   "execution_count": null,
   "metadata": {
    "ExecuteTime": {
     "end_time": "2019-10-14T17:05:15.841360Z",
     "start_time": "2019-10-14T17:03:41.908Z"
    }
   },
   "outputs": [],
   "source": [
    "sns.distplot(max_sw)"
   ]
  },
  {
   "cell_type": "markdown",
   "metadata": {
    "ExecuteTime": {
     "end_time": "2019-08-11T00:31:43.917710Z",
     "start_time": "2019-08-11T00:31:43.897293Z"
    }
   },
   "source": [
    "### Merge & save alignment scores for all fq files"
   ]
  },
  {
   "cell_type": "code",
   "execution_count": null,
   "metadata": {
    "ExecuteTime": {
     "end_time": "2019-10-14T17:05:15.842539Z",
     "start_time": "2019-10-14T17:03:42.586Z"
    }
   },
   "outputs": [],
   "source": [
    "run_id = re.findall(r\"runid_(.*)_[\\d]+_[\\d]+.tsv\", sw_tsv)[0]"
   ]
  },
  {
   "cell_type": "code",
   "execution_count": null,
   "metadata": {
    "ExecuteTime": {
     "end_time": "2019-10-14T17:05:15.843682Z",
     "start_time": "2019-10-14T17:03:42.831Z"
    }
   },
   "outputs": [],
   "source": [
    "merged_sw_file = os.path.join(sw_dir, f\"all_{run_id}.tsv\")"
   ]
  },
  {
   "cell_type": "code",
   "execution_count": null,
   "metadata": {
    "ExecuteTime": {
     "end_time": "2019-10-14T17:05:15.844732Z",
     "start_time": "2019-10-14T17:03:43.055Z"
    }
   },
   "outputs": [],
   "source": [
    "sw.to_csv(merged_sw_file, sep=\"\\t\", index=True)"
   ]
  },
  {
   "cell_type": "code",
   "execution_count": null,
   "metadata": {
    "ExecuteTime": {
     "end_time": "2019-10-14T17:05:15.845863Z",
     "start_time": "2019-10-14T17:03:43.241Z"
    }
   },
   "outputs": [],
   "source": [
    "merged_sw_file"
   ]
  },
  {
   "cell_type": "markdown",
   "metadata": {},
   "source": [
    "# Evaluate extant molbits vs rest"
   ]
  },
  {
   "cell_type": "markdown",
   "metadata": {},
   "source": [
    "## Specify which molbits were actually present"
   ]
  },
  {
   "cell_type": "code",
   "execution_count": null,
   "metadata": {
    "ExecuteTime": {
     "end_time": "2019-10-14T17:05:15.847035Z",
     "start_time": "2019-10-14T17:03:44.156Z"
    }
   },
   "outputs": [],
   "source": [
    "# Create set_N variables based on spreadsheet\n",
    "molbit_sets = {}\n",
    "for ix, row in set_spreadsheet.iterrows():\n",
    "    set_no = re.findall(r\"set ([\\d]+)\", row[\"set\"])[0]\n",
    "    molbits = row[\"molbits_in_set\"]\n",
    "    molbit_sets[set_no] = molbits.replace(\" \", \"\").split(\",\")"
   ]
  },
  {
   "cell_type": "code",
   "execution_count": null,
   "metadata": {
    "ExecuteTime": {
     "end_time": "2019-10-14T17:05:15.848156Z",
     "start_time": "2019-10-14T17:03:44.481Z"
    }
   },
   "outputs": [],
   "source": [
    "molbit_set_in_run = str(run_data.get(\"molbit_set\"))\n",
    "molbit_sets_on_flowcell = run_data.get(\"prev_on_flowcell\")\n",
    "\n",
    "molbits_in_run = molbit_sets[molbit_set_in_run]\n",
    "molbits_on_flowcell = molbits_in_run[:]\n",
    "if molbit_sets_on_flowcell != \"none\":\n",
    "    molbit_sets_on_flowcell = molbit_sets_on_flowcell.split(\", \")\n",
    "    for m in molbit_sets_on_flowcell:\n",
    "        print(m)\n",
    "        print(molbit_sets[m])\n",
    "        molbits_on_flowcell.extend(molbit_sets[m])\n",
    "    print(molbits_on_flowcell)\n",
    "molbits_on_flowcell = list(np.unique(molbits_on_flowcell))"
   ]
  },
  {
   "cell_type": "markdown",
   "metadata": {},
   "source": [
    "## Extract the best-aligned molbit, across all 96 molbits"
   ]
  },
  {
   "cell_type": "markdown",
   "metadata": {},
   "source": [
    "This cell replaces \"make_sw_call\" in the past. No more \"-1\"s. Just filter by accept_molbit."
   ]
  },
  {
   "cell_type": "code",
   "execution_count": null,
   "metadata": {
    "ExecuteTime": {
     "end_time": "2019-10-14T17:05:15.849381Z",
     "start_time": "2019-10-14T17:03:45.162Z"
    }
   },
   "outputs": [],
   "source": [
    "sw_scores = sw.filter(regex=\"score_molbit_.*\")\n",
    "best_molbits = sw_scores.apply(np.argmax, axis=1)\n",
    "accept_molbit = sw.lookup(sw.index, best_molbits) >= 15\n",
    "sw[\"best_molbit\"] = best_molbits.str.extract(r\"score_molbit_([\\d]+)\")\n",
    "sw[\"accept_molbit\"] = accept_molbit"
   ]
  },
  {
   "cell_type": "code",
   "execution_count": null,
   "metadata": {
    "ExecuteTime": {
     "end_time": "2019-10-14T17:05:15.850509Z",
     "start_time": "2019-10-14T17:03:45.453Z"
    },
    "scrolled": true
   },
   "outputs": [],
   "source": [
    "len(accept_molbit)"
   ]
  },
  {
   "cell_type": "code",
   "execution_count": null,
   "metadata": {
    "ExecuteTime": {
     "end_time": "2019-10-14T17:05:15.851704Z",
     "start_time": "2019-10-14T17:03:45.960Z"
    }
   },
   "outputs": [],
   "source": [
    "sum(accept_molbit)"
   ]
  },
  {
   "cell_type": "code",
   "execution_count": null,
   "metadata": {
    "ExecuteTime": {
     "end_time": "2019-10-14T17:05:15.852765Z",
     "start_time": "2019-10-14T17:03:46.385Z"
    }
   },
   "outputs": [],
   "source": [
    "sum(accept_molbit) / len(accept_molbit)"
   ]
  },
  {
   "cell_type": "markdown",
   "metadata": {},
   "source": [
    "## Extract the best-aligned molbit, across ONLY the extant molbits"
   ]
  },
  {
   "cell_type": "code",
   "execution_count": null,
   "metadata": {
    "ExecuteTime": {
     "end_time": "2019-10-14T17:05:15.853938Z",
     "start_time": "2019-10-14T17:03:47.473Z"
    }
   },
   "outputs": [],
   "source": [
    "extant_sw_cols = [f\"sw_score_molbit_{molbit}\" for molbit in molbits_on_flowcell]"
   ]
  },
  {
   "cell_type": "code",
   "execution_count": null,
   "metadata": {
    "ExecuteTime": {
     "end_time": "2019-10-14T17:05:15.855120Z",
     "start_time": "2019-10-14T17:03:47.914Z"
    }
   },
   "outputs": [],
   "source": [
    "extant_sw = sw.loc[:, extant_sw_cols]"
   ]
  },
  {
   "cell_type": "code",
   "execution_count": null,
   "metadata": {
    "ExecuteTime": {
     "end_time": "2019-10-14T17:05:15.856391Z",
     "start_time": "2019-10-14T17:03:48.169Z"
    }
   },
   "outputs": [],
   "source": [
    "extant_sw_scores = extant_sw.filter(regex=\"score_molbit_.*\")\n",
    "best_molbits = extant_sw_scores.apply(np.argmax, axis=1)\n",
    "accept_molbit = extant_sw.lookup(extant_sw.index, best_molbits) >= 15\n",
    "extant_sw[\"best_molbit\"] = best_molbits.str.extract(r\"score_molbit_([\\d]+)\")\n",
    "extant_sw[\"accept_molbit\"] = accept_molbit"
   ]
  },
  {
   "cell_type": "markdown",
   "metadata": {},
   "source": [
    "## Compare "
   ]
  },
  {
   "cell_type": "code",
   "execution_count": null,
   "metadata": {
    "ExecuteTime": {
     "end_time": "2019-10-14T17:05:15.857508Z",
     "start_time": "2019-10-14T17:03:48.534Z"
    }
   },
   "outputs": [],
   "source": [
    "# Only retrieve high-scoring alignments\n",
    "sw_accepted = sw[sw[\"accept_molbit\"]]\n",
    "extant_sw_acc = extant_sw[sw[\"accept_molbit\"]]"
   ]
  },
  {
   "cell_type": "code",
   "execution_count": null,
   "metadata": {
    "ExecuteTime": {
     "end_time": "2019-10-14T17:05:15.858658Z",
     "start_time": "2019-10-14T17:03:48.785Z"
    }
   },
   "outputs": [],
   "source": [
    "n_extant_is_best = sum(extant_sw_acc[\"best_molbit\"] == sw_accepted[\"best_molbit\"])"
   ]
  },
  {
   "cell_type": "code",
   "execution_count": null,
   "metadata": {
    "ExecuteTime": {
     "end_time": "2019-10-14T17:05:15.859694Z",
     "start_time": "2019-10-14T17:03:49.023Z"
    }
   },
   "outputs": [],
   "source": [
    "n_extant_is_best"
   ]
  },
  {
   "cell_type": "markdown",
   "metadata": {},
   "source": [
    "Percentage of well-aligned reads that belong to the true set"
   ]
  },
  {
   "cell_type": "code",
   "execution_count": null,
   "metadata": {
    "ExecuteTime": {
     "end_time": "2019-10-14T17:05:15.860804Z",
     "start_time": "2019-10-14T17:03:49.565Z"
    }
   },
   "outputs": [],
   "source": [
    "n_extant_is_best/len(sw_accepted)"
   ]
  },
  {
   "cell_type": "markdown",
   "metadata": {},
   "source": [
    "Read counts for each molbit"
   ]
  },
  {
   "cell_type": "code",
   "execution_count": null,
   "metadata": {
    "ExecuteTime": {
     "end_time": "2019-10-14T17:05:15.861841Z",
     "start_time": "2019-10-14T17:03:50.795Z"
    }
   },
   "outputs": [],
   "source": [
    "m, c = np.unique(extant_sw_acc[\"best_molbit\"], return_counts=True)\n",
    "list(zip(m, c))"
   ]
  },
  {
   "cell_type": "code",
   "execution_count": null,
   "metadata": {
    "ExecuteTime": {
     "end_time": "2019-10-14T17:05:15.862943Z",
     "start_time": "2019-10-14T17:03:51.306Z"
    }
   },
   "outputs": [],
   "source": [
    "print(\"\\n\".join([str(x) for x in c]))"
   ]
  },
  {
   "cell_type": "markdown",
   "metadata": {},
   "source": [
    "## Extract the best-aligned molbit, across ONLY the current run's molbits"
   ]
  },
  {
   "cell_type": "code",
   "execution_count": null,
   "metadata": {
    "ExecuteTime": {
     "end_time": "2019-10-14T17:05:15.864124Z",
     "start_time": "2019-10-14T17:03:52.241Z"
    }
   },
   "outputs": [],
   "source": [
    "extant_sw_cols = [f\"sw_score_molbit_{molbit}\" for molbit in molbits_in_run]"
   ]
  },
  {
   "cell_type": "code",
   "execution_count": null,
   "metadata": {
    "ExecuteTime": {
     "end_time": "2019-10-14T17:05:15.865253Z",
     "start_time": "2019-10-14T17:03:52.357Z"
    }
   },
   "outputs": [],
   "source": [
    "extant_sw = sw.loc[:, extant_sw_cols]"
   ]
  },
  {
   "cell_type": "code",
   "execution_count": null,
   "metadata": {
    "ExecuteTime": {
     "end_time": "2019-10-14T17:05:15.866451Z",
     "start_time": "2019-10-14T17:03:52.544Z"
    }
   },
   "outputs": [],
   "source": [
    "extant_sw_scores = extant_sw.filter(regex=\"score_molbit_.*\")\n",
    "best_molbits = extant_sw_scores.apply(np.argmax, axis=1)\n",
    "accept_molbit = extant_sw.lookup(extant_sw.index, best_molbits) >= 15\n",
    "extant_sw[\"best_molbit\"] = best_molbits.str.extract(r\"score_molbit_([\\d]+)\")\n",
    "extant_sw[\"accept_molbit\"] = accept_molbit"
   ]
  },
  {
   "cell_type": "markdown",
   "metadata": {},
   "source": [
    "## Compare "
   ]
  },
  {
   "cell_type": "code",
   "execution_count": null,
   "metadata": {
    "ExecuteTime": {
     "end_time": "2019-10-14T17:05:15.867590Z",
     "start_time": "2019-10-14T17:03:52.872Z"
    }
   },
   "outputs": [],
   "source": [
    "# Only retrieve high-scoring alignments\n",
    "sw_accepted = sw[sw[\"accept_molbit\"]]\n",
    "extant_sw_acc = extant_sw[sw[\"accept_molbit\"]]"
   ]
  },
  {
   "cell_type": "code",
   "execution_count": null,
   "metadata": {
    "ExecuteTime": {
     "end_time": "2019-10-14T17:05:15.868631Z",
     "start_time": "2019-10-14T17:03:52.997Z"
    }
   },
   "outputs": [],
   "source": [
    "n_extant_is_best = sum(extant_sw_acc[\"best_molbit\"] == sw_accepted[\"best_molbit\"])"
   ]
  },
  {
   "cell_type": "code",
   "execution_count": null,
   "metadata": {
    "ExecuteTime": {
     "end_time": "2019-10-14T17:05:15.869750Z",
     "start_time": "2019-10-14T17:03:53.125Z"
    }
   },
   "outputs": [],
   "source": [
    "n_extant_is_best"
   ]
  },
  {
   "cell_type": "markdown",
   "metadata": {},
   "source": [
    "Percentage of well-aligned reads that belong to the true set"
   ]
  },
  {
   "cell_type": "code",
   "execution_count": null,
   "metadata": {
    "ExecuteTime": {
     "end_time": "2019-10-14T17:05:15.870883Z",
     "start_time": "2019-10-14T17:03:53.468Z"
    }
   },
   "outputs": [],
   "source": [
    "n_extant_is_best/len(sw_accepted)"
   ]
  },
  {
   "cell_type": "markdown",
   "metadata": {},
   "source": [
    "Read counts for each molbit"
   ]
  },
  {
   "cell_type": "code",
   "execution_count": null,
   "metadata": {
    "ExecuteTime": {
     "end_time": "2019-10-14T17:05:15.871961Z",
     "start_time": "2019-10-14T17:03:53.727Z"
    }
   },
   "outputs": [],
   "source": [
    "m, c = np.unique(extant_sw_acc[\"best_molbit\"], return_counts=True)\n",
    "list(zip(m, c))"
   ]
  },
  {
   "cell_type": "code",
   "execution_count": null,
   "metadata": {
    "ExecuteTime": {
     "end_time": "2019-10-14T17:05:15.873081Z",
     "start_time": "2019-10-14T17:03:53.946Z"
    }
   },
   "outputs": [],
   "source": [
    "l = []\n",
    "for i in range(0, 96, 16):\n",
    "    l.extend(range(i, i+8))"
   ]
  },
  {
   "cell_type": "code",
   "execution_count": null,
   "metadata": {
    "ExecuteTime": {
     "end_time": "2019-10-14T17:05:15.874124Z",
     "start_time": "2019-10-14T17:03:54.334Z"
    }
   },
   "outputs": [],
   "source": [
    "\", \".join([str(x) for x in l])"
   ]
  },
  {
   "cell_type": "markdown",
   "metadata": {},
   "source": [
    "## Get counts for all molbits"
   ]
  },
  {
   "cell_type": "code",
   "execution_count": null,
   "metadata": {
    "ExecuteTime": {
     "end_time": "2019-10-14T17:05:15.875251Z",
     "start_time": "2019-10-14T17:03:54.784Z"
    },
    "scrolled": true
   },
   "outputs": [],
   "source": [
    "m, c = np.unique(sw[sw[\"accept_molbit\"]][\"best_molbit\"], return_counts=True)\n",
    "molbit_counts = dict(zip(m, c))\n",
    "for i in range(96):\n",
    "    i = str(i)\n",
    "    if i in molbit_counts:\n",
    "        print(f\"{molbit_counts[i]}\")\n",
    "    else:\n",
    "        print(f\"0\")"
   ]
  },
  {
   "cell_type": "markdown",
   "metadata": {},
   "source": [
    "# Plot read counts"
   ]
  },
  {
   "cell_type": "code",
   "execution_count": null,
   "metadata": {
    "ExecuteTime": {
     "end_time": "2019-10-14T17:05:15.876533Z",
     "start_time": "2019-10-14T17:03:55.707Z"
    },
    "code_folding": []
   },
   "outputs": [],
   "source": [
    "def plot_read_counts(labels, counts, labels_on_flowcell, labels_in_run,\n",
    "                     possible_labels=None, ax=None, vmax=None, title_note=None):\n",
    "    from matplotlib.patches import Patch\n",
    "    if vmax is None:\n",
    "        vmax = max(counts) + max(counts)\n",
    "    if ax == None:\n",
    "        fig, ax = plt.subplots(figsize=(10, 8))\n",
    "    if possible_labels is None:\n",
    "        possible_labels = labels[:]\n",
    "    g = sns.barplot(x=labels, y=counts, order=possible_labels, ax=ax)\n",
    "    title = \"#/reads identified per molbit\"\n",
    "    if title_note is not None:\n",
    "        title += \"\\n(%s)\" % title_note\n",
    "    ax.set_title(title)\n",
    "    ax.set_xlabel(\"Molbit ID\")\n",
    "    ax.set_ylabel(\"Read counts\")\n",
    "    ax.set_ylim([0, vmax])\n",
    "    \n",
    "    prev_text_height = 0\n",
    "    for j, label in enumerate(possible_labels):\n",
    "        if label in labels:\n",
    "            count = counts[labels.index(label)]\n",
    "        else:\n",
    "            count = 0\n",
    "        if label == \"-1\":\n",
    "            continue\n",
    "\n",
    "#         try:\n",
    "#             label = int(label)\n",
    "#         except:\n",
    "#             pass\n",
    "        \n",
    "        if label in labels_in_run:\n",
    "            g.containers[0].get_children()[j].set_facecolor(\"tab:red\")\n",
    "            font_kwargs = {\"color\": \"tab:red\", \"weight\": \"bold\"} \n",
    "        elif label in labels_on_flowcell:\n",
    "            g.containers[0].get_children()[j].set_facecolor(\"tab:blue\")\n",
    "            font_kwargs = {\"color\": \"k\", \"weight\": \"bold\"}\n",
    "        else:\n",
    "            g.containers[0].get_children()[j].set_facecolor(\"k\")\n",
    "            font_kwargs = {\"color\": \"k\", \"weight\": \"normal\"}\n",
    "            \n",
    "        diff = prev_text_height - (count + 0.01 * vmax)\n",
    "        if count < 100:\n",
    "            text_height = count + .01 * vmax\n",
    "            ax.text(j, text_height, count, ha=\"center\", **font_kwargs)\n",
    "        elif diff < 0 and np.abs(diff) < vmax * .06:\n",
    "            text_height = np.max([prev_text_height + .035 * vmax, count + .01 * vmax])\n",
    "            ax.text(j, text_height, count, ha=\"center\", **font_kwargs)\n",
    "        elif np.abs(diff) < vmax * .05:\n",
    "            text_height = np.min([prev_text_height - .01 * vmax, count + .01 * vmax])\n",
    "            ax.text(j, text_height, count, ha=\"center\", **font_kwargs)\n",
    "        else:\n",
    "            text_height = count + .01 * vmax\n",
    "            ax.text(j, text_height, count, ha=\"center\", **font_kwargs)\n",
    "        prev_text_height = text_height\n",
    "        \n",
    "    legend_elements = [Patch(facecolor='tab:blue', edgecolor='tab:blue',\n",
    "                         label='median/typical molbits'),\n",
    "                       Patch(facecolor='tab:red', edgecolor='tab:red',\n",
    "                         label='highest/lowest molbits')]\n",
    "    leg = ax.legend(handles=legend_elements)\n",
    "    t1, t2 = leg.get_texts()\n",
    "    t2._fontproperties = t1._fontproperties.copy()\n",
    "#     t3._fontproperties = t1._fontproperties.copy()\n",
    "    t1.set_weight('bold')\n",
    "    t2.set_weight('bold')\n",
    "    t2.set_color(\"tab:red\")\n",
    "    return ax"
   ]
  },
  {
   "cell_type": "markdown",
   "metadata": {},
   "source": [
    "# Save labels"
   ]
  },
  {
   "cell_type": "code",
   "execution_count": null,
   "metadata": {
    "ExecuteTime": {
     "end_time": "2019-10-14T17:05:15.878649Z",
     "start_time": "2019-10-14T17:04:24.180Z"
    }
   },
   "outputs": [],
   "source": [
    "merged_sw_file"
   ]
  },
  {
   "cell_type": "code",
   "execution_count": null,
   "metadata": {
    "ExecuteTime": {
     "end_time": "2019-10-14T17:05:15.879781Z",
     "start_time": "2019-10-14T17:04:25.563Z"
    }
   },
   "outputs": [],
   "source": [
    "sw = pd.read_csv(merged_sw_file, sep=\"\\t\", index_col=0)\n",
    "sw_scores = sw.filter(regex=\"score_molbit_.*\")\n",
    "best_molbits = sw_scores.apply(np.argmax, axis=1)\n",
    "accept_molbit = sw.lookup(sw.index, best_molbits) >= 15\n",
    "sw[\"best_molbit\"] = best_molbits.str.extract(r\"score_molbit_([\\d]+)\")\n",
    "sw[\"accept_molbit\"] = accept_molbit\n",
    "sw[\"best_molbit_is_in_run\"] = sw[\"best_molbit\"].apply(lambda x: x in molbits_in_run)\n",
    "\n",
    "labels_in_set = sw[np.logical_and(sw[\"accept_molbit\"], sw[\"best_molbit_is_in_run\"])]"
   ]
  },
  {
   "cell_type": "code",
   "execution_count": null,
   "metadata": {
    "ExecuteTime": {
     "end_time": "2019-10-14T17:05:15.881166Z",
     "start_time": "2019-10-14T17:04:25.945Z"
    }
   },
   "outputs": [],
   "source": [
    "sw_label_file = merged_sw_file.replace(\"all\", \"labels_for_molbits_in_set\")\n",
    "print(sw_label_file)"
   ]
  },
  {
   "cell_type": "code",
   "execution_count": null,
   "metadata": {
    "ExecuteTime": {
     "end_time": "2019-10-14T17:05:15.882351Z",
     "start_time": "2019-10-14T17:04:26.329Z"
    }
   },
   "outputs": [],
   "source": [
    "best_score = np.max(labels_in_set[[f\"sw_score_molbit_{molbit}\" for molbit in molbits_in_run]], axis=1)\n",
    "labels_in_set[\"best_score\"] = best_score\n",
    "labels_in_set = labels_in_set.loc[:, [\"best_molbit\", \"best_score\"]]\n",
    "labels_in_set.columns = [\"molbit\", \"sw_score\"]\n",
    "\n",
    "labels_in_set.to_csv(sw_label_file, sep=\"\\t\", index=True)"
   ]
  },
  {
   "cell_type": "markdown",
   "metadata": {},
   "source": [
    "# Attempt to scale the counts"
   ]
  },
  {
   "cell_type": "code",
   "execution_count": null,
   "metadata": {
    "ExecuteTime": {
     "end_time": "2019-10-14T17:05:15.883402Z",
     "start_time": "2019-10-14T17:04:29.996Z"
    }
   },
   "outputs": [],
   "source": [
    "scaling_factor = [ 117.44079692,  296.08219178,   79.3902663 ,   63.8680128 ,\n",
    "        301.24041812,  106.23305345,   50.35782934,   94.36710933,\n",
    "        261.39458779,   23.42805573,  236.19903327,  215.71332122,\n",
    "         72.68457433, 1674.82258065,  359.61558442,   92.43485034,\n",
    "         55.15762106,  147.49710313,  161.68942521,   41.8235584 ,\n",
    "         72.38555587,  124.39775226,  207.99019608,  599.71731449,\n",
    "        410.15625   ,  146.23955432,   81.21546961,  151.60891089,\n",
    "        265.91895803,   93.01442673,   59.58171206,   41.92334018,\n",
    "         75.73638033,  100.18461538,  178.88385542,  176.9227836 ,\n",
    "         35.15      ,   99.06164932,  435.15123095,  124.01737387,\n",
    "        100.70515917,  113.01108647,  127.24327323,   34.53376496,\n",
    "        113.68327138,   86.11075652,  317.00898411,  239.53629243,\n",
    "         83.78780013,  276.0384821 ,   89.75808133,   32.18069662,\n",
    "        250.71262136,  310.93798916,   76.84392204,  187.19391084,\n",
    "        211.31315136,  165.0372093 ,   71.34651475,  403.21590909,\n",
    "         35.59571978,  201.41721854,  126.01242971,   66.43719769,\n",
    "       1425.49333333,  102.0477251 ,   39.45092251,   84.89571202,\n",
    "         68.85702018,  148.00922935,  204.68155712,  104.81568627,\n",
    "         66.45394046,  150.09968354,   32.68883529,   74.21318208,\n",
    "        797.16806723,   93.0257416 ,  348.76102941,  372.37684004,\n",
    "         95.12844828,   56.96902426,  143.82404692,  231.58237146,\n",
    "        171.5491644 ,   65.69370442,   68.64634526,  119.36073553,\n",
    "        128.91764706,   32.27093687,  114.79353994,  433.62242374,\n",
    "         92.13242249,  293.19063545,  129.10751105,   86.49629995]"
   ]
  },
  {
   "cell_type": "code",
   "execution_count": 119,
   "metadata": {
    "ExecuteTime": {
     "end_time": "2019-09-10T00:12:09.331300Z",
     "start_time": "2019-09-10T00:12:08.572648Z"
    }
   },
   "outputs": [
    {
     "data": {
      "text/plain": [
       "<matplotlib.axes._subplots.AxesSubplot at 0x7f132b639cf8>"
      ]
     },
     "execution_count": 119,
     "metadata": {},
     "output_type": "execute_result"
    },
    {
     "data": {
      "image/png": "[encoded data removed]",
      "text/plain": [
       "<Figure size 2160x576 with 1 Axes>"
      ]
     },
     "metadata": {},
     "output_type": "display_data"
    }
   ],
   "source": [
    "molbits = [str(x) for x in m]\n",
    "counts = list(c / np.array(scaling_factors_chosen))\n",
    "on_flowcell = [str(x) for x in molbits_on_flowcell]\n",
    "in_run = [str(x) for x in molbits_in_run if str(x) not in medium]\n",
    "poss_molbits = [str(x) for x in range(96)]\n",
    "plot_read_counts(molbits, counts, on_flowcell, in_run, possible_labels=low+medium+high, vmax=1500)"
   ]
  },
  {
   "cell_type": "markdown",
   "metadata": {},
   "source": [
    "# Compare to other data"
   ]
  },
  {
   "cell_type": "code",
   "execution_count": 144,
   "metadata": {
    "ExecuteTime": {
     "end_time": "2019-09-11T21:33:21.957930Z",
     "start_time": "2019-09-11T21:33:21.941305Z"
    }
   },
   "outputs": [],
   "source": [
    "test_run_names = [\"08_28_2019_run_01\",\n",
    "                  \"08_30_2019_run_01\",]"
   ]
  },
  {
   "cell_type": "code",
   "execution_count": 145,
   "metadata": {
    "ExecuteTime": {
     "end_time": "2019-09-11T21:33:21.975862Z",
     "start_time": "2019-09-11T21:33:21.959806Z"
    }
   },
   "outputs": [],
   "source": [
    "test_runs = run_spreadsheet[run_spreadsheet[\"run_name\"].apply(lambda x: x in test_run_names)]"
   ]
  },
  {
   "cell_type": "code",
   "execution_count": 146,
   "metadata": {
    "ExecuteTime": {
     "end_time": "2019-09-11T21:33:29.366021Z",
     "start_time": "2019-09-11T21:33:28.689107Z"
    }
   },
   "outputs": [],
   "source": [
    "test_sw = []\n",
    "for i, run_data in test_runs.iterrows():\n",
    "    run_name = run_data[\"run_name\"]\n",
    "    label_file = run_data[\"filtered_sw_labels\"]\n",
    "    \n",
    "    sw = pd.read_csv(label_file, sep=\"\\t\", index_col=0)\n",
    "    sw[\"run_name\"] = run_name\n",
    "    test_sw.append(sw)\n",
    "test_sw = pd.concat(test_sw) "
   ]
  },
  {
   "cell_type": "code",
   "execution_count": 147,
   "metadata": {
    "ExecuteTime": {
     "end_time": "2019-09-11T21:33:36.694775Z",
     "start_time": "2019-09-11T21:33:35.402268Z"
    }
   },
   "outputs": [],
   "source": [
    "test_molbit_counts = []\n",
    "test_norms = []\n",
    "norm_test_molbit_counts = []\n",
    "test_bits = []\n",
    "for set_i, start_molbit in enumerate(range(0, 96, 16)):\n",
    "    for half in [0, 1]:\n",
    "        if half == 0:\n",
    "            run_name = test_run_names[0]\n",
    "            molbits_in_range = range(start_molbit, start_molbit+8)\n",
    "        else:\n",
    "            run_name = test_run_names[1]\n",
    "            molbits_in_range = range(start_molbit+8, start_molbit+16)\n",
    "        test_sw_run = test_sw[test_sw[\"run_name\"] == run_name]\n",
    "        filtered_labels_in_run = test_sw_run[test_sw_run[\"molbit\"].apply(lambda x: x in molbits_in_range)]\n",
    "        l, c = np.unique(filtered_labels_in_run[\"molbit\"], return_counts=True)\n",
    "        for l_, c_ in zip(l, c):\n",
    "            test_molbit_counts.append(c_)\n",
    "            norm_test_molbit_counts.append(c_ / sum(c))\n",
    "        test_norms.append(sum(c))\n",
    "        test_bits.append(molbits_in_range)\n",
    "    "
   ]
  },
  {
   "cell_type": "code",
   "execution_count": 160,
   "metadata": {
    "ExecuteTime": {
     "end_time": "2019-09-11T21:40:46.670576Z",
     "start_time": "2019-09-11T21:40:46.639296Z"
    }
   },
   "outputs": [],
   "source": [
    "selected_molbits = [int(x) for x in low + medium + high]"
   ]
  },
  {
   "cell_type": "code",
   "execution_count": 159,
   "metadata": {
    "ExecuteTime": {
     "end_time": "2019-09-11T21:38:59.566009Z",
     "start_time": "2019-09-11T21:38:58.921941Z"
    },
    "scrolled": false
   },
   "outputs": [
    {
     "data": {
      "image/png": "[encoded data removed]",
      "text/plain": [
       "<Figure size 720x576 with 1 Axes>"
      ]
     },
     "metadata": {},
     "output_type": "display_data"
    }
   ],
   "source": [
    "molbits = [str(x) for x in range(96)]\n",
    "counts = list(c)\n",
    "on_flowcell = [str(x) for x in molbits_on_flowcell]\n",
    "in_run = [str(x) for x in molbits_in_run if str(x) not in medium]\n",
    "poss_molbits = [str(x) for x in range(96)]\n",
    "ax = plot_read_counts(molbits, norm_test_molbit_counts, on_flowcell, in_run, possible_labels=low+medium+high)#, vmax=36600, title_note=\"test data 8/28 and 8/30\")\n",
    "\n",
    "plt.savefig(\"../v4/plots/read_count_analysis/read_counts_reordered_seqs_in_test_data.svg\")"
   ]
  },
  {
   "cell_type": "code",
   "execution_count": 183,
   "metadata": {
    "ExecuteTime": {
     "end_time": "2019-09-11T22:00:22.346412Z",
     "start_time": "2019-09-11T22:00:22.322068Z"
    }
   },
   "outputs": [],
   "source": [
    "only_selected_molbits_test = np.array(norm_test_molbit_counts)[selected_molbits]\n",
    "only_selected_molbits_test = only_selected_molbits_test / sum(only_selected_molbits_test)"
   ]
  },
  {
   "cell_type": "code",
   "execution_count": 184,
   "metadata": {
    "ExecuteTime": {
     "end_time": "2019-09-11T22:00:30.400185Z",
     "start_time": "2019-09-11T22:00:30.086266Z"
    }
   },
   "outputs": [],
   "source": [
    "m, c = np.unique(sw[sw[\"accept_molbit\"]][\"best_molbit\"], return_counts=True)\n",
    "molbits = [str(x) for x in m]\n",
    "order = []\n",
    "for i in selected_molbits:\n",
    "    order.append(list(m).index(str(i)))\n",
    "only_selected_molbits_reorder = c[order]\n",
    "only_selected_molbits_reorder = only_selected_molbits_reorder / sum(only_selected_molbits_reorder)"
   ]
  },
  {
   "cell_type": "code",
   "execution_count": 186,
   "metadata": {
    "ExecuteTime": {
     "end_time": "2019-09-11T22:00:44.977727Z",
     "start_time": "2019-09-11T22:00:44.957729Z"
    }
   },
   "outputs": [
    {
     "data": {
      "text/plain": [
       "[(0.005025347535018459, 0.0028964021824700857),\n",
       " (0.000499001996007984, 0.003403004184163723),\n",
       " (0.0024420186176319927, 0.00608524096393608),\n",
       " (0.006252980764135446, 0.008088743914247725),\n",
       " (0.006610672460388957, 0.011187059322163398),\n",
       " (0.04991786338826771, 0.02248799355784738),\n",
       " (0.08494073799304047, 0.05215276757063835),\n",
       " (0.0874534117605497, 0.04896909965820754),\n",
       " (0.06054263155105718, 0.04267083203305644),\n",
       " (0.04759949128292088, 0.057140221367869094),\n",
       " (0.21151943899811, 0.2070577189234361),\n",
       " (0.12344337872926713, 0.1404700525142723),\n",
       " (0.07783989543037818, 0.1507412917632979),\n",
       " (0.12799621994948157, 0.15031976907826977),\n",
       " (0.10791690954374437, 0.09632980296612409)]"
      ]
     },
     "execution_count": 186,
     "metadata": {},
     "output_type": "execute_result"
    }
   ],
   "source": [
    "list(zip(only_selected_molbits_reorder, only_selected_molbits_test))"
   ]
  },
  {
   "cell_type": "code",
   "execution_count": 192,
   "metadata": {
    "ExecuteTime": {
     "end_time": "2019-09-11T22:14:49.976090Z",
     "start_time": "2019-09-11T22:14:49.950345Z"
    }
   },
   "outputs": [],
   "source": [
    "rows = []\n",
    "for molbit, reorder_count, test_count in zip(selected_molbits, only_selected_molbits_reorder, only_selected_molbits_test):\n",
    "    rows.append([molbit, reorder_count, \"reorder\"])\n",
    "    rows.append([molbit, test_count, \"test\"])\n",
    "data = pd.DataFrame(rows, columns=[\"molbit\", \"count\", \"dataset\"])"
   ]
  },
  {
   "cell_type": "code",
   "execution_count": 204,
   "metadata": {
    "ExecuteTime": {
     "end_time": "2019-09-11T22:23:51.210971Z",
     "start_time": "2019-09-11T22:23:51.187111Z"
    }
   },
   "outputs": [],
   "source": [
    "from matplotlib.patches import Patch"
   ]
  },
  {
   "cell_type": "code",
   "execution_count": 209,
   "metadata": {
    "ExecuteTime": {
     "end_time": "2019-09-11T22:28:08.024558Z",
     "start_time": "2019-09-11T22:28:05.886108Z"
    }
   },
   "outputs": [
    {
     "data": {
      "image/png": "[encoded data removed]",
      "text/plain": [
       "<Figure size 864x576 with 1 Axes>"
      ]
     },
     "metadata": {},
     "output_type": "display_data"
    }
   ],
   "source": [
    "fig, ax = plt.subplots(figsize=(12, 8))\n",
    "ax = sns.barplot(data=data, x=\"molbit\", y=\"count\", hue=\"dataset\", ax=ax, order=selected_molbits)\n",
    "ax.set_xlabel(\"Molbit ID\")\n",
    "ax.set_ylabel(\"Read counts\")\n",
    "\n",
    "for j, label in enumerate(selected_molbits):\n",
    "    if str(label) in low:\n",
    "        ax.containers[0].get_children()[j].set_facecolor(\"tab:blue\")\n",
    "        font_kwargs = {\"color\": \"tab:red\", \"weight\": \"bold\"}\n",
    "        ax.containers[1].get_children()[j].set_facecolor(\"tab:blue\")\n",
    "        ax.containers[1].get_children()[j].set_hatch('/')\n",
    "        ax.containers[1].get_children()[j].set_alpha(0.5)\n",
    "        \n",
    "    elif str(label) in high:\n",
    "        ax.containers[0].get_children()[j].set_facecolor(\"tab:red\")\n",
    "        font_kwargs = {\"color\": \"tab:red\", \"weight\": \"bold\"}\n",
    "        ax.containers[1].get_children()[j].set_facecolor(\"tab:red\")\n",
    "        ax.containers[1].get_children()[j].set_hatch('/')\n",
    "        ax.containers[1].get_children()[j].set_alpha(0.5)\n",
    "    else:\n",
    "        ax.containers[0].get_children()[j].set_facecolor(\"k\")\n",
    "        font_kwargs = {\"color\": \"k\", \"weight\": \"normal\"}\n",
    "        ax.containers[1].get_children()[j].set_facecolor(\"k\")\n",
    "        ax.containers[1].get_children()[j].set_hatch('/')\n",
    "        ax.containers[1].get_children()[j].set_alpha(0.5)\n",
    "        \n",
    "legend_elements = [Patch(facecolor='tab:blue', edgecolor='tab:blue',\n",
    "                         label='lowest (reordered)'),\n",
    "                   Patch(facecolor='tab:blue', edgecolor='tab:blue',\n",
    "                         label='lowest (test)', alpha=0.5, hatch=\"/\"),\n",
    "                   Patch(facecolor='k', edgecolor='k',\n",
    "                         label='median (reordered)'),\n",
    "                   Patch(facecolor='k', edgecolor='k',\n",
    "                         label='median (test)', alpha=0.5, hatch=\"/\"),\n",
    "                   Patch(facecolor='tab:red', edgecolor='tab:red',\n",
    "                         label='highest (reordered)'),\n",
    "                   Patch(facecolor='tab:red', edgecolor='tab:red',\n",
    "                         label='highest (test)', alpha=0.5, hatch=\"/\"),]\n",
    "leg = ax.legend(handles=legend_elements)\n",
    "\n",
    "ax.set_title(\"Read counts for molbits in\\ntest dataset & reordered dataset\")\n",
    "plt.savefig(\"../v4/plots/read_count_analysis/read_counts_comparison.svg\")\n",
    "plt.savefig(\"../v4/plots/read_count_analysis/read_counts_comparison.png\", dpi=300)"
   ]
  },
  {
   "cell_type": "code",
   "execution_count": null,
   "metadata": {},
   "outputs": [],
   "source": []
  }
 ],
 "metadata": {
  "kernelspec": {
   "display_name": "Python 3",
   "language": "python",
   "name": "python3"
  },
  "language_info": {
   "codemirror_mode": {
    "name": "ipython",
    "version": 3
   },
   "file_extension": ".py",
   "mimetype": "text/x-python",
   "name": "python",
   "nbconvert_exporter": "python",
   "pygments_lexer": "ipython3",
   "version": "3.7.6"
  },
  "notify_time": "30",
  "toc": {
   "base_numbering": 1,
   "nav_menu": {},
   "number_sections": true,
   "sideBar": true,
   "skip_h1_title": false,
   "title_cell": "Table of Contents",
   "title_sidebar": "Contents",
   "toc_cell": false,
   "toc_position": {},
   "toc_section_display": true,
   "toc_window_display": false
  }
 },
 "nbformat": 4,
 "nbformat_minor": 2
}
