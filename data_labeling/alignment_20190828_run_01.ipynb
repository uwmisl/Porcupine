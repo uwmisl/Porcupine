{
 "cells": [
  {
   "cell_type": "code",
   "execution_count": 1,
   "metadata": {
    "ExecuteTime": {
     "end_time": "2019-08-28T20:12:08.453702Z",
     "start_time": "2019-08-28T20:12:07.250360Z"
    }
   },
   "outputs": [],
   "source": [
    "%load_ext autoreload\n",
    "%autoreload 2\n",
    "%matplotlib inline\n",
    "import os\n",
    "import h5py\n",
    "import numpy as np\n",
    "import pandas as pd\n",
    "import logging\n",
    "import re\n",
    "\n",
    "from matplotlib import pyplot as plt\n",
    "import seaborn as sns\n",
    "sns.set(font_scale=1.8, style=\"whitegrid\")"
   ]
  },
  {
   "cell_type": "code",
   "execution_count": 2,
   "metadata": {
    "ExecuteTime": {
     "end_time": "2019-08-28T20:12:08.469305Z",
     "start_time": "2019-08-28T20:12:08.456036Z"
    }
   },
   "outputs": [],
   "source": [
    "logger = logging.getLogger(__name__)\n",
    "logging.basicConfig(format='[%(asctime)s - %(name)s] %(message)s',\n",
    "                        datefmt='%H:%M:%S',\n",
    "                        level=logging.DEBUG,\n",
    "                        handlers=[logging.StreamHandler()])"
   ]
  },
  {
   "cell_type": "markdown",
   "metadata": {},
   "source": [
    "# Import run settings"
   ]
  },
  {
   "cell_type": "code",
   "execution_count": 34,
   "metadata": {
    "ExecuteTime": {
     "end_time": "2019-08-29T00:20:50.735832Z",
     "start_time": "2019-08-29T00:20:49.782407Z"
    }
   },
   "outputs": [],
   "source": [
    "def import_gdrive_sheet(gdrive_key, sheet_id):\n",
    "    run_spreadsheet = pd.read_csv(\"https://docs.google.com/spreadsheet/ccc?key=\" + \\\n",
    "                                  gdrive_key + \"&output=csv&gid=\" + sheet_id)\n",
    "    if \"date\" in run_spreadsheet.columns:\n",
    "        run_spreadsheet[\"date\"] = run_spreadsheet[\"date\"].astype(str)\n",
    "    return run_spreadsheet\n",
    "\n",
    "gdrive_key = \"gsheet_id_here\"\n",
    "sheet_id = \"0\"\n",
    "set_sheet_id = \"512509543\"\n",
    "\n",
    "run_spreadsheet = import_gdrive_sheet(gdrive_key, sheet_id)\n",
    "set_spreadsheet = import_gdrive_sheet(gdrive_key, set_sheet_id)"
   ]
  },
  {
   "cell_type": "code",
   "execution_count": 35,
   "metadata": {
    "ExecuteTime": {
     "end_time": "2019-08-29T00:20:50.762000Z",
     "start_time": "2019-08-29T00:20:50.739685Z"
    }
   },
   "outputs": [],
   "source": [
    "date = \"20190828\"\n",
    "run_name = \"08_28_2019_run_01\"\n",
    "molbit_file = \"../porcupine_sequences.fa\"\n",
    "run_data = dict(run_spreadsheet[run_spreadsheet[\"run_name\"] == run_name].iloc[0, :])"
   ]
  },
  {
   "cell_type": "code",
   "execution_count": 5,
   "metadata": {
    "ExecuteTime": {
     "end_time": "2019-08-28T20:12:16.323415Z",
     "start_time": "2019-08-28T20:12:16.304538Z"
    }
   },
   "outputs": [],
   "source": [
    "fastq_dir = os.path.join(run_data[\"basecall_dir\"], \"pass\")"
   ]
  },
  {
   "cell_type": "markdown",
   "metadata": {},
   "source": [
    "# Run sequence alignment"
   ]
  },
  {
   "cell_type": "code",
   "execution_count": 7,
   "metadata": {
    "ExecuteTime": {
     "end_time": "2019-08-28T20:21:53.212108Z",
     "start_time": "2019-08-28T20:21:53.186419Z"
    }
   },
   "outputs": [],
   "source": [
    "def read_fasta(fasta_fname):\n",
    "    '''Assumes 1 line per sequence.'''\n",
    "    seqs = []\n",
    "    names = []\n",
    "    with open(fasta_fname) as fa:\n",
    "        for line in fa:\n",
    "            line = line.strip()\n",
    "            if line.startswith(\">\"):\n",
    "                names.append(line.replace(\">\", \"\").split()[0])\n",
    "            else:\n",
    "                seqs.append(line)\n",
    "    return seqs, names"
   ]
  },
  {
   "cell_type": "code",
   "execution_count": 8,
   "metadata": {
    "ExecuteTime": {
     "end_time": "2019-08-28T20:21:53.228603Z",
     "start_time": "2019-08-28T20:21:53.214037Z"
    }
   },
   "outputs": [],
   "source": [
    "def read_fastq(fastq_fname):\n",
    "    seqs = []\n",
    "    with open(fastq_fname) as fq:\n",
    "        fq = fq.readlines()\n",
    "        for line_i in range(0, len(fq), 4):\n",
    "            line = fq[line_i].strip().split(\" \")\n",
    "            read_id = str(line[0])[1:]\n",
    "            seq = fq[line_i + 1].strip()\n",
    "            seqs.append((read_id, seq))\n",
    "    return seqs"
   ]
  },
  {
   "cell_type": "code",
   "execution_count": 9,
   "metadata": {
    "ExecuteTime": {
     "end_time": "2019-08-28T20:21:53.282363Z",
     "start_time": "2019-08-28T20:21:53.230723Z"
    }
   },
   "outputs": [],
   "source": [
    "from pore_utils import smith_waterman as s_w"
   ]
  },
  {
   "cell_type": "code",
   "execution_count": 10,
   "metadata": {
    "ExecuteTime": {
     "end_time": "2019-08-28T20:21:53.308509Z",
     "start_time": "2019-08-28T20:21:53.284678Z"
    }
   },
   "outputs": [],
   "source": [
    "def helper_run_sw(read, molbit_seqs=None, search_len=100,\n",
    "                  cost_fn={\"match\": 2, \"mismatch\": -2, \"gap\": -1}):\n",
    "    read_id, seq = read\n",
    "\n",
    "    sw_search_end = min(len(seq), search_len)\n",
    "    search_seq = seq[:sw_search_end]\n",
    "\n",
    "    results = [read_id]\n",
    "    for header_i, header_seq in enumerate(molbit_seqs):\n",
    "        _, sw_score, _, sw_loc, _ = s_w.s_w(search_seq, header_seq,\n",
    "                                        cost_fn=cost_fn)\n",
    "        results.append(sw_score)\n",
    "    return results\n",
    "\n",
    "\n",
    "def run_sw(fastq_dir, out_dir, search_len=80, molbit_fa=None, n_workers=20,\n",
    "           cost_fn={\"match\": 2, \"mismatch\": -2, \"gap\": -1}):\n",
    "    os.makedirs(out_dir)\n",
    "    import dask.bag as db\n",
    "    from dask.diagnostics import ProgressBar\n",
    "    ProgressBar().register()\n",
    "    \n",
    "    logger.info(\"Getting molbit sequences.\")\n",
    "    assert molbit_fa is not None\n",
    "    assert os.path.exists(molbit_fa)\n",
    "    molbit_seqs, molbit_names = read_fasta(molbit_fa)\n",
    "    \n",
    "    logger.info(\"Locating fastq files.\")\n",
    "    fastq_files = []\n",
    "    for fname in os.listdir(fastq_dir):\n",
    "        if fname.endswith(\".fastq\"):\n",
    "            fastq_files.append(os.path.join(fastq_dir, fname))\n",
    "    assert len(fastq_files) > 0\n",
    "    \n",
    "    logger.info(\"Running SW, one fastq at a time.\")\n",
    "    for fq_i, fq_fname in enumerate(fastq_files):\n",
    "        logger.info(f\"Starting fastq ({fq_i} of {len(fastq_files)})\\n\\t{fq_fname}\")\n",
    "        fq_seqs = read_fastq(fq_fname)\n",
    "        \n",
    "        bag = db.from_sequence(fq_seqs)\n",
    "        dask_map = bag.map(helper_run_sw, molbit_seqs=molbit_seqs,\n",
    "                           search_len=search_len, cost_fn=cost_fn)\n",
    "        sw_scores = dask_map.compute(num_workers=n_workers)\n",
    "        \n",
    "        cols = [\"read_id\"] + [f\"sw_score_molbit_{molbit}\" for molbit in molbit_names]\n",
    "        sw_df = pd.DataFrame(sw_scores, columns=cols)\n",
    "        sw_df.index = sw_df[\"read_id\"]\n",
    "        del sw_df[\"read_id\"]\n",
    "        out_fname = fq_fname.split(\"/\")[-1].replace(\".fastq\", \"\") + \".tsv\"\n",
    "        out_fname = os.path.join(out_dir, out_fname)\n",
    "        logger.info(f\"Saving to file: {out_fname}\")\n",
    "        sw_df.to_csv(out_fname, sep=\"\\t\", index=True)"
   ]
  },
  {
   "cell_type": "code",
   "execution_count": 11,
   "metadata": {
    "ExecuteTime": {
     "end_time": "2019-08-28T20:21:53.325340Z",
     "start_time": "2019-08-28T20:21:53.310659Z"
    }
   },
   "outputs": [],
   "source": [
    "sw_dir = os.path.join(run_data[\"basecall_dir\"], \"sw\")\n",
    "cost_fn = {\"match\": 1, \"mismatch\": -1, \"gap\": -8}"
   ]
  },
  {
   "cell_type": "raw",
   "metadata": {
    "ExecuteTime": {
     "end_time": "2019-08-11T02:58:25.962380Z",
     "start_time": "2019-08-11T02:58:25.723668Z"
    }
   },
   "source": [
    "! rm -rf /path/to/data/MinION_sequencing_data_20190809/guppy_3.2.2_exec_20190809/sw"
   ]
  },
  {
   "cell_type": "code",
   "execution_count": 12,
   "metadata": {
    "ExecuteTime": {
     "end_time": "2019-08-28T23:43:21.442513Z",
     "start_time": "2019-08-28T20:21:53.327204Z"
    },
    "scrolled": true
   },
   "outputs": [
    {
     "name": "stderr",
     "output_type": "stream",
     "text": [
      "[13:21:53 - __main__] Getting molbit sequences.\n",
      "[13:21:53 - __main__] Locating fastq files.\n",
      "[13:21:53 - __main__] Running SW, one fastq at a time.\n",
      "[13:21:53 - __main__] Starting fastq (0 of 338)\n",
      "\t/path/to/data/MinION_sequencing_data_20190828/guppy_3.2.2_08_28_2019_run_01_exec_20190828/pass/fastq_runid_852c07bf042182e22f60c3d9425876746c4da9d8_0_0.fastq\n"
     ]
    },
    {
     "name": "stdout",
     "output_type": "stream",
     "text": [
      "[########################################] | 100% Completed | 38.0s\n"
     ]
    },
    {
     "name": "stderr",
     "output_type": "stream",
     "text": [
      "[13:22:31 - __main__] Saving to file: /path/to/data/MinION_sequencing_data_20190828/guppy_3.2.2_08_28_2019_run_01_exec_20190828/sw/fastq_runid_852c07bf042182e22f60c3d9425876746c4da9d8_0_0.tsv\n",
      "[13:22:32 - __main__] Starting fastq (1 of 338)\n",
      "\t/path/to/data/MinION_sequencing_data_20190828/guppy_3.2.2_08_28_2019_run_01_exec_20190828/pass/fastq_runid_852c07bf042182e22f60c3d9425876746c4da9d8_0_1.fastq\n"
     ]
    },
    {
     "name": "stdout",
     "output_type": "stream",
     "text": [
      "[########################################] | 100% Completed | 55.0s\n"
     ]
    },
    {
     "name": "stderr",
     "output_type": "stream",
     "text": [
      "[13:23:27 - __main__] Saving to file: /path/to/data/MinION_sequencing_data_20190828/guppy_3.2.2_08_28_2019_run_01_exec_20190828/sw/fastq_runid_852c07bf042182e22f60c3d9425876746c4da9d8_0_1.tsv\n",
      "[13:23:27 - __main__] Starting fastq (2 of 338)\n",
      "\t/path/to/data/MinION_sequencing_data_20190828/guppy_3.2.2_08_28_2019_run_01_exec_20190828/pass/fastq_runid_852c07bf042182e22f60c3d9425876746c4da9d8_0_2.fastq\n"
     ]
    },
    {
     "name": "stdout",
     "output_type": "stream",
     "text": [
      "[########################################] | 100% Completed | 30.3s\n"
     ]
    },
    {
     "name": "stderr",
     "output_type": "stream",
     "text": [
      "[13:23:57 - __main__] Saving to file: /path/to/data/MinION_sequencing_data_20190828/guppy_3.2.2_08_28_2019_run_01_exec_20190828/sw/fastq_runid_852c07bf042182e22f60c3d9425876746c4da9d8_0_2.tsv\n",
      "[13:23:57 - __main__] Starting fastq (3 of 338)\n",
      "\t/path/to/data/MinION_sequencing_data_20190828/guppy_3.2.2_08_28_2019_run_01_exec_20190828/pass/fastq_runid_852c07bf042182e22f60c3d9425876746c4da9d8_0_3.fastq\n"
     ]
    },
    {
     "name": "stdout",
     "output_type": "stream",
     "text": [
      "[########################################] | 100% Completed | 13.2s\n"
     ]
    },
    {
     "name": "stderr",
     "output_type": "stream",
     "text": [
      "[13:24:11 - __main__] Saving to file: /path/to/data/MinION_sequencing_data_20190828/guppy_3.2.2_08_28_2019_run_01_exec_20190828/sw/fastq_runid_852c07bf042182e22f60c3d9425876746c4da9d8_0_3.tsv\n",
      "[13:24:11 - __main__] Starting fastq (4 of 338)\n",
      "\t/path/to/data/MinION_sequencing_data_20190828/guppy_3.2.2_08_28_2019_run_01_exec_20190828/pass/fastq_runid_852c07bf042182e22f60c3d9425876746c4da9d8_1_0.fastq\n"
     ]
    },
    {
     "name": "stdout",
     "output_type": "stream",
     "text": [
      "[########################################] | 100% Completed |  1min 37.1s\n"
     ]
    },
    {
     "name": "stderr",
     "output_type": "stream",
     "text": [
      "[13:25:48 - __main__] Saving to file: /path/to/data/MinION_sequencing_data_20190828/guppy_3.2.2_08_28_2019_run_01_exec_20190828/sw/fastq_runid_852c07bf042182e22f60c3d9425876746c4da9d8_1_0.tsv\n",
      "[13:25:49 - __main__] Starting fastq (5 of 338)\n",
      "\t/path/to/data/MinION_sequencing_data_20190828/guppy_3.2.2_08_28_2019_run_01_exec_20190828/pass/fastq_runid_852c07bf042182e22f60c3d9425876746c4da9d8_1_1.fastq\n"
     ]
    },
    {
     "name": "stdout",
     "output_type": "stream",
     "text": [
      "[########################################] | 100% Completed | 18.8s\n"
     ]
    },
    {
     "name": "stderr",
     "output_type": "stream",
     "text": [
      "[13:26:08 - __main__] Saving to file: /path/to/data/MinION_sequencing_data_20190828/guppy_3.2.2_08_28_2019_run_01_exec_20190828/sw/fastq_runid_852c07bf042182e22f60c3d9425876746c4da9d8_1_1.tsv\n",
      "[13:26:08 - __main__] Starting fastq (6 of 338)\n",
      "\t/path/to/data/MinION_sequencing_data_20190828/guppy_3.2.2_08_28_2019_run_01_exec_20190828/pass/fastq_runid_852c07bf042182e22f60c3d9425876746c4da9d8_1_2.fastq\n"
     ]
    },
    {
     "name": "stdout",
     "output_type": "stream",
     "text": [
      "[########################################] | 100% Completed | 18.1s\n"
     ]
    },
    {
     "name": "stderr",
     "output_type": "stream",
     "text": [
      "[13:26:26 - __main__] Saving to file: /path/to/data/MinION_sequencing_data_20190828/guppy_3.2.2_08_28_2019_run_01_exec_20190828/sw/fastq_runid_852c07bf042182e22f60c3d9425876746c4da9d8_1_2.tsv\n",
      "[13:26:26 - __main__] Starting fastq (7 of 338)\n",
      "\t/path/to/data/MinION_sequencing_data_20190828/guppy_3.2.2_08_28_2019_run_01_exec_20190828/pass/fastq_runid_852c07bf042182e22f60c3d9425876746c4da9d8_2_0.fastq\n"
     ]
    },
    {
     "name": "stdout",
     "output_type": "stream",
     "text": [
      "[########################################] | 100% Completed | 41.4s\n"
     ]
    },
    {
     "name": "stderr",
     "output_type": "stream",
     "text": [
      "[13:27:08 - __main__] Saving to file: /path/to/data/MinION_sequencing_data_20190828/guppy_3.2.2_08_28_2019_run_01_exec_20190828/sw/fastq_runid_852c07bf042182e22f60c3d9425876746c4da9d8_2_0.tsv\n",
      "[13:27:08 - __main__] Starting fastq (8 of 338)\n",
      "\t/path/to/data/MinION_sequencing_data_20190828/guppy_3.2.2_08_28_2019_run_01_exec_20190828/pass/fastq_runid_852c07bf042182e22f60c3d9425876746c4da9d8_2_1.fastq\n"
     ]
    },
    {
     "name": "stdout",
     "output_type": "stream",
     "text": [
      "[########################################] | 100% Completed |  1min 20.3s\n"
     ]
    },
    {
     "name": "stderr",
     "output_type": "stream",
     "text": [
      "[13:28:29 - __main__] Saving to file: /path/to/data/MinION_sequencing_data_20190828/guppy_3.2.2_08_28_2019_run_01_exec_20190828/sw/fastq_runid_852c07bf042182e22f60c3d9425876746c4da9d8_2_1.tsv\n",
      "[13:28:29 - __main__] Starting fastq (9 of 338)\n",
      "\t/path/to/data/MinION_sequencing_data_20190828/guppy_3.2.2_08_28_2019_run_01_exec_20190828/pass/fastq_runid_852c07bf042182e22f60c3d9425876746c4da9d8_1_3.fastq\n"
     ]
    },
    {
     "name": "stdout",
     "output_type": "stream",
     "text": [
      "[########################################] | 100% Completed |  3.5s\n"
     ]
    },
    {
     "name": "stderr",
     "output_type": "stream",
     "text": [
      "[13:28:32 - __main__] Saving to file: /path/to/data/MinION_sequencing_data_20190828/guppy_3.2.2_08_28_2019_run_01_exec_20190828/sw/fastq_runid_852c07bf042182e22f60c3d9425876746c4da9d8_1_3.tsv\n",
      "[13:28:32 - __main__] Starting fastq (10 of 338)\n",
      "\t/path/to/data/MinION_sequencing_data_20190828/guppy_3.2.2_08_28_2019_run_01_exec_20190828/pass/fastq_runid_852c07bf042182e22f60c3d9425876746c4da9d8_2_2.fastq\n"
     ]
    },
    {
     "name": "stdout",
     "output_type": "stream",
     "text": [
      "[########################################] | 100% Completed | 11.4s\n"
     ]
    },
    {
     "name": "stderr",
     "output_type": "stream",
     "text": [
      "[13:28:44 - __main__] Saving to file: /path/to/data/MinION_sequencing_data_20190828/guppy_3.2.2_08_28_2019_run_01_exec_20190828/sw/fastq_runid_852c07bf042182e22f60c3d9425876746c4da9d8_2_2.tsv\n",
      "[13:28:44 - __main__] Starting fastq (11 of 338)\n",
      "\t/path/to/data/MinION_sequencing_data_20190828/guppy_3.2.2_08_28_2019_run_01_exec_20190828/pass/fastq_runid_852c07bf042182e22f60c3d9425876746c4da9d8_3_0.fastq\n"
     ]
    },
    {
     "name": "stdout",
     "output_type": "stream",
     "text": [
      "[########################################] | 100% Completed | 59.1s\n"
     ]
    },
    {
     "name": "stderr",
     "output_type": "stream",
     "text": [
      "[13:29:43 - __main__] Saving to file: /path/to/data/MinION_sequencing_data_20190828/guppy_3.2.2_08_28_2019_run_01_exec_20190828/sw/fastq_runid_852c07bf042182e22f60c3d9425876746c4da9d8_3_0.tsv\n",
      "[13:29:44 - __main__] Starting fastq (12 of 338)\n",
      "\t/path/to/data/MinION_sequencing_data_20190828/guppy_3.2.2_08_28_2019_run_01_exec_20190828/pass/fastq_runid_852c07bf042182e22f60c3d9425876746c4da9d8_3_1.fastq\n"
     ]
    },
    {
     "name": "stdout",
     "output_type": "stream",
     "text": [
      "[########################################] | 100% Completed | 42.0s\n"
     ]
    },
    {
     "name": "stderr",
     "output_type": "stream",
     "text": [
      "[13:30:26 - __main__] Saving to file: /path/to/data/MinION_sequencing_data_20190828/guppy_3.2.2_08_28_2019_run_01_exec_20190828/sw/fastq_runid_852c07bf042182e22f60c3d9425876746c4da9d8_3_1.tsv\n",
      "[13:30:26 - __main__] Starting fastq (13 of 338)\n",
      "\t/path/to/data/MinION_sequencing_data_20190828/guppy_3.2.2_08_28_2019_run_01_exec_20190828/pass/fastq_runid_852c07bf042182e22f60c3d9425876746c4da9d8_2_3.fastq\n"
     ]
    },
    {
     "name": "stdout",
     "output_type": "stream",
     "text": [
      "[########################################] | 100% Completed | 12.5s\n"
     ]
    },
    {
     "name": "stderr",
     "output_type": "stream",
     "text": [
      "[13:30:39 - __main__] Saving to file: /path/to/data/MinION_sequencing_data_20190828/guppy_3.2.2_08_28_2019_run_01_exec_20190828/sw/fastq_runid_852c07bf042182e22f60c3d9425876746c4da9d8_2_3.tsv\n",
      "[13:30:39 - __main__] Starting fastq (14 of 338)\n",
      "\t/path/to/data/MinION_sequencing_data_20190828/guppy_3.2.2_08_28_2019_run_01_exec_20190828/pass/fastq_runid_852c07bf042182e22f60c3d9425876746c4da9d8_3_2.fastq\n"
     ]
    },
    {
     "name": "stdout",
     "output_type": "stream",
     "text": [
      "[########################################] | 100% Completed | 42.5s\n"
     ]
    },
    {
     "name": "stderr",
     "output_type": "stream",
     "text": [
      "[13:31:21 - __main__] Saving to file: /path/to/data/MinION_sequencing_data_20190828/guppy_3.2.2_08_28_2019_run_01_exec_20190828/sw/fastq_runid_852c07bf042182e22f60c3d9425876746c4da9d8_3_2.tsv\n",
      "[13:31:22 - __main__] Starting fastq (15 of 338)\n",
      "\t/path/to/data/MinION_sequencing_data_20190828/guppy_3.2.2_08_28_2019_run_01_exec_20190828/pass/fastq_runid_852c07bf042182e22f60c3d9425876746c4da9d8_3_3.fastq\n"
     ]
    },
    {
     "name": "stdout",
     "output_type": "stream",
     "text": [
      "[########################################] | 100% Completed |  1.0s\n"
     ]
    },
    {
     "name": "stderr",
     "output_type": "stream",
     "text": [
      "[13:31:23 - __main__] Saving to file: /path/to/data/MinION_sequencing_data_20190828/guppy_3.2.2_08_28_2019_run_01_exec_20190828/sw/fastq_runid_852c07bf042182e22f60c3d9425876746c4da9d8_3_3.tsv\n",
      "[13:31:23 - __main__] Starting fastq (16 of 338)\n",
      "\t/path/to/data/MinION_sequencing_data_20190828/guppy_3.2.2_08_28_2019_run_01_exec_20190828/pass/fastq_runid_852c07bf042182e22f60c3d9425876746c4da9d8_4_0.fastq\n"
     ]
    },
    {
     "name": "stdout",
     "output_type": "stream",
     "text": [
      "[########################################] | 100% Completed | 49.0s\n"
     ]
    },
    {
     "name": "stderr",
     "output_type": "stream",
     "text": [
      "[13:32:12 - __main__] Saving to file: /path/to/data/MinION_sequencing_data_20190828/guppy_3.2.2_08_28_2019_run_01_exec_20190828/sw/fastq_runid_852c07bf042182e22f60c3d9425876746c4da9d8_4_0.tsv\n",
      "[13:32:12 - __main__] Starting fastq (17 of 338)\n",
      "\t/path/to/data/MinION_sequencing_data_20190828/guppy_3.2.2_08_28_2019_run_01_exec_20190828/pass/fastq_runid_852c07bf042182e22f60c3d9425876746c4da9d8_4_1.fastq\n"
     ]
    },
    {
     "name": "stdout",
     "output_type": "stream",
     "text": [
      "[########################################] | 100% Completed | 52.2s\n"
     ]
    },
    {
     "name": "stderr",
     "output_type": "stream",
     "text": [
      "[13:33:05 - __main__] Saving to file: /path/to/data/MinION_sequencing_data_20190828/guppy_3.2.2_08_28_2019_run_01_exec_20190828/sw/fastq_runid_852c07bf042182e22f60c3d9425876746c4da9d8_4_1.tsv\n",
      "[13:33:05 - __main__] Starting fastq (18 of 338)\n",
      "\t/path/to/data/MinION_sequencing_data_20190828/guppy_3.2.2_08_28_2019_run_01_exec_20190828/pass/fastq_runid_852c07bf042182e22f60c3d9425876746c4da9d8_4_2.fastq\n"
     ]
    },
    {
     "name": "stdout",
     "output_type": "stream",
     "text": [
      "[########################################] | 100% Completed | 12.6s\n"
     ]
    },
    {
     "name": "stderr",
     "output_type": "stream",
     "text": [
      "[13:33:18 - __main__] Saving to file: /path/to/data/MinION_sequencing_data_20190828/guppy_3.2.2_08_28_2019_run_01_exec_20190828/sw/fastq_runid_852c07bf042182e22f60c3d9425876746c4da9d8_4_2.tsv\n",
      "[13:33:18 - __main__] Starting fastq (19 of 338)\n",
      "\t/path/to/data/MinION_sequencing_data_20190828/guppy_3.2.2_08_28_2019_run_01_exec_20190828/pass/fastq_runid_852c07bf042182e22f60c3d9425876746c4da9d8_4_3.fastq\n"
     ]
    },
    {
     "name": "stdout",
     "output_type": "stream",
     "text": [
      "[########################################] | 100% Completed | 28.5s\n"
     ]
    },
    {
     "name": "stderr",
     "output_type": "stream",
     "text": [
      "[13:33:46 - __main__] Saving to file: /path/to/data/MinION_sequencing_data_20190828/guppy_3.2.2_08_28_2019_run_01_exec_20190828/sw/fastq_runid_852c07bf042182e22f60c3d9425876746c4da9d8_4_3.tsv\n",
      "[13:33:46 - __main__] Starting fastq (20 of 338)\n",
      "\t/path/to/data/MinION_sequencing_data_20190828/guppy_3.2.2_08_28_2019_run_01_exec_20190828/pass/fastq_runid_852c07bf042182e22f60c3d9425876746c4da9d8_5_0.fastq\n"
     ]
    },
    {
     "name": "stdout",
     "output_type": "stream",
     "text": [
      "[########################################] | 100% Completed | 40.2s\n"
     ]
    },
    {
     "name": "stderr",
     "output_type": "stream",
     "text": [
      "[13:34:27 - __main__] Saving to file: /path/to/data/MinION_sequencing_data_20190828/guppy_3.2.2_08_28_2019_run_01_exec_20190828/sw/fastq_runid_852c07bf042182e22f60c3d9425876746c4da9d8_5_0.tsv\n",
      "[13:34:27 - __main__] Starting fastq (21 of 338)\n",
      "\t/path/to/data/MinION_sequencing_data_20190828/guppy_3.2.2_08_28_2019_run_01_exec_20190828/pass/fastq_runid_852c07bf042182e22f60c3d9425876746c4da9d8_5_1.fastq\n"
     ]
    },
    {
     "name": "stdout",
     "output_type": "stream",
     "text": [
      "[########################################] | 100% Completed | 29.4s\n"
     ]
    },
    {
     "name": "stderr",
     "output_type": "stream",
     "text": [
      "[13:34:57 - __main__] Saving to file: /path/to/data/MinION_sequencing_data_20190828/guppy_3.2.2_08_28_2019_run_01_exec_20190828/sw/fastq_runid_852c07bf042182e22f60c3d9425876746c4da9d8_5_1.tsv\n",
      "[13:34:57 - __main__] Starting fastq (22 of 338)\n",
      "\t/path/to/data/MinION_sequencing_data_20190828/guppy_3.2.2_08_28_2019_run_01_exec_20190828/pass/fastq_runid_852c07bf042182e22f60c3d9425876746c4da9d8_5_2.fastq\n"
     ]
    },
    {
     "name": "stdout",
     "output_type": "stream",
     "text": [
      "[########################################] | 100% Completed |  1min 13.5s\n"
     ]
    },
    {
     "name": "stderr",
     "output_type": "stream",
     "text": [
      "[13:36:11 - __main__] Saving to file: /path/to/data/MinION_sequencing_data_20190828/guppy_3.2.2_08_28_2019_run_01_exec_20190828/sw/fastq_runid_852c07bf042182e22f60c3d9425876746c4da9d8_5_2.tsv\n",
      "[13:36:11 - __main__] Starting fastq (23 of 338)\n",
      "\t/path/to/data/MinION_sequencing_data_20190828/guppy_3.2.2_08_28_2019_run_01_exec_20190828/pass/fastq_runid_852c07bf042182e22f60c3d9425876746c4da9d8_5_3.fastq\n"
     ]
    },
    {
     "name": "stdout",
     "output_type": "stream",
     "text": [
      "[########################################] | 100% Completed |  1.7s\n"
     ]
    },
    {
     "name": "stderr",
     "output_type": "stream",
     "text": [
      "[13:36:13 - __main__] Saving to file: /path/to/data/MinION_sequencing_data_20190828/guppy_3.2.2_08_28_2019_run_01_exec_20190828/sw/fastq_runid_852c07bf042182e22f60c3d9425876746c4da9d8_5_3.tsv\n",
      "[13:36:13 - __main__] Starting fastq (24 of 338)\n",
      "\t/path/to/data/MinION_sequencing_data_20190828/guppy_3.2.2_08_28_2019_run_01_exec_20190828/pass/fastq_runid_852c07bf042182e22f60c3d9425876746c4da9d8_6_0.fastq\n"
     ]
    },
    {
     "name": "stdout",
     "output_type": "stream",
     "text": [
      "[########################################] | 100% Completed |  1min  9.7s\n"
     ]
    },
    {
     "name": "stderr",
     "output_type": "stream",
     "text": [
      "[13:37:23 - __main__] Saving to file: /path/to/data/MinION_sequencing_data_20190828/guppy_3.2.2_08_28_2019_run_01_exec_20190828/sw/fastq_runid_852c07bf042182e22f60c3d9425876746c4da9d8_6_0.tsv\n",
      "[13:37:23 - __main__] Starting fastq (25 of 338)\n",
      "\t/path/to/data/MinION_sequencing_data_20190828/guppy_3.2.2_08_28_2019_run_01_exec_20190828/pass/fastq_runid_852c07bf042182e22f60c3d9425876746c4da9d8_6_1.fastq\n"
     ]
    },
    {
     "name": "stdout",
     "output_type": "stream",
     "text": [
      "[########################################] | 100% Completed | 33.9s\n"
     ]
    },
    {
     "name": "stderr",
     "output_type": "stream",
     "text": [
      "[13:37:57 - __main__] Saving to file: /path/to/data/MinION_sequencing_data_20190828/guppy_3.2.2_08_28_2019_run_01_exec_20190828/sw/fastq_runid_852c07bf042182e22f60c3d9425876746c4da9d8_6_1.tsv\n",
      "[13:37:57 - __main__] Starting fastq (26 of 338)\n",
      "\t/path/to/data/MinION_sequencing_data_20190828/guppy_3.2.2_08_28_2019_run_01_exec_20190828/pass/fastq_runid_852c07bf042182e22f60c3d9425876746c4da9d8_6_2.fastq\n"
     ]
    },
    {
     "name": "stdout",
     "output_type": "stream",
     "text": [
      "[########################################] | 100% Completed | 38.3s\n"
     ]
    },
    {
     "name": "stderr",
     "output_type": "stream",
     "text": [
      "[13:38:36 - __main__] Saving to file: /path/to/data/MinION_sequencing_data_20190828/guppy_3.2.2_08_28_2019_run_01_exec_20190828/sw/fastq_runid_852c07bf042182e22f60c3d9425876746c4da9d8_6_2.tsv\n",
      "[13:38:36 - __main__] Starting fastq (27 of 338)\n",
      "\t/path/to/data/MinION_sequencing_data_20190828/guppy_3.2.2_08_28_2019_run_01_exec_20190828/pass/fastq_runid_852c07bf042182e22f60c3d9425876746c4da9d8_7_0.fastq\n"
     ]
    },
    {
     "name": "stdout",
     "output_type": "stream",
     "text": [
      "[########################################] | 100% Completed |  1min 45.0s\n"
     ]
    },
    {
     "name": "stderr",
     "output_type": "stream",
     "text": [
      "[13:40:21 - __main__] Saving to file: /path/to/data/MinION_sequencing_data_20190828/guppy_3.2.2_08_28_2019_run_01_exec_20190828/sw/fastq_runid_852c07bf042182e22f60c3d9425876746c4da9d8_7_0.tsv\n",
      "[13:40:21 - __main__] Starting fastq (28 of 338)\n",
      "\t/path/to/data/MinION_sequencing_data_20190828/guppy_3.2.2_08_28_2019_run_01_exec_20190828/pass/fastq_runid_852c07bf042182e22f60c3d9425876746c4da9d8_7_1.fastq\n"
     ]
    },
    {
     "name": "stdout",
     "output_type": "stream",
     "text": [
      "[########################################] | 100% Completed | 22.0s\n"
     ]
    },
    {
     "name": "stderr",
     "output_type": "stream",
     "text": [
      "[13:40:44 - __main__] Saving to file: /path/to/data/MinION_sequencing_data_20190828/guppy_3.2.2_08_28_2019_run_01_exec_20190828/sw/fastq_runid_852c07bf042182e22f60c3d9425876746c4da9d8_7_1.tsv\n",
      "[13:40:44 - __main__] Starting fastq (29 of 338)\n",
      "\t/path/to/data/MinION_sequencing_data_20190828/guppy_3.2.2_08_28_2019_run_01_exec_20190828/pass/fastq_runid_852c07bf042182e22f60c3d9425876746c4da9d8_6_3.fastq\n"
     ]
    },
    {
     "name": "stdout",
     "output_type": "stream",
     "text": [
      "[########################################] | 100% Completed |  1.3s\n"
     ]
    },
    {
     "name": "stderr",
     "output_type": "stream",
     "text": [
      "[13:40:45 - __main__] Saving to file: /path/to/data/MinION_sequencing_data_20190828/guppy_3.2.2_08_28_2019_run_01_exec_20190828/sw/fastq_runid_852c07bf042182e22f60c3d9425876746c4da9d8_6_3.tsv\n",
      "[13:40:45 - __main__] Starting fastq (30 of 338)\n",
      "\t/path/to/data/MinION_sequencing_data_20190828/guppy_3.2.2_08_28_2019_run_01_exec_20190828/pass/fastq_runid_852c07bf042182e22f60c3d9425876746c4da9d8_7_2.fastq\n"
     ]
    },
    {
     "name": "stdout",
     "output_type": "stream",
     "text": [
      "[########################################] | 100% Completed |  3.6s\n"
     ]
    },
    {
     "name": "stderr",
     "output_type": "stream",
     "text": [
      "[13:40:49 - __main__] Saving to file: /path/to/data/MinION_sequencing_data_20190828/guppy_3.2.2_08_28_2019_run_01_exec_20190828/sw/fastq_runid_852c07bf042182e22f60c3d9425876746c4da9d8_7_2.tsv\n",
      "[13:40:49 - __main__] Starting fastq (31 of 338)\n",
      "\t/path/to/data/MinION_sequencing_data_20190828/guppy_3.2.2_08_28_2019_run_01_exec_20190828/pass/fastq_runid_852c07bf042182e22f60c3d9425876746c4da9d8_7_3.fastq\n"
     ]
    },
    {
     "name": "stdout",
     "output_type": "stream",
     "text": [
      "[########################################] | 100% Completed |  9.5s\n"
     ]
    },
    {
     "name": "stderr",
     "output_type": "stream",
     "text": [
      "[13:40:59 - __main__] Saving to file: /path/to/data/MinION_sequencing_data_20190828/guppy_3.2.2_08_28_2019_run_01_exec_20190828/sw/fastq_runid_852c07bf042182e22f60c3d9425876746c4da9d8_7_3.tsv\n",
      "[13:40:59 - __main__] Starting fastq (32 of 338)\n",
      "\t/path/to/data/MinION_sequencing_data_20190828/guppy_3.2.2_08_28_2019_run_01_exec_20190828/pass/fastq_runid_852c07bf042182e22f60c3d9425876746c4da9d8_8_0.fastq\n"
     ]
    },
    {
     "name": "stdout",
     "output_type": "stream",
     "text": [
      "[########################################] | 100% Completed | 45.2s\n"
     ]
    },
    {
     "name": "stderr",
     "output_type": "stream",
     "text": [
      "[13:41:44 - __main__] Saving to file: /path/to/data/MinION_sequencing_data_20190828/guppy_3.2.2_08_28_2019_run_01_exec_20190828/sw/fastq_runid_852c07bf042182e22f60c3d9425876746c4da9d8_8_0.tsv\n",
      "[13:41:44 - __main__] Starting fastq (33 of 338)\n",
      "\t/path/to/data/MinION_sequencing_data_20190828/guppy_3.2.2_08_28_2019_run_01_exec_20190828/pass/fastq_runid_852c07bf042182e22f60c3d9425876746c4da9d8_8_1.fastq\n"
     ]
    },
    {
     "name": "stdout",
     "output_type": "stream",
     "text": [
      "[########################################] | 100% Completed |  1min  6.1s\n"
     ]
    },
    {
     "name": "stderr",
     "output_type": "stream",
     "text": [
      "[13:42:51 - __main__] Saving to file: /path/to/data/MinION_sequencing_data_20190828/guppy_3.2.2_08_28_2019_run_01_exec_20190828/sw/fastq_runid_852c07bf042182e22f60c3d9425876746c4da9d8_8_1.tsv\n",
      "[13:42:51 - __main__] Starting fastq (34 of 338)\n",
      "\t/path/to/data/MinION_sequencing_data_20190828/guppy_3.2.2_08_28_2019_run_01_exec_20190828/pass/fastq_runid_852c07bf042182e22f60c3d9425876746c4da9d8_8_2.fastq\n"
     ]
    },
    {
     "name": "stdout",
     "output_type": "stream",
     "text": [
      "[########################################] | 100% Completed | 28.0s\n"
     ]
    },
    {
     "name": "stderr",
     "output_type": "stream",
     "text": [
      "[13:43:19 - __main__] Saving to file: /path/to/data/MinION_sequencing_data_20190828/guppy_3.2.2_08_28_2019_run_01_exec_20190828/sw/fastq_runid_852c07bf042182e22f60c3d9425876746c4da9d8_8_2.tsv\n",
      "[13:43:19 - __main__] Starting fastq (35 of 338)\n",
      "\t/path/to/data/MinION_sequencing_data_20190828/guppy_3.2.2_08_28_2019_run_01_exec_20190828/pass/fastq_runid_852c07bf042182e22f60c3d9425876746c4da9d8_9_0.fastq\n"
     ]
    },
    {
     "name": "stdout",
     "output_type": "stream",
     "text": [
      "[########################################] | 100% Completed |  1min 14.1s\n"
     ]
    },
    {
     "name": "stderr",
     "output_type": "stream",
     "text": [
      "[13:44:34 - __main__] Saving to file: /path/to/data/MinION_sequencing_data_20190828/guppy_3.2.2_08_28_2019_run_01_exec_20190828/sw/fastq_runid_852c07bf042182e22f60c3d9425876746c4da9d8_9_0.tsv\n",
      "[13:44:34 - __main__] Starting fastq (36 of 338)\n",
      "\t/path/to/data/MinION_sequencing_data_20190828/guppy_3.2.2_08_28_2019_run_01_exec_20190828/pass/fastq_runid_852c07bf042182e22f60c3d9425876746c4da9d8_9_1.fastq\n"
     ]
    },
    {
     "name": "stdout",
     "output_type": "stream",
     "text": [
      "[########################################] | 100% Completed | 39.1s\n"
     ]
    },
    {
     "name": "stderr",
     "output_type": "stream",
     "text": [
      "[13:45:13 - __main__] Saving to file: /path/to/data/MinION_sequencing_data_20190828/guppy_3.2.2_08_28_2019_run_01_exec_20190828/sw/fastq_runid_852c07bf042182e22f60c3d9425876746c4da9d8_9_1.tsv\n",
      "[13:45:13 - __main__] Starting fastq (37 of 338)\n",
      "\t/path/to/data/MinION_sequencing_data_20190828/guppy_3.2.2_08_28_2019_run_01_exec_20190828/pass/fastq_runid_852c07bf042182e22f60c3d9425876746c4da9d8_9_2.fastq\n"
     ]
    },
    {
     "name": "stdout",
     "output_type": "stream",
     "text": [
      "[########################################] | 100% Completed | 29.8s\n"
     ]
    },
    {
     "name": "stderr",
     "output_type": "stream",
     "text": [
      "[13:45:43 - __main__] Saving to file: /path/to/data/MinION_sequencing_data_20190828/guppy_3.2.2_08_28_2019_run_01_exec_20190828/sw/fastq_runid_852c07bf042182e22f60c3d9425876746c4da9d8_9_2.tsv\n",
      "[13:45:43 - __main__] Starting fastq (38 of 338)\n",
      "\t/path/to/data/MinION_sequencing_data_20190828/guppy_3.2.2_08_28_2019_run_01_exec_20190828/pass/fastq_runid_852c07bf042182e22f60c3d9425876746c4da9d8_10_0.fastq\n"
     ]
    },
    {
     "name": "stdout",
     "output_type": "stream",
     "text": [
      "[########################################] | 100% Completed |  1min  1.7s\n"
     ]
    },
    {
     "name": "stderr",
     "output_type": "stream",
     "text": [
      "[13:46:45 - __main__] Saving to file: /path/to/data/MinION_sequencing_data_20190828/guppy_3.2.2_08_28_2019_run_01_exec_20190828/sw/fastq_runid_852c07bf042182e22f60c3d9425876746c4da9d8_10_0.tsv\n",
      "[13:46:46 - __main__] Starting fastq (39 of 338)\n",
      "\t/path/to/data/MinION_sequencing_data_20190828/guppy_3.2.2_08_28_2019_run_01_exec_20190828/pass/fastq_runid_852c07bf042182e22f60c3d9425876746c4da9d8_10_1.fastq\n"
     ]
    },
    {
     "name": "stdout",
     "output_type": "stream",
     "text": [
      "[########################################] | 100% Completed | 49.1s\n"
     ]
    },
    {
     "name": "stderr",
     "output_type": "stream",
     "text": [
      "[13:47:35 - __main__] Saving to file: /path/to/data/MinION_sequencing_data_20190828/guppy_3.2.2_08_28_2019_run_01_exec_20190828/sw/fastq_runid_852c07bf042182e22f60c3d9425876746c4da9d8_10_1.tsv\n",
      "[13:47:35 - __main__] Starting fastq (40 of 338)\n",
      "\t/path/to/data/MinION_sequencing_data_20190828/guppy_3.2.2_08_28_2019_run_01_exec_20190828/pass/fastq_runid_852c07bf042182e22f60c3d9425876746c4da9d8_10_2.fastq\n"
     ]
    },
    {
     "name": "stdout",
     "output_type": "stream",
     "text": [
      "[########################################] | 100% Completed | 30.9s\n"
     ]
    },
    {
     "name": "stderr",
     "output_type": "stream",
     "text": [
      "[13:48:06 - __main__] Saving to file: /path/to/data/MinION_sequencing_data_20190828/guppy_3.2.2_08_28_2019_run_01_exec_20190828/sw/fastq_runid_852c07bf042182e22f60c3d9425876746c4da9d8_10_2.tsv\n",
      "[13:48:06 - __main__] Starting fastq (41 of 338)\n",
      "\t/path/to/data/MinION_sequencing_data_20190828/guppy_3.2.2_08_28_2019_run_01_exec_20190828/pass/fastq_runid_852c07bf042182e22f60c3d9425876746c4da9d8_8_3.fastq\n"
     ]
    },
    {
     "name": "stdout",
     "output_type": "stream",
     "text": [
      "[########################################] | 100% Completed |  3.9s\n"
     ]
    },
    {
     "name": "stderr",
     "output_type": "stream",
     "text": [
      "[13:48:10 - __main__] Saving to file: /path/to/data/MinION_sequencing_data_20190828/guppy_3.2.2_08_28_2019_run_01_exec_20190828/sw/fastq_runid_852c07bf042182e22f60c3d9425876746c4da9d8_8_3.tsv\n",
      "[13:48:10 - __main__] Starting fastq (42 of 338)\n",
      "\t/path/to/data/MinION_sequencing_data_20190828/guppy_3.2.2_08_28_2019_run_01_exec_20190828/pass/fastq_runid_852c07bf042182e22f60c3d9425876746c4da9d8_9_3.fastq\n"
     ]
    },
    {
     "name": "stdout",
     "output_type": "stream",
     "text": [
      "[########################################] | 100% Completed |  0.9s\n"
     ]
    },
    {
     "name": "stderr",
     "output_type": "stream",
     "text": [
      "[13:48:12 - __main__] Saving to file: /path/to/data/MinION_sequencing_data_20190828/guppy_3.2.2_08_28_2019_run_01_exec_20190828/sw/fastq_runid_852c07bf042182e22f60c3d9425876746c4da9d8_9_3.tsv\n",
      "[13:48:12 - __main__] Starting fastq (43 of 338)\n",
      "\t/path/to/data/MinION_sequencing_data_20190828/guppy_3.2.2_08_28_2019_run_01_exec_20190828/pass/fastq_runid_852c07bf042182e22f60c3d9425876746c4da9d8_10_3.fastq\n"
     ]
    },
    {
     "name": "stdout",
     "output_type": "stream",
     "text": [
      "[########################################] | 100% Completed |  1.7s\n"
     ]
    },
    {
     "name": "stderr",
     "output_type": "stream",
     "text": [
      "[13:48:14 - __main__] Saving to file: /path/to/data/MinION_sequencing_data_20190828/guppy_3.2.2_08_28_2019_run_01_exec_20190828/sw/fastq_runid_852c07bf042182e22f60c3d9425876746c4da9d8_10_3.tsv\n",
      "[13:48:14 - __main__] Starting fastq (44 of 338)\n",
      "\t/path/to/data/MinION_sequencing_data_20190828/guppy_3.2.2_08_28_2019_run_01_exec_20190828/pass/fastq_runid_852c07bf042182e22f60c3d9425876746c4da9d8_11_0.fastq\n"
     ]
    },
    {
     "name": "stdout",
     "output_type": "stream",
     "text": [
      "[########################################] | 100% Completed | 37.2s\n"
     ]
    },
    {
     "name": "stderr",
     "output_type": "stream",
     "text": [
      "[13:48:51 - __main__] Saving to file: /path/to/data/MinION_sequencing_data_20190828/guppy_3.2.2_08_28_2019_run_01_exec_20190828/sw/fastq_runid_852c07bf042182e22f60c3d9425876746c4da9d8_11_0.tsv\n",
      "[13:48:51 - __main__] Starting fastq (45 of 338)\n",
      "\t/path/to/data/MinION_sequencing_data_20190828/guppy_3.2.2_08_28_2019_run_01_exec_20190828/pass/fastq_runid_852c07bf042182e22f60c3d9425876746c4da9d8_11_1.fastq\n"
     ]
    },
    {
     "name": "stdout",
     "output_type": "stream",
     "text": [
      "[########################################] | 100% Completed |  1min  1.0s\n"
     ]
    },
    {
     "name": "stderr",
     "output_type": "stream",
     "text": [
      "[13:49:52 - __main__] Saving to file: /path/to/data/MinION_sequencing_data_20190828/guppy_3.2.2_08_28_2019_run_01_exec_20190828/sw/fastq_runid_852c07bf042182e22f60c3d9425876746c4da9d8_11_1.tsv\n",
      "[13:49:53 - __main__] Starting fastq (46 of 338)\n",
      "\t/path/to/data/MinION_sequencing_data_20190828/guppy_3.2.2_08_28_2019_run_01_exec_20190828/pass/fastq_runid_852c07bf042182e22f60c3d9425876746c4da9d8_11_2.fastq\n"
     ]
    },
    {
     "name": "stdout",
     "output_type": "stream",
     "text": [
      "[########################################] | 100% Completed | 21.8s\n"
     ]
    },
    {
     "name": "stderr",
     "output_type": "stream",
     "text": [
      "[13:50:15 - __main__] Saving to file: /path/to/data/MinION_sequencing_data_20190828/guppy_3.2.2_08_28_2019_run_01_exec_20190828/sw/fastq_runid_852c07bf042182e22f60c3d9425876746c4da9d8_11_2.tsv\n",
      "[13:50:15 - __main__] Starting fastq (47 of 338)\n",
      "\t/path/to/data/MinION_sequencing_data_20190828/guppy_3.2.2_08_28_2019_run_01_exec_20190828/pass/fastq_runid_852c07bf042182e22f60c3d9425876746c4da9d8_11_3.fastq\n"
     ]
    },
    {
     "name": "stdout",
     "output_type": "stream",
     "text": [
      "[########################################] | 100% Completed | 23.9s\n"
     ]
    },
    {
     "name": "stderr",
     "output_type": "stream",
     "text": [
      "[13:50:39 - __main__] Saving to file: /path/to/data/MinION_sequencing_data_20190828/guppy_3.2.2_08_28_2019_run_01_exec_20190828/sw/fastq_runid_852c07bf042182e22f60c3d9425876746c4da9d8_11_3.tsv\n",
      "[13:50:39 - __main__] Starting fastq (48 of 338)\n",
      "\t/path/to/data/MinION_sequencing_data_20190828/guppy_3.2.2_08_28_2019_run_01_exec_20190828/pass/fastq_runid_852c07bf042182e22f60c3d9425876746c4da9d8_12_0.fastq\n"
     ]
    },
    {
     "name": "stdout",
     "output_type": "stream",
     "text": [
      "[########################################] | 100% Completed | 25.8s\n"
     ]
    },
    {
     "name": "stderr",
     "output_type": "stream",
     "text": [
      "[13:51:05 - __main__] Saving to file: /path/to/data/MinION_sequencing_data_20190828/guppy_3.2.2_08_28_2019_run_01_exec_20190828/sw/fastq_runid_852c07bf042182e22f60c3d9425876746c4da9d8_12_0.tsv\n",
      "[13:51:05 - __main__] Starting fastq (49 of 338)\n",
      "\t/path/to/data/MinION_sequencing_data_20190828/guppy_3.2.2_08_28_2019_run_01_exec_20190828/pass/fastq_runid_852c07bf042182e22f60c3d9425876746c4da9d8_12_1.fastq\n"
     ]
    },
    {
     "name": "stdout",
     "output_type": "stream",
     "text": [
      "[########################################] | 100% Completed | 53.0s\n"
     ]
    },
    {
     "name": "stderr",
     "output_type": "stream",
     "text": [
      "[13:51:58 - __main__] Saving to file: /path/to/data/MinION_sequencing_data_20190828/guppy_3.2.2_08_28_2019_run_01_exec_20190828/sw/fastq_runid_852c07bf042182e22f60c3d9425876746c4da9d8_12_1.tsv\n",
      "[13:51:58 - __main__] Starting fastq (50 of 338)\n",
      "\t/path/to/data/MinION_sequencing_data_20190828/guppy_3.2.2_08_28_2019_run_01_exec_20190828/pass/fastq_runid_852c07bf042182e22f60c3d9425876746c4da9d8_12_2.fastq\n"
     ]
    },
    {
     "name": "stdout",
     "output_type": "stream",
     "text": [
      "[########################################] | 100% Completed | 50.9s\n"
     ]
    },
    {
     "name": "stderr",
     "output_type": "stream",
     "text": [
      "[13:52:50 - __main__] Saving to file: /path/to/data/MinION_sequencing_data_20190828/guppy_3.2.2_08_28_2019_run_01_exec_20190828/sw/fastq_runid_852c07bf042182e22f60c3d9425876746c4da9d8_12_2.tsv\n",
      "[13:52:50 - __main__] Starting fastq (51 of 338)\n",
      "\t/path/to/data/MinION_sequencing_data_20190828/guppy_3.2.2_08_28_2019_run_01_exec_20190828/pass/fastq_runid_852c07bf042182e22f60c3d9425876746c4da9d8_12_3.fastq\n"
     ]
    },
    {
     "name": "stdout",
     "output_type": "stream",
     "text": [
      "[########################################] | 100% Completed | 13.4s\n"
     ]
    },
    {
     "name": "stderr",
     "output_type": "stream",
     "text": [
      "[13:53:03 - __main__] Saving to file: /path/to/data/MinION_sequencing_data_20190828/guppy_3.2.2_08_28_2019_run_01_exec_20190828/sw/fastq_runid_852c07bf042182e22f60c3d9425876746c4da9d8_12_3.tsv\n",
      "[13:53:03 - __main__] Starting fastq (52 of 338)\n",
      "\t/path/to/data/MinION_sequencing_data_20190828/guppy_3.2.2_08_28_2019_run_01_exec_20190828/pass/fastq_runid_852c07bf042182e22f60c3d9425876746c4da9d8_13_0.fastq\n"
     ]
    },
    {
     "name": "stdout",
     "output_type": "stream",
     "text": [
      "[########################################] | 100% Completed |  1min  8.7s\n"
     ]
    },
    {
     "name": "stderr",
     "output_type": "stream",
     "text": [
      "[13:54:12 - __main__] Saving to file: /path/to/data/MinION_sequencing_data_20190828/guppy_3.2.2_08_28_2019_run_01_exec_20190828/sw/fastq_runid_852c07bf042182e22f60c3d9425876746c4da9d8_13_0.tsv\n",
      "[13:54:13 - __main__] Starting fastq (53 of 338)\n",
      "\t/path/to/data/MinION_sequencing_data_20190828/guppy_3.2.2_08_28_2019_run_01_exec_20190828/pass/fastq_runid_852c07bf042182e22f60c3d9425876746c4da9d8_13_1.fastq\n"
     ]
    },
    {
     "name": "stdout",
     "output_type": "stream",
     "text": [
      "[########################################] | 100% Completed |  8.5s\n"
     ]
    },
    {
     "name": "stderr",
     "output_type": "stream",
     "text": [
      "[13:54:21 - __main__] Saving to file: /path/to/data/MinION_sequencing_data_20190828/guppy_3.2.2_08_28_2019_run_01_exec_20190828/sw/fastq_runid_852c07bf042182e22f60c3d9425876746c4da9d8_13_1.tsv\n",
      "[13:54:21 - __main__] Starting fastq (54 of 338)\n",
      "\t/path/to/data/MinION_sequencing_data_20190828/guppy_3.2.2_08_28_2019_run_01_exec_20190828/pass/fastq_runid_852c07bf042182e22f60c3d9425876746c4da9d8_13_2.fastq\n"
     ]
    },
    {
     "name": "stdout",
     "output_type": "stream",
     "text": [
      "[########################################] | 100% Completed |  1min  1.4s\n"
     ]
    },
    {
     "name": "stderr",
     "output_type": "stream",
     "text": [
      "[13:55:23 - __main__] Saving to file: /path/to/data/MinION_sequencing_data_20190828/guppy_3.2.2_08_28_2019_run_01_exec_20190828/sw/fastq_runid_852c07bf042182e22f60c3d9425876746c4da9d8_13_2.tsv\n",
      "[13:55:23 - __main__] Starting fastq (55 of 338)\n",
      "\t/path/to/data/MinION_sequencing_data_20190828/guppy_3.2.2_08_28_2019_run_01_exec_20190828/pass/fastq_runid_852c07bf042182e22f60c3d9425876746c4da9d8_14_0.fastq\n"
     ]
    },
    {
     "name": "stdout",
     "output_type": "stream",
     "text": [
      "[########################################] | 100% Completed |  1min  9.0s\n"
     ]
    },
    {
     "name": "stderr",
     "output_type": "stream",
     "text": [
      "[13:56:32 - __main__] Saving to file: /path/to/data/MinION_sequencing_data_20190828/guppy_3.2.2_08_28_2019_run_01_exec_20190828/sw/fastq_runid_852c07bf042182e22f60c3d9425876746c4da9d8_14_0.tsv\n",
      "[13:56:33 - __main__] Starting fastq (56 of 338)\n",
      "\t/path/to/data/MinION_sequencing_data_20190828/guppy_3.2.2_08_28_2019_run_01_exec_20190828/pass/fastq_runid_852c07bf042182e22f60c3d9425876746c4da9d8_14_1.fastq\n"
     ]
    },
    {
     "name": "stdout",
     "output_type": "stream",
     "text": [
      "[########################################] | 100% Completed | 47.3s\n"
     ]
    },
    {
     "name": "stderr",
     "output_type": "stream",
     "text": [
      "[13:57:20 - __main__] Saving to file: /path/to/data/MinION_sequencing_data_20190828/guppy_3.2.2_08_28_2019_run_01_exec_20190828/sw/fastq_runid_852c07bf042182e22f60c3d9425876746c4da9d8_14_1.tsv\n",
      "[13:57:20 - __main__] Starting fastq (57 of 338)\n",
      "\t/path/to/data/MinION_sequencing_data_20190828/guppy_3.2.2_08_28_2019_run_01_exec_20190828/pass/fastq_runid_852c07bf042182e22f60c3d9425876746c4da9d8_13_3.fastq\n"
     ]
    },
    {
     "name": "stdout",
     "output_type": "stream",
     "text": [
      "[########################################] | 100% Completed |  5.8s\n"
     ]
    },
    {
     "name": "stderr",
     "output_type": "stream",
     "text": [
      "[13:57:26 - __main__] Saving to file: /path/to/data/MinION_sequencing_data_20190828/guppy_3.2.2_08_28_2019_run_01_exec_20190828/sw/fastq_runid_852c07bf042182e22f60c3d9425876746c4da9d8_13_3.tsv\n",
      "[13:57:26 - __main__] Starting fastq (58 of 338)\n",
      "\t/path/to/data/MinION_sequencing_data_20190828/guppy_3.2.2_08_28_2019_run_01_exec_20190828/pass/fastq_runid_852c07bf042182e22f60c3d9425876746c4da9d8_14_2.fastq\n"
     ]
    },
    {
     "name": "stdout",
     "output_type": "stream",
     "text": [
      "[########################################] | 100% Completed | 26.4s\n"
     ]
    },
    {
     "name": "stderr",
     "output_type": "stream",
     "text": [
      "[13:57:53 - __main__] Saving to file: /path/to/data/MinION_sequencing_data_20190828/guppy_3.2.2_08_28_2019_run_01_exec_20190828/sw/fastq_runid_852c07bf042182e22f60c3d9425876746c4da9d8_14_2.tsv\n",
      "[13:57:53 - __main__] Starting fastq (59 of 338)\n",
      "\t/path/to/data/MinION_sequencing_data_20190828/guppy_3.2.2_08_28_2019_run_01_exec_20190828/pass/fastq_runid_852c07bf042182e22f60c3d9425876746c4da9d8_15_0.fastq\n"
     ]
    },
    {
     "name": "stdout",
     "output_type": "stream",
     "text": [
      "[########################################] | 100% Completed | 13.1s\n"
     ]
    },
    {
     "name": "stderr",
     "output_type": "stream",
     "text": [
      "[13:58:06 - __main__] Saving to file: /path/to/data/MinION_sequencing_data_20190828/guppy_3.2.2_08_28_2019_run_01_exec_20190828/sw/fastq_runid_852c07bf042182e22f60c3d9425876746c4da9d8_15_0.tsv\n",
      "[13:58:06 - __main__] Starting fastq (60 of 338)\n",
      "\t/path/to/data/MinION_sequencing_data_20190828/guppy_3.2.2_08_28_2019_run_01_exec_20190828/pass/fastq_runid_852c07bf042182e22f60c3d9425876746c4da9d8_15_1.fastq\n"
     ]
    },
    {
     "name": "stdout",
     "output_type": "stream",
     "text": [
      "[########################################] | 100% Completed | 39.0s\n"
     ]
    },
    {
     "name": "stderr",
     "output_type": "stream",
     "text": [
      "[13:58:46 - __main__] Saving to file: /path/to/data/MinION_sequencing_data_20190828/guppy_3.2.2_08_28_2019_run_01_exec_20190828/sw/fastq_runid_852c07bf042182e22f60c3d9425876746c4da9d8_15_1.tsv\n",
      "[13:58:46 - __main__] Starting fastq (61 of 338)\n",
      "\t/path/to/data/MinION_sequencing_data_20190828/guppy_3.2.2_08_28_2019_run_01_exec_20190828/pass/fastq_runid_852c07bf042182e22f60c3d9425876746c4da9d8_14_3.fastq\n"
     ]
    },
    {
     "name": "stdout",
     "output_type": "stream",
     "text": [
      "[########################################] | 100% Completed |  1.0s\n"
     ]
    },
    {
     "name": "stderr",
     "output_type": "stream",
     "text": [
      "[13:58:47 - __main__] Saving to file: /path/to/data/MinION_sequencing_data_20190828/guppy_3.2.2_08_28_2019_run_01_exec_20190828/sw/fastq_runid_852c07bf042182e22f60c3d9425876746c4da9d8_14_3.tsv\n",
      "[13:58:47 - __main__] Starting fastq (62 of 338)\n",
      "\t/path/to/data/MinION_sequencing_data_20190828/guppy_3.2.2_08_28_2019_run_01_exec_20190828/pass/fastq_runid_852c07bf042182e22f60c3d9425876746c4da9d8_15_2.fastq\n"
     ]
    },
    {
     "name": "stdout",
     "output_type": "stream",
     "text": [
      "[########################################] | 100% Completed |  3.1s\n"
     ]
    },
    {
     "name": "stderr",
     "output_type": "stream",
     "text": [
      "[13:58:50 - __main__] Saving to file: /path/to/data/MinION_sequencing_data_20190828/guppy_3.2.2_08_28_2019_run_01_exec_20190828/sw/fastq_runid_852c07bf042182e22f60c3d9425876746c4da9d8_15_2.tsv\n",
      "[13:58:50 - __main__] Starting fastq (63 of 338)\n",
      "\t/path/to/data/MinION_sequencing_data_20190828/guppy_3.2.2_08_28_2019_run_01_exec_20190828/pass/fastq_runid_852c07bf042182e22f60c3d9425876746c4da9d8_16_0.fastq\n"
     ]
    },
    {
     "name": "stdout",
     "output_type": "stream",
     "text": [
      "[########################################] | 100% Completed | 33.2s\n"
     ]
    },
    {
     "name": "stderr",
     "output_type": "stream",
     "text": [
      "[13:59:24 - __main__] Saving to file: /path/to/data/MinION_sequencing_data_20190828/guppy_3.2.2_08_28_2019_run_01_exec_20190828/sw/fastq_runid_852c07bf042182e22f60c3d9425876746c4da9d8_16_0.tsv\n",
      "[13:59:24 - __main__] Starting fastq (64 of 338)\n",
      "\t/path/to/data/MinION_sequencing_data_20190828/guppy_3.2.2_08_28_2019_run_01_exec_20190828/pass/fastq_runid_852c07bf042182e22f60c3d9425876746c4da9d8_16_1.fastq\n"
     ]
    },
    {
     "name": "stdout",
     "output_type": "stream",
     "text": [
      "[########################################] | 100% Completed |  1min 32.7s\n"
     ]
    },
    {
     "name": "stderr",
     "output_type": "stream",
     "text": [
      "[14:00:57 - __main__] Saving to file: /path/to/data/MinION_sequencing_data_20190828/guppy_3.2.2_08_28_2019_run_01_exec_20190828/sw/fastq_runid_852c07bf042182e22f60c3d9425876746c4da9d8_16_1.tsv\n",
      "[14:00:57 - __main__] Starting fastq (65 of 338)\n",
      "\t/path/to/data/MinION_sequencing_data_20190828/guppy_3.2.2_08_28_2019_run_01_exec_20190828/pass/fastq_runid_852c07bf042182e22f60c3d9425876746c4da9d8_15_3.fastq\n"
     ]
    },
    {
     "name": "stdout",
     "output_type": "stream",
     "text": [
      "[########################################] | 100% Completed |  1min 29.6s\n"
     ]
    },
    {
     "name": "stderr",
     "output_type": "stream",
     "text": [
      "[14:02:27 - __main__] Saving to file: /path/to/data/MinION_sequencing_data_20190828/guppy_3.2.2_08_28_2019_run_01_exec_20190828/sw/fastq_runid_852c07bf042182e22f60c3d9425876746c4da9d8_15_3.tsv\n",
      "[14:02:27 - __main__] Starting fastq (66 of 338)\n",
      "\t/path/to/data/MinION_sequencing_data_20190828/guppy_3.2.2_08_28_2019_run_01_exec_20190828/pass/fastq_runid_852c07bf042182e22f60c3d9425876746c4da9d8_16_2.fastq\n"
     ]
    },
    {
     "name": "stdout",
     "output_type": "stream",
     "text": [
      "[########################################] | 100% Completed | 15.2s\n"
     ]
    },
    {
     "name": "stderr",
     "output_type": "stream",
     "text": [
      "[14:02:43 - __main__] Saving to file: /path/to/data/MinION_sequencing_data_20190828/guppy_3.2.2_08_28_2019_run_01_exec_20190828/sw/fastq_runid_852c07bf042182e22f60c3d9425876746c4da9d8_16_2.tsv\n",
      "[14:02:43 - __main__] Starting fastq (67 of 338)\n",
      "\t/path/to/data/MinION_sequencing_data_20190828/guppy_3.2.2_08_28_2019_run_01_exec_20190828/pass/fastq_runid_852c07bf042182e22f60c3d9425876746c4da9d8_17_0.fastq\n"
     ]
    },
    {
     "name": "stdout",
     "output_type": "stream",
     "text": [
      "[########################################] | 100% Completed |  1min  9.9s\n"
     ]
    },
    {
     "name": "stderr",
     "output_type": "stream",
     "text": [
      "[14:03:53 - __main__] Saving to file: /path/to/data/MinION_sequencing_data_20190828/guppy_3.2.2_08_28_2019_run_01_exec_20190828/sw/fastq_runid_852c07bf042182e22f60c3d9425876746c4da9d8_17_0.tsv\n",
      "[14:03:53 - __main__] Starting fastq (68 of 338)\n",
      "\t/path/to/data/MinION_sequencing_data_20190828/guppy_3.2.2_08_28_2019_run_01_exec_20190828/pass/fastq_runid_852c07bf042182e22f60c3d9425876746c4da9d8_17_1.fastq\n"
     ]
    },
    {
     "name": "stdout",
     "output_type": "stream",
     "text": [
      "[########################################] | 100% Completed | 57.9s\n"
     ]
    },
    {
     "name": "stderr",
     "output_type": "stream",
     "text": [
      "[14:04:51 - __main__] Saving to file: /path/to/data/MinION_sequencing_data_20190828/guppy_3.2.2_08_28_2019_run_01_exec_20190828/sw/fastq_runid_852c07bf042182e22f60c3d9425876746c4da9d8_17_1.tsv\n",
      "[14:04:51 - __main__] Starting fastq (69 of 338)\n",
      "\t/path/to/data/MinION_sequencing_data_20190828/guppy_3.2.2_08_28_2019_run_01_exec_20190828/pass/fastq_runid_852c07bf042182e22f60c3d9425876746c4da9d8_16_3.fastq\n"
     ]
    },
    {
     "name": "stdout",
     "output_type": "stream",
     "text": [
      "[########################################] | 100% Completed |  1.4s\n"
     ]
    },
    {
     "name": "stderr",
     "output_type": "stream",
     "text": [
      "[14:04:53 - __main__] Saving to file: /path/to/data/MinION_sequencing_data_20190828/guppy_3.2.2_08_28_2019_run_01_exec_20190828/sw/fastq_runid_852c07bf042182e22f60c3d9425876746c4da9d8_16_3.tsv\n",
      "[14:04:53 - __main__] Starting fastq (70 of 338)\n",
      "\t/path/to/data/MinION_sequencing_data_20190828/guppy_3.2.2_08_28_2019_run_01_exec_20190828/pass/fastq_runid_852c07bf042182e22f60c3d9425876746c4da9d8_17_2.fastq\n"
     ]
    },
    {
     "name": "stdout",
     "output_type": "stream",
     "text": [
      "[########################################] | 100% Completed |  9.6s\n"
     ]
    },
    {
     "name": "stderr",
     "output_type": "stream",
     "text": [
      "[14:05:03 - __main__] Saving to file: /path/to/data/MinION_sequencing_data_20190828/guppy_3.2.2_08_28_2019_run_01_exec_20190828/sw/fastq_runid_852c07bf042182e22f60c3d9425876746c4da9d8_17_2.tsv\n",
      "[14:05:03 - __main__] Starting fastq (71 of 338)\n",
      "\t/path/to/data/MinION_sequencing_data_20190828/guppy_3.2.2_08_28_2019_run_01_exec_20190828/pass/fastq_runid_852c07bf042182e22f60c3d9425876746c4da9d8_17_3.fastq\n"
     ]
    },
    {
     "name": "stdout",
     "output_type": "stream",
     "text": [
      "[########################################] | 100% Completed |  4.4s\n"
     ]
    },
    {
     "name": "stderr",
     "output_type": "stream",
     "text": [
      "[14:05:07 - __main__] Saving to file: /path/to/data/MinION_sequencing_data_20190828/guppy_3.2.2_08_28_2019_run_01_exec_20190828/sw/fastq_runid_852c07bf042182e22f60c3d9425876746c4da9d8_17_3.tsv\n",
      "[14:05:07 - __main__] Starting fastq (72 of 338)\n",
      "\t/path/to/data/MinION_sequencing_data_20190828/guppy_3.2.2_08_28_2019_run_01_exec_20190828/pass/fastq_runid_852c07bf042182e22f60c3d9425876746c4da9d8_18_0.fastq\n"
     ]
    },
    {
     "name": "stdout",
     "output_type": "stream",
     "text": [
      "[########################################] | 100% Completed | 32.7s\n"
     ]
    },
    {
     "name": "stderr",
     "output_type": "stream",
     "text": [
      "[14:05:40 - __main__] Saving to file: /path/to/data/MinION_sequencing_data_20190828/guppy_3.2.2_08_28_2019_run_01_exec_20190828/sw/fastq_runid_852c07bf042182e22f60c3d9425876746c4da9d8_18_0.tsv\n",
      "[14:05:40 - __main__] Starting fastq (73 of 338)\n",
      "\t/path/to/data/MinION_sequencing_data_20190828/guppy_3.2.2_08_28_2019_run_01_exec_20190828/pass/fastq_runid_852c07bf042182e22f60c3d9425876746c4da9d8_18_1.fastq\n"
     ]
    },
    {
     "name": "stdout",
     "output_type": "stream",
     "text": [
      "[########################################] | 100% Completed |  1min  5.3s\n"
     ]
    },
    {
     "name": "stderr",
     "output_type": "stream",
     "text": [
      "[14:06:46 - __main__] Saving to file: /path/to/data/MinION_sequencing_data_20190828/guppy_3.2.2_08_28_2019_run_01_exec_20190828/sw/fastq_runid_852c07bf042182e22f60c3d9425876746c4da9d8_18_1.tsv\n",
      "[14:06:46 - __main__] Starting fastq (74 of 338)\n",
      "\t/path/to/data/MinION_sequencing_data_20190828/guppy_3.2.2_08_28_2019_run_01_exec_20190828/pass/fastq_runid_852c07bf042182e22f60c3d9425876746c4da9d8_18_2.fastq\n"
     ]
    },
    {
     "name": "stdout",
     "output_type": "stream",
     "text": [
      "[########################################] | 100% Completed | 15.3s\n"
     ]
    },
    {
     "name": "stderr",
     "output_type": "stream",
     "text": [
      "[14:07:02 - __main__] Saving to file: /path/to/data/MinION_sequencing_data_20190828/guppy_3.2.2_08_28_2019_run_01_exec_20190828/sw/fastq_runid_852c07bf042182e22f60c3d9425876746c4da9d8_18_2.tsv\n",
      "[14:07:02 - __main__] Starting fastq (75 of 338)\n",
      "\t/path/to/data/MinION_sequencing_data_20190828/guppy_3.2.2_08_28_2019_run_01_exec_20190828/pass/fastq_runid_852c07bf042182e22f60c3d9425876746c4da9d8_18_3.fastq\n"
     ]
    },
    {
     "name": "stdout",
     "output_type": "stream",
     "text": [
      "[########################################] | 100% Completed | 30.7s\n"
     ]
    },
    {
     "name": "stderr",
     "output_type": "stream",
     "text": [
      "[14:07:33 - __main__] Saving to file: /path/to/data/MinION_sequencing_data_20190828/guppy_3.2.2_08_28_2019_run_01_exec_20190828/sw/fastq_runid_852c07bf042182e22f60c3d9425876746c4da9d8_18_3.tsv\n",
      "[14:07:33 - __main__] Starting fastq (76 of 338)\n",
      "\t/path/to/data/MinION_sequencing_data_20190828/guppy_3.2.2_08_28_2019_run_01_exec_20190828/pass/fastq_runid_852c07bf042182e22f60c3d9425876746c4da9d8_19_0.fastq\n"
     ]
    },
    {
     "name": "stdout",
     "output_type": "stream",
     "text": [
      "[########################################] | 100% Completed | 36.1s\n"
     ]
    },
    {
     "name": "stderr",
     "output_type": "stream",
     "text": [
      "[14:08:09 - __main__] Saving to file: /path/to/data/MinION_sequencing_data_20190828/guppy_3.2.2_08_28_2019_run_01_exec_20190828/sw/fastq_runid_852c07bf042182e22f60c3d9425876746c4da9d8_19_0.tsv\n",
      "[14:08:09 - __main__] Starting fastq (77 of 338)\n",
      "\t/path/to/data/MinION_sequencing_data_20190828/guppy_3.2.2_08_28_2019_run_01_exec_20190828/pass/fastq_runid_852c07bf042182e22f60c3d9425876746c4da9d8_19_1.fastq\n"
     ]
    },
    {
     "name": "stdout",
     "output_type": "stream",
     "text": [
      "[########################################] | 100% Completed | 40.0s\n"
     ]
    },
    {
     "name": "stderr",
     "output_type": "stream",
     "text": [
      "[14:08:49 - __main__] Saving to file: /path/to/data/MinION_sequencing_data_20190828/guppy_3.2.2_08_28_2019_run_01_exec_20190828/sw/fastq_runid_852c07bf042182e22f60c3d9425876746c4da9d8_19_1.tsv\n",
      "[14:08:50 - __main__] Starting fastq (78 of 338)\n",
      "\t/path/to/data/MinION_sequencing_data_20190828/guppy_3.2.2_08_28_2019_run_01_exec_20190828/pass/fastq_runid_852c07bf042182e22f60c3d9425876746c4da9d8_19_2.fastq\n"
     ]
    },
    {
     "name": "stdout",
     "output_type": "stream",
     "text": [
      "[########################################] | 100% Completed | 19.8s\n"
     ]
    },
    {
     "name": "stderr",
     "output_type": "stream",
     "text": [
      "[14:09:10 - __main__] Saving to file: /path/to/data/MinION_sequencing_data_20190828/guppy_3.2.2_08_28_2019_run_01_exec_20190828/sw/fastq_runid_852c07bf042182e22f60c3d9425876746c4da9d8_19_2.tsv\n",
      "[14:09:10 - __main__] Starting fastq (79 of 338)\n",
      "\t/path/to/data/MinION_sequencing_data_20190828/guppy_3.2.2_08_28_2019_run_01_exec_20190828/pass/fastq_runid_852c07bf042182e22f60c3d9425876746c4da9d8_19_3.fastq\n"
     ]
    },
    {
     "name": "stdout",
     "output_type": "stream",
     "text": [
      "[########################################] | 100% Completed | 46.4s\n"
     ]
    },
    {
     "name": "stderr",
     "output_type": "stream",
     "text": [
      "[14:09:56 - __main__] Saving to file: /path/to/data/MinION_sequencing_data_20190828/guppy_3.2.2_08_28_2019_run_01_exec_20190828/sw/fastq_runid_852c07bf042182e22f60c3d9425876746c4da9d8_19_3.tsv\n",
      "[14:09:56 - __main__] Starting fastq (80 of 338)\n",
      "\t/path/to/data/MinION_sequencing_data_20190828/guppy_3.2.2_08_28_2019_run_01_exec_20190828/pass/fastq_runid_852c07bf042182e22f60c3d9425876746c4da9d8_20_0.fastq\n"
     ]
    },
    {
     "name": "stdout",
     "output_type": "stream",
     "text": [
      "[########################################] | 100% Completed | 52.6s\n"
     ]
    },
    {
     "name": "stderr",
     "output_type": "stream",
     "text": [
      "[14:10:49 - __main__] Saving to file: /path/to/data/MinION_sequencing_data_20190828/guppy_3.2.2_08_28_2019_run_01_exec_20190828/sw/fastq_runid_852c07bf042182e22f60c3d9425876746c4da9d8_20_0.tsv\n",
      "[14:10:49 - __main__] Starting fastq (81 of 338)\n",
      "\t/path/to/data/MinION_sequencing_data_20190828/guppy_3.2.2_08_28_2019_run_01_exec_20190828/pass/fastq_runid_852c07bf042182e22f60c3d9425876746c4da9d8_20_1.fastq\n"
     ]
    },
    {
     "name": "stdout",
     "output_type": "stream",
     "text": [
      "[########################################] | 100% Completed | 34.1s\n"
     ]
    },
    {
     "name": "stderr",
     "output_type": "stream",
     "text": [
      "[14:11:24 - __main__] Saving to file: /path/to/data/MinION_sequencing_data_20190828/guppy_3.2.2_08_28_2019_run_01_exec_20190828/sw/fastq_runid_852c07bf042182e22f60c3d9425876746c4da9d8_20_1.tsv\n",
      "[14:11:24 - __main__] Starting fastq (82 of 338)\n",
      "\t/path/to/data/MinION_sequencing_data_20190828/guppy_3.2.2_08_28_2019_run_01_exec_20190828/pass/fastq_runid_852c07bf042182e22f60c3d9425876746c4da9d8_20_2.fastq\n"
     ]
    },
    {
     "name": "stdout",
     "output_type": "stream",
     "text": [
      "[########################################] | 100% Completed | 11.0s\n"
     ]
    },
    {
     "name": "stderr",
     "output_type": "stream",
     "text": [
      "[14:11:35 - __main__] Saving to file: /path/to/data/MinION_sequencing_data_20190828/guppy_3.2.2_08_28_2019_run_01_exec_20190828/sw/fastq_runid_852c07bf042182e22f60c3d9425876746c4da9d8_20_2.tsv\n",
      "[14:11:35 - __main__] Starting fastq (83 of 338)\n",
      "\t/path/to/data/MinION_sequencing_data_20190828/guppy_3.2.2_08_28_2019_run_01_exec_20190828/pass/fastq_runid_852c07bf042182e22f60c3d9425876746c4da9d8_20_3.fastq\n"
     ]
    },
    {
     "name": "stdout",
     "output_type": "stream",
     "text": [
      "[########################################] | 100% Completed | 45.3s\n"
     ]
    },
    {
     "name": "stderr",
     "output_type": "stream",
     "text": [
      "[14:12:21 - __main__] Saving to file: /path/to/data/MinION_sequencing_data_20190828/guppy_3.2.2_08_28_2019_run_01_exec_20190828/sw/fastq_runid_852c07bf042182e22f60c3d9425876746c4da9d8_20_3.tsv\n",
      "[14:12:21 - __main__] Starting fastq (84 of 338)\n",
      "\t/path/to/data/MinION_sequencing_data_20190828/guppy_3.2.2_08_28_2019_run_01_exec_20190828/pass/fastq_runid_852c07bf042182e22f60c3d9425876746c4da9d8_21_0.fastq\n"
     ]
    },
    {
     "name": "stdout",
     "output_type": "stream",
     "text": [
      "[########################################] | 100% Completed | 51.6s\n"
     ]
    },
    {
     "name": "stderr",
     "output_type": "stream",
     "text": [
      "[14:13:13 - __main__] Saving to file: /path/to/data/MinION_sequencing_data_20190828/guppy_3.2.2_08_28_2019_run_01_exec_20190828/sw/fastq_runid_852c07bf042182e22f60c3d9425876746c4da9d8_21_0.tsv\n",
      "[14:13:13 - __main__] Starting fastq (85 of 338)\n",
      "\t/path/to/data/MinION_sequencing_data_20190828/guppy_3.2.2_08_28_2019_run_01_exec_20190828/pass/fastq_runid_852c07bf042182e22f60c3d9425876746c4da9d8_21_1.fastq\n"
     ]
    },
    {
     "name": "stdout",
     "output_type": "stream",
     "text": [
      "[########################################] | 100% Completed |  1min 23.1s\n"
     ]
    },
    {
     "name": "stderr",
     "output_type": "stream",
     "text": [
      "[14:14:36 - __main__] Saving to file: /path/to/data/MinION_sequencing_data_20190828/guppy_3.2.2_08_28_2019_run_01_exec_20190828/sw/fastq_runid_852c07bf042182e22f60c3d9425876746c4da9d8_21_1.tsv\n",
      "[14:14:36 - __main__] Starting fastq (86 of 338)\n",
      "\t/path/to/data/MinION_sequencing_data_20190828/guppy_3.2.2_08_28_2019_run_01_exec_20190828/pass/fastq_runid_852c07bf042182e22f60c3d9425876746c4da9d8_21_2.fastq\n"
     ]
    },
    {
     "name": "stdout",
     "output_type": "stream",
     "text": [
      "[########################################] | 100% Completed | 10.4s\n"
     ]
    },
    {
     "name": "stderr",
     "output_type": "stream",
     "text": [
      "[14:14:47 - __main__] Saving to file: /path/to/data/MinION_sequencing_data_20190828/guppy_3.2.2_08_28_2019_run_01_exec_20190828/sw/fastq_runid_852c07bf042182e22f60c3d9425876746c4da9d8_21_2.tsv\n",
      "[14:14:47 - __main__] Starting fastq (87 of 338)\n",
      "\t/path/to/data/MinION_sequencing_data_20190828/guppy_3.2.2_08_28_2019_run_01_exec_20190828/pass/fastq_runid_852c07bf042182e22f60c3d9425876746c4da9d8_22_0.fastq\n"
     ]
    },
    {
     "name": "stdout",
     "output_type": "stream",
     "text": [
      "[########################################] | 100% Completed |  1min 16.1s\n"
     ]
    },
    {
     "name": "stderr",
     "output_type": "stream",
     "text": [
      "[14:16:03 - __main__] Saving to file: /path/to/data/MinION_sequencing_data_20190828/guppy_3.2.2_08_28_2019_run_01_exec_20190828/sw/fastq_runid_852c07bf042182e22f60c3d9425876746c4da9d8_22_0.tsv\n",
      "[14:16:03 - __main__] Starting fastq (88 of 338)\n",
      "\t/path/to/data/MinION_sequencing_data_20190828/guppy_3.2.2_08_28_2019_run_01_exec_20190828/pass/fastq_runid_852c07bf042182e22f60c3d9425876746c4da9d8_21_3.fastq\n"
     ]
    },
    {
     "name": "stdout",
     "output_type": "stream",
     "text": [
      "[########################################] | 100% Completed |  0.9s\n"
     ]
    },
    {
     "name": "stderr",
     "output_type": "stream",
     "text": [
      "[14:16:05 - __main__] Saving to file: /path/to/data/MinION_sequencing_data_20190828/guppy_3.2.2_08_28_2019_run_01_exec_20190828/sw/fastq_runid_852c07bf042182e22f60c3d9425876746c4da9d8_21_3.tsv\n",
      "[14:16:05 - __main__] Starting fastq (89 of 338)\n",
      "\t/path/to/data/MinION_sequencing_data_20190828/guppy_3.2.2_08_28_2019_run_01_exec_20190828/pass/fastq_runid_852c07bf042182e22f60c3d9425876746c4da9d8_22_1.fastq\n"
     ]
    },
    {
     "name": "stdout",
     "output_type": "stream",
     "text": [
      "[########################################] | 100% Completed | 28.0s\n"
     ]
    },
    {
     "name": "stderr",
     "output_type": "stream",
     "text": [
      "[14:16:33 - __main__] Saving to file: /path/to/data/MinION_sequencing_data_20190828/guppy_3.2.2_08_28_2019_run_01_exec_20190828/sw/fastq_runid_852c07bf042182e22f60c3d9425876746c4da9d8_22_1.tsv\n",
      "[14:16:33 - __main__] Starting fastq (90 of 338)\n",
      "\t/path/to/data/MinION_sequencing_data_20190828/guppy_3.2.2_08_28_2019_run_01_exec_20190828/pass/fastq_runid_852c07bf042182e22f60c3d9425876746c4da9d8_22_2.fastq\n"
     ]
    },
    {
     "name": "stdout",
     "output_type": "stream",
     "text": [
      "[########################################] | 100% Completed |  2.6s\n"
     ]
    },
    {
     "name": "stderr",
     "output_type": "stream",
     "text": [
      "[14:16:36 - __main__] Saving to file: /path/to/data/MinION_sequencing_data_20190828/guppy_3.2.2_08_28_2019_run_01_exec_20190828/sw/fastq_runid_852c07bf042182e22f60c3d9425876746c4da9d8_22_2.tsv\n",
      "[14:16:36 - __main__] Starting fastq (91 of 338)\n",
      "\t/path/to/data/MinION_sequencing_data_20190828/guppy_3.2.2_08_28_2019_run_01_exec_20190828/pass/fastq_runid_852c07bf042182e22f60c3d9425876746c4da9d8_23_0.fastq\n"
     ]
    },
    {
     "name": "stdout",
     "output_type": "stream",
     "text": [
      "[########################################] | 100% Completed |  1min  0.2s\n"
     ]
    },
    {
     "name": "stderr",
     "output_type": "stream",
     "text": [
      "[14:17:36 - __main__] Saving to file: /path/to/data/MinION_sequencing_data_20190828/guppy_3.2.2_08_28_2019_run_01_exec_20190828/sw/fastq_runid_852c07bf042182e22f60c3d9425876746c4da9d8_23_0.tsv\n",
      "[14:17:36 - __main__] Starting fastq (92 of 338)\n",
      "\t/path/to/data/MinION_sequencing_data_20190828/guppy_3.2.2_08_28_2019_run_01_exec_20190828/pass/fastq_runid_852c07bf042182e22f60c3d9425876746c4da9d8_23_1.fastq\n"
     ]
    },
    {
     "name": "stdout",
     "output_type": "stream",
     "text": [
      "[########################################] | 100% Completed |  1min 16.8s\n"
     ]
    },
    {
     "name": "stderr",
     "output_type": "stream",
     "text": [
      "[14:18:53 - __main__] Saving to file: /path/to/data/MinION_sequencing_data_20190828/guppy_3.2.2_08_28_2019_run_01_exec_20190828/sw/fastq_runid_852c07bf042182e22f60c3d9425876746c4da9d8_23_1.tsv\n",
      "[14:18:54 - __main__] Starting fastq (93 of 338)\n",
      "\t/path/to/data/MinION_sequencing_data_20190828/guppy_3.2.2_08_28_2019_run_01_exec_20190828/pass/fastq_runid_852c07bf042182e22f60c3d9425876746c4da9d8_22_3.fastq\n"
     ]
    },
    {
     "name": "stdout",
     "output_type": "stream",
     "text": [
      "[########################################] | 100% Completed | 37.2s\n"
     ]
    },
    {
     "name": "stderr",
     "output_type": "stream",
     "text": [
      "[14:19:31 - __main__] Saving to file: /path/to/data/MinION_sequencing_data_20190828/guppy_3.2.2_08_28_2019_run_01_exec_20190828/sw/fastq_runid_852c07bf042182e22f60c3d9425876746c4da9d8_22_3.tsv\n",
      "[14:19:31 - __main__] Starting fastq (94 of 338)\n",
      "\t/path/to/data/MinION_sequencing_data_20190828/guppy_3.2.2_08_28_2019_run_01_exec_20190828/pass/fastq_runid_852c07bf042182e22f60c3d9425876746c4da9d8_23_2.fastq\n"
     ]
    },
    {
     "name": "stdout",
     "output_type": "stream",
     "text": [
      "[########################################] | 100% Completed |  5.4s\n"
     ]
    },
    {
     "name": "stderr",
     "output_type": "stream",
     "text": [
      "[14:19:37 - __main__] Saving to file: /path/to/data/MinION_sequencing_data_20190828/guppy_3.2.2_08_28_2019_run_01_exec_20190828/sw/fastq_runid_852c07bf042182e22f60c3d9425876746c4da9d8_23_2.tsv\n",
      "[14:19:37 - __main__] Starting fastq (95 of 338)\n",
      "\t/path/to/data/MinION_sequencing_data_20190828/guppy_3.2.2_08_28_2019_run_01_exec_20190828/pass/fastq_runid_852c07bf042182e22f60c3d9425876746c4da9d8_23_3.fastq\n"
     ]
    },
    {
     "name": "stdout",
     "output_type": "stream",
     "text": [
      "[########################################] | 100% Completed |  1.7s\n"
     ]
    },
    {
     "name": "stderr",
     "output_type": "stream",
     "text": [
      "[14:19:39 - __main__] Saving to file: /path/to/data/MinION_sequencing_data_20190828/guppy_3.2.2_08_28_2019_run_01_exec_20190828/sw/fastq_runid_852c07bf042182e22f60c3d9425876746c4da9d8_23_3.tsv\n",
      "[14:19:39 - __main__] Starting fastq (96 of 338)\n",
      "\t/path/to/data/MinION_sequencing_data_20190828/guppy_3.2.2_08_28_2019_run_01_exec_20190828/pass/fastq_runid_852c07bf042182e22f60c3d9425876746c4da9d8_24_0.fastq\n"
     ]
    },
    {
     "name": "stdout",
     "output_type": "stream",
     "text": [
      "[########################################] | 100% Completed | 40.6s\n"
     ]
    },
    {
     "name": "stderr",
     "output_type": "stream",
     "text": [
      "[14:20:20 - __main__] Saving to file: /path/to/data/MinION_sequencing_data_20190828/guppy_3.2.2_08_28_2019_run_01_exec_20190828/sw/fastq_runid_852c07bf042182e22f60c3d9425876746c4da9d8_24_0.tsv\n",
      "[14:20:20 - __main__] Starting fastq (97 of 338)\n",
      "\t/path/to/data/MinION_sequencing_data_20190828/guppy_3.2.2_08_28_2019_run_01_exec_20190828/pass/fastq_runid_852c07bf042182e22f60c3d9425876746c4da9d8_24_1.fastq\n"
     ]
    },
    {
     "name": "stdout",
     "output_type": "stream",
     "text": [
      "[########################################] | 100% Completed | 18.3s\n"
     ]
    },
    {
     "name": "stderr",
     "output_type": "stream",
     "text": [
      "[14:20:38 - __main__] Saving to file: /path/to/data/MinION_sequencing_data_20190828/guppy_3.2.2_08_28_2019_run_01_exec_20190828/sw/fastq_runid_852c07bf042182e22f60c3d9425876746c4da9d8_24_1.tsv\n",
      "[14:20:38 - __main__] Starting fastq (98 of 338)\n",
      "\t/path/to/data/MinION_sequencing_data_20190828/guppy_3.2.2_08_28_2019_run_01_exec_20190828/pass/fastq_runid_852c07bf042182e22f60c3d9425876746c4da9d8_24_2.fastq\n"
     ]
    },
    {
     "name": "stdout",
     "output_type": "stream",
     "text": [
      "[########################################] | 100% Completed |  1min  8.1s\n"
     ]
    },
    {
     "name": "stderr",
     "output_type": "stream",
     "text": [
      "[14:21:47 - __main__] Saving to file: /path/to/data/MinION_sequencing_data_20190828/guppy_3.2.2_08_28_2019_run_01_exec_20190828/sw/fastq_runid_852c07bf042182e22f60c3d9425876746c4da9d8_24_2.tsv\n",
      "[14:21:47 - __main__] Starting fastq (99 of 338)\n",
      "\t/path/to/data/MinION_sequencing_data_20190828/guppy_3.2.2_08_28_2019_run_01_exec_20190828/pass/fastq_runid_852c07bf042182e22f60c3d9425876746c4da9d8_25_0.fastq\n"
     ]
    },
    {
     "name": "stdout",
     "output_type": "stream",
     "text": [
      "[########################################] | 100% Completed | 36.4s\n"
     ]
    },
    {
     "name": "stderr",
     "output_type": "stream",
     "text": [
      "[14:22:24 - __main__] Saving to file: /path/to/data/MinION_sequencing_data_20190828/guppy_3.2.2_08_28_2019_run_01_exec_20190828/sw/fastq_runid_852c07bf042182e22f60c3d9425876746c4da9d8_25_0.tsv\n",
      "[14:22:24 - __main__] Starting fastq (100 of 338)\n",
      "\t/path/to/data/MinION_sequencing_data_20190828/guppy_3.2.2_08_28_2019_run_01_exec_20190828/pass/fastq_runid_852c07bf042182e22f60c3d9425876746c4da9d8_24_3.fastq\n"
     ]
    },
    {
     "name": "stdout",
     "output_type": "stream",
     "text": [
      "[########################################] | 100% Completed | 17.2s\n"
     ]
    },
    {
     "name": "stderr",
     "output_type": "stream",
     "text": [
      "[14:22:41 - __main__] Saving to file: /path/to/data/MinION_sequencing_data_20190828/guppy_3.2.2_08_28_2019_run_01_exec_20190828/sw/fastq_runid_852c07bf042182e22f60c3d9425876746c4da9d8_24_3.tsv\n",
      "[14:22:41 - __main__] Starting fastq (101 of 338)\n",
      "\t/path/to/data/MinION_sequencing_data_20190828/guppy_3.2.2_08_28_2019_run_01_exec_20190828/pass/fastq_runid_852c07bf042182e22f60c3d9425876746c4da9d8_25_1.fastq\n"
     ]
    },
    {
     "name": "stdout",
     "output_type": "stream",
     "text": [
      "[########################################] | 100% Completed |  1min 15.3s\n"
     ]
    },
    {
     "name": "stderr",
     "output_type": "stream",
     "text": [
      "[14:23:57 - __main__] Saving to file: /path/to/data/MinION_sequencing_data_20190828/guppy_3.2.2_08_28_2019_run_01_exec_20190828/sw/fastq_runid_852c07bf042182e22f60c3d9425876746c4da9d8_25_1.tsv\n",
      "[14:23:57 - __main__] Starting fastq (102 of 338)\n",
      "\t/path/to/data/MinION_sequencing_data_20190828/guppy_3.2.2_08_28_2019_run_01_exec_20190828/pass/fastq_runid_852c07bf042182e22f60c3d9425876746c4da9d8_26_0.fastq\n"
     ]
    },
    {
     "name": "stdout",
     "output_type": "stream",
     "text": [
      "[########################################] | 100% Completed | 21.0s\n"
     ]
    },
    {
     "name": "stderr",
     "output_type": "stream",
     "text": [
      "[14:24:18 - __main__] Saving to file: /path/to/data/MinION_sequencing_data_20190828/guppy_3.2.2_08_28_2019_run_01_exec_20190828/sw/fastq_runid_852c07bf042182e22f60c3d9425876746c4da9d8_26_0.tsv\n",
      "[14:24:18 - __main__] Starting fastq (103 of 338)\n",
      "\t/path/to/data/MinION_sequencing_data_20190828/guppy_3.2.2_08_28_2019_run_01_exec_20190828/pass/fastq_runid_852c07bf042182e22f60c3d9425876746c4da9d8_25_2.fastq\n"
     ]
    },
    {
     "name": "stdout",
     "output_type": "stream",
     "text": [
      "[########################################] | 100% Completed |  1.0s\n"
     ]
    },
    {
     "name": "stderr",
     "output_type": "stream",
     "text": [
      "[14:24:19 - __main__] Saving to file: /path/to/data/MinION_sequencing_data_20190828/guppy_3.2.2_08_28_2019_run_01_exec_20190828/sw/fastq_runid_852c07bf042182e22f60c3d9425876746c4da9d8_25_2.tsv\n",
      "[14:24:19 - __main__] Starting fastq (104 of 338)\n",
      "\t/path/to/data/MinION_sequencing_data_20190828/guppy_3.2.2_08_28_2019_run_01_exec_20190828/pass/fastq_runid_852c07bf042182e22f60c3d9425876746c4da9d8_26_1.fastq\n"
     ]
    },
    {
     "name": "stdout",
     "output_type": "stream",
     "text": [
      "[########################################] | 100% Completed | 36.9s\n"
     ]
    },
    {
     "name": "stderr",
     "output_type": "stream",
     "text": [
      "[14:24:57 - __main__] Saving to file: /path/to/data/MinION_sequencing_data_20190828/guppy_3.2.2_08_28_2019_run_01_exec_20190828/sw/fastq_runid_852c07bf042182e22f60c3d9425876746c4da9d8_26_1.tsv\n",
      "[14:24:57 - __main__] Starting fastq (105 of 338)\n",
      "\t/path/to/data/MinION_sequencing_data_20190828/guppy_3.2.2_08_28_2019_run_01_exec_20190828/pass/fastq_runid_852c07bf042182e22f60c3d9425876746c4da9d8_27_0.fastq\n"
     ]
    },
    {
     "name": "stdout",
     "output_type": "stream",
     "text": [
      "[########################################] | 100% Completed | 45.3s\n"
     ]
    },
    {
     "name": "stderr",
     "output_type": "stream",
     "text": [
      "[14:25:42 - __main__] Saving to file: /path/to/data/MinION_sequencing_data_20190828/guppy_3.2.2_08_28_2019_run_01_exec_20190828/sw/fastq_runid_852c07bf042182e22f60c3d9425876746c4da9d8_27_0.tsv\n",
      "[14:25:42 - __main__] Starting fastq (106 of 338)\n",
      "\t/path/to/data/MinION_sequencing_data_20190828/guppy_3.2.2_08_28_2019_run_01_exec_20190828/pass/fastq_runid_852c07bf042182e22f60c3d9425876746c4da9d8_27_1.fastq\n"
     ]
    },
    {
     "name": "stdout",
     "output_type": "stream",
     "text": [
      "[########################################] | 100% Completed |  1min 37.5s\n"
     ]
    },
    {
     "name": "stderr",
     "output_type": "stream",
     "text": [
      "[14:27:20 - __main__] Saving to file: /path/to/data/MinION_sequencing_data_20190828/guppy_3.2.2_08_28_2019_run_01_exec_20190828/sw/fastq_runid_852c07bf042182e22f60c3d9425876746c4da9d8_27_1.tsv\n",
      "[14:27:21 - __main__] Starting fastq (107 of 338)\n",
      "\t/path/to/data/MinION_sequencing_data_20190828/guppy_3.2.2_08_28_2019_run_01_exec_20190828/pass/fastq_runid_852c07bf042182e22f60c3d9425876746c4da9d8_26_2.fastq\n"
     ]
    },
    {
     "name": "stdout",
     "output_type": "stream",
     "text": [
      "[########################################] | 100% Completed |  1min 23.2s\n"
     ]
    },
    {
     "name": "stderr",
     "output_type": "stream",
     "text": [
      "[14:28:44 - __main__] Saving to file: /path/to/data/MinION_sequencing_data_20190828/guppy_3.2.2_08_28_2019_run_01_exec_20190828/sw/fastq_runid_852c07bf042182e22f60c3d9425876746c4da9d8_26_2.tsv\n",
      "[14:28:44 - __main__] Starting fastq (108 of 338)\n",
      "\t/path/to/data/MinION_sequencing_data_20190828/guppy_3.2.2_08_28_2019_run_01_exec_20190828/pass/fastq_runid_852c07bf042182e22f60c3d9425876746c4da9d8_25_3.fastq\n"
     ]
    },
    {
     "name": "stdout",
     "output_type": "stream",
     "text": [
      "[########################################] | 100% Completed | 30.4s\n"
     ]
    },
    {
     "name": "stderr",
     "output_type": "stream",
     "text": [
      "[14:29:15 - __main__] Saving to file: /path/to/data/MinION_sequencing_data_20190828/guppy_3.2.2_08_28_2019_run_01_exec_20190828/sw/fastq_runid_852c07bf042182e22f60c3d9425876746c4da9d8_25_3.tsv\n",
      "[14:29:15 - __main__] Starting fastq (109 of 338)\n",
      "\t/path/to/data/MinION_sequencing_data_20190828/guppy_3.2.2_08_28_2019_run_01_exec_20190828/pass/fastq_runid_852c07bf042182e22f60c3d9425876746c4da9d8_26_3.fastq\n"
     ]
    },
    {
     "name": "stdout",
     "output_type": "stream",
     "text": [
      "[########################################] | 100% Completed |  1.0s\n"
     ]
    },
    {
     "name": "stderr",
     "output_type": "stream",
     "text": [
      "[14:29:16 - __main__] Saving to file: /path/to/data/MinION_sequencing_data_20190828/guppy_3.2.2_08_28_2019_run_01_exec_20190828/sw/fastq_runid_852c07bf042182e22f60c3d9425876746c4da9d8_26_3.tsv\n",
      "[14:29:16 - __main__] Starting fastq (110 of 338)\n",
      "\t/path/to/data/MinION_sequencing_data_20190828/guppy_3.2.2_08_28_2019_run_01_exec_20190828/pass/fastq_runid_852c07bf042182e22f60c3d9425876746c4da9d8_27_2.fastq\n"
     ]
    },
    {
     "name": "stdout",
     "output_type": "stream",
     "text": [
      "[########################################] | 100% Completed |  1.7s\n"
     ]
    },
    {
     "name": "stderr",
     "output_type": "stream",
     "text": [
      "[14:29:18 - __main__] Saving to file: /path/to/data/MinION_sequencing_data_20190828/guppy_3.2.2_08_28_2019_run_01_exec_20190828/sw/fastq_runid_852c07bf042182e22f60c3d9425876746c4da9d8_27_2.tsv\n",
      "[14:29:18 - __main__] Starting fastq (111 of 338)\n",
      "\t/path/to/data/MinION_sequencing_data_20190828/guppy_3.2.2_08_28_2019_run_01_exec_20190828/pass/fastq_runid_852c07bf042182e22f60c3d9425876746c4da9d8_28_0.fastq\n"
     ]
    },
    {
     "name": "stdout",
     "output_type": "stream",
     "text": [
      "[########################################] | 100% Completed | 47.5s\n"
     ]
    },
    {
     "name": "stderr",
     "output_type": "stream",
     "text": [
      "[14:30:06 - __main__] Saving to file: /path/to/data/MinION_sequencing_data_20190828/guppy_3.2.2_08_28_2019_run_01_exec_20190828/sw/fastq_runid_852c07bf042182e22f60c3d9425876746c4da9d8_28_0.tsv\n",
      "[14:30:06 - __main__] Starting fastq (112 of 338)\n",
      "\t/path/to/data/MinION_sequencing_data_20190828/guppy_3.2.2_08_28_2019_run_01_exec_20190828/pass/fastq_runid_852c07bf042182e22f60c3d9425876746c4da9d8_28_1.fastq\n"
     ]
    },
    {
     "name": "stdout",
     "output_type": "stream",
     "text": [
      "[########################################] | 100% Completed |  1min 27.0s\n"
     ]
    },
    {
     "name": "stderr",
     "output_type": "stream",
     "text": [
      "[14:31:33 - __main__] Saving to file: /path/to/data/MinION_sequencing_data_20190828/guppy_3.2.2_08_28_2019_run_01_exec_20190828/sw/fastq_runid_852c07bf042182e22f60c3d9425876746c4da9d8_28_1.tsv\n",
      "[14:31:34 - __main__] Starting fastq (113 of 338)\n",
      "\t/path/to/data/MinION_sequencing_data_20190828/guppy_3.2.2_08_28_2019_run_01_exec_20190828/pass/fastq_runid_852c07bf042182e22f60c3d9425876746c4da9d8_28_2.fastq\n"
     ]
    },
    {
     "name": "stdout",
     "output_type": "stream",
     "text": [
      "[########################################] | 100% Completed |  6.0s\n"
     ]
    },
    {
     "name": "stderr",
     "output_type": "stream",
     "text": [
      "[14:31:40 - __main__] Saving to file: /path/to/data/MinION_sequencing_data_20190828/guppy_3.2.2_08_28_2019_run_01_exec_20190828/sw/fastq_runid_852c07bf042182e22f60c3d9425876746c4da9d8_28_2.tsv\n",
      "[14:31:40 - __main__] Starting fastq (114 of 338)\n",
      "\t/path/to/data/MinION_sequencing_data_20190828/guppy_3.2.2_08_28_2019_run_01_exec_20190828/pass/fastq_runid_852c07bf042182e22f60c3d9425876746c4da9d8_29_0.fastq\n"
     ]
    },
    {
     "name": "stdout",
     "output_type": "stream",
     "text": [
      "[########################################] | 100% Completed | 12.9s\n"
     ]
    },
    {
     "name": "stderr",
     "output_type": "stream",
     "text": [
      "[14:31:53 - __main__] Saving to file: /path/to/data/MinION_sequencing_data_20190828/guppy_3.2.2_08_28_2019_run_01_exec_20190828/sw/fastq_runid_852c07bf042182e22f60c3d9425876746c4da9d8_29_0.tsv\n",
      "[14:31:53 - __main__] Starting fastq (115 of 338)\n",
      "\t/path/to/data/MinION_sequencing_data_20190828/guppy_3.2.2_08_28_2019_run_01_exec_20190828/pass/fastq_runid_852c07bf042182e22f60c3d9425876746c4da9d8_29_1.fastq\n"
     ]
    },
    {
     "name": "stdout",
     "output_type": "stream",
     "text": [
      "[########################################] | 100% Completed |  1min  2.2s\n"
     ]
    },
    {
     "name": "stderr",
     "output_type": "stream",
     "text": [
      "[14:32:56 - __main__] Saving to file: /path/to/data/MinION_sequencing_data_20190828/guppy_3.2.2_08_28_2019_run_01_exec_20190828/sw/fastq_runid_852c07bf042182e22f60c3d9425876746c4da9d8_29_1.tsv\n",
      "[14:32:56 - __main__] Starting fastq (116 of 338)\n",
      "\t/path/to/data/MinION_sequencing_data_20190828/guppy_3.2.2_08_28_2019_run_01_exec_20190828/pass/fastq_runid_852c07bf042182e22f60c3d9425876746c4da9d8_27_3.fastq\n"
     ]
    },
    {
     "name": "stdout",
     "output_type": "stream",
     "text": [
      "[########################################] | 100% Completed |  1.2s\n"
     ]
    },
    {
     "name": "stderr",
     "output_type": "stream",
     "text": [
      "[14:32:57 - __main__] Saving to file: /path/to/data/MinION_sequencing_data_20190828/guppy_3.2.2_08_28_2019_run_01_exec_20190828/sw/fastq_runid_852c07bf042182e22f60c3d9425876746c4da9d8_27_3.tsv\n",
      "[14:32:57 - __main__] Starting fastq (117 of 338)\n",
      "\t/path/to/data/MinION_sequencing_data_20190828/guppy_3.2.2_08_28_2019_run_01_exec_20190828/pass/fastq_runid_852c07bf042182e22f60c3d9425876746c4da9d8_28_3.fastq\n"
     ]
    },
    {
     "name": "stdout",
     "output_type": "stream",
     "text": [
      "[########################################] | 100% Completed |  0.9s\n"
     ]
    },
    {
     "name": "stderr",
     "output_type": "stream",
     "text": [
      "[14:32:58 - __main__] Saving to file: /path/to/data/MinION_sequencing_data_20190828/guppy_3.2.2_08_28_2019_run_01_exec_20190828/sw/fastq_runid_852c07bf042182e22f60c3d9425876746c4da9d8_28_3.tsv\n",
      "[14:32:58 - __main__] Starting fastq (118 of 338)\n",
      "\t/path/to/data/MinION_sequencing_data_20190828/guppy_3.2.2_08_28_2019_run_01_exec_20190828/pass/fastq_runid_852c07bf042182e22f60c3d9425876746c4da9d8_29_2.fastq\n"
     ]
    },
    {
     "name": "stdout",
     "output_type": "stream",
     "text": [
      "[########################################] | 100% Completed |  1min  2.5s\n"
     ]
    },
    {
     "name": "stderr",
     "output_type": "stream",
     "text": [
      "[14:34:01 - __main__] Saving to file: /path/to/data/MinION_sequencing_data_20190828/guppy_3.2.2_08_28_2019_run_01_exec_20190828/sw/fastq_runid_852c07bf042182e22f60c3d9425876746c4da9d8_29_2.tsv\n",
      "[14:34:01 - __main__] Starting fastq (119 of 338)\n",
      "\t/path/to/data/MinION_sequencing_data_20190828/guppy_3.2.2_08_28_2019_run_01_exec_20190828/pass/fastq_runid_852c07bf042182e22f60c3d9425876746c4da9d8_30_0.fastq\n"
     ]
    },
    {
     "name": "stdout",
     "output_type": "stream",
     "text": [
      "[########################################] | 100% Completed |  1min 33.9s\n"
     ]
    },
    {
     "name": "stderr",
     "output_type": "stream",
     "text": [
      "[14:35:36 - __main__] Saving to file: /path/to/data/MinION_sequencing_data_20190828/guppy_3.2.2_08_28_2019_run_01_exec_20190828/sw/fastq_runid_852c07bf042182e22f60c3d9425876746c4da9d8_30_0.tsv\n",
      "[14:35:36 - __main__] Starting fastq (120 of 338)\n",
      "\t/path/to/data/MinION_sequencing_data_20190828/guppy_3.2.2_08_28_2019_run_01_exec_20190828/pass/fastq_runid_852c07bf042182e22f60c3d9425876746c4da9d8_29_3.fastq\n"
     ]
    },
    {
     "name": "stdout",
     "output_type": "stream",
     "text": [
      "[########################################] | 100% Completed |  1.0s\n"
     ]
    },
    {
     "name": "stderr",
     "output_type": "stream",
     "text": [
      "[14:35:37 - __main__] Saving to file: /path/to/data/MinION_sequencing_data_20190828/guppy_3.2.2_08_28_2019_run_01_exec_20190828/sw/fastq_runid_852c07bf042182e22f60c3d9425876746c4da9d8_29_3.tsv\n",
      "[14:35:37 - __main__] Starting fastq (121 of 338)\n",
      "\t/path/to/data/MinION_sequencing_data_20190828/guppy_3.2.2_08_28_2019_run_01_exec_20190828/pass/fastq_runid_852c07bf042182e22f60c3d9425876746c4da9d8_30_1.fastq\n"
     ]
    },
    {
     "name": "stdout",
     "output_type": "stream",
     "text": [
      "[########################################] | 100% Completed |  0.9s\n"
     ]
    },
    {
     "name": "stderr",
     "output_type": "stream",
     "text": [
      "[14:35:38 - __main__] Saving to file: /path/to/data/MinION_sequencing_data_20190828/guppy_3.2.2_08_28_2019_run_01_exec_20190828/sw/fastq_runid_852c07bf042182e22f60c3d9425876746c4da9d8_30_1.tsv\n",
      "[14:35:38 - __main__] Starting fastq (122 of 338)\n",
      "\t/path/to/data/MinION_sequencing_data_20190828/guppy_3.2.2_08_28_2019_run_01_exec_20190828/pass/fastq_runid_852c07bf042182e22f60c3d9425876746c4da9d8_31_0.fastq\n"
     ]
    },
    {
     "name": "stdout",
     "output_type": "stream",
     "text": [
      "[########################################] | 100% Completed |  1min 56.1s\n"
     ]
    },
    {
     "name": "stderr",
     "output_type": "stream",
     "text": [
      "[14:37:34 - __main__] Saving to file: /path/to/data/MinION_sequencing_data_20190828/guppy_3.2.2_08_28_2019_run_01_exec_20190828/sw/fastq_runid_852c07bf042182e22f60c3d9425876746c4da9d8_31_0.tsv\n",
      "[14:37:35 - __main__] Starting fastq (123 of 338)\n",
      "\t/path/to/data/MinION_sequencing_data_20190828/guppy_3.2.2_08_28_2019_run_01_exec_20190828/pass/fastq_runid_852c07bf042182e22f60c3d9425876746c4da9d8_30_2.fastq\n"
     ]
    },
    {
     "name": "stdout",
     "output_type": "stream",
     "text": [
      "[########################################] | 100% Completed |  2.8s\n"
     ]
    },
    {
     "name": "stderr",
     "output_type": "stream",
     "text": [
      "[14:37:38 - __main__] Saving to file: /path/to/data/MinION_sequencing_data_20190828/guppy_3.2.2_08_28_2019_run_01_exec_20190828/sw/fastq_runid_852c07bf042182e22f60c3d9425876746c4da9d8_30_2.tsv\n",
      "[14:37:38 - __main__] Starting fastq (124 of 338)\n",
      "\t/path/to/data/MinION_sequencing_data_20190828/guppy_3.2.2_08_28_2019_run_01_exec_20190828/pass/fastq_runid_852c07bf042182e22f60c3d9425876746c4da9d8_31_1.fastq\n"
     ]
    },
    {
     "name": "stdout",
     "output_type": "stream",
     "text": [
      "[########################################] | 100% Completed | 11.5s\n"
     ]
    },
    {
     "name": "stderr",
     "output_type": "stream",
     "text": [
      "[14:37:50 - __main__] Saving to file: /path/to/data/MinION_sequencing_data_20190828/guppy_3.2.2_08_28_2019_run_01_exec_20190828/sw/fastq_runid_852c07bf042182e22f60c3d9425876746c4da9d8_31_1.tsv\n",
      "[14:37:50 - __main__] Starting fastq (125 of 338)\n",
      "\t/path/to/data/MinION_sequencing_data_20190828/guppy_3.2.2_08_28_2019_run_01_exec_20190828/pass/fastq_runid_852c07bf042182e22f60c3d9425876746c4da9d8_32_0.fastq\n"
     ]
    },
    {
     "name": "stdout",
     "output_type": "stream",
     "text": [
      "[########################################] | 100% Completed |  2min  6.2s\n"
     ]
    },
    {
     "name": "stderr",
     "output_type": "stream",
     "text": [
      "[14:39:56 - __main__] Saving to file: /path/to/data/MinION_sequencing_data_20190828/guppy_3.2.2_08_28_2019_run_01_exec_20190828/sw/fastq_runid_852c07bf042182e22f60c3d9425876746c4da9d8_32_0.tsv\n",
      "[14:39:56 - __main__] Starting fastq (126 of 338)\n",
      "\t/path/to/data/MinION_sequencing_data_20190828/guppy_3.2.2_08_28_2019_run_01_exec_20190828/pass/fastq_runid_852c07bf042182e22f60c3d9425876746c4da9d8_30_3.fastq\n"
     ]
    },
    {
     "name": "stdout",
     "output_type": "stream",
     "text": [
      "[########################################] | 100% Completed | 44.7s\n"
     ]
    },
    {
     "name": "stderr",
     "output_type": "stream",
     "text": [
      "[14:40:41 - __main__] Saving to file: /path/to/data/MinION_sequencing_data_20190828/guppy_3.2.2_08_28_2019_run_01_exec_20190828/sw/fastq_runid_852c07bf042182e22f60c3d9425876746c4da9d8_30_3.tsv\n",
      "[14:40:41 - __main__] Starting fastq (127 of 338)\n",
      "\t/path/to/data/MinION_sequencing_data_20190828/guppy_3.2.2_08_28_2019_run_01_exec_20190828/pass/fastq_runid_852c07bf042182e22f60c3d9425876746c4da9d8_31_2.fastq\n"
     ]
    },
    {
     "name": "stdout",
     "output_type": "stream",
     "text": [
      "[########################################] | 100% Completed | 13.8s\n"
     ]
    },
    {
     "name": "stderr",
     "output_type": "stream",
     "text": [
      "[14:40:55 - __main__] Saving to file: /path/to/data/MinION_sequencing_data_20190828/guppy_3.2.2_08_28_2019_run_01_exec_20190828/sw/fastq_runid_852c07bf042182e22f60c3d9425876746c4da9d8_31_2.tsv\n",
      "[14:40:56 - __main__] Starting fastq (128 of 338)\n",
      "\t/path/to/data/MinION_sequencing_data_20190828/guppy_3.2.2_08_28_2019_run_01_exec_20190828/pass/fastq_runid_852c07bf042182e22f60c3d9425876746c4da9d8_32_1.fastq\n"
     ]
    },
    {
     "name": "stdout",
     "output_type": "stream",
     "text": [
      "[########################################] | 100% Completed |  8.6s\n"
     ]
    },
    {
     "name": "stderr",
     "output_type": "stream",
     "text": [
      "[14:41:04 - __main__] Saving to file: /path/to/data/MinION_sequencing_data_20190828/guppy_3.2.2_08_28_2019_run_01_exec_20190828/sw/fastq_runid_852c07bf042182e22f60c3d9425876746c4da9d8_32_1.tsv\n",
      "[14:41:04 - __main__] Starting fastq (129 of 338)\n",
      "\t/path/to/data/MinION_sequencing_data_20190828/guppy_3.2.2_08_28_2019_run_01_exec_20190828/pass/fastq_runid_852c07bf042182e22f60c3d9425876746c4da9d8_31_3.fastq\n"
     ]
    },
    {
     "name": "stdout",
     "output_type": "stream",
     "text": [
      "[########################################] | 100% Completed |  1.0s\n"
     ]
    },
    {
     "name": "stderr",
     "output_type": "stream",
     "text": [
      "[14:41:06 - __main__] Saving to file: /path/to/data/MinION_sequencing_data_20190828/guppy_3.2.2_08_28_2019_run_01_exec_20190828/sw/fastq_runid_852c07bf042182e22f60c3d9425876746c4da9d8_31_3.tsv\n",
      "[14:41:06 - __main__] Starting fastq (130 of 338)\n",
      "\t/path/to/data/MinION_sequencing_data_20190828/guppy_3.2.2_08_28_2019_run_01_exec_20190828/pass/fastq_runid_852c07bf042182e22f60c3d9425876746c4da9d8_32_2.fastq\n"
     ]
    },
    {
     "name": "stdout",
     "output_type": "stream",
     "text": [
      "[########################################] | 100% Completed |  2.4s\n"
     ]
    },
    {
     "name": "stderr",
     "output_type": "stream",
     "text": [
      "[14:41:08 - __main__] Saving to file: /path/to/data/MinION_sequencing_data_20190828/guppy_3.2.2_08_28_2019_run_01_exec_20190828/sw/fastq_runid_852c07bf042182e22f60c3d9425876746c4da9d8_32_2.tsv\n",
      "[14:41:08 - __main__] Starting fastq (131 of 338)\n",
      "\t/path/to/data/MinION_sequencing_data_20190828/guppy_3.2.2_08_28_2019_run_01_exec_20190828/pass/fastq_runid_852c07bf042182e22f60c3d9425876746c4da9d8_32_3.fastq\n"
     ]
    },
    {
     "name": "stdout",
     "output_type": "stream",
     "text": [
      "[########################################] | 100% Completed |  2.2s\n"
     ]
    },
    {
     "name": "stderr",
     "output_type": "stream",
     "text": [
      "[14:41:11 - __main__] Saving to file: /path/to/data/MinION_sequencing_data_20190828/guppy_3.2.2_08_28_2019_run_01_exec_20190828/sw/fastq_runid_852c07bf042182e22f60c3d9425876746c4da9d8_32_3.tsv\n",
      "[14:41:11 - __main__] Starting fastq (132 of 338)\n",
      "\t/path/to/data/MinION_sequencing_data_20190828/guppy_3.2.2_08_28_2019_run_01_exec_20190828/pass/fastq_runid_852c07bf042182e22f60c3d9425876746c4da9d8_33_0.fastq\n"
     ]
    },
    {
     "name": "stdout",
     "output_type": "stream",
     "text": [
      "[########################################] | 100% Completed |  1min 10.0s\n"
     ]
    },
    {
     "name": "stderr",
     "output_type": "stream",
     "text": [
      "[14:42:21 - __main__] Saving to file: /path/to/data/MinION_sequencing_data_20190828/guppy_3.2.2_08_28_2019_run_01_exec_20190828/sw/fastq_runid_852c07bf042182e22f60c3d9425876746c4da9d8_33_0.tsv\n",
      "[14:42:21 - __main__] Starting fastq (133 of 338)\n",
      "\t/path/to/data/MinION_sequencing_data_20190828/guppy_3.2.2_08_28_2019_run_01_exec_20190828/pass/fastq_runid_852c07bf042182e22f60c3d9425876746c4da9d8_33_1.fastq\n"
     ]
    },
    {
     "name": "stdout",
     "output_type": "stream",
     "text": [
      "[########################################] | 100% Completed | 19.4s\n"
     ]
    },
    {
     "name": "stderr",
     "output_type": "stream",
     "text": [
      "[14:42:41 - __main__] Saving to file: /path/to/data/MinION_sequencing_data_20190828/guppy_3.2.2_08_28_2019_run_01_exec_20190828/sw/fastq_runid_852c07bf042182e22f60c3d9425876746c4da9d8_33_1.tsv\n",
      "[14:42:41 - __main__] Starting fastq (134 of 338)\n",
      "\t/path/to/data/MinION_sequencing_data_20190828/guppy_3.2.2_08_28_2019_run_01_exec_20190828/pass/fastq_runid_852c07bf042182e22f60c3d9425876746c4da9d8_33_2.fastq\n"
     ]
    },
    {
     "name": "stdout",
     "output_type": "stream",
     "text": [
      "[########################################] | 100% Completed | 48.8s\n"
     ]
    },
    {
     "name": "stderr",
     "output_type": "stream",
     "text": [
      "[14:43:30 - __main__] Saving to file: /path/to/data/MinION_sequencing_data_20190828/guppy_3.2.2_08_28_2019_run_01_exec_20190828/sw/fastq_runid_852c07bf042182e22f60c3d9425876746c4da9d8_33_2.tsv\n",
      "[14:43:30 - __main__] Starting fastq (135 of 338)\n",
      "\t/path/to/data/MinION_sequencing_data_20190828/guppy_3.2.2_08_28_2019_run_01_exec_20190828/pass/fastq_runid_852c07bf042182e22f60c3d9425876746c4da9d8_34_0.fastq\n"
     ]
    },
    {
     "name": "stdout",
     "output_type": "stream",
     "text": [
      "[########################################] | 100% Completed | 48.3s\n"
     ]
    },
    {
     "name": "stderr",
     "output_type": "stream",
     "text": [
      "[14:44:19 - __main__] Saving to file: /path/to/data/MinION_sequencing_data_20190828/guppy_3.2.2_08_28_2019_run_01_exec_20190828/sw/fastq_runid_852c07bf042182e22f60c3d9425876746c4da9d8_34_0.tsv\n",
      "[14:44:19 - __main__] Starting fastq (136 of 338)\n",
      "\t/path/to/data/MinION_sequencing_data_20190828/guppy_3.2.2_08_28_2019_run_01_exec_20190828/pass/fastq_runid_852c07bf042182e22f60c3d9425876746c4da9d8_33_3.fastq\n"
     ]
    },
    {
     "name": "stdout",
     "output_type": "stream",
     "text": [
      "[########################################] | 100% Completed |  4.2s\n"
     ]
    },
    {
     "name": "stderr",
     "output_type": "stream",
     "text": [
      "[14:44:23 - __main__] Saving to file: /path/to/data/MinION_sequencing_data_20190828/guppy_3.2.2_08_28_2019_run_01_exec_20190828/sw/fastq_runid_852c07bf042182e22f60c3d9425876746c4da9d8_33_3.tsv\n",
      "[14:44:23 - __main__] Starting fastq (137 of 338)\n",
      "\t/path/to/data/MinION_sequencing_data_20190828/guppy_3.2.2_08_28_2019_run_01_exec_20190828/pass/fastq_runid_852c07bf042182e22f60c3d9425876746c4da9d8_34_1.fastq\n"
     ]
    },
    {
     "name": "stdout",
     "output_type": "stream",
     "text": [
      "[########################################] | 100% Completed |  4.7s\n"
     ]
    },
    {
     "name": "stderr",
     "output_type": "stream",
     "text": [
      "[14:44:28 - __main__] Saving to file: /path/to/data/MinION_sequencing_data_20190828/guppy_3.2.2_08_28_2019_run_01_exec_20190828/sw/fastq_runid_852c07bf042182e22f60c3d9425876746c4da9d8_34_1.tsv\n",
      "[14:44:28 - __main__] Starting fastq (138 of 338)\n",
      "\t/path/to/data/MinION_sequencing_data_20190828/guppy_3.2.2_08_28_2019_run_01_exec_20190828/pass/fastq_runid_852c07bf042182e22f60c3d9425876746c4da9d8_35_0.fastq\n"
     ]
    },
    {
     "name": "stdout",
     "output_type": "stream",
     "text": [
      "[########################################] | 100% Completed |  2min  6.9s\n"
     ]
    },
    {
     "name": "stderr",
     "output_type": "stream",
     "text": [
      "[14:46:35 - __main__] Saving to file: /path/to/data/MinION_sequencing_data_20190828/guppy_3.2.2_08_28_2019_run_01_exec_20190828/sw/fastq_runid_852c07bf042182e22f60c3d9425876746c4da9d8_35_0.tsv\n",
      "[14:46:36 - __main__] Starting fastq (139 of 338)\n",
      "\t/path/to/data/MinION_sequencing_data_20190828/guppy_3.2.2_08_28_2019_run_01_exec_20190828/pass/fastq_runid_852c07bf042182e22f60c3d9425876746c4da9d8_34_2.fastq\n"
     ]
    },
    {
     "name": "stdout",
     "output_type": "stream",
     "text": [
      "[########################################] | 100% Completed | 43.8s\n"
     ]
    },
    {
     "name": "stderr",
     "output_type": "stream",
     "text": [
      "[14:47:20 - __main__] Saving to file: /path/to/data/MinION_sequencing_data_20190828/guppy_3.2.2_08_28_2019_run_01_exec_20190828/sw/fastq_runid_852c07bf042182e22f60c3d9425876746c4da9d8_34_2.tsv\n",
      "[14:47:20 - __main__] Starting fastq (140 of 338)\n",
      "\t/path/to/data/MinION_sequencing_data_20190828/guppy_3.2.2_08_28_2019_run_01_exec_20190828/pass/fastq_runid_852c07bf042182e22f60c3d9425876746c4da9d8_34_3.fastq\n"
     ]
    },
    {
     "name": "stdout",
     "output_type": "stream",
     "text": [
      "[########################################] | 100% Completed | 47.3s\n"
     ]
    },
    {
     "name": "stderr",
     "output_type": "stream",
     "text": [
      "[14:48:07 - __main__] Saving to file: /path/to/data/MinION_sequencing_data_20190828/guppy_3.2.2_08_28_2019_run_01_exec_20190828/sw/fastq_runid_852c07bf042182e22f60c3d9425876746c4da9d8_34_3.tsv\n",
      "[14:48:07 - __main__] Starting fastq (141 of 338)\n",
      "\t/path/to/data/MinION_sequencing_data_20190828/guppy_3.2.2_08_28_2019_run_01_exec_20190828/pass/fastq_runid_852c07bf042182e22f60c3d9425876746c4da9d8_35_1.fastq\n"
     ]
    },
    {
     "name": "stdout",
     "output_type": "stream",
     "text": [
      "[########################################] | 100% Completed |  2.5s\n"
     ]
    },
    {
     "name": "stderr",
     "output_type": "stream",
     "text": [
      "[14:48:10 - __main__] Saving to file: /path/to/data/MinION_sequencing_data_20190828/guppy_3.2.2_08_28_2019_run_01_exec_20190828/sw/fastq_runid_852c07bf042182e22f60c3d9425876746c4da9d8_35_1.tsv\n",
      "[14:48:10 - __main__] Starting fastq (142 of 338)\n",
      "\t/path/to/data/MinION_sequencing_data_20190828/guppy_3.2.2_08_28_2019_run_01_exec_20190828/pass/fastq_runid_852c07bf042182e22f60c3d9425876746c4da9d8_36_0.fastq\n"
     ]
    },
    {
     "name": "stdout",
     "output_type": "stream",
     "text": [
      "[########################################] | 100% Completed | 51.0s\n"
     ]
    },
    {
     "name": "stderr",
     "output_type": "stream",
     "text": [
      "[14:49:02 - __main__] Saving to file: /path/to/data/MinION_sequencing_data_20190828/guppy_3.2.2_08_28_2019_run_01_exec_20190828/sw/fastq_runid_852c07bf042182e22f60c3d9425876746c4da9d8_36_0.tsv\n",
      "[14:49:02 - __main__] Starting fastq (143 of 338)\n",
      "\t/path/to/data/MinION_sequencing_data_20190828/guppy_3.2.2_08_28_2019_run_01_exec_20190828/pass/fastq_runid_852c07bf042182e22f60c3d9425876746c4da9d8_35_2.fastq\n"
     ]
    },
    {
     "name": "stdout",
     "output_type": "stream",
     "text": [
      "[########################################] | 100% Completed |  3.3s\n"
     ]
    },
    {
     "name": "stderr",
     "output_type": "stream",
     "text": [
      "[14:49:05 - __main__] Saving to file: /path/to/data/MinION_sequencing_data_20190828/guppy_3.2.2_08_28_2019_run_01_exec_20190828/sw/fastq_runid_852c07bf042182e22f60c3d9425876746c4da9d8_35_2.tsv\n",
      "[14:49:05 - __main__] Starting fastq (144 of 338)\n",
      "\t/path/to/data/MinION_sequencing_data_20190828/guppy_3.2.2_08_28_2019_run_01_exec_20190828/pass/fastq_runid_852c07bf042182e22f60c3d9425876746c4da9d8_36_1.fastq\n"
     ]
    },
    {
     "name": "stdout",
     "output_type": "stream",
     "text": [
      "[########################################] | 100% Completed |  1min 28.4s\n"
     ]
    },
    {
     "name": "stderr",
     "output_type": "stream",
     "text": [
      "[14:50:34 - __main__] Saving to file: /path/to/data/MinION_sequencing_data_20190828/guppy_3.2.2_08_28_2019_run_01_exec_20190828/sw/fastq_runid_852c07bf042182e22f60c3d9425876746c4da9d8_36_1.tsv\n",
      "[14:50:34 - __main__] Starting fastq (145 of 338)\n",
      "\t/path/to/data/MinION_sequencing_data_20190828/guppy_3.2.2_08_28_2019_run_01_exec_20190828/pass/fastq_runid_852c07bf042182e22f60c3d9425876746c4da9d8_35_3.fastq\n"
     ]
    },
    {
     "name": "stdout",
     "output_type": "stream",
     "text": [
      "[########################################] | 100% Completed |  8.4s\n"
     ]
    },
    {
     "name": "stderr",
     "output_type": "stream",
     "text": [
      "[14:50:43 - __main__] Saving to file: /path/to/data/MinION_sequencing_data_20190828/guppy_3.2.2_08_28_2019_run_01_exec_20190828/sw/fastq_runid_852c07bf042182e22f60c3d9425876746c4da9d8_35_3.tsv\n",
      "[14:50:43 - __main__] Starting fastq (146 of 338)\n",
      "\t/path/to/data/MinION_sequencing_data_20190828/guppy_3.2.2_08_28_2019_run_01_exec_20190828/pass/fastq_runid_852c07bf042182e22f60c3d9425876746c4da9d8_36_2.fastq\n"
     ]
    },
    {
     "name": "stdout",
     "output_type": "stream",
     "text": [
      "[########################################] | 100% Completed |  0.9s\n"
     ]
    },
    {
     "name": "stderr",
     "output_type": "stream",
     "text": [
      "[14:50:44 - __main__] Saving to file: /path/to/data/MinION_sequencing_data_20190828/guppy_3.2.2_08_28_2019_run_01_exec_20190828/sw/fastq_runid_852c07bf042182e22f60c3d9425876746c4da9d8_36_2.tsv\n",
      "[14:50:44 - __main__] Starting fastq (147 of 338)\n",
      "\t/path/to/data/MinION_sequencing_data_20190828/guppy_3.2.2_08_28_2019_run_01_exec_20190828/pass/fastq_runid_852c07bf042182e22f60c3d9425876746c4da9d8_37_0.fastq\n"
     ]
    },
    {
     "name": "stdout",
     "output_type": "stream",
     "text": [
      "[########################################] | 100% Completed |  1min 42.2s\n"
     ]
    },
    {
     "name": "stderr",
     "output_type": "stream",
     "text": [
      "[14:52:26 - __main__] Saving to file: /path/to/data/MinION_sequencing_data_20190828/guppy_3.2.2_08_28_2019_run_01_exec_20190828/sw/fastq_runid_852c07bf042182e22f60c3d9425876746c4da9d8_37_0.tsv\n",
      "[14:52:27 - __main__] Starting fastq (148 of 338)\n",
      "\t/path/to/data/MinION_sequencing_data_20190828/guppy_3.2.2_08_28_2019_run_01_exec_20190828/pass/fastq_runid_852c07bf042182e22f60c3d9425876746c4da9d8_36_3.fastq\n"
     ]
    },
    {
     "name": "stdout",
     "output_type": "stream",
     "text": [
      "[########################################] | 100% Completed |  1.4s\n"
     ]
    },
    {
     "name": "stderr",
     "output_type": "stream",
     "text": [
      "[14:52:28 - __main__] Saving to file: /path/to/data/MinION_sequencing_data_20190828/guppy_3.2.2_08_28_2019_run_01_exec_20190828/sw/fastq_runid_852c07bf042182e22f60c3d9425876746c4da9d8_36_3.tsv\n",
      "[14:52:28 - __main__] Starting fastq (149 of 338)\n",
      "\t/path/to/data/MinION_sequencing_data_20190828/guppy_3.2.2_08_28_2019_run_01_exec_20190828/pass/fastq_runid_852c07bf042182e22f60c3d9425876746c4da9d8_37_1.fastq\n"
     ]
    },
    {
     "name": "stdout",
     "output_type": "stream",
     "text": [
      "[########################################] | 100% Completed | 28.8s\n"
     ]
    },
    {
     "name": "stderr",
     "output_type": "stream",
     "text": [
      "[14:52:57 - __main__] Saving to file: /path/to/data/MinION_sequencing_data_20190828/guppy_3.2.2_08_28_2019_run_01_exec_20190828/sw/fastq_runid_852c07bf042182e22f60c3d9425876746c4da9d8_37_1.tsv\n",
      "[14:52:57 - __main__] Starting fastq (150 of 338)\n",
      "\t/path/to/data/MinION_sequencing_data_20190828/guppy_3.2.2_08_28_2019_run_01_exec_20190828/pass/fastq_runid_852c07bf042182e22f60c3d9425876746c4da9d8_37_2.fastq\n"
     ]
    },
    {
     "name": "stdout",
     "output_type": "stream",
     "text": [
      "[########################################] | 100% Completed |  3.3s\n"
     ]
    },
    {
     "name": "stderr",
     "output_type": "stream",
     "text": [
      "[14:53:01 - __main__] Saving to file: /path/to/data/MinION_sequencing_data_20190828/guppy_3.2.2_08_28_2019_run_01_exec_20190828/sw/fastq_runid_852c07bf042182e22f60c3d9425876746c4da9d8_37_2.tsv\n",
      "[14:53:01 - __main__] Starting fastq (151 of 338)\n",
      "\t/path/to/data/MinION_sequencing_data_20190828/guppy_3.2.2_08_28_2019_run_01_exec_20190828/pass/fastq_runid_852c07bf042182e22f60c3d9425876746c4da9d8_38_0.fastq\n"
     ]
    },
    {
     "name": "stdout",
     "output_type": "stream",
     "text": [
      "[########################################] | 100% Completed | 24.4s\n"
     ]
    },
    {
     "name": "stderr",
     "output_type": "stream",
     "text": [
      "[14:53:25 - __main__] Saving to file: /path/to/data/MinION_sequencing_data_20190828/guppy_3.2.2_08_28_2019_run_01_exec_20190828/sw/fastq_runid_852c07bf042182e22f60c3d9425876746c4da9d8_38_0.tsv\n",
      "[14:53:26 - __main__] Starting fastq (152 of 338)\n",
      "\t/path/to/data/MinION_sequencing_data_20190828/guppy_3.2.2_08_28_2019_run_01_exec_20190828/pass/fastq_runid_852c07bf042182e22f60c3d9425876746c4da9d8_37_3.fastq\n"
     ]
    },
    {
     "name": "stdout",
     "output_type": "stream",
     "text": [
      "[########################################] | 100% Completed |  7.3s\n"
     ]
    },
    {
     "name": "stderr",
     "output_type": "stream",
     "text": [
      "[14:53:33 - __main__] Saving to file: /path/to/data/MinION_sequencing_data_20190828/guppy_3.2.2_08_28_2019_run_01_exec_20190828/sw/fastq_runid_852c07bf042182e22f60c3d9425876746c4da9d8_37_3.tsv\n",
      "[14:53:33 - __main__] Starting fastq (153 of 338)\n",
      "\t/path/to/data/MinION_sequencing_data_20190828/guppy_3.2.2_08_28_2019_run_01_exec_20190828/pass/fastq_runid_852c07bf042182e22f60c3d9425876746c4da9d8_38_1.fastq\n"
     ]
    },
    {
     "name": "stdout",
     "output_type": "stream",
     "text": [
      "[########################################] | 100% Completed | 11.0s\n"
     ]
    },
    {
     "name": "stderr",
     "output_type": "stream",
     "text": [
      "[14:53:44 - __main__] Saving to file: /path/to/data/MinION_sequencing_data_20190828/guppy_3.2.2_08_28_2019_run_01_exec_20190828/sw/fastq_runid_852c07bf042182e22f60c3d9425876746c4da9d8_38_1.tsv\n",
      "[14:53:44 - __main__] Starting fastq (154 of 338)\n",
      "\t/path/to/data/MinION_sequencing_data_20190828/guppy_3.2.2_08_28_2019_run_01_exec_20190828/pass/fastq_runid_852c07bf042182e22f60c3d9425876746c4da9d8_38_2.fastq\n"
     ]
    },
    {
     "name": "stdout",
     "output_type": "stream",
     "text": [
      "[########################################] | 100% Completed |  1min 24.3s\n"
     ]
    },
    {
     "name": "stderr",
     "output_type": "stream",
     "text": [
      "[14:55:09 - __main__] Saving to file: /path/to/data/MinION_sequencing_data_20190828/guppy_3.2.2_08_28_2019_run_01_exec_20190828/sw/fastq_runid_852c07bf042182e22f60c3d9425876746c4da9d8_38_2.tsv\n",
      "[14:55:09 - __main__] Starting fastq (155 of 338)\n",
      "\t/path/to/data/MinION_sequencing_data_20190828/guppy_3.2.2_08_28_2019_run_01_exec_20190828/pass/fastq_runid_852c07bf042182e22f60c3d9425876746c4da9d8_39_0.fastq\n"
     ]
    },
    {
     "name": "stdout",
     "output_type": "stream",
     "text": [
      "[########################################] | 100% Completed |  1min  0.1s\n"
     ]
    },
    {
     "name": "stderr",
     "output_type": "stream",
     "text": [
      "[14:56:10 - __main__] Saving to file: /path/to/data/MinION_sequencing_data_20190828/guppy_3.2.2_08_28_2019_run_01_exec_20190828/sw/fastq_runid_852c07bf042182e22f60c3d9425876746c4da9d8_39_0.tsv\n",
      "[14:56:10 - __main__] Starting fastq (156 of 338)\n",
      "\t/path/to/data/MinION_sequencing_data_20190828/guppy_3.2.2_08_28_2019_run_01_exec_20190828/pass/fastq_runid_852c07bf042182e22f60c3d9425876746c4da9d8_39_1.fastq\n"
     ]
    },
    {
     "name": "stdout",
     "output_type": "stream",
     "text": [
      "[########################################] | 100% Completed |  1min 18.8s\n"
     ]
    },
    {
     "name": "stderr",
     "output_type": "stream",
     "text": [
      "[14:57:29 - __main__] Saving to file: /path/to/data/MinION_sequencing_data_20190828/guppy_3.2.2_08_28_2019_run_01_exec_20190828/sw/fastq_runid_852c07bf042182e22f60c3d9425876746c4da9d8_39_1.tsv\n",
      "[14:57:29 - __main__] Starting fastq (157 of 338)\n",
      "\t/path/to/data/MinION_sequencing_data_20190828/guppy_3.2.2_08_28_2019_run_01_exec_20190828/pass/fastq_runid_852c07bf042182e22f60c3d9425876746c4da9d8_40_0.fastq\n"
     ]
    },
    {
     "name": "stdout",
     "output_type": "stream",
     "text": [
      "[########################################] | 100% Completed |  1min 33.9s\n"
     ]
    },
    {
     "name": "stderr",
     "output_type": "stream",
     "text": [
      "[14:59:03 - __main__] Saving to file: /path/to/data/MinION_sequencing_data_20190828/guppy_3.2.2_08_28_2019_run_01_exec_20190828/sw/fastq_runid_852c07bf042182e22f60c3d9425876746c4da9d8_40_0.tsv\n",
      "[14:59:03 - __main__] Starting fastq (158 of 338)\n",
      "\t/path/to/data/MinION_sequencing_data_20190828/guppy_3.2.2_08_28_2019_run_01_exec_20190828/pass/fastq_runid_852c07bf042182e22f60c3d9425876746c4da9d8_38_3.fastq\n"
     ]
    },
    {
     "name": "stdout",
     "output_type": "stream",
     "text": [
      "[########################################] | 100% Completed | 20.5s\n"
     ]
    },
    {
     "name": "stderr",
     "output_type": "stream",
     "text": [
      "[14:59:24 - __main__] Saving to file: /path/to/data/MinION_sequencing_data_20190828/guppy_3.2.2_08_28_2019_run_01_exec_20190828/sw/fastq_runid_852c07bf042182e22f60c3d9425876746c4da9d8_38_3.tsv\n",
      "[14:59:24 - __main__] Starting fastq (159 of 338)\n",
      "\t/path/to/data/MinION_sequencing_data_20190828/guppy_3.2.2_08_28_2019_run_01_exec_20190828/pass/fastq_runid_852c07bf042182e22f60c3d9425876746c4da9d8_39_2.fastq\n"
     ]
    },
    {
     "name": "stdout",
     "output_type": "stream",
     "text": [
      "[########################################] | 100% Completed |  0.9s\n"
     ]
    },
    {
     "name": "stderr",
     "output_type": "stream",
     "text": [
      "[14:59:25 - __main__] Saving to file: /path/to/data/MinION_sequencing_data_20190828/guppy_3.2.2_08_28_2019_run_01_exec_20190828/sw/fastq_runid_852c07bf042182e22f60c3d9425876746c4da9d8_39_2.tsv\n",
      "[14:59:25 - __main__] Starting fastq (160 of 338)\n",
      "\t/path/to/data/MinION_sequencing_data_20190828/guppy_3.2.2_08_28_2019_run_01_exec_20190828/pass/fastq_runid_852c07bf042182e22f60c3d9425876746c4da9d8_40_1.fastq\n"
     ]
    },
    {
     "name": "stdout",
     "output_type": "stream",
     "text": [
      "[########################################] | 100% Completed | 34.2s\n"
     ]
    },
    {
     "name": "stderr",
     "output_type": "stream",
     "text": [
      "[15:00:00 - __main__] Saving to file: /path/to/data/MinION_sequencing_data_20190828/guppy_3.2.2_08_28_2019_run_01_exec_20190828/sw/fastq_runid_852c07bf042182e22f60c3d9425876746c4da9d8_40_1.tsv\n",
      "[15:00:00 - __main__] Starting fastq (161 of 338)\n",
      "\t/path/to/data/MinION_sequencing_data_20190828/guppy_3.2.2_08_28_2019_run_01_exec_20190828/pass/fastq_runid_852c07bf042182e22f60c3d9425876746c4da9d8_40_2.fastq\n"
     ]
    },
    {
     "name": "stdout",
     "output_type": "stream",
     "text": [
      "[########################################] | 100% Completed |  0.9s\n"
     ]
    },
    {
     "name": "stderr",
     "output_type": "stream",
     "text": [
      "[15:00:01 - __main__] Saving to file: /path/to/data/MinION_sequencing_data_20190828/guppy_3.2.2_08_28_2019_run_01_exec_20190828/sw/fastq_runid_852c07bf042182e22f60c3d9425876746c4da9d8_40_2.tsv\n",
      "[15:00:01 - __main__] Starting fastq (162 of 338)\n",
      "\t/path/to/data/MinION_sequencing_data_20190828/guppy_3.2.2_08_28_2019_run_01_exec_20190828/pass/fastq_runid_852c07bf042182e22f60c3d9425876746c4da9d8_41_0.fastq\n"
     ]
    },
    {
     "name": "stdout",
     "output_type": "stream",
     "text": [
      "[########################################] | 100% Completed |  1min 12.9s\n"
     ]
    },
    {
     "name": "stderr",
     "output_type": "stream",
     "text": [
      "[15:01:14 - __main__] Saving to file: /path/to/data/MinION_sequencing_data_20190828/guppy_3.2.2_08_28_2019_run_01_exec_20190828/sw/fastq_runid_852c07bf042182e22f60c3d9425876746c4da9d8_41_0.tsv\n",
      "[15:01:14 - __main__] Starting fastq (163 of 338)\n",
      "\t/path/to/data/MinION_sequencing_data_20190828/guppy_3.2.2_08_28_2019_run_01_exec_20190828/pass/fastq_runid_852c07bf042182e22f60c3d9425876746c4da9d8_41_1.fastq\n"
     ]
    },
    {
     "name": "stdout",
     "output_type": "stream",
     "text": [
      "[########################################] | 100% Completed | 39.7s\n"
     ]
    },
    {
     "name": "stderr",
     "output_type": "stream",
     "text": [
      "[15:01:54 - __main__] Saving to file: /path/to/data/MinION_sequencing_data_20190828/guppy_3.2.2_08_28_2019_run_01_exec_20190828/sw/fastq_runid_852c07bf042182e22f60c3d9425876746c4da9d8_41_1.tsv\n",
      "[15:01:54 - __main__] Starting fastq (164 of 338)\n",
      "\t/path/to/data/MinION_sequencing_data_20190828/guppy_3.2.2_08_28_2019_run_01_exec_20190828/pass/fastq_runid_852c07bf042182e22f60c3d9425876746c4da9d8_39_3.fastq\n"
     ]
    },
    {
     "name": "stdout",
     "output_type": "stream",
     "text": [
      "[########################################] | 100% Completed |  1.0s\n"
     ]
    },
    {
     "name": "stderr",
     "output_type": "stream",
     "text": [
      "[15:01:56 - __main__] Saving to file: /path/to/data/MinION_sequencing_data_20190828/guppy_3.2.2_08_28_2019_run_01_exec_20190828/sw/fastq_runid_852c07bf042182e22f60c3d9425876746c4da9d8_39_3.tsv\n",
      "[15:01:56 - __main__] Starting fastq (165 of 338)\n",
      "\t/path/to/data/MinION_sequencing_data_20190828/guppy_3.2.2_08_28_2019_run_01_exec_20190828/pass/fastq_runid_852c07bf042182e22f60c3d9425876746c4da9d8_40_3.fastq\n"
     ]
    },
    {
     "name": "stdout",
     "output_type": "stream",
     "text": [
      "[########################################] | 100% Completed | 12.7s\n"
     ]
    },
    {
     "name": "stderr",
     "output_type": "stream",
     "text": [
      "[15:02:09 - __main__] Saving to file: /path/to/data/MinION_sequencing_data_20190828/guppy_3.2.2_08_28_2019_run_01_exec_20190828/sw/fastq_runid_852c07bf042182e22f60c3d9425876746c4da9d8_40_3.tsv\n",
      "[15:02:09 - __main__] Starting fastq (166 of 338)\n",
      "\t/path/to/data/MinION_sequencing_data_20190828/guppy_3.2.2_08_28_2019_run_01_exec_20190828/pass/fastq_runid_852c07bf042182e22f60c3d9425876746c4da9d8_41_2.fastq\n"
     ]
    },
    {
     "name": "stdout",
     "output_type": "stream",
     "text": [
      "[########################################] | 100% Completed | 21.9s\n"
     ]
    },
    {
     "name": "stderr",
     "output_type": "stream",
     "text": [
      "[15:02:31 - __main__] Saving to file: /path/to/data/MinION_sequencing_data_20190828/guppy_3.2.2_08_28_2019_run_01_exec_20190828/sw/fastq_runid_852c07bf042182e22f60c3d9425876746c4da9d8_41_2.tsv\n",
      "[15:02:31 - __main__] Starting fastq (167 of 338)\n",
      "\t/path/to/data/MinION_sequencing_data_20190828/guppy_3.2.2_08_28_2019_run_01_exec_20190828/pass/fastq_runid_852c07bf042182e22f60c3d9425876746c4da9d8_41_3.fastq\n"
     ]
    },
    {
     "name": "stdout",
     "output_type": "stream",
     "text": [
      "[########################################] | 100% Completed |  5.6s\n"
     ]
    },
    {
     "name": "stderr",
     "output_type": "stream",
     "text": [
      "[15:02:37 - __main__] Saving to file: /path/to/data/MinION_sequencing_data_20190828/guppy_3.2.2_08_28_2019_run_01_exec_20190828/sw/fastq_runid_852c07bf042182e22f60c3d9425876746c4da9d8_41_3.tsv\n",
      "[15:02:37 - __main__] Starting fastq (168 of 338)\n",
      "\t/path/to/data/MinION_sequencing_data_20190828/guppy_3.2.2_08_28_2019_run_01_exec_20190828/pass/fastq_runid_852c07bf042182e22f60c3d9425876746c4da9d8_42_0.fastq\n"
     ]
    },
    {
     "name": "stdout",
     "output_type": "stream",
     "text": [
      "[########################################] | 100% Completed | 39.9s\n"
     ]
    },
    {
     "name": "stderr",
     "output_type": "stream",
     "text": [
      "[15:03:17 - __main__] Saving to file: /path/to/data/MinION_sequencing_data_20190828/guppy_3.2.2_08_28_2019_run_01_exec_20190828/sw/fastq_runid_852c07bf042182e22f60c3d9425876746c4da9d8_42_0.tsv\n",
      "[15:03:17 - __main__] Starting fastq (169 of 338)\n",
      "\t/path/to/data/MinION_sequencing_data_20190828/guppy_3.2.2_08_28_2019_run_01_exec_20190828/pass/fastq_runid_852c07bf042182e22f60c3d9425876746c4da9d8_42_1.fastq\n"
     ]
    },
    {
     "name": "stdout",
     "output_type": "stream",
     "text": [
      "[########################################] | 100% Completed | 28.9s\n"
     ]
    },
    {
     "name": "stderr",
     "output_type": "stream",
     "text": [
      "[15:03:46 - __main__] Saving to file: /path/to/data/MinION_sequencing_data_20190828/guppy_3.2.2_08_28_2019_run_01_exec_20190828/sw/fastq_runid_852c07bf042182e22f60c3d9425876746c4da9d8_42_1.tsv\n",
      "[15:03:46 - __main__] Starting fastq (170 of 338)\n",
      "\t/path/to/data/MinION_sequencing_data_20190828/guppy_3.2.2_08_28_2019_run_01_exec_20190828/pass/fastq_runid_852c07bf042182e22f60c3d9425876746c4da9d8_42_2.fastq\n"
     ]
    },
    {
     "name": "stdout",
     "output_type": "stream",
     "text": [
      "[########################################] | 100% Completed |  1min  8.8s\n"
     ]
    },
    {
     "name": "stderr",
     "output_type": "stream",
     "text": [
      "[15:04:55 - __main__] Saving to file: /path/to/data/MinION_sequencing_data_20190828/guppy_3.2.2_08_28_2019_run_01_exec_20190828/sw/fastq_runid_852c07bf042182e22f60c3d9425876746c4da9d8_42_2.tsv\n",
      "[15:04:56 - __main__] Starting fastq (171 of 338)\n",
      "\t/path/to/data/MinION_sequencing_data_20190828/guppy_3.2.2_08_28_2019_run_01_exec_20190828/pass/fastq_runid_852c07bf042182e22f60c3d9425876746c4da9d8_43_0.fastq\n"
     ]
    },
    {
     "name": "stdout",
     "output_type": "stream",
     "text": [
      "[########################################] | 100% Completed |  1min 33.7s\n"
     ]
    },
    {
     "name": "stderr",
     "output_type": "stream",
     "text": [
      "[15:06:29 - __main__] Saving to file: /path/to/data/MinION_sequencing_data_20190828/guppy_3.2.2_08_28_2019_run_01_exec_20190828/sw/fastq_runid_852c07bf042182e22f60c3d9425876746c4da9d8_43_0.tsv\n",
      "[15:06:30 - __main__] Starting fastq (172 of 338)\n",
      "\t/path/to/data/MinION_sequencing_data_20190828/guppy_3.2.2_08_28_2019_run_01_exec_20190828/pass/fastq_runid_852c07bf042182e22f60c3d9425876746c4da9d8_42_3.fastq\n"
     ]
    },
    {
     "name": "stdout",
     "output_type": "stream",
     "text": [
      "[########################################] | 100% Completed |  1.7s\n"
     ]
    },
    {
     "name": "stderr",
     "output_type": "stream",
     "text": [
      "[15:06:32 - __main__] Saving to file: /path/to/data/MinION_sequencing_data_20190828/guppy_3.2.2_08_28_2019_run_01_exec_20190828/sw/fastq_runid_852c07bf042182e22f60c3d9425876746c4da9d8_42_3.tsv\n",
      "[15:06:32 - __main__] Starting fastq (173 of 338)\n",
      "\t/path/to/data/MinION_sequencing_data_20190828/guppy_3.2.2_08_28_2019_run_01_exec_20190828/pass/fastq_runid_852c07bf042182e22f60c3d9425876746c4da9d8_43_1.fastq\n"
     ]
    },
    {
     "name": "stdout",
     "output_type": "stream",
     "text": [
      "[########################################] | 100% Completed | 33.0s\n"
     ]
    },
    {
     "name": "stderr",
     "output_type": "stream",
     "text": [
      "[15:07:05 - __main__] Saving to file: /path/to/data/MinION_sequencing_data_20190828/guppy_3.2.2_08_28_2019_run_01_exec_20190828/sw/fastq_runid_852c07bf042182e22f60c3d9425876746c4da9d8_43_1.tsv\n",
      "[15:07:05 - __main__] Starting fastq (174 of 338)\n",
      "\t/path/to/data/MinION_sequencing_data_20190828/guppy_3.2.2_08_28_2019_run_01_exec_20190828/pass/fastq_runid_852c07bf042182e22f60c3d9425876746c4da9d8_43_2.fastq\n"
     ]
    },
    {
     "name": "stdout",
     "output_type": "stream",
     "text": [
      "[########################################] | 100% Completed | 10.3s\n"
     ]
    },
    {
     "name": "stderr",
     "output_type": "stream",
     "text": [
      "[15:07:15 - __main__] Saving to file: /path/to/data/MinION_sequencing_data_20190828/guppy_3.2.2_08_28_2019_run_01_exec_20190828/sw/fastq_runid_852c07bf042182e22f60c3d9425876746c4da9d8_43_2.tsv\n",
      "[15:07:16 - __main__] Starting fastq (175 of 338)\n",
      "\t/path/to/data/MinION_sequencing_data_20190828/guppy_3.2.2_08_28_2019_run_01_exec_20190828/pass/fastq_runid_852c07bf042182e22f60c3d9425876746c4da9d8_44_0.fastq\n"
     ]
    },
    {
     "name": "stdout",
     "output_type": "stream",
     "text": [
      "[########################################] | 100% Completed |  1min  8.4s\n"
     ]
    },
    {
     "name": "stderr",
     "output_type": "stream",
     "text": [
      "[15:08:24 - __main__] Saving to file: /path/to/data/MinION_sequencing_data_20190828/guppy_3.2.2_08_28_2019_run_01_exec_20190828/sw/fastq_runid_852c07bf042182e22f60c3d9425876746c4da9d8_44_0.tsv\n",
      "[15:08:24 - __main__] Starting fastq (176 of 338)\n",
      "\t/path/to/data/MinION_sequencing_data_20190828/guppy_3.2.2_08_28_2019_run_01_exec_20190828/pass/fastq_runid_852c07bf042182e22f60c3d9425876746c4da9d8_44_1.fastq\n"
     ]
    },
    {
     "name": "stdout",
     "output_type": "stream",
     "text": [
      "[########################################] | 100% Completed | 57.3s\n"
     ]
    },
    {
     "name": "stderr",
     "output_type": "stream",
     "text": [
      "[15:09:22 - __main__] Saving to file: /path/to/data/MinION_sequencing_data_20190828/guppy_3.2.2_08_28_2019_run_01_exec_20190828/sw/fastq_runid_852c07bf042182e22f60c3d9425876746c4da9d8_44_1.tsv\n",
      "[15:09:22 - __main__] Starting fastq (177 of 338)\n",
      "\t/path/to/data/MinION_sequencing_data_20190828/guppy_3.2.2_08_28_2019_run_01_exec_20190828/pass/fastq_runid_852c07bf042182e22f60c3d9425876746c4da9d8_43_3.fastq\n"
     ]
    },
    {
     "name": "stdout",
     "output_type": "stream",
     "text": [
      "[########################################] | 100% Completed |  1.7s\n"
     ]
    },
    {
     "name": "stderr",
     "output_type": "stream",
     "text": [
      "[15:09:24 - __main__] Saving to file: /path/to/data/MinION_sequencing_data_20190828/guppy_3.2.2_08_28_2019_run_01_exec_20190828/sw/fastq_runid_852c07bf042182e22f60c3d9425876746c4da9d8_43_3.tsv\n",
      "[15:09:24 - __main__] Starting fastq (178 of 338)\n",
      "\t/path/to/data/MinION_sequencing_data_20190828/guppy_3.2.2_08_28_2019_run_01_exec_20190828/pass/fastq_runid_852c07bf042182e22f60c3d9425876746c4da9d8_44_2.fastq\n"
     ]
    },
    {
     "name": "stdout",
     "output_type": "stream",
     "text": [
      "[########################################] | 100% Completed |  2.6s\n"
     ]
    },
    {
     "name": "stderr",
     "output_type": "stream",
     "text": [
      "[15:09:27 - __main__] Saving to file: /path/to/data/MinION_sequencing_data_20190828/guppy_3.2.2_08_28_2019_run_01_exec_20190828/sw/fastq_runid_852c07bf042182e22f60c3d9425876746c4da9d8_44_2.tsv\n",
      "[15:09:27 - __main__] Starting fastq (179 of 338)\n",
      "\t/path/to/data/MinION_sequencing_data_20190828/guppy_3.2.2_08_28_2019_run_01_exec_20190828/pass/fastq_runid_852c07bf042182e22f60c3d9425876746c4da9d8_45_0.fastq\n"
     ]
    },
    {
     "name": "stdout",
     "output_type": "stream",
     "text": [
      "[########################################] | 100% Completed |  1min 49.8s\n"
     ]
    },
    {
     "name": "stderr",
     "output_type": "stream",
     "text": [
      "[15:11:17 - __main__] Saving to file: /path/to/data/MinION_sequencing_data_20190828/guppy_3.2.2_08_28_2019_run_01_exec_20190828/sw/fastq_runid_852c07bf042182e22f60c3d9425876746c4da9d8_45_0.tsv\n",
      "[15:11:17 - __main__] Starting fastq (180 of 338)\n",
      "\t/path/to/data/MinION_sequencing_data_20190828/guppy_3.2.2_08_28_2019_run_01_exec_20190828/pass/fastq_runid_852c07bf042182e22f60c3d9425876746c4da9d8_45_1.fastq\n"
     ]
    },
    {
     "name": "stdout",
     "output_type": "stream",
     "text": [
      "[########################################] | 100% Completed | 21.2s\n"
     ]
    },
    {
     "name": "stderr",
     "output_type": "stream",
     "text": [
      "[15:11:39 - __main__] Saving to file: /path/to/data/MinION_sequencing_data_20190828/guppy_3.2.2_08_28_2019_run_01_exec_20190828/sw/fastq_runid_852c07bf042182e22f60c3d9425876746c4da9d8_45_1.tsv\n",
      "[15:11:39 - __main__] Starting fastq (181 of 338)\n",
      "\t/path/to/data/MinION_sequencing_data_20190828/guppy_3.2.2_08_28_2019_run_01_exec_20190828/pass/fastq_runid_852c07bf042182e22f60c3d9425876746c4da9d8_45_2.fastq\n"
     ]
    },
    {
     "name": "stdout",
     "output_type": "stream",
     "text": [
      "[########################################] | 100% Completed | 16.7s\n"
     ]
    },
    {
     "name": "stderr",
     "output_type": "stream",
     "text": [
      "[15:11:56 - __main__] Saving to file: /path/to/data/MinION_sequencing_data_20190828/guppy_3.2.2_08_28_2019_run_01_exec_20190828/sw/fastq_runid_852c07bf042182e22f60c3d9425876746c4da9d8_45_2.tsv\n",
      "[15:11:56 - __main__] Starting fastq (182 of 338)\n",
      "\t/path/to/data/MinION_sequencing_data_20190828/guppy_3.2.2_08_28_2019_run_01_exec_20190828/pass/fastq_runid_852c07bf042182e22f60c3d9425876746c4da9d8_46_0.fastq\n"
     ]
    },
    {
     "name": "stdout",
     "output_type": "stream",
     "text": [
      "[########################################] | 100% Completed |  1min  1.0s\n"
     ]
    },
    {
     "name": "stderr",
     "output_type": "stream",
     "text": [
      "[15:12:57 - __main__] Saving to file: /path/to/data/MinION_sequencing_data_20190828/guppy_3.2.2_08_28_2019_run_01_exec_20190828/sw/fastq_runid_852c07bf042182e22f60c3d9425876746c4da9d8_46_0.tsv\n",
      "[15:12:57 - __main__] Starting fastq (183 of 338)\n",
      "\t/path/to/data/MinION_sequencing_data_20190828/guppy_3.2.2_08_28_2019_run_01_exec_20190828/pass/fastq_runid_852c07bf042182e22f60c3d9425876746c4da9d8_46_1.fastq\n"
     ]
    },
    {
     "name": "stdout",
     "output_type": "stream",
     "text": [
      "[########################################] | 100% Completed |  1min 16.7s\n"
     ]
    },
    {
     "name": "stderr",
     "output_type": "stream",
     "text": [
      "[15:14:14 - __main__] Saving to file: /path/to/data/MinION_sequencing_data_20190828/guppy_3.2.2_08_28_2019_run_01_exec_20190828/sw/fastq_runid_852c07bf042182e22f60c3d9425876746c4da9d8_46_1.tsv\n",
      "[15:14:14 - __main__] Starting fastq (184 of 338)\n",
      "\t/path/to/data/MinION_sequencing_data_20190828/guppy_3.2.2_08_28_2019_run_01_exec_20190828/pass/fastq_runid_852c07bf042182e22f60c3d9425876746c4da9d8_47_0.fastq\n"
     ]
    },
    {
     "name": "stdout",
     "output_type": "stream",
     "text": [
      "[########################################] | 100% Completed | 52.6s\n"
     ]
    },
    {
     "name": "stderr",
     "output_type": "stream",
     "text": [
      "[15:15:07 - __main__] Saving to file: /path/to/data/MinION_sequencing_data_20190828/guppy_3.2.2_08_28_2019_run_01_exec_20190828/sw/fastq_runid_852c07bf042182e22f60c3d9425876746c4da9d8_47_0.tsv\n",
      "[15:15:07 - __main__] Starting fastq (185 of 338)\n",
      "\t/path/to/data/MinION_sequencing_data_20190828/guppy_3.2.2_08_28_2019_run_01_exec_20190828/pass/fastq_runid_852c07bf042182e22f60c3d9425876746c4da9d8_44_3.fastq\n"
     ]
    },
    {
     "name": "stdout",
     "output_type": "stream",
     "text": [
      "[########################################] | 100% Completed | 10.6s\n"
     ]
    },
    {
     "name": "stderr",
     "output_type": "stream",
     "text": [
      "[15:15:18 - __main__] Saving to file: /path/to/data/MinION_sequencing_data_20190828/guppy_3.2.2_08_28_2019_run_01_exec_20190828/sw/fastq_runid_852c07bf042182e22f60c3d9425876746c4da9d8_44_3.tsv\n",
      "[15:15:18 - __main__] Starting fastq (186 of 338)\n",
      "\t/path/to/data/MinION_sequencing_data_20190828/guppy_3.2.2_08_28_2019_run_01_exec_20190828/pass/fastq_runid_852c07bf042182e22f60c3d9425876746c4da9d8_45_3.fastq\n"
     ]
    },
    {
     "name": "stdout",
     "output_type": "stream",
     "text": [
      "[########################################] | 100% Completed |  0.9s\n"
     ]
    },
    {
     "name": "stderr",
     "output_type": "stream",
     "text": [
      "[15:15:19 - __main__] Saving to file: /path/to/data/MinION_sequencing_data_20190828/guppy_3.2.2_08_28_2019_run_01_exec_20190828/sw/fastq_runid_852c07bf042182e22f60c3d9425876746c4da9d8_45_3.tsv\n",
      "[15:15:19 - __main__] Starting fastq (187 of 338)\n",
      "\t/path/to/data/MinION_sequencing_data_20190828/guppy_3.2.2_08_28_2019_run_01_exec_20190828/pass/fastq_runid_852c07bf042182e22f60c3d9425876746c4da9d8_46_2.fastq\n"
     ]
    },
    {
     "name": "stdout",
     "output_type": "stream",
     "text": [
      "[########################################] | 100% Completed |  0.8s\n"
     ]
    },
    {
     "name": "stderr",
     "output_type": "stream",
     "text": [
      "[15:15:20 - __main__] Saving to file: /path/to/data/MinION_sequencing_data_20190828/guppy_3.2.2_08_28_2019_run_01_exec_20190828/sw/fastq_runid_852c07bf042182e22f60c3d9425876746c4da9d8_46_2.tsv\n",
      "[15:15:20 - __main__] Starting fastq (188 of 338)\n",
      "\t/path/to/data/MinION_sequencing_data_20190828/guppy_3.2.2_08_28_2019_run_01_exec_20190828/pass/fastq_runid_852c07bf042182e22f60c3d9425876746c4da9d8_47_1.fastq\n"
     ]
    },
    {
     "name": "stdout",
     "output_type": "stream",
     "text": [
      "[########################################] | 100% Completed | 58.7s\n"
     ]
    },
    {
     "name": "stderr",
     "output_type": "stream",
     "text": [
      "[15:16:20 - __main__] Saving to file: /path/to/data/MinION_sequencing_data_20190828/guppy_3.2.2_08_28_2019_run_01_exec_20190828/sw/fastq_runid_852c07bf042182e22f60c3d9425876746c4da9d8_47_1.tsv\n",
      "[15:16:20 - __main__] Starting fastq (189 of 338)\n",
      "\t/path/to/data/MinION_sequencing_data_20190828/guppy_3.2.2_08_28_2019_run_01_exec_20190828/pass/fastq_runid_852c07bf042182e22f60c3d9425876746c4da9d8_47_2.fastq\n"
     ]
    },
    {
     "name": "stdout",
     "output_type": "stream",
     "text": [
      "[########################################] | 100% Completed | 31.1s\n"
     ]
    },
    {
     "name": "stderr",
     "output_type": "stream",
     "text": [
      "[15:16:51 - __main__] Saving to file: /path/to/data/MinION_sequencing_data_20190828/guppy_3.2.2_08_28_2019_run_01_exec_20190828/sw/fastq_runid_852c07bf042182e22f60c3d9425876746c4da9d8_47_2.tsv\n",
      "[15:16:51 - __main__] Starting fastq (190 of 338)\n",
      "\t/path/to/data/MinION_sequencing_data_20190828/guppy_3.2.2_08_28_2019_run_01_exec_20190828/pass/fastq_runid_852c07bf042182e22f60c3d9425876746c4da9d8_48_0.fastq\n"
     ]
    },
    {
     "name": "stdout",
     "output_type": "stream",
     "text": [
      "[########################################] | 100% Completed | 37.4s\n"
     ]
    },
    {
     "name": "stderr",
     "output_type": "stream",
     "text": [
      "[15:17:29 - __main__] Saving to file: /path/to/data/MinION_sequencing_data_20190828/guppy_3.2.2_08_28_2019_run_01_exec_20190828/sw/fastq_runid_852c07bf042182e22f60c3d9425876746c4da9d8_48_0.tsv\n",
      "[15:17:29 - __main__] Starting fastq (191 of 338)\n",
      "\t/path/to/data/MinION_sequencing_data_20190828/guppy_3.2.2_08_28_2019_run_01_exec_20190828/pass/fastq_runid_852c07bf042182e22f60c3d9425876746c4da9d8_46_3.fastq\n"
     ]
    },
    {
     "name": "stdout",
     "output_type": "stream",
     "text": [
      "[########################################] | 100% Completed |  0.9s\n"
     ]
    },
    {
     "name": "stderr",
     "output_type": "stream",
     "text": [
      "[15:17:30 - __main__] Saving to file: /path/to/data/MinION_sequencing_data_20190828/guppy_3.2.2_08_28_2019_run_01_exec_20190828/sw/fastq_runid_852c07bf042182e22f60c3d9425876746c4da9d8_46_3.tsv\n",
      "[15:17:30 - __main__] Starting fastq (192 of 338)\n",
      "\t/path/to/data/MinION_sequencing_data_20190828/guppy_3.2.2_08_28_2019_run_01_exec_20190828/pass/fastq_runid_852c07bf042182e22f60c3d9425876746c4da9d8_47_3.fastq\n"
     ]
    },
    {
     "name": "stdout",
     "output_type": "stream",
     "text": [
      "[########################################] | 100% Completed |  0.9s\n"
     ]
    },
    {
     "name": "stderr",
     "output_type": "stream",
     "text": [
      "[15:17:31 - __main__] Saving to file: /path/to/data/MinION_sequencing_data_20190828/guppy_3.2.2_08_28_2019_run_01_exec_20190828/sw/fastq_runid_852c07bf042182e22f60c3d9425876746c4da9d8_47_3.tsv\n",
      "[15:17:31 - __main__] Starting fastq (193 of 338)\n",
      "\t/path/to/data/MinION_sequencing_data_20190828/guppy_3.2.2_08_28_2019_run_01_exec_20190828/pass/fastq_runid_852c07bf042182e22f60c3d9425876746c4da9d8_48_1.fastq\n"
     ]
    },
    {
     "name": "stdout",
     "output_type": "stream",
     "text": [
      "[########################################] | 100% Completed |  1min 27.7s\n"
     ]
    },
    {
     "name": "stderr",
     "output_type": "stream",
     "text": [
      "[15:18:59 - __main__] Saving to file: /path/to/data/MinION_sequencing_data_20190828/guppy_3.2.2_08_28_2019_run_01_exec_20190828/sw/fastq_runid_852c07bf042182e22f60c3d9425876746c4da9d8_48_1.tsv\n",
      "[15:18:59 - __main__] Starting fastq (194 of 338)\n",
      "\t/path/to/data/MinION_sequencing_data_20190828/guppy_3.2.2_08_28_2019_run_01_exec_20190828/pass/fastq_runid_852c07bf042182e22f60c3d9425876746c4da9d8_48_2.fastq\n"
     ]
    },
    {
     "name": "stdout",
     "output_type": "stream",
     "text": [
      "[########################################] | 100% Completed | 17.2s\n"
     ]
    },
    {
     "name": "stderr",
     "output_type": "stream",
     "text": [
      "[15:19:17 - __main__] Saving to file: /path/to/data/MinION_sequencing_data_20190828/guppy_3.2.2_08_28_2019_run_01_exec_20190828/sw/fastq_runid_852c07bf042182e22f60c3d9425876746c4da9d8_48_2.tsv\n",
      "[15:19:17 - __main__] Starting fastq (195 of 338)\n",
      "\t/path/to/data/MinION_sequencing_data_20190828/guppy_3.2.2_08_28_2019_run_01_exec_20190828/pass/fastq_runid_852c07bf042182e22f60c3d9425876746c4da9d8_48_3.fastq\n"
     ]
    },
    {
     "name": "stdout",
     "output_type": "stream",
     "text": [
      "[########################################] | 100% Completed |  1.0s\n"
     ]
    },
    {
     "name": "stderr",
     "output_type": "stream",
     "text": [
      "[15:19:18 - __main__] Saving to file: /path/to/data/MinION_sequencing_data_20190828/guppy_3.2.2_08_28_2019_run_01_exec_20190828/sw/fastq_runid_852c07bf042182e22f60c3d9425876746c4da9d8_48_3.tsv\n",
      "[15:19:18 - __main__] Starting fastq (196 of 338)\n",
      "\t/path/to/data/MinION_sequencing_data_20190828/guppy_3.2.2_08_28_2019_run_01_exec_20190828/pass/fastq_runid_852c07bf042182e22f60c3d9425876746c4da9d8_49_0.fastq\n"
     ]
    },
    {
     "name": "stdout",
     "output_type": "stream",
     "text": [
      "[########################################] | 100% Completed | 33.8s\n"
     ]
    },
    {
     "name": "stderr",
     "output_type": "stream",
     "text": [
      "[15:19:52 - __main__] Saving to file: /path/to/data/MinION_sequencing_data_20190828/guppy_3.2.2_08_28_2019_run_01_exec_20190828/sw/fastq_runid_852c07bf042182e22f60c3d9425876746c4da9d8_49_0.tsv\n",
      "[15:19:52 - __main__] Starting fastq (197 of 338)\n",
      "\t/path/to/data/MinION_sequencing_data_20190828/guppy_3.2.2_08_28_2019_run_01_exec_20190828/pass/fastq_runid_852c07bf042182e22f60c3d9425876746c4da9d8_49_1.fastq\n"
     ]
    },
    {
     "name": "stdout",
     "output_type": "stream",
     "text": [
      "[########################################] | 100% Completed |  1min  9.0s\n"
     ]
    },
    {
     "name": "stderr",
     "output_type": "stream",
     "text": [
      "[15:21:01 - __main__] Saving to file: /path/to/data/MinION_sequencing_data_20190828/guppy_3.2.2_08_28_2019_run_01_exec_20190828/sw/fastq_runid_852c07bf042182e22f60c3d9425876746c4da9d8_49_1.tsv\n",
      "[15:21:02 - __main__] Starting fastq (198 of 338)\n",
      "\t/path/to/data/MinION_sequencing_data_20190828/guppy_3.2.2_08_28_2019_run_01_exec_20190828/pass/fastq_runid_852c07bf042182e22f60c3d9425876746c4da9d8_49_2.fastq\n"
     ]
    },
    {
     "name": "stdout",
     "output_type": "stream",
     "text": [
      "[########################################] | 100% Completed | 33.7s\n"
     ]
    },
    {
     "name": "stderr",
     "output_type": "stream",
     "text": [
      "[15:21:36 - __main__] Saving to file: /path/to/data/MinION_sequencing_data_20190828/guppy_3.2.2_08_28_2019_run_01_exec_20190828/sw/fastq_runid_852c07bf042182e22f60c3d9425876746c4da9d8_49_2.tsv\n",
      "[15:21:36 - __main__] Starting fastq (199 of 338)\n",
      "\t/path/to/data/MinION_sequencing_data_20190828/guppy_3.2.2_08_28_2019_run_01_exec_20190828/pass/fastq_runid_852c07bf042182e22f60c3d9425876746c4da9d8_50_0.fastq\n"
     ]
    },
    {
     "name": "stdout",
     "output_type": "stream",
     "text": [
      "[########################################] | 100% Completed |  1min 20.0s\n"
     ]
    },
    {
     "name": "stderr",
     "output_type": "stream",
     "text": [
      "[15:22:56 - __main__] Saving to file: /path/to/data/MinION_sequencing_data_20190828/guppy_3.2.2_08_28_2019_run_01_exec_20190828/sw/fastq_runid_852c07bf042182e22f60c3d9425876746c4da9d8_50_0.tsv\n",
      "[15:22:56 - __main__] Starting fastq (200 of 338)\n",
      "\t/path/to/data/MinION_sequencing_data_20190828/guppy_3.2.2_08_28_2019_run_01_exec_20190828/pass/fastq_runid_852c07bf042182e22f60c3d9425876746c4da9d8_50_1.fastq\n"
     ]
    },
    {
     "name": "stdout",
     "output_type": "stream",
     "text": [
      "[########################################] | 100% Completed | 37.9s\n"
     ]
    },
    {
     "name": "stderr",
     "output_type": "stream",
     "text": [
      "[15:23:34 - __main__] Saving to file: /path/to/data/MinION_sequencing_data_20190828/guppy_3.2.2_08_28_2019_run_01_exec_20190828/sw/fastq_runid_852c07bf042182e22f60c3d9425876746c4da9d8_50_1.tsv\n",
      "[15:23:34 - __main__] Starting fastq (201 of 338)\n",
      "\t/path/to/data/MinION_sequencing_data_20190828/guppy_3.2.2_08_28_2019_run_01_exec_20190828/pass/fastq_runid_852c07bf042182e22f60c3d9425876746c4da9d8_50_2.fastq\n"
     ]
    },
    {
     "name": "stdout",
     "output_type": "stream",
     "text": [
      "[########################################] | 100% Completed | 23.9s\n"
     ]
    },
    {
     "name": "stderr",
     "output_type": "stream",
     "text": [
      "[15:23:59 - __main__] Saving to file: /path/to/data/MinION_sequencing_data_20190828/guppy_3.2.2_08_28_2019_run_01_exec_20190828/sw/fastq_runid_852c07bf042182e22f60c3d9425876746c4da9d8_50_2.tsv\n",
      "[15:23:59 - __main__] Starting fastq (202 of 338)\n",
      "\t/path/to/data/MinION_sequencing_data_20190828/guppy_3.2.2_08_28_2019_run_01_exec_20190828/pass/fastq_runid_852c07bf042182e22f60c3d9425876746c4da9d8_49_3.fastq\n"
     ]
    },
    {
     "name": "stdout",
     "output_type": "stream",
     "text": [
      "[########################################] | 100% Completed |  2.7s\n"
     ]
    },
    {
     "name": "stderr",
     "output_type": "stream",
     "text": [
      "[15:24:02 - __main__] Saving to file: /path/to/data/MinION_sequencing_data_20190828/guppy_3.2.2_08_28_2019_run_01_exec_20190828/sw/fastq_runid_852c07bf042182e22f60c3d9425876746c4da9d8_49_3.tsv\n",
      "[15:24:02 - __main__] Starting fastq (203 of 338)\n",
      "\t/path/to/data/MinION_sequencing_data_20190828/guppy_3.2.2_08_28_2019_run_01_exec_20190828/pass/fastq_runid_852c07bf042182e22f60c3d9425876746c4da9d8_50_3.fastq\n"
     ]
    },
    {
     "name": "stdout",
     "output_type": "stream",
     "text": [
      "[########################################] | 100% Completed |  0.9s\n"
     ]
    },
    {
     "name": "stderr",
     "output_type": "stream",
     "text": [
      "[15:24:03 - __main__] Saving to file: /path/to/data/MinION_sequencing_data_20190828/guppy_3.2.2_08_28_2019_run_01_exec_20190828/sw/fastq_runid_852c07bf042182e22f60c3d9425876746c4da9d8_50_3.tsv\n",
      "[15:24:03 - __main__] Starting fastq (204 of 338)\n",
      "\t/path/to/data/MinION_sequencing_data_20190828/guppy_3.2.2_08_28_2019_run_01_exec_20190828/pass/fastq_runid_852c07bf042182e22f60c3d9425876746c4da9d8_51_0.fastq\n"
     ]
    },
    {
     "name": "stdout",
     "output_type": "stream",
     "text": [
      "[########################################] | 100% Completed | 55.8s\n"
     ]
    },
    {
     "name": "stderr",
     "output_type": "stream",
     "text": [
      "[15:24:59 - __main__] Saving to file: /path/to/data/MinION_sequencing_data_20190828/guppy_3.2.2_08_28_2019_run_01_exec_20190828/sw/fastq_runid_852c07bf042182e22f60c3d9425876746c4da9d8_51_0.tsv\n",
      "[15:24:59 - __main__] Starting fastq (205 of 338)\n",
      "\t/path/to/data/MinION_sequencing_data_20190828/guppy_3.2.2_08_28_2019_run_01_exec_20190828/pass/fastq_runid_852c07bf042182e22f60c3d9425876746c4da9d8_51_1.fastq\n"
     ]
    },
    {
     "name": "stdout",
     "output_type": "stream",
     "text": [
      "[########################################] | 100% Completed | 50.0s\n"
     ]
    },
    {
     "name": "stderr",
     "output_type": "stream",
     "text": [
      "[15:25:49 - __main__] Saving to file: /path/to/data/MinION_sequencing_data_20190828/guppy_3.2.2_08_28_2019_run_01_exec_20190828/sw/fastq_runid_852c07bf042182e22f60c3d9425876746c4da9d8_51_1.tsv\n",
      "[15:25:49 - __main__] Starting fastq (206 of 338)\n",
      "\t/path/to/data/MinION_sequencing_data_20190828/guppy_3.2.2_08_28_2019_run_01_exec_20190828/pass/fastq_runid_852c07bf042182e22f60c3d9425876746c4da9d8_51_2.fastq\n"
     ]
    },
    {
     "name": "stdout",
     "output_type": "stream",
     "text": [
      "[########################################] | 100% Completed | 39.3s\n"
     ]
    },
    {
     "name": "stderr",
     "output_type": "stream",
     "text": [
      "[15:26:29 - __main__] Saving to file: /path/to/data/MinION_sequencing_data_20190828/guppy_3.2.2_08_28_2019_run_01_exec_20190828/sw/fastq_runid_852c07bf042182e22f60c3d9425876746c4da9d8_51_2.tsv\n",
      "[15:26:29 - __main__] Starting fastq (207 of 338)\n",
      "\t/path/to/data/MinION_sequencing_data_20190828/guppy_3.2.2_08_28_2019_run_01_exec_20190828/pass/fastq_runid_852c07bf042182e22f60c3d9425876746c4da9d8_52_0.fastq\n"
     ]
    },
    {
     "name": "stdout",
     "output_type": "stream",
     "text": [
      "[########################################] | 100% Completed | 43.8s\n"
     ]
    },
    {
     "name": "stderr",
     "output_type": "stream",
     "text": [
      "[15:27:13 - __main__] Saving to file: /path/to/data/MinION_sequencing_data_20190828/guppy_3.2.2_08_28_2019_run_01_exec_20190828/sw/fastq_runid_852c07bf042182e22f60c3d9425876746c4da9d8_52_0.tsv\n",
      "[15:27:13 - __main__] Starting fastq (208 of 338)\n",
      "\t/path/to/data/MinION_sequencing_data_20190828/guppy_3.2.2_08_28_2019_run_01_exec_20190828/pass/fastq_runid_852c07bf042182e22f60c3d9425876746c4da9d8_51_3.fastq\n"
     ]
    },
    {
     "name": "stdout",
     "output_type": "stream",
     "text": [
      "[########################################] | 100% Completed |  1.7s\n"
     ]
    },
    {
     "name": "stderr",
     "output_type": "stream",
     "text": [
      "[15:27:15 - __main__] Saving to file: /path/to/data/MinION_sequencing_data_20190828/guppy_3.2.2_08_28_2019_run_01_exec_20190828/sw/fastq_runid_852c07bf042182e22f60c3d9425876746c4da9d8_51_3.tsv\n",
      "[15:27:15 - __main__] Starting fastq (209 of 338)\n",
      "\t/path/to/data/MinION_sequencing_data_20190828/guppy_3.2.2_08_28_2019_run_01_exec_20190828/pass/fastq_runid_852c07bf042182e22f60c3d9425876746c4da9d8_52_1.fastq\n"
     ]
    },
    {
     "name": "stdout",
     "output_type": "stream",
     "text": [
      "[########################################] | 100% Completed | 36.8s\n"
     ]
    },
    {
     "name": "stderr",
     "output_type": "stream",
     "text": [
      "[15:27:52 - __main__] Saving to file: /path/to/data/MinION_sequencing_data_20190828/guppy_3.2.2_08_28_2019_run_01_exec_20190828/sw/fastq_runid_852c07bf042182e22f60c3d9425876746c4da9d8_52_1.tsv\n",
      "[15:27:52 - __main__] Starting fastq (210 of 338)\n",
      "\t/path/to/data/MinION_sequencing_data_20190828/guppy_3.2.2_08_28_2019_run_01_exec_20190828/pass/fastq_runid_852c07bf042182e22f60c3d9425876746c4da9d8_52_2.fastq\n"
     ]
    },
    {
     "name": "stdout",
     "output_type": "stream",
     "text": [
      "[########################################] | 100% Completed | 33.0s\n"
     ]
    },
    {
     "name": "stderr",
     "output_type": "stream",
     "text": [
      "[15:28:25 - __main__] Saving to file: /path/to/data/MinION_sequencing_data_20190828/guppy_3.2.2_08_28_2019_run_01_exec_20190828/sw/fastq_runid_852c07bf042182e22f60c3d9425876746c4da9d8_52_2.tsv\n",
      "[15:28:26 - __main__] Starting fastq (211 of 338)\n",
      "\t/path/to/data/MinION_sequencing_data_20190828/guppy_3.2.2_08_28_2019_run_01_exec_20190828/pass/fastq_runid_852c07bf042182e22f60c3d9425876746c4da9d8_52_3.fastq\n"
     ]
    },
    {
     "name": "stdout",
     "output_type": "stream",
     "text": [
      "[########################################] | 100% Completed | 34.3s\n"
     ]
    },
    {
     "name": "stderr",
     "output_type": "stream",
     "text": [
      "[15:29:00 - __main__] Saving to file: /path/to/data/MinION_sequencing_data_20190828/guppy_3.2.2_08_28_2019_run_01_exec_20190828/sw/fastq_runid_852c07bf042182e22f60c3d9425876746c4da9d8_52_3.tsv\n",
      "[15:29:00 - __main__] Starting fastq (212 of 338)\n",
      "\t/path/to/data/MinION_sequencing_data_20190828/guppy_3.2.2_08_28_2019_run_01_exec_20190828/pass/fastq_runid_852c07bf042182e22f60c3d9425876746c4da9d8_53_0.fastq\n"
     ]
    },
    {
     "name": "stdout",
     "output_type": "stream",
     "text": [
      "[########################################] | 100% Completed |  1min  8.4s\n"
     ]
    },
    {
     "name": "stderr",
     "output_type": "stream",
     "text": [
      "[15:30:09 - __main__] Saving to file: /path/to/data/MinION_sequencing_data_20190828/guppy_3.2.2_08_28_2019_run_01_exec_20190828/sw/fastq_runid_852c07bf042182e22f60c3d9425876746c4da9d8_53_0.tsv\n",
      "[15:30:09 - __main__] Starting fastq (213 of 338)\n",
      "\t/path/to/data/MinION_sequencing_data_20190828/guppy_3.2.2_08_28_2019_run_01_exec_20190828/pass/fastq_runid_852c07bf042182e22f60c3d9425876746c4da9d8_53_1.fastq\n"
     ]
    },
    {
     "name": "stdout",
     "output_type": "stream",
     "text": [
      "[########################################] | 100% Completed | 16.4s\n"
     ]
    },
    {
     "name": "stderr",
     "output_type": "stream",
     "text": [
      "[15:30:26 - __main__] Saving to file: /path/to/data/MinION_sequencing_data_20190828/guppy_3.2.2_08_28_2019_run_01_exec_20190828/sw/fastq_runid_852c07bf042182e22f60c3d9425876746c4da9d8_53_1.tsv\n",
      "[15:30:26 - __main__] Starting fastq (214 of 338)\n",
      "\t/path/to/data/MinION_sequencing_data_20190828/guppy_3.2.2_08_28_2019_run_01_exec_20190828/pass/fastq_runid_852c07bf042182e22f60c3d9425876746c4da9d8_53_2.fastq\n"
     ]
    },
    {
     "name": "stdout",
     "output_type": "stream",
     "text": [
      "[########################################] | 100% Completed | 36.5s\n"
     ]
    },
    {
     "name": "stderr",
     "output_type": "stream",
     "text": [
      "[15:31:03 - __main__] Saving to file: /path/to/data/MinION_sequencing_data_20190828/guppy_3.2.2_08_28_2019_run_01_exec_20190828/sw/fastq_runid_852c07bf042182e22f60c3d9425876746c4da9d8_53_2.tsv\n",
      "[15:31:03 - __main__] Starting fastq (215 of 338)\n",
      "\t/path/to/data/MinION_sequencing_data_20190828/guppy_3.2.2_08_28_2019_run_01_exec_20190828/pass/fastq_runid_852c07bf042182e22f60c3d9425876746c4da9d8_53_3.fastq\n"
     ]
    },
    {
     "name": "stdout",
     "output_type": "stream",
     "text": [
      "[########################################] | 100% Completed | 22.5s\n"
     ]
    },
    {
     "name": "stderr",
     "output_type": "stream",
     "text": [
      "[15:31:26 - __main__] Saving to file: /path/to/data/MinION_sequencing_data_20190828/guppy_3.2.2_08_28_2019_run_01_exec_20190828/sw/fastq_runid_852c07bf042182e22f60c3d9425876746c4da9d8_53_3.tsv\n",
      "[15:31:26 - __main__] Starting fastq (216 of 338)\n",
      "\t/path/to/data/MinION_sequencing_data_20190828/guppy_3.2.2_08_28_2019_run_01_exec_20190828/pass/fastq_runid_852c07bf042182e22f60c3d9425876746c4da9d8_54_0.fastq\n"
     ]
    },
    {
     "name": "stdout",
     "output_type": "stream",
     "text": [
      "[########################################] | 100% Completed |  1min 12.6s\n"
     ]
    },
    {
     "name": "stderr",
     "output_type": "stream",
     "text": [
      "[15:32:39 - __main__] Saving to file: /path/to/data/MinION_sequencing_data_20190828/guppy_3.2.2_08_28_2019_run_01_exec_20190828/sw/fastq_runid_852c07bf042182e22f60c3d9425876746c4da9d8_54_0.tsv\n",
      "[15:32:39 - __main__] Starting fastq (217 of 338)\n",
      "\t/path/to/data/MinION_sequencing_data_20190828/guppy_3.2.2_08_28_2019_run_01_exec_20190828/pass/fastq_runid_852c07bf042182e22f60c3d9425876746c4da9d8_54_1.fastq\n"
     ]
    },
    {
     "name": "stdout",
     "output_type": "stream",
     "text": [
      "[########################################] | 100% Completed | 38.4s\n"
     ]
    },
    {
     "name": "stderr",
     "output_type": "stream",
     "text": [
      "[15:33:17 - __main__] Saving to file: /path/to/data/MinION_sequencing_data_20190828/guppy_3.2.2_08_28_2019_run_01_exec_20190828/sw/fastq_runid_852c07bf042182e22f60c3d9425876746c4da9d8_54_1.tsv\n",
      "[15:33:17 - __main__] Starting fastq (218 of 338)\n",
      "\t/path/to/data/MinION_sequencing_data_20190828/guppy_3.2.2_08_28_2019_run_01_exec_20190828/pass/fastq_runid_852c07bf042182e22f60c3d9425876746c4da9d8_54_2.fastq\n"
     ]
    },
    {
     "name": "stdout",
     "output_type": "stream",
     "text": [
      "[########################################] | 100% Completed | 31.9s\n"
     ]
    },
    {
     "name": "stderr",
     "output_type": "stream",
     "text": [
      "[15:33:50 - __main__] Saving to file: /path/to/data/MinION_sequencing_data_20190828/guppy_3.2.2_08_28_2019_run_01_exec_20190828/sw/fastq_runid_852c07bf042182e22f60c3d9425876746c4da9d8_54_2.tsv\n",
      "[15:33:50 - __main__] Starting fastq (219 of 338)\n",
      "\t/path/to/data/MinION_sequencing_data_20190828/guppy_3.2.2_08_28_2019_run_01_exec_20190828/pass/fastq_runid_852c07bf042182e22f60c3d9425876746c4da9d8_54_3.fastq\n"
     ]
    },
    {
     "name": "stdout",
     "output_type": "stream",
     "text": [
      "[########################################] | 100% Completed |  1.0s\n"
     ]
    },
    {
     "name": "stderr",
     "output_type": "stream",
     "text": [
      "[15:33:51 - __main__] Saving to file: /path/to/data/MinION_sequencing_data_20190828/guppy_3.2.2_08_28_2019_run_01_exec_20190828/sw/fastq_runid_852c07bf042182e22f60c3d9425876746c4da9d8_54_3.tsv\n",
      "[15:33:51 - __main__] Starting fastq (220 of 338)\n",
      "\t/path/to/data/MinION_sequencing_data_20190828/guppy_3.2.2_08_28_2019_run_01_exec_20190828/pass/fastq_runid_852c07bf042182e22f60c3d9425876746c4da9d8_55_0.fastq\n"
     ]
    },
    {
     "name": "stdout",
     "output_type": "stream",
     "text": [
      "[########################################] | 100% Completed | 34.0s\n"
     ]
    },
    {
     "name": "stderr",
     "output_type": "stream",
     "text": [
      "[15:34:25 - __main__] Saving to file: /path/to/data/MinION_sequencing_data_20190828/guppy_3.2.2_08_28_2019_run_01_exec_20190828/sw/fastq_runid_852c07bf042182e22f60c3d9425876746c4da9d8_55_0.tsv\n",
      "[15:34:25 - __main__] Starting fastq (221 of 338)\n",
      "\t/path/to/data/MinION_sequencing_data_20190828/guppy_3.2.2_08_28_2019_run_01_exec_20190828/pass/fastq_runid_852c07bf042182e22f60c3d9425876746c4da9d8_55_1.fastq\n"
     ]
    },
    {
     "name": "stdout",
     "output_type": "stream",
     "text": [
      "[########################################] | 100% Completed |  1min 21.1s\n"
     ]
    },
    {
     "name": "stderr",
     "output_type": "stream",
     "text": [
      "[15:35:47 - __main__] Saving to file: /path/to/data/MinION_sequencing_data_20190828/guppy_3.2.2_08_28_2019_run_01_exec_20190828/sw/fastq_runid_852c07bf042182e22f60c3d9425876746c4da9d8_55_1.tsv\n",
      "[15:35:47 - __main__] Starting fastq (222 of 338)\n",
      "\t/path/to/data/MinION_sequencing_data_20190828/guppy_3.2.2_08_28_2019_run_01_exec_20190828/pass/fastq_runid_852c07bf042182e22f60c3d9425876746c4da9d8_55_2.fastq\n"
     ]
    },
    {
     "name": "stdout",
     "output_type": "stream",
     "text": [
      "[########################################] | 100% Completed | 31.0s\n"
     ]
    },
    {
     "name": "stderr",
     "output_type": "stream",
     "text": [
      "[15:36:18 - __main__] Saving to file: /path/to/data/MinION_sequencing_data_20190828/guppy_3.2.2_08_28_2019_run_01_exec_20190828/sw/fastq_runid_852c07bf042182e22f60c3d9425876746c4da9d8_55_2.tsv\n",
      "[15:36:18 - __main__] Starting fastq (223 of 338)\n",
      "\t/path/to/data/MinION_sequencing_data_20190828/guppy_3.2.2_08_28_2019_run_01_exec_20190828/pass/fastq_runid_852c07bf042182e22f60c3d9425876746c4da9d8_56_0.fastq\n"
     ]
    },
    {
     "name": "stdout",
     "output_type": "stream",
     "text": [
      "[########################################] | 100% Completed | 36.6s\n"
     ]
    },
    {
     "name": "stderr",
     "output_type": "stream",
     "text": [
      "[15:36:55 - __main__] Saving to file: /path/to/data/MinION_sequencing_data_20190828/guppy_3.2.2_08_28_2019_run_01_exec_20190828/sw/fastq_runid_852c07bf042182e22f60c3d9425876746c4da9d8_56_0.tsv\n",
      "[15:36:55 - __main__] Starting fastq (224 of 338)\n",
      "\t/path/to/data/MinION_sequencing_data_20190828/guppy_3.2.2_08_28_2019_run_01_exec_20190828/pass/fastq_runid_852c07bf042182e22f60c3d9425876746c4da9d8_55_3.fastq\n"
     ]
    },
    {
     "name": "stdout",
     "output_type": "stream",
     "text": [
      "[########################################] | 100% Completed |  0.9s\n"
     ]
    },
    {
     "name": "stderr",
     "output_type": "stream",
     "text": [
      "[15:36:56 - __main__] Saving to file: /path/to/data/MinION_sequencing_data_20190828/guppy_3.2.2_08_28_2019_run_01_exec_20190828/sw/fastq_runid_852c07bf042182e22f60c3d9425876746c4da9d8_55_3.tsv\n",
      "[15:36:56 - __main__] Starting fastq (225 of 338)\n",
      "\t/path/to/data/MinION_sequencing_data_20190828/guppy_3.2.2_08_28_2019_run_01_exec_20190828/pass/fastq_runid_852c07bf042182e22f60c3d9425876746c4da9d8_56_1.fastq\n"
     ]
    },
    {
     "name": "stdout",
     "output_type": "stream",
     "text": [
      "[########################################] | 100% Completed |  1min  8.0s\n"
     ]
    },
    {
     "name": "stderr",
     "output_type": "stream",
     "text": [
      "[15:38:05 - __main__] Saving to file: /path/to/data/MinION_sequencing_data_20190828/guppy_3.2.2_08_28_2019_run_01_exec_20190828/sw/fastq_runid_852c07bf042182e22f60c3d9425876746c4da9d8_56_1.tsv\n",
      "[15:38:05 - __main__] Starting fastq (226 of 338)\n",
      "\t/path/to/data/MinION_sequencing_data_20190828/guppy_3.2.2_08_28_2019_run_01_exec_20190828/pass/fastq_runid_852c07bf042182e22f60c3d9425876746c4da9d8_56_2.fastq\n"
     ]
    },
    {
     "name": "stdout",
     "output_type": "stream",
     "text": [
      "[########################################] | 100% Completed | 37.1s\n"
     ]
    },
    {
     "name": "stderr",
     "output_type": "stream",
     "text": [
      "[15:38:42 - __main__] Saving to file: /path/to/data/MinION_sequencing_data_20190828/guppy_3.2.2_08_28_2019_run_01_exec_20190828/sw/fastq_runid_852c07bf042182e22f60c3d9425876746c4da9d8_56_2.tsv\n",
      "[15:38:42 - __main__] Starting fastq (227 of 338)\n",
      "\t/path/to/data/MinION_sequencing_data_20190828/guppy_3.2.2_08_28_2019_run_01_exec_20190828/pass/fastq_runid_852c07bf042182e22f60c3d9425876746c4da9d8_57_0.fastq\n"
     ]
    },
    {
     "name": "stdout",
     "output_type": "stream",
     "text": [
      "[########################################] | 100% Completed |  1min  6.0s\n"
     ]
    },
    {
     "name": "stderr",
     "output_type": "stream",
     "text": [
      "[15:39:49 - __main__] Saving to file: /path/to/data/MinION_sequencing_data_20190828/guppy_3.2.2_08_28_2019_run_01_exec_20190828/sw/fastq_runid_852c07bf042182e22f60c3d9425876746c4da9d8_57_0.tsv\n",
      "[15:39:49 - __main__] Starting fastq (228 of 338)\n",
      "\t/path/to/data/MinION_sequencing_data_20190828/guppy_3.2.2_08_28_2019_run_01_exec_20190828/pass/fastq_runid_852c07bf042182e22f60c3d9425876746c4da9d8_56_3.fastq\n"
     ]
    },
    {
     "name": "stdout",
     "output_type": "stream",
     "text": [
      "[########################################] | 100% Completed |  9.2s\n"
     ]
    },
    {
     "name": "stderr",
     "output_type": "stream",
     "text": [
      "[15:39:58 - __main__] Saving to file: /path/to/data/MinION_sequencing_data_20190828/guppy_3.2.2_08_28_2019_run_01_exec_20190828/sw/fastq_runid_852c07bf042182e22f60c3d9425876746c4da9d8_56_3.tsv\n",
      "[15:39:58 - __main__] Starting fastq (229 of 338)\n",
      "\t/path/to/data/MinION_sequencing_data_20190828/guppy_3.2.2_08_28_2019_run_01_exec_20190828/pass/fastq_runid_852c07bf042182e22f60c3d9425876746c4da9d8_57_1.fastq\n"
     ]
    },
    {
     "name": "stdout",
     "output_type": "stream",
     "text": [
      "[########################################] | 100% Completed | 25.3s\n"
     ]
    },
    {
     "name": "stderr",
     "output_type": "stream",
     "text": [
      "[15:40:24 - __main__] Saving to file: /path/to/data/MinION_sequencing_data_20190828/guppy_3.2.2_08_28_2019_run_01_exec_20190828/sw/fastq_runid_852c07bf042182e22f60c3d9425876746c4da9d8_57_1.tsv\n",
      "[15:40:24 - __main__] Starting fastq (230 of 338)\n",
      "\t/path/to/data/MinION_sequencing_data_20190828/guppy_3.2.2_08_28_2019_run_01_exec_20190828/pass/fastq_runid_852c07bf042182e22f60c3d9425876746c4da9d8_57_2.fastq\n"
     ]
    },
    {
     "name": "stdout",
     "output_type": "stream",
     "text": [
      "[########################################] | 100% Completed | 41.9s\n"
     ]
    },
    {
     "name": "stderr",
     "output_type": "stream",
     "text": [
      "[15:41:06 - __main__] Saving to file: /path/to/data/MinION_sequencing_data_20190828/guppy_3.2.2_08_28_2019_run_01_exec_20190828/sw/fastq_runid_852c07bf042182e22f60c3d9425876746c4da9d8_57_2.tsv\n",
      "[15:41:06 - __main__] Starting fastq (231 of 338)\n",
      "\t/path/to/data/MinION_sequencing_data_20190828/guppy_3.2.2_08_28_2019_run_01_exec_20190828/pass/fastq_runid_852c07bf042182e22f60c3d9425876746c4da9d8_58_0.fastq\n"
     ]
    },
    {
     "name": "stdout",
     "output_type": "stream",
     "text": [
      "[########################################] | 100% Completed |  1min  1.7s\n"
     ]
    },
    {
     "name": "stderr",
     "output_type": "stream",
     "text": [
      "[15:42:08 - __main__] Saving to file: /path/to/data/MinION_sequencing_data_20190828/guppy_3.2.2_08_28_2019_run_01_exec_20190828/sw/fastq_runid_852c07bf042182e22f60c3d9425876746c4da9d8_58_0.tsv\n",
      "[15:42:08 - __main__] Starting fastq (232 of 338)\n",
      "\t/path/to/data/MinION_sequencing_data_20190828/guppy_3.2.2_08_28_2019_run_01_exec_20190828/pass/fastq_runid_852c07bf042182e22f60c3d9425876746c4da9d8_57_3.fastq\n"
     ]
    },
    {
     "name": "stdout",
     "output_type": "stream",
     "text": [
      "[########################################] | 100% Completed |  8.2s\n"
     ]
    },
    {
     "name": "stderr",
     "output_type": "stream",
     "text": [
      "[15:42:17 - __main__] Saving to file: /path/to/data/MinION_sequencing_data_20190828/guppy_3.2.2_08_28_2019_run_01_exec_20190828/sw/fastq_runid_852c07bf042182e22f60c3d9425876746c4da9d8_57_3.tsv\n",
      "[15:42:17 - __main__] Starting fastq (233 of 338)\n",
      "\t/path/to/data/MinION_sequencing_data_20190828/guppy_3.2.2_08_28_2019_run_01_exec_20190828/pass/fastq_runid_852c07bf042182e22f60c3d9425876746c4da9d8_58_1.fastq\n"
     ]
    },
    {
     "name": "stdout",
     "output_type": "stream",
     "text": [
      "[########################################] | 100% Completed | 32.2s\n"
     ]
    },
    {
     "name": "stderr",
     "output_type": "stream",
     "text": [
      "[15:42:49 - __main__] Saving to file: /path/to/data/MinION_sequencing_data_20190828/guppy_3.2.2_08_28_2019_run_01_exec_20190828/sw/fastq_runid_852c07bf042182e22f60c3d9425876746c4da9d8_58_1.tsv\n",
      "[15:42:49 - __main__] Starting fastq (234 of 338)\n",
      "\t/path/to/data/MinION_sequencing_data_20190828/guppy_3.2.2_08_28_2019_run_01_exec_20190828/pass/fastq_runid_852c07bf042182e22f60c3d9425876746c4da9d8_58_2.fastq\n"
     ]
    },
    {
     "name": "stdout",
     "output_type": "stream",
     "text": [
      "[########################################] | 100% Completed | 34.7s\n"
     ]
    },
    {
     "name": "stderr",
     "output_type": "stream",
     "text": [
      "[15:43:24 - __main__] Saving to file: /path/to/data/MinION_sequencing_data_20190828/guppy_3.2.2_08_28_2019_run_01_exec_20190828/sw/fastq_runid_852c07bf042182e22f60c3d9425876746c4da9d8_58_2.tsv\n",
      "[15:43:24 - __main__] Starting fastq (235 of 338)\n",
      "\t/path/to/data/MinION_sequencing_data_20190828/guppy_3.2.2_08_28_2019_run_01_exec_20190828/pass/fastq_runid_852c07bf042182e22f60c3d9425876746c4da9d8_58_3.fastq\n"
     ]
    },
    {
     "name": "stdout",
     "output_type": "stream",
     "text": [
      "[########################################] | 100% Completed | 12.8s\n"
     ]
    },
    {
     "name": "stderr",
     "output_type": "stream",
     "text": [
      "[15:43:37 - __main__] Saving to file: /path/to/data/MinION_sequencing_data_20190828/guppy_3.2.2_08_28_2019_run_01_exec_20190828/sw/fastq_runid_852c07bf042182e22f60c3d9425876746c4da9d8_58_3.tsv\n",
      "[15:43:37 - __main__] Starting fastq (236 of 338)\n",
      "\t/path/to/data/MinION_sequencing_data_20190828/guppy_3.2.2_08_28_2019_run_01_exec_20190828/pass/fastq_runid_852c07bf042182e22f60c3d9425876746c4da9d8_59_0.fastq\n"
     ]
    },
    {
     "name": "stdout",
     "output_type": "stream",
     "text": [
      "[########################################] | 100% Completed | 46.6s\n"
     ]
    },
    {
     "name": "stderr",
     "output_type": "stream",
     "text": [
      "[15:44:24 - __main__] Saving to file: /path/to/data/MinION_sequencing_data_20190828/guppy_3.2.2_08_28_2019_run_01_exec_20190828/sw/fastq_runid_852c07bf042182e22f60c3d9425876746c4da9d8_59_0.tsv\n",
      "[15:44:24 - __main__] Starting fastq (237 of 338)\n",
      "\t/path/to/data/MinION_sequencing_data_20190828/guppy_3.2.2_08_28_2019_run_01_exec_20190828/pass/fastq_runid_852c07bf042182e22f60c3d9425876746c4da9d8_59_1.fastq\n"
     ]
    },
    {
     "name": "stdout",
     "output_type": "stream",
     "text": [
      "[########################################] | 100% Completed | 29.4s\n"
     ]
    },
    {
     "name": "stderr",
     "output_type": "stream",
     "text": [
      "[15:44:54 - __main__] Saving to file: /path/to/data/MinION_sequencing_data_20190828/guppy_3.2.2_08_28_2019_run_01_exec_20190828/sw/fastq_runid_852c07bf042182e22f60c3d9425876746c4da9d8_59_1.tsv\n",
      "[15:44:54 - __main__] Starting fastq (238 of 338)\n",
      "\t/path/to/data/MinION_sequencing_data_20190828/guppy_3.2.2_08_28_2019_run_01_exec_20190828/pass/fastq_runid_852c07bf042182e22f60c3d9425876746c4da9d8_59_2.fastq\n"
     ]
    },
    {
     "name": "stdout",
     "output_type": "stream",
     "text": [
      "[########################################] | 100% Completed |  1min  4.0s\n"
     ]
    },
    {
     "name": "stderr",
     "output_type": "stream",
     "text": [
      "[15:45:59 - __main__] Saving to file: /path/to/data/MinION_sequencing_data_20190828/guppy_3.2.2_08_28_2019_run_01_exec_20190828/sw/fastq_runid_852c07bf042182e22f60c3d9425876746c4da9d8_59_2.tsv\n",
      "[15:45:59 - __main__] Starting fastq (239 of 338)\n",
      "\t/path/to/data/MinION_sequencing_data_20190828/guppy_3.2.2_08_28_2019_run_01_exec_20190828/pass/fastq_runid_852c07bf042182e22f60c3d9425876746c4da9d8_59_3.fastq\n"
     ]
    },
    {
     "name": "stdout",
     "output_type": "stream",
     "text": [
      "[########################################] | 100% Completed |  0.9s\n"
     ]
    },
    {
     "name": "stderr",
     "output_type": "stream",
     "text": [
      "[15:46:00 - __main__] Saving to file: /path/to/data/MinION_sequencing_data_20190828/guppy_3.2.2_08_28_2019_run_01_exec_20190828/sw/fastq_runid_852c07bf042182e22f60c3d9425876746c4da9d8_59_3.tsv\n",
      "[15:46:00 - __main__] Starting fastq (240 of 338)\n",
      "\t/path/to/data/MinION_sequencing_data_20190828/guppy_3.2.2_08_28_2019_run_01_exec_20190828/pass/fastq_runid_852c07bf042182e22f60c3d9425876746c4da9d8_60_0.fastq\n"
     ]
    },
    {
     "name": "stdout",
     "output_type": "stream",
     "text": [
      "[########################################] | 100% Completed | 52.5s\n"
     ]
    },
    {
     "name": "stderr",
     "output_type": "stream",
     "text": [
      "[15:46:53 - __main__] Saving to file: /path/to/data/MinION_sequencing_data_20190828/guppy_3.2.2_08_28_2019_run_01_exec_20190828/sw/fastq_runid_852c07bf042182e22f60c3d9425876746c4da9d8_60_0.tsv\n",
      "[15:46:53 - __main__] Starting fastq (241 of 338)\n",
      "\t/path/to/data/MinION_sequencing_data_20190828/guppy_3.2.2_08_28_2019_run_01_exec_20190828/pass/fastq_runid_852c07bf042182e22f60c3d9425876746c4da9d8_60_1.fastq\n"
     ]
    },
    {
     "name": "stdout",
     "output_type": "stream",
     "text": [
      "[########################################] | 100% Completed |  1min  3.3s\n"
     ]
    },
    {
     "name": "stderr",
     "output_type": "stream",
     "text": [
      "[15:47:56 - __main__] Saving to file: /path/to/data/MinION_sequencing_data_20190828/guppy_3.2.2_08_28_2019_run_01_exec_20190828/sw/fastq_runid_852c07bf042182e22f60c3d9425876746c4da9d8_60_1.tsv\n",
      "[15:47:56 - __main__] Starting fastq (242 of 338)\n",
      "\t/path/to/data/MinION_sequencing_data_20190828/guppy_3.2.2_08_28_2019_run_01_exec_20190828/pass/fastq_runid_852c07bf042182e22f60c3d9425876746c4da9d8_60_2.fastq\n"
     ]
    },
    {
     "name": "stdout",
     "output_type": "stream",
     "text": [
      "[########################################] | 100% Completed | 16.9s\n"
     ]
    },
    {
     "name": "stderr",
     "output_type": "stream",
     "text": [
      "[15:48:14 - __main__] Saving to file: /path/to/data/MinION_sequencing_data_20190828/guppy_3.2.2_08_28_2019_run_01_exec_20190828/sw/fastq_runid_852c07bf042182e22f60c3d9425876746c4da9d8_60_2.tsv\n",
      "[15:48:14 - __main__] Starting fastq (243 of 338)\n",
      "\t/path/to/data/MinION_sequencing_data_20190828/guppy_3.2.2_08_28_2019_run_01_exec_20190828/pass/fastq_runid_852c07bf042182e22f60c3d9425876746c4da9d8_61_0.fastq\n"
     ]
    },
    {
     "name": "stdout",
     "output_type": "stream",
     "text": [
      "[########################################] | 100% Completed | 59.1s\n"
     ]
    },
    {
     "name": "stderr",
     "output_type": "stream",
     "text": [
      "[15:49:13 - __main__] Saving to file: /path/to/data/MinION_sequencing_data_20190828/guppy_3.2.2_08_28_2019_run_01_exec_20190828/sw/fastq_runid_852c07bf042182e22f60c3d9425876746c4da9d8_61_0.tsv\n",
      "[15:49:13 - __main__] Starting fastq (244 of 338)\n",
      "\t/path/to/data/MinION_sequencing_data_20190828/guppy_3.2.2_08_28_2019_run_01_exec_20190828/pass/fastq_runid_852c07bf042182e22f60c3d9425876746c4da9d8_60_3.fastq\n"
     ]
    },
    {
     "name": "stdout",
     "output_type": "stream",
     "text": [
      "[########################################] | 100% Completed |  6.0s\n"
     ]
    },
    {
     "name": "stderr",
     "output_type": "stream",
     "text": [
      "[15:49:19 - __main__] Saving to file: /path/to/data/MinION_sequencing_data_20190828/guppy_3.2.2_08_28_2019_run_01_exec_20190828/sw/fastq_runid_852c07bf042182e22f60c3d9425876746c4da9d8_60_3.tsv\n",
      "[15:49:19 - __main__] Starting fastq (245 of 338)\n",
      "\t/path/to/data/MinION_sequencing_data_20190828/guppy_3.2.2_08_28_2019_run_01_exec_20190828/pass/fastq_runid_852c07bf042182e22f60c3d9425876746c4da9d8_61_1.fastq\n"
     ]
    },
    {
     "name": "stdout",
     "output_type": "stream",
     "text": [
      "[########################################] | 100% Completed | 37.2s\n"
     ]
    },
    {
     "name": "stderr",
     "output_type": "stream",
     "text": [
      "[15:49:57 - __main__] Saving to file: /path/to/data/MinION_sequencing_data_20190828/guppy_3.2.2_08_28_2019_run_01_exec_20190828/sw/fastq_runid_852c07bf042182e22f60c3d9425876746c4da9d8_61_1.tsv\n",
      "[15:49:57 - __main__] Starting fastq (246 of 338)\n",
      "\t/path/to/data/MinION_sequencing_data_20190828/guppy_3.2.2_08_28_2019_run_01_exec_20190828/pass/fastq_runid_852c07bf042182e22f60c3d9425876746c4da9d8_61_2.fastq\n"
     ]
    },
    {
     "name": "stdout",
     "output_type": "stream",
     "text": [
      "[########################################] | 100% Completed | 38.5s\n"
     ]
    },
    {
     "name": "stderr",
     "output_type": "stream",
     "text": [
      "[15:50:36 - __main__] Saving to file: /path/to/data/MinION_sequencing_data_20190828/guppy_3.2.2_08_28_2019_run_01_exec_20190828/sw/fastq_runid_852c07bf042182e22f60c3d9425876746c4da9d8_61_2.tsv\n",
      "[15:50:36 - __main__] Starting fastq (247 of 338)\n",
      "\t/path/to/data/MinION_sequencing_data_20190828/guppy_3.2.2_08_28_2019_run_01_exec_20190828/pass/fastq_runid_852c07bf042182e22f60c3d9425876746c4da9d8_62_0.fastq\n"
     ]
    },
    {
     "name": "stdout",
     "output_type": "stream",
     "text": [
      "[########################################] | 100% Completed |  1min  5.5s\n"
     ]
    },
    {
     "name": "stderr",
     "output_type": "stream",
     "text": [
      "[15:51:42 - __main__] Saving to file: /path/to/data/MinION_sequencing_data_20190828/guppy_3.2.2_08_28_2019_run_01_exec_20190828/sw/fastq_runid_852c07bf042182e22f60c3d9425876746c4da9d8_62_0.tsv\n",
      "[15:51:42 - __main__] Starting fastq (248 of 338)\n",
      "\t/path/to/data/MinION_sequencing_data_20190828/guppy_3.2.2_08_28_2019_run_01_exec_20190828/pass/fastq_runid_852c07bf042182e22f60c3d9425876746c4da9d8_62_1.fastq\n"
     ]
    },
    {
     "name": "stdout",
     "output_type": "stream",
     "text": [
      "[########################################] | 100% Completed | 26.2s\n"
     ]
    },
    {
     "name": "stderr",
     "output_type": "stream",
     "text": [
      "[15:52:08 - __main__] Saving to file: /path/to/data/MinION_sequencing_data_20190828/guppy_3.2.2_08_28_2019_run_01_exec_20190828/sw/fastq_runid_852c07bf042182e22f60c3d9425876746c4da9d8_62_1.tsv\n",
      "[15:52:08 - __main__] Starting fastq (249 of 338)\n",
      "\t/path/to/data/MinION_sequencing_data_20190828/guppy_3.2.2_08_28_2019_run_01_exec_20190828/pass/fastq_runid_852c07bf042182e22f60c3d9425876746c4da9d8_62_2.fastq\n"
     ]
    },
    {
     "name": "stdout",
     "output_type": "stream",
     "text": [
      "[########################################] | 100% Completed | 18.8s\n"
     ]
    },
    {
     "name": "stderr",
     "output_type": "stream",
     "text": [
      "[15:52:27 - __main__] Saving to file: /path/to/data/MinION_sequencing_data_20190828/guppy_3.2.2_08_28_2019_run_01_exec_20190828/sw/fastq_runid_852c07bf042182e22f60c3d9425876746c4da9d8_62_2.tsv\n",
      "[15:52:28 - __main__] Starting fastq (250 of 338)\n",
      "\t/path/to/data/MinION_sequencing_data_20190828/guppy_3.2.2_08_28_2019_run_01_exec_20190828/pass/fastq_runid_852c07bf042182e22f60c3d9425876746c4da9d8_61_3.fastq\n"
     ]
    },
    {
     "name": "stdout",
     "output_type": "stream",
     "text": [
      "[########################################] | 100% Completed |  2.6s\n"
     ]
    },
    {
     "name": "stderr",
     "output_type": "stream",
     "text": [
      "[15:52:30 - __main__] Saving to file: /path/to/data/MinION_sequencing_data_20190828/guppy_3.2.2_08_28_2019_run_01_exec_20190828/sw/fastq_runid_852c07bf042182e22f60c3d9425876746c4da9d8_61_3.tsv\n",
      "[15:52:30 - __main__] Starting fastq (251 of 338)\n",
      "\t/path/to/data/MinION_sequencing_data_20190828/guppy_3.2.2_08_28_2019_run_01_exec_20190828/pass/fastq_runid_852c07bf042182e22f60c3d9425876746c4da9d8_62_3.fastq\n"
     ]
    },
    {
     "name": "stdout",
     "output_type": "stream",
     "text": [
      "[########################################] | 100% Completed | 29.7s\n"
     ]
    },
    {
     "name": "stderr",
     "output_type": "stream",
     "text": [
      "[15:53:00 - __main__] Saving to file: /path/to/data/MinION_sequencing_data_20190828/guppy_3.2.2_08_28_2019_run_01_exec_20190828/sw/fastq_runid_852c07bf042182e22f60c3d9425876746c4da9d8_62_3.tsv\n",
      "[15:53:00 - __main__] Starting fastq (252 of 338)\n",
      "\t/path/to/data/MinION_sequencing_data_20190828/guppy_3.2.2_08_28_2019_run_01_exec_20190828/pass/fastq_runid_852c07bf042182e22f60c3d9425876746c4da9d8_63_0.fastq\n"
     ]
    },
    {
     "name": "stdout",
     "output_type": "stream",
     "text": [
      "[########################################] | 100% Completed |  1min 25.2s\n"
     ]
    },
    {
     "name": "stderr",
     "output_type": "stream",
     "text": [
      "[15:54:26 - __main__] Saving to file: /path/to/data/MinION_sequencing_data_20190828/guppy_3.2.2_08_28_2019_run_01_exec_20190828/sw/fastq_runid_852c07bf042182e22f60c3d9425876746c4da9d8_63_0.tsv\n",
      "[15:54:26 - __main__] Starting fastq (253 of 338)\n",
      "\t/path/to/data/MinION_sequencing_data_20190828/guppy_3.2.2_08_28_2019_run_01_exec_20190828/pass/fastq_runid_852c07bf042182e22f60c3d9425876746c4da9d8_63_1.fastq\n"
     ]
    },
    {
     "name": "stdout",
     "output_type": "stream",
     "text": [
      "[########################################] | 100% Completed | 32.5s\n"
     ]
    },
    {
     "name": "stderr",
     "output_type": "stream",
     "text": [
      "[15:54:59 - __main__] Saving to file: /path/to/data/MinION_sequencing_data_20190828/guppy_3.2.2_08_28_2019_run_01_exec_20190828/sw/fastq_runid_852c07bf042182e22f60c3d9425876746c4da9d8_63_1.tsv\n",
      "[15:54:59 - __main__] Starting fastq (254 of 338)\n",
      "\t/path/to/data/MinION_sequencing_data_20190828/guppy_3.2.2_08_28_2019_run_01_exec_20190828/pass/fastq_runid_852c07bf042182e22f60c3d9425876746c4da9d8_63_2.fastq\n"
     ]
    },
    {
     "name": "stdout",
     "output_type": "stream",
     "text": [
      "[########################################] | 100% Completed | 14.8s\n"
     ]
    },
    {
     "name": "stderr",
     "output_type": "stream",
     "text": [
      "[15:55:14 - __main__] Saving to file: /path/to/data/MinION_sequencing_data_20190828/guppy_3.2.2_08_28_2019_run_01_exec_20190828/sw/fastq_runid_852c07bf042182e22f60c3d9425876746c4da9d8_63_2.tsv\n",
      "[15:55:14 - __main__] Starting fastq (255 of 338)\n",
      "\t/path/to/data/MinION_sequencing_data_20190828/guppy_3.2.2_08_28_2019_run_01_exec_20190828/pass/fastq_runid_852c07bf042182e22f60c3d9425876746c4da9d8_64_0.fastq\n"
     ]
    },
    {
     "name": "stdout",
     "output_type": "stream",
     "text": [
      "[########################################] | 100% Completed | 47.7s\n"
     ]
    },
    {
     "name": "stderr",
     "output_type": "stream",
     "text": [
      "[15:56:02 - __main__] Saving to file: /path/to/data/MinION_sequencing_data_20190828/guppy_3.2.2_08_28_2019_run_01_exec_20190828/sw/fastq_runid_852c07bf042182e22f60c3d9425876746c4da9d8_64_0.tsv\n",
      "[15:56:02 - __main__] Starting fastq (256 of 338)\n",
      "\t/path/to/data/MinION_sequencing_data_20190828/guppy_3.2.2_08_28_2019_run_01_exec_20190828/pass/fastq_runid_852c07bf042182e22f60c3d9425876746c4da9d8_64_1.fastq\n"
     ]
    },
    {
     "name": "stdout",
     "output_type": "stream",
     "text": [
      "[########################################] | 100% Completed |  1min 16.8s\n"
     ]
    },
    {
     "name": "stderr",
     "output_type": "stream",
     "text": [
      "[15:57:19 - __main__] Saving to file: /path/to/data/MinION_sequencing_data_20190828/guppy_3.2.2_08_28_2019_run_01_exec_20190828/sw/fastq_runid_852c07bf042182e22f60c3d9425876746c4da9d8_64_1.tsv\n",
      "[15:57:19 - __main__] Starting fastq (257 of 338)\n",
      "\t/path/to/data/MinION_sequencing_data_20190828/guppy_3.2.2_08_28_2019_run_01_exec_20190828/pass/fastq_runid_852c07bf042182e22f60c3d9425876746c4da9d8_63_3.fastq\n"
     ]
    },
    {
     "name": "stdout",
     "output_type": "stream",
     "text": [
      "[########################################] | 100% Completed |  7.0s\n"
     ]
    },
    {
     "name": "stderr",
     "output_type": "stream",
     "text": [
      "[15:57:27 - __main__] Saving to file: /path/to/data/MinION_sequencing_data_20190828/guppy_3.2.2_08_28_2019_run_01_exec_20190828/sw/fastq_runid_852c07bf042182e22f60c3d9425876746c4da9d8_63_3.tsv\n",
      "[15:57:27 - __main__] Starting fastq (258 of 338)\n",
      "\t/path/to/data/MinION_sequencing_data_20190828/guppy_3.2.2_08_28_2019_run_01_exec_20190828/pass/fastq_runid_852c07bf042182e22f60c3d9425876746c4da9d8_64_2.fastq\n"
     ]
    },
    {
     "name": "stdout",
     "output_type": "stream",
     "text": [
      "[########################################] | 100% Completed |  1.5s\n"
     ]
    },
    {
     "name": "stderr",
     "output_type": "stream",
     "text": [
      "[15:57:28 - __main__] Saving to file: /path/to/data/MinION_sequencing_data_20190828/guppy_3.2.2_08_28_2019_run_01_exec_20190828/sw/fastq_runid_852c07bf042182e22f60c3d9425876746c4da9d8_64_2.tsv\n",
      "[15:57:28 - __main__] Starting fastq (259 of 338)\n",
      "\t/path/to/data/MinION_sequencing_data_20190828/guppy_3.2.2_08_28_2019_run_01_exec_20190828/pass/fastq_runid_852c07bf042182e22f60c3d9425876746c4da9d8_64_3.fastq\n"
     ]
    },
    {
     "name": "stdout",
     "output_type": "stream",
     "text": [
      "[########################################] | 100% Completed | 14.9s\n"
     ]
    },
    {
     "name": "stderr",
     "output_type": "stream",
     "text": [
      "[15:57:44 - __main__] Saving to file: /path/to/data/MinION_sequencing_data_20190828/guppy_3.2.2_08_28_2019_run_01_exec_20190828/sw/fastq_runid_852c07bf042182e22f60c3d9425876746c4da9d8_64_3.tsv\n",
      "[15:57:44 - __main__] Starting fastq (260 of 338)\n",
      "\t/path/to/data/MinION_sequencing_data_20190828/guppy_3.2.2_08_28_2019_run_01_exec_20190828/pass/fastq_runid_852c07bf042182e22f60c3d9425876746c4da9d8_65_0.fastq\n"
     ]
    },
    {
     "name": "stdout",
     "output_type": "stream",
     "text": [
      "[########################################] | 100% Completed | 45.6s\n"
     ]
    },
    {
     "name": "stderr",
     "output_type": "stream",
     "text": [
      "[15:58:30 - __main__] Saving to file: /path/to/data/MinION_sequencing_data_20190828/guppy_3.2.2_08_28_2019_run_01_exec_20190828/sw/fastq_runid_852c07bf042182e22f60c3d9425876746c4da9d8_65_0.tsv\n",
      "[15:58:30 - __main__] Starting fastq (261 of 338)\n",
      "\t/path/to/data/MinION_sequencing_data_20190828/guppy_3.2.2_08_28_2019_run_01_exec_20190828/pass/fastq_runid_852c07bf042182e22f60c3d9425876746c4da9d8_65_1.fastq\n"
     ]
    },
    {
     "name": "stdout",
     "output_type": "stream",
     "text": [
      "[########################################] | 100% Completed |  2.4s\n"
     ]
    },
    {
     "name": "stderr",
     "output_type": "stream",
     "text": [
      "[15:58:32 - __main__] Saving to file: /path/to/data/MinION_sequencing_data_20190828/guppy_3.2.2_08_28_2019_run_01_exec_20190828/sw/fastq_runid_852c07bf042182e22f60c3d9425876746c4da9d8_65_1.tsv\n",
      "[15:58:32 - __main__] Starting fastq (262 of 338)\n",
      "\t/path/to/data/MinION_sequencing_data_20190828/guppy_3.2.2_08_28_2019_run_01_exec_20190828/pass/fastq_runid_852c07bf042182e22f60c3d9425876746c4da9d8_65_2.fastq\n"
     ]
    },
    {
     "name": "stdout",
     "output_type": "stream",
     "text": [
      "[########################################] | 100% Completed |  1min 18.0s\n"
     ]
    },
    {
     "name": "stderr",
     "output_type": "stream",
     "text": [
      "[15:59:51 - __main__] Saving to file: /path/to/data/MinION_sequencing_data_20190828/guppy_3.2.2_08_28_2019_run_01_exec_20190828/sw/fastq_runid_852c07bf042182e22f60c3d9425876746c4da9d8_65_2.tsv\n",
      "[15:59:51 - __main__] Starting fastq (263 of 338)\n",
      "\t/path/to/data/MinION_sequencing_data_20190828/guppy_3.2.2_08_28_2019_run_01_exec_20190828/pass/fastq_runid_852c07bf042182e22f60c3d9425876746c4da9d8_66_0.fastq\n"
     ]
    },
    {
     "name": "stdout",
     "output_type": "stream",
     "text": [
      "[########################################] | 100% Completed | 16.4s\n"
     ]
    },
    {
     "name": "stderr",
     "output_type": "stream",
     "text": [
      "[16:00:08 - __main__] Saving to file: /path/to/data/MinION_sequencing_data_20190828/guppy_3.2.2_08_28_2019_run_01_exec_20190828/sw/fastq_runid_852c07bf042182e22f60c3d9425876746c4da9d8_66_0.tsv\n",
      "[16:00:08 - __main__] Starting fastq (264 of 338)\n",
      "\t/path/to/data/MinION_sequencing_data_20190828/guppy_3.2.2_08_28_2019_run_01_exec_20190828/pass/fastq_runid_852c07bf042182e22f60c3d9425876746c4da9d8_66_1.fastq\n"
     ]
    },
    {
     "name": "stdout",
     "output_type": "stream",
     "text": [
      "[########################################] | 100% Completed |  1min 40.4s\n"
     ]
    },
    {
     "name": "stderr",
     "output_type": "stream",
     "text": [
      "[16:01:48 - __main__] Saving to file: /path/to/data/MinION_sequencing_data_20190828/guppy_3.2.2_08_28_2019_run_01_exec_20190828/sw/fastq_runid_852c07bf042182e22f60c3d9425876746c4da9d8_66_1.tsv\n",
      "[16:01:49 - __main__] Starting fastq (265 of 338)\n",
      "\t/path/to/data/MinION_sequencing_data_20190828/guppy_3.2.2_08_28_2019_run_01_exec_20190828/pass/fastq_runid_852c07bf042182e22f60c3d9425876746c4da9d8_67_0.fastq\n"
     ]
    },
    {
     "name": "stdout",
     "output_type": "stream",
     "text": [
      "[########################################] | 100% Completed |  1min  8.8s\n"
     ]
    },
    {
     "name": "stderr",
     "output_type": "stream",
     "text": [
      "[16:02:58 - __main__] Saving to file: /path/to/data/MinION_sequencing_data_20190828/guppy_3.2.2_08_28_2019_run_01_exec_20190828/sw/fastq_runid_852c07bf042182e22f60c3d9425876746c4da9d8_67_0.tsv\n",
      "[16:02:58 - __main__] Starting fastq (266 of 338)\n",
      "\t/path/to/data/MinION_sequencing_data_20190828/guppy_3.2.2_08_28_2019_run_01_exec_20190828/pass/fastq_runid_852c07bf042182e22f60c3d9425876746c4da9d8_65_3.fastq\n"
     ]
    },
    {
     "name": "stdout",
     "output_type": "stream",
     "text": [
      "[########################################] | 100% Completed | 15.6s\n"
     ]
    },
    {
     "name": "stderr",
     "output_type": "stream",
     "text": [
      "[16:03:14 - __main__] Saving to file: /path/to/data/MinION_sequencing_data_20190828/guppy_3.2.2_08_28_2019_run_01_exec_20190828/sw/fastq_runid_852c07bf042182e22f60c3d9425876746c4da9d8_65_3.tsv\n",
      "[16:03:14 - __main__] Starting fastq (267 of 338)\n",
      "\t/path/to/data/MinION_sequencing_data_20190828/guppy_3.2.2_08_28_2019_run_01_exec_20190828/pass/fastq_runid_852c07bf042182e22f60c3d9425876746c4da9d8_66_2.fastq\n"
     ]
    },
    {
     "name": "stdout",
     "output_type": "stream",
     "text": [
      "[########################################] | 100% Completed |  5.8s\n"
     ]
    },
    {
     "name": "stderr",
     "output_type": "stream",
     "text": [
      "[16:03:20 - __main__] Saving to file: /path/to/data/MinION_sequencing_data_20190828/guppy_3.2.2_08_28_2019_run_01_exec_20190828/sw/fastq_runid_852c07bf042182e22f60c3d9425876746c4da9d8_66_2.tsv\n",
      "[16:03:20 - __main__] Starting fastq (268 of 338)\n",
      "\t/path/to/data/MinION_sequencing_data_20190828/guppy_3.2.2_08_28_2019_run_01_exec_20190828/pass/fastq_runid_852c07bf042182e22f60c3d9425876746c4da9d8_67_1.fastq\n"
     ]
    },
    {
     "name": "stdout",
     "output_type": "stream",
     "text": [
      "[########################################] | 100% Completed | 56.3s\n"
     ]
    },
    {
     "name": "stderr",
     "output_type": "stream",
     "text": [
      "[16:04:16 - __main__] Saving to file: /path/to/data/MinION_sequencing_data_20190828/guppy_3.2.2_08_28_2019_run_01_exec_20190828/sw/fastq_runid_852c07bf042182e22f60c3d9425876746c4da9d8_67_1.tsv\n",
      "[16:04:17 - __main__] Starting fastq (269 of 338)\n",
      "\t/path/to/data/MinION_sequencing_data_20190828/guppy_3.2.2_08_28_2019_run_01_exec_20190828/pass/fastq_runid_852c07bf042182e22f60c3d9425876746c4da9d8_68_0.fastq\n"
     ]
    },
    {
     "name": "stdout",
     "output_type": "stream",
     "text": [
      "[########################################] | 100% Completed |  1min 28.9s\n"
     ]
    },
    {
     "name": "stderr",
     "output_type": "stream",
     "text": [
      "[16:05:46 - __main__] Saving to file: /path/to/data/MinION_sequencing_data_20190828/guppy_3.2.2_08_28_2019_run_01_exec_20190828/sw/fastq_runid_852c07bf042182e22f60c3d9425876746c4da9d8_68_0.tsv\n",
      "[16:05:46 - __main__] Starting fastq (270 of 338)\n",
      "\t/path/to/data/MinION_sequencing_data_20190828/guppy_3.2.2_08_28_2019_run_01_exec_20190828/pass/fastq_runid_852c07bf042182e22f60c3d9425876746c4da9d8_66_3.fastq\n"
     ]
    },
    {
     "name": "stdout",
     "output_type": "stream",
     "text": [
      "[########################################] | 100% Completed | 18.9s\n"
     ]
    },
    {
     "name": "stderr",
     "output_type": "stream",
     "text": [
      "[16:06:05 - __main__] Saving to file: /path/to/data/MinION_sequencing_data_20190828/guppy_3.2.2_08_28_2019_run_01_exec_20190828/sw/fastq_runid_852c07bf042182e22f60c3d9425876746c4da9d8_66_3.tsv\n",
      "[16:06:05 - __main__] Starting fastq (271 of 338)\n",
      "\t/path/to/data/MinION_sequencing_data_20190828/guppy_3.2.2_08_28_2019_run_01_exec_20190828/pass/fastq_runid_852c07bf042182e22f60c3d9425876746c4da9d8_68_1.fastq\n"
     ]
    },
    {
     "name": "stdout",
     "output_type": "stream",
     "text": [
      "[########################################] | 100% Completed | 10.2s\n"
     ]
    },
    {
     "name": "stderr",
     "output_type": "stream",
     "text": [
      "[16:06:16 - __main__] Saving to file: /path/to/data/MinION_sequencing_data_20190828/guppy_3.2.2_08_28_2019_run_01_exec_20190828/sw/fastq_runid_852c07bf042182e22f60c3d9425876746c4da9d8_68_1.tsv\n",
      "[16:06:16 - __main__] Starting fastq (272 of 338)\n",
      "\t/path/to/data/MinION_sequencing_data_20190828/guppy_3.2.2_08_28_2019_run_01_exec_20190828/pass/fastq_runid_852c07bf042182e22f60c3d9425876746c4da9d8_67_2.fastq\n"
     ]
    },
    {
     "name": "stdout",
     "output_type": "stream",
     "text": [
      "[########################################] | 100% Completed |  1.0s\n"
     ]
    },
    {
     "name": "stderr",
     "output_type": "stream",
     "text": [
      "[16:06:17 - __main__] Saving to file: /path/to/data/MinION_sequencing_data_20190828/guppy_3.2.2_08_28_2019_run_01_exec_20190828/sw/fastq_runid_852c07bf042182e22f60c3d9425876746c4da9d8_67_2.tsv\n",
      "[16:06:17 - __main__] Starting fastq (273 of 338)\n",
      "\t/path/to/data/MinION_sequencing_data_20190828/guppy_3.2.2_08_28_2019_run_01_exec_20190828/pass/fastq_runid_852c07bf042182e22f60c3d9425876746c4da9d8_68_2.fastq\n"
     ]
    },
    {
     "name": "stdout",
     "output_type": "stream",
     "text": [
      "[########################################] | 100% Completed | 41.4s\n"
     ]
    },
    {
     "name": "stderr",
     "output_type": "stream",
     "text": [
      "[16:06:59 - __main__] Saving to file: /path/to/data/MinION_sequencing_data_20190828/guppy_3.2.2_08_28_2019_run_01_exec_20190828/sw/fastq_runid_852c07bf042182e22f60c3d9425876746c4da9d8_68_2.tsv\n",
      "[16:06:59 - __main__] Starting fastq (274 of 338)\n",
      "\t/path/to/data/MinION_sequencing_data_20190828/guppy_3.2.2_08_28_2019_run_01_exec_20190828/pass/fastq_runid_852c07bf042182e22f60c3d9425876746c4da9d8_67_3.fastq\n"
     ]
    },
    {
     "name": "stdout",
     "output_type": "stream",
     "text": [
      "[########################################] | 100% Completed | 18.7s\n"
     ]
    },
    {
     "name": "stderr",
     "output_type": "stream",
     "text": [
      "[16:07:18 - __main__] Saving to file: /path/to/data/MinION_sequencing_data_20190828/guppy_3.2.2_08_28_2019_run_01_exec_20190828/sw/fastq_runid_852c07bf042182e22f60c3d9425876746c4da9d8_67_3.tsv\n",
      "[16:07:18 - __main__] Starting fastq (275 of 338)\n",
      "\t/path/to/data/MinION_sequencing_data_20190828/guppy_3.2.2_08_28_2019_run_01_exec_20190828/pass/fastq_runid_852c07bf042182e22f60c3d9425876746c4da9d8_69_0.fastq\n"
     ]
    },
    {
     "name": "stdout",
     "output_type": "stream",
     "text": [
      "[########################################] | 100% Completed | 47.2s\n"
     ]
    },
    {
     "name": "stderr",
     "output_type": "stream",
     "text": [
      "[16:08:05 - __main__] Saving to file: /path/to/data/MinION_sequencing_data_20190828/guppy_3.2.2_08_28_2019_run_01_exec_20190828/sw/fastq_runid_852c07bf042182e22f60c3d9425876746c4da9d8_69_0.tsv\n",
      "[16:08:05 - __main__] Starting fastq (276 of 338)\n",
      "\t/path/to/data/MinION_sequencing_data_20190828/guppy_3.2.2_08_28_2019_run_01_exec_20190828/pass/fastq_runid_852c07bf042182e22f60c3d9425876746c4da9d8_68_3.fastq\n"
     ]
    },
    {
     "name": "stdout",
     "output_type": "stream",
     "text": [
      "[########################################] | 100% Completed |  1.0s\n"
     ]
    },
    {
     "name": "stderr",
     "output_type": "stream",
     "text": [
      "[16:08:06 - __main__] Saving to file: /path/to/data/MinION_sequencing_data_20190828/guppy_3.2.2_08_28_2019_run_01_exec_20190828/sw/fastq_runid_852c07bf042182e22f60c3d9425876746c4da9d8_68_3.tsv\n",
      "[16:08:06 - __main__] Starting fastq (277 of 338)\n",
      "\t/path/to/data/MinION_sequencing_data_20190828/guppy_3.2.2_08_28_2019_run_01_exec_20190828/pass/fastq_runid_852c07bf042182e22f60c3d9425876746c4da9d8_69_1.fastq\n"
     ]
    },
    {
     "name": "stdout",
     "output_type": "stream",
     "text": [
      "[########################################] | 100% Completed |  1min 11.7s\n"
     ]
    },
    {
     "name": "stderr",
     "output_type": "stream",
     "text": [
      "[16:09:18 - __main__] Saving to file: /path/to/data/MinION_sequencing_data_20190828/guppy_3.2.2_08_28_2019_run_01_exec_20190828/sw/fastq_runid_852c07bf042182e22f60c3d9425876746c4da9d8_69_1.tsv\n",
      "[16:09:19 - __main__] Starting fastq (278 of 338)\n",
      "\t/path/to/data/MinION_sequencing_data_20190828/guppy_3.2.2_08_28_2019_run_01_exec_20190828/pass/fastq_runid_852c07bf042182e22f60c3d9425876746c4da9d8_69_2.fastq\n"
     ]
    },
    {
     "name": "stdout",
     "output_type": "stream",
     "text": [
      "[########################################] | 100% Completed |  1.0s\n"
     ]
    },
    {
     "name": "stderr",
     "output_type": "stream",
     "text": [
      "[16:09:20 - __main__] Saving to file: /path/to/data/MinION_sequencing_data_20190828/guppy_3.2.2_08_28_2019_run_01_exec_20190828/sw/fastq_runid_852c07bf042182e22f60c3d9425876746c4da9d8_69_2.tsv\n",
      "[16:09:20 - __main__] Starting fastq (279 of 338)\n",
      "\t/path/to/data/MinION_sequencing_data_20190828/guppy_3.2.2_08_28_2019_run_01_exec_20190828/pass/fastq_runid_852c07bf042182e22f60c3d9425876746c4da9d8_70_0.fastq\n"
     ]
    },
    {
     "name": "stdout",
     "output_type": "stream",
     "text": [
      "[########################################] | 100% Completed | 59.6s\n"
     ]
    },
    {
     "name": "stderr",
     "output_type": "stream",
     "text": [
      "[16:10:20 - __main__] Saving to file: /path/to/data/MinION_sequencing_data_20190828/guppy_3.2.2_08_28_2019_run_01_exec_20190828/sw/fastq_runid_852c07bf042182e22f60c3d9425876746c4da9d8_70_0.tsv\n",
      "[16:10:20 - __main__] Starting fastq (280 of 338)\n",
      "\t/path/to/data/MinION_sequencing_data_20190828/guppy_3.2.2_08_28_2019_run_01_exec_20190828/pass/fastq_runid_852c07bf042182e22f60c3d9425876746c4da9d8_69_3.fastq\n"
     ]
    },
    {
     "name": "stdout",
     "output_type": "stream",
     "text": [
      "[########################################] | 100% Completed | 19.3s\n"
     ]
    },
    {
     "name": "stderr",
     "output_type": "stream",
     "text": [
      "[16:10:39 - __main__] Saving to file: /path/to/data/MinION_sequencing_data_20190828/guppy_3.2.2_08_28_2019_run_01_exec_20190828/sw/fastq_runid_852c07bf042182e22f60c3d9425876746c4da9d8_69_3.tsv\n",
      "[16:10:39 - __main__] Starting fastq (281 of 338)\n",
      "\t/path/to/data/MinION_sequencing_data_20190828/guppy_3.2.2_08_28_2019_run_01_exec_20190828/pass/fastq_runid_852c07bf042182e22f60c3d9425876746c4da9d8_70_1.fastq\n"
     ]
    },
    {
     "name": "stdout",
     "output_type": "stream",
     "text": [
      "[########################################] | 100% Completed | 34.1s\n"
     ]
    },
    {
     "name": "stderr",
     "output_type": "stream",
     "text": [
      "[16:11:14 - __main__] Saving to file: /path/to/data/MinION_sequencing_data_20190828/guppy_3.2.2_08_28_2019_run_01_exec_20190828/sw/fastq_runid_852c07bf042182e22f60c3d9425876746c4da9d8_70_1.tsv\n",
      "[16:11:14 - __main__] Starting fastq (282 of 338)\n",
      "\t/path/to/data/MinION_sequencing_data_20190828/guppy_3.2.2_08_28_2019_run_01_exec_20190828/pass/fastq_runid_852c07bf042182e22f60c3d9425876746c4da9d8_70_2.fastq\n"
     ]
    },
    {
     "name": "stdout",
     "output_type": "stream",
     "text": [
      "[########################################] | 100% Completed |  4.8s\n"
     ]
    },
    {
     "name": "stderr",
     "output_type": "stream",
     "text": [
      "[16:11:19 - __main__] Saving to file: /path/to/data/MinION_sequencing_data_20190828/guppy_3.2.2_08_28_2019_run_01_exec_20190828/sw/fastq_runid_852c07bf042182e22f60c3d9425876746c4da9d8_70_2.tsv\n",
      "[16:11:19 - __main__] Starting fastq (283 of 338)\n",
      "\t/path/to/data/MinION_sequencing_data_20190828/guppy_3.2.2_08_28_2019_run_01_exec_20190828/pass/fastq_runid_852c07bf042182e22f60c3d9425876746c4da9d8_70_3.fastq\n"
     ]
    },
    {
     "name": "stdout",
     "output_type": "stream",
     "text": [
      "[########################################] | 100% Completed | 39.8s\n"
     ]
    },
    {
     "name": "stderr",
     "output_type": "stream",
     "text": [
      "[16:11:59 - __main__] Saving to file: /path/to/data/MinION_sequencing_data_20190828/guppy_3.2.2_08_28_2019_run_01_exec_20190828/sw/fastq_runid_852c07bf042182e22f60c3d9425876746c4da9d8_70_3.tsv\n",
      "[16:11:59 - __main__] Starting fastq (284 of 338)\n",
      "\t/path/to/data/MinION_sequencing_data_20190828/guppy_3.2.2_08_28_2019_run_01_exec_20190828/pass/fastq_runid_852c07bf042182e22f60c3d9425876746c4da9d8_71_0.fastq\n"
     ]
    },
    {
     "name": "stdout",
     "output_type": "stream",
     "text": [
      "[########################################] | 100% Completed | 38.0s\n"
     ]
    },
    {
     "name": "stderr",
     "output_type": "stream",
     "text": [
      "[16:12:37 - __main__] Saving to file: /path/to/data/MinION_sequencing_data_20190828/guppy_3.2.2_08_28_2019_run_01_exec_20190828/sw/fastq_runid_852c07bf042182e22f60c3d9425876746c4da9d8_71_0.tsv\n",
      "[16:12:37 - __main__] Starting fastq (285 of 338)\n",
      "\t/path/to/data/MinION_sequencing_data_20190828/guppy_3.2.2_08_28_2019_run_01_exec_20190828/pass/fastq_runid_852c07bf042182e22f60c3d9425876746c4da9d8_71_1.fastq\n"
     ]
    },
    {
     "name": "stdout",
     "output_type": "stream",
     "text": [
      "[########################################] | 100% Completed | 17.3s\n"
     ]
    },
    {
     "name": "stderr",
     "output_type": "stream",
     "text": [
      "[16:12:55 - __main__] Saving to file: /path/to/data/MinION_sequencing_data_20190828/guppy_3.2.2_08_28_2019_run_01_exec_20190828/sw/fastq_runid_852c07bf042182e22f60c3d9425876746c4da9d8_71_1.tsv\n",
      "[16:12:55 - __main__] Starting fastq (286 of 338)\n",
      "\t/path/to/data/MinION_sequencing_data_20190828/guppy_3.2.2_08_28_2019_run_01_exec_20190828/pass/fastq_runid_852c07bf042182e22f60c3d9425876746c4da9d8_71_2.fastq\n"
     ]
    },
    {
     "name": "stdout",
     "output_type": "stream",
     "text": [
      "[########################################] | 100% Completed |  5.1s\n"
     ]
    },
    {
     "name": "stderr",
     "output_type": "stream",
     "text": [
      "[16:13:00 - __main__] Saving to file: /path/to/data/MinION_sequencing_data_20190828/guppy_3.2.2_08_28_2019_run_01_exec_20190828/sw/fastq_runid_852c07bf042182e22f60c3d9425876746c4da9d8_71_2.tsv\n",
      "[16:13:00 - __main__] Starting fastq (287 of 338)\n",
      "\t/path/to/data/MinION_sequencing_data_20190828/guppy_3.2.2_08_28_2019_run_01_exec_20190828/pass/fastq_runid_852c07bf042182e22f60c3d9425876746c4da9d8_72_0.fastq\n"
     ]
    },
    {
     "name": "stdout",
     "output_type": "stream",
     "text": [
      "[########################################] | 100% Completed | 58.1s\n"
     ]
    },
    {
     "name": "stderr",
     "output_type": "stream",
     "text": [
      "[16:13:59 - __main__] Saving to file: /path/to/data/MinION_sequencing_data_20190828/guppy_3.2.2_08_28_2019_run_01_exec_20190828/sw/fastq_runid_852c07bf042182e22f60c3d9425876746c4da9d8_72_0.tsv\n",
      "[16:13:59 - __main__] Starting fastq (288 of 338)\n",
      "\t/path/to/data/MinION_sequencing_data_20190828/guppy_3.2.2_08_28_2019_run_01_exec_20190828/pass/fastq_runid_852c07bf042182e22f60c3d9425876746c4da9d8_71_3.fastq\n"
     ]
    },
    {
     "name": "stdout",
     "output_type": "stream",
     "text": [
      "[########################################] | 100% Completed |  1min 19.3s\n"
     ]
    },
    {
     "name": "stderr",
     "output_type": "stream",
     "text": [
      "[16:15:18 - __main__] Saving to file: /path/to/data/MinION_sequencing_data_20190828/guppy_3.2.2_08_28_2019_run_01_exec_20190828/sw/fastq_runid_852c07bf042182e22f60c3d9425876746c4da9d8_71_3.tsv\n",
      "[16:15:19 - __main__] Starting fastq (289 of 338)\n",
      "\t/path/to/data/MinION_sequencing_data_20190828/guppy_3.2.2_08_28_2019_run_01_exec_20190828/pass/fastq_runid_852c07bf042182e22f60c3d9425876746c4da9d8_72_1.fastq\n"
     ]
    },
    {
     "name": "stdout",
     "output_type": "stream",
     "text": [
      "[########################################] | 100% Completed | 52.4s\n"
     ]
    },
    {
     "name": "stderr",
     "output_type": "stream",
     "text": [
      "[16:16:11 - __main__] Saving to file: /path/to/data/MinION_sequencing_data_20190828/guppy_3.2.2_08_28_2019_run_01_exec_20190828/sw/fastq_runid_852c07bf042182e22f60c3d9425876746c4da9d8_72_1.tsv\n",
      "[16:16:11 - __main__] Starting fastq (290 of 338)\n",
      "\t/path/to/data/MinION_sequencing_data_20190828/guppy_3.2.2_08_28_2019_run_01_exec_20190828/pass/fastq_runid_852c07bf042182e22f60c3d9425876746c4da9d8_72_2.fastq\n"
     ]
    },
    {
     "name": "stdout",
     "output_type": "stream",
     "text": [
      "[########################################] | 100% Completed | 19.5s\n"
     ]
    },
    {
     "name": "stderr",
     "output_type": "stream",
     "text": [
      "[16:16:31 - __main__] Saving to file: /path/to/data/MinION_sequencing_data_20190828/guppy_3.2.2_08_28_2019_run_01_exec_20190828/sw/fastq_runid_852c07bf042182e22f60c3d9425876746c4da9d8_72_2.tsv\n",
      "[16:16:31 - __main__] Starting fastq (291 of 338)\n",
      "\t/path/to/data/MinION_sequencing_data_20190828/guppy_3.2.2_08_28_2019_run_01_exec_20190828/pass/fastq_runid_852c07bf042182e22f60c3d9425876746c4da9d8_73_0.fastq\n"
     ]
    },
    {
     "name": "stdout",
     "output_type": "stream",
     "text": [
      "[########################################] | 100% Completed |  1min 11.4s\n"
     ]
    },
    {
     "name": "stderr",
     "output_type": "stream",
     "text": [
      "[16:17:43 - __main__] Saving to file: /path/to/data/MinION_sequencing_data_20190828/guppy_3.2.2_08_28_2019_run_01_exec_20190828/sw/fastq_runid_852c07bf042182e22f60c3d9425876746c4da9d8_73_0.tsv\n",
      "[16:17:43 - __main__] Starting fastq (292 of 338)\n",
      "\t/path/to/data/MinION_sequencing_data_20190828/guppy_3.2.2_08_28_2019_run_01_exec_20190828/pass/fastq_runid_852c07bf042182e22f60c3d9425876746c4da9d8_73_1.fastq\n"
     ]
    },
    {
     "name": "stdout",
     "output_type": "stream",
     "text": [
      "[########################################] | 100% Completed |  1.0s\n"
     ]
    },
    {
     "name": "stderr",
     "output_type": "stream",
     "text": [
      "[16:17:44 - __main__] Saving to file: /path/to/data/MinION_sequencing_data_20190828/guppy_3.2.2_08_28_2019_run_01_exec_20190828/sw/fastq_runid_852c07bf042182e22f60c3d9425876746c4da9d8_73_1.tsv\n",
      "[16:17:44 - __main__] Starting fastq (293 of 338)\n",
      "\t/path/to/data/MinION_sequencing_data_20190828/guppy_3.2.2_08_28_2019_run_01_exec_20190828/pass/fastq_runid_852c07bf042182e22f60c3d9425876746c4da9d8_74_0.fastq\n"
     ]
    },
    {
     "name": "stdout",
     "output_type": "stream",
     "text": [
      "[########################################] | 100% Completed |  1min  2.7s\n"
     ]
    },
    {
     "name": "stderr",
     "output_type": "stream",
     "text": [
      "[16:18:47 - __main__] Saving to file: /path/to/data/MinION_sequencing_data_20190828/guppy_3.2.2_08_28_2019_run_01_exec_20190828/sw/fastq_runid_852c07bf042182e22f60c3d9425876746c4da9d8_74_0.tsv\n",
      "[16:18:48 - __main__] Starting fastq (294 of 338)\n",
      "\t/path/to/data/MinION_sequencing_data_20190828/guppy_3.2.2_08_28_2019_run_01_exec_20190828/pass/fastq_runid_852c07bf042182e22f60c3d9425876746c4da9d8_73_2.fastq\n"
     ]
    },
    {
     "name": "stdout",
     "output_type": "stream",
     "text": [
      "[########################################] | 100% Completed |  1min  4.8s\n"
     ]
    },
    {
     "name": "stderr",
     "output_type": "stream",
     "text": [
      "[16:19:53 - __main__] Saving to file: /path/to/data/MinION_sequencing_data_20190828/guppy_3.2.2_08_28_2019_run_01_exec_20190828/sw/fastq_runid_852c07bf042182e22f60c3d9425876746c4da9d8_73_2.tsv\n",
      "[16:19:53 - __main__] Starting fastq (295 of 338)\n",
      "\t/path/to/data/MinION_sequencing_data_20190828/guppy_3.2.2_08_28_2019_run_01_exec_20190828/pass/fastq_runid_852c07bf042182e22f60c3d9425876746c4da9d8_72_3.fastq\n"
     ]
    },
    {
     "name": "stdout",
     "output_type": "stream",
     "text": [
      "[########################################] | 100% Completed | 10.5s\n"
     ]
    },
    {
     "name": "stderr",
     "output_type": "stream",
     "text": [
      "[16:20:04 - __main__] Saving to file: /path/to/data/MinION_sequencing_data_20190828/guppy_3.2.2_08_28_2019_run_01_exec_20190828/sw/fastq_runid_852c07bf042182e22f60c3d9425876746c4da9d8_72_3.tsv\n",
      "[16:20:04 - __main__] Starting fastq (296 of 338)\n",
      "\t/path/to/data/MinION_sequencing_data_20190828/guppy_3.2.2_08_28_2019_run_01_exec_20190828/pass/fastq_runid_852c07bf042182e22f60c3d9425876746c4da9d8_73_3.fastq\n"
     ]
    },
    {
     "name": "stdout",
     "output_type": "stream",
     "text": [
      "[########################################] | 100% Completed |  1.7s\n"
     ]
    },
    {
     "name": "stderr",
     "output_type": "stream",
     "text": [
      "[16:20:06 - __main__] Saving to file: /path/to/data/MinION_sequencing_data_20190828/guppy_3.2.2_08_28_2019_run_01_exec_20190828/sw/fastq_runid_852c07bf042182e22f60c3d9425876746c4da9d8_73_3.tsv\n",
      "[16:20:06 - __main__] Starting fastq (297 of 338)\n",
      "\t/path/to/data/MinION_sequencing_data_20190828/guppy_3.2.2_08_28_2019_run_01_exec_20190828/pass/fastq_runid_852c07bf042182e22f60c3d9425876746c4da9d8_74_1.fastq\n"
     ]
    },
    {
     "name": "stdout",
     "output_type": "stream",
     "text": [
      "[########################################] | 100% Completed | 34.5s\n"
     ]
    },
    {
     "name": "stderr",
     "output_type": "stream",
     "text": [
      "[16:20:40 - __main__] Saving to file: /path/to/data/MinION_sequencing_data_20190828/guppy_3.2.2_08_28_2019_run_01_exec_20190828/sw/fastq_runid_852c07bf042182e22f60c3d9425876746c4da9d8_74_1.tsv\n",
      "[16:20:40 - __main__] Starting fastq (298 of 338)\n",
      "\t/path/to/data/MinION_sequencing_data_20190828/guppy_3.2.2_08_28_2019_run_01_exec_20190828/pass/fastq_runid_852c07bf042182e22f60c3d9425876746c4da9d8_74_2.fastq\n"
     ]
    },
    {
     "name": "stdout",
     "output_type": "stream",
     "text": [
      "[########################################] | 100% Completed |  1.7s\n"
     ]
    },
    {
     "name": "stderr",
     "output_type": "stream",
     "text": [
      "[16:20:42 - __main__] Saving to file: /path/to/data/MinION_sequencing_data_20190828/guppy_3.2.2_08_28_2019_run_01_exec_20190828/sw/fastq_runid_852c07bf042182e22f60c3d9425876746c4da9d8_74_2.tsv\n",
      "[16:20:42 - __main__] Starting fastq (299 of 338)\n",
      "\t/path/to/data/MinION_sequencing_data_20190828/guppy_3.2.2_08_28_2019_run_01_exec_20190828/pass/fastq_runid_852c07bf042182e22f60c3d9425876746c4da9d8_75_0.fastq\n"
     ]
    },
    {
     "name": "stdout",
     "output_type": "stream",
     "text": [
      "[########################################] | 100% Completed |  1min 19.0s\n"
     ]
    },
    {
     "name": "stderr",
     "output_type": "stream",
     "text": [
      "[16:22:02 - __main__] Saving to file: /path/to/data/MinION_sequencing_data_20190828/guppy_3.2.2_08_28_2019_run_01_exec_20190828/sw/fastq_runid_852c07bf042182e22f60c3d9425876746c4da9d8_75_0.tsv\n",
      "[16:22:02 - __main__] Starting fastq (300 of 338)\n",
      "\t/path/to/data/MinION_sequencing_data_20190828/guppy_3.2.2_08_28_2019_run_01_exec_20190828/pass/fastq_runid_852c07bf042182e22f60c3d9425876746c4da9d8_75_1.fastq\n"
     ]
    },
    {
     "name": "stdout",
     "output_type": "stream",
     "text": [
      "[########################################] | 100% Completed | 31.1s\n"
     ]
    },
    {
     "name": "stderr",
     "output_type": "stream",
     "text": [
      "[16:22:33 - __main__] Saving to file: /path/to/data/MinION_sequencing_data_20190828/guppy_3.2.2_08_28_2019_run_01_exec_20190828/sw/fastq_runid_852c07bf042182e22f60c3d9425876746c4da9d8_75_1.tsv\n",
      "[16:22:33 - __main__] Starting fastq (301 of 338)\n",
      "\t/path/to/data/MinION_sequencing_data_20190828/guppy_3.2.2_08_28_2019_run_01_exec_20190828/pass/fastq_runid_852c07bf042182e22f60c3d9425876746c4da9d8_75_2.fastq\n"
     ]
    },
    {
     "name": "stdout",
     "output_type": "stream",
     "text": [
      "[########################################] | 100% Completed | 22.4s\n"
     ]
    },
    {
     "name": "stderr",
     "output_type": "stream",
     "text": [
      "[16:22:56 - __main__] Saving to file: /path/to/data/MinION_sequencing_data_20190828/guppy_3.2.2_08_28_2019_run_01_exec_20190828/sw/fastq_runid_852c07bf042182e22f60c3d9425876746c4da9d8_75_2.tsv\n",
      "[16:22:56 - __main__] Starting fastq (302 of 338)\n",
      "\t/path/to/data/MinION_sequencing_data_20190828/guppy_3.2.2_08_28_2019_run_01_exec_20190828/pass/fastq_runid_852c07bf042182e22f60c3d9425876746c4da9d8_74_3.fastq\n"
     ]
    },
    {
     "name": "stdout",
     "output_type": "stream",
     "text": [
      "[########################################] | 100% Completed | 39.1s\n"
     ]
    },
    {
     "name": "stderr",
     "output_type": "stream",
     "text": [
      "[16:23:35 - __main__] Saving to file: /path/to/data/MinION_sequencing_data_20190828/guppy_3.2.2_08_28_2019_run_01_exec_20190828/sw/fastq_runid_852c07bf042182e22f60c3d9425876746c4da9d8_74_3.tsv\n",
      "[16:23:35 - __main__] Starting fastq (303 of 338)\n",
      "\t/path/to/data/MinION_sequencing_data_20190828/guppy_3.2.2_08_28_2019_run_01_exec_20190828/pass/fastq_runid_852c07bf042182e22f60c3d9425876746c4da9d8_76_0.fastq\n"
     ]
    },
    {
     "name": "stdout",
     "output_type": "stream",
     "text": [
      "[########################################] | 100% Completed | 44.9s\n"
     ]
    },
    {
     "name": "stderr",
     "output_type": "stream",
     "text": [
      "[16:24:21 - __main__] Saving to file: /path/to/data/MinION_sequencing_data_20190828/guppy_3.2.2_08_28_2019_run_01_exec_20190828/sw/fastq_runid_852c07bf042182e22f60c3d9425876746c4da9d8_76_0.tsv\n",
      "[16:24:21 - __main__] Starting fastq (304 of 338)\n",
      "\t/path/to/data/MinION_sequencing_data_20190828/guppy_3.2.2_08_28_2019_run_01_exec_20190828/pass/fastq_runid_852c07bf042182e22f60c3d9425876746c4da9d8_75_3.fastq\n"
     ]
    },
    {
     "name": "stdout",
     "output_type": "stream",
     "text": [
      "[########################################] | 100% Completed |  6.8s\n"
     ]
    },
    {
     "name": "stderr",
     "output_type": "stream",
     "text": [
      "[16:24:28 - __main__] Saving to file: /path/to/data/MinION_sequencing_data_20190828/guppy_3.2.2_08_28_2019_run_01_exec_20190828/sw/fastq_runid_852c07bf042182e22f60c3d9425876746c4da9d8_75_3.tsv\n",
      "[16:24:28 - __main__] Starting fastq (305 of 338)\n",
      "\t/path/to/data/MinION_sequencing_data_20190828/guppy_3.2.2_08_28_2019_run_01_exec_20190828/pass/fastq_runid_852c07bf042182e22f60c3d9425876746c4da9d8_76_1.fastq\n"
     ]
    },
    {
     "name": "stdout",
     "output_type": "stream",
     "text": [
      "[########################################] | 100% Completed |  1min  0.5s\n"
     ]
    },
    {
     "name": "stderr",
     "output_type": "stream",
     "text": [
      "[16:25:28 - __main__] Saving to file: /path/to/data/MinION_sequencing_data_20190828/guppy_3.2.2_08_28_2019_run_01_exec_20190828/sw/fastq_runid_852c07bf042182e22f60c3d9425876746c4da9d8_76_1.tsv\n",
      "[16:25:29 - __main__] Starting fastq (306 of 338)\n",
      "\t/path/to/data/MinION_sequencing_data_20190828/guppy_3.2.2_08_28_2019_run_01_exec_20190828/pass/fastq_runid_852c07bf042182e22f60c3d9425876746c4da9d8_76_2.fastq\n"
     ]
    },
    {
     "name": "stdout",
     "output_type": "stream",
     "text": [
      "[########################################] | 100% Completed | 17.8s\n"
     ]
    },
    {
     "name": "stderr",
     "output_type": "stream",
     "text": [
      "[16:25:47 - __main__] Saving to file: /path/to/data/MinION_sequencing_data_20190828/guppy_3.2.2_08_28_2019_run_01_exec_20190828/sw/fastq_runid_852c07bf042182e22f60c3d9425876746c4da9d8_76_2.tsv\n",
      "[16:25:47 - __main__] Starting fastq (307 of 338)\n",
      "\t/path/to/data/MinION_sequencing_data_20190828/guppy_3.2.2_08_28_2019_run_01_exec_20190828/pass/fastq_runid_852c07bf042182e22f60c3d9425876746c4da9d8_76_3.fastq\n"
     ]
    },
    {
     "name": "stdout",
     "output_type": "stream",
     "text": [
      "[########################################] | 100% Completed | 13.5s\n"
     ]
    },
    {
     "name": "stderr",
     "output_type": "stream",
     "text": [
      "[16:26:01 - __main__] Saving to file: /path/to/data/MinION_sequencing_data_20190828/guppy_3.2.2_08_28_2019_run_01_exec_20190828/sw/fastq_runid_852c07bf042182e22f60c3d9425876746c4da9d8_76_3.tsv\n",
      "[16:26:01 - __main__] Starting fastq (308 of 338)\n",
      "\t/path/to/data/MinION_sequencing_data_20190828/guppy_3.2.2_08_28_2019_run_01_exec_20190828/pass/fastq_runid_852c07bf042182e22f60c3d9425876746c4da9d8_77_0.fastq\n"
     ]
    },
    {
     "name": "stdout",
     "output_type": "stream",
     "text": [
      "[########################################] | 100% Completed | 33.7s\n"
     ]
    },
    {
     "name": "stderr",
     "output_type": "stream",
     "text": [
      "[16:26:35 - __main__] Saving to file: /path/to/data/MinION_sequencing_data_20190828/guppy_3.2.2_08_28_2019_run_01_exec_20190828/sw/fastq_runid_852c07bf042182e22f60c3d9425876746c4da9d8_77_0.tsv\n",
      "[16:26:35 - __main__] Starting fastq (309 of 338)\n",
      "\t/path/to/data/MinION_sequencing_data_20190828/guppy_3.2.2_08_28_2019_run_01_exec_20190828/pass/fastq_runid_852c07bf042182e22f60c3d9425876746c4da9d8_77_1.fastq\n"
     ]
    },
    {
     "name": "stdout",
     "output_type": "stream",
     "text": [
      "[########################################] | 100% Completed |  1min 21.3s\n"
     ]
    },
    {
     "name": "stderr",
     "output_type": "stream",
     "text": [
      "[16:27:56 - __main__] Saving to file: /path/to/data/MinION_sequencing_data_20190828/guppy_3.2.2_08_28_2019_run_01_exec_20190828/sw/fastq_runid_852c07bf042182e22f60c3d9425876746c4da9d8_77_1.tsv\n",
      "[16:27:56 - __main__] Starting fastq (310 of 338)\n",
      "\t/path/to/data/MinION_sequencing_data_20190828/guppy_3.2.2_08_28_2019_run_01_exec_20190828/pass/fastq_runid_852c07bf042182e22f60c3d9425876746c4da9d8_77_2.fastq\n"
     ]
    },
    {
     "name": "stdout",
     "output_type": "stream",
     "text": [
      "[########################################] | 100% Completed | 26.0s\n"
     ]
    },
    {
     "name": "stderr",
     "output_type": "stream",
     "text": [
      "[16:28:23 - __main__] Saving to file: /path/to/data/MinION_sequencing_data_20190828/guppy_3.2.2_08_28_2019_run_01_exec_20190828/sw/fastq_runid_852c07bf042182e22f60c3d9425876746c4da9d8_77_2.tsv\n",
      "[16:28:23 - __main__] Starting fastq (311 of 338)\n",
      "\t/path/to/data/MinION_sequencing_data_20190828/guppy_3.2.2_08_28_2019_run_01_exec_20190828/pass/fastq_runid_852c07bf042182e22f60c3d9425876746c4da9d8_78_0.fastq\n"
     ]
    },
    {
     "name": "stdout",
     "output_type": "stream",
     "text": [
      "[########################################] | 100% Completed | 58.2s\n"
     ]
    },
    {
     "name": "stderr",
     "output_type": "stream",
     "text": [
      "[16:29:21 - __main__] Saving to file: /path/to/data/MinION_sequencing_data_20190828/guppy_3.2.2_08_28_2019_run_01_exec_20190828/sw/fastq_runid_852c07bf042182e22f60c3d9425876746c4da9d8_78_0.tsv\n",
      "[16:29:21 - __main__] Starting fastq (312 of 338)\n",
      "\t/path/to/data/MinION_sequencing_data_20190828/guppy_3.2.2_08_28_2019_run_01_exec_20190828/pass/fastq_runid_852c07bf042182e22f60c3d9425876746c4da9d8_78_1.fastq\n"
     ]
    },
    {
     "name": "stdout",
     "output_type": "stream",
     "text": [
      "[########################################] | 100% Completed | 32.8s\n"
     ]
    },
    {
     "name": "stderr",
     "output_type": "stream",
     "text": [
      "[16:29:54 - __main__] Saving to file: /path/to/data/MinION_sequencing_data_20190828/guppy_3.2.2_08_28_2019_run_01_exec_20190828/sw/fastq_runid_852c07bf042182e22f60c3d9425876746c4da9d8_78_1.tsv\n",
      "[16:29:54 - __main__] Starting fastq (313 of 338)\n",
      "\t/path/to/data/MinION_sequencing_data_20190828/guppy_3.2.2_08_28_2019_run_01_exec_20190828/pass/fastq_runid_852c07bf042182e22f60c3d9425876746c4da9d8_77_3.fastq\n"
     ]
    },
    {
     "name": "stdout",
     "output_type": "stream",
     "text": [
      "[########################################] | 100% Completed |  1.0s\n"
     ]
    },
    {
     "name": "stderr",
     "output_type": "stream",
     "text": [
      "[16:29:56 - __main__] Saving to file: /path/to/data/MinION_sequencing_data_20190828/guppy_3.2.2_08_28_2019_run_01_exec_20190828/sw/fastq_runid_852c07bf042182e22f60c3d9425876746c4da9d8_77_3.tsv\n",
      "[16:29:56 - __main__] Starting fastq (314 of 338)\n",
      "\t/path/to/data/MinION_sequencing_data_20190828/guppy_3.2.2_08_28_2019_run_01_exec_20190828/pass/fastq_runid_852c07bf042182e22f60c3d9425876746c4da9d8_78_2.fastq\n"
     ]
    },
    {
     "name": "stdout",
     "output_type": "stream",
     "text": [
      "[########################################] | 100% Completed | 24.7s\n"
     ]
    },
    {
     "name": "stderr",
     "output_type": "stream",
     "text": [
      "[16:30:21 - __main__] Saving to file: /path/to/data/MinION_sequencing_data_20190828/guppy_3.2.2_08_28_2019_run_01_exec_20190828/sw/fastq_runid_852c07bf042182e22f60c3d9425876746c4da9d8_78_2.tsv\n",
      "[16:30:21 - __main__] Starting fastq (315 of 338)\n",
      "\t/path/to/data/MinION_sequencing_data_20190828/guppy_3.2.2_08_28_2019_run_01_exec_20190828/pass/fastq_runid_852c07bf042182e22f60c3d9425876746c4da9d8_79_0.fastq\n"
     ]
    },
    {
     "name": "stdout",
     "output_type": "stream",
     "text": [
      "[########################################] | 100% Completed | 39.9s\n"
     ]
    },
    {
     "name": "stderr",
     "output_type": "stream",
     "text": [
      "[16:31:01 - __main__] Saving to file: /path/to/data/MinION_sequencing_data_20190828/guppy_3.2.2_08_28_2019_run_01_exec_20190828/sw/fastq_runid_852c07bf042182e22f60c3d9425876746c4da9d8_79_0.tsv\n",
      "[16:31:01 - __main__] Starting fastq (316 of 338)\n",
      "\t/path/to/data/MinION_sequencing_data_20190828/guppy_3.2.2_08_28_2019_run_01_exec_20190828/pass/fastq_runid_852c07bf042182e22f60c3d9425876746c4da9d8_79_1.fastq\n"
     ]
    },
    {
     "name": "stdout",
     "output_type": "stream",
     "text": [
      "[########################################] | 100% Completed |  1min  0.1s\n"
     ]
    },
    {
     "name": "stderr",
     "output_type": "stream",
     "text": [
      "[16:32:01 - __main__] Saving to file: /path/to/data/MinION_sequencing_data_20190828/guppy_3.2.2_08_28_2019_run_01_exec_20190828/sw/fastq_runid_852c07bf042182e22f60c3d9425876746c4da9d8_79_1.tsv\n",
      "[16:32:02 - __main__] Starting fastq (317 of 338)\n",
      "\t/path/to/data/MinION_sequencing_data_20190828/guppy_3.2.2_08_28_2019_run_01_exec_20190828/pass/fastq_runid_852c07bf042182e22f60c3d9425876746c4da9d8_79_2.fastq\n"
     ]
    },
    {
     "name": "stdout",
     "output_type": "stream",
     "text": [
      "[########################################] | 100% Completed | 38.5s\n"
     ]
    },
    {
     "name": "stderr",
     "output_type": "stream",
     "text": [
      "[16:32:40 - __main__] Saving to file: /path/to/data/MinION_sequencing_data_20190828/guppy_3.2.2_08_28_2019_run_01_exec_20190828/sw/fastq_runid_852c07bf042182e22f60c3d9425876746c4da9d8_79_2.tsv\n",
      "[16:32:40 - __main__] Starting fastq (318 of 338)\n",
      "\t/path/to/data/MinION_sequencing_data_20190828/guppy_3.2.2_08_28_2019_run_01_exec_20190828/pass/fastq_runid_852c07bf042182e22f60c3d9425876746c4da9d8_78_3.fastq\n"
     ]
    },
    {
     "name": "stdout",
     "output_type": "stream",
     "text": [
      "[########################################] | 100% Completed | 28.4s\n"
     ]
    },
    {
     "name": "stderr",
     "output_type": "stream",
     "text": [
      "[16:33:09 - __main__] Saving to file: /path/to/data/MinION_sequencing_data_20190828/guppy_3.2.2_08_28_2019_run_01_exec_20190828/sw/fastq_runid_852c07bf042182e22f60c3d9425876746c4da9d8_78_3.tsv\n",
      "[16:33:09 - __main__] Starting fastq (319 of 338)\n",
      "\t/path/to/data/MinION_sequencing_data_20190828/guppy_3.2.2_08_28_2019_run_01_exec_20190828/pass/fastq_runid_852c07bf042182e22f60c3d9425876746c4da9d8_80_0.fastq\n"
     ]
    },
    {
     "name": "stdout",
     "output_type": "stream",
     "text": [
      "[########################################] | 100% Completed |  1min 20.7s\n"
     ]
    },
    {
     "name": "stderr",
     "output_type": "stream",
     "text": [
      "[16:34:30 - __main__] Saving to file: /path/to/data/MinION_sequencing_data_20190828/guppy_3.2.2_08_28_2019_run_01_exec_20190828/sw/fastq_runid_852c07bf042182e22f60c3d9425876746c4da9d8_80_0.tsv\n",
      "[16:34:30 - __main__] Starting fastq (320 of 338)\n",
      "\t/path/to/data/MinION_sequencing_data_20190828/guppy_3.2.2_08_28_2019_run_01_exec_20190828/pass/fastq_runid_852c07bf042182e22f60c3d9425876746c4da9d8_79_3.fastq\n"
     ]
    },
    {
     "name": "stdout",
     "output_type": "stream",
     "text": [
      "[########################################] | 100% Completed |  0.8s\n"
     ]
    },
    {
     "name": "stderr",
     "output_type": "stream",
     "text": [
      "[16:34:31 - __main__] Saving to file: /path/to/data/MinION_sequencing_data_20190828/guppy_3.2.2_08_28_2019_run_01_exec_20190828/sw/fastq_runid_852c07bf042182e22f60c3d9425876746c4da9d8_79_3.tsv\n",
      "[16:34:31 - __main__] Starting fastq (321 of 338)\n",
      "\t/path/to/data/MinION_sequencing_data_20190828/guppy_3.2.2_08_28_2019_run_01_exec_20190828/pass/fastq_runid_852c07bf042182e22f60c3d9425876746c4da9d8_80_1.fastq\n"
     ]
    },
    {
     "name": "stdout",
     "output_type": "stream",
     "text": [
      "[########################################] | 100% Completed |  1.7s\n"
     ]
    },
    {
     "name": "stderr",
     "output_type": "stream",
     "text": [
      "[16:34:33 - __main__] Saving to file: /path/to/data/MinION_sequencing_data_20190828/guppy_3.2.2_08_28_2019_run_01_exec_20190828/sw/fastq_runid_852c07bf042182e22f60c3d9425876746c4da9d8_80_1.tsv\n",
      "[16:34:33 - __main__] Starting fastq (322 of 338)\n",
      "\t/path/to/data/MinION_sequencing_data_20190828/guppy_3.2.2_08_28_2019_run_01_exec_20190828/pass/fastq_runid_852c07bf042182e22f60c3d9425876746c4da9d8_81_0.fastq\n"
     ]
    },
    {
     "name": "stdout",
     "output_type": "stream",
     "text": [
      "[########################################] | 100% Completed | 51.4s\n"
     ]
    },
    {
     "name": "stderr",
     "output_type": "stream",
     "text": [
      "[16:35:25 - __main__] Saving to file: /path/to/data/MinION_sequencing_data_20190828/guppy_3.2.2_08_28_2019_run_01_exec_20190828/sw/fastq_runid_852c07bf042182e22f60c3d9425876746c4da9d8_81_0.tsv\n",
      "[16:35:25 - __main__] Starting fastq (323 of 338)\n",
      "\t/path/to/data/MinION_sequencing_data_20190828/guppy_3.2.2_08_28_2019_run_01_exec_20190828/pass/fastq_runid_852c07bf042182e22f60c3d9425876746c4da9d8_80_2.fastq\n"
     ]
    },
    {
     "name": "stdout",
     "output_type": "stream",
     "text": [
      "[########################################] | 100% Completed | 28.7s\n"
     ]
    },
    {
     "name": "stderr",
     "output_type": "stream",
     "text": [
      "[16:35:54 - __main__] Saving to file: /path/to/data/MinION_sequencing_data_20190828/guppy_3.2.2_08_28_2019_run_01_exec_20190828/sw/fastq_runid_852c07bf042182e22f60c3d9425876746c4da9d8_80_2.tsv\n",
      "[16:35:54 - __main__] Starting fastq (324 of 338)\n",
      "\t/path/to/data/MinION_sequencing_data_20190828/guppy_3.2.2_08_28_2019_run_01_exec_20190828/pass/fastq_runid_852c07bf042182e22f60c3d9425876746c4da9d8_81_1.fastq\n"
     ]
    },
    {
     "name": "stdout",
     "output_type": "stream",
     "text": [
      "[########################################] | 100% Completed |  1min  8.7s\n"
     ]
    },
    {
     "name": "stderr",
     "output_type": "stream",
     "text": [
      "[16:37:03 - __main__] Saving to file: /path/to/data/MinION_sequencing_data_20190828/guppy_3.2.2_08_28_2019_run_01_exec_20190828/sw/fastq_runid_852c07bf042182e22f60c3d9425876746c4da9d8_81_1.tsv\n",
      "[16:37:04 - __main__] Starting fastq (325 of 338)\n",
      "\t/path/to/data/MinION_sequencing_data_20190828/guppy_3.2.2_08_28_2019_run_01_exec_20190828/pass/fastq_runid_852c07bf042182e22f60c3d9425876746c4da9d8_80_3.fastq\n"
     ]
    },
    {
     "name": "stdout",
     "output_type": "stream",
     "text": [
      "[########################################] | 100% Completed | 30.3s\n"
     ]
    },
    {
     "name": "stderr",
     "output_type": "stream",
     "text": [
      "[16:37:34 - __main__] Saving to file: /path/to/data/MinION_sequencing_data_20190828/guppy_3.2.2_08_28_2019_run_01_exec_20190828/sw/fastq_runid_852c07bf042182e22f60c3d9425876746c4da9d8_80_3.tsv\n",
      "[16:37:34 - __main__] Starting fastq (326 of 338)\n",
      "\t/path/to/data/MinION_sequencing_data_20190828/guppy_3.2.2_08_28_2019_run_01_exec_20190828/pass/fastq_runid_852c07bf042182e22f60c3d9425876746c4da9d8_82_0.fastq\n"
     ]
    },
    {
     "name": "stdout",
     "output_type": "stream",
     "text": [
      "[########################################] | 100% Completed |  1min  0.1s\n"
     ]
    },
    {
     "name": "stderr",
     "output_type": "stream",
     "text": [
      "[16:38:34 - __main__] Saving to file: /path/to/data/MinION_sequencing_data_20190828/guppy_3.2.2_08_28_2019_run_01_exec_20190828/sw/fastq_runid_852c07bf042182e22f60c3d9425876746c4da9d8_82_0.tsv\n",
      "[16:38:35 - __main__] Starting fastq (327 of 338)\n",
      "\t/path/to/data/MinION_sequencing_data_20190828/guppy_3.2.2_08_28_2019_run_01_exec_20190828/pass/fastq_runid_852c07bf042182e22f60c3d9425876746c4da9d8_81_2.fastq\n"
     ]
    },
    {
     "name": "stdout",
     "output_type": "stream",
     "text": [
      "[########################################] | 100% Completed |  7.2s\n"
     ]
    },
    {
     "name": "stderr",
     "output_type": "stream",
     "text": [
      "[16:38:42 - __main__] Saving to file: /path/to/data/MinION_sequencing_data_20190828/guppy_3.2.2_08_28_2019_run_01_exec_20190828/sw/fastq_runid_852c07bf042182e22f60c3d9425876746c4da9d8_81_2.tsv\n",
      "[16:38:42 - __main__] Starting fastq (328 of 338)\n",
      "\t/path/to/data/MinION_sequencing_data_20190828/guppy_3.2.2_08_28_2019_run_01_exec_20190828/pass/fastq_runid_852c07bf042182e22f60c3d9425876746c4da9d8_82_1.fastq\n"
     ]
    },
    {
     "name": "stdout",
     "output_type": "stream",
     "text": [
      "[########################################] | 100% Completed | 48.8s\n"
     ]
    },
    {
     "name": "stderr",
     "output_type": "stream",
     "text": [
      "[16:39:31 - __main__] Saving to file: /path/to/data/MinION_sequencing_data_20190828/guppy_3.2.2_08_28_2019_run_01_exec_20190828/sw/fastq_runid_852c07bf042182e22f60c3d9425876746c4da9d8_82_1.tsv\n",
      "[16:39:31 - __main__] Starting fastq (329 of 338)\n",
      "\t/path/to/data/MinION_sequencing_data_20190828/guppy_3.2.2_08_28_2019_run_01_exec_20190828/pass/fastq_runid_852c07bf042182e22f60c3d9425876746c4da9d8_81_3.fastq\n"
     ]
    },
    {
     "name": "stdout",
     "output_type": "stream",
     "text": [
      "[########################################] | 100% Completed | 12.7s\n"
     ]
    },
    {
     "name": "stderr",
     "output_type": "stream",
     "text": [
      "[16:39:44 - __main__] Saving to file: /path/to/data/MinION_sequencing_data_20190828/guppy_3.2.2_08_28_2019_run_01_exec_20190828/sw/fastq_runid_852c07bf042182e22f60c3d9425876746c4da9d8_81_3.tsv\n",
      "[16:39:44 - __main__] Starting fastq (330 of 338)\n",
      "\t/path/to/data/MinION_sequencing_data_20190828/guppy_3.2.2_08_28_2019_run_01_exec_20190828/pass/fastq_runid_852c07bf042182e22f60c3d9425876746c4da9d8_82_2.fastq\n"
     ]
    },
    {
     "name": "stdout",
     "output_type": "stream",
     "text": [
      "[########################################] | 100% Completed | 14.8s\n"
     ]
    },
    {
     "name": "stderr",
     "output_type": "stream",
     "text": [
      "[16:39:59 - __main__] Saving to file: /path/to/data/MinION_sequencing_data_20190828/guppy_3.2.2_08_28_2019_run_01_exec_20190828/sw/fastq_runid_852c07bf042182e22f60c3d9425876746c4da9d8_82_2.tsv\n",
      "[16:39:59 - __main__] Starting fastq (331 of 338)\n",
      "\t/path/to/data/MinION_sequencing_data_20190828/guppy_3.2.2_08_28_2019_run_01_exec_20190828/pass/fastq_runid_852c07bf042182e22f60c3d9425876746c4da9d8_83_0.fastq\n"
     ]
    },
    {
     "name": "stdout",
     "output_type": "stream",
     "text": [
      "[########################################] | 100% Completed | 35.2s\n"
     ]
    },
    {
     "name": "stderr",
     "output_type": "stream",
     "text": [
      "[16:40:35 - __main__] Saving to file: /path/to/data/MinION_sequencing_data_20190828/guppy_3.2.2_08_28_2019_run_01_exec_20190828/sw/fastq_runid_852c07bf042182e22f60c3d9425876746c4da9d8_83_0.tsv\n",
      "[16:40:35 - __main__] Starting fastq (332 of 338)\n",
      "\t/path/to/data/MinION_sequencing_data_20190828/guppy_3.2.2_08_28_2019_run_01_exec_20190828/pass/fastq_runid_852c07bf042182e22f60c3d9425876746c4da9d8_82_3.fastq\n"
     ]
    },
    {
     "name": "stdout",
     "output_type": "stream",
     "text": [
      "[########################################] | 100% Completed | 15.6s\n"
     ]
    },
    {
     "name": "stderr",
     "output_type": "stream",
     "text": [
      "[16:40:51 - __main__] Saving to file: /path/to/data/MinION_sequencing_data_20190828/guppy_3.2.2_08_28_2019_run_01_exec_20190828/sw/fastq_runid_852c07bf042182e22f60c3d9425876746c4da9d8_82_3.tsv\n",
      "[16:40:51 - __main__] Starting fastq (333 of 338)\n",
      "\t/path/to/data/MinION_sequencing_data_20190828/guppy_3.2.2_08_28_2019_run_01_exec_20190828/pass/fastq_runid_852c07bf042182e22f60c3d9425876746c4da9d8_83_1.fastq\n"
     ]
    },
    {
     "name": "stdout",
     "output_type": "stream",
     "text": [
      "[########################################] | 100% Completed |  4.5s\n"
     ]
    },
    {
     "name": "stderr",
     "output_type": "stream",
     "text": [
      "[16:40:56 - __main__] Saving to file: /path/to/data/MinION_sequencing_data_20190828/guppy_3.2.2_08_28_2019_run_01_exec_20190828/sw/fastq_runid_852c07bf042182e22f60c3d9425876746c4da9d8_83_1.tsv\n",
      "[16:40:56 - __main__] Starting fastq (334 of 338)\n",
      "\t/path/to/data/MinION_sequencing_data_20190828/guppy_3.2.2_08_28_2019_run_01_exec_20190828/pass/fastq_runid_852c07bf042182e22f60c3d9425876746c4da9d8_84_0.fastq\n"
     ]
    },
    {
     "name": "stdout",
     "output_type": "stream",
     "text": [
      "[########################################] | 100% Completed | 16.3s\n"
     ]
    },
    {
     "name": "stderr",
     "output_type": "stream",
     "text": [
      "[16:41:12 - __main__] Saving to file: /path/to/data/MinION_sequencing_data_20190828/guppy_3.2.2_08_28_2019_run_01_exec_20190828/sw/fastq_runid_852c07bf042182e22f60c3d9425876746c4da9d8_84_0.tsv\n",
      "[16:41:12 - __main__] Starting fastq (335 of 338)\n",
      "\t/path/to/data/MinION_sequencing_data_20190828/guppy_3.2.2_08_28_2019_run_01_exec_20190828/pass/fastq_runid_852c07bf042182e22f60c3d9425876746c4da9d8_84_1.fastq\n"
     ]
    },
    {
     "name": "stdout",
     "output_type": "stream",
     "text": [
      "[########################################] | 100% Completed |  1min 17.4s\n"
     ]
    },
    {
     "name": "stderr",
     "output_type": "stream",
     "text": [
      "[16:42:30 - __main__] Saving to file: /path/to/data/MinION_sequencing_data_20190828/guppy_3.2.2_08_28_2019_run_01_exec_20190828/sw/fastq_runid_852c07bf042182e22f60c3d9425876746c4da9d8_84_1.tsv\n",
      "[16:42:30 - __main__] Starting fastq (336 of 338)\n",
      "\t/path/to/data/MinION_sequencing_data_20190828/guppy_3.2.2_08_28_2019_run_01_exec_20190828/pass/fastq_runid_852c07bf042182e22f60c3d9425876746c4da9d8_84_2.fastq\n"
     ]
    },
    {
     "name": "stdout",
     "output_type": "stream",
     "text": [
      "[########################################] | 100% Completed | 32.6s\n"
     ]
    },
    {
     "name": "stderr",
     "output_type": "stream",
     "text": [
      "[16:43:03 - __main__] Saving to file: /path/to/data/MinION_sequencing_data_20190828/guppy_3.2.2_08_28_2019_run_01_exec_20190828/sw/fastq_runid_852c07bf042182e22f60c3d9425876746c4da9d8_84_2.tsv\n",
      "[16:43:03 - __main__] Starting fastq (337 of 338)\n",
      "\t/path/to/data/MinION_sequencing_data_20190828/guppy_3.2.2_08_28_2019_run_01_exec_20190828/pass/fastq_runid_852c07bf042182e22f60c3d9425876746c4da9d8_84_3.fastq\n"
     ]
    },
    {
     "name": "stdout",
     "output_type": "stream",
     "text": [
      "[########################################] | 100% Completed | 17.8s\n"
     ]
    },
    {
     "name": "stderr",
     "output_type": "stream",
     "text": [
      "[16:43:21 - __main__] Saving to file: /path/to/data/MinION_sequencing_data_20190828/guppy_3.2.2_08_28_2019_run_01_exec_20190828/sw/fastq_runid_852c07bf042182e22f60c3d9425876746c4da9d8_84_3.tsv\n"
     ]
    }
   ],
   "source": [
    "run_sw(fastq_dir, sw_dir, search_len=80, cost_fn=cost_fn, molbit_fa=molbit_file, n_workers=40)"
   ]
  },
  {
   "cell_type": "code",
   "execution_count": 13,
   "metadata": {
    "ExecuteTime": {
     "end_time": "2019-08-28T23:43:25.983165Z",
     "start_time": "2019-08-28T23:43:21.445222Z"
    }
   },
   "outputs": [],
   "source": [
    "sw_list = []\n",
    "for fname in os.listdir(sw_dir):\n",
    "    if \"all\" in fname:\n",
    "        continue\n",
    "    sw_tsv = os.path.join(sw_dir, fname)\n",
    "    sw = pd.read_csv(sw_tsv, sep=\"\\t\", index_col=0)\n",
    "    sw_list.append(sw)\n",
    "sw = pd.concat(sw_list)\n",
    "del sw_list"
   ]
  },
  {
   "cell_type": "code",
   "execution_count": 14,
   "metadata": {
    "ExecuteTime": {
     "end_time": "2019-08-28T23:43:26.149273Z",
     "start_time": "2019-08-28T23:43:25.985512Z"
    }
   },
   "outputs": [],
   "source": [
    "sw_arr = np.array(sw)"
   ]
  },
  {
   "cell_type": "code",
   "execution_count": 15,
   "metadata": {
    "ExecuteTime": {
     "end_time": "2019-08-28T23:43:26.716059Z",
     "start_time": "2019-08-28T23:43:26.151254Z"
    }
   },
   "outputs": [],
   "source": [
    "max_sw = np.max(sw_arr, axis=1)\n",
    "sw_arr[range(len(sw_arr)), np.argmax(sw_arr, axis=1)] = 0\n",
    "second_best_sw = np.max(sw_arr, axis=1)\n",
    "sw_arr = np.array(sw)"
   ]
  },
  {
   "cell_type": "markdown",
   "metadata": {},
   "source": [
    "## Plot alignment scores for basic overview of performance"
   ]
  },
  {
   "cell_type": "code",
   "execution_count": 16,
   "metadata": {
    "ExecuteTime": {
     "end_time": "2019-08-28T23:43:31.283950Z",
     "start_time": "2019-08-28T23:43:26.718145Z"
    },
    "scrolled": true
   },
   "outputs": [
    {
     "data": {
      "text/plain": [
       "<matplotlib.lines.Line2D at 0x7fd23a80a780>"
      ]
     },
     "execution_count": 16,
     "metadata": {},
     "output_type": "execute_result"
    },
    {
     "name": "stderr",
     "output_type": "stream",
     "text": [
      "[16:43:27 - matplotlib.font_manager] findfont: Matching :family=sans-serif:style=normal:variant=normal:weight=normal:stretch=normal:size=19.8.\n",
      "[16:43:27 - matplotlib.font_manager] findfont: score(<Font 'STIXSizeThreeSym' (STIXSizThreeSymBol.ttf) normal normal bold normal>) = 10.335\n",
      "[16:43:27 - matplotlib.font_manager] findfont: score(<Font 'STIXSizeFourSym' (STIXSizFourSymBol.ttf) normal normal bold normal>) = 10.335\n",
      "[16:43:27 - matplotlib.font_manager] findfont: score(<Font 'DejaVu Sans Mono' (DejaVuSansMono-Oblique.ttf) oblique normal 400 normal>) = 11.05\n",
      "[16:43:27 - matplotlib.font_manager] findfont: score(<Font 'DejaVu Sans' (DejaVuSans-BoldOblique.ttf) oblique normal bold normal>) = 3.335\n",
      "[16:43:27 - matplotlib.font_manager] findfont: score(<Font 'STIXNonUnicode' (STIXNonUni.ttf) normal normal regular normal>) = 10.05\n",
      "[16:43:27 - matplotlib.font_manager] findfont: score(<Font 'STIXSizeFourSym' (STIXSizFourSymReg.ttf) normal normal regular normal>) = 10.05\n",
      "[16:43:27 - matplotlib.font_manager] findfont: score(<Font 'STIXGeneral' (STIXGeneral.ttf) normal normal regular normal>) = 10.05\n",
      "[16:43:27 - matplotlib.font_manager] findfont: score(<Font 'STIXSizeFiveSym' (STIXSizFiveSymReg.ttf) normal normal regular normal>) = 10.05\n",
      "[16:43:27 - matplotlib.font_manager] findfont: score(<Font 'DejaVu Serif' (DejaVuSerif-BoldItalic.ttf) italic normal bold normal>) = 11.335\n",
      "[16:43:27 - matplotlib.font_manager] findfont: score(<Font 'STIXNonUnicode' (STIXNonUniBol.ttf) normal normal bold normal>) = 10.335\n",
      "[16:43:27 - matplotlib.font_manager] findfont: score(<Font 'DejaVu Serif' (DejaVuSerif-Italic.ttf) italic normal 400 normal>) = 11.05\n",
      "[16:43:27 - matplotlib.font_manager] findfont: score(<Font 'cmss10' (cmss10.ttf) normal normal 400 normal>) = 10.05\n",
      "[16:43:27 - matplotlib.font_manager] findfont: score(<Font 'STIXSizeThreeSym' (STIXSizThreeSymReg.ttf) normal normal regular normal>) = 10.05\n",
      "[16:43:27 - matplotlib.font_manager] findfont: score(<Font 'STIXSizeOneSym' (STIXSizOneSymBol.ttf) normal normal bold normal>) = 10.335\n",
      "[16:43:27 - matplotlib.font_manager] findfont: score(<Font 'cmr10' (cmr10.ttf) normal normal 400 normal>) = 10.05\n",
      "[16:43:27 - matplotlib.font_manager] findfont: score(<Font 'STIXGeneral' (STIXGeneralBol.ttf) normal normal bold normal>) = 10.335\n",
      "[16:43:27 - matplotlib.font_manager] findfont: score(<Font 'cmb10' (cmb10.ttf) normal normal 400 normal>) = 10.05\n",
      "[16:43:27 - matplotlib.font_manager] findfont: score(<Font 'STIXGeneral' (STIXGeneralBolIta.ttf) italic normal bold normal>) = 11.335\n",
      "[16:43:27 - matplotlib.font_manager] findfont: score(<Font 'STIXGeneral' (STIXGeneralItalic.ttf) italic normal 400 normal>) = 11.05\n",
      "[16:43:27 - matplotlib.font_manager] findfont: score(<Font 'cmsy10' (cmsy10.ttf) normal normal 400 normal>) = 10.05\n",
      "[16:43:27 - matplotlib.font_manager] findfont: score(<Font 'STIXNonUnicode' (STIXNonUniBolIta.ttf) italic normal bold normal>) = 11.335\n",
      "[16:43:27 - matplotlib.font_manager] findfont: score(<Font 'DejaVu Sans' (DejaVuSans-Bold.ttf) normal normal bold normal>) = 2.335\n",
      "[16:43:27 - matplotlib.font_manager] findfont: score(<Font 'cmex10' (cmex10.ttf) normal normal 400 normal>) = 10.05\n",
      "[16:43:27 - matplotlib.font_manager] findfont: score(<Font 'DejaVu Sans' (DejaVuSans-Oblique.ttf) oblique normal 400 normal>) = 3.05\n",
      "[16:43:27 - matplotlib.font_manager] findfont: score(<Font 'DejaVu Sans' (DejaVuSans.ttf) normal normal 400 normal>) = 2.05\n",
      "[16:43:27 - matplotlib.font_manager] findfont: score(<Font 'DejaVu Serif' (DejaVuSerif-Bold.ttf) normal normal bold normal>) = 10.335\n",
      "[16:43:27 - matplotlib.font_manager] findfont: score(<Font 'STIXSizeTwoSym' (STIXSizTwoSymBol.ttf) normal normal bold normal>) = 10.335\n",
      "[16:43:27 - matplotlib.font_manager] findfont: score(<Font 'DejaVu Sans Mono' (DejaVuSansMono-BoldOblique.ttf) oblique normal bold normal>) = 11.335\n",
      "[16:43:27 - matplotlib.font_manager] findfont: score(<Font 'cmtt10' (cmtt10.ttf) normal normal 400 normal>) = 10.05\n",
      "[16:43:27 - matplotlib.font_manager] findfont: score(<Font 'DejaVu Serif' (DejaVuSerif.ttf) normal normal 400 normal>) = 10.05\n",
      "[16:43:27 - matplotlib.font_manager] findfont: score(<Font 'cmmi10' (cmmi10.ttf) normal normal 400 normal>) = 10.05\n",
      "[16:43:27 - matplotlib.font_manager] findfont: score(<Font 'DejaVu Sans Display' (DejaVuSansDisplay.ttf) normal normal 400 normal>) = 10.05\n",
      "[16:43:27 - matplotlib.font_manager] findfont: score(<Font 'STIXSizeTwoSym' (STIXSizTwoSymReg.ttf) normal normal regular normal>) = 10.05\n",
      "[16:43:27 - matplotlib.font_manager] findfont: score(<Font 'STIXNonUnicode' (STIXNonUniIta.ttf) italic normal 400 normal>) = 11.05\n",
      "[16:43:27 - matplotlib.font_manager] findfont: score(<Font 'DejaVu Sans Mono' (DejaVuSansMono.ttf) normal normal 400 normal>) = 10.05\n",
      "[16:43:27 - matplotlib.font_manager] findfont: score(<Font 'DejaVu Serif Display' (DejaVuSerifDisplay.ttf) normal normal 400 normal>) = 10.05\n",
      "[16:43:27 - matplotlib.font_manager] findfont: score(<Font 'DejaVu Sans Mono' (DejaVuSansMono-Bold.ttf) normal normal bold normal>) = 10.335\n",
      "[16:43:27 - matplotlib.font_manager] findfont: score(<Font 'STIXSizeOneSym' (STIXSizOneSymReg.ttf) normal normal regular normal>) = 10.05\n",
      "[16:43:27 - matplotlib.font_manager] findfont: score(<Font 'FreeSerif' (FreeSerif.ttf) normal normal 400 normal>) = 10.05\n",
      "[16:43:27 - matplotlib.font_manager] findfont: score(<Font 'PT Sans Narrow' (PTN57F.ttf) normal normal 400 condensed>) = 10.25\n",
      "[16:43:27 - matplotlib.font_manager] findfont: score(<Font 'Source Han Sans CN' (SourceHanSansCN-Light.otf) normal normal light normal>) = 10.24\n",
      "[16:43:27 - matplotlib.font_manager] findfont: score(<Font 'Khmer OS Content' (KhmerOS_content.ttf) normal normal 400 normal>) = 10.05\n",
      "[16:43:27 - matplotlib.font_manager] findfont: score(<Font 'PT Sans' (PTS76F.ttf) italic normal bold normal>) = 11.335\n",
      "[16:43:27 - matplotlib.font_manager] findfont: score(<Font 'PT Sans' (PTS56F.ttf) italic normal 400 normal>) = 11.05\n",
      "[16:43:27 - matplotlib.font_manager] findfont: score(<Font 'Caladea' (Caladea-Italic.ttf) italic normal 400 normal>) = 11.05\n",
      "[16:43:27 - matplotlib.font_manager] findfont: score(<Font 'Cantarell' (Cantarell-BoldOblique.otf) oblique normal bold normal>) = 11.335\n",
      "[16:43:27 - matplotlib.font_manager] findfont: score(<Font 'Source Han Sans TWHK' (SourceHanSansTWHK-Heavy.otf) normal normal bold normal>) = 10.335\n",
      "[16:43:27 - matplotlib.font_manager] findfont: score(<Font 'DejaVu Sans' (DejaVuSansCondensed.ttf) normal normal 400 condensed>) = 2.25\n",
      "[16:43:27 - matplotlib.font_manager] findfont: score(<Font 'Carlito' (Carlito-Bold.ttf) normal normal bold normal>) = 10.335\n",
      "[16:43:27 - matplotlib.font_manager] findfont: score(<Font 'Liberation Sans' (LiberationSans-Italic.ttf) italic normal 400 normal>) = 5.05\n",
      "[16:43:27 - matplotlib.font_manager] findfont: score(<Font 'Source Han Sans CN' (SourceHanSansCN-Regular.otf) normal normal regular normal>) = 10.05\n",
      "[16:43:27 - matplotlib.font_manager] findfont: score(<Font 'DejaVu Sans' (DejaVuSansCondensed-Oblique.ttf) oblique normal 400 condensed>) = 3.25\n",
      "[16:43:27 - matplotlib.font_manager] findfont: score(<Font 'Source Han Sans TWHK' (SourceHanSansTWHK-Normal.otf) normal normal normal normal>) = 10.0\n",
      "[16:43:27 - matplotlib.font_manager] findfont: score(<Font 'Liberation Mono' (LiberationMono-Regular.ttf) normal normal 400 normal>) = 10.05\n",
      "[16:43:27 - matplotlib.font_manager] findfont: score(<Font 'Cantarell' (Cantarell-Regular.otf) normal normal regular normal>) = 10.05\n",
      "[16:43:27 - matplotlib.font_manager] findfont: score(<Font 'NanumGothic' (NanumGothicBold.ttf) normal normal bold normal>) = 10.335\n",
      "[16:43:27 - matplotlib.font_manager] findfont: score(<Font 'Cantarell' (Cantarell-Oblique.otf) oblique normal 400 normal>) = 11.05\n",
      "[16:43:27 - matplotlib.font_manager] findfont: score(<Font 'Nuosu SIL' (NuosuSIL.ttf) normal normal 400 normal>) = 10.05\n",
      "[16:43:27 - matplotlib.font_manager] findfont: score(<Font 'Source Han Sans TWHK' (SourceHanSansTWHK-Medium.otf) normal normal medium normal>) = 10.145\n",
      "[16:43:27 - matplotlib.font_manager] findfont: score(<Font 'Carlito' (Carlito-Italic.ttf) italic normal 400 normal>) = 11.05\n",
      "[16:43:27 - matplotlib.font_manager] findfont: score(<Font 'FreeSerif' (FreeSerifBoldItalic.ttf) italic normal bold normal>) = 11.335\n"
     ]
    },
    {
     "name": "stderr",
     "output_type": "stream",
     "text": [
      "[16:43:27 - matplotlib.font_manager] findfont: score(<Font 'Source Han Sans CN' (SourceHanSansCN-ExtraLight.otf) normal normal light normal>) = 10.24\n",
      "[16:43:27 - matplotlib.font_manager] findfont: score(<Font 'Meera' (Meera.ttf) normal normal 400 normal>) = 10.05\n",
      "[16:43:27 - matplotlib.font_manager] findfont: score(<Font 'Lohit Gujarati' (Lohit-Gujarati.ttf) normal normal 400 normal>) = 10.05\n",
      "[16:43:27 - matplotlib.font_manager] findfont: score(<Font 'PT Sans' (PTS75F.ttf) normal normal bold normal>) = 10.335\n",
      "[16:43:27 - matplotlib.font_manager] findfont: score(<Font 'PakType Naqsh' (PakType_Naqsh.ttf) normal normal 400 normal>) = 10.05\n",
      "[16:43:27 - matplotlib.font_manager] findfont: score(<Font 'FreeMono' (FreeMonoBold.ttf) normal normal bold normal>) = 10.335\n",
      "[16:43:27 - matplotlib.font_manager] findfont: score(<Font 'Source Han Sans CN' (SourceHanSansCN-Medium.otf) normal normal medium normal>) = 10.145\n",
      "[16:43:27 - matplotlib.font_manager] findfont: score(<Font 'Carlito' (Carlito-BoldItalic.ttf) italic normal bold normal>) = 11.335\n",
      "[16:43:27 - matplotlib.font_manager] findfont: score(<Font 'Caladea' (Caladea-Regular.ttf) normal normal 400 normal>) = 10.05\n",
      "[16:43:27 - matplotlib.font_manager] findfont: score(<Font 'DejaVu Serif' (DejaVuSerifCondensed.ttf) normal normal 400 condensed>) = 10.25\n",
      "[16:43:27 - matplotlib.font_manager] findfont: score(<Font 'STIX' (STIX-Bold.otf) normal normal bold normal>) = 10.335\n",
      "[16:43:27 - matplotlib.font_manager] findfont: score(<Font 'AR PL UMing CN' (uming.ttc) normal normal 400 normal>) = 10.05\n",
      "[16:43:27 - matplotlib.font_manager] findfont: score(<Font 'STIX' (STIX-BoldItalic.otf) italic normal bold normal>) = 11.335\n",
      "[16:43:27 - matplotlib.font_manager] findfont: score(<Font 'DejaVu Serif' (DejaVuSerifCondensed-Bold.ttf) normal normal bold condensed>) = 10.535\n",
      "[16:43:27 - matplotlib.font_manager] findfont: score(<Font 'Liberation Serif' (LiberationSerif-BoldItalic.ttf) italic normal bold normal>) = 11.335\n",
      "[16:43:27 - matplotlib.font_manager] findfont: score(<Font 'FreeSans' (FreeSans.ttf) normal normal 400 normal>) = 10.05\n",
      "[16:43:27 - matplotlib.font_manager] findfont: score(<Font 'Waree' (Waree.ttf) normal normal 400 normal>) = 10.05\n",
      "[16:43:27 - matplotlib.font_manager] findfont: score(<Font 'Waree' (Waree-Bold.ttf) normal normal bold normal>) = 10.335\n",
      "[16:43:27 - matplotlib.font_manager] findfont: score(<Font 'FreeSans' (FreeSansBoldOblique.ttf) oblique normal bold normal>) = 11.335\n",
      "[16:43:27 - matplotlib.font_manager] findfont: score(<Font 'FreeMono' (FreeMono.ttf) normal normal 400 normal>) = 10.05\n",
      "[16:43:27 - matplotlib.font_manager] findfont: score(<Font 'Noto Sans Tagalog' (NotoSansTagalog-Regular.ttf) normal normal 400 normal>) = 10.05\n",
      "[16:43:27 - matplotlib.font_manager] findfont: score(<Font 'Lohit Tamil' (Lohit-Tamil.ttf) normal normal 400 normal>) = 10.05\n",
      "[16:43:27 - matplotlib.font_manager] findfont: score(<Font 'DejaVu Serif' (DejaVuSerifCondensed-Italic.ttf) italic normal 400 condensed>) = 11.25\n",
      "[16:43:27 - matplotlib.font_manager] findfont: score(<Font 'Caladea' (Caladea-BoldItalic.ttf) italic normal bold normal>) = 11.335\n",
      "[16:43:27 - matplotlib.font_manager] findfont: score(<Font 'Source Han Sans CN' (SourceHanSansCN-Normal.otf) normal normal normal normal>) = 10.0\n",
      "[16:43:27 - matplotlib.font_manager] findfont: score(<Font 'FreeMono' (FreeMonoBoldOblique.ttf) oblique normal bold normal>) = 11.335\n",
      "[16:43:27 - matplotlib.font_manager] findfont: score(<Font 'DejaVu Serif' (DejaVuSerifCondensed-BoldItalic.ttf) italic normal bold condensed>) = 11.535\n",
      "[16:43:27 - matplotlib.font_manager] findfont: score(<Font 'Source Han Sans TWHK' (SourceHanSansTWHK-ExtraLight.otf) normal normal light normal>) = 10.24\n",
      "[16:43:27 - matplotlib.font_manager] findfont: score(<Font 'Khmer OS' (KhmerOS.ttf) normal normal 400 normal>) = 10.05\n",
      "[16:43:27 - matplotlib.font_manager] findfont: score(<Font 'Liberation Sans' (LiberationSans-BoldItalic.ttf) italic normal bold normal>) = 5.335\n",
      "[16:43:27 - matplotlib.font_manager] findfont: score(<Font 'Liberation Serif' (LiberationSerif-Italic.ttf) italic normal 400 normal>) = 11.05\n",
      "[16:43:27 - matplotlib.font_manager] findfont: score(<Font 'Padauk' (Padauk.ttf) normal normal 400 normal>) = 10.05\n",
      "[16:43:27 - matplotlib.font_manager] findfont: score(<Font 'DejaVu Sans' (DejaVuSansCondensed-BoldOblique.ttf) oblique normal bold condensed>) = 3.535\n",
      "[16:43:27 - matplotlib.font_manager] findfont: score(<Font 'Noto Sans Mandaic' (NotoSansMandaic-Regular.ttf) normal normal 400 normal>) = 10.05\n",
      "[16:43:27 - matplotlib.font_manager] findfont: score(<Font 'FreeSans' (FreeSansBold.ttf) normal normal bold normal>) = 10.335\n",
      "[16:43:27 - matplotlib.font_manager] findfont: score(<Font 'STIX' (STIX-Italic.otf) italic normal 400 normal>) = 11.05\n",
      "[16:43:27 - matplotlib.font_manager] findfont: score(<Font 'Noto Sans Tai Viet' (NotoSansTaiViet-Regular.ttf) normal normal 400 normal>) = 10.05\n",
      "[16:43:27 - matplotlib.font_manager] findfont: score(<Font 'Source Han Sans TWHK' (SourceHanSansTWHK-Bold.otf) normal normal bold normal>) = 10.335\n",
      "[16:43:27 - matplotlib.font_manager] findfont: score(<Font 'NanumGothic' (NanumGothic.ttf) normal normal 400 normal>) = 10.05\n",
      "[16:43:27 - matplotlib.font_manager] findfont: score(<Font 'Waree' (Waree-Oblique.ttf) oblique normal 400 normal>) = 11.05\n",
      "[16:43:27 - matplotlib.font_manager] findfont: score(<Font 'Liberation Sans' (LiberationSans-Bold.ttf) normal normal bold normal>) = 4.335\n",
      "[16:43:27 - matplotlib.font_manager] findfont: score(<Font 'Source Han Sans TWHK' (SourceHanSansTWHK-Light.otf) normal normal light normal>) = 10.24\n",
      "[16:43:27 - matplotlib.font_manager] findfont: score(<Font 'Liberation Mono' (LiberationMono-BoldItalic.ttf) italic normal bold normal>) = 11.335\n",
      "[16:43:27 - matplotlib.font_manager] findfont: score(<Font 'Cantarell' (Cantarell-Bold.otf) normal normal bold normal>) = 10.335\n",
      "[16:43:27 - matplotlib.font_manager] findfont: score(<Font 'Liberation Sans' (LiberationSans-Regular.ttf) normal normal 400 normal>) = 4.05\n",
      "[16:43:27 - matplotlib.font_manager] findfont: score(<Font 'NanumGothic' (NanumGothicExtraBold.ttf) normal normal bold normal>) = 10.335\n",
      "[16:43:27 - matplotlib.font_manager] findfont: score(<Font 'Source Han Sans TWHK' (SourceHanSansTWHK-Regular.otf) normal normal regular normal>) = 10.05\n",
      "[16:43:27 - matplotlib.font_manager] findfont: score(<Font 'FreeSans' (FreeSansOblique.ttf) oblique normal 400 normal>) = 11.05\n",
      "[16:43:27 - matplotlib.font_manager] findfont: score(<Font 'Lohit Bengali' (Lohit-Bengali.ttf) normal normal 400 normal>) = 10.05\n",
      "[16:43:27 - matplotlib.font_manager] findfont: score(<Font 'Lohit Punjabi' (Lohit-Punjabi.ttf) normal normal 400 normal>) = 10.05\n",
      "[16:43:27 - matplotlib.font_manager] findfont: score(<Font 'FreeMono' (FreeMonoOblique.ttf) oblique normal 400 normal>) = 11.05\n",
      "[16:43:27 - matplotlib.font_manager] findfont: score(<Font 'Caladea' (Caladea-Bold.ttf) normal normal bold normal>) = 10.335\n",
      "[16:43:27 - matplotlib.font_manager] findfont: score(<Font 'Source Han Sans CN' (SourceHanSansCN-Bold.otf) normal normal bold normal>) = 10.335\n",
      "[16:43:27 - matplotlib.font_manager] findfont: score(<Font 'FreeSerif' (FreeSerifItalic.ttf) italic normal 400 normal>) = 11.05\n",
      "[16:43:27 - matplotlib.font_manager] findfont: score(<Font 'Source Han Sans CN' (SourceHanSansCN-Heavy.otf) normal normal bold normal>) = 10.335\n",
      "[16:43:27 - matplotlib.font_manager] findfont: score(<Font 'Liberation Serif' (LiberationSerif-Regular.ttf) normal normal 400 normal>) = 10.05\n",
      "[16:43:27 - matplotlib.font_manager] findfont: score(<Font 'Jomolhari' (Jomolhari-alpha3c-0605331.ttf) normal normal 400 normal>) = 10.05\n",
      "[16:43:27 - matplotlib.font_manager] findfont: score(<Font 'Liberation Mono' (LiberationMono-Italic.ttf) italic normal 400 normal>) = 11.05\n",
      "[16:43:27 - matplotlib.font_manager] findfont: score(<Font 'DejaVu Sans' (DejaVuSansCondensed-Bold.ttf) normal normal bold condensed>) = 2.535\n",
      "[16:43:27 - matplotlib.font_manager] findfont: score(<Font 'Khmer OS System' (KhmerOS_sys.ttf) normal normal 400 normal>) = 10.05\n",
      "[16:43:27 - matplotlib.font_manager] findfont: score(<Font 'Noto Sans Tai Tham' (NotoSansTaiTham-Regular.ttf) normal normal 400 normal>) = 10.05\n"
     ]
    },
    {
     "name": "stderr",
     "output_type": "stream",
     "text": [
      "[16:43:27 - matplotlib.font_manager] findfont: score(<Font 'Lohit Assamese' (Lohit-Assamese.ttf) normal normal 400 normal>) = 10.05\n",
      "[16:43:27 - matplotlib.font_manager] findfont: score(<Font 'VL Gothic' (VL-Gothic-Regular.ttf) normal normal regular normal>) = 10.05\n",
      "[16:43:27 - matplotlib.font_manager] findfont: score(<Font 'Noto Sans Lisu' (NotoSansLisu-Regular.ttf) normal normal 400 normal>) = 10.05\n",
      "[16:43:27 - matplotlib.font_manager] findfont: score(<Font 'Carlito' (Carlito-Regular.ttf) normal normal 400 normal>) = 10.05\n",
      "[16:43:27 - matplotlib.font_manager] findfont: score(<Font 'DejaVu Sans' (DejaVuSans-ExtraLight.ttf) normal normal light normal>) = 2.24\n",
      "[16:43:27 - matplotlib.font_manager] findfont: score(<Font 'Waree' (Waree-BoldOblique.ttf) oblique normal bold normal>) = 11.335\n",
      "[16:43:27 - matplotlib.font_manager] findfont: score(<Font 'STIX' (STIX-Regular.otf) normal normal regular normal>) = 10.05\n",
      "[16:43:27 - matplotlib.font_manager] findfont: score(<Font 'Lohit Oriya' (Lohit-Oriya.ttf) normal normal 400 normal>) = 10.05\n",
      "[16:43:27 - matplotlib.font_manager] findfont: score(<Font 'OpenSymbol' (opens___.ttf) normal normal 400 normal>) = 10.05\n",
      "[16:43:27 - matplotlib.font_manager] findfont: score(<Font 'Liberation Serif' (LiberationSerif-Bold.ttf) normal normal bold normal>) = 10.335\n",
      "[16:43:27 - matplotlib.font_manager] findfont: score(<Font 'WenQuanYi Zen Hei' (wqy-zenhei.ttc) normal normal 400 normal>) = 10.05\n",
      "[16:43:27 - matplotlib.font_manager] findfont: score(<Font 'Lohit Devanagari' (Lohit-Devanagari.ttf) normal normal 400 normal>) = 10.05\n",
      "[16:43:27 - matplotlib.font_manager] findfont: score(<Font 'Lohit Telugu' (Lohit-Telugu.ttf) normal normal 400 normal>) = 10.05\n",
      "[16:43:27 - matplotlib.font_manager] findfont: score(<Font 'Abyssinica SIL' (AbyssinicaSIL-R.ttf) normal normal 400 normal>) = 10.05\n",
      "[16:43:27 - matplotlib.font_manager] findfont: score(<Font 'LKLUG' (lklug.ttf) normal normal 400 normal>) = 10.05\n",
      "[16:43:27 - matplotlib.font_manager] findfont: score(<Font 'Liberation Mono' (LiberationMono-Bold.ttf) normal normal bold normal>) = 10.335\n",
      "[16:43:27 - matplotlib.font_manager] findfont: score(<Font 'FreeSerif' (FreeSerifBold.ttf) normal normal bold normal>) = 10.335\n",
      "[16:43:27 - matplotlib.font_manager] findfont: score(<Font 'PT Sans Narrow' (PTN77F.ttf) normal normal bold condensed>) = 10.535\n",
      "[16:43:27 - matplotlib.font_manager] findfont: score(<Font 'PT Sans' (PTS55F.ttf) normal normal 400 normal>) = 10.05\n",
      "[16:43:27 - matplotlib.font_manager] findfont: score(<Font 'Padauk' (Padauk-bold.ttf) normal normal bold normal>) = 10.335\n",
      "[16:43:27 - matplotlib.font_manager] findfont: score(<Font 'Lohit Kannada' (Lohit-Kannada.ttf) normal normal 400 normal>) = 10.05\n",
      "[16:43:27 - matplotlib.font_manager] findfont: Matching :family=sans-serif:style=normal:variant=normal:weight=normal:stretch=normal:size=19.8 to DejaVu Sans ('/ssd1/home/kdorosch/software/anaconda3/envs/py36/lib/python3.6/site-packages/matplotlib/mpl-data/fonts/ttf/DejaVuSans.ttf') with score of 2.050000.\n",
      "[16:43:27 - matplotlib.font_manager] findfont: Matching :family=sans-serif:style=normal:variant=normal:weight=normal:stretch=normal:size=21.6.\n",
      "[16:43:27 - matplotlib.font_manager] findfont: score(<Font 'STIXSizeThreeSym' (STIXSizThreeSymBol.ttf) normal normal bold normal>) = 10.335\n",
      "[16:43:27 - matplotlib.font_manager] findfont: score(<Font 'STIXSizeFourSym' (STIXSizFourSymBol.ttf) normal normal bold normal>) = 10.335\n",
      "[16:43:27 - matplotlib.font_manager] findfont: score(<Font 'DejaVu Sans Mono' (DejaVuSansMono-Oblique.ttf) oblique normal 400 normal>) = 11.05\n",
      "[16:43:27 - matplotlib.font_manager] findfont: score(<Font 'DejaVu Sans' (DejaVuSans-BoldOblique.ttf) oblique normal bold normal>) = 3.335\n",
      "[16:43:27 - matplotlib.font_manager] findfont: score(<Font 'STIXNonUnicode' (STIXNonUni.ttf) normal normal regular normal>) = 10.05\n",
      "[16:43:27 - matplotlib.font_manager] findfont: score(<Font 'STIXSizeFourSym' (STIXSizFourSymReg.ttf) normal normal regular normal>) = 10.05\n",
      "[16:43:27 - matplotlib.font_manager] findfont: score(<Font 'STIXGeneral' (STIXGeneral.ttf) normal normal regular normal>) = 10.05\n",
      "[16:43:27 - matplotlib.font_manager] findfont: score(<Font 'STIXSizeFiveSym' (STIXSizFiveSymReg.ttf) normal normal regular normal>) = 10.05\n",
      "[16:43:27 - matplotlib.font_manager] findfont: score(<Font 'DejaVu Serif' (DejaVuSerif-BoldItalic.ttf) italic normal bold normal>) = 11.335\n",
      "[16:43:27 - matplotlib.font_manager] findfont: score(<Font 'STIXNonUnicode' (STIXNonUniBol.ttf) normal normal bold normal>) = 10.335\n",
      "[16:43:27 - matplotlib.font_manager] findfont: score(<Font 'DejaVu Serif' (DejaVuSerif-Italic.ttf) italic normal 400 normal>) = 11.05\n",
      "[16:43:27 - matplotlib.font_manager] findfont: score(<Font 'cmss10' (cmss10.ttf) normal normal 400 normal>) = 10.05\n",
      "[16:43:27 - matplotlib.font_manager] findfont: score(<Font 'STIXSizeThreeSym' (STIXSizThreeSymReg.ttf) normal normal regular normal>) = 10.05\n",
      "[16:43:27 - matplotlib.font_manager] findfont: score(<Font 'STIXSizeOneSym' (STIXSizOneSymBol.ttf) normal normal bold normal>) = 10.335\n",
      "[16:43:27 - matplotlib.font_manager] findfont: score(<Font 'cmr10' (cmr10.ttf) normal normal 400 normal>) = 10.05\n",
      "[16:43:27 - matplotlib.font_manager] findfont: score(<Font 'STIXGeneral' (STIXGeneralBol.ttf) normal normal bold normal>) = 10.335\n",
      "[16:43:27 - matplotlib.font_manager] findfont: score(<Font 'cmb10' (cmb10.ttf) normal normal 400 normal>) = 10.05\n",
      "[16:43:27 - matplotlib.font_manager] findfont: score(<Font 'STIXGeneral' (STIXGeneralBolIta.ttf) italic normal bold normal>) = 11.335\n",
      "[16:43:27 - matplotlib.font_manager] findfont: score(<Font 'STIXGeneral' (STIXGeneralItalic.ttf) italic normal 400 normal>) = 11.05\n",
      "[16:43:27 - matplotlib.font_manager] findfont: score(<Font 'cmsy10' (cmsy10.ttf) normal normal 400 normal>) = 10.05\n",
      "[16:43:27 - matplotlib.font_manager] findfont: score(<Font 'STIXNonUnicode' (STIXNonUniBolIta.ttf) italic normal bold normal>) = 11.335\n",
      "[16:43:27 - matplotlib.font_manager] findfont: score(<Font 'DejaVu Sans' (DejaVuSans-Bold.ttf) normal normal bold normal>) = 2.335\n",
      "[16:43:27 - matplotlib.font_manager] findfont: score(<Font 'cmex10' (cmex10.ttf) normal normal 400 normal>) = 10.05\n",
      "[16:43:27 - matplotlib.font_manager] findfont: score(<Font 'DejaVu Sans' (DejaVuSans-Oblique.ttf) oblique normal 400 normal>) = 3.05\n",
      "[16:43:27 - matplotlib.font_manager] findfont: score(<Font 'DejaVu Sans' (DejaVuSans.ttf) normal normal 400 normal>) = 2.05\n",
      "[16:43:27 - matplotlib.font_manager] findfont: score(<Font 'DejaVu Serif' (DejaVuSerif-Bold.ttf) normal normal bold normal>) = 10.335\n",
      "[16:43:27 - matplotlib.font_manager] findfont: score(<Font 'STIXSizeTwoSym' (STIXSizTwoSymBol.ttf) normal normal bold normal>) = 10.335\n",
      "[16:43:27 - matplotlib.font_manager] findfont: score(<Font 'DejaVu Sans Mono' (DejaVuSansMono-BoldOblique.ttf) oblique normal bold normal>) = 11.335\n",
      "[16:43:27 - matplotlib.font_manager] findfont: score(<Font 'cmtt10' (cmtt10.ttf) normal normal 400 normal>) = 10.05\n",
      "[16:43:27 - matplotlib.font_manager] findfont: score(<Font 'DejaVu Serif' (DejaVuSerif.ttf) normal normal 400 normal>) = 10.05\n",
      "[16:43:27 - matplotlib.font_manager] findfont: score(<Font 'cmmi10' (cmmi10.ttf) normal normal 400 normal>) = 10.05\n",
      "[16:43:27 - matplotlib.font_manager] findfont: score(<Font 'DejaVu Sans Display' (DejaVuSansDisplay.ttf) normal normal 400 normal>) = 10.05\n",
      "[16:43:27 - matplotlib.font_manager] findfont: score(<Font 'STIXSizeTwoSym' (STIXSizTwoSymReg.ttf) normal normal regular normal>) = 10.05\n",
      "[16:43:27 - matplotlib.font_manager] findfont: score(<Font 'STIXNonUnicode' (STIXNonUniIta.ttf) italic normal 400 normal>) = 11.05\n",
      "[16:43:27 - matplotlib.font_manager] findfont: score(<Font 'DejaVu Sans Mono' (DejaVuSansMono.ttf) normal normal 400 normal>) = 10.05\n",
      "[16:43:27 - matplotlib.font_manager] findfont: score(<Font 'DejaVu Serif Display' (DejaVuSerifDisplay.ttf) normal normal 400 normal>) = 10.05\n",
      "[16:43:27 - matplotlib.font_manager] findfont: score(<Font 'DejaVu Sans Mono' (DejaVuSansMono-Bold.ttf) normal normal bold normal>) = 10.335\n",
      "[16:43:27 - matplotlib.font_manager] findfont: score(<Font 'STIXSizeOneSym' (STIXSizOneSymReg.ttf) normal normal regular normal>) = 10.05\n"
     ]
    },
    {
     "name": "stderr",
     "output_type": "stream",
     "text": [
      "[16:43:27 - matplotlib.font_manager] findfont: score(<Font 'FreeSerif' (FreeSerif.ttf) normal normal 400 normal>) = 10.05\n",
      "[16:43:27 - matplotlib.font_manager] findfont: score(<Font 'PT Sans Narrow' (PTN57F.ttf) normal normal 400 condensed>) = 10.25\n",
      "[16:43:27 - matplotlib.font_manager] findfont: score(<Font 'Source Han Sans CN' (SourceHanSansCN-Light.otf) normal normal light normal>) = 10.24\n",
      "[16:43:27 - matplotlib.font_manager] findfont: score(<Font 'Khmer OS Content' (KhmerOS_content.ttf) normal normal 400 normal>) = 10.05\n",
      "[16:43:27 - matplotlib.font_manager] findfont: score(<Font 'PT Sans' (PTS76F.ttf) italic normal bold normal>) = 11.335\n",
      "[16:43:27 - matplotlib.font_manager] findfont: score(<Font 'PT Sans' (PTS56F.ttf) italic normal 400 normal>) = 11.05\n",
      "[16:43:27 - matplotlib.font_manager] findfont: score(<Font 'Caladea' (Caladea-Italic.ttf) italic normal 400 normal>) = 11.05\n",
      "[16:43:27 - matplotlib.font_manager] findfont: score(<Font 'Cantarell' (Cantarell-BoldOblique.otf) oblique normal bold normal>) = 11.335\n",
      "[16:43:27 - matplotlib.font_manager] findfont: score(<Font 'Source Han Sans TWHK' (SourceHanSansTWHK-Heavy.otf) normal normal bold normal>) = 10.335\n",
      "[16:43:27 - matplotlib.font_manager] findfont: score(<Font 'DejaVu Sans' (DejaVuSansCondensed.ttf) normal normal 400 condensed>) = 2.25\n",
      "[16:43:27 - matplotlib.font_manager] findfont: score(<Font 'Carlito' (Carlito-Bold.ttf) normal normal bold normal>) = 10.335\n",
      "[16:43:27 - matplotlib.font_manager] findfont: score(<Font 'Liberation Sans' (LiberationSans-Italic.ttf) italic normal 400 normal>) = 5.05\n",
      "[16:43:27 - matplotlib.font_manager] findfont: score(<Font 'Source Han Sans CN' (SourceHanSansCN-Regular.otf) normal normal regular normal>) = 10.05\n",
      "[16:43:27 - matplotlib.font_manager] findfont: score(<Font 'DejaVu Sans' (DejaVuSansCondensed-Oblique.ttf) oblique normal 400 condensed>) = 3.25\n",
      "[16:43:27 - matplotlib.font_manager] findfont: score(<Font 'Source Han Sans TWHK' (SourceHanSansTWHK-Normal.otf) normal normal normal normal>) = 10.0\n",
      "[16:43:27 - matplotlib.font_manager] findfont: score(<Font 'Liberation Mono' (LiberationMono-Regular.ttf) normal normal 400 normal>) = 10.05\n",
      "[16:43:27 - matplotlib.font_manager] findfont: score(<Font 'Cantarell' (Cantarell-Regular.otf) normal normal regular normal>) = 10.05\n",
      "[16:43:27 - matplotlib.font_manager] findfont: score(<Font 'NanumGothic' (NanumGothicBold.ttf) normal normal bold normal>) = 10.335\n",
      "[16:43:27 - matplotlib.font_manager] findfont: score(<Font 'Cantarell' (Cantarell-Oblique.otf) oblique normal 400 normal>) = 11.05\n",
      "[16:43:27 - matplotlib.font_manager] findfont: score(<Font 'Nuosu SIL' (NuosuSIL.ttf) normal normal 400 normal>) = 10.05\n",
      "[16:43:27 - matplotlib.font_manager] findfont: score(<Font 'Source Han Sans TWHK' (SourceHanSansTWHK-Medium.otf) normal normal medium normal>) = 10.145\n",
      "[16:43:27 - matplotlib.font_manager] findfont: score(<Font 'Carlito' (Carlito-Italic.ttf) italic normal 400 normal>) = 11.05\n",
      "[16:43:27 - matplotlib.font_manager] findfont: score(<Font 'FreeSerif' (FreeSerifBoldItalic.ttf) italic normal bold normal>) = 11.335\n",
      "[16:43:27 - matplotlib.font_manager] findfont: score(<Font 'Source Han Sans CN' (SourceHanSansCN-ExtraLight.otf) normal normal light normal>) = 10.24\n",
      "[16:43:27 - matplotlib.font_manager] findfont: score(<Font 'Meera' (Meera.ttf) normal normal 400 normal>) = 10.05\n",
      "[16:43:27 - matplotlib.font_manager] findfont: score(<Font 'Lohit Gujarati' (Lohit-Gujarati.ttf) normal normal 400 normal>) = 10.05\n",
      "[16:43:27 - matplotlib.font_manager] findfont: score(<Font 'PT Sans' (PTS75F.ttf) normal normal bold normal>) = 10.335\n",
      "[16:43:27 - matplotlib.font_manager] findfont: score(<Font 'PakType Naqsh' (PakType_Naqsh.ttf) normal normal 400 normal>) = 10.05\n",
      "[16:43:27 - matplotlib.font_manager] findfont: score(<Font 'FreeMono' (FreeMonoBold.ttf) normal normal bold normal>) = 10.335\n",
      "[16:43:27 - matplotlib.font_manager] findfont: score(<Font 'Source Han Sans CN' (SourceHanSansCN-Medium.otf) normal normal medium normal>) = 10.145\n",
      "[16:43:27 - matplotlib.font_manager] findfont: score(<Font 'Carlito' (Carlito-BoldItalic.ttf) italic normal bold normal>) = 11.335\n",
      "[16:43:27 - matplotlib.font_manager] findfont: score(<Font 'Caladea' (Caladea-Regular.ttf) normal normal 400 normal>) = 10.05\n",
      "[16:43:27 - matplotlib.font_manager] findfont: score(<Font 'DejaVu Serif' (DejaVuSerifCondensed.ttf) normal normal 400 condensed>) = 10.25\n",
      "[16:43:27 - matplotlib.font_manager] findfont: score(<Font 'STIX' (STIX-Bold.otf) normal normal bold normal>) = 10.335\n",
      "[16:43:27 - matplotlib.font_manager] findfont: score(<Font 'AR PL UMing CN' (uming.ttc) normal normal 400 normal>) = 10.05\n",
      "[16:43:27 - matplotlib.font_manager] findfont: score(<Font 'STIX' (STIX-BoldItalic.otf) italic normal bold normal>) = 11.335\n",
      "[16:43:27 - matplotlib.font_manager] findfont: score(<Font 'DejaVu Serif' (DejaVuSerifCondensed-Bold.ttf) normal normal bold condensed>) = 10.535\n",
      "[16:43:27 - matplotlib.font_manager] findfont: score(<Font 'Liberation Serif' (LiberationSerif-BoldItalic.ttf) italic normal bold normal>) = 11.335\n",
      "[16:43:27 - matplotlib.font_manager] findfont: score(<Font 'FreeSans' (FreeSans.ttf) normal normal 400 normal>) = 10.05\n",
      "[16:43:27 - matplotlib.font_manager] findfont: score(<Font 'Waree' (Waree.ttf) normal normal 400 normal>) = 10.05\n",
      "[16:43:27 - matplotlib.font_manager] findfont: score(<Font 'Waree' (Waree-Bold.ttf) normal normal bold normal>) = 10.335\n",
      "[16:43:27 - matplotlib.font_manager] findfont: score(<Font 'FreeSans' (FreeSansBoldOblique.ttf) oblique normal bold normal>) = 11.335\n",
      "[16:43:27 - matplotlib.font_manager] findfont: score(<Font 'FreeMono' (FreeMono.ttf) normal normal 400 normal>) = 10.05\n",
      "[16:43:27 - matplotlib.font_manager] findfont: score(<Font 'Noto Sans Tagalog' (NotoSansTagalog-Regular.ttf) normal normal 400 normal>) = 10.05\n",
      "[16:43:27 - matplotlib.font_manager] findfont: score(<Font 'Lohit Tamil' (Lohit-Tamil.ttf) normal normal 400 normal>) = 10.05\n",
      "[16:43:27 - matplotlib.font_manager] findfont: score(<Font 'DejaVu Serif' (DejaVuSerifCondensed-Italic.ttf) italic normal 400 condensed>) = 11.25\n",
      "[16:43:27 - matplotlib.font_manager] findfont: score(<Font 'Caladea' (Caladea-BoldItalic.ttf) italic normal bold normal>) = 11.335\n",
      "[16:43:27 - matplotlib.font_manager] findfont: score(<Font 'Source Han Sans CN' (SourceHanSansCN-Normal.otf) normal normal normal normal>) = 10.0\n",
      "[16:43:27 - matplotlib.font_manager] findfont: score(<Font 'FreeMono' (FreeMonoBoldOblique.ttf) oblique normal bold normal>) = 11.335\n",
      "[16:43:27 - matplotlib.font_manager] findfont: score(<Font 'DejaVu Serif' (DejaVuSerifCondensed-BoldItalic.ttf) italic normal bold condensed>) = 11.535\n",
      "[16:43:27 - matplotlib.font_manager] findfont: score(<Font 'Source Han Sans TWHK' (SourceHanSansTWHK-ExtraLight.otf) normal normal light normal>) = 10.24\n",
      "[16:43:27 - matplotlib.font_manager] findfont: score(<Font 'Khmer OS' (KhmerOS.ttf) normal normal 400 normal>) = 10.05\n",
      "[16:43:27 - matplotlib.font_manager] findfont: score(<Font 'Liberation Sans' (LiberationSans-BoldItalic.ttf) italic normal bold normal>) = 5.335\n",
      "[16:43:27 - matplotlib.font_manager] findfont: score(<Font 'Liberation Serif' (LiberationSerif-Italic.ttf) italic normal 400 normal>) = 11.05\n",
      "[16:43:27 - matplotlib.font_manager] findfont: score(<Font 'Padauk' (Padauk.ttf) normal normal 400 normal>) = 10.05\n",
      "[16:43:27 - matplotlib.font_manager] findfont: score(<Font 'DejaVu Sans' (DejaVuSansCondensed-BoldOblique.ttf) oblique normal bold condensed>) = 3.535\n",
      "[16:43:27 - matplotlib.font_manager] findfont: score(<Font 'Noto Sans Mandaic' (NotoSansMandaic-Regular.ttf) normal normal 400 normal>) = 10.05\n",
      "[16:43:27 - matplotlib.font_manager] findfont: score(<Font 'FreeSans' (FreeSansBold.ttf) normal normal bold normal>) = 10.335\n",
      "[16:43:27 - matplotlib.font_manager] findfont: score(<Font 'STIX' (STIX-Italic.otf) italic normal 400 normal>) = 11.05\n",
      "[16:43:27 - matplotlib.font_manager] findfont: score(<Font 'Noto Sans Tai Viet' (NotoSansTaiViet-Regular.ttf) normal normal 400 normal>) = 10.05\n",
      "[16:43:27 - matplotlib.font_manager] findfont: score(<Font 'Source Han Sans TWHK' (SourceHanSansTWHK-Bold.otf) normal normal bold normal>) = 10.335\n",
      "[16:43:27 - matplotlib.font_manager] findfont: score(<Font 'NanumGothic' (NanumGothic.ttf) normal normal 400 normal>) = 10.05\n"
     ]
    },
    {
     "name": "stderr",
     "output_type": "stream",
     "text": [
      "[16:43:27 - matplotlib.font_manager] findfont: score(<Font 'Waree' (Waree-Oblique.ttf) oblique normal 400 normal>) = 11.05\n",
      "[16:43:27 - matplotlib.font_manager] findfont: score(<Font 'Liberation Sans' (LiberationSans-Bold.ttf) normal normal bold normal>) = 4.335\n",
      "[16:43:27 - matplotlib.font_manager] findfont: score(<Font 'Source Han Sans TWHK' (SourceHanSansTWHK-Light.otf) normal normal light normal>) = 10.24\n",
      "[16:43:27 - matplotlib.font_manager] findfont: score(<Font 'Liberation Mono' (LiberationMono-BoldItalic.ttf) italic normal bold normal>) = 11.335\n",
      "[16:43:27 - matplotlib.font_manager] findfont: score(<Font 'Cantarell' (Cantarell-Bold.otf) normal normal bold normal>) = 10.335\n",
      "[16:43:27 - matplotlib.font_manager] findfont: score(<Font 'Liberation Sans' (LiberationSans-Regular.ttf) normal normal 400 normal>) = 4.05\n",
      "[16:43:27 - matplotlib.font_manager] findfont: score(<Font 'NanumGothic' (NanumGothicExtraBold.ttf) normal normal bold normal>) = 10.335\n",
      "[16:43:27 - matplotlib.font_manager] findfont: score(<Font 'Source Han Sans TWHK' (SourceHanSansTWHK-Regular.otf) normal normal regular normal>) = 10.05\n",
      "[16:43:27 - matplotlib.font_manager] findfont: score(<Font 'FreeSans' (FreeSansOblique.ttf) oblique normal 400 normal>) = 11.05\n",
      "[16:43:27 - matplotlib.font_manager] findfont: score(<Font 'Lohit Bengali' (Lohit-Bengali.ttf) normal normal 400 normal>) = 10.05\n",
      "[16:43:27 - matplotlib.font_manager] findfont: score(<Font 'Lohit Punjabi' (Lohit-Punjabi.ttf) normal normal 400 normal>) = 10.05\n",
      "[16:43:27 - matplotlib.font_manager] findfont: score(<Font 'FreeMono' (FreeMonoOblique.ttf) oblique normal 400 normal>) = 11.05\n",
      "[16:43:27 - matplotlib.font_manager] findfont: score(<Font 'Caladea' (Caladea-Bold.ttf) normal normal bold normal>) = 10.335\n",
      "[16:43:27 - matplotlib.font_manager] findfont: score(<Font 'Source Han Sans CN' (SourceHanSansCN-Bold.otf) normal normal bold normal>) = 10.335\n",
      "[16:43:27 - matplotlib.font_manager] findfont: score(<Font 'FreeSerif' (FreeSerifItalic.ttf) italic normal 400 normal>) = 11.05\n",
      "[16:43:27 - matplotlib.font_manager] findfont: score(<Font 'Source Han Sans CN' (SourceHanSansCN-Heavy.otf) normal normal bold normal>) = 10.335\n",
      "[16:43:27 - matplotlib.font_manager] findfont: score(<Font 'Liberation Serif' (LiberationSerif-Regular.ttf) normal normal 400 normal>) = 10.05\n",
      "[16:43:27 - matplotlib.font_manager] findfont: score(<Font 'Jomolhari' (Jomolhari-alpha3c-0605331.ttf) normal normal 400 normal>) = 10.05\n",
      "[16:43:27 - matplotlib.font_manager] findfont: score(<Font 'Liberation Mono' (LiberationMono-Italic.ttf) italic normal 400 normal>) = 11.05\n",
      "[16:43:27 - matplotlib.font_manager] findfont: score(<Font 'DejaVu Sans' (DejaVuSansCondensed-Bold.ttf) normal normal bold condensed>) = 2.535\n",
      "[16:43:27 - matplotlib.font_manager] findfont: score(<Font 'Khmer OS System' (KhmerOS_sys.ttf) normal normal 400 normal>) = 10.05\n",
      "[16:43:27 - matplotlib.font_manager] findfont: score(<Font 'Noto Sans Tai Tham' (NotoSansTaiTham-Regular.ttf) normal normal 400 normal>) = 10.05\n",
      "[16:43:27 - matplotlib.font_manager] findfont: score(<Font 'Lohit Assamese' (Lohit-Assamese.ttf) normal normal 400 normal>) = 10.05\n",
      "[16:43:27 - matplotlib.font_manager] findfont: score(<Font 'VL Gothic' (VL-Gothic-Regular.ttf) normal normal regular normal>) = 10.05\n",
      "[16:43:27 - matplotlib.font_manager] findfont: score(<Font 'Noto Sans Lisu' (NotoSansLisu-Regular.ttf) normal normal 400 normal>) = 10.05\n",
      "[16:43:27 - matplotlib.font_manager] findfont: score(<Font 'Carlito' (Carlito-Regular.ttf) normal normal 400 normal>) = 10.05\n",
      "[16:43:27 - matplotlib.font_manager] findfont: score(<Font 'DejaVu Sans' (DejaVuSans-ExtraLight.ttf) normal normal light normal>) = 2.24\n",
      "[16:43:27 - matplotlib.font_manager] findfont: score(<Font 'Waree' (Waree-BoldOblique.ttf) oblique normal bold normal>) = 11.335\n",
      "[16:43:27 - matplotlib.font_manager] findfont: score(<Font 'STIX' (STIX-Regular.otf) normal normal regular normal>) = 10.05\n",
      "[16:43:27 - matplotlib.font_manager] findfont: score(<Font 'Lohit Oriya' (Lohit-Oriya.ttf) normal normal 400 normal>) = 10.05\n",
      "[16:43:27 - matplotlib.font_manager] findfont: score(<Font 'OpenSymbol' (opens___.ttf) normal normal 400 normal>) = 10.05\n",
      "[16:43:27 - matplotlib.font_manager] findfont: score(<Font 'Liberation Serif' (LiberationSerif-Bold.ttf) normal normal bold normal>) = 10.335\n",
      "[16:43:27 - matplotlib.font_manager] findfont: score(<Font 'WenQuanYi Zen Hei' (wqy-zenhei.ttc) normal normal 400 normal>) = 10.05\n",
      "[16:43:27 - matplotlib.font_manager] findfont: score(<Font 'Lohit Devanagari' (Lohit-Devanagari.ttf) normal normal 400 normal>) = 10.05\n",
      "[16:43:27 - matplotlib.font_manager] findfont: score(<Font 'Lohit Telugu' (Lohit-Telugu.ttf) normal normal 400 normal>) = 10.05\n",
      "[16:43:27 - matplotlib.font_manager] findfont: score(<Font 'Abyssinica SIL' (AbyssinicaSIL-R.ttf) normal normal 400 normal>) = 10.05\n",
      "[16:43:27 - matplotlib.font_manager] findfont: score(<Font 'LKLUG' (lklug.ttf) normal normal 400 normal>) = 10.05\n",
      "[16:43:27 - matplotlib.font_manager] findfont: score(<Font 'Liberation Mono' (LiberationMono-Bold.ttf) normal normal bold normal>) = 10.335\n",
      "[16:43:27 - matplotlib.font_manager] findfont: score(<Font 'FreeSerif' (FreeSerifBold.ttf) normal normal bold normal>) = 10.335\n",
      "[16:43:27 - matplotlib.font_manager] findfont: score(<Font 'PT Sans Narrow' (PTN77F.ttf) normal normal bold condensed>) = 10.535\n",
      "[16:43:27 - matplotlib.font_manager] findfont: score(<Font 'PT Sans' (PTS55F.ttf) normal normal 400 normal>) = 10.05\n",
      "[16:43:27 - matplotlib.font_manager] findfont: score(<Font 'Padauk' (Padauk-bold.ttf) normal normal bold normal>) = 10.335\n",
      "[16:43:27 - matplotlib.font_manager] findfont: score(<Font 'Lohit Kannada' (Lohit-Kannada.ttf) normal normal 400 normal>) = 10.05\n",
      "[16:43:27 - matplotlib.font_manager] findfont: Matching :family=sans-serif:style=normal:variant=normal:weight=normal:stretch=normal:size=21.6 to DejaVu Sans ('/ssd1/home/kdorosch/software/anaconda3/envs/py36/lib/python3.6/site-packages/matplotlib/mpl-data/fonts/ttf/DejaVuSans.ttf') with score of 2.050000.\n"
     ]
    },
    {
     "data": {
      "image/png": "[encoded data removed]",
      "text/plain": [
       "<Figure size 432x432 with 1 Axes>"
      ]
     },
     "metadata": {},
     "output_type": "display_data"
    }
   ],
   "source": [
    "fig, ax = plt.subplots(figsize=(6, 6))\n",
    "ax.scatter(max_sw, second_best_sw, alpha=0.01, c=\"k\")\n",
    "ax.set_title(\"\")\n",
    "ax.set_xlabel(\"1st best SW score\")\n",
    "ax.set_ylabel(\"2nd best SW score\")\n",
    "ax.plot([0, 40], [0, 40])\n",
    "ax.axhline(15)\n",
    "ax.axvline(15)"
   ]
  },
  {
   "cell_type": "code",
   "execution_count": 17,
   "metadata": {
    "ExecuteTime": {
     "end_time": "2019-08-28T23:43:32.608994Z",
     "start_time": "2019-08-28T23:43:31.285707Z"
    }
   },
   "outputs": [
    {
     "data": {
      "text/plain": [
       "<matplotlib.axes._subplots.AxesSubplot at 0x7fd237b1d630>"
      ]
     },
     "execution_count": 17,
     "metadata": {},
     "output_type": "execute_result"
    },
    {
     "data": {
      "image/png": "[encoded data removed]",
      "text/plain": [
       "<Figure size 432x288 with 1 Axes>"
      ]
     },
     "metadata": {},
     "output_type": "display_data"
    }
   ],
   "source": [
    "sns.distplot(max_sw)"
   ]
  },
  {
   "cell_type": "markdown",
   "metadata": {
    "ExecuteTime": {
     "end_time": "2019-08-11T00:31:43.917710Z",
     "start_time": "2019-08-11T00:31:43.897293Z"
    }
   },
   "source": [
    "### Merge & save alignment scores for all fq files"
   ]
  },
  {
   "cell_type": "code",
   "execution_count": 18,
   "metadata": {
    "ExecuteTime": {
     "end_time": "2019-08-28T23:43:32.624223Z",
     "start_time": "2019-08-28T23:43:32.610679Z"
    }
   },
   "outputs": [],
   "source": [
    "run_id = re.findall(r\"runid_(.*)_[\\d]+_[\\d]+.tsv\", sw_tsv)[0]"
   ]
  },
  {
   "cell_type": "code",
   "execution_count": 19,
   "metadata": {
    "ExecuteTime": {
     "end_time": "2019-08-28T23:43:32.639181Z",
     "start_time": "2019-08-28T23:43:32.625942Z"
    }
   },
   "outputs": [],
   "source": [
    "merged_sw_file = os.path.join(sw_dir, f\"all_{run_id}.tsv\")"
   ]
  },
  {
   "cell_type": "code",
   "execution_count": 20,
   "metadata": {
    "ExecuteTime": {
     "end_time": "2019-08-28T23:43:53.934859Z",
     "start_time": "2019-08-28T23:43:32.640905Z"
    }
   },
   "outputs": [],
   "source": [
    "sw.to_csv(merged_sw_file, sep=\"\\t\", index=True)"
   ]
  },
  {
   "cell_type": "code",
   "execution_count": 21,
   "metadata": {
    "ExecuteTime": {
     "end_time": "2019-08-28T23:43:53.957874Z",
     "start_time": "2019-08-28T23:43:53.938065Z"
    }
   },
   "outputs": [
    {
     "data": {
      "text/plain": [
       "'/path/to/data/MinION_sequencing_data_20190828/guppy_3.2.2_08_28_2019_run_01_exec_20190828/sw/all_852c07bf042182e22f60c3d9425876746c4da9d8.tsv'"
      ]
     },
     "execution_count": 21,
     "metadata": {},
     "output_type": "execute_result"
    }
   ],
   "source": [
    "merged_sw_file"
   ]
  },
  {
   "cell_type": "markdown",
   "metadata": {},
   "source": [
    "# Evaluate extant molbits vs rest"
   ]
  },
  {
   "cell_type": "markdown",
   "metadata": {},
   "source": [
    "## Specify which molbits were actually present"
   ]
  },
  {
   "cell_type": "code",
   "execution_count": 36,
   "metadata": {
    "ExecuteTime": {
     "end_time": "2019-08-29T00:20:55.142697Z",
     "start_time": "2019-08-29T00:20:55.122158Z"
    }
   },
   "outputs": [],
   "source": [
    "# Create set_N variables based on spreadsheet\n",
    "molbit_sets = {}\n",
    "for ix, row in set_spreadsheet.iterrows():\n",
    "    set_no = re.findall(r\"set ([\\d]+)\", row[\"set\"])[0]\n",
    "    molbits = row[\"molbits_in_set\"]\n",
    "    molbit_sets[set_no] = molbits.split(\", \")"
   ]
  },
  {
   "cell_type": "code",
   "execution_count": 37,
   "metadata": {
    "ExecuteTime": {
     "end_time": "2019-08-29T00:20:55.450736Z",
     "start_time": "2019-08-29T00:20:55.430255Z"
    }
   },
   "outputs": [],
   "source": [
    "molbit_set_in_run = str(run_data.get(\"molbit_set\"))\n",
    "molbit_sets_on_flowcell = run_data.get(\"prev_on_flowcell\")\n",
    "\n",
    "molbits_in_run = molbit_sets[molbit_set_in_run]\n",
    "molbits_on_flowcell = molbits_in_run[:]\n",
    "if molbit_sets_on_flowcell != \"none\":\n",
    "    molbit_sets_on_flowcell = molbit_sets_on_flowcell.split(\", \")\n",
    "    for m in molbit_sets_on_flowcell:\n",
    "        print(m)\n",
    "        print(molbit_sets[m])\n",
    "        molbits_on_flowcell.extend(molbit_sets[m])\n",
    "    print(molbits_on_flowcell)"
   ]
  },
  {
   "cell_type": "markdown",
   "metadata": {},
   "source": [
    "## Extract the best-aligned molbit, across all 96 molbits"
   ]
  },
  {
   "cell_type": "markdown",
   "metadata": {},
   "source": [
    "This cell replaces \"make_sw_call\" in the past. No more \"-1\"s. Just filter by accept_molbit."
   ]
  },
  {
   "cell_type": "code",
   "execution_count": 24,
   "metadata": {
    "ExecuteTime": {
     "end_time": "2019-08-29T00:16:27.176362Z",
     "start_time": "2019-08-29T00:16:01.867628Z"
    }
   },
   "outputs": [
    {
     "name": "stderr",
     "output_type": "stream",
     "text": [
      "/ssd1/home/kdorosch/software/anaconda3/envs/py36/lib/python3.6/site-packages/numpy/core/fromnumeric.py:51: FutureWarning: 'argmax' is deprecated. Use 'idxmax' instead. The behavior of 'argmax' will be corrected to return the positional maximum in the future. Use 'series.values.argmax' to get the position of the maximum now.\n",
      "  return getattr(obj, method)(*args, **kwds)\n",
      "/ssd1/home/kdorosch/.local/lib/python3.6/site-packages/ipykernel_launcher.py:4: FutureWarning: currently extract(expand=None) means expand=False (return Index/Series/DataFrame) but in a future version of pandas this will be changed to expand=True (return DataFrame)\n",
      "  after removing the cwd from sys.path.\n"
     ]
    }
   ],
   "source": [
    "sw_scores = sw.filter(regex=\"score_molbit_.*\")\n",
    "best_molbits = sw_scores.apply(np.argmax, axis=1)\n",
    "accept_molbit = sw.lookup(sw.index, best_molbits) >= 15\n",
    "sw[\"best_molbit\"] = best_molbits.str.extract(r\"score_molbit_([\\d]+)\")\n",
    "sw[\"accept_molbit\"] = accept_molbit"
   ]
  },
  {
   "cell_type": "code",
   "execution_count": 25,
   "metadata": {
    "ExecuteTime": {
     "end_time": "2019-08-29T00:16:27.199403Z",
     "start_time": "2019-08-29T00:16:27.179265Z"
    }
   },
   "outputs": [
    {
     "data": {
      "text/plain": [
       "302460"
      ]
     },
     "execution_count": 25,
     "metadata": {},
     "output_type": "execute_result"
    }
   ],
   "source": [
    "len(accept_molbit)"
   ]
  },
  {
   "cell_type": "code",
   "execution_count": 26,
   "metadata": {
    "ExecuteTime": {
     "end_time": "2019-08-29T00:16:27.915739Z",
     "start_time": "2019-08-29T00:16:27.201054Z"
    }
   },
   "outputs": [
    {
     "data": {
      "text/plain": [
       "224318"
      ]
     },
     "execution_count": 26,
     "metadata": {},
     "output_type": "execute_result"
    }
   ],
   "source": [
    "sum(accept_molbit)"
   ]
  },
  {
   "cell_type": "code",
   "execution_count": 27,
   "metadata": {
    "ExecuteTime": {
     "end_time": "2019-08-29T00:16:28.735889Z",
     "start_time": "2019-08-29T00:16:27.918574Z"
    }
   },
   "outputs": [
    {
     "data": {
      "text/plain": [
       "0.7416451762216492"
      ]
     },
     "execution_count": 27,
     "metadata": {},
     "output_type": "execute_result"
    }
   ],
   "source": [
    "sum(accept_molbit) / len(accept_molbit)"
   ]
  },
  {
   "cell_type": "markdown",
   "metadata": {},
   "source": [
    "## Extract the best-aligned molbit, across ONLY the extant molbits"
   ]
  },
  {
   "cell_type": "code",
   "execution_count": 40,
   "metadata": {
    "ExecuteTime": {
     "end_time": "2019-08-29T00:20:59.825899Z",
     "start_time": "2019-08-29T00:20:59.807785Z"
    }
   },
   "outputs": [],
   "source": [
    "extant_sw_cols = [f\"sw_score_molbit_{molbit}\" for molbit in molbits_on_flowcell]"
   ]
  },
  {
   "cell_type": "code",
   "execution_count": 41,
   "metadata": {
    "ExecuteTime": {
     "end_time": "2019-08-29T00:21:00.212240Z",
     "start_time": "2019-08-29T00:21:00.081707Z"
    }
   },
   "outputs": [],
   "source": [
    "extant_sw = sw.loc[:, extant_sw_cols]"
   ]
  },
  {
   "cell_type": "code",
   "execution_count": 42,
   "metadata": {
    "ExecuteTime": {
     "end_time": "2019-08-29T00:21:24.541659Z",
     "start_time": "2019-08-29T00:21:00.414481Z"
    }
   },
   "outputs": [
    {
     "name": "stderr",
     "output_type": "stream",
     "text": [
      "/ssd1/home/kdorosch/.local/lib/python3.6/site-packages/ipykernel_launcher.py:4: FutureWarning: currently extract(expand=None) means expand=False (return Index/Series/DataFrame) but in a future version of pandas this will be changed to expand=True (return DataFrame)\n",
      "  after removing the cwd from sys.path.\n"
     ]
    }
   ],
   "source": [
    "extant_sw_scores = extant_sw.filter(regex=\"score_molbit_.*\")\n",
    "best_molbits = extant_sw_scores.apply(np.argmax, axis=1)\n",
    "accept_molbit = extant_sw.lookup(extant_sw.index, best_molbits) >= 15\n",
    "extant_sw[\"best_molbit\"] = best_molbits.str.extract(r\"score_molbit_([\\d]+)\")\n",
    "extant_sw[\"accept_molbit\"] = accept_molbit"
   ]
  },
  {
   "cell_type": "markdown",
   "metadata": {},
   "source": [
    "## Compare "
   ]
  },
  {
   "cell_type": "code",
   "execution_count": 43,
   "metadata": {
    "ExecuteTime": {
     "end_time": "2019-08-29T00:21:24.843356Z",
     "start_time": "2019-08-29T00:21:24.544036Z"
    }
   },
   "outputs": [],
   "source": [
    "# Only retrieve high-scoring alignments\n",
    "sw_accepted = sw[sw[\"accept_molbit\"]]\n",
    "extant_sw_acc = extant_sw[sw[\"accept_molbit\"]]"
   ]
  },
  {
   "cell_type": "code",
   "execution_count": 44,
   "metadata": {
    "ExecuteTime": {
     "end_time": "2019-08-29T00:21:24.896954Z",
     "start_time": "2019-08-29T00:21:24.845358Z"
    }
   },
   "outputs": [],
   "source": [
    "n_extant_is_best = sum(extant_sw_acc[\"best_molbit\"] == sw_accepted[\"best_molbit\"])"
   ]
  },
  {
   "cell_type": "code",
   "execution_count": 45,
   "metadata": {
    "ExecuteTime": {
     "end_time": "2019-08-29T00:21:24.915671Z",
     "start_time": "2019-08-29T00:21:24.899344Z"
    }
   },
   "outputs": [
    {
     "data": {
      "text/plain": [
       "223140"
      ]
     },
     "execution_count": 45,
     "metadata": {},
     "output_type": "execute_result"
    }
   ],
   "source": [
    "n_extant_is_best"
   ]
  },
  {
   "cell_type": "markdown",
   "metadata": {},
   "source": [
    "Percentage of well-aligned reads that belong to the true set"
   ]
  },
  {
   "cell_type": "code",
   "execution_count": 46,
   "metadata": {
    "ExecuteTime": {
     "end_time": "2019-08-29T00:21:24.932654Z",
     "start_time": "2019-08-29T00:21:24.917683Z"
    }
   },
   "outputs": [
    {
     "data": {
      "text/plain": [
       "0.9947485266452091"
      ]
     },
     "execution_count": 46,
     "metadata": {},
     "output_type": "execute_result"
    }
   ],
   "source": [
    "n_extant_is_best/len(sw_accepted)"
   ]
  },
  {
   "cell_type": "markdown",
   "metadata": {},
   "source": [
    "Read counts for each molbit"
   ]
  },
  {
   "cell_type": "code",
   "execution_count": 47,
   "metadata": {
    "ExecuteTime": {
     "end_time": "2019-08-29T00:21:25.142442Z",
     "start_time": "2019-08-29T00:21:24.934181Z"
    }
   },
   "outputs": [
    {
     "data": {
      "text/plain": [
       "[('0', 4417),\n",
       " ('1', 1753),\n",
       " ('16', 9236),\n",
       " ('17', 3501),\n",
       " ('18', 3149),\n",
       " ('19', 12175),\n",
       " ('2', 6551),\n",
       " ('20', 7047),\n",
       " ('21', 4093),\n",
       " ('22', 2448),\n",
       " ('23', 853),\n",
       " ('3', 8122),\n",
       " ('32', 4901),\n",
       " ('33', 3705),\n",
       " ('34', 2076),\n",
       " ('35', 2104),\n",
       " ('36', 11386),\n",
       " ('37', 3748),\n",
       " ('38', 853),\n",
       " ('39', 2994),\n",
       " ('4', 1722),\n",
       " ('48', 6166),\n",
       " ('49', 1971),\n",
       " ('5', 4894),\n",
       " ('50', 5758),\n",
       " ('51', 16054),\n",
       " ('52', 2061),\n",
       " ('53', 1663),\n",
       " ('54', 6722),\n",
       " ('55', 2762),\n",
       " ('6', 10301),\n",
       " ('64', 225),\n",
       " ('65', 3144),\n",
       " ('66', 8131),\n",
       " ('67', 3780),\n",
       " ('68', 4667),\n",
       " ('69', 2193),\n",
       " ('7', 5504),\n",
       " ('70', 1569),\n",
       " ('71', 3060),\n",
       " ('80', 4685),\n",
       " ('81', 7748),\n",
       " ('82', 3074),\n",
       " ('83', 1906),\n",
       " ('84', 2574),\n",
       " ('85', 6727),\n",
       " ('86', 6430),\n",
       " ('87', 3715)]"
      ]
     },
     "execution_count": 47,
     "metadata": {},
     "output_type": "execute_result"
    }
   ],
   "source": [
    "m, c = np.unique(extant_sw_acc[\"best_molbit\"], return_counts=True)\n",
    "list(zip(m, c))"
   ]
  },
  {
   "cell_type": "code",
   "execution_count": 48,
   "metadata": {
    "ExecuteTime": {
     "end_time": "2019-08-29T00:21:25.158853Z",
     "start_time": "2019-08-29T00:21:25.144258Z"
    }
   },
   "outputs": [
    {
     "name": "stdout",
     "output_type": "stream",
     "text": [
      "4417\n",
      "1753\n",
      "9236\n",
      "3501\n",
      "3149\n",
      "12175\n",
      "6551\n",
      "7047\n",
      "4093\n",
      "2448\n",
      "853\n",
      "8122\n",
      "4901\n",
      "3705\n",
      "2076\n",
      "2104\n",
      "11386\n",
      "3748\n",
      "853\n",
      "2994\n",
      "1722\n",
      "6166\n",
      "1971\n",
      "4894\n",
      "5758\n",
      "16054\n",
      "2061\n",
      "1663\n",
      "6722\n",
      "2762\n",
      "10301\n",
      "225\n",
      "3144\n",
      "8131\n",
      "3780\n",
      "4667\n",
      "2193\n",
      "5504\n",
      "1569\n",
      "3060\n",
      "4685\n",
      "7748\n",
      "3074\n",
      "1906\n",
      "2574\n",
      "6727\n",
      "6430\n",
      "3715\n"
     ]
    }
   ],
   "source": [
    "print(\"\\n\".join([str(x) for x in c]))"
   ]
  },
  {
   "cell_type": "markdown",
   "metadata": {},
   "source": [
    "## Extract the best-aligned molbit, across ONLY the current run's molbits"
   ]
  },
  {
   "cell_type": "code",
   "execution_count": 49,
   "metadata": {
    "ExecuteTime": {
     "end_time": "2019-08-29T00:21:25.175621Z",
     "start_time": "2019-08-29T00:21:25.160991Z"
    }
   },
   "outputs": [],
   "source": [
    "extant_sw_cols = [f\"sw_score_molbit_{molbit}\" for molbit in molbits_in_run]"
   ]
  },
  {
   "cell_type": "code",
   "execution_count": 50,
   "metadata": {
    "ExecuteTime": {
     "end_time": "2019-08-29T00:21:25.278987Z",
     "start_time": "2019-08-29T00:21:25.177329Z"
    }
   },
   "outputs": [],
   "source": [
    "extant_sw = sw.loc[:, extant_sw_cols]"
   ]
  },
  {
   "cell_type": "code",
   "execution_count": 51,
   "metadata": {
    "ExecuteTime": {
     "end_time": "2019-08-29T00:21:49.369921Z",
     "start_time": "2019-08-29T00:21:25.281056Z"
    }
   },
   "outputs": [
    {
     "name": "stderr",
     "output_type": "stream",
     "text": [
      "/ssd1/home/kdorosch/.local/lib/python3.6/site-packages/ipykernel_launcher.py:4: FutureWarning: currently extract(expand=None) means expand=False (return Index/Series/DataFrame) but in a future version of pandas this will be changed to expand=True (return DataFrame)\n",
      "  after removing the cwd from sys.path.\n"
     ]
    }
   ],
   "source": [
    "extant_sw_scores = extant_sw.filter(regex=\"score_molbit_.*\")\n",
    "best_molbits = extant_sw_scores.apply(np.argmax, axis=1)\n",
    "accept_molbit = extant_sw.lookup(extant_sw.index, best_molbits) >= 15\n",
    "extant_sw[\"best_molbit\"] = best_molbits.str.extract(r\"score_molbit_([\\d]+)\")\n",
    "extant_sw[\"accept_molbit\"] = accept_molbit"
   ]
  },
  {
   "cell_type": "markdown",
   "metadata": {},
   "source": [
    "## Compare "
   ]
  },
  {
   "cell_type": "code",
   "execution_count": 52,
   "metadata": {
    "ExecuteTime": {
     "end_time": "2019-08-29T00:21:49.692283Z",
     "start_time": "2019-08-29T00:21:49.372376Z"
    }
   },
   "outputs": [],
   "source": [
    "# Only retrieve high-scoring alignments\n",
    "sw_accepted = sw[sw[\"accept_molbit\"]]\n",
    "extant_sw_acc = extant_sw[sw[\"accept_molbit\"]]"
   ]
  },
  {
   "cell_type": "code",
   "execution_count": 53,
   "metadata": {
    "ExecuteTime": {
     "end_time": "2019-08-29T00:21:49.747463Z",
     "start_time": "2019-08-29T00:21:49.694278Z"
    }
   },
   "outputs": [],
   "source": [
    "n_extant_is_best = sum(extant_sw_acc[\"best_molbit\"] == sw_accepted[\"best_molbit\"])"
   ]
  },
  {
   "cell_type": "code",
   "execution_count": 54,
   "metadata": {
    "ExecuteTime": {
     "end_time": "2019-08-29T00:21:49.766104Z",
     "start_time": "2019-08-29T00:21:49.749731Z"
    }
   },
   "outputs": [
    {
     "data": {
      "text/plain": [
       "223140"
      ]
     },
     "execution_count": 54,
     "metadata": {},
     "output_type": "execute_result"
    }
   ],
   "source": [
    "n_extant_is_best"
   ]
  },
  {
   "cell_type": "markdown",
   "metadata": {},
   "source": [
    "Percentage of well-aligned reads that belong to the true set"
   ]
  },
  {
   "cell_type": "code",
   "execution_count": 55,
   "metadata": {
    "ExecuteTime": {
     "end_time": "2019-08-29T00:21:49.782928Z",
     "start_time": "2019-08-29T00:21:49.767900Z"
    }
   },
   "outputs": [
    {
     "data": {
      "text/plain": [
       "0.9947485266452091"
      ]
     },
     "execution_count": 55,
     "metadata": {},
     "output_type": "execute_result"
    }
   ],
   "source": [
    "n_extant_is_best/len(sw_accepted)"
   ]
  },
  {
   "cell_type": "markdown",
   "metadata": {},
   "source": [
    "Read counts for each molbit"
   ]
  },
  {
   "cell_type": "code",
   "execution_count": 56,
   "metadata": {
    "ExecuteTime": {
     "end_time": "2019-08-29T00:21:49.979677Z",
     "start_time": "2019-08-29T00:21:49.784700Z"
    }
   },
   "outputs": [
    {
     "data": {
      "text/plain": [
       "[('0', 4417),\n",
       " ('1', 1753),\n",
       " ('16', 9236),\n",
       " ('17', 3501),\n",
       " ('18', 3149),\n",
       " ('19', 12175),\n",
       " ('2', 6551),\n",
       " ('20', 7047),\n",
       " ('21', 4093),\n",
       " ('22', 2448),\n",
       " ('23', 853),\n",
       " ('3', 8122),\n",
       " ('32', 4901),\n",
       " ('33', 3705),\n",
       " ('34', 2076),\n",
       " ('35', 2104),\n",
       " ('36', 11386),\n",
       " ('37', 3748),\n",
       " ('38', 853),\n",
       " ('39', 2994),\n",
       " ('4', 1722),\n",
       " ('48', 6166),\n",
       " ('49', 1971),\n",
       " ('5', 4894),\n",
       " ('50', 5758),\n",
       " ('51', 16054),\n",
       " ('52', 2061),\n",
       " ('53', 1663),\n",
       " ('54', 6722),\n",
       " ('55', 2762),\n",
       " ('6', 10301),\n",
       " ('64', 225),\n",
       " ('65', 3144),\n",
       " ('66', 8131),\n",
       " ('67', 3780),\n",
       " ('68', 4667),\n",
       " ('69', 2193),\n",
       " ('7', 5504),\n",
       " ('70', 1569),\n",
       " ('71', 3060),\n",
       " ('80', 4685),\n",
       " ('81', 7748),\n",
       " ('82', 3074),\n",
       " ('83', 1906),\n",
       " ('84', 2574),\n",
       " ('85', 6727),\n",
       " ('86', 6430),\n",
       " ('87', 3715)]"
      ]
     },
     "execution_count": 56,
     "metadata": {},
     "output_type": "execute_result"
    }
   ],
   "source": [
    "m, c = np.unique(extant_sw_acc[\"best_molbit\"], return_counts=True)\n",
    "list(zip(m, c))"
   ]
  },
  {
   "cell_type": "code",
   "execution_count": 57,
   "metadata": {
    "ExecuteTime": {
     "end_time": "2019-08-29T00:21:49.996090Z",
     "start_time": "2019-08-29T00:21:49.981623Z"
    }
   },
   "outputs": [],
   "source": [
    "l = []\n",
    "for i in range(0, 96, 16):\n",
    "    l.extend(range(i, i+8))"
   ]
  },
  {
   "cell_type": "code",
   "execution_count": 58,
   "metadata": {
    "ExecuteTime": {
     "end_time": "2019-08-29T00:21:50.010319Z",
     "start_time": "2019-08-29T00:21:49.997747Z"
    }
   },
   "outputs": [
    {
     "data": {
      "text/plain": [
       "'0, 1, 2, 3, 4, 5, 6, 7, 16, 17, 18, 19, 20, 21, 22, 23, 32, 33, 34, 35, 36, 37, 38, 39, 48, 49, 50, 51, 52, 53, 54, 55, 64, 65, 66, 67, 68, 69, 70, 71, 80, 81, 82, 83, 84, 85, 86, 87'"
      ]
     },
     "execution_count": 58,
     "metadata": {},
     "output_type": "execute_result"
    }
   ],
   "source": [
    "\", \".join([str(x) for x in l])"
   ]
  },
  {
   "cell_type": "markdown",
   "metadata": {},
   "source": [
    "## Get counts for all molbits"
   ]
  },
  {
   "cell_type": "code",
   "execution_count": 63,
   "metadata": {
    "ExecuteTime": {
     "end_time": "2019-08-29T00:52:23.044289Z",
     "start_time": "2019-08-29T00:52:22.620614Z"
    },
    "scrolled": true
   },
   "outputs": [
    {
     "name": "stdout",
     "output_type": "stream",
     "text": [
      "4417\n",
      "1752\n",
      "6534\n",
      "8122\n",
      "1722\n",
      "4883\n",
      "10301\n",
      "5497\n",
      "9\n",
      "6\n",
      "2\n",
      "4\n",
      "0\n",
      "24\n",
      "2\n",
      "19\n",
      "9231\n",
      "3452\n",
      "3149\n",
      "12174\n",
      "7034\n",
      "4093\n",
      "2448\n",
      "849\n",
      "0\n",
      "0\n",
      "0\n",
      "3\n",
      "0\n",
      "1\n",
      "1\n",
      "0\n",
      "4901\n",
      "3705\n",
      "2075\n",
      "2098\n",
      "10560\n",
      "3747\n",
      "853\n",
      "2993\n",
      "1\n",
      "0\n",
      "0\n",
      "51\n",
      "0\n",
      "0\n",
      "4\n",
      "9\n",
      "6164\n",
      "1871\n",
      "5754\n",
      "16049\n",
      "2060\n",
      "1661\n",
      "6721\n",
      "2759\n",
      "13\n",
      "0\n",
      "2\n",
      "0\n",
      "0\n",
      "12\n",
      "42\n",
      "0\n",
      "225\n",
      "3143\n",
      "8130\n",
      "3778\n",
      "4658\n",
      "2167\n",
      "1567\n",
      "3060\n",
      "5\n",
      "1\n",
      "0\n",
      "338\n",
      "2\n",
      "0\n",
      "0\n",
      "13\n",
      "4640\n",
      "7748\n",
      "3069\n",
      "1906\n",
      "2573\n",
      "6719\n",
      "6430\n",
      "3698\n",
      "1\n",
      "0\n",
      "0\n",
      "608\n",
      "1\n",
      "1\n",
      "3\n",
      "0\n"
     ]
    }
   ],
   "source": [
    "m, c = np.unique(sw[sw[\"accept_molbit\"]][\"best_molbit\"], return_counts=True)\n",
    "molbit_counts = dict(zip(m, c))\n",
    "for i in range(96):\n",
    "    i = str(i)\n",
    "    if i in molbit_counts:\n",
    "        print(f\"{molbit_counts[i]}\")\n",
    "    else:\n",
    "        print(f\"0\")"
   ]
  },
  {
   "cell_type": "markdown",
   "metadata": {},
   "source": [
    "# Plot read counts"
   ]
  },
  {
   "cell_type": "code",
   "execution_count": 76,
   "metadata": {
    "ExecuteTime": {
     "end_time": "2019-08-29T00:57:11.166022Z",
     "start_time": "2019-08-29T00:57:11.131591Z"
    },
    "code_folding": []
   },
   "outputs": [],
   "source": [
    "def plot_read_counts(labels, counts, labels_on_flowcell, labels_in_run,\n",
    "                     possible_labels=None, ax=None, vmax=None, title_note=None):\n",
    "    from matplotlib.patches import Patch\n",
    "    if vmax is None:\n",
    "        vmax = max(counts) + max(counts)\n",
    "    if ax == None:\n",
    "        fig, ax = plt.subplots(figsize=(30, 8))\n",
    "    if possible_labels is None:\n",
    "        possible_labels = labels[:]\n",
    "    g = sns.barplot(x=labels, y=counts, order=possible_labels, ax=ax)\n",
    "    title = \"#/reads identified per barcode\"\n",
    "    if title_note is not None:\n",
    "        title += \"\\n(%s)\" % title_note\n",
    "    ax.set_title(title)\n",
    "    ax.set_xlabel(\"Barcode ID\")\n",
    "    ax.set_ylabel(\"Read counts\")\n",
    "    ax.set_ylim([0, vmax])\n",
    "    \n",
    "    prev_text_height = 0\n",
    "    for j, label in enumerate(possible_labels):\n",
    "        if label in labels:\n",
    "            count = counts[labels.index(label)]\n",
    "        else:\n",
    "            count = 0\n",
    "        if label == \"-1\":\n",
    "            continue\n",
    "\n",
    "#         try:\n",
    "#             label = int(label)\n",
    "#         except:\n",
    "#             pass\n",
    "        \n",
    "        if label in labels_in_run:\n",
    "            g.containers[0].get_children()[j].set_facecolor(\"tab:red\")\n",
    "            font_kwargs = {\"color\": \"tab:red\", \"weight\": \"bold\"} \n",
    "        elif label in labels_on_flowcell:\n",
    "            g.containers[0].get_children()[j].set_facecolor(\"tab:blue\")\n",
    "            font_kwargs = {\"color\": \"k\", \"weight\": \"bold\"}\n",
    "        else:\n",
    "            g.containers[0].get_children()[j].set_facecolor(\"k\")\n",
    "            font_kwargs = {\"color\": \"k\", \"weight\": \"normal\"}\n",
    "            \n",
    "        diff = prev_text_height - (count + 0.01 * vmax)\n",
    "        if count < 100:\n",
    "            text_height = count + .01 * vmax\n",
    "            ax.text(j, text_height, count, ha=\"center\", **font_kwargs)\n",
    "        elif diff < 0 and np.abs(diff) < vmax * .06:\n",
    "            text_height = np.max([prev_text_height + .035 * vmax, count + .01 * vmax])\n",
    "            ax.text(j, text_height, count, ha=\"center\", **font_kwargs)\n",
    "        elif np.abs(diff) < vmax * .05:\n",
    "            text_height = np.min([prev_text_height - .01 * vmax, count + .01 * vmax])\n",
    "            ax.text(j, text_height, count, ha=\"center\", **font_kwargs)\n",
    "        else:\n",
    "            text_height = count + .01 * vmax\n",
    "            ax.text(j, text_height, count, ha=\"center\", **font_kwargs)\n",
    "        prev_text_height = text_height\n",
    "        \n",
    "    legend_elements = [Patch(facecolor='k', edgecolor='k',\n",
    "                         label='never been run on this flowcell'),\n",
    "                       Patch(facecolor='tab:blue', edgecolor='tab:blue',\n",
    "                         label='prev run on flowcell'),\n",
    "                       Patch(facecolor='tab:red', edgecolor='tab:red',\n",
    "                         label='current run on flowcell')]\n",
    "    leg = ax.legend(handles=legend_elements)\n",
    "    t1, t2, t3 = leg.get_texts()\n",
    "    t2._fontproperties = t1._fontproperties.copy()\n",
    "    t3._fontproperties = t1._fontproperties.copy()\n",
    "    t2.set_weight('bold')\n",
    "    t3.set_weight('bold')\n",
    "    t3.set_color(\"tab:red\")\n",
    "    return ax"
   ]
  },
  {
   "cell_type": "code",
   "execution_count": 77,
   "metadata": {
    "ExecuteTime": {
     "end_time": "2019-08-29T00:57:15.780027Z",
     "start_time": "2019-08-29T00:57:11.799790Z"
    }
   },
   "outputs": [
    {
     "data": {
      "text/plain": [
       "<matplotlib.axes._subplots.AxesSubplot at 0x7fd199334ef0>"
      ]
     },
     "execution_count": 77,
     "metadata": {},
     "output_type": "execute_result"
    },
    {
     "data": {
      "image/png": "[encoded data removed]",
      "text/plain": [
       "<Figure size 2160x576 with 1 Axes>"
      ]
     },
     "metadata": {},
     "output_type": "display_data"
    }
   ],
   "source": [
    "molbits = [str(x) for x in m]\n",
    "counts = list(c)\n",
    "on_flowcell = [str(x) for x in molbits_on_flowcell]\n",
    "in_run = [str(x) for x in molbits_in_run]\n",
    "poss_molbits = [str(x) for x in range(96)]\n",
    "plot_read_counts(molbits, counts, on_flowcell, in_run, possible_labels=poss_molbits, vmax=16800)"
   ]
  },
  {
   "cell_type": "markdown",
   "metadata": {},
   "source": [
    "# Save labels"
   ]
  },
  {
   "cell_type": "code",
   "execution_count": 78,
   "metadata": {
    "ExecuteTime": {
     "end_time": "2019-08-29T01:27:23.665244Z",
     "start_time": "2019-08-29T01:27:23.643732Z"
    }
   },
   "outputs": [
    {
     "data": {
      "text/plain": [
       "'/path/to/data/MinION_sequencing_data_20190828/guppy_3.2.2_08_28_2019_run_01_exec_20190828/sw/all_852c07bf042182e22f60c3d9425876746c4da9d8.tsv'"
      ]
     },
     "execution_count": 78,
     "metadata": {},
     "output_type": "execute_result"
    }
   ],
   "source": [
    "merged_sw_file"
   ]
  },
  {
   "cell_type": "code",
   "execution_count": 83,
   "metadata": {
    "ExecuteTime": {
     "end_time": "2019-08-29T01:30:41.054568Z",
     "start_time": "2019-08-29T01:30:12.021849Z"
    }
   },
   "outputs": [
    {
     "name": "stderr",
     "output_type": "stream",
     "text": [
      "/ssd1/home/kdorosch/.local/lib/python3.6/site-packages/ipykernel_launcher.py:5: FutureWarning: currently extract(expand=None) means expand=False (return Index/Series/DataFrame) but in a future version of pandas this will be changed to expand=True (return DataFrame)\n",
      "  \"\"\"\n"
     ]
    }
   ],
   "source": [
    "sw = pd.read_csv(merged_sw_file, sep=\"\\t\", index_col=0)\n",
    "sw_scores = sw.filter(regex=\"score_molbit_.*\")\n",
    "best_molbits = sw_scores.apply(np.argmax, axis=1)\n",
    "accept_molbit = sw.lookup(sw.index, best_molbits) >= 15\n",
    "sw[\"best_molbit\"] = best_molbits.str.extract(r\"score_molbit_([\\d]+)\")\n",
    "sw[\"accept_molbit\"] = accept_molbit\n",
    "sw[\"best_molbit_is_in_run\"] = sw[\"best_molbit\"].apply(lambda x: x in molbits_in_run)\n",
    "\n",
    "labels_in_set = sw[np.logical_and(sw[\"accept_molbit\"], sw[\"best_molbit_is_in_run\"])]"
   ]
  },
  {
   "cell_type": "code",
   "execution_count": 82,
   "metadata": {
    "ExecuteTime": {
     "end_time": "2019-08-29T01:29:33.628805Z",
     "start_time": "2019-08-29T01:29:33.611156Z"
    }
   },
   "outputs": [
    {
     "name": "stdout",
     "output_type": "stream",
     "text": [
      "/path/to/data/MinION_sequencing_data_20190828/guppy_3.2.2_08_28_2019_run_01_exec_20190828/sw/labels_for_molbits_in_set_852c07bf042182e22f60c3d9425876746c4da9d8.tsv\n"
     ]
    }
   ],
   "source": [
    "sw_label_file = merged_sw_file.replace(\"all\", \"labels_for_molbits_in_set\")\n",
    "print(sw_label_file)"
   ]
  },
  {
   "cell_type": "code",
   "execution_count": 84,
   "metadata": {
    "ExecuteTime": {
     "end_time": "2019-08-29T01:30:52.512652Z",
     "start_time": "2019-08-29T01:30:51.316069Z"
    }
   },
   "outputs": [
    {
     "name": "stderr",
     "output_type": "stream",
     "text": [
      "/ssd1/home/kdorosch/.local/lib/python3.6/site-packages/ipykernel_launcher.py:2: SettingWithCopyWarning: \n",
      "A value is trying to be set on a copy of a slice from a DataFrame.\n",
      "Try using .loc[row_indexer,col_indexer] = value instead\n",
      "\n",
      "See the caveats in the documentation: http://pandas.pydata.org/pandas-docs/stable/indexing.html#indexing-view-versus-copy\n",
      "  \n"
     ]
    }
   ],
   "source": [
    "best_score = np.max(labels_in_set[[f\"sw_score_molbit_{molbit}\" for molbit in molbits_in_run]], axis=1)\n",
    "labels_in_set[\"best_score\"] = best_score\n",
    "labels_in_set = labels_in_set.loc[:, [\"best_molbit\", \"best_score\"]]\n",
    "labels_in_set.columns = [\"molbit\", \"sw_score\"]\n",
    "\n",
    "labels_in_set.to_csv(sw_label_file, sep=\"\\t\", index=True)"
   ]
  },
  {
   "cell_type": "code",
   "execution_count": null,
   "metadata": {},
   "outputs": [],
   "source": []
  }
 ],
 "metadata": {
  "kernelspec": {
   "display_name": "Python 3",
   "language": "python",
   "name": "python3"
  },
  "language_info": {
   "codemirror_mode": {
    "name": "ipython",
    "version": 3
   },
   "file_extension": ".py",
   "mimetype": "text/x-python",
   "name": "python",
   "nbconvert_exporter": "python",
   "pygments_lexer": "ipython3",
   "version": "3.7.6"
  },
  "toc": {
   "base_numbering": 1,
   "nav_menu": {},
   "number_sections": true,
   "sideBar": true,
   "skip_h1_title": false,
   "title_cell": "Table of Contents",
   "title_sidebar": "Contents",
   "toc_cell": false,
   "toc_position": {},
   "toc_section_display": true,
   "toc_window_display": false
  }
 },
 "nbformat": 4,
 "nbformat_minor": 2
}