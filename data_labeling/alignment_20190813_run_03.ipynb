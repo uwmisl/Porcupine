{
 "cells": [
  {
   "cell_type": "code",
   "execution_count": 1,
   "metadata": {
    "ExecuteTime": {
     "end_time": "2019-08-14T23:25:21.510086Z",
     "start_time": "2019-08-14T23:25:20.199618Z"
    }
   },
   "outputs": [],
   "source": [
    "%load_ext autoreload\n",
    "%autoreload 2\n",
    "%matplotlib inline\n",
    "import os\n",
    "import h5py\n",
    "import numpy as np\n",
    "import pandas as pd\n",
    "import logging\n",
    "import re\n",
    "\n",
    "from matplotlib import pyplot as plt\n",
    "import seaborn as sns\n",
    "sns.set(font_scale=1.8, style=\"whitegrid\")"
   ]
  },
  {
   "cell_type": "code",
   "execution_count": 2,
   "metadata": {
    "ExecuteTime": {
     "end_time": "2019-08-14T23:25:21.526488Z",
     "start_time": "2019-08-14T23:25:21.512117Z"
    }
   },
   "outputs": [],
   "source": [
    "logger = logging.getLogger(__name__)\n",
    "logging.basicConfig(format='[%(asctime)s - %(name)s] %(message)s',\n",
    "                        datefmt='%H:%M:%S',\n",
    "                        level=logging.DEBUG,\n",
    "                        handlers=[logging.StreamHandler()])"
   ]
  },
  {
   "cell_type": "markdown",
   "metadata": {},
   "source": [
    "# Import run settings"
   ]
  },
  {
   "cell_type": "code",
   "execution_count": 3,
   "metadata": {
    "ExecuteTime": {
     "end_time": "2019-08-14T23:25:23.528530Z",
     "start_time": "2019-08-14T23:25:22.385110Z"
    }
   },
   "outputs": [],
   "source": [
    "def import_gdrive_sheet(gdrive_key, sheet_id):\n",
    "    run_spreadsheet = pd.read_csv(\"https://docs.google.com/spreadsheet/ccc?key=\" + \\\n",
    "                                  gdrive_key + \"&output=csv&gid=\" + sheet_id)\n",
    "    if \"date\" in run_spreadsheet.columns:\n",
    "        run_spreadsheet[\"date\"] = run_spreadsheet[\"date\"].astype(str)\n",
    "    return run_spreadsheet\n",
    "\n",
    "gdrive_key = \"gsheet_id_here\"\n",
    "sheet_id = \"0\"\n",
    "set_sheet_id = \"512509543\"\n",
    "\n",
    "run_spreadsheet = import_gdrive_sheet(gdrive_key, sheet_id)\n",
    "set_spreadsheet = import_gdrive_sheet(gdrive_key, set_sheet_id)"
   ]
  },
  {
   "cell_type": "code",
   "execution_count": 4,
   "metadata": {
    "ExecuteTime": {
     "end_time": "2019-08-14T23:25:28.608585Z",
     "start_time": "2019-08-14T23:25:28.583442Z"
    }
   },
   "outputs": [],
   "source": [
    "date = \"20190813\"\n",
    "run_name = \"08_13_2019_run_03\"\n",
    "molbit_file = \"../porcupine_sequences.fa\"\n",
    "run_data = dict(run_spreadsheet[run_spreadsheet[\"run_name\"] == run_name].iloc[0, :])"
   ]
  },
  {
   "cell_type": "code",
   "execution_count": 5,
   "metadata": {
    "ExecuteTime": {
     "end_time": "2019-08-14T23:25:30.799852Z",
     "start_time": "2019-08-14T23:25:30.779931Z"
    }
   },
   "outputs": [],
   "source": [
    "fastq_dir = os.path.join(run_data[\"basecall_dir\"], \"pass\")"
   ]
  },
  {
   "cell_type": "markdown",
   "metadata": {},
   "source": [
    "# Run sequence alignment"
   ]
  },
  {
   "cell_type": "code",
   "execution_count": 7,
   "metadata": {
    "ExecuteTime": {
     "end_time": "2019-08-15T15:34:15.512017Z",
     "start_time": "2019-08-15T15:34:14.096833Z"
    }
   },
   "outputs": [],
   "source": [
    "def read_fasta(fasta_fname):\n",
    "    '''Assumes 1 line per sequence.'''\n",
    "    seqs = []\n",
    "    names = []\n",
    "    with open(fasta_fname) as fa:\n",
    "        for line in fa:\n",
    "            line = line.strip()\n",
    "            if line.startswith(\">\"):\n",
    "                names.append(line.replace(\">\", \"\").split()[0])\n",
    "            else:\n",
    "                seqs.append(line)\n",
    "    return seqs, names"
   ]
  },
  {
   "cell_type": "code",
   "execution_count": 8,
   "metadata": {
    "ExecuteTime": {
     "end_time": "2019-08-15T15:34:15.793039Z",
     "start_time": "2019-08-15T15:34:15.515283Z"
    }
   },
   "outputs": [],
   "source": [
    "def read_fastq(fastq_fname):\n",
    "    seqs = []\n",
    "    with open(fastq_fname) as fq:\n",
    "        fq = fq.readlines()\n",
    "        for line_i in range(0, len(fq), 4):\n",
    "            line = fq[line_i].strip().split(\" \")\n",
    "            read_id = str(line[0])[1:]\n",
    "            seq = fq[line_i + 1].strip()\n",
    "            seqs.append((read_id, seq))\n",
    "    return seqs"
   ]
  },
  {
   "cell_type": "code",
   "execution_count": 9,
   "metadata": {
    "ExecuteTime": {
     "end_time": "2019-08-15T15:34:17.901458Z",
     "start_time": "2019-08-15T15:34:15.795573Z"
    }
   },
   "outputs": [],
   "source": [
    "from pore_utils import smith_waterman as s_w"
   ]
  },
  {
   "cell_type": "code",
   "execution_count": 10,
   "metadata": {
    "ExecuteTime": {
     "end_time": "2019-08-15T15:34:17.955474Z",
     "start_time": "2019-08-15T15:34:17.904401Z"
    }
   },
   "outputs": [],
   "source": [
    "def helper_run_sw(read, molbit_seqs=None, search_len=100,\n",
    "                  cost_fn={\"match\": 2, \"mismatch\": -2, \"gap\": -1}):\n",
    "    read_id, seq = read\n",
    "\n",
    "    sw_search_end = min(len(seq), search_len)\n",
    "    search_seq = seq[:sw_search_end]\n",
    "\n",
    "    results = [read_id]\n",
    "    for header_i, header_seq in enumerate(molbit_seqs):\n",
    "        _, sw_score, _, sw_loc, _ = s_w.s_w(search_seq, header_seq,\n",
    "                                        cost_fn=cost_fn)\n",
    "        results.append(sw_score)\n",
    "    return results\n",
    "\n",
    "\n",
    "def run_sw(fastq_dir, out_dir, search_len=80, molbit_fa=None, n_workers=20,\n",
    "           cost_fn={\"match\": 2, \"mismatch\": -2, \"gap\": -1}):\n",
    "    os.makedirs(out_dir)\n",
    "    import dask.bag as db\n",
    "    from dask.diagnostics import ProgressBar\n",
    "    ProgressBar().register()\n",
    "    \n",
    "    logger.info(\"Getting molbit sequences.\")\n",
    "    assert molbit_fa is not None\n",
    "    assert os.path.exists(molbit_fa)\n",
    "    molbit_seqs, molbit_names = read_fasta(molbit_fa)\n",
    "    \n",
    "    logger.info(\"Locating fastq files.\")\n",
    "    fastq_files = []\n",
    "    for fname in os.listdir(fastq_dir):\n",
    "        if fname.endswith(\".fastq\"):\n",
    "            fastq_files.append(os.path.join(fastq_dir, fname))\n",
    "    assert len(fastq_files) > 0\n",
    "    \n",
    "    logger.info(\"Running SW, one fastq at a time.\")\n",
    "    for fq_i, fq_fname in enumerate(fastq_files):\n",
    "        logger.info(f\"Starting fastq ({fq_i} of {len(fastq_files)})\\n\\t{fq_fname}\")\n",
    "        fq_seqs = read_fastq(fq_fname)\n",
    "        \n",
    "        bag = db.from_sequence(fq_seqs)\n",
    "        dask_map = bag.map(helper_run_sw, molbit_seqs=molbit_seqs,\n",
    "                           search_len=search_len, cost_fn=cost_fn)\n",
    "        sw_scores = dask_map.compute(num_workers=n_workers)\n",
    "        \n",
    "        cols = [\"read_id\"] + [f\"sw_score_molbit_{molbit}\" for molbit in molbit_names]\n",
    "        sw_df = pd.DataFrame(sw_scores, columns=cols)\n",
    "        sw_df.index = sw_df[\"read_id\"]\n",
    "        del sw_df[\"read_id\"]\n",
    "        out_fname = fq_fname.split(\"/\")[-1].replace(\".fastq\", \"\") + \".tsv\"\n",
    "        out_fname = os.path.join(out_dir, out_fname)\n",
    "        logger.info(f\"Saving to file: {out_fname}\")\n",
    "        sw_df.to_csv(out_fname, sep=\"\\t\", index=True)"
   ]
  },
  {
   "cell_type": "code",
   "execution_count": 11,
   "metadata": {
    "ExecuteTime": {
     "end_time": "2019-08-15T15:34:17.972812Z",
     "start_time": "2019-08-15T15:34:17.957863Z"
    }
   },
   "outputs": [],
   "source": [
    "sw_dir = os.path.join(run_data[\"basecall_dir\"], \"sw\")\n",
    "cost_fn = {\"match\": 1, \"mismatch\": -1, \"gap\": -8}"
   ]
  },
  {
   "cell_type": "raw",
   "metadata": {
    "ExecuteTime": {
     "end_time": "2019-08-11T02:58:25.962380Z",
     "start_time": "2019-08-11T02:58:25.723668Z"
    }
   },
   "source": [
    "! rm -rf /path/to/data/MinION_sequencing_data_20190809/guppy_3.2.2_exec_20190809/sw"
   ]
  },
  {
   "cell_type": "code",
   "execution_count": null,
   "metadata": {
    "ExecuteTime": {
     "start_time": "2019-08-15T15:24:55.589Z"
    }
   },
   "outputs": [
    {
     "name": "stderr",
     "output_type": "stream",
     "text": [
      "[08:34:18 - __main__] Getting molbit sequences.\n",
      "[08:34:18 - __main__] Locating fastq files.\n",
      "[08:34:18 - __main__] Running SW, one fastq at a time.\n",
      "[08:34:18 - __main__] Starting fastq (0 of 309)\n",
      "\t/path/to/data/MinION_sequencing_data_20190813/guppy_3.2.2_08_13_2019_run_03_exec_20190814/pass/fastq_runid_7efa32b6b7c4b21dadad2a4c078a9f93bd0cc657_0_0.fastq\n"
     ]
    },
    {
     "name": "stdout",
     "output_type": "stream",
     "text": [
      "[########################################] | 100% Completed | 41.4s\n"
     ]
    },
    {
     "name": "stderr",
     "output_type": "stream",
     "text": [
      "[08:35:00 - __main__] Saving to file: /path/to/data/MinION_sequencing_data_20190813/guppy_3.2.2_08_13_2019_run_03_exec_20190814/sw/fastq_runid_7efa32b6b7c4b21dadad2a4c078a9f93bd0cc657_0_0.tsv\n",
      "[08:35:00 - __main__] Starting fastq (1 of 309)\n",
      "\t/path/to/data/MinION_sequencing_data_20190813/guppy_3.2.2_08_13_2019_run_03_exec_20190814/pass/fastq_runid_7efa32b6b7c4b21dadad2a4c078a9f93bd0cc657_0_1.fastq\n"
     ]
    },
    {
     "name": "stdout",
     "output_type": "stream",
     "text": [
      "[########################################] | 100% Completed | 35.9s\n"
     ]
    },
    {
     "name": "stderr",
     "output_type": "stream",
     "text": [
      "[08:35:36 - __main__] Saving to file: /path/to/data/MinION_sequencing_data_20190813/guppy_3.2.2_08_13_2019_run_03_exec_20190814/sw/fastq_runid_7efa32b6b7c4b21dadad2a4c078a9f93bd0cc657_0_1.tsv\n",
      "[08:35:36 - __main__] Starting fastq (2 of 309)\n",
      "\t/path/to/data/MinION_sequencing_data_20190813/guppy_3.2.2_08_13_2019_run_03_exec_20190814/pass/fastq_runid_7efa32b6b7c4b21dadad2a4c078a9f93bd0cc657_0_2.fastq\n"
     ]
    },
    {
     "name": "stdout",
     "output_type": "stream",
     "text": [
      "[########################################] | 100% Completed | 33.7s\n"
     ]
    },
    {
     "name": "stderr",
     "output_type": "stream",
     "text": [
      "[08:36:10 - __main__] Saving to file: /path/to/data/MinION_sequencing_data_20190813/guppy_3.2.2_08_13_2019_run_03_exec_20190814/sw/fastq_runid_7efa32b6b7c4b21dadad2a4c078a9f93bd0cc657_0_2.tsv\n",
      "[08:36:10 - __main__] Starting fastq (3 of 309)\n",
      "\t/path/to/data/MinION_sequencing_data_20190813/guppy_3.2.2_08_13_2019_run_03_exec_20190814/pass/fastq_runid_7efa32b6b7c4b21dadad2a4c078a9f93bd0cc657_0_3.fastq\n"
     ]
    },
    {
     "name": "stdout",
     "output_type": "stream",
     "text": [
      "[########################################] | 100% Completed | 25.6s\n"
     ]
    },
    {
     "name": "stderr",
     "output_type": "stream",
     "text": [
      "[08:36:36 - __main__] Saving to file: /path/to/data/MinION_sequencing_data_20190813/guppy_3.2.2_08_13_2019_run_03_exec_20190814/sw/fastq_runid_7efa32b6b7c4b21dadad2a4c078a9f93bd0cc657_0_3.tsv\n",
      "[08:36:36 - __main__] Starting fastq (4 of 309)\n",
      "\t/path/to/data/MinION_sequencing_data_20190813/guppy_3.2.2_08_13_2019_run_03_exec_20190814/pass/fastq_runid_7efa32b6b7c4b21dadad2a4c078a9f93bd0cc657_1_0.fastq\n"
     ]
    },
    {
     "name": "stdout",
     "output_type": "stream",
     "text": [
      "[########################################] | 100% Completed | 31.4s\n"
     ]
    },
    {
     "name": "stderr",
     "output_type": "stream",
     "text": [
      "[08:37:08 - __main__] Saving to file: /path/to/data/MinION_sequencing_data_20190813/guppy_3.2.2_08_13_2019_run_03_exec_20190814/sw/fastq_runid_7efa32b6b7c4b21dadad2a4c078a9f93bd0cc657_1_0.tsv\n",
      "[08:37:08 - __main__] Starting fastq (5 of 309)\n",
      "\t/path/to/data/MinION_sequencing_data_20190813/guppy_3.2.2_08_13_2019_run_03_exec_20190814/pass/fastq_runid_7efa32b6b7c4b21dadad2a4c078a9f93bd0cc657_1_1.fastq\n"
     ]
    },
    {
     "name": "stdout",
     "output_type": "stream",
     "text": [
      "[########################################] | 100% Completed | 27.6s\n"
     ]
    },
    {
     "name": "stderr",
     "output_type": "stream",
     "text": [
      "[08:37:36 - __main__] Saving to file: /path/to/data/MinION_sequencing_data_20190813/guppy_3.2.2_08_13_2019_run_03_exec_20190814/sw/fastq_runid_7efa32b6b7c4b21dadad2a4c078a9f93bd0cc657_1_1.tsv\n",
      "[08:37:36 - __main__] Starting fastq (6 of 309)\n",
      "\t/path/to/data/MinION_sequencing_data_20190813/guppy_3.2.2_08_13_2019_run_03_exec_20190814/pass/fastq_runid_7efa32b6b7c4b21dadad2a4c078a9f93bd0cc657_1_2.fastq\n"
     ]
    },
    {
     "name": "stdout",
     "output_type": "stream",
     "text": [
      "[########################################] | 100% Completed | 36.3s\n"
     ]
    },
    {
     "name": "stderr",
     "output_type": "stream",
     "text": [
      "[08:38:13 - __main__] Saving to file: /path/to/data/MinION_sequencing_data_20190813/guppy_3.2.2_08_13_2019_run_03_exec_20190814/sw/fastq_runid_7efa32b6b7c4b21dadad2a4c078a9f93bd0cc657_1_2.tsv\n",
      "[08:38:13 - __main__] Starting fastq (7 of 309)\n",
      "\t/path/to/data/MinION_sequencing_data_20190813/guppy_3.2.2_08_13_2019_run_03_exec_20190814/pass/fastq_runid_7efa32b6b7c4b21dadad2a4c078a9f93bd0cc657_1_3.fastq\n"
     ]
    },
    {
     "name": "stdout",
     "output_type": "stream",
     "text": [
      "[########################################] | 100% Completed | 35.6s\n"
     ]
    },
    {
     "name": "stderr",
     "output_type": "stream",
     "text": [
      "[08:38:49 - __main__] Saving to file: /path/to/data/MinION_sequencing_data_20190813/guppy_3.2.2_08_13_2019_run_03_exec_20190814/sw/fastq_runid_7efa32b6b7c4b21dadad2a4c078a9f93bd0cc657_1_3.tsv\n",
      "[08:38:49 - __main__] Starting fastq (8 of 309)\n",
      "\t/path/to/data/MinION_sequencing_data_20190813/guppy_3.2.2_08_13_2019_run_03_exec_20190814/pass/fastq_runid_7efa32b6b7c4b21dadad2a4c078a9f93bd0cc657_2_0.fastq\n"
     ]
    },
    {
     "name": "stdout",
     "output_type": "stream",
     "text": [
      "[########################################] | 100% Completed | 49.8s\n"
     ]
    },
    {
     "name": "stderr",
     "output_type": "stream",
     "text": [
      "[08:39:39 - __main__] Saving to file: /path/to/data/MinION_sequencing_data_20190813/guppy_3.2.2_08_13_2019_run_03_exec_20190814/sw/fastq_runid_7efa32b6b7c4b21dadad2a4c078a9f93bd0cc657_2_0.tsv\n",
      "[08:39:39 - __main__] Starting fastq (9 of 309)\n",
      "\t/path/to/data/MinION_sequencing_data_20190813/guppy_3.2.2_08_13_2019_run_03_exec_20190814/pass/fastq_runid_7efa32b6b7c4b21dadad2a4c078a9f93bd0cc657_2_1.fastq\n"
     ]
    },
    {
     "name": "stdout",
     "output_type": "stream",
     "text": [
      "[########################################] | 100% Completed | 39.9s\n"
     ]
    },
    {
     "name": "stderr",
     "output_type": "stream",
     "text": [
      "[08:40:19 - __main__] Saving to file: /path/to/data/MinION_sequencing_data_20190813/guppy_3.2.2_08_13_2019_run_03_exec_20190814/sw/fastq_runid_7efa32b6b7c4b21dadad2a4c078a9f93bd0cc657_2_1.tsv\n",
      "[08:40:19 - __main__] Starting fastq (10 of 309)\n",
      "\t/path/to/data/MinION_sequencing_data_20190813/guppy_3.2.2_08_13_2019_run_03_exec_20190814/pass/fastq_runid_7efa32b6b7c4b21dadad2a4c078a9f93bd0cc657_2_2.fastq\n"
     ]
    },
    {
     "name": "stdout",
     "output_type": "stream",
     "text": [
      "[########################################] | 100% Completed | 13.5s\n"
     ]
    },
    {
     "name": "stderr",
     "output_type": "stream",
     "text": [
      "[08:40:33 - __main__] Saving to file: /path/to/data/MinION_sequencing_data_20190813/guppy_3.2.2_08_13_2019_run_03_exec_20190814/sw/fastq_runid_7efa32b6b7c4b21dadad2a4c078a9f93bd0cc657_2_2.tsv\n",
      "[08:40:33 - __main__] Starting fastq (11 of 309)\n",
      "\t/path/to/data/MinION_sequencing_data_20190813/guppy_3.2.2_08_13_2019_run_03_exec_20190814/pass/fastq_runid_7efa32b6b7c4b21dadad2a4c078a9f93bd0cc657_3_0.fastq\n"
     ]
    },
    {
     "name": "stdout",
     "output_type": "stream",
     "text": [
      "[########################################] | 100% Completed | 39.9s\n"
     ]
    },
    {
     "name": "stderr",
     "output_type": "stream",
     "text": [
      "[08:41:13 - __main__] Saving to file: /path/to/data/MinION_sequencing_data_20190813/guppy_3.2.2_08_13_2019_run_03_exec_20190814/sw/fastq_runid_7efa32b6b7c4b21dadad2a4c078a9f93bd0cc657_3_0.tsv\n",
      "[08:41:13 - __main__] Starting fastq (12 of 309)\n",
      "\t/path/to/data/MinION_sequencing_data_20190813/guppy_3.2.2_08_13_2019_run_03_exec_20190814/pass/fastq_runid_7efa32b6b7c4b21dadad2a4c078a9f93bd0cc657_2_3.fastq\n"
     ]
    },
    {
     "name": "stdout",
     "output_type": "stream",
     "text": [
      "[########################################] | 100% Completed | 27.4s\n"
     ]
    },
    {
     "name": "stderr",
     "output_type": "stream",
     "text": [
      "[08:41:41 - __main__] Saving to file: /path/to/data/MinION_sequencing_data_20190813/guppy_3.2.2_08_13_2019_run_03_exec_20190814/sw/fastq_runid_7efa32b6b7c4b21dadad2a4c078a9f93bd0cc657_2_3.tsv\n",
      "[08:41:41 - __main__] Starting fastq (13 of 309)\n",
      "\t/path/to/data/MinION_sequencing_data_20190813/guppy_3.2.2_08_13_2019_run_03_exec_20190814/pass/fastq_runid_7efa32b6b7c4b21dadad2a4c078a9f93bd0cc657_3_1.fastq\n"
     ]
    },
    {
     "name": "stdout",
     "output_type": "stream",
     "text": [
      "[########################################] | 100% Completed | 41.9s\n"
     ]
    },
    {
     "name": "stderr",
     "output_type": "stream",
     "text": [
      "[08:42:23 - __main__] Saving to file: /path/to/data/MinION_sequencing_data_20190813/guppy_3.2.2_08_13_2019_run_03_exec_20190814/sw/fastq_runid_7efa32b6b7c4b21dadad2a4c078a9f93bd0cc657_3_1.tsv\n",
      "[08:42:23 - __main__] Starting fastq (14 of 309)\n",
      "\t/path/to/data/MinION_sequencing_data_20190813/guppy_3.2.2_08_13_2019_run_03_exec_20190814/pass/fastq_runid_7efa32b6b7c4b21dadad2a4c078a9f93bd0cc657_3_2.fastq\n"
     ]
    },
    {
     "name": "stdout",
     "output_type": "stream",
     "text": [
      "[########################################] | 100% Completed | 35.5s\n"
     ]
    },
    {
     "name": "stderr",
     "output_type": "stream",
     "text": [
      "[08:42:59 - __main__] Saving to file: /path/to/data/MinION_sequencing_data_20190813/guppy_3.2.2_08_13_2019_run_03_exec_20190814/sw/fastq_runid_7efa32b6b7c4b21dadad2a4c078a9f93bd0cc657_3_2.tsv\n",
      "[08:42:59 - __main__] Starting fastq (15 of 309)\n",
      "\t/path/to/data/MinION_sequencing_data_20190813/guppy_3.2.2_08_13_2019_run_03_exec_20190814/pass/fastq_runid_7efa32b6b7c4b21dadad2a4c078a9f93bd0cc657_3_3.fastq\n"
     ]
    },
    {
     "name": "stdout",
     "output_type": "stream",
     "text": [
      "[########################################] | 100% Completed | 15.1s\n"
     ]
    },
    {
     "name": "stderr",
     "output_type": "stream",
     "text": [
      "[08:43:14 - __main__] Saving to file: /path/to/data/MinION_sequencing_data_20190813/guppy_3.2.2_08_13_2019_run_03_exec_20190814/sw/fastq_runid_7efa32b6b7c4b21dadad2a4c078a9f93bd0cc657_3_3.tsv\n",
      "[08:43:14 - __main__] Starting fastq (16 of 309)\n",
      "\t/path/to/data/MinION_sequencing_data_20190813/guppy_3.2.2_08_13_2019_run_03_exec_20190814/pass/fastq_runid_7efa32b6b7c4b21dadad2a4c078a9f93bd0cc657_4_0.fastq\n"
     ]
    },
    {
     "name": "stdout",
     "output_type": "stream",
     "text": [
      "[########################################] | 100% Completed | 34.9s\n"
     ]
    },
    {
     "name": "stderr",
     "output_type": "stream",
     "text": [
      "[08:43:50 - __main__] Saving to file: /path/to/data/MinION_sequencing_data_20190813/guppy_3.2.2_08_13_2019_run_03_exec_20190814/sw/fastq_runid_7efa32b6b7c4b21dadad2a4c078a9f93bd0cc657_4_0.tsv\n",
      "[08:43:50 - __main__] Starting fastq (17 of 309)\n",
      "\t/path/to/data/MinION_sequencing_data_20190813/guppy_3.2.2_08_13_2019_run_03_exec_20190814/pass/fastq_runid_7efa32b6b7c4b21dadad2a4c078a9f93bd0cc657_4_1.fastq\n"
     ]
    },
    {
     "name": "stdout",
     "output_type": "stream",
     "text": [
      "[########################################] | 100% Completed | 32.7s\n"
     ]
    },
    {
     "name": "stderr",
     "output_type": "stream",
     "text": [
      "[08:44:23 - __main__] Saving to file: /path/to/data/MinION_sequencing_data_20190813/guppy_3.2.2_08_13_2019_run_03_exec_20190814/sw/fastq_runid_7efa32b6b7c4b21dadad2a4c078a9f93bd0cc657_4_1.tsv\n",
      "[08:44:23 - __main__] Starting fastq (18 of 309)\n",
      "\t/path/to/data/MinION_sequencing_data_20190813/guppy_3.2.2_08_13_2019_run_03_exec_20190814/pass/fastq_runid_7efa32b6b7c4b21dadad2a4c078a9f93bd0cc657_4_2.fastq\n"
     ]
    },
    {
     "name": "stdout",
     "output_type": "stream",
     "text": [
      "[########################################] | 100% Completed |  1min  6.9s\n"
     ]
    },
    {
     "name": "stderr",
     "output_type": "stream",
     "text": [
      "[08:45:30 - __main__] Saving to file: /path/to/data/MinION_sequencing_data_20190813/guppy_3.2.2_08_13_2019_run_03_exec_20190814/sw/fastq_runid_7efa32b6b7c4b21dadad2a4c078a9f93bd0cc657_4_2.tsv\n",
      "[08:45:30 - __main__] Starting fastq (19 of 309)\n",
      "\t/path/to/data/MinION_sequencing_data_20190813/guppy_3.2.2_08_13_2019_run_03_exec_20190814/pass/fastq_runid_7efa32b6b7c4b21dadad2a4c078a9f93bd0cc657_4_3.fastq\n"
     ]
    },
    {
     "name": "stdout",
     "output_type": "stream",
     "text": [
      "[########################################] | 100% Completed |  1.8s\n"
     ]
    },
    {
     "name": "stderr",
     "output_type": "stream",
     "text": [
      "[08:45:32 - __main__] Saving to file: /path/to/data/MinION_sequencing_data_20190813/guppy_3.2.2_08_13_2019_run_03_exec_20190814/sw/fastq_runid_7efa32b6b7c4b21dadad2a4c078a9f93bd0cc657_4_3.tsv\n",
      "[08:45:32 - __main__] Starting fastq (20 of 309)\n",
      "\t/path/to/data/MinION_sequencing_data_20190813/guppy_3.2.2_08_13_2019_run_03_exec_20190814/pass/fastq_runid_7efa32b6b7c4b21dadad2a4c078a9f93bd0cc657_5_0.fastq\n"
     ]
    },
    {
     "name": "stdout",
     "output_type": "stream",
     "text": [
      "[########################################] | 100% Completed | 47.6s\n"
     ]
    },
    {
     "name": "stderr",
     "output_type": "stream",
     "text": [
      "[08:46:20 - __main__] Saving to file: /path/to/data/MinION_sequencing_data_20190813/guppy_3.2.2_08_13_2019_run_03_exec_20190814/sw/fastq_runid_7efa32b6b7c4b21dadad2a4c078a9f93bd0cc657_5_0.tsv\n",
      "[08:46:20 - __main__] Starting fastq (21 of 309)\n",
      "\t/path/to/data/MinION_sequencing_data_20190813/guppy_3.2.2_08_13_2019_run_03_exec_20190814/pass/fastq_runid_7efa32b6b7c4b21dadad2a4c078a9f93bd0cc657_5_1.fastq\n"
     ]
    },
    {
     "name": "stdout",
     "output_type": "stream",
     "text": [
      "[########################################] | 100% Completed | 35.8s\n"
     ]
    },
    {
     "name": "stderr",
     "output_type": "stream",
     "text": [
      "[08:46:56 - __main__] Saving to file: /path/to/data/MinION_sequencing_data_20190813/guppy_3.2.2_08_13_2019_run_03_exec_20190814/sw/fastq_runid_7efa32b6b7c4b21dadad2a4c078a9f93bd0cc657_5_1.tsv\n",
      "[08:46:56 - __main__] Starting fastq (22 of 309)\n",
      "\t/path/to/data/MinION_sequencing_data_20190813/guppy_3.2.2_08_13_2019_run_03_exec_20190814/pass/fastq_runid_7efa32b6b7c4b21dadad2a4c078a9f93bd0cc657_5_2.fastq\n"
     ]
    },
    {
     "name": "stdout",
     "output_type": "stream",
     "text": [
      "[########################################] | 100% Completed | 39.7s\n"
     ]
    },
    {
     "name": "stderr",
     "output_type": "stream",
     "text": [
      "[08:47:36 - __main__] Saving to file: /path/to/data/MinION_sequencing_data_20190813/guppy_3.2.2_08_13_2019_run_03_exec_20190814/sw/fastq_runid_7efa32b6b7c4b21dadad2a4c078a9f93bd0cc657_5_2.tsv\n",
      "[08:47:36 - __main__] Starting fastq (23 of 309)\n",
      "\t/path/to/data/MinION_sequencing_data_20190813/guppy_3.2.2_08_13_2019_run_03_exec_20190814/pass/fastq_runid_7efa32b6b7c4b21dadad2a4c078a9f93bd0cc657_5_3.fastq\n"
     ]
    },
    {
     "name": "stdout",
     "output_type": "stream",
     "text": [
      "[########################################] | 100% Completed |  8.1s\n"
     ]
    },
    {
     "name": "stderr",
     "output_type": "stream",
     "text": [
      "[08:47:45 - __main__] Saving to file: /path/to/data/MinION_sequencing_data_20190813/guppy_3.2.2_08_13_2019_run_03_exec_20190814/sw/fastq_runid_7efa32b6b7c4b21dadad2a4c078a9f93bd0cc657_5_3.tsv\n",
      "[08:47:45 - __main__] Starting fastq (24 of 309)\n",
      "\t/path/to/data/MinION_sequencing_data_20190813/guppy_3.2.2_08_13_2019_run_03_exec_20190814/pass/fastq_runid_7efa32b6b7c4b21dadad2a4c078a9f93bd0cc657_6_0.fastq\n"
     ]
    },
    {
     "name": "stdout",
     "output_type": "stream",
     "text": [
      "[########################################] | 100% Completed |  1min 10.2s\n"
     ]
    },
    {
     "name": "stderr",
     "output_type": "stream",
     "text": [
      "[08:48:55 - __main__] Saving to file: /path/to/data/MinION_sequencing_data_20190813/guppy_3.2.2_08_13_2019_run_03_exec_20190814/sw/fastq_runid_7efa32b6b7c4b21dadad2a4c078a9f93bd0cc657_6_0.tsv\n",
      "[08:48:55 - __main__] Starting fastq (25 of 309)\n",
      "\t/path/to/data/MinION_sequencing_data_20190813/guppy_3.2.2_08_13_2019_run_03_exec_20190814/pass/fastq_runid_7efa32b6b7c4b21dadad2a4c078a9f93bd0cc657_6_1.fastq\n"
     ]
    },
    {
     "name": "stdout",
     "output_type": "stream",
     "text": [
      "[########################################] | 100% Completed | 52.5s\n"
     ]
    },
    {
     "name": "stderr",
     "output_type": "stream",
     "text": [
      "[08:49:48 - __main__] Saving to file: /path/to/data/MinION_sequencing_data_20190813/guppy_3.2.2_08_13_2019_run_03_exec_20190814/sw/fastq_runid_7efa32b6b7c4b21dadad2a4c078a9f93bd0cc657_6_1.tsv\n",
      "[08:49:48 - __main__] Starting fastq (26 of 309)\n",
      "\t/path/to/data/MinION_sequencing_data_20190813/guppy_3.2.2_08_13_2019_run_03_exec_20190814/pass/fastq_runid_7efa32b6b7c4b21dadad2a4c078a9f93bd0cc657_6_2.fastq\n"
     ]
    },
    {
     "name": "stdout",
     "output_type": "stream",
     "text": [
      "[########################################] | 100% Completed |  7.5s\n"
     ]
    },
    {
     "name": "stderr",
     "output_type": "stream",
     "text": [
      "[08:49:56 - __main__] Saving to file: /path/to/data/MinION_sequencing_data_20190813/guppy_3.2.2_08_13_2019_run_03_exec_20190814/sw/fastq_runid_7efa32b6b7c4b21dadad2a4c078a9f93bd0cc657_6_2.tsv\n",
      "[08:49:56 - __main__] Starting fastq (27 of 309)\n",
      "\t/path/to/data/MinION_sequencing_data_20190813/guppy_3.2.2_08_13_2019_run_03_exec_20190814/pass/fastq_runid_7efa32b6b7c4b21dadad2a4c078a9f93bd0cc657_6_3.fastq\n"
     ]
    },
    {
     "name": "stdout",
     "output_type": "stream",
     "text": [
      "[########################################] | 100% Completed |  4.1s\n"
     ]
    },
    {
     "name": "stderr",
     "output_type": "stream",
     "text": [
      "[08:50:00 - __main__] Saving to file: /path/to/data/MinION_sequencing_data_20190813/guppy_3.2.2_08_13_2019_run_03_exec_20190814/sw/fastq_runid_7efa32b6b7c4b21dadad2a4c078a9f93bd0cc657_6_3.tsv\n",
      "[08:50:00 - __main__] Starting fastq (28 of 309)\n",
      "\t/path/to/data/MinION_sequencing_data_20190813/guppy_3.2.2_08_13_2019_run_03_exec_20190814/pass/fastq_runid_7efa32b6b7c4b21dadad2a4c078a9f93bd0cc657_7_0.fastq\n"
     ]
    },
    {
     "name": "stdout",
     "output_type": "stream",
     "text": [
      "[########################################] | 100% Completed | 51.8s\n"
     ]
    },
    {
     "name": "stderr",
     "output_type": "stream",
     "text": [
      "[08:50:52 - __main__] Saving to file: /path/to/data/MinION_sequencing_data_20190813/guppy_3.2.2_08_13_2019_run_03_exec_20190814/sw/fastq_runid_7efa32b6b7c4b21dadad2a4c078a9f93bd0cc657_7_0.tsv\n",
      "[08:50:53 - __main__] Starting fastq (29 of 309)\n",
      "\t/path/to/data/MinION_sequencing_data_20190813/guppy_3.2.2_08_13_2019_run_03_exec_20190814/pass/fastq_runid_7efa32b6b7c4b21dadad2a4c078a9f93bd0cc657_7_1.fastq\n"
     ]
    },
    {
     "name": "stdout",
     "output_type": "stream",
     "text": [
      "[########################################] | 100% Completed | 35.6s\n"
     ]
    },
    {
     "name": "stderr",
     "output_type": "stream",
     "text": [
      "[08:51:28 - __main__] Saving to file: /path/to/data/MinION_sequencing_data_20190813/guppy_3.2.2_08_13_2019_run_03_exec_20190814/sw/fastq_runid_7efa32b6b7c4b21dadad2a4c078a9f93bd0cc657_7_1.tsv\n",
      "[08:51:28 - __main__] Starting fastq (30 of 309)\n",
      "\t/path/to/data/MinION_sequencing_data_20190813/guppy_3.2.2_08_13_2019_run_03_exec_20190814/pass/fastq_runid_7efa32b6b7c4b21dadad2a4c078a9f93bd0cc657_7_2.fastq\n"
     ]
    },
    {
     "name": "stdout",
     "output_type": "stream",
     "text": [
      "[########################################] | 100% Completed | 39.5s\n"
     ]
    },
    {
     "name": "stderr",
     "output_type": "stream",
     "text": [
      "[08:52:08 - __main__] Saving to file: /path/to/data/MinION_sequencing_data_20190813/guppy_3.2.2_08_13_2019_run_03_exec_20190814/sw/fastq_runid_7efa32b6b7c4b21dadad2a4c078a9f93bd0cc657_7_2.tsv\n",
      "[08:52:08 - __main__] Starting fastq (31 of 309)\n",
      "\t/path/to/data/MinION_sequencing_data_20190813/guppy_3.2.2_08_13_2019_run_03_exec_20190814/pass/fastq_runid_7efa32b6b7c4b21dadad2a4c078a9f93bd0cc657_7_3.fastq\n"
     ]
    },
    {
     "name": "stdout",
     "output_type": "stream",
     "text": [
      "[########################################] | 100% Completed |  7.0s\n"
     ]
    },
    {
     "name": "stderr",
     "output_type": "stream",
     "text": [
      "[08:52:16 - __main__] Saving to file: /path/to/data/MinION_sequencing_data_20190813/guppy_3.2.2_08_13_2019_run_03_exec_20190814/sw/fastq_runid_7efa32b6b7c4b21dadad2a4c078a9f93bd0cc657_7_3.tsv\n",
      "[08:52:16 - __main__] Starting fastq (32 of 309)\n",
      "\t/path/to/data/MinION_sequencing_data_20190813/guppy_3.2.2_08_13_2019_run_03_exec_20190814/pass/fastq_runid_7efa32b6b7c4b21dadad2a4c078a9f93bd0cc657_8_0.fastq\n"
     ]
    },
    {
     "name": "stdout",
     "output_type": "stream",
     "text": [
      "[########################################] | 100% Completed | 59.5s\n"
     ]
    },
    {
     "name": "stderr",
     "output_type": "stream",
     "text": [
      "[08:53:15 - __main__] Saving to file: /path/to/data/MinION_sequencing_data_20190813/guppy_3.2.2_08_13_2019_run_03_exec_20190814/sw/fastq_runid_7efa32b6b7c4b21dadad2a4c078a9f93bd0cc657_8_0.tsv\n",
      "[08:53:16 - __main__] Starting fastq (33 of 309)\n",
      "\t/path/to/data/MinION_sequencing_data_20190813/guppy_3.2.2_08_13_2019_run_03_exec_20190814/pass/fastq_runid_7efa32b6b7c4b21dadad2a4c078a9f93bd0cc657_8_1.fastq\n"
     ]
    },
    {
     "name": "stdout",
     "output_type": "stream",
     "text": [
      "[########################################] | 100% Completed |  1min  1.1s\n"
     ]
    },
    {
     "name": "stderr",
     "output_type": "stream",
     "text": [
      "[08:54:17 - __main__] Saving to file: /path/to/data/MinION_sequencing_data_20190813/guppy_3.2.2_08_13_2019_run_03_exec_20190814/sw/fastq_runid_7efa32b6b7c4b21dadad2a4c078a9f93bd0cc657_8_1.tsv\n",
      "[08:54:17 - __main__] Starting fastq (34 of 309)\n",
      "\t/path/to/data/MinION_sequencing_data_20190813/guppy_3.2.2_08_13_2019_run_03_exec_20190814/pass/fastq_runid_7efa32b6b7c4b21dadad2a4c078a9f93bd0cc657_8_2.fastq\n"
     ]
    },
    {
     "name": "stdout",
     "output_type": "stream",
     "text": [
      "[########################################] | 100% Completed | 13.0s\n"
     ]
    },
    {
     "name": "stderr",
     "output_type": "stream",
     "text": [
      "[08:54:30 - __main__] Saving to file: /path/to/data/MinION_sequencing_data_20190813/guppy_3.2.2_08_13_2019_run_03_exec_20190814/sw/fastq_runid_7efa32b6b7c4b21dadad2a4c078a9f93bd0cc657_8_2.tsv\n",
      "[08:54:30 - __main__] Starting fastq (35 of 309)\n",
      "\t/path/to/data/MinION_sequencing_data_20190813/guppy_3.2.2_08_13_2019_run_03_exec_20190814/pass/fastq_runid_7efa32b6b7c4b21dadad2a4c078a9f93bd0cc657_9_0.fastq\n"
     ]
    },
    {
     "name": "stdout",
     "output_type": "stream",
     "text": [
      "[########################################] | 100% Completed | 29.0s\n"
     ]
    },
    {
     "name": "stderr",
     "output_type": "stream",
     "text": [
      "[08:55:00 - __main__] Saving to file: /path/to/data/MinION_sequencing_data_20190813/guppy_3.2.2_08_13_2019_run_03_exec_20190814/sw/fastq_runid_7efa32b6b7c4b21dadad2a4c078a9f93bd0cc657_9_0.tsv\n",
      "[08:55:00 - __main__] Starting fastq (36 of 309)\n",
      "\t/path/to/data/MinION_sequencing_data_20190813/guppy_3.2.2_08_13_2019_run_03_exec_20190814/pass/fastq_runid_7efa32b6b7c4b21dadad2a4c078a9f93bd0cc657_8_3.fastq\n"
     ]
    },
    {
     "name": "stdout",
     "output_type": "stream",
     "text": [
      "[########################################] | 100% Completed |  0.8s\n"
     ]
    },
    {
     "name": "stderr",
     "output_type": "stream",
     "text": [
      "[08:55:01 - __main__] Saving to file: /path/to/data/MinION_sequencing_data_20190813/guppy_3.2.2_08_13_2019_run_03_exec_20190814/sw/fastq_runid_7efa32b6b7c4b21dadad2a4c078a9f93bd0cc657_8_3.tsv\n",
      "[08:55:01 - __main__] Starting fastq (37 of 309)\n",
      "\t/path/to/data/MinION_sequencing_data_20190813/guppy_3.2.2_08_13_2019_run_03_exec_20190814/pass/fastq_runid_7efa32b6b7c4b21dadad2a4c078a9f93bd0cc657_9_1.fastq\n"
     ]
    },
    {
     "name": "stdout",
     "output_type": "stream",
     "text": [
      "[########################################] | 100% Completed | 49.5s\n"
     ]
    },
    {
     "name": "stderr",
     "output_type": "stream",
     "text": [
      "[08:55:50 - __main__] Saving to file: /path/to/data/MinION_sequencing_data_20190813/guppy_3.2.2_08_13_2019_run_03_exec_20190814/sw/fastq_runid_7efa32b6b7c4b21dadad2a4c078a9f93bd0cc657_9_1.tsv\n",
      "[08:55:51 - __main__] Starting fastq (38 of 309)\n",
      "\t/path/to/data/MinION_sequencing_data_20190813/guppy_3.2.2_08_13_2019_run_03_exec_20190814/pass/fastq_runid_7efa32b6b7c4b21dadad2a4c078a9f93bd0cc657_9_2.fastq\n"
     ]
    },
    {
     "name": "stdout",
     "output_type": "stream",
     "text": [
      "[########################################] | 100% Completed | 40.3s\n"
     ]
    },
    {
     "name": "stderr",
     "output_type": "stream",
     "text": [
      "[08:56:31 - __main__] Saving to file: /path/to/data/MinION_sequencing_data_20190813/guppy_3.2.2_08_13_2019_run_03_exec_20190814/sw/fastq_runid_7efa32b6b7c4b21dadad2a4c078a9f93bd0cc657_9_2.tsv\n",
      "[08:56:31 - __main__] Starting fastq (39 of 309)\n",
      "\t/path/to/data/MinION_sequencing_data_20190813/guppy_3.2.2_08_13_2019_run_03_exec_20190814/pass/fastq_runid_7efa32b6b7c4b21dadad2a4c078a9f93bd0cc657_9_3.fastq\n"
     ]
    },
    {
     "name": "stdout",
     "output_type": "stream",
     "text": [
      "[########################################] | 100% Completed | 11.5s\n"
     ]
    },
    {
     "name": "stderr",
     "output_type": "stream",
     "text": [
      "[08:56:43 - __main__] Saving to file: /path/to/data/MinION_sequencing_data_20190813/guppy_3.2.2_08_13_2019_run_03_exec_20190814/sw/fastq_runid_7efa32b6b7c4b21dadad2a4c078a9f93bd0cc657_9_3.tsv\n",
      "[08:56:43 - __main__] Starting fastq (40 of 309)\n",
      "\t/path/to/data/MinION_sequencing_data_20190813/guppy_3.2.2_08_13_2019_run_03_exec_20190814/pass/fastq_runid_7efa32b6b7c4b21dadad2a4c078a9f93bd0cc657_10_0.fastq\n"
     ]
    },
    {
     "name": "stdout",
     "output_type": "stream",
     "text": [
      "[########################################] | 100% Completed |  1min  7.6s\n"
     ]
    },
    {
     "name": "stderr",
     "output_type": "stream",
     "text": [
      "[08:57:51 - __main__] Saving to file: /path/to/data/MinION_sequencing_data_20190813/guppy_3.2.2_08_13_2019_run_03_exec_20190814/sw/fastq_runid_7efa32b6b7c4b21dadad2a4c078a9f93bd0cc657_10_0.tsv\n",
      "[08:57:51 - __main__] Starting fastq (41 of 309)\n",
      "\t/path/to/data/MinION_sequencing_data_20190813/guppy_3.2.2_08_13_2019_run_03_exec_20190814/pass/fastq_runid_7efa32b6b7c4b21dadad2a4c078a9f93bd0cc657_10_1.fastq\n"
     ]
    },
    {
     "name": "stdout",
     "output_type": "stream",
     "text": [
      "[########################################] | 100% Completed | 35.9s\n"
     ]
    },
    {
     "name": "stderr",
     "output_type": "stream",
     "text": [
      "[08:58:27 - __main__] Saving to file: /path/to/data/MinION_sequencing_data_20190813/guppy_3.2.2_08_13_2019_run_03_exec_20190814/sw/fastq_runid_7efa32b6b7c4b21dadad2a4c078a9f93bd0cc657_10_1.tsv\n",
      "[08:58:27 - __main__] Starting fastq (42 of 309)\n",
      "\t/path/to/data/MinION_sequencing_data_20190813/guppy_3.2.2_08_13_2019_run_03_exec_20190814/pass/fastq_runid_7efa32b6b7c4b21dadad2a4c078a9f93bd0cc657_10_2.fastq\n"
     ]
    },
    {
     "name": "stdout",
     "output_type": "stream",
     "text": [
      "[########################################] | 100% Completed | 26.3s\n"
     ]
    },
    {
     "name": "stderr",
     "output_type": "stream",
     "text": [
      "[08:58:54 - __main__] Saving to file: /path/to/data/MinION_sequencing_data_20190813/guppy_3.2.2_08_13_2019_run_03_exec_20190814/sw/fastq_runid_7efa32b6b7c4b21dadad2a4c078a9f93bd0cc657_10_2.tsv\n",
      "[08:58:54 - __main__] Starting fastq (43 of 309)\n",
      "\t/path/to/data/MinION_sequencing_data_20190813/guppy_3.2.2_08_13_2019_run_03_exec_20190814/pass/fastq_runid_7efa32b6b7c4b21dadad2a4c078a9f93bd0cc657_10_3.fastq\n"
     ]
    },
    {
     "name": "stdout",
     "output_type": "stream",
     "text": [
      "[########################################] | 100% Completed |  1.0s\n"
     ]
    },
    {
     "name": "stderr",
     "output_type": "stream",
     "text": [
      "[08:58:55 - __main__] Saving to file: /path/to/data/MinION_sequencing_data_20190813/guppy_3.2.2_08_13_2019_run_03_exec_20190814/sw/fastq_runid_7efa32b6b7c4b21dadad2a4c078a9f93bd0cc657_10_3.tsv\n",
      "[08:58:55 - __main__] Starting fastq (44 of 309)\n",
      "\t/path/to/data/MinION_sequencing_data_20190813/guppy_3.2.2_08_13_2019_run_03_exec_20190814/pass/fastq_runid_7efa32b6b7c4b21dadad2a4c078a9f93bd0cc657_11_0.fastq\n"
     ]
    },
    {
     "name": "stdout",
     "output_type": "stream",
     "text": [
      "[########################################] | 100% Completed | 39.0s\n"
     ]
    },
    {
     "name": "stderr",
     "output_type": "stream",
     "text": [
      "[08:59:35 - __main__] Saving to file: /path/to/data/MinION_sequencing_data_20190813/guppy_3.2.2_08_13_2019_run_03_exec_20190814/sw/fastq_runid_7efa32b6b7c4b21dadad2a4c078a9f93bd0cc657_11_0.tsv\n",
      "[08:59:35 - __main__] Starting fastq (45 of 309)\n",
      "\t/path/to/data/MinION_sequencing_data_20190813/guppy_3.2.2_08_13_2019_run_03_exec_20190814/pass/fastq_runid_7efa32b6b7c4b21dadad2a4c078a9f93bd0cc657_11_1.fastq\n"
     ]
    },
    {
     "name": "stdout",
     "output_type": "stream",
     "text": [
      "[########################################] | 100% Completed |  1min  3.8s\n"
     ]
    },
    {
     "name": "stderr",
     "output_type": "stream",
     "text": [
      "[09:00:39 - __main__] Saving to file: /path/to/data/MinION_sequencing_data_20190813/guppy_3.2.2_08_13_2019_run_03_exec_20190814/sw/fastq_runid_7efa32b6b7c4b21dadad2a4c078a9f93bd0cc657_11_1.tsv\n",
      "[09:00:39 - __main__] Starting fastq (46 of 309)\n",
      "\t/path/to/data/MinION_sequencing_data_20190813/guppy_3.2.2_08_13_2019_run_03_exec_20190814/pass/fastq_runid_7efa32b6b7c4b21dadad2a4c078a9f93bd0cc657_11_2.fastq\n"
     ]
    },
    {
     "name": "stdout",
     "output_type": "stream",
     "text": [
      "[########################################] | 100% Completed | 23.6s\n"
     ]
    },
    {
     "name": "stderr",
     "output_type": "stream",
     "text": [
      "[09:01:03 - __main__] Saving to file: /path/to/data/MinION_sequencing_data_20190813/guppy_3.2.2_08_13_2019_run_03_exec_20190814/sw/fastq_runid_7efa32b6b7c4b21dadad2a4c078a9f93bd0cc657_11_2.tsv\n",
      "[09:01:03 - __main__] Starting fastq (47 of 309)\n",
      "\t/path/to/data/MinION_sequencing_data_20190813/guppy_3.2.2_08_13_2019_run_03_exec_20190814/pass/fastq_runid_7efa32b6b7c4b21dadad2a4c078a9f93bd0cc657_11_3.fastq\n"
     ]
    },
    {
     "name": "stdout",
     "output_type": "stream",
     "text": [
      "[########################################] | 100% Completed |  6.4s\n"
     ]
    },
    {
     "name": "stderr",
     "output_type": "stream",
     "text": [
      "[09:01:09 - __main__] Saving to file: /path/to/data/MinION_sequencing_data_20190813/guppy_3.2.2_08_13_2019_run_03_exec_20190814/sw/fastq_runid_7efa32b6b7c4b21dadad2a4c078a9f93bd0cc657_11_3.tsv\n",
      "[09:01:09 - __main__] Starting fastq (48 of 309)\n",
      "\t/path/to/data/MinION_sequencing_data_20190813/guppy_3.2.2_08_13_2019_run_03_exec_20190814/pass/fastq_runid_7efa32b6b7c4b21dadad2a4c078a9f93bd0cc657_12_0.fastq\n"
     ]
    },
    {
     "name": "stdout",
     "output_type": "stream",
     "text": [
      "[########################################] | 100% Completed | 37.7s\n"
     ]
    },
    {
     "name": "stderr",
     "output_type": "stream",
     "text": [
      "[09:01:47 - __main__] Saving to file: /path/to/data/MinION_sequencing_data_20190813/guppy_3.2.2_08_13_2019_run_03_exec_20190814/sw/fastq_runid_7efa32b6b7c4b21dadad2a4c078a9f93bd0cc657_12_0.tsv\n",
      "[09:01:47 - __main__] Starting fastq (49 of 309)\n",
      "\t/path/to/data/MinION_sequencing_data_20190813/guppy_3.2.2_08_13_2019_run_03_exec_20190814/pass/fastq_runid_7efa32b6b7c4b21dadad2a4c078a9f93bd0cc657_12_1.fastq\n"
     ]
    },
    {
     "name": "stdout",
     "output_type": "stream",
     "text": [
      "[########################################] | 100% Completed | 35.7s\n"
     ]
    },
    {
     "name": "stderr",
     "output_type": "stream",
     "text": [
      "[09:02:23 - __main__] Saving to file: /path/to/data/MinION_sequencing_data_20190813/guppy_3.2.2_08_13_2019_run_03_exec_20190814/sw/fastq_runid_7efa32b6b7c4b21dadad2a4c078a9f93bd0cc657_12_1.tsv\n",
      "[09:02:23 - __main__] Starting fastq (50 of 309)\n",
      "\t/path/to/data/MinION_sequencing_data_20190813/guppy_3.2.2_08_13_2019_run_03_exec_20190814/pass/fastq_runid_7efa32b6b7c4b21dadad2a4c078a9f93bd0cc657_12_2.fastq\n"
     ]
    },
    {
     "name": "stdout",
     "output_type": "stream",
     "text": [
      "[########################################] | 100% Completed | 22.0s\n"
     ]
    },
    {
     "name": "stderr",
     "output_type": "stream",
     "text": [
      "[09:02:46 - __main__] Saving to file: /path/to/data/MinION_sequencing_data_20190813/guppy_3.2.2_08_13_2019_run_03_exec_20190814/sw/fastq_runid_7efa32b6b7c4b21dadad2a4c078a9f93bd0cc657_12_2.tsv\n",
      "[09:02:46 - __main__] Starting fastq (51 of 309)\n",
      "\t/path/to/data/MinION_sequencing_data_20190813/guppy_3.2.2_08_13_2019_run_03_exec_20190814/pass/fastq_runid_7efa32b6b7c4b21dadad2a4c078a9f93bd0cc657_13_0.fastq\n"
     ]
    },
    {
     "name": "stdout",
     "output_type": "stream",
     "text": [
      "[########################################] | 100% Completed | 34.4s\n"
     ]
    },
    {
     "name": "stderr",
     "output_type": "stream",
     "text": [
      "[09:03:20 - __main__] Saving to file: /path/to/data/MinION_sequencing_data_20190813/guppy_3.2.2_08_13_2019_run_03_exec_20190814/sw/fastq_runid_7efa32b6b7c4b21dadad2a4c078a9f93bd0cc657_13_0.tsv\n",
      "[09:03:21 - __main__] Starting fastq (52 of 309)\n",
      "\t/path/to/data/MinION_sequencing_data_20190813/guppy_3.2.2_08_13_2019_run_03_exec_20190814/pass/fastq_runid_7efa32b6b7c4b21dadad2a4c078a9f93bd0cc657_13_1.fastq\n"
     ]
    },
    {
     "name": "stdout",
     "output_type": "stream",
     "text": [
      "[########################################] | 100% Completed | 47.3s\n"
     ]
    },
    {
     "name": "stderr",
     "output_type": "stream",
     "text": [
      "[09:04:08 - __main__] Saving to file: /path/to/data/MinION_sequencing_data_20190813/guppy_3.2.2_08_13_2019_run_03_exec_20190814/sw/fastq_runid_7efa32b6b7c4b21dadad2a4c078a9f93bd0cc657_13_1.tsv\n",
      "[09:04:08 - __main__] Starting fastq (53 of 309)\n",
      "\t/path/to/data/MinION_sequencing_data_20190813/guppy_3.2.2_08_13_2019_run_03_exec_20190814/pass/fastq_runid_7efa32b6b7c4b21dadad2a4c078a9f93bd0cc657_13_2.fastq\n"
     ]
    },
    {
     "name": "stdout",
     "output_type": "stream",
     "text": [
      "[########################################] | 100% Completed | 48.3s\n"
     ]
    },
    {
     "name": "stderr",
     "output_type": "stream",
     "text": [
      "[09:04:57 - __main__] Saving to file: /path/to/data/MinION_sequencing_data_20190813/guppy_3.2.2_08_13_2019_run_03_exec_20190814/sw/fastq_runid_7efa32b6b7c4b21dadad2a4c078a9f93bd0cc657_13_2.tsv\n",
      "[09:04:57 - __main__] Starting fastq (54 of 309)\n",
      "\t/path/to/data/MinION_sequencing_data_20190813/guppy_3.2.2_08_13_2019_run_03_exec_20190814/pass/fastq_runid_7efa32b6b7c4b21dadad2a4c078a9f93bd0cc657_12_3.fastq\n"
     ]
    },
    {
     "name": "stdout",
     "output_type": "stream",
     "text": [
      "[########################################] | 100% Completed | 38.9s\n"
     ]
    },
    {
     "name": "stderr",
     "output_type": "stream",
     "text": [
      "[09:05:36 - __main__] Saving to file: /path/to/data/MinION_sequencing_data_20190813/guppy_3.2.2_08_13_2019_run_03_exec_20190814/sw/fastq_runid_7efa32b6b7c4b21dadad2a4c078a9f93bd0cc657_12_3.tsv\n",
      "[09:05:36 - __main__] Starting fastq (55 of 309)\n",
      "\t/path/to/data/MinION_sequencing_data_20190813/guppy_3.2.2_08_13_2019_run_03_exec_20190814/pass/fastq_runid_7efa32b6b7c4b21dadad2a4c078a9f93bd0cc657_14_0.fastq\n"
     ]
    },
    {
     "name": "stdout",
     "output_type": "stream",
     "text": [
      "[########################################] | 100% Completed | 44.0s\n"
     ]
    },
    {
     "name": "stderr",
     "output_type": "stream",
     "text": [
      "[09:06:20 - __main__] Saving to file: /path/to/data/MinION_sequencing_data_20190813/guppy_3.2.2_08_13_2019_run_03_exec_20190814/sw/fastq_runid_7efa32b6b7c4b21dadad2a4c078a9f93bd0cc657_14_0.tsv\n",
      "[09:06:21 - __main__] Starting fastq (56 of 309)\n",
      "\t/path/to/data/MinION_sequencing_data_20190813/guppy_3.2.2_08_13_2019_run_03_exec_20190814/pass/fastq_runid_7efa32b6b7c4b21dadad2a4c078a9f93bd0cc657_14_1.fastq\n"
     ]
    },
    {
     "name": "stdout",
     "output_type": "stream",
     "text": [
      "[########################################] | 100% Completed | 43.1s\n"
     ]
    },
    {
     "name": "stderr",
     "output_type": "stream",
     "text": [
      "[09:07:04 - __main__] Saving to file: /path/to/data/MinION_sequencing_data_20190813/guppy_3.2.2_08_13_2019_run_03_exec_20190814/sw/fastq_runid_7efa32b6b7c4b21dadad2a4c078a9f93bd0cc657_14_1.tsv\n",
      "[09:07:04 - __main__] Starting fastq (57 of 309)\n",
      "\t/path/to/data/MinION_sequencing_data_20190813/guppy_3.2.2_08_13_2019_run_03_exec_20190814/pass/fastq_runid_7efa32b6b7c4b21dadad2a4c078a9f93bd0cc657_14_2.fastq\n"
     ]
    },
    {
     "name": "stdout",
     "output_type": "stream",
     "text": [
      "[########################################] | 100% Completed | 40.1s\n"
     ]
    },
    {
     "name": "stderr",
     "output_type": "stream",
     "text": [
      "[09:07:44 - __main__] Saving to file: /path/to/data/MinION_sequencing_data_20190813/guppy_3.2.2_08_13_2019_run_03_exec_20190814/sw/fastq_runid_7efa32b6b7c4b21dadad2a4c078a9f93bd0cc657_14_2.tsv\n",
      "[09:07:45 - __main__] Starting fastq (58 of 309)\n",
      "\t/path/to/data/MinION_sequencing_data_20190813/guppy_3.2.2_08_13_2019_run_03_exec_20190814/pass/fastq_runid_7efa32b6b7c4b21dadad2a4c078a9f93bd0cc657_15_0.fastq\n"
     ]
    },
    {
     "name": "stdout",
     "output_type": "stream",
     "text": [
      "[########################################] | 100% Completed | 16.9s\n"
     ]
    },
    {
     "name": "stderr",
     "output_type": "stream",
     "text": [
      "[09:08:02 - __main__] Saving to file: /path/to/data/MinION_sequencing_data_20190813/guppy_3.2.2_08_13_2019_run_03_exec_20190814/sw/fastq_runid_7efa32b6b7c4b21dadad2a4c078a9f93bd0cc657_15_0.tsv\n",
      "[09:08:02 - __main__] Starting fastq (59 of 309)\n",
      "\t/path/to/data/MinION_sequencing_data_20190813/guppy_3.2.2_08_13_2019_run_03_exec_20190814/pass/fastq_runid_7efa32b6b7c4b21dadad2a4c078a9f93bd0cc657_15_1.fastq\n"
     ]
    },
    {
     "name": "stdout",
     "output_type": "stream",
     "text": [
      "[########################################] | 100% Completed |  1min  5.4s\n"
     ]
    },
    {
     "name": "stderr",
     "output_type": "stream",
     "text": [
      "[09:09:07 - __main__] Saving to file: /path/to/data/MinION_sequencing_data_20190813/guppy_3.2.2_08_13_2019_run_03_exec_20190814/sw/fastq_runid_7efa32b6b7c4b21dadad2a4c078a9f93bd0cc657_15_1.tsv\n",
      "[09:09:07 - __main__] Starting fastq (60 of 309)\n",
      "\t/path/to/data/MinION_sequencing_data_20190813/guppy_3.2.2_08_13_2019_run_03_exec_20190814/pass/fastq_runid_7efa32b6b7c4b21dadad2a4c078a9f93bd0cc657_13_3.fastq\n"
     ]
    },
    {
     "name": "stdout",
     "output_type": "stream",
     "text": [
      "[########################################] | 100% Completed |  2.3s\n"
     ]
    },
    {
     "name": "stderr",
     "output_type": "stream",
     "text": [
      "[09:09:10 - __main__] Saving to file: /path/to/data/MinION_sequencing_data_20190813/guppy_3.2.2_08_13_2019_run_03_exec_20190814/sw/fastq_runid_7efa32b6b7c4b21dadad2a4c078a9f93bd0cc657_13_3.tsv\n",
      "[09:09:10 - __main__] Starting fastq (61 of 309)\n",
      "\t/path/to/data/MinION_sequencing_data_20190813/guppy_3.2.2_08_13_2019_run_03_exec_20190814/pass/fastq_runid_7efa32b6b7c4b21dadad2a4c078a9f93bd0cc657_14_3.fastq\n"
     ]
    },
    {
     "name": "stdout",
     "output_type": "stream",
     "text": [
      "[########################################] | 100% Completed |  4.2s\n"
     ]
    },
    {
     "name": "stderr",
     "output_type": "stream",
     "text": [
      "[09:09:14 - __main__] Saving to file: /path/to/data/MinION_sequencing_data_20190813/guppy_3.2.2_08_13_2019_run_03_exec_20190814/sw/fastq_runid_7efa32b6b7c4b21dadad2a4c078a9f93bd0cc657_14_3.tsv\n",
      "[09:09:14 - __main__] Starting fastq (62 of 309)\n",
      "\t/path/to/data/MinION_sequencing_data_20190813/guppy_3.2.2_08_13_2019_run_03_exec_20190814/pass/fastq_runid_7efa32b6b7c4b21dadad2a4c078a9f93bd0cc657_15_2.fastq\n"
     ]
    },
    {
     "name": "stdout",
     "output_type": "stream",
     "text": [
      "[########################################] | 100% Completed | 27.3s\n"
     ]
    },
    {
     "name": "stderr",
     "output_type": "stream",
     "text": [
      "[09:09:42 - __main__] Saving to file: /path/to/data/MinION_sequencing_data_20190813/guppy_3.2.2_08_13_2019_run_03_exec_20190814/sw/fastq_runid_7efa32b6b7c4b21dadad2a4c078a9f93bd0cc657_15_2.tsv\n",
      "[09:09:42 - __main__] Starting fastq (63 of 309)\n",
      "\t/path/to/data/MinION_sequencing_data_20190813/guppy_3.2.2_08_13_2019_run_03_exec_20190814/pass/fastq_runid_7efa32b6b7c4b21dadad2a4c078a9f93bd0cc657_16_0.fastq\n"
     ]
    },
    {
     "name": "stdout",
     "output_type": "stream",
     "text": [
      "[########################################] | 100% Completed | 47.5s\n"
     ]
    },
    {
     "name": "stderr",
     "output_type": "stream",
     "text": [
      "[09:10:30 - __main__] Saving to file: /path/to/data/MinION_sequencing_data_20190813/guppy_3.2.2_08_13_2019_run_03_exec_20190814/sw/fastq_runid_7efa32b6b7c4b21dadad2a4c078a9f93bd0cc657_16_0.tsv\n",
      "[09:10:30 - __main__] Starting fastq (64 of 309)\n",
      "\t/path/to/data/MinION_sequencing_data_20190813/guppy_3.2.2_08_13_2019_run_03_exec_20190814/pass/fastq_runid_7efa32b6b7c4b21dadad2a4c078a9f93bd0cc657_16_1.fastq\n"
     ]
    },
    {
     "name": "stdout",
     "output_type": "stream",
     "text": [
      "[########################################] | 100% Completed | 54.6s\n"
     ]
    },
    {
     "name": "stderr",
     "output_type": "stream",
     "text": [
      "[09:11:25 - __main__] Saving to file: /path/to/data/MinION_sequencing_data_20190813/guppy_3.2.2_08_13_2019_run_03_exec_20190814/sw/fastq_runid_7efa32b6b7c4b21dadad2a4c078a9f93bd0cc657_16_1.tsv\n",
      "[09:11:25 - __main__] Starting fastq (65 of 309)\n",
      "\t/path/to/data/MinION_sequencing_data_20190813/guppy_3.2.2_08_13_2019_run_03_exec_20190814/pass/fastq_runid_7efa32b6b7c4b21dadad2a4c078a9f93bd0cc657_15_3.fastq\n"
     ]
    },
    {
     "name": "stdout",
     "output_type": "stream",
     "text": [
      "[########################################] | 100% Completed | 22.3s\n"
     ]
    },
    {
     "name": "stderr",
     "output_type": "stream",
     "text": [
      "[09:11:48 - __main__] Saving to file: /path/to/data/MinION_sequencing_data_20190813/guppy_3.2.2_08_13_2019_run_03_exec_20190814/sw/fastq_runid_7efa32b6b7c4b21dadad2a4c078a9f93bd0cc657_15_3.tsv\n",
      "[09:11:48 - __main__] Starting fastq (66 of 309)\n",
      "\t/path/to/data/MinION_sequencing_data_20190813/guppy_3.2.2_08_13_2019_run_03_exec_20190814/pass/fastq_runid_7efa32b6b7c4b21dadad2a4c078a9f93bd0cc657_16_2.fastq\n"
     ]
    },
    {
     "name": "stdout",
     "output_type": "stream",
     "text": [
      "[########################################] | 100% Completed | 26.8s\n"
     ]
    },
    {
     "name": "stderr",
     "output_type": "stream",
     "text": [
      "[09:12:15 - __main__] Saving to file: /path/to/data/MinION_sequencing_data_20190813/guppy_3.2.2_08_13_2019_run_03_exec_20190814/sw/fastq_runid_7efa32b6b7c4b21dadad2a4c078a9f93bd0cc657_16_2.tsv\n",
      "[09:12:15 - __main__] Starting fastq (67 of 309)\n",
      "\t/path/to/data/MinION_sequencing_data_20190813/guppy_3.2.2_08_13_2019_run_03_exec_20190814/pass/fastq_runid_7efa32b6b7c4b21dadad2a4c078a9f93bd0cc657_17_0.fastq\n"
     ]
    },
    {
     "name": "stdout",
     "output_type": "stream",
     "text": [
      "[########################################] | 100% Completed | 14.4s\n"
     ]
    },
    {
     "name": "stderr",
     "output_type": "stream",
     "text": [
      "[09:12:29 - __main__] Saving to file: /path/to/data/MinION_sequencing_data_20190813/guppy_3.2.2_08_13_2019_run_03_exec_20190814/sw/fastq_runid_7efa32b6b7c4b21dadad2a4c078a9f93bd0cc657_17_0.tsv\n",
      "[09:12:29 - __main__] Starting fastq (68 of 309)\n",
      "\t/path/to/data/MinION_sequencing_data_20190813/guppy_3.2.2_08_13_2019_run_03_exec_20190814/pass/fastq_runid_7efa32b6b7c4b21dadad2a4c078a9f93bd0cc657_17_1.fastq\n"
     ]
    },
    {
     "name": "stdout",
     "output_type": "stream",
     "text": [
      "[########################################] | 100% Completed | 35.5s\n"
     ]
    },
    {
     "name": "stderr",
     "output_type": "stream",
     "text": [
      "[09:13:05 - __main__] Saving to file: /path/to/data/MinION_sequencing_data_20190813/guppy_3.2.2_08_13_2019_run_03_exec_20190814/sw/fastq_runid_7efa32b6b7c4b21dadad2a4c078a9f93bd0cc657_17_1.tsv\n",
      "[09:13:05 - __main__] Starting fastq (69 of 309)\n",
      "\t/path/to/data/MinION_sequencing_data_20190813/guppy_3.2.2_08_13_2019_run_03_exec_20190814/pass/fastq_runid_7efa32b6b7c4b21dadad2a4c078a9f93bd0cc657_17_2.fastq\n"
     ]
    },
    {
     "name": "stdout",
     "output_type": "stream",
     "text": [
      "[########################################] | 100% Completed |  1min 17.1s\n"
     ]
    },
    {
     "name": "stderr",
     "output_type": "stream",
     "text": [
      "[09:14:23 - __main__] Saving to file: /path/to/data/MinION_sequencing_data_20190813/guppy_3.2.2_08_13_2019_run_03_exec_20190814/sw/fastq_runid_7efa32b6b7c4b21dadad2a4c078a9f93bd0cc657_17_2.tsv\n",
      "[09:14:23 - __main__] Starting fastq (70 of 309)\n",
      "\t/path/to/data/MinION_sequencing_data_20190813/guppy_3.2.2_08_13_2019_run_03_exec_20190814/pass/fastq_runid_7efa32b6b7c4b21dadad2a4c078a9f93bd0cc657_18_0.fastq\n"
     ]
    },
    {
     "name": "stdout",
     "output_type": "stream",
     "text": [
      "[########################################] | 100% Completed | 42.1s\n"
     ]
    },
    {
     "name": "stderr",
     "output_type": "stream",
     "text": [
      "[09:15:05 - __main__] Saving to file: /path/to/data/MinION_sequencing_data_20190813/guppy_3.2.2_08_13_2019_run_03_exec_20190814/sw/fastq_runid_7efa32b6b7c4b21dadad2a4c078a9f93bd0cc657_18_0.tsv\n",
      "[09:15:05 - __main__] Starting fastq (71 of 309)\n",
      "\t/path/to/data/MinION_sequencing_data_20190813/guppy_3.2.2_08_13_2019_run_03_exec_20190814/pass/fastq_runid_7efa32b6b7c4b21dadad2a4c078a9f93bd0cc657_16_3.fastq\n"
     ]
    },
    {
     "name": "stdout",
     "output_type": "stream",
     "text": [
      "[########################################] | 100% Completed |  8.9s\n"
     ]
    },
    {
     "name": "stderr",
     "output_type": "stream",
     "text": [
      "[09:15:14 - __main__] Saving to file: /path/to/data/MinION_sequencing_data_20190813/guppy_3.2.2_08_13_2019_run_03_exec_20190814/sw/fastq_runid_7efa32b6b7c4b21dadad2a4c078a9f93bd0cc657_16_3.tsv\n",
      "[09:15:14 - __main__] Starting fastq (72 of 309)\n",
      "\t/path/to/data/MinION_sequencing_data_20190813/guppy_3.2.2_08_13_2019_run_03_exec_20190814/pass/fastq_runid_7efa32b6b7c4b21dadad2a4c078a9f93bd0cc657_17_3.fastq\n"
     ]
    },
    {
     "name": "stdout",
     "output_type": "stream",
     "text": [
      "[########################################] | 100% Completed |  4.9s\n"
     ]
    },
    {
     "name": "stderr",
     "output_type": "stream",
     "text": [
      "[09:15:20 - __main__] Saving to file: /path/to/data/MinION_sequencing_data_20190813/guppy_3.2.2_08_13_2019_run_03_exec_20190814/sw/fastq_runid_7efa32b6b7c4b21dadad2a4c078a9f93bd0cc657_17_3.tsv\n",
      "[09:15:20 - __main__] Starting fastq (73 of 309)\n",
      "\t/path/to/data/MinION_sequencing_data_20190813/guppy_3.2.2_08_13_2019_run_03_exec_20190814/pass/fastq_runid_7efa32b6b7c4b21dadad2a4c078a9f93bd0cc657_18_1.fastq\n"
     ]
    },
    {
     "name": "stdout",
     "output_type": "stream",
     "text": [
      "[########################################] | 100% Completed | 43.4s\n"
     ]
    },
    {
     "name": "stderr",
     "output_type": "stream",
     "text": [
      "[09:16:03 - __main__] Saving to file: /path/to/data/MinION_sequencing_data_20190813/guppy_3.2.2_08_13_2019_run_03_exec_20190814/sw/fastq_runid_7efa32b6b7c4b21dadad2a4c078a9f93bd0cc657_18_1.tsv\n",
      "[09:16:03 - __main__] Starting fastq (74 of 309)\n",
      "\t/path/to/data/MinION_sequencing_data_20190813/guppy_3.2.2_08_13_2019_run_03_exec_20190814/pass/fastq_runid_7efa32b6b7c4b21dadad2a4c078a9f93bd0cc657_18_2.fastq\n"
     ]
    },
    {
     "name": "stdout",
     "output_type": "stream",
     "text": [
      "[########################################] | 100% Completed | 47.1s\n"
     ]
    },
    {
     "name": "stderr",
     "output_type": "stream",
     "text": [
      "[09:16:51 - __main__] Saving to file: /path/to/data/MinION_sequencing_data_20190813/guppy_3.2.2_08_13_2019_run_03_exec_20190814/sw/fastq_runid_7efa32b6b7c4b21dadad2a4c078a9f93bd0cc657_18_2.tsv\n",
      "[09:16:51 - __main__] Starting fastq (75 of 309)\n",
      "\t/path/to/data/MinION_sequencing_data_20190813/guppy_3.2.2_08_13_2019_run_03_exec_20190814/pass/fastq_runid_7efa32b6b7c4b21dadad2a4c078a9f93bd0cc657_19_0.fastq\n"
     ]
    },
    {
     "name": "stdout",
     "output_type": "stream",
     "text": [
      "[########################################] | 100% Completed | 32.2s\n"
     ]
    },
    {
     "name": "stderr",
     "output_type": "stream",
     "text": [
      "[09:17:23 - __main__] Saving to file: /path/to/data/MinION_sequencing_data_20190813/guppy_3.2.2_08_13_2019_run_03_exec_20190814/sw/fastq_runid_7efa32b6b7c4b21dadad2a4c078a9f93bd0cc657_19_0.tsv\n",
      "[09:17:23 - __main__] Starting fastq (76 of 309)\n",
      "\t/path/to/data/MinION_sequencing_data_20190813/guppy_3.2.2_08_13_2019_run_03_exec_20190814/pass/fastq_runid_7efa32b6b7c4b21dadad2a4c078a9f93bd0cc657_19_1.fastq\n"
     ]
    },
    {
     "name": "stdout",
     "output_type": "stream",
     "text": [
      "[########################################] | 100% Completed | 35.5s\n"
     ]
    },
    {
     "name": "stderr",
     "output_type": "stream",
     "text": [
      "[09:17:59 - __main__] Saving to file: /path/to/data/MinION_sequencing_data_20190813/guppy_3.2.2_08_13_2019_run_03_exec_20190814/sw/fastq_runid_7efa32b6b7c4b21dadad2a4c078a9f93bd0cc657_19_1.tsv\n",
      "[09:17:59 - __main__] Starting fastq (77 of 309)\n",
      "\t/path/to/data/MinION_sequencing_data_20190813/guppy_3.2.2_08_13_2019_run_03_exec_20190814/pass/fastq_runid_7efa32b6b7c4b21dadad2a4c078a9f93bd0cc657_19_2.fastq\n"
     ]
    },
    {
     "name": "stdout",
     "output_type": "stream",
     "text": [
      "[########################################] | 100% Completed | 58.4s\n"
     ]
    },
    {
     "name": "stderr",
     "output_type": "stream",
     "text": [
      "[09:18:58 - __main__] Saving to file: /path/to/data/MinION_sequencing_data_20190813/guppy_3.2.2_08_13_2019_run_03_exec_20190814/sw/fastq_runid_7efa32b6b7c4b21dadad2a4c078a9f93bd0cc657_19_2.tsv\n",
      "[09:18:58 - __main__] Starting fastq (78 of 309)\n",
      "\t/path/to/data/MinION_sequencing_data_20190813/guppy_3.2.2_08_13_2019_run_03_exec_20190814/pass/fastq_runid_7efa32b6b7c4b21dadad2a4c078a9f93bd0cc657_20_0.fastq\n"
     ]
    },
    {
     "name": "stdout",
     "output_type": "stream",
     "text": [
      "[########################################] | 100% Completed |  1min  4.0s\n"
     ]
    },
    {
     "name": "stderr",
     "output_type": "stream",
     "text": [
      "[09:20:02 - __main__] Saving to file: /path/to/data/MinION_sequencing_data_20190813/guppy_3.2.2_08_13_2019_run_03_exec_20190814/sw/fastq_runid_7efa32b6b7c4b21dadad2a4c078a9f93bd0cc657_20_0.tsv\n",
      "[09:20:03 - __main__] Starting fastq (79 of 309)\n",
      "\t/path/to/data/MinION_sequencing_data_20190813/guppy_3.2.2_08_13_2019_run_03_exec_20190814/pass/fastq_runid_7efa32b6b7c4b21dadad2a4c078a9f93bd0cc657_20_1.fastq\n"
     ]
    },
    {
     "name": "stdout",
     "output_type": "stream",
     "text": [
      "[########################################] | 100% Completed |  9.7s\n"
     ]
    },
    {
     "name": "stderr",
     "output_type": "stream",
     "text": [
      "[09:20:12 - __main__] Saving to file: /path/to/data/MinION_sequencing_data_20190813/guppy_3.2.2_08_13_2019_run_03_exec_20190814/sw/fastq_runid_7efa32b6b7c4b21dadad2a4c078a9f93bd0cc657_20_1.tsv\n",
      "[09:20:13 - __main__] Starting fastq (80 of 309)\n",
      "\t/path/to/data/MinION_sequencing_data_20190813/guppy_3.2.2_08_13_2019_run_03_exec_20190814/pass/fastq_runid_7efa32b6b7c4b21dadad2a4c078a9f93bd0cc657_18_3.fastq\n"
     ]
    },
    {
     "name": "stdout",
     "output_type": "stream",
     "text": [
      "[########################################] | 100% Completed |  1.0s\n"
     ]
    },
    {
     "name": "stderr",
     "output_type": "stream",
     "text": [
      "[09:20:14 - __main__] Saving to file: /path/to/data/MinION_sequencing_data_20190813/guppy_3.2.2_08_13_2019_run_03_exec_20190814/sw/fastq_runid_7efa32b6b7c4b21dadad2a4c078a9f93bd0cc657_18_3.tsv\n",
      "[09:20:14 - __main__] Starting fastq (81 of 309)\n",
      "\t/path/to/data/MinION_sequencing_data_20190813/guppy_3.2.2_08_13_2019_run_03_exec_20190814/pass/fastq_runid_7efa32b6b7c4b21dadad2a4c078a9f93bd0cc657_19_3.fastq\n"
     ]
    },
    {
     "name": "stdout",
     "output_type": "stream",
     "text": [
      "[########################################] | 100% Completed |  6.0s\n"
     ]
    },
    {
     "name": "stderr",
     "output_type": "stream",
     "text": [
      "[09:20:20 - __main__] Saving to file: /path/to/data/MinION_sequencing_data_20190813/guppy_3.2.2_08_13_2019_run_03_exec_20190814/sw/fastq_runid_7efa32b6b7c4b21dadad2a4c078a9f93bd0cc657_19_3.tsv\n",
      "[09:20:20 - __main__] Starting fastq (82 of 309)\n",
      "\t/path/to/data/MinION_sequencing_data_20190813/guppy_3.2.2_08_13_2019_run_03_exec_20190814/pass/fastq_runid_7efa32b6b7c4b21dadad2a4c078a9f93bd0cc657_20_2.fastq\n"
     ]
    },
    {
     "name": "stdout",
     "output_type": "stream",
     "text": [
      "[########################################] | 100% Completed | 30.1s\n"
     ]
    },
    {
     "name": "stderr",
     "output_type": "stream",
     "text": [
      "[09:20:50 - __main__] Saving to file: /path/to/data/MinION_sequencing_data_20190813/guppy_3.2.2_08_13_2019_run_03_exec_20190814/sw/fastq_runid_7efa32b6b7c4b21dadad2a4c078a9f93bd0cc657_20_2.tsv\n",
      "[09:20:51 - __main__] Starting fastq (83 of 309)\n",
      "\t/path/to/data/MinION_sequencing_data_20190813/guppy_3.2.2_08_13_2019_run_03_exec_20190814/pass/fastq_runid_7efa32b6b7c4b21dadad2a4c078a9f93bd0cc657_21_0.fastq\n"
     ]
    },
    {
     "name": "stdout",
     "output_type": "stream",
     "text": [
      "[########################################] | 100% Completed | 31.1s\n"
     ]
    },
    {
     "name": "stderr",
     "output_type": "stream",
     "text": [
      "[09:21:22 - __main__] Saving to file: /path/to/data/MinION_sequencing_data_20190813/guppy_3.2.2_08_13_2019_run_03_exec_20190814/sw/fastq_runid_7efa32b6b7c4b21dadad2a4c078a9f93bd0cc657_21_0.tsv\n",
      "[09:21:22 - __main__] Starting fastq (84 of 309)\n",
      "\t/path/to/data/MinION_sequencing_data_20190813/guppy_3.2.2_08_13_2019_run_03_exec_20190814/pass/fastq_runid_7efa32b6b7c4b21dadad2a4c078a9f93bd0cc657_21_1.fastq\n"
     ]
    },
    {
     "name": "stdout",
     "output_type": "stream",
     "text": [
      "[########################################] | 100% Completed | 35.9s\n"
     ]
    },
    {
     "name": "stderr",
     "output_type": "stream",
     "text": [
      "[09:21:58 - __main__] Saving to file: /path/to/data/MinION_sequencing_data_20190813/guppy_3.2.2_08_13_2019_run_03_exec_20190814/sw/fastq_runid_7efa32b6b7c4b21dadad2a4c078a9f93bd0cc657_21_1.tsv\n",
      "[09:21:58 - __main__] Starting fastq (85 of 309)\n",
      "\t/path/to/data/MinION_sequencing_data_20190813/guppy_3.2.2_08_13_2019_run_03_exec_20190814/pass/fastq_runid_7efa32b6b7c4b21dadad2a4c078a9f93bd0cc657_20_3.fastq\n"
     ]
    },
    {
     "name": "stdout",
     "output_type": "stream",
     "text": [
      "[########################################] | 100% Completed | 26.0s\n"
     ]
    },
    {
     "name": "stderr",
     "output_type": "stream",
     "text": [
      "[09:22:24 - __main__] Saving to file: /path/to/data/MinION_sequencing_data_20190813/guppy_3.2.2_08_13_2019_run_03_exec_20190814/sw/fastq_runid_7efa32b6b7c4b21dadad2a4c078a9f93bd0cc657_20_3.tsv\n",
      "[09:22:24 - __main__] Starting fastq (86 of 309)\n",
      "\t/path/to/data/MinION_sequencing_data_20190813/guppy_3.2.2_08_13_2019_run_03_exec_20190814/pass/fastq_runid_7efa32b6b7c4b21dadad2a4c078a9f93bd0cc657_21_2.fastq\n"
     ]
    },
    {
     "name": "stdout",
     "output_type": "stream",
     "text": [
      "[########################################] | 100% Completed |  1min  4.0s\n"
     ]
    },
    {
     "name": "stderr",
     "output_type": "stream",
     "text": [
      "[09:23:29 - __main__] Saving to file: /path/to/data/MinION_sequencing_data_20190813/guppy_3.2.2_08_13_2019_run_03_exec_20190814/sw/fastq_runid_7efa32b6b7c4b21dadad2a4c078a9f93bd0cc657_21_2.tsv\n",
      "[09:23:29 - __main__] Starting fastq (87 of 309)\n",
      "\t/path/to/data/MinION_sequencing_data_20190813/guppy_3.2.2_08_13_2019_run_03_exec_20190814/pass/fastq_runid_7efa32b6b7c4b21dadad2a4c078a9f93bd0cc657_22_0.fastq\n"
     ]
    },
    {
     "name": "stdout",
     "output_type": "stream",
     "text": [
      "[########################################] | 100% Completed |  1min  9.2s\n"
     ]
    },
    {
     "name": "stderr",
     "output_type": "stream",
     "text": [
      "[09:24:38 - __main__] Saving to file: /path/to/data/MinION_sequencing_data_20190813/guppy_3.2.2_08_13_2019_run_03_exec_20190814/sw/fastq_runid_7efa32b6b7c4b21dadad2a4c078a9f93bd0cc657_22_0.tsv\n",
      "[09:24:39 - __main__] Starting fastq (88 of 309)\n",
      "\t/path/to/data/MinION_sequencing_data_20190813/guppy_3.2.2_08_13_2019_run_03_exec_20190814/pass/fastq_runid_7efa32b6b7c4b21dadad2a4c078a9f93bd0cc657_21_3.fastq\n"
     ]
    },
    {
     "name": "stdout",
     "output_type": "stream",
     "text": [
      "[########################################] | 100% Completed |  0.9s\n"
     ]
    },
    {
     "name": "stderr",
     "output_type": "stream",
     "text": [
      "[09:24:40 - __main__] Saving to file: /path/to/data/MinION_sequencing_data_20190813/guppy_3.2.2_08_13_2019_run_03_exec_20190814/sw/fastq_runid_7efa32b6b7c4b21dadad2a4c078a9f93bd0cc657_21_3.tsv\n",
      "[09:24:40 - __main__] Starting fastq (89 of 309)\n",
      "\t/path/to/data/MinION_sequencing_data_20190813/guppy_3.2.2_08_13_2019_run_03_exec_20190814/pass/fastq_runid_7efa32b6b7c4b21dadad2a4c078a9f93bd0cc657_22_1.fastq\n"
     ]
    },
    {
     "name": "stdout",
     "output_type": "stream",
     "text": [
      "[########################################] | 100% Completed | 39.0s\n"
     ]
    },
    {
     "name": "stderr",
     "output_type": "stream",
     "text": [
      "[09:25:19 - __main__] Saving to file: /path/to/data/MinION_sequencing_data_20190813/guppy_3.2.2_08_13_2019_run_03_exec_20190814/sw/fastq_runid_7efa32b6b7c4b21dadad2a4c078a9f93bd0cc657_22_1.tsv\n",
      "[09:25:19 - __main__] Starting fastq (90 of 309)\n",
      "\t/path/to/data/MinION_sequencing_data_20190813/guppy_3.2.2_08_13_2019_run_03_exec_20190814/pass/fastq_runid_7efa32b6b7c4b21dadad2a4c078a9f93bd0cc657_22_2.fastq\n"
     ]
    },
    {
     "name": "stdout",
     "output_type": "stream",
     "text": [
      "[########################################] | 100% Completed | 23.0s\n"
     ]
    },
    {
     "name": "stderr",
     "output_type": "stream",
     "text": [
      "[09:25:42 - __main__] Saving to file: /path/to/data/MinION_sequencing_data_20190813/guppy_3.2.2_08_13_2019_run_03_exec_20190814/sw/fastq_runid_7efa32b6b7c4b21dadad2a4c078a9f93bd0cc657_22_2.tsv\n",
      "[09:25:42 - __main__] Starting fastq (91 of 309)\n",
      "\t/path/to/data/MinION_sequencing_data_20190813/guppy_3.2.2_08_13_2019_run_03_exec_20190814/pass/fastq_runid_7efa32b6b7c4b21dadad2a4c078a9f93bd0cc657_23_0.fastq\n"
     ]
    },
    {
     "name": "stdout",
     "output_type": "stream",
     "text": [
      "[########################################] | 100% Completed | 48.1s\n"
     ]
    },
    {
     "name": "stderr",
     "output_type": "stream",
     "text": [
      "[09:26:31 - __main__] Saving to file: /path/to/data/MinION_sequencing_data_20190813/guppy_3.2.2_08_13_2019_run_03_exec_20190814/sw/fastq_runid_7efa32b6b7c4b21dadad2a4c078a9f93bd0cc657_23_0.tsv\n",
      "[09:26:31 - __main__] Starting fastq (92 of 309)\n",
      "\t/path/to/data/MinION_sequencing_data_20190813/guppy_3.2.2_08_13_2019_run_03_exec_20190814/pass/fastq_runid_7efa32b6b7c4b21dadad2a4c078a9f93bd0cc657_23_1.fastq\n"
     ]
    },
    {
     "name": "stdout",
     "output_type": "stream",
     "text": [
      "[########################################] | 100% Completed | 31.1s\n"
     ]
    },
    {
     "name": "stderr",
     "output_type": "stream",
     "text": [
      "[09:27:02 - __main__] Saving to file: /path/to/data/MinION_sequencing_data_20190813/guppy_3.2.2_08_13_2019_run_03_exec_20190814/sw/fastq_runid_7efa32b6b7c4b21dadad2a4c078a9f93bd0cc657_23_1.tsv\n",
      "[09:27:02 - __main__] Starting fastq (93 of 309)\n",
      "\t/path/to/data/MinION_sequencing_data_20190813/guppy_3.2.2_08_13_2019_run_03_exec_20190814/pass/fastq_runid_7efa32b6b7c4b21dadad2a4c078a9f93bd0cc657_22_3.fastq\n"
     ]
    },
    {
     "name": "stdout",
     "output_type": "stream",
     "text": [
      "[########################################] | 100% Completed |  1.0s\n"
     ]
    },
    {
     "name": "stderr",
     "output_type": "stream",
     "text": [
      "[09:27:04 - __main__] Saving to file: /path/to/data/MinION_sequencing_data_20190813/guppy_3.2.2_08_13_2019_run_03_exec_20190814/sw/fastq_runid_7efa32b6b7c4b21dadad2a4c078a9f93bd0cc657_22_3.tsv\n",
      "[09:27:04 - __main__] Starting fastq (94 of 309)\n",
      "\t/path/to/data/MinION_sequencing_data_20190813/guppy_3.2.2_08_13_2019_run_03_exec_20190814/pass/fastq_runid_7efa32b6b7c4b21dadad2a4c078a9f93bd0cc657_24_0.fastq\n"
     ]
    },
    {
     "name": "stdout",
     "output_type": "stream",
     "text": [
      "[########################################] | 100% Completed |  1min  7.6s\n"
     ]
    },
    {
     "name": "stderr",
     "output_type": "stream",
     "text": [
      "[09:28:11 - __main__] Saving to file: /path/to/data/MinION_sequencing_data_20190813/guppy_3.2.2_08_13_2019_run_03_exec_20190814/sw/fastq_runid_7efa32b6b7c4b21dadad2a4c078a9f93bd0cc657_24_0.tsv\n",
      "[09:28:12 - __main__] Starting fastq (95 of 309)\n",
      "\t/path/to/data/MinION_sequencing_data_20190813/guppy_3.2.2_08_13_2019_run_03_exec_20190814/pass/fastq_runid_7efa32b6b7c4b21dadad2a4c078a9f93bd0cc657_23_2.fastq\n"
     ]
    },
    {
     "name": "stdout",
     "output_type": "stream",
     "text": [
      "[########################################] | 100% Completed |  1.8s\n"
     ]
    },
    {
     "name": "stderr",
     "output_type": "stream",
     "text": [
      "[09:28:14 - __main__] Saving to file: /path/to/data/MinION_sequencing_data_20190813/guppy_3.2.2_08_13_2019_run_03_exec_20190814/sw/fastq_runid_7efa32b6b7c4b21dadad2a4c078a9f93bd0cc657_23_2.tsv\n",
      "[09:28:14 - __main__] Starting fastq (96 of 309)\n",
      "\t/path/to/data/MinION_sequencing_data_20190813/guppy_3.2.2_08_13_2019_run_03_exec_20190814/pass/fastq_runid_7efa32b6b7c4b21dadad2a4c078a9f93bd0cc657_23_3.fastq\n"
     ]
    },
    {
     "name": "stdout",
     "output_type": "stream",
     "text": [
      "[########################################] | 100% Completed |  0.9s\n"
     ]
    },
    {
     "name": "stderr",
     "output_type": "stream",
     "text": [
      "[09:28:15 - __main__] Saving to file: /path/to/data/MinION_sequencing_data_20190813/guppy_3.2.2_08_13_2019_run_03_exec_20190814/sw/fastq_runid_7efa32b6b7c4b21dadad2a4c078a9f93bd0cc657_23_3.tsv\n",
      "[09:28:15 - __main__] Starting fastq (97 of 309)\n",
      "\t/path/to/data/MinION_sequencing_data_20190813/guppy_3.2.2_08_13_2019_run_03_exec_20190814/pass/fastq_runid_7efa32b6b7c4b21dadad2a4c078a9f93bd0cc657_24_1.fastq\n"
     ]
    },
    {
     "name": "stdout",
     "output_type": "stream",
     "text": [
      "[########################################] | 100% Completed | 14.3s\n"
     ]
    },
    {
     "name": "stderr",
     "output_type": "stream",
     "text": [
      "[09:28:29 - __main__] Saving to file: /path/to/data/MinION_sequencing_data_20190813/guppy_3.2.2_08_13_2019_run_03_exec_20190814/sw/fastq_runid_7efa32b6b7c4b21dadad2a4c078a9f93bd0cc657_24_1.tsv\n",
      "[09:28:30 - __main__] Starting fastq (98 of 309)\n",
      "\t/path/to/data/MinION_sequencing_data_20190813/guppy_3.2.2_08_13_2019_run_03_exec_20190814/pass/fastq_runid_7efa32b6b7c4b21dadad2a4c078a9f93bd0cc657_24_2.fastq\n"
     ]
    },
    {
     "name": "stdout",
     "output_type": "stream",
     "text": [
      "[########################################] | 100% Completed | 38.7s\n"
     ]
    },
    {
     "name": "stderr",
     "output_type": "stream",
     "text": [
      "[09:29:08 - __main__] Saving to file: /path/to/data/MinION_sequencing_data_20190813/guppy_3.2.2_08_13_2019_run_03_exec_20190814/sw/fastq_runid_7efa32b6b7c4b21dadad2a4c078a9f93bd0cc657_24_2.tsv\n",
      "[09:29:09 - __main__] Starting fastq (99 of 309)\n",
      "\t/path/to/data/MinION_sequencing_data_20190813/guppy_3.2.2_08_13_2019_run_03_exec_20190814/pass/fastq_runid_7efa32b6b7c4b21dadad2a4c078a9f93bd0cc657_24_3.fastq\n"
     ]
    },
    {
     "name": "stdout",
     "output_type": "stream",
     "text": [
      "[########################################] | 100% Completed | 10.1s\n"
     ]
    },
    {
     "name": "stderr",
     "output_type": "stream",
     "text": [
      "[09:29:19 - __main__] Saving to file: /path/to/data/MinION_sequencing_data_20190813/guppy_3.2.2_08_13_2019_run_03_exec_20190814/sw/fastq_runid_7efa32b6b7c4b21dadad2a4c078a9f93bd0cc657_24_3.tsv\n",
      "[09:29:19 - __main__] Starting fastq (100 of 309)\n",
      "\t/path/to/data/MinION_sequencing_data_20190813/guppy_3.2.2_08_13_2019_run_03_exec_20190814/pass/fastq_runid_7efa32b6b7c4b21dadad2a4c078a9f93bd0cc657_25_0.fastq\n"
     ]
    },
    {
     "name": "stdout",
     "output_type": "stream",
     "text": [
      "[########################################] | 100% Completed | 47.1s\n"
     ]
    },
    {
     "name": "stderr",
     "output_type": "stream",
     "text": [
      "[09:30:06 - __main__] Saving to file: /path/to/data/MinION_sequencing_data_20190813/guppy_3.2.2_08_13_2019_run_03_exec_20190814/sw/fastq_runid_7efa32b6b7c4b21dadad2a4c078a9f93bd0cc657_25_0.tsv\n",
      "[09:30:06 - __main__] Starting fastq (101 of 309)\n",
      "\t/path/to/data/MinION_sequencing_data_20190813/guppy_3.2.2_08_13_2019_run_03_exec_20190814/pass/fastq_runid_7efa32b6b7c4b21dadad2a4c078a9f93bd0cc657_25_1.fastq\n"
     ]
    },
    {
     "name": "stdout",
     "output_type": "stream",
     "text": [
      "[########################################] | 100% Completed | 50.2s\n"
     ]
    },
    {
     "name": "stderr",
     "output_type": "stream",
     "text": [
      "[09:30:57 - __main__] Saving to file: /path/to/data/MinION_sequencing_data_20190813/guppy_3.2.2_08_13_2019_run_03_exec_20190814/sw/fastq_runid_7efa32b6b7c4b21dadad2a4c078a9f93bd0cc657_25_1.tsv\n",
      "[09:30:57 - __main__] Starting fastq (102 of 309)\n",
      "\t/path/to/data/MinION_sequencing_data_20190813/guppy_3.2.2_08_13_2019_run_03_exec_20190814/pass/fastq_runid_7efa32b6b7c4b21dadad2a4c078a9f93bd0cc657_25_2.fastq\n"
     ]
    },
    {
     "name": "stdout",
     "output_type": "stream",
     "text": [
      "[########################################] | 100% Completed | 22.8s\n"
     ]
    },
    {
     "name": "stderr",
     "output_type": "stream",
     "text": [
      "[09:31:20 - __main__] Saving to file: /path/to/data/MinION_sequencing_data_20190813/guppy_3.2.2_08_13_2019_run_03_exec_20190814/sw/fastq_runid_7efa32b6b7c4b21dadad2a4c078a9f93bd0cc657_25_2.tsv\n",
      "[09:31:20 - __main__] Starting fastq (103 of 309)\n",
      "\t/path/to/data/MinION_sequencing_data_20190813/guppy_3.2.2_08_13_2019_run_03_exec_20190814/pass/fastq_runid_7efa32b6b7c4b21dadad2a4c078a9f93bd0cc657_25_3.fastq\n"
     ]
    },
    {
     "name": "stdout",
     "output_type": "stream",
     "text": [
      "[########################################] | 100% Completed | 13.8s\n"
     ]
    },
    {
     "name": "stderr",
     "output_type": "stream",
     "text": [
      "[09:31:34 - __main__] Saving to file: /path/to/data/MinION_sequencing_data_20190813/guppy_3.2.2_08_13_2019_run_03_exec_20190814/sw/fastq_runid_7efa32b6b7c4b21dadad2a4c078a9f93bd0cc657_25_3.tsv\n",
      "[09:31:34 - __main__] Starting fastq (104 of 309)\n",
      "\t/path/to/data/MinION_sequencing_data_20190813/guppy_3.2.2_08_13_2019_run_03_exec_20190814/pass/fastq_runid_7efa32b6b7c4b21dadad2a4c078a9f93bd0cc657_26_0.fastq\n"
     ]
    },
    {
     "name": "stdout",
     "output_type": "stream",
     "text": [
      "[########################################] | 100% Completed | 37.7s\n"
     ]
    },
    {
     "name": "stderr",
     "output_type": "stream",
     "text": [
      "[09:32:12 - __main__] Saving to file: /path/to/data/MinION_sequencing_data_20190813/guppy_3.2.2_08_13_2019_run_03_exec_20190814/sw/fastq_runid_7efa32b6b7c4b21dadad2a4c078a9f93bd0cc657_26_0.tsv\n",
      "[09:32:12 - __main__] Starting fastq (105 of 309)\n",
      "\t/path/to/data/MinION_sequencing_data_20190813/guppy_3.2.2_08_13_2019_run_03_exec_20190814/pass/fastq_runid_7efa32b6b7c4b21dadad2a4c078a9f93bd0cc657_26_1.fastq\n"
     ]
    },
    {
     "name": "stdout",
     "output_type": "stream",
     "text": [
      "[########################################] | 100% Completed | 34.4s\n"
     ]
    },
    {
     "name": "stderr",
     "output_type": "stream",
     "text": [
      "[09:32:47 - __main__] Saving to file: /path/to/data/MinION_sequencing_data_20190813/guppy_3.2.2_08_13_2019_run_03_exec_20190814/sw/fastq_runid_7efa32b6b7c4b21dadad2a4c078a9f93bd0cc657_26_1.tsv\n",
      "[09:32:47 - __main__] Starting fastq (106 of 309)\n",
      "\t/path/to/data/MinION_sequencing_data_20190813/guppy_3.2.2_08_13_2019_run_03_exec_20190814/pass/fastq_runid_7efa32b6b7c4b21dadad2a4c078a9f93bd0cc657_26_2.fastq\n"
     ]
    },
    {
     "name": "stdout",
     "output_type": "stream",
     "text": [
      "[########################################] | 100% Completed | 43.7s\n"
     ]
    },
    {
     "name": "stderr",
     "output_type": "stream",
     "text": [
      "[09:33:31 - __main__] Saving to file: /path/to/data/MinION_sequencing_data_20190813/guppy_3.2.2_08_13_2019_run_03_exec_20190814/sw/fastq_runid_7efa32b6b7c4b21dadad2a4c078a9f93bd0cc657_26_2.tsv\n",
      "[09:33:31 - __main__] Starting fastq (107 of 309)\n",
      "\t/path/to/data/MinION_sequencing_data_20190813/guppy_3.2.2_08_13_2019_run_03_exec_20190814/pass/fastq_runid_7efa32b6b7c4b21dadad2a4c078a9f93bd0cc657_26_3.fastq\n"
     ]
    },
    {
     "name": "stdout",
     "output_type": "stream",
     "text": [
      "[########################################] | 100% Completed | 19.9s\n"
     ]
    },
    {
     "name": "stderr",
     "output_type": "stream",
     "text": [
      "[09:33:51 - __main__] Saving to file: /path/to/data/MinION_sequencing_data_20190813/guppy_3.2.2_08_13_2019_run_03_exec_20190814/sw/fastq_runid_7efa32b6b7c4b21dadad2a4c078a9f93bd0cc657_26_3.tsv\n",
      "[09:33:51 - __main__] Starting fastq (108 of 309)\n",
      "\t/path/to/data/MinION_sequencing_data_20190813/guppy_3.2.2_08_13_2019_run_03_exec_20190814/pass/fastq_runid_7efa32b6b7c4b21dadad2a4c078a9f93bd0cc657_27_0.fastq\n"
     ]
    },
    {
     "name": "stdout",
     "output_type": "stream",
     "text": [
      "[########################################] | 100% Completed | 16.8s\n"
     ]
    },
    {
     "name": "stderr",
     "output_type": "stream",
     "text": [
      "[09:34:08 - __main__] Saving to file: /path/to/data/MinION_sequencing_data_20190813/guppy_3.2.2_08_13_2019_run_03_exec_20190814/sw/fastq_runid_7efa32b6b7c4b21dadad2a4c078a9f93bd0cc657_27_0.tsv\n",
      "[09:34:08 - __main__] Starting fastq (109 of 309)\n",
      "\t/path/to/data/MinION_sequencing_data_20190813/guppy_3.2.2_08_13_2019_run_03_exec_20190814/pass/fastq_runid_7efa32b6b7c4b21dadad2a4c078a9f93bd0cc657_27_1.fastq\n"
     ]
    },
    {
     "name": "stdout",
     "output_type": "stream",
     "text": [
      "[########################################] | 100% Completed | 43.5s\n"
     ]
    },
    {
     "name": "stderr",
     "output_type": "stream",
     "text": [
      "[09:34:52 - __main__] Saving to file: /path/to/data/MinION_sequencing_data_20190813/guppy_3.2.2_08_13_2019_run_03_exec_20190814/sw/fastq_runid_7efa32b6b7c4b21dadad2a4c078a9f93bd0cc657_27_1.tsv\n",
      "[09:34:52 - __main__] Starting fastq (110 of 309)\n",
      "\t/path/to/data/MinION_sequencing_data_20190813/guppy_3.2.2_08_13_2019_run_03_exec_20190814/pass/fastq_runid_7efa32b6b7c4b21dadad2a4c078a9f93bd0cc657_27_2.fastq\n"
     ]
    },
    {
     "name": "stdout",
     "output_type": "stream",
     "text": [
      "[########################################] | 100% Completed | 50.0s\n"
     ]
    },
    {
     "name": "stderr",
     "output_type": "stream",
     "text": [
      "[09:35:43 - __main__] Saving to file: /path/to/data/MinION_sequencing_data_20190813/guppy_3.2.2_08_13_2019_run_03_exec_20190814/sw/fastq_runid_7efa32b6b7c4b21dadad2a4c078a9f93bd0cc657_27_2.tsv\n",
      "[09:35:43 - __main__] Starting fastq (111 of 309)\n",
      "\t/path/to/data/MinION_sequencing_data_20190813/guppy_3.2.2_08_13_2019_run_03_exec_20190814/pass/fastq_runid_7efa32b6b7c4b21dadad2a4c078a9f93bd0cc657_27_3.fastq\n"
     ]
    },
    {
     "name": "stdout",
     "output_type": "stream",
     "text": [
      "[########################################] | 100% Completed | 22.3s\n"
     ]
    },
    {
     "name": "stderr",
     "output_type": "stream",
     "text": [
      "[09:36:05 - __main__] Saving to file: /path/to/data/MinION_sequencing_data_20190813/guppy_3.2.2_08_13_2019_run_03_exec_20190814/sw/fastq_runid_7efa32b6b7c4b21dadad2a4c078a9f93bd0cc657_27_3.tsv\n",
      "[09:36:05 - __main__] Starting fastq (112 of 309)\n",
      "\t/path/to/data/MinION_sequencing_data_20190813/guppy_3.2.2_08_13_2019_run_03_exec_20190814/pass/fastq_runid_7efa32b6b7c4b21dadad2a4c078a9f93bd0cc657_28_0.fastq\n"
     ]
    },
    {
     "name": "stdout",
     "output_type": "stream",
     "text": [
      "[########################################] | 100% Completed | 43.3s\n"
     ]
    },
    {
     "name": "stderr",
     "output_type": "stream",
     "text": [
      "[09:36:49 - __main__] Saving to file: /path/to/data/MinION_sequencing_data_20190813/guppy_3.2.2_08_13_2019_run_03_exec_20190814/sw/fastq_runid_7efa32b6b7c4b21dadad2a4c078a9f93bd0cc657_28_0.tsv\n",
      "[09:36:49 - __main__] Starting fastq (113 of 309)\n",
      "\t/path/to/data/MinION_sequencing_data_20190813/guppy_3.2.2_08_13_2019_run_03_exec_20190814/pass/fastq_runid_7efa32b6b7c4b21dadad2a4c078a9f93bd0cc657_28_1.fastq\n"
     ]
    },
    {
     "name": "stdout",
     "output_type": "stream",
     "text": [
      "[########################################] | 100% Completed | 26.8s\n"
     ]
    },
    {
     "name": "stderr",
     "output_type": "stream",
     "text": [
      "[09:37:16 - __main__] Saving to file: /path/to/data/MinION_sequencing_data_20190813/guppy_3.2.2_08_13_2019_run_03_exec_20190814/sw/fastq_runid_7efa32b6b7c4b21dadad2a4c078a9f93bd0cc657_28_1.tsv\n",
      "[09:37:16 - __main__] Starting fastq (114 of 309)\n",
      "\t/path/to/data/MinION_sequencing_data_20190813/guppy_3.2.2_08_13_2019_run_03_exec_20190814/pass/fastq_runid_7efa32b6b7c4b21dadad2a4c078a9f93bd0cc657_28_2.fastq\n"
     ]
    },
    {
     "name": "stdout",
     "output_type": "stream",
     "text": [
      "[########################################] | 100% Completed | 40.4s\n"
     ]
    },
    {
     "name": "stderr",
     "output_type": "stream",
     "text": [
      "[09:37:57 - __main__] Saving to file: /path/to/data/MinION_sequencing_data_20190813/guppy_3.2.2_08_13_2019_run_03_exec_20190814/sw/fastq_runid_7efa32b6b7c4b21dadad2a4c078a9f93bd0cc657_28_2.tsv\n",
      "[09:37:57 - __main__] Starting fastq (115 of 309)\n",
      "\t/path/to/data/MinION_sequencing_data_20190813/guppy_3.2.2_08_13_2019_run_03_exec_20190814/pass/fastq_runid_7efa32b6b7c4b21dadad2a4c078a9f93bd0cc657_28_3.fastq\n"
     ]
    },
    {
     "name": "stdout",
     "output_type": "stream",
     "text": [
      "[########################################] | 100% Completed | 19.8s\n"
     ]
    },
    {
     "name": "stderr",
     "output_type": "stream",
     "text": [
      "[09:38:17 - __main__] Saving to file: /path/to/data/MinION_sequencing_data_20190813/guppy_3.2.2_08_13_2019_run_03_exec_20190814/sw/fastq_runid_7efa32b6b7c4b21dadad2a4c078a9f93bd0cc657_28_3.tsv\n",
      "[09:38:17 - __main__] Starting fastq (116 of 309)\n",
      "\t/path/to/data/MinION_sequencing_data_20190813/guppy_3.2.2_08_13_2019_run_03_exec_20190814/pass/fastq_runid_7efa32b6b7c4b21dadad2a4c078a9f93bd0cc657_29_0.fastq\n"
     ]
    },
    {
     "name": "stdout",
     "output_type": "stream",
     "text": [
      "[########################################] | 100% Completed | 49.0s\n"
     ]
    },
    {
     "name": "stderr",
     "output_type": "stream",
     "text": [
      "[09:39:06 - __main__] Saving to file: /path/to/data/MinION_sequencing_data_20190813/guppy_3.2.2_08_13_2019_run_03_exec_20190814/sw/fastq_runid_7efa32b6b7c4b21dadad2a4c078a9f93bd0cc657_29_0.tsv\n",
      "[09:39:06 - __main__] Starting fastq (117 of 309)\n",
      "\t/path/to/data/MinION_sequencing_data_20190813/guppy_3.2.2_08_13_2019_run_03_exec_20190814/pass/fastq_runid_7efa32b6b7c4b21dadad2a4c078a9f93bd0cc657_29_1.fastq\n"
     ]
    },
    {
     "name": "stdout",
     "output_type": "stream",
     "text": [
      "[########################################] | 100% Completed | 30.1s\n"
     ]
    },
    {
     "name": "stderr",
     "output_type": "stream",
     "text": [
      "[09:39:37 - __main__] Saving to file: /path/to/data/MinION_sequencing_data_20190813/guppy_3.2.2_08_13_2019_run_03_exec_20190814/sw/fastq_runid_7efa32b6b7c4b21dadad2a4c078a9f93bd0cc657_29_1.tsv\n",
      "[09:39:37 - __main__] Starting fastq (118 of 309)\n",
      "\t/path/to/data/MinION_sequencing_data_20190813/guppy_3.2.2_08_13_2019_run_03_exec_20190814/pass/fastq_runid_7efa32b6b7c4b21dadad2a4c078a9f93bd0cc657_29_2.fastq\n"
     ]
    },
    {
     "name": "stdout",
     "output_type": "stream",
     "text": [
      "[########################################] | 100% Completed | 41.3s\n"
     ]
    },
    {
     "name": "stderr",
     "output_type": "stream",
     "text": [
      "[09:40:18 - __main__] Saving to file: /path/to/data/MinION_sequencing_data_20190813/guppy_3.2.2_08_13_2019_run_03_exec_20190814/sw/fastq_runid_7efa32b6b7c4b21dadad2a4c078a9f93bd0cc657_29_2.tsv\n",
      "[09:40:19 - __main__] Starting fastq (119 of 309)\n",
      "\t/path/to/data/MinION_sequencing_data_20190813/guppy_3.2.2_08_13_2019_run_03_exec_20190814/pass/fastq_runid_7efa32b6b7c4b21dadad2a4c078a9f93bd0cc657_29_3.fastq\n"
     ]
    },
    {
     "name": "stdout",
     "output_type": "stream",
     "text": [
      "[########################################] | 100% Completed | 11.9s\n"
     ]
    },
    {
     "name": "stderr",
     "output_type": "stream",
     "text": [
      "[09:40:31 - __main__] Saving to file: /path/to/data/MinION_sequencing_data_20190813/guppy_3.2.2_08_13_2019_run_03_exec_20190814/sw/fastq_runid_7efa32b6b7c4b21dadad2a4c078a9f93bd0cc657_29_3.tsv\n",
      "[09:40:31 - __main__] Starting fastq (120 of 309)\n",
      "\t/path/to/data/MinION_sequencing_data_20190813/guppy_3.2.2_08_13_2019_run_03_exec_20190814/pass/fastq_runid_7efa32b6b7c4b21dadad2a4c078a9f93bd0cc657_30_0.fastq\n"
     ]
    },
    {
     "name": "stdout",
     "output_type": "stream",
     "text": [
      "[########################################] | 100% Completed | 58.0s\n"
     ]
    },
    {
     "name": "stderr",
     "output_type": "stream",
     "text": [
      "[09:41:29 - __main__] Saving to file: /path/to/data/MinION_sequencing_data_20190813/guppy_3.2.2_08_13_2019_run_03_exec_20190814/sw/fastq_runid_7efa32b6b7c4b21dadad2a4c078a9f93bd0cc657_30_0.tsv\n",
      "[09:41:29 - __main__] Starting fastq (121 of 309)\n",
      "\t/path/to/data/MinION_sequencing_data_20190813/guppy_3.2.2_08_13_2019_run_03_exec_20190814/pass/fastq_runid_7efa32b6b7c4b21dadad2a4c078a9f93bd0cc657_30_1.fastq\n"
     ]
    },
    {
     "name": "stdout",
     "output_type": "stream",
     "text": [
      "[########################################] | 100% Completed | 23.0s\n"
     ]
    },
    {
     "name": "stderr",
     "output_type": "stream",
     "text": [
      "[09:41:52 - __main__] Saving to file: /path/to/data/MinION_sequencing_data_20190813/guppy_3.2.2_08_13_2019_run_03_exec_20190814/sw/fastq_runid_7efa32b6b7c4b21dadad2a4c078a9f93bd0cc657_30_1.tsv\n",
      "[09:41:52 - __main__] Starting fastq (122 of 309)\n",
      "\t/path/to/data/MinION_sequencing_data_20190813/guppy_3.2.2_08_13_2019_run_03_exec_20190814/pass/fastq_runid_7efa32b6b7c4b21dadad2a4c078a9f93bd0cc657_30_2.fastq\n"
     ]
    },
    {
     "name": "stdout",
     "output_type": "stream",
     "text": [
      "[########################################] | 100% Completed | 44.0s\n"
     ]
    },
    {
     "name": "stderr",
     "output_type": "stream",
     "text": [
      "[09:42:37 - __main__] Saving to file: /path/to/data/MinION_sequencing_data_20190813/guppy_3.2.2_08_13_2019_run_03_exec_20190814/sw/fastq_runid_7efa32b6b7c4b21dadad2a4c078a9f93bd0cc657_30_2.tsv\n",
      "[09:42:37 - __main__] Starting fastq (123 of 309)\n",
      "\t/path/to/data/MinION_sequencing_data_20190813/guppy_3.2.2_08_13_2019_run_03_exec_20190814/pass/fastq_runid_7efa32b6b7c4b21dadad2a4c078a9f93bd0cc657_30_3.fastq\n"
     ]
    },
    {
     "name": "stdout",
     "output_type": "stream",
     "text": [
      "[########################################] | 100% Completed |  7.3s\n"
     ]
    },
    {
     "name": "stderr",
     "output_type": "stream",
     "text": [
      "[09:42:44 - __main__] Saving to file: /path/to/data/MinION_sequencing_data_20190813/guppy_3.2.2_08_13_2019_run_03_exec_20190814/sw/fastq_runid_7efa32b6b7c4b21dadad2a4c078a9f93bd0cc657_30_3.tsv\n",
      "[09:42:44 - __main__] Starting fastq (124 of 309)\n",
      "\t/path/to/data/MinION_sequencing_data_20190813/guppy_3.2.2_08_13_2019_run_03_exec_20190814/pass/fastq_runid_7efa32b6b7c4b21dadad2a4c078a9f93bd0cc657_31_0.fastq\n"
     ]
    },
    {
     "name": "stdout",
     "output_type": "stream",
     "text": [
      "[########################################] | 100% Completed |  1min 28.3s\n"
     ]
    },
    {
     "name": "stderr",
     "output_type": "stream",
     "text": [
      "[09:44:13 - __main__] Saving to file: /path/to/data/MinION_sequencing_data_20190813/guppy_3.2.2_08_13_2019_run_03_exec_20190814/sw/fastq_runid_7efa32b6b7c4b21dadad2a4c078a9f93bd0cc657_31_0.tsv\n",
      "[09:44:13 - __main__] Starting fastq (125 of 309)\n",
      "\t/path/to/data/MinION_sequencing_data_20190813/guppy_3.2.2_08_13_2019_run_03_exec_20190814/pass/fastq_runid_7efa32b6b7c4b21dadad2a4c078a9f93bd0cc657_31_1.fastq\n"
     ]
    },
    {
     "name": "stdout",
     "output_type": "stream",
     "text": [
      "[########################################] | 100% Completed | 39.5s\n"
     ]
    },
    {
     "name": "stderr",
     "output_type": "stream",
     "text": [
      "[09:44:53 - __main__] Saving to file: /path/to/data/MinION_sequencing_data_20190813/guppy_3.2.2_08_13_2019_run_03_exec_20190814/sw/fastq_runid_7efa32b6b7c4b21dadad2a4c078a9f93bd0cc657_31_1.tsv\n",
      "[09:44:53 - __main__] Starting fastq (126 of 309)\n",
      "\t/path/to/data/MinION_sequencing_data_20190813/guppy_3.2.2_08_13_2019_run_03_exec_20190814/pass/fastq_runid_7efa32b6b7c4b21dadad2a4c078a9f93bd0cc657_32_0.fastq\n"
     ]
    },
    {
     "name": "stdout",
     "output_type": "stream",
     "text": [
      "[########################################] | 100% Completed |  1min 45.4s\n"
     ]
    },
    {
     "name": "stderr",
     "output_type": "stream",
     "text": [
      "[09:46:39 - __main__] Saving to file: /path/to/data/MinION_sequencing_data_20190813/guppy_3.2.2_08_13_2019_run_03_exec_20190814/sw/fastq_runid_7efa32b6b7c4b21dadad2a4c078a9f93bd0cc657_32_0.tsv\n",
      "[09:46:39 - __main__] Starting fastq (127 of 309)\n",
      "\t/path/to/data/MinION_sequencing_data_20190813/guppy_3.2.2_08_13_2019_run_03_exec_20190814/pass/fastq_runid_7efa32b6b7c4b21dadad2a4c078a9f93bd0cc657_31_2.fastq\n"
     ]
    },
    {
     "name": "stdout",
     "output_type": "stream",
     "text": [
      "[########################################] | 100% Completed |  4.0s\n"
     ]
    },
    {
     "name": "stderr",
     "output_type": "stream",
     "text": [
      "[09:46:43 - __main__] Saving to file: /path/to/data/MinION_sequencing_data_20190813/guppy_3.2.2_08_13_2019_run_03_exec_20190814/sw/fastq_runid_7efa32b6b7c4b21dadad2a4c078a9f93bd0cc657_31_2.tsv\n",
      "[09:46:43 - __main__] Starting fastq (128 of 309)\n",
      "\t/path/to/data/MinION_sequencing_data_20190813/guppy_3.2.2_08_13_2019_run_03_exec_20190814/pass/fastq_runid_7efa32b6b7c4b21dadad2a4c078a9f93bd0cc657_32_1.fastq\n"
     ]
    },
    {
     "name": "stdout",
     "output_type": "stream",
     "text": [
      "[########################################] | 100% Completed |  4.2s\n"
     ]
    },
    {
     "name": "stderr",
     "output_type": "stream",
     "text": [
      "[09:46:48 - __main__] Saving to file: /path/to/data/MinION_sequencing_data_20190813/guppy_3.2.2_08_13_2019_run_03_exec_20190814/sw/fastq_runid_7efa32b6b7c4b21dadad2a4c078a9f93bd0cc657_32_1.tsv\n",
      "[09:46:48 - __main__] Starting fastq (129 of 309)\n",
      "\t/path/to/data/MinION_sequencing_data_20190813/guppy_3.2.2_08_13_2019_run_03_exec_20190814/pass/fastq_runid_7efa32b6b7c4b21dadad2a4c078a9f93bd0cc657_33_0.fastq\n"
     ]
    },
    {
     "name": "stdout",
     "output_type": "stream",
     "text": [
      "[########################################] | 100% Completed | 35.3s\n"
     ]
    },
    {
     "name": "stderr",
     "output_type": "stream",
     "text": [
      "[09:47:23 - __main__] Saving to file: /path/to/data/MinION_sequencing_data_20190813/guppy_3.2.2_08_13_2019_run_03_exec_20190814/sw/fastq_runid_7efa32b6b7c4b21dadad2a4c078a9f93bd0cc657_33_0.tsv\n",
      "[09:47:23 - __main__] Starting fastq (130 of 309)\n",
      "\t/path/to/data/MinION_sequencing_data_20190813/guppy_3.2.2_08_13_2019_run_03_exec_20190814/pass/fastq_runid_7efa32b6b7c4b21dadad2a4c078a9f93bd0cc657_31_3.fastq\n"
     ]
    },
    {
     "name": "stdout",
     "output_type": "stream",
     "text": [
      "[########################################] | 100% Completed |  1.0s\n"
     ]
    },
    {
     "name": "stderr",
     "output_type": "stream",
     "text": [
      "[09:47:24 - __main__] Saving to file: /path/to/data/MinION_sequencing_data_20190813/guppy_3.2.2_08_13_2019_run_03_exec_20190814/sw/fastq_runid_7efa32b6b7c4b21dadad2a4c078a9f93bd0cc657_31_3.tsv\n",
      "[09:47:24 - __main__] Starting fastq (131 of 309)\n",
      "\t/path/to/data/MinION_sequencing_data_20190813/guppy_3.2.2_08_13_2019_run_03_exec_20190814/pass/fastq_runid_7efa32b6b7c4b21dadad2a4c078a9f93bd0cc657_32_2.fastq\n"
     ]
    },
    {
     "name": "stdout",
     "output_type": "stream",
     "text": [
      "[########################################] | 100% Completed |  1.0s\n"
     ]
    },
    {
     "name": "stderr",
     "output_type": "stream",
     "text": [
      "[09:47:26 - __main__] Saving to file: /path/to/data/MinION_sequencing_data_20190813/guppy_3.2.2_08_13_2019_run_03_exec_20190814/sw/fastq_runid_7efa32b6b7c4b21dadad2a4c078a9f93bd0cc657_32_2.tsv\n",
      "[09:47:26 - __main__] Starting fastq (132 of 309)\n",
      "\t/path/to/data/MinION_sequencing_data_20190813/guppy_3.2.2_08_13_2019_run_03_exec_20190814/pass/fastq_runid_7efa32b6b7c4b21dadad2a4c078a9f93bd0cc657_33_1.fastq\n"
     ]
    },
    {
     "name": "stdout",
     "output_type": "stream",
     "text": [
      "[########################################] | 100% Completed |  1min 16.3s\n"
     ]
    },
    {
     "name": "stderr",
     "output_type": "stream",
     "text": [
      "[09:48:42 - __main__] Saving to file: /path/to/data/MinION_sequencing_data_20190813/guppy_3.2.2_08_13_2019_run_03_exec_20190814/sw/fastq_runid_7efa32b6b7c4b21dadad2a4c078a9f93bd0cc657_33_1.tsv\n",
      "[09:48:43 - __main__] Starting fastq (133 of 309)\n",
      "\t/path/to/data/MinION_sequencing_data_20190813/guppy_3.2.2_08_13_2019_run_03_exec_20190814/pass/fastq_runid_7efa32b6b7c4b21dadad2a4c078a9f93bd0cc657_32_3.fastq\n"
     ]
    },
    {
     "name": "stdout",
     "output_type": "stream",
     "text": [
      "[########################################] | 100% Completed | 21.9s\n"
     ]
    },
    {
     "name": "stderr",
     "output_type": "stream",
     "text": [
      "[09:49:05 - __main__] Saving to file: /path/to/data/MinION_sequencing_data_20190813/guppy_3.2.2_08_13_2019_run_03_exec_20190814/sw/fastq_runid_7efa32b6b7c4b21dadad2a4c078a9f93bd0cc657_32_3.tsv\n",
      "[09:49:05 - __main__] Starting fastq (134 of 309)\n",
      "\t/path/to/data/MinION_sequencing_data_20190813/guppy_3.2.2_08_13_2019_run_03_exec_20190814/pass/fastq_runid_7efa32b6b7c4b21dadad2a4c078a9f93bd0cc657_34_0.fastq\n"
     ]
    },
    {
     "name": "stdout",
     "output_type": "stream",
     "text": [
      "[########################################] | 100% Completed |  1min  3.6s\n"
     ]
    },
    {
     "name": "stderr",
     "output_type": "stream",
     "text": [
      "[09:50:09 - __main__] Saving to file: /path/to/data/MinION_sequencing_data_20190813/guppy_3.2.2_08_13_2019_run_03_exec_20190814/sw/fastq_runid_7efa32b6b7c4b21dadad2a4c078a9f93bd0cc657_34_0.tsv\n",
      "[09:50:09 - __main__] Starting fastq (135 of 309)\n",
      "\t/path/to/data/MinION_sequencing_data_20190813/guppy_3.2.2_08_13_2019_run_03_exec_20190814/pass/fastq_runid_7efa32b6b7c4b21dadad2a4c078a9f93bd0cc657_33_2.fastq\n"
     ]
    },
    {
     "name": "stdout",
     "output_type": "stream",
     "text": [
      "[########################################] | 100% Completed |  1.0s\n"
     ]
    },
    {
     "name": "stderr",
     "output_type": "stream",
     "text": [
      "[09:50:10 - __main__] Saving to file: /path/to/data/MinION_sequencing_data_20190813/guppy_3.2.2_08_13_2019_run_03_exec_20190814/sw/fastq_runid_7efa32b6b7c4b21dadad2a4c078a9f93bd0cc657_33_2.tsv\n",
      "[09:50:10 - __main__] Starting fastq (136 of 309)\n",
      "\t/path/to/data/MinION_sequencing_data_20190813/guppy_3.2.2_08_13_2019_run_03_exec_20190814/pass/fastq_runid_7efa32b6b7c4b21dadad2a4c078a9f93bd0cc657_34_1.fastq\n"
     ]
    },
    {
     "name": "stdout",
     "output_type": "stream",
     "text": [
      "[########################################] | 100% Completed | 42.4s\n"
     ]
    },
    {
     "name": "stderr",
     "output_type": "stream",
     "text": [
      "[09:50:53 - __main__] Saving to file: /path/to/data/MinION_sequencing_data_20190813/guppy_3.2.2_08_13_2019_run_03_exec_20190814/sw/fastq_runid_7efa32b6b7c4b21dadad2a4c078a9f93bd0cc657_34_1.tsv\n",
      "[09:50:53 - __main__] Starting fastq (137 of 309)\n",
      "\t/path/to/data/MinION_sequencing_data_20190813/guppy_3.2.2_08_13_2019_run_03_exec_20190814/pass/fastq_runid_7efa32b6b7c4b21dadad2a4c078a9f93bd0cc657_34_2.fastq\n"
     ]
    },
    {
     "name": "stdout",
     "output_type": "stream",
     "text": [
      "[########################################] | 100% Completed | 23.2s\n"
     ]
    },
    {
     "name": "stderr",
     "output_type": "stream",
     "text": [
      "[09:51:16 - __main__] Saving to file: /path/to/data/MinION_sequencing_data_20190813/guppy_3.2.2_08_13_2019_run_03_exec_20190814/sw/fastq_runid_7efa32b6b7c4b21dadad2a4c078a9f93bd0cc657_34_2.tsv\n",
      "[09:51:17 - __main__] Starting fastq (138 of 309)\n",
      "\t/path/to/data/MinION_sequencing_data_20190813/guppy_3.2.2_08_13_2019_run_03_exec_20190814/pass/fastq_runid_7efa32b6b7c4b21dadad2a4c078a9f93bd0cc657_35_0.fastq\n"
     ]
    },
    {
     "name": "stdout",
     "output_type": "stream",
     "text": [
      "[########################################] | 100% Completed | 39.5s\n"
     ]
    },
    {
     "name": "stderr",
     "output_type": "stream",
     "text": [
      "[09:51:56 - __main__] Saving to file: /path/to/data/MinION_sequencing_data_20190813/guppy_3.2.2_08_13_2019_run_03_exec_20190814/sw/fastq_runid_7efa32b6b7c4b21dadad2a4c078a9f93bd0cc657_35_0.tsv\n",
      "[09:51:56 - __main__] Starting fastq (139 of 309)\n",
      "\t/path/to/data/MinION_sequencing_data_20190813/guppy_3.2.2_08_13_2019_run_03_exec_20190814/pass/fastq_runid_7efa32b6b7c4b21dadad2a4c078a9f93bd0cc657_35_1.fastq\n"
     ]
    },
    {
     "name": "stdout",
     "output_type": "stream",
     "text": [
      "[########################################] | 100% Completed | 28.9s\n"
     ]
    },
    {
     "name": "stderr",
     "output_type": "stream",
     "text": [
      "[09:52:25 - __main__] Saving to file: /path/to/data/MinION_sequencing_data_20190813/guppy_3.2.2_08_13_2019_run_03_exec_20190814/sw/fastq_runid_7efa32b6b7c4b21dadad2a4c078a9f93bd0cc657_35_1.tsv\n",
      "[09:52:26 - __main__] Starting fastq (140 of 309)\n",
      "\t/path/to/data/MinION_sequencing_data_20190813/guppy_3.2.2_08_13_2019_run_03_exec_20190814/pass/fastq_runid_7efa32b6b7c4b21dadad2a4c078a9f93bd0cc657_33_3.fastq\n"
     ]
    },
    {
     "name": "stdout",
     "output_type": "stream",
     "text": [
      "[########################################] | 100% Completed | 19.1s\n"
     ]
    },
    {
     "name": "stderr",
     "output_type": "stream",
     "text": [
      "[09:52:45 - __main__] Saving to file: /path/to/data/MinION_sequencing_data_20190813/guppy_3.2.2_08_13_2019_run_03_exec_20190814/sw/fastq_runid_7efa32b6b7c4b21dadad2a4c078a9f93bd0cc657_33_3.tsv\n",
      "[09:52:45 - __main__] Starting fastq (141 of 309)\n",
      "\t/path/to/data/MinION_sequencing_data_20190813/guppy_3.2.2_08_13_2019_run_03_exec_20190814/pass/fastq_runid_7efa32b6b7c4b21dadad2a4c078a9f93bd0cc657_34_3.fastq\n"
     ]
    },
    {
     "name": "stdout",
     "output_type": "stream",
     "text": [
      "[########################################] | 100% Completed |  2.7s\n"
     ]
    },
    {
     "name": "stderr",
     "output_type": "stream",
     "text": [
      "[09:52:48 - __main__] Saving to file: /path/to/data/MinION_sequencing_data_20190813/guppy_3.2.2_08_13_2019_run_03_exec_20190814/sw/fastq_runid_7efa32b6b7c4b21dadad2a4c078a9f93bd0cc657_34_3.tsv\n",
      "[09:52:48 - __main__] Starting fastq (142 of 309)\n",
      "\t/path/to/data/MinION_sequencing_data_20190813/guppy_3.2.2_08_13_2019_run_03_exec_20190814/pass/fastq_runid_7efa32b6b7c4b21dadad2a4c078a9f93bd0cc657_35_2.fastq\n"
     ]
    },
    {
     "name": "stdout",
     "output_type": "stream",
     "text": [
      "[########################################] | 100% Completed | 25.8s\n"
     ]
    },
    {
     "name": "stderr",
     "output_type": "stream",
     "text": [
      "[09:53:14 - __main__] Saving to file: /path/to/data/MinION_sequencing_data_20190813/guppy_3.2.2_08_13_2019_run_03_exec_20190814/sw/fastq_runid_7efa32b6b7c4b21dadad2a4c078a9f93bd0cc657_35_2.tsv\n",
      "[09:53:14 - __main__] Starting fastq (143 of 309)\n",
      "\t/path/to/data/MinION_sequencing_data_20190813/guppy_3.2.2_08_13_2019_run_03_exec_20190814/pass/fastq_runid_7efa32b6b7c4b21dadad2a4c078a9f93bd0cc657_35_3.fastq\n"
     ]
    },
    {
     "name": "stdout",
     "output_type": "stream",
     "text": [
      "[########################################] | 100% Completed | 39.7s\n"
     ]
    },
    {
     "name": "stderr",
     "output_type": "stream",
     "text": [
      "[09:53:54 - __main__] Saving to file: /path/to/data/MinION_sequencing_data_20190813/guppy_3.2.2_08_13_2019_run_03_exec_20190814/sw/fastq_runid_7efa32b6b7c4b21dadad2a4c078a9f93bd0cc657_35_3.tsv\n",
      "[09:53:54 - __main__] Starting fastq (144 of 309)\n",
      "\t/path/to/data/MinION_sequencing_data_20190813/guppy_3.2.2_08_13_2019_run_03_exec_20190814/pass/fastq_runid_7efa32b6b7c4b21dadad2a4c078a9f93bd0cc657_36_0.fastq\n"
     ]
    },
    {
     "name": "stdout",
     "output_type": "stream",
     "text": [
      "[########################################] | 100% Completed | 38.4s\n"
     ]
    },
    {
     "name": "stderr",
     "output_type": "stream",
     "text": [
      "[09:54:33 - __main__] Saving to file: /path/to/data/MinION_sequencing_data_20190813/guppy_3.2.2_08_13_2019_run_03_exec_20190814/sw/fastq_runid_7efa32b6b7c4b21dadad2a4c078a9f93bd0cc657_36_0.tsv\n",
      "[09:54:33 - __main__] Starting fastq (145 of 309)\n",
      "\t/path/to/data/MinION_sequencing_data_20190813/guppy_3.2.2_08_13_2019_run_03_exec_20190814/pass/fastq_runid_7efa32b6b7c4b21dadad2a4c078a9f93bd0cc657_36_1.fastq\n"
     ]
    },
    {
     "name": "stdout",
     "output_type": "stream",
     "text": [
      "[########################################] | 100% Completed | 35.5s\n"
     ]
    },
    {
     "name": "stderr",
     "output_type": "stream",
     "text": [
      "[09:55:09 - __main__] Saving to file: /path/to/data/MinION_sequencing_data_20190813/guppy_3.2.2_08_13_2019_run_03_exec_20190814/sw/fastq_runid_7efa32b6b7c4b21dadad2a4c078a9f93bd0cc657_36_1.tsv\n",
      "[09:55:09 - __main__] Starting fastq (146 of 309)\n",
      "\t/path/to/data/MinION_sequencing_data_20190813/guppy_3.2.2_08_13_2019_run_03_exec_20190814/pass/fastq_runid_7efa32b6b7c4b21dadad2a4c078a9f93bd0cc657_36_2.fastq\n"
     ]
    },
    {
     "name": "stdout",
     "output_type": "stream",
     "text": [
      "[########################################] | 100% Completed | 38.0s\n"
     ]
    },
    {
     "name": "stderr",
     "output_type": "stream",
     "text": [
      "[09:55:47 - __main__] Saving to file: /path/to/data/MinION_sequencing_data_20190813/guppy_3.2.2_08_13_2019_run_03_exec_20190814/sw/fastq_runid_7efa32b6b7c4b21dadad2a4c078a9f93bd0cc657_36_2.tsv\n",
      "[09:55:47 - __main__] Starting fastq (147 of 309)\n",
      "\t/path/to/data/MinION_sequencing_data_20190813/guppy_3.2.2_08_13_2019_run_03_exec_20190814/pass/fastq_runid_7efa32b6b7c4b21dadad2a4c078a9f93bd0cc657_37_0.fastq\n"
     ]
    },
    {
     "name": "stdout",
     "output_type": "stream",
     "text": [
      "[########################################] | 100% Completed | 28.2s\n"
     ]
    },
    {
     "name": "stderr",
     "output_type": "stream",
     "text": [
      "[09:56:16 - __main__] Saving to file: /path/to/data/MinION_sequencing_data_20190813/guppy_3.2.2_08_13_2019_run_03_exec_20190814/sw/fastq_runid_7efa32b6b7c4b21dadad2a4c078a9f93bd0cc657_37_0.tsv\n",
      "[09:56:16 - __main__] Starting fastq (148 of 309)\n",
      "\t/path/to/data/MinION_sequencing_data_20190813/guppy_3.2.2_08_13_2019_run_03_exec_20190814/pass/fastq_runid_7efa32b6b7c4b21dadad2a4c078a9f93bd0cc657_36_3.fastq\n"
     ]
    },
    {
     "name": "stdout",
     "output_type": "stream",
     "text": [
      "[########################################] | 100% Completed | 20.2s\n"
     ]
    },
    {
     "name": "stderr",
     "output_type": "stream",
     "text": [
      "[09:56:36 - __main__] Saving to file: /path/to/data/MinION_sequencing_data_20190813/guppy_3.2.2_08_13_2019_run_03_exec_20190814/sw/fastq_runid_7efa32b6b7c4b21dadad2a4c078a9f93bd0cc657_36_3.tsv\n",
      "[09:56:36 - __main__] Starting fastq (149 of 309)\n",
      "\t/path/to/data/MinION_sequencing_data_20190813/guppy_3.2.2_08_13_2019_run_03_exec_20190814/pass/fastq_runid_7efa32b6b7c4b21dadad2a4c078a9f93bd0cc657_37_1.fastq\n"
     ]
    },
    {
     "name": "stdout",
     "output_type": "stream",
     "text": [
      "[########################################] | 100% Completed | 48.3s\n"
     ]
    },
    {
     "name": "stderr",
     "output_type": "stream",
     "text": [
      "[09:57:25 - __main__] Saving to file: /path/to/data/MinION_sequencing_data_20190813/guppy_3.2.2_08_13_2019_run_03_exec_20190814/sw/fastq_runid_7efa32b6b7c4b21dadad2a4c078a9f93bd0cc657_37_1.tsv\n",
      "[09:57:25 - __main__] Starting fastq (150 of 309)\n",
      "\t/path/to/data/MinION_sequencing_data_20190813/guppy_3.2.2_08_13_2019_run_03_exec_20190814/pass/fastq_runid_7efa32b6b7c4b21dadad2a4c078a9f93bd0cc657_37_2.fastq\n"
     ]
    },
    {
     "name": "stdout",
     "output_type": "stream",
     "text": [
      "[########################################] | 100% Completed | 28.1s\n"
     ]
    },
    {
     "name": "stderr",
     "output_type": "stream",
     "text": [
      "[09:57:53 - __main__] Saving to file: /path/to/data/MinION_sequencing_data_20190813/guppy_3.2.2_08_13_2019_run_03_exec_20190814/sw/fastq_runid_7efa32b6b7c4b21dadad2a4c078a9f93bd0cc657_37_2.tsv\n",
      "[09:57:53 - __main__] Starting fastq (151 of 309)\n",
      "\t/path/to/data/MinION_sequencing_data_20190813/guppy_3.2.2_08_13_2019_run_03_exec_20190814/pass/fastq_runid_7efa32b6b7c4b21dadad2a4c078a9f93bd0cc657_37_3.fastq\n"
     ]
    },
    {
     "name": "stdout",
     "output_type": "stream",
     "text": [
      "[########################################] | 100% Completed | 27.3s\n"
     ]
    },
    {
     "name": "stderr",
     "output_type": "stream",
     "text": [
      "[09:58:21 - __main__] Saving to file: /path/to/data/MinION_sequencing_data_20190813/guppy_3.2.2_08_13_2019_run_03_exec_20190814/sw/fastq_runid_7efa32b6b7c4b21dadad2a4c078a9f93bd0cc657_37_3.tsv\n",
      "[09:58:21 - __main__] Starting fastq (152 of 309)\n",
      "\t/path/to/data/MinION_sequencing_data_20190813/guppy_3.2.2_08_13_2019_run_03_exec_20190814/pass/fastq_runid_7efa32b6b7c4b21dadad2a4c078a9f93bd0cc657_38_0.fastq\n"
     ]
    },
    {
     "name": "stdout",
     "output_type": "stream",
     "text": [
      "[########################################] | 100% Completed | 57.0s\n"
     ]
    },
    {
     "name": "stderr",
     "output_type": "stream",
     "text": [
      "[09:59:18 - __main__] Saving to file: /path/to/data/MinION_sequencing_data_20190813/guppy_3.2.2_08_13_2019_run_03_exec_20190814/sw/fastq_runid_7efa32b6b7c4b21dadad2a4c078a9f93bd0cc657_38_0.tsv\n",
      "[09:59:19 - __main__] Starting fastq (153 of 309)\n",
      "\t/path/to/data/MinION_sequencing_data_20190813/guppy_3.2.2_08_13_2019_run_03_exec_20190814/pass/fastq_runid_7efa32b6b7c4b21dadad2a4c078a9f93bd0cc657_38_1.fastq\n"
     ]
    },
    {
     "name": "stdout",
     "output_type": "stream",
     "text": [
      "[########################################] | 100% Completed | 14.4s\n"
     ]
    },
    {
     "name": "stderr",
     "output_type": "stream",
     "text": [
      "[09:59:33 - __main__] Saving to file: /path/to/data/MinION_sequencing_data_20190813/guppy_3.2.2_08_13_2019_run_03_exec_20190814/sw/fastq_runid_7efa32b6b7c4b21dadad2a4c078a9f93bd0cc657_38_1.tsv\n",
      "[09:59:33 - __main__] Starting fastq (154 of 309)\n",
      "\t/path/to/data/MinION_sequencing_data_20190813/guppy_3.2.2_08_13_2019_run_03_exec_20190814/pass/fastq_runid_7efa32b6b7c4b21dadad2a4c078a9f93bd0cc657_38_2.fastq\n"
     ]
    },
    {
     "name": "stdout",
     "output_type": "stream",
     "text": [
      "[########################################] | 100% Completed | 30.0s\n"
     ]
    },
    {
     "name": "stderr",
     "output_type": "stream",
     "text": [
      "[10:00:03 - __main__] Saving to file: /path/to/data/MinION_sequencing_data_20190813/guppy_3.2.2_08_13_2019_run_03_exec_20190814/sw/fastq_runid_7efa32b6b7c4b21dadad2a4c078a9f93bd0cc657_38_2.tsv\n",
      "[10:00:04 - __main__] Starting fastq (155 of 309)\n",
      "\t/path/to/data/MinION_sequencing_data_20190813/guppy_3.2.2_08_13_2019_run_03_exec_20190814/pass/fastq_runid_7efa32b6b7c4b21dadad2a4c078a9f93bd0cc657_39_0.fastq\n"
     ]
    },
    {
     "name": "stdout",
     "output_type": "stream",
     "text": [
      "[########################################] | 100% Completed | 57.1s\n"
     ]
    },
    {
     "name": "stderr",
     "output_type": "stream",
     "text": [
      "[10:01:01 - __main__] Saving to file: /path/to/data/MinION_sequencing_data_20190813/guppy_3.2.2_08_13_2019_run_03_exec_20190814/sw/fastq_runid_7efa32b6b7c4b21dadad2a4c078a9f93bd0cc657_39_0.tsv\n",
      "[10:01:01 - __main__] Starting fastq (156 of 309)\n",
      "\t/path/to/data/MinION_sequencing_data_20190813/guppy_3.2.2_08_13_2019_run_03_exec_20190814/pass/fastq_runid_7efa32b6b7c4b21dadad2a4c078a9f93bd0cc657_39_1.fastq\n"
     ]
    },
    {
     "name": "stdout",
     "output_type": "stream",
     "text": [
      "[########################################] | 100% Completed |  1min 17.0s\n"
     ]
    },
    {
     "name": "stderr",
     "output_type": "stream",
     "text": [
      "[10:02:18 - __main__] Saving to file: /path/to/data/MinION_sequencing_data_20190813/guppy_3.2.2_08_13_2019_run_03_exec_20190814/sw/fastq_runid_7efa32b6b7c4b21dadad2a4c078a9f93bd0cc657_39_1.tsv\n",
      "[10:02:18 - __main__] Starting fastq (157 of 309)\n",
      "\t/path/to/data/MinION_sequencing_data_20190813/guppy_3.2.2_08_13_2019_run_03_exec_20190814/pass/fastq_runid_7efa32b6b7c4b21dadad2a4c078a9f93bd0cc657_39_2.fastq\n"
     ]
    },
    {
     "name": "stdout",
     "output_type": "stream",
     "text": [
      "[########################################] | 100% Completed |  1.0s\n"
     ]
    },
    {
     "name": "stderr",
     "output_type": "stream",
     "text": [
      "[10:02:20 - __main__] Saving to file: /path/to/data/MinION_sequencing_data_20190813/guppy_3.2.2_08_13_2019_run_03_exec_20190814/sw/fastq_runid_7efa32b6b7c4b21dadad2a4c078a9f93bd0cc657_39_2.tsv\n",
      "[10:02:20 - __main__] Starting fastq (158 of 309)\n",
      "\t/path/to/data/MinION_sequencing_data_20190813/guppy_3.2.2_08_13_2019_run_03_exec_20190814/pass/fastq_runid_7efa32b6b7c4b21dadad2a4c078a9f93bd0cc657_40_0.fastq\n"
     ]
    },
    {
     "name": "stdout",
     "output_type": "stream",
     "text": [
      "[########################################] | 100% Completed | 39.6s\n"
     ]
    },
    {
     "name": "stderr",
     "output_type": "stream",
     "text": [
      "[10:03:00 - __main__] Saving to file: /path/to/data/MinION_sequencing_data_20190813/guppy_3.2.2_08_13_2019_run_03_exec_20190814/sw/fastq_runid_7efa32b6b7c4b21dadad2a4c078a9f93bd0cc657_40_0.tsv\n",
      "[10:03:00 - __main__] Starting fastq (159 of 309)\n",
      "\t/path/to/data/MinION_sequencing_data_20190813/guppy_3.2.2_08_13_2019_run_03_exec_20190814/pass/fastq_runid_7efa32b6b7c4b21dadad2a4c078a9f93bd0cc657_38_3.fastq\n"
     ]
    },
    {
     "name": "stdout",
     "output_type": "stream",
     "text": [
      "[########################################] | 100% Completed | 28.4s\n"
     ]
    },
    {
     "name": "stderr",
     "output_type": "stream",
     "text": [
      "[10:03:28 - __main__] Saving to file: /path/to/data/MinION_sequencing_data_20190813/guppy_3.2.2_08_13_2019_run_03_exec_20190814/sw/fastq_runid_7efa32b6b7c4b21dadad2a4c078a9f93bd0cc657_38_3.tsv\n",
      "[10:03:28 - __main__] Starting fastq (160 of 309)\n",
      "\t/path/to/data/MinION_sequencing_data_20190813/guppy_3.2.2_08_13_2019_run_03_exec_20190814/pass/fastq_runid_7efa32b6b7c4b21dadad2a4c078a9f93bd0cc657_40_1.fastq\n"
     ]
    },
    {
     "name": "stdout",
     "output_type": "stream",
     "text": [
      "[########################################] | 100% Completed | 23.2s\n"
     ]
    },
    {
     "name": "stderr",
     "output_type": "stream",
     "text": [
      "[10:03:52 - __main__] Saving to file: /path/to/data/MinION_sequencing_data_20190813/guppy_3.2.2_08_13_2019_run_03_exec_20190814/sw/fastq_runid_7efa32b6b7c4b21dadad2a4c078a9f93bd0cc657_40_1.tsv\n",
      "[10:03:52 - __main__] Starting fastq (161 of 309)\n",
      "\t/path/to/data/MinION_sequencing_data_20190813/guppy_3.2.2_08_13_2019_run_03_exec_20190814/pass/fastq_runid_7efa32b6b7c4b21dadad2a4c078a9f93bd0cc657_39_3.fastq\n"
     ]
    },
    {
     "name": "stdout",
     "output_type": "stream",
     "text": [
      "[########################################] | 100% Completed |  0.9s\n"
     ]
    },
    {
     "name": "stderr",
     "output_type": "stream",
     "text": [
      "[10:03:53 - __main__] Saving to file: /path/to/data/MinION_sequencing_data_20190813/guppy_3.2.2_08_13_2019_run_03_exec_20190814/sw/fastq_runid_7efa32b6b7c4b21dadad2a4c078a9f93bd0cc657_39_3.tsv\n",
      "[10:03:53 - __main__] Starting fastq (162 of 309)\n",
      "\t/path/to/data/MinION_sequencing_data_20190813/guppy_3.2.2_08_13_2019_run_03_exec_20190814/pass/fastq_runid_7efa32b6b7c4b21dadad2a4c078a9f93bd0cc657_40_2.fastq\n"
     ]
    },
    {
     "name": "stdout",
     "output_type": "stream",
     "text": [
      "[########################################] | 100% Completed | 37.5s\n"
     ]
    },
    {
     "name": "stderr",
     "output_type": "stream",
     "text": [
      "[10:04:31 - __main__] Saving to file: /path/to/data/MinION_sequencing_data_20190813/guppy_3.2.2_08_13_2019_run_03_exec_20190814/sw/fastq_runid_7efa32b6b7c4b21dadad2a4c078a9f93bd0cc657_40_2.tsv\n",
      "[10:04:31 - __main__] Starting fastq (163 of 309)\n",
      "\t/path/to/data/MinION_sequencing_data_20190813/guppy_3.2.2_08_13_2019_run_03_exec_20190814/pass/fastq_runid_7efa32b6b7c4b21dadad2a4c078a9f93bd0cc657_41_0.fastq\n"
     ]
    },
    {
     "name": "stdout",
     "output_type": "stream",
     "text": [
      "[########################################] | 100% Completed | 26.6s\n"
     ]
    },
    {
     "name": "stderr",
     "output_type": "stream",
     "text": [
      "[10:04:58 - __main__] Saving to file: /path/to/data/MinION_sequencing_data_20190813/guppy_3.2.2_08_13_2019_run_03_exec_20190814/sw/fastq_runid_7efa32b6b7c4b21dadad2a4c078a9f93bd0cc657_41_0.tsv\n",
      "[10:04:58 - __main__] Starting fastq (164 of 309)\n",
      "\t/path/to/data/MinION_sequencing_data_20190813/guppy_3.2.2_08_13_2019_run_03_exec_20190814/pass/fastq_runid_7efa32b6b7c4b21dadad2a4c078a9f93bd0cc657_41_1.fastq\n"
     ]
    },
    {
     "name": "stdout",
     "output_type": "stream",
     "text": [
      "[########################################] | 100% Completed | 58.2s\n"
     ]
    },
    {
     "name": "stderr",
     "output_type": "stream",
     "text": [
      "[10:05:56 - __main__] Saving to file: /path/to/data/MinION_sequencing_data_20190813/guppy_3.2.2_08_13_2019_run_03_exec_20190814/sw/fastq_runid_7efa32b6b7c4b21dadad2a4c078a9f93bd0cc657_41_1.tsv\n",
      "[10:05:57 - __main__] Starting fastq (165 of 309)\n",
      "\t/path/to/data/MinION_sequencing_data_20190813/guppy_3.2.2_08_13_2019_run_03_exec_20190814/pass/fastq_runid_7efa32b6b7c4b21dadad2a4c078a9f93bd0cc657_42_0.fastq\n"
     ]
    },
    {
     "name": "stdout",
     "output_type": "stream",
     "text": [
      "[########################################] | 100% Completed |  1min  0.8s\n"
     ]
    },
    {
     "name": "stderr",
     "output_type": "stream",
     "text": [
      "[10:06:58 - __main__] Saving to file: /path/to/data/MinION_sequencing_data_20190813/guppy_3.2.2_08_13_2019_run_03_exec_20190814/sw/fastq_runid_7efa32b6b7c4b21dadad2a4c078a9f93bd0cc657_42_0.tsv\n",
      "[10:06:58 - __main__] Starting fastq (166 of 309)\n",
      "\t/path/to/data/MinION_sequencing_data_20190813/guppy_3.2.2_08_13_2019_run_03_exec_20190814/pass/fastq_runid_7efa32b6b7c4b21dadad2a4c078a9f93bd0cc657_41_2.fastq\n"
     ]
    },
    {
     "name": "stdout",
     "output_type": "stream",
     "text": [
      "[########################################] | 100% Completed | 43.0s\n"
     ]
    },
    {
     "name": "stderr",
     "output_type": "stream",
     "text": [
      "[10:07:41 - __main__] Saving to file: /path/to/data/MinION_sequencing_data_20190813/guppy_3.2.2_08_13_2019_run_03_exec_20190814/sw/fastq_runid_7efa32b6b7c4b21dadad2a4c078a9f93bd0cc657_41_2.tsv\n",
      "[10:07:41 - __main__] Starting fastq (167 of 309)\n",
      "\t/path/to/data/MinION_sequencing_data_20190813/guppy_3.2.2_08_13_2019_run_03_exec_20190814/pass/fastq_runid_7efa32b6b7c4b21dadad2a4c078a9f93bd0cc657_42_1.fastq\n"
     ]
    },
    {
     "name": "stdout",
     "output_type": "stream",
     "text": [
      "[########################################] | 100% Completed | 42.3s\n"
     ]
    },
    {
     "name": "stderr",
     "output_type": "stream",
     "text": [
      "[10:08:24 - __main__] Saving to file: /path/to/data/MinION_sequencing_data_20190813/guppy_3.2.2_08_13_2019_run_03_exec_20190814/sw/fastq_runid_7efa32b6b7c4b21dadad2a4c078a9f93bd0cc657_42_1.tsv\n",
      "[10:08:24 - __main__] Starting fastq (168 of 309)\n",
      "\t/path/to/data/MinION_sequencing_data_20190813/guppy_3.2.2_08_13_2019_run_03_exec_20190814/pass/fastq_runid_7efa32b6b7c4b21dadad2a4c078a9f93bd0cc657_40_3.fastq\n"
     ]
    },
    {
     "name": "stdout",
     "output_type": "stream",
     "text": [
      "[########################################] | 100% Completed | 30.3s\n"
     ]
    },
    {
     "name": "stderr",
     "output_type": "stream",
     "text": [
      "[10:08:55 - __main__] Saving to file: /path/to/data/MinION_sequencing_data_20190813/guppy_3.2.2_08_13_2019_run_03_exec_20190814/sw/fastq_runid_7efa32b6b7c4b21dadad2a4c078a9f93bd0cc657_40_3.tsv\n",
      "[10:08:55 - __main__] Starting fastq (169 of 309)\n",
      "\t/path/to/data/MinION_sequencing_data_20190813/guppy_3.2.2_08_13_2019_run_03_exec_20190814/pass/fastq_runid_7efa32b6b7c4b21dadad2a4c078a9f93bd0cc657_41_3.fastq\n"
     ]
    },
    {
     "name": "stdout",
     "output_type": "stream",
     "text": [
      "[########################################] | 100% Completed |  7.3s\n"
     ]
    },
    {
     "name": "stderr",
     "output_type": "stream",
     "text": [
      "[10:09:02 - __main__] Saving to file: /path/to/data/MinION_sequencing_data_20190813/guppy_3.2.2_08_13_2019_run_03_exec_20190814/sw/fastq_runid_7efa32b6b7c4b21dadad2a4c078a9f93bd0cc657_41_3.tsv\n",
      "[10:09:02 - __main__] Starting fastq (170 of 309)\n",
      "\t/path/to/data/MinION_sequencing_data_20190813/guppy_3.2.2_08_13_2019_run_03_exec_20190814/pass/fastq_runid_7efa32b6b7c4b21dadad2a4c078a9f93bd0cc657_43_0.fastq\n"
     ]
    },
    {
     "name": "stdout",
     "output_type": "stream",
     "text": [
      "[########################################] | 100% Completed |  1min 13.9s\n"
     ]
    },
    {
     "name": "stderr",
     "output_type": "stream",
     "text": [
      "[10:10:17 - __main__] Saving to file: /path/to/data/MinION_sequencing_data_20190813/guppy_3.2.2_08_13_2019_run_03_exec_20190814/sw/fastq_runid_7efa32b6b7c4b21dadad2a4c078a9f93bd0cc657_43_0.tsv\n",
      "[10:10:17 - __main__] Starting fastq (171 of 309)\n",
      "\t/path/to/data/MinION_sequencing_data_20190813/guppy_3.2.2_08_13_2019_run_03_exec_20190814/pass/fastq_runid_7efa32b6b7c4b21dadad2a4c078a9f93bd0cc657_42_2.fastq\n"
     ]
    },
    {
     "name": "stdout",
     "output_type": "stream",
     "text": [
      "[########################################] | 100% Completed |  1.7s\n"
     ]
    },
    {
     "name": "stderr",
     "output_type": "stream",
     "text": [
      "[10:10:19 - __main__] Saving to file: /path/to/data/MinION_sequencing_data_20190813/guppy_3.2.2_08_13_2019_run_03_exec_20190814/sw/fastq_runid_7efa32b6b7c4b21dadad2a4c078a9f93bd0cc657_42_2.tsv\n",
      "[10:10:19 - __main__] Starting fastq (172 of 309)\n",
      "\t/path/to/data/MinION_sequencing_data_20190813/guppy_3.2.2_08_13_2019_run_03_exec_20190814/pass/fastq_runid_7efa32b6b7c4b21dadad2a4c078a9f93bd0cc657_43_1.fastq\n"
     ]
    },
    {
     "name": "stdout",
     "output_type": "stream",
     "text": [
      "[########################################] | 100% Completed | 37.3s\n"
     ]
    },
    {
     "name": "stderr",
     "output_type": "stream",
     "text": [
      "[10:10:56 - __main__] Saving to file: /path/to/data/MinION_sequencing_data_20190813/guppy_3.2.2_08_13_2019_run_03_exec_20190814/sw/fastq_runid_7efa32b6b7c4b21dadad2a4c078a9f93bd0cc657_43_1.tsv\n",
      "[10:10:56 - __main__] Starting fastq (173 of 309)\n",
      "\t/path/to/data/MinION_sequencing_data_20190813/guppy_3.2.2_08_13_2019_run_03_exec_20190814/pass/fastq_runid_7efa32b6b7c4b21dadad2a4c078a9f93bd0cc657_42_3.fastq\n"
     ]
    },
    {
     "name": "stdout",
     "output_type": "stream",
     "text": [
      "[########################################] | 100% Completed | 30.0s\n"
     ]
    },
    {
     "name": "stderr",
     "output_type": "stream",
     "text": [
      "[10:11:26 - __main__] Saving to file: /path/to/data/MinION_sequencing_data_20190813/guppy_3.2.2_08_13_2019_run_03_exec_20190814/sw/fastq_runid_7efa32b6b7c4b21dadad2a4c078a9f93bd0cc657_42_3.tsv\n",
      "[10:11:27 - __main__] Starting fastq (174 of 309)\n",
      "\t/path/to/data/MinION_sequencing_data_20190813/guppy_3.2.2_08_13_2019_run_03_exec_20190814/pass/fastq_runid_7efa32b6b7c4b21dadad2a4c078a9f93bd0cc657_43_2.fastq\n"
     ]
    },
    {
     "name": "stdout",
     "output_type": "stream",
     "text": [
      "[########################################] | 100% Completed |  6.4s\n"
     ]
    },
    {
     "name": "stderr",
     "output_type": "stream",
     "text": [
      "[10:11:33 - __main__] Saving to file: /path/to/data/MinION_sequencing_data_20190813/guppy_3.2.2_08_13_2019_run_03_exec_20190814/sw/fastq_runid_7efa32b6b7c4b21dadad2a4c078a9f93bd0cc657_43_2.tsv\n",
      "[10:11:33 - __main__] Starting fastq (175 of 309)\n",
      "\t/path/to/data/MinION_sequencing_data_20190813/guppy_3.2.2_08_13_2019_run_03_exec_20190814/pass/fastq_runid_7efa32b6b7c4b21dadad2a4c078a9f93bd0cc657_43_3.fastq\n"
     ]
    },
    {
     "name": "stdout",
     "output_type": "stream",
     "text": [
      "[########################################] | 100% Completed | 11.9s\n"
     ]
    },
    {
     "name": "stderr",
     "output_type": "stream",
     "text": [
      "[10:11:45 - __main__] Saving to file: /path/to/data/MinION_sequencing_data_20190813/guppy_3.2.2_08_13_2019_run_03_exec_20190814/sw/fastq_runid_7efa32b6b7c4b21dadad2a4c078a9f93bd0cc657_43_3.tsv\n",
      "[10:11:45 - __main__] Starting fastq (176 of 309)\n",
      "\t/path/to/data/MinION_sequencing_data_20190813/guppy_3.2.2_08_13_2019_run_03_exec_20190814/pass/fastq_runid_7efa32b6b7c4b21dadad2a4c078a9f93bd0cc657_44_0.fastq\n"
     ]
    },
    {
     "name": "stdout",
     "output_type": "stream",
     "text": [
      "[########################################] | 100% Completed | 11.9s\n"
     ]
    },
    {
     "name": "stderr",
     "output_type": "stream",
     "text": [
      "[10:11:58 - __main__] Saving to file: /path/to/data/MinION_sequencing_data_20190813/guppy_3.2.2_08_13_2019_run_03_exec_20190814/sw/fastq_runid_7efa32b6b7c4b21dadad2a4c078a9f93bd0cc657_44_0.tsv\n",
      "[10:11:58 - __main__] Starting fastq (177 of 309)\n",
      "\t/path/to/data/MinION_sequencing_data_20190813/guppy_3.2.2_08_13_2019_run_03_exec_20190814/pass/fastq_runid_7efa32b6b7c4b21dadad2a4c078a9f93bd0cc657_44_1.fastq\n"
     ]
    },
    {
     "name": "stdout",
     "output_type": "stream",
     "text": [
      "[########################################] | 100% Completed | 43.2s\n"
     ]
    },
    {
     "name": "stderr",
     "output_type": "stream",
     "text": [
      "[10:12:41 - __main__] Saving to file: /path/to/data/MinION_sequencing_data_20190813/guppy_3.2.2_08_13_2019_run_03_exec_20190814/sw/fastq_runid_7efa32b6b7c4b21dadad2a4c078a9f93bd0cc657_44_1.tsv\n",
      "[10:12:41 - __main__] Starting fastq (178 of 309)\n",
      "\t/path/to/data/MinION_sequencing_data_20190813/guppy_3.2.2_08_13_2019_run_03_exec_20190814/pass/fastq_runid_7efa32b6b7c4b21dadad2a4c078a9f93bd0cc657_44_2.fastq\n"
     ]
    },
    {
     "name": "stdout",
     "output_type": "stream",
     "text": [
      "[########################################] | 100% Completed |  1min 18.4s\n"
     ]
    },
    {
     "name": "stderr",
     "output_type": "stream",
     "text": [
      "[10:14:00 - __main__] Saving to file: /path/to/data/MinION_sequencing_data_20190813/guppy_3.2.2_08_13_2019_run_03_exec_20190814/sw/fastq_runid_7efa32b6b7c4b21dadad2a4c078a9f93bd0cc657_44_2.tsv\n",
      "[10:14:00 - __main__] Starting fastq (179 of 309)\n",
      "\t/path/to/data/MinION_sequencing_data_20190813/guppy_3.2.2_08_13_2019_run_03_exec_20190814/pass/fastq_runid_7efa32b6b7c4b21dadad2a4c078a9f93bd0cc657_45_0.fastq\n"
     ]
    },
    {
     "name": "stdout",
     "output_type": "stream",
     "text": [
      "[########################################] | 100% Completed |  1min  1.9s\n"
     ]
    },
    {
     "name": "stderr",
     "output_type": "stream",
     "text": [
      "[10:15:02 - __main__] Saving to file: /path/to/data/MinION_sequencing_data_20190813/guppy_3.2.2_08_13_2019_run_03_exec_20190814/sw/fastq_runid_7efa32b6b7c4b21dadad2a4c078a9f93bd0cc657_45_0.tsv\n",
      "[10:15:02 - __main__] Starting fastq (180 of 309)\n",
      "\t/path/to/data/MinION_sequencing_data_20190813/guppy_3.2.2_08_13_2019_run_03_exec_20190814/pass/fastq_runid_7efa32b6b7c4b21dadad2a4c078a9f93bd0cc657_45_1.fastq\n"
     ]
    },
    {
     "name": "stdout",
     "output_type": "stream",
     "text": [
      "[########################################] | 100% Completed | 48.2s\n"
     ]
    },
    {
     "name": "stderr",
     "output_type": "stream",
     "text": [
      "[10:15:51 - __main__] Saving to file: /path/to/data/MinION_sequencing_data_20190813/guppy_3.2.2_08_13_2019_run_03_exec_20190814/sw/fastq_runid_7efa32b6b7c4b21dadad2a4c078a9f93bd0cc657_45_1.tsv\n",
      "[10:15:51 - __main__] Starting fastq (181 of 309)\n",
      "\t/path/to/data/MinION_sequencing_data_20190813/guppy_3.2.2_08_13_2019_run_03_exec_20190814/pass/fastq_runid_7efa32b6b7c4b21dadad2a4c078a9f93bd0cc657_44_3.fastq\n"
     ]
    },
    {
     "name": "stdout",
     "output_type": "stream",
     "text": [
      "[########################################] | 100% Completed |  0.9s\n"
     ]
    },
    {
     "name": "stderr",
     "output_type": "stream",
     "text": [
      "[10:15:52 - __main__] Saving to file: /path/to/data/MinION_sequencing_data_20190813/guppy_3.2.2_08_13_2019_run_03_exec_20190814/sw/fastq_runid_7efa32b6b7c4b21dadad2a4c078a9f93bd0cc657_44_3.tsv\n",
      "[10:15:52 - __main__] Starting fastq (182 of 309)\n",
      "\t/path/to/data/MinION_sequencing_data_20190813/guppy_3.2.2_08_13_2019_run_03_exec_20190814/pass/fastq_runid_7efa32b6b7c4b21dadad2a4c078a9f93bd0cc657_45_2.fastq\n"
     ]
    },
    {
     "name": "stdout",
     "output_type": "stream",
     "text": [
      "[########################################] | 100% Completed |  4.9s\n"
     ]
    },
    {
     "name": "stderr",
     "output_type": "stream",
     "text": [
      "[10:15:57 - __main__] Saving to file: /path/to/data/MinION_sequencing_data_20190813/guppy_3.2.2_08_13_2019_run_03_exec_20190814/sw/fastq_runid_7efa32b6b7c4b21dadad2a4c078a9f93bd0cc657_45_2.tsv\n",
      "[10:15:57 - __main__] Starting fastq (183 of 309)\n",
      "\t/path/to/data/MinION_sequencing_data_20190813/guppy_3.2.2_08_13_2019_run_03_exec_20190814/pass/fastq_runid_7efa32b6b7c4b21dadad2a4c078a9f93bd0cc657_45_3.fastq\n"
     ]
    },
    {
     "name": "stdout",
     "output_type": "stream",
     "text": [
      "[########################################] | 100% Completed | 17.3s\n"
     ]
    },
    {
     "name": "stderr",
     "output_type": "stream",
     "text": [
      "[10:16:15 - __main__] Saving to file: /path/to/data/MinION_sequencing_data_20190813/guppy_3.2.2_08_13_2019_run_03_exec_20190814/sw/fastq_runid_7efa32b6b7c4b21dadad2a4c078a9f93bd0cc657_45_3.tsv\n",
      "[10:16:15 - __main__] Starting fastq (184 of 309)\n",
      "\t/path/to/data/MinION_sequencing_data_20190813/guppy_3.2.2_08_13_2019_run_03_exec_20190814/pass/fastq_runid_7efa32b6b7c4b21dadad2a4c078a9f93bd0cc657_46_0.fastq\n"
     ]
    },
    {
     "name": "stdout",
     "output_type": "stream",
     "text": [
      "[########################################] | 100% Completed | 44.3s\n"
     ]
    },
    {
     "name": "stderr",
     "output_type": "stream",
     "text": [
      "[10:16:59 - __main__] Saving to file: /path/to/data/MinION_sequencing_data_20190813/guppy_3.2.2_08_13_2019_run_03_exec_20190814/sw/fastq_runid_7efa32b6b7c4b21dadad2a4c078a9f93bd0cc657_46_0.tsv\n",
      "[10:16:59 - __main__] Starting fastq (185 of 309)\n",
      "\t/path/to/data/MinION_sequencing_data_20190813/guppy_3.2.2_08_13_2019_run_03_exec_20190814/pass/fastq_runid_7efa32b6b7c4b21dadad2a4c078a9f93bd0cc657_46_1.fastq\n"
     ]
    },
    {
     "name": "stdout",
     "output_type": "stream",
     "text": [
      "[########################################] | 100% Completed | 19.3s\n"
     ]
    },
    {
     "name": "stderr",
     "output_type": "stream",
     "text": [
      "[10:17:19 - __main__] Saving to file: /path/to/data/MinION_sequencing_data_20190813/guppy_3.2.2_08_13_2019_run_03_exec_20190814/sw/fastq_runid_7efa32b6b7c4b21dadad2a4c078a9f93bd0cc657_46_1.tsv\n",
      "[10:17:19 - __main__] Starting fastq (186 of 309)\n",
      "\t/path/to/data/MinION_sequencing_data_20190813/guppy_3.2.2_08_13_2019_run_03_exec_20190814/pass/fastq_runid_7efa32b6b7c4b21dadad2a4c078a9f93bd0cc657_46_2.fastq\n"
     ]
    },
    {
     "name": "stdout",
     "output_type": "stream",
     "text": [
      "[########################################] | 100% Completed | 23.1s\n"
     ]
    },
    {
     "name": "stderr",
     "output_type": "stream",
     "text": [
      "[10:17:42 - __main__] Saving to file: /path/to/data/MinION_sequencing_data_20190813/guppy_3.2.2_08_13_2019_run_03_exec_20190814/sw/fastq_runid_7efa32b6b7c4b21dadad2a4c078a9f93bd0cc657_46_2.tsv\n",
      "[10:17:42 - __main__] Starting fastq (187 of 309)\n",
      "\t/path/to/data/MinION_sequencing_data_20190813/guppy_3.2.2_08_13_2019_run_03_exec_20190814/pass/fastq_runid_7efa32b6b7c4b21dadad2a4c078a9f93bd0cc657_47_0.fastq\n"
     ]
    },
    {
     "name": "stdout",
     "output_type": "stream",
     "text": [
      "[########################################] | 100% Completed | 41.3s\n"
     ]
    },
    {
     "name": "stderr",
     "output_type": "stream",
     "text": [
      "[10:18:24 - __main__] Saving to file: /path/to/data/MinION_sequencing_data_20190813/guppy_3.2.2_08_13_2019_run_03_exec_20190814/sw/fastq_runid_7efa32b6b7c4b21dadad2a4c078a9f93bd0cc657_47_0.tsv\n",
      "[10:18:24 - __main__] Starting fastq (188 of 309)\n",
      "\t/path/to/data/MinION_sequencing_data_20190813/guppy_3.2.2_08_13_2019_run_03_exec_20190814/pass/fastq_runid_7efa32b6b7c4b21dadad2a4c078a9f93bd0cc657_47_1.fastq\n"
     ]
    },
    {
     "name": "stdout",
     "output_type": "stream",
     "text": [
      "[########################################] | 100% Completed | 47.3s\n"
     ]
    },
    {
     "name": "stderr",
     "output_type": "stream",
     "text": [
      "[10:19:12 - __main__] Saving to file: /path/to/data/MinION_sequencing_data_20190813/guppy_3.2.2_08_13_2019_run_03_exec_20190814/sw/fastq_runid_7efa32b6b7c4b21dadad2a4c078a9f93bd0cc657_47_1.tsv\n",
      "[10:19:12 - __main__] Starting fastq (189 of 309)\n",
      "\t/path/to/data/MinION_sequencing_data_20190813/guppy_3.2.2_08_13_2019_run_03_exec_20190814/pass/fastq_runid_7efa32b6b7c4b21dadad2a4c078a9f93bd0cc657_47_2.fastq\n"
     ]
    },
    {
     "name": "stdout",
     "output_type": "stream",
     "text": [
      "[########################################] | 100% Completed | 44.1s\n"
     ]
    },
    {
     "name": "stderr",
     "output_type": "stream",
     "text": [
      "[10:19:56 - __main__] Saving to file: /path/to/data/MinION_sequencing_data_20190813/guppy_3.2.2_08_13_2019_run_03_exec_20190814/sw/fastq_runid_7efa32b6b7c4b21dadad2a4c078a9f93bd0cc657_47_2.tsv\n",
      "[10:19:56 - __main__] Starting fastq (190 of 309)\n",
      "\t/path/to/data/MinION_sequencing_data_20190813/guppy_3.2.2_08_13_2019_run_03_exec_20190814/pass/fastq_runid_7efa32b6b7c4b21dadad2a4c078a9f93bd0cc657_46_3.fastq\n"
     ]
    },
    {
     "name": "stdout",
     "output_type": "stream",
     "text": [
      "[########################################] | 100% Completed | 46.6s\n"
     ]
    },
    {
     "name": "stderr",
     "output_type": "stream",
     "text": [
      "[10:20:43 - __main__] Saving to file: /path/to/data/MinION_sequencing_data_20190813/guppy_3.2.2_08_13_2019_run_03_exec_20190814/sw/fastq_runid_7efa32b6b7c4b21dadad2a4c078a9f93bd0cc657_46_3.tsv\n",
      "[10:20:43 - __main__] Starting fastq (191 of 309)\n",
      "\t/path/to/data/MinION_sequencing_data_20190813/guppy_3.2.2_08_13_2019_run_03_exec_20190814/pass/fastq_runid_7efa32b6b7c4b21dadad2a4c078a9f93bd0cc657_48_0.fastq\n"
     ]
    },
    {
     "name": "stdout",
     "output_type": "stream",
     "text": [
      "[########################################] | 100% Completed |  1min 17.6s\n"
     ]
    },
    {
     "name": "stderr",
     "output_type": "stream",
     "text": [
      "[10:22:01 - __main__] Saving to file: /path/to/data/MinION_sequencing_data_20190813/guppy_3.2.2_08_13_2019_run_03_exec_20190814/sw/fastq_runid_7efa32b6b7c4b21dadad2a4c078a9f93bd0cc657_48_0.tsv\n",
      "[10:22:01 - __main__] Starting fastq (192 of 309)\n",
      "\t/path/to/data/MinION_sequencing_data_20190813/guppy_3.2.2_08_13_2019_run_03_exec_20190814/pass/fastq_runid_7efa32b6b7c4b21dadad2a4c078a9f93bd0cc657_48_1.fastq\n"
     ]
    },
    {
     "name": "stdout",
     "output_type": "stream",
     "text": [
      "[########################################] | 100% Completed | 42.5s\n"
     ]
    },
    {
     "name": "stderr",
     "output_type": "stream",
     "text": [
      "[10:22:44 - __main__] Saving to file: /path/to/data/MinION_sequencing_data_20190813/guppy_3.2.2_08_13_2019_run_03_exec_20190814/sw/fastq_runid_7efa32b6b7c4b21dadad2a4c078a9f93bd0cc657_48_1.tsv\n",
      "[10:22:44 - __main__] Starting fastq (193 of 309)\n",
      "\t/path/to/data/MinION_sequencing_data_20190813/guppy_3.2.2_08_13_2019_run_03_exec_20190814/pass/fastq_runid_7efa32b6b7c4b21dadad2a4c078a9f93bd0cc657_48_2.fastq\n"
     ]
    },
    {
     "name": "stdout",
     "output_type": "stream",
     "text": [
      "[########################################] | 100% Completed | 10.1s\n"
     ]
    },
    {
     "name": "stderr",
     "output_type": "stream",
     "text": [
      "[10:22:55 - __main__] Saving to file: /path/to/data/MinION_sequencing_data_20190813/guppy_3.2.2_08_13_2019_run_03_exec_20190814/sw/fastq_runid_7efa32b6b7c4b21dadad2a4c078a9f93bd0cc657_48_2.tsv\n",
      "[10:22:55 - __main__] Starting fastq (194 of 309)\n",
      "\t/path/to/data/MinION_sequencing_data_20190813/guppy_3.2.2_08_13_2019_run_03_exec_20190814/pass/fastq_runid_7efa32b6b7c4b21dadad2a4c078a9f93bd0cc657_47_3.fastq\n"
     ]
    },
    {
     "name": "stdout",
     "output_type": "stream",
     "text": [
      "[########################################] | 100% Completed |  1.0s\n"
     ]
    },
    {
     "name": "stderr",
     "output_type": "stream",
     "text": [
      "[10:22:56 - __main__] Saving to file: /path/to/data/MinION_sequencing_data_20190813/guppy_3.2.2_08_13_2019_run_03_exec_20190814/sw/fastq_runid_7efa32b6b7c4b21dadad2a4c078a9f93bd0cc657_47_3.tsv\n",
      "[10:22:56 - __main__] Starting fastq (195 of 309)\n",
      "\t/path/to/data/MinION_sequencing_data_20190813/guppy_3.2.2_08_13_2019_run_03_exec_20190814/pass/fastq_runid_7efa32b6b7c4b21dadad2a4c078a9f93bd0cc657_48_3.fastq\n"
     ]
    },
    {
     "name": "stdout",
     "output_type": "stream",
     "text": [
      "[########################################] | 100% Completed |  1.0s\n"
     ]
    },
    {
     "name": "stderr",
     "output_type": "stream",
     "text": [
      "[10:22:57 - __main__] Saving to file: /path/to/data/MinION_sequencing_data_20190813/guppy_3.2.2_08_13_2019_run_03_exec_20190814/sw/fastq_runid_7efa32b6b7c4b21dadad2a4c078a9f93bd0cc657_48_3.tsv\n",
      "[10:22:57 - __main__] Starting fastq (196 of 309)\n",
      "\t/path/to/data/MinION_sequencing_data_20190813/guppy_3.2.2_08_13_2019_run_03_exec_20190814/pass/fastq_runid_7efa32b6b7c4b21dadad2a4c078a9f93bd0cc657_49_0.fastq\n"
     ]
    },
    {
     "name": "stdout",
     "output_type": "stream",
     "text": [
      "[###############################         ] | 78% Completed | 55.3s"
     ]
    }
   ],
   "source": [
    "run_sw(fastq_dir, sw_dir, search_len=80, cost_fn=cost_fn, molbit_fa=molbit_file, n_workers=40)"
   ]
  },
  {
   "cell_type": "code",
   "execution_count": 17,
   "metadata": {
    "ExecuteTime": {
     "end_time": "2019-08-15T18:25:04.930017Z",
     "start_time": "2019-08-15T18:25:01.356647Z"
    }
   },
   "outputs": [],
   "source": [
    "sw_list = []\n",
    "for fname in os.listdir(sw_dir):\n",
    "    sw_tsv = os.path.join(sw_dir, fname)\n",
    "    sw = pd.read_csv(sw_tsv, sep=\"\\t\", index_col=0)\n",
    "    sw_list.append(sw)\n",
    "sw = pd.concat(sw_list)\n",
    "del sw_list"
   ]
  },
  {
   "cell_type": "code",
   "execution_count": 19,
   "metadata": {
    "ExecuteTime": {
     "end_time": "2019-08-15T18:25:06.435852Z",
     "start_time": "2019-08-15T18:25:06.268069Z"
    }
   },
   "outputs": [],
   "source": [
    "sw_arr = np.array(sw)"
   ]
  },
  {
   "cell_type": "code",
   "execution_count": 21,
   "metadata": {
    "ExecuteTime": {
     "end_time": "2019-08-15T18:25:07.012591Z",
     "start_time": "2019-08-15T18:25:06.456883Z"
    }
   },
   "outputs": [],
   "source": [
    "max_sw = np.max(sw_arr, axis=1)\n",
    "sw_arr[range(len(sw_arr)), np.argmax(sw_arr, axis=1)] = 0\n",
    "second_best_sw = np.max(sw_arr, axis=1)\n",
    "sw_arr = np.array(sw)"
   ]
  },
  {
   "cell_type": "markdown",
   "metadata": {},
   "source": [
    "## Plot alignment scores for basic overview of performance"
   ]
  },
  {
   "cell_type": "code",
   "execution_count": 45,
   "metadata": {
    "ExecuteTime": {
     "end_time": "2019-08-15T21:23:49.716894Z",
     "start_time": "2019-08-15T21:23:45.863160Z"
    },
    "scrolled": false
   },
   "outputs": [
    {
     "data": {
      "text/plain": [
       "<matplotlib.lines.Line2D at 0x7fc0d293cda0>"
      ]
     },
     "execution_count": 45,
     "metadata": {},
     "output_type": "execute_result"
    },
    {
     "data": {
      "image/png": "[encoded data removed]",
      "text/plain": [
       "<Figure size 432x432 with 1 Axes>"
      ]
     },
     "metadata": {},
     "output_type": "display_data"
    }
   ],
   "source": [
    "fig, ax = plt.subplots(figsize=(6, 6))\n",
    "ax.scatter(max_sw, second_best_sw, alpha=0.01, c=\"k\")\n",
    "ax.set_title(\"\")\n",
    "ax.set_xlabel(\"1st best SW score\")\n",
    "ax.set_ylabel(\"2nd best SW score\")\n",
    "ax.plot([0, 40], [0, 40])\n",
    "ax.axhline(15)\n",
    "ax.axvline(15)"
   ]
  },
  {
   "cell_type": "code",
   "execution_count": 46,
   "metadata": {
    "ExecuteTime": {
     "end_time": "2019-08-15T21:23:50.977924Z",
     "start_time": "2019-08-15T21:23:49.719003Z"
    }
   },
   "outputs": [
    {
     "data": {
      "text/plain": [
       "<matplotlib.axes._subplots.AxesSubplot at 0x7fc0d9720908>"
      ]
     },
     "execution_count": 46,
     "metadata": {},
     "output_type": "execute_result"
    },
    {
     "data": {
      "image/png": "[encoded data removed]",
      "text/plain": [
       "<Figure size 432x288 with 1 Axes>"
      ]
     },
     "metadata": {},
     "output_type": "display_data"
    }
   ],
   "source": [
    "sns.distplot(max_sw)"
   ]
  },
  {
   "cell_type": "markdown",
   "metadata": {
    "ExecuteTime": {
     "end_time": "2019-08-11T00:31:43.917710Z",
     "start_time": "2019-08-11T00:31:43.897293Z"
    }
   },
   "source": [
    "### Merge & save alignment scores for all fq files"
   ]
  },
  {
   "cell_type": "code",
   "execution_count": 47,
   "metadata": {
    "ExecuteTime": {
     "end_time": "2019-08-15T21:23:50.994000Z",
     "start_time": "2019-08-15T21:23:50.979747Z"
    }
   },
   "outputs": [],
   "source": [
    "run_id = re.findall(r\"runid_(.*)_[\\d]+_[\\d]+.tsv\", sw_tsv)[0]"
   ]
  },
  {
   "cell_type": "code",
   "execution_count": 48,
   "metadata": {
    "ExecuteTime": {
     "end_time": "2019-08-15T21:23:51.011309Z",
     "start_time": "2019-08-15T21:23:50.996091Z"
    }
   },
   "outputs": [],
   "source": [
    "merged_sw_file = os.path.join(sw_dir, f\"all_{run_id}.tsv\")"
   ]
  },
  {
   "cell_type": "code",
   "execution_count": 49,
   "metadata": {
    "ExecuteTime": {
     "end_time": "2019-08-15T21:24:10.978810Z",
     "start_time": "2019-08-15T21:23:51.012955Z"
    }
   },
   "outputs": [],
   "source": [
    "sw.to_csv(merged_sw_file, sep=\"\\t\", index=True)"
   ]
  },
  {
   "cell_type": "code",
   "execution_count": 50,
   "metadata": {
    "ExecuteTime": {
     "end_time": "2019-08-15T21:24:11.000392Z",
     "start_time": "2019-08-15T21:24:10.981663Z"
    }
   },
   "outputs": [
    {
     "data": {
      "text/plain": [
       "'/path/to/data/MinION_sequencing_data_20190813/guppy_3.2.2_08_13_2019_run_03_exec_20190814/sw/all_7efa32b6b7c4b21dadad2a4c078a9f93bd0cc657.tsv'"
      ]
     },
     "execution_count": 50,
     "metadata": {},
     "output_type": "execute_result"
    }
   ],
   "source": [
    "merged_sw_file"
   ]
  },
  {
   "cell_type": "markdown",
   "metadata": {},
   "source": [
    "# Evaluate extant molbits vs rest"
   ]
  },
  {
   "cell_type": "markdown",
   "metadata": {},
   "source": [
    "## Specify which molbits were actually present"
   ]
  },
  {
   "cell_type": "code",
   "execution_count": 51,
   "metadata": {
    "ExecuteTime": {
     "end_time": "2019-08-15T21:24:11.017806Z",
     "start_time": "2019-08-15T21:24:11.002369Z"
    }
   },
   "outputs": [],
   "source": [
    "# Create set_N variables based on spreadsheet\n",
    "molbit_sets = {}\n",
    "for ix, row in set_spreadsheet.iterrows():\n",
    "    set_no = re.findall(r\"set ([\\d]+)\", row[\"set\"])[0]\n",
    "    molbits = row[\"molbits_in_set\"]\n",
    "    molbit_sets[set_no] = molbits.split(\", \")"
   ]
  },
  {
   "cell_type": "code",
   "execution_count": 52,
   "metadata": {
    "ExecuteTime": {
     "end_time": "2019-08-15T21:24:11.037198Z",
     "start_time": "2019-08-15T21:24:11.019901Z"
    }
   },
   "outputs": [
    {
     "name": "stdout",
     "output_type": "stream",
     "text": [
      "0\n",
      "['0', '1', '2', '3', '4', '5', '6', '7', '8', '9', '10', '11', '12', '13', '14', '15']\n",
      "1\n",
      "['16', '17', '18', '19', '20', '21', '22', '23', '24', '25', '26', '27', '28', '29', '30', '31']\n",
      "['32', '33', '34', '35', '36', '37', '38', '39', '40', '41', '42', '43', '44', '45', '46', '47', '0', '1', '2', '3', '4', '5', '6', '7', '8', '9', '10', '11', '12', '13', '14', '15', '16', '17', '18', '19', '20', '21', '22', '23', '24', '25', '26', '27', '28', '29', '30', '31']\n"
     ]
    }
   ],
   "source": [
    "molbit_set_in_run = str(run_data.get(\"molbit_set\"))\n",
    "molbit_sets_on_flowcell = run_data.get(\"prev_on_flowcell\")\n",
    "\n",
    "molbits_in_run = molbit_sets[molbit_set_in_run]\n",
    "molbits_on_flowcell = molbits_in_run[:]\n",
    "if molbit_sets_on_flowcell != \"none\":\n",
    "    molbit_sets_on_flowcell = molbit_sets_on_flowcell.split(\", \")\n",
    "    for m in molbit_sets_on_flowcell:\n",
    "        print(m)\n",
    "        print(molbit_sets[m])\n",
    "        molbits_on_flowcell.extend(molbit_sets[m])\n",
    "    print(molbits_on_flowcell)"
   ]
  },
  {
   "cell_type": "markdown",
   "metadata": {},
   "source": [
    "## Extract the best-aligned molbit, across all 96 molbits"
   ]
  },
  {
   "cell_type": "markdown",
   "metadata": {},
   "source": [
    "This cell replaces \"make_sw_call\" in the past. No more \"-1\"s. Just filter by accept_molbit."
   ]
  },
  {
   "cell_type": "code",
   "execution_count": 53,
   "metadata": {
    "ExecuteTime": {
     "end_time": "2019-08-15T21:24:35.608702Z",
     "start_time": "2019-08-15T21:24:11.039957Z"
    }
   },
   "outputs": [
    {
     "name": "stderr",
     "output_type": "stream",
     "text": [
      "/ssd1/home/kdorosch/.local/lib/python3.6/site-packages/ipykernel_launcher.py:4: FutureWarning: currently extract(expand=None) means expand=False (return Index/Series/DataFrame) but in a future version of pandas this will be changed to expand=True (return DataFrame)\n",
      "  after removing the cwd from sys.path.\n"
     ]
    }
   ],
   "source": [
    "sw_scores = sw.filter(regex=\"score_molbit_.*\")\n",
    "best_molbits = sw_scores.apply(np.argmax, axis=1)\n",
    "accept_molbit = sw.lookup(sw.index, best_molbits) >= 15\n",
    "sw[\"best_molbit\"] = best_molbits.str.extract(r\"score_molbit_([\\d]+)\")\n",
    "sw[\"accept_molbit\"] = accept_molbit"
   ]
  },
  {
   "cell_type": "code",
   "execution_count": 71,
   "metadata": {
    "ExecuteTime": {
     "end_time": "2019-08-15T21:26:55.519843Z",
     "start_time": "2019-08-15T21:26:55.500222Z"
    }
   },
   "outputs": [
    {
     "data": {
      "text/plain": [
       "245642"
      ]
     },
     "execution_count": 71,
     "metadata": {},
     "output_type": "execute_result"
    }
   ],
   "source": [
    "len(accept_molbit)"
   ]
  },
  {
   "cell_type": "code",
   "execution_count": 72,
   "metadata": {
    "ExecuteTime": {
     "end_time": "2019-08-15T21:27:11.758901Z",
     "start_time": "2019-08-15T21:27:10.923701Z"
    }
   },
   "outputs": [
    {
     "data": {
      "text/plain": [
       "161628"
      ]
     },
     "execution_count": 72,
     "metadata": {},
     "output_type": "execute_result"
    }
   ],
   "source": [
    "sum(accept_molbit)"
   ]
  },
  {
   "cell_type": "code",
   "execution_count": 54,
   "metadata": {
    "ExecuteTime": {
     "end_time": "2019-08-15T21:24:36.422967Z",
     "start_time": "2019-08-15T21:24:35.611504Z"
    }
   },
   "outputs": [
    {
     "data": {
      "text/plain": [
       "0.6995261396666694"
      ]
     },
     "execution_count": 54,
     "metadata": {},
     "output_type": "execute_result"
    }
   ],
   "source": [
    "sum(accept_molbit) / len(accept_molbit)"
   ]
  },
  {
   "cell_type": "markdown",
   "metadata": {},
   "source": [
    "## Extract the best-aligned molbit, across ONLY the extant molbits"
   ]
  },
  {
   "cell_type": "code",
   "execution_count": 55,
   "metadata": {
    "ExecuteTime": {
     "end_time": "2019-08-15T21:24:36.441363Z",
     "start_time": "2019-08-15T21:24:36.425082Z"
    }
   },
   "outputs": [],
   "source": [
    "extant_sw_cols = [f\"sw_score_molbit_{molbit}\" for molbit in molbits_on_flowcell]"
   ]
  },
  {
   "cell_type": "code",
   "execution_count": 56,
   "metadata": {
    "ExecuteTime": {
     "end_time": "2019-08-15T21:24:36.525899Z",
     "start_time": "2019-08-15T21:24:36.444588Z"
    }
   },
   "outputs": [],
   "source": [
    "extant_sw = sw.loc[:, extant_sw_cols]"
   ]
  },
  {
   "cell_type": "code",
   "execution_count": 57,
   "metadata": {
    "ExecuteTime": {
     "end_time": "2019-08-15T21:25:00.533593Z",
     "start_time": "2019-08-15T21:24:36.528228Z"
    }
   },
   "outputs": [
    {
     "name": "stderr",
     "output_type": "stream",
     "text": [
      "/ssd1/home/kdorosch/.local/lib/python3.6/site-packages/ipykernel_launcher.py:4: FutureWarning: currently extract(expand=None) means expand=False (return Index/Series/DataFrame) but in a future version of pandas this will be changed to expand=True (return DataFrame)\n",
      "  after removing the cwd from sys.path.\n"
     ]
    }
   ],
   "source": [
    "extant_sw_scores = extant_sw.filter(regex=\"score_molbit_.*\")\n",
    "best_molbits = extant_sw_scores.apply(np.argmax, axis=1)\n",
    "accept_molbit = extant_sw.lookup(extant_sw.index, best_molbits) >= 15\n",
    "extant_sw[\"best_molbit\"] = best_molbits.str.extract(r\"score_molbit_([\\d]+)\")\n",
    "extant_sw[\"accept_molbit\"] = accept_molbit"
   ]
  },
  {
   "cell_type": "markdown",
   "metadata": {},
   "source": [
    "## Compare "
   ]
  },
  {
   "cell_type": "code",
   "execution_count": 58,
   "metadata": {
    "ExecuteTime": {
     "end_time": "2019-08-15T21:25:00.800043Z",
     "start_time": "2019-08-15T21:25:00.535909Z"
    }
   },
   "outputs": [],
   "source": [
    "# Only retrieve high-scoring alignments\n",
    "sw_accepted = sw[sw[\"accept_molbit\"]]\n",
    "extant_sw_acc = extant_sw[sw[\"accept_molbit\"]]"
   ]
  },
  {
   "cell_type": "code",
   "execution_count": 59,
   "metadata": {
    "ExecuteTime": {
     "end_time": "2019-08-15T21:25:00.854601Z",
     "start_time": "2019-08-15T21:25:00.802557Z"
    }
   },
   "outputs": [],
   "source": [
    "n_extant_is_best = sum(extant_sw_acc[\"best_molbit\"] == sw_accepted[\"best_molbit\"])"
   ]
  },
  {
   "cell_type": "code",
   "execution_count": 60,
   "metadata": {
    "ExecuteTime": {
     "end_time": "2019-08-15T21:25:00.876574Z",
     "start_time": "2019-08-15T21:25:00.857520Z"
    }
   },
   "outputs": [
    {
     "data": {
      "text/plain": [
       "169157"
      ]
     },
     "execution_count": 60,
     "metadata": {},
     "output_type": "execute_result"
    }
   ],
   "source": [
    "n_extant_is_best"
   ]
  },
  {
   "cell_type": "markdown",
   "metadata": {},
   "source": [
    "Percentage of well-aligned reads that belong to the true set"
   ]
  },
  {
   "cell_type": "code",
   "execution_count": 61,
   "metadata": {
    "ExecuteTime": {
     "end_time": "2019-08-15T21:25:00.893641Z",
     "start_time": "2019-08-15T21:25:00.878460Z"
    }
   },
   "outputs": [
    {
     "data": {
      "text/plain": [
       "0.9844267399160813"
      ]
     },
     "execution_count": 61,
     "metadata": {},
     "output_type": "execute_result"
    }
   ],
   "source": [
    "n_extant_is_best/len(sw_accepted)"
   ]
  },
  {
   "cell_type": "markdown",
   "metadata": {},
   "source": [
    "Read counts for each molbit"
   ]
  },
  {
   "cell_type": "code",
   "execution_count": 62,
   "metadata": {
    "ExecuteTime": {
     "end_time": "2019-08-15T21:25:01.097930Z",
     "start_time": "2019-08-15T21:25:00.895479Z"
    }
   },
   "outputs": [
    {
     "data": {
      "text/plain": [
       "[('0', 6),\n",
       " ('1', 5),\n",
       " ('10', 47),\n",
       " ('11', 70),\n",
       " ('12', 21),\n",
       " ('13', 3),\n",
       " ('14', 82),\n",
       " ('15', 15),\n",
       " ('16', 824),\n",
       " ('17', 495),\n",
       " ('18', 521),\n",
       " ('19', 856),\n",
       " ('2', 13),\n",
       " ('20', 796),\n",
       " ('21', 381),\n",
       " ('22', 341),\n",
       " ('23', 120),\n",
       " ('24', 156),\n",
       " ('25', 544),\n",
       " ('26', 594),\n",
       " ('27', 440),\n",
       " ('28', 259),\n",
       " ('29', 663),\n",
       " ('3', 14),\n",
       " ('30', 536),\n",
       " ('31', 534),\n",
       " ('32', 10232),\n",
       " ('33', 4071),\n",
       " ('34', 3648),\n",
       " ('35', 2300),\n",
       " ('36', 20994),\n",
       " ('37', 13425),\n",
       " ('38', 2277),\n",
       " ('39', 6898),\n",
       " ('4', 8),\n",
       " ('40', 11442),\n",
       " ('41', 15826),\n",
       " ('42', 15789),\n",
       " ('43', 29987),\n",
       " ('44', 10497),\n",
       " ('45', 7127),\n",
       " ('46', 3709),\n",
       " ('47', 5168),\n",
       " ('5', 37),\n",
       " ('6', 15),\n",
       " ('7', 14),\n",
       " ('8', 16),\n",
       " ('9', 17)]"
      ]
     },
     "execution_count": 62,
     "metadata": {},
     "output_type": "execute_result"
    }
   ],
   "source": [
    "m, c = np.unique(extant_sw_acc[\"best_molbit\"], return_counts=True)\n",
    "list(zip(m, c))"
   ]
  },
  {
   "cell_type": "markdown",
   "metadata": {},
   "source": [
    "## Extract the best-aligned molbit, across ONLY the current run's molbits"
   ]
  },
  {
   "cell_type": "code",
   "execution_count": 63,
   "metadata": {
    "ExecuteTime": {
     "end_time": "2019-08-15T21:25:01.116068Z",
     "start_time": "2019-08-15T21:25:01.100220Z"
    }
   },
   "outputs": [],
   "source": [
    "extant_sw_cols = [f\"sw_score_molbit_{molbit}\" for molbit in molbits_in_run]"
   ]
  },
  {
   "cell_type": "code",
   "execution_count": 64,
   "metadata": {
    "ExecuteTime": {
     "end_time": "2019-08-15T21:25:01.150562Z",
     "start_time": "2019-08-15T21:25:01.118462Z"
    }
   },
   "outputs": [],
   "source": [
    "extant_sw = sw.loc[:, extant_sw_cols]"
   ]
  },
  {
   "cell_type": "code",
   "execution_count": 65,
   "metadata": {
    "ExecuteTime": {
     "end_time": "2019-08-15T21:25:23.623997Z",
     "start_time": "2019-08-15T21:25:01.152798Z"
    }
   },
   "outputs": [
    {
     "name": "stderr",
     "output_type": "stream",
     "text": [
      "/ssd1/home/kdorosch/.local/lib/python3.6/site-packages/ipykernel_launcher.py:4: FutureWarning: currently extract(expand=None) means expand=False (return Index/Series/DataFrame) but in a future version of pandas this will be changed to expand=True (return DataFrame)\n",
      "  after removing the cwd from sys.path.\n"
     ]
    }
   ],
   "source": [
    "extant_sw_scores = extant_sw.filter(regex=\"score_molbit_.*\")\n",
    "best_molbits = extant_sw_scores.apply(np.argmax, axis=1)\n",
    "accept_molbit = extant_sw.lookup(extant_sw.index, best_molbits) >= 15\n",
    "extant_sw[\"best_molbit\"] = best_molbits.str.extract(r\"score_molbit_([\\d]+)\")\n",
    "extant_sw[\"accept_molbit\"] = accept_molbit"
   ]
  },
  {
   "cell_type": "markdown",
   "metadata": {},
   "source": [
    "## Compare "
   ]
  },
  {
   "cell_type": "code",
   "execution_count": 66,
   "metadata": {
    "ExecuteTime": {
     "end_time": "2019-08-15T21:25:23.828566Z",
     "start_time": "2019-08-15T21:25:23.626059Z"
    }
   },
   "outputs": [],
   "source": [
    "# Only retrieve high-scoring alignments\n",
    "sw_accepted = sw[sw[\"accept_molbit\"]]\n",
    "extant_sw_acc = extant_sw[sw[\"accept_molbit\"]]"
   ]
  },
  {
   "cell_type": "code",
   "execution_count": 67,
   "metadata": {
    "ExecuteTime": {
     "end_time": "2019-08-15T21:25:23.874295Z",
     "start_time": "2019-08-15T21:25:23.830357Z"
    }
   },
   "outputs": [],
   "source": [
    "n_extant_is_best = sum(extant_sw_acc[\"best_molbit\"] == sw_accepted[\"best_molbit\"])"
   ]
  },
  {
   "cell_type": "code",
   "execution_count": 68,
   "metadata": {
    "ExecuteTime": {
     "end_time": "2019-08-15T21:25:23.891098Z",
     "start_time": "2019-08-15T21:25:23.876187Z"
    }
   },
   "outputs": [
    {
     "data": {
      "text/plain": [
       "160977"
      ]
     },
     "execution_count": 68,
     "metadata": {},
     "output_type": "execute_result"
    }
   ],
   "source": [
    "n_extant_is_best"
   ]
  },
  {
   "cell_type": "markdown",
   "metadata": {},
   "source": [
    "Percentage of well-aligned reads that belong to the true set"
   ]
  },
  {
   "cell_type": "code",
   "execution_count": 69,
   "metadata": {
    "ExecuteTime": {
     "end_time": "2019-08-15T21:25:23.908521Z",
     "start_time": "2019-08-15T21:25:23.892687Z"
    }
   },
   "outputs": [
    {
     "data": {
      "text/plain": [
       "0.9368223798688261"
      ]
     },
     "execution_count": 69,
     "metadata": {},
     "output_type": "execute_result"
    }
   ],
   "source": [
    "n_extant_is_best/len(sw_accepted)"
   ]
  },
  {
   "cell_type": "markdown",
   "metadata": {},
   "source": [
    "Read counts for each molbit"
   ]
  },
  {
   "cell_type": "code",
   "execution_count": 70,
   "metadata": {
    "ExecuteTime": {
     "end_time": "2019-08-15T21:25:24.081535Z",
     "start_time": "2019-08-15T21:25:23.910035Z"
    }
   },
   "outputs": [
    {
     "data": {
      "text/plain": [
       "[('32', 10606),\n",
       " ('33', 4839),\n",
       " ('34', 4107),\n",
       " ('35', 3437),\n",
       " ('36', 21719),\n",
       " ('37', 14551),\n",
       " ('38', 2710),\n",
       " ('39', 7071),\n",
       " ('40', 11657),\n",
       " ('41', 16228),\n",
       " ('42', 16172),\n",
       " ('43', 30728),\n",
       " ('44', 10597),\n",
       " ('45', 7736),\n",
       " ('46', 3930),\n",
       " ('47', 5745)]"
      ]
     },
     "execution_count": 70,
     "metadata": {},
     "output_type": "execute_result"
    }
   ],
   "source": [
    "m, c = np.unique(extant_sw_acc[\"best_molbit\"], return_counts=True)\n",
    "list(zip(m, c))"
   ]
  },
  {
   "cell_type": "markdown",
   "metadata": {},
   "source": [
    "## Get counts for all molbits"
   ]
  },
  {
   "cell_type": "code",
   "execution_count": 73,
   "metadata": {
    "ExecuteTime": {
     "end_time": "2019-08-20T16:48:31.045138Z",
     "start_time": "2019-08-20T16:47:45.185532Z"
    },
    "scrolled": true
   },
   "outputs": [
    {
     "name": "stdout",
     "output_type": "stream",
     "text": [
      "6\n",
      "5\n",
      "9\n",
      "14\n",
      "8\n",
      "23\n",
      "15\n",
      "14\n",
      "13\n",
      "16\n",
      "10\n",
      "32\n",
      "20\n",
      "3\n",
      "10\n",
      "15\n",
      "824\n",
      "413\n",
      "521\n",
      "856\n",
      "796\n",
      "380\n",
      "341\n",
      "120\n",
      "156\n",
      "544\n",
      "594\n",
      "438\n",
      "258\n",
      "663\n",
      "535\n",
      "534\n",
      "10230\n",
      "4069\n",
      "3633\n",
      "2297\n",
      "19147\n",
      "13300\n",
      "2276\n",
      "6897\n",
      "11441\n",
      "15563\n",
      "15783\n",
      "29982\n",
      "10487\n",
      "7127\n",
      "3585\n",
      "5160\n",
      "1\n",
      "93\n",
      "0\n",
      "1\n",
      "0\n",
      "1\n",
      "4\n",
      "125\n",
      "0\n",
      "0\n",
      "0\n",
      "2\n",
      "1\n",
      "2\n",
      "87\n",
      "0\n",
      "0\n",
      "3\n",
      "5\n",
      "0\n",
      "8\n",
      "470\n",
      "2\n",
      "0\n",
      "4\n",
      "0\n",
      "1\n",
      "543\n",
      "0\n",
      "1\n",
      "0\n",
      "32\n",
      "0\n",
      "0\n",
      "118\n",
      "0\n",
      "1\n",
      "4\n",
      "0\n",
      "0\n",
      "0\n",
      "0\n",
      "1\n",
      "1154\n",
      "0\n",
      "1\n",
      "4\n",
      "1\n"
     ]
    }
   ],
   "source": [
    "m, c = np.unique(sw[sw[\"accept_molbit\"]][\"best_molbit\"], return_counts=True)\n",
    "molbit_counts = dict(zip(m, c))\n",
    "for i in range(96):\n",
    "    i = str(i)\n",
    "    if i in molbit_counts:\n",
    "        print(f\"{molbit_counts[i]}\")\n",
    "    else:\n",
    "        print(f\"0\")"
   ]
  },
  {
   "cell_type": "code",
   "execution_count": null,
   "metadata": {},
   "outputs": [],
   "source": []
  }
 ],
 "metadata": {
  "kernelspec": {
   "display_name": "Python 3",
   "language": "python",
   "name": "python3"
  },
  "language_info": {
   "codemirror_mode": {
    "name": "ipython",
    "version": 3
   },
   "file_extension": ".py",
   "mimetype": "text/x-python",
   "name": "python",
   "nbconvert_exporter": "python",
   "pygments_lexer": "ipython3",
   "version": "3.7.6"
  },
  "toc": {
   "base_numbering": 1,
   "nav_menu": {},
   "number_sections": true,
   "sideBar": true,
   "skip_h1_title": false,
   "title_cell": "Table of Contents",
   "title_sidebar": "Contents",
   "toc_cell": false,
   "toc_position": {},
   "toc_section_display": true,
   "toc_window_display": false
  }
 },
 "nbformat": 4,
 "nbformat_minor": 2
}