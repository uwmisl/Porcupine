{
 "cells": [
  {
   "cell_type": "code",
   "execution_count": 1,
   "metadata": {
    "ExecuteTime": {
     "end_time": "2020-02-21T17:02:57.784087Z",
     "start_time": "2020-02-21T17:02:56.447369Z"
    }
   },
   "outputs": [],
   "source": [
    "%load_ext autoreload\n",
    "%autoreload 2\n",
    "%matplotlib inline\n",
    "import os\n",
    "import h5py\n",
    "import numpy as np\n",
    "import pandas as pd\n",
    "import logging\n",
    "import re\n",
    "from scipy.stats import pearsonr\n",
    "\n",
    "from matplotlib import pyplot as plt\n",
    "import seaborn as sns\n",
    "sns.set(font_scale=1.7, style=\"white\")"
   ]
  },
  {
   "cell_type": "code",
   "execution_count": 2,
   "metadata": {
    "ExecuteTime": {
     "end_time": "2020-02-21T17:02:57.798957Z",
     "start_time": "2020-02-21T17:02:57.785994Z"
    }
   },
   "outputs": [],
   "source": [
    "logger = logging.getLogger(__name__)\n",
    "logging.basicConfig(format='[%(asctime)s - %(name)s] %(message)s',\n",
    "                        datefmt='%H:%M:%S',\n",
    "                        level=logging.DEBUG,\n",
    "                        handlers=[logging.StreamHandler()])"
   ]
  },
  {
   "cell_type": "markdown",
   "metadata": {},
   "source": [
    "# Import run settings"
   ]
  },
  {
   "cell_type": "code",
   "execution_count": 3,
   "metadata": {
    "ExecuteTime": {
     "end_time": "2020-02-21T17:02:59.378001Z",
     "start_time": "2020-02-21T17:02:57.800833Z"
    }
   },
   "outputs": [],
   "source": [
    "def import_gdrive_sheet(gdrive_key, sheet_id):\n",
    "    run_spreadsheet = pd.read_csv(\"https://docs.google.com/spreadsheet/ccc?key=\" + \\\n",
    "                                  gdrive_key + \"&output=csv&gid=\" + sheet_id)\n",
    "    if \"date\" in run_spreadsheet.columns:\n",
    "        run_spreadsheet[\"date\"] = run_spreadsheet[\"date\"].astype(str)\n",
    "    return run_spreadsheet\n",
    "\n",
    "gdrive_key = \"gsheet_id_here\"\n",
    "sheet_id = \"0\"\n",
    "set_sheet_id = \"512509543\"\n",
    "\n",
    "run_spreadsheet = import_gdrive_sheet(gdrive_key, sheet_id)\n",
    "set_spreadsheet = import_gdrive_sheet(gdrive_key, set_sheet_id)"
   ]
  },
  {
   "cell_type": "markdown",
   "metadata": {},
   "source": [
    "# Import cnn & basecalling data"
   ]
  },
  {
   "cell_type": "code",
   "execution_count": 4,
   "metadata": {
    "ExecuteTime": {
     "end_time": "2020-02-21T17:02:59.401103Z",
     "start_time": "2020-02-21T17:02:59.381402Z"
    }
   },
   "outputs": [],
   "source": [
    "run_to_include = [\"08_09_2019_run_01\",\n",
    "                  \"08_13_2019_run_02\",\n",
    "                  \"08_13_2019_run_03\",\n",
    "                  \"08_15_2019_run_02\",\n",
    "                  \"08_15_2019_run_03\",\n",
    "                  \"08_16_2019_run_01\",\n",
    "                  \"08_28_2019_run_01\",\n",
    "                  \"08_30_2019_run_01\",\n",
    "                  \"09_05_2019_run_02\"]"
   ]
  },
  {
   "cell_type": "code",
   "execution_count": 5,
   "metadata": {
    "ExecuteTime": {
     "end_time": "2020-02-21T17:02:59.420437Z",
     "start_time": "2020-02-21T17:02:59.402946Z"
    }
   },
   "outputs": [],
   "source": [
    "runs = run_spreadsheet[run_spreadsheet[\"run_name\"].apply(lambda x: x in run_to_include)]"
   ]
  },
  {
   "cell_type": "code",
   "execution_count": 6,
   "metadata": {
    "ExecuteTime": {
     "end_time": "2020-02-21T17:03:02.625924Z",
     "start_time": "2020-02-21T17:02:59.422112Z"
    }
   },
   "outputs": [],
   "source": [
    "label_df = []\n",
    "for i, run_data in runs.iterrows():\n",
    "    run_name = run_data[\"run_name\"]\n",
    "    label_file = run_data[\"model_v4_0_1_labeled_preds\"]\n",
    "    \n",
    "    label_df_ = pd.read_csv(label_file, sep=\"\\t\", index_col=0)\n",
    "    label_df_[\"run_name\"] = run_name\n",
    "    label_df.append(label_df_)\n",
    "label_df = pd.concat(label_df)"
   ]
  },
  {
   "cell_type": "code",
   "execution_count": 10,
   "metadata": {
    "ExecuteTime": {
     "end_time": "2020-02-21T17:04:19.138801Z",
     "start_time": "2020-02-21T17:04:14.651710Z"
    }
   },
   "outputs": [],
   "source": [
    "all_df = []\n",
    "for i, run_data in runs.iterrows():\n",
    "    run_name = run_data[\"run_name\"]\n",
    "    label_file = run_data[\"model_v4_0_1_all_preds\"]\n",
    "    \n",
    "    all_df_ = pd.read_csv(label_file, sep=\"\\t\", index_col=0)\n",
    "    all_df_[\"run_name\"] = run_name\n",
    "    all_df.append(all_df_)\n",
    "all_df = pd.concat(all_df)"
   ]
  },
  {
   "cell_type": "code",
   "execution_count": 11,
   "metadata": {
    "ExecuteTime": {
     "end_time": "2020-02-21T17:04:21.171663Z",
     "start_time": "2020-02-21T17:04:21.140921Z"
    }
   },
   "outputs": [
    {
     "data": {
      "text/html": [
       "<div>\n",
       "<style scoped>\n",
       "    .dataframe tbody tr th:only-of-type {\n",
       "        vertical-align: middle;\n",
       "    }\n",
       "\n",
       "    .dataframe tbody tr th {\n",
       "        vertical-align: top;\n",
       "    }\n",
       "\n",
       "    .dataframe thead th {\n",
       "        text-align: right;\n",
       "    }\n",
       "</style>\n",
       "<table border=\"1\" class=\"dataframe\">\n",
       "  <thead>\n",
       "    <tr style=\"text-align: right;\">\n",
       "      <th></th>\n",
       "      <th>cnn_label</th>\n",
       "      <th>cnn_score</th>\n",
       "      <th>run_name</th>\n",
       "    </tr>\n",
       "    <tr>\n",
       "      <th>read_id</th>\n",
       "      <th></th>\n",
       "      <th></th>\n",
       "      <th></th>\n",
       "    </tr>\n",
       "  </thead>\n",
       "  <tbody>\n",
       "    <tr>\n",
       "      <td>00040c1e-94bc-4fdf-b475-1890a16a8f74</td>\n",
       "      <td>9</td>\n",
       "      <td>1.0</td>\n",
       "      <td>08_09_2019_run_01</td>\n",
       "    </tr>\n",
       "    <tr>\n",
       "      <td>00140655-b79c-481f-8f0f-a60c8d154611</td>\n",
       "      <td>3</td>\n",
       "      <td>1.0</td>\n",
       "      <td>08_09_2019_run_01</td>\n",
       "    </tr>\n",
       "    <tr>\n",
       "      <td>002af26c-b80e-4ba3-a820-13d0f5236bb0</td>\n",
       "      <td>10</td>\n",
       "      <td>1.0</td>\n",
       "      <td>08_09_2019_run_01</td>\n",
       "    </tr>\n",
       "    <tr>\n",
       "      <td>0045d3e8-014c-4e94-865f-012c398ccfdc</td>\n",
       "      <td>13</td>\n",
       "      <td>1.0</td>\n",
       "      <td>08_09_2019_run_01</td>\n",
       "    </tr>\n",
       "    <tr>\n",
       "      <td>00514395-8b77-4df9-b6ea-e09645b95985</td>\n",
       "      <td>7</td>\n",
       "      <td>1.0</td>\n",
       "      <td>08_09_2019_run_01</td>\n",
       "    </tr>\n",
       "    <tr>\n",
       "      <td>...</td>\n",
       "      <td>...</td>\n",
       "      <td>...</td>\n",
       "      <td>...</td>\n",
       "    </tr>\n",
       "    <tr>\n",
       "      <td>ff1c0290-ff89-4b1f-98e4-f954f6642cc3</td>\n",
       "      <td>26</td>\n",
       "      <td>1.0</td>\n",
       "      <td>09_05_2019_run_02</td>\n",
       "    </tr>\n",
       "    <tr>\n",
       "      <td>ff5d7b7d-701f-4b83-a132-583121028788</td>\n",
       "      <td>9</td>\n",
       "      <td>1.0</td>\n",
       "      <td>09_05_2019_run_02</td>\n",
       "    </tr>\n",
       "    <tr>\n",
       "      <td>ffeaddc5-e436-4dd8-8e06-e2b28303e5b2</td>\n",
       "      <td>40</td>\n",
       "      <td>1.0</td>\n",
       "      <td>09_05_2019_run_02</td>\n",
       "    </tr>\n",
       "    <tr>\n",
       "      <td>ffecf80d-f15b-40a9-95bc-5e6b49c289ed</td>\n",
       "      <td>62</td>\n",
       "      <td>1.0</td>\n",
       "      <td>09_05_2019_run_02</td>\n",
       "    </tr>\n",
       "    <tr>\n",
       "      <td>fff09f69-1919-44d5-a1db-493cda2156fb</td>\n",
       "      <td>86</td>\n",
       "      <td>1.0</td>\n",
       "      <td>09_05_2019_run_02</td>\n",
       "    </tr>\n",
       "  </tbody>\n",
       "</table>\n",
       "<p>2869919 rows × 3 columns</p>\n",
       "</div>"
      ],
      "text/plain": [
       "                                      cnn_label  cnn_score           run_name\n",
       "read_id                                                                      \n",
       "00040c1e-94bc-4fdf-b475-1890a16a8f74          9        1.0  08_09_2019_run_01\n",
       "00140655-b79c-481f-8f0f-a60c8d154611          3        1.0  08_09_2019_run_01\n",
       "002af26c-b80e-4ba3-a820-13d0f5236bb0         10        1.0  08_09_2019_run_01\n",
       "0045d3e8-014c-4e94-865f-012c398ccfdc         13        1.0  08_09_2019_run_01\n",
       "00514395-8b77-4df9-b6ea-e09645b95985          7        1.0  08_09_2019_run_01\n",
       "...                                         ...        ...                ...\n",
       "ff1c0290-ff89-4b1f-98e4-f954f6642cc3         26        1.0  09_05_2019_run_02\n",
       "ff5d7b7d-701f-4b83-a132-583121028788          9        1.0  09_05_2019_run_02\n",
       "ffeaddc5-e436-4dd8-8e06-e2b28303e5b2         40        1.0  09_05_2019_run_02\n",
       "ffecf80d-f15b-40a9-95bc-5e6b49c289ed         62        1.0  09_05_2019_run_02\n",
       "fff09f69-1919-44d5-a1db-493cda2156fb         86        1.0  09_05_2019_run_02\n",
       "\n",
       "[2869919 rows x 3 columns]"
      ]
     },
     "execution_count": 11,
     "metadata": {},
     "output_type": "execute_result"
    }
   ],
   "source": [
    "all_df"
   ]
  },
  {
   "cell_type": "code",
   "execution_count": 12,
   "metadata": {
    "ExecuteTime": {
     "end_time": "2020-02-21T17:04:49.565624Z",
     "start_time": "2020-02-21T17:04:46.455590Z"
    }
   },
   "outputs": [],
   "source": [
    "unlabeled_df = all_df.drop(label_df.index)"
   ]
  },
  {
   "cell_type": "code",
   "execution_count": 13,
   "metadata": {
    "ExecuteTime": {
     "end_time": "2020-02-21T17:04:49.592858Z",
     "start_time": "2020-02-21T17:04:49.568206Z"
    }
   },
   "outputs": [
    {
     "data": {
      "text/html": [
       "<div>\n",
       "<style scoped>\n",
       "    .dataframe tbody tr th:only-of-type {\n",
       "        vertical-align: middle;\n",
       "    }\n",
       "\n",
       "    .dataframe tbody tr th {\n",
       "        vertical-align: top;\n",
       "    }\n",
       "\n",
       "    .dataframe thead th {\n",
       "        text-align: right;\n",
       "    }\n",
       "</style>\n",
       "<table border=\"1\" class=\"dataframe\">\n",
       "  <thead>\n",
       "    <tr style=\"text-align: right;\">\n",
       "      <th></th>\n",
       "      <th>cnn_label</th>\n",
       "      <th>cnn_score</th>\n",
       "      <th>run_name</th>\n",
       "    </tr>\n",
       "    <tr>\n",
       "      <th>read_id</th>\n",
       "      <th></th>\n",
       "      <th></th>\n",
       "      <th></th>\n",
       "    </tr>\n",
       "  </thead>\n",
       "  <tbody>\n",
       "    <tr>\n",
       "      <td>00568548-1d66-45a9-a4da-04a54e362157</td>\n",
       "      <td>5</td>\n",
       "      <td>1.000000</td>\n",
       "      <td>08_09_2019_run_01</td>\n",
       "    </tr>\n",
       "    <tr>\n",
       "      <td>0077ea18-894f-4cbc-a14d-6de48a9fa6a4</td>\n",
       "      <td>9</td>\n",
       "      <td>1.000000</td>\n",
       "      <td>08_09_2019_run_01</td>\n",
       "    </tr>\n",
       "    <tr>\n",
       "      <td>007b72a8-4347-47f3-9844-3c647f57abfa</td>\n",
       "      <td>9</td>\n",
       "      <td>1.000000</td>\n",
       "      <td>08_09_2019_run_01</td>\n",
       "    </tr>\n",
       "    <tr>\n",
       "      <td>007ffb06-ebf6-4cae-b784-9a34323ba56c</td>\n",
       "      <td>5</td>\n",
       "      <td>1.000000</td>\n",
       "      <td>08_09_2019_run_01</td>\n",
       "    </tr>\n",
       "    <tr>\n",
       "      <td>00f50bef-8b51-4b6f-bdb6-3d5ba12077c7</td>\n",
       "      <td>9</td>\n",
       "      <td>1.000000</td>\n",
       "      <td>08_09_2019_run_01</td>\n",
       "    </tr>\n",
       "    <tr>\n",
       "      <td>...</td>\n",
       "      <td>...</td>\n",
       "      <td>...</td>\n",
       "      <td>...</td>\n",
       "    </tr>\n",
       "    <tr>\n",
       "      <td>fbc0be53-6c7e-43d6-9333-8d291c2dcfe0</td>\n",
       "      <td>9</td>\n",
       "      <td>1.000000</td>\n",
       "      <td>09_05_2019_run_02</td>\n",
       "    </tr>\n",
       "    <tr>\n",
       "      <td>fc2269eb-6e84-4c3f-8f6b-f559055f251a</td>\n",
       "      <td>85</td>\n",
       "      <td>0.999933</td>\n",
       "      <td>09_05_2019_run_02</td>\n",
       "    </tr>\n",
       "    <tr>\n",
       "      <td>fc539ebf-6b03-40fc-9abe-ca3cb2957274</td>\n",
       "      <td>86</td>\n",
       "      <td>1.000000</td>\n",
       "      <td>09_05_2019_run_02</td>\n",
       "    </tr>\n",
       "    <tr>\n",
       "      <td>fd77e0ce-c75c-4a72-a74e-d3412ca811c9</td>\n",
       "      <td>26</td>\n",
       "      <td>1.000000</td>\n",
       "      <td>09_05_2019_run_02</td>\n",
       "    </tr>\n",
       "    <tr>\n",
       "      <td>ffecf80d-f15b-40a9-95bc-5e6b49c289ed</td>\n",
       "      <td>62</td>\n",
       "      <td>1.000000</td>\n",
       "      <td>09_05_2019_run_02</td>\n",
       "    </tr>\n",
       "  </tbody>\n",
       "</table>\n",
       "<p>1060209 rows × 3 columns</p>\n",
       "</div>"
      ],
      "text/plain": [
       "                                      cnn_label  cnn_score           run_name\n",
       "read_id                                                                      \n",
       "00568548-1d66-45a9-a4da-04a54e362157          5   1.000000  08_09_2019_run_01\n",
       "0077ea18-894f-4cbc-a14d-6de48a9fa6a4          9   1.000000  08_09_2019_run_01\n",
       "007b72a8-4347-47f3-9844-3c647f57abfa          9   1.000000  08_09_2019_run_01\n",
       "007ffb06-ebf6-4cae-b784-9a34323ba56c          5   1.000000  08_09_2019_run_01\n",
       "00f50bef-8b51-4b6f-bdb6-3d5ba12077c7          9   1.000000  08_09_2019_run_01\n",
       "...                                         ...        ...                ...\n",
       "fbc0be53-6c7e-43d6-9333-8d291c2dcfe0          9   1.000000  09_05_2019_run_02\n",
       "fc2269eb-6e84-4c3f-8f6b-f559055f251a         85   0.999933  09_05_2019_run_02\n",
       "fc539ebf-6b03-40fc-9abe-ca3cb2957274         86   1.000000  09_05_2019_run_02\n",
       "fd77e0ce-c75c-4a72-a74e-d3412ca811c9         26   1.000000  09_05_2019_run_02\n",
       "ffecf80d-f15b-40a9-95bc-5e6b49c289ed         62   1.000000  09_05_2019_run_02\n",
       "\n",
       "[1060209 rows x 3 columns]"
      ]
     },
     "execution_count": 13,
     "metadata": {},
     "output_type": "execute_result"
    }
   ],
   "source": [
    "unlabeled_df"
   ]
  },
  {
   "cell_type": "markdown",
   "metadata": {},
   "source": [
    "# Get cnn & basecalling read counts"
   ]
  },
  {
   "cell_type": "code",
   "execution_count": 7,
   "metadata": {
    "ExecuteTime": {
     "end_time": "2020-02-21T17:03:02.662570Z",
     "start_time": "2020-02-21T17:03:02.631691Z"
    },
    "scrolled": true
   },
   "outputs": [
    {
     "data": {
      "text/html": [
       "<div>\n",
       "<style scoped>\n",
       "    .dataframe tbody tr th:only-of-type {\n",
       "        vertical-align: middle;\n",
       "    }\n",
       "\n",
       "    .dataframe tbody tr th {\n",
       "        vertical-align: top;\n",
       "    }\n",
       "\n",
       "    .dataframe thead th {\n",
       "        text-align: right;\n",
       "    }\n",
       "</style>\n",
       "<table border=\"1\" class=\"dataframe\">\n",
       "  <thead>\n",
       "    <tr style=\"text-align: right;\">\n",
       "      <th></th>\n",
       "      <th>cnn_label</th>\n",
       "      <th>cnn_score</th>\n",
       "      <th>sw_label</th>\n",
       "      <th>run_name</th>\n",
       "    </tr>\n",
       "    <tr>\n",
       "      <th>read_id</th>\n",
       "      <th></th>\n",
       "      <th></th>\n",
       "      <th></th>\n",
       "      <th></th>\n",
       "    </tr>\n",
       "  </thead>\n",
       "  <tbody>\n",
       "    <tr>\n",
       "      <td>00040c1e-94bc-4fdf-b475-1890a16a8f74</td>\n",
       "      <td>12</td>\n",
       "      <td>1.000000</td>\n",
       "      <td>12</td>\n",
       "      <td>08_09_2019_run_01</td>\n",
       "    </tr>\n",
       "    <tr>\n",
       "      <td>00140655-b79c-481f-8f0f-a60c8d154611</td>\n",
       "      <td>5</td>\n",
       "      <td>1.000000</td>\n",
       "      <td>5</td>\n",
       "      <td>08_09_2019_run_01</td>\n",
       "    </tr>\n",
       "    <tr>\n",
       "      <td>002af26c-b80e-4ba3-a820-13d0f5236bb0</td>\n",
       "      <td>15</td>\n",
       "      <td>1.000000</td>\n",
       "      <td>15</td>\n",
       "      <td>08_09_2019_run_01</td>\n",
       "    </tr>\n",
       "    <tr>\n",
       "      <td>0045d3e8-014c-4e94-865f-012c398ccfdc</td>\n",
       "      <td>12</td>\n",
       "      <td>0.999992</td>\n",
       "      <td>12</td>\n",
       "      <td>08_09_2019_run_01</td>\n",
       "    </tr>\n",
       "    <tr>\n",
       "      <td>00514395-8b77-4df9-b6ea-e09645b95985</td>\n",
       "      <td>15</td>\n",
       "      <td>1.000000</td>\n",
       "      <td>15</td>\n",
       "      <td>08_09_2019_run_01</td>\n",
       "    </tr>\n",
       "    <tr>\n",
       "      <td>...</td>\n",
       "      <td>...</td>\n",
       "      <td>...</td>\n",
       "      <td>...</td>\n",
       "      <td>...</td>\n",
       "    </tr>\n",
       "    <tr>\n",
       "      <td>fec84f3d-dfa1-43d0-a42a-f4674b963e16</td>\n",
       "      <td>54</td>\n",
       "      <td>1.000000</td>\n",
       "      <td>54</td>\n",
       "      <td>09_05_2019_run_02</td>\n",
       "    </tr>\n",
       "    <tr>\n",
       "      <td>ff1c0290-ff89-4b1f-98e4-f954f6642cc3</td>\n",
       "      <td>61</td>\n",
       "      <td>1.000000</td>\n",
       "      <td>61</td>\n",
       "      <td>09_05_2019_run_02</td>\n",
       "    </tr>\n",
       "    <tr>\n",
       "      <td>ff5d7b7d-701f-4b83-a132-583121028788</td>\n",
       "      <td>84</td>\n",
       "      <td>1.000000</td>\n",
       "      <td>84</td>\n",
       "      <td>09_05_2019_run_02</td>\n",
       "    </tr>\n",
       "    <tr>\n",
       "      <td>ffeaddc5-e436-4dd8-8e06-e2b28303e5b2</td>\n",
       "      <td>95</td>\n",
       "      <td>1.000000</td>\n",
       "      <td>95</td>\n",
       "      <td>09_05_2019_run_02</td>\n",
       "    </tr>\n",
       "    <tr>\n",
       "      <td>fff09f69-1919-44d5-a1db-493cda2156fb</td>\n",
       "      <td>3</td>\n",
       "      <td>1.000000</td>\n",
       "      <td>3</td>\n",
       "      <td>09_05_2019_run_02</td>\n",
       "    </tr>\n",
       "  </tbody>\n",
       "</table>\n",
       "<p>1809710 rows × 4 columns</p>\n",
       "</div>"
      ],
      "text/plain": [
       "                                      cnn_label  cnn_score  sw_label  \\\n",
       "read_id                                                                \n",
       "00040c1e-94bc-4fdf-b475-1890a16a8f74         12   1.000000        12   \n",
       "00140655-b79c-481f-8f0f-a60c8d154611          5   1.000000         5   \n",
       "002af26c-b80e-4ba3-a820-13d0f5236bb0         15   1.000000        15   \n",
       "0045d3e8-014c-4e94-865f-012c398ccfdc         12   0.999992        12   \n",
       "00514395-8b77-4df9-b6ea-e09645b95985         15   1.000000        15   \n",
       "...                                         ...        ...       ...   \n",
       "fec84f3d-dfa1-43d0-a42a-f4674b963e16         54   1.000000        54   \n",
       "ff1c0290-ff89-4b1f-98e4-f954f6642cc3         61   1.000000        61   \n",
       "ff5d7b7d-701f-4b83-a132-583121028788         84   1.000000        84   \n",
       "ffeaddc5-e436-4dd8-8e06-e2b28303e5b2         95   1.000000        95   \n",
       "fff09f69-1919-44d5-a1db-493cda2156fb          3   1.000000         3   \n",
       "\n",
       "                                               run_name  \n",
       "read_id                                                  \n",
       "00040c1e-94bc-4fdf-b475-1890a16a8f74  08_09_2019_run_01  \n",
       "00140655-b79c-481f-8f0f-a60c8d154611  08_09_2019_run_01  \n",
       "002af26c-b80e-4ba3-a820-13d0f5236bb0  08_09_2019_run_01  \n",
       "0045d3e8-014c-4e94-865f-012c398ccfdc  08_09_2019_run_01  \n",
       "00514395-8b77-4df9-b6ea-e09645b95985  08_09_2019_run_01  \n",
       "...                                                 ...  \n",
       "fec84f3d-dfa1-43d0-a42a-f4674b963e16  09_05_2019_run_02  \n",
       "ff1c0290-ff89-4b1f-98e4-f954f6642cc3  09_05_2019_run_02  \n",
       "ff5d7b7d-701f-4b83-a132-583121028788  09_05_2019_run_02  \n",
       "ffeaddc5-e436-4dd8-8e06-e2b28303e5b2  09_05_2019_run_02  \n",
       "fff09f69-1919-44d5-a1db-493cda2156fb  09_05_2019_run_02  \n",
       "\n",
       "[1809710 rows x 4 columns]"
      ]
     },
     "execution_count": 7,
     "metadata": {},
     "output_type": "execute_result"
    }
   ],
   "source": [
    "label_df"
   ]
  },
  {
   "cell_type": "code",
   "execution_count": 9,
   "metadata": {
    "ExecuteTime": {
     "end_time": "2020-02-21T17:03:25.654540Z",
     "start_time": "2020-02-21T17:03:25.554316Z"
    }
   },
   "outputs": [
    {
     "data": {
      "text/plain": [
       "array([ 0,  1,  2,  3,  4,  5,  6,  7,  8,  9, 10, 11, 12, 13, 14, 15, 16,\n",
       "       17, 18, 19, 20, 21, 22, 23, 24, 25, 26, 27, 28, 29, 30, 31, 32, 33,\n",
       "       34, 35, 36, 37, 38, 39, 40, 41, 42, 43, 44, 45, 46, 47, 48, 49, 50,\n",
       "       51, 52, 53, 54, 55, 56, 57, 58, 59, 60, 61, 62, 63, 64, 65, 66, 67,\n",
       "       68, 69, 70, 71, 72, 73, 74, 75, 76, 77, 78, 79, 80, 81, 82, 83, 84,\n",
       "       85, 86, 87, 88, 89, 90, 91, 92, 93, 94, 95])"
      ]
     },
     "execution_count": 9,
     "metadata": {},
     "output_type": "execute_result"
    }
   ],
   "source": [
    "np.unique(label_df[\"sw_label\"])"
   ]
  },
  {
   "cell_type": "code",
   "execution_count": 8,
   "metadata": {
    "ExecuteTime": {
     "end_time": "2020-02-21T17:03:13.809433Z",
     "start_time": "2020-02-21T17:03:13.591946Z"
    }
   },
   "outputs": [
    {
     "data": {
      "text/plain": [
       "0"
      ]
     },
     "execution_count": 8,
     "metadata": {},
     "output_type": "execute_result"
    }
   ],
   "source": [
    "sum(label_df[\"sw_label\"] == -1)"
   ]
  },
  {
   "cell_type": "code",
   "execution_count": 15,
   "metadata": {
    "ExecuteTime": {
     "end_time": "2020-02-21T17:05:45.759932Z",
     "start_time": "2020-02-21T17:05:45.348683Z"
    }
   },
   "outputs": [
    {
     "name": "stdout",
     "output_type": "stream",
     "text": [
      "08_09_2019_run_01\n",
      "08_13_2019_run_02\n",
      "08_13_2019_run_03\n",
      "08_15_2019_run_02\n",
      "08_15_2019_run_03\n",
      "08_16_2019_run_01\n",
      "08_28_2019_run_01\n",
      "08_30_2019_run_01\n",
      "09_05_2019_run_02\n"
     ]
    }
   ],
   "source": [
    "# counts_cnn = []\n",
    "counts_sw = []\n",
    "for run_name, df in label_df.groupby(\"run_name\"):\n",
    "    print(run_name)\n",
    "#     l_cnn, c_cnn = np.unique(df[\"cnn_label\"], return_counts=True)\n",
    "    l_sw, c_sw = np.unique(df[\"sw_label\"], return_counts=True)\n",
    "#     l_cnn = list(l_cnn)\n",
    "    l_sw = list(l_sw)\n",
    "    \n",
    "    for molbit in range(96):\n",
    "#         try:\n",
    "#             i_cnn = l_cnn.index(molbit)\n",
    "#             c = c_cnn[i_cnn]\n",
    "#         except ValueError:\n",
    "#             c = 0 \n",
    "#         counts_cnn.append(c)\n",
    "        \n",
    "        try:\n",
    "            i_sw = l_sw.index(molbit)\n",
    "            c = c_sw[i_sw]\n",
    "        except ValueError:\n",
    "            c = 0\n",
    "        counts_sw.append(c)\n",
    "    "
   ]
  },
  {
   "cell_type": "code",
   "execution_count": 16,
   "metadata": {
    "ExecuteTime": {
     "end_time": "2020-02-21T17:05:47.573907Z",
     "start_time": "2020-02-21T17:05:47.170265Z"
    }
   },
   "outputs": [
    {
     "name": "stdout",
     "output_type": "stream",
     "text": [
      "08_09_2019_run_01\n",
      "08_13_2019_run_02\n",
      "08_13_2019_run_03\n",
      "08_15_2019_run_02\n",
      "08_15_2019_run_03\n",
      "08_16_2019_run_01\n",
      "08_28_2019_run_01\n",
      "08_30_2019_run_01\n",
      "09_05_2019_run_02\n"
     ]
    }
   ],
   "source": [
    "counts_cnn = []\n",
    "# counts_sw = []\n",
    "for run_name, df in unlabeled_df.groupby(\"run_name\"):\n",
    "    print(run_name)\n",
    "    l_cnn, c_cnn = np.unique(df[\"cnn_label\"], return_counts=True)\n",
    "    l_cnn = list(l_cnn)\n",
    "    \n",
    "    for molbit in range(96):\n",
    "        try:\n",
    "            i_cnn = l_cnn.index(molbit)\n",
    "            c = c_cnn[i_cnn]\n",
    "        except ValueError:\n",
    "            c = 0 \n",
    "        counts_cnn.append(c)\n",
    "    \n",
    "    "
   ]
  },
  {
   "cell_type": "code",
   "execution_count": 17,
   "metadata": {
    "ExecuteTime": {
     "end_time": "2020-02-21T17:05:48.544186Z",
     "start_time": "2020-02-21T17:05:48.523558Z"
    }
   },
   "outputs": [
    {
     "data": {
      "text/plain": [
       "75466"
      ]
     },
     "execution_count": 17,
     "metadata": {},
     "output_type": "execute_result"
    }
   ],
   "source": [
    "max(counts_sw)"
   ]
  },
  {
   "cell_type": "code",
   "execution_count": 29,
   "metadata": {
    "ExecuteTime": {
     "end_time": "2020-02-21T17:09:43.366565Z",
     "start_time": "2020-02-21T17:09:42.988191Z"
    }
   },
   "outputs": [
    {
     "name": "stderr",
     "output_type": "stream",
     "text": [
      "[09:09:43 - matplotlib.axes._base] update_title_pos\n",
      "[09:09:43 - matplotlib.axes._base] update_title_pos\n",
      "[09:09:43 - matplotlib.axes._base] update_title_pos\n",
      "[09:09:43 - matplotlib.axes._base] update_title_pos\n",
      "[09:09:43 - matplotlib.axes._base] update_title_pos\n",
      "[09:09:43 - matplotlib.axes._base] update_title_pos\n",
      "[09:09:43 - matplotlib.axes._base] update_title_pos\n"
     ]
    },
    {
     "data": {
      "image/png": "[encoded data removed]",
      "text/plain": [
       "<Figure size 432x360 with 1 Axes>"
      ]
     },
     "metadata": {
      "needs_background": "light"
     },
     "output_type": "display_data"
    }
   ],
   "source": [
    "fig, ax = plt.subplots(figsize=(6, 5))\n",
    "edge = 78000\n",
    "plt.plot([0, edge], [0, edge], linewidth=0.5, color=\"k\", alpha=0.5)\n",
    "ax.scatter(counts_sw, counts_cnn, c=\"k\", marker=\".\")\n",
    "ax.set_xlabel(\"Molbit counts (basecalling+alignment)\")\n",
    "ax.set_ylabel(\"Molbit counts (CNN)\")\n",
    "r, p = pearsonr(counts_sw, counts_cnn)\n",
    "ax.text(1000, 60000, f\"Pearson r={r:.4f}, p<{p:.4f}1\", fontsize=14)\n",
    "ax.set_xlim([0, edge])\n",
    "ax.set_ylim([0, edge])\n",
    "ax.set_title(\"Comparison of molbit counts from\\nalignment (sequence data)\\nvs. CNN (signal data)\")\n",
    "plt.tight_layout()\n",
    "plt.savefig(\"../v4/plots/read_counts_seq_vs_squig.svg\")"
   ]
  },
  {
   "cell_type": "code",
   "execution_count": 19,
   "metadata": {
    "ExecuteTime": {
     "end_time": "2020-02-21T17:05:52.763386Z",
     "start_time": "2020-02-21T17:05:52.746184Z"
    }
   },
   "outputs": [
    {
     "data": {
      "text/plain": [
       "0.9549138547910597"
      ]
     },
     "execution_count": 19,
     "metadata": {},
     "output_type": "execute_result"
    }
   ],
   "source": [
    "r"
   ]
  },
  {
   "cell_type": "code",
   "execution_count": 21,
   "metadata": {
    "ExecuteTime": {
     "end_time": "2020-02-21T17:06:01.915043Z",
     "start_time": "2020-02-21T17:06:01.894849Z"
    }
   },
   "outputs": [
    {
     "data": {
      "text/plain": [
       "0.0"
      ]
     },
     "execution_count": 21,
     "metadata": {},
     "output_type": "execute_result"
    }
   ],
   "source": [
    "p"
   ]
  },
  {
   "cell_type": "code",
   "execution_count": 20,
   "metadata": {
    "ExecuteTime": {
     "end_time": "2020-02-21T17:05:53.192904Z",
     "start_time": "2020-02-21T17:05:53.169484Z"
    }
   },
   "outputs": [
    {
     "data": {
      "text/plain": [
       "78000.0"
      ]
     },
     "execution_count": 20,
     "metadata": {},
     "output_type": "execute_result"
    }
   ],
   "source": [
    "ax.get_ylim()[1]"
   ]
  },
  {
   "cell_type": "code",
   "execution_count": null,
   "metadata": {},
   "outputs": [],
   "source": []
  }
 ],
 "metadata": {
  "kernelspec": {
   "display_name": "Python 3",
   "language": "python",
   "name": "python3"
  },
  "language_info": {
   "codemirror_mode": {
    "name": "ipython",
    "version": 3
   },
   "file_extension": ".py",
   "mimetype": "text/x-python",
   "name": "python",
   "nbconvert_exporter": "python",
   "pygments_lexer": "ipython3",
   "version": "3.7.6"
  },
  "toc": {
   "base_numbering": 1,
   "nav_menu": {},
   "number_sections": true,
   "sideBar": true,
   "skip_h1_title": false,
   "title_cell": "Table of Contents",
   "title_sidebar": "Contents",
   "toc_cell": false,
   "toc_position": {},
   "toc_section_display": true,
   "toc_window_display": false
  }
 },
 "nbformat": 4,
 "nbformat_minor": 2
}
