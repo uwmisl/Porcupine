{
 "cells": [
  {
   "cell_type": "code",
   "execution_count": 1,
   "metadata": {
    "ExecuteTime": {
     "end_time": "2020-03-12T02:53:26.379893Z",
     "start_time": "2020-03-12T02:53:25.447134Z"
    }
   },
   "outputs": [],
   "source": [
    "%load_ext autoreload\n",
    "%autoreload 2\n",
    "%matplotlib inline\n",
    "import os\n",
    "import h5py\n",
    "import numpy as np\n",
    "import pandas as pd\n",
    "import logging\n",
    "import re\n",
    "from scipy.stats import pearsonr\n",
    "\n",
    "from matplotlib import pyplot as plt\n",
    "import seaborn as sns\n",
    "sns.set(font_scale=1.5, style=\"whitegrid\")"
   ]
  },
  {
   "cell_type": "code",
   "execution_count": 2,
   "metadata": {
    "ExecuteTime": {
     "end_time": "2020-03-12T02:53:26.397223Z",
     "start_time": "2020-03-12T02:53:26.382287Z"
    }
   },
   "outputs": [],
   "source": [
    "logger = logging.getLogger(__name__)\n",
    "logging.basicConfig(format='[%(asctime)s - %(name)s] %(message)s',\n",
    "                        datefmt='%H:%M:%S',\n",
    "                        level=logging.DEBUG,\n",
    "                        handlers=[logging.StreamHandler()])"
   ]
  },
  {
   "cell_type": "markdown",
   "metadata": {},
   "source": [
    "# Import run settings"
   ]
  },
  {
   "cell_type": "code",
   "execution_count": 3,
   "metadata": {
    "ExecuteTime": {
     "end_time": "2020-03-12T02:53:28.589240Z",
     "start_time": "2020-03-12T02:53:26.399213Z"
    }
   },
   "outputs": [],
   "source": [
    "def import_gdrive_sheet(gdrive_key, sheet_id):\n",
    "    run_spreadsheet = pd.read_csv(\"https://docs.google.com/spreadsheet/ccc?key=\" + \\\n",
    "                                  gdrive_key + \"&output=csv&gid=\" + sheet_id)\n",
    "    if \"date\" in run_spreadsheet.columns:\n",
    "        run_spreadsheet[\"date\"] = run_spreadsheet[\"date\"].astype(str)\n",
    "    return run_spreadsheet\n",
    "\n",
    "gdrive_key = \"gsheet_id_here\"\n",
    "sheet_id = \"0\"\n",
    "set_sheet_id = \"512509543\"\n",
    "\n",
    "run_spreadsheet = import_gdrive_sheet(gdrive_key, sheet_id)\n",
    "set_spreadsheet = import_gdrive_sheet(gdrive_key, set_sheet_id)"
   ]
  },
  {
   "cell_type": "markdown",
   "metadata": {},
   "source": [
    "# Import training data"
   ]
  },
  {
   "cell_type": "code",
   "execution_count": 4,
   "metadata": {
    "ExecuteTime": {
     "end_time": "2020-03-12T02:53:28.609407Z",
     "start_time": "2020-03-12T02:53:28.591601Z"
    }
   },
   "outputs": [],
   "source": [
    "training_run_names = [\"08_09_2019_run_01\",\n",
    "                      \"08_13_2019_run_02\",\n",
    "                      \"08_13_2019_run_03\",\n",
    "                      \"08_15_2019_run_02\",\n",
    "                      \"08_15_2019_run_03\",\n",
    "                      \"08_16_2019_run_01\",]"
   ]
  },
  {
   "cell_type": "code",
   "execution_count": 5,
   "metadata": {
    "ExecuteTime": {
     "end_time": "2020-03-12T02:53:28.630159Z",
     "start_time": "2020-03-12T02:53:28.611615Z"
    }
   },
   "outputs": [],
   "source": [
    "training_runs = run_spreadsheet[run_spreadsheet[\"run_name\"].apply(lambda x: x in training_run_names)]"
   ]
  },
  {
   "cell_type": "code",
   "execution_count": 6,
   "metadata": {
    "ExecuteTime": {
     "end_time": "2020-03-12T02:53:30.382633Z",
     "start_time": "2020-03-12T02:53:30.327962Z"
    }
   },
   "outputs": [
    {
     "data": {
      "text/html": [
       "<div>\n",
       "<style scoped>\n",
       "    .dataframe tbody tr th:only-of-type {\n",
       "        vertical-align: middle;\n",
       "    }\n",
       "\n",
       "    .dataframe tbody tr th {\n",
       "        vertical-align: top;\n",
       "    }\n",
       "\n",
       "    .dataframe thead th {\n",
       "        text-align: right;\n",
       "    }\n",
       "</style>\n",
       "<table border=\"1\" class=\"dataframe\">\n",
       "  <thead>\n",
       "    <tr style=\"text-align: right;\">\n",
       "      <th></th>\n",
       "      <th>date</th>\n",
       "      <th>run_name</th>\n",
       "      <th>molbit_set</th>\n",
       "      <th>description</th>\n",
       "      <th>approx_runtime</th>\n",
       "      <th>approx_reads_per_min</th>\n",
       "      <th>read_count</th>\n",
       "      <th>lengths</th>\n",
       "      <th>DNAse</th>\n",
       "      <th>flowcell</th>\n",
       "      <th>...</th>\n",
       "      <th>basecalled_fast5_dir</th>\n",
       "      <th>passed_basecalling</th>\n",
       "      <th>passed_basecalling_pct</th>\n",
       "      <th>sw_scores_file</th>\n",
       "      <th>sw_labels</th>\n",
       "      <th>filtered_sw_labels</th>\n",
       "      <th>model_v4_0_1_all_preds</th>\n",
       "      <th>model_v4_0_1_labeled_preds</th>\n",
       "      <th>preprocessed_dataset_all</th>\n",
       "      <th>preprocessed_dataset_labeled</th>\n",
       "    </tr>\n",
       "  </thead>\n",
       "  <tbody>\n",
       "    <tr>\n",
       "      <th>0</th>\n",
       "      <td>20190809.0</td>\n",
       "      <td>08_09_2019_run_01</td>\n",
       "      <td>0.0</td>\n",
       "      <td>training data</td>\n",
       "      <td>0:20</td>\n",
       "      <td>10000.0</td>\n",
       "      <td>209,650</td>\n",
       "      <td>400</td>\n",
       "      <td>no</td>\n",
       "      <td>FAL16929</td>\n",
       "      <td>...</td>\n",
       "      <td>NaN</td>\n",
       "      <td>193498</td>\n",
       "      <td>92.295731</td>\n",
       "      <td>/disk1/pore_data/MinION_sequencing_data_201908...</td>\n",
       "      <td>NaN</td>\n",
       "      <td>/disk1/pore_data/MinION_sequencing_data_201908...</td>\n",
       "      <td>/disk1/pore_data/MinION_sequencing_data_201908...</td>\n",
       "      <td>/disk1/pore_data/MinION_sequencing_data_201908...</td>\n",
       "      <td>/ssd1/pore_data/v4_test/08_09_2019_run_01_all....</td>\n",
       "      <td>/ssd1/pore_data/v4_test/08_09_2019_run_01_only...</td>\n",
       "    </tr>\n",
       "    <tr>\n",
       "      <th>2</th>\n",
       "      <td>20190813.0</td>\n",
       "      <td>08_13_2019_run_02</td>\n",
       "      <td>1.0</td>\n",
       "      <td>training data</td>\n",
       "      <td>0:35</td>\n",
       "      <td>NaN</td>\n",
       "      <td>304,000</td>\n",
       "      <td>400</td>\n",
       "      <td>no</td>\n",
       "      <td>FAL16929</td>\n",
       "      <td>...</td>\n",
       "      <td>NaN</td>\n",
       "      <td>279707</td>\n",
       "      <td>92.008882</td>\n",
       "      <td>/disk1/pore_data/MinION_sequencing_data_201908...</td>\n",
       "      <td>NaN</td>\n",
       "      <td>/disk1/pore_data/MinION_sequencing_data_201908...</td>\n",
       "      <td>/disk1/pore_data/MinION_sequencing_data_201908...</td>\n",
       "      <td>/disk1/pore_data/MinION_sequencing_data_201908...</td>\n",
       "      <td>/ssd1/pore_data/v4_test/08_13_2019_run_02_all....</td>\n",
       "      <td>/ssd1/pore_data/v4_test/08_13_2019_run_02_only...</td>\n",
       "    </tr>\n",
       "    <tr>\n",
       "      <th>3</th>\n",
       "      <td>20190813.0</td>\n",
       "      <td>08_13_2019_run_03</td>\n",
       "      <td>2.0</td>\n",
       "      <td>training data</td>\n",
       "      <td>0:47</td>\n",
       "      <td>NaN</td>\n",
       "      <td>305,380</td>\n",
       "      <td>400</td>\n",
       "      <td>no</td>\n",
       "      <td>FAL16929</td>\n",
       "      <td>...</td>\n",
       "      <td>NaN</td>\n",
       "      <td>272350</td>\n",
       "      <td>89.183968</td>\n",
       "      <td>/disk1/pore_data/MinION_sequencing_data_201908...</td>\n",
       "      <td>NaN</td>\n",
       "      <td>/disk1/pore_data/MinION_sequencing_data_201908...</td>\n",
       "      <td>/disk1/pore_data/MinION_sequencing_data_201908...</td>\n",
       "      <td>/disk1/pore_data/MinION_sequencing_data_201908...</td>\n",
       "      <td>/ssd1/pore_data/v4_test/08_13_2019_run_03_all....</td>\n",
       "      <td>/ssd1/pore_data/v4_test/08_13_2019_run_03_only...</td>\n",
       "    </tr>\n",
       "    <tr>\n",
       "      <th>5</th>\n",
       "      <td>20190815.0</td>\n",
       "      <td>08_15_2019_run_02</td>\n",
       "      <td>4.0</td>\n",
       "      <td>training data</td>\n",
       "      <td>0:34</td>\n",
       "      <td>10000.0</td>\n",
       "      <td>318,660</td>\n",
       "      <td>400</td>\n",
       "      <td>no</td>\n",
       "      <td>FAL01293</td>\n",
       "      <td>...</td>\n",
       "      <td>NaN</td>\n",
       "      <td>302707</td>\n",
       "      <td>94.993724</td>\n",
       "      <td>/disk1/pore_data/MinION_sequencing_data_201908...</td>\n",
       "      <td>NaN</td>\n",
       "      <td>/disk1/pore_data/MinION_sequencing_data_201908...</td>\n",
       "      <td>/disk1/pore_data/MinION_sequencing_data_201908...</td>\n",
       "      <td>/disk1/pore_data/MinION_sequencing_data_201908...</td>\n",
       "      <td>/ssd1/pore_data/v4_test/08_15_2019_run_02_all....</td>\n",
       "      <td>/ssd1/pore_data/v4_test/08_15_2019_run_02_only...</td>\n",
       "    </tr>\n",
       "    <tr>\n",
       "      <th>6</th>\n",
       "      <td>20190815.0</td>\n",
       "      <td>08_15_2019_run_03</td>\n",
       "      <td>5.0</td>\n",
       "      <td>training data</td>\n",
       "      <td>0:42</td>\n",
       "      <td>NaN</td>\n",
       "      <td>309,290</td>\n",
       "      <td>400</td>\n",
       "      <td>no</td>\n",
       "      <td>FAL01293</td>\n",
       "      <td>...</td>\n",
       "      <td>NaN</td>\n",
       "      <td>292644</td>\n",
       "      <td>94.617996</td>\n",
       "      <td>/disk1/pore_data/MinION_sequencing_data_201908...</td>\n",
       "      <td>NaN</td>\n",
       "      <td>/disk1/pore_data/MinION_sequencing_data_201908...</td>\n",
       "      <td>/disk1/pore_data/MinION_sequencing_data_201908...</td>\n",
       "      <td>/disk1/pore_data/MinION_sequencing_data_201908...</td>\n",
       "      <td>/ssd1/pore_data/v4_test/08_15_2019_run_03_all....</td>\n",
       "      <td>/ssd1/pore_data/v4_test/08_15_2019_run_03_only...</td>\n",
       "    </tr>\n",
       "    <tr>\n",
       "      <th>7</th>\n",
       "      <td>20190816.0</td>\n",
       "      <td>08_16_2019_run_01</td>\n",
       "      <td>3.0</td>\n",
       "      <td>training data</td>\n",
       "      <td>0:25</td>\n",
       "      <td>NaN</td>\n",
       "      <td>328,150</td>\n",
       "      <td>400</td>\n",
       "      <td>no</td>\n",
       "      <td>FAL01293</td>\n",
       "      <td>...</td>\n",
       "      <td>NaN</td>\n",
       "      <td>312228</td>\n",
       "      <td>95.147951</td>\n",
       "      <td>/disk1/pore_data/MinION_sequencing_data_201908...</td>\n",
       "      <td>NaN</td>\n",
       "      <td>/disk1/pore_data/MinION_sequencing_data_201908...</td>\n",
       "      <td>/disk1/pore_data/MinION_sequencing_data_201908...</td>\n",
       "      <td>/disk1/pore_data/MinION_sequencing_data_201908...</td>\n",
       "      <td>/ssd1/pore_data/v4_test/08_16_2019_run_01_all....</td>\n",
       "      <td>/ssd1/pore_data/v4_test/08_16_2019_run_01_only...</td>\n",
       "    </tr>\n",
       "  </tbody>\n",
       "</table>\n",
       "<p>6 rows × 31 columns</p>\n",
       "</div>"
      ],
      "text/plain": [
       "         date           run_name  molbit_set    description approx_runtime  \\\n",
       "0  20190809.0  08_09_2019_run_01         0.0  training data           0:20   \n",
       "2  20190813.0  08_13_2019_run_02         1.0  training data           0:35   \n",
       "3  20190813.0  08_13_2019_run_03         2.0  training data           0:47   \n",
       "5  20190815.0  08_15_2019_run_02         4.0  training data           0:34   \n",
       "6  20190815.0  08_15_2019_run_03         5.0  training data           0:42   \n",
       "7  20190816.0  08_16_2019_run_01         3.0  training data           0:25   \n",
       "\n",
       "   approx_reads_per_min read_count lengths DNAse  flowcell  ...  \\\n",
       "0               10000.0    209,650     400    no  FAL16929  ...   \n",
       "2                   NaN    304,000     400    no  FAL16929  ...   \n",
       "3                   NaN    305,380     400    no  FAL16929  ...   \n",
       "5               10000.0    318,660     400    no  FAL01293  ...   \n",
       "6                   NaN    309,290     400    no  FAL01293  ...   \n",
       "7                   NaN    328,150     400    no  FAL01293  ...   \n",
       "\n",
       "  basecalled_fast5_dir passed_basecalling passed_basecalling_pct  \\\n",
       "0                  NaN             193498              92.295731   \n",
       "2                  NaN             279707              92.008882   \n",
       "3                  NaN             272350              89.183968   \n",
       "5                  NaN             302707              94.993724   \n",
       "6                  NaN             292644              94.617996   \n",
       "7                  NaN             312228              95.147951   \n",
       "\n",
       "                                      sw_scores_file sw_labels  \\\n",
       "0  /disk1/pore_data/MinION_sequencing_data_201908...       NaN   \n",
       "2  /disk1/pore_data/MinION_sequencing_data_201908...       NaN   \n",
       "3  /disk1/pore_data/MinION_sequencing_data_201908...       NaN   \n",
       "5  /disk1/pore_data/MinION_sequencing_data_201908...       NaN   \n",
       "6  /disk1/pore_data/MinION_sequencing_data_201908...       NaN   \n",
       "7  /disk1/pore_data/MinION_sequencing_data_201908...       NaN   \n",
       "\n",
       "                                  filtered_sw_labels  \\\n",
       "0  /disk1/pore_data/MinION_sequencing_data_201908...   \n",
       "2  /disk1/pore_data/MinION_sequencing_data_201908...   \n",
       "3  /disk1/pore_data/MinION_sequencing_data_201908...   \n",
       "5  /disk1/pore_data/MinION_sequencing_data_201908...   \n",
       "6  /disk1/pore_data/MinION_sequencing_data_201908...   \n",
       "7  /disk1/pore_data/MinION_sequencing_data_201908...   \n",
       "\n",
       "                              model_v4_0_1_all_preds  \\\n",
       "0  /disk1/pore_data/MinION_sequencing_data_201908...   \n",
       "2  /disk1/pore_data/MinION_sequencing_data_201908...   \n",
       "3  /disk1/pore_data/MinION_sequencing_data_201908...   \n",
       "5  /disk1/pore_data/MinION_sequencing_data_201908...   \n",
       "6  /disk1/pore_data/MinION_sequencing_data_201908...   \n",
       "7  /disk1/pore_data/MinION_sequencing_data_201908...   \n",
       "\n",
       "                          model_v4_0_1_labeled_preds  \\\n",
       "0  /disk1/pore_data/MinION_sequencing_data_201908...   \n",
       "2  /disk1/pore_data/MinION_sequencing_data_201908...   \n",
       "3  /disk1/pore_data/MinION_sequencing_data_201908...   \n",
       "5  /disk1/pore_data/MinION_sequencing_data_201908...   \n",
       "6  /disk1/pore_data/MinION_sequencing_data_201908...   \n",
       "7  /disk1/pore_data/MinION_sequencing_data_201908...   \n",
       "\n",
       "                            preprocessed_dataset_all  \\\n",
       "0  /ssd1/pore_data/v4_test/08_09_2019_run_01_all....   \n",
       "2  /ssd1/pore_data/v4_test/08_13_2019_run_02_all....   \n",
       "3  /ssd1/pore_data/v4_test/08_13_2019_run_03_all....   \n",
       "5  /ssd1/pore_data/v4_test/08_15_2019_run_02_all....   \n",
       "6  /ssd1/pore_data/v4_test/08_15_2019_run_03_all....   \n",
       "7  /ssd1/pore_data/v4_test/08_16_2019_run_01_all....   \n",
       "\n",
       "                        preprocessed_dataset_labeled  \n",
       "0  /ssd1/pore_data/v4_test/08_09_2019_run_01_only...  \n",
       "2  /ssd1/pore_data/v4_test/08_13_2019_run_02_only...  \n",
       "3  /ssd1/pore_data/v4_test/08_13_2019_run_03_only...  \n",
       "5  /ssd1/pore_data/v4_test/08_15_2019_run_02_only...  \n",
       "6  /ssd1/pore_data/v4_test/08_15_2019_run_03_only...  \n",
       "7  /ssd1/pore_data/v4_test/08_16_2019_run_01_only...  \n",
       "\n",
       "[6 rows x 31 columns]"
      ]
     },
     "execution_count": 6,
     "metadata": {},
     "output_type": "execute_result"
    }
   ],
   "source": [
    "training_runs"
   ]
  },
  {
   "cell_type": "code",
   "execution_count": 7,
   "metadata": {
    "ExecuteTime": {
     "end_time": "2020-03-12T02:53:35.326880Z",
     "start_time": "2020-03-12T02:53:31.996253Z"
    }
   },
   "outputs": [],
   "source": [
    "train_sw = []\n",
    "for i, run_data in training_runs.iterrows():\n",
    "    run_name = run_data[\"run_name\"]\n",
    "    label_file = run_data[\"filtered_sw_labels\"]\n",
    "    \n",
    "    sw = pd.read_csv(label_file, sep=\"\\t\", index_col=0)\n",
    "    sw[\"run_name\"] = run_name\n",
    "    train_sw.append(sw)\n",
    "train_sw = pd.concat(train_sw)"
   ]
  },
  {
   "cell_type": "code",
   "execution_count": 8,
   "metadata": {
    "ExecuteTime": {
     "end_time": "2020-03-12T02:53:35.355147Z",
     "start_time": "2020-03-12T02:53:35.329127Z"
    },
    "scrolled": true
   },
   "outputs": [
    {
     "data": {
      "text/html": [
       "<div>\n",
       "<style scoped>\n",
       "    .dataframe tbody tr th:only-of-type {\n",
       "        vertical-align: middle;\n",
       "    }\n",
       "\n",
       "    .dataframe tbody tr th {\n",
       "        vertical-align: top;\n",
       "    }\n",
       "\n",
       "    .dataframe thead th {\n",
       "        text-align: right;\n",
       "    }\n",
       "</style>\n",
       "<table border=\"1\" class=\"dataframe\">\n",
       "  <thead>\n",
       "    <tr style=\"text-align: right;\">\n",
       "      <th></th>\n",
       "      <th>molbit</th>\n",
       "      <th>sw_score</th>\n",
       "      <th>run_name</th>\n",
       "    </tr>\n",
       "    <tr>\n",
       "      <th>read_id</th>\n",
       "      <th></th>\n",
       "      <th></th>\n",
       "      <th></th>\n",
       "    </tr>\n",
       "  </thead>\n",
       "  <tbody>\n",
       "    <tr>\n",
       "      <th>b2d209b6-d6f1-404e-bc49-10d84f2cf15b</th>\n",
       "      <td>6</td>\n",
       "      <td>29.0</td>\n",
       "      <td>08_09_2019_run_01</td>\n",
       "    </tr>\n",
       "    <tr>\n",
       "      <th>330695fa-aa55-4991-a9e0-42d825e5a5bb</th>\n",
       "      <td>8</td>\n",
       "      <td>22.0</td>\n",
       "      <td>08_09_2019_run_01</td>\n",
       "    </tr>\n",
       "    <tr>\n",
       "      <th>41eb5730-f34f-4029-849e-9ca78431ec73</th>\n",
       "      <td>3</td>\n",
       "      <td>16.0</td>\n",
       "      <td>08_09_2019_run_01</td>\n",
       "    </tr>\n",
       "    <tr>\n",
       "      <th>e890024b-64cc-4d70-b5a0-5aad2d3fbf2f</th>\n",
       "      <td>15</td>\n",
       "      <td>19.0</td>\n",
       "      <td>08_09_2019_run_01</td>\n",
       "    </tr>\n",
       "    <tr>\n",
       "      <th>12d2add9-8d11-48dc-ae4b-3b9a94f81fc6</th>\n",
       "      <td>6</td>\n",
       "      <td>37.0</td>\n",
       "      <td>08_09_2019_run_01</td>\n",
       "    </tr>\n",
       "    <tr>\n",
       "      <th>...</th>\n",
       "      <td>...</td>\n",
       "      <td>...</td>\n",
       "      <td>...</td>\n",
       "    </tr>\n",
       "    <tr>\n",
       "      <th>8348aa5d-e084-4d3c-b1a2-9eb9ec1d4adf</th>\n",
       "      <td>60</td>\n",
       "      <td>19.0</td>\n",
       "      <td>08_16_2019_run_01</td>\n",
       "    </tr>\n",
       "    <tr>\n",
       "      <th>8ab20478-b295-4914-9684-b49a9cb4b805</th>\n",
       "      <td>55</td>\n",
       "      <td>23.0</td>\n",
       "      <td>08_16_2019_run_01</td>\n",
       "    </tr>\n",
       "    <tr>\n",
       "      <th>d38f4054-da97-4fd1-9486-62dbd32ac67e</th>\n",
       "      <td>51</td>\n",
       "      <td>15.0</td>\n",
       "      <td>08_16_2019_run_01</td>\n",
       "    </tr>\n",
       "    <tr>\n",
       "      <th>727fc7c6-c156-4922-9c92-d2e21457fc14</th>\n",
       "      <td>59</td>\n",
       "      <td>27.0</td>\n",
       "      <td>08_16_2019_run_01</td>\n",
       "    </tr>\n",
       "    <tr>\n",
       "      <th>b3e366c9-1de0-4ba0-8ee8-fe6ed1c5b037</th>\n",
       "      <td>62</td>\n",
       "      <td>17.0</td>\n",
       "      <td>08_16_2019_run_01</td>\n",
       "    </tr>\n",
       "  </tbody>\n",
       "</table>\n",
       "<p>1109979 rows × 3 columns</p>\n",
       "</div>"
      ],
      "text/plain": [
       "                                      molbit  sw_score           run_name\n",
       "read_id                                                                  \n",
       "b2d209b6-d6f1-404e-bc49-10d84f2cf15b       6      29.0  08_09_2019_run_01\n",
       "330695fa-aa55-4991-a9e0-42d825e5a5bb       8      22.0  08_09_2019_run_01\n",
       "41eb5730-f34f-4029-849e-9ca78431ec73       3      16.0  08_09_2019_run_01\n",
       "e890024b-64cc-4d70-b5a0-5aad2d3fbf2f      15      19.0  08_09_2019_run_01\n",
       "12d2add9-8d11-48dc-ae4b-3b9a94f81fc6       6      37.0  08_09_2019_run_01\n",
       "...                                      ...       ...                ...\n",
       "8348aa5d-e084-4d3c-b1a2-9eb9ec1d4adf      60      19.0  08_16_2019_run_01\n",
       "8ab20478-b295-4914-9684-b49a9cb4b805      55      23.0  08_16_2019_run_01\n",
       "d38f4054-da97-4fd1-9486-62dbd32ac67e      51      15.0  08_16_2019_run_01\n",
       "727fc7c6-c156-4922-9c92-d2e21457fc14      59      27.0  08_16_2019_run_01\n",
       "b3e366c9-1de0-4ba0-8ee8-fe6ed1c5b037      62      17.0  08_16_2019_run_01\n",
       "\n",
       "[1109979 rows x 3 columns]"
      ]
     },
     "execution_count": 8,
     "metadata": {},
     "output_type": "execute_result"
    }
   ],
   "source": [
    "train_sw"
   ]
  },
  {
   "cell_type": "markdown",
   "metadata": {},
   "source": [
    "# Import test sets"
   ]
  },
  {
   "cell_type": "code",
   "execution_count": 9,
   "metadata": {
    "ExecuteTime": {
     "end_time": "2020-03-12T02:53:36.414170Z",
     "start_time": "2020-03-12T02:53:36.394313Z"
    }
   },
   "outputs": [],
   "source": [
    "test_run_names = [\"08_28_2019_run_01\",\n",
    "                  \"08_30_2019_run_01\",]"
   ]
  },
  {
   "cell_type": "code",
   "execution_count": 10,
   "metadata": {
    "ExecuteTime": {
     "end_time": "2020-03-12T02:53:36.777926Z",
     "start_time": "2020-03-12T02:53:36.754720Z"
    }
   },
   "outputs": [],
   "source": [
    "test_runs = run_spreadsheet[run_spreadsheet[\"run_name\"].apply(lambda x: x in test_run_names)]"
   ]
  },
  {
   "cell_type": "code",
   "execution_count": 11,
   "metadata": {
    "ExecuteTime": {
     "end_time": "2020-03-12T02:53:38.097983Z",
     "start_time": "2020-03-12T02:53:37.191209Z"
    }
   },
   "outputs": [],
   "source": [
    "test_sw = []\n",
    "for i, run_data in test_runs.iterrows():\n",
    "    run_name = run_data[\"run_name\"]\n",
    "    label_file = run_data[\"filtered_sw_labels\"]\n",
    "    \n",
    "    sw = pd.read_csv(label_file, sep=\"\\t\", index_col=0)\n",
    "    sw[\"run_name\"] = run_name\n",
    "    test_sw.append(sw)\n",
    "test_sw = pd.concat(test_sw)"
   ]
  },
  {
   "cell_type": "markdown",
   "metadata": {},
   "source": [
    "# Compare relative read counts between train and test"
   ]
  },
  {
   "cell_type": "markdown",
   "metadata": {},
   "source": [
    "## Get counts for training data"
   ]
  },
  {
   "cell_type": "code",
   "execution_count": 12,
   "metadata": {
    "ExecuteTime": {
     "end_time": "2020-03-12T02:53:42.853024Z",
     "start_time": "2020-03-12T02:53:41.173667Z"
    },
    "scrolled": true
   },
   "outputs": [
    {
     "name": "stdout",
     "output_type": "stream",
     "text": [
      "0 0\n",
      "0 0\n",
      "1 16\n",
      "1 16\n",
      "2 32\n",
      "2 32\n",
      "3 48\n",
      "3 48\n",
      "4 64\n",
      "4 64\n",
      "5 80\n",
      "5 80\n"
     ]
    }
   ],
   "source": [
    "train_molbit_counts = []\n",
    "train_norms = []\n",
    "norm_train_molbit_counts = []\n",
    "train_bits = []\n",
    "for set_i, start_molbit in enumerate(range(0, 96, 16)):\n",
    "    run_data = dict(training_runs[training_runs[\"molbit_set\"] == set_i].iloc[0, :])\n",
    "    run_name = run_data[\"run_name\"]\n",
    "        \n",
    "    for half in [0, 1]:\n",
    "        if half == 0:\n",
    "            molbits_in_range = range(start_molbit, start_molbit+8)\n",
    "        else:\n",
    "            molbits_in_range = range(start_molbit+8, start_molbit+16)\n",
    "        print(set_i, start_molbit)\n",
    "\n",
    "        labels_from_run = train_sw[train_sw[\"run_name\"] == run_name]\n",
    "        filtered_labels_in_run = labels_from_run[labels_from_run[\"molbit\"].apply(lambda x: x in molbits_in_range)]\n",
    "        l, c = np.unique(filtered_labels_in_run[\"molbit\"], return_counts=True)\n",
    "        for l_, c_ in zip(l, c):\n",
    "            train_molbit_counts.append(c_)\n",
    "            norm_train_molbit_counts.append(c_ / sum(c))\n",
    "        train_norms.append(sum(c))\n",
    "        train_bits.append(molbits_in_range)"
   ]
  },
  {
   "cell_type": "code",
   "execution_count": 13,
   "metadata": {
    "ExecuteTime": {
     "end_time": "2020-03-12T02:53:44.206026Z",
     "start_time": "2020-03-12T02:53:42.855070Z"
    }
   },
   "outputs": [
    {
     "name": "stdout",
     "output_type": "stream",
     "text": [
      "0 0\n",
      "0 0\n",
      "1 16\n",
      "1 16\n",
      "2 32\n",
      "2 32\n",
      "3 48\n",
      "3 48\n",
      "4 64\n",
      "4 64\n",
      "5 80\n",
      "5 80\n"
     ]
    }
   ],
   "source": [
    "test_molbit_counts = []\n",
    "test_norms = []\n",
    "norm_test_molbit_counts = []\n",
    "test_bits = []\n",
    "for set_i, start_molbit in enumerate(range(0, 96, 16)):\n",
    "    for half in [0, 1]:\n",
    "        print(set_i, start_molbit)\n",
    "\n",
    "        if half == 0:\n",
    "            run_name = test_run_names[0]\n",
    "            molbits_in_range = range(start_molbit, start_molbit+8)\n",
    "        else:\n",
    "            run_name = test_run_names[1]\n",
    "            molbits_in_range = range(start_molbit+8, start_molbit+16)\n",
    "        test_sw_run = test_sw[test_sw[\"run_name\"] == run_name]\n",
    "        filtered_labels_in_run = test_sw_run[test_sw_run[\"molbit\"].apply(lambda x: x in molbits_in_range)]\n",
    "        l, c = np.unique(filtered_labels_in_run[\"molbit\"], return_counts=True)\n",
    "        for l_, c_ in zip(l, c):\n",
    "            test_molbit_counts.append(c_)\n",
    "            norm_test_molbit_counts.append(c_ / sum(c))\n",
    "        test_norms.append(sum(c))\n",
    "        test_bits.append(molbits_in_range)\n",
    "    "
   ]
  },
  {
   "cell_type": "code",
   "execution_count": 15,
   "metadata": {
    "ExecuteTime": {
     "end_time": "2020-03-12T02:53:49.105669Z",
     "start_time": "2020-03-12T02:53:48.612706Z"
    },
    "scrolled": false
   },
   "outputs": [
    {
     "name": "stdout",
     "output_type": "stream",
     "text": [
      "pearson r = 0.8359987523339527\n",
      "p = 3.089622551549538e-26\n"
     ]
    },
    {
     "data": {
      "image/png": "[encoded data removed]",
      "text/plain": [
       "<Figure size 410.4x338.4 with 1 Axes>"
      ]
     },
     "metadata": {},
     "output_type": "display_data"
    }
   ],
   "source": [
    "r, p = pearsonr(norm_train_molbit_counts, norm_test_molbit_counts)\n",
    "fig, ax = plt.subplots(figsize=(5.7, 4.7))\n",
    "plt.scatter(norm_train_molbit_counts, norm_test_molbit_counts)\n",
    "plt.plot([0, 0.6], [0, 0.6], c=\"k\", alpha=0.2)\n",
    "print(f\"pearson r = {r}\")\n",
    "print(f\"p = {p}\")\n",
    "plt.title(\"Read counts for train & test\\nnormalized within groups of 8 molbits\")\n",
    "plt.xlabel(\"Normalized read counts (train)\")\n",
    "plt.ylabel(\"Normalized read counts (test)\")\n",
    "plt.tight_layout()\n",
    "plt.savefig(\"../plots/read_counts_train_vs_test.svg\")"
   ]
  }
 ],
 "metadata": {
  "kernelspec": {
   "display_name": "Python 3",
   "language": "python",
   "name": "python3"
  },
  "language_info": {
   "codemirror_mode": {
    "name": "ipython",
    "version": 3
   },
   "file_extension": ".py",
   "mimetype": "text/x-python",
   "name": "python",
   "nbconvert_exporter": "python",
   "pygments_lexer": "ipython3",
   "version": "3.7.6"
  },
  "toc": {
   "base_numbering": 1,
   "nav_menu": {},
   "number_sections": true,
   "sideBar": true,
   "skip_h1_title": false,
   "title_cell": "Table of Contents",
   "title_sidebar": "Contents",
   "toc_cell": false,
   "toc_position": {},
   "toc_section_display": true,
   "toc_window_display": false
  }
 },
 "nbformat": 4,
 "nbformat_minor": 2
}
