{
 "cells": [
  {
   "cell_type": "code",
   "execution_count": 1,
   "metadata": {
    "ExecuteTime": {
     "end_time": "2019-09-06T20:40:02.880860Z",
     "start_time": "2019-09-06T20:40:02.761517Z"
    }
   },
   "outputs": [],
   "source": [
    "! export CUDA_LAUNCH_BLOCKING=1"
   ]
  },
  {
   "cell_type": "code",
   "execution_count": 2,
   "metadata": {
    "ExecuteTime": {
     "end_time": "2019-09-06T20:40:03.001602Z",
     "start_time": "2019-09-06T20:40:02.981964Z"
    }
   },
   "outputs": [],
   "source": [
    "%load_ext autoreload\n",
    "%autoreload 2"
   ]
  },
  {
   "cell_type": "code",
   "execution_count": 3,
   "metadata": {
    "ExecuteTime": {
     "end_time": "2019-09-06T20:40:04.369045Z",
     "start_time": "2019-09-06T20:40:03.207903Z"
    }
   },
   "outputs": [],
   "source": [
    "%matplotlib inline\n",
    "import seaborn as sns\n",
    "from matplotlib import pyplot as plt\n",
    "import torch\n",
    "import logging\n",
    "import os\n",
    "import re\n",
    "import h5py\n",
    "import numpy as np\n",
    "import pandas as pd\n",
    "import random\n",
    "from torch import nn\n",
    "import torchvision\n",
    "import torch.nn.functional as F\n",
    "from datetime import datetime\n",
    "\n",
    "from torch.utils.data import Dataset, DataLoader\n",
    "from torch.utils.data.sampler import SubsetRandomSampler\n",
    "\n",
    "logger = logging.getLogger(__name__)\n",
    "if logger.handlers:\n",
    "    logger.handlers = []\n",
    "logger.setLevel(logging.DEBUG)\n",
    "logger.addHandler(logging.StreamHandler())        "
   ]
  },
  {
   "cell_type": "code",
   "execution_count": 4,
   "metadata": {
    "ExecuteTime": {
     "end_time": "2019-09-06T20:40:04.397324Z",
     "start_time": "2019-09-06T20:40:04.371098Z"
    },
    "scrolled": true
   },
   "outputs": [
    {
     "data": {
      "text/plain": [
       "_CudaDeviceProperties(name='TITAN Xp', major=6, minor=1, total_memory=12196MB, multi_processor_count=30)"
      ]
     },
     "execution_count": 4,
     "metadata": {},
     "output_type": "execute_result"
    }
   ],
   "source": [
    "device = torch.device('cuda')\n",
    "torch.cuda.get_device_properties(0)"
   ]
  },
  {
   "cell_type": "code",
   "execution_count": 5,
   "metadata": {
    "ExecuteTime": {
     "end_time": "2019-09-06T20:40:04.416122Z",
     "start_time": "2019-09-06T20:40:04.399233Z"
    }
   },
   "outputs": [],
   "source": [
    "def seed_everything(seed=10):\n",
    "    random.seed(seed)\n",
    "    os.environ['PYTHONHASHSEED'] = str(seed)\n",
    "    np.random.seed(seed)\n",
    "    torch.manual_seed(seed)\n",
    "    torch.cuda.manual_seed(seed)\n",
    "    torch.backends.cudnn.deterministic = True\n",
    "seed_everything()"
   ]
  },
  {
   "cell_type": "code",
   "execution_count": 6,
   "metadata": {
    "ExecuteTime": {
     "end_time": "2019-09-06T20:40:04.432851Z",
     "start_time": "2019-09-06T20:40:04.418102Z"
    }
   },
   "outputs": [],
   "source": [
    "def median_smoothing(signal, width=3):\n",
    "    s = signal[:]\n",
    "    half_width = int(width/2)\n",
    "    for i in range(half_width, len(signal)):\n",
    "        s[i-half_width] = torch.median(signal[i-half_width:i+half_width])\n",
    "    return s"
   ]
  },
  {
   "cell_type": "markdown",
   "metadata": {},
   "source": [
    "# Extract data to predict from fast5s"
   ]
  },
  {
   "cell_type": "markdown",
   "metadata": {},
   "source": [
    "## Get run info"
   ]
  },
  {
   "cell_type": "code",
   "execution_count": 7,
   "metadata": {
    "ExecuteTime": {
     "end_time": "2019-09-06T20:40:06.028835Z",
     "start_time": "2019-09-06T20:40:05.006510Z"
    }
   },
   "outputs": [],
   "source": [
    "def import_gdrive_sheet(gdrive_key, sheet_id):\n",
    "    run_spreadsheet = pd.read_csv(\"https://docs.google.com/spreadsheet/ccc?key=\" + \\\n",
    "                                  gdrive_key + \"&output=csv&gid=\" + sheet_id)\n",
    "    if \"date\" in run_spreadsheet.columns:\n",
    "        run_spreadsheet[\"date\"] = run_spreadsheet[\"date\"].astype(str)\n",
    "    return run_spreadsheet\n",
    "\n",
    "gdrive_key = \"gdrive_key_here\"\n",
    "sheet_id = \"0\"\n",
    "set_sheet_id = \"512509543\"\n",
    "\n",
    "run_spreadsheet = import_gdrive_sheet(gdrive_key, sheet_id)\n",
    "set_spreadsheet = import_gdrive_sheet(gdrive_key, set_sheet_id)"
   ]
  },
  {
   "cell_type": "code",
   "execution_count": 8,
   "metadata": {
    "ExecuteTime": {
     "end_time": "2019-09-06T20:40:14.207289Z",
     "start_time": "2019-09-06T20:40:14.183756Z"
    }
   },
   "outputs": [],
   "source": [
    "run_name = \"08_09_2019_run_01\""
   ]
  },
  {
   "cell_type": "code",
   "execution_count": 9,
   "metadata": {
    "ExecuteTime": {
     "end_time": "2019-09-06T20:40:14.658746Z",
     "start_time": "2019-09-06T20:40:14.631678Z"
    }
   },
   "outputs": [],
   "source": [
    "run_data = dict(run_spreadsheet[run_spreadsheet[\"run_name\"] == run_name].iloc[0, :])"
   ]
  },
  {
   "cell_type": "code",
   "execution_count": 10,
   "metadata": {
    "ExecuteTime": {
     "end_time": "2019-09-06T20:40:14.997327Z",
     "start_time": "2019-09-06T20:40:14.918824Z"
    }
   },
   "outputs": [],
   "source": [
    "basecall_dir = run_data.get(\"basecall_dir\")\n",
    "try:\n",
    "    os.makedirs(os.path.join(basecall_dir, \"cnn\"))\n",
    "except:\n",
    "    pass"
   ]
  },
  {
   "cell_type": "code",
   "execution_count": 11,
   "metadata": {
    "ExecuteTime": {
     "end_time": "2019-09-06T20:40:15.139242Z",
     "start_time": "2019-09-06T20:40:15.111916Z"
    }
   },
   "outputs": [
    {
     "name": "stdout",
     "output_type": "stream",
     "text": [
      "/path/to/data/MinION_sequencing_data_20190809/guppy_3.2.2_08_09_19_run_01_exec_20190809/cnn/model_v4_0_1_all_reads_536cafc874cb995b6c8b47a5baabb9598eaded02.tsv \t /path/to/data/MinION_sequencing_data_20190809/guppy_3.2.2_08_09_19_run_01_exec_20190809/cnn/model_v4_0_1_labeled_reads_536cafc874cb995b6c8b47a5baabb9598eaded02.tsv \t /path/to/data/v4_test/08_09_2019_run_01_all.hdf5 \t /path/to/data/v4_test/08_09_2019_run_01_only_labeled.hdf5\n"
     ]
    }
   ],
   "source": [
    "label_file = list(run_spreadsheet[run_spreadsheet[\"run_name\"] == run_name][\"filtered_sw_labels\"])[0]\n",
    "molbit_all_data_file = f\"/path/to/data/v4_test/{run_name}_all.hdf5\"\n",
    "molbit_labeled_data_file = f\"/path/to/data/v4_test/{run_name}_only_labeled.hdf5\"\n",
    "\n",
    "cnn_label_file_all = os.path.join(basecall_dir, \"cnn\", \"model_v4_0_1_all_reads_\" + label_file.split(\"_\")[-1])\n",
    "cnn_label_file = os.path.join(basecall_dir, \"cnn\", \"model_v4_0_1_labeled_reads_\" + label_file.split(\"_\")[-1])\n",
    "\n",
    "print(cnn_label_file_all, \"\\t\", cnn_label_file, \"\\t\", molbit_all_data_file, \"\\t\", molbit_labeled_data_file)"
   ]
  },
  {
   "cell_type": "markdown",
   "metadata": {},
   "source": [
    "## Define functions for preprocessing data"
   ]
  },
  {
   "cell_type": "code",
   "execution_count": 12,
   "metadata": {
    "ExecuteTime": {
     "end_time": "2019-09-06T20:40:15.596872Z",
     "start_time": "2019-09-06T20:40:15.572024Z"
    },
    "code_folding": [
     0,
     18
    ]
   },
   "outputs": [],
   "source": [
    "def med_mad(data, factor=1.4826):\n",
    "    \"\"\"Modified from Mako.\n",
    "    Compute the Median Absolute Deviation, i.e., the median\n",
    "    of the absolute deviations from the median, and the median.\n",
    "\n",
    "    :param data: A :class:`ndarray` object\n",
    "    :param axis: For multidimensional arrays, which axis to calculate over \n",
    "\n",
    "    :returns: a tuple containing the median and MAD of the data\n",
    "\n",
    "    .. note :: the default `factor` scales the MAD for asymptotically normal\n",
    "        consistency as in R.\n",
    "\n",
    "    \"\"\"\n",
    "    dmed = torch.median(data)\n",
    "    dmad = factor * torch.median(torch.abs(data - dmed))\n",
    "    return dmed, dmad\n",
    "\n",
    "def _scale_data( data):\n",
    "    '''Modified from Mako.'''\n",
    "    med, mad = med_mad(data)\n",
    "    data = (data - med) / mad\n",
    "    return data"
   ]
  },
  {
   "cell_type": "code",
   "execution_count": 13,
   "metadata": {
    "ExecuteTime": {
     "end_time": "2019-09-06T20:40:15.906916Z",
     "start_time": "2019-09-06T20:40:15.878232Z"
    },
    "code_folding": [
     0,
     13,
     26
    ]
   },
   "outputs": [],
   "source": [
    "def get_signal_regions_less_than(signal, signal_threshold=180.):\n",
    "    signal_mask = np.where(signal <= signal_threshold, 1, 0)\n",
    "    signal_chg_pts = np.where(np.abs(np.diff(signal_mask)) == 1)[0]\n",
    "\n",
    "    if signal[0] <= signal_threshold:\n",
    "        signal_chg_pts = np.insert(signal_chg_pts, 0, 0)\n",
    "    if signal[-1] <= signal_threshold:\n",
    "        signal_chg_pts = np.append(signal_chg_pts, len(signal_mask))\n",
    "\n",
    "    signal_regions = list(zip(signal_chg_pts[::2], signal_chg_pts[1::2]))\n",
    "\n",
    "    return signal_regions\n",
    "\n",
    "def get_signal_regions_greater_than(signal, signal_threshold=180.):\n",
    "    signal_mask = np.where(signal >= signal_threshold, 1, 0)\n",
    "    signal_chg_pts = np.where(np.abs(np.diff(signal_mask)) == 1)[0]\n",
    "\n",
    "    if signal[0] >= signal_threshold:\n",
    "        signal_chg_pts = np.insert(signal_chg_pts, 0, 0)\n",
    "    if signal[-1] >= signal_threshold:\n",
    "        signal_chg_pts = np.append(signal_chg_pts, len(signal_mask))\n",
    "\n",
    "    signal_regions = list(zip(signal_chg_pts[::2], signal_chg_pts[1::2]))\n",
    "\n",
    "    return signal_regions\n",
    "\n",
    "def median_smoothing(signal, width=3):\n",
    "    s = signal[:]\n",
    "    half_width = int(width/2)\n",
    "    for i in range(half_width, len(signal)):\n",
    "        s[i-half_width] = torch.median(signal[i-half_width:i+half_width])\n",
    "    return s\n"
   ]
  },
  {
   "cell_type": "code",
   "execution_count": 14,
   "metadata": {
    "ExecuteTime": {
     "end_time": "2019-09-06T20:40:16.333433Z",
     "start_time": "2019-09-06T20:40:16.311065Z"
    },
    "code_folding": [
     0
    ]
   },
   "outputs": [],
   "source": [
    "def trim_start_heuristic(signal, thresh=2, offset=20):\n",
    "    try:\n",
    "        above = np.where(signal[offset:] > thresh)[0][0] + offset\n",
    "    except IndexError:\n",
    "        above = 0\n",
    "    return signal[above:]"
   ]
  },
  {
   "cell_type": "markdown",
   "metadata": {},
   "source": [
    "## Import fast5s"
   ]
  },
  {
   "cell_type": "markdown",
   "metadata": {},
   "source": [
    "### Get a list of fast5 files to import"
   ]
  },
  {
   "cell_type": "code",
   "execution_count": 15,
   "metadata": {
    "ExecuteTime": {
     "end_time": "2019-09-06T20:40:17.310303Z",
     "start_time": "2019-09-06T20:40:17.287034Z"
    }
   },
   "outputs": [],
   "source": [
    "fast5_root_dir = list(run_spreadsheet[run_spreadsheet[\"run_name\"] == run_name][\"raw_fast5_dir_multi\"])[0]\n",
    "fast5_dirs = [os.path.join(fast5_root_dir, x) for x in os.listdir(fast5_root_dir) if \"fast5\" in x]\n",
    "fast5_files = []\n",
    "for f5_dir in fast5_dirs:\n",
    "    fast5_files.extend([os.path.join(f5_dir, x) for x in os.listdir(f5_dir) if x.endswith(\"fast5\")])"
   ]
  },
  {
   "cell_type": "markdown",
   "metadata": {},
   "source": [
    "## Import, sorting by labeled vs. not"
   ]
  },
  {
   "cell_type": "code",
   "execution_count": 16,
   "metadata": {
    "ExecuteTime": {
     "end_time": "2019-09-06T20:51:45.953261Z",
     "start_time": "2019-09-06T20:40:17.899996Z"
    }
   },
   "outputs": [],
   "source": [
    "all_data = []\n",
    "all_fast5_read_ids = []\n",
    "\n",
    "labeled_data = []\n",
    "labeled_read_ids = []\n",
    "labels = []\n",
    "labels_in_order = []\n",
    "\n",
    "max_len = 3000\n",
    "\n",
    "sw = pd.read_csv(label_file, sep=\"\\t\", index_col=0)\n",
    "labels = np.array(sw[\"molbit\"])\n",
    "read_ids = list(sw.index)\n",
    "\n",
    "for f5_file in fast5_files:\n",
    "    with h5py.File(f5_file, \"r\") as f5:\n",
    "        for group in f5.get(\"/\").values():\n",
    "            read_id = re.findall(r'read_(.*)\" \\(', str(group))[0]\n",
    "            all_fast5_read_ids.append(read_id)\n",
    "            \n",
    "            raw = group.get(\"Raw/Signal\")[:15000]                    \n",
    "                    \n",
    "            x = torch.FloatTensor(list(raw))\n",
    "            x = _scale_data(x)\n",
    "            x = trim_start_heuristic(x)\n",
    "            x = x[:max_len]\n",
    "            y = torch.zeros(max_len)\n",
    "            y[:len(x)] = x\n",
    "            \n",
    "            all_data.append(y)\n",
    "            \n",
    "            if read_id in sw.index:  \n",
    "                i = read_ids.index(read_id)\n",
    "                \n",
    "                labeled_data.append(y)\n",
    "                labeled_read_ids.append(read_id)\n",
    "                labels_in_order.append(labels[i])"
   ]
  },
  {
   "cell_type": "code",
   "execution_count": 17,
   "metadata": {
    "ExecuteTime": {
     "end_time": "2019-09-06T20:51:48.742915Z",
     "start_time": "2019-09-06T20:51:45.956131Z"
    }
   },
   "outputs": [],
   "source": [
    "all_fast5_data = torch.stack(all_data)\n",
    "all_fast5_data = all_fast5_data.unsqueeze(1)"
   ]
  },
  {
   "cell_type": "code",
   "execution_count": 18,
   "metadata": {
    "ExecuteTime": {
     "end_time": "2019-09-06T20:51:50.390454Z",
     "start_time": "2019-09-06T20:51:48.745080Z"
    }
   },
   "outputs": [],
   "source": [
    "labeled_data = torch.stack(labeled_data)\n",
    "labeled_data = labeled_data.unsqueeze(1)"
   ]
  },
  {
   "cell_type": "code",
   "execution_count": 19,
   "metadata": {
    "ExecuteTime": {
     "end_time": "2019-09-06T20:51:54.218065Z",
     "start_time": "2019-09-06T20:51:50.392580Z"
    }
   },
   "outputs": [],
   "source": [
    "with h5py.File(molbit_all_data_file, \"w\", swmr=True) as f:\n",
    "    f.create_dataset(\"read_ids\", shape=(len(all_fast5_read_ids), ), data=np.array(all_fast5_read_ids, dtype=\"S\"))\n",
    "    f.create_dataset(\"data\", shape=all_fast5_data.shape, dtype=np.float, data=all_fast5_data)    "
   ]
  },
  {
   "cell_type": "code",
   "execution_count": 20,
   "metadata": {
    "ExecuteTime": {
     "end_time": "2019-09-06T20:51:56.753902Z",
     "start_time": "2019-09-06T20:51:54.220261Z"
    }
   },
   "outputs": [],
   "source": [
    "with h5py.File(molbit_labeled_data_file, \"w\", swmr=True) as f:\n",
    "    f.create_dataset(\"data\", shape=labeled_data.shape, dtype=np.float, data=labeled_data)\n",
    "    f.create_dataset(\"labels\", shape=(len(labels_in_order), ), dtype=int, data=labels_in_order)\n",
    "    f.create_dataset(\"read_ids\", shape=(len(labeled_read_ids), ), data=np.array(labeled_read_ids, dtype=\"S\"))"
   ]
  },
  {
   "cell_type": "markdown",
   "metadata": {},
   "source": [
    "## Load saved data"
   ]
  },
  {
   "cell_type": "code",
   "execution_count": 21,
   "metadata": {
    "ExecuteTime": {
     "end_time": "2019-09-06T20:52:00.907985Z",
     "start_time": "2019-09-06T20:51:56.755777Z"
    }
   },
   "outputs": [],
   "source": [
    "with h5py.File(molbit_all_data_file, \"r\") as f:\n",
    "    all_fast5_read_ids = f.get(\"read_ids\")[()]\n",
    "    all_fast5_data = f.get(\"data\")[()]"
   ]
  },
  {
   "cell_type": "code",
   "execution_count": 22,
   "metadata": {
    "ExecuteTime": {
     "end_time": "2019-09-06T20:52:03.791691Z",
     "start_time": "2019-09-06T20:52:00.909862Z"
    }
   },
   "outputs": [],
   "source": [
    "with h5py.File(molbit_labeled_data_file, \"r\") as f:\n",
    "    labeled_data = f.get(\"data\")[()]\n",
    "    labels_in_order = f.get(\"labels\")[()]\n",
    "    labeled_read_ids = f.get(\"read_ids\")[()]"
   ]
  },
  {
   "cell_type": "markdown",
   "metadata": {},
   "source": [
    "# Create a MolbitDataset from the extracted data"
   ]
  },
  {
   "cell_type": "code",
   "execution_count": 23,
   "metadata": {
    "ExecuteTime": {
     "end_time": "2019-09-06T20:52:04.429624Z",
     "start_time": "2019-09-06T20:52:03.793908Z"
    }
   },
   "outputs": [],
   "source": [
    "class MolbitDataset(Dataset):\n",
    "    def __init__(self, data_file, unknown_labels=False):\n",
    "        with h5py.File(data_file, \"r\") as f:\n",
    "            self.data = torch.FloatTensor(f.get(\"data\")[()])\n",
    "            self.n_records = self.data.shape[0]\n",
    "            self.max_len = self.data.shape[2]\n",
    "            try:\n",
    "                self.labels = torch.IntTensor(f.get(\"labels\")[()])\n",
    "                self.n_labels = len(np.unique(self.labels))\n",
    "            except:\n",
    "                self.labels = torch.IntTensor([-1 for _ in range(self.n_records)])\n",
    "                self.n_labels = 0\n",
    "\n",
    "        # Shuffle data\n",
    "        self.shuffle_index = np.random.choice(range(self.n_records), replace=False, size=self.n_records)\n",
    "        self.data = self.data[self.shuffle_index]       \n",
    "        self.labels = self.labels[self.shuffle_index]        \n",
    "        \n",
    "    def _get_onehot(self, label):\n",
    "        if self.labels is None:\n",
    "            return None\n",
    "        ix = self.labels.index(label)\n",
    "        onehot = torch.zeros(self.n_labels)\n",
    "        onehot[ix] = 1\n",
    "        return onehot\n",
    "    \n",
    "    def __len__(self):\n",
    "        return self.n_records\n",
    "        \n",
    "    def __getitem__(self, idx):\n",
    "        return self.data[idx, :, :], self.labels[idx]"
   ]
  },
  {
   "cell_type": "code",
   "execution_count": 24,
   "metadata": {
    "ExecuteTime": {
     "end_time": "2019-09-06T20:52:09.656788Z",
     "start_time": "2019-09-06T20:52:04.432090Z"
    }
   },
   "outputs": [],
   "source": [
    "md_all = MolbitDataset(molbit_all_data_file, unknown_labels=True)"
   ]
  },
  {
   "cell_type": "code",
   "execution_count": 25,
   "metadata": {
    "ExecuteTime": {
     "end_time": "2019-09-06T20:52:12.688902Z",
     "start_time": "2019-09-06T20:52:09.659695Z"
    }
   },
   "outputs": [],
   "source": [
    "md_labeled = MolbitDataset(molbit_labeled_data_file, unknown_labels=True)"
   ]
  },
  {
   "cell_type": "markdown",
   "metadata": {},
   "source": [
    "# Load saved model"
   ]
  },
  {
   "cell_type": "code",
   "execution_count": 26,
   "metadata": {
    "ExecuteTime": {
     "end_time": "2019-09-06T20:52:12.735032Z",
     "start_time": "2019-09-06T20:52:12.692212Z"
    },
    "code_folding": []
   },
   "outputs": [],
   "source": [
    "class CNN(nn.Module):\n",
    "\n",
    "    def __init__(self):\n",
    "\n",
    "        super(CNN, self).__init__()\n",
    "\n",
    "        O_1 = 64\n",
    "        O_2 = 128\n",
    "        O_3 = 256\n",
    "        O_4 = 512\n",
    "        O_5 = 1024\n",
    "\n",
    "        K_1 = 15\n",
    "        K_2 = 8\n",
    "        K_3 = 6\n",
    "        K_4 = 4\n",
    "        K_5 = 2\n",
    "\n",
    "        KP_1 = 6\n",
    "        KP_2 = 3\n",
    "        KP_3 = 2\n",
    "        KP_4 = 2\n",
    "        KP_5 = 1\n",
    "\n",
    "        FN_1 = 1000\n",
    "        FN_2 = 500\n",
    "\n",
    "        self.conv1 = nn.Sequential(nn.Conv1d(1, O_1, K_1, stride=1), nn.ReLU(),\n",
    "                                   nn.AvgPool1d(KP_1))\n",
    "        self.conv1_bn = nn.BatchNorm1d(O_1)\n",
    "\n",
    "        self.conv2 = nn.Sequential(nn.Conv1d(O_1, O_2, K_2), nn.ReLU(),\n",
    "                                   nn.AvgPool1d(KP_2))\n",
    "        self.conv2_bn = nn.BatchNorm1d(O_2)\n",
    "\n",
    "        self.conv3 = nn.Sequential(nn.Conv1d(O_2, O_3, K_3), nn.ReLU(),\n",
    "                                   nn.AvgPool1d(KP_3))\n",
    "        self.conv3_bn = nn.BatchNorm1d(O_3)\n",
    "\n",
    "        self.conv4 = nn.Sequential(nn.Conv1d(O_3, O_4, K_4), nn.ReLU(),\n",
    "                                   nn.AvgPool1d(KP_4))\n",
    "        self.conv4_bn = nn.BatchNorm1d(O_4)\n",
    "\n",
    "        self.conv5 = nn.Sequential(nn.Conv1d(O_4, O_5, K_5), nn.ReLU(),\n",
    "                                   nn.AvgPool1d(KP_5))\n",
    "        self.conv5_bn = nn.BatchNorm1d(O_5)\n",
    "\n",
    "        self.gru1 = nn.GRU(input_size=92160, hidden_size=10, num_layers=1)\n",
    "\n",
    "        self.fc1 = nn.Linear(37888, FN_1, nn.Dropout(0.5)) # 37888 20480 28672 9216\n",
    "        self.fc1_bn = nn.BatchNorm1d(FN_1)\n",
    "\n",
    "        self.fc2 = nn.Linear(FN_1, FN_2, nn.Dropout(0.5))\n",
    "        self.fc2_bn = nn.BatchNorm1d(FN_2)\n",
    "\n",
    "        self.fc3 = nn.Linear(FN_2, 96)\n",
    "\n",
    "    def forward(self, x):\n",
    "        x = x.float()\n",
    "#         print(\"a\", np.shape(x))\n",
    "        x = F.relu(self.conv1(x))\n",
    "        x = F.relu(self.conv1_bn(x))\n",
    "#         print(\"b\", np.shape(x))\n",
    "        x = F.relu(self.conv2(x))\n",
    "        x = F.relu(self.conv2_bn(x))\n",
    "#         print(\"c\", np.shape(x))\n",
    "        x = F.relu(self.conv3(x))\n",
    "        x = F.relu(self.conv3_bn(x))\n",
    "#         print(\"d\", np.shape(x))\n",
    "        x = F.leaky_relu(self.conv4(x))\n",
    "        x = F.relu(self.conv4_bn(x))\n",
    "        x = F.leaky_relu(self.conv5(x))\n",
    "        x = F.relu(self.conv5_bn(x))\n",
    "#         print(\"e\", np.shape(x))\n",
    "        x = x.view(len(x), -1)\n",
    "#         print(\"f\", np.shape(x))\n",
    "        x = F.relu(self.fc1(x))\n",
    "        x = F.relu(self.fc1_bn(x))\n",
    "        x = F.relu(self.fc2(x))\n",
    "        x = F.relu(self.fc2_bn(x))\n",
    "#         print(\"g\", np.shape(x))\n",
    "\n",
    "        x = self.fc3(x)\n",
    "#         print(\"h\", np.shape(x))\n",
    "        return x\n"
   ]
  },
  {
   "cell_type": "code",
   "execution_count": 27,
   "metadata": {
    "ExecuteTime": {
     "end_time": "2019-09-06T20:52:12.756716Z",
     "start_time": "2019-09-06T20:52:12.737434Z"
    }
   },
   "outputs": [],
   "source": [
    "model_file = \"saved_models/molbit_classification_v4_0_1.20190827.pt\""
   ]
  },
  {
   "cell_type": "code",
   "execution_count": 28,
   "metadata": {
    "ExecuteTime": {
     "end_time": "2019-09-06T20:52:16.866499Z",
     "start_time": "2019-09-06T20:52:12.759143Z"
    }
   },
   "outputs": [
    {
     "data": {
      "text/plain": [
       "CNN(\n",
       "  (conv1): Sequential(\n",
       "    (0): Conv1d(1, 64, kernel_size=(15,), stride=(1,))\n",
       "    (1): ReLU()\n",
       "    (2): AvgPool1d(kernel_size=(6,), stride=(6,), padding=(0,))\n",
       "  )\n",
       "  (conv1_bn): BatchNorm1d(64, eps=1e-05, momentum=0.1, affine=True, track_running_stats=True)\n",
       "  (conv2): Sequential(\n",
       "    (0): Conv1d(64, 128, kernel_size=(8,), stride=(1,))\n",
       "    (1): ReLU()\n",
       "    (2): AvgPool1d(kernel_size=(3,), stride=(3,), padding=(0,))\n",
       "  )\n",
       "  (conv2_bn): BatchNorm1d(128, eps=1e-05, momentum=0.1, affine=True, track_running_stats=True)\n",
       "  (conv3): Sequential(\n",
       "    (0): Conv1d(128, 256, kernel_size=(6,), stride=(1,))\n",
       "    (1): ReLU()\n",
       "    (2): AvgPool1d(kernel_size=(2,), stride=(2,), padding=(0,))\n",
       "  )\n",
       "  (conv3_bn): BatchNorm1d(256, eps=1e-05, momentum=0.1, affine=True, track_running_stats=True)\n",
       "  (conv4): Sequential(\n",
       "    (0): Conv1d(256, 512, kernel_size=(4,), stride=(1,))\n",
       "    (1): ReLU()\n",
       "    (2): AvgPool1d(kernel_size=(2,), stride=(2,), padding=(0,))\n",
       "  )\n",
       "  (conv4_bn): BatchNorm1d(512, eps=1e-05, momentum=0.1, affine=True, track_running_stats=True)\n",
       "  (conv5): Sequential(\n",
       "    (0): Conv1d(512, 1024, kernel_size=(2,), stride=(1,))\n",
       "    (1): ReLU()\n",
       "    (2): AvgPool1d(kernel_size=(1,), stride=(1,), padding=(0,))\n",
       "  )\n",
       "  (conv5_bn): BatchNorm1d(1024, eps=1e-05, momentum=0.1, affine=True, track_running_stats=True)\n",
       "  (gru1): GRU(92160, 10)\n",
       "  (fc1): Linear(in_features=37888, out_features=1000, bias=True)\n",
       "  (fc1_bn): BatchNorm1d(1000, eps=1e-05, momentum=0.1, affine=True, track_running_stats=True)\n",
       "  (fc2): Linear(in_features=1000, out_features=500, bias=True)\n",
       "  (fc2_bn): BatchNorm1d(500, eps=1e-05, momentum=0.1, affine=True, track_running_stats=True)\n",
       "  (fc3): Linear(in_features=500, out_features=96, bias=True)\n",
       ")"
      ]
     },
     "execution_count": 28,
     "metadata": {},
     "output_type": "execute_result"
    }
   ],
   "source": [
    "model = CNN()\n",
    "model.load_state_dict(torch.load(model_file))\n",
    "model.cuda()\n",
    "model.eval()\n"
   ]
  },
  {
   "cell_type": "markdown",
   "metadata": {},
   "source": [
    "# Predict on all data"
   ]
  },
  {
   "cell_type": "code",
   "execution_count": 29,
   "metadata": {
    "ExecuteTime": {
     "end_time": "2019-09-06T20:52:16.886244Z",
     "start_time": "2019-09-06T20:52:16.868414Z"
    }
   },
   "outputs": [],
   "source": [
    "test_loader_params = {\"batch_size\": 500,\n",
    "          \"shuffle\": False,\n",
    "          \"num_workers\": 30}\n",
    "test_generator = DataLoader(md_all, **test_loader_params)"
   ]
  },
  {
   "cell_type": "code",
   "execution_count": 30,
   "metadata": {
    "ExecuteTime": {
     "end_time": "2019-09-06T20:52:48.295127Z",
     "start_time": "2019-09-06T20:52:16.888307Z"
    }
   },
   "outputs": [],
   "source": [
    "y_pred_all = []\n",
    "y_pred_score = []\n",
    "for i, (local_batch, local_labels) in enumerate(test_generator):\n",
    "    # Transfer to GPU\n",
    "    local_batch = local_batch.to(device)\n",
    "    y_pred = model(local_batch).to(dtype=torch.float64)\n",
    "    \n",
    "    softmax_score = torch.nn.functional.softmax(y_pred, dim=1)\n",
    "    pred_score, prediction = torch.max(softmax_score, dim=1)\n",
    "\n",
    "    y_pred_all.extend([int(x) if s > 0.9 else -1 for s, x in zip(pred_score.cpu(), prediction.cpu())])\n",
    "    y_pred_score.extend([float(x) for x in pred_score.cpu()])"
   ]
  },
  {
   "cell_type": "code",
   "execution_count": 31,
   "metadata": {
    "ExecuteTime": {
     "end_time": "2019-09-06T20:52:48.354773Z",
     "start_time": "2019-09-06T20:52:48.298772Z"
    }
   },
   "outputs": [
    {
     "data": {
      "text/plain": [
       "5793"
      ]
     },
     "execution_count": 31,
     "metadata": {},
     "output_type": "execute_result"
    }
   ],
   "source": [
    "len(np.where(np.array(y_pred_all) == -1)[0])"
   ]
  },
  {
   "cell_type": "code",
   "execution_count": 32,
   "metadata": {
    "ExecuteTime": {
     "end_time": "2019-09-06T20:52:48.375556Z",
     "start_time": "2019-09-06T20:52:48.356598Z"
    }
   },
   "outputs": [
    {
     "data": {
      "text/plain": [
       "209652"
      ]
     },
     "execution_count": 32,
     "metadata": {},
     "output_type": "execute_result"
    }
   ],
   "source": [
    "len(y_pred_all)"
   ]
  },
  {
   "cell_type": "markdown",
   "metadata": {},
   "source": [
    "## Save to tsv file"
   ]
  },
  {
   "cell_type": "code",
   "execution_count": 33,
   "metadata": {
    "ExecuteTime": {
     "end_time": "2019-09-06T20:52:48.603182Z",
     "start_time": "2019-09-06T20:52:48.377441Z"
    }
   },
   "outputs": [],
   "source": [
    "cnn_df = pd.DataFrame()\n",
    "cnn_df[\"read_id\"] = all_fast5_read_ids.astype(str)\n",
    "cnn_df[\"cnn_label\"] = y_pred_all\n",
    "cnn_df[\"cnn_score\"] = y_pred_score"
   ]
  },
  {
   "cell_type": "code",
   "execution_count": 34,
   "metadata": {
    "ExecuteTime": {
     "end_time": "2019-09-06T20:52:49.455788Z",
     "start_time": "2019-09-06T20:52:48.605253Z"
    }
   },
   "outputs": [],
   "source": [
    "cnn_df.to_csv(cnn_label_file_all, sep=\"\\t\", index=False)"
   ]
  },
  {
   "cell_type": "code",
   "execution_count": 35,
   "metadata": {
    "ExecuteTime": {
     "end_time": "2019-09-06T20:52:49.476888Z",
     "start_time": "2019-09-06T20:52:49.457805Z"
    }
   },
   "outputs": [
    {
     "data": {
      "text/plain": [
       "'/path/to/data/MinION_sequencing_data_20190809/guppy_3.2.2_08_09_19_run_01_exec_20190809/cnn/model_v4_0_1_all_reads_536cafc874cb995b6c8b47a5baabb9598eaded02.tsv'"
      ]
     },
     "execution_count": 35,
     "metadata": {},
     "output_type": "execute_result"
    }
   ],
   "source": [
    "cnn_label_file_all"
   ]
  },
  {
   "cell_type": "markdown",
   "metadata": {},
   "source": [
    "## Sum up read counts"
   ]
  },
  {
   "cell_type": "code",
   "execution_count": 36,
   "metadata": {
    "ExecuteTime": {
     "end_time": "2019-09-06T20:52:49.518347Z",
     "start_time": "2019-09-06T20:52:49.478761Z"
    }
   },
   "outputs": [
    {
     "name": "stdout",
     "output_type": "stream",
     "text": [
      "[(-1, 5793), (0, 3088), (1, 5071), (2, 12039), (3, 17046), (4, 4739), (5, 14055), (6, 25029), (7, 8141), (8, 9809), (9, 31412), (10, 1080), (11, 7130), (12, 25632), (13, 3791), (14, 7337), (15, 22124), (16, 110), (17, 123), (18, 20), (19, 575), (20, 135), (21, 255), (22, 51), (23, 30), (24, 23), (25, 29), (26, 91), (27, 64), (28, 164), (29, 21), (30, 36), (31, 56), (32, 508), (33, 15), (34, 8), (35, 6), (36, 106), (37, 34), (38, 52), (39, 23), (40, 110), (41, 57), (42, 72), (43, 96), (44, 28), (45, 31), (46, 60), (47, 73), (48, 8), (49, 63), (50, 183), (51, 75), (52, 7), (53, 142), (54, 47), (55, 3), (56, 30), (57, 22), (58, 11), (59, 95), (60, 41), (61, 123), (62, 89), (63, 135), (64, 5), (65, 156), (66, 86), (67, 9), (68, 31), (69, 67), (70, 5), (71, 17), (72, 26), (73, 191), (74, 41), (75, 83), (76, 26), (77, 16), (78, 58), (79, 54), (80, 20), (81, 44), (82, 87), (83, 241), (84, 10), (85, 97), (86, 160), (87, 61), (88, 81), (89, 210), (90, 12), (91, 7), (92, 28), (93, 211), (94, 29), (95, 31)]\n"
     ]
    }
   ],
   "source": [
    "l_all, c_all = np.unique(y_pred_all, return_counts=True)\n",
    "print(list(zip(l_all, c_all)))"
   ]
  },
  {
   "cell_type": "code",
   "execution_count": 37,
   "metadata": {
    "ExecuteTime": {
     "end_time": "2019-09-06T20:52:49.548996Z",
     "start_time": "2019-09-06T20:52:49.520669Z"
    },
    "code_folding": []
   },
   "outputs": [],
   "source": [
    "def plot_read_counts(labels, counts, labels_on_flowcell, labels_in_run,\n",
    "                     possible_labels=None, ax=None, vmax=None, title_note=None):\n",
    "    from matplotlib.patches import Patch\n",
    "    if vmax is None:\n",
    "        vmax = max(counts) + max(int(0.1 * max(counts)), 100)\n",
    "    if ax == None:\n",
    "        fig, ax = plt.subplots(figsize=(30, 8))\n",
    "    if possible_labels is None:\n",
    "        possible_labels = labels[:]\n",
    "    g = sns.barplot(x=labels, y=counts, order=possible_labels, ax=ax)\n",
    "    title = \"#/reads identified per barcode\"\n",
    "    if title_note is not None:\n",
    "        title += \"\\n(%s)\" % title_note\n",
    "    ax.set_title(title)\n",
    "    ax.set_xlabel(\"Barcode ID\")\n",
    "    ax.set_ylabel(\"Read counts\")\n",
    "    ax.set_ylim([0, vmax])\n",
    "    \n",
    "    prev_text_height = 0\n",
    "    for j, label in enumerate(possible_labels):\n",
    "        if label in labels:\n",
    "            count = counts[labels.index(label)]\n",
    "        else:\n",
    "            count = 0\n",
    "        if label == \"-1\":\n",
    "            continue\n",
    "        \n",
    "        if label in labels_in_run:\n",
    "            g.containers[0].get_children()[j].set_facecolor(\"tab:red\")\n",
    "            font_kwargs = {\"color\": \"tab:red\", \"weight\": \"bold\"} \n",
    "        elif label in labels_on_flowcell:\n",
    "            g.containers[0].get_children()[j].set_facecolor(\"tab:blue\")\n",
    "            font_kwargs = {\"color\": \"k\", \"weight\": \"bold\"}\n",
    "        else:\n",
    "            g.containers[0].get_children()[j].set_facecolor(\"k\")\n",
    "            font_kwargs = {\"color\": \"k\", \"weight\": \"normal\"}\n",
    "            \n",
    "        diff = prev_text_height - (count + 0.01 * vmax)\n",
    "        if count < 100:\n",
    "            text_height = count + .01 * vmax\n",
    "            ax.text(j, text_height, count, ha=\"center\", **font_kwargs)\n",
    "        elif diff < 0 and np.abs(diff) < vmax * .06:\n",
    "            text_height = np.max([prev_text_height + .035 * vmax, count + .01 * vmax])\n",
    "            ax.text(j, text_height, count, ha=\"center\", **font_kwargs)\n",
    "        elif np.abs(diff) < vmax * .05:\n",
    "            text_height = np.min([prev_text_height - .01 * vmax, count + .01 * vmax])\n",
    "            ax.text(j, text_height, count, ha=\"center\", **font_kwargs)\n",
    "        else:\n",
    "            text_height = count + .01 * vmax\n",
    "            ax.text(j, text_height, count, ha=\"center\", **font_kwargs)\n",
    "        prev_text_height = text_height\n",
    "        \n",
    "    legend_elements = [Patch(facecolor='k', edgecolor='k',\n",
    "                         label='never been run on this flowcell'),\n",
    "                       Patch(facecolor='tab:blue', edgecolor='tab:blue',\n",
    "                         label='prev run on flowcell'),\n",
    "                       Patch(facecolor='tab:red', edgecolor='tab:red',\n",
    "                         label='current run on flowcell')]\n",
    "    leg = ax.legend(handles=legend_elements)\n",
    "    t1, t2, t3 = leg.get_texts()\n",
    "    t2._fontproperties = t1._fontproperties.copy()\n",
    "    t3._fontproperties = t1._fontproperties.copy()\n",
    "    t2.set_weight('bold')\n",
    "    t3.set_weight('bold')\n",
    "    t3.set_color(\"tab:red\")\n",
    "    return ax"
   ]
  },
  {
   "cell_type": "code",
   "execution_count": 38,
   "metadata": {
    "ExecuteTime": {
     "end_time": "2019-09-06T20:52:49.571840Z",
     "start_time": "2019-09-06T20:52:49.551318Z"
    }
   },
   "outputs": [],
   "source": [
    "# Create set_N variables based on spreadsheet\n",
    "molbit_sets = {}\n",
    "for ix, row in set_spreadsheet.iterrows():\n",
    "    set_no = re.findall(r\"set ([\\d]+)\", row[\"set\"])[0]\n",
    "    molbits = row[\"molbits_in_set\"]\n",
    "    molbit_sets[set_no] = molbits.split(\", \")"
   ]
  },
  {
   "cell_type": "code",
   "execution_count": 39,
   "metadata": {
    "ExecuteTime": {
     "end_time": "2019-09-06T20:52:49.595552Z",
     "start_time": "2019-09-06T20:52:49.573968Z"
    }
   },
   "outputs": [],
   "source": [
    "run_data = dict(run_spreadsheet[run_spreadsheet[\"run_name\"] == run_name].iloc[0, :])\n",
    "molbit_set_in_run = str(run_data.get(\"molbit_set\"))\n",
    "molbit_sets_on_flowcell = run_data.get(\"prev_on_flowcell\")\n",
    "\n",
    "molbits_in_run = molbit_sets[molbit_set_in_run]\n",
    "molbits_on_flowcell = molbits_in_run[:]\n",
    "if molbit_sets_on_flowcell != \"none\":\n",
    "    molbit_sets_on_flowcell = molbit_sets_on_flowcell.split(\", \")\n",
    "    for m in molbit_sets_on_flowcell:\n",
    "        print(m)\n",
    "        print(molbit_sets[m])\n",
    "        molbits_on_flowcell.extend(molbit_sets[m])\n",
    "    print(molbits_on_flowcell)"
   ]
  },
  {
   "cell_type": "code",
   "execution_count": 40,
   "metadata": {
    "ExecuteTime": {
     "end_time": "2019-09-06T20:52:52.139601Z",
     "start_time": "2019-09-06T20:52:49.597664Z"
    },
    "scrolled": false
   },
   "outputs": [
    {
     "data": {
      "text/plain": [
       "<matplotlib.axes._subplots.AxesSubplot at 0x7efe457b4550>"
      ]
     },
     "execution_count": 40,
     "metadata": {},
     "output_type": "execute_result"
    },
    {
     "data": {
      "image/png": "[encoded data removed]",
      "text/plain": [
       "<Figure size 2160x576 with 1 Axes>"
      ]
     },
     "metadata": {},
     "output_type": "display_data"
    }
   ],
   "source": [
    "molbits = [str(x) for x in l_all]\n",
    "counts = list(c_all)\n",
    "on_flowcell = [str(x) for x in molbits_on_flowcell]\n",
    "in_run = [str(x) for x in molbits_in_run]\n",
    "poss_molbits = [str(x) for x in range(96)]\n",
    "plot_read_counts(molbits, counts,\n",
    "                 on_flowcell, in_run,\n",
    "                 possible_labels=poss_molbits,\n",
    "#                  vmax=800,\n",
    "                 title_note=f\"{run_name} test tag: predictions from all reads (model v4_0_1)\")"
   ]
  },
  {
   "cell_type": "markdown",
   "metadata": {},
   "source": [
    "# Predict on labeled data"
   ]
  },
  {
   "cell_type": "code",
   "execution_count": 41,
   "metadata": {
    "ExecuteTime": {
     "end_time": "2019-09-06T20:52:52.159663Z",
     "start_time": "2019-09-06T20:52:52.141581Z"
    }
   },
   "outputs": [],
   "source": [
    "test_loader_params = {\"batch_size\": 500,\n",
    "          \"shuffle\": False,\n",
    "          \"num_workers\": 30}\n",
    "test_generator = DataLoader(md_labeled, **test_loader_params)"
   ]
  },
  {
   "cell_type": "code",
   "execution_count": 42,
   "metadata": {
    "ExecuteTime": {
     "end_time": "2019-09-06T20:52:52.276301Z",
     "start_time": "2019-09-06T20:52:52.163197Z"
    }
   },
   "outputs": [],
   "source": [
    "torch.cuda.empty_cache()"
   ]
  },
  {
   "cell_type": "code",
   "execution_count": 43,
   "metadata": {
    "ExecuteTime": {
     "end_time": "2019-09-06T20:53:15.224694Z",
     "start_time": "2019-09-06T20:52:52.279037Z"
    }
   },
   "outputs": [],
   "source": [
    "y_pred_labeled = []\n",
    "y_true_labeled = []\n",
    "y_pred_score = []\n",
    "for i, (local_batch, local_labels) in enumerate(test_generator):\n",
    "    # Transfer to GPU\n",
    "    local_batch = local_batch.to(device)\n",
    "    local_labels = local_labels.to(device)\n",
    "    y_pred = model(local_batch).to(dtype=torch.float64)\n",
    "    local_labels = local_labels.to(dtype=torch.long)\n",
    "    \n",
    "    softmax_score = torch.nn.functional.softmax(y_pred, dim=1)\n",
    "    pred_score, prediction = torch.max(softmax_score, dim=1)\n",
    "\n",
    "    y_pred_labeled.extend([int(x) for x in prediction.cpu()])\n",
    "    y_true_labeled.extend([int(x) for x in local_labels.cpu()])\n",
    "    y_pred_score.extend([float(x) for x in pred_score.cpu()])"
   ]
  },
  {
   "cell_type": "code",
   "execution_count": 44,
   "metadata": {
    "ExecuteTime": {
     "end_time": "2019-09-06T20:53:15.416177Z",
     "start_time": "2019-09-06T20:53:15.227751Z"
    }
   },
   "outputs": [],
   "source": [
    "cnn_df_labeled = pd.DataFrame()\n",
    "cnn_df_labeled[\"read_id\"] = labeled_read_ids.astype(str)\n",
    "cnn_df_labeled[\"cnn_label\"] = y_pred_labeled\n",
    "cnn_df_labeled[\"cnn_score\"] = y_pred_score\n",
    "cnn_df_labeled[\"sw_label\"] = y_true_labeled"
   ]
  },
  {
   "cell_type": "code",
   "execution_count": 45,
   "metadata": {
    "ExecuteTime": {
     "end_time": "2019-09-06T20:53:16.100100Z",
     "start_time": "2019-09-06T20:53:15.418410Z"
    }
   },
   "outputs": [],
   "source": [
    "cnn_df_labeled.to_csv(cnn_label_file, sep=\"\\t\", index=False)"
   ]
  },
  {
   "cell_type": "code",
   "execution_count": 46,
   "metadata": {
    "ExecuteTime": {
     "end_time": "2019-09-06T20:53:16.121636Z",
     "start_time": "2019-09-06T20:53:16.102333Z"
    }
   },
   "outputs": [
    {
     "data": {
      "text/plain": [
       "'/path/to/data/MinION_sequencing_data_20190809/guppy_3.2.2_08_09_19_run_01_exec_20190809/cnn/model_v4_0_1_labeled_reads_536cafc874cb995b6c8b47a5baabb9598eaded02.tsv'"
      ]
     },
     "execution_count": 46,
     "metadata": {},
     "output_type": "execute_result"
    }
   ],
   "source": [
    "cnn_label_file"
   ]
  },
  {
   "cell_type": "markdown",
   "metadata": {},
   "source": [
    "# Evaluate error"
   ]
  },
  {
   "cell_type": "code",
   "execution_count": 47,
   "metadata": {
    "ExecuteTime": {
     "end_time": "2019-09-06T20:53:16.529610Z",
     "start_time": "2019-09-06T20:53:16.123887Z"
    }
   },
   "outputs": [],
   "source": [
    "from sklearn.metrics import confusion_matrix"
   ]
  },
  {
   "cell_type": "code",
   "execution_count": 48,
   "metadata": {
    "ExecuteTime": {
     "end_time": "2019-09-06T20:53:16.573181Z",
     "start_time": "2019-09-06T20:53:16.532230Z"
    }
   },
   "outputs": [
    {
     "data": {
      "text/plain": [
       "(134084, 136853)"
      ]
     },
     "execution_count": 48,
     "metadata": {},
     "output_type": "execute_result"
    }
   ],
   "source": [
    "np.sum([x == y for x, y in zip(y_true_labeled, y_pred_labeled)]), len(y_true_labeled)"
   ]
  },
  {
   "cell_type": "code",
   "execution_count": 49,
   "metadata": {
    "ExecuteTime": {
     "end_time": "2019-09-06T20:53:16.608809Z",
     "start_time": "2019-09-06T20:53:16.575121Z"
    }
   },
   "outputs": [
    {
     "data": {
      "text/plain": [
       "0.9797666108890561"
      ]
     },
     "execution_count": 49,
     "metadata": {},
     "output_type": "execute_result"
    }
   ],
   "source": [
    "1. * np.sum([x == y for x, y in zip(y_true_labeled, y_pred_labeled)]) / len(y_true_labeled)"
   ]
  },
  {
   "cell_type": "code",
   "execution_count": 50,
   "metadata": {
    "ExecuteTime": {
     "end_time": "2019-09-06T20:53:16.644024Z",
     "start_time": "2019-09-06T20:53:16.610900Z"
    }
   },
   "outputs": [],
   "source": [
    "l, c = np.unique(y_true_labeled, return_counts=True)"
   ]
  },
  {
   "cell_type": "code",
   "execution_count": 51,
   "metadata": {
    "ExecuteTime": {
     "end_time": "2019-09-06T20:53:16.667187Z",
     "start_time": "2019-09-06T20:53:16.646075Z"
    }
   },
   "outputs": [],
   "source": [
    "norm = []\n",
    "for molbit in range(96):\n",
    "    if molbit in l:\n",
    "        i = list(l).index(molbit)\n",
    "        norm.append(c[i])\n",
    "    else:\n",
    "        norm.append(1)\n",
    "norm = np.array(norm)"
   ]
  },
  {
   "cell_type": "code",
   "execution_count": 52,
   "metadata": {
    "ExecuteTime": {
     "end_time": "2019-09-06T20:53:16.858884Z",
     "start_time": "2019-09-06T20:53:16.669368Z"
    }
   },
   "outputs": [],
   "source": [
    "cm = confusion_matrix(y_true_labeled, y_pred_labeled, labels=range(96))"
   ]
  },
  {
   "cell_type": "code",
   "execution_count": 53,
   "metadata": {
    "ExecuteTime": {
     "end_time": "2019-09-06T20:53:18.164462Z",
     "start_time": "2019-09-06T20:53:16.861154Z"
    },
    "scrolled": false
   },
   "outputs": [
    {
     "data": {
      "text/plain": [
       "<matplotlib.axes._subplots.AxesSubplot at 0x7efe38917588>"
      ]
     },
     "execution_count": 53,
     "metadata": {},
     "output_type": "execute_result"
    },
    {
     "data": {
      "image/png": "[encoded data removed]",
      "text/plain": [
       "<Figure size 1152x864 with 2 Axes>"
      ]
     },
     "metadata": {},
     "output_type": "display_data"
    }
   ],
   "source": [
    "fig, ax = plt.subplots(figsize=(16, 12))\n",
    "sns.heatmap(cm / norm[:, np.newaxis], vmin=0, vmax=0.01)"
   ]
  },
  {
   "cell_type": "code",
   "execution_count": null,
   "metadata": {},
   "outputs": [],
   "source": []
  }
 ],
 "metadata": {
  "kernelspec": {
   "display_name": "Python 3",
   "language": "python",
   "name": "python3"
  },
  "language_info": {
   "codemirror_mode": {
    "name": "ipython",
    "version": 3
   },
   "file_extension": ".py",
   "mimetype": "text/x-python",
   "name": "python",
   "nbconvert_exporter": "python",
   "pygments_lexer": "ipython3",
   "version": "3.7.6"
  },
  "notify_time": "10",
  "toc": {
   "base_numbering": 1,
   "nav_menu": {},
   "number_sections": true,
   "sideBar": true,
   "skip_h1_title": false,
   "title_cell": "Table of Contents",
   "title_sidebar": "Contents",
   "toc_cell": false,
   "toc_position": {},
   "toc_section_display": true,
   "toc_window_display": false
  }
 },
 "nbformat": 4,
 "nbformat_minor": 2
}
