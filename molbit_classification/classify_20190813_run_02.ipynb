{
 "cells": [
  {
   "cell_type": "code",
   "execution_count": 1,
   "metadata": {
    "ExecuteTime": {
     "end_time": "2019-09-06T20:43:14.142589Z",
     "start_time": "2019-09-06T20:43:14.023585Z"
    }
   },
   "outputs": [],
   "source": [
    "! export CUDA_LAUNCH_BLOCKING=1"
   ]
  },
  {
   "cell_type": "code",
   "execution_count": 2,
   "metadata": {
    "ExecuteTime": {
     "end_time": "2019-09-06T20:43:14.195290Z",
     "start_time": "2019-09-06T20:43:14.175259Z"
    }
   },
   "outputs": [],
   "source": [
    "%load_ext autoreload\n",
    "%autoreload 2"
   ]
  },
  {
   "cell_type": "code",
   "execution_count": 3,
   "metadata": {
    "ExecuteTime": {
     "end_time": "2019-09-06T20:43:15.453664Z",
     "start_time": "2019-09-06T20:43:14.295693Z"
    }
   },
   "outputs": [],
   "source": [
    "%matplotlib inline\n",
    "import seaborn as sns\n",
    "from matplotlib import pyplot as plt\n",
    "import torch\n",
    "import logging\n",
    "import os\n",
    "import re\n",
    "import h5py\n",
    "import numpy as np\n",
    "import pandas as pd\n",
    "import random\n",
    "from torch import nn\n",
    "import torchvision\n",
    "import torch.nn.functional as F\n",
    "from datetime import datetime\n",
    "\n",
    "from torch.utils.data import Dataset, DataLoader\n",
    "from torch.utils.data.sampler import SubsetRandomSampler\n",
    "\n",
    "logger = logging.getLogger(__name__)\n",
    "if logger.handlers:\n",
    "    logger.handlers = []\n",
    "logger.setLevel(logging.DEBUG)\n",
    "logger.addHandler(logging.StreamHandler())        "
   ]
  },
  {
   "cell_type": "code",
   "execution_count": 4,
   "metadata": {
    "ExecuteTime": {
     "end_time": "2019-09-06T20:43:15.481724Z",
     "start_time": "2019-09-06T20:43:15.455776Z"
    },
    "scrolled": true
   },
   "outputs": [
    {
     "data": {
      "text/plain": [
       "_CudaDeviceProperties(name='TITAN Xp', major=6, minor=1, total_memory=12196MB, multi_processor_count=30)"
      ]
     },
     "execution_count": 4,
     "metadata": {},
     "output_type": "execute_result"
    }
   ],
   "source": [
    "device = torch.device('cuda')\n",
    "torch.cuda.get_device_properties(0)"
   ]
  },
  {
   "cell_type": "code",
   "execution_count": 5,
   "metadata": {
    "ExecuteTime": {
     "end_time": "2019-09-06T20:43:15.502545Z",
     "start_time": "2019-09-06T20:43:15.483491Z"
    }
   },
   "outputs": [],
   "source": [
    "def seed_everything(seed=10):\n",
    "    random.seed(seed)\n",
    "    os.environ['PYTHONHASHSEED'] = str(seed)\n",
    "    np.random.seed(seed)\n",
    "    torch.manual_seed(seed)\n",
    "    torch.cuda.manual_seed(seed)\n",
    "    torch.backends.cudnn.deterministic = True\n",
    "seed_everything()"
   ]
  },
  {
   "cell_type": "code",
   "execution_count": 6,
   "metadata": {
    "ExecuteTime": {
     "end_time": "2019-09-06T20:43:15.523608Z",
     "start_time": "2019-09-06T20:43:15.504672Z"
    }
   },
   "outputs": [],
   "source": [
    "def median_smoothing(signal, width=3):\n",
    "    s = signal[:]\n",
    "    half_width = int(width/2)\n",
    "    for i in range(half_width, len(signal)):\n",
    "        s[i-half_width] = torch.median(signal[i-half_width:i+half_width])\n",
    "    return s"
   ]
  },
  {
   "cell_type": "markdown",
   "metadata": {},
   "source": [
    "# Extract data to predict from fast5s"
   ]
  },
  {
   "cell_type": "markdown",
   "metadata": {},
   "source": [
    "## Get run info"
   ]
  },
  {
   "cell_type": "code",
   "execution_count": 7,
   "metadata": {
    "ExecuteTime": {
     "end_time": "2019-09-06T20:43:16.288591Z",
     "start_time": "2019-09-06T20:43:15.564808Z"
    }
   },
   "outputs": [],
   "source": [
    "def import_gdrive_sheet(gdrive_key, sheet_id):\n",
    "    run_spreadsheet = pd.read_csv(\"https://docs.google.com/spreadsheet/ccc?key=\" + \\\n",
    "                                  gdrive_key + \"&output=csv&gid=\" + sheet_id)\n",
    "    if \"date\" in run_spreadsheet.columns:\n",
    "        run_spreadsheet[\"date\"] = run_spreadsheet[\"date\"].astype(str)\n",
    "    return run_spreadsheet\n",
    "\n",
    "gdrive_key = \"gdrive_key_here\"\n",
    "sheet_id = \"0\"\n",
    "set_sheet_id = \"512509543\"\n",
    "\n",
    "run_spreadsheet = import_gdrive_sheet(gdrive_key, sheet_id)\n",
    "set_spreadsheet = import_gdrive_sheet(gdrive_key, set_sheet_id)"
   ]
  },
  {
   "cell_type": "code",
   "execution_count": 8,
   "metadata": {
    "ExecuteTime": {
     "end_time": "2019-09-06T20:43:20.885461Z",
     "start_time": "2019-09-06T20:43:20.863364Z"
    }
   },
   "outputs": [],
   "source": [
    "run_name = \"08_13_2019_run_02\""
   ]
  },
  {
   "cell_type": "code",
   "execution_count": 9,
   "metadata": {
    "ExecuteTime": {
     "end_time": "2019-09-06T20:43:22.114553Z",
     "start_time": "2019-09-06T20:43:22.085343Z"
    }
   },
   "outputs": [],
   "source": [
    "run_data = dict(run_spreadsheet[run_spreadsheet[\"run_name\"] == run_name].iloc[0, :])"
   ]
  },
  {
   "cell_type": "code",
   "execution_count": 10,
   "metadata": {
    "ExecuteTime": {
     "end_time": "2019-09-06T20:43:22.367255Z",
     "start_time": "2019-09-06T20:43:22.271406Z"
    }
   },
   "outputs": [],
   "source": [
    "basecall_dir = run_data.get(\"basecall_dir\")\n",
    "try:\n",
    "    os.makedirs(os.path.join(basecall_dir, \"cnn\"))\n",
    "except:\n",
    "    pass"
   ]
  },
  {
   "cell_type": "code",
   "execution_count": 11,
   "metadata": {
    "ExecuteTime": {
     "end_time": "2019-09-06T20:43:22.484192Z",
     "start_time": "2019-09-06T20:43:22.456156Z"
    }
   },
   "outputs": [
    {
     "name": "stdout",
     "output_type": "stream",
     "text": [
      "/path/to/data/MinION_sequencing_data_20190813/guppy_3.2.2_08_13_2019_run_02_exec_20190813/cnn/model_v4_0_1_all_reads_cbeb224beba4132d960067800238defaeed962bf.tsv \t /path/to/data/MinION_sequencing_data_20190813/guppy_3.2.2_08_13_2019_run_02_exec_20190813/cnn/model_v4_0_1_labeled_reads_cbeb224beba4132d960067800238defaeed962bf.tsv \t /path/to/data/v4_test/08_13_2019_run_02_all.hdf5 \t /path/to/data/v4_test/08_13_2019_run_02_only_labeled.hdf5\n"
     ]
    }
   ],
   "source": [
    "label_file = list(run_spreadsheet[run_spreadsheet[\"run_name\"] == run_name][\"filtered_sw_labels\"])[0]\n",
    "molbit_all_data_file = f\"/path/to/data/v4_test/{run_name}_all.hdf5\"\n",
    "molbit_labeled_data_file = f\"/path/to/data/v4_test/{run_name}_only_labeled.hdf5\"\n",
    "\n",
    "cnn_label_file_all = os.path.join(basecall_dir, \"cnn\", \"model_v4_0_1_all_reads_\" + label_file.split(\"_\")[-1])\n",
    "cnn_label_file = os.path.join(basecall_dir, \"cnn\", \"model_v4_0_1_labeled_reads_\" + label_file.split(\"_\")[-1])\n",
    "\n",
    "print(cnn_label_file_all, \"\\t\", cnn_label_file, \"\\t\", molbit_all_data_file, \"\\t\", molbit_labeled_data_file)"
   ]
  },
  {
   "cell_type": "markdown",
   "metadata": {},
   "source": [
    "## Define functions for preprocessing data"
   ]
  },
  {
   "cell_type": "code",
   "execution_count": 12,
   "metadata": {
    "ExecuteTime": {
     "end_time": "2019-09-06T20:43:22.928696Z",
     "start_time": "2019-09-06T20:43:22.905332Z"
    },
    "code_folding": [
     0,
     18
    ]
   },
   "outputs": [],
   "source": [
    "def med_mad(data, factor=1.4826):\n",
    "    \"\"\"Modified from Mako.\n",
    "    Compute the Median Absolute Deviation, i.e., the median\n",
    "    of the absolute deviations from the median, and the median.\n",
    "\n",
    "    :param data: A :class:`ndarray` object\n",
    "    :param axis: For multidimensional arrays, which axis to calculate over \n",
    "\n",
    "    :returns: a tuple containing the median and MAD of the data\n",
    "\n",
    "    .. note :: the default `factor` scales the MAD for asymptotically normal\n",
    "        consistency as in R.\n",
    "\n",
    "    \"\"\"\n",
    "    dmed = torch.median(data)\n",
    "    dmad = factor * torch.median(torch.abs(data - dmed))\n",
    "    return dmed, dmad\n",
    "\n",
    "def _scale_data( data):\n",
    "    '''Modified from Mako.'''\n",
    "    med, mad = med_mad(data)\n",
    "    data = (data - med) / mad\n",
    "    return data"
   ]
  },
  {
   "cell_type": "code",
   "execution_count": 13,
   "metadata": {
    "ExecuteTime": {
     "end_time": "2019-09-06T20:43:23.198664Z",
     "start_time": "2019-09-06T20:43:23.171494Z"
    },
    "code_folding": [
     0,
     13,
     26
    ]
   },
   "outputs": [],
   "source": [
    "def get_signal_regions_less_than(signal, signal_threshold=180.):\n",
    "    signal_mask = np.where(signal <= signal_threshold, 1, 0)\n",
    "    signal_chg_pts = np.where(np.abs(np.diff(signal_mask)) == 1)[0]\n",
    "\n",
    "    if signal[0] <= signal_threshold:\n",
    "        signal_chg_pts = np.insert(signal_chg_pts, 0, 0)\n",
    "    if signal[-1] <= signal_threshold:\n",
    "        signal_chg_pts = np.append(signal_chg_pts, len(signal_mask))\n",
    "\n",
    "    signal_regions = list(zip(signal_chg_pts[::2], signal_chg_pts[1::2]))\n",
    "\n",
    "    return signal_regions\n",
    "\n",
    "def get_signal_regions_greater_than(signal, signal_threshold=180.):\n",
    "    signal_mask = np.where(signal >= signal_threshold, 1, 0)\n",
    "    signal_chg_pts = np.where(np.abs(np.diff(signal_mask)) == 1)[0]\n",
    "\n",
    "    if signal[0] >= signal_threshold:\n",
    "        signal_chg_pts = np.insert(signal_chg_pts, 0, 0)\n",
    "    if signal[-1] >= signal_threshold:\n",
    "        signal_chg_pts = np.append(signal_chg_pts, len(signal_mask))\n",
    "\n",
    "    signal_regions = list(zip(signal_chg_pts[::2], signal_chg_pts[1::2]))\n",
    "\n",
    "    return signal_regions\n",
    "\n",
    "def median_smoothing(signal, width=3):\n",
    "    s = signal[:]\n",
    "    half_width = int(width/2)\n",
    "    for i in range(half_width, len(signal)):\n",
    "        s[i-half_width] = torch.median(signal[i-half_width:i+half_width])\n",
    "    return s\n"
   ]
  },
  {
   "cell_type": "code",
   "execution_count": 14,
   "metadata": {
    "ExecuteTime": {
     "end_time": "2019-09-06T20:43:23.490440Z",
     "start_time": "2019-09-06T20:43:23.467800Z"
    },
    "code_folding": [
     0
    ]
   },
   "outputs": [],
   "source": [
    "def trim_start_heuristic(signal, thresh=2, offset=20):\n",
    "    try:\n",
    "        above = np.where(signal[offset:] > thresh)[0][0] + offset\n",
    "    except IndexError:\n",
    "        above = 0\n",
    "    return signal[above:]"
   ]
  },
  {
   "cell_type": "markdown",
   "metadata": {},
   "source": [
    "## Import fast5s"
   ]
  },
  {
   "cell_type": "markdown",
   "metadata": {},
   "source": [
    "### Get a list of fast5 files to import"
   ]
  },
  {
   "cell_type": "code",
   "execution_count": 15,
   "metadata": {
    "ExecuteTime": {
     "end_time": "2019-09-06T20:43:24.270968Z",
     "start_time": "2019-09-06T20:43:24.243436Z"
    }
   },
   "outputs": [],
   "source": [
    "fast5_root_dir = list(run_spreadsheet[run_spreadsheet[\"run_name\"] == run_name][\"raw_fast5_dir_multi\"])[0]\n",
    "fast5_dirs = [os.path.join(fast5_root_dir, x) for x in os.listdir(fast5_root_dir) if \"fast5\" in x]\n",
    "fast5_files = []\n",
    "for f5_dir in fast5_dirs:\n",
    "    fast5_files.extend([os.path.join(f5_dir, x) for x in os.listdir(f5_dir) if x.endswith(\"fast5\")])"
   ]
  },
  {
   "cell_type": "markdown",
   "metadata": {},
   "source": [
    "## Import, sorting by labeled vs. not"
   ]
  },
  {
   "cell_type": "code",
   "execution_count": 16,
   "metadata": {
    "ExecuteTime": {
     "end_time": "2019-09-06T21:02:36.845489Z",
     "start_time": "2019-09-06T20:43:24.694144Z"
    }
   },
   "outputs": [],
   "source": [
    "all_data = []\n",
    "all_fast5_read_ids = []\n",
    "\n",
    "labeled_data = []\n",
    "labeled_read_ids = []\n",
    "labels = []\n",
    "labels_in_order = []\n",
    "\n",
    "max_len = 3000\n",
    "\n",
    "sw = pd.read_csv(label_file, sep=\"\\t\", index_col=0)\n",
    "labels = np.array(sw[\"molbit\"])\n",
    "read_ids = list(sw.index)\n",
    "\n",
    "for f5_file in fast5_files:\n",
    "    with h5py.File(f5_file, \"r\") as f5:\n",
    "        for group in f5.get(\"/\").values():\n",
    "            read_id = re.findall(r'read_(.*)\" \\(', str(group))[0]\n",
    "            all_fast5_read_ids.append(read_id)\n",
    "            \n",
    "            raw = group.get(\"Raw/Signal\")[:15000]                    \n",
    "                    \n",
    "            x = torch.FloatTensor(list(raw))\n",
    "            x = _scale_data(x)\n",
    "            x = trim_start_heuristic(x)\n",
    "            x = x[:max_len]\n",
    "            y = torch.zeros(max_len)\n",
    "            y[:len(x)] = x\n",
    "            \n",
    "            all_data.append(y)\n",
    "            \n",
    "            if read_id in sw.index:  \n",
    "                i = read_ids.index(read_id)\n",
    "                \n",
    "                labeled_data.append(y)\n",
    "                labeled_read_ids.append(read_id)\n",
    "                labels_in_order.append(labels[i])"
   ]
  },
  {
   "cell_type": "code",
   "execution_count": 17,
   "metadata": {
    "ExecuteTime": {
     "end_time": "2019-09-06T21:02:41.100649Z",
     "start_time": "2019-09-06T21:02:36.855590Z"
    }
   },
   "outputs": [],
   "source": [
    "all_fast5_data = torch.stack(all_data)\n",
    "all_fast5_data = all_fast5_data.unsqueeze(1)"
   ]
  },
  {
   "cell_type": "code",
   "execution_count": 18,
   "metadata": {
    "ExecuteTime": {
     "end_time": "2019-09-06T21:02:43.328336Z",
     "start_time": "2019-09-06T21:02:41.102680Z"
    }
   },
   "outputs": [],
   "source": [
    "labeled_data = torch.stack(labeled_data)\n",
    "labeled_data = labeled_data.unsqueeze(1)"
   ]
  },
  {
   "cell_type": "code",
   "execution_count": 19,
   "metadata": {
    "ExecuteTime": {
     "end_time": "2019-09-06T21:02:50.079750Z",
     "start_time": "2019-09-06T21:02:43.330764Z"
    }
   },
   "outputs": [],
   "source": [
    "with h5py.File(molbit_all_data_file, \"w\", swmr=True) as f:\n",
    "    f.create_dataset(\"read_ids\", shape=(len(all_fast5_read_ids), ), data=np.array(all_fast5_read_ids, dtype=\"S\"))\n",
    "    f.create_dataset(\"data\", shape=all_fast5_data.shape, dtype=np.float, data=all_fast5_data)    "
   ]
  },
  {
   "cell_type": "code",
   "execution_count": 20,
   "metadata": {
    "ExecuteTime": {
     "end_time": "2019-09-06T21:02:53.496599Z",
     "start_time": "2019-09-06T21:02:50.083213Z"
    }
   },
   "outputs": [],
   "source": [
    "with h5py.File(molbit_labeled_data_file, \"w\", swmr=True) as f:\n",
    "    f.create_dataset(\"data\", shape=labeled_data.shape, dtype=np.float, data=labeled_data)\n",
    "    f.create_dataset(\"labels\", shape=(len(labels_in_order), ), dtype=int, data=labels_in_order)\n",
    "    f.create_dataset(\"read_ids\", shape=(len(labeled_read_ids), ), data=np.array(labeled_read_ids, dtype=\"S\"))"
   ]
  },
  {
   "cell_type": "markdown",
   "metadata": {},
   "source": [
    "## Load saved data"
   ]
  },
  {
   "cell_type": "code",
   "execution_count": 21,
   "metadata": {
    "ExecuteTime": {
     "end_time": "2019-09-06T21:03:11.307276Z",
     "start_time": "2019-09-06T21:02:53.498608Z"
    }
   },
   "outputs": [],
   "source": [
    "with h5py.File(molbit_all_data_file, \"r\") as f:\n",
    "    all_fast5_read_ids = f.get(\"read_ids\")[()]\n",
    "    all_fast5_data = f.get(\"data\")[()]"
   ]
  },
  {
   "cell_type": "code",
   "execution_count": 22,
   "metadata": {
    "ExecuteTime": {
     "end_time": "2019-09-06T21:03:14.580766Z",
     "start_time": "2019-09-06T21:03:11.309240Z"
    }
   },
   "outputs": [],
   "source": [
    "with h5py.File(molbit_labeled_data_file, \"r\") as f:\n",
    "    labeled_data = f.get(\"data\")[()]\n",
    "    labels_in_order = f.get(\"labels\")[()]\n",
    "    labeled_read_ids = f.get(\"read_ids\")[()]"
   ]
  },
  {
   "cell_type": "markdown",
   "metadata": {},
   "source": [
    "# Create a MolbitDataset from the extracted data"
   ]
  },
  {
   "cell_type": "code",
   "execution_count": 23,
   "metadata": {
    "ExecuteTime": {
     "end_time": "2019-09-06T21:03:14.614745Z",
     "start_time": "2019-09-06T21:03:14.584250Z"
    }
   },
   "outputs": [],
   "source": [
    "class MolbitDataset(Dataset):\n",
    "    def __init__(self, data_file, unknown_labels=False):\n",
    "        with h5py.File(data_file, \"r\") as f:\n",
    "            self.data = torch.FloatTensor(f.get(\"data\")[()])\n",
    "            self.n_records = self.data.shape[0]\n",
    "            self.max_len = self.data.shape[2]\n",
    "            try:\n",
    "                self.labels = torch.IntTensor(f.get(\"labels\")[()])\n",
    "                self.n_labels = len(np.unique(self.labels))\n",
    "            except:\n",
    "                self.labels = torch.IntTensor([-1 for _ in range(self.n_records)])\n",
    "                self.n_labels = 0\n",
    "\n",
    "        # Shuffle data\n",
    "        self.shuffle_index = np.random.choice(range(self.n_records), replace=False, size=self.n_records)\n",
    "        self.data = self.data[self.shuffle_index]       \n",
    "        self.labels = self.labels[self.shuffle_index]        \n",
    "        \n",
    "    def _get_onehot(self, label):\n",
    "        if self.labels is None:\n",
    "            return None\n",
    "        ix = self.labels.index(label)\n",
    "        onehot = torch.zeros(self.n_labels)\n",
    "        onehot[ix] = 1\n",
    "        return onehot\n",
    "    \n",
    "    def __len__(self):\n",
    "        return self.n_records\n",
    "        \n",
    "    def __getitem__(self, idx):\n",
    "        return self.data[idx, :, :], self.labels[idx]"
   ]
  },
  {
   "cell_type": "code",
   "execution_count": 24,
   "metadata": {
    "ExecuteTime": {
     "end_time": "2019-09-06T21:03:21.878291Z",
     "start_time": "2019-09-06T21:03:14.617167Z"
    }
   },
   "outputs": [],
   "source": [
    "md_all = MolbitDataset(molbit_all_data_file, unknown_labels=True)"
   ]
  },
  {
   "cell_type": "code",
   "execution_count": 25,
   "metadata": {
    "ExecuteTime": {
     "end_time": "2019-09-06T21:03:27.009111Z",
     "start_time": "2019-09-06T21:03:21.880381Z"
    }
   },
   "outputs": [],
   "source": [
    "md_labeled = MolbitDataset(molbit_labeled_data_file, unknown_labels=True)"
   ]
  },
  {
   "cell_type": "markdown",
   "metadata": {},
   "source": [
    "# Load saved model"
   ]
  },
  {
   "cell_type": "code",
   "execution_count": 26,
   "metadata": {
    "ExecuteTime": {
     "end_time": "2019-09-06T21:03:27.047039Z",
     "start_time": "2019-09-06T21:03:27.011344Z"
    },
    "code_folding": []
   },
   "outputs": [],
   "source": [
    "class CNN(nn.Module):\n",
    "\n",
    "    def __init__(self):\n",
    "\n",
    "        super(CNN, self).__init__()\n",
    "\n",
    "        O_1 = 64\n",
    "        O_2 = 128\n",
    "        O_3 = 256\n",
    "        O_4 = 512\n",
    "        O_5 = 1024\n",
    "\n",
    "        K_1 = 15\n",
    "        K_2 = 8\n",
    "        K_3 = 6\n",
    "        K_4 = 4\n",
    "        K_5 = 2\n",
    "\n",
    "        KP_1 = 6\n",
    "        KP_2 = 3\n",
    "        KP_3 = 2\n",
    "        KP_4 = 2\n",
    "        KP_5 = 1\n",
    "\n",
    "        FN_1 = 1000\n",
    "        FN_2 = 500\n",
    "\n",
    "        self.conv1 = nn.Sequential(nn.Conv1d(1, O_1, K_1, stride=1), nn.ReLU(),\n",
    "                                   nn.AvgPool1d(KP_1))\n",
    "        self.conv1_bn = nn.BatchNorm1d(O_1)\n",
    "\n",
    "        self.conv2 = nn.Sequential(nn.Conv1d(O_1, O_2, K_2), nn.ReLU(),\n",
    "                                   nn.AvgPool1d(KP_2))\n",
    "        self.conv2_bn = nn.BatchNorm1d(O_2)\n",
    "\n",
    "        self.conv3 = nn.Sequential(nn.Conv1d(O_2, O_3, K_3), nn.ReLU(),\n",
    "                                   nn.AvgPool1d(KP_3))\n",
    "        self.conv3_bn = nn.BatchNorm1d(O_3)\n",
    "\n",
    "        self.conv4 = nn.Sequential(nn.Conv1d(O_3, O_4, K_4), nn.ReLU(),\n",
    "                                   nn.AvgPool1d(KP_4))\n",
    "        self.conv4_bn = nn.BatchNorm1d(O_4)\n",
    "\n",
    "        self.conv5 = nn.Sequential(nn.Conv1d(O_4, O_5, K_5), nn.ReLU(),\n",
    "                                   nn.AvgPool1d(KP_5))\n",
    "        self.conv5_bn = nn.BatchNorm1d(O_5)\n",
    "\n",
    "        self.gru1 = nn.GRU(input_size=92160, hidden_size=10, num_layers=1)\n",
    "\n",
    "        self.fc1 = nn.Linear(37888, FN_1, nn.Dropout(0.5)) # 37888 20480 28672 9216\n",
    "        self.fc1_bn = nn.BatchNorm1d(FN_1)\n",
    "\n",
    "        self.fc2 = nn.Linear(FN_1, FN_2, nn.Dropout(0.5))\n",
    "        self.fc2_bn = nn.BatchNorm1d(FN_2)\n",
    "\n",
    "        self.fc3 = nn.Linear(FN_2, 96)\n",
    "\n",
    "    def forward(self, x):\n",
    "        x = x.float()\n",
    "#         print(\"a\", np.shape(x))\n",
    "        x = F.relu(self.conv1(x))\n",
    "        x = F.relu(self.conv1_bn(x))\n",
    "#         print(\"b\", np.shape(x))\n",
    "        x = F.relu(self.conv2(x))\n",
    "        x = F.relu(self.conv2_bn(x))\n",
    "#         print(\"c\", np.shape(x))\n",
    "        x = F.relu(self.conv3(x))\n",
    "        x = F.relu(self.conv3_bn(x))\n",
    "#         print(\"d\", np.shape(x))\n",
    "        x = F.leaky_relu(self.conv4(x))\n",
    "        x = F.relu(self.conv4_bn(x))\n",
    "        x = F.leaky_relu(self.conv5(x))\n",
    "        x = F.relu(self.conv5_bn(x))\n",
    "#         print(\"e\", np.shape(x))\n",
    "        x = x.view(len(x), -1)\n",
    "#         print(\"f\", np.shape(x))\n",
    "        x = F.relu(self.fc1(x))\n",
    "        x = F.relu(self.fc1_bn(x))\n",
    "        x = F.relu(self.fc2(x))\n",
    "        x = F.relu(self.fc2_bn(x))\n",
    "#         print(\"g\", np.shape(x))\n",
    "\n",
    "        x = self.fc3(x)\n",
    "#         print(\"h\", np.shape(x))\n",
    "        return x\n"
   ]
  },
  {
   "cell_type": "code",
   "execution_count": 27,
   "metadata": {
    "ExecuteTime": {
     "end_time": "2019-09-06T21:03:27.066518Z",
     "start_time": "2019-09-06T21:03:27.049358Z"
    }
   },
   "outputs": [],
   "source": [
    "model_file = \"saved_models/molbit_classification_v4_0_1.20190827.pt\""
   ]
  },
  {
   "cell_type": "code",
   "execution_count": 29,
   "metadata": {
    "ExecuteTime": {
     "end_time": "2019-09-06T21:05:41.176580Z",
     "start_time": "2019-09-06T21:05:37.125713Z"
    }
   },
   "outputs": [
    {
     "data": {
      "text/plain": [
       "CNN(\n",
       "  (conv1): Sequential(\n",
       "    (0): Conv1d(1, 64, kernel_size=(15,), stride=(1,))\n",
       "    (1): ReLU()\n",
       "    (2): AvgPool1d(kernel_size=(6,), stride=(6,), padding=(0,))\n",
       "  )\n",
       "  (conv1_bn): BatchNorm1d(64, eps=1e-05, momentum=0.1, affine=True, track_running_stats=True)\n",
       "  (conv2): Sequential(\n",
       "    (0): Conv1d(64, 128, kernel_size=(8,), stride=(1,))\n",
       "    (1): ReLU()\n",
       "    (2): AvgPool1d(kernel_size=(3,), stride=(3,), padding=(0,))\n",
       "  )\n",
       "  (conv2_bn): BatchNorm1d(128, eps=1e-05, momentum=0.1, affine=True, track_running_stats=True)\n",
       "  (conv3): Sequential(\n",
       "    (0): Conv1d(128, 256, kernel_size=(6,), stride=(1,))\n",
       "    (1): ReLU()\n",
       "    (2): AvgPool1d(kernel_size=(2,), stride=(2,), padding=(0,))\n",
       "  )\n",
       "  (conv3_bn): BatchNorm1d(256, eps=1e-05, momentum=0.1, affine=True, track_running_stats=True)\n",
       "  (conv4): Sequential(\n",
       "    (0): Conv1d(256, 512, kernel_size=(4,), stride=(1,))\n",
       "    (1): ReLU()\n",
       "    (2): AvgPool1d(kernel_size=(2,), stride=(2,), padding=(0,))\n",
       "  )\n",
       "  (conv4_bn): BatchNorm1d(512, eps=1e-05, momentum=0.1, affine=True, track_running_stats=True)\n",
       "  (conv5): Sequential(\n",
       "    (0): Conv1d(512, 1024, kernel_size=(2,), stride=(1,))\n",
       "    (1): ReLU()\n",
       "    (2): AvgPool1d(kernel_size=(1,), stride=(1,), padding=(0,))\n",
       "  )\n",
       "  (conv5_bn): BatchNorm1d(1024, eps=1e-05, momentum=0.1, affine=True, track_running_stats=True)\n",
       "  (gru1): GRU(92160, 10)\n",
       "  (fc1): Linear(in_features=37888, out_features=1000, bias=True)\n",
       "  (fc1_bn): BatchNorm1d(1000, eps=1e-05, momentum=0.1, affine=True, track_running_stats=True)\n",
       "  (fc2): Linear(in_features=1000, out_features=500, bias=True)\n",
       "  (fc2_bn): BatchNorm1d(500, eps=1e-05, momentum=0.1, affine=True, track_running_stats=True)\n",
       "  (fc3): Linear(in_features=500, out_features=96, bias=True)\n",
       ")"
      ]
     },
     "execution_count": 29,
     "metadata": {},
     "output_type": "execute_result"
    }
   ],
   "source": [
    "model = CNN()\n",
    "model.load_state_dict(torch.load(model_file))\n",
    "model.cuda()\n",
    "model.eval()\n"
   ]
  },
  {
   "cell_type": "markdown",
   "metadata": {},
   "source": [
    "# Predict on all data"
   ]
  },
  {
   "cell_type": "code",
   "execution_count": 30,
   "metadata": {
    "ExecuteTime": {
     "end_time": "2019-09-06T21:05:49.219816Z",
     "start_time": "2019-09-06T21:05:49.196406Z"
    }
   },
   "outputs": [],
   "source": [
    "test_loader_params = {\"batch_size\": 100,\n",
    "          \"shuffle\": False,\n",
    "          \"num_workers\": 30}\n",
    "test_generator = DataLoader(md_all, **test_loader_params)"
   ]
  },
  {
   "cell_type": "code",
   "execution_count": 31,
   "metadata": {
    "ExecuteTime": {
     "end_time": "2019-09-06T21:06:54.309058Z",
     "start_time": "2019-09-06T21:05:49.775153Z"
    }
   },
   "outputs": [],
   "source": [
    "y_pred_all = []\n",
    "y_pred_score = []\n",
    "for i, (local_batch, local_labels) in enumerate(test_generator):\n",
    "    # Transfer to GPU\n",
    "    local_batch = local_batch.to(device)\n",
    "    y_pred = model(local_batch).to(dtype=torch.float64)\n",
    "    \n",
    "    softmax_score = torch.nn.functional.softmax(y_pred, dim=1)\n",
    "    pred_score, prediction = torch.max(softmax_score, dim=1)\n",
    "\n",
    "    y_pred_all.extend([int(x) if s > 0.9 else -1 for s, x in zip(pred_score.cpu(), prediction.cpu())])\n",
    "    y_pred_score.extend([float(x) for x in pred_score.cpu()])"
   ]
  },
  {
   "cell_type": "code",
   "execution_count": 32,
   "metadata": {
    "ExecuteTime": {
     "end_time": "2019-09-06T21:06:54.352615Z",
     "start_time": "2019-09-06T21:06:54.311318Z"
    }
   },
   "outputs": [
    {
     "data": {
      "text/plain": [
       "7749"
      ]
     },
     "execution_count": 32,
     "metadata": {},
     "output_type": "execute_result"
    }
   ],
   "source": [
    "len(np.where(np.array(y_pred_all) == -1)[0])"
   ]
  },
  {
   "cell_type": "code",
   "execution_count": 33,
   "metadata": {
    "ExecuteTime": {
     "end_time": "2019-09-06T21:06:54.372559Z",
     "start_time": "2019-09-06T21:06:54.354580Z"
    }
   },
   "outputs": [
    {
     "data": {
      "text/plain": [
       "304228"
      ]
     },
     "execution_count": 33,
     "metadata": {},
     "output_type": "execute_result"
    }
   ],
   "source": [
    "len(y_pred_all)"
   ]
  },
  {
   "cell_type": "markdown",
   "metadata": {},
   "source": [
    "## Save to tsv file"
   ]
  },
  {
   "cell_type": "code",
   "execution_count": 34,
   "metadata": {
    "ExecuteTime": {
     "end_time": "2019-09-06T21:06:54.674238Z",
     "start_time": "2019-09-06T21:06:54.374653Z"
    }
   },
   "outputs": [],
   "source": [
    "cnn_df = pd.DataFrame()\n",
    "cnn_df[\"read_id\"] = all_fast5_read_ids.astype(str)\n",
    "cnn_df[\"cnn_label\"] = y_pred_all\n",
    "cnn_df[\"cnn_score\"] = y_pred_score"
   ]
  },
  {
   "cell_type": "code",
   "execution_count": 35,
   "metadata": {
    "ExecuteTime": {
     "end_time": "2019-09-06T21:06:55.873488Z",
     "start_time": "2019-09-06T21:06:54.676152Z"
    }
   },
   "outputs": [],
   "source": [
    "cnn_df.to_csv(cnn_label_file_all, sep=\"\\t\", index=False)"
   ]
  },
  {
   "cell_type": "code",
   "execution_count": 36,
   "metadata": {
    "ExecuteTime": {
     "end_time": "2019-09-06T21:06:55.893905Z",
     "start_time": "2019-09-06T21:06:55.875592Z"
    }
   },
   "outputs": [
    {
     "data": {
      "text/plain": [
       "'/path/to/data/MinION_sequencing_data_20190813/guppy_3.2.2_08_13_2019_run_02_exec_20190813/cnn/model_v4_0_1_all_reads_cbeb224beba4132d960067800238defaeed962bf.tsv'"
      ]
     },
     "execution_count": 36,
     "metadata": {},
     "output_type": "execute_result"
    }
   ],
   "source": [
    "cnn_label_file_all"
   ]
  },
  {
   "cell_type": "markdown",
   "metadata": {},
   "source": [
    "## Sum up read counts"
   ]
  },
  {
   "cell_type": "code",
   "execution_count": 37,
   "metadata": {
    "ExecuteTime": {
     "end_time": "2019-09-06T21:06:55.943276Z",
     "start_time": "2019-09-06T21:06:55.895996Z"
    }
   },
   "outputs": [
    {
     "name": "stdout",
     "output_type": "stream",
     "text": [
      "[(-1, 7749), (0, 216), (1, 339), (2, 246), (3, 1143), (4, 223), (5, 293), (6, 303), (7, 198), (8, 370), (9, 270), (10, 28), (11, 295), (12, 401), (13, 135), (14, 152), (15, 441), (16, 33191), (17, 11805), (18, 14987), (19, 34643), (20, 23408), (21, 12637), (22, 10132), (23, 3222), (24, 5146), (25, 15524), (26, 21718), (27, 17750), (28, 7119), (29, 19059), (30, 33071), (31, 21291), (32, 777), (33, 44), (34, 38), (35, 18), (36, 126), (37, 80), (38, 47), (39, 77), (40, 96), (41, 49), (42, 269), (43, 139), (44, 77), (45, 103), (46, 201), (47, 85), (48, 35), (49, 148), (50, 357), (51, 88), (52, 33), (53, 195), (54, 51), (55, 7), (56, 38), (57, 55), (58, 56), (59, 62), (60, 39), (61, 186), (62, 47), (63, 189), (64, 10), (65, 71), (66, 77), (67, 23), (68, 21), (69, 137), (70, 6), (71, 49), (72, 39), (73, 484), (74, 26), (75, 115), (76, 25), (77, 28), (78, 170), (79, 79), (80, 30), (81, 44), (82, 120), (83, 318), (84, 20), (85, 54), (86, 204), (87, 151), (88, 55), (89, 168), (90, 43), (91, 7), (92, 87), (93, 208), (94, 23), (95, 19)]\n"
     ]
    }
   ],
   "source": [
    "l_all, c_all = np.unique(y_pred_all, return_counts=True)\n",
    "print(list(zip(l_all, c_all)))"
   ]
  },
  {
   "cell_type": "code",
   "execution_count": 38,
   "metadata": {
    "ExecuteTime": {
     "end_time": "2019-09-06T21:06:55.972528Z",
     "start_time": "2019-09-06T21:06:55.945506Z"
    },
    "code_folding": []
   },
   "outputs": [],
   "source": [
    "def plot_read_counts(labels, counts, labels_on_flowcell, labels_in_run,\n",
    "                     possible_labels=None, ax=None, vmax=None, title_note=None):\n",
    "    from matplotlib.patches import Patch\n",
    "    if vmax is None:\n",
    "        vmax = max(counts) + max(int(0.1 * max(counts)), 100)\n",
    "    if ax == None:\n",
    "        fig, ax = plt.subplots(figsize=(30, 8))\n",
    "    if possible_labels is None:\n",
    "        possible_labels = labels[:]\n",
    "    g = sns.barplot(x=labels, y=counts, order=possible_labels, ax=ax)\n",
    "    title = \"#/reads identified per barcode\"\n",
    "    if title_note is not None:\n",
    "        title += \"\\n(%s)\" % title_note\n",
    "    ax.set_title(title)\n",
    "    ax.set_xlabel(\"Barcode ID\")\n",
    "    ax.set_ylabel(\"Read counts\")\n",
    "    ax.set_ylim([0, vmax])\n",
    "    \n",
    "    prev_text_height = 0\n",
    "    for j, label in enumerate(possible_labels):\n",
    "        if label in labels:\n",
    "            count = counts[labels.index(label)]\n",
    "        else:\n",
    "            count = 0\n",
    "        if label == \"-1\":\n",
    "            continue\n",
    "        \n",
    "        if label in labels_in_run:\n",
    "            g.containers[0].get_children()[j].set_facecolor(\"tab:red\")\n",
    "            font_kwargs = {\"color\": \"tab:red\", \"weight\": \"bold\"} \n",
    "        elif label in labels_on_flowcell:\n",
    "            g.containers[0].get_children()[j].set_facecolor(\"tab:blue\")\n",
    "            font_kwargs = {\"color\": \"k\", \"weight\": \"bold\"}\n",
    "        else:\n",
    "            g.containers[0].get_children()[j].set_facecolor(\"k\")\n",
    "            font_kwargs = {\"color\": \"k\", \"weight\": \"normal\"}\n",
    "            \n",
    "        diff = prev_text_height - (count + 0.01 * vmax)\n",
    "        if count < 100:\n",
    "            text_height = count + .01 * vmax\n",
    "            ax.text(j, text_height, count, ha=\"center\", **font_kwargs)\n",
    "        elif diff < 0 and np.abs(diff) < vmax * .06:\n",
    "            text_height = np.max([prev_text_height + .035 * vmax, count + .01 * vmax])\n",
    "            ax.text(j, text_height, count, ha=\"center\", **font_kwargs)\n",
    "        elif np.abs(diff) < vmax * .05:\n",
    "            text_height = np.min([prev_text_height - .01 * vmax, count + .01 * vmax])\n",
    "            ax.text(j, text_height, count, ha=\"center\", **font_kwargs)\n",
    "        else:\n",
    "            text_height = count + .01 * vmax\n",
    "            ax.text(j, text_height, count, ha=\"center\", **font_kwargs)\n",
    "        prev_text_height = text_height\n",
    "        \n",
    "    legend_elements = [Patch(facecolor='k', edgecolor='k',\n",
    "                         label='never been run on this flowcell'),\n",
    "                       Patch(facecolor='tab:blue', edgecolor='tab:blue',\n",
    "                         label='prev run on flowcell'),\n",
    "                       Patch(facecolor='tab:red', edgecolor='tab:red',\n",
    "                         label='current run on flowcell')]\n",
    "    leg = ax.legend(handles=legend_elements)\n",
    "    t1, t2, t3 = leg.get_texts()\n",
    "    t2._fontproperties = t1._fontproperties.copy()\n",
    "    t3._fontproperties = t1._fontproperties.copy()\n",
    "    t2.set_weight('bold')\n",
    "    t3.set_weight('bold')\n",
    "    t3.set_color(\"tab:red\")\n",
    "    return ax"
   ]
  },
  {
   "cell_type": "code",
   "execution_count": 39,
   "metadata": {
    "ExecuteTime": {
     "end_time": "2019-09-06T21:06:55.993892Z",
     "start_time": "2019-09-06T21:06:55.974698Z"
    }
   },
   "outputs": [],
   "source": [
    "# Create set_N variables based on spreadsheet\n",
    "molbit_sets = {}\n",
    "for ix, row in set_spreadsheet.iterrows():\n",
    "    set_no = re.findall(r\"set ([\\d]+)\", row[\"set\"])[0]\n",
    "    molbits = row[\"molbits_in_set\"]\n",
    "    molbit_sets[set_no] = molbits.split(\", \")"
   ]
  },
  {
   "cell_type": "code",
   "execution_count": 40,
   "metadata": {
    "ExecuteTime": {
     "end_time": "2019-09-06T21:06:56.017397Z",
     "start_time": "2019-09-06T21:06:55.995962Z"
    }
   },
   "outputs": [
    {
     "name": "stdout",
     "output_type": "stream",
     "text": [
      "0\n",
      "['0', '1', '2', '3', '4', '5', '6', '7', '8', '9', '10', '11', '12', '13', '14', '15']\n",
      "['16', '17', '18', '19', '20', '21', '22', '23', '24', '25', '26', '27', '28', '29', '30', '31', '0', '1', '2', '3', '4', '5', '6', '7', '8', '9', '10', '11', '12', '13', '14', '15']\n"
     ]
    }
   ],
   "source": [
    "run_data = dict(run_spreadsheet[run_spreadsheet[\"run_name\"] == run_name].iloc[0, :])\n",
    "molbit_set_in_run = str(run_data.get(\"molbit_set\"))\n",
    "molbit_sets_on_flowcell = run_data.get(\"prev_on_flowcell\")\n",
    "\n",
    "molbits_in_run = molbit_sets[molbit_set_in_run]\n",
    "molbits_on_flowcell = molbits_in_run[:]\n",
    "if molbit_sets_on_flowcell != \"none\":\n",
    "    molbit_sets_on_flowcell = molbit_sets_on_flowcell.split(\", \")\n",
    "    for m in molbit_sets_on_flowcell:\n",
    "        print(m)\n",
    "        print(molbit_sets[m])\n",
    "        molbits_on_flowcell.extend(molbit_sets[m])\n",
    "    print(molbits_on_flowcell)"
   ]
  },
  {
   "cell_type": "code",
   "execution_count": 41,
   "metadata": {
    "ExecuteTime": {
     "end_time": "2019-09-06T21:06:58.566198Z",
     "start_time": "2019-09-06T21:06:56.019659Z"
    },
    "scrolled": false
   },
   "outputs": [
    {
     "data": {
      "text/plain": [
       "<matplotlib.axes._subplots.AxesSubplot at 0x7fe09d370dd8>"
      ]
     },
     "execution_count": 41,
     "metadata": {},
     "output_type": "execute_result"
    },
    {
     "data": {
      "image/png": "[encoded data removed]",
      "text/plain": [
       "<Figure size 2160x576 with 1 Axes>"
      ]
     },
     "metadata": {},
     "output_type": "display_data"
    }
   ],
   "source": [
    "molbits = [str(x) for x in l_all]\n",
    "counts = list(c_all)\n",
    "on_flowcell = [str(x) for x in molbits_on_flowcell]\n",
    "in_run = [str(x) for x in molbits_in_run]\n",
    "poss_molbits = [str(x) for x in range(96)]\n",
    "plot_read_counts(molbits, counts,\n",
    "                 on_flowcell, in_run,\n",
    "                 possible_labels=poss_molbits,\n",
    "#                  vmax=800,\n",
    "                 title_note=f\"{run_name} test tag: predictions from all reads (model v4_0_1)\")"
   ]
  },
  {
   "cell_type": "markdown",
   "metadata": {},
   "source": [
    "# Predict on labeled data"
   ]
  },
  {
   "cell_type": "code",
   "execution_count": 42,
   "metadata": {
    "ExecuteTime": {
     "end_time": "2019-09-06T21:06:58.587033Z",
     "start_time": "2019-09-06T21:06:58.568155Z"
    }
   },
   "outputs": [],
   "source": [
    "test_loader_params = {\"batch_size\": 100,\n",
    "          \"shuffle\": False,\n",
    "          \"num_workers\": 30}\n",
    "test_generator = DataLoader(md_labeled, **test_loader_params)"
   ]
  },
  {
   "cell_type": "code",
   "execution_count": 43,
   "metadata": {
    "ExecuteTime": {
     "end_time": "2019-09-06T21:06:58.628285Z",
     "start_time": "2019-09-06T21:06:58.589539Z"
    }
   },
   "outputs": [],
   "source": [
    "torch.cuda.empty_cache()"
   ]
  },
  {
   "cell_type": "code",
   "execution_count": 45,
   "metadata": {
    "ExecuteTime": {
     "end_time": "2019-09-06T21:10:00.817620Z",
     "start_time": "2019-09-06T21:09:11.879736Z"
    }
   },
   "outputs": [],
   "source": [
    "y_pred_labeled = []\n",
    "y_true_labeled = []\n",
    "y_pred_score = []\n",
    "for i, (local_batch, local_labels) in enumerate(test_generator):\n",
    "    # Transfer to GPU\n",
    "    local_batch = local_batch.to(device)\n",
    "    local_labels = local_labels.to(device)\n",
    "    y_pred = model(local_batch).to(dtype=torch.float64)\n",
    "    local_labels = local_labels.to(dtype=torch.long)\n",
    "    \n",
    "    softmax_score = torch.nn.functional.softmax(y_pred, dim=1)\n",
    "    pred_score, prediction = torch.max(softmax_score, dim=1)\n",
    "\n",
    "    y_pred_labeled.extend([int(x) for x in prediction.cpu()])\n",
    "    y_true_labeled.extend([int(x) for x in local_labels.cpu()])\n",
    "    y_pred_score.extend([float(x) for x in pred_score.cpu()])"
   ]
  },
  {
   "cell_type": "code",
   "execution_count": 46,
   "metadata": {
    "ExecuteTime": {
     "end_time": "2019-09-06T21:10:01.040788Z",
     "start_time": "2019-09-06T21:10:00.820798Z"
    }
   },
   "outputs": [],
   "source": [
    "cnn_df_labeled = pd.DataFrame()\n",
    "cnn_df_labeled[\"read_id\"] = labeled_read_ids.astype(str)\n",
    "cnn_df_labeled[\"cnn_label\"] = y_pred_labeled\n",
    "cnn_df_labeled[\"cnn_score\"] = y_pred_score\n",
    "cnn_df_labeled[\"sw_label\"] = y_true_labeled"
   ]
  },
  {
   "cell_type": "code",
   "execution_count": 47,
   "metadata": {
    "ExecuteTime": {
     "end_time": "2019-09-06T21:10:01.973383Z",
     "start_time": "2019-09-06T21:10:01.044122Z"
    }
   },
   "outputs": [],
   "source": [
    "cnn_df_labeled.to_csv(cnn_label_file, sep=\"\\t\", index=False)"
   ]
  },
  {
   "cell_type": "code",
   "execution_count": 48,
   "metadata": {
    "ExecuteTime": {
     "end_time": "2019-09-06T21:10:01.993332Z",
     "start_time": "2019-09-06T21:10:01.975535Z"
    }
   },
   "outputs": [
    {
     "data": {
      "text/plain": [
       "'/path/to/data/MinION_sequencing_data_20190813/guppy_3.2.2_08_13_2019_run_02_exec_20190813/cnn/model_v4_0_1_labeled_reads_cbeb224beba4132d960067800238defaeed962bf.tsv'"
      ]
     },
     "execution_count": 48,
     "metadata": {},
     "output_type": "execute_result"
    }
   ],
   "source": [
    "cnn_label_file"
   ]
  },
  {
   "cell_type": "markdown",
   "metadata": {},
   "source": [
    "# Evaluate error"
   ]
  },
  {
   "cell_type": "code",
   "execution_count": 49,
   "metadata": {
    "ExecuteTime": {
     "end_time": "2019-09-06T21:10:02.592873Z",
     "start_time": "2019-09-06T21:10:01.995267Z"
    }
   },
   "outputs": [],
   "source": [
    "from sklearn.metrics import confusion_matrix"
   ]
  },
  {
   "cell_type": "code",
   "execution_count": 50,
   "metadata": {
    "ExecuteTime": {
     "end_time": "2019-09-06T21:10:02.640985Z",
     "start_time": "2019-09-06T21:10:02.595342Z"
    }
   },
   "outputs": [
    {
     "data": {
      "text/plain": [
       "(187605, 191278)"
      ]
     },
     "execution_count": 50,
     "metadata": {},
     "output_type": "execute_result"
    }
   ],
   "source": [
    "np.sum([x == y for x, y in zip(y_true_labeled, y_pred_labeled)]), len(y_true_labeled)"
   ]
  },
  {
   "cell_type": "code",
   "execution_count": 51,
   "metadata": {
    "ExecuteTime": {
     "end_time": "2019-09-06T21:10:02.680455Z",
     "start_time": "2019-09-06T21:10:02.642800Z"
    }
   },
   "outputs": [
    {
     "data": {
      "text/plain": [
       "0.9807975825761457"
      ]
     },
     "execution_count": 51,
     "metadata": {},
     "output_type": "execute_result"
    }
   ],
   "source": [
    "1. * np.sum([x == y for x, y in zip(y_true_labeled, y_pred_labeled)]) / len(y_true_labeled)"
   ]
  },
  {
   "cell_type": "code",
   "execution_count": 52,
   "metadata": {
    "ExecuteTime": {
     "end_time": "2019-09-06T21:10:02.719899Z",
     "start_time": "2019-09-06T21:10:02.682428Z"
    }
   },
   "outputs": [],
   "source": [
    "l, c = np.unique(y_true_labeled, return_counts=True)"
   ]
  },
  {
   "cell_type": "code",
   "execution_count": 53,
   "metadata": {
    "ExecuteTime": {
     "end_time": "2019-09-06T21:10:02.741738Z",
     "start_time": "2019-09-06T21:10:02.721834Z"
    }
   },
   "outputs": [],
   "source": [
    "norm = []\n",
    "for molbit in range(96):\n",
    "    if molbit in l:\n",
    "        i = list(l).index(molbit)\n",
    "        norm.append(c[i])\n",
    "    else:\n",
    "        norm.append(1)\n",
    "norm = np.array(norm)"
   ]
  },
  {
   "cell_type": "code",
   "execution_count": 54,
   "metadata": {
    "ExecuteTime": {
     "end_time": "2019-09-06T21:10:03.007188Z",
     "start_time": "2019-09-06T21:10:02.743779Z"
    }
   },
   "outputs": [],
   "source": [
    "cm = confusion_matrix(y_true_labeled, y_pred_labeled, labels=range(96))"
   ]
  },
  {
   "cell_type": "code",
   "execution_count": 55,
   "metadata": {
    "ExecuteTime": {
     "end_time": "2019-09-06T21:10:04.351453Z",
     "start_time": "2019-09-06T21:10:03.009188Z"
    },
    "scrolled": false
   },
   "outputs": [
    {
     "data": {
      "text/plain": [
       "<matplotlib.axes._subplots.AxesSubplot at 0x7fe0901b7cf8>"
      ]
     },
     "execution_count": 55,
     "metadata": {},
     "output_type": "execute_result"
    },
    {
     "data": {
      "image/png": "[encoded data removed]",
      "text/plain": [
       "<Figure size 1152x864 with 2 Axes>"
      ]
     },
     "metadata": {},
     "output_type": "display_data"
    }
   ],
   "source": [
    "fig, ax = plt.subplots(figsize=(16, 12))\n",
    "sns.heatmap(cm / norm[:, np.newaxis], vmin=0, vmax=0.01)"
   ]
  },
  {
   "cell_type": "code",
   "execution_count": null,
   "metadata": {},
   "outputs": [],
   "source": []
  }
 ],
 "metadata": {
  "kernelspec": {
   "display_name": "Python 3",
   "language": "python",
   "name": "python3"
  },
  "language_info": {
   "codemirror_mode": {
    "name": "ipython",
    "version": 3
   },
   "file_extension": ".py",
   "mimetype": "text/x-python",
   "name": "python",
   "nbconvert_exporter": "python",
   "pygments_lexer": "ipython3",
   "version": "3.6.8"
  },
  "notify_time": "10",
  "toc": {
   "base_numbering": 1,
   "nav_menu": {},
   "number_sections": true,
   "sideBar": true,
   "skip_h1_title": false,
   "title_cell": "Table of Contents",
   "title_sidebar": "Contents",
   "toc_cell": false,
   "toc_position": {},
   "toc_section_display": true,
   "toc_window_display": false
  }
 },
 "nbformat": 4,
 "nbformat_minor": 2
}
