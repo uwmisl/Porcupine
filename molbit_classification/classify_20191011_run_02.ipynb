{
 "cells": [
  {
   "cell_type": "code",
   "execution_count": 176,
   "metadata": {
    "ExecuteTime": {
     "end_time": "2019-10-29T00:38:15.167761Z",
     "start_time": "2019-10-29T00:38:14.765368Z"
    }
   },
   "outputs": [],
   "source": [
    "! export CUDA_LAUNCH_BLOCKING=1"
   ]
  },
  {
   "cell_type": "code",
   "execution_count": 177,
   "metadata": {
    "ExecuteTime": {
     "end_time": "2019-10-29T00:38:15.206496Z",
     "start_time": "2019-10-29T00:38:15.171101Z"
    }
   },
   "outputs": [
    {
     "name": "stdout",
     "output_type": "stream",
     "text": [
      "The autoreload extension is already loaded. To reload it, use:\n",
      "  %reload_ext autoreload\n"
     ]
    }
   ],
   "source": [
    "%load_ext autoreload\n",
    "%autoreload 2"
   ]
  },
  {
   "cell_type": "code",
   "execution_count": 178,
   "metadata": {
    "ExecuteTime": {
     "end_time": "2019-10-29T00:38:15.247819Z",
     "start_time": "2019-10-29T00:38:15.208981Z"
    }
   },
   "outputs": [],
   "source": [
    "%matplotlib inline\n",
    "import seaborn as sns\n",
    "from matplotlib import pyplot as plt\n",
    "import torch\n",
    "import logging\n",
    "import os\n",
    "import re\n",
    "import h5py\n",
    "import numpy as np\n",
    "import pandas as pd\n",
    "import random\n",
    "from torch import nn\n",
    "import torchvision\n",
    "import torch.nn.functional as F\n",
    "from datetime import datetime\n",
    "\n",
    "from torch.utils.data import Dataset, DataLoader\n",
    "from torch.utils.data.sampler import SubsetRandomSampler\n",
    "\n",
    "logger = logging.getLogger(__name__)\n",
    "if logger.handlers:\n",
    "    logger.handlers = []\n",
    "logger.setLevel(logging.DEBUG)\n",
    "logger.addHandler(logging.StreamHandler())        "
   ]
  },
  {
   "cell_type": "code",
   "execution_count": 179,
   "metadata": {
    "ExecuteTime": {
     "end_time": "2019-10-29T00:38:15.280697Z",
     "start_time": "2019-10-29T00:38:15.250491Z"
    },
    "scrolled": true
   },
   "outputs": [
    {
     "data": {
      "text/plain": [
       "_CudaDeviceProperties(name='TITAN Xp', major=6, minor=1, total_memory=12196MB, multi_processor_count=30)"
      ]
     },
     "execution_count": 179,
     "metadata": {},
     "output_type": "execute_result"
    }
   ],
   "source": [
    "device = torch.device('cuda')\n",
    "torch.cuda.get_device_properties(0)"
   ]
  },
  {
   "cell_type": "code",
   "execution_count": 180,
   "metadata": {
    "ExecuteTime": {
     "end_time": "2019-10-29T00:38:15.396939Z",
     "start_time": "2019-10-29T00:38:15.367607Z"
    }
   },
   "outputs": [],
   "source": [
    "def seed_everything(seed=10):\n",
    "    random.seed(seed)\n",
    "    os.environ['PYTHONHASHSEED'] = str(seed)\n",
    "    np.random.seed(seed)\n",
    "    torch.manual_seed(seed)\n",
    "    torch.cuda.manual_seed(seed)\n",
    "    torch.backends.cudnn.deterministic = True\n",
    "seed_everything()"
   ]
  },
  {
   "cell_type": "code",
   "execution_count": 181,
   "metadata": {
    "ExecuteTime": {
     "end_time": "2019-10-29T00:38:15.603704Z",
     "start_time": "2019-10-29T00:38:15.577631Z"
    }
   },
   "outputs": [],
   "source": [
    "def median_smoothing(signal, width=3):\n",
    "    s = signal[:]\n",
    "    half_width = int(width/2)\n",
    "    for i in range(half_width, len(signal)):\n",
    "        s[i-half_width] = torch.median(signal[i-half_width:i+half_width])\n",
    "    return s"
   ]
  },
  {
   "cell_type": "markdown",
   "metadata": {},
   "source": [
    "# Extract data to predict from fast5s"
   ]
  },
  {
   "cell_type": "markdown",
   "metadata": {},
   "source": [
    "## Get run info"
   ]
  },
  {
   "cell_type": "code",
   "execution_count": 182,
   "metadata": {
    "ExecuteTime": {
     "end_time": "2019-10-29T00:38:18.280359Z",
     "start_time": "2019-10-29T00:38:16.724770Z"
    }
   },
   "outputs": [],
   "source": [
    "def import_gdrive_sheet(gdrive_key, sheet_id):\n",
    "    run_spreadsheet = pd.read_csv(\"https://docs.google.com/spreadsheet/ccc?key=\" + \\\n",
    "                                  gdrive_key + \"&output=csv&gid=\" + sheet_id)\n",
    "    if \"date\" in run_spreadsheet.columns:\n",
    "        run_spreadsheet[\"date\"] = run_spreadsheet[\"date\"].astype(str)\n",
    "    return run_spreadsheet\n",
    "\n",
    "gdrive_key = \"gdrive_key_here\"\n",
    "sheet_id = \"0\"\n",
    "set_sheet_id = \"512509543\"\n",
    "\n",
    "run_spreadsheet = import_gdrive_sheet(gdrive_key, sheet_id)\n",
    "set_spreadsheet = import_gdrive_sheet(gdrive_key, set_sheet_id)"
   ]
  },
  {
   "cell_type": "code",
   "execution_count": 183,
   "metadata": {
    "ExecuteTime": {
     "end_time": "2019-10-29T00:38:18.308224Z",
     "start_time": "2019-10-29T00:38:18.282843Z"
    }
   },
   "outputs": [],
   "source": [
    "run_name = \"10_11_19_run_02\""
   ]
  },
  {
   "cell_type": "code",
   "execution_count": 184,
   "metadata": {
    "ExecuteTime": {
     "end_time": "2019-10-29T00:38:18.337764Z",
     "start_time": "2019-10-29T00:38:18.310746Z"
    }
   },
   "outputs": [],
   "source": [
    "run_data = dict(run_spreadsheet[run_spreadsheet[\"run_name\"] == run_name].iloc[0, :])"
   ]
  },
  {
   "cell_type": "code",
   "execution_count": 185,
   "metadata": {
    "ExecuteTime": {
     "end_time": "2019-10-29T00:38:18.368246Z",
     "start_time": "2019-10-29T00:38:18.340114Z"
    }
   },
   "outputs": [],
   "source": [
    "basecall_dir = run_data.get(\"basecall_dir\")\n",
    "try:\n",
    "    os.makedirs(os.path.join(basecall_dir, \"cnn\"))\n",
    "except:\n",
    "    pass"
   ]
  },
  {
   "cell_type": "code",
   "execution_count": 186,
   "metadata": {
    "ExecuteTime": {
     "end_time": "2019-10-29T00:38:18.681229Z",
     "start_time": "2019-10-29T00:38:18.646952Z"
    }
   },
   "outputs": [
    {
     "name": "stdout",
     "output_type": "stream",
     "text": [
      "/path/to/data/MinION_sequencing_data_20191011/guppy_3.2.2_10_11_19_run_02_exec_20191014/cnn/model_v4_0_1_all_reads_ad14db7fb43131fd3ac954214b0b4a3084956a53.tsv \t /path/to/data/MinION_sequencing_data_20191011/guppy_3.2.2_10_11_19_run_02_exec_20191014/cnn/model_v4_0_1_labeled_reads_ad14db7fb43131fd3ac954214b0b4a3084956a53.tsv \t /path/to/data/v4_test/10_11_19_run_02_all.hdf5 \t /path/to/data/v4_test/10_11_19_run_02_only_labeled.hdf5\n"
     ]
    }
   ],
   "source": [
    "label_file = list(run_spreadsheet[run_spreadsheet[\"run_name\"] == run_name][\"filtered_sw_labels\"])[0]\n",
    "molbit_all_data_file = f\"/path/to/data/v4_test/{run_name}_all.hdf5\"\n",
    "molbit_labeled_data_file = f\"/path/to/data/v4_test/{run_name}_only_labeled.hdf5\"\n",
    "\n",
    "cnn_label_file_all = os.path.join(basecall_dir, \"cnn\", \"model_v4_0_1_all_reads_\" + label_file.split(\"_\")[-1])\n",
    "cnn_label_file = os.path.join(basecall_dir, \"cnn\", \"model_v4_0_1_labeled_reads_\" + label_file.split(\"_\")[-1])\n",
    "\n",
    "print(cnn_label_file_all, \"\\t\", cnn_label_file, \"\\t\", molbit_all_data_file, \"\\t\", molbit_labeled_data_file)"
   ]
  },
  {
   "cell_type": "markdown",
   "metadata": {},
   "source": [
    "## Define functions for preprocessing data"
   ]
  },
  {
   "cell_type": "code",
   "execution_count": 187,
   "metadata": {
    "ExecuteTime": {
     "end_time": "2019-10-29T00:38:19.552226Z",
     "start_time": "2019-10-29T00:38:19.523946Z"
    },
    "code_folding": [
     0,
     18
    ]
   },
   "outputs": [],
   "source": [
    "def med_mad(data, factor=1.4826):\n",
    "    \"\"\"Modified from Mako.\n",
    "    Compute the Median Absolute Deviation, i.e., the median\n",
    "    of the absolute deviations from the median, and the median.\n",
    "\n",
    "    :param data: A :class:`ndarray` object\n",
    "    :param axis: For multidimensional arrays, which axis to calculate over \n",
    "\n",
    "    :returns: a tuple containing the median and MAD of the data\n",
    "\n",
    "    .. note :: the default `factor` scales the MAD for asymptotically normal\n",
    "        consistency as in R.\n",
    "\n",
    "    \"\"\"\n",
    "    dmed = torch.median(data)\n",
    "    dmad = factor * torch.median(torch.abs(data - dmed))\n",
    "    return dmed, dmad\n",
    "\n",
    "def _scale_data( data):\n",
    "    '''Modified from Mako.'''\n",
    "    med, mad = med_mad(data)\n",
    "    data = (data - med) / mad\n",
    "    return data"
   ]
  },
  {
   "cell_type": "code",
   "execution_count": 188,
   "metadata": {
    "ExecuteTime": {
     "end_time": "2019-10-29T00:38:19.633313Z",
     "start_time": "2019-10-29T00:38:19.600940Z"
    },
    "code_folding": [
     0,
     13,
     26
    ]
   },
   "outputs": [],
   "source": [
    "def get_signal_regions_less_than(signal, signal_threshold=180.):\n",
    "    signal_mask = np.where(signal <= signal_threshold, 1, 0)\n",
    "    signal_chg_pts = np.where(np.abs(np.diff(signal_mask)) == 1)[0]\n",
    "\n",
    "    if signal[0] <= signal_threshold:\n",
    "        signal_chg_pts = np.insert(signal_chg_pts, 0, 0)\n",
    "    if signal[-1] <= signal_threshold:\n",
    "        signal_chg_pts = np.append(signal_chg_pts, len(signal_mask))\n",
    "\n",
    "    signal_regions = list(zip(signal_chg_pts[::2], signal_chg_pts[1::2]))\n",
    "\n",
    "    return signal_regions\n",
    "\n",
    "def get_signal_regions_greater_than(signal, signal_threshold=180.):\n",
    "    signal_mask = np.where(signal >= signal_threshold, 1, 0)\n",
    "    signal_chg_pts = np.where(np.abs(np.diff(signal_mask)) == 1)[0]\n",
    "\n",
    "    if signal[0] >= signal_threshold:\n",
    "        signal_chg_pts = np.insert(signal_chg_pts, 0, 0)\n",
    "    if signal[-1] >= signal_threshold:\n",
    "        signal_chg_pts = np.append(signal_chg_pts, len(signal_mask))\n",
    "\n",
    "    signal_regions = list(zip(signal_chg_pts[::2], signal_chg_pts[1::2]))\n",
    "\n",
    "    return signal_regions\n",
    "\n",
    "def median_smoothing(signal, width=3):\n",
    "    s = signal[:]\n",
    "    half_width = int(width/2)\n",
    "    for i in range(half_width, len(signal)):\n",
    "        s[i-half_width] = torch.median(signal[i-half_width:i+half_width])\n",
    "    return s\n"
   ]
  },
  {
   "cell_type": "code",
   "execution_count": 189,
   "metadata": {
    "ExecuteTime": {
     "end_time": "2019-10-29T00:38:19.697732Z",
     "start_time": "2019-10-29T00:38:19.670280Z"
    },
    "code_folding": [
     0
    ]
   },
   "outputs": [],
   "source": [
    "def trim_start_heuristic(signal, thresh=2, offset=20):\n",
    "    try:\n",
    "        above = np.where(signal[offset:] > thresh)[0][0] + offset\n",
    "    except IndexError:\n",
    "        above = 0\n",
    "    return signal[above:]"
   ]
  },
  {
   "cell_type": "markdown",
   "metadata": {},
   "source": [
    "## Import fast5s"
   ]
  },
  {
   "cell_type": "markdown",
   "metadata": {},
   "source": [
    "### Get a list of fast5 files to import"
   ]
  },
  {
   "cell_type": "code",
   "execution_count": 190,
   "metadata": {
    "ExecuteTime": {
     "end_time": "2019-10-29T00:38:23.834738Z",
     "start_time": "2019-10-29T00:38:23.802040Z"
    }
   },
   "outputs": [],
   "source": [
    "fast5_root_dir = list(run_spreadsheet[run_spreadsheet[\"run_name\"] == run_name][\"raw_fast5_dir_multi\"])[0]\n",
    "fast5_dirs = [os.path.join(fast5_root_dir, x) for x in os.listdir(fast5_root_dir) if \"fast5\" in x]\n",
    "fast5_files = []\n",
    "for f5_dir in fast5_dirs:\n",
    "    fast5_files.extend([os.path.join(f5_dir, x) for x in os.listdir(f5_dir) if x.endswith(\"fast5\")])"
   ]
  },
  {
   "cell_type": "markdown",
   "metadata": {},
   "source": [
    "## Import, sorting by labeled vs. not"
   ]
  },
  {
   "cell_type": "code",
   "execution_count": 16,
   "metadata": {
    "ExecuteTime": {
     "end_time": "2019-10-28T22:22:09.836763Z",
     "start_time": "2019-10-28T22:15:17.605433Z"
    }
   },
   "outputs": [
    {
     "ename": "KeyboardInterrupt",
     "evalue": "",
     "output_type": "error",
     "traceback": [
      "\u001b[0;31m---------------------------------------------------------------------------\u001b[0m",
      "\u001b[0;31mKeyboardInterrupt\u001b[0m                         Traceback (most recent call last)",
      "\u001b[0;32m<ipython-input-16-7131884104c2>\u001b[0m in \u001b[0;36m<module>\u001b[0;34m\u001b[0m\n\u001b[1;32m     21\u001b[0m             \u001b[0mraw\u001b[0m \u001b[0;34m=\u001b[0m \u001b[0mgroup\u001b[0m\u001b[0;34m.\u001b[0m\u001b[0mget\u001b[0m\u001b[0;34m(\u001b[0m\u001b[0;34m\"Raw/Signal\"\u001b[0m\u001b[0;34m)\u001b[0m\u001b[0;34m[\u001b[0m\u001b[0;34m:\u001b[0m\u001b[0;36m15000\u001b[0m\u001b[0;34m]\u001b[0m\u001b[0;34m\u001b[0m\u001b[0;34m\u001b[0m\u001b[0m\n\u001b[1;32m     22\u001b[0m \u001b[0;34m\u001b[0m\u001b[0m\n\u001b[0;32m---> 23\u001b[0;31m             \u001b[0mx\u001b[0m \u001b[0;34m=\u001b[0m \u001b[0mtorch\u001b[0m\u001b[0;34m.\u001b[0m\u001b[0mFloatTensor\u001b[0m\u001b[0;34m(\u001b[0m\u001b[0mlist\u001b[0m\u001b[0;34m(\u001b[0m\u001b[0mraw\u001b[0m\u001b[0;34m)\u001b[0m\u001b[0;34m)\u001b[0m\u001b[0;34m\u001b[0m\u001b[0;34m\u001b[0m\u001b[0m\n\u001b[0m\u001b[1;32m     24\u001b[0m             \u001b[0mx\u001b[0m \u001b[0;34m=\u001b[0m \u001b[0m_scale_data\u001b[0m\u001b[0;34m(\u001b[0m\u001b[0mx\u001b[0m\u001b[0;34m)\u001b[0m\u001b[0;34m\u001b[0m\u001b[0;34m\u001b[0m\u001b[0m\n\u001b[1;32m     25\u001b[0m             \u001b[0mx\u001b[0m \u001b[0;34m=\u001b[0m \u001b[0mtrim_start_heuristic\u001b[0m\u001b[0;34m(\u001b[0m\u001b[0mx\u001b[0m\u001b[0;34m)\u001b[0m\u001b[0;34m\u001b[0m\u001b[0;34m\u001b[0m\u001b[0m\n",
      "\u001b[0;31mKeyboardInterrupt\u001b[0m: "
     ]
    }
   ],
   "source": [
    "all_data = []\n",
    "all_fast5_read_ids = []\n",
    "\n",
    "labeled_data = []\n",
    "labeled_read_ids = []\n",
    "labels = []\n",
    "labels_in_order = []\n",
    "\n",
    "max_len = 3000\n",
    "\n",
    "sw = pd.read_csv(label_file, sep=\"\\t\", index_col=0)\n",
    "labels = np.array(sw[\"molbit\"])\n",
    "read_ids = list(sw.index)\n",
    "\n",
    "for f5_file in fast5_files:\n",
    "    with h5py.File(f5_file, \"r\") as f5:\n",
    "        for group in f5.get(\"/\").values():\n",
    "            read_id = re.findall(r'read_(.*)\" \\(', str(group))[0]\n",
    "            all_fast5_read_ids.append(read_id)\n",
    "            \n",
    "            raw = group.get(\"Raw/Signal\")[:15000]                    \n",
    "                    \n",
    "            x = torch.FloatTensor(list(raw))\n",
    "            x = _scale_data(x)\n",
    "            x = trim_start_heuristic(x)\n",
    "            x = x[:max_len]\n",
    "            y = torch.zeros(max_len)\n",
    "            y[:len(x)] = x\n",
    "            \n",
    "            all_data.append(y)\n",
    "            \n",
    "            if read_id in sw.index:  \n",
    "                i = read_ids.index(read_id)\n",
    "                \n",
    "                labeled_data.append(y)\n",
    "                labeled_read_ids.append(read_id)\n",
    "                labels_in_order.append(labels[i])"
   ]
  },
  {
   "cell_type": "code",
   "execution_count": null,
   "metadata": {
    "ExecuteTime": {
     "end_time": "2019-10-28T22:22:09.838075Z",
     "start_time": "2019-10-28T22:15:19.517Z"
    }
   },
   "outputs": [],
   "source": [
    "all_fast5_data = torch.stack(all_data)\n",
    "all_fast5_data = all_fast5_data.unsqueeze(1)"
   ]
  },
  {
   "cell_type": "code",
   "execution_count": null,
   "metadata": {
    "ExecuteTime": {
     "end_time": "2019-10-28T22:22:09.839649Z",
     "start_time": "2019-10-28T22:15:19.965Z"
    }
   },
   "outputs": [],
   "source": [
    "labeled_data = torch.stack(labeled_data)\n",
    "labeled_data = labeled_data.unsqueeze(1)"
   ]
  },
  {
   "cell_type": "code",
   "execution_count": null,
   "metadata": {
    "ExecuteTime": {
     "end_time": "2019-10-28T22:22:09.841330Z",
     "start_time": "2019-10-28T22:15:21.899Z"
    }
   },
   "outputs": [],
   "source": [
    "with h5py.File(molbit_all_data_file, \"w\", swmr=True) as f:\n",
    "    f.create_dataset(\"read_ids\", shape=(len(all_fast5_read_ids), ), data=np.array(all_fast5_read_ids, dtype=\"S\"))\n",
    "    f.create_dataset(\"data\", shape=all_fast5_data.shape, dtype=np.float, data=all_fast5_data)    "
   ]
  },
  {
   "cell_type": "code",
   "execution_count": null,
   "metadata": {
    "ExecuteTime": {
     "end_time": "2019-10-28T22:22:09.842846Z",
     "start_time": "2019-10-28T22:15:22.293Z"
    }
   },
   "outputs": [],
   "source": [
    "with h5py.File(molbit_labeled_data_file, \"w\", swmr=True) as f:\n",
    "    f.create_dataset(\"data\", shape=labeled_data.shape, dtype=np.float, data=labeled_data)\n",
    "    f.create_dataset(\"labels\", shape=(len(labels_in_order), ), dtype=int, data=labels_in_order)\n",
    "    f.create_dataset(\"read_ids\", shape=(len(labeled_read_ids), ), data=np.array(labeled_read_ids, dtype=\"S\"))"
   ]
  },
  {
   "cell_type": "markdown",
   "metadata": {},
   "source": [
    "## Load saved data"
   ]
  },
  {
   "cell_type": "code",
   "execution_count": 191,
   "metadata": {
    "ExecuteTime": {
     "end_time": "2019-10-29T00:38:31.561848Z",
     "start_time": "2019-10-29T00:38:26.319774Z"
    }
   },
   "outputs": [],
   "source": [
    "with h5py.File(molbit_all_data_file, \"r\") as f:\n",
    "    all_fast5_read_ids = f.get(\"read_ids\")[()]\n",
    "    all_fast5_data = f.get(\"data\")[()]"
   ]
  },
  {
   "cell_type": "code",
   "execution_count": 192,
   "metadata": {
    "ExecuteTime": {
     "end_time": "2019-10-29T00:38:33.275016Z",
     "start_time": "2019-10-29T00:38:31.563913Z"
    }
   },
   "outputs": [],
   "source": [
    "with h5py.File(molbit_labeled_data_file, \"r\") as f:\n",
    "    labeled_data = f.get(\"data\")[()]\n",
    "    labels_in_order = f.get(\"labels\")[()]\n",
    "    labeled_read_ids = f.get(\"read_ids\")[()]"
   ]
  },
  {
   "cell_type": "markdown",
   "metadata": {},
   "source": [
    "# Create a MolbitDataset from the extracted data"
   ]
  },
  {
   "cell_type": "code",
   "execution_count": 193,
   "metadata": {
    "ExecuteTime": {
     "end_time": "2019-10-29T00:38:33.314108Z",
     "start_time": "2019-10-29T00:38:33.278764Z"
    }
   },
   "outputs": [],
   "source": [
    "class MolbitDataset(Dataset):\n",
    "    def __init__(self, data_file, unknown_labels=False):\n",
    "        with h5py.File(data_file, \"r\") as f:\n",
    "            self.data = torch.FloatTensor(f.get(\"data\")[()])\n",
    "            self.n_records = self.data.shape[0]\n",
    "            self.max_len = self.data.shape[2]\n",
    "            try:\n",
    "                self.labels = torch.IntTensor(f.get(\"labels\")[()])\n",
    "                self.n_labels = len(np.unique(self.labels))\n",
    "            except:\n",
    "                self.labels = torch.IntTensor([-1 for _ in range(self.n_records)])\n",
    "                self.n_labels = 0\n",
    "\n",
    "        # Shuffle data\n",
    "        self.shuffle_index = np.random.choice(range(self.n_records), replace=False, size=self.n_records)\n",
    "        self.data = self.data[self.shuffle_index]       \n",
    "        self.labels = self.labels[self.shuffle_index]        \n",
    "        \n",
    "    def _get_onehot(self, label):\n",
    "        if self.labels is None:\n",
    "            return None\n",
    "        ix = self.labels.index(label)\n",
    "        onehot = torch.zeros(self.n_labels)\n",
    "        onehot[ix] = 1\n",
    "        return onehot\n",
    "    \n",
    "    def __len__(self):\n",
    "        return self.n_records\n",
    "        \n",
    "    def __getitem__(self, idx):\n",
    "        return self.data[idx, :, :], self.labels[idx]"
   ]
  },
  {
   "cell_type": "code",
   "execution_count": 194,
   "metadata": {
    "ExecuteTime": {
     "end_time": "2019-10-29T00:38:37.877335Z",
     "start_time": "2019-10-29T00:38:33.316469Z"
    }
   },
   "outputs": [],
   "source": [
    "md_all = MolbitDataset(molbit_all_data_file, unknown_labels=True)"
   ]
  },
  {
   "cell_type": "code",
   "execution_count": 195,
   "metadata": {
    "ExecuteTime": {
     "end_time": "2019-10-29T00:38:40.316874Z",
     "start_time": "2019-10-29T00:38:37.879708Z"
    }
   },
   "outputs": [],
   "source": [
    "md_labeled = MolbitDataset(molbit_labeled_data_file, unknown_labels=True)"
   ]
  },
  {
   "cell_type": "markdown",
   "metadata": {},
   "source": [
    "# Load saved model"
   ]
  },
  {
   "cell_type": "code",
   "execution_count": 196,
   "metadata": {
    "ExecuteTime": {
     "end_time": "2019-10-29T00:38:40.363744Z",
     "start_time": "2019-10-29T00:38:40.319467Z"
    },
    "code_folding": []
   },
   "outputs": [],
   "source": [
    "class CNN(nn.Module):\n",
    "\n",
    "    def __init__(self):\n",
    "\n",
    "        super(CNN, self).__init__()\n",
    "\n",
    "        O_1 = 64\n",
    "        O_2 = 128\n",
    "        O_3 = 256\n",
    "        O_4 = 512\n",
    "        O_5 = 1024\n",
    "\n",
    "        K_1 = 15\n",
    "        K_2 = 8\n",
    "        K_3 = 6\n",
    "        K_4 = 4\n",
    "        K_5 = 2\n",
    "\n",
    "        KP_1 = 6\n",
    "        KP_2 = 3\n",
    "        KP_3 = 2\n",
    "        KP_4 = 2\n",
    "        KP_5 = 1\n",
    "\n",
    "        FN_1 = 1000\n",
    "        FN_2 = 500\n",
    "\n",
    "        self.conv1 = nn.Sequential(nn.Conv1d(1, O_1, K_1, stride=1), nn.ReLU(),\n",
    "                                   nn.AvgPool1d(KP_1))\n",
    "        self.conv1_bn = nn.BatchNorm1d(O_1)\n",
    "\n",
    "        self.conv2 = nn.Sequential(nn.Conv1d(O_1, O_2, K_2), nn.ReLU(),\n",
    "                                   nn.AvgPool1d(KP_2))\n",
    "        self.conv2_bn = nn.BatchNorm1d(O_2)\n",
    "\n",
    "        self.conv3 = nn.Sequential(nn.Conv1d(O_2, O_3, K_3), nn.ReLU(),\n",
    "                                   nn.AvgPool1d(KP_3))\n",
    "        self.conv3_bn = nn.BatchNorm1d(O_3)\n",
    "\n",
    "        self.conv4 = nn.Sequential(nn.Conv1d(O_3, O_4, K_4), nn.ReLU(),\n",
    "                                   nn.AvgPool1d(KP_4))\n",
    "        self.conv4_bn = nn.BatchNorm1d(O_4)\n",
    "\n",
    "        self.conv5 = nn.Sequential(nn.Conv1d(O_4, O_5, K_5), nn.ReLU(),\n",
    "                                   nn.AvgPool1d(KP_5))\n",
    "        self.conv5_bn = nn.BatchNorm1d(O_5)\n",
    "\n",
    "        self.gru1 = nn.GRU(input_size=92160, hidden_size=10, num_layers=1)\n",
    "\n",
    "        self.fc1 = nn.Linear(37888, FN_1, nn.Dropout(0.5)) # 37888 20480 28672 9216\n",
    "        self.fc1_bn = nn.BatchNorm1d(FN_1)\n",
    "\n",
    "        self.fc2 = nn.Linear(FN_1, FN_2, nn.Dropout(0.5))\n",
    "        self.fc2_bn = nn.BatchNorm1d(FN_2)\n",
    "\n",
    "        self.fc3 = nn.Linear(FN_2, 96)\n",
    "\n",
    "    def forward(self, x):\n",
    "        x = x.float()\n",
    "#         print(\"a\", np.shape(x))\n",
    "        x = F.relu(self.conv1(x))\n",
    "        x = F.relu(self.conv1_bn(x))\n",
    "#         print(\"b\", np.shape(x))\n",
    "        x = F.relu(self.conv2(x))\n",
    "        x = F.relu(self.conv2_bn(x))\n",
    "#         print(\"c\", np.shape(x))\n",
    "        x = F.relu(self.conv3(x))\n",
    "        x = F.relu(self.conv3_bn(x))\n",
    "#         print(\"d\", np.shape(x))\n",
    "        x = F.leaky_relu(self.conv4(x))\n",
    "        x = F.relu(self.conv4_bn(x))\n",
    "        x = F.leaky_relu(self.conv5(x))\n",
    "        x = F.relu(self.conv5_bn(x))\n",
    "#         print(\"e\", np.shape(x))\n",
    "        x = x.view(len(x), -1)\n",
    "#         print(\"f\", np.shape(x))\n",
    "        x = F.relu(self.fc1(x))\n",
    "        x = F.relu(self.fc1_bn(x))\n",
    "        x = F.relu(self.fc2(x))\n",
    "        x = F.relu(self.fc2_bn(x))\n",
    "#         print(\"g\", np.shape(x))\n",
    "\n",
    "        x = self.fc3(x)\n",
    "#         print(\"h\", np.shape(x))\n",
    "        return x\n"
   ]
  },
  {
   "cell_type": "code",
   "execution_count": 197,
   "metadata": {
    "ExecuteTime": {
     "end_time": "2019-10-29T00:38:40.389680Z",
     "start_time": "2019-10-29T00:38:40.366041Z"
    }
   },
   "outputs": [],
   "source": [
    "model_file = \"/ssd1/home/kdorosch/code/punchcard-tagger/v4/molbit_classification/saved_models/molbit_classification_v4_0_1.20190827.pt\""
   ]
  },
  {
   "cell_type": "code",
   "execution_count": 198,
   "metadata": {
    "ExecuteTime": {
     "end_time": "2019-10-29T00:38:41.395770Z",
     "start_time": "2019-10-29T00:38:40.391952Z"
    }
   },
   "outputs": [
    {
     "data": {
      "text/plain": [
       "CNN(\n",
       "  (conv1): Sequential(\n",
       "    (0): Conv1d(1, 64, kernel_size=(15,), stride=(1,))\n",
       "    (1): ReLU()\n",
       "    (2): AvgPool1d(kernel_size=(6,), stride=(6,), padding=(0,))\n",
       "  )\n",
       "  (conv1_bn): BatchNorm1d(64, eps=1e-05, momentum=0.1, affine=True, track_running_stats=True)\n",
       "  (conv2): Sequential(\n",
       "    (0): Conv1d(64, 128, kernel_size=(8,), stride=(1,))\n",
       "    (1): ReLU()\n",
       "    (2): AvgPool1d(kernel_size=(3,), stride=(3,), padding=(0,))\n",
       "  )\n",
       "  (conv2_bn): BatchNorm1d(128, eps=1e-05, momentum=0.1, affine=True, track_running_stats=True)\n",
       "  (conv3): Sequential(\n",
       "    (0): Conv1d(128, 256, kernel_size=(6,), stride=(1,))\n",
       "    (1): ReLU()\n",
       "    (2): AvgPool1d(kernel_size=(2,), stride=(2,), padding=(0,))\n",
       "  )\n",
       "  (conv3_bn): BatchNorm1d(256, eps=1e-05, momentum=0.1, affine=True, track_running_stats=True)\n",
       "  (conv4): Sequential(\n",
       "    (0): Conv1d(256, 512, kernel_size=(4,), stride=(1,))\n",
       "    (1): ReLU()\n",
       "    (2): AvgPool1d(kernel_size=(2,), stride=(2,), padding=(0,))\n",
       "  )\n",
       "  (conv4_bn): BatchNorm1d(512, eps=1e-05, momentum=0.1, affine=True, track_running_stats=True)\n",
       "  (conv5): Sequential(\n",
       "    (0): Conv1d(512, 1024, kernel_size=(2,), stride=(1,))\n",
       "    (1): ReLU()\n",
       "    (2): AvgPool1d(kernel_size=(1,), stride=(1,), padding=(0,))\n",
       "  )\n",
       "  (conv5_bn): BatchNorm1d(1024, eps=1e-05, momentum=0.1, affine=True, track_running_stats=True)\n",
       "  (gru1): GRU(92160, 10)\n",
       "  (fc1): Linear(in_features=37888, out_features=1000, bias=True)\n",
       "  (fc1_bn): BatchNorm1d(1000, eps=1e-05, momentum=0.1, affine=True, track_running_stats=True)\n",
       "  (fc2): Linear(in_features=1000, out_features=500, bias=True)\n",
       "  (fc2_bn): BatchNorm1d(500, eps=1e-05, momentum=0.1, affine=True, track_running_stats=True)\n",
       "  (fc3): Linear(in_features=500, out_features=96, bias=True)\n",
       ")"
      ]
     },
     "execution_count": 198,
     "metadata": {},
     "output_type": "execute_result"
    }
   ],
   "source": [
    "model = CNN()\n",
    "model.load_state_dict(torch.load(model_file))\n",
    "model.cuda()\n",
    "model.eval()\n"
   ]
  },
  {
   "cell_type": "markdown",
   "metadata": {},
   "source": [
    "# Predict on all data"
   ]
  },
  {
   "cell_type": "code",
   "execution_count": 199,
   "metadata": {
    "ExecuteTime": {
     "end_time": "2019-10-29T00:38:41.521362Z",
     "start_time": "2019-10-29T00:38:41.398186Z"
    }
   },
   "outputs": [],
   "source": [
    "test_loader_params = {\"batch_size\": 500,\n",
    "          \"shuffle\": False,\n",
    "          \"num_workers\": 30}\n",
    "test_generator = DataLoader(md_all, **test_loader_params)"
   ]
  },
  {
   "cell_type": "code",
   "execution_count": 200,
   "metadata": {
    "ExecuteTime": {
     "end_time": "2019-10-29T00:39:23.815696Z",
     "start_time": "2019-10-29T00:38:41.523962Z"
    }
   },
   "outputs": [],
   "source": [
    "y_pred_all = []\n",
    "y_pred_score = []\n",
    "for i, (local_batch, local_labels) in enumerate(test_generator):\n",
    "    # Transfer to GPU\n",
    "    local_batch = local_batch.to(device)\n",
    "    y_pred = model(local_batch).to(dtype=torch.float64)\n",
    "    \n",
    "    softmax_score = torch.nn.functional.softmax(y_pred, dim=1)\n",
    "    pred_score, prediction = torch.max(softmax_score, dim=1)\n",
    "\n",
    "    y_pred_all.extend([int(x) if s > 0.9 else -1 for s, x in zip(pred_score.cpu(), prediction.cpu())])\n",
    "    y_pred_score.extend([float(x) for x in pred_score.cpu()])"
   ]
  },
  {
   "cell_type": "code",
   "execution_count": 201,
   "metadata": {
    "ExecuteTime": {
     "end_time": "2019-10-29T00:39:23.901685Z",
     "start_time": "2019-10-29T00:39:23.818902Z"
    }
   },
   "outputs": [
    {
     "data": {
      "text/plain": [
       "11731"
      ]
     },
     "execution_count": 201,
     "metadata": {},
     "output_type": "execute_result"
    }
   ],
   "source": [
    "len(np.where(np.array(y_pred_all) == -1)[0])"
   ]
  },
  {
   "cell_type": "code",
   "execution_count": 202,
   "metadata": {
    "ExecuteTime": {
     "end_time": "2019-10-29T00:39:23.930074Z",
     "start_time": "2019-10-29T00:39:23.904100Z"
    }
   },
   "outputs": [
    {
     "data": {
      "text/plain": [
       "334414"
      ]
     },
     "execution_count": 202,
     "metadata": {},
     "output_type": "execute_result"
    }
   ],
   "source": [
    "len(y_pred_all)"
   ]
  },
  {
   "cell_type": "markdown",
   "metadata": {},
   "source": [
    "## Save to tsv file"
   ]
  },
  {
   "cell_type": "code",
   "execution_count": 203,
   "metadata": {
    "ExecuteTime": {
     "end_time": "2019-10-29T00:39:24.472056Z",
     "start_time": "2019-10-29T00:39:23.932259Z"
    }
   },
   "outputs": [],
   "source": [
    "cnn_df = pd.DataFrame()\n",
    "cnn_df[\"read_id\"] = all_fast5_read_ids.astype(str)\n",
    "cnn_df[\"cnn_label\"] = y_pred_all\n",
    "cnn_df[\"cnn_score\"] = y_pred_score"
   ]
  },
  {
   "cell_type": "code",
   "execution_count": 204,
   "metadata": {
    "ExecuteTime": {
     "end_time": "2019-10-29T00:39:26.851604Z",
     "start_time": "2019-10-29T00:39:24.474511Z"
    }
   },
   "outputs": [],
   "source": [
    "cnn_df.to_csv(cnn_label_file_all, sep=\"\\t\", index=False)"
   ]
  },
  {
   "cell_type": "code",
   "execution_count": 205,
   "metadata": {
    "ExecuteTime": {
     "end_time": "2019-10-29T00:39:26.881312Z",
     "start_time": "2019-10-29T00:39:26.854078Z"
    }
   },
   "outputs": [
    {
     "data": {
      "text/plain": [
       "'/path/to/data/MinION_sequencing_data_20191011/guppy_3.2.2_10_11_19_run_02_exec_20191014/cnn/model_v4_0_1_all_reads_ad14db7fb43131fd3ac954214b0b4a3084956a53.tsv'"
      ]
     },
     "execution_count": 205,
     "metadata": {},
     "output_type": "execute_result"
    }
   ],
   "source": [
    "cnn_label_file_all"
   ]
  },
  {
   "cell_type": "markdown",
   "metadata": {},
   "source": [
    "## Sum up read counts"
   ]
  },
  {
   "cell_type": "raw",
   "metadata": {
    "ExecuteTime": {
     "end_time": "2019-10-29T00:39:27.509483Z",
     "start_time": "2019-10-29T00:39:26.883675Z"
    }
   },
   "source": [
    "df = pd.read_csv(cnn_label_file_all, sep=\"\\t\")\n",
    "y_pred_saved = list(df[\"cnn_label\"])"
   ]
  },
  {
   "cell_type": "code",
   "execution_count": 208,
   "metadata": {
    "ExecuteTime": {
     "end_time": "2019-10-29T00:39:27.695332Z",
     "start_time": "2019-10-29T00:39:27.605609Z"
    }
   },
   "outputs": [
    {
     "name": "stdout",
     "output_type": "stream",
     "text": [
      "[(-1, 11731), (0, 98), (1, 2079), (2, 28), (3, 1060), (4, 1428), (5, 9669), (6, 28), (7, 3725), (8, 120), (9, 27299), (10, 19), (11, 44), (12, 8142), (13, 33), (14, 17), (15, 10141), (16, 206), (17, 1968), (18, 108), (19, 11491), (20, 196), (21, 775), (22, 1871), (23, 314), (24, 21), (25, 3964), (26, 140), (27, 65), (28, 1457), (29, 3236), (30, 57), (31, 99), (32, 10099), (33, 40), (34, 47), (35, 1914), (36, 135), (37, 5016), (38, 2704), (39, 3681), (40, 6984), (41, 87), (42, 394), (43, 15367), (44, 65), (45, 2751), (46, 1550), (47, 144), (48, 8), (49, 139), (50, 13482), (51, 9099), (52, 1768), (53, 273), (54, 8627), (55, 12), (56, 47), (57, 3085), (58, 65), (59, 208), (60, 212), (61, 195), (62, 3124), (63, 7422), (64, 15), (65, 4208), (66, 2518), (67, 3215), (68, 4982), (69, 2895), (70, 2504), (71, 39), (72, 66), (73, 9419), (74, 103), (75, 5655), (76, 516), (77, 30), (78, 967), (79, 2150), (80, 8684), (81, 8836), (82, 213), (83, 3047), (84, 47), (85, 18727), (86, 10641), (87, 7739), (88, 5974), (89, 4057), (90, 10796), (91, 48), (92, 8723), (93, 7028), (94, 130), (95, 69)]\n"
     ]
    }
   ],
   "source": [
    "l_all, c_all = np.unique(y_pred_all, return_counts=True)\n",
    "print(list(zip(l_all, c_all)))"
   ]
  },
  {
   "cell_type": "code",
   "execution_count": 209,
   "metadata": {
    "ExecuteTime": {
     "end_time": "2019-10-29T00:39:27.744789Z",
     "start_time": "2019-10-29T00:39:27.697769Z"
    },
    "code_folding": []
   },
   "outputs": [],
   "source": [
    "def plot_read_counts(labels, counts, labels_on_flowcell, labels_in_run,\n",
    "                     possible_labels=None, ax=None, vmax=None, title_note=None):\n",
    "    from matplotlib.patches import Patch\n",
    "    if vmax is None:\n",
    "        vmax = max(counts) + max(int(0.1 * max(counts)), 100)\n",
    "    if ax == None:\n",
    "        fig, ax = plt.subplots(figsize=(30, 8))\n",
    "    if possible_labels is None:\n",
    "        possible_labels = labels[:]\n",
    "    g = sns.barplot(x=labels, y=counts, order=possible_labels, ax=ax)\n",
    "    title = \"#/reads identified per barcode\"\n",
    "    if title_note is not None:\n",
    "        title += \"\\n(%s)\" % title_note\n",
    "    ax.set_title(title)\n",
    "    ax.set_xlabel(\"Barcode ID\")\n",
    "    ax.set_ylabel(\"Read counts\")\n",
    "    ax.set_ylim([0, vmax])\n",
    "    \n",
    "    prev_text_height = 0\n",
    "    for j, label in enumerate(possible_labels):\n",
    "        if label in labels:\n",
    "            count = counts[labels.index(label)]\n",
    "        else:\n",
    "            count = 0\n",
    "        if label == \"-1\":\n",
    "            continue\n",
    "        \n",
    "        if label in labels_in_run:\n",
    "            g.containers[0].get_children()[j].set_facecolor(\"tab:red\")\n",
    "            font_kwargs = {\"color\": \"tab:red\", \"weight\": \"bold\"} \n",
    "        elif label in labels_on_flowcell:\n",
    "            g.containers[0].get_children()[j].set_facecolor(\"tab:blue\")\n",
    "            font_kwargs = {\"color\": \"k\", \"weight\": \"bold\"}\n",
    "        else:\n",
    "            g.containers[0].get_children()[j].set_facecolor(\"k\")\n",
    "            font_kwargs = {\"color\": \"k\", \"weight\": \"normal\"}\n",
    "            \n",
    "        diff = prev_text_height - (count + 0.01 * vmax)\n",
    "        if count < 100:\n",
    "            text_height = count + .01 * vmax\n",
    "            ax.text(j, text_height, count, ha=\"center\", **font_kwargs)\n",
    "        elif diff < 0 and np.abs(diff) < vmax * .06:\n",
    "            text_height = np.max([prev_text_height + .035 * vmax, count + .01 * vmax])\n",
    "            ax.text(j, text_height, count, ha=\"center\", **font_kwargs)\n",
    "        elif np.abs(diff) < vmax * .05:\n",
    "            text_height = np.min([prev_text_height - .01 * vmax, count + .01 * vmax])\n",
    "            ax.text(j, text_height, count, ha=\"center\", **font_kwargs)\n",
    "        else:\n",
    "            text_height = count + .01 * vmax\n",
    "            ax.text(j, text_height, count, ha=\"center\", **font_kwargs)\n",
    "        prev_text_height = text_height\n",
    "        \n",
    "    legend_elements = [Patch(facecolor='k', edgecolor='k',\n",
    "                         label='never been run on this flowcell'),\n",
    "                       Patch(facecolor='tab:blue', edgecolor='tab:blue',\n",
    "                         label='prev run on flowcell'),\n",
    "                       Patch(facecolor='tab:red', edgecolor='tab:red',\n",
    "                         label='current run on flowcell')]\n",
    "    leg = ax.legend(handles=legend_elements)\n",
    "    t1, t2, t3 = leg.get_texts()\n",
    "    t2._fontproperties = t1._fontproperties.copy()\n",
    "    t3._fontproperties = t1._fontproperties.copy()\n",
    "    t2.set_weight('bold')\n",
    "    t3.set_weight('bold')\n",
    "    t3.set_color(\"tab:red\")\n",
    "    return ax"
   ]
  },
  {
   "cell_type": "code",
   "execution_count": 210,
   "metadata": {
    "ExecuteTime": {
     "end_time": "2019-10-29T00:39:27.775298Z",
     "start_time": "2019-10-29T00:39:27.747160Z"
    }
   },
   "outputs": [],
   "source": [
    "# Create set_N variables based on spreadsheet\n",
    "molbit_sets = {}\n",
    "for ix, row in set_spreadsheet.iterrows():\n",
    "    set_no = re.findall(r\"set ([\\d]+)\", row[\"set\"])[0]\n",
    "    molbits = row[\"molbits_in_set\"]\n",
    "    molbit_sets[set_no] = molbits.split(\", \")"
   ]
  },
  {
   "cell_type": "code",
   "execution_count": 211,
   "metadata": {
    "ExecuteTime": {
     "end_time": "2019-10-29T00:39:27.808321Z",
     "start_time": "2019-10-29T00:39:27.777508Z"
    }
   },
   "outputs": [],
   "source": [
    "run_data = dict(run_spreadsheet[run_spreadsheet[\"run_name\"] == run_name].iloc[0, :])\n",
    "molbit_set_in_run = str(run_data.get(\"molbit_set\"))\n",
    "molbit_sets_on_flowcell = run_data.get(\"prev_on_flowcell\")\n",
    "\n",
    "molbits_in_run = molbit_sets[molbit_set_in_run]\n",
    "molbits_on_flowcell = molbits_in_run[:]\n",
    "if molbit_sets_on_flowcell != \"none\":\n",
    "    molbit_sets_on_flowcell = molbit_sets_on_flowcell.split(\", \")\n",
    "    for m in molbit_sets_on_flowcell:\n",
    "        print(m)\n",
    "        print(molbit_sets[m])\n",
    "        molbits_on_flowcell.extend(molbit_sets[m])\n",
    "    print(molbits_on_flowcell)"
   ]
  },
  {
   "cell_type": "code",
   "execution_count": 212,
   "metadata": {
    "ExecuteTime": {
     "end_time": "2019-10-29T00:39:35.347822Z",
     "start_time": "2019-10-29T00:39:27.810764Z"
    },
    "scrolled": false
   },
   "outputs": [
    {
     "data": {
      "image/png": "[encoded data removed]",
      "text/plain": [
       "<Figure size 2160x576 with 1 Axes>"
      ]
     },
     "metadata": {},
     "output_type": "display_data"
    }
   ],
   "source": [
    "molbits = [str(x) for x in l_all]\n",
    "counts = list(c_all)\n",
    "on_flowcell = [str(x) for x in molbits_on_flowcell]\n",
    "in_run = [str(x) for x in molbits_in_run]\n",
    "poss_molbits = [str(x) for x in range(96)]\n",
    "plot_read_counts(molbits, counts,\n",
    "                 on_flowcell, in_run,\n",
    "                 possible_labels=poss_molbits,\n",
    "#                  vmax=800,\n",
    "                 title_note=f\"{run_name} test tag: predictions from all reads (model v4_0_1)\")\n",
    "plt.savefig(f\"/ssd1/home/kdorosch/code/punchcard-tagger/v4/plots/by_run/{run_name}_model_v4_0_1_preds.svg\")"
   ]
  },
  {
   "cell_type": "markdown",
   "metadata": {},
   "source": [
    "## Try with scaling factors"
   ]
  },
  {
   "cell_type": "code",
   "execution_count": 213,
   "metadata": {
    "ExecuteTime": {
     "end_time": "2019-10-29T00:39:35.383400Z",
     "start_time": "2019-10-29T00:39:35.350640Z"
    }
   },
   "outputs": [],
   "source": [
    "scaling_factors = [117.44079692,  296.08219178,   79.3902663 ,   63.8680128 ,\n",
    "        301.24041812,  106.23305345,   50.35782934,   94.36710933,\n",
    "        261.39458779,   23.42805573,  236.19903327,  215.71332122,\n",
    "         72.68457433, 1674.82258065,  359.61558442,   92.43485034,\n",
    "         55.15762106,  147.49710313,  161.68942521,   41.8235584 ,\n",
    "         72.38555587,  124.39775226,  207.99019608,  599.71731449,\n",
    "        410.15625   ,  146.23955432,   81.21546961,  151.60891089,\n",
    "        265.91895803,   93.01442673,   59.58171206,   41.92334018,\n",
    "         75.73638033,  100.18461538,  178.88385542,  176.9227836 ,\n",
    "         35.15      ,   99.06164932,  435.15123095,  124.01737387,\n",
    "        100.70515917,  113.01108647,  127.24327323,   34.53376496,\n",
    "        113.68327138,   86.11075652,  317.00898411,  239.53629243,\n",
    "         83.78780013,  276.0384821 ,   89.75808133,   32.18069662,\n",
    "        250.71262136,  310.93798916,   76.84392204,  187.19391084,\n",
    "        211.31315136,  165.0372093 ,   71.34651475,  403.21590909,\n",
    "         35.59571978,  201.41721854,  126.01242971,   66.43719769,\n",
    "       1425.49333333,  102.0477251 ,   39.45092251,   84.89571202,\n",
    "         68.85702018,  148.00922935,  204.68155712,  104.81568627,\n",
    "         66.45394046,  150.09968354,   32.68883529,   74.21318208,\n",
    "        797.16806723,   93.0257416 ,  348.76102941,  372.37684004,\n",
    "         95.12844828,   56.96902426,  143.82404692,  231.58237146,\n",
    "        171.5491644 ,   65.69370442,   68.64634526,  119.36073553,\n",
    "        128.91764706,   32.27093687,  114.79353994,  433.62242374,\n",
    "         92.13242249,  293.19063545,  129.10751105,   86.49629995]\n",
    "scaling_factors = np.array(scaling_factors)"
   ]
  },
  {
   "cell_type": "code",
   "execution_count": 214,
   "metadata": {
    "ExecuteTime": {
     "end_time": "2019-10-29T00:39:35.413826Z",
     "start_time": "2019-10-29T00:39:35.385832Z"
    }
   },
   "outputs": [],
   "source": [
    "def get_read_counts(labels, possible_labels=[]):\n",
    "    labels = list(labels)\n",
    "\n",
    "    for i, label in enumerate(labels):\n",
    "        if label not in possible_labels:\n",
    "            labels[i] = \"-1\"\n",
    "    labels = np.array(labels, dtype=np.array(possible_labels).dtype)\n",
    "    labels, counts = np.unique(labels, return_counts=True)\n",
    "    ordered_counts = np.zeros(len(possible_labels), dtype=int)\n",
    "    for i, possible_label in enumerate(possible_labels):\n",
    "        ix = np.argwhere(labels == possible_label)\n",
    "        if len(ix) > 0:\n",
    "            ix = ix[0][0]\n",
    "            ordered_counts[i] = counts[ix]\n",
    "            assert labels[ix] == possible_label\n",
    "            ordered_counts[i] = counts[ix]\n",
    "    return ordered_counts"
   ]
  },
  {
   "cell_type": "code",
   "execution_count": 215,
   "metadata": {
    "ExecuteTime": {
     "end_time": "2019-10-29T00:39:42.907276Z",
     "start_time": "2019-10-29T00:39:35.415871Z"
    }
   },
   "outputs": [
    {
     "data": {
      "image/png": "[encoded data removed]",
      "text/plain": [
       "<Figure size 2160x576 with 1 Axes>"
      ]
     },
     "metadata": {},
     "output_type": "display_data"
    }
   ],
   "source": [
    "molbits = [str(x) for x in l_all]\n",
    "poss_molbits = [str(x) for x in range(96)]\n",
    "counts = get_read_counts([str(x) for x in y_pred_all], possible_labels=poss_molbits)\n",
    "counts = np.multiply(np.array(counts), scaling_factors)\n",
    "counts = [int(x) for x in np.ceil(counts / sum(counts) * len(y_pred_all))]\n",
    "on_flowcell = [str(x) for x in molbits_on_flowcell]\n",
    "in_run = [str(x) for x in molbits_in_run]\n",
    "plot_read_counts(poss_molbits, counts,\n",
    "                 on_flowcell, in_run,\n",
    "                 possible_labels=poss_molbits,\n",
    "#                  vmax=800,\n",
    "                 title_note=f\"{run_name} test tag: predictions from all reads (model v4_0_1), scaled\")\n",
    "plt.savefig(f\"/ssd1/home/kdorosch/code/punchcard-tagger/v4/plots/by_run/{run_name}_model_v4_0_1_preds_scaled.svg\")"
   ]
  },
  {
   "cell_type": "code",
   "execution_count": 216,
   "metadata": {
    "ExecuteTime": {
     "end_time": "2019-10-29T00:39:42.937176Z",
     "start_time": "2019-10-29T00:39:42.909634Z"
    }
   },
   "outputs": [],
   "source": [
    "sns.set(font_scale=1.1, style=\"white\")"
   ]
  },
  {
   "cell_type": "code",
   "execution_count": 217,
   "metadata": {
    "ExecuteTime": {
     "end_time": "2019-10-29T00:39:42.981735Z",
     "start_time": "2019-10-29T00:39:42.939464Z"
    },
    "code_folding": []
   },
   "outputs": [],
   "source": [
    "def plot_read_counts_v2(labels, counts, labels_in_run,\n",
    "                     possible_labels=None, ax=None, vmax=None, title_note=None):\n",
    "    from matplotlib.patches import Patch\n",
    "    \n",
    "    bit0_facecolor = \"tab:gray\"\n",
    "    bit0_textcolor = \"tab:gray\"\n",
    "    bit1_facecolor = \"tab:blue\"\n",
    "    bit1_textcolor = \"k\"\n",
    "    \n",
    "    if vmax is None:\n",
    "        vmax = max(counts) + max(int(0.1 * max(counts)), 100)\n",
    "    if ax == None:\n",
    "        fig, ax = plt.subplots(figsize=(30, 8))\n",
    "    if possible_labels is None:\n",
    "        possible_labels = labels[:]\n",
    "    g = sns.barplot(x=labels, y=counts, order=possible_labels, ax=ax)\n",
    "    title = \"#/reads identified per molbit\"\n",
    "    if title_note is not None:\n",
    "        title += \"\\n(%s)\" % title_note\n",
    "    ax.set_title(title)\n",
    "    ax.set_xlabel(\"Molbit ID\")\n",
    "    ax.set_ylabel(\"Read counts\")\n",
    "    ax.set_ylim([0, vmax])\n",
    "    \n",
    "    prev_text_height = 0\n",
    "    for j, label in enumerate(possible_labels):\n",
    "        if label in labels:\n",
    "            count = counts[labels.index(label)]\n",
    "        else:\n",
    "            count = 0\n",
    "        if label == \"-1\":\n",
    "            continue\n",
    "        \n",
    "        if label in labels_in_run:\n",
    "            g.containers[0].get_children()[j].set_facecolor(bit1_facecolor)\n",
    "            font_kwargs = {\"color\": bit1_textcolor, \"weight\": \"normal\"} \n",
    "        else:\n",
    "            g.containers[0].get_children()[j].set_facecolor(bit0_facecolor)\n",
    "            font_kwargs = {\"color\": bit0_textcolor, \"weight\": \"normal\"}\n",
    "            \n",
    "        rotate_text = 0\n",
    "        diff = prev_text_height - (count + 0.01 * vmax)\n",
    "        if count < 100:\n",
    "            text_height = count + .01 * vmax\n",
    "            ax.text(j, text_height, count, ha=\"center\", rotation=rotate_text, **font_kwargs)\n",
    "        elif diff < 0 and np.abs(diff) < vmax * .06:\n",
    "            text_height = np.max([prev_text_height + .035 * vmax, count + .01 * vmax])\n",
    "            ax.text(j, text_height, count, ha=\"center\", rotation=rotate_text, **font_kwargs)\n",
    "        elif np.abs(diff) < vmax * .05:\n",
    "            text_height = np.min([prev_text_height - .03 * vmax, count + .01 * vmax])\n",
    "            ax.text(j, text_height, count, ha=\"center\", rotation=rotate_text, **font_kwargs)\n",
    "        else:\n",
    "            text_height = count + .01 * vmax\n",
    "            ax.text(j, text_height, count, ha=\"center\", rotation=rotate_text, **font_kwargs)\n",
    "        prev_text_height = text_height\n",
    "        \n",
    "    legend_elements = [Patch(facecolor=bit0_facecolor, edgecolor=bit0_facecolor,\n",
    "                         label='0-bits'),\n",
    "                       Patch(facecolor=bit1_facecolor, edgecolor=bit1_facecolor,\n",
    "                         label='1-bits')]\n",
    "    leg = ax.legend(handles=legend_elements)\n",
    "    t1, t2 = leg.get_texts()\n",
    "    t2._fontproperties = t1._fontproperties.copy()\n",
    "    t2.set_weight('normal')\n",
    "    t1.set_weight('normal')\n",
    "    t2.set_color(bit1_textcolor)\n",
    "    t1.set_color(bit0_textcolor)\n",
    "    return ax"
   ]
  },
  {
   "cell_type": "code",
   "execution_count": 218,
   "metadata": {
    "ExecuteTime": {
     "end_time": "2019-10-29T00:39:43.079240Z",
     "start_time": "2019-10-29T00:39:42.983896Z"
    }
   },
   "outputs": [
    {
     "data": {
      "text/plain": [
       "[(-1, 11731),\n",
       " (0, 98),\n",
       " (1, 2079),\n",
       " (2, 28),\n",
       " (3, 1060),\n",
       " (4, 1428),\n",
       " (5, 9669),\n",
       " (6, 28),\n",
       " (7, 3725),\n",
       " (8, 120),\n",
       " (9, 27299),\n",
       " (10, 19),\n",
       " (11, 44),\n",
       " (12, 8142),\n",
       " (13, 33),\n",
       " (14, 17),\n",
       " (15, 10141),\n",
       " (16, 206),\n",
       " (17, 1968),\n",
       " (18, 108),\n",
       " (19, 11491),\n",
       " (20, 196),\n",
       " (21, 775),\n",
       " (22, 1871),\n",
       " (23, 314),\n",
       " (24, 21),\n",
       " (25, 3964),\n",
       " (26, 140),\n",
       " (27, 65),\n",
       " (28, 1457),\n",
       " (29, 3236),\n",
       " (30, 57),\n",
       " (31, 99),\n",
       " (32, 10099),\n",
       " (33, 40),\n",
       " (34, 47),\n",
       " (35, 1914),\n",
       " (36, 135),\n",
       " (37, 5016),\n",
       " (38, 2704),\n",
       " (39, 3681),\n",
       " (40, 6984),\n",
       " (41, 87),\n",
       " (42, 394),\n",
       " (43, 15367),\n",
       " (44, 65),\n",
       " (45, 2751),\n",
       " (46, 1550),\n",
       " (47, 144),\n",
       " (48, 8),\n",
       " (49, 139),\n",
       " (50, 13482),\n",
       " (51, 9099),\n",
       " (52, 1768),\n",
       " (53, 273),\n",
       " (54, 8627),\n",
       " (55, 12),\n",
       " (56, 47),\n",
       " (57, 3085),\n",
       " (58, 65),\n",
       " (59, 208),\n",
       " (60, 212),\n",
       " (61, 195),\n",
       " (62, 3124),\n",
       " (63, 7422),\n",
       " (64, 15),\n",
       " (65, 4208),\n",
       " (66, 2518),\n",
       " (67, 3215),\n",
       " (68, 4982),\n",
       " (69, 2895),\n",
       " (70, 2504),\n",
       " (71, 39),\n",
       " (72, 66),\n",
       " (73, 9419),\n",
       " (74, 103),\n",
       " (75, 5655),\n",
       " (76, 516),\n",
       " (77, 30),\n",
       " (78, 967),\n",
       " (79, 2150),\n",
       " (80, 8684),\n",
       " (81, 8836),\n",
       " (82, 213),\n",
       " (83, 3047),\n",
       " (84, 47),\n",
       " (85, 18727),\n",
       " (86, 10641),\n",
       " (87, 7739),\n",
       " (88, 5974),\n",
       " (89, 4057),\n",
       " (90, 10796),\n",
       " (91, 48),\n",
       " (92, 8723),\n",
       " (93, 7028),\n",
       " (94, 130),\n",
       " (95, 69)]"
      ]
     },
     "execution_count": 218,
     "metadata": {},
     "output_type": "execute_result"
    }
   ],
   "source": [
    "list(zip(*np.unique(y_pred_saved, return_counts=True)))"
   ]
  },
  {
   "cell_type": "code",
   "execution_count": 219,
   "metadata": {
    "ExecuteTime": {
     "end_time": "2019-10-29T00:39:44.071504Z",
     "start_time": "2019-10-29T00:39:43.081418Z"
    }
   },
   "outputs": [],
   "source": [
    "molbits = [str(x) for x in l_all]\n",
    "poss_molbits = [str(x) for x in range(96)]\n",
    "counts = get_read_counts([str(x) for x in y_pred_all], possible_labels=poss_molbits)\n",
    "counts = np.multiply(np.array(counts), scaling_factors)\n",
    "counts = [int(x) for x in np.ceil(counts / sum(counts) * len(y_pred_all))]\n",
    "on_flowcell = [str(x) for x in molbits_on_flowcell]\n",
    "in_run = [str(x) for x in molbits_in_run]"
   ]
  },
  {
   "cell_type": "code",
   "execution_count": 220,
   "metadata": {
    "ExecuteTime": {
     "end_time": "2019-10-29T00:39:51.692350Z",
     "start_time": "2019-10-29T00:39:44.074146Z"
    }
   },
   "outputs": [
    {
     "data": {
      "image/png": "[encoded data removed]",
      "text/plain": [
       "<Figure size 2160x576 with 1 Axes>"
      ]
     },
     "metadata": {},
     "output_type": "display_data"
    }
   ],
   "source": [
    "\n",
    "plot_read_counts_v2(poss_molbits, counts,\n",
    "                 in_run,\n",
    "                 possible_labels=poss_molbits,\n",
    "#                  vmax=800,\n",
    "                 title_note=f\"{run_name} test tag: predictions from all reads (model v4_0_1), scaled\")\n",
    "plt.savefig(f\"/ssd1/home/kdorosch/code/punchcard-tagger/v4/plots/by_run/{run_name}_model_v4_0_1_preds_scaled_altplot.svg\")"
   ]
  },
  {
   "cell_type": "code",
   "execution_count": null,
   "metadata": {},
   "outputs": [],
   "source": []
  },
  {
   "cell_type": "code",
   "execution_count": null,
   "metadata": {},
   "outputs": [],
   "source": []
  },
  {
   "cell_type": "markdown",
   "metadata": {},
   "source": [
    "# Predict on labeled data"
   ]
  },
  {
   "cell_type": "code",
   "execution_count": 39,
   "metadata": {
    "ExecuteTime": {
     "end_time": "2019-10-28T22:24:16.757154Z",
     "start_time": "2019-10-28T22:24:16.735525Z"
    }
   },
   "outputs": [],
   "source": [
    "test_loader_params = {\"batch_size\": 500,\n",
    "          \"shuffle\": False,\n",
    "          \"num_workers\": 30}\n",
    "test_generator = DataLoader(md_labeled, **test_loader_params)"
   ]
  },
  {
   "cell_type": "code",
   "execution_count": 40,
   "metadata": {
    "ExecuteTime": {
     "end_time": "2019-10-28T22:24:16.877370Z",
     "start_time": "2019-10-28T22:24:16.759244Z"
    }
   },
   "outputs": [],
   "source": [
    "torch.cuda.empty_cache()"
   ]
  },
  {
   "cell_type": "code",
   "execution_count": 41,
   "metadata": {
    "ExecuteTime": {
     "end_time": "2019-10-28T22:24:38.719181Z",
     "start_time": "2019-10-28T22:24:16.881368Z"
    }
   },
   "outputs": [
    {
     "ename": "KeyboardInterrupt",
     "evalue": "",
     "output_type": "error",
     "traceback": [
      "\u001b[0;31m---------------------------------------------------------------------------\u001b[0m",
      "\u001b[0;31mKeyboardInterrupt\u001b[0m                         Traceback (most recent call last)",
      "\u001b[0;32m<ipython-input-41-e41168cea5d7>\u001b[0m in \u001b[0;36m<module>\u001b[0;34m\u001b[0m\n\u001b[1;32m     12\u001b[0m     \u001b[0mpred_score\u001b[0m\u001b[0;34m,\u001b[0m \u001b[0mprediction\u001b[0m \u001b[0;34m=\u001b[0m \u001b[0mtorch\u001b[0m\u001b[0;34m.\u001b[0m\u001b[0mmax\u001b[0m\u001b[0;34m(\u001b[0m\u001b[0msoftmax_score\u001b[0m\u001b[0;34m,\u001b[0m \u001b[0mdim\u001b[0m\u001b[0;34m=\u001b[0m\u001b[0;36m1\u001b[0m\u001b[0;34m)\u001b[0m\u001b[0;34m\u001b[0m\u001b[0;34m\u001b[0m\u001b[0m\n\u001b[1;32m     13\u001b[0m \u001b[0;34m\u001b[0m\u001b[0m\n\u001b[0;32m---> 14\u001b[0;31m     \u001b[0my_pred_labeled\u001b[0m\u001b[0;34m.\u001b[0m\u001b[0mextend\u001b[0m\u001b[0;34m(\u001b[0m\u001b[0;34m[\u001b[0m\u001b[0mint\u001b[0m\u001b[0;34m(\u001b[0m\u001b[0mx\u001b[0m\u001b[0;34m)\u001b[0m \u001b[0;32mfor\u001b[0m \u001b[0mx\u001b[0m \u001b[0;32min\u001b[0m \u001b[0mprediction\u001b[0m\u001b[0;34m.\u001b[0m\u001b[0mcpu\u001b[0m\u001b[0;34m(\u001b[0m\u001b[0;34m)\u001b[0m\u001b[0;34m]\u001b[0m\u001b[0;34m)\u001b[0m\u001b[0;34m\u001b[0m\u001b[0;34m\u001b[0m\u001b[0m\n\u001b[0m\u001b[1;32m     15\u001b[0m     \u001b[0my_true_labeled\u001b[0m\u001b[0;34m.\u001b[0m\u001b[0mextend\u001b[0m\u001b[0;34m(\u001b[0m\u001b[0;34m[\u001b[0m\u001b[0mint\u001b[0m\u001b[0;34m(\u001b[0m\u001b[0mx\u001b[0m\u001b[0;34m)\u001b[0m \u001b[0;32mfor\u001b[0m \u001b[0mx\u001b[0m \u001b[0;32min\u001b[0m \u001b[0mlocal_labels\u001b[0m\u001b[0;34m.\u001b[0m\u001b[0mcpu\u001b[0m\u001b[0;34m(\u001b[0m\u001b[0;34m)\u001b[0m\u001b[0;34m]\u001b[0m\u001b[0;34m)\u001b[0m\u001b[0;34m\u001b[0m\u001b[0;34m\u001b[0m\u001b[0m\n\u001b[1;32m     16\u001b[0m     \u001b[0my_pred_score\u001b[0m\u001b[0;34m.\u001b[0m\u001b[0mextend\u001b[0m\u001b[0;34m(\u001b[0m\u001b[0;34m[\u001b[0m\u001b[0mfloat\u001b[0m\u001b[0;34m(\u001b[0m\u001b[0mx\u001b[0m\u001b[0;34m)\u001b[0m \u001b[0;32mfor\u001b[0m \u001b[0mx\u001b[0m \u001b[0;32min\u001b[0m \u001b[0mpred_score\u001b[0m\u001b[0;34m.\u001b[0m\u001b[0mcpu\u001b[0m\u001b[0;34m(\u001b[0m\u001b[0;34m)\u001b[0m\u001b[0;34m]\u001b[0m\u001b[0;34m)\u001b[0m\u001b[0;34m\u001b[0m\u001b[0;34m\u001b[0m\u001b[0m\n",
      "\u001b[0;32m<ipython-input-41-e41168cea5d7>\u001b[0m in \u001b[0;36m<listcomp>\u001b[0;34m(.0)\u001b[0m\n\u001b[1;32m     12\u001b[0m     \u001b[0mpred_score\u001b[0m\u001b[0;34m,\u001b[0m \u001b[0mprediction\u001b[0m \u001b[0;34m=\u001b[0m \u001b[0mtorch\u001b[0m\u001b[0;34m.\u001b[0m\u001b[0mmax\u001b[0m\u001b[0;34m(\u001b[0m\u001b[0msoftmax_score\u001b[0m\u001b[0;34m,\u001b[0m \u001b[0mdim\u001b[0m\u001b[0;34m=\u001b[0m\u001b[0;36m1\u001b[0m\u001b[0;34m)\u001b[0m\u001b[0;34m\u001b[0m\u001b[0;34m\u001b[0m\u001b[0m\n\u001b[1;32m     13\u001b[0m \u001b[0;34m\u001b[0m\u001b[0m\n\u001b[0;32m---> 14\u001b[0;31m     \u001b[0my_pred_labeled\u001b[0m\u001b[0;34m.\u001b[0m\u001b[0mextend\u001b[0m\u001b[0;34m(\u001b[0m\u001b[0;34m[\u001b[0m\u001b[0mint\u001b[0m\u001b[0;34m(\u001b[0m\u001b[0mx\u001b[0m\u001b[0;34m)\u001b[0m \u001b[0;32mfor\u001b[0m \u001b[0mx\u001b[0m \u001b[0;32min\u001b[0m \u001b[0mprediction\u001b[0m\u001b[0;34m.\u001b[0m\u001b[0mcpu\u001b[0m\u001b[0;34m(\u001b[0m\u001b[0;34m)\u001b[0m\u001b[0;34m]\u001b[0m\u001b[0;34m)\u001b[0m\u001b[0;34m\u001b[0m\u001b[0;34m\u001b[0m\u001b[0m\n\u001b[0m\u001b[1;32m     15\u001b[0m     \u001b[0my_true_labeled\u001b[0m\u001b[0;34m.\u001b[0m\u001b[0mextend\u001b[0m\u001b[0;34m(\u001b[0m\u001b[0;34m[\u001b[0m\u001b[0mint\u001b[0m\u001b[0;34m(\u001b[0m\u001b[0mx\u001b[0m\u001b[0;34m)\u001b[0m \u001b[0;32mfor\u001b[0m \u001b[0mx\u001b[0m \u001b[0;32min\u001b[0m \u001b[0mlocal_labels\u001b[0m\u001b[0;34m.\u001b[0m\u001b[0mcpu\u001b[0m\u001b[0;34m(\u001b[0m\u001b[0;34m)\u001b[0m\u001b[0;34m]\u001b[0m\u001b[0;34m)\u001b[0m\u001b[0;34m\u001b[0m\u001b[0;34m\u001b[0m\u001b[0m\n\u001b[1;32m     16\u001b[0m     \u001b[0my_pred_score\u001b[0m\u001b[0;34m.\u001b[0m\u001b[0mextend\u001b[0m\u001b[0;34m(\u001b[0m\u001b[0;34m[\u001b[0m\u001b[0mfloat\u001b[0m\u001b[0;34m(\u001b[0m\u001b[0mx\u001b[0m\u001b[0;34m)\u001b[0m \u001b[0;32mfor\u001b[0m \u001b[0mx\u001b[0m \u001b[0;32min\u001b[0m \u001b[0mpred_score\u001b[0m\u001b[0;34m.\u001b[0m\u001b[0mcpu\u001b[0m\u001b[0;34m(\u001b[0m\u001b[0;34m)\u001b[0m\u001b[0;34m]\u001b[0m\u001b[0;34m)\u001b[0m\u001b[0;34m\u001b[0m\u001b[0;34m\u001b[0m\u001b[0m\n",
      "\u001b[0;32m~/software/anaconda3/envs/py36/lib/python3.6/site-packages/torch/tensor.py\u001b[0m in \u001b[0;36m<lambda>\u001b[0;34m(i)\u001b[0m\n\u001b[1;32m    434\u001b[0m                           \u001b[0;34m'iterations executed (and might lead to errors or silently give '\u001b[0m\u001b[0;34m\u001b[0m\u001b[0;34m\u001b[0m\u001b[0m\n\u001b[1;32m    435\u001b[0m                           'incorrect results).', category=RuntimeWarning)\n\u001b[0;32m--> 436\u001b[0;31m         \u001b[0;32mreturn\u001b[0m \u001b[0miter\u001b[0m\u001b[0;34m(\u001b[0m\u001b[0mimap\u001b[0m\u001b[0;34m(\u001b[0m\u001b[0;32mlambda\u001b[0m \u001b[0mi\u001b[0m\u001b[0;34m:\u001b[0m \u001b[0mself\u001b[0m\u001b[0;34m[\u001b[0m\u001b[0mi\u001b[0m\u001b[0;34m]\u001b[0m\u001b[0;34m,\u001b[0m \u001b[0mrange\u001b[0m\u001b[0;34m(\u001b[0m\u001b[0mself\u001b[0m\u001b[0;34m.\u001b[0m\u001b[0msize\u001b[0m\u001b[0;34m(\u001b[0m\u001b[0;36m0\u001b[0m\u001b[0;34m)\u001b[0m\u001b[0;34m)\u001b[0m\u001b[0;34m)\u001b[0m\u001b[0;34m)\u001b[0m\u001b[0;34m\u001b[0m\u001b[0;34m\u001b[0m\u001b[0m\n\u001b[0m\u001b[1;32m    437\u001b[0m \u001b[0;34m\u001b[0m\u001b[0m\n\u001b[1;32m    438\u001b[0m     \u001b[0;32mdef\u001b[0m \u001b[0m__hash__\u001b[0m\u001b[0;34m(\u001b[0m\u001b[0mself\u001b[0m\u001b[0;34m)\u001b[0m\u001b[0;34m:\u001b[0m\u001b[0;34m\u001b[0m\u001b[0;34m\u001b[0m\u001b[0m\n",
      "\u001b[0;31mKeyboardInterrupt\u001b[0m: "
     ]
    }
   ],
   "source": [
    "y_pred_labeled = []\n",
    "y_true_labeled = []\n",
    "y_pred_score = []\n",
    "for i, (local_batch, local_labels) in enumerate(test_generator):\n",
    "    # Transfer to GPU\n",
    "    local_batch = local_batch.to(device)\n",
    "    local_labels = local_labels.to(device)\n",
    "    y_pred = model(local_batch).to(dtype=torch.float64)\n",
    "    local_labels = local_labels.to(dtype=torch.long)\n",
    "    \n",
    "    softmax_score = torch.nn.functional.softmax(y_pred, dim=1)\n",
    "    pred_score, prediction = torch.max(softmax_score, dim=1)\n",
    "\n",
    "    y_pred_labeled.extend([int(x) for x in prediction.cpu()])\n",
    "    y_true_labeled.extend([int(x) for x in local_labels.cpu()])\n",
    "    y_pred_score.extend([float(x) for x in pred_score.cpu()])"
   ]
  },
  {
   "cell_type": "code",
   "execution_count": null,
   "metadata": {
    "ExecuteTime": {
     "end_time": "2019-10-28T22:24:38.720642Z",
     "start_time": "2019-10-28T22:24:14.442Z"
    }
   },
   "outputs": [],
   "source": [
    "cnn_df_labeled = pd.DataFrame()\n",
    "cnn_df_labeled[\"read_id\"] = labeled_read_ids.astype(str)\n",
    "cnn_df_labeled[\"cnn_label\"] = y_pred_labeled\n",
    "cnn_df_labeled[\"cnn_score\"] = y_pred_score\n",
    "cnn_df_labeled[\"sw_label\"] = y_true_labeled"
   ]
  },
  {
   "cell_type": "code",
   "execution_count": null,
   "metadata": {
    "ExecuteTime": {
     "end_time": "2019-10-28T22:24:38.722002Z",
     "start_time": "2019-10-28T22:24:14.624Z"
    }
   },
   "outputs": [],
   "source": [
    "cnn_df_labeled.to_csv(cnn_label_file, sep=\"\\t\", index=False)"
   ]
  },
  {
   "cell_type": "code",
   "execution_count": null,
   "metadata": {
    "ExecuteTime": {
     "end_time": "2019-10-28T22:24:38.723489Z",
     "start_time": "2019-10-28T22:24:14.887Z"
    }
   },
   "outputs": [],
   "source": [
    "cnn_label_file"
   ]
  },
  {
   "cell_type": "markdown",
   "metadata": {},
   "source": [
    "# Evaluate error"
   ]
  },
  {
   "cell_type": "code",
   "execution_count": null,
   "metadata": {
    "ExecuteTime": {
     "end_time": "2019-10-28T22:24:38.724935Z",
     "start_time": "2019-10-28T22:24:15.270Z"
    }
   },
   "outputs": [],
   "source": [
    "from sklearn.metrics import confusion_matrix"
   ]
  },
  {
   "cell_type": "code",
   "execution_count": null,
   "metadata": {
    "ExecuteTime": {
     "end_time": "2019-10-28T22:24:38.726503Z",
     "start_time": "2019-10-28T22:24:15.464Z"
    }
   },
   "outputs": [],
   "source": [
    "np.sum([x == y for x, y in zip(y_true_labeled, y_pred_labeled)]), len(y_true_labeled)"
   ]
  },
  {
   "cell_type": "code",
   "execution_count": null,
   "metadata": {
    "ExecuteTime": {
     "end_time": "2019-10-28T22:24:38.727861Z",
     "start_time": "2019-10-28T22:24:15.657Z"
    }
   },
   "outputs": [],
   "source": [
    "1. * np.sum([x == y for x, y in zip(y_true_labeled, y_pred_labeled)]) / len(y_true_labeled)"
   ]
  },
  {
   "cell_type": "code",
   "execution_count": null,
   "metadata": {
    "ExecuteTime": {
     "end_time": "2019-10-28T22:24:38.729486Z",
     "start_time": "2019-10-28T22:24:15.816Z"
    }
   },
   "outputs": [],
   "source": [
    "l, c = np.unique(y_true_labeled, return_counts=True)"
   ]
  },
  {
   "cell_type": "code",
   "execution_count": null,
   "metadata": {
    "ExecuteTime": {
     "end_time": "2019-10-28T22:24:38.731074Z",
     "start_time": "2019-10-28T22:24:15.999Z"
    }
   },
   "outputs": [],
   "source": [
    "norm = []\n",
    "for molbit in range(96):\n",
    "    if molbit in l:\n",
    "        i = list(l).index(molbit)\n",
    "        norm.append(c[i])\n",
    "    else:\n",
    "        norm.append(1)\n",
    "norm = np.array(norm)"
   ]
  },
  {
   "cell_type": "code",
   "execution_count": null,
   "metadata": {
    "ExecuteTime": {
     "end_time": "2019-10-28T22:24:38.732562Z",
     "start_time": "2019-10-28T22:24:16.178Z"
    }
   },
   "outputs": [],
   "source": [
    "cm = confusion_matrix(y_true_labeled, y_pred_labeled, labels=range(96))"
   ]
  },
  {
   "cell_type": "code",
   "execution_count": null,
   "metadata": {
    "ExecuteTime": {
     "end_time": "2019-10-28T22:24:38.734138Z",
     "start_time": "2019-10-28T22:24:16.668Z"
    },
    "scrolled": false
   },
   "outputs": [],
   "source": [
    "fig, ax = plt.subplots(figsize=(16, 12))\n",
    "sns.heatmap(cm / norm[:, np.newaxis], vmin=0, vmax=0.01)\n",
    "plt.savefig(f\"/ssd1/home/kdorosch/code/punchcard-tagger/v4/plots/by_run/{run_name}_model_v4_0_1_cm.svg\")"
   ]
  },
  {
   "cell_type": "code",
   "execution_count": null,
   "metadata": {},
   "outputs": [],
   "source": []
  }
 ],
 "metadata": {
  "kernelspec": {
   "display_name": "Python 3.6",
   "language": "python",
   "name": "py36"
  },
  "language_info": {
   "codemirror_mode": {
    "name": "ipython",
    "version": 3
   },
   "file_extension": ".py",
   "mimetype": "text/x-python",
   "name": "python",
   "nbconvert_exporter": "python",
   "pygments_lexer": "ipython3",
   "version": "3.6.8"
  },
  "notify_time": "10",
  "toc": {
   "base_numbering": 1,
   "nav_menu": {},
   "number_sections": true,
   "sideBar": true,
   "skip_h1_title": false,
   "title_cell": "Table of Contents",
   "title_sidebar": "Contents",
   "toc_cell": false,
   "toc_position": {},
   "toc_section_display": true,
   "toc_window_display": false
  }
 },
 "nbformat": 4,
 "nbformat_minor": 2
}
