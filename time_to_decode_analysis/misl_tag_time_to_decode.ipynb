{
 "cells": [
  {
   "cell_type": "code",
   "execution_count": 1,
   "metadata": {
    "ExecuteTime": {
     "end_time": "2020-03-11T23:47:29.095261Z",
     "start_time": "2020-03-11T23:47:28.126856Z"
    }
   },
   "outputs": [],
   "source": [
    "%load_ext autoreload\n",
    "%autoreload 2\n",
    "%matplotlib inline\n",
    "import os\n",
    "import h5py\n",
    "import numpy as np\n",
    "import pandas as pd\n",
    "import logging\n",
    "import re\n",
    "from scipy.stats import pearsonr\n",
    "from subprocess import check_output\n",
    "\n",
    "from matplotlib import pyplot as plt\n",
    "import seaborn as sns\n",
    "from matplotlib import cm\n",
    "import matplotlib as mpl\n",
    "sns.set(font_scale=1.5, style=\"whitegrid\")\n",
    "\n",
    "import dask.bag as db\n",
    "from dask.diagnostics import ProgressBar\n",
    "ProgressBar().register()"
   ]
  },
  {
   "cell_type": "code",
   "execution_count": 2,
   "metadata": {
    "ExecuteTime": {
     "end_time": "2020-03-11T23:47:29.111170Z",
     "start_time": "2020-03-11T23:47:29.097412Z"
    }
   },
   "outputs": [],
   "source": [
    "import logging\n",
    "mpl_logger = logging.getLogger('matplotlib')\n",
    "mpl_logger.setLevel(logging.WARNING)"
   ]
  },
  {
   "cell_type": "code",
   "execution_count": 3,
   "metadata": {
    "ExecuteTime": {
     "end_time": "2020-03-11T23:47:29.127947Z",
     "start_time": "2020-03-11T23:47:29.113017Z"
    }
   },
   "outputs": [],
   "source": [
    "logger = logging.getLogger(__name__)\n",
    "logging.basicConfig(format='[%(asctime)s - %(name)s] %(message)s',\n",
    "                        datefmt='%H:%M:%S',\n",
    "                        level=logging.DEBUG,\n",
    "                        handlers=[logging.StreamHandler()])"
   ]
  },
  {
   "cell_type": "markdown",
   "metadata": {},
   "source": [
    "# Import precalculated decodings"
   ]
  },
  {
   "cell_type": "code",
   "execution_count": 4,
   "metadata": {
    "ExecuteTime": {
     "end_time": "2020-03-11T23:47:29.143750Z",
     "start_time": "2020-03-11T23:47:29.129556Z"
    }
   },
   "outputs": [],
   "source": [
    "precalc_file = \"synthetic_tags/10_11_19_run_02_misl_100k_scaled.tsv\""
   ]
  },
  {
   "cell_type": "code",
   "execution_count": 5,
   "metadata": {
    "ExecuteTime": {
     "end_time": "2020-03-11T23:47:29.187676Z",
     "start_time": "2020-03-11T23:47:29.145622Z"
    }
   },
   "outputs": [],
   "source": [
    "subsample_df = pd.read_csv(precalc_file, sep=\"\\t\", index_col=None, comment=\"#\")"
   ]
  },
  {
   "cell_type": "code",
   "execution_count": 6,
   "metadata": {
    "ExecuteTime": {
     "end_time": "2020-03-11T23:47:29.223967Z",
     "start_time": "2020-03-11T23:47:29.189644Z"
    }
   },
   "outputs": [
    {
     "data": {
      "text/html": [
       "<div>\n",
       "<style scoped>\n",
       "    .dataframe tbody tr th:only-of-type {\n",
       "        vertical-align: middle;\n",
       "    }\n",
       "\n",
       "    .dataframe tbody tr th {\n",
       "        vertical-align: top;\n",
       "    }\n",
       "\n",
       "    .dataframe thead th {\n",
       "        text-align: right;\n",
       "    }\n",
       "</style>\n",
       "<table border=\"1\" class=\"dataframe\">\n",
       "  <thead>\n",
       "    <tr style=\"text-align: right;\">\n",
       "      <th></th>\n",
       "      <th>sample_depth</th>\n",
       "      <th>sample_i</th>\n",
       "      <th>correct_decoding</th>\n",
       "      <th>codeword_at_t</th>\n",
       "      <th>closest_msg</th>\n",
       "      <th>closest_d</th>\n",
       "      <th>t</th>\n",
       "    </tr>\n",
       "  </thead>\n",
       "  <tbody>\n",
       "    <tr>\n",
       "      <th>0</th>\n",
       "      <td>29</td>\n",
       "      <td>0</td>\n",
       "      <td>False</td>\n",
       "      <td>0000000001001000000100000000000010000000100100...</td>\n",
       "      <td>00110000010011001001111000000000</td>\n",
       "      <td>19</td>\n",
       "      <td>0.0</td>\n",
       "    </tr>\n",
       "    <tr>\n",
       "      <th>1</th>\n",
       "      <td>29</td>\n",
       "      <td>0</td>\n",
       "      <td>False</td>\n",
       "      <td>0000000001001000000100000000000010000000100000...</td>\n",
       "      <td>00000100001010000011000000000000</td>\n",
       "      <td>19</td>\n",
       "      <td>1.0</td>\n",
       "    </tr>\n",
       "    <tr>\n",
       "      <th>2</th>\n",
       "      <td>29</td>\n",
       "      <td>0</td>\n",
       "      <td>False</td>\n",
       "      <td>0000000000000000000000000000000010000000100000...</td>\n",
       "      <td>00000000110000000000001000010000</td>\n",
       "      <td>19</td>\n",
       "      <td>2.0</td>\n",
       "    </tr>\n",
       "    <tr>\n",
       "      <th>3</th>\n",
       "      <td>29</td>\n",
       "      <td>0</td>\n",
       "      <td>False</td>\n",
       "      <td>0000000000000000000000000000000000000000100000...</td>\n",
       "      <td>00001000001001000000000100000000</td>\n",
       "      <td>19</td>\n",
       "      <td>3.0</td>\n",
       "    </tr>\n",
       "    <tr>\n",
       "      <th>4</th>\n",
       "      <td>29</td>\n",
       "      <td>1</td>\n",
       "      <td>False</td>\n",
       "      <td>0000010001000000010101100000000010010110000101...</td>\n",
       "      <td>00000000010000010101001000011010</td>\n",
       "      <td>19</td>\n",
       "      <td>0.0</td>\n",
       "    </tr>\n",
       "    <tr>\n",
       "      <th>...</th>\n",
       "      <td>...</td>\n",
       "      <td>...</td>\n",
       "      <td>...</td>\n",
       "      <td>...</td>\n",
       "      <td>...</td>\n",
       "      <td>...</td>\n",
       "      <td>...</td>\n",
       "    </tr>\n",
       "    <tr>\n",
       "      <th>13563</th>\n",
       "      <td>100000</td>\n",
       "      <td>9</td>\n",
       "      <td>False</td>\n",
       "      <td>0000000000000000000000000000000000000010000000...</td>\n",
       "      <td>11100000000001000000001000100001</td>\n",
       "      <td>18</td>\n",
       "      <td>3166.0</td>\n",
       "    </tr>\n",
       "    <tr>\n",
       "      <th>13564</th>\n",
       "      <td>100000</td>\n",
       "      <td>9</td>\n",
       "      <td>False</td>\n",
       "      <td>0000000000000000000000000000000000000000000000...</td>\n",
       "      <td>10000000001000001001000000000000</td>\n",
       "      <td>19</td>\n",
       "      <td>3624.0</td>\n",
       "    </tr>\n",
       "    <tr>\n",
       "      <th>13565</th>\n",
       "      <td>100000</td>\n",
       "      <td>9</td>\n",
       "      <td>False</td>\n",
       "      <td>0000000000000000000000000000000000000000000000...</td>\n",
       "      <td>00100000000100000000000000000000</td>\n",
       "      <td>19</td>\n",
       "      <td>3694.0</td>\n",
       "    </tr>\n",
       "    <tr>\n",
       "      <th>13566</th>\n",
       "      <td>100000</td>\n",
       "      <td>9</td>\n",
       "      <td>False</td>\n",
       "      <td>0000000000000000000000000000000000000000000000...</td>\n",
       "      <td>00010010000100000100000010000000</td>\n",
       "      <td>18</td>\n",
       "      <td>3730.0</td>\n",
       "    </tr>\n",
       "    <tr>\n",
       "      <th>13567</th>\n",
       "      <td>100000</td>\n",
       "      <td>9</td>\n",
       "      <td>False</td>\n",
       "      <td>0000000000000000000000000000000000000000000000...</td>\n",
       "      <td>00010010000100000100000010000000</td>\n",
       "      <td>17</td>\n",
       "      <td>3762.0</td>\n",
       "    </tr>\n",
       "  </tbody>\n",
       "</table>\n",
       "<p>13568 rows × 7 columns</p>\n",
       "</div>"
      ],
      "text/plain": [
       "       sample_depth  sample_i  correct_decoding  \\\n",
       "0                29         0             False   \n",
       "1                29         0             False   \n",
       "2                29         0             False   \n",
       "3                29         0             False   \n",
       "4                29         1             False   \n",
       "...             ...       ...               ...   \n",
       "13563        100000         9             False   \n",
       "13564        100000         9             False   \n",
       "13565        100000         9             False   \n",
       "13566        100000         9             False   \n",
       "13567        100000         9             False   \n",
       "\n",
       "                                           codeword_at_t  \\\n",
       "0      0000000001001000000100000000000010000000100100...   \n",
       "1      0000000001001000000100000000000010000000100000...   \n",
       "2      0000000000000000000000000000000010000000100000...   \n",
       "3      0000000000000000000000000000000000000000100000...   \n",
       "4      0000010001000000010101100000000010010110000101...   \n",
       "...                                                  ...   \n",
       "13563  0000000000000000000000000000000000000010000000...   \n",
       "13564  0000000000000000000000000000000000000000000000...   \n",
       "13565  0000000000000000000000000000000000000000000000...   \n",
       "13566  0000000000000000000000000000000000000000000000...   \n",
       "13567  0000000000000000000000000000000000000000000000...   \n",
       "\n",
       "                            closest_msg  closest_d       t  \n",
       "0      00110000010011001001111000000000         19     0.0  \n",
       "1      00000100001010000011000000000000         19     1.0  \n",
       "2      00000000110000000000001000010000         19     2.0  \n",
       "3      00001000001001000000000100000000         19     3.0  \n",
       "4      00000000010000010101001000011010         19     0.0  \n",
       "...                                 ...        ...     ...  \n",
       "13563  11100000000001000000001000100001         18  3166.0  \n",
       "13564  10000000001000001001000000000000         19  3624.0  \n",
       "13565  00100000000100000000000000000000         19  3694.0  \n",
       "13566  00010010000100000100000010000000         18  3730.0  \n",
       "13567  00010010000100000100000010000000         17  3762.0  \n",
       "\n",
       "[13568 rows x 7 columns]"
      ]
     },
     "execution_count": 6,
     "metadata": {},
     "output_type": "execute_result"
    }
   ],
   "source": [
    "subsample_df"
   ]
  },
  {
   "cell_type": "code",
   "execution_count": 7,
   "metadata": {
    "ExecuteTime": {
     "end_time": "2020-03-11T23:47:29.504955Z",
     "start_time": "2020-03-11T23:47:29.225584Z"
    }
   },
   "outputs": [],
   "source": [
    "# How many of the samples/depths/thresholds have at least one decoding w/ distance d=12 or lower?\n",
    "depth_i = 0\n",
    "closest_depth_df = []\n",
    "for depth, depth_df in subsample_df.groupby(\"sample_depth\"):\n",
    "\n",
    "    for sample_i, sample_df in depth_df.groupby(\"sample_i\"):\n",
    "        sample_df.index = range(len(sample_df))\n",
    "        ts = sample_df[\"t\"]\n",
    "        ds = sample_df[\"closest_d\"]\n",
    "        min_d_ix = np.argmin(ds)\n",
    "        min_d = ds[min_d_ix]\n",
    "        correct = sample_df.loc[min_d_ix, \"correct_decoding\"]\n",
    "        if min_d <= 14:\n",
    "            closest_depth_df.append((depth, sample_i, True, min_d, correct))\n",
    "        else:\n",
    "            closest_depth_df.append((depth, sample_i, False, min_d, correct))\n",
    "closest_depth_df = pd.DataFrame(closest_depth_df, columns=[\"sample_depth\", \"sample_i\", \"has_distance <=14\", \"closest_d\", \"correct_decoding\"])"
   ]
  },
  {
   "cell_type": "code",
   "execution_count": 8,
   "metadata": {
    "ExecuteTime": {
     "end_time": "2020-03-11T23:47:29.549760Z",
     "start_time": "2020-03-11T23:47:29.506654Z"
    }
   },
   "outputs": [],
   "source": [
    "errs_over_time_data = {}\n",
    "sampled_runtime = []\n",
    "mean_dist = []\n",
    "std_dist = []\n",
    "for depth, df in closest_depth_df.groupby(\"sample_depth\"):\n",
    "    sampled_runtime.append(depth / 4000. * 60)\n",
    "    mean_dist.append(np.mean(df[\"closest_d\"]))\n",
    "    std_dist.append(np.std(df[\"closest_d\"]))\n",
    "\n",
    "errs_over_time_data[\"sampled_runtime\"] = sampled_runtime\n",
    "errs_over_time_data[\"mean_dist\"] = mean_dist\n",
    "errs_over_time_data[\"std_dist\"] = std_dist\n",
    "\n",
    "df = df[df[\"correct_decoding\"] == False]\n",
    "depths = df[\"sample_depth\"]/ 4000. * 60\n",
    "dists = df[\"closest_d\"] \n",
    "\n",
    "errs_over_time_data[\"incorrect_pts\"] = list(zip(depths, dists))"
   ]
  },
  {
   "cell_type": "code",
   "execution_count": 9,
   "metadata": {
    "ExecuteTime": {
     "end_time": "2020-03-11T23:47:29.567071Z",
     "start_time": "2020-03-11T23:47:29.551527Z"
    }
   },
   "outputs": [],
   "source": [
    "from matplotlib.cm import get_cmap"
   ]
  },
  {
   "cell_type": "code",
   "execution_count": 10,
   "metadata": {
    "ExecuteTime": {
     "end_time": "2020-03-11T23:47:31.190658Z",
     "start_time": "2020-03-11T23:47:29.568794Z"
    },
    "scrolled": false
   },
   "outputs": [
    {
     "data": {
      "image/png": "[encoded data removed]",
      "text/plain": [
       "<Figure size 1152x432 with 1 Axes>"
      ]
     },
     "metadata": {},
     "output_type": "display_data"
    }
   ],
   "source": [
    "fig, ax = plt.subplots(figsize=(16, 6))\n",
    "\n",
    "data = errs_over_time_data\n",
    "color = \"k\"\n",
    "ax.plot(data[\"sampled_runtime\"], data[\"mean_dist\"], linestyle='-', marker='.', c=color, ms=9)\n",
    "ax.fill_between(data[\"sampled_runtime\"],\n",
    "            [y - s for y, s in zip(data[\"mean_dist\"], data[\"std_dist\"])],\n",
    "            [y + s for y, s in zip(data[\"mean_dist\"], data[\"std_dist\"])],\n",
    "            color=color, alpha=0.15)\n",
    "\n",
    "ax.set_xlabel(\"Run time (seconds)\")\n",
    "ax.set_ylabel(\"Codeword distance\")\n",
    "ax.set_title(\"Best decoding distance as a function of runtime\")\n",
    "ax.set_xscale(\"log\")\n",
    "ax.set_yticks(range(0, 21, 2))\n",
    "ax.set_yticklabels([str(x) for x in range(0, 21, 2)])\n",
    "\n",
    "ax.set_xlim([0.155, 630])\n",
    "ax.axhline(10, c=\"k\", alpha=0.5, linestyle=\"--\")\n",
    "\n",
    "fig.tight_layout()\n"
   ]
  },
  {
   "cell_type": "code",
   "execution_count": 11,
   "metadata": {
    "ExecuteTime": {
     "end_time": "2020-03-11T23:47:31.417902Z",
     "start_time": "2020-03-11T23:47:31.192824Z"
    }
   },
   "outputs": [],
   "source": [
    "depth_i = 0\n",
    "max_d = 10\n",
    "first_d_below_maxd = []\n",
    "for depth, depth_df in subsample_df.groupby(\"sample_depth\"):\n",
    "    for sample_i, sample_df in depth_df.groupby(\"sample_i\"):\n",
    "        ts = sample_df[\"t\"]\n",
    "        ds = sample_df[\"closest_d\"]\n",
    "\n",
    "        found = False\n",
    "        for i, d in ds.iteritems():\n",
    "            if d <= max_d:\n",
    "                found = True\n",
    "                correct = sample_df.loc[i, \"correct_decoding\"]\n",
    "                first_d_below_maxd.append((depth, sample_i, True, d, ts[i], correct))\n",
    "                break\n",
    "        if not found:\n",
    "            first_d_below_maxd.append((depth, sample_i, False, None, None, None))\n",
    "first_d_below_maxd = pd.DataFrame(first_d_below_maxd, columns=[\"sample_depth\", \"sample_i\", \"has_distance <=14\", \"d\", \"t\", \"correct_decoding\"])"
   ]
  },
  {
   "cell_type": "code",
   "execution_count": 12,
   "metadata": {
    "ExecuteTime": {
     "end_time": "2020-03-11T23:47:31.942183Z",
     "start_time": "2020-03-11T23:47:31.419723Z"
    }
   },
   "outputs": [
    {
     "data": {
      "image/png": "[encoded data removed]",
      "text/plain": [
       "<Figure size 864x360 with 1 Axes>"
      ]
     },
     "metadata": {},
     "output_type": "display_data"
    }
   ],
   "source": [
    "fig, ax = plt.subplots(figsize=(12, 5))\n",
    "firstd_df = first_d_below_maxd\n",
    "color = \"k\"\n",
    "no_na = firstd_df.dropna(inplace=False)\n",
    "no_decoding = firstd_df.drop(no_na.index, inplace=False)\n",
    "frac = []\n",
    "runtime = []\n",
    "for sample_depth in np.unique(firstd_df[\"sample_depth\"]):\n",
    "    if sample_depth > 1800:\n",
    "        break\n",
    "    nd = len(no_decoding[no_decoding[\"sample_depth\"] == sample_depth])\n",
    "    frac.append(100. * (10 - nd) / 10)\n",
    "    runtime.append(sample_depth / 4000 * 60)\n",
    "ax.plot(runtime, frac, marker=\"o\", c=color)\n",
    "    \n",
    "ax.set_xlabel(\"Runtime (seconds)\")\n",
    "ax.set_ylabel(\"% of samples decoded\")\n",
    "ax.set_ylim([0.1, ax.get_ylim()[1]])\n",
    "ax.set_xlim([0.1, ax.get_xlim()[1]])\n",
    "# ax.legend()\n",
    "fig.tight_layout()\n",
    "\n",
    "\n",
    "# fig.savefig(\"plots/decoding_ability_over_time_leftend.png\", dpi=300)\n",
    "# fig.savefig(\"plots/decoding_ability_over_time_leftend.svg\")"
   ]
  },
  {
   "cell_type": "code",
   "execution_count": 13,
   "metadata": {
    "ExecuteTime": {
     "end_time": "2020-03-11T23:47:31.962537Z",
     "start_time": "2020-03-11T23:47:31.944367Z"
    },
    "scrolled": true
   },
   "outputs": [
    {
     "data": {
      "text/plain": [
       "[(0.435, 0.0),\n",
       " (0.57, 0.0),\n",
       " (0.735, 0.0),\n",
       " (0.9299999999999999, 0.0),\n",
       " (1.2, 0.0),\n",
       " (1.5299999999999998, 0.0),\n",
       " (1.965, 10.0),\n",
       " (2.5050000000000003, 30.0),\n",
       " (3.21, 60.0),\n",
       " (4.11, 90.0),\n",
       " (5.25, 80.0),\n",
       " (6.72, 100.0),\n",
       " (8.594999999999999, 100.0),\n",
       " (10.98, 100.0),\n",
       " (14.040000000000001, 100.0),\n",
       " (17.955000000000002, 100.0),\n",
       " (22.965, 100.0)]"
      ]
     },
     "execution_count": 13,
     "metadata": {},
     "output_type": "execute_result"
    }
   ],
   "source": [
    "list(zip(runtime, frac))"
   ]
  }
 ],
 "metadata": {
  "kernelspec": {
   "display_name": "Python 3.6",
   "language": "python",
   "name": "py36"
  },
  "language_info": {
   "codemirror_mode": {
    "name": "ipython",
    "version": 3
   },
   "file_extension": ".py",
   "mimetype": "text/x-python",
   "name": "python",
   "nbconvert_exporter": "python",
   "pygments_lexer": "ipython3",
   "version": "3.6.8"
  },
  "notify_time": "5",
  "toc": {
   "base_numbering": 1,
   "nav_menu": {},
   "number_sections": true,
   "sideBar": true,
   "skip_h1_title": false,
   "title_cell": "Table of Contents",
   "title_sidebar": "Contents",
   "toc_cell": false,
   "toc_position": {},
   "toc_section_display": true,
   "toc_window_display": false
  }
 },
 "nbformat": 4,
 "nbformat_minor": 2
}
